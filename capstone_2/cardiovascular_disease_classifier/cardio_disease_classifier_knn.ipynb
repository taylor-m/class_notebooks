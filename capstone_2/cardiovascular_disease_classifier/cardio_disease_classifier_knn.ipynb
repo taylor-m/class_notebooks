{
 "cells": [
  {
   "cell_type": "markdown",
   "metadata": {
    "id": "u8LVusEoIstQ"
   },
   "source": [
    "# Imports"
   ]
  },
  {
   "cell_type": "code",
   "execution_count": 9,
   "metadata": {
    "id": "Y82nCNonI89w"
   },
   "outputs": [
    {
     "data": {
      "application/javascript": [
       "\n",
       "            setTimeout(function() {\n",
       "                var nbb_cell_id = 9;\n",
       "                var nbb_unformatted_code = \"%reload_ext nb_black\";\n",
       "                var nbb_formatted_code = \"%reload_ext nb_black\";\n",
       "                var nbb_cells = Jupyter.notebook.get_cells();\n",
       "                for (var i = 0; i < nbb_cells.length; ++i) {\n",
       "                    if (nbb_cells[i].input_prompt_number == nbb_cell_id) {\n",
       "                        if (nbb_cells[i].get_text() == nbb_unformatted_code) {\n",
       "                             nbb_cells[i].set_text(nbb_formatted_code);\n",
       "                        }\n",
       "                        break;\n",
       "                    }\n",
       "                }\n",
       "            }, 500);\n",
       "            "
      ],
      "text/plain": [
       "<IPython.core.display.Javascript object>"
      ]
     },
     "metadata": {},
     "output_type": "display_data"
    },
    {
     "data": {
      "application/javascript": [
       "\n",
       "            setTimeout(function() {\n",
       "                var nbb_cell_id = 9;\n",
       "                var nbb_unformatted_code = \"%reload_ext nb_black\";\n",
       "                var nbb_formatted_code = \"%reload_ext nb_black\";\n",
       "                var nbb_cells = Jupyter.notebook.get_cells();\n",
       "                for (var i = 0; i < nbb_cells.length; ++i) {\n",
       "                    if (nbb_cells[i].input_prompt_number == nbb_cell_id) {\n",
       "                        if (nbb_cells[i].get_text() == nbb_unformatted_code) {\n",
       "                             nbb_cells[i].set_text(nbb_formatted_code);\n",
       "                        }\n",
       "                        break;\n",
       "                    }\n",
       "                }\n",
       "            }, 500);\n",
       "            "
      ],
      "text/plain": [
       "<IPython.core.display.Javascript object>"
      ]
     },
     "metadata": {},
     "output_type": "display_data"
    }
   ],
   "source": [
    "%reload_ext nb_black"
   ]
  },
  {
   "cell_type": "code",
   "execution_count": 10,
   "metadata": {},
   "outputs": [
    {
     "data": {
      "application/javascript": [
       "\n",
       "            setTimeout(function() {\n",
       "                var nbb_cell_id = 10;\n",
       "                var nbb_unformatted_code = \"import pandas as pd\\nimport numpy as np\\nfrom sklearn.model_selection import train_test_split, GridSearchCV\\nfrom sklearn.preprocessing import StandardScaler, OneHotEncoder\\nfrom category_encoders import LeaveOneOutEncoder\\nfrom sklearn.neighbors import KNeighborsClassifier\\nfrom sklearn.compose import ColumnTransformer\\nfrom sklearn.pipeline import Pipeline\\nimport seaborn as sns\\nimport matplotlib.pyplot as plt\\n\\nfrom functions_pkg import print_vif, predictions_df\\nfrom sklearn.metrics import classification_report, confusion_matrix\\n\\n%matplotlib inline\\nplt.style.use([\\\"dark_background\\\"])\";\n",
       "                var nbb_formatted_code = \"import pandas as pd\\nimport numpy as np\\nfrom sklearn.model_selection import train_test_split, GridSearchCV\\nfrom sklearn.preprocessing import StandardScaler, OneHotEncoder\\nfrom category_encoders import LeaveOneOutEncoder\\nfrom sklearn.neighbors import KNeighborsClassifier\\nfrom sklearn.compose import ColumnTransformer\\nfrom sklearn.pipeline import Pipeline\\nimport seaborn as sns\\nimport matplotlib.pyplot as plt\\n\\nfrom functions_pkg import print_vif, predictions_df\\nfrom sklearn.metrics import classification_report, confusion_matrix\\n\\n%matplotlib inline\\nplt.style.use([\\\"dark_background\\\"])\";\n",
       "                var nbb_cells = Jupyter.notebook.get_cells();\n",
       "                for (var i = 0; i < nbb_cells.length; ++i) {\n",
       "                    if (nbb_cells[i].input_prompt_number == nbb_cell_id) {\n",
       "                        if (nbb_cells[i].get_text() == nbb_unformatted_code) {\n",
       "                             nbb_cells[i].set_text(nbb_formatted_code);\n",
       "                        }\n",
       "                        break;\n",
       "                    }\n",
       "                }\n",
       "            }, 500);\n",
       "            "
      ],
      "text/plain": [
       "<IPython.core.display.Javascript object>"
      ]
     },
     "metadata": {},
     "output_type": "display_data"
    },
    {
     "data": {
      "application/javascript": [
       "\n",
       "            setTimeout(function() {\n",
       "                var nbb_cell_id = 10;\n",
       "                var nbb_unformatted_code = \"import pandas as pd\\nimport numpy as np\\nfrom sklearn.model_selection import train_test_split, GridSearchCV\\nfrom sklearn.preprocessing import StandardScaler, OneHotEncoder\\nfrom category_encoders import LeaveOneOutEncoder\\nfrom sklearn.neighbors import KNeighborsClassifier\\nfrom sklearn.compose import ColumnTransformer\\nfrom sklearn.pipeline import Pipeline\\nimport seaborn as sns\\nimport matplotlib.pyplot as plt\\n\\nfrom functions_pkg import print_vif, predictions_df\\nfrom sklearn.metrics import classification_report, confusion_matrix\\n\\n%matplotlib inline\\nplt.style.use([\\\"dark_background\\\"])\";\n",
       "                var nbb_formatted_code = \"import pandas as pd\\nimport numpy as np\\nfrom sklearn.model_selection import train_test_split, GridSearchCV\\nfrom sklearn.preprocessing import StandardScaler, OneHotEncoder\\nfrom category_encoders import LeaveOneOutEncoder\\nfrom sklearn.neighbors import KNeighborsClassifier\\nfrom sklearn.compose import ColumnTransformer\\nfrom sklearn.pipeline import Pipeline\\nimport seaborn as sns\\nimport matplotlib.pyplot as plt\\n\\nfrom functions_pkg import print_vif, predictions_df\\nfrom sklearn.metrics import classification_report, confusion_matrix\\n\\n%matplotlib inline\\nplt.style.use([\\\"dark_background\\\"])\";\n",
       "                var nbb_cells = Jupyter.notebook.get_cells();\n",
       "                for (var i = 0; i < nbb_cells.length; ++i) {\n",
       "                    if (nbb_cells[i].input_prompt_number == nbb_cell_id) {\n",
       "                        if (nbb_cells[i].get_text() == nbb_unformatted_code) {\n",
       "                             nbb_cells[i].set_text(nbb_formatted_code);\n",
       "                        }\n",
       "                        break;\n",
       "                    }\n",
       "                }\n",
       "            }, 500);\n",
       "            "
      ],
      "text/plain": [
       "<IPython.core.display.Javascript object>"
      ]
     },
     "metadata": {},
     "output_type": "display_data"
    }
   ],
   "source": [
    "import pandas as pd\n",
    "import numpy as np\n",
    "from sklearn.model_selection import train_test_split, GridSearchCV\n",
    "from sklearn.preprocessing import StandardScaler, OneHotEncoder\n",
    "from category_encoders import LeaveOneOutEncoder\n",
    "from sklearn.neighbors import KNeighborsClassifier\n",
    "from sklearn.compose import ColumnTransformer\n",
    "from sklearn.pipeline import Pipeline\n",
    "import seaborn as sns\n",
    "import matplotlib.pyplot as plt\n",
    "\n",
    "from functions_pkg import print_vif, predictions_df\n",
    "from sklearn.metrics import classification_report, confusion_matrix\n",
    "\n",
    "%matplotlib inline\n",
    "plt.style.use([\"dark_background\"])"
   ]
  },
  {
   "cell_type": "markdown",
   "metadata": {
    "id": "jYqZXyJQIsti"
   },
   "source": [
    "* Categorical or continuous\n",
    "* 10,000+ samples\n",
    "* 20+ features"
   ]
  },
  {
   "cell_type": "markdown",
   "metadata": {
    "id": "oTsWUPM8Isti"
   },
   "source": [
    "age = days (int)"
   ]
  },
  {
   "cell_type": "code",
   "execution_count": 11,
   "metadata": {
    "executionInfo": {
     "elapsed": 517,
     "status": "ok",
     "timestamp": 1608753319456,
     "user": {
      "displayName": "Taylor Martin",
      "photoUrl": "https://lh3.googleusercontent.com/a-/AOh14GiCE8G90wcGj0LyMdPz1s1HHFQGXUh414iGSqhD6Q=s64",
      "userId": "07425549969609912014"
     },
     "user_tz": 360
    },
    "id": "WMDzYgS-Istj"
   },
   "outputs": [
    {
     "data": {
      "application/javascript": [
       "\n",
       "            setTimeout(function() {\n",
       "                var nbb_cell_id = 11;\n",
       "                var nbb_unformatted_code = \"path = \\\"cardiovascular_disease_prediction/cardio_train.csv\\\"\\ndf = pd.read_csv(path, sep=\\\";\\\", index_col=\\\"id\\\")\";\n",
       "                var nbb_formatted_code = \"path = \\\"cardiovascular_disease_prediction/cardio_train.csv\\\"\\ndf = pd.read_csv(path, sep=\\\";\\\", index_col=\\\"id\\\")\";\n",
       "                var nbb_cells = Jupyter.notebook.get_cells();\n",
       "                for (var i = 0; i < nbb_cells.length; ++i) {\n",
       "                    if (nbb_cells[i].input_prompt_number == nbb_cell_id) {\n",
       "                        if (nbb_cells[i].get_text() == nbb_unformatted_code) {\n",
       "                             nbb_cells[i].set_text(nbb_formatted_code);\n",
       "                        }\n",
       "                        break;\n",
       "                    }\n",
       "                }\n",
       "            }, 500);\n",
       "            "
      ],
      "text/plain": [
       "<IPython.core.display.Javascript object>"
      ]
     },
     "metadata": {},
     "output_type": "display_data"
    },
    {
     "data": {
      "application/javascript": [
       "\n",
       "            setTimeout(function() {\n",
       "                var nbb_cell_id = 11;\n",
       "                var nbb_unformatted_code = \"path = \\\"cardiovascular_disease_prediction/cardio_train.csv\\\"\\ndf = pd.read_csv(path, sep=\\\";\\\", index_col=\\\"id\\\")\";\n",
       "                var nbb_formatted_code = \"path = \\\"cardiovascular_disease_prediction/cardio_train.csv\\\"\\ndf = pd.read_csv(path, sep=\\\";\\\", index_col=\\\"id\\\")\";\n",
       "                var nbb_cells = Jupyter.notebook.get_cells();\n",
       "                for (var i = 0; i < nbb_cells.length; ++i) {\n",
       "                    if (nbb_cells[i].input_prompt_number == nbb_cell_id) {\n",
       "                        if (nbb_cells[i].get_text() == nbb_unformatted_code) {\n",
       "                             nbb_cells[i].set_text(nbb_formatted_code);\n",
       "                        }\n",
       "                        break;\n",
       "                    }\n",
       "                }\n",
       "            }, 500);\n",
       "            "
      ],
      "text/plain": [
       "<IPython.core.display.Javascript object>"
      ]
     },
     "metadata": {},
     "output_type": "display_data"
    }
   ],
   "source": [
    "path = \"cardiovascular_disease_prediction/cardio_train.csv\"\n",
    "df = pd.read_csv(path, sep=\";\", index_col=\"id\")"
   ]
  },
  {
   "cell_type": "code",
   "execution_count": null,
   "metadata": {
    "executionInfo": {
     "elapsed": 1586,
     "status": "aborted",
     "timestamp": 1608752785016,
     "user": {
      "displayName": "Taylor Martin",
      "photoUrl": "https://lh3.googleusercontent.com/a-/AOh14GiCE8G90wcGj0LyMdPz1s1HHFQGXUh414iGSqhD6Q=s64",
      "userId": "07425549969609912014"
     },
     "user_tz": 360
    },
    "id": "rhi8EfsZIstk"
   },
   "outputs": [],
   "source": [
    "# df.head()"
   ]
  },
  {
   "cell_type": "code",
   "execution_count": 12,
   "metadata": {
    "deletable": false,
    "editable": false,
    "executionInfo": {
     "elapsed": 395,
     "status": "ok",
     "timestamp": 1608753328994,
     "user": {
      "displayName": "Taylor Martin",
      "photoUrl": "https://lh3.googleusercontent.com/a-/AOh14GiCE8G90wcGj0LyMdPz1s1HHFQGXUh414iGSqhD6Q=s64",
      "userId": "07425549969609912014"
     },
     "user_tz": 360
    },
    "id": "pZ2OQSxCIstl"
   },
   "outputs": [
    {
     "data": {
      "application/javascript": [
       "\n",
       "            setTimeout(function() {\n",
       "                var nbb_cell_id = 12;\n",
       "                var nbb_unformatted_code = \"# column renaming\\nmapping = {\\n    \\\"ap_hi\\\": \\\"bp_hi\\\",\\n    \\\"ap_lo\\\": \\\"bp_lo\\\",\\n    \\\"gluc\\\": \\\"glucose\\\",\\n    \\\"alco\\\": \\\"alcohol\\\",\\n    \\\"cardio\\\": \\\"disease\\\",\\n}\\n\\ndf = df.rename(columns=mapping)\";\n",
       "                var nbb_formatted_code = \"# column renaming\\nmapping = {\\n    \\\"ap_hi\\\": \\\"bp_hi\\\",\\n    \\\"ap_lo\\\": \\\"bp_lo\\\",\\n    \\\"gluc\\\": \\\"glucose\\\",\\n    \\\"alco\\\": \\\"alcohol\\\",\\n    \\\"cardio\\\": \\\"disease\\\",\\n}\\n\\ndf = df.rename(columns=mapping)\";\n",
       "                var nbb_cells = Jupyter.notebook.get_cells();\n",
       "                for (var i = 0; i < nbb_cells.length; ++i) {\n",
       "                    if (nbb_cells[i].input_prompt_number == nbb_cell_id) {\n",
       "                        if (nbb_cells[i].get_text() == nbb_unformatted_code) {\n",
       "                             nbb_cells[i].set_text(nbb_formatted_code);\n",
       "                        }\n",
       "                        break;\n",
       "                    }\n",
       "                }\n",
       "            }, 500);\n",
       "            "
      ],
      "text/plain": [
       "<IPython.core.display.Javascript object>"
      ]
     },
     "metadata": {},
     "output_type": "display_data"
    },
    {
     "data": {
      "application/javascript": [
       "\n",
       "            setTimeout(function() {\n",
       "                var nbb_cell_id = 12;\n",
       "                var nbb_unformatted_code = \"# column renaming\\nmapping = {\\n    \\\"ap_hi\\\": \\\"bp_hi\\\",\\n    \\\"ap_lo\\\": \\\"bp_lo\\\",\\n    \\\"gluc\\\": \\\"glucose\\\",\\n    \\\"alco\\\": \\\"alcohol\\\",\\n    \\\"cardio\\\": \\\"disease\\\",\\n}\\n\\ndf = df.rename(columns=mapping)\";\n",
       "                var nbb_formatted_code = \"# column renaming\\nmapping = {\\n    \\\"ap_hi\\\": \\\"bp_hi\\\",\\n    \\\"ap_lo\\\": \\\"bp_lo\\\",\\n    \\\"gluc\\\": \\\"glucose\\\",\\n    \\\"alco\\\": \\\"alcohol\\\",\\n    \\\"cardio\\\": \\\"disease\\\",\\n}\\n\\ndf = df.rename(columns=mapping)\";\n",
       "                var nbb_cells = Jupyter.notebook.get_cells();\n",
       "                for (var i = 0; i < nbb_cells.length; ++i) {\n",
       "                    if (nbb_cells[i].input_prompt_number == nbb_cell_id) {\n",
       "                        if (nbb_cells[i].get_text() == nbb_unformatted_code) {\n",
       "                             nbb_cells[i].set_text(nbb_formatted_code);\n",
       "                        }\n",
       "                        break;\n",
       "                    }\n",
       "                }\n",
       "            }, 500);\n",
       "            "
      ],
      "text/plain": [
       "<IPython.core.display.Javascript object>"
      ]
     },
     "metadata": {},
     "output_type": "display_data"
    }
   ],
   "source": [
    "# column renaming\n",
    "mapping = {\n",
    "    \"ap_hi\": \"bp_hi\",\n",
    "    \"ap_lo\": \"bp_lo\",\n",
    "    \"gluc\": \"glucose\",\n",
    "    \"alco\": \"alcohol\",\n",
    "    \"cardio\": \"disease\",\n",
    "}\n",
    "\n",
    "df = df.rename(columns=mapping)"
   ]
  },
  {
   "cell_type": "code",
   "execution_count": 13,
   "metadata": {
    "colab": {
     "base_uri": "https://localhost:8080/"
    },
    "executionInfo": {
     "elapsed": 337,
     "status": "ok",
     "timestamp": 1608753331662,
     "user": {
      "displayName": "Taylor Martin",
      "photoUrl": "https://lh3.googleusercontent.com/a-/AOh14GiCE8G90wcGj0LyMdPz1s1HHFQGXUh414iGSqhD6Q=s64",
      "userId": "07425549969609912014"
     },
     "user_tz": 360
    },
    "id": "N8gyTnPiIstm",
    "outputId": "c4d01006-e573-471d-dfe8-91e7ee0ba1d9"
   },
   "outputs": [
    {
     "data": {
      "text/plain": [
       "0    35021\n",
       "1    34979\n",
       "Name: disease, dtype: int64"
      ]
     },
     "execution_count": 13,
     "metadata": {},
     "output_type": "execute_result"
    },
    {
     "data": {
      "application/javascript": [
       "\n",
       "            setTimeout(function() {\n",
       "                var nbb_cell_id = 13;\n",
       "                var nbb_unformatted_code = \"df.disease.value_counts()\";\n",
       "                var nbb_formatted_code = \"df.disease.value_counts()\";\n",
       "                var nbb_cells = Jupyter.notebook.get_cells();\n",
       "                for (var i = 0; i < nbb_cells.length; ++i) {\n",
       "                    if (nbb_cells[i].input_prompt_number == nbb_cell_id) {\n",
       "                        if (nbb_cells[i].get_text() == nbb_unformatted_code) {\n",
       "                             nbb_cells[i].set_text(nbb_formatted_code);\n",
       "                        }\n",
       "                        break;\n",
       "                    }\n",
       "                }\n",
       "            }, 500);\n",
       "            "
      ],
      "text/plain": [
       "<IPython.core.display.Javascript object>"
      ]
     },
     "metadata": {},
     "output_type": "display_data"
    },
    {
     "data": {
      "application/javascript": [
       "\n",
       "            setTimeout(function() {\n",
       "                var nbb_cell_id = 13;\n",
       "                var nbb_unformatted_code = \"df.disease.value_counts()\";\n",
       "                var nbb_formatted_code = \"df.disease.value_counts()\";\n",
       "                var nbb_cells = Jupyter.notebook.get_cells();\n",
       "                for (var i = 0; i < nbb_cells.length; ++i) {\n",
       "                    if (nbb_cells[i].input_prompt_number == nbb_cell_id) {\n",
       "                        if (nbb_cells[i].get_text() == nbb_unformatted_code) {\n",
       "                             nbb_cells[i].set_text(nbb_formatted_code);\n",
       "                        }\n",
       "                        break;\n",
       "                    }\n",
       "                }\n",
       "            }, 500);\n",
       "            "
      ],
      "text/plain": [
       "<IPython.core.display.Javascript object>"
      ]
     },
     "metadata": {},
     "output_type": "display_data"
    }
   ],
   "source": [
    "df.disease.value_counts()"
   ]
  },
  {
   "cell_type": "code",
   "execution_count": null,
   "metadata": {
    "executionInfo": {
     "elapsed": 1577,
     "status": "aborted",
     "timestamp": 1608752785021,
     "user": {
      "displayName": "Taylor Martin",
      "photoUrl": "https://lh3.googleusercontent.com/a-/AOh14GiCE8G90wcGj0LyMdPz1s1HHFQGXUh414iGSqhD6Q=s64",
      "userId": "07425549969609912014"
     },
     "user_tz": 360
    },
    "id": "3akBBBIpIstm"
   },
   "outputs": [],
   "source": []
  },
  {
   "cell_type": "code",
   "execution_count": null,
   "metadata": {
    "executionInfo": {
     "elapsed": 1574,
     "status": "aborted",
     "timestamp": 1608752785023,
     "user": {
      "displayName": "Taylor Martin",
      "photoUrl": "https://lh3.googleusercontent.com/a-/AOh14GiCE8G90wcGj0LyMdPz1s1HHFQGXUh414iGSqhD6Q=s64",
      "userId": "07425549969609912014"
     },
     "user_tz": 360
    },
    "id": "E88W2hpbIstn"
   },
   "outputs": [],
   "source": [
    "# df.isna().mean().sort_values(ascending=False)"
   ]
  },
  {
   "cell_type": "markdown",
   "metadata": {
    "id": "ASRkOHttIsto"
   },
   "source": [
    "# Data Cleaning"
   ]
  },
  {
   "cell_type": "code",
   "execution_count": 14,
   "metadata": {
    "deletable": false,
    "editable": false,
    "executionInfo": {
     "elapsed": 372,
     "status": "ok",
     "timestamp": 1608753335982,
     "user": {
      "displayName": "Taylor Martin",
      "photoUrl": "https://lh3.googleusercontent.com/a-/AOh14GiCE8G90wcGj0LyMdPz1s1HHFQGXUh414iGSqhD6Q=s64",
      "userId": "07425549969609912014"
     },
     "user_tz": 360
    },
    "id": "9EQk6oE_Isto"
   },
   "outputs": [
    {
     "data": {
      "application/javascript": [
       "\n",
       "            setTimeout(function() {\n",
       "                var nbb_cell_id = 14;\n",
       "                var nbb_unformatted_code = \"# change gender to 0-1 binary\\ndf.loc[:, \\\"gender\\\"] = df.gender - 1\";\n",
       "                var nbb_formatted_code = \"# change gender to 0-1 binary\\ndf.loc[:, \\\"gender\\\"] = df.gender - 1\";\n",
       "                var nbb_cells = Jupyter.notebook.get_cells();\n",
       "                for (var i = 0; i < nbb_cells.length; ++i) {\n",
       "                    if (nbb_cells[i].input_prompt_number == nbb_cell_id) {\n",
       "                        if (nbb_cells[i].get_text() == nbb_unformatted_code) {\n",
       "                             nbb_cells[i].set_text(nbb_formatted_code);\n",
       "                        }\n",
       "                        break;\n",
       "                    }\n",
       "                }\n",
       "            }, 500);\n",
       "            "
      ],
      "text/plain": [
       "<IPython.core.display.Javascript object>"
      ]
     },
     "metadata": {},
     "output_type": "display_data"
    },
    {
     "data": {
      "application/javascript": [
       "\n",
       "            setTimeout(function() {\n",
       "                var nbb_cell_id = 14;\n",
       "                var nbb_unformatted_code = \"# change gender to 0-1 binary\\ndf.loc[:, \\\"gender\\\"] = df.gender - 1\";\n",
       "                var nbb_formatted_code = \"# change gender to 0-1 binary\\ndf.loc[:, \\\"gender\\\"] = df.gender - 1\";\n",
       "                var nbb_cells = Jupyter.notebook.get_cells();\n",
       "                for (var i = 0; i < nbb_cells.length; ++i) {\n",
       "                    if (nbb_cells[i].input_prompt_number == nbb_cell_id) {\n",
       "                        if (nbb_cells[i].get_text() == nbb_unformatted_code) {\n",
       "                             nbb_cells[i].set_text(nbb_formatted_code);\n",
       "                        }\n",
       "                        break;\n",
       "                    }\n",
       "                }\n",
       "            }, 500);\n",
       "            "
      ],
      "text/plain": [
       "<IPython.core.display.Javascript object>"
      ]
     },
     "metadata": {},
     "output_type": "display_data"
    }
   ],
   "source": [
    "# change gender to 0-1 binary\n",
    "df.loc[:, \"gender\"] = df.gender - 1"
   ]
  },
  {
   "cell_type": "code",
   "execution_count": 15,
   "metadata": {
    "deletable": false,
    "editable": false,
    "executionInfo": {
     "elapsed": 340,
     "status": "ok",
     "timestamp": 1608753337332,
     "user": {
      "displayName": "Taylor Martin",
      "photoUrl": "https://lh3.googleusercontent.com/a-/AOh14GiCE8G90wcGj0LyMdPz1s1HHFQGXUh414iGSqhD6Q=s64",
      "userId": "07425549969609912014"
     },
     "user_tz": 360
    },
    "id": "jOtwq6dQIstp"
   },
   "outputs": [
    {
     "data": {
      "application/javascript": [
       "\n",
       "            setTimeout(function() {\n",
       "                var nbb_cell_id = 15;\n",
       "                var nbb_unformatted_code = \"# reduce interval in cholesterol & glucose from 1-3 to 0-2\\ndf.loc[:, \\\"cholesterol\\\"] = df.cholesterol - 1\\ndf.loc[:, \\\"glucose\\\"] = df.glucose - 1\";\n",
       "                var nbb_formatted_code = \"# reduce interval in cholesterol & glucose from 1-3 to 0-2\\ndf.loc[:, \\\"cholesterol\\\"] = df.cholesterol - 1\\ndf.loc[:, \\\"glucose\\\"] = df.glucose - 1\";\n",
       "                var nbb_cells = Jupyter.notebook.get_cells();\n",
       "                for (var i = 0; i < nbb_cells.length; ++i) {\n",
       "                    if (nbb_cells[i].input_prompt_number == nbb_cell_id) {\n",
       "                        if (nbb_cells[i].get_text() == nbb_unformatted_code) {\n",
       "                             nbb_cells[i].set_text(nbb_formatted_code);\n",
       "                        }\n",
       "                        break;\n",
       "                    }\n",
       "                }\n",
       "            }, 500);\n",
       "            "
      ],
      "text/plain": [
       "<IPython.core.display.Javascript object>"
      ]
     },
     "metadata": {},
     "output_type": "display_data"
    },
    {
     "data": {
      "application/javascript": [
       "\n",
       "            setTimeout(function() {\n",
       "                var nbb_cell_id = 15;\n",
       "                var nbb_unformatted_code = \"# reduce interval in cholesterol & glucose from 1-3 to 0-2\\ndf.loc[:, \\\"cholesterol\\\"] = df.cholesterol - 1\\ndf.loc[:, \\\"glucose\\\"] = df.glucose - 1\";\n",
       "                var nbb_formatted_code = \"# reduce interval in cholesterol & glucose from 1-3 to 0-2\\ndf.loc[:, \\\"cholesterol\\\"] = df.cholesterol - 1\\ndf.loc[:, \\\"glucose\\\"] = df.glucose - 1\";\n",
       "                var nbb_cells = Jupyter.notebook.get_cells();\n",
       "                for (var i = 0; i < nbb_cells.length; ++i) {\n",
       "                    if (nbb_cells[i].input_prompt_number == nbb_cell_id) {\n",
       "                        if (nbb_cells[i].get_text() == nbb_unformatted_code) {\n",
       "                             nbb_cells[i].set_text(nbb_formatted_code);\n",
       "                        }\n",
       "                        break;\n",
       "                    }\n",
       "                }\n",
       "            }, 500);\n",
       "            "
      ],
      "text/plain": [
       "<IPython.core.display.Javascript object>"
      ]
     },
     "metadata": {},
     "output_type": "display_data"
    }
   ],
   "source": [
    "# reduce interval in cholesterol & glucose from 1-3 to 0-2\n",
    "df.loc[:, \"cholesterol\"] = df.cholesterol - 1\n",
    "df.loc[:, \"glucose\"] = df.glucose - 1"
   ]
  },
  {
   "cell_type": "markdown",
   "metadata": {
    "id": "uk_vWwcOIstq"
   },
   "source": [
    "# Features"
   ]
  },
  {
   "cell_type": "code",
   "execution_count": 16,
   "metadata": {
    "deletable": false,
    "editable": false,
    "executionInfo": {
     "elapsed": 329,
     "status": "ok",
     "timestamp": 1608753339986,
     "user": {
      "displayName": "Taylor Martin",
      "photoUrl": "https://lh3.googleusercontent.com/a-/AOh14GiCE8G90wcGj0LyMdPz1s1HHFQGXUh414iGSqhD6Q=s64",
      "userId": "07425549969609912014"
     },
     "user_tz": 360
    },
    "id": "hRnREHfjIstq"
   },
   "outputs": [
    {
     "data": {
      "application/javascript": [
       "\n",
       "            setTimeout(function() {\n",
       "                var nbb_cell_id = 16;\n",
       "                var nbb_unformatted_code = \"# blood pressure difference column\\ndf[\\\"bp_diff\\\"] = df.bp_hi - df.bp_lo\";\n",
       "                var nbb_formatted_code = \"# blood pressure difference column\\ndf[\\\"bp_diff\\\"] = df.bp_hi - df.bp_lo\";\n",
       "                var nbb_cells = Jupyter.notebook.get_cells();\n",
       "                for (var i = 0; i < nbb_cells.length; ++i) {\n",
       "                    if (nbb_cells[i].input_prompt_number == nbb_cell_id) {\n",
       "                        if (nbb_cells[i].get_text() == nbb_unformatted_code) {\n",
       "                             nbb_cells[i].set_text(nbb_formatted_code);\n",
       "                        }\n",
       "                        break;\n",
       "                    }\n",
       "                }\n",
       "            }, 500);\n",
       "            "
      ],
      "text/plain": [
       "<IPython.core.display.Javascript object>"
      ]
     },
     "metadata": {},
     "output_type": "display_data"
    },
    {
     "data": {
      "application/javascript": [
       "\n",
       "            setTimeout(function() {\n",
       "                var nbb_cell_id = 16;\n",
       "                var nbb_unformatted_code = \"# blood pressure difference column\\ndf[\\\"bp_diff\\\"] = df.bp_hi - df.bp_lo\";\n",
       "                var nbb_formatted_code = \"# blood pressure difference column\\ndf[\\\"bp_diff\\\"] = df.bp_hi - df.bp_lo\";\n",
       "                var nbb_cells = Jupyter.notebook.get_cells();\n",
       "                for (var i = 0; i < nbb_cells.length; ++i) {\n",
       "                    if (nbb_cells[i].input_prompt_number == nbb_cell_id) {\n",
       "                        if (nbb_cells[i].get_text() == nbb_unformatted_code) {\n",
       "                             nbb_cells[i].set_text(nbb_formatted_code);\n",
       "                        }\n",
       "                        break;\n",
       "                    }\n",
       "                }\n",
       "            }, 500);\n",
       "            "
      ],
      "text/plain": [
       "<IPython.core.display.Javascript object>"
      ]
     },
     "metadata": {},
     "output_type": "display_data"
    }
   ],
   "source": [
    "# blood pressure difference column\n",
    "df[\"bp_diff\"] = df.bp_hi - df.bp_lo"
   ]
  },
  {
   "cell_type": "code",
   "execution_count": 17,
   "metadata": {
    "deletable": false,
    "editable": false,
    "executionInfo": {
     "elapsed": 322,
     "status": "ok",
     "timestamp": 1608753341016,
     "user": {
      "displayName": "Taylor Martin",
      "photoUrl": "https://lh3.googleusercontent.com/a-/AOh14GiCE8G90wcGj0LyMdPz1s1HHFQGXUh414iGSqhD6Q=s64",
      "userId": "07425549969609912014"
     },
     "user_tz": 360
    },
    "id": "JhPt18QjIstr"
   },
   "outputs": [
    {
     "data": {
      "application/javascript": [
       "\n",
       "            setTimeout(function() {\n",
       "                var nbb_cell_id = 17;\n",
       "                var nbb_unformatted_code = \"# BMI column to replace height and weight\\n# bmi = weight (kgs) / (height (m))^2\\ndf[\\\"bmi\\\"] = df.weight / (df.height / 100) ** 2\";\n",
       "                var nbb_formatted_code = \"# BMI column to replace height and weight\\n# bmi = weight (kgs) / (height (m))^2\\ndf[\\\"bmi\\\"] = df.weight / (df.height / 100) ** 2\";\n",
       "                var nbb_cells = Jupyter.notebook.get_cells();\n",
       "                for (var i = 0; i < nbb_cells.length; ++i) {\n",
       "                    if (nbb_cells[i].input_prompt_number == nbb_cell_id) {\n",
       "                        if (nbb_cells[i].get_text() == nbb_unformatted_code) {\n",
       "                             nbb_cells[i].set_text(nbb_formatted_code);\n",
       "                        }\n",
       "                        break;\n",
       "                    }\n",
       "                }\n",
       "            }, 500);\n",
       "            "
      ],
      "text/plain": [
       "<IPython.core.display.Javascript object>"
      ]
     },
     "metadata": {},
     "output_type": "display_data"
    },
    {
     "data": {
      "application/javascript": [
       "\n",
       "            setTimeout(function() {\n",
       "                var nbb_cell_id = 17;\n",
       "                var nbb_unformatted_code = \"# BMI column to replace height and weight\\n# bmi = weight (kgs) / (height (m))^2\\ndf[\\\"bmi\\\"] = df.weight / (df.height / 100) ** 2\";\n",
       "                var nbb_formatted_code = \"# BMI column to replace height and weight\\n# bmi = weight (kgs) / (height (m))^2\\ndf[\\\"bmi\\\"] = df.weight / (df.height / 100) ** 2\";\n",
       "                var nbb_cells = Jupyter.notebook.get_cells();\n",
       "                for (var i = 0; i < nbb_cells.length; ++i) {\n",
       "                    if (nbb_cells[i].input_prompt_number == nbb_cell_id) {\n",
       "                        if (nbb_cells[i].get_text() == nbb_unformatted_code) {\n",
       "                             nbb_cells[i].set_text(nbb_formatted_code);\n",
       "                        }\n",
       "                        break;\n",
       "                    }\n",
       "                }\n",
       "            }, 500);\n",
       "            "
      ],
      "text/plain": [
       "<IPython.core.display.Javascript object>"
      ]
     },
     "metadata": {},
     "output_type": "display_data"
    }
   ],
   "source": [
    "# BMI column to replace height and weight\n",
    "# bmi = weight (kgs) / (height (m))^2\n",
    "df[\"bmi\"] = df.weight / (df.height / 100) ** 2"
   ]
  },
  {
   "cell_type": "code",
   "execution_count": 18,
   "metadata": {
    "executionInfo": {
     "elapsed": 320,
     "status": "ok",
     "timestamp": 1608753342019,
     "user": {
      "displayName": "Taylor Martin",
      "photoUrl": "https://lh3.googleusercontent.com/a-/AOh14GiCE8G90wcGj0LyMdPz1s1HHFQGXUh414iGSqhD6Q=s64",
      "userId": "07425549969609912014"
     },
     "user_tz": 360
    },
    "id": "Bdod1FV3Ists"
   },
   "outputs": [
    {
     "data": {
      "application/javascript": [
       "\n",
       "            setTimeout(function() {\n",
       "                var nbb_cell_id = 18;\n",
       "                var nbb_unformatted_code = \"# drop height and weight columns from df\\ndf = df.drop(columns=[\\\"height\\\", \\\"weight\\\"])\";\n",
       "                var nbb_formatted_code = \"# drop height and weight columns from df\\ndf = df.drop(columns=[\\\"height\\\", \\\"weight\\\"])\";\n",
       "                var nbb_cells = Jupyter.notebook.get_cells();\n",
       "                for (var i = 0; i < nbb_cells.length; ++i) {\n",
       "                    if (nbb_cells[i].input_prompt_number == nbb_cell_id) {\n",
       "                        if (nbb_cells[i].get_text() == nbb_unformatted_code) {\n",
       "                             nbb_cells[i].set_text(nbb_formatted_code);\n",
       "                        }\n",
       "                        break;\n",
       "                    }\n",
       "                }\n",
       "            }, 500);\n",
       "            "
      ],
      "text/plain": [
       "<IPython.core.display.Javascript object>"
      ]
     },
     "metadata": {},
     "output_type": "display_data"
    },
    {
     "data": {
      "application/javascript": [
       "\n",
       "            setTimeout(function() {\n",
       "                var nbb_cell_id = 18;\n",
       "                var nbb_unformatted_code = \"# drop height and weight columns from df\\ndf = df.drop(columns=[\\\"height\\\", \\\"weight\\\"])\";\n",
       "                var nbb_formatted_code = \"# drop height and weight columns from df\\ndf = df.drop(columns=[\\\"height\\\", \\\"weight\\\"])\";\n",
       "                var nbb_cells = Jupyter.notebook.get_cells();\n",
       "                for (var i = 0; i < nbb_cells.length; ++i) {\n",
       "                    if (nbb_cells[i].input_prompt_number == nbb_cell_id) {\n",
       "                        if (nbb_cells[i].get_text() == nbb_unformatted_code) {\n",
       "                             nbb_cells[i].set_text(nbb_formatted_code);\n",
       "                        }\n",
       "                        break;\n",
       "                    }\n",
       "                }\n",
       "            }, 500);\n",
       "            "
      ],
      "text/plain": [
       "<IPython.core.display.Javascript object>"
      ]
     },
     "metadata": {},
     "output_type": "display_data"
    }
   ],
   "source": [
    "# drop height and weight columns from df\n",
    "df = df.drop(columns=[\"height\", \"weight\"])"
   ]
  },
  {
   "cell_type": "markdown",
   "metadata": {
    "id": "f5chxdL-Ists"
   },
   "source": [
    "# Exploration"
   ]
  },
  {
   "cell_type": "code",
   "execution_count": 19,
   "metadata": {
    "executionInfo": {
     "elapsed": 328,
     "status": "ok",
     "timestamp": 1608753343946,
     "user": {
      "displayName": "Taylor Martin",
      "photoUrl": "https://lh3.googleusercontent.com/a-/AOh14GiCE8G90wcGj0LyMdPz1s1HHFQGXUh414iGSqhD6Q=s64",
      "userId": "07425549969609912014"
     },
     "user_tz": 360
    },
    "id": "-4jMpBWdIstt"
   },
   "outputs": [
    {
     "data": {
      "application/javascript": [
       "\n",
       "            setTimeout(function() {\n",
       "                var nbb_cell_id = 19;\n",
       "                var nbb_unformatted_code = \"num_cols = [\\\"age\\\", \\\"bp_hi\\\", \\\"bp_lo\\\", \\\"bp_diff\\\", \\\"bmi\\\"]\";\n",
       "                var nbb_formatted_code = \"num_cols = [\\\"age\\\", \\\"bp_hi\\\", \\\"bp_lo\\\", \\\"bp_diff\\\", \\\"bmi\\\"]\";\n",
       "                var nbb_cells = Jupyter.notebook.get_cells();\n",
       "                for (var i = 0; i < nbb_cells.length; ++i) {\n",
       "                    if (nbb_cells[i].input_prompt_number == nbb_cell_id) {\n",
       "                        if (nbb_cells[i].get_text() == nbb_unformatted_code) {\n",
       "                             nbb_cells[i].set_text(nbb_formatted_code);\n",
       "                        }\n",
       "                        break;\n",
       "                    }\n",
       "                }\n",
       "            }, 500);\n",
       "            "
      ],
      "text/plain": [
       "<IPython.core.display.Javascript object>"
      ]
     },
     "metadata": {},
     "output_type": "display_data"
    },
    {
     "data": {
      "application/javascript": [
       "\n",
       "            setTimeout(function() {\n",
       "                var nbb_cell_id = 19;\n",
       "                var nbb_unformatted_code = \"num_cols = [\\\"age\\\", \\\"bp_hi\\\", \\\"bp_lo\\\", \\\"bp_diff\\\", \\\"bmi\\\"]\";\n",
       "                var nbb_formatted_code = \"num_cols = [\\\"age\\\", \\\"bp_hi\\\", \\\"bp_lo\\\", \\\"bp_diff\\\", \\\"bmi\\\"]\";\n",
       "                var nbb_cells = Jupyter.notebook.get_cells();\n",
       "                for (var i = 0; i < nbb_cells.length; ++i) {\n",
       "                    if (nbb_cells[i].input_prompt_number == nbb_cell_id) {\n",
       "                        if (nbb_cells[i].get_text() == nbb_unformatted_code) {\n",
       "                             nbb_cells[i].set_text(nbb_formatted_code);\n",
       "                        }\n",
       "                        break;\n",
       "                    }\n",
       "                }\n",
       "            }, 500);\n",
       "            "
      ],
      "text/plain": [
       "<IPython.core.display.Javascript object>"
      ]
     },
     "metadata": {},
     "output_type": "display_data"
    }
   ],
   "source": [
    "num_cols = [\"age\", \"bp_hi\", \"bp_lo\", \"bp_diff\", \"bmi\"]\n"
   ]
  },
  {
   "cell_type": "code",
   "execution_count": 20,
   "metadata": {
    "colab": {
     "base_uri": "https://localhost:8080/",
     "height": 1000
    },
    "executionInfo": {
     "elapsed": 2197,
     "status": "ok",
     "timestamp": 1608753348168,
     "user": {
      "displayName": "Taylor Martin",
      "photoUrl": "https://lh3.googleusercontent.com/a-/AOh14GiCE8G90wcGj0LyMdPz1s1HHFQGXUh414iGSqhD6Q=s64",
      "userId": "07425549969609912014"
     },
     "user_tz": 360
    },
    "id": "OBkBNkh9Istt",
    "outputId": "5ebca683-4a5b-456e-a9f9-8aef6be4517c",
    "scrolled": true
   },
   "outputs": [
    {
     "data": {
      "image/png": "[encoded data removed]",
      "text/plain": [
       "<Figure size 432x288 with 1 Axes>"
      ]
     },
     "metadata": {},
     "output_type": "display_data"
    },
    {
     "data": {
      "image/png": "[encoded data removed]",
      "text/plain": [
       "<Figure size 432x288 with 1 Axes>"
      ]
     },
     "metadata": {},
     "output_type": "display_data"
    },
    {
     "data": {
      "image/png": "[encoded data removed]",
      "text/plain": [
       "<Figure size 432x288 with 1 Axes>"
      ]
     },
     "metadata": {},
     "output_type": "display_data"
    },
    {
     "data": {
      "image/png": "[encoded data removed]",
      "text/plain": [
       "<Figure size 432x288 with 1 Axes>"
      ]
     },
     "metadata": {},
     "output_type": "display_data"
    },
    {
     "data": {
      "image/png": "[encoded data removed]",
      "text/plain": [
       "<Figure size 432x288 with 1 Axes>"
      ]
     },
     "metadata": {},
     "output_type": "display_data"
    },
    {
     "data": {
      "application/javascript": [
       "\n",
       "            setTimeout(function() {\n",
       "                var nbb_cell_id = 20;\n",
       "                var nbb_unformatted_code = \"# df_sample = df.sample(frac=0.1, replace=True, random_state=28, axis=\\\"index\\\")\\n\\nfor col in num_cols:\\n    sns.violinplot(x=\\\"disease\\\", y=col, data=df)\\n    plt.show()\";\n",
       "                var nbb_formatted_code = \"# df_sample = df.sample(frac=0.1, replace=True, random_state=28, axis=\\\"index\\\")\\n\\nfor col in num_cols:\\n    sns.violinplot(x=\\\"disease\\\", y=col, data=df)\\n    plt.show()\";\n",
       "                var nbb_cells = Jupyter.notebook.get_cells();\n",
       "                for (var i = 0; i < nbb_cells.length; ++i) {\n",
       "                    if (nbb_cells[i].input_prompt_number == nbb_cell_id) {\n",
       "                        if (nbb_cells[i].get_text() == nbb_unformatted_code) {\n",
       "                             nbb_cells[i].set_text(nbb_formatted_code);\n",
       "                        }\n",
       "                        break;\n",
       "                    }\n",
       "                }\n",
       "            }, 500);\n",
       "            "
      ],
      "text/plain": [
       "<IPython.core.display.Javascript object>"
      ]
     },
     "metadata": {},
     "output_type": "display_data"
    },
    {
     "data": {
      "application/javascript": [
       "\n",
       "            setTimeout(function() {\n",
       "                var nbb_cell_id = 20;\n",
       "                var nbb_unformatted_code = \"# df_sample = df.sample(frac=0.1, replace=True, random_state=28, axis=\\\"index\\\")\\n\\nfor col in num_cols:\\n    sns.violinplot(x=\\\"disease\\\", y=col, data=df)\\n    plt.show()\";\n",
       "                var nbb_formatted_code = \"# df_sample = df.sample(frac=0.1, replace=True, random_state=28, axis=\\\"index\\\")\\n\\nfor col in num_cols:\\n    sns.violinplot(x=\\\"disease\\\", y=col, data=df)\\n    plt.show()\";\n",
       "                var nbb_cells = Jupyter.notebook.get_cells();\n",
       "                for (var i = 0; i < nbb_cells.length; ++i) {\n",
       "                    if (nbb_cells[i].input_prompt_number == nbb_cell_id) {\n",
       "                        if (nbb_cells[i].get_text() == nbb_unformatted_code) {\n",
       "                             nbb_cells[i].set_text(nbb_formatted_code);\n",
       "                        }\n",
       "                        break;\n",
       "                    }\n",
       "                }\n",
       "            }, 500);\n",
       "            "
      ],
      "text/plain": [
       "<IPython.core.display.Javascript object>"
      ]
     },
     "metadata": {},
     "output_type": "display_data"
    }
   ],
   "source": [
    "# df_sample = df.sample(frac=0.1, replace=True, random_state=28, axis=\"index\")\n",
    "\n",
    "for col in num_cols:\n",
    "    sns.violinplot(x=\"disease\", y=col, data=df)\n",
    "    plt.show()"
   ]
  },
  {
   "cell_type": "markdown",
   "metadata": {
    "id": "CtBoAhU_Istu"
   },
   "source": [
    "# Modeling"
   ]
  },
  {
   "cell_type": "markdown",
   "metadata": {
    "id": "e2ZOaJU9Istu"
   },
   "source": [
    "> ### testing sets"
   ]
  },
  {
   "cell_type": "code",
   "execution_count": 27,
   "metadata": {
    "executionInfo": {
     "elapsed": 331,
     "status": "ok",
     "timestamp": 1608753352101,
     "user": {
      "displayName": "Taylor Martin",
      "photoUrl": "https://lh3.googleusercontent.com/a-/AOh14GiCE8G90wcGj0LyMdPz1s1HHFQGXUh414iGSqhD6Q=s64",
      "userId": "07425549969609912014"
     },
     "user_tz": 360
    },
    "id": "Hh-09auAIstu",
    "scrolled": false
   },
   "outputs": [
    {
     "data": {
      "application/javascript": [
       "\n",
       "            setTimeout(function() {\n",
       "                var nbb_cell_id = 27;\n",
       "                var nbb_unformatted_code = \"X = df.drop(columns=\\\"disease\\\")\\ny = df.disease\\n\\nX_train, X_test, y_train, y_test = train_test_split(\\n    X, y, test_size=0.2, random_state=28, stratify=df.disease\\n)\";\n",
       "                var nbb_formatted_code = \"X = df.drop(columns=\\\"disease\\\")\\ny = df.disease\\n\\nX_train, X_test, y_train, y_test = train_test_split(\\n    X, y, test_size=0.2, random_state=28, stratify=df.disease\\n)\";\n",
       "                var nbb_cells = Jupyter.notebook.get_cells();\n",
       "                for (var i = 0; i < nbb_cells.length; ++i) {\n",
       "                    if (nbb_cells[i].input_prompt_number == nbb_cell_id) {\n",
       "                        if (nbb_cells[i].get_text() == nbb_unformatted_code) {\n",
       "                             nbb_cells[i].set_text(nbb_formatted_code);\n",
       "                        }\n",
       "                        break;\n",
       "                    }\n",
       "                }\n",
       "            }, 500);\n",
       "            "
      ],
      "text/plain": [
       "<IPython.core.display.Javascript object>"
      ]
     },
     "metadata": {},
     "output_type": "display_data"
    },
    {
     "data": {
      "application/javascript": [
       "\n",
       "            setTimeout(function() {\n",
       "                var nbb_cell_id = 27;\n",
       "                var nbb_unformatted_code = \"X = df.drop(columns=\\\"disease\\\")\\ny = df.disease\\n\\nX_train, X_test, y_train, y_test = train_test_split(\\n    X, y, test_size=0.2, random_state=28, stratify=df.disease\\n)\";\n",
       "                var nbb_formatted_code = \"X = df.drop(columns=\\\"disease\\\")\\ny = df.disease\\n\\nX_train, X_test, y_train, y_test = train_test_split(\\n    X, y, test_size=0.2, random_state=28, stratify=df.disease\\n)\";\n",
       "                var nbb_cells = Jupyter.notebook.get_cells();\n",
       "                for (var i = 0; i < nbb_cells.length; ++i) {\n",
       "                    if (nbb_cells[i].input_prompt_number == nbb_cell_id) {\n",
       "                        if (nbb_cells[i].get_text() == nbb_unformatted_code) {\n",
       "                             nbb_cells[i].set_text(nbb_formatted_code);\n",
       "                        }\n",
       "                        break;\n",
       "                    }\n",
       "                }\n",
       "            }, 500);\n",
       "            "
      ],
      "text/plain": [
       "<IPython.core.display.Javascript object>"
      ]
     },
     "metadata": {},
     "output_type": "display_data"
    }
   ],
   "source": [
    "X = df.drop(columns=\"disease\")\n",
    "y = df.disease\n",
    "\n",
    "X_train, X_test, y_train, y_test = train_test_split(\n",
    "    X, y, test_size=0.2, random_state=28, stratify=df.disease\n",
    ")"
   ]
  },
  {
   "cell_type": "code",
   "execution_count": 22,
   "metadata": {
    "executionInfo": {
     "elapsed": 370,
     "status": "ok",
     "timestamp": 1608753353042,
     "user": {
      "displayName": "Taylor Martin",
      "photoUrl": "https://lh3.googleusercontent.com/a-/AOh14GiCE8G90wcGj0LyMdPz1s1HHFQGXUh414iGSqhD6Q=s64",
      "userId": "07425549969609912014"
     },
     "user_tz": 360
    },
    "id": "gy5ksbZMIstv"
   },
   "outputs": [
    {
     "data": {
      "application/javascript": [
       "\n",
       "            setTimeout(function() {\n",
       "                var nbb_cell_id = 22;\n",
       "                var nbb_unformatted_code = \"bin_cols = [\\\"gender\\\", \\\"smoke\\\", \\\"alcohol\\\", \\\"active\\\"]\\nnum_cols = [\\\"age\\\", \\\"bp_hi\\\", \\\"bp_lo\\\", \\\"bp_diff\\\", \\\"bmi\\\"]\\ncat_cols = [\\\"cholesterol\\\", \\\"glucose\\\"]\\n# drop_cats = [0]\";\n",
       "                var nbb_formatted_code = \"bin_cols = [\\\"gender\\\", \\\"smoke\\\", \\\"alcohol\\\", \\\"active\\\"]\\nnum_cols = [\\\"age\\\", \\\"bp_hi\\\", \\\"bp_lo\\\", \\\"bp_diff\\\", \\\"bmi\\\"]\\ncat_cols = [\\\"cholesterol\\\", \\\"glucose\\\"]\\n# drop_cats = [0]\";\n",
       "                var nbb_cells = Jupyter.notebook.get_cells();\n",
       "                for (var i = 0; i < nbb_cells.length; ++i) {\n",
       "                    if (nbb_cells[i].input_prompt_number == nbb_cell_id) {\n",
       "                        if (nbb_cells[i].get_text() == nbb_unformatted_code) {\n",
       "                             nbb_cells[i].set_text(nbb_formatted_code);\n",
       "                        }\n",
       "                        break;\n",
       "                    }\n",
       "                }\n",
       "            }, 500);\n",
       "            "
      ],
      "text/plain": [
       "<IPython.core.display.Javascript object>"
      ]
     },
     "metadata": {},
     "output_type": "display_data"
    },
    {
     "data": {
      "application/javascript": [
       "\n",
       "            setTimeout(function() {\n",
       "                var nbb_cell_id = 22;\n",
       "                var nbb_unformatted_code = \"bin_cols = [\\\"gender\\\", \\\"smoke\\\", \\\"alcohol\\\", \\\"active\\\"]\\nnum_cols = [\\\"age\\\", \\\"bp_hi\\\", \\\"bp_lo\\\", \\\"bp_diff\\\", \\\"bmi\\\"]\\ncat_cols = [\\\"cholesterol\\\", \\\"glucose\\\"]\\n# drop_cats = [0]\";\n",
       "                var nbb_formatted_code = \"bin_cols = [\\\"gender\\\", \\\"smoke\\\", \\\"alcohol\\\", \\\"active\\\"]\\nnum_cols = [\\\"age\\\", \\\"bp_hi\\\", \\\"bp_lo\\\", \\\"bp_diff\\\", \\\"bmi\\\"]\\ncat_cols = [\\\"cholesterol\\\", \\\"glucose\\\"]\\n# drop_cats = [0]\";\n",
       "                var nbb_cells = Jupyter.notebook.get_cells();\n",
       "                for (var i = 0; i < nbb_cells.length; ++i) {\n",
       "                    if (nbb_cells[i].input_prompt_number == nbb_cell_id) {\n",
       "                        if (nbb_cells[i].get_text() == nbb_unformatted_code) {\n",
       "                             nbb_cells[i].set_text(nbb_formatted_code);\n",
       "                        }\n",
       "                        break;\n",
       "                    }\n",
       "                }\n",
       "            }, 500);\n",
       "            "
      ],
      "text/plain": [
       "<IPython.core.display.Javascript object>"
      ]
     },
     "metadata": {},
     "output_type": "display_data"
    }
   ],
   "source": [
    "bin_cols = [\"gender\", \"smoke\", \"alcohol\", \"active\"]\n",
    "num_cols = [\"age\", \"bp_hi\", \"bp_lo\", \"bp_diff\", \"bmi\"]\n",
    "cat_cols = [\"cholesterol\", \"glucose\"]\n",
    "# drop_cats = [0]"
   ]
  },
  {
   "cell_type": "markdown",
   "metadata": {
    "id": "cLVAcIayIstv"
   },
   "source": [
    "> ### preprocessing"
   ]
  },
  {
   "cell_type": "code",
   "execution_count": 23,
   "metadata": {
    "executionInfo": {
     "elapsed": 355,
     "status": "ok",
     "timestamp": 1608753357007,
     "user": {
      "displayName": "Taylor Martin",
      "photoUrl": "https://lh3.googleusercontent.com/a-/AOh14GiCE8G90wcGj0LyMdPz1s1HHFQGXUh414iGSqhD6Q=s64",
      "userId": "07425549969609912014"
     },
     "user_tz": 360
    },
    "id": "_synU3kRIstw"
   },
   "outputs": [
    {
     "data": {
      "application/javascript": [
       "\n",
       "            setTimeout(function() {\n",
       "                var nbb_cell_id = 23;\n",
       "                var nbb_unformatted_code = \"# fmt: off\\npreprocessing = ColumnTransformer(\\n    [\\n        (\\\"encode_cats\\\", LeaveOneOutEncoder(), cat_cols),\\n        (\\\"scaler\\\", StandardScaler(), num_cols),\\n#        (\\\"scaler\\\", MinMaxScaler(), num_cols),\\n    ],\\n    remainder=\\\"passthrough\\\",\\n)\";\n",
       "                var nbb_formatted_code = \"# fmt: off\\npreprocessing = ColumnTransformer(\\n    [\\n        (\\\"encode_cats\\\", LeaveOneOutEncoder(), cat_cols),\\n        (\\\"scaler\\\", StandardScaler(), num_cols),\\n#        (\\\"scaler\\\", MinMaxScaler(), num_cols),\\n    ],\\n    remainder=\\\"passthrough\\\",\\n)\";\n",
       "                var nbb_cells = Jupyter.notebook.get_cells();\n",
       "                for (var i = 0; i < nbb_cells.length; ++i) {\n",
       "                    if (nbb_cells[i].input_prompt_number == nbb_cell_id) {\n",
       "                        if (nbb_cells[i].get_text() == nbb_unformatted_code) {\n",
       "                             nbb_cells[i].set_text(nbb_formatted_code);\n",
       "                        }\n",
       "                        break;\n",
       "                    }\n",
       "                }\n",
       "            }, 500);\n",
       "            "
      ],
      "text/plain": [
       "<IPython.core.display.Javascript object>"
      ]
     },
     "metadata": {},
     "output_type": "display_data"
    },
    {
     "data": {
      "application/javascript": [
       "\n",
       "            setTimeout(function() {\n",
       "                var nbb_cell_id = 23;\n",
       "                var nbb_unformatted_code = \"# fmt: off\\npreprocessing = ColumnTransformer(\\n    [\\n        (\\\"encode_cats\\\", LeaveOneOutEncoder(), cat_cols),\\n        (\\\"scaler\\\", StandardScaler(), num_cols),\\n#        (\\\"scaler\\\", MinMaxScaler(), num_cols),\\n    ],\\n    remainder=\\\"passthrough\\\",\\n)\";\n",
       "                var nbb_formatted_code = \"# fmt: off\\npreprocessing = ColumnTransformer(\\n    [\\n        (\\\"encode_cats\\\", LeaveOneOutEncoder(), cat_cols),\\n        (\\\"scaler\\\", StandardScaler(), num_cols),\\n#        (\\\"scaler\\\", MinMaxScaler(), num_cols),\\n    ],\\n    remainder=\\\"passthrough\\\",\\n)\";\n",
       "                var nbb_cells = Jupyter.notebook.get_cells();\n",
       "                for (var i = 0; i < nbb_cells.length; ++i) {\n",
       "                    if (nbb_cells[i].input_prompt_number == nbb_cell_id) {\n",
       "                        if (nbb_cells[i].get_text() == nbb_unformatted_code) {\n",
       "                             nbb_cells[i].set_text(nbb_formatted_code);\n",
       "                        }\n",
       "                        break;\n",
       "                    }\n",
       "                }\n",
       "            }, 500);\n",
       "            "
      ],
      "text/plain": [
       "<IPython.core.display.Javascript object>"
      ]
     },
     "metadata": {},
     "output_type": "display_data"
    }
   ],
   "source": [
    "# fmt: off\n",
    "preprocessing = ColumnTransformer(\n",
    "    [\n",
    "        (\"encode_cats\", LeaveOneOutEncoder(), cat_cols),\n",
    "        (\"scaler\", StandardScaler(), num_cols),\n",
    "#        (\"scaler\", MinMaxScaler(), num_cols),\n",
    "    ],\n",
    "    remainder=\"passthrough\",\n",
    ")"
   ]
  },
  {
   "cell_type": "markdown",
   "metadata": {
    "id": "8SGdK48vIstx"
   },
   "source": [
    "> ### pipeline"
   ]
  },
  {
   "cell_type": "code",
   "execution_count": 24,
   "metadata": {
    "executionInfo": {
     "elapsed": 365,
     "status": "ok",
     "timestamp": 1608753359287,
     "user": {
      "displayName": "Taylor Martin",
      "photoUrl": "https://lh3.googleusercontent.com/a-/AOh14GiCE8G90wcGj0LyMdPz1s1HHFQGXUh414iGSqhD6Q=s64",
      "userId": "07425549969609912014"
     },
     "user_tz": 360
    },
    "id": "fqHZiVgsIstx",
    "scrolled": true
   },
   "outputs": [
    {
     "data": {
      "application/javascript": [
       "\n",
       "            setTimeout(function() {\n",
       "                var nbb_cell_id = 24;\n",
       "                var nbb_unformatted_code = \"# fmt: off\\npipeline = Pipeline(\\n    [\\n        (\\\"processing\\\", preprocessing),\\n        (\\\"model\\\", KNeighborsClassifier())\\n    ]\\n)\";\n",
       "                var nbb_formatted_code = \"# fmt: off\\npipeline = Pipeline(\\n    [\\n        (\\\"processing\\\", preprocessing),\\n        (\\\"model\\\", KNeighborsClassifier())\\n    ]\\n)\";\n",
       "                var nbb_cells = Jupyter.notebook.get_cells();\n",
       "                for (var i = 0; i < nbb_cells.length; ++i) {\n",
       "                    if (nbb_cells[i].input_prompt_number == nbb_cell_id) {\n",
       "                        if (nbb_cells[i].get_text() == nbb_unformatted_code) {\n",
       "                             nbb_cells[i].set_text(nbb_formatted_code);\n",
       "                        }\n",
       "                        break;\n",
       "                    }\n",
       "                }\n",
       "            }, 500);\n",
       "            "
      ],
      "text/plain": [
       "<IPython.core.display.Javascript object>"
      ]
     },
     "metadata": {},
     "output_type": "display_data"
    },
    {
     "data": {
      "application/javascript": [
       "\n",
       "            setTimeout(function() {\n",
       "                var nbb_cell_id = 24;\n",
       "                var nbb_unformatted_code = \"# fmt: off\\npipeline = Pipeline(\\n    [\\n        (\\\"processing\\\", preprocessing),\\n        (\\\"model\\\", KNeighborsClassifier())\\n    ]\\n)\";\n",
       "                var nbb_formatted_code = \"# fmt: off\\npipeline = Pipeline(\\n    [\\n        (\\\"processing\\\", preprocessing),\\n        (\\\"model\\\", KNeighborsClassifier())\\n    ]\\n)\";\n",
       "                var nbb_cells = Jupyter.notebook.get_cells();\n",
       "                for (var i = 0; i < nbb_cells.length; ++i) {\n",
       "                    if (nbb_cells[i].input_prompt_number == nbb_cell_id) {\n",
       "                        if (nbb_cells[i].get_text() == nbb_unformatted_code) {\n",
       "                             nbb_cells[i].set_text(nbb_formatted_code);\n",
       "                        }\n",
       "                        break;\n",
       "                    }\n",
       "                }\n",
       "            }, 500);\n",
       "            "
      ],
      "text/plain": [
       "<IPython.core.display.Javascript object>"
      ]
     },
     "metadata": {},
     "output_type": "display_data"
    }
   ],
   "source": [
    "# fmt: off\n",
    "pipeline = Pipeline(\n",
    "    [\n",
    "        (\"processing\", preprocessing),\n",
    "        (\"model\", KNeighborsClassifier())\n",
    "    ]\n",
    ")"
   ]
  },
  {
   "cell_type": "markdown",
   "metadata": {
    "id": "jYMsK804Isty"
   },
   "source": [
    "# Hyperparameter Optimization"
   ]
  },
  {
   "cell_type": "code",
   "execution_count": 28,
   "metadata": {
    "colab": {
     "base_uri": "https://localhost:8080/"
    },
    "executionInfo": {
     "elapsed": 476829,
     "status": "ok",
     "timestamp": 1608756089902,
     "user": {
      "displayName": "Taylor Martin",
      "photoUrl": "https://lh3.googleusercontent.com/a-/AOh14GiCE8G90wcGj0LyMdPz1s1HHFQGXUh414iGSqhD6Q=s64",
      "userId": "07425549969609912014"
     },
     "user_tz": 360
    },
    "id": "IlbUd4ZuIsty",
    "outputId": "4ac30b20-96c9-48ce-8533-c3c69d9bac96"
   },
   "outputs": [
    {
     "name": "stdout",
     "output_type": "stream",
     "text": [
      "Fitting 5 folds for each of 12 candidates, totalling 60 fits\n"
     ]
    },
    {
     "name": "stderr",
     "output_type": "stream",
     "text": [
      "[Parallel(n_jobs=-1)]: Using backend LokyBackend with 8 concurrent workers.\n",
      "[Parallel(n_jobs=-1)]: Done  34 tasks      | elapsed:   32.1s\n",
      "[Parallel(n_jobs=-1)]: Done  60 out of  60 | elapsed:  1.1min finished\n"
     ]
    },
    {
     "name": "stdout",
     "output_type": "stream",
     "text": [
      "parameters: {'model__n_neighbors': 25, 'model__weights': 'uniform'}\n",
      "=======================================\n",
      "train score: 0.7241785714285714\n",
      "test score: 0.7004285714285714\n"
     ]
    },
    {
     "data": {
      "application/javascript": [
       "\n",
       "            setTimeout(function() {\n",
       "                var nbb_cell_id = 28;\n",
       "                var nbb_unformatted_code = \"grid = {\\n    \\\"model__n_neighbors\\\": [5, 10, 15, 20, 25, 30],\\n    \\\"model__weights\\\": [\\\"uniform\\\", \\\"distance\\\"],\\n}\\n\\nmodel = GridSearchCV(pipeline, grid, verbose=1, cv=5, n_jobs=-1)\\nmodel.fit(X_train, y_train)\\n\\nbest_params = model.best_params_\\ntrain_score = model.score(X_train, y_train)\\ntest_score = model.score(X_test, y_test)\\n\\nprint(f\\\"parameters: {best_params}\\\")\\nprint(\\\"=======================================\\\")\\nprint(f\\\"train score: {train_score}\\\")\\nprint(f\\\"test score: {test_score}\\\")\";\n",
       "                var nbb_formatted_code = \"grid = {\\n    \\\"model__n_neighbors\\\": [5, 10, 15, 20, 25, 30],\\n    \\\"model__weights\\\": [\\\"uniform\\\", \\\"distance\\\"],\\n}\\n\\nmodel = GridSearchCV(pipeline, grid, verbose=1, cv=5, n_jobs=-1)\\nmodel.fit(X_train, y_train)\\n\\nbest_params = model.best_params_\\ntrain_score = model.score(X_train, y_train)\\ntest_score = model.score(X_test, y_test)\\n\\nprint(f\\\"parameters: {best_params}\\\")\\nprint(\\\"=======================================\\\")\\nprint(f\\\"train score: {train_score}\\\")\\nprint(f\\\"test score: {test_score}\\\")\";\n",
       "                var nbb_cells = Jupyter.notebook.get_cells();\n",
       "                for (var i = 0; i < nbb_cells.length; ++i) {\n",
       "                    if (nbb_cells[i].input_prompt_number == nbb_cell_id) {\n",
       "                        if (nbb_cells[i].get_text() == nbb_unformatted_code) {\n",
       "                             nbb_cells[i].set_text(nbb_formatted_code);\n",
       "                        }\n",
       "                        break;\n",
       "                    }\n",
       "                }\n",
       "            }, 500);\n",
       "            "
      ],
      "text/plain": [
       "<IPython.core.display.Javascript object>"
      ]
     },
     "metadata": {},
     "output_type": "display_data"
    },
    {
     "data": {
      "application/javascript": [
       "\n",
       "            setTimeout(function() {\n",
       "                var nbb_cell_id = 28;\n",
       "                var nbb_unformatted_code = \"grid = {\\n    \\\"model__n_neighbors\\\": [5, 10, 15, 20, 25, 30],\\n    \\\"model__weights\\\": [\\\"uniform\\\", \\\"distance\\\"],\\n}\\n\\nmodel = GridSearchCV(pipeline, grid, verbose=1, cv=5, n_jobs=-1)\\nmodel.fit(X_train, y_train)\\n\\nbest_params = model.best_params_\\ntrain_score = model.score(X_train, y_train)\\ntest_score = model.score(X_test, y_test)\\n\\nprint(f\\\"parameters: {best_params}\\\")\\nprint(\\\"=======================================\\\")\\nprint(f\\\"train score: {train_score}\\\")\\nprint(f\\\"test score: {test_score}\\\")\";\n",
       "                var nbb_formatted_code = \"grid = {\\n    \\\"model__n_neighbors\\\": [5, 10, 15, 20, 25, 30],\\n    \\\"model__weights\\\": [\\\"uniform\\\", \\\"distance\\\"],\\n}\\n\\nmodel = GridSearchCV(pipeline, grid, verbose=1, cv=5, n_jobs=-1)\\nmodel.fit(X_train, y_train)\\n\\nbest_params = model.best_params_\\ntrain_score = model.score(X_train, y_train)\\ntest_score = model.score(X_test, y_test)\\n\\nprint(f\\\"parameters: {best_params}\\\")\\nprint(\\\"=======================================\\\")\\nprint(f\\\"train score: {train_score}\\\")\\nprint(f\\\"test score: {test_score}\\\")\";\n",
       "                var nbb_cells = Jupyter.notebook.get_cells();\n",
       "                for (var i = 0; i < nbb_cells.length; ++i) {\n",
       "                    if (nbb_cells[i].input_prompt_number == nbb_cell_id) {\n",
       "                        if (nbb_cells[i].get_text() == nbb_unformatted_code) {\n",
       "                             nbb_cells[i].set_text(nbb_formatted_code);\n",
       "                        }\n",
       "                        break;\n",
       "                    }\n",
       "                }\n",
       "            }, 500);\n",
       "            "
      ],
      "text/plain": [
       "<IPython.core.display.Javascript object>"
      ]
     },
     "metadata": {},
     "output_type": "display_data"
    }
   ],
   "source": [
    "grid = {\n",
    "    \"model__n_neighbors\": [5, 10, 15, 20, 25, 30],\n",
    "    \"model__weights\": [\"uniform\", \"distance\"],\n",
    "}\n",
    "\n",
    "model = GridSearchCV(pipeline, grid, verbose=1, cv=5, n_jobs=-1)\n",
    "model.fit(X_train, y_train)\n",
    "\n",
    "best_params = model.best_params_\n",
    "train_score = model.score(X_train, y_train)\n",
    "test_score = model.score(X_test, y_test)\n",
    "\n",
    "print(f\"parameters: {best_params}\")\n",
    "print(\"=======================================\")\n",
    "print(f\"train score: {train_score}\")\n",
    "print(f\"test score: {test_score}\")"
   ]
  },
  {
   "cell_type": "code",
   "execution_count": 30,
   "metadata": {
    "executionInfo": {
     "elapsed": 387,
     "status": "ok",
     "timestamp": 1608755607190,
     "user": {
      "displayName": "Taylor Martin",
      "photoUrl": "https://lh3.googleusercontent.com/a-/AOh14GiCE8G90wcGj0LyMdPz1s1HHFQGXUh414iGSqhD6Q=s64",
      "userId": "07425549969609912014"
     },
     "user_tz": 360
    },
    "id": "CJC6u850Tlul"
   },
   "outputs": [],
   "source": [
    "# parameters: {'model__n_neighbors': 25, 'model__weights': 'uniform'}\n",
    "# =======================================\n",
    "# train score: 0.7241785714285714\n",
    "# test score: 0.7004285714285714"
   ]
  },
  {
   "cell_type": "markdown",
   "metadata": {
    "id": "TF6FDDmlIstz"
   },
   "source": [
    "## Optimized Parameters"
   ]
  },
  {
   "cell_type": "code",
   "execution_count": 29,
   "metadata": {
    "id": "3YuT-PtJIst0"
   },
   "outputs": [
    {
     "name": "stdout",
     "output_type": "stream",
     "text": [
      "train score: 0.7241785714285714\n",
      "test score: 0.7004285714285714\n"
     ]
    },
    {
     "data": {
      "application/javascript": [
       "\n",
       "            setTimeout(function() {\n",
       "                var nbb_cell_id = 29;\n",
       "                var nbb_unformatted_code = \"# fmt: off\\npipeline = Pipeline(\\n    [\\n        (\\\"processing\\\", preprocessing),\\n        (\\\"model\\\", KNeighborsClassifier(n_neighbors=25, weights='uniform'))\\n    ]\\n)\\n\\npipeline.fit(X_train, y_train)\\n\\ntrain_score = pipeline.score(X_train, y_train)\\ntest_score = pipeline.score(X_test, y_test)\\n\\nprint(f\\\"train score: {train_score}\\\")\\nprint(f\\\"test score: {test_score}\\\")\";\n",
       "                var nbb_formatted_code = \"# fmt: off\\npipeline = Pipeline(\\n    [\\n        (\\\"processing\\\", preprocessing),\\n        (\\\"model\\\", KNeighborsClassifier(n_neighbors=25, weights='uniform'))\\n    ]\\n)\\n\\npipeline.fit(X_train, y_train)\\n\\ntrain_score = pipeline.score(X_train, y_train)\\ntest_score = pipeline.score(X_test, y_test)\\n\\nprint(f\\\"train score: {train_score}\\\")\\nprint(f\\\"test score: {test_score}\\\")\";\n",
       "                var nbb_cells = Jupyter.notebook.get_cells();\n",
       "                for (var i = 0; i < nbb_cells.length; ++i) {\n",
       "                    if (nbb_cells[i].input_prompt_number == nbb_cell_id) {\n",
       "                        if (nbb_cells[i].get_text() == nbb_unformatted_code) {\n",
       "                             nbb_cells[i].set_text(nbb_formatted_code);\n",
       "                        }\n",
       "                        break;\n",
       "                    }\n",
       "                }\n",
       "            }, 500);\n",
       "            "
      ],
      "text/plain": [
       "<IPython.core.display.Javascript object>"
      ]
     },
     "metadata": {},
     "output_type": "display_data"
    },
    {
     "data": {
      "application/javascript": [
       "\n",
       "            setTimeout(function() {\n",
       "                var nbb_cell_id = 29;\n",
       "                var nbb_unformatted_code = \"# fmt: off\\npipeline = Pipeline(\\n    [\\n        (\\\"processing\\\", preprocessing),\\n        (\\\"model\\\", KNeighborsClassifier(n_neighbors=25, weights='uniform'))\\n    ]\\n)\\n\\npipeline.fit(X_train, y_train)\\n\\ntrain_score = pipeline.score(X_train, y_train)\\ntest_score = pipeline.score(X_test, y_test)\\n\\nprint(f\\\"train score: {train_score}\\\")\\nprint(f\\\"test score: {test_score}\\\")\";\n",
       "                var nbb_formatted_code = \"# fmt: off\\npipeline = Pipeline(\\n    [\\n        (\\\"processing\\\", preprocessing),\\n        (\\\"model\\\", KNeighborsClassifier(n_neighbors=25, weights='uniform'))\\n    ]\\n)\\n\\npipeline.fit(X_train, y_train)\\n\\ntrain_score = pipeline.score(X_train, y_train)\\ntest_score = pipeline.score(X_test, y_test)\\n\\nprint(f\\\"train score: {train_score}\\\")\\nprint(f\\\"test score: {test_score}\\\")\";\n",
       "                var nbb_cells = Jupyter.notebook.get_cells();\n",
       "                for (var i = 0; i < nbb_cells.length; ++i) {\n",
       "                    if (nbb_cells[i].input_prompt_number == nbb_cell_id) {\n",
       "                        if (nbb_cells[i].get_text() == nbb_unformatted_code) {\n",
       "                             nbb_cells[i].set_text(nbb_formatted_code);\n",
       "                        }\n",
       "                        break;\n",
       "                    }\n",
       "                }\n",
       "            }, 500);\n",
       "            "
      ],
      "text/plain": [
       "<IPython.core.display.Javascript object>"
      ]
     },
     "metadata": {},
     "output_type": "display_data"
    }
   ],
   "source": [
    "# fmt: off\n",
    "pipeline = Pipeline(\n",
    "    [\n",
    "        (\"processing\", preprocessing),\n",
    "        (\"model\", KNeighborsClassifier(n_neighbors=25, weights='uniform'))\n",
    "    ]\n",
    ")\n",
    "\n",
    "pipeline.fit(X_train, y_train)\n",
    "\n",
    "train_score = pipeline.score(X_train, y_train)\n",
    "test_score = pipeline.score(X_test, y_test)\n",
    "\n",
    "print(f\"train score: {train_score}\")\n",
    "print(f\"test score: {test_score}\")"
   ]
  },
  {
   "cell_type": "markdown",
   "metadata": {
    "id": "JKQcfnovIst1"
   },
   "source": [
    "# Prediction Results"
   ]
  },
  {
   "cell_type": "code",
   "execution_count": 31,
   "metadata": {
    "id": "KWkfIyhJIst1"
   },
   "outputs": [
    {
     "data": {
      "application/javascript": [
       "\n",
       "            setTimeout(function() {\n",
       "                var nbb_cell_id = 31;\n",
       "                var nbb_unformatted_code = \"y_preds = pipeline.predict(X_test)\\n\\nclass_report = classification_report(y_test, y_preds, target_names=['disease', 'no disease'])\";\n",
       "                var nbb_formatted_code = \"y_preds = pipeline.predict(X_test)\\n\\nclass_report = classification_report(\\n    y_test, y_preds, target_names=[\\\"disease\\\", \\\"no disease\\\"]\\n)\";\n",
       "                var nbb_cells = Jupyter.notebook.get_cells();\n",
       "                for (var i = 0; i < nbb_cells.length; ++i) {\n",
       "                    if (nbb_cells[i].input_prompt_number == nbb_cell_id) {\n",
       "                        if (nbb_cells[i].get_text() == nbb_unformatted_code) {\n",
       "                             nbb_cells[i].set_text(nbb_formatted_code);\n",
       "                        }\n",
       "                        break;\n",
       "                    }\n",
       "                }\n",
       "            }, 500);\n",
       "            "
      ],
      "text/plain": [
       "<IPython.core.display.Javascript object>"
      ]
     },
     "metadata": {},
     "output_type": "display_data"
    },
    {
     "data": {
      "application/javascript": [
       "\n",
       "            setTimeout(function() {\n",
       "                var nbb_cell_id = 31;\n",
       "                var nbb_unformatted_code = \"y_preds = pipeline.predict(X_test)\\n\\nclass_report = classification_report(y_test, y_preds, target_names=['disease', 'no disease'])\";\n",
       "                var nbb_formatted_code = \"y_preds = pipeline.predict(X_test)\\n\\nclass_report = classification_report(\\n    y_test, y_preds, target_names=[\\\"disease\\\", \\\"no disease\\\"]\\n)\";\n",
       "                var nbb_cells = Jupyter.notebook.get_cells();\n",
       "                for (var i = 0; i < nbb_cells.length; ++i) {\n",
       "                    if (nbb_cells[i].input_prompt_number == nbb_cell_id) {\n",
       "                        if (nbb_cells[i].get_text() == nbb_unformatted_code) {\n",
       "                             nbb_cells[i].set_text(nbb_formatted_code);\n",
       "                        }\n",
       "                        break;\n",
       "                    }\n",
       "                }\n",
       "            }, 500);\n",
       "            "
      ],
      "text/plain": [
       "<IPython.core.display.Javascript object>"
      ]
     },
     "metadata": {},
     "output_type": "display_data"
    }
   ],
   "source": [
    "y_preds = pipeline.predict(X_test)\n",
    "\n",
    "class_report = classification_report(\n",
    "    y_test, y_preds, target_names=[\"disease\", \"no disease\"]\n",
    ")\n",
    "\n",
    "print(class_report)"
   ]
  },
  {
   "cell_type": "code",
   "execution_count": 34,
   "metadata": {},
   "outputs": [
    {
     "name": "stdout",
     "output_type": "stream",
     "text": [
      "              precision    recall  f1-score   support\n",
      "\n",
      "     disease       0.69      0.74      0.71      7004\n",
      "  no disease       0.72      0.66      0.69      6996\n",
      "\n",
      "    accuracy                           0.70     14000\n",
      "   macro avg       0.70      0.70      0.70     14000\n",
      "weighted avg       0.70      0.70      0.70     14000\n",
      "\n"
     ]
    },
    {
     "data": {
      "application/javascript": [
       "\n",
       "            setTimeout(function() {\n",
       "                var nbb_cell_id = 34;\n",
       "                var nbb_unformatted_code = \"print(class_report)\";\n",
       "                var nbb_formatted_code = \"print(class_report)\";\n",
       "                var nbb_cells = Jupyter.notebook.get_cells();\n",
       "                for (var i = 0; i < nbb_cells.length; ++i) {\n",
       "                    if (nbb_cells[i].input_prompt_number == nbb_cell_id) {\n",
       "                        if (nbb_cells[i].get_text() == nbb_unformatted_code) {\n",
       "                             nbb_cells[i].set_text(nbb_formatted_code);\n",
       "                        }\n",
       "                        break;\n",
       "                    }\n",
       "                }\n",
       "            }, 500);\n",
       "            "
      ],
      "text/plain": [
       "<IPython.core.display.Javascript object>"
      ]
     },
     "metadata": {},
     "output_type": "display_data"
    },
    {
     "data": {
      "application/javascript": [
       "\n",
       "            setTimeout(function() {\n",
       "                var nbb_cell_id = 34;\n",
       "                var nbb_unformatted_code = \"print(class_report)\";\n",
       "                var nbb_formatted_code = \"print(class_report)\";\n",
       "                var nbb_cells = Jupyter.notebook.get_cells();\n",
       "                for (var i = 0; i < nbb_cells.length; ++i) {\n",
       "                    if (nbb_cells[i].input_prompt_number == nbb_cell_id) {\n",
       "                        if (nbb_cells[i].get_text() == nbb_unformatted_code) {\n",
       "                             nbb_cells[i].set_text(nbb_formatted_code);\n",
       "                        }\n",
       "                        break;\n",
       "                    }\n",
       "                }\n",
       "            }, 500);\n",
       "            "
      ],
      "text/plain": [
       "<IPython.core.display.Javascript object>"
      ]
     },
     "metadata": {},
     "output_type": "display_data"
    }
   ],
   "source": []
  },
  {
   "cell_type": "markdown",
   "metadata": {
    "id": "PsTLj-33Ist2"
   },
   "source": [
    "# Model Evaluation"
   ]
  },
  {
   "cell_type": "code",
   "execution_count": null,
   "metadata": {
    "id": "yKV6xHmXIst4"
   },
   "outputs": [],
   "source": []
  }
 ],
 "metadata": {
  "colab": {
   "name": "cardio_disease_classifier_svm.ipynb",
   "provenance": []
  },
  "kernelspec": {
   "display_name": "Python 3",
   "language": "python",
   "name": "python3"
  },
  "language_info": {
   "codemirror_mode": {
    "name": "ipython",
    "version": 3
   },
   "file_extension": ".py",
   "mimetype": "text/x-python",
   "name": "python",
   "nbconvert_exporter": "python",
   "pygments_lexer": "ipython3",
   "version": "3.8.3"
  },
  "toc": {
   "base_numbering": 1,
   "nav_menu": {},
   "number_sections": false,
   "sideBar": true,
   "skip_h1_title": false,
   "title_cell": "Table of Contents",
   "title_sidebar": "Contents",
   "toc_cell": false,
   "toc_position": {
    "height": "calc(100% - 180px)",
    "left": "10px",
    "top": "150px",
    "width": "341.594px"
   },
   "toc_section_display": true,
   "toc_window_display": true
  }
 },
 "nbformat": 4,
 "nbformat_minor": 1
}
