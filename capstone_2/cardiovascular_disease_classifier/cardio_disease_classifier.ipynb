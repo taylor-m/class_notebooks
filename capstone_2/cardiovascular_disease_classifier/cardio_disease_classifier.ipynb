{
 "cells": [
  {
   "cell_type": "markdown",
   "metadata": {},
   "source": [
    "# Imports"
   ]
  },
  {
   "cell_type": "code",
   "execution_count": 1,
   "metadata": {},
   "outputs": [
    {
     "data": {
      "application/javascript": [
       "\n",
       "            setTimeout(function() {\n",
       "                var nbb_cell_id = 1;\n",
       "                var nbb_unformatted_code = \"%reload_ext nb_black\\nimport pandas as pd\\nimport numpy as np\\nfrom matplotlib import pyplot as plt\\nimport plotly\\nimport seaborn as sns\\n\\n%matplotlib inline\\n\\nplt.style.use([\\\"dark_background\\\"])\\n# %matplotlib ipympl\\n\\nfrom sklearn.svm import SVC\\nfrom xgboost import XGBClassifier\\n\\nfrom sklearn.model_selection import train_test_split, GridSearchCV\\nfrom category_encoders import LeaveOneOutEncoder\\nfrom sklearn.compose import ColumnTransformer\\nfrom sklearn.pipeline import Pipeline\\nfrom sklearn.preprocessing import StandardScaler, MinMaxScaler\\nimport warnings\\nfrom functions_pkg import print_vif, predictions_df\\nfrom sklearn.metrics import (\\n    plot_confusion_matrix,\\n    plot_roc_curve,\\n    plot_precision_recall_curve,\\n    classification_report,\\n    confusion_matrix,\\n    precision_score,\\n    recall_score,\\n)\\nfrom sklearn.calibration import calibration_curve\";\n",
       "                var nbb_formatted_code = \"%reload_ext nb_black\\nimport pandas as pd\\nimport numpy as np\\nfrom matplotlib import pyplot as plt\\nimport plotly\\nimport seaborn as sns\\n\\n%matplotlib inline\\n\\nplt.style.use([\\\"dark_background\\\"])\\n# %matplotlib ipympl\\n\\nfrom sklearn.svm import SVC\\nfrom xgboost import XGBClassifier\\n\\nfrom sklearn.model_selection import train_test_split, GridSearchCV\\nfrom category_encoders import LeaveOneOutEncoder\\nfrom sklearn.compose import ColumnTransformer\\nfrom sklearn.pipeline import Pipeline\\nfrom sklearn.preprocessing import StandardScaler, MinMaxScaler\\nimport warnings\\nfrom functions_pkg import print_vif, predictions_df\\nfrom sklearn.metrics import (\\n    plot_confusion_matrix,\\n    plot_roc_curve,\\n    plot_precision_recall_curve,\\n    classification_report,\\n    confusion_matrix,\\n    precision_score,\\n    recall_score,\\n)\\nfrom sklearn.calibration import calibration_curve\";\n",
       "                var nbb_cells = Jupyter.notebook.get_cells();\n",
       "                for (var i = 0; i < nbb_cells.length; ++i) {\n",
       "                    if (nbb_cells[i].input_prompt_number == nbb_cell_id) {\n",
       "                        if (nbb_cells[i].get_text() == nbb_unformatted_code) {\n",
       "                             nbb_cells[i].set_text(nbb_formatted_code);\n",
       "                        }\n",
       "                        break;\n",
       "                    }\n",
       "                }\n",
       "            }, 500);\n",
       "            "
      ],
      "text/plain": [
       "<IPython.core.display.Javascript object>"
      ]
     },
     "metadata": {},
     "output_type": "display_data"
    }
   ],
   "source": [
    "%reload_ext nb_black\n",
    "import pandas as pd\n",
    "import numpy as np\n",
    "from matplotlib import pyplot as plt\n",
    "import plotly\n",
    "import seaborn as sns\n",
    "\n",
    "%matplotlib inline\n",
    "\n",
    "plt.style.use([\"dark_background\"])\n",
    "# %matplotlib ipympl\n",
    "\n",
    "from sklearn.svm import SVC\n",
    "from xgboost import XGBClassifier\n",
    "\n",
    "from sklearn.model_selection import train_test_split, GridSearchCV\n",
    "from category_encoders import LeaveOneOutEncoder\n",
    "from sklearn.compose import ColumnTransformer\n",
    "from sklearn.pipeline import Pipeline\n",
    "from sklearn.preprocessing import StandardScaler, MinMaxScaler\n",
    "import warnings\n",
    "from functions_pkg import print_vif, predictions_df\n",
    "from sklearn.metrics import (\n",
    "    plot_confusion_matrix,\n",
    "    plot_roc_curve,\n",
    "    plot_precision_recall_curve,\n",
    "    classification_report,\n",
    "    confusion_matrix,\n",
    "    precision_score,\n",
    "    recall_score,\n",
    ")\n",
    "from sklearn.calibration import calibration_curve"
   ]
  },
  {
   "cell_type": "markdown",
   "metadata": {},
   "source": [
    "* Categorical or continuous\n",
    "* 10,000+ samples\n",
    "* 20+ features"
   ]
  },
  {
   "cell_type": "markdown",
   "metadata": {},
   "source": [
    "age = days (int)"
   ]
  },
  {
   "cell_type": "code",
   "execution_count": 2,
   "metadata": {
    "deletable": false,
    "editable": false
   },
   "outputs": [
    {
     "data": {
      "application/javascript": [
       "\n",
       "            setTimeout(function() {\n",
       "                var nbb_cell_id = 2;\n",
       "                var nbb_unformatted_code = \"path = \\\"cardiovascular_disease_prediction/cardio_train.csv\\\"\\ndf = pd.read_csv(path, sep=\\\";\\\", index_col=\\\"id\\\")\";\n",
       "                var nbb_formatted_code = \"path = \\\"cardiovascular_disease_prediction/cardio_train.csv\\\"\\ndf = pd.read_csv(path, sep=\\\";\\\", index_col=\\\"id\\\")\";\n",
       "                var nbb_cells = Jupyter.notebook.get_cells();\n",
       "                for (var i = 0; i < nbb_cells.length; ++i) {\n",
       "                    if (nbb_cells[i].input_prompt_number == nbb_cell_id) {\n",
       "                        if (nbb_cells[i].get_text() == nbb_unformatted_code) {\n",
       "                             nbb_cells[i].set_text(nbb_formatted_code);\n",
       "                        }\n",
       "                        break;\n",
       "                    }\n",
       "                }\n",
       "            }, 500);\n",
       "            "
      ],
      "text/plain": [
       "<IPython.core.display.Javascript object>"
      ]
     },
     "metadata": {},
     "output_type": "display_data"
    }
   ],
   "source": [
    "path = \"cardiovascular_disease_prediction/cardio_train.csv\"\n",
    "df = pd.read_csv(path, sep=\";\", index_col=\"id\")"
   ]
  },
  {
   "cell_type": "code",
   "execution_count": 3,
   "metadata": {
    "scrolled": true
   },
   "outputs": [
    {
     "data": {
      "text/html": [
       "<div>\n",
       "<style scoped>\n",
       "    .dataframe tbody tr th:only-of-type {\n",
       "        vertical-align: middle;\n",
       "    }\n",
       "\n",
       "    .dataframe tbody tr th {\n",
       "        vertical-align: top;\n",
       "    }\n",
       "\n",
       "    .dataframe thead th {\n",
       "        text-align: right;\n",
       "    }\n",
       "</style>\n",
       "<table border=\"1\" class=\"dataframe\">\n",
       "  <thead>\n",
       "    <tr style=\"text-align: right;\">\n",
       "      <th></th>\n",
       "      <th>age</th>\n",
       "      <th>gender</th>\n",
       "      <th>height</th>\n",
       "      <th>weight</th>\n",
       "      <th>ap_hi</th>\n",
       "      <th>ap_lo</th>\n",
       "      <th>cholesterol</th>\n",
       "      <th>gluc</th>\n",
       "      <th>smoke</th>\n",
       "      <th>alco</th>\n",
       "      <th>active</th>\n",
       "      <th>cardio</th>\n",
       "    </tr>\n",
       "    <tr>\n",
       "      <th>id</th>\n",
       "      <th></th>\n",
       "      <th></th>\n",
       "      <th></th>\n",
       "      <th></th>\n",
       "      <th></th>\n",
       "      <th></th>\n",
       "      <th></th>\n",
       "      <th></th>\n",
       "      <th></th>\n",
       "      <th></th>\n",
       "      <th></th>\n",
       "      <th></th>\n",
       "    </tr>\n",
       "  </thead>\n",
       "  <tbody>\n",
       "    <tr>\n",
       "      <th>0</th>\n",
       "      <td>18393</td>\n",
       "      <td>2</td>\n",
       "      <td>168</td>\n",
       "      <td>62.0</td>\n",
       "      <td>110</td>\n",
       "      <td>80</td>\n",
       "      <td>1</td>\n",
       "      <td>1</td>\n",
       "      <td>0</td>\n",
       "      <td>0</td>\n",
       "      <td>1</td>\n",
       "      <td>0</td>\n",
       "    </tr>\n",
       "    <tr>\n",
       "      <th>1</th>\n",
       "      <td>20228</td>\n",
       "      <td>1</td>\n",
       "      <td>156</td>\n",
       "      <td>85.0</td>\n",
       "      <td>140</td>\n",
       "      <td>90</td>\n",
       "      <td>3</td>\n",
       "      <td>1</td>\n",
       "      <td>0</td>\n",
       "      <td>0</td>\n",
       "      <td>1</td>\n",
       "      <td>1</td>\n",
       "    </tr>\n",
       "    <tr>\n",
       "      <th>2</th>\n",
       "      <td>18857</td>\n",
       "      <td>1</td>\n",
       "      <td>165</td>\n",
       "      <td>64.0</td>\n",
       "      <td>130</td>\n",
       "      <td>70</td>\n",
       "      <td>3</td>\n",
       "      <td>1</td>\n",
       "      <td>0</td>\n",
       "      <td>0</td>\n",
       "      <td>0</td>\n",
       "      <td>1</td>\n",
       "    </tr>\n",
       "    <tr>\n",
       "      <th>3</th>\n",
       "      <td>17623</td>\n",
       "      <td>2</td>\n",
       "      <td>169</td>\n",
       "      <td>82.0</td>\n",
       "      <td>150</td>\n",
       "      <td>100</td>\n",
       "      <td>1</td>\n",
       "      <td>1</td>\n",
       "      <td>0</td>\n",
       "      <td>0</td>\n",
       "      <td>1</td>\n",
       "      <td>1</td>\n",
       "    </tr>\n",
       "    <tr>\n",
       "      <th>4</th>\n",
       "      <td>17474</td>\n",
       "      <td>1</td>\n",
       "      <td>156</td>\n",
       "      <td>56.0</td>\n",
       "      <td>100</td>\n",
       "      <td>60</td>\n",
       "      <td>1</td>\n",
       "      <td>1</td>\n",
       "      <td>0</td>\n",
       "      <td>0</td>\n",
       "      <td>0</td>\n",
       "      <td>0</td>\n",
       "    </tr>\n",
       "  </tbody>\n",
       "</table>\n",
       "</div>"
      ],
      "text/plain": [
       "      age  gender  height  weight  ap_hi  ap_lo  cholesterol  gluc  smoke  \\\n",
       "id                                                                          \n",
       "0   18393       2     168    62.0    110     80            1     1      0   \n",
       "1   20228       1     156    85.0    140     90            3     1      0   \n",
       "2   18857       1     165    64.0    130     70            3     1      0   \n",
       "3   17623       2     169    82.0    150    100            1     1      0   \n",
       "4   17474       1     156    56.0    100     60            1     1      0   \n",
       "\n",
       "    alco  active  cardio  \n",
       "id                        \n",
       "0      0       1       0  \n",
       "1      0       1       1  \n",
       "2      0       0       1  \n",
       "3      0       1       1  \n",
       "4      0       0       0  "
      ]
     },
     "execution_count": 3,
     "metadata": {},
     "output_type": "execute_result"
    },
    {
     "data": {
      "application/javascript": [
       "\n",
       "            setTimeout(function() {\n",
       "                var nbb_cell_id = 3;\n",
       "                var nbb_unformatted_code = \"df.head()\";\n",
       "                var nbb_formatted_code = \"df.head()\";\n",
       "                var nbb_cells = Jupyter.notebook.get_cells();\n",
       "                for (var i = 0; i < nbb_cells.length; ++i) {\n",
       "                    if (nbb_cells[i].input_prompt_number == nbb_cell_id) {\n",
       "                        if (nbb_cells[i].get_text() == nbb_unformatted_code) {\n",
       "                             nbb_cells[i].set_text(nbb_formatted_code);\n",
       "                        }\n",
       "                        break;\n",
       "                    }\n",
       "                }\n",
       "            }, 500);\n",
       "            "
      ],
      "text/plain": [
       "<IPython.core.display.Javascript object>"
      ]
     },
     "metadata": {},
     "output_type": "display_data"
    }
   ],
   "source": [
    "df.head()"
   ]
  },
  {
   "cell_type": "code",
   "execution_count": 4,
   "metadata": {},
   "outputs": [
    {
     "data": {
      "text/plain": [
       "Index(['age', 'gender', 'height', 'weight', 'ap_hi', 'ap_lo', 'cholesterol',\n",
       "       'gluc', 'smoke', 'alco', 'active', 'cardio'],\n",
       "      dtype='object')"
      ]
     },
     "execution_count": 4,
     "metadata": {},
     "output_type": "execute_result"
    },
    {
     "data": {
      "application/javascript": [
       "\n",
       "            setTimeout(function() {\n",
       "                var nbb_cell_id = 4;\n",
       "                var nbb_unformatted_code = \"df.columns\";\n",
       "                var nbb_formatted_code = \"df.columns\";\n",
       "                var nbb_cells = Jupyter.notebook.get_cells();\n",
       "                for (var i = 0; i < nbb_cells.length; ++i) {\n",
       "                    if (nbb_cells[i].input_prompt_number == nbb_cell_id) {\n",
       "                        if (nbb_cells[i].get_text() == nbb_unformatted_code) {\n",
       "                             nbb_cells[i].set_text(nbb_formatted_code);\n",
       "                        }\n",
       "                        break;\n",
       "                    }\n",
       "                }\n",
       "            }, 500);\n",
       "            "
      ],
      "text/plain": [
       "<IPython.core.display.Javascript object>"
      ]
     },
     "metadata": {},
     "output_type": "display_data"
    }
   ],
   "source": [
    "df.columns"
   ]
  },
  {
   "cell_type": "code",
   "execution_count": 5,
   "metadata": {
    "deletable": false,
    "editable": false
   },
   "outputs": [
    {
     "data": {
      "application/javascript": [
       "\n",
       "            setTimeout(function() {\n",
       "                var nbb_cell_id = 5;\n",
       "                var nbb_unformatted_code = \"# column renaming\\nmapping = {\\n    \\\"ap_hi\\\": \\\"bp_hi\\\",\\n    \\\"ap_lo\\\": \\\"bp_lo\\\",\\n    \\\"gluc\\\": \\\"glucose\\\",\\n    \\\"alco\\\": \\\"alcohol\\\",\\n    \\\"cardio\\\": \\\"disease\\\",\\n}\\n\\ndf = df.rename(columns=mapping)\";\n",
       "                var nbb_formatted_code = \"# column renaming\\nmapping = {\\n    \\\"ap_hi\\\": \\\"bp_hi\\\",\\n    \\\"ap_lo\\\": \\\"bp_lo\\\",\\n    \\\"gluc\\\": \\\"glucose\\\",\\n    \\\"alco\\\": \\\"alcohol\\\",\\n    \\\"cardio\\\": \\\"disease\\\",\\n}\\n\\ndf = df.rename(columns=mapping)\";\n",
       "                var nbb_cells = Jupyter.notebook.get_cells();\n",
       "                for (var i = 0; i < nbb_cells.length; ++i) {\n",
       "                    if (nbb_cells[i].input_prompt_number == nbb_cell_id) {\n",
       "                        if (nbb_cells[i].get_text() == nbb_unformatted_code) {\n",
       "                             nbb_cells[i].set_text(nbb_formatted_code);\n",
       "                        }\n",
       "                        break;\n",
       "                    }\n",
       "                }\n",
       "            }, 500);\n",
       "            "
      ],
      "text/plain": [
       "<IPython.core.display.Javascript object>"
      ]
     },
     "metadata": {},
     "output_type": "display_data"
    }
   ],
   "source": [
    "# column renaming\n",
    "mapping = {\n",
    "    \"ap_hi\": \"bp_hi\",\n",
    "    \"ap_lo\": \"bp_lo\",\n",
    "    \"gluc\": \"glucose\",\n",
    "    \"alco\": \"alcohol\",\n",
    "    \"cardio\": \"disease\",\n",
    "}\n",
    "\n",
    "df = df.rename(columns=mapping)"
   ]
  },
  {
   "cell_type": "code",
   "execution_count": 6,
   "metadata": {},
   "outputs": [
    {
     "data": {
      "text/plain": [
       "0    35021\n",
       "1    34979\n",
       "Name: disease, dtype: int64"
      ]
     },
     "execution_count": 6,
     "metadata": {},
     "output_type": "execute_result"
    },
    {
     "data": {
      "application/javascript": [
       "\n",
       "            setTimeout(function() {\n",
       "                var nbb_cell_id = 6;\n",
       "                var nbb_unformatted_code = \"df.disease.value_counts()\";\n",
       "                var nbb_formatted_code = \"df.disease.value_counts()\";\n",
       "                var nbb_cells = Jupyter.notebook.get_cells();\n",
       "                for (var i = 0; i < nbb_cells.length; ++i) {\n",
       "                    if (nbb_cells[i].input_prompt_number == nbb_cell_id) {\n",
       "                        if (nbb_cells[i].get_text() == nbb_unformatted_code) {\n",
       "                             nbb_cells[i].set_text(nbb_formatted_code);\n",
       "                        }\n",
       "                        break;\n",
       "                    }\n",
       "                }\n",
       "            }, 500);\n",
       "            "
      ],
      "text/plain": [
       "<IPython.core.display.Javascript object>"
      ]
     },
     "metadata": {},
     "output_type": "display_data"
    }
   ],
   "source": [
    "df.disease.value_counts()"
   ]
  },
  {
   "cell_type": "code",
   "execution_count": 7,
   "metadata": {},
   "outputs": [
    {
     "data": {
      "text/plain": [
       "disease        0.0\n",
       "active         0.0\n",
       "alcohol        0.0\n",
       "smoke          0.0\n",
       "glucose        0.0\n",
       "cholesterol    0.0\n",
       "bp_lo          0.0\n",
       "bp_hi          0.0\n",
       "weight         0.0\n",
       "height         0.0\n",
       "gender         0.0\n",
       "age            0.0\n",
       "dtype: float64"
      ]
     },
     "execution_count": 7,
     "metadata": {},
     "output_type": "execute_result"
    },
    {
     "data": {
      "application/javascript": [
       "\n",
       "            setTimeout(function() {\n",
       "                var nbb_cell_id = 7;\n",
       "                var nbb_unformatted_code = \"df.isna().mean().sort_values(ascending=False)\";\n",
       "                var nbb_formatted_code = \"df.isna().mean().sort_values(ascending=False)\";\n",
       "                var nbb_cells = Jupyter.notebook.get_cells();\n",
       "                for (var i = 0; i < nbb_cells.length; ++i) {\n",
       "                    if (nbb_cells[i].input_prompt_number == nbb_cell_id) {\n",
       "                        if (nbb_cells[i].get_text() == nbb_unformatted_code) {\n",
       "                             nbb_cells[i].set_text(nbb_formatted_code);\n",
       "                        }\n",
       "                        break;\n",
       "                    }\n",
       "                }\n",
       "            }, 500);\n",
       "            "
      ],
      "text/plain": [
       "<IPython.core.display.Javascript object>"
      ]
     },
     "metadata": {},
     "output_type": "display_data"
    }
   ],
   "source": [
    "df.isna().mean().sort_values(ascending=False)"
   ]
  },
  {
   "cell_type": "markdown",
   "metadata": {},
   "source": [
    "# Data Cleaning"
   ]
  },
  {
   "cell_type": "code",
   "execution_count": 8,
   "metadata": {
    "deletable": false,
    "editable": false
   },
   "outputs": [
    {
     "data": {
      "application/javascript": [
       "\n",
       "            setTimeout(function() {\n",
       "                var nbb_cell_id = 8;\n",
       "                var nbb_unformatted_code = \"# change gender to 0-1 binary\\ndf.loc[:, \\\"gender\\\"] = df.gender - 1\";\n",
       "                var nbb_formatted_code = \"# change gender to 0-1 binary\\ndf.loc[:, \\\"gender\\\"] = df.gender - 1\";\n",
       "                var nbb_cells = Jupyter.notebook.get_cells();\n",
       "                for (var i = 0; i < nbb_cells.length; ++i) {\n",
       "                    if (nbb_cells[i].input_prompt_number == nbb_cell_id) {\n",
       "                        if (nbb_cells[i].get_text() == nbb_unformatted_code) {\n",
       "                             nbb_cells[i].set_text(nbb_formatted_code);\n",
       "                        }\n",
       "                        break;\n",
       "                    }\n",
       "                }\n",
       "            }, 500);\n",
       "            "
      ],
      "text/plain": [
       "<IPython.core.display.Javascript object>"
      ]
     },
     "metadata": {},
     "output_type": "display_data"
    }
   ],
   "source": [
    "# change gender to 0-1 binary\n",
    "df.loc[:, \"gender\"] = df.gender - 1"
   ]
  },
  {
   "cell_type": "code",
   "execution_count": 9,
   "metadata": {
    "deletable": false,
    "editable": false
   },
   "outputs": [
    {
     "data": {
      "application/javascript": [
       "\n",
       "            setTimeout(function() {\n",
       "                var nbb_cell_id = 9;\n",
       "                var nbb_unformatted_code = \"# reduce interval in cholesterol & glucose from 1-3 to 0-2\\ndf.loc[:, \\\"cholesterol\\\"] = df.cholesterol - 1\\ndf.loc[:, \\\"glucose\\\"] = df.glucose - 1\";\n",
       "                var nbb_formatted_code = \"# reduce interval in cholesterol & glucose from 1-3 to 0-2\\ndf.loc[:, \\\"cholesterol\\\"] = df.cholesterol - 1\\ndf.loc[:, \\\"glucose\\\"] = df.glucose - 1\";\n",
       "                var nbb_cells = Jupyter.notebook.get_cells();\n",
       "                for (var i = 0; i < nbb_cells.length; ++i) {\n",
       "                    if (nbb_cells[i].input_prompt_number == nbb_cell_id) {\n",
       "                        if (nbb_cells[i].get_text() == nbb_unformatted_code) {\n",
       "                             nbb_cells[i].set_text(nbb_formatted_code);\n",
       "                        }\n",
       "                        break;\n",
       "                    }\n",
       "                }\n",
       "            }, 500);\n",
       "            "
      ],
      "text/plain": [
       "<IPython.core.display.Javascript object>"
      ]
     },
     "metadata": {},
     "output_type": "display_data"
    }
   ],
   "source": [
    "# reduce interval in cholesterol & glucose from 1-3 to 0-2\n",
    "df.loc[:, \"cholesterol\"] = df.cholesterol - 1\n",
    "df.loc[:, \"glucose\"] = df.glucose - 1"
   ]
  },
  {
   "cell_type": "code",
   "execution_count": 10,
   "metadata": {
    "deletable": false,
    "editable": false
   },
   "outputs": [
    {
     "data": {
      "application/javascript": [
       "\n",
       "            setTimeout(function() {\n",
       "                var nbb_cell_id = 10;\n",
       "                var nbb_unformatted_code = \"df[\\\"yrs\\\"] = df.age / 365\\ndf[\\\"height_in\\\"] = df.height / 2.54\\ndf[\\\"height_ft\\\"] = df.height / 30.48\";\n",
       "                var nbb_formatted_code = \"df[\\\"yrs\\\"] = df.age / 365\\ndf[\\\"height_in\\\"] = df.height / 2.54\\ndf[\\\"height_ft\\\"] = df.height / 30.48\";\n",
       "                var nbb_cells = Jupyter.notebook.get_cells();\n",
       "                for (var i = 0; i < nbb_cells.length; ++i) {\n",
       "                    if (nbb_cells[i].input_prompt_number == nbb_cell_id) {\n",
       "                        if (nbb_cells[i].get_text() == nbb_unformatted_code) {\n",
       "                             nbb_cells[i].set_text(nbb_formatted_code);\n",
       "                        }\n",
       "                        break;\n",
       "                    }\n",
       "                }\n",
       "            }, 500);\n",
       "            "
      ],
      "text/plain": [
       "<IPython.core.display.Javascript object>"
      ]
     },
     "metadata": {},
     "output_type": "display_data"
    }
   ],
   "source": [
    "df[\"yrs\"] = df.age / 365\n",
    "df[\"height_in\"] = df.height / 2.54\n",
    "df[\"height_ft\"] = df.height / 30.48"
   ]
  },
  {
   "cell_type": "markdown",
   "metadata": {},
   "source": [
    "# Exploration"
   ]
  },
  {
   "cell_type": "code",
   "execution_count": 11,
   "metadata": {},
   "outputs": [
    {
     "data": {
      "application/javascript": [
       "\n",
       "            setTimeout(function() {\n",
       "                var nbb_cell_id = 11;\n",
       "                var nbb_unformatted_code = \"num_cols = [\\\"age\\\", \\\"bp_hi\\\", \\\"bp_lo\\\", \\\"bp_diff\\\", \\\"bmi\\\"]\";\n",
       "                var nbb_formatted_code = \"num_cols = [\\\"age\\\", \\\"bp_hi\\\", \\\"bp_lo\\\", \\\"bp_diff\\\", \\\"bmi\\\"]\";\n",
       "                var nbb_cells = Jupyter.notebook.get_cells();\n",
       "                for (var i = 0; i < nbb_cells.length; ++i) {\n",
       "                    if (nbb_cells[i].input_prompt_number == nbb_cell_id) {\n",
       "                        if (nbb_cells[i].get_text() == nbb_unformatted_code) {\n",
       "                             nbb_cells[i].set_text(nbb_formatted_code);\n",
       "                        }\n",
       "                        break;\n",
       "                    }\n",
       "                }\n",
       "            }, 500);\n",
       "            "
      ],
      "text/plain": [
       "<IPython.core.display.Javascript object>"
      ]
     },
     "metadata": {},
     "output_type": "display_data"
    }
   ],
   "source": [
    "num_cols = [\"age\", \"bp_hi\", \"bp_lo\", \"bp_diff\", \"bmi\"]\n"
   ]
  },
  {
   "cell_type": "code",
   "execution_count": 12,
   "metadata": {},
   "outputs": [
    {
     "data": {
      "application/javascript": [
       "\n",
       "            setTimeout(function() {\n",
       "                var nbb_cell_id = 12;\n",
       "                var nbb_unformatted_code = \"# blood pressure difference column\\ndf[\\\"bp_diff\\\"] = df.bp_hi - df.bp_lo\\n\\n# BMI column to replace height and weight\\n# bmi = weight (kgs) / (height (m))^2\\ndf[\\\"bmi\\\"] = df.weight / (df.height / 100) ** 2\";\n",
       "                var nbb_formatted_code = \"# blood pressure difference column\\ndf[\\\"bp_diff\\\"] = df.bp_hi - df.bp_lo\\n\\n# BMI column to replace height and weight\\n# bmi = weight (kgs) / (height (m))^2\\ndf[\\\"bmi\\\"] = df.weight / (df.height / 100) ** 2\";\n",
       "                var nbb_cells = Jupyter.notebook.get_cells();\n",
       "                for (var i = 0; i < nbb_cells.length; ++i) {\n",
       "                    if (nbb_cells[i].input_prompt_number == nbb_cell_id) {\n",
       "                        if (nbb_cells[i].get_text() == nbb_unformatted_code) {\n",
       "                             nbb_cells[i].set_text(nbb_formatted_code);\n",
       "                        }\n",
       "                        break;\n",
       "                    }\n",
       "                }\n",
       "            }, 500);\n",
       "            "
      ],
      "text/plain": [
       "<IPython.core.display.Javascript object>"
      ]
     },
     "metadata": {},
     "output_type": "display_data"
    }
   ],
   "source": [
    "# blood pressure difference column\n",
    "df[\"bp_diff\"] = df.bp_hi - df.bp_lo\n",
    "\n",
    "# BMI column to replace height and weight\n",
    "# bmi = weight (kgs) / (height (m))^2\n",
    "df[\"bmi\"] = df.weight / (df.height / 100) ** 2"
   ]
  },
  {
   "cell_type": "markdown",
   "metadata": {},
   "source": [
    "## Data errors"
   ]
  },
  {
   "cell_type": "markdown",
   "metadata": {},
   "source": [
    "### BP value errors"
   ]
  },
  {
   "cell_type": "code",
   "execution_count": 13,
   "metadata": {},
   "outputs": [
    {
     "data": {
      "application/javascript": [
       "\n",
       "            setTimeout(function() {\n",
       "                var nbb_cell_id = 13;\n",
       "                var nbb_unformatted_code = \"# changing the value of the negative bp_lo samples to absolute value\\ndf.loc[df.bp_lo < 0, \\\"bp_lo\\\"] = abs(df.loc[df.bp_lo < 0, \\\"bp_lo\\\"])\";\n",
       "                var nbb_formatted_code = \"# changing the value of the negative bp_lo samples to absolute value\\ndf.loc[df.bp_lo < 0, \\\"bp_lo\\\"] = abs(df.loc[df.bp_lo < 0, \\\"bp_lo\\\"])\";\n",
       "                var nbb_cells = Jupyter.notebook.get_cells();\n",
       "                for (var i = 0; i < nbb_cells.length; ++i) {\n",
       "                    if (nbb_cells[i].input_prompt_number == nbb_cell_id) {\n",
       "                        if (nbb_cells[i].get_text() == nbb_unformatted_code) {\n",
       "                             nbb_cells[i].set_text(nbb_formatted_code);\n",
       "                        }\n",
       "                        break;\n",
       "                    }\n",
       "                }\n",
       "            }, 500);\n",
       "            "
      ],
      "text/plain": [
       "<IPython.core.display.Javascript object>"
      ]
     },
     "metadata": {},
     "output_type": "display_data"
    }
   ],
   "source": [
    "# changing the value of the negative bp_lo samples to absolute value\n",
    "df.loc[df.bp_lo < 0, \"bp_lo\"] = abs(df.loc[df.bp_lo < 0, \"bp_lo\"])"
   ]
  },
  {
   "cell_type": "code",
   "execution_count": 14,
   "metadata": {},
   "outputs": [
    {
     "data": {
      "application/javascript": [
       "\n",
       "            setTimeout(function() {\n",
       "                var nbb_cell_id = 14;\n",
       "                var nbb_unformatted_code = \"# samples with bp_hi < 0 ~ entry error with negative val\\ndf.loc[df.bp_hi < 0, \\\"bp_hi\\\"] = abs(df.loc[df.bp_hi < 0, \\\"bp_hi\\\"])\";\n",
       "                var nbb_formatted_code = \"# samples with bp_hi < 0 ~ entry error with negative val\\ndf.loc[df.bp_hi < 0, \\\"bp_hi\\\"] = abs(df.loc[df.bp_hi < 0, \\\"bp_hi\\\"])\";\n",
       "                var nbb_cells = Jupyter.notebook.get_cells();\n",
       "                for (var i = 0; i < nbb_cells.length; ++i) {\n",
       "                    if (nbb_cells[i].input_prompt_number == nbb_cell_id) {\n",
       "                        if (nbb_cells[i].get_text() == nbb_unformatted_code) {\n",
       "                             nbb_cells[i].set_text(nbb_formatted_code);\n",
       "                        }\n",
       "                        break;\n",
       "                    }\n",
       "                }\n",
       "            }, 500);\n",
       "            "
      ],
      "text/plain": [
       "<IPython.core.display.Javascript object>"
      ]
     },
     "metadata": {},
     "output_type": "display_data"
    }
   ],
   "source": [
    "# samples with bp_hi < 0 ~ entry error with negative val\n",
    "df.loc[df.bp_hi < 0, \"bp_hi\"] = abs(df.loc[df.bp_hi < 0, \"bp_hi\"])"
   ]
  },
  {
   "cell_type": "code",
   "execution_count": 15,
   "metadata": {},
   "outputs": [
    {
     "data": {
      "application/javascript": [
       "\n",
       "            setTimeout(function() {\n",
       "                var nbb_cell_id = 15;\n",
       "                var nbb_unformatted_code = \"# correcting sample bp_hi vals\\ndf.loc[df.bp_hi == 902, \\\"bp_hi\\\"] = 90\\ndf.loc[df.bp_hi == 906, \\\"bp_lo\\\"] = 60\\ndf.loc[df.bp_hi == 906, \\\"bp_hi\\\"] = 90\\ndf.loc[df.bp_hi == 909, \\\"bp_hi\\\"] = 90\";\n",
       "                var nbb_formatted_code = \"# correcting sample bp_hi vals\\ndf.loc[df.bp_hi == 902, \\\"bp_hi\\\"] = 90\\ndf.loc[df.bp_hi == 906, \\\"bp_lo\\\"] = 60\\ndf.loc[df.bp_hi == 906, \\\"bp_hi\\\"] = 90\\ndf.loc[df.bp_hi == 909, \\\"bp_hi\\\"] = 90\";\n",
       "                var nbb_cells = Jupyter.notebook.get_cells();\n",
       "                for (var i = 0; i < nbb_cells.length; ++i) {\n",
       "                    if (nbb_cells[i].input_prompt_number == nbb_cell_id) {\n",
       "                        if (nbb_cells[i].get_text() == nbb_unformatted_code) {\n",
       "                             nbb_cells[i].set_text(nbb_formatted_code);\n",
       "                        }\n",
       "                        break;\n",
       "                    }\n",
       "                }\n",
       "            }, 500);\n",
       "            "
      ],
      "text/plain": [
       "<IPython.core.display.Javascript object>"
      ]
     },
     "metadata": {},
     "output_type": "display_data"
    }
   ],
   "source": [
    "# correcting sample bp_hi vals\n",
    "df.loc[df.bp_hi == 902, \"bp_hi\"] = 90\n",
    "df.loc[df.bp_hi == 906, \"bp_lo\"] = 60\n",
    "df.loc[df.bp_hi == 906, \"bp_hi\"] = 90\n",
    "df.loc[df.bp_hi == 909, \"bp_hi\"] = 90"
   ]
  },
  {
   "cell_type": "code",
   "execution_count": 16,
   "metadata": {},
   "outputs": [
    {
     "data": {
      "application/javascript": [
       "\n",
       "            setTimeout(function() {\n",
       "                var nbb_cell_id = 16;\n",
       "                var nbb_unformatted_code = \"# correcting sample bp_hi and bp_lo errors\\ndf.loc[df.bp_hi == 907, \\\"bp_lo\\\"] = 70\\ndf.loc[df.bp_hi == 907, \\\"bp_hi\\\"] = 90\\ndf.loc[df.bp_hi == 806, \\\"bp_lo\\\"] = 60\\ndf.loc[df.bp_hi == 806, \\\"bp_hi\\\"] = 80\\ndf.loc[df.bp_hi == 960, \\\"bp_hi\\\"] = 90\";\n",
       "                var nbb_formatted_code = \"# correcting sample bp_hi and bp_lo errors\\ndf.loc[df.bp_hi == 907, \\\"bp_lo\\\"] = 70\\ndf.loc[df.bp_hi == 907, \\\"bp_hi\\\"] = 90\\ndf.loc[df.bp_hi == 806, \\\"bp_lo\\\"] = 60\\ndf.loc[df.bp_hi == 806, \\\"bp_hi\\\"] = 80\\ndf.loc[df.bp_hi == 960, \\\"bp_hi\\\"] = 90\";\n",
       "                var nbb_cells = Jupyter.notebook.get_cells();\n",
       "                for (var i = 0; i < nbb_cells.length; ++i) {\n",
       "                    if (nbb_cells[i].input_prompt_number == nbb_cell_id) {\n",
       "                        if (nbb_cells[i].get_text() == nbb_unformatted_code) {\n",
       "                             nbb_cells[i].set_text(nbb_formatted_code);\n",
       "                        }\n",
       "                        break;\n",
       "                    }\n",
       "                }\n",
       "            }, 500);\n",
       "            "
      ],
      "text/plain": [
       "<IPython.core.display.Javascript object>"
      ]
     },
     "metadata": {},
     "output_type": "display_data"
    }
   ],
   "source": [
    "# correcting sample bp_hi and bp_lo errors\n",
    "df.loc[df.bp_hi == 907, \"bp_lo\"] = 70\n",
    "df.loc[df.bp_hi == 907, \"bp_hi\"] = 90\n",
    "df.loc[df.bp_hi == 806, \"bp_lo\"] = 60\n",
    "df.loc[df.bp_hi == 806, \"bp_hi\"] = 80\n",
    "df.loc[df.bp_hi == 960, \"bp_hi\"] = 90"
   ]
  },
  {
   "cell_type": "code",
   "execution_count": 17,
   "metadata": {},
   "outputs": [
    {
     "data": {
      "application/javascript": [
       "\n",
       "            setTimeout(function() {\n",
       "                var nbb_cell_id = 17;\n",
       "                var nbb_unformatted_code = \"# correcting sample bp_hi vals over 1000\\ndf.loc[df.bp_hi > 1000, \\\"bp_hi\\\"] = (df[df.bp_hi > 1000].bp_hi) / 10\\n\\n# correcting sample bp_hi vals over 10,000\\ndf.loc[df.bp_hi > 1000, \\\"bp_hi\\\"] = (df[df.bp_hi > 1000].bp_hi) / 10\";\n",
       "                var nbb_formatted_code = \"# correcting sample bp_hi vals over 1000\\ndf.loc[df.bp_hi > 1000, \\\"bp_hi\\\"] = (df[df.bp_hi > 1000].bp_hi) / 10\\n\\n# correcting sample bp_hi vals over 10,000\\ndf.loc[df.bp_hi > 1000, \\\"bp_hi\\\"] = (df[df.bp_hi > 1000].bp_hi) / 10\";\n",
       "                var nbb_cells = Jupyter.notebook.get_cells();\n",
       "                for (var i = 0; i < nbb_cells.length; ++i) {\n",
       "                    if (nbb_cells[i].input_prompt_number == nbb_cell_id) {\n",
       "                        if (nbb_cells[i].get_text() == nbb_unformatted_code) {\n",
       "                             nbb_cells[i].set_text(nbb_formatted_code);\n",
       "                        }\n",
       "                        break;\n",
       "                    }\n",
       "                }\n",
       "            }, 500);\n",
       "            "
      ],
      "text/plain": [
       "<IPython.core.display.Javascript object>"
      ]
     },
     "metadata": {},
     "output_type": "display_data"
    }
   ],
   "source": [
    "# correcting sample bp_hi vals over 1000\n",
    "df.loc[df.bp_hi > 1000, \"bp_hi\"] = (df[df.bp_hi > 1000].bp_hi) / 10\n",
    "\n",
    "# correcting sample bp_hi vals over 10,000\n",
    "df.loc[df.bp_hi > 1000, \"bp_hi\"] = (df[df.bp_hi > 1000].bp_hi) / 10"
   ]
  },
  {
   "cell_type": "code",
   "execution_count": 18,
   "metadata": {},
   "outputs": [
    {
     "data": {
      "application/javascript": [
       "\n",
       "            setTimeout(function() {\n",
       "                var nbb_cell_id = 18;\n",
       "                var nbb_unformatted_code = \"df.loc[df.bp_hi < 20, \\\"bp_hi\\\"] = (df[df.bp_hi < 20].bp_hi) * 10\";\n",
       "                var nbb_formatted_code = \"df.loc[df.bp_hi < 20, \\\"bp_hi\\\"] = (df[df.bp_hi < 20].bp_hi) * 10\";\n",
       "                var nbb_cells = Jupyter.notebook.get_cells();\n",
       "                for (var i = 0; i < nbb_cells.length; ++i) {\n",
       "                    if (nbb_cells[i].input_prompt_number == nbb_cell_id) {\n",
       "                        if (nbb_cells[i].get_text() == nbb_unformatted_code) {\n",
       "                             nbb_cells[i].set_text(nbb_formatted_code);\n",
       "                        }\n",
       "                        break;\n",
       "                    }\n",
       "                }\n",
       "            }, 500);\n",
       "            "
      ],
      "text/plain": [
       "<IPython.core.display.Javascript object>"
      ]
     },
     "metadata": {},
     "output_type": "display_data"
    }
   ],
   "source": [
    "df.loc[df.bp_hi < 20, \"bp_hi\"] = (df[df.bp_hi < 20].bp_hi) * 10"
   ]
  },
  {
   "cell_type": "code",
   "execution_count": 19,
   "metadata": {
    "scrolled": true
   },
   "outputs": [
    {
     "data": {
      "text/plain": [
       "1234"
      ]
     },
     "execution_count": 19,
     "metadata": {},
     "output_type": "execute_result"
    },
    {
     "data": {
      "application/javascript": [
       "\n",
       "            setTimeout(function() {\n",
       "                var nbb_cell_id = 19;\n",
       "                var nbb_unformatted_code = \"df[df.bp_diff < 0].count()[1]\";\n",
       "                var nbb_formatted_code = \"df[df.bp_diff < 0].count()[1]\";\n",
       "                var nbb_cells = Jupyter.notebook.get_cells();\n",
       "                for (var i = 0; i < nbb_cells.length; ++i) {\n",
       "                    if (nbb_cells[i].input_prompt_number == nbb_cell_id) {\n",
       "                        if (nbb_cells[i].get_text() == nbb_unformatted_code) {\n",
       "                             nbb_cells[i].set_text(nbb_formatted_code);\n",
       "                        }\n",
       "                        break;\n",
       "                    }\n",
       "                }\n",
       "            }, 500);\n",
       "            "
      ],
      "text/plain": [
       "<IPython.core.display.Javascript object>"
      ]
     },
     "metadata": {},
     "output_type": "display_data"
    }
   ],
   "source": [
    "df[df.bp_diff < 0].count()[1]"
   ]
  },
  {
   "cell_type": "markdown",
   "metadata": {},
   "source": [
    "> there are 1234 samples with a negative bp_diff; data entry error"
   ]
  },
  {
   "cell_type": "code",
   "execution_count": 20,
   "metadata": {},
   "outputs": [
    {
     "data": {
      "text/plain": [
       "953"
      ]
     },
     "execution_count": 20,
     "metadata": {},
     "output_type": "execute_result"
    },
    {
     "data": {
      "application/javascript": [
       "\n",
       "            setTimeout(function() {\n",
       "                var nbb_cell_id = 20;\n",
       "                var nbb_unformatted_code = \"# 963 samples with bp_lo > 400\\ndf[df.bp_lo > 400].count()[1]\";\n",
       "                var nbb_formatted_code = \"# 963 samples with bp_lo > 400\\ndf[df.bp_lo > 400].count()[1]\";\n",
       "                var nbb_cells = Jupyter.notebook.get_cells();\n",
       "                for (var i = 0; i < nbb_cells.length; ++i) {\n",
       "                    if (nbb_cells[i].input_prompt_number == nbb_cell_id) {\n",
       "                        if (nbb_cells[i].get_text() == nbb_unformatted_code) {\n",
       "                             nbb_cells[i].set_text(nbb_formatted_code);\n",
       "                        }\n",
       "                        break;\n",
       "                    }\n",
       "                }\n",
       "            }, 500);\n",
       "            "
      ],
      "text/plain": [
       "<IPython.core.display.Javascript object>"
      ]
     },
     "metadata": {},
     "output_type": "display_data"
    }
   ],
   "source": [
    "# 963 samples with bp_lo > 400\n",
    "df[df.bp_lo > 400].count()[1]"
   ]
  },
  {
   "cell_type": "code",
   "execution_count": 21,
   "metadata": {},
   "outputs": [
    {
     "data": {
      "application/javascript": [
       "\n",
       "            setTimeout(function() {\n",
       "                var nbb_cell_id = 21;\n",
       "                var nbb_unformatted_code = \"# correcting sample bp_lo vals over 500+\\ndf.loc[df.bp_lo > 500, \\\"bp_lo\\\"] = (df[df.bp_lo > 500].bp_lo) / 10\\n\\ndf.loc[df.bp_lo > 500, \\\"bp_lo\\\"] = (df[df.bp_lo > 500].bp_lo) / 10\";\n",
       "                var nbb_formatted_code = \"# correcting sample bp_lo vals over 500+\\ndf.loc[df.bp_lo > 500, \\\"bp_lo\\\"] = (df[df.bp_lo > 500].bp_lo) / 10\\n\\ndf.loc[df.bp_lo > 500, \\\"bp_lo\\\"] = (df[df.bp_lo > 500].bp_lo) / 10\";\n",
       "                var nbb_cells = Jupyter.notebook.get_cells();\n",
       "                for (var i = 0; i < nbb_cells.length; ++i) {\n",
       "                    if (nbb_cells[i].input_prompt_number == nbb_cell_id) {\n",
       "                        if (nbb_cells[i].get_text() == nbb_unformatted_code) {\n",
       "                             nbb_cells[i].set_text(nbb_formatted_code);\n",
       "                        }\n",
       "                        break;\n",
       "                    }\n",
       "                }\n",
       "            }, 500);\n",
       "            "
      ],
      "text/plain": [
       "<IPython.core.display.Javascript object>"
      ]
     },
     "metadata": {},
     "output_type": "display_data"
    }
   ],
   "source": [
    "# correcting sample bp_lo vals over 500+\n",
    "df.loc[df.bp_lo > 500, \"bp_lo\"] = (df[df.bp_lo > 500].bp_lo) / 10\n",
    "\n",
    "df.loc[df.bp_lo > 500, \"bp_lo\"] = (df[df.bp_lo > 500].bp_lo) / 10\n"
   ]
  },
  {
   "cell_type": "code",
   "execution_count": 22,
   "metadata": {},
   "outputs": [
    {
     "data": {
      "text/plain": [
       "1234"
      ]
     },
     "execution_count": 22,
     "metadata": {},
     "output_type": "execute_result"
    },
    {
     "data": {
      "application/javascript": [
       "\n",
       "            setTimeout(function() {\n",
       "                var nbb_cell_id = 22;\n",
       "                var nbb_unformatted_code = \"# count of blood pressure differences below 0\\ndf[df.bp_diff < 0].count()[1]\";\n",
       "                var nbb_formatted_code = \"# count of blood pressure differences below 0\\ndf[df.bp_diff < 0].count()[1]\";\n",
       "                var nbb_cells = Jupyter.notebook.get_cells();\n",
       "                for (var i = 0; i < nbb_cells.length; ++i) {\n",
       "                    if (nbb_cells[i].input_prompt_number == nbb_cell_id) {\n",
       "                        if (nbb_cells[i].get_text() == nbb_unformatted_code) {\n",
       "                             nbb_cells[i].set_text(nbb_formatted_code);\n",
       "                        }\n",
       "                        break;\n",
       "                    }\n",
       "                }\n",
       "            }, 500);\n",
       "            "
      ],
      "text/plain": [
       "<IPython.core.display.Javascript object>"
      ]
     },
     "metadata": {},
     "output_type": "display_data"
    }
   ],
   "source": [
    "# count of blood pressure differences below 0\n",
    "df[df.bp_diff < 0].count()[1]"
   ]
  },
  {
   "cell_type": "code",
   "execution_count": 23,
   "metadata": {},
   "outputs": [
    {
     "data": {
      "application/javascript": [
       "\n",
       "            setTimeout(function() {\n",
       "                var nbb_cell_id = 23;\n",
       "                var nbb_unformatted_code = \"# fixing bp_hi value errors most likely due to a 1 being dropped from the beginning\\ndf.loc[((df.bp_diff < 0) & (df.bp_hi < 100)), \\\"bp_hi\\\"] = (\\n    df[(df.bp_diff < 0) & (df.bp_hi < 100)].bp_hi\\n) + 100\";\n",
       "                var nbb_formatted_code = \"# fixing bp_hi value errors most likely due to a 1 being dropped from the beginning\\ndf.loc[((df.bp_diff < 0) & (df.bp_hi < 100)), \\\"bp_hi\\\"] = (\\n    df[(df.bp_diff < 0) & (df.bp_hi < 100)].bp_hi\\n) + 100\";\n",
       "                var nbb_cells = Jupyter.notebook.get_cells();\n",
       "                for (var i = 0; i < nbb_cells.length; ++i) {\n",
       "                    if (nbb_cells[i].input_prompt_number == nbb_cell_id) {\n",
       "                        if (nbb_cells[i].get_text() == nbb_unformatted_code) {\n",
       "                             nbb_cells[i].set_text(nbb_formatted_code);\n",
       "                        }\n",
       "                        break;\n",
       "                    }\n",
       "                }\n",
       "            }, 500);\n",
       "            "
      ],
      "text/plain": [
       "<IPython.core.display.Javascript object>"
      ]
     },
     "metadata": {},
     "output_type": "display_data"
    }
   ],
   "source": [
    "# fixing bp_hi value errors most likely due to a 1 being dropped from the beginning\n",
    "df.loc[((df.bp_diff < 0) & (df.bp_hi < 100)), \"bp_hi\"] = (\n",
    "    df[(df.bp_diff < 0) & (df.bp_hi < 100)].bp_hi\n",
    ") + 100"
   ]
  },
  {
   "cell_type": "code",
   "execution_count": 24,
   "metadata": {},
   "outputs": [
    {
     "data": {
      "application/javascript": [
       "\n",
       "            setTimeout(function() {\n",
       "                var nbb_cell_id = 24;\n",
       "                var nbb_unformatted_code = \"hi_vals = df.loc[df.bp_diff < 0, \\\"bp_hi\\\"].copy()\\nlo_vals = df.loc[df.bp_diff < 0, \\\"bp_lo\\\"].copy()\\n\\ndf.loc[df.bp_diff < 0, \\\"bp_hi\\\"] = lo_vals\\ndf.loc[df.bp_diff < 0, \\\"bp_lo\\\"] = hi_vals\";\n",
       "                var nbb_formatted_code = \"hi_vals = df.loc[df.bp_diff < 0, \\\"bp_hi\\\"].copy()\\nlo_vals = df.loc[df.bp_diff < 0, \\\"bp_lo\\\"].copy()\\n\\ndf.loc[df.bp_diff < 0, \\\"bp_hi\\\"] = lo_vals\\ndf.loc[df.bp_diff < 0, \\\"bp_lo\\\"] = hi_vals\";\n",
       "                var nbb_cells = Jupyter.notebook.get_cells();\n",
       "                for (var i = 0; i < nbb_cells.length; ++i) {\n",
       "                    if (nbb_cells[i].input_prompt_number == nbb_cell_id) {\n",
       "                        if (nbb_cells[i].get_text() == nbb_unformatted_code) {\n",
       "                             nbb_cells[i].set_text(nbb_formatted_code);\n",
       "                        }\n",
       "                        break;\n",
       "                    }\n",
       "                }\n",
       "            }, 500);\n",
       "            "
      ],
      "text/plain": [
       "<IPython.core.display.Javascript object>"
      ]
     },
     "metadata": {},
     "output_type": "display_data"
    }
   ],
   "source": [
    "hi_vals = df.loc[df.bp_diff < 0, \"bp_hi\"].copy()\n",
    "lo_vals = df.loc[df.bp_diff < 0, \"bp_lo\"].copy()\n",
    "\n",
    "df.loc[df.bp_diff < 0, \"bp_hi\"] = lo_vals\n",
    "df.loc[df.bp_diff < 0, \"bp_lo\"] = hi_vals"
   ]
  },
  {
   "cell_type": "code",
   "execution_count": 25,
   "metadata": {},
   "outputs": [
    {
     "data": {
      "application/javascript": [
       "\n",
       "            setTimeout(function() {\n",
       "                var nbb_cell_id = 25;\n",
       "                var nbb_unformatted_code = \"# df.loc[df.bp_diff > 250, \\\"bp_hi\\\"]\\ndf.loc[df.bp_lo == 10, \\\"bp_lo\\\"] = 100\";\n",
       "                var nbb_formatted_code = \"# df.loc[df.bp_diff > 250, \\\"bp_hi\\\"]\\ndf.loc[df.bp_lo == 10, \\\"bp_lo\\\"] = 100\";\n",
       "                var nbb_cells = Jupyter.notebook.get_cells();\n",
       "                for (var i = 0; i < nbb_cells.length; ++i) {\n",
       "                    if (nbb_cells[i].input_prompt_number == nbb_cell_id) {\n",
       "                        if (nbb_cells[i].get_text() == nbb_unformatted_code) {\n",
       "                             nbb_cells[i].set_text(nbb_formatted_code);\n",
       "                        }\n",
       "                        break;\n",
       "                    }\n",
       "                }\n",
       "            }, 500);\n",
       "            "
      ],
      "text/plain": [
       "<IPython.core.display.Javascript object>"
      ]
     },
     "metadata": {},
     "output_type": "display_data"
    }
   ],
   "source": [
    "# df.loc[df.bp_diff > 250, \"bp_hi\"]\n",
    "df.loc[df.bp_lo == 10, \"bp_lo\"] = 100"
   ]
  },
  {
   "cell_type": "code",
   "execution_count": 26,
   "metadata": {},
   "outputs": [
    {
     "data": {
      "application/javascript": [
       "\n",
       "            setTimeout(function() {\n",
       "                var nbb_cell_id = 26;\n",
       "                var nbb_unformatted_code = \"# fixing data error at index 57646\\ndf.loc[df.bp_hi == 309, \\\"bp_lo\\\"] = 90\\ndf.loc[df.bp_hi == 309, \\\"bp_hi\\\"] = 130\";\n",
       "                var nbb_formatted_code = \"# fixing data error at index 57646\\ndf.loc[df.bp_hi == 309, \\\"bp_lo\\\"] = 90\\ndf.loc[df.bp_hi == 309, \\\"bp_hi\\\"] = 130\";\n",
       "                var nbb_cells = Jupyter.notebook.get_cells();\n",
       "                for (var i = 0; i < nbb_cells.length; ++i) {\n",
       "                    if (nbb_cells[i].input_prompt_number == nbb_cell_id) {\n",
       "                        if (nbb_cells[i].get_text() == nbb_unformatted_code) {\n",
       "                             nbb_cells[i].set_text(nbb_formatted_code);\n",
       "                        }\n",
       "                        break;\n",
       "                    }\n",
       "                }\n",
       "            }, 500);\n",
       "            "
      ],
      "text/plain": [
       "<IPython.core.display.Javascript object>"
      ]
     },
     "metadata": {},
     "output_type": "display_data"
    }
   ],
   "source": [
    "# fixing data error at index 57646\n",
    "df.loc[df.bp_hi == 309, \"bp_lo\"] = 90\n",
    "df.loc[df.bp_hi == 309, \"bp_hi\"] = 130"
   ]
  },
  {
   "cell_type": "code",
   "execution_count": 27,
   "metadata": {},
   "outputs": [
    {
     "data": {
      "application/javascript": [
       "\n",
       "            setTimeout(function() {\n",
       "                var nbb_cell_id = 27;\n",
       "                var nbb_unformatted_code = \"# fixing data error at index 82269\\ndf.loc[[82269], \\\"bp_lo\\\"] = 120\";\n",
       "                var nbb_formatted_code = \"# fixing data error at index 82269\\ndf.loc[[82269], \\\"bp_lo\\\"] = 120\";\n",
       "                var nbb_cells = Jupyter.notebook.get_cells();\n",
       "                for (var i = 0; i < nbb_cells.length; ++i) {\n",
       "                    if (nbb_cells[i].input_prompt_number == nbb_cell_id) {\n",
       "                        if (nbb_cells[i].get_text() == nbb_unformatted_code) {\n",
       "                             nbb_cells[i].set_text(nbb_formatted_code);\n",
       "                        }\n",
       "                        break;\n",
       "                    }\n",
       "                }\n",
       "            }, 500);\n",
       "            "
      ],
      "text/plain": [
       "<IPython.core.display.Javascript object>"
      ]
     },
     "metadata": {},
     "output_type": "display_data"
    }
   ],
   "source": [
    "# fixing data error at index 82269\n",
    "df.loc[[82269], \"bp_lo\"] = 120"
   ]
  },
  {
   "cell_type": "code",
   "execution_count": 28,
   "metadata": {},
   "outputs": [
    {
     "data": {
      "text/plain": [
       "count    70000.000000\n",
       "mean        82.522857\n",
       "std         13.681051\n",
       "min          0.000000\n",
       "25%         80.000000\n",
       "50%         80.000000\n",
       "75%         90.000000\n",
       "max        220.000000\n",
       "Name: bp_lo, dtype: float64"
      ]
     },
     "execution_count": 28,
     "metadata": {},
     "output_type": "execute_result"
    },
    {
     "data": {
      "application/javascript": [
       "\n",
       "            setTimeout(function() {\n",
       "                var nbb_cell_id = 28;\n",
       "                var nbb_unformatted_code = \"# there are still bp_lo vals = 0\\ndf.bp_lo.describe()\";\n",
       "                var nbb_formatted_code = \"# there are still bp_lo vals = 0\\ndf.bp_lo.describe()\";\n",
       "                var nbb_cells = Jupyter.notebook.get_cells();\n",
       "                for (var i = 0; i < nbb_cells.length; ++i) {\n",
       "                    if (nbb_cells[i].input_prompt_number == nbb_cell_id) {\n",
       "                        if (nbb_cells[i].get_text() == nbb_unformatted_code) {\n",
       "                             nbb_cells[i].set_text(nbb_formatted_code);\n",
       "                        }\n",
       "                        break;\n",
       "                    }\n",
       "                }\n",
       "            }, 500);\n",
       "            "
      ],
      "text/plain": [
       "<IPython.core.display.Javascript object>"
      ]
     },
     "metadata": {},
     "output_type": "display_data"
    }
   ],
   "source": [
    "# there are still bp_lo vals = 0\n",
    "df.bp_lo.describe()"
   ]
  },
  {
   "cell_type": "code",
   "execution_count": 29,
   "metadata": {
    "scrolled": true
   },
   "outputs": [
    {
     "data": {
      "application/javascript": [
       "\n",
       "            setTimeout(function() {\n",
       "                var nbb_cell_id = 29;\n",
       "                var nbb_unformatted_code = \"drop_idx = []\\ndrop_idx.append(df[(df.bmi > 100) & (df.height < 80)].index)\\ndrop_idx.append(df[(df.bp_lo == 0) & (df.bp_hi % 10 != 0)].index)\\nidx = df[(df.bp_lo == 0) & (df.bp_hi % 10 != 0)].index\\ndf = df.drop(index=idx)\";\n",
       "                var nbb_formatted_code = \"drop_idx = []\\ndrop_idx.append(df[(df.bmi > 100) & (df.height < 80)].index)\\ndrop_idx.append(df[(df.bp_lo == 0) & (df.bp_hi % 10 != 0)].index)\\nidx = df[(df.bp_lo == 0) & (df.bp_hi % 10 != 0)].index\\ndf = df.drop(index=idx)\";\n",
       "                var nbb_cells = Jupyter.notebook.get_cells();\n",
       "                for (var i = 0; i < nbb_cells.length; ++i) {\n",
       "                    if (nbb_cells[i].input_prompt_number == nbb_cell_id) {\n",
       "                        if (nbb_cells[i].get_text() == nbb_unformatted_code) {\n",
       "                             nbb_cells[i].set_text(nbb_formatted_code);\n",
       "                        }\n",
       "                        break;\n",
       "                    }\n",
       "                }\n",
       "            }, 500);\n",
       "            "
      ],
      "text/plain": [
       "<IPython.core.display.Javascript object>"
      ]
     },
     "metadata": {},
     "output_type": "display_data"
    }
   ],
   "source": [
    "drop_idx = []\n",
    "drop_idx.append(df[(df.bmi > 100) & (df.height < 80)].index)\n",
    "drop_idx.append(df[(df.bp_lo == 0) & (df.bp_hi % 10 != 0)].index)\n",
    "idx = df[(df.bp_lo == 0) & (df.bp_hi % 10 != 0)].index\n",
    "df = df.drop(index=idx)"
   ]
  },
  {
   "cell_type": "code",
   "execution_count": 30,
   "metadata": {},
   "outputs": [
    {
     "data": {
      "application/javascript": [
       "\n",
       "            setTimeout(function() {\n",
       "                var nbb_cell_id = 30;\n",
       "                var nbb_unformatted_code = \"idx = df[df.bp_lo == 0].index\\ndf = df.drop(index=idx)\";\n",
       "                var nbb_formatted_code = \"idx = df[df.bp_lo == 0].index\\ndf = df.drop(index=idx)\";\n",
       "                var nbb_cells = Jupyter.notebook.get_cells();\n",
       "                for (var i = 0; i < nbb_cells.length; ++i) {\n",
       "                    if (nbb_cells[i].input_prompt_number == nbb_cell_id) {\n",
       "                        if (nbb_cells[i].get_text() == nbb_unformatted_code) {\n",
       "                             nbb_cells[i].set_text(nbb_formatted_code);\n",
       "                        }\n",
       "                        break;\n",
       "                    }\n",
       "                }\n",
       "            }, 500);\n",
       "            "
      ],
      "text/plain": [
       "<IPython.core.display.Javascript object>"
      ]
     },
     "metadata": {},
     "output_type": "display_data"
    }
   ],
   "source": [
    "idx = df[df.bp_lo == 0].index\n",
    "df = df.drop(index=idx)"
   ]
  },
  {
   "cell_type": "code",
   "execution_count": 31,
   "metadata": {},
   "outputs": [
    {
     "data": {
      "application/javascript": [
       "\n",
       "            setTimeout(function() {\n",
       "                var nbb_cell_id = 31;\n",
       "                var nbb_unformatted_code = \"# fixing bp_lo vals below 10\\nidx = df[df.bp_lo < 10].index\\n\\ndf.loc[idx, \\\"bp_lo\\\"] = df.loc[idx].bp_lo * 10\";\n",
       "                var nbb_formatted_code = \"# fixing bp_lo vals below 10\\nidx = df[df.bp_lo < 10].index\\n\\ndf.loc[idx, \\\"bp_lo\\\"] = df.loc[idx].bp_lo * 10\";\n",
       "                var nbb_cells = Jupyter.notebook.get_cells();\n",
       "                for (var i = 0; i < nbb_cells.length; ++i) {\n",
       "                    if (nbb_cells[i].input_prompt_number == nbb_cell_id) {\n",
       "                        if (nbb_cells[i].get_text() == nbb_unformatted_code) {\n",
       "                             nbb_cells[i].set_text(nbb_formatted_code);\n",
       "                        }\n",
       "                        break;\n",
       "                    }\n",
       "                }\n",
       "            }, 500);\n",
       "            "
      ],
      "text/plain": [
       "<IPython.core.display.Javascript object>"
      ]
     },
     "metadata": {},
     "output_type": "display_data"
    }
   ],
   "source": [
    "# fixing bp_lo vals below 10\n",
    "idx = df[df.bp_lo < 10].index\n",
    "\n",
    "df.loc[idx, \"bp_lo\"] = df.loc[idx].bp_lo * 10"
   ]
  },
  {
   "cell_type": "code",
   "execution_count": 32,
   "metadata": {},
   "outputs": [
    {
     "data": {
      "application/javascript": [
       "\n",
       "            setTimeout(function() {\n",
       "                var nbb_cell_id = 32;\n",
       "                var nbb_unformatted_code = \"# drop all samples with bp_lo <=30\\n# df[df.bp_lo <= 30]\\nidx = df[df.bp_lo <= 30].index\\ndf = df.drop(index=idx)\";\n",
       "                var nbb_formatted_code = \"# drop all samples with bp_lo <=30\\n# df[df.bp_lo <= 30]\\nidx = df[df.bp_lo <= 30].index\\ndf = df.drop(index=idx)\";\n",
       "                var nbb_cells = Jupyter.notebook.get_cells();\n",
       "                for (var i = 0; i < nbb_cells.length; ++i) {\n",
       "                    if (nbb_cells[i].input_prompt_number == nbb_cell_id) {\n",
       "                        if (nbb_cells[i].get_text() == nbb_unformatted_code) {\n",
       "                             nbb_cells[i].set_text(nbb_formatted_code);\n",
       "                        }\n",
       "                        break;\n",
       "                    }\n",
       "                }\n",
       "            }, 500);\n",
       "            "
      ],
      "text/plain": [
       "<IPython.core.display.Javascript object>"
      ]
     },
     "metadata": {},
     "output_type": "display_data"
    }
   ],
   "source": [
    "# drop all samples with bp_lo <=30\n",
    "# df[df.bp_lo <= 30]\n",
    "idx = df[df.bp_lo <= 30].index\n",
    "df = df.drop(index=idx)"
   ]
  },
  {
   "cell_type": "code",
   "execution_count": 33,
   "metadata": {},
   "outputs": [
    {
     "data": {
      "application/javascript": [
       "\n",
       "            setTimeout(function() {\n",
       "                var nbb_cell_id = 33;\n",
       "                var nbb_unformatted_code = \"idx1 = df[df.bp_hi > 400].index[0]\\nidx2 = df[df.bp_hi > 400].index[1]\\n\\ndf.loc[idx1, \\\"bp_hi\\\"] = 170\\ndf.loc[idx2, \\\"bp_hi\\\"] = 140\";\n",
       "                var nbb_formatted_code = \"idx1 = df[df.bp_hi > 400].index[0]\\nidx2 = df[df.bp_hi > 400].index[1]\\n\\ndf.loc[idx1, \\\"bp_hi\\\"] = 170\\ndf.loc[idx2, \\\"bp_hi\\\"] = 140\";\n",
       "                var nbb_cells = Jupyter.notebook.get_cells();\n",
       "                for (var i = 0; i < nbb_cells.length; ++i) {\n",
       "                    if (nbb_cells[i].input_prompt_number == nbb_cell_id) {\n",
       "                        if (nbb_cells[i].get_text() == nbb_unformatted_code) {\n",
       "                             nbb_cells[i].set_text(nbb_formatted_code);\n",
       "                        }\n",
       "                        break;\n",
       "                    }\n",
       "                }\n",
       "            }, 500);\n",
       "            "
      ],
      "text/plain": [
       "<IPython.core.display.Javascript object>"
      ]
     },
     "metadata": {},
     "output_type": "display_data"
    }
   ],
   "source": [
    "idx1 = df[df.bp_hi > 400].index[0]\n",
    "idx2 = df[df.bp_hi > 400].index[1]\n",
    "\n",
    "df.loc[idx1, \"bp_hi\"] = 170\n",
    "df.loc[idx2, \"bp_hi\"] = 140"
   ]
  },
  {
   "cell_type": "code",
   "execution_count": 34,
   "metadata": {
    "scrolled": true
   },
   "outputs": [
    {
     "data": {
      "application/javascript": [
       "\n",
       "            setTimeout(function() {\n",
       "                var nbb_cell_id = 34;\n",
       "                var nbb_unformatted_code = \"# 1043 samples have the bp_hi and bp_lo values swapped\\nidx = df[df.bp_diff < 0].index\\n# type(idx)\\nbp_hi = df.loc[idx, \\\"bp_hi\\\"].copy()\\nbp_lo = df.loc[idx, \\\"bp_lo\\\"].copy()\\n\\n# change the values of bp_hi to the bp_lo copy\\ndf.loc[idx, \\\"bp_hi\\\"] = bp_lo\\n\\n# change the values of bp_lo to the bp_hi copy\\ndf.loc[idx, \\\"bp_lo\\\"] = bp_hi\\n\\n# check samples at index for correction\\n# df.loc[idx, :]\";\n",
       "                var nbb_formatted_code = \"# 1043 samples have the bp_hi and bp_lo values swapped\\nidx = df[df.bp_diff < 0].index\\n# type(idx)\\nbp_hi = df.loc[idx, \\\"bp_hi\\\"].copy()\\nbp_lo = df.loc[idx, \\\"bp_lo\\\"].copy()\\n\\n# change the values of bp_hi to the bp_lo copy\\ndf.loc[idx, \\\"bp_hi\\\"] = bp_lo\\n\\n# change the values of bp_lo to the bp_hi copy\\ndf.loc[idx, \\\"bp_lo\\\"] = bp_hi\\n\\n# check samples at index for correction\\n# df.loc[idx, :]\";\n",
       "                var nbb_cells = Jupyter.notebook.get_cells();\n",
       "                for (var i = 0; i < nbb_cells.length; ++i) {\n",
       "                    if (nbb_cells[i].input_prompt_number == nbb_cell_id) {\n",
       "                        if (nbb_cells[i].get_text() == nbb_unformatted_code) {\n",
       "                             nbb_cells[i].set_text(nbb_formatted_code);\n",
       "                        }\n",
       "                        break;\n",
       "                    }\n",
       "                }\n",
       "            }, 500);\n",
       "            "
      ],
      "text/plain": [
       "<IPython.core.display.Javascript object>"
      ]
     },
     "metadata": {},
     "output_type": "display_data"
    }
   ],
   "source": [
    "# 1043 samples have the bp_hi and bp_lo values swapped\n",
    "idx = df[df.bp_diff < 0].index\n",
    "# type(idx)\n",
    "bp_hi = df.loc[idx, \"bp_hi\"].copy()\n",
    "bp_lo = df.loc[idx, \"bp_lo\"].copy()\n",
    "\n",
    "# change the values of bp_hi to the bp_lo copy\n",
    "df.loc[idx, \"bp_hi\"] = bp_lo\n",
    "\n",
    "# change the values of bp_lo to the bp_hi copy\n",
    "df.loc[idx, \"bp_lo\"] = bp_hi\n",
    "\n",
    "# check samples at index for correction\n",
    "# df.loc[idx, :]"
   ]
  },
  {
   "cell_type": "markdown",
   "metadata": {},
   "source": [
    "### Height value errors"
   ]
  },
  {
   "cell_type": "code",
   "execution_count": 35,
   "metadata": {},
   "outputs": [
    {
     "data": {
      "application/javascript": [
       "\n",
       "            setTimeout(function() {\n",
       "                var nbb_cell_id = 35;\n",
       "                var nbb_unformatted_code = \"# 367 samples below 145 cm ~ 57in\\ndf[df.height < 145].count()[1]\\n\\n# drop samples with height below 145cm\\nidx = df[df.height < 145].index\\ndf = df.drop(index=idx)\";\n",
       "                var nbb_formatted_code = \"# 367 samples below 145 cm ~ 57in\\ndf[df.height < 145].count()[1]\\n\\n# drop samples with height below 145cm\\nidx = df[df.height < 145].index\\ndf = df.drop(index=idx)\";\n",
       "                var nbb_cells = Jupyter.notebook.get_cells();\n",
       "                for (var i = 0; i < nbb_cells.length; ++i) {\n",
       "                    if (nbb_cells[i].input_prompt_number == nbb_cell_id) {\n",
       "                        if (nbb_cells[i].get_text() == nbb_unformatted_code) {\n",
       "                             nbb_cells[i].set_text(nbb_formatted_code);\n",
       "                        }\n",
       "                        break;\n",
       "                    }\n",
       "                }\n",
       "            }, 500);\n",
       "            "
      ],
      "text/plain": [
       "<IPython.core.display.Javascript object>"
      ]
     },
     "metadata": {},
     "output_type": "display_data"
    }
   ],
   "source": [
    "# 367 samples below 145 cm ~ 57in\n",
    "df[df.height < 145].count()[1]\n",
    "\n",
    "# drop samples with height below 145cm\n",
    "idx = df[df.height < 145].index\n",
    "df = df.drop(index=idx)"
   ]
  },
  {
   "cell_type": "code",
   "execution_count": 36,
   "metadata": {},
   "outputs": [
    {
     "data": {
      "application/javascript": [
       "\n",
       "            setTimeout(function() {\n",
       "                var nbb_cell_id = 36;\n",
       "                var nbb_unformatted_code = \"# 1 sample listed as 250cm ~ 8.2ft\\nidx = df[df.height > 215].index\\n\\n# dropping sample\\ndf = df.drop(index=idx)\";\n",
       "                var nbb_formatted_code = \"# 1 sample listed as 250cm ~ 8.2ft\\nidx = df[df.height > 215].index\\n\\n# dropping sample\\ndf = df.drop(index=idx)\";\n",
       "                var nbb_cells = Jupyter.notebook.get_cells();\n",
       "                for (var i = 0; i < nbb_cells.length; ++i) {\n",
       "                    if (nbb_cells[i].input_prompt_number == nbb_cell_id) {\n",
       "                        if (nbb_cells[i].get_text() == nbb_unformatted_code) {\n",
       "                             nbb_cells[i].set_text(nbb_formatted_code);\n",
       "                        }\n",
       "                        break;\n",
       "                    }\n",
       "                }\n",
       "            }, 500);\n",
       "            "
      ],
      "text/plain": [
       "<IPython.core.display.Javascript object>"
      ]
     },
     "metadata": {},
     "output_type": "display_data"
    }
   ],
   "source": [
    "# 1 sample listed as 250cm ~ 8.2ft\n",
    "idx = df[df.height > 215].index\n",
    "\n",
    "# dropping sample\n",
    "df = df.drop(index=idx)"
   ]
  },
  {
   "cell_type": "code",
   "execution_count": 37,
   "metadata": {
    "scrolled": false
   },
   "outputs": [
    {
     "data": {
      "image/png": "[encoded data removed]",
      "text/plain": [
       "<Figure size 432x288 with 1 Axes>"
      ]
     },
     "metadata": {},
     "output_type": "display_data"
    },
    {
     "data": {
      "image/png": "[encoded data removed]",
      "text/plain": [
       "<Figure size 432x288 with 1 Axes>"
      ]
     },
     "metadata": {},
     "output_type": "display_data"
    },
    {
     "data": {
      "image/png": "[encoded data removed]",
      "text/plain": [
       "<Figure size 432x288 with 1 Axes>"
      ]
     },
     "metadata": {},
     "output_type": "display_data"
    },
    {
     "data": {
      "image/png": "[encoded data removed]",
      "text/plain": [
       "<Figure size 432x288 with 1 Axes>"
      ]
     },
     "metadata": {},
     "output_type": "display_data"
    },
    {
     "data": {
      "image/png": "[encoded data removed]",
      "text/plain": [
       "<Figure size 432x288 with 1 Axes>"
      ]
     },
     "metadata": {},
     "output_type": "display_data"
    },
    {
     "data": {
      "application/javascript": [
       "\n",
       "            setTimeout(function() {\n",
       "                var nbb_cell_id = 37;\n",
       "                var nbb_unformatted_code = \"# df_sample = df.sample(frac=0.1, replace=True, random_state=28, axis=\\\"index\\\")\\n\\nfor col in num_cols:\\n    sns.violinplot(x=\\\"disease\\\", y=col, data=df)\\n    plt.show()\";\n",
       "                var nbb_formatted_code = \"# df_sample = df.sample(frac=0.1, replace=True, random_state=28, axis=\\\"index\\\")\\n\\nfor col in num_cols:\\n    sns.violinplot(x=\\\"disease\\\", y=col, data=df)\\n    plt.show()\";\n",
       "                var nbb_cells = Jupyter.notebook.get_cells();\n",
       "                for (var i = 0; i < nbb_cells.length; ++i) {\n",
       "                    if (nbb_cells[i].input_prompt_number == nbb_cell_id) {\n",
       "                        if (nbb_cells[i].get_text() == nbb_unformatted_code) {\n",
       "                             nbb_cells[i].set_text(nbb_formatted_code);\n",
       "                        }\n",
       "                        break;\n",
       "                    }\n",
       "                }\n",
       "            }, 500);\n",
       "            "
      ],
      "text/plain": [
       "<IPython.core.display.Javascript object>"
      ]
     },
     "metadata": {},
     "output_type": "display_data"
    }
   ],
   "source": [
    "# df_sample = df.sample(frac=0.1, replace=True, random_state=28, axis=\"index\")\n",
    "\n",
    "for col in num_cols:\n",
    "    sns.violinplot(x=\"disease\", y=col, data=df)\n",
    "    plt.show()"
   ]
  },
  {
   "cell_type": "markdown",
   "metadata": {},
   "source": [
    "# Features"
   ]
  },
  {
   "cell_type": "code",
   "execution_count": 38,
   "metadata": {},
   "outputs": [
    {
     "data": {
      "application/javascript": [
       "\n",
       "            setTimeout(function() {\n",
       "                var nbb_cell_id = 38;\n",
       "                var nbb_unformatted_code = \"# blood pressure difference column\\ndf[\\\"bp_diff\\\"] = df.bp_hi - df.bp_lo\\n\\n# BMI column to replace height and weight\\n# bmi = weight (kgs) / (height (m))^2\\ndf[\\\"bmi\\\"] = df.weight / (df.height / 100) ** 2\";\n",
       "                var nbb_formatted_code = \"# blood pressure difference column\\ndf[\\\"bp_diff\\\"] = df.bp_hi - df.bp_lo\\n\\n# BMI column to replace height and weight\\n# bmi = weight (kgs) / (height (m))^2\\ndf[\\\"bmi\\\"] = df.weight / (df.height / 100) ** 2\";\n",
       "                var nbb_cells = Jupyter.notebook.get_cells();\n",
       "                for (var i = 0; i < nbb_cells.length; ++i) {\n",
       "                    if (nbb_cells[i].input_prompt_number == nbb_cell_id) {\n",
       "                        if (nbb_cells[i].get_text() == nbb_unformatted_code) {\n",
       "                             nbb_cells[i].set_text(nbb_formatted_code);\n",
       "                        }\n",
       "                        break;\n",
       "                    }\n",
       "                }\n",
       "            }, 500);\n",
       "            "
      ],
      "text/plain": [
       "<IPython.core.display.Javascript object>"
      ]
     },
     "metadata": {},
     "output_type": "display_data"
    }
   ],
   "source": [
    "# blood pressure difference column\n",
    "df[\"bp_diff\"] = df.bp_hi - df.bp_lo\n",
    "\n",
    "# BMI column to replace height and weight\n",
    "# bmi = weight (kgs) / (height (m))^2\n",
    "df[\"bmi\"] = df.weight / (df.height / 100) ** 2"
   ]
  },
  {
   "cell_type": "markdown",
   "metadata": {},
   "source": [
    "# Model Prep"
   ]
  },
  {
   "cell_type": "markdown",
   "metadata": {},
   "source": [
    "> ### testing sets"
   ]
  },
  {
   "cell_type": "code",
   "execution_count": 39,
   "metadata": {
    "scrolled": false
   },
   "outputs": [
    {
     "data": {
      "application/javascript": [
       "\n",
       "            setTimeout(function() {\n",
       "                var nbb_cell_id = 39;\n",
       "                var nbb_unformatted_code = \"drop_cols = [\\n    \\\"disease\\\",\\n    \\\"yrs\\\",\\n    \\\"height_in\\\",\\n    \\\"height_ft\\\",\\n    \\\"bp_diff\\\",\\n    #     \\\"bmi\\\",\\n    #         \\\"height\\\",\\n    #     \\\"weight\\\",\\n]\\n\\nX = df.drop(columns=drop_cols)\\ny = df.disease\\n\\nX_train, X_test, y_train, y_test = train_test_split(\\n    X, y, test_size=0.5, random_state=28, stratify=df.disease\\n)\";\n",
       "                var nbb_formatted_code = \"drop_cols = [\\n    \\\"disease\\\",\\n    \\\"yrs\\\",\\n    \\\"height_in\\\",\\n    \\\"height_ft\\\",\\n    \\\"bp_diff\\\",\\n    #     \\\"bmi\\\",\\n    #         \\\"height\\\",\\n    #     \\\"weight\\\",\\n]\\n\\nX = df.drop(columns=drop_cols)\\ny = df.disease\\n\\nX_train, X_test, y_train, y_test = train_test_split(\\n    X, y, test_size=0.5, random_state=28, stratify=df.disease\\n)\";\n",
       "                var nbb_cells = Jupyter.notebook.get_cells();\n",
       "                for (var i = 0; i < nbb_cells.length; ++i) {\n",
       "                    if (nbb_cells[i].input_prompt_number == nbb_cell_id) {\n",
       "                        if (nbb_cells[i].get_text() == nbb_unformatted_code) {\n",
       "                             nbb_cells[i].set_text(nbb_formatted_code);\n",
       "                        }\n",
       "                        break;\n",
       "                    }\n",
       "                }\n",
       "            }, 500);\n",
       "            "
      ],
      "text/plain": [
       "<IPython.core.display.Javascript object>"
      ]
     },
     "metadata": {},
     "output_type": "display_data"
    }
   ],
   "source": [
    "drop_cols = [\n",
    "    \"disease\",\n",
    "    \"yrs\",\n",
    "    \"height_in\",\n",
    "    \"height_ft\",\n",
    "    \"bp_diff\",\n",
    "    #     \"bmi\",\n",
    "    #         \"height\",\n",
    "    #     \"weight\",\n",
    "]\n",
    "\n",
    "X = df.drop(columns=drop_cols)\n",
    "y = df.disease\n",
    "\n",
    "X_train, X_test, y_train, y_test = train_test_split(\n",
    "    X, y, test_size=0.5, random_state=28, stratify=df.disease\n",
    ")"
   ]
  },
  {
   "cell_type": "code",
   "execution_count": 40,
   "metadata": {},
   "outputs": [
    {
     "data": {
      "application/javascript": [
       "\n",
       "            setTimeout(function() {\n",
       "                var nbb_cell_id = 40;\n",
       "                var nbb_unformatted_code = \"bin_cols = [\\\"gender\\\", \\\"smoke\\\", \\\"alcohol\\\", \\\"active\\\"]\\nnum_cols = [\\\"age\\\", \\\"bp_hi\\\", \\\"bp_lo\\\", \\\"bp_diff\\\", \\\"bmi\\\", \\\"height\\\", \\\"weight\\\"]\\ncat_cols = [\\\"cholesterol\\\", \\\"glucose\\\"]\\n# drop_cats = [0]\";\n",
       "                var nbb_formatted_code = \"bin_cols = [\\\"gender\\\", \\\"smoke\\\", \\\"alcohol\\\", \\\"active\\\"]\\nnum_cols = [\\\"age\\\", \\\"bp_hi\\\", \\\"bp_lo\\\", \\\"bp_diff\\\", \\\"bmi\\\", \\\"height\\\", \\\"weight\\\"]\\ncat_cols = [\\\"cholesterol\\\", \\\"glucose\\\"]\\n# drop_cats = [0]\";\n",
       "                var nbb_cells = Jupyter.notebook.get_cells();\n",
       "                for (var i = 0; i < nbb_cells.length; ++i) {\n",
       "                    if (nbb_cells[i].input_prompt_number == nbb_cell_id) {\n",
       "                        if (nbb_cells[i].get_text() == nbb_unformatted_code) {\n",
       "                             nbb_cells[i].set_text(nbb_formatted_code);\n",
       "                        }\n",
       "                        break;\n",
       "                    }\n",
       "                }\n",
       "            }, 500);\n",
       "            "
      ],
      "text/plain": [
       "<IPython.core.display.Javascript object>"
      ]
     },
     "metadata": {},
     "output_type": "display_data"
    }
   ],
   "source": [
    "bin_cols = [\"gender\", \"smoke\", \"alcohol\", \"active\"]\n",
    "num_cols = [\"age\", \"bp_hi\", \"bp_lo\", \"bp_diff\", \"bmi\", \"height\", \"weight\"]\n",
    "cat_cols = [\"cholesterol\", \"glucose\"]\n",
    "# drop_cats = [0]"
   ]
  },
  {
   "cell_type": "markdown",
   "metadata": {},
   "source": [
    "> ### preprocessing"
   ]
  },
  {
   "cell_type": "code",
   "execution_count": 41,
   "metadata": {},
   "outputs": [
    {
     "data": {
      "application/javascript": [
       "\n",
       "            setTimeout(function() {\n",
       "                var nbb_cell_id = 41;\n",
       "                var nbb_unformatted_code = \"preprocessing = ColumnTransformer(\\n    [\\n        (\\\"encode_cats\\\", LeaveOneOutEncoder(), cat_cols),\\n        #         (\\\"scaler\\\", StandardScaler(), num_cols),\\n        #         (\\\"scaler\\\", MinMaxScaler(), num_cols),\\n    ],\\n    remainder=\\\"passthrough\\\",\\n)\";\n",
       "                var nbb_formatted_code = \"preprocessing = ColumnTransformer(\\n    [\\n        (\\\"encode_cats\\\", LeaveOneOutEncoder(), cat_cols),\\n        #         (\\\"scaler\\\", StandardScaler(), num_cols),\\n        #         (\\\"scaler\\\", MinMaxScaler(), num_cols),\\n    ],\\n    remainder=\\\"passthrough\\\",\\n)\";\n",
       "                var nbb_cells = Jupyter.notebook.get_cells();\n",
       "                for (var i = 0; i < nbb_cells.length; ++i) {\n",
       "                    if (nbb_cells[i].input_prompt_number == nbb_cell_id) {\n",
       "                        if (nbb_cells[i].get_text() == nbb_unformatted_code) {\n",
       "                             nbb_cells[i].set_text(nbb_formatted_code);\n",
       "                        }\n",
       "                        break;\n",
       "                    }\n",
       "                }\n",
       "            }, 500);\n",
       "            "
      ],
      "text/plain": [
       "<IPython.core.display.Javascript object>"
      ]
     },
     "metadata": {},
     "output_type": "display_data"
    }
   ],
   "source": [
    "preprocessing = ColumnTransformer(\n",
    "    [\n",
    "        (\"encode_cats\", LeaveOneOutEncoder(), cat_cols),\n",
    "        #         (\"scaler\", StandardScaler(), num_cols),\n",
    "        #         (\"scaler\", MinMaxScaler(), num_cols),\n",
    "    ],\n",
    "    remainder=\"passthrough\",\n",
    ")"
   ]
  },
  {
   "cell_type": "markdown",
   "metadata": {},
   "source": [
    "# XGBoost Classifier"
   ]
  },
  {
   "cell_type": "markdown",
   "metadata": {},
   "source": [
    "> ### pipeline"
   ]
  },
  {
   "cell_type": "code",
   "execution_count": 42,
   "metadata": {},
   "outputs": [
    {
     "name": "stdout",
     "output_type": "stream",
     "text": [
      "[13:27:02] WARNING: C:/Users/Administrator/workspace/xgboost-win64_release_1.3.0/src/learner.cc:1061: Starting in XGBoost 1.3.0, the default evaluation metric used with the objective 'binary:logistic' was changed from 'error' to 'logloss'. Explicitly set eval_metric if you'd like to restore the old behavior.\n",
      "train score: 0.7817115926202656\n",
      "test score: 0.7273693890453474\n"
     ]
    },
    {
     "data": {
      "application/javascript": [
       "\n",
       "            setTimeout(function() {\n",
       "                var nbb_cell_id = 42;\n",
       "                var nbb_unformatted_code = \"pipeline = Pipeline(\\n    [\\n        (\\\"processing\\\", preprocessing),\\n        #         (\\\"model\\\", GradientBoostingClassifier()),\\n        #         (\\\"model\\\", AdaBoostClassifier()),\\n        (\\\"model\\\", XGBClassifier(use_label_encoder=False)),\\n    ]\\n)\\n\\npipeline.fit(X_train, y_train)\\n\\ntrain_score = pipeline.score(X_train, y_train)\\ntest_score = pipeline.score(X_test, y_test)\\n\\nprint(f\\\"train score: {train_score}\\\")\\nprint(f\\\"test score: {test_score}\\\")\";\n",
       "                var nbb_formatted_code = \"pipeline = Pipeline(\\n    [\\n        (\\\"processing\\\", preprocessing),\\n        #         (\\\"model\\\", GradientBoostingClassifier()),\\n        #         (\\\"model\\\", AdaBoostClassifier()),\\n        (\\\"model\\\", XGBClassifier(use_label_encoder=False)),\\n    ]\\n)\\n\\npipeline.fit(X_train, y_train)\\n\\ntrain_score = pipeline.score(X_train, y_train)\\ntest_score = pipeline.score(X_test, y_test)\\n\\nprint(f\\\"train score: {train_score}\\\")\\nprint(f\\\"test score: {test_score}\\\")\";\n",
       "                var nbb_cells = Jupyter.notebook.get_cells();\n",
       "                for (var i = 0; i < nbb_cells.length; ++i) {\n",
       "                    if (nbb_cells[i].input_prompt_number == nbb_cell_id) {\n",
       "                        if (nbb_cells[i].get_text() == nbb_unformatted_code) {\n",
       "                             nbb_cells[i].set_text(nbb_formatted_code);\n",
       "                        }\n",
       "                        break;\n",
       "                    }\n",
       "                }\n",
       "            }, 500);\n",
       "            "
      ],
      "text/plain": [
       "<IPython.core.display.Javascript object>"
      ]
     },
     "metadata": {},
     "output_type": "display_data"
    }
   ],
   "source": [
    "pipeline = Pipeline(\n",
    "    [\n",
    "        (\"processing\", preprocessing),\n",
    "        #         (\"model\", GradientBoostingClassifier()),\n",
    "        #         (\"model\", AdaBoostClassifier()),\n",
    "        (\"model\", XGBClassifier(use_label_encoder=False)),\n",
    "    ]\n",
    ")\n",
    "\n",
    "pipeline.fit(X_train, y_train)\n",
    "\n",
    "train_score = pipeline.score(X_train, y_train)\n",
    "test_score = pipeline.score(X_test, y_test)\n",
    "\n",
    "print(f\"train score: {train_score}\")\n",
    "print(f\"test score: {test_score}\")"
   ]
  },
  {
   "cell_type": "markdown",
   "metadata": {},
   "source": [
    "# Grid Search CV"
   ]
  },
  {
   "cell_type": "markdown",
   "metadata": {},
   "source": [
    "XGBoost"
   ]
  },
  {
   "cell_type": "code",
   "execution_count": 43,
   "metadata": {
    "code_folding": []
   },
   "outputs": [
    {
     "name": "stdout",
     "output_type": "stream",
     "text": [
      "Fitting 5 folds for each of 9 candidates, totalling 45 fits\n"
     ]
    },
    {
     "name": "stderr",
     "output_type": "stream",
     "text": [
      "[Parallel(n_jobs=-1)]: Using backend LokyBackend with 8 concurrent workers.\n"
     ]
    },
    {
     "name": "stdout",
     "output_type": "stream",
     "text": [
      "[13:27:18] WARNING: C:/Users/Administrator/workspace/xgboost-win64_release_1.3.0/src/learner.cc:1061: Starting in XGBoost 1.3.0, the default evaluation metric used with the objective 'binary:logistic' was changed from 'error' to 'logloss'. Explicitly set eval_metric if you'd like to restore the old behavior.\n"
     ]
    },
    {
     "name": "stderr",
     "output_type": "stream",
     "text": [
      "[Parallel(n_jobs=-1)]: Done  45 out of  45 | elapsed:    8.8s finished\n"
     ]
    },
    {
     "data": {
      "text/plain": [
       "{'model__colsample_bytree': 0.9,\n",
       " 'model__learning_rate': 10,\n",
       " 'model__max_depth': 4,\n",
       " 'model__n_estimators': 1}"
      ]
     },
     "execution_count": 43,
     "metadata": {},
     "output_type": "execute_result"
    },
    {
     "data": {
      "application/javascript": [
       "\n",
       "            setTimeout(function() {\n",
       "                var nbb_cell_id = 43;\n",
       "                var nbb_unformatted_code = \"# fmt: off\\ngrid = {\\n    \\\"model__n_estimators\\\": [1],\\n    \\\"model__learning_rate\\\": [10],\\n    #     \\\"model__subsample\\\": [],\\n    \\\"model__colsample_bytree\\\": [0.9],\\n    \\\"model__max_depth\\\": np.arange(1,10),\\n}\\n# fmt: on\\npipeline_cv = GridSearchCV(pipeline, grid, cv=5, verbose=1, n_jobs=-1)\\npipeline_cv.fit(X_train, y_train)\\n\\nbest_params = pipeline_cv.best_params_\\nbest_params\";\n",
       "                var nbb_formatted_code = \"# fmt: off\\ngrid = {\\n    \\\"model__n_estimators\\\": [1],\\n    \\\"model__learning_rate\\\": [10],\\n    #     \\\"model__subsample\\\": [],\\n    \\\"model__colsample_bytree\\\": [0.9],\\n    \\\"model__max_depth\\\": np.arange(1,10),\\n}\\n# fmt: on\\npipeline_cv = GridSearchCV(pipeline, grid, cv=5, verbose=1, n_jobs=-1)\\npipeline_cv.fit(X_train, y_train)\\n\\nbest_params = pipeline_cv.best_params_\\nbest_params\";\n",
       "                var nbb_cells = Jupyter.notebook.get_cells();\n",
       "                for (var i = 0; i < nbb_cells.length; ++i) {\n",
       "                    if (nbb_cells[i].input_prompt_number == nbb_cell_id) {\n",
       "                        if (nbb_cells[i].get_text() == nbb_unformatted_code) {\n",
       "                             nbb_cells[i].set_text(nbb_formatted_code);\n",
       "                        }\n",
       "                        break;\n",
       "                    }\n",
       "                }\n",
       "            }, 500);\n",
       "            "
      ],
      "text/plain": [
       "<IPython.core.display.Javascript object>"
      ]
     },
     "metadata": {},
     "output_type": "display_data"
    }
   ],
   "source": [
    "# fmt: off\n",
    "grid = {\n",
    "    \"model__n_estimators\": [1],\n",
    "    \"model__learning_rate\": [10],\n",
    "    #     \"model__subsample\": [],\n",
    "    \"model__colsample_bytree\": [0.9],\n",
    "    \"model__max_depth\": np.arange(1,10),\n",
    "}\n",
    "# fmt: on\n",
    "pipeline_cv = GridSearchCV(pipeline, grid, cv=5, verbose=1, n_jobs=-1)\n",
    "pipeline_cv.fit(X_train, y_train)\n",
    "\n",
    "best_params = pipeline_cv.best_params_\n",
    "best_params"
   ]
  },
  {
   "cell_type": "code",
   "execution_count": 44,
   "metadata": {},
   "outputs": [
    {
     "name": "stdout",
     "output_type": "stream",
     "text": [
      "train_score 0.7322834645669292\n",
      "test_score 0.7276854991666187\n"
     ]
    },
    {
     "data": {
      "application/javascript": [
       "\n",
       "            setTimeout(function() {\n",
       "                var nbb_cell_id = 44;\n",
       "                var nbb_unformatted_code = \"train_score = pipeline_cv.score(X_train, y_train)\\ntest_score = pipeline_cv.score(X_test, y_test)\\n\\nprint(f\\\"train_score {train_score}\\\")\\nprint(f\\\"test_score {test_score}\\\")\";\n",
       "                var nbb_formatted_code = \"train_score = pipeline_cv.score(X_train, y_train)\\ntest_score = pipeline_cv.score(X_test, y_test)\\n\\nprint(f\\\"train_score {train_score}\\\")\\nprint(f\\\"test_score {test_score}\\\")\";\n",
       "                var nbb_cells = Jupyter.notebook.get_cells();\n",
       "                for (var i = 0; i < nbb_cells.length; ++i) {\n",
       "                    if (nbb_cells[i].input_prompt_number == nbb_cell_id) {\n",
       "                        if (nbb_cells[i].get_text() == nbb_unformatted_code) {\n",
       "                             nbb_cells[i].set_text(nbb_formatted_code);\n",
       "                        }\n",
       "                        break;\n",
       "                    }\n",
       "                }\n",
       "            }, 500);\n",
       "            "
      ],
      "text/plain": [
       "<IPython.core.display.Javascript object>"
      ]
     },
     "metadata": {},
     "output_type": "display_data"
    }
   ],
   "source": [
    "train_score = pipeline_cv.score(X_train, y_train)\n",
    "test_score = pipeline_cv.score(X_test, y_test)\n",
    "\n",
    "print(f\"train_score {train_score}\")\n",
    "print(f\"test_score {test_score}\")"
   ]
  },
  {
   "cell_type": "code",
   "execution_count": 45,
   "metadata": {
    "scrolled": false
   },
   "outputs": [
    {
     "data": {
      "text/html": [
       "<div>\n",
       "<style scoped>\n",
       "    .dataframe tbody tr th:only-of-type {\n",
       "        vertical-align: middle;\n",
       "    }\n",
       "\n",
       "    .dataframe tbody tr th {\n",
       "        vertical-align: top;\n",
       "    }\n",
       "\n",
       "    .dataframe thead th {\n",
       "        text-align: right;\n",
       "    }\n",
       "</style>\n",
       "<table border=\"1\" class=\"dataframe\">\n",
       "  <thead>\n",
       "    <tr style=\"text-align: right;\">\n",
       "      <th></th>\n",
       "      <th>feature</th>\n",
       "      <th>importance</th>\n",
       "    </tr>\n",
       "  </thead>\n",
       "  <tbody>\n",
       "    <tr>\n",
       "      <th>6</th>\n",
       "      <td>cholesterol</td>\n",
       "      <td>0.826519</td>\n",
       "    </tr>\n",
       "    <tr>\n",
       "      <th>0</th>\n",
       "      <td>age</td>\n",
       "      <td>0.082505</td>\n",
       "    </tr>\n",
       "    <tr>\n",
       "      <th>2</th>\n",
       "      <td>height</td>\n",
       "      <td>0.076371</td>\n",
       "    </tr>\n",
       "    <tr>\n",
       "      <th>1</th>\n",
       "      <td>gender</td>\n",
       "      <td>0.008920</td>\n",
       "    </tr>\n",
       "    <tr>\n",
       "      <th>4</th>\n",
       "      <td>bp_hi</td>\n",
       "      <td>0.004443</td>\n",
       "    </tr>\n",
       "    <tr>\n",
       "      <th>11</th>\n",
       "      <td>bmi</td>\n",
       "      <td>0.001242</td>\n",
       "    </tr>\n",
       "    <tr>\n",
       "      <th>3</th>\n",
       "      <td>weight</td>\n",
       "      <td>0.000000</td>\n",
       "    </tr>\n",
       "    <tr>\n",
       "      <th>5</th>\n",
       "      <td>bp_lo</td>\n",
       "      <td>0.000000</td>\n",
       "    </tr>\n",
       "    <tr>\n",
       "      <th>7</th>\n",
       "      <td>glucose</td>\n",
       "      <td>0.000000</td>\n",
       "    </tr>\n",
       "    <tr>\n",
       "      <th>8</th>\n",
       "      <td>smoke</td>\n",
       "      <td>0.000000</td>\n",
       "    </tr>\n",
       "    <tr>\n",
       "      <th>9</th>\n",
       "      <td>alcohol</td>\n",
       "      <td>0.000000</td>\n",
       "    </tr>\n",
       "    <tr>\n",
       "      <th>10</th>\n",
       "      <td>active</td>\n",
       "      <td>0.000000</td>\n",
       "    </tr>\n",
       "  </tbody>\n",
       "</table>\n",
       "</div>"
      ],
      "text/plain": [
       "        feature  importance\n",
       "6   cholesterol    0.826519\n",
       "0           age    0.082505\n",
       "2        height    0.076371\n",
       "1        gender    0.008920\n",
       "4         bp_hi    0.004443\n",
       "11          bmi    0.001242\n",
       "3        weight    0.000000\n",
       "5         bp_lo    0.000000\n",
       "7       glucose    0.000000\n",
       "8         smoke    0.000000\n",
       "9       alcohol    0.000000\n",
       "10       active    0.000000"
      ]
     },
     "execution_count": 45,
     "metadata": {},
     "output_type": "execute_result"
    },
    {
     "data": {
      "application/javascript": [
       "\n",
       "            setTimeout(function() {\n",
       "                var nbb_cell_id = 45;\n",
       "                var nbb_unformatted_code = \"feature_importances = pipeline_cv.best_estimator_[\\\"model\\\"].feature_importances_\\nfeature_importances = pd.DataFrame(\\n    {\\\"feature\\\": X_train.columns, \\\"importance\\\": feature_importances}\\n).sort_values(\\\"importance\\\", ascending=False)\\nfeature_importances\";\n",
       "                var nbb_formatted_code = \"feature_importances = pipeline_cv.best_estimator_[\\\"model\\\"].feature_importances_\\nfeature_importances = pd.DataFrame(\\n    {\\\"feature\\\": X_train.columns, \\\"importance\\\": feature_importances}\\n).sort_values(\\\"importance\\\", ascending=False)\\nfeature_importances\";\n",
       "                var nbb_cells = Jupyter.notebook.get_cells();\n",
       "                for (var i = 0; i < nbb_cells.length; ++i) {\n",
       "                    if (nbb_cells[i].input_prompt_number == nbb_cell_id) {\n",
       "                        if (nbb_cells[i].get_text() == nbb_unformatted_code) {\n",
       "                             nbb_cells[i].set_text(nbb_formatted_code);\n",
       "                        }\n",
       "                        break;\n",
       "                    }\n",
       "                }\n",
       "            }, 500);\n",
       "            "
      ],
      "text/plain": [
       "<IPython.core.display.Javascript object>"
      ]
     },
     "metadata": {},
     "output_type": "display_data"
    }
   ],
   "source": [
    "feature_importances = pipeline_cv.best_estimator_[\"model\"].feature_importances_\n",
    "feature_importances = pd.DataFrame(\n",
    "    {\"feature\": X_train.columns, \"importance\": feature_importances}\n",
    ").sort_values(\"importance\", ascending=False)\n",
    "feature_importances"
   ]
  },
  {
   "cell_type": "markdown",
   "metadata": {},
   "source": [
    "# Prediction Results"
   ]
  },
  {
   "cell_type": "code",
   "execution_count": 46,
   "metadata": {},
   "outputs": [
    {
     "data": {
      "image/png": "[encoded data removed]",
      "text/plain": [
       "<Figure size 432x288 with 1 Axes>"
      ]
     },
     "metadata": {},
     "output_type": "display_data"
    },
    {
     "data": {
      "application/javascript": [
       "\n",
       "            setTimeout(function() {\n",
       "                var nbb_cell_id = 46;\n",
       "                var nbb_unformatted_code = \"pred_prob = pipeline_cv.predict_proba(X_test)\\n# pred_prob\\n\\nprob_true, prob_pred = calibration_curve(y_test, pred_prob[:, 1], n_bins=10)\\nplt.plot(prob_pred, prob_true, \\\"-o\\\")\\nplt.show()\";\n",
       "                var nbb_formatted_code = \"pred_prob = pipeline_cv.predict_proba(X_test)\\n# pred_prob\\n\\nprob_true, prob_pred = calibration_curve(y_test, pred_prob[:, 1], n_bins=10)\\nplt.plot(prob_pred, prob_true, \\\"-o\\\")\\nplt.show()\";\n",
       "                var nbb_cells = Jupyter.notebook.get_cells();\n",
       "                for (var i = 0; i < nbb_cells.length; ++i) {\n",
       "                    if (nbb_cells[i].input_prompt_number == nbb_cell_id) {\n",
       "                        if (nbb_cells[i].get_text() == nbb_unformatted_code) {\n",
       "                             nbb_cells[i].set_text(nbb_formatted_code);\n",
       "                        }\n",
       "                        break;\n",
       "                    }\n",
       "                }\n",
       "            }, 500);\n",
       "            "
      ],
      "text/plain": [
       "<IPython.core.display.Javascript object>"
      ]
     },
     "metadata": {},
     "output_type": "display_data"
    }
   ],
   "source": [
    "pred_prob = pipeline_cv.predict_proba(X_test)\n",
    "# pred_prob\n",
    "\n",
    "prob_true, prob_pred = calibration_curve(y_test, pred_prob[:, 1], n_bins=10)\n",
    "plt.plot(prob_pred, prob_true, \"-o\")\n",
    "plt.show()"
   ]
  },
  {
   "cell_type": "code",
   "execution_count": 47,
   "metadata": {
    "scrolled": true
   },
   "outputs": [
    {
     "data": {
      "application/javascript": [
       "\n",
       "            setTimeout(function() {\n",
       "                var nbb_cell_id = 47;\n",
       "                var nbb_unformatted_code = \"y_preds = pipeline_cv.predict(X_test)\\npreds_df, fig = predictions_df(X_test, y_test, y_preds)\";\n",
       "                var nbb_formatted_code = \"y_preds = pipeline_cv.predict(X_test)\\npreds_df, fig = predictions_df(X_test, y_test, y_preds)\";\n",
       "                var nbb_cells = Jupyter.notebook.get_cells();\n",
       "                for (var i = 0; i < nbb_cells.length; ++i) {\n",
       "                    if (nbb_cells[i].input_prompt_number == nbb_cell_id) {\n",
       "                        if (nbb_cells[i].get_text() == nbb_unformatted_code) {\n",
       "                             nbb_cells[i].set_text(nbb_formatted_code);\n",
       "                        }\n",
       "                        break;\n",
       "                    }\n",
       "                }\n",
       "            }, 500);\n",
       "            "
      ],
      "text/plain": [
       "<IPython.core.display.Javascript object>"
      ]
     },
     "metadata": {},
     "output_type": "display_data"
    }
   ],
   "source": [
    "y_preds = pipeline_cv.predict(X_test)\n",
    "preds_df, fig = predictions_df(X_test, y_test, y_preds)"
   ]
  },
  {
   "cell_type": "code",
   "execution_count": 48,
   "metadata": {},
   "outputs": [
    {
     "data": {
      "text/plain": [
       "array([[12744,  4672],\n",
       "       [ 4804, 12578]], dtype=int64)"
      ]
     },
     "execution_count": 48,
     "metadata": {},
     "output_type": "execute_result"
    },
    {
     "data": {
      "application/javascript": [
       "\n",
       "            setTimeout(function() {\n",
       "                var nbb_cell_id = 48;\n",
       "                var nbb_unformatted_code = \"cm = confusion_matrix(y_test, y_preds)\\ncm\";\n",
       "                var nbb_formatted_code = \"cm = confusion_matrix(y_test, y_preds)\\ncm\";\n",
       "                var nbb_cells = Jupyter.notebook.get_cells();\n",
       "                for (var i = 0; i < nbb_cells.length; ++i) {\n",
       "                    if (nbb_cells[i].input_prompt_number == nbb_cell_id) {\n",
       "                        if (nbb_cells[i].get_text() == nbb_unformatted_code) {\n",
       "                             nbb_cells[i].set_text(nbb_formatted_code);\n",
       "                        }\n",
       "                        break;\n",
       "                    }\n",
       "                }\n",
       "            }, 500);\n",
       "            "
      ],
      "text/plain": [
       "<IPython.core.display.Javascript object>"
      ]
     },
     "metadata": {},
     "output_type": "display_data"
    }
   ],
   "source": [
    "cm = confusion_matrix(y_test, y_preds)\n",
    "cm"
   ]
  },
  {
   "cell_type": "code",
   "execution_count": 49,
   "metadata": {},
   "outputs": [
    {
     "name": "stdout",
     "output_type": "stream",
     "text": [
      "              precision    recall  f1-score   support\n",
      "\n",
      "           0       0.73      0.73      0.73     17416\n",
      "           1       0.73      0.72      0.73     17382\n",
      "\n",
      "    accuracy                           0.73     34798\n",
      "   macro avg       0.73      0.73      0.73     34798\n",
      "weighted avg       0.73      0.73      0.73     34798\n",
      "\n"
     ]
    },
    {
     "data": {
      "application/javascript": [
       "\n",
       "            setTimeout(function() {\n",
       "                var nbb_cell_id = 49;\n",
       "                var nbb_unformatted_code = \"print(classification_report(y_test, y_preds))\";\n",
       "                var nbb_formatted_code = \"print(classification_report(y_test, y_preds))\";\n",
       "                var nbb_cells = Jupyter.notebook.get_cells();\n",
       "                for (var i = 0; i < nbb_cells.length; ++i) {\n",
       "                    if (nbb_cells[i].input_prompt_number == nbb_cell_id) {\n",
       "                        if (nbb_cells[i].get_text() == nbb_unformatted_code) {\n",
       "                             nbb_cells[i].set_text(nbb_formatted_code);\n",
       "                        }\n",
       "                        break;\n",
       "                    }\n",
       "                }\n",
       "            }, 500);\n",
       "            "
      ],
      "text/plain": [
       "<IPython.core.display.Javascript object>"
      ]
     },
     "metadata": {},
     "output_type": "display_data"
    }
   ],
   "source": [
    "print(classification_report(y_test, y_preds))"
   ]
  },
  {
   "cell_type": "markdown",
   "metadata": {},
   "source": [
    "# Error analysis"
   ]
  },
  {
   "cell_type": "code",
   "execution_count": 50,
   "metadata": {},
   "outputs": [
    {
     "data": {
      "application/javascript": [
       "\n",
       "            setTimeout(function() {\n",
       "                var nbb_cell_id = 50;\n",
       "                var nbb_unformatted_code = \"preds_df, fig = predictions_df(X_test, y_test, y_preds)\\n# display(preds_df[preds_df.residuals == -1].head(50))\\n\\nmistakes = preds_df[preds_df.abs_residuals == 1]\\ncorrect = preds_df[preds_df.abs_residuals == 0]\\n\\n# add prediction probs to preds_df\\npreds_df[\\\"pred_prob\\\"] = pred_prob[:, 1]\\n\\npreds_df = preds_df.drop(columns=[\\\"residuals\\\", \\\"abs_residuals\\\"])\";\n",
       "                var nbb_formatted_code = \"preds_df, fig = predictions_df(X_test, y_test, y_preds)\\n# display(preds_df[preds_df.residuals == -1].head(50))\\n\\nmistakes = preds_df[preds_df.abs_residuals == 1]\\ncorrect = preds_df[preds_df.abs_residuals == 0]\\n\\n# add prediction probs to preds_df\\npreds_df[\\\"pred_prob\\\"] = pred_prob[:, 1]\\n\\npreds_df = preds_df.drop(columns=[\\\"residuals\\\", \\\"abs_residuals\\\"])\";\n",
       "                var nbb_cells = Jupyter.notebook.get_cells();\n",
       "                for (var i = 0; i < nbb_cells.length; ++i) {\n",
       "                    if (nbb_cells[i].input_prompt_number == nbb_cell_id) {\n",
       "                        if (nbb_cells[i].get_text() == nbb_unformatted_code) {\n",
       "                             nbb_cells[i].set_text(nbb_formatted_code);\n",
       "                        }\n",
       "                        break;\n",
       "                    }\n",
       "                }\n",
       "            }, 500);\n",
       "            "
      ],
      "text/plain": [
       "<IPython.core.display.Javascript object>"
      ]
     },
     "metadata": {},
     "output_type": "display_data"
    }
   ],
   "source": [
    "preds_df, fig = predictions_df(X_test, y_test, y_preds)\n",
    "# display(preds_df[preds_df.residuals == -1].head(50))\n",
    "\n",
    "mistakes = preds_df[preds_df.abs_residuals == 1]\n",
    "correct = preds_df[preds_df.abs_residuals == 0]\n",
    "\n",
    "# add prediction probs to preds_df\n",
    "preds_df[\"pred_prob\"] = pred_prob[:, 1]\n",
    "\n",
    "preds_df = preds_df.drop(columns=[\"residuals\", \"abs_residuals\"])"
   ]
  },
  {
   "cell_type": "code",
   "execution_count": 51,
   "metadata": {},
   "outputs": [
    {
     "data": {
      "text/plain": [
       "4804"
      ]
     },
     "execution_count": 51,
     "metadata": {},
     "output_type": "execute_result"
    },
    {
     "data": {
      "application/javascript": [
       "\n",
       "            setTimeout(function() {\n",
       "                var nbb_cell_id = 51;\n",
       "                var nbb_unformatted_code = \"# dataframe for false negatives sorted by prediction probability descending\\nf_negs = preds_df[(preds_df.y_true == 1) & (preds_df.y_preds == 0)].sort_values(\\n    \\\"pred_prob\\\", ascending=False\\n)\\nf_negs.count()[0]\";\n",
       "                var nbb_formatted_code = \"# dataframe for false negatives sorted by prediction probability descending\\nf_negs = preds_df[(preds_df.y_true == 1) & (preds_df.y_preds == 0)].sort_values(\\n    \\\"pred_prob\\\", ascending=False\\n)\\nf_negs.count()[0]\";\n",
       "                var nbb_cells = Jupyter.notebook.get_cells();\n",
       "                for (var i = 0; i < nbb_cells.length; ++i) {\n",
       "                    if (nbb_cells[i].input_prompt_number == nbb_cell_id) {\n",
       "                        if (nbb_cells[i].get_text() == nbb_unformatted_code) {\n",
       "                             nbb_cells[i].set_text(nbb_formatted_code);\n",
       "                        }\n",
       "                        break;\n",
       "                    }\n",
       "                }\n",
       "            }, 500);\n",
       "            "
      ],
      "text/plain": [
       "<IPython.core.display.Javascript object>"
      ]
     },
     "metadata": {},
     "output_type": "display_data"
    }
   ],
   "source": [
    "# dataframe for false negatives sorted by prediction probability descending\n",
    "f_negs = preds_df[(preds_df.y_true == 1) & (preds_df.y_preds == 0)].sort_values(\n",
    "    \"pred_prob\", ascending=False\n",
    ")\n",
    "f_negs.count()[0]"
   ]
  },
  {
   "cell_type": "code",
   "execution_count": 52,
   "metadata": {},
   "outputs": [
    {
     "data": {
      "text/plain": [
       "<matplotlib.axes._subplots.AxesSubplot at 0x18b490c7f40>"
      ]
     },
     "execution_count": 52,
     "metadata": {},
     "output_type": "execute_result"
    },
    {
     "data": {
      "image/png": "[encoded data removed]",
      "text/plain": [
       "<Figure size 432x288 with 1 Axes>"
      ]
     },
     "metadata": {},
     "output_type": "display_data"
    },
    {
     "data": {
      "application/javascript": [
       "\n",
       "            setTimeout(function() {\n",
       "                var nbb_cell_id = 52;\n",
       "                var nbb_unformatted_code = \"preds_df.pred_prob.hist()\";\n",
       "                var nbb_formatted_code = \"preds_df.pred_prob.hist()\";\n",
       "                var nbb_cells = Jupyter.notebook.get_cells();\n",
       "                for (var i = 0; i < nbb_cells.length; ++i) {\n",
       "                    if (nbb_cells[i].input_prompt_number == nbb_cell_id) {\n",
       "                        if (nbb_cells[i].get_text() == nbb_unformatted_code) {\n",
       "                             nbb_cells[i].set_text(nbb_formatted_code);\n",
       "                        }\n",
       "                        break;\n",
       "                    }\n",
       "                }\n",
       "            }, 500);\n",
       "            "
      ],
      "text/plain": [
       "<IPython.core.display.Javascript object>"
      ]
     },
     "metadata": {},
     "output_type": "display_data"
    }
   ],
   "source": [
    "preds_df.pred_prob.hist()"
   ]
  },
  {
   "cell_type": "markdown",
   "metadata": {},
   "source": [
    "# Support Vector Classifer"
   ]
  },
  {
   "cell_type": "code",
   "execution_count": 53,
   "metadata": {},
   "outputs": [
    {
     "data": {
      "application/javascript": [
       "\n",
       "            setTimeout(function() {\n",
       "                var nbb_cell_id = 53;\n",
       "                var nbb_unformatted_code = \"drop_cols = [\\n    \\\"disease\\\",\\n    \\\"yrs\\\",\\n    \\\"height_in\\\",\\n    \\\"height_ft\\\",\\n    #     \\\"bp_diff\\\",\\n    #     \\\"bmi\\\",\\n    #         \\\"height\\\",\\n    #     \\\"weight\\\",\\n]\\n\\nX = df.drop(columns=drop_cols)\\ny = df.disease\\n\\nX_train, X_test, y_train, y_test = train_test_split(\\n    X, y, test_size=0.2, random_state=28, stratify=df.disease\\n)\";\n",
       "                var nbb_formatted_code = \"drop_cols = [\\n    \\\"disease\\\",\\n    \\\"yrs\\\",\\n    \\\"height_in\\\",\\n    \\\"height_ft\\\",\\n    #     \\\"bp_diff\\\",\\n    #     \\\"bmi\\\",\\n    #         \\\"height\\\",\\n    #     \\\"weight\\\",\\n]\\n\\nX = df.drop(columns=drop_cols)\\ny = df.disease\\n\\nX_train, X_test, y_train, y_test = train_test_split(\\n    X, y, test_size=0.2, random_state=28, stratify=df.disease\\n)\";\n",
       "                var nbb_cells = Jupyter.notebook.get_cells();\n",
       "                for (var i = 0; i < nbb_cells.length; ++i) {\n",
       "                    if (nbb_cells[i].input_prompt_number == nbb_cell_id) {\n",
       "                        if (nbb_cells[i].get_text() == nbb_unformatted_code) {\n",
       "                             nbb_cells[i].set_text(nbb_formatted_code);\n",
       "                        }\n",
       "                        break;\n",
       "                    }\n",
       "                }\n",
       "            }, 500);\n",
       "            "
      ],
      "text/plain": [
       "<IPython.core.display.Javascript object>"
      ]
     },
     "metadata": {},
     "output_type": "display_data"
    }
   ],
   "source": [
    "drop_cols = [\n",
    "    \"disease\",\n",
    "    \"yrs\",\n",
    "    \"height_in\",\n",
    "    \"height_ft\",\n",
    "    #     \"bp_diff\",\n",
    "    #     \"bmi\",\n",
    "    #         \"height\",\n",
    "    #     \"weight\",\n",
    "]\n",
    "\n",
    "X = df.drop(columns=drop_cols)\n",
    "y = df.disease\n",
    "\n",
    "X_train, X_test, y_train, y_test = train_test_split(\n",
    "    X, y, test_size=0.2, random_state=28, stratify=df.disease\n",
    ")"
   ]
  },
  {
   "cell_type": "code",
   "execution_count": 54,
   "metadata": {},
   "outputs": [
    {
     "data": {
      "application/javascript": [
       "\n",
       "            setTimeout(function() {\n",
       "                var nbb_cell_id = 54;\n",
       "                var nbb_unformatted_code = \"# fmt: off\\npipeline = Pipeline(\\n    [\\n        (\\\"processing\\\", preprocessing),\\n        (\\\"model\\\", SVC())\\n    ]\\n)\";\n",
       "                var nbb_formatted_code = \"# fmt: off\\npipeline = Pipeline(\\n    [\\n        (\\\"processing\\\", preprocessing),\\n        (\\\"model\\\", SVC())\\n    ]\\n)\";\n",
       "                var nbb_cells = Jupyter.notebook.get_cells();\n",
       "                for (var i = 0; i < nbb_cells.length; ++i) {\n",
       "                    if (nbb_cells[i].input_prompt_number == nbb_cell_id) {\n",
       "                        if (nbb_cells[i].get_text() == nbb_unformatted_code) {\n",
       "                             nbb_cells[i].set_text(nbb_formatted_code);\n",
       "                        }\n",
       "                        break;\n",
       "                    }\n",
       "                }\n",
       "            }, 500);\n",
       "            "
      ],
      "text/plain": [
       "<IPython.core.display.Javascript object>"
      ]
     },
     "metadata": {},
     "output_type": "display_data"
    }
   ],
   "source": [
    "# fmt: off\n",
    "pipeline = Pipeline(\n",
    "    [\n",
    "        (\"processing\", preprocessing),\n",
    "        (\"model\", SVC())\n",
    "    ]\n",
    ")"
   ]
  },
  {
   "cell_type": "code",
   "execution_count": null,
   "metadata": {},
   "outputs": [
    {
     "name": "stdout",
     "output_type": "stream",
     "text": [
      "Fitting 2 folds for each of 4 candidates, totalling 8 fits\n"
     ]
    },
    {
     "name": "stderr",
     "output_type": "stream",
     "text": [
      "[Parallel(n_jobs=4)]: Using backend LokyBackend with 4 concurrent workers.\n"
     ]
    }
   ],
   "source": [
    "grid = {\n",
    "    \"model__kernel\": [\"rbf\"],\n",
    "    \"model__gamma\": [0.1],\n",
    "    # \"model__degree\": [1,2,5],\n",
    "    \"model__C\": np.arange(1,9,2),\n",
    "}\n",
    "\n",
    "model = GridSearchCV(pipeline, grid, verbose=1, cv=2, n_jobs=4)\n",
    "model.fit(X_train, y_train)\n",
    "\n",
    "best_params = model.best_params_\n",
    "train_score = model.score(X_train, y_train)\n",
    "test_score = model.score(X_test, y_test)\n",
    "\n",
    "print(f\"parameters: {best_params}\")\n",
    "print(\"=======================================\")\n",
    "print(f\"train score: {train_score}\")\n",
    "print(f\"test score: {test_score}\")"
   ]
  },
  {
   "cell_type": "markdown",
   "metadata": {},
   "source": [
    "## Prediction Results"
   ]
  },
  {
   "cell_type": "code",
   "execution_count": null,
   "metadata": {},
   "outputs": [],
   "source": [
    "pred_prob = pipeline_cv.predict_proba(X_test)\n",
    "# pred_prob\n",
    "\n",
    "prob_true, prob_pred = calibration_curve(y_test, pred_prob[:, 1], n_bins=10)\n",
    "plt.plot(prob_pred, prob_true, \"-o\")\n",
    "plt.show()"
   ]
  },
  {
   "cell_type": "code",
   "execution_count": null,
   "metadata": {},
   "outputs": [],
   "source": [
    "y_preds = pipeline_cv.predict(X_test)\n",
    "preds_df, fig = predictions_df(X_test, y_test, y_preds)"
   ]
  },
  {
   "cell_type": "code",
   "execution_count": null,
   "metadata": {},
   "outputs": [],
   "source": [
    "# confusion_matrix\n",
    "cm = confusion_matrix(y_test, y_preds)\n",
    "cm"
   ]
  },
  {
   "cell_type": "code",
   "execution_count": null,
   "metadata": {},
   "outputs": [],
   "source": [
    "# classification report\n",
    "print(classification_report(y_test, y_preds))"
   ]
  },
  {
   "cell_type": "markdown",
   "metadata": {},
   "source": [
    "## Error analysis"
   ]
  },
  {
   "cell_type": "code",
   "execution_count": null,
   "metadata": {},
   "outputs": [],
   "source": [
    "preds_df, fig = predictions_df(X_test, y_test, y_preds)\n",
    "# display(preds_df[preds_df.residuals == -1].head(50))\n",
    "\n",
    "mistakes = preds_df[preds_df.abs_residuals == 1]\n",
    "correct = preds_df[preds_df.abs_residuals == 0]\n",
    "\n",
    "# add prediction probs to preds_df\n",
    "preds_df[\"pred_prob\"] = pred_prob[:, 1]\n",
    "\n",
    "preds_df = preds_df.drop(columns=[\"residuals\", \"abs_residuals\"])"
   ]
  },
  {
   "cell_type": "code",
   "execution_count": null,
   "metadata": {},
   "outputs": [],
   "source": [
    "# dataframe for false negatives sorted by prediction probability descending\n",
    "f_negs = preds_df[(preds_df.y_true == 1) & (preds_df.y_preds == 0)].sort_values(\n",
    "    \"pred_prob\", ascending=False\n",
    ")\n",
    "f_negs.count()[0]"
   ]
  },
  {
   "cell_type": "code",
   "execution_count": null,
   "metadata": {},
   "outputs": [],
   "source": [
    "# histogram of prediction probability\n",
    "preds_df.pred_prob.hist()"
   ]
  }
 ],
 "metadata": {
  "kernelspec": {
   "display_name": "Python 3",
   "language": "python",
   "name": "python3"
  },
  "language_info": {
   "codemirror_mode": {
    "name": "ipython",
    "version": 3
   },
   "file_extension": ".py",
   "mimetype": "text/x-python",
   "name": "python",
   "nbconvert_exporter": "python",
   "pygments_lexer": "ipython3",
   "version": "3.8.3"
  },
  "toc": {
   "base_numbering": 1,
   "nav_menu": {},
   "number_sections": false,
   "sideBar": true,
   "skip_h1_title": false,
   "title_cell": "Table of Contents",
   "title_sidebar": "Contents",
   "toc_cell": false,
   "toc_position": {
    "height": "calc(100% - 180px)",
    "left": "10px",
    "top": "150px",
    "width": "175.575px"
   },
   "toc_section_display": true,
   "toc_window_display": true
  }
 },
 "nbformat": 4,
 "nbformat_minor": 4
}
