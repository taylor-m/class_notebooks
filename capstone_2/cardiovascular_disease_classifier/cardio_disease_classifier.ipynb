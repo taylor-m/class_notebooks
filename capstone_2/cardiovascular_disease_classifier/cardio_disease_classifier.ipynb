{
 "cells": [
  {
   "cell_type": "markdown",
   "metadata": {},
   "source": [
    "# Imports"
   ]
  },
  {
   "cell_type": "code",
   "execution_count": 1,
   "metadata": {},
   "outputs": [
    {
     "data": {
      "application/javascript": [
       "\n",
       "            setTimeout(function() {\n",
       "                var nbb_cell_id = 1;\n",
       "                var nbb_unformatted_code = \"%reload_ext nb_black\\nimport pandas as pd\\nimport numpy as np\\nfrom matplotlib import pyplot as plt\\nimport plotly\\nimport seaborn as sns\\n\\n%matplotlib inline\\n\\nplt.style.use([\\\"dark_background\\\"])\\n# %matplotlib ipympl\\n\\nfrom sklearn.svm import SVC\\nfrom xgboost import XGBClassifier\\nfrom sklearn.linear_model import LogisticRegression\\n\\nfrom sklearn.model_selection import train_test_split, GridSearchCV\\nfrom category_encoders import LeaveOneOutEncoder\\nfrom sklearn.compose import ColumnTransformer\\nfrom sklearn.pipeline import Pipeline, make_pipeline\\nfrom sklearn.preprocessing import StandardScaler, MinMaxScaler\\nimport warnings\\nfrom functions_pkg import print_vif, predictions_df\\nfrom sklearn.metrics import (\\n    plot_confusion_matrix,\\n    plot_roc_curve,\\n    plot_precision_recall_curve,\\n    classification_report,\\n    confusion_matrix,\\n    precision_score,\\n    recall_score,\\n)\\nfrom sklearn.calibration import calibration_curve\";\n",
       "                var nbb_formatted_code = \"%reload_ext nb_black\\nimport pandas as pd\\nimport numpy as np\\nfrom matplotlib import pyplot as plt\\nimport plotly\\nimport seaborn as sns\\n\\n%matplotlib inline\\n\\nplt.style.use([\\\"dark_background\\\"])\\n# %matplotlib ipympl\\n\\nfrom sklearn.svm import SVC\\nfrom xgboost import XGBClassifier\\nfrom sklearn.linear_model import LogisticRegression\\n\\nfrom sklearn.model_selection import train_test_split, GridSearchCV\\nfrom category_encoders import LeaveOneOutEncoder\\nfrom sklearn.compose import ColumnTransformer\\nfrom sklearn.pipeline import Pipeline, make_pipeline\\nfrom sklearn.preprocessing import StandardScaler, MinMaxScaler\\nimport warnings\\nfrom functions_pkg import print_vif, predictions_df\\nfrom sklearn.metrics import (\\n    plot_confusion_matrix,\\n    plot_roc_curve,\\n    plot_precision_recall_curve,\\n    classification_report,\\n    confusion_matrix,\\n    precision_score,\\n    recall_score,\\n)\\nfrom sklearn.calibration import calibration_curve\";\n",
       "                var nbb_cells = Jupyter.notebook.get_cells();\n",
       "                for (var i = 0; i < nbb_cells.length; ++i) {\n",
       "                    if (nbb_cells[i].input_prompt_number == nbb_cell_id) {\n",
       "                        if (nbb_cells[i].get_text() == nbb_unformatted_code) {\n",
       "                             nbb_cells[i].set_text(nbb_formatted_code);\n",
       "                        }\n",
       "                        break;\n",
       "                    }\n",
       "                }\n",
       "            }, 500);\n",
       "            "
      ],
      "text/plain": [
       "<IPython.core.display.Javascript object>"
      ]
     },
     "metadata": {},
     "output_type": "display_data"
    }
   ],
   "source": [
    "%reload_ext nb_black\n",
    "import pandas as pd\n",
    "import numpy as np\n",
    "from matplotlib import pyplot as plt\n",
    "import plotly\n",
    "import seaborn as sns\n",
    "\n",
    "%matplotlib inline\n",
    "\n",
    "plt.style.use([\"dark_background\"])\n",
    "# %matplotlib ipympl\n",
    "\n",
    "from sklearn.svm import SVC\n",
    "from xgboost import XGBClassifier\n",
    "from sklearn.linear_model import LogisticRegression\n",
    "\n",
    "from sklearn.model_selection import train_test_split, GridSearchCV\n",
    "from category_encoders import LeaveOneOutEncoder\n",
    "from sklearn.compose import ColumnTransformer\n",
    "from sklearn.pipeline import Pipeline, make_pipeline\n",
    "from sklearn.preprocessing import StandardScaler, MinMaxScaler\n",
    "import warnings\n",
    "from functions_pkg import print_vif, predictions_df\n",
    "from sklearn.metrics import (\n",
    "    plot_confusion_matrix,\n",
    "    plot_roc_curve,\n",
    "    plot_precision_recall_curve,\n",
    "    classification_report,\n",
    "    confusion_matrix,\n",
    "    precision_score,\n",
    "    recall_score,\n",
    ")\n",
    "from sklearn.calibration import calibration_curve"
   ]
  },
  {
   "cell_type": "markdown",
   "metadata": {},
   "source": [
    "* Categorical or continuous\n",
    "* 10,000+ samples\n",
    "* 20+ features"
   ]
  },
  {
   "cell_type": "markdown",
   "metadata": {},
   "source": [
    "age = days (int)"
   ]
  },
  {
   "cell_type": "code",
   "execution_count": 2,
   "metadata": {
    "deletable": false,
    "editable": false
   },
   "outputs": [
    {
     "data": {
      "application/javascript": [
       "\n",
       "            setTimeout(function() {\n",
       "                var nbb_cell_id = 2;\n",
       "                var nbb_unformatted_code = \"url = \\\"https://raw.githubusercontent.com/taylor-m/class_notebooks/main/capstone_2/cardiovascular_disease_classifier/cardiovascular_disease_prediction/cardio_train.csv\\\"\\ndf = pd.read_csv(url, sep=\\\";\\\", index_col=\\\"id\\\")\";\n",
       "                var nbb_formatted_code = \"url = \\\"https://raw.githubusercontent.com/taylor-m/class_notebooks/main/capstone_2/cardiovascular_disease_classifier/cardiovascular_disease_prediction/cardio_train.csv\\\"\\ndf = pd.read_csv(url, sep=\\\";\\\", index_col=\\\"id\\\")\";\n",
       "                var nbb_cells = Jupyter.notebook.get_cells();\n",
       "                for (var i = 0; i < nbb_cells.length; ++i) {\n",
       "                    if (nbb_cells[i].input_prompt_number == nbb_cell_id) {\n",
       "                        if (nbb_cells[i].get_text() == nbb_unformatted_code) {\n",
       "                             nbb_cells[i].set_text(nbb_formatted_code);\n",
       "                        }\n",
       "                        break;\n",
       "                    }\n",
       "                }\n",
       "            }, 500);\n",
       "            "
      ],
      "text/plain": [
       "<IPython.core.display.Javascript object>"
      ]
     },
     "metadata": {},
     "output_type": "display_data"
    }
   ],
   "source": [
    "url = \"https://raw.githubusercontent.com/taylor-m/class_notebooks/main/capstone_2/cardiovascular_disease_classifier/cardiovascular_disease_prediction/cardio_train.csv\"\n",
    "df = pd.read_csv(url, sep=\";\", index_col=\"id\")"
   ]
  },
  {
   "cell_type": "code",
   "execution_count": 3,
   "metadata": {},
   "outputs": [
    {
     "data": {
      "application/javascript": [
       "\n",
       "            setTimeout(function() {\n",
       "                var nbb_cell_id = 3;\n",
       "                var nbb_unformatted_code = \"# path = \\\"cardiovascular_disease_prediction/cardio_train.csv\\\"\\n# df = pd.read_csv(path, sep=\\\";\\\", index_col=\\\"id\\\")\";\n",
       "                var nbb_formatted_code = \"# path = \\\"cardiovascular_disease_prediction/cardio_train.csv\\\"\\n# df = pd.read_csv(path, sep=\\\";\\\", index_col=\\\"id\\\")\";\n",
       "                var nbb_cells = Jupyter.notebook.get_cells();\n",
       "                for (var i = 0; i < nbb_cells.length; ++i) {\n",
       "                    if (nbb_cells[i].input_prompt_number == nbb_cell_id) {\n",
       "                        if (nbb_cells[i].get_text() == nbb_unformatted_code) {\n",
       "                             nbb_cells[i].set_text(nbb_formatted_code);\n",
       "                        }\n",
       "                        break;\n",
       "                    }\n",
       "                }\n",
       "            }, 500);\n",
       "            "
      ],
      "text/plain": [
       "<IPython.core.display.Javascript object>"
      ]
     },
     "metadata": {},
     "output_type": "display_data"
    }
   ],
   "source": [
    "# path = \"cardiovascular_disease_prediction/cardio_train.csv\"\n",
    "# df = pd.read_csv(path, sep=\";\", index_col=\"id\")"
   ]
  },
  {
   "cell_type": "code",
   "execution_count": 4,
   "metadata": {
    "deletable": false,
    "editable": false
   },
   "outputs": [
    {
     "data": {
      "application/javascript": [
       "\n",
       "            setTimeout(function() {\n",
       "                var nbb_cell_id = 4;\n",
       "                var nbb_unformatted_code = \"# column renaming\\nmapping = {\\n    \\\"ap_hi\\\": \\\"bp_hi\\\",\\n    \\\"ap_lo\\\": \\\"bp_lo\\\",\\n    \\\"gluc\\\": \\\"glucose\\\",\\n    \\\"alco\\\": \\\"alcohol\\\",\\n    \\\"cardio\\\": \\\"disease\\\",\\n}\\n\\ndf = df.rename(columns=mapping)\";\n",
       "                var nbb_formatted_code = \"# column renaming\\nmapping = {\\n    \\\"ap_hi\\\": \\\"bp_hi\\\",\\n    \\\"ap_lo\\\": \\\"bp_lo\\\",\\n    \\\"gluc\\\": \\\"glucose\\\",\\n    \\\"alco\\\": \\\"alcohol\\\",\\n    \\\"cardio\\\": \\\"disease\\\",\\n}\\n\\ndf = df.rename(columns=mapping)\";\n",
       "                var nbb_cells = Jupyter.notebook.get_cells();\n",
       "                for (var i = 0; i < nbb_cells.length; ++i) {\n",
       "                    if (nbb_cells[i].input_prompt_number == nbb_cell_id) {\n",
       "                        if (nbb_cells[i].get_text() == nbb_unformatted_code) {\n",
       "                             nbb_cells[i].set_text(nbb_formatted_code);\n",
       "                        }\n",
       "                        break;\n",
       "                    }\n",
       "                }\n",
       "            }, 500);\n",
       "            "
      ],
      "text/plain": [
       "<IPython.core.display.Javascript object>"
      ]
     },
     "metadata": {},
     "output_type": "display_data"
    }
   ],
   "source": [
    "# column renaming\n",
    "mapping = {\n",
    "    \"ap_hi\": \"bp_hi\",\n",
    "    \"ap_lo\": \"bp_lo\",\n",
    "    \"gluc\": \"glucose\",\n",
    "    \"alco\": \"alcohol\",\n",
    "    \"cardio\": \"disease\",\n",
    "}\n",
    "\n",
    "df = df.rename(columns=mapping)"
   ]
  },
  {
   "cell_type": "code",
   "execution_count": 5,
   "metadata": {},
   "outputs": [
    {
     "data": {
      "text/plain": [
       "0    35021\n",
       "1    34979\n",
       "Name: disease, dtype: int64"
      ]
     },
     "execution_count": 5,
     "metadata": {},
     "output_type": "execute_result"
    },
    {
     "data": {
      "application/javascript": [
       "\n",
       "            setTimeout(function() {\n",
       "                var nbb_cell_id = 5;\n",
       "                var nbb_unformatted_code = \"# dataset is well balanced\\ndf.disease.value_counts()\";\n",
       "                var nbb_formatted_code = \"# dataset is well balanced\\ndf.disease.value_counts()\";\n",
       "                var nbb_cells = Jupyter.notebook.get_cells();\n",
       "                for (var i = 0; i < nbb_cells.length; ++i) {\n",
       "                    if (nbb_cells[i].input_prompt_number == nbb_cell_id) {\n",
       "                        if (nbb_cells[i].get_text() == nbb_unformatted_code) {\n",
       "                             nbb_cells[i].set_text(nbb_formatted_code);\n",
       "                        }\n",
       "                        break;\n",
       "                    }\n",
       "                }\n",
       "            }, 500);\n",
       "            "
      ],
      "text/plain": [
       "<IPython.core.display.Javascript object>"
      ]
     },
     "metadata": {},
     "output_type": "display_data"
    }
   ],
   "source": [
    "# dataset is well balanced\n",
    "df.disease.value_counts()"
   ]
  },
  {
   "cell_type": "code",
   "execution_count": 6,
   "metadata": {},
   "outputs": [
    {
     "data": {
      "text/plain": [
       "disease        0.0\n",
       "active         0.0\n",
       "alcohol        0.0\n",
       "smoke          0.0\n",
       "glucose        0.0\n",
       "cholesterol    0.0\n",
       "bp_lo          0.0\n",
       "bp_hi          0.0\n",
       "weight         0.0\n",
       "height         0.0\n",
       "gender         0.0\n",
       "age            0.0\n",
       "dtype: float64"
      ]
     },
     "execution_count": 6,
     "metadata": {},
     "output_type": "execute_result"
    },
    {
     "data": {
      "application/javascript": [
       "\n",
       "            setTimeout(function() {\n",
       "                var nbb_cell_id = 6;\n",
       "                var nbb_unformatted_code = \"# no null values in the data\\ndf.isna().mean().sort_values(ascending=False)\";\n",
       "                var nbb_formatted_code = \"# no null values in the data\\ndf.isna().mean().sort_values(ascending=False)\";\n",
       "                var nbb_cells = Jupyter.notebook.get_cells();\n",
       "                for (var i = 0; i < nbb_cells.length; ++i) {\n",
       "                    if (nbb_cells[i].input_prompt_number == nbb_cell_id) {\n",
       "                        if (nbb_cells[i].get_text() == nbb_unformatted_code) {\n",
       "                             nbb_cells[i].set_text(nbb_formatted_code);\n",
       "                        }\n",
       "                        break;\n",
       "                    }\n",
       "                }\n",
       "            }, 500);\n",
       "            "
      ],
      "text/plain": [
       "<IPython.core.display.Javascript object>"
      ]
     },
     "metadata": {},
     "output_type": "display_data"
    }
   ],
   "source": [
    "# no null values in the data\n",
    "df.isna().mean().sort_values(ascending=False)"
   ]
  },
  {
   "cell_type": "markdown",
   "metadata": {},
   "source": [
    "# Data Cleaning"
   ]
  },
  {
   "cell_type": "code",
   "execution_count": 7,
   "metadata": {
    "deletable": false,
    "editable": false
   },
   "outputs": [
    {
     "data": {
      "application/javascript": [
       "\n",
       "            setTimeout(function() {\n",
       "                var nbb_cell_id = 7;\n",
       "                var nbb_unformatted_code = \"# change gender to 0-1 binary\\ndf.loc[:, \\\"gender\\\"] = df.gender - 1\";\n",
       "                var nbb_formatted_code = \"# change gender to 0-1 binary\\ndf.loc[:, \\\"gender\\\"] = df.gender - 1\";\n",
       "                var nbb_cells = Jupyter.notebook.get_cells();\n",
       "                for (var i = 0; i < nbb_cells.length; ++i) {\n",
       "                    if (nbb_cells[i].input_prompt_number == nbb_cell_id) {\n",
       "                        if (nbb_cells[i].get_text() == nbb_unformatted_code) {\n",
       "                             nbb_cells[i].set_text(nbb_formatted_code);\n",
       "                        }\n",
       "                        break;\n",
       "                    }\n",
       "                }\n",
       "            }, 500);\n",
       "            "
      ],
      "text/plain": [
       "<IPython.core.display.Javascript object>"
      ]
     },
     "metadata": {},
     "output_type": "display_data"
    }
   ],
   "source": [
    "# change gender to 0-1 binary\n",
    "df.loc[:, \"gender\"] = df.gender - 1"
   ]
  },
  {
   "cell_type": "code",
   "execution_count": 8,
   "metadata": {
    "deletable": false,
    "editable": false
   },
   "outputs": [
    {
     "data": {
      "application/javascript": [
       "\n",
       "            setTimeout(function() {\n",
       "                var nbb_cell_id = 8;\n",
       "                var nbb_unformatted_code = \"# reduce interval in cholesterol & glucose from 1-3 to 0-2\\ndf.loc[:, \\\"cholesterol\\\"] = df.cholesterol - 1\\ndf.loc[:, \\\"glucose\\\"] = df.glucose - 1\";\n",
       "                var nbb_formatted_code = \"# reduce interval in cholesterol & glucose from 1-3 to 0-2\\ndf.loc[:, \\\"cholesterol\\\"] = df.cholesterol - 1\\ndf.loc[:, \\\"glucose\\\"] = df.glucose - 1\";\n",
       "                var nbb_cells = Jupyter.notebook.get_cells();\n",
       "                for (var i = 0; i < nbb_cells.length; ++i) {\n",
       "                    if (nbb_cells[i].input_prompt_number == nbb_cell_id) {\n",
       "                        if (nbb_cells[i].get_text() == nbb_unformatted_code) {\n",
       "                             nbb_cells[i].set_text(nbb_formatted_code);\n",
       "                        }\n",
       "                        break;\n",
       "                    }\n",
       "                }\n",
       "            }, 500);\n",
       "            "
      ],
      "text/plain": [
       "<IPython.core.display.Javascript object>"
      ]
     },
     "metadata": {},
     "output_type": "display_data"
    }
   ],
   "source": [
    "# reduce interval in cholesterol & glucose from 1-3 to 0-2\n",
    "df.loc[:, \"cholesterol\"] = df.cholesterol - 1\n",
    "df.loc[:, \"glucose\"] = df.glucose - 1"
   ]
  },
  {
   "cell_type": "markdown",
   "metadata": {},
   "source": [
    "# Exploration"
   ]
  },
  {
   "cell_type": "code",
   "execution_count": 9,
   "metadata": {},
   "outputs": [
    {
     "data": {
      "application/javascript": [
       "\n",
       "            setTimeout(function() {\n",
       "                var nbb_cell_id = 9;\n",
       "                var nbb_unformatted_code = \"num_cols = [\\\"age\\\", \\\"bp_hi\\\", \\\"bp_lo\\\"]\";\n",
       "                var nbb_formatted_code = \"num_cols = [\\\"age\\\", \\\"bp_hi\\\", \\\"bp_lo\\\"]\";\n",
       "                var nbb_cells = Jupyter.notebook.get_cells();\n",
       "                for (var i = 0; i < nbb_cells.length; ++i) {\n",
       "                    if (nbb_cells[i].input_prompt_number == nbb_cell_id) {\n",
       "                        if (nbb_cells[i].get_text() == nbb_unformatted_code) {\n",
       "                             nbb_cells[i].set_text(nbb_formatted_code);\n",
       "                        }\n",
       "                        break;\n",
       "                    }\n",
       "                }\n",
       "            }, 500);\n",
       "            "
      ],
      "text/plain": [
       "<IPython.core.display.Javascript object>"
      ]
     },
     "metadata": {},
     "output_type": "display_data"
    }
   ],
   "source": [
    "num_cols = [\"age\", \"bp_hi\", \"bp_lo\"]\n"
   ]
  },
  {
   "cell_type": "code",
   "execution_count": 10,
   "metadata": {
    "scrolled": true
   },
   "outputs": [
    {
     "data": {
      "image/png": "[encoded data removed]",
      "text/plain": [
       "<Figure size 432x288 with 1 Axes>"
      ]
     },
     "metadata": {},
     "output_type": "display_data"
    },
    {
     "data": {
      "image/png": "[encoded data removed]",
      "text/plain": [
       "<Figure size 432x288 with 1 Axes>"
      ]
     },
     "metadata": {},
     "output_type": "display_data"
    },
    {
     "data": {
      "image/png": "[encoded data removed]",
      "text/plain": [
       "<Figure size 432x288 with 1 Axes>"
      ]
     },
     "metadata": {},
     "output_type": "display_data"
    },
    {
     "data": {
      "application/javascript": [
       "\n",
       "            setTimeout(function() {\n",
       "                var nbb_cell_id = 10;\n",
       "                var nbb_unformatted_code = \"for col in num_cols:\\n    sns.violinplot(x=\\\"disease\\\", y=col, data=df)\\n    plt.show()\";\n",
       "                var nbb_formatted_code = \"for col in num_cols:\\n    sns.violinplot(x=\\\"disease\\\", y=col, data=df)\\n    plt.show()\";\n",
       "                var nbb_cells = Jupyter.notebook.get_cells();\n",
       "                for (var i = 0; i < nbb_cells.length; ++i) {\n",
       "                    if (nbb_cells[i].input_prompt_number == nbb_cell_id) {\n",
       "                        if (nbb_cells[i].get_text() == nbb_unformatted_code) {\n",
       "                             nbb_cells[i].set_text(nbb_formatted_code);\n",
       "                        }\n",
       "                        break;\n",
       "                    }\n",
       "                }\n",
       "            }, 500);\n",
       "            "
      ],
      "text/plain": [
       "<IPython.core.display.Javascript object>"
      ]
     },
     "metadata": {},
     "output_type": "display_data"
    }
   ],
   "source": [
    "for col in num_cols:\n",
    "    sns.violinplot(x=\"disease\", y=col, data=df)\n",
    "    plt.show()"
   ]
  },
  {
   "cell_type": "markdown",
   "metadata": {},
   "source": [
    "## BP value errors"
   ]
  },
  {
   "cell_type": "code",
   "execution_count": 11,
   "metadata": {},
   "outputs": [
    {
     "data": {
      "image/png": "[encoded data removed]",
      "text/plain": [
       "<Figure size 432x288 with 1 Axes>"
      ]
     },
     "metadata": {},
     "output_type": "display_data"
    },
    {
     "data": {
      "image/png": "[encoded data removed]",
      "text/plain": [
       "<Figure size 432x288 with 1 Axes>"
      ]
     },
     "metadata": {},
     "output_type": "display_data"
    },
    {
     "data": {
      "application/javascript": [
       "\n",
       "            setTimeout(function() {\n",
       "                var nbb_cell_id = 11;\n",
       "                var nbb_unformatted_code = \"# extreme values in bp_hi need to be corrected\\nbp_cols = [\\\"bp_hi\\\", \\\"bp_lo\\\"]\\nfor col in bp_cols:\\n    sns.violinplot(x=\\\"disease\\\", y=col, data=df)\\n    plt.show()\";\n",
       "                var nbb_formatted_code = \"# extreme values in bp_hi need to be corrected\\nbp_cols = [\\\"bp_hi\\\", \\\"bp_lo\\\"]\\nfor col in bp_cols:\\n    sns.violinplot(x=\\\"disease\\\", y=col, data=df)\\n    plt.show()\";\n",
       "                var nbb_cells = Jupyter.notebook.get_cells();\n",
       "                for (var i = 0; i < nbb_cells.length; ++i) {\n",
       "                    if (nbb_cells[i].input_prompt_number == nbb_cell_id) {\n",
       "                        if (nbb_cells[i].get_text() == nbb_unformatted_code) {\n",
       "                             nbb_cells[i].set_text(nbb_formatted_code);\n",
       "                        }\n",
       "                        break;\n",
       "                    }\n",
       "                }\n",
       "            }, 500);\n",
       "            "
      ],
      "text/plain": [
       "<IPython.core.display.Javascript object>"
      ]
     },
     "metadata": {},
     "output_type": "display_data"
    }
   ],
   "source": [
    "# extreme values in bp_hi need to be corrected\n",
    "bp_cols = [\"bp_hi\", \"bp_lo\"]\n",
    "for col in bp_cols:\n",
    "    sns.violinplot(x=\"disease\", y=col, data=df)\n",
    "    plt.show()"
   ]
  },
  {
   "cell_type": "code",
   "execution_count": 12,
   "metadata": {},
   "outputs": [
    {
     "data": {
      "application/javascript": [
       "\n",
       "            setTimeout(function() {\n",
       "                var nbb_cell_id = 12;\n",
       "                var nbb_unformatted_code = \"# 993 samples with extreme values for bp_hi or bp_lo\\nidx = df[(abs(df.bp_hi) > 300) | (abs(df.bp_lo) > 200)].index\\ndf = df.drop(index=idx)\";\n",
       "                var nbb_formatted_code = \"# 993 samples with extreme values for bp_hi or bp_lo\\nidx = df[(abs(df.bp_hi) > 300) | (abs(df.bp_lo) > 200)].index\\ndf = df.drop(index=idx)\";\n",
       "                var nbb_cells = Jupyter.notebook.get_cells();\n",
       "                for (var i = 0; i < nbb_cells.length; ++i) {\n",
       "                    if (nbb_cells[i].input_prompt_number == nbb_cell_id) {\n",
       "                        if (nbb_cells[i].get_text() == nbb_unformatted_code) {\n",
       "                             nbb_cells[i].set_text(nbb_formatted_code);\n",
       "                        }\n",
       "                        break;\n",
       "                    }\n",
       "                }\n",
       "            }, 500);\n",
       "            "
      ],
      "text/plain": [
       "<IPython.core.display.Javascript object>"
      ]
     },
     "metadata": {},
     "output_type": "display_data"
    }
   ],
   "source": [
    "# 993 samples with extreme values for bp_hi or bp_lo\n",
    "idx = df[(abs(df.bp_hi) > 300) | (abs(df.bp_lo) > 200)].index\n",
    "df = df.drop(index=idx)"
   ]
  },
  {
   "cell_type": "code",
   "execution_count": 13,
   "metadata": {},
   "outputs": [
    {
     "data": {
      "application/javascript": [
       "\n",
       "            setTimeout(function() {\n",
       "                var nbb_cell_id = 13;\n",
       "                var nbb_unformatted_code = \"# drop samples with negative bp_values\\nidx = df[(df.bp_hi < 0) | (df.bp_lo < 0)].index\\ndf = df.drop(index=idx)\";\n",
       "                var nbb_formatted_code = \"# drop samples with negative bp_values\\nidx = df[(df.bp_hi < 0) | (df.bp_lo < 0)].index\\ndf = df.drop(index=idx)\";\n",
       "                var nbb_cells = Jupyter.notebook.get_cells();\n",
       "                for (var i = 0; i < nbb_cells.length; ++i) {\n",
       "                    if (nbb_cells[i].input_prompt_number == nbb_cell_id) {\n",
       "                        if (nbb_cells[i].get_text() == nbb_unformatted_code) {\n",
       "                             nbb_cells[i].set_text(nbb_formatted_code);\n",
       "                        }\n",
       "                        break;\n",
       "                    }\n",
       "                }\n",
       "            }, 500);\n",
       "            "
      ],
      "text/plain": [
       "<IPython.core.display.Javascript object>"
      ]
     },
     "metadata": {},
     "output_type": "display_data"
    }
   ],
   "source": [
    "# drop samples with negative bp_values\n",
    "idx = df[(df.bp_hi < 0) | (df.bp_lo < 0)].index\n",
    "df = df.drop(index=idx)"
   ]
  },
  {
   "cell_type": "code",
   "execution_count": 14,
   "metadata": {},
   "outputs": [
    {
     "data": {
      "application/javascript": [
       "\n",
       "            setTimeout(function() {\n",
       "                var nbb_cell_id = 14;\n",
       "                var nbb_unformatted_code = \"# drop samples with bp_hi or bp_lo values less than 50; data entry error\\nidx = df[(df.bp_lo < 50) | (df.bp_hi < 50)].index\\ndf = df.drop(index=idx)\";\n",
       "                var nbb_formatted_code = \"# drop samples with bp_hi or bp_lo values less than 50; data entry error\\nidx = df[(df.bp_lo < 50) | (df.bp_hi < 50)].index\\ndf = df.drop(index=idx)\";\n",
       "                var nbb_cells = Jupyter.notebook.get_cells();\n",
       "                for (var i = 0; i < nbb_cells.length; ++i) {\n",
       "                    if (nbb_cells[i].input_prompt_number == nbb_cell_id) {\n",
       "                        if (nbb_cells[i].get_text() == nbb_unformatted_code) {\n",
       "                             nbb_cells[i].set_text(nbb_formatted_code);\n",
       "                        }\n",
       "                        break;\n",
       "                    }\n",
       "                }\n",
       "            }, 500);\n",
       "            "
      ],
      "text/plain": [
       "<IPython.core.display.Javascript object>"
      ]
     },
     "metadata": {},
     "output_type": "display_data"
    }
   ],
   "source": [
    "# drop samples with bp_hi or bp_lo values less than 50; data entry error\n",
    "idx = df[(df.bp_lo < 50) | (df.bp_hi < 50)].index\n",
    "df = df.drop(index=idx)"
   ]
  },
  {
   "cell_type": "markdown",
   "metadata": {},
   "source": [
    "## Height value errors"
   ]
  },
  {
   "cell_type": "code",
   "execution_count": 15,
   "metadata": {},
   "outputs": [
    {
     "data": {
      "application/javascript": [
       "\n",
       "            setTimeout(function() {\n",
       "                var nbb_cell_id = 15;\n",
       "                var nbb_unformatted_code = \"# create column for height in ft\\ndf[\\\"height_ft\\\"] = df.height / 30.48\\n\\n# drop samples with heights below 5 feet and above 7 feet\\nidx = df[(df.height_ft < 4.5) | (df.height_ft > 7)].index\\ndf = df.drop(index=idx)\";\n",
       "                var nbb_formatted_code = \"# create column for height in ft\\ndf[\\\"height_ft\\\"] = df.height / 30.48\\n\\n# drop samples with heights below 5 feet and above 7 feet\\nidx = df[(df.height_ft < 4.5) | (df.height_ft > 7)].index\\ndf = df.drop(index=idx)\";\n",
       "                var nbb_cells = Jupyter.notebook.get_cells();\n",
       "                for (var i = 0; i < nbb_cells.length; ++i) {\n",
       "                    if (nbb_cells[i].input_prompt_number == nbb_cell_id) {\n",
       "                        if (nbb_cells[i].get_text() == nbb_unformatted_code) {\n",
       "                             nbb_cells[i].set_text(nbb_formatted_code);\n",
       "                        }\n",
       "                        break;\n",
       "                    }\n",
       "                }\n",
       "            }, 500);\n",
       "            "
      ],
      "text/plain": [
       "<IPython.core.display.Javascript object>"
      ]
     },
     "metadata": {},
     "output_type": "display_data"
    }
   ],
   "source": [
    "# create column for height in ft\n",
    "df[\"height_ft\"] = df.height / 30.48\n",
    "\n",
    "# drop samples with heights below 5 feet and above 7 feet\n",
    "idx = df[(df.height_ft < 4.5) | (df.height_ft > 7)].index\n",
    "df = df.drop(index=idx)"
   ]
  },
  {
   "cell_type": "markdown",
   "metadata": {},
   "source": [
    "---\n",
    "# Features"
   ]
  },
  {
   "cell_type": "code",
   "execution_count": 16,
   "metadata": {},
   "outputs": [
    {
     "data": {
      "application/javascript": [
       "\n",
       "            setTimeout(function() {\n",
       "                var nbb_cell_id = 16;\n",
       "                var nbb_unformatted_code = \"# blood pressure difference column\\ndf[\\\"bp_diff\\\"] = df.bp_hi - df.bp_lo\\n\\n# BMI column to replace height and weight\\n# bmi = weight (kgs) / (height (m))^2\\ndf[\\\"bmi\\\"] = df.weight / (df.height / 100) ** 2\\n\\n# added some more common measurement unit columns for better understanding\\ndf[\\\"yrs\\\"] = df.age / 365\\ndf[\\\"height_ft\\\"] = df.height / 30.48\\ndf[\\\"weight_lbs\\\"] = df.weight * 2.205\";\n",
       "                var nbb_formatted_code = \"# blood pressure difference column\\ndf[\\\"bp_diff\\\"] = df.bp_hi - df.bp_lo\\n\\n# BMI column to replace height and weight\\n# bmi = weight (kgs) / (height (m))^2\\ndf[\\\"bmi\\\"] = df.weight / (df.height / 100) ** 2\\n\\n# added some more common measurement unit columns for better understanding\\ndf[\\\"yrs\\\"] = df.age / 365\\ndf[\\\"height_ft\\\"] = df.height / 30.48\\ndf[\\\"weight_lbs\\\"] = df.weight * 2.205\";\n",
       "                var nbb_cells = Jupyter.notebook.get_cells();\n",
       "                for (var i = 0; i < nbb_cells.length; ++i) {\n",
       "                    if (nbb_cells[i].input_prompt_number == nbb_cell_id) {\n",
       "                        if (nbb_cells[i].get_text() == nbb_unformatted_code) {\n",
       "                             nbb_cells[i].set_text(nbb_formatted_code);\n",
       "                        }\n",
       "                        break;\n",
       "                    }\n",
       "                }\n",
       "            }, 500);\n",
       "            "
      ],
      "text/plain": [
       "<IPython.core.display.Javascript object>"
      ]
     },
     "metadata": {},
     "output_type": "display_data"
    }
   ],
   "source": [
    "# blood pressure difference column\n",
    "df[\"bp_diff\"] = df.bp_hi - df.bp_lo\n",
    "\n",
    "# BMI column to replace height and weight\n",
    "# bmi = weight (kgs) / (height (m))^2\n",
    "df[\"bmi\"] = df.weight / (df.height / 100) ** 2\n",
    "\n",
    "# added some more common measurement unit columns for better understanding\n",
    "df[\"yrs\"] = df.age / 365\n",
    "df[\"height_ft\"] = df.height / 30.48\n",
    "df[\"weight_lbs\"] = df.weight * 2.205"
   ]
  },
  {
   "cell_type": "code",
   "execution_count": 17,
   "metadata": {},
   "outputs": [
    {
     "data": {
      "image/png": "[encoded data removed]",
      "text/plain": [
       "<Figure size 432x288 with 1 Axes>"
      ]
     },
     "metadata": {},
     "output_type": "display_data"
    },
    {
     "data": {
      "image/png": "[encoded data removed]",
      "text/plain": [
       "<Figure size 432x288 with 1 Axes>"
      ]
     },
     "metadata": {},
     "output_type": "display_data"
    },
    {
     "data": {
      "image/png": "[encoded data removed]",
      "text/plain": [
       "<Figure size 432x288 with 1 Axes>"
      ]
     },
     "metadata": {},
     "output_type": "display_data"
    },
    {
     "data": {
      "image/png": "[encoded data removed]",
      "text/plain": [
       "<Figure size 432x288 with 1 Axes>"
      ]
     },
     "metadata": {},
     "output_type": "display_data"
    },
    {
     "data": {
      "application/javascript": [
       "\n",
       "            setTimeout(function() {\n",
       "                var nbb_cell_id = 17;\n",
       "                var nbb_unformatted_code = \"# extreme values in bp_hi need to be corrected\\nbp_cols = [\\\"bp_diff\\\", \\\"bmi\\\", \\\"height_ft\\\", \\\"weight_lbs\\\"]\\nfor col in bp_cols:\\n    sns.violinplot(x=\\\"disease\\\", y=col, data=df)\\n    plt.show()\";\n",
       "                var nbb_formatted_code = \"# extreme values in bp_hi need to be corrected\\nbp_cols = [\\\"bp_diff\\\", \\\"bmi\\\", \\\"height_ft\\\", \\\"weight_lbs\\\"]\\nfor col in bp_cols:\\n    sns.violinplot(x=\\\"disease\\\", y=col, data=df)\\n    plt.show()\";\n",
       "                var nbb_cells = Jupyter.notebook.get_cells();\n",
       "                for (var i = 0; i < nbb_cells.length; ++i) {\n",
       "                    if (nbb_cells[i].input_prompt_number == nbb_cell_id) {\n",
       "                        if (nbb_cells[i].get_text() == nbb_unformatted_code) {\n",
       "                             nbb_cells[i].set_text(nbb_formatted_code);\n",
       "                        }\n",
       "                        break;\n",
       "                    }\n",
       "                }\n",
       "            }, 500);\n",
       "            "
      ],
      "text/plain": [
       "<IPython.core.display.Javascript object>"
      ]
     },
     "metadata": {},
     "output_type": "display_data"
    }
   ],
   "source": [
    "# extreme values in bp_hi need to be corrected\n",
    "bp_cols = [\"bp_diff\", \"bmi\", \"height_ft\", \"weight_lbs\"]\n",
    "for col in bp_cols:\n",
    "    sns.violinplot(x=\"disease\", y=col, data=df)\n",
    "    plt.show()"
   ]
  },
  {
   "cell_type": "code",
   "execution_count": 18,
   "metadata": {},
   "outputs": [
    {
     "data": {
      "text/plain": [
       "68621"
      ]
     },
     "execution_count": 18,
     "metadata": {},
     "output_type": "execute_result"
    },
    {
     "data": {
      "application/javascript": [
       "\n",
       "            setTimeout(function() {\n",
       "                var nbb_cell_id = 18;\n",
       "                var nbb_unformatted_code = \"# 68,621 samples after dropping errors\\ndf.shape[0]\";\n",
       "                var nbb_formatted_code = \"# 68,621 samples after dropping errors\\ndf.shape[0]\";\n",
       "                var nbb_cells = Jupyter.notebook.get_cells();\n",
       "                for (var i = 0; i < nbb_cells.length; ++i) {\n",
       "                    if (nbb_cells[i].input_prompt_number == nbb_cell_id) {\n",
       "                        if (nbb_cells[i].get_text() == nbb_unformatted_code) {\n",
       "                             nbb_cells[i].set_text(nbb_formatted_code);\n",
       "                        }\n",
       "                        break;\n",
       "                    }\n",
       "                }\n",
       "            }, 500);\n",
       "            "
      ],
      "text/plain": [
       "<IPython.core.display.Javascript object>"
      ]
     },
     "metadata": {},
     "output_type": "display_data"
    }
   ],
   "source": [
    "# 68,621 samples after dropping errors\n",
    "df.shape[0]"
   ]
  },
  {
   "cell_type": "markdown",
   "metadata": {},
   "source": [
    "# Gradient Boosting Model"
   ]
  },
  {
   "cell_type": "code",
   "execution_count": 19,
   "metadata": {
    "scrolled": false
   },
   "outputs": [
    {
     "data": {
      "application/javascript": [
       "\n",
       "            setTimeout(function() {\n",
       "                var nbb_cell_id = 19;\n",
       "                var nbb_unformatted_code = \"drop_cols = [\\n    \\\"disease\\\",\\n    \\\"yrs\\\",\\n    \\\"height_ft\\\",\\n    \\\"bp_diff\\\",\\n    \\\"weight_lbs\\\",\\n    \\\"active\\\",\\n    #     \\\"alcohol\\\",\\n    #     \\\"bmi\\\",\\n    #         \\\"height\\\",\\n    #     \\\"weight\\\",\\n]\\n\\nX = df.drop(columns=drop_cols)\\ny = df.disease\\n\\nX_train, X_test, y_train, y_test = train_test_split(\\n    X, y, test_size=0.5, random_state=28, stratify=df.disease\\n)\";\n",
       "                var nbb_formatted_code = \"drop_cols = [\\n    \\\"disease\\\",\\n    \\\"yrs\\\",\\n    \\\"height_ft\\\",\\n    \\\"bp_diff\\\",\\n    \\\"weight_lbs\\\",\\n    \\\"active\\\",\\n    #     \\\"alcohol\\\",\\n    #     \\\"bmi\\\",\\n    #         \\\"height\\\",\\n    #     \\\"weight\\\",\\n]\\n\\nX = df.drop(columns=drop_cols)\\ny = df.disease\\n\\nX_train, X_test, y_train, y_test = train_test_split(\\n    X, y, test_size=0.5, random_state=28, stratify=df.disease\\n)\";\n",
       "                var nbb_cells = Jupyter.notebook.get_cells();\n",
       "                for (var i = 0; i < nbb_cells.length; ++i) {\n",
       "                    if (nbb_cells[i].input_prompt_number == nbb_cell_id) {\n",
       "                        if (nbb_cells[i].get_text() == nbb_unformatted_code) {\n",
       "                             nbb_cells[i].set_text(nbb_formatted_code);\n",
       "                        }\n",
       "                        break;\n",
       "                    }\n",
       "                }\n",
       "            }, 500);\n",
       "            "
      ],
      "text/plain": [
       "<IPython.core.display.Javascript object>"
      ]
     },
     "metadata": {},
     "output_type": "display_data"
    }
   ],
   "source": [
    "drop_cols = [\n",
    "    \"disease\",\n",
    "    \"yrs\",\n",
    "    \"height_ft\",\n",
    "    \"bp_diff\",\n",
    "    \"weight_lbs\",\n",
    "    \"active\",\n",
    "    #     \"alcohol\",\n",
    "    #     \"bmi\",\n",
    "    #         \"height\",\n",
    "    #     \"weight\",\n",
    "]\n",
    "\n",
    "X = df.drop(columns=drop_cols)\n",
    "y = df.disease\n",
    "\n",
    "X_train, X_test, y_train, y_test = train_test_split(\n",
    "    X, y, test_size=0.5, random_state=28, stratify=df.disease\n",
    ")"
   ]
  },
  {
   "cell_type": "markdown",
   "metadata": {},
   "source": [
    "> Categorical columns encoded; decision tree class models don't require numerical scaling"
   ]
  },
  {
   "cell_type": "code",
   "execution_count": 20,
   "metadata": {},
   "outputs": [
    {
     "data": {
      "application/javascript": [
       "\n",
       "            setTimeout(function() {\n",
       "                var nbb_cell_id = 20;\n",
       "                var nbb_unformatted_code = \"# categorical columns to be encoded\\ncat_cols = [\\\"cholesterol\\\", \\\"glucose\\\"]\\n\\n# data preprocessing\\npreprocessing = ColumnTransformer(\\n    [\\n        (\\\"encode_cats\\\", LeaveOneOutEncoder(), cat_cols),\\n    ],\\n    remainder=\\\"passthrough\\\",\\n)\";\n",
       "                var nbb_formatted_code = \"# categorical columns to be encoded\\ncat_cols = [\\\"cholesterol\\\", \\\"glucose\\\"]\\n\\n# data preprocessing\\npreprocessing = ColumnTransformer(\\n    [\\n        (\\\"encode_cats\\\", LeaveOneOutEncoder(), cat_cols),\\n    ],\\n    remainder=\\\"passthrough\\\",\\n)\";\n",
       "                var nbb_cells = Jupyter.notebook.get_cells();\n",
       "                for (var i = 0; i < nbb_cells.length; ++i) {\n",
       "                    if (nbb_cells[i].input_prompt_number == nbb_cell_id) {\n",
       "                        if (nbb_cells[i].get_text() == nbb_unformatted_code) {\n",
       "                             nbb_cells[i].set_text(nbb_formatted_code);\n",
       "                        }\n",
       "                        break;\n",
       "                    }\n",
       "                }\n",
       "            }, 500);\n",
       "            "
      ],
      "text/plain": [
       "<IPython.core.display.Javascript object>"
      ]
     },
     "metadata": {},
     "output_type": "display_data"
    }
   ],
   "source": [
    "# categorical columns to be encoded\n",
    "cat_cols = [\"cholesterol\", \"glucose\"]\n",
    "\n",
    "# data preprocessing\n",
    "preprocessing = ColumnTransformer(\n",
    "    [\n",
    "        (\"encode_cats\", LeaveOneOutEncoder(), cat_cols),\n",
    "    ],\n",
    "    remainder=\"passthrough\",\n",
    ")"
   ]
  },
  {
   "cell_type": "code",
   "execution_count": 21,
   "metadata": {},
   "outputs": [
    {
     "name": "stdout",
     "output_type": "stream",
     "text": [
      "[23:55:35] WARNING: C:/Users/Administrator/workspace/xgboost-win64_release_1.3.0/src/learner.cc:1061: Starting in XGBoost 1.3.0, the default evaluation metric used with the objective 'binary:logistic' was changed from 'error' to 'logloss'. Explicitly set eval_metric if you'd like to restore the old behavior.\n",
      "\n",
      "train score: 0.7802972894199942\n",
      "test score: 0.7269680277462038\n"
     ]
    },
    {
     "data": {
      "application/javascript": [
       "\n",
       "            setTimeout(function() {\n",
       "                var nbb_cell_id = 21;\n",
       "                var nbb_unformatted_code = \"pipeline = Pipeline(\\n    [\\n        (\\\"processing\\\", preprocessing),\\n        (\\\"model\\\", XGBClassifier(use_label_encoder=False)),\\n    ]\\n)\\n\\npipeline.fit(X_train, y_train)\\n\\ntrain_score = pipeline.score(X_train, y_train)\\ntest_score = pipeline.score(X_test, y_test)\\n\\nprint(f\\\"\\\\ntrain score: {train_score}\\\")\\nprint(f\\\"test score: {test_score}\\\")\";\n",
       "                var nbb_formatted_code = \"pipeline = Pipeline(\\n    [\\n        (\\\"processing\\\", preprocessing),\\n        (\\\"model\\\", XGBClassifier(use_label_encoder=False)),\\n    ]\\n)\\n\\npipeline.fit(X_train, y_train)\\n\\ntrain_score = pipeline.score(X_train, y_train)\\ntest_score = pipeline.score(X_test, y_test)\\n\\nprint(f\\\"\\\\ntrain score: {train_score}\\\")\\nprint(f\\\"test score: {test_score}\\\")\";\n",
       "                var nbb_cells = Jupyter.notebook.get_cells();\n",
       "                for (var i = 0; i < nbb_cells.length; ++i) {\n",
       "                    if (nbb_cells[i].input_prompt_number == nbb_cell_id) {\n",
       "                        if (nbb_cells[i].get_text() == nbb_unformatted_code) {\n",
       "                             nbb_cells[i].set_text(nbb_formatted_code);\n",
       "                        }\n",
       "                        break;\n",
       "                    }\n",
       "                }\n",
       "            }, 500);\n",
       "            "
      ],
      "text/plain": [
       "<IPython.core.display.Javascript object>"
      ]
     },
     "metadata": {},
     "output_type": "display_data"
    }
   ],
   "source": [
    "pipeline = Pipeline(\n",
    "    [\n",
    "        (\"processing\", preprocessing),\n",
    "        (\"model\", XGBClassifier(use_label_encoder=False)),\n",
    "    ]\n",
    ")\n",
    "\n",
    "pipeline.fit(X_train, y_train)\n",
    "\n",
    "train_score = pipeline.score(X_train, y_train)\n",
    "test_score = pipeline.score(X_test, y_test)\n",
    "\n",
    "print(f\"\\ntrain score: {train_score}\")\n",
    "print(f\"test score: {test_score}\")"
   ]
  },
  {
   "cell_type": "markdown",
   "metadata": {},
   "source": [
    "---\n",
    "## XGB hyperparameter tuning"
   ]
  },
  {
   "cell_type": "markdown",
   "metadata": {},
   "source": [
    "XGBoost"
   ]
  },
  {
   "cell_type": "code",
   "execution_count": 22,
   "metadata": {
    "code_folding": []
   },
   "outputs": [
    {
     "name": "stdout",
     "output_type": "stream",
     "text": [
      "Fitting 2 folds for each of 120 candidates, totalling 240 fits\n"
     ]
    },
    {
     "name": "stderr",
     "output_type": "stream",
     "text": [
      "[Parallel(n_jobs=-1)]: Using backend LokyBackend with 8 concurrent workers.\n",
      "[Parallel(n_jobs=-1)]: Done  25 tasks      | elapsed:    2.6s\n",
      "[Parallel(n_jobs=-1)]: Done 146 tasks      | elapsed:    4.7s\n"
     ]
    },
    {
     "name": "stdout",
     "output_type": "stream",
     "text": [
      "[23:55:42] WARNING: C:/Users/Administrator/workspace/xgboost-win64_release_1.3.0/src/learner.cc:1061: Starting in XGBoost 1.3.0, the default evaluation metric used with the objective 'binary:logistic' was changed from 'error' to 'logloss'. Explicitly set eval_metric if you'd like to restore the old behavior.\n"
     ]
    },
    {
     "name": "stderr",
     "output_type": "stream",
     "text": [
      "[Parallel(n_jobs=-1)]: Done 240 out of 240 | elapsed:    6.3s finished\n"
     ]
    },
    {
     "data": {
      "text/plain": [
       "{'model__colsample_bytree': 0.9999999999999999,\n",
       " 'model__learning_rate': 10,\n",
       " 'model__max_depth': 5,\n",
       " 'model__n_estimators': 1}"
      ]
     },
     "execution_count": 22,
     "metadata": {},
     "output_type": "execute_result"
    },
    {
     "data": {
      "application/javascript": [
       "\n",
       "            setTimeout(function() {\n",
       "                var nbb_cell_id = 22;\n",
       "                var nbb_unformatted_code = \"# grid search values other than optimal hyperparameters removed to lower notebook run time\\n# fmt: off\\ngrid = {\\n    \\\"model__n_estimators\\\": np.arange(1, 3),\\n    \\\"model__learning_rate\\\": np.arange(0, 50, 10),\\n    #     \\\"model__subsample\\\": [],\\n    \\\"model__colsample_bytree\\\": np.arange(0.7,1,0.1),\\n    \\\"model__max_depth\\\": np.arange(4,7),\\n}\\n# fmt: on\\npipeline_cv = GridSearchCV(pipeline, grid, cv=2, verbose=2, n_jobs=-1)\\npipeline_cv.fit(X_train, y_train)\\n\\nbest_params = pipeline_cv.best_params_\\nbest_params\";\n",
       "                var nbb_formatted_code = \"# grid search values other than optimal hyperparameters removed to lower notebook run time\\n# fmt: off\\ngrid = {\\n    \\\"model__n_estimators\\\": np.arange(1, 3),\\n    \\\"model__learning_rate\\\": np.arange(0, 50, 10),\\n    #     \\\"model__subsample\\\": [],\\n    \\\"model__colsample_bytree\\\": np.arange(0.7,1,0.1),\\n    \\\"model__max_depth\\\": np.arange(4,7),\\n}\\n# fmt: on\\npipeline_cv = GridSearchCV(pipeline, grid, cv=2, verbose=2, n_jobs=-1)\\npipeline_cv.fit(X_train, y_train)\\n\\nbest_params = pipeline_cv.best_params_\\nbest_params\";\n",
       "                var nbb_cells = Jupyter.notebook.get_cells();\n",
       "                for (var i = 0; i < nbb_cells.length; ++i) {\n",
       "                    if (nbb_cells[i].input_prompt_number == nbb_cell_id) {\n",
       "                        if (nbb_cells[i].get_text() == nbb_unformatted_code) {\n",
       "                             nbb_cells[i].set_text(nbb_formatted_code);\n",
       "                        }\n",
       "                        break;\n",
       "                    }\n",
       "                }\n",
       "            }, 500);\n",
       "            "
      ],
      "text/plain": [
       "<IPython.core.display.Javascript object>"
      ]
     },
     "metadata": {},
     "output_type": "display_data"
    }
   ],
   "source": [
    "# grid search values other than optimal hyperparameters removed to lower notebook run time\n",
    "# fmt: off\n",
    "grid = {\n",
    "    \"model__n_estimators\": np.arange(1, 3),\n",
    "    \"model__learning_rate\": np.arange(0, 50, 10),\n",
    "    #     \"model__subsample\": [],\n",
    "    \"model__colsample_bytree\": np.arange(0.7,1,0.1),\n",
    "    \"model__max_depth\": np.arange(4,7),\n",
    "}\n",
    "# fmt: on\n",
    "pipeline_cv = GridSearchCV(pipeline, grid, cv=2, verbose=2, n_jobs=-1)\n",
    "pipeline_cv.fit(X_train, y_train)\n",
    "\n",
    "best_params = pipeline_cv.best_params_\n",
    "best_params"
   ]
  },
  {
   "cell_type": "code",
   "execution_count": 23,
   "metadata": {},
   "outputs": [
    {
     "name": "stdout",
     "output_type": "stream",
     "text": [
      "train_score 0.7354998542698922\n",
      "test_score 0.7292413511701786\n"
     ]
    },
    {
     "data": {
      "application/javascript": [
       "\n",
       "            setTimeout(function() {\n",
       "                var nbb_cell_id = 23;\n",
       "                var nbb_unformatted_code = \"train_score = pipeline_cv.score(X_train, y_train)\\ntest_score = pipeline_cv.score(X_test, y_test)\\n\\nprint(f\\\"train_score {train_score}\\\")\\nprint(f\\\"test_score {test_score}\\\")\";\n",
       "                var nbb_formatted_code = \"train_score = pipeline_cv.score(X_train, y_train)\\ntest_score = pipeline_cv.score(X_test, y_test)\\n\\nprint(f\\\"train_score {train_score}\\\")\\nprint(f\\\"test_score {test_score}\\\")\";\n",
       "                var nbb_cells = Jupyter.notebook.get_cells();\n",
       "                for (var i = 0; i < nbb_cells.length; ++i) {\n",
       "                    if (nbb_cells[i].input_prompt_number == nbb_cell_id) {\n",
       "                        if (nbb_cells[i].get_text() == nbb_unformatted_code) {\n",
       "                             nbb_cells[i].set_text(nbb_formatted_code);\n",
       "                        }\n",
       "                        break;\n",
       "                    }\n",
       "                }\n",
       "            }, 500);\n",
       "            "
      ],
      "text/plain": [
       "<IPython.core.display.Javascript object>"
      ]
     },
     "metadata": {},
     "output_type": "display_data"
    }
   ],
   "source": [
    "train_score = pipeline_cv.score(X_train, y_train)\n",
    "test_score = pipeline_cv.score(X_test, y_test)\n",
    "\n",
    "print(f\"train_score {train_score}\")\n",
    "print(f\"test_score {test_score}\")"
   ]
  },
  {
   "cell_type": "markdown",
   "metadata": {},
   "source": [
    "---\n",
    "## XGB feature importance"
   ]
  },
  {
   "cell_type": "code",
   "execution_count": 24,
   "metadata": {
    "scrolled": false
   },
   "outputs": [
    {
     "data": {
      "text/html": [
       "<div>\n",
       "<style scoped>\n",
       "    .dataframe tbody tr th:only-of-type {\n",
       "        vertical-align: middle;\n",
       "    }\n",
       "\n",
       "    .dataframe tbody tr th {\n",
       "        vertical-align: top;\n",
       "    }\n",
       "\n",
       "    .dataframe thead th {\n",
       "        text-align: right;\n",
       "    }\n",
       "</style>\n",
       "<table border=\"1\" class=\"dataframe\">\n",
       "  <thead>\n",
       "    <tr style=\"text-align: right;\">\n",
       "      <th></th>\n",
       "      <th>feature</th>\n",
       "      <th>importance</th>\n",
       "    </tr>\n",
       "  </thead>\n",
       "  <tbody>\n",
       "    <tr>\n",
       "      <th>6</th>\n",
       "      <td>cholesterol</td>\n",
       "      <td>0.751898</td>\n",
       "    </tr>\n",
       "    <tr>\n",
       "      <th>0</th>\n",
       "      <td>age</td>\n",
       "      <td>0.112131</td>\n",
       "    </tr>\n",
       "    <tr>\n",
       "      <th>2</th>\n",
       "      <td>height</td>\n",
       "      <td>0.093298</td>\n",
       "    </tr>\n",
       "    <tr>\n",
       "      <th>7</th>\n",
       "      <td>glucose</td>\n",
       "      <td>0.016017</td>\n",
       "    </tr>\n",
       "    <tr>\n",
       "      <th>1</th>\n",
       "      <td>gender</td>\n",
       "      <td>0.013034</td>\n",
       "    </tr>\n",
       "    <tr>\n",
       "      <th>10</th>\n",
       "      <td>bmi</td>\n",
       "      <td>0.008721</td>\n",
       "    </tr>\n",
       "    <tr>\n",
       "      <th>5</th>\n",
       "      <td>bp_lo</td>\n",
       "      <td>0.002887</td>\n",
       "    </tr>\n",
       "    <tr>\n",
       "      <th>4</th>\n",
       "      <td>bp_hi</td>\n",
       "      <td>0.002013</td>\n",
       "    </tr>\n",
       "    <tr>\n",
       "      <th>3</th>\n",
       "      <td>weight</td>\n",
       "      <td>0.000000</td>\n",
       "    </tr>\n",
       "    <tr>\n",
       "      <th>8</th>\n",
       "      <td>smoke</td>\n",
       "      <td>0.000000</td>\n",
       "    </tr>\n",
       "    <tr>\n",
       "      <th>9</th>\n",
       "      <td>alcohol</td>\n",
       "      <td>0.000000</td>\n",
       "    </tr>\n",
       "  </tbody>\n",
       "</table>\n",
       "</div>"
      ],
      "text/plain": [
       "        feature  importance\n",
       "6   cholesterol    0.751898\n",
       "0           age    0.112131\n",
       "2        height    0.093298\n",
       "7       glucose    0.016017\n",
       "1        gender    0.013034\n",
       "10          bmi    0.008721\n",
       "5         bp_lo    0.002887\n",
       "4         bp_hi    0.002013\n",
       "3        weight    0.000000\n",
       "8         smoke    0.000000\n",
       "9       alcohol    0.000000"
      ]
     },
     "execution_count": 24,
     "metadata": {},
     "output_type": "execute_result"
    },
    {
     "data": {
      "application/javascript": [
       "\n",
       "            setTimeout(function() {\n",
       "                var nbb_cell_id = 24;\n",
       "                var nbb_unformatted_code = \"feature_importances = pipeline_cv.best_estimator_[\\\"model\\\"].feature_importances_\\nfeature_importances = pd.DataFrame(\\n    {\\\"feature\\\": X_train.columns, \\\"importance\\\": feature_importances}\\n).sort_values(\\\"importance\\\", ascending=False)\\nfeature_importances\";\n",
       "                var nbb_formatted_code = \"feature_importances = pipeline_cv.best_estimator_[\\\"model\\\"].feature_importances_\\nfeature_importances = pd.DataFrame(\\n    {\\\"feature\\\": X_train.columns, \\\"importance\\\": feature_importances}\\n).sort_values(\\\"importance\\\", ascending=False)\\nfeature_importances\";\n",
       "                var nbb_cells = Jupyter.notebook.get_cells();\n",
       "                for (var i = 0; i < nbb_cells.length; ++i) {\n",
       "                    if (nbb_cells[i].input_prompt_number == nbb_cell_id) {\n",
       "                        if (nbb_cells[i].get_text() == nbb_unformatted_code) {\n",
       "                             nbb_cells[i].set_text(nbb_formatted_code);\n",
       "                        }\n",
       "                        break;\n",
       "                    }\n",
       "                }\n",
       "            }, 500);\n",
       "            "
      ],
      "text/plain": [
       "<IPython.core.display.Javascript object>"
      ]
     },
     "metadata": {},
     "output_type": "display_data"
    }
   ],
   "source": [
    "feature_importances = pipeline_cv.best_estimator_[\"model\"].feature_importances_\n",
    "feature_importances = pd.DataFrame(\n",
    "    {\"feature\": X_train.columns, \"importance\": feature_importances}\n",
    ").sort_values(\"importance\", ascending=False)\n",
    "feature_importances"
   ]
  },
  {
   "cell_type": "markdown",
   "metadata": {},
   "source": [
    "---\n",
    "## XGB predictions"
   ]
  },
  {
   "cell_type": "code",
   "execution_count": 25,
   "metadata": {
    "scrolled": true
   },
   "outputs": [
    {
     "data": {
      "text/plain": [
       "array([[13864,  3464],\n",
       "       [ 5826, 11157]], dtype=int64)"
      ]
     },
     "metadata": {},
     "output_type": "display_data"
    },
    {
     "name": "stdout",
     "output_type": "stream",
     "text": [
      "              precision    recall  f1-score   support\n",
      "\n",
      "           0       0.70      0.80      0.75     17328\n",
      "           1       0.76      0.66      0.71     16983\n",
      "\n",
      "    accuracy                           0.73     34311\n",
      "   macro avg       0.73      0.73      0.73     34311\n",
      "weighted avg       0.73      0.73      0.73     34311\n",
      "\n"
     ]
    },
    {
     "data": {
      "application/javascript": [
       "\n",
       "            setTimeout(function() {\n",
       "                var nbb_cell_id = 25;\n",
       "                var nbb_unformatted_code = \"y_preds = pipeline_cv.predict(X_test)\\npreds_df, fig = predictions_df(X_test, y_test, y_preds)\\n\\n# confusion matrix\\ncm = confusion_matrix(y_test, y_preds)\\ndisplay(cm)\\n\\n# classification report\\nclass_report = classification_report(y_test, y_preds)\\nprint(class_report)\\n\\n# prediction probabilities\\npred_prob = pipeline_cv.predict_proba(X_test)\\n# add prediction probs to preds_df\\npreds_df[\\\"pred_prob\\\"] = pred_prob[:, 1]\\n\\npreds_df = preds_df.drop(columns=[\\\"residuals\\\", \\\"abs_residuals\\\"])\\n# preds_df.head()\";\n",
       "                var nbb_formatted_code = \"y_preds = pipeline_cv.predict(X_test)\\npreds_df, fig = predictions_df(X_test, y_test, y_preds)\\n\\n# confusion matrix\\ncm = confusion_matrix(y_test, y_preds)\\ndisplay(cm)\\n\\n# classification report\\nclass_report = classification_report(y_test, y_preds)\\nprint(class_report)\\n\\n# prediction probabilities\\npred_prob = pipeline_cv.predict_proba(X_test)\\n# add prediction probs to preds_df\\npreds_df[\\\"pred_prob\\\"] = pred_prob[:, 1]\\n\\npreds_df = preds_df.drop(columns=[\\\"residuals\\\", \\\"abs_residuals\\\"])\\n# preds_df.head()\";\n",
       "                var nbb_cells = Jupyter.notebook.get_cells();\n",
       "                for (var i = 0; i < nbb_cells.length; ++i) {\n",
       "                    if (nbb_cells[i].input_prompt_number == nbb_cell_id) {\n",
       "                        if (nbb_cells[i].get_text() == nbb_unformatted_code) {\n",
       "                             nbb_cells[i].set_text(nbb_formatted_code);\n",
       "                        }\n",
       "                        break;\n",
       "                    }\n",
       "                }\n",
       "            }, 500);\n",
       "            "
      ],
      "text/plain": [
       "<IPython.core.display.Javascript object>"
      ]
     },
     "metadata": {},
     "output_type": "display_data"
    }
   ],
   "source": [
    "y_preds = pipeline_cv.predict(X_test)\n",
    "preds_df, fig = predictions_df(X_test, y_test, y_preds)\n",
    "\n",
    "# confusion matrix\n",
    "cm = confusion_matrix(y_test, y_preds)\n",
    "display(cm)\n",
    "\n",
    "# classification report\n",
    "class_report = classification_report(y_test, y_preds)\n",
    "print(class_report)\n",
    "\n",
    "# prediction probabilities\n",
    "pred_prob = pipeline_cv.predict_proba(X_test)\n",
    "# add prediction probs to preds_df\n",
    "preds_df[\"pred_prob\"] = pred_prob[:, 1]\n",
    "\n",
    "preds_df = preds_df.drop(columns=[\"residuals\", \"abs_residuals\"])\n",
    "# preds_df.head()"
   ]
  },
  {
   "cell_type": "code",
   "execution_count": 26,
   "metadata": {},
   "outputs": [
    {
     "data": {
      "text/html": [
       "<div>\n",
       "<style scoped>\n",
       "    .dataframe tbody tr th:only-of-type {\n",
       "        vertical-align: middle;\n",
       "    }\n",
       "\n",
       "    .dataframe tbody tr th {\n",
       "        vertical-align: top;\n",
       "    }\n",
       "\n",
       "    .dataframe thead th {\n",
       "        text-align: right;\n",
       "    }\n",
       "</style>\n",
       "<table border=\"1\" class=\"dataframe\">\n",
       "  <thead>\n",
       "    <tr style=\"text-align: right;\">\n",
       "      <th></th>\n",
       "      <th>age</th>\n",
       "      <th>gender</th>\n",
       "      <th>height</th>\n",
       "      <th>weight</th>\n",
       "      <th>bp_hi</th>\n",
       "      <th>bp_lo</th>\n",
       "      <th>cholesterol</th>\n",
       "      <th>glucose</th>\n",
       "      <th>smoke</th>\n",
       "      <th>alcohol</th>\n",
       "      <th>bmi</th>\n",
       "      <th>y_true</th>\n",
       "      <th>y_preds</th>\n",
       "      <th>pred_prob</th>\n",
       "    </tr>\n",
       "    <tr>\n",
       "      <th>id</th>\n",
       "      <th></th>\n",
       "      <th></th>\n",
       "      <th></th>\n",
       "      <th></th>\n",
       "      <th></th>\n",
       "      <th></th>\n",
       "      <th></th>\n",
       "      <th></th>\n",
       "      <th></th>\n",
       "      <th></th>\n",
       "      <th></th>\n",
       "      <th></th>\n",
       "      <th></th>\n",
       "      <th></th>\n",
       "    </tr>\n",
       "  </thead>\n",
       "  <tbody>\n",
       "    <tr>\n",
       "      <th>73144</th>\n",
       "      <td>16253</td>\n",
       "      <td>0</td>\n",
       "      <td>165</td>\n",
       "      <td>66.0</td>\n",
       "      <td>120</td>\n",
       "      <td>80</td>\n",
       "      <td>0</td>\n",
       "      <td>0</td>\n",
       "      <td>0</td>\n",
       "      <td>0</td>\n",
       "      <td>24.242424</td>\n",
       "      <td>1</td>\n",
       "      <td>0</td>\n",
       "      <td>1.000000</td>\n",
       "    </tr>\n",
       "    <tr>\n",
       "      <th>23293</th>\n",
       "      <td>20299</td>\n",
       "      <td>0</td>\n",
       "      <td>150</td>\n",
       "      <td>84.0</td>\n",
       "      <td>130</td>\n",
       "      <td>90</td>\n",
       "      <td>1</td>\n",
       "      <td>0</td>\n",
       "      <td>0</td>\n",
       "      <td>0</td>\n",
       "      <td>37.333333</td>\n",
       "      <td>0</td>\n",
       "      <td>1</td>\n",
       "      <td>0.000160</td>\n",
       "    </tr>\n",
       "    <tr>\n",
       "      <th>71292</th>\n",
       "      <td>18092</td>\n",
       "      <td>0</td>\n",
       "      <td>158</td>\n",
       "      <td>73.0</td>\n",
       "      <td>120</td>\n",
       "      <td>80</td>\n",
       "      <td>1</td>\n",
       "      <td>1</td>\n",
       "      <td>0</td>\n",
       "      <td>0</td>\n",
       "      <td>29.242109</td>\n",
       "      <td>1</td>\n",
       "      <td>0</td>\n",
       "      <td>0.199098</td>\n",
       "    </tr>\n",
       "    <tr>\n",
       "      <th>38754</th>\n",
       "      <td>22096</td>\n",
       "      <td>1</td>\n",
       "      <td>175</td>\n",
       "      <td>100.0</td>\n",
       "      <td>120</td>\n",
       "      <td>80</td>\n",
       "      <td>0</td>\n",
       "      <td>2</td>\n",
       "      <td>0</td>\n",
       "      <td>0</td>\n",
       "      <td>32.653061</td>\n",
       "      <td>1</td>\n",
       "      <td>0</td>\n",
       "      <td>0.980427</td>\n",
       "    </tr>\n",
       "    <tr>\n",
       "      <th>55742</th>\n",
       "      <td>17497</td>\n",
       "      <td>1</td>\n",
       "      <td>165</td>\n",
       "      <td>121.0</td>\n",
       "      <td>110</td>\n",
       "      <td>80</td>\n",
       "      <td>0</td>\n",
       "      <td>1</td>\n",
       "      <td>0</td>\n",
       "      <td>0</td>\n",
       "      <td>44.444444</td>\n",
       "      <td>1</td>\n",
       "      <td>0</td>\n",
       "      <td>0.021898</td>\n",
       "    </tr>\n",
       "    <tr>\n",
       "      <th>...</th>\n",
       "      <td>...</td>\n",
       "      <td>...</td>\n",
       "      <td>...</td>\n",
       "      <td>...</td>\n",
       "      <td>...</td>\n",
       "      <td>...</td>\n",
       "      <td>...</td>\n",
       "      <td>...</td>\n",
       "      <td>...</td>\n",
       "      <td>...</td>\n",
       "      <td>...</td>\n",
       "      <td>...</td>\n",
       "      <td>...</td>\n",
       "      <td>...</td>\n",
       "    </tr>\n",
       "    <tr>\n",
       "      <th>99891</th>\n",
       "      <td>19834</td>\n",
       "      <td>0</td>\n",
       "      <td>164</td>\n",
       "      <td>85.0</td>\n",
       "      <td>165</td>\n",
       "      <td>110</td>\n",
       "      <td>2</td>\n",
       "      <td>2</td>\n",
       "      <td>0</td>\n",
       "      <td>0</td>\n",
       "      <td>31.603212</td>\n",
       "      <td>1</td>\n",
       "      <td>1</td>\n",
       "      <td>0.991102</td>\n",
       "    </tr>\n",
       "    <tr>\n",
       "      <th>17671</th>\n",
       "      <td>21099</td>\n",
       "      <td>0</td>\n",
       "      <td>152</td>\n",
       "      <td>86.0</td>\n",
       "      <td>120</td>\n",
       "      <td>70</td>\n",
       "      <td>0</td>\n",
       "      <td>0</td>\n",
       "      <td>0</td>\n",
       "      <td>0</td>\n",
       "      <td>37.222992</td>\n",
       "      <td>0</td>\n",
       "      <td>0</td>\n",
       "      <td>0.999995</td>\n",
       "    </tr>\n",
       "    <tr>\n",
       "      <th>22630</th>\n",
       "      <td>20480</td>\n",
       "      <td>0</td>\n",
       "      <td>175</td>\n",
       "      <td>77.0</td>\n",
       "      <td>140</td>\n",
       "      <td>90</td>\n",
       "      <td>0</td>\n",
       "      <td>0</td>\n",
       "      <td>0</td>\n",
       "      <td>1</td>\n",
       "      <td>25.142857</td>\n",
       "      <td>1</td>\n",
       "      <td>1</td>\n",
       "      <td>0.199098</td>\n",
       "    </tr>\n",
       "    <tr>\n",
       "      <th>70320</th>\n",
       "      <td>18046</td>\n",
       "      <td>0</td>\n",
       "      <td>165</td>\n",
       "      <td>65.0</td>\n",
       "      <td>110</td>\n",
       "      <td>70</td>\n",
       "      <td>0</td>\n",
       "      <td>0</td>\n",
       "      <td>0</td>\n",
       "      <td>0</td>\n",
       "      <td>23.875115</td>\n",
       "      <td>0</td>\n",
       "      <td>0</td>\n",
       "      <td>0.032163</td>\n",
       "    </tr>\n",
       "    <tr>\n",
       "      <th>84320</th>\n",
       "      <td>20364</td>\n",
       "      <td>0</td>\n",
       "      <td>165</td>\n",
       "      <td>80.0</td>\n",
       "      <td>120</td>\n",
       "      <td>80</td>\n",
       "      <td>0</td>\n",
       "      <td>0</td>\n",
       "      <td>0</td>\n",
       "      <td>0</td>\n",
       "      <td>29.384757</td>\n",
       "      <td>0</td>\n",
       "      <td>0</td>\n",
       "      <td>0.021898</td>\n",
       "    </tr>\n",
       "  </tbody>\n",
       "</table>\n",
       "<p>34311 rows × 14 columns</p>\n",
       "</div>"
      ],
      "text/plain": [
       "         age  gender  height  weight  bp_hi  bp_lo  cholesterol  glucose  \\\n",
       "id                                                                         \n",
       "73144  16253       0     165    66.0    120     80            0        0   \n",
       "23293  20299       0     150    84.0    130     90            1        0   \n",
       "71292  18092       0     158    73.0    120     80            1        1   \n",
       "38754  22096       1     175   100.0    120     80            0        2   \n",
       "55742  17497       1     165   121.0    110     80            0        1   \n",
       "...      ...     ...     ...     ...    ...    ...          ...      ...   \n",
       "99891  19834       0     164    85.0    165    110            2        2   \n",
       "17671  21099       0     152    86.0    120     70            0        0   \n",
       "22630  20480       0     175    77.0    140     90            0        0   \n",
       "70320  18046       0     165    65.0    110     70            0        0   \n",
       "84320  20364       0     165    80.0    120     80            0        0   \n",
       "\n",
       "       smoke  alcohol        bmi  y_true  y_preds  pred_prob  \n",
       "id                                                            \n",
       "73144      0        0  24.242424       1        0   1.000000  \n",
       "23293      0        0  37.333333       0        1   0.000160  \n",
       "71292      0        0  29.242109       1        0   0.199098  \n",
       "38754      0        0  32.653061       1        0   0.980427  \n",
       "55742      0        0  44.444444       1        0   0.021898  \n",
       "...      ...      ...        ...     ...      ...        ...  \n",
       "99891      0        0  31.603212       1        1   0.991102  \n",
       "17671      0        0  37.222992       0        0   0.999995  \n",
       "22630      0        1  25.142857       1        1   0.199098  \n",
       "70320      0        0  23.875115       0        0   0.032163  \n",
       "84320      0        0  29.384757       0        0   0.021898  \n",
       "\n",
       "[34311 rows x 14 columns]"
      ]
     },
     "execution_count": 26,
     "metadata": {},
     "output_type": "execute_result"
    },
    {
     "data": {
      "application/javascript": [
       "\n",
       "            setTimeout(function() {\n",
       "                var nbb_cell_id = 26;\n",
       "                var nbb_unformatted_code = \"adj_preds = preds_df.copy()\\nadj_preds\";\n",
       "                var nbb_formatted_code = \"adj_preds = preds_df.copy()\\nadj_preds\";\n",
       "                var nbb_cells = Jupyter.notebook.get_cells();\n",
       "                for (var i = 0; i < nbb_cells.length; ++i) {\n",
       "                    if (nbb_cells[i].input_prompt_number == nbb_cell_id) {\n",
       "                        if (nbb_cells[i].get_text() == nbb_unformatted_code) {\n",
       "                             nbb_cells[i].set_text(nbb_formatted_code);\n",
       "                        }\n",
       "                        break;\n",
       "                    }\n",
       "                }\n",
       "            }, 500);\n",
       "            "
      ],
      "text/plain": [
       "<IPython.core.display.Javascript object>"
      ]
     },
     "metadata": {},
     "output_type": "display_data"
    }
   ],
   "source": [
    "adj_preds = preds_df.copy()\n",
    "adj_preds"
   ]
  },
  {
   "cell_type": "code",
   "execution_count": 27,
   "metadata": {},
   "outputs": [
    {
     "name": "stdout",
     "output_type": "stream",
     "text": [
      "              precision    recall  f1-score   support\n",
      "\n",
      "           0       0.70      0.46      0.56     17328\n",
      "           1       0.59      0.80      0.68     16983\n",
      "\n",
      "    accuracy                           0.63     34311\n",
      "   macro avg       0.65      0.63      0.62     34311\n",
      "weighted avg       0.65      0.63      0.62     34311\n",
      "\n"
     ]
    },
    {
     "data": {
      "application/javascript": [
       "\n",
       "            setTimeout(function() {\n",
       "                var nbb_cell_id = 27;\n",
       "                var nbb_unformatted_code = \"# changing the prediction percentage threshold to 45%\\nadj_preds.loc[adj_preds.pred_prob > 0.49, \\\"y_preds\\\"] = 1\\n\\n# classification report with new threshold\\nprint(classification_report(adj_preds.y_true, adj_preds.y_preds))\";\n",
       "                var nbb_formatted_code = \"# changing the prediction percentage threshold to 45%\\nadj_preds.loc[adj_preds.pred_prob > 0.49, \\\"y_preds\\\"] = 1\\n\\n# classification report with new threshold\\nprint(classification_report(adj_preds.y_true, adj_preds.y_preds))\";\n",
       "                var nbb_cells = Jupyter.notebook.get_cells();\n",
       "                for (var i = 0; i < nbb_cells.length; ++i) {\n",
       "                    if (nbb_cells[i].input_prompt_number == nbb_cell_id) {\n",
       "                        if (nbb_cells[i].get_text() == nbb_unformatted_code) {\n",
       "                             nbb_cells[i].set_text(nbb_formatted_code);\n",
       "                        }\n",
       "                        break;\n",
       "                    }\n",
       "                }\n",
       "            }, 500);\n",
       "            "
      ],
      "text/plain": [
       "<IPython.core.display.Javascript object>"
      ]
     },
     "metadata": {},
     "output_type": "display_data"
    }
   ],
   "source": [
    "# changing the prediction percentage threshold to 45%\n",
    "adj_preds.loc[adj_preds.pred_prob > 0.49, \"y_preds\"] = 1\n",
    "\n",
    "# classification report with new threshold\n",
    "print(classification_report(adj_preds.y_true, adj_preds.y_preds))"
   ]
  },
  {
   "cell_type": "markdown",
   "metadata": {},
   "source": [
    "---\n",
    "## XGB error analysis"
   ]
  },
  {
   "cell_type": "markdown",
   "metadata": {},
   "source": [
    "> False negatives"
   ]
  },
  {
   "cell_type": "code",
   "execution_count": 28,
   "metadata": {
    "scrolled": true
   },
   "outputs": [
    {
     "data": {
      "text/html": [
       "<div>\n",
       "<style scoped>\n",
       "    .dataframe tbody tr th:only-of-type {\n",
       "        vertical-align: middle;\n",
       "    }\n",
       "\n",
       "    .dataframe tbody tr th {\n",
       "        vertical-align: top;\n",
       "    }\n",
       "\n",
       "    .dataframe thead th {\n",
       "        text-align: right;\n",
       "    }\n",
       "</style>\n",
       "<table border=\"1\" class=\"dataframe\">\n",
       "  <thead>\n",
       "    <tr style=\"text-align: right;\">\n",
       "      <th></th>\n",
       "      <th>age</th>\n",
       "      <th>gender</th>\n",
       "      <th>height</th>\n",
       "      <th>weight</th>\n",
       "      <th>bp_hi</th>\n",
       "      <th>bp_lo</th>\n",
       "      <th>cholesterol</th>\n",
       "      <th>glucose</th>\n",
       "      <th>smoke</th>\n",
       "      <th>alcohol</th>\n",
       "      <th>bmi</th>\n",
       "      <th>y_true</th>\n",
       "      <th>y_preds</th>\n",
       "      <th>pred_prob</th>\n",
       "    </tr>\n",
       "    <tr>\n",
       "      <th>id</th>\n",
       "      <th></th>\n",
       "      <th></th>\n",
       "      <th></th>\n",
       "      <th></th>\n",
       "      <th></th>\n",
       "      <th></th>\n",
       "      <th></th>\n",
       "      <th></th>\n",
       "      <th></th>\n",
       "      <th></th>\n",
       "      <th></th>\n",
       "      <th></th>\n",
       "      <th></th>\n",
       "      <th></th>\n",
       "    </tr>\n",
       "  </thead>\n",
       "  <tbody>\n",
       "    <tr>\n",
       "      <th>73144</th>\n",
       "      <td>16253</td>\n",
       "      <td>0</td>\n",
       "      <td>165</td>\n",
       "      <td>66.0</td>\n",
       "      <td>120</td>\n",
       "      <td>80</td>\n",
       "      <td>0</td>\n",
       "      <td>0</td>\n",
       "      <td>0</td>\n",
       "      <td>0</td>\n",
       "      <td>24.242424</td>\n",
       "      <td>1</td>\n",
       "      <td>0</td>\n",
       "      <td>9.999995e-01</td>\n",
       "    </tr>\n",
       "    <tr>\n",
       "      <th>33983</th>\n",
       "      <td>20574</td>\n",
       "      <td>0</td>\n",
       "      <td>166</td>\n",
       "      <td>70.0</td>\n",
       "      <td>110</td>\n",
       "      <td>70</td>\n",
       "      <td>0</td>\n",
       "      <td>0</td>\n",
       "      <td>0</td>\n",
       "      <td>0</td>\n",
       "      <td>25.402816</td>\n",
       "      <td>1</td>\n",
       "      <td>0</td>\n",
       "      <td>9.999995e-01</td>\n",
       "    </tr>\n",
       "    <tr>\n",
       "      <th>10389</th>\n",
       "      <td>20451</td>\n",
       "      <td>1</td>\n",
       "      <td>185</td>\n",
       "      <td>75.0</td>\n",
       "      <td>120</td>\n",
       "      <td>80</td>\n",
       "      <td>0</td>\n",
       "      <td>0</td>\n",
       "      <td>0</td>\n",
       "      <td>0</td>\n",
       "      <td>21.913806</td>\n",
       "      <td>1</td>\n",
       "      <td>0</td>\n",
       "      <td>9.999995e-01</td>\n",
       "    </tr>\n",
       "    <tr>\n",
       "      <th>94860</th>\n",
       "      <td>17609</td>\n",
       "      <td>1</td>\n",
       "      <td>164</td>\n",
       "      <td>82.0</td>\n",
       "      <td>120</td>\n",
       "      <td>80</td>\n",
       "      <td>1</td>\n",
       "      <td>0</td>\n",
       "      <td>0</td>\n",
       "      <td>0</td>\n",
       "      <td>30.487805</td>\n",
       "      <td>1</td>\n",
       "      <td>0</td>\n",
       "      <td>9.999995e-01</td>\n",
       "    </tr>\n",
       "    <tr>\n",
       "      <th>9683</th>\n",
       "      <td>16656</td>\n",
       "      <td>0</td>\n",
       "      <td>152</td>\n",
       "      <td>66.0</td>\n",
       "      <td>130</td>\n",
       "      <td>80</td>\n",
       "      <td>0</td>\n",
       "      <td>0</td>\n",
       "      <td>0</td>\n",
       "      <td>0</td>\n",
       "      <td>28.566482</td>\n",
       "      <td>1</td>\n",
       "      <td>0</td>\n",
       "      <td>9.999995e-01</td>\n",
       "    </tr>\n",
       "    <tr>\n",
       "      <th>...</th>\n",
       "      <td>...</td>\n",
       "      <td>...</td>\n",
       "      <td>...</td>\n",
       "      <td>...</td>\n",
       "      <td>...</td>\n",
       "      <td>...</td>\n",
       "      <td>...</td>\n",
       "      <td>...</td>\n",
       "      <td>...</td>\n",
       "      <td>...</td>\n",
       "      <td>...</td>\n",
       "      <td>...</td>\n",
       "      <td>...</td>\n",
       "      <td>...</td>\n",
       "    </tr>\n",
       "    <tr>\n",
       "      <th>87930</th>\n",
       "      <td>18286</td>\n",
       "      <td>0</td>\n",
       "      <td>164</td>\n",
       "      <td>67.0</td>\n",
       "      <td>130</td>\n",
       "      <td>80</td>\n",
       "      <td>0</td>\n",
       "      <td>0</td>\n",
       "      <td>0</td>\n",
       "      <td>0</td>\n",
       "      <td>24.910767</td>\n",
       "      <td>1</td>\n",
       "      <td>0</td>\n",
       "      <td>3.542556e-07</td>\n",
       "    </tr>\n",
       "    <tr>\n",
       "      <th>42199</th>\n",
       "      <td>21302</td>\n",
       "      <td>1</td>\n",
       "      <td>182</td>\n",
       "      <td>81.0</td>\n",
       "      <td>125</td>\n",
       "      <td>80</td>\n",
       "      <td>0</td>\n",
       "      <td>0</td>\n",
       "      <td>1</td>\n",
       "      <td>0</td>\n",
       "      <td>24.453568</td>\n",
       "      <td>1</td>\n",
       "      <td>0</td>\n",
       "      <td>3.542556e-07</td>\n",
       "    </tr>\n",
       "    <tr>\n",
       "      <th>62914</th>\n",
       "      <td>17703</td>\n",
       "      <td>1</td>\n",
       "      <td>167</td>\n",
       "      <td>98.0</td>\n",
       "      <td>110</td>\n",
       "      <td>80</td>\n",
       "      <td>0</td>\n",
       "      <td>1</td>\n",
       "      <td>0</td>\n",
       "      <td>0</td>\n",
       "      <td>35.139302</td>\n",
       "      <td>1</td>\n",
       "      <td>0</td>\n",
       "      <td>3.542556e-07</td>\n",
       "    </tr>\n",
       "    <tr>\n",
       "      <th>5740</th>\n",
       "      <td>21062</td>\n",
       "      <td>0</td>\n",
       "      <td>158</td>\n",
       "      <td>96.0</td>\n",
       "      <td>120</td>\n",
       "      <td>80</td>\n",
       "      <td>0</td>\n",
       "      <td>0</td>\n",
       "      <td>0</td>\n",
       "      <td>0</td>\n",
       "      <td>38.455376</td>\n",
       "      <td>1</td>\n",
       "      <td>0</td>\n",
       "      <td>3.542556e-07</td>\n",
       "    </tr>\n",
       "    <tr>\n",
       "      <th>75791</th>\n",
       "      <td>20369</td>\n",
       "      <td>0</td>\n",
       "      <td>165</td>\n",
       "      <td>64.0</td>\n",
       "      <td>120</td>\n",
       "      <td>80</td>\n",
       "      <td>0</td>\n",
       "      <td>0</td>\n",
       "      <td>0</td>\n",
       "      <td>0</td>\n",
       "      <td>23.507805</td>\n",
       "      <td>1</td>\n",
       "      <td>0</td>\n",
       "      <td>3.542556e-07</td>\n",
       "    </tr>\n",
       "  </tbody>\n",
       "</table>\n",
       "<p>5826 rows × 14 columns</p>\n",
       "</div>"
      ],
      "text/plain": [
       "         age  gender  height  weight  bp_hi  bp_lo  cholesterol  glucose  \\\n",
       "id                                                                         \n",
       "73144  16253       0     165    66.0    120     80            0        0   \n",
       "33983  20574       0     166    70.0    110     70            0        0   \n",
       "10389  20451       1     185    75.0    120     80            0        0   \n",
       "94860  17609       1     164    82.0    120     80            1        0   \n",
       "9683   16656       0     152    66.0    130     80            0        0   \n",
       "...      ...     ...     ...     ...    ...    ...          ...      ...   \n",
       "87930  18286       0     164    67.0    130     80            0        0   \n",
       "42199  21302       1     182    81.0    125     80            0        0   \n",
       "62914  17703       1     167    98.0    110     80            0        1   \n",
       "5740   21062       0     158    96.0    120     80            0        0   \n",
       "75791  20369       0     165    64.0    120     80            0        0   \n",
       "\n",
       "       smoke  alcohol        bmi  y_true  y_preds     pred_prob  \n",
       "id                                                               \n",
       "73144      0        0  24.242424       1        0  9.999995e-01  \n",
       "33983      0        0  25.402816       1        0  9.999995e-01  \n",
       "10389      0        0  21.913806       1        0  9.999995e-01  \n",
       "94860      0        0  30.487805       1        0  9.999995e-01  \n",
       "9683       0        0  28.566482       1        0  9.999995e-01  \n",
       "...      ...      ...        ...     ...      ...           ...  \n",
       "87930      0        0  24.910767       1        0  3.542556e-07  \n",
       "42199      1        0  24.453568       1        0  3.542556e-07  \n",
       "62914      0        0  35.139302       1        0  3.542556e-07  \n",
       "5740       0        0  38.455376       1        0  3.542556e-07  \n",
       "75791      0        0  23.507805       1        0  3.542556e-07  \n",
       "\n",
       "[5826 rows x 14 columns]"
      ]
     },
     "execution_count": 28,
     "metadata": {},
     "output_type": "execute_result"
    },
    {
     "data": {
      "application/javascript": [
       "\n",
       "            setTimeout(function() {\n",
       "                var nbb_cell_id = 28;\n",
       "                var nbb_unformatted_code = \"# dataframe for false negatives sorted by prediction probability descending\\nf_negs = preds_df[(preds_df.y_true == 1) & (preds_df.y_preds == 0)].sort_values(\\n    \\\"pred_prob\\\", ascending=False\\n)\\nf_negs\";\n",
       "                var nbb_formatted_code = \"# dataframe for false negatives sorted by prediction probability descending\\nf_negs = preds_df[(preds_df.y_true == 1) & (preds_df.y_preds == 0)].sort_values(\\n    \\\"pred_prob\\\", ascending=False\\n)\\nf_negs\";\n",
       "                var nbb_cells = Jupyter.notebook.get_cells();\n",
       "                for (var i = 0; i < nbb_cells.length; ++i) {\n",
       "                    if (nbb_cells[i].input_prompt_number == nbb_cell_id) {\n",
       "                        if (nbb_cells[i].get_text() == nbb_unformatted_code) {\n",
       "                             nbb_cells[i].set_text(nbb_formatted_code);\n",
       "                        }\n",
       "                        break;\n",
       "                    }\n",
       "                }\n",
       "            }, 500);\n",
       "            "
      ],
      "text/plain": [
       "<IPython.core.display.Javascript object>"
      ]
     },
     "metadata": {},
     "output_type": "display_data"
    }
   ],
   "source": [
    "# dataframe for false negatives sorted by prediction probability descending\n",
    "f_negs = preds_df[(preds_df.y_true == 1) & (preds_df.y_preds == 0)].sort_values(\n",
    "    \"pred_prob\", ascending=False\n",
    ")\n",
    "f_negs"
   ]
  },
  {
   "cell_type": "code",
   "execution_count": 29,
   "metadata": {},
   "outputs": [
    {
     "data": {
      "text/plain": [
       "age            19326.393066\n",
       "gender             0.329386\n",
       "height           164.653278\n",
       "weight            73.579900\n",
       "bp_hi            118.499828\n",
       "bp_lo             77.894439\n",
       "cholesterol        0.185719\n",
       "glucose            0.174219\n",
       "smoke              0.067628\n",
       "alcohol            0.038277\n",
       "bmi               27.188290\n",
       "y_true             1.000000\n",
       "y_preds            0.000000\n",
       "pred_prob          0.422753\n",
       "dtype: float64"
      ]
     },
     "execution_count": 29,
     "metadata": {},
     "output_type": "execute_result"
    },
    {
     "data": {
      "application/javascript": [
       "\n",
       "            setTimeout(function() {\n",
       "                var nbb_cell_id = 29;\n",
       "                var nbb_unformatted_code = \"f_negs.mean()\";\n",
       "                var nbb_formatted_code = \"f_negs.mean()\";\n",
       "                var nbb_cells = Jupyter.notebook.get_cells();\n",
       "                for (var i = 0; i < nbb_cells.length; ++i) {\n",
       "                    if (nbb_cells[i].input_prompt_number == nbb_cell_id) {\n",
       "                        if (nbb_cells[i].get_text() == nbb_unformatted_code) {\n",
       "                             nbb_cells[i].set_text(nbb_formatted_code);\n",
       "                        }\n",
       "                        break;\n",
       "                    }\n",
       "                }\n",
       "            }, 500);\n",
       "            "
      ],
      "text/plain": [
       "<IPython.core.display.Javascript object>"
      ]
     },
     "metadata": {},
     "output_type": "display_data"
    }
   ],
   "source": [
    "f_negs.mean()"
   ]
  },
  {
   "cell_type": "markdown",
   "metadata": {},
   "source": [
    "> prediction probability distribution"
   ]
  },
  {
   "cell_type": "code",
   "execution_count": 30,
   "metadata": {},
   "outputs": [
    {
     "data": {
      "text/plain": [
       "<matplotlib.axes._subplots.AxesSubplot at 0x220b33d4b20>"
      ]
     },
     "execution_count": 30,
     "metadata": {},
     "output_type": "execute_result"
    },
    {
     "data": {
      "image/png": "[encoded data removed]",
      "text/plain": [
       "<Figure size 432x288 with 1 Axes>"
      ]
     },
     "metadata": {},
     "output_type": "display_data"
    },
    {
     "data": {
      "application/javascript": [
       "\n",
       "            setTimeout(function() {\n",
       "                var nbb_cell_id = 30;\n",
       "                var nbb_unformatted_code = \"preds_df.pred_prob.hist()\";\n",
       "                var nbb_formatted_code = \"preds_df.pred_prob.hist()\";\n",
       "                var nbb_cells = Jupyter.notebook.get_cells();\n",
       "                for (var i = 0; i < nbb_cells.length; ++i) {\n",
       "                    if (nbb_cells[i].input_prompt_number == nbb_cell_id) {\n",
       "                        if (nbb_cells[i].get_text() == nbb_unformatted_code) {\n",
       "                             nbb_cells[i].set_text(nbb_formatted_code);\n",
       "                        }\n",
       "                        break;\n",
       "                    }\n",
       "                }\n",
       "            }, 500);\n",
       "            "
      ],
      "text/plain": [
       "<IPython.core.display.Javascript object>"
      ]
     },
     "metadata": {},
     "output_type": "display_data"
    }
   ],
   "source": [
    "preds_df.pred_prob.hist()"
   ]
  },
  {
   "cell_type": "markdown",
   "metadata": {},
   "source": [
    "> predicitve value of XGBoost model is limited"
   ]
  },
  {
   "cell_type": "markdown",
   "metadata": {},
   "source": [
    "---\n",
    "---\n",
    "# Logistic Regression Model"
   ]
  },
  {
   "cell_type": "code",
   "execution_count": 57,
   "metadata": {},
   "outputs": [
    {
     "data": {
      "application/javascript": [
       "\n",
       "            setTimeout(function() {\n",
       "                var nbb_cell_id = 57;\n",
       "                var nbb_unformatted_code = \"# drop columns for testing sets\\ndrop_cols = [\\n    \\\"disease\\\",\\n    \\\"yrs\\\",\\n    \\\"height_ft\\\",\\n    \\\"bp_diff\\\",\\n    \\\"weight_lbs\\\",\\n    \\\"active\\\",\\n    \\\"alcohol\\\",\\n    \\\"bmi\\\",\\n    #     \\\"height\\\",\\n    #     \\\"weight\\\",\\n]\\n\\n# train test split of data\\nX = df.drop(columns=drop_cols)\\ny = df.disease\\n\\nX_train, X_test, y_train, y_test = train_test_split(\\n    X, y, test_size=0.2, random_state=28, stratify=df.disease\\n)\";\n",
       "                var nbb_formatted_code = \"# drop columns for testing sets\\ndrop_cols = [\\n    \\\"disease\\\",\\n    \\\"yrs\\\",\\n    \\\"height_ft\\\",\\n    \\\"bp_diff\\\",\\n    \\\"weight_lbs\\\",\\n    \\\"active\\\",\\n    \\\"alcohol\\\",\\n    \\\"bmi\\\",\\n    #     \\\"height\\\",\\n    #     \\\"weight\\\",\\n]\\n\\n# train test split of data\\nX = df.drop(columns=drop_cols)\\ny = df.disease\\n\\nX_train, X_test, y_train, y_test = train_test_split(\\n    X, y, test_size=0.2, random_state=28, stratify=df.disease\\n)\";\n",
       "                var nbb_cells = Jupyter.notebook.get_cells();\n",
       "                for (var i = 0; i < nbb_cells.length; ++i) {\n",
       "                    if (nbb_cells[i].input_prompt_number == nbb_cell_id) {\n",
       "                        if (nbb_cells[i].get_text() == nbb_unformatted_code) {\n",
       "                             nbb_cells[i].set_text(nbb_formatted_code);\n",
       "                        }\n",
       "                        break;\n",
       "                    }\n",
       "                }\n",
       "            }, 500);\n",
       "            "
      ],
      "text/plain": [
       "<IPython.core.display.Javascript object>"
      ]
     },
     "metadata": {},
     "output_type": "display_data"
    }
   ],
   "source": [
    "# drop columns for testing sets\n",
    "drop_cols = [\n",
    "    \"disease\",\n",
    "    \"yrs\",\n",
    "    \"height_ft\",\n",
    "    \"bp_diff\",\n",
    "    \"weight_lbs\",\n",
    "    \"active\",\n",
    "    \"alcohol\",\n",
    "    \"bmi\",\n",
    "    #     \"height\",\n",
    "    #     \"weight\",\n",
    "]\n",
    "\n",
    "# train test split of data\n",
    "X = df.drop(columns=drop_cols)\n",
    "y = df.disease\n",
    "\n",
    "X_train, X_test, y_train, y_test = train_test_split(\n",
    "    X, y, test_size=0.2, random_state=28, stratify=df.disease\n",
    ")"
   ]
  },
  {
   "cell_type": "code",
   "execution_count": 58,
   "metadata": {},
   "outputs": [
    {
     "data": {
      "application/javascript": [
       "\n",
       "            setTimeout(function() {\n",
       "                var nbb_cell_id = 58;\n",
       "                var nbb_unformatted_code = \"num_cols = [\\n    \\\"age\\\",\\n    \\\"height\\\",\\n    \\\"weight\\\",\\n    \\\"bp_hi\\\",\\n    \\\"bp_lo\\\",\\n]\\n\\npreprocessing = ColumnTransformer(\\n    [\\n        (\\\"encode_cats\\\", LeaveOneOutEncoder(), cat_cols),\\n        (\\\"scaler\\\", StandardScaler(), num_cols),\\n        #         (\\\"scaler\\\", MinMaxScaler(), num_cols),\\n    ],\\n    remainder=\\\"passthrough\\\",\\n)\";\n",
       "                var nbb_formatted_code = \"num_cols = [\\n    \\\"age\\\",\\n    \\\"height\\\",\\n    \\\"weight\\\",\\n    \\\"bp_hi\\\",\\n    \\\"bp_lo\\\",\\n]\\n\\npreprocessing = ColumnTransformer(\\n    [\\n        (\\\"encode_cats\\\", LeaveOneOutEncoder(), cat_cols),\\n        (\\\"scaler\\\", StandardScaler(), num_cols),\\n        #         (\\\"scaler\\\", MinMaxScaler(), num_cols),\\n    ],\\n    remainder=\\\"passthrough\\\",\\n)\";\n",
       "                var nbb_cells = Jupyter.notebook.get_cells();\n",
       "                for (var i = 0; i < nbb_cells.length; ++i) {\n",
       "                    if (nbb_cells[i].input_prompt_number == nbb_cell_id) {\n",
       "                        if (nbb_cells[i].get_text() == nbb_unformatted_code) {\n",
       "                             nbb_cells[i].set_text(nbb_formatted_code);\n",
       "                        }\n",
       "                        break;\n",
       "                    }\n",
       "                }\n",
       "            }, 500);\n",
       "            "
      ],
      "text/plain": [
       "<IPython.core.display.Javascript object>"
      ]
     },
     "metadata": {},
     "output_type": "display_data"
    }
   ],
   "source": [
    "num_cols = [\n",
    "    \"age\",\n",
    "    \"height\",\n",
    "    \"weight\",\n",
    "    \"bp_hi\",\n",
    "    \"bp_lo\",\n",
    "]\n",
    "\n",
    "preprocessing = ColumnTransformer(\n",
    "    [\n",
    "        (\"encode_cats\", LeaveOneOutEncoder(), cat_cols),\n",
    "        (\"scaler\", StandardScaler(), num_cols),\n",
    "        #         (\"scaler\", MinMaxScaler(), num_cols),\n",
    "    ],\n",
    "    remainder=\"passthrough\",\n",
    ")"
   ]
  },
  {
   "cell_type": "code",
   "execution_count": 59,
   "metadata": {},
   "outputs": [
    {
     "name": "stdout",
     "output_type": "stream",
     "text": [
      "train score: 0.7273571844943165\n",
      "test score: 0.7203642987249544\n"
     ]
    },
    {
     "data": {
      "application/javascript": [
       "\n",
       "            setTimeout(function() {\n",
       "                var nbb_cell_id = 59;\n",
       "                var nbb_unformatted_code = \"# fmt: off\\nlr_pipeline = Pipeline(\\n    [\\n        (\\\"processing\\\", preprocessing),\\n        (\\\"model\\\", LogisticRegression(solver=\\\"lbfgs\\\", penalty=\\\"none\\\", max_iter=1000, random_state=28))\\n    ]\\n)\\n\\nlr_pipeline.fit(X_train, y_train)\\n\\n# best_params = pipeline.best_params_\\nlr_train_score = lr_pipeline.score(X_train, y_train)\\nlr_test_score = lr_pipeline.score(X_test, y_test)\\n\\nprint(f\\\"train score: {lr_train_score}\\\")\\nprint(f\\\"test score: {lr_test_score}\\\")\";\n",
       "                var nbb_formatted_code = \"# fmt: off\\nlr_pipeline = Pipeline(\\n    [\\n        (\\\"processing\\\", preprocessing),\\n        (\\\"model\\\", LogisticRegression(solver=\\\"lbfgs\\\", penalty=\\\"none\\\", max_iter=1000, random_state=28))\\n    ]\\n)\\n\\nlr_pipeline.fit(X_train, y_train)\\n\\n# best_params = pipeline.best_params_\\nlr_train_score = lr_pipeline.score(X_train, y_train)\\nlr_test_score = lr_pipeline.score(X_test, y_test)\\n\\nprint(f\\\"train score: {lr_train_score}\\\")\\nprint(f\\\"test score: {lr_test_score}\\\")\";\n",
       "                var nbb_cells = Jupyter.notebook.get_cells();\n",
       "                for (var i = 0; i < nbb_cells.length; ++i) {\n",
       "                    if (nbb_cells[i].input_prompt_number == nbb_cell_id) {\n",
       "                        if (nbb_cells[i].get_text() == nbb_unformatted_code) {\n",
       "                             nbb_cells[i].set_text(nbb_formatted_code);\n",
       "                        }\n",
       "                        break;\n",
       "                    }\n",
       "                }\n",
       "            }, 500);\n",
       "            "
      ],
      "text/plain": [
       "<IPython.core.display.Javascript object>"
      ]
     },
     "metadata": {},
     "output_type": "display_data"
    }
   ],
   "source": [
    "# fmt: off\n",
    "lr_pipeline = Pipeline(\n",
    "    [\n",
    "        (\"processing\", preprocessing),\n",
    "        (\"model\", LogisticRegression(solver=\"lbfgs\", penalty=\"none\", max_iter=1000, random_state=28))\n",
    "    ]\n",
    ")\n",
    "\n",
    "lr_pipeline.fit(X_train, y_train)\n",
    "\n",
    "# best_params = pipeline.best_params_\n",
    "lr_train_score = lr_pipeline.score(X_train, y_train)\n",
    "lr_test_score = lr_pipeline.score(X_test, y_test)\n",
    "\n",
    "print(f\"train score: {lr_train_score}\")\n",
    "print(f\"test score: {lr_test_score}\")"
   ]
  },
  {
   "cell_type": "markdown",
   "metadata": {},
   "source": [
    "---\n",
    "## LR hyperparameter tuning"
   ]
  },
  {
   "cell_type": "code",
   "execution_count": 60,
   "metadata": {},
   "outputs": [
    {
     "name": "stdout",
     "output_type": "stream",
     "text": [
      "Fitting 5 folds for each of 2 candidates, totalling 10 fits\n"
     ]
    },
    {
     "name": "stderr",
     "output_type": "stream",
     "text": [
      "[Parallel(n_jobs=2)]: Using backend LokyBackend with 2 concurrent workers.\n",
      "[Parallel(n_jobs=2)]: Done  10 out of  10 | elapsed:    0.4s finished\n"
     ]
    },
    {
     "data": {
      "text/plain": [
       "{'model__C': 0.75, 'model__penalty': 'l2', 'model__solver': 'lbfgs'}"
      ]
     },
     "execution_count": 60,
     "metadata": {},
     "output_type": "execute_result"
    },
    {
     "data": {
      "application/javascript": [
       "\n",
       "            setTimeout(function() {\n",
       "                var nbb_cell_id = 60;\n",
       "                var nbb_unformatted_code = \"# fmt: off\\nlr_grid = {\\n    \\\"model__solver\\\": ['lbfgs'],\\n    \\\"model__penalty\\\": [\\\"l2\\\",\\\"none\\\"],\\n    \\\"model__C\\\": [0.75],\\n}\\n# fmt: on\\nlr_pipeline_cv = GridSearchCV(lr_pipeline, lr_grid, cv=5, verbose=1, n_jobs=2)\\nlr_pipeline_cv.fit(X_train, y_train)\\n\\nlr_best_params = lr_pipeline_cv.best_params_\\nlr_best_params\";\n",
       "                var nbb_formatted_code = \"# fmt: off\\nlr_grid = {\\n    \\\"model__solver\\\": ['lbfgs'],\\n    \\\"model__penalty\\\": [\\\"l2\\\",\\\"none\\\"],\\n    \\\"model__C\\\": [0.75],\\n}\\n# fmt: on\\nlr_pipeline_cv = GridSearchCV(lr_pipeline, lr_grid, cv=5, verbose=1, n_jobs=2)\\nlr_pipeline_cv.fit(X_train, y_train)\\n\\nlr_best_params = lr_pipeline_cv.best_params_\\nlr_best_params\";\n",
       "                var nbb_cells = Jupyter.notebook.get_cells();\n",
       "                for (var i = 0; i < nbb_cells.length; ++i) {\n",
       "                    if (nbb_cells[i].input_prompt_number == nbb_cell_id) {\n",
       "                        if (nbb_cells[i].get_text() == nbb_unformatted_code) {\n",
       "                             nbb_cells[i].set_text(nbb_formatted_code);\n",
       "                        }\n",
       "                        break;\n",
       "                    }\n",
       "                }\n",
       "            }, 500);\n",
       "            "
      ],
      "text/plain": [
       "<IPython.core.display.Javascript object>"
      ]
     },
     "metadata": {},
     "output_type": "display_data"
    }
   ],
   "source": [
    "# fmt: off\n",
    "lr_grid = {\n",
    "    \"model__solver\": ['lbfgs'],\n",
    "    \"model__penalty\": [\"l2\",\"none\"],\n",
    "    \"model__C\": [0.75],\n",
    "}\n",
    "# fmt: on\n",
    "lr_pipeline_cv = GridSearchCV(lr_pipeline, lr_grid, cv=5, verbose=1, n_jobs=2)\n",
    "lr_pipeline_cv.fit(X_train, y_train)\n",
    "\n",
    "lr_best_params = lr_pipeline_cv.best_params_\n",
    "lr_best_params"
   ]
  },
  {
   "cell_type": "code",
   "execution_count": 61,
   "metadata": {},
   "outputs": [
    {
     "name": "stdout",
     "output_type": "stream",
     "text": [
      "train_score 0.7273389682308364\n",
      "test_score 0.7203642987249544\n"
     ]
    },
    {
     "data": {
      "application/javascript": [
       "\n",
       "            setTimeout(function() {\n",
       "                var nbb_cell_id = 61;\n",
       "                var nbb_unformatted_code = \"lr_train_score = lr_pipeline_cv.score(X_train, y_train)\\nlr_test_score = lr_pipeline_cv.score(X_test, y_test)\\n\\nprint(f\\\"train_score {lr_train_score}\\\")\\nprint(f\\\"test_score {lr_test_score}\\\")\";\n",
       "                var nbb_formatted_code = \"lr_train_score = lr_pipeline_cv.score(X_train, y_train)\\nlr_test_score = lr_pipeline_cv.score(X_test, y_test)\\n\\nprint(f\\\"train_score {lr_train_score}\\\")\\nprint(f\\\"test_score {lr_test_score}\\\")\";\n",
       "                var nbb_cells = Jupyter.notebook.get_cells();\n",
       "                for (var i = 0; i < nbb_cells.length; ++i) {\n",
       "                    if (nbb_cells[i].input_prompt_number == nbb_cell_id) {\n",
       "                        if (nbb_cells[i].get_text() == nbb_unformatted_code) {\n",
       "                             nbb_cells[i].set_text(nbb_formatted_code);\n",
       "                        }\n",
       "                        break;\n",
       "                    }\n",
       "                }\n",
       "            }, 500);\n",
       "            "
      ],
      "text/plain": [
       "<IPython.core.display.Javascript object>"
      ]
     },
     "metadata": {},
     "output_type": "display_data"
    }
   ],
   "source": [
    "lr_train_score = lr_pipeline_cv.score(X_train, y_train)\n",
    "lr_test_score = lr_pipeline_cv.score(X_test, y_test)\n",
    "\n",
    "print(f\"train_score {lr_train_score}\")\n",
    "print(f\"test_score {lr_test_score}\")"
   ]
  },
  {
   "cell_type": "code",
   "execution_count": 62,
   "metadata": {},
   "outputs": [
    {
     "data": {
      "image/png": "[encoded data removed]",
      "text/plain": [
       "<Figure size 432x288 with 1 Axes>"
      ]
     },
     "metadata": {},
     "output_type": "display_data"
    },
    {
     "data": {
      "application/javascript": [
       "\n",
       "            setTimeout(function() {\n",
       "                var nbb_cell_id = 62;\n",
       "                var nbb_unformatted_code = \"lr_pred_prob = lr_pipeline_cv.predict_proba(X_test)\\n# pred_prob\\n\\nlr_prob_true, lr_prob_pred = calibration_curve(y_test, lr_pred_prob[:, 1], n_bins=10)\\nplt.plot(lr_prob_pred, lr_prob_true, \\\"-o\\\")\\nplt.show()\";\n",
       "                var nbb_formatted_code = \"lr_pred_prob = lr_pipeline_cv.predict_proba(X_test)\\n# pred_prob\\n\\nlr_prob_true, lr_prob_pred = calibration_curve(y_test, lr_pred_prob[:, 1], n_bins=10)\\nplt.plot(lr_prob_pred, lr_prob_true, \\\"-o\\\")\\nplt.show()\";\n",
       "                var nbb_cells = Jupyter.notebook.get_cells();\n",
       "                for (var i = 0; i < nbb_cells.length; ++i) {\n",
       "                    if (nbb_cells[i].input_prompt_number == nbb_cell_id) {\n",
       "                        if (nbb_cells[i].get_text() == nbb_unformatted_code) {\n",
       "                             nbb_cells[i].set_text(nbb_formatted_code);\n",
       "                        }\n",
       "                        break;\n",
       "                    }\n",
       "                }\n",
       "            }, 500);\n",
       "            "
      ],
      "text/plain": [
       "<IPython.core.display.Javascript object>"
      ]
     },
     "metadata": {},
     "output_type": "display_data"
    }
   ],
   "source": [
    "lr_pred_prob = lr_pipeline_cv.predict_proba(X_test)\n",
    "# pred_prob\n",
    "\n",
    "lr_prob_true, lr_prob_pred = calibration_curve(y_test, lr_pred_prob[:, 1], n_bins=10)\n",
    "plt.plot(lr_prob_pred, lr_prob_true, \"-o\")\n",
    "plt.show()"
   ]
  },
  {
   "cell_type": "markdown",
   "metadata": {},
   "source": [
    "---\n",
    "## LR predictions"
   ]
  },
  {
   "cell_type": "code",
   "execution_count": 63,
   "metadata": {},
   "outputs": [
    {
     "data": {
      "text/plain": [
       "array([[5415, 1516],\n",
       "       [2322, 4472]], dtype=int64)"
      ]
     },
     "metadata": {},
     "output_type": "display_data"
    },
    {
     "name": "stdout",
     "output_type": "stream",
     "text": [
      "              precision    recall  f1-score   support\n",
      "\n",
      "           0       0.70      0.78      0.74      6931\n",
      "           1       0.75      0.66      0.70      6794\n",
      "\n",
      "    accuracy                           0.72     13725\n",
      "   macro avg       0.72      0.72      0.72     13725\n",
      "weighted avg       0.72      0.72      0.72     13725\n",
      "\n"
     ]
    },
    {
     "data": {
      "application/javascript": [
       "\n",
       "            setTimeout(function() {\n",
       "                var nbb_cell_id = 63;\n",
       "                var nbb_unformatted_code = \"# prediction percentages\\nlr_preds = lr_pipeline_cv.predict(X_test)\\n\\n# df created from predictions\\nlr_preds_df, _ = predictions_df(X_test, y_test, lr_preds)\\n\\n# add prediction probs to preds_df\\nlr_preds_df[\\\"pred_prob\\\"] = lr_pred_prob[:, 1]\\n\\n# classification target, residuals not needed\\nlr_preds_df = lr_preds_df.drop(columns=[\\\"residuals\\\", \\\"abs_residuals\\\"])\\n\\n# confusion matrix\\nlr_cm = confusion_matrix(y_test, lr_preds)\\ndisplay(lr_cm)\\n\\n# classification report\\nprint(classification_report(y_test, lr_preds))\";\n",
       "                var nbb_formatted_code = \"# prediction percentages\\nlr_preds = lr_pipeline_cv.predict(X_test)\\n\\n# df created from predictions\\nlr_preds_df, _ = predictions_df(X_test, y_test, lr_preds)\\n\\n# add prediction probs to preds_df\\nlr_preds_df[\\\"pred_prob\\\"] = lr_pred_prob[:, 1]\\n\\n# classification target, residuals not needed\\nlr_preds_df = lr_preds_df.drop(columns=[\\\"residuals\\\", \\\"abs_residuals\\\"])\\n\\n# confusion matrix\\nlr_cm = confusion_matrix(y_test, lr_preds)\\ndisplay(lr_cm)\\n\\n# classification report\\nprint(classification_report(y_test, lr_preds))\";\n",
       "                var nbb_cells = Jupyter.notebook.get_cells();\n",
       "                for (var i = 0; i < nbb_cells.length; ++i) {\n",
       "                    if (nbb_cells[i].input_prompt_number == nbb_cell_id) {\n",
       "                        if (nbb_cells[i].get_text() == nbb_unformatted_code) {\n",
       "                             nbb_cells[i].set_text(nbb_formatted_code);\n",
       "                        }\n",
       "                        break;\n",
       "                    }\n",
       "                }\n",
       "            }, 500);\n",
       "            "
      ],
      "text/plain": [
       "<IPython.core.display.Javascript object>"
      ]
     },
     "metadata": {},
     "output_type": "display_data"
    }
   ],
   "source": [
    "# prediction percentages\n",
    "lr_preds = lr_pipeline_cv.predict(X_test)\n",
    "\n",
    "# df created from predictions\n",
    "lr_preds_df, _ = predictions_df(X_test, y_test, lr_preds)\n",
    "\n",
    "# add prediction probs to preds_df\n",
    "lr_preds_df[\"pred_prob\"] = lr_pred_prob[:, 1]\n",
    "\n",
    "# classification target, residuals not needed\n",
    "lr_preds_df = lr_preds_df.drop(columns=[\"residuals\", \"abs_residuals\"])\n",
    "\n",
    "# confusion matrix\n",
    "lr_cm = confusion_matrix(y_test, lr_preds)\n",
    "display(lr_cm)\n",
    "\n",
    "# classification report\n",
    "print(classification_report(y_test, lr_preds))"
   ]
  },
  {
   "cell_type": "markdown",
   "metadata": {},
   "source": [
    "---\n",
    "## LR error analysis"
   ]
  },
  {
   "cell_type": "code",
   "execution_count": 64,
   "metadata": {},
   "outputs": [
    {
     "data": {
      "application/javascript": [
       "\n",
       "            setTimeout(function() {\n",
       "                var nbb_cell_id = 64;\n",
       "                var nbb_unformatted_code = \"# dataframe for false negatives sorted by prediction probability descending\\nlr_f_negs = lr_preds_df[\\n    (lr_preds_df.y_true == 1) & (lr_preds_df.y_preds == 0)\\n].sort_values(\\\"pred_prob\\\", ascending=False)\";\n",
       "                var nbb_formatted_code = \"# dataframe for false negatives sorted by prediction probability descending\\nlr_f_negs = lr_preds_df[\\n    (lr_preds_df.y_true == 1) & (lr_preds_df.y_preds == 0)\\n].sort_values(\\\"pred_prob\\\", ascending=False)\";\n",
       "                var nbb_cells = Jupyter.notebook.get_cells();\n",
       "                for (var i = 0; i < nbb_cells.length; ++i) {\n",
       "                    if (nbb_cells[i].input_prompt_number == nbb_cell_id) {\n",
       "                        if (nbb_cells[i].get_text() == nbb_unformatted_code) {\n",
       "                             nbb_cells[i].set_text(nbb_formatted_code);\n",
       "                        }\n",
       "                        break;\n",
       "                    }\n",
       "                }\n",
       "            }, 500);\n",
       "            "
      ],
      "text/plain": [
       "<IPython.core.display.Javascript object>"
      ]
     },
     "metadata": {},
     "output_type": "display_data"
    }
   ],
   "source": [
    "# dataframe for false negatives sorted by prediction probability descending\n",
    "lr_f_negs = lr_preds_df[\n",
    "    (lr_preds_df.y_true == 1) & (lr_preds_df.y_preds == 0)\n",
    "].sort_values(\"pred_prob\", ascending=False)"
   ]
  },
  {
   "cell_type": "code",
   "execution_count": 65,
   "metadata": {},
   "outputs": [
    {
     "data": {
      "text/plain": [
       "<matplotlib.axes._subplots.AxesSubplot at 0x220b30a8f70>"
      ]
     },
     "execution_count": 65,
     "metadata": {},
     "output_type": "execute_result"
    },
    {
     "data": {
      "image/png": "[encoded data removed]",
      "text/plain": [
       "<Figure size 432x288 with 1 Axes>"
      ]
     },
     "metadata": {},
     "output_type": "display_data"
    },
    {
     "data": {
      "application/javascript": [
       "\n",
       "            setTimeout(function() {\n",
       "                var nbb_cell_id = 65;\n",
       "                var nbb_unformatted_code = \"lr_preds_df.pred_prob.hist()\";\n",
       "                var nbb_formatted_code = \"lr_preds_df.pred_prob.hist()\";\n",
       "                var nbb_cells = Jupyter.notebook.get_cells();\n",
       "                for (var i = 0; i < nbb_cells.length; ++i) {\n",
       "                    if (nbb_cells[i].input_prompt_number == nbb_cell_id) {\n",
       "                        if (nbb_cells[i].get_text() == nbb_unformatted_code) {\n",
       "                             nbb_cells[i].set_text(nbb_formatted_code);\n",
       "                        }\n",
       "                        break;\n",
       "                    }\n",
       "                }\n",
       "            }, 500);\n",
       "            "
      ],
      "text/plain": [
       "<IPython.core.display.Javascript object>"
      ]
     },
     "metadata": {},
     "output_type": "display_data"
    }
   ],
   "source": [
    "lr_preds_df.pred_prob.hist()"
   ]
  },
  {
   "cell_type": "markdown",
   "metadata": {},
   "source": [
    "> The overall classification ability of the logistic regression model isn't quite as good as the XGBoost model, however the predictive range of the logistic regression model is more versatile"
   ]
  },
  {
   "cell_type": "code",
   "execution_count": 66,
   "metadata": {
    "scrolled": true
   },
   "outputs": [
    {
     "data": {
      "text/plain": [
       "age            19298.566322\n",
       "gender             0.364772\n",
       "height           165.084410\n",
       "weight            71.845564\n",
       "bp_hi            118.033592\n",
       "bp_lo             77.848837\n",
       "cholesterol        0.134367\n",
       "glucose            0.158484\n",
       "smoke              0.070629\n",
       "y_true             1.000000\n",
       "y_preds            0.000000\n",
       "pred_prob          0.491242\n",
       "dtype: float64"
      ]
     },
     "execution_count": 66,
     "metadata": {},
     "output_type": "execute_result"
    },
    {
     "data": {
      "application/javascript": [
       "\n",
       "            setTimeout(function() {\n",
       "                var nbb_cell_id = 66;\n",
       "                var nbb_unformatted_code = \"lr_f_negs.mean()\";\n",
       "                var nbb_formatted_code = \"lr_f_negs.mean()\";\n",
       "                var nbb_cells = Jupyter.notebook.get_cells();\n",
       "                for (var i = 0; i < nbb_cells.length; ++i) {\n",
       "                    if (nbb_cells[i].input_prompt_number == nbb_cell_id) {\n",
       "                        if (nbb_cells[i].get_text() == nbb_unformatted_code) {\n",
       "                             nbb_cells[i].set_text(nbb_formatted_code);\n",
       "                        }\n",
       "                        break;\n",
       "                    }\n",
       "                }\n",
       "            }, 500);\n",
       "            "
      ],
      "text/plain": [
       "<IPython.core.display.Javascript object>"
      ]
     },
     "metadata": {},
     "output_type": "display_data"
    }
   ],
   "source": [
    "lr_f_negs.mean()"
   ]
  },
  {
   "cell_type": "code",
   "execution_count": 67,
   "metadata": {},
   "outputs": [
    {
     "data": {
      "text/plain": [
       "age            19326.393066\n",
       "gender             0.329386\n",
       "height           164.653278\n",
       "weight            73.579900\n",
       "bp_hi            118.499828\n",
       "bp_lo             77.894439\n",
       "cholesterol        0.185719\n",
       "glucose            0.174219\n",
       "smoke              0.067628\n",
       "alcohol            0.038277\n",
       "bmi               27.188290\n",
       "y_true             1.000000\n",
       "y_preds            0.000000\n",
       "pred_prob          0.422753\n",
       "dtype: float64"
      ]
     },
     "execution_count": 67,
     "metadata": {},
     "output_type": "execute_result"
    },
    {
     "data": {
      "application/javascript": [
       "\n",
       "            setTimeout(function() {\n",
       "                var nbb_cell_id = 67;\n",
       "                var nbb_unformatted_code = \"f_negs.mean()\";\n",
       "                var nbb_formatted_code = \"f_negs.mean()\";\n",
       "                var nbb_cells = Jupyter.notebook.get_cells();\n",
       "                for (var i = 0; i < nbb_cells.length; ++i) {\n",
       "                    if (nbb_cells[i].input_prompt_number == nbb_cell_id) {\n",
       "                        if (nbb_cells[i].get_text() == nbb_unformatted_code) {\n",
       "                             nbb_cells[i].set_text(nbb_formatted_code);\n",
       "                        }\n",
       "                        break;\n",
       "                    }\n",
       "                }\n",
       "            }, 500);\n",
       "            "
      ],
      "text/plain": [
       "<IPython.core.display.Javascript object>"
      ]
     },
     "metadata": {},
     "output_type": "display_data"
    }
   ],
   "source": [
    "f_negs.mean()"
   ]
  },
  {
   "cell_type": "code",
   "execution_count": 68,
   "metadata": {},
   "outputs": [
    {
     "data": {
      "text/html": [
       "<div>\n",
       "<style scoped>\n",
       "    .dataframe tbody tr th:only-of-type {\n",
       "        vertical-align: middle;\n",
       "    }\n",
       "\n",
       "    .dataframe tbody tr th {\n",
       "        vertical-align: top;\n",
       "    }\n",
       "\n",
       "    .dataframe thead th {\n",
       "        text-align: right;\n",
       "    }\n",
       "</style>\n",
       "<table border=\"1\" class=\"dataframe\">\n",
       "  <thead>\n",
       "    <tr style=\"text-align: right;\">\n",
       "      <th></th>\n",
       "      <th>age</th>\n",
       "      <th>gender</th>\n",
       "      <th>height</th>\n",
       "      <th>weight</th>\n",
       "      <th>bp_hi</th>\n",
       "      <th>bp_lo</th>\n",
       "      <th>cholesterol</th>\n",
       "      <th>glucose</th>\n",
       "      <th>smoke</th>\n",
       "      <th>y_true</th>\n",
       "      <th>y_preds</th>\n",
       "      <th>pred_prob</th>\n",
       "    </tr>\n",
       "    <tr>\n",
       "      <th>id</th>\n",
       "      <th></th>\n",
       "      <th></th>\n",
       "      <th></th>\n",
       "      <th></th>\n",
       "      <th></th>\n",
       "      <th></th>\n",
       "      <th></th>\n",
       "      <th></th>\n",
       "      <th></th>\n",
       "      <th></th>\n",
       "      <th></th>\n",
       "      <th></th>\n",
       "    </tr>\n",
       "  </thead>\n",
       "  <tbody>\n",
       "    <tr>\n",
       "      <th>82877</th>\n",
       "      <td>17285</td>\n",
       "      <td>1</td>\n",
       "      <td>183</td>\n",
       "      <td>99.0</td>\n",
       "      <td>120</td>\n",
       "      <td>80</td>\n",
       "      <td>0</td>\n",
       "      <td>0</td>\n",
       "      <td>0</td>\n",
       "      <td>1</td>\n",
       "      <td>0</td>\n",
       "      <td>0.524032</td>\n",
       "    </tr>\n",
       "    <tr>\n",
       "      <th>60787</th>\n",
       "      <td>21861</td>\n",
       "      <td>0</td>\n",
       "      <td>174</td>\n",
       "      <td>73.0</td>\n",
       "      <td>150</td>\n",
       "      <td>80</td>\n",
       "      <td>2</td>\n",
       "      <td>2</td>\n",
       "      <td>0</td>\n",
       "      <td>0</td>\n",
       "      <td>1</td>\n",
       "      <td>0.406087</td>\n",
       "    </tr>\n",
       "    <tr>\n",
       "      <th>66111</th>\n",
       "      <td>18930</td>\n",
       "      <td>0</td>\n",
       "      <td>160</td>\n",
       "      <td>71.0</td>\n",
       "      <td>110</td>\n",
       "      <td>70</td>\n",
       "      <td>0</td>\n",
       "      <td>0</td>\n",
       "      <td>0</td>\n",
       "      <td>1</td>\n",
       "      <td>0</td>\n",
       "      <td>0.918922</td>\n",
       "    </tr>\n",
       "    <tr>\n",
       "      <th>11794</th>\n",
       "      <td>19807</td>\n",
       "      <td>1</td>\n",
       "      <td>178</td>\n",
       "      <td>78.0</td>\n",
       "      <td>120</td>\n",
       "      <td>90</td>\n",
       "      <td>0</td>\n",
       "      <td>0</td>\n",
       "      <td>0</td>\n",
       "      <td>1</td>\n",
       "      <td>0</td>\n",
       "      <td>0.815680</td>\n",
       "    </tr>\n",
       "    <tr>\n",
       "      <th>22742</th>\n",
       "      <td>23479</td>\n",
       "      <td>0</td>\n",
       "      <td>169</td>\n",
       "      <td>65.0</td>\n",
       "      <td>120</td>\n",
       "      <td>80</td>\n",
       "      <td>0</td>\n",
       "      <td>0</td>\n",
       "      <td>0</td>\n",
       "      <td>1</td>\n",
       "      <td>0</td>\n",
       "      <td>0.686403</td>\n",
       "    </tr>\n",
       "  </tbody>\n",
       "</table>\n",
       "</div>"
      ],
      "text/plain": [
       "         age  gender  height  weight  bp_hi  bp_lo  cholesterol  glucose  \\\n",
       "id                                                                         \n",
       "82877  17285       1     183    99.0    120     80            0        0   \n",
       "60787  21861       0     174    73.0    150     80            2        2   \n",
       "66111  18930       0     160    71.0    110     70            0        0   \n",
       "11794  19807       1     178    78.0    120     90            0        0   \n",
       "22742  23479       0     169    65.0    120     80            0        0   \n",
       "\n",
       "       smoke  y_true  y_preds  pred_prob  \n",
       "id                                        \n",
       "82877      0       1        0   0.524032  \n",
       "60787      0       0        1   0.406087  \n",
       "66111      0       1        0   0.918922  \n",
       "11794      0       1        0   0.815680  \n",
       "22742      0       1        0   0.686403  "
      ]
     },
     "execution_count": 68,
     "metadata": {},
     "output_type": "execute_result"
    },
    {
     "data": {
      "application/javascript": [
       "\n",
       "            setTimeout(function() {\n",
       "                var nbb_cell_id = 68;\n",
       "                var nbb_unformatted_code = \"lr_preds_df.head()\";\n",
       "                var nbb_formatted_code = \"lr_preds_df.head()\";\n",
       "                var nbb_cells = Jupyter.notebook.get_cells();\n",
       "                for (var i = 0; i < nbb_cells.length; ++i) {\n",
       "                    if (nbb_cells[i].input_prompt_number == nbb_cell_id) {\n",
       "                        if (nbb_cells[i].get_text() == nbb_unformatted_code) {\n",
       "                             nbb_cells[i].set_text(nbb_formatted_code);\n",
       "                        }\n",
       "                        break;\n",
       "                    }\n",
       "                }\n",
       "            }, 500);\n",
       "            "
      ],
      "text/plain": [
       "<IPython.core.display.Javascript object>"
      ]
     },
     "metadata": {},
     "output_type": "display_data"
    }
   ],
   "source": [
    "lr_preds_df.head()"
   ]
  },
  {
   "cell_type": "markdown",
   "metadata": {},
   "source": [
    "## Prediction threshold"
   ]
  },
  {
   "cell_type": "code",
   "execution_count": 69,
   "metadata": {},
   "outputs": [
    {
     "data": {
      "application/javascript": [
       "\n",
       "            setTimeout(function() {\n",
       "                var nbb_cell_id = 69;\n",
       "                var nbb_unformatted_code = \"adj_lr_preds = lr_preds_df.copy()\";\n",
       "                var nbb_formatted_code = \"adj_lr_preds = lr_preds_df.copy()\";\n",
       "                var nbb_cells = Jupyter.notebook.get_cells();\n",
       "                for (var i = 0; i < nbb_cells.length; ++i) {\n",
       "                    if (nbb_cells[i].input_prompt_number == nbb_cell_id) {\n",
       "                        if (nbb_cells[i].get_text() == nbb_unformatted_code) {\n",
       "                             nbb_cells[i].set_text(nbb_formatted_code);\n",
       "                        }\n",
       "                        break;\n",
       "                    }\n",
       "                }\n",
       "            }, 500);\n",
       "            "
      ],
      "text/plain": [
       "<IPython.core.display.Javascript object>"
      ]
     },
     "metadata": {},
     "output_type": "display_data"
    }
   ],
   "source": [
    "adj_lr_preds = lr_preds_df.copy()"
   ]
  },
  {
   "cell_type": "code",
   "execution_count": 70,
   "metadata": {
    "scrolled": true
   },
   "outputs": [
    {
     "name": "stdout",
     "output_type": "stream",
     "text": [
      "              precision    recall  f1-score   support\n",
      "\n",
      "           0       0.70      0.44      0.54      6931\n",
      "           1       0.58      0.80      0.68      6794\n",
      "\n",
      "    accuracy                           0.62     13725\n",
      "   macro avg       0.64      0.62      0.61     13725\n",
      "weighted avg       0.64      0.62      0.61     13725\n",
      "\n"
     ]
    },
    {
     "data": {
      "application/javascript": [
       "\n",
       "            setTimeout(function() {\n",
       "                var nbb_cell_id = 70;\n",
       "                var nbb_unformatted_code = \"# changing the prediction percentage threshold\\nadj_lr_preds.loc[adj_lr_preds.pred_prob > 0.4999, \\\"y_preds\\\"] = 1\\n\\n# classification report with new threshold\\nprint(classification_report(adj_lr_preds.y_true, adj_lr_preds.y_preds))\";\n",
       "                var nbb_formatted_code = \"# changing the prediction percentage threshold\\nadj_lr_preds.loc[adj_lr_preds.pred_prob > 0.4999, \\\"y_preds\\\"] = 1\\n\\n# classification report with new threshold\\nprint(classification_report(adj_lr_preds.y_true, adj_lr_preds.y_preds))\";\n",
       "                var nbb_cells = Jupyter.notebook.get_cells();\n",
       "                for (var i = 0; i < nbb_cells.length; ++i) {\n",
       "                    if (nbb_cells[i].input_prompt_number == nbb_cell_id) {\n",
       "                        if (nbb_cells[i].get_text() == nbb_unformatted_code) {\n",
       "                             nbb_cells[i].set_text(nbb_formatted_code);\n",
       "                        }\n",
       "                        break;\n",
       "                    }\n",
       "                }\n",
       "            }, 500);\n",
       "            "
      ],
      "text/plain": [
       "<IPython.core.display.Javascript object>"
      ]
     },
     "metadata": {},
     "output_type": "display_data"
    }
   ],
   "source": [
    "# changing the prediction percentage threshold\n",
    "adj_lr_preds.loc[adj_lr_preds.pred_prob > 0.4999, \"y_preds\"] = 1\n",
    "\n",
    "# classification report with new threshold\n",
    "print(classification_report(adj_lr_preds.y_true, adj_lr_preds.y_preds))"
   ]
  }
 ],
 "metadata": {
  "kernelspec": {
   "display_name": "Python 3",
   "language": "python",
   "name": "python3"
  },
  "language_info": {
   "codemirror_mode": {
    "name": "ipython",
    "version": 3
   },
   "file_extension": ".py",
   "mimetype": "text/x-python",
   "name": "python",
   "nbconvert_exporter": "python",
   "pygments_lexer": "ipython3",
   "version": "3.8.3"
  },
  "toc": {
   "base_numbering": 1,
   "nav_menu": {},
   "number_sections": false,
   "sideBar": true,
   "skip_h1_title": false,
   "title_cell": "Table of Contents",
   "title_sidebar": "Contents",
   "toc_cell": false,
   "toc_position": {
    "height": "calc(100% - 180px)",
    "left": "10px",
    "top": "150px",
    "width": "252.547px"
   },
   "toc_section_display": true,
   "toc_window_display": true
  }
 },
 "nbformat": 4,
 "nbformat_minor": 4
}
