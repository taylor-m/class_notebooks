{
 "cells": [
  {
   "cell_type": "code",
   "execution_count": 1,
   "metadata": {},
   "outputs": [
    {
     "data": {
      "application/javascript": [
       "\n",
       "            setTimeout(function() {\n",
       "                var nbb_cell_id = 1;\n",
       "                var nbb_unformatted_code = \"%reload_ext nb_black\\nimport pandas as pd\\nimport numpy as np\\nfrom matplotlib import pyplot as plt\\nimport plotly\\nimport seaborn as sns\\n\\n%matplotlib inline\\nfrom scipy import stats\\n\\nplt.style.use([\\\"dark_background\\\"])\\n# %matplotlib ipympl\\n\\nfrom sklearn.ensemble import AdaBoostClassifier, GradientBoostingClassifier\\nfrom sklearn.svm import SVC\\nfrom xgboost import XGBClassifier\\n\\nfrom sklearn.model_selection import train_test_split, GridSearchCV\\nfrom category_encoders import LeaveOneOutEncoder\\nfrom sklearn.compose import ColumnTransformer\\nfrom sklearn.pipeline import Pipeline\\nfrom sklearn.preprocessing import StandardScaler, MinMaxScaler\\nimport warnings\\nfrom functions_pkg import print_vif\";\n",
       "                var nbb_formatted_code = \"%reload_ext nb_black\\nimport pandas as pd\\nimport numpy as np\\nfrom matplotlib import pyplot as plt\\nimport plotly\\nimport seaborn as sns\\n\\n%matplotlib inline\\nfrom scipy import stats\\n\\nplt.style.use([\\\"dark_background\\\"])\\n# %matplotlib ipympl\\n\\nfrom sklearn.ensemble import AdaBoostClassifier, GradientBoostingClassifier\\nfrom sklearn.svm import SVC\\nfrom xgboost import XGBClassifier\\n\\nfrom sklearn.model_selection import train_test_split, GridSearchCV\\nfrom category_encoders import LeaveOneOutEncoder\\nfrom sklearn.compose import ColumnTransformer\\nfrom sklearn.pipeline import Pipeline\\nfrom sklearn.preprocessing import StandardScaler, MinMaxScaler\\nimport warnings\\nfrom functions_pkg import print_vif\";\n",
       "                var nbb_cells = Jupyter.notebook.get_cells();\n",
       "                for (var i = 0; i < nbb_cells.length; ++i) {\n",
       "                    if (nbb_cells[i].input_prompt_number == nbb_cell_id) {\n",
       "                        if (nbb_cells[i].get_text() == nbb_unformatted_code) {\n",
       "                             nbb_cells[i].set_text(nbb_formatted_code);\n",
       "                        }\n",
       "                        break;\n",
       "                    }\n",
       "                }\n",
       "            }, 500);\n",
       "            "
      ],
      "text/plain": [
       "<IPython.core.display.Javascript object>"
      ]
     },
     "metadata": {},
     "output_type": "display_data"
    }
   ],
   "source": [
    "%reload_ext nb_black\n",
    "import pandas as pd\n",
    "import numpy as np\n",
    "from matplotlib import pyplot as plt\n",
    "import plotly\n",
    "import seaborn as sns\n",
    "\n",
    "%matplotlib inline\n",
    "from scipy import stats\n",
    "\n",
    "plt.style.use([\"dark_background\"])\n",
    "# %matplotlib ipympl\n",
    "\n",
    "from sklearn.ensemble import AdaBoostClassifier, GradientBoostingClassifier\n",
    "from sklearn.svm import SVC\n",
    "from xgboost import XGBClassifier\n",
    "\n",
    "from sklearn.model_selection import train_test_split, GridSearchCV\n",
    "from category_encoders import LeaveOneOutEncoder\n",
    "from sklearn.compose import ColumnTransformer\n",
    "from sklearn.pipeline import Pipeline\n",
    "from sklearn.preprocessing import StandardScaler, MinMaxScaler\n",
    "import warnings\n",
    "from functions_pkg import print_vif"
   ]
  },
  {
   "cell_type": "code",
   "execution_count": null,
   "metadata": {},
   "outputs": [],
   "source": [
    "df = pd.read_csv(\"../\")"
   ]
  }
 ],
 "metadata": {
  "kernelspec": {
   "display_name": "Python 3",
   "language": "python",
   "name": "python3"
  },
  "language_info": {
   "codemirror_mode": {
    "name": "ipython",
    "version": 3
   },
   "file_extension": ".py",
   "mimetype": "text/x-python",
   "name": "python",
   "nbconvert_exporter": "python",
   "pygments_lexer": "ipython3",
   "version": "3.8.3"
  },
  "toc": {
   "base_numbering": 1,
   "nav_menu": {},
   "number_sections": false,
   "sideBar": true,
   "skip_h1_title": false,
   "title_cell": "Table of Contents",
   "title_sidebar": "Contents",
   "toc_cell": false,
   "toc_position": {},
   "toc_section_display": true,
   "toc_window_display": true
  }
 },
 "nbformat": 4,
 "nbformat_minor": 4
}
