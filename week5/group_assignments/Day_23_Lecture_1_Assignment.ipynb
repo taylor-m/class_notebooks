{
  "nbformat": 4,
  "nbformat_minor": 0,
  "metadata": {
    "colab": {
      "name": "Day 23 Lecture 1 Assignment.ipynb",
      "provenance": [],
      "collapsed_sections": []
    },
    "kernelspec": {
      "display_name": "Python 3",
      "language": "python",
      "name": "python3"
    },
    "language_info": {
      "codemirror_mode": {
        "name": "ipython",
        "version": 3
      },
      "file_extension": ".py",
      "mimetype": "text/x-python",
      "name": "python",
      "nbconvert_exporter": "python",
      "pygments_lexer": "ipython3",
      "version": "3.7.3"
    }
  },
  "cells": [
    {
      "cell_type": "markdown",
      "metadata": {
        "id": "N-dUAbfgpuRb"
      },
      "source": [
        "## Day 23 Lecture 1 Assignment\n",
        "\n",
        "In this assignment, we will explore feature selection and dimensionality reduction techniques. We will use both the FIFA ratings dataset and the Chicago traffic crashes dataset."
      ]
    },
    {
      "cell_type": "code",
      "metadata": {
        "id": "frNvugKHpuRd"
      },
      "source": [
        "import numpy as np\n",
        "import pandas as pd\n",
        "\n",
        "import matplotlib.pyplot as plt\n",
        "\n",
        "%matplotlib inline"
      ],
      "execution_count": null,
      "outputs": []
    },
    {
      "cell_type": "code",
      "metadata": {
        "id": "B_1e4lobpuRf"
      },
      "source": [
        "crash_data = pd.read_csv('https://tf-assets-prod.s3.amazonaws.com/tf-curric/data-science/traffic_crashes_chicago.csv')\n",
        "soccer_data = pd.read_csv('https://tf-assets-prod.s3.amazonaws.com/tf-curric/data-science/fifa_ratings.csv')"
      ],
      "execution_count": null,
      "outputs": []
    },
    {
      "cell_type": "code",
      "metadata": {
        "id": "EvejUvTOTUxR",
        "outputId": "6a1a0602-0f6a-40e6-d209-391d5ced31c1"
      },
      "source": [
        "soccer_data.head()"
      ],
      "execution_count": null,
      "outputs": [
        {
          "output_type": "execute_result",
          "data": {
            "text/html": [
              "<div>\n",
              "<style scoped>\n",
              "    .dataframe tbody tr th:only-of-type {\n",
              "        vertical-align: middle;\n",
              "    }\n",
              "\n",
              "    .dataframe tbody tr th {\n",
              "        vertical-align: top;\n",
              "    }\n",
              "\n",
              "    .dataframe thead th {\n",
              "        text-align: right;\n",
              "    }\n",
              "</style>\n",
              "<table border=\"1\" class=\"dataframe\">\n",
              "  <thead>\n",
              "    <tr style=\"text-align: right;\">\n",
              "      <th></th>\n",
              "      <th>ID</th>\n",
              "      <th>Name</th>\n",
              "      <th>Overall</th>\n",
              "      <th>Crossing</th>\n",
              "      <th>Finishing</th>\n",
              "      <th>HeadingAccuracy</th>\n",
              "      <th>ShortPassing</th>\n",
              "      <th>Volleys</th>\n",
              "      <th>Dribbling</th>\n",
              "      <th>Curve</th>\n",
              "      <th>...</th>\n",
              "      <th>LongShots</th>\n",
              "      <th>Aggression</th>\n",
              "      <th>Interceptions</th>\n",
              "      <th>Positioning</th>\n",
              "      <th>Vision</th>\n",
              "      <th>Penalties</th>\n",
              "      <th>Composure</th>\n",
              "      <th>Marking</th>\n",
              "      <th>StandingTackle</th>\n",
              "      <th>SlidingTackle</th>\n",
              "    </tr>\n",
              "  </thead>\n",
              "  <tbody>\n",
              "    <tr>\n",
              "      <th>0</th>\n",
              "      <td>158023</td>\n",
              "      <td>L. Messi</td>\n",
              "      <td>94</td>\n",
              "      <td>84</td>\n",
              "      <td>95</td>\n",
              "      <td>70</td>\n",
              "      <td>90</td>\n",
              "      <td>86</td>\n",
              "      <td>97</td>\n",
              "      <td>93</td>\n",
              "      <td>...</td>\n",
              "      <td>94</td>\n",
              "      <td>48</td>\n",
              "      <td>22</td>\n",
              "      <td>94</td>\n",
              "      <td>94</td>\n",
              "      <td>75</td>\n",
              "      <td>96</td>\n",
              "      <td>33</td>\n",
              "      <td>28</td>\n",
              "      <td>26</td>\n",
              "    </tr>\n",
              "    <tr>\n",
              "      <th>1</th>\n",
              "      <td>20801</td>\n",
              "      <td>Cristiano Ronaldo</td>\n",
              "      <td>94</td>\n",
              "      <td>84</td>\n",
              "      <td>94</td>\n",
              "      <td>89</td>\n",
              "      <td>81</td>\n",
              "      <td>87</td>\n",
              "      <td>88</td>\n",
              "      <td>81</td>\n",
              "      <td>...</td>\n",
              "      <td>93</td>\n",
              "      <td>63</td>\n",
              "      <td>29</td>\n",
              "      <td>95</td>\n",
              "      <td>82</td>\n",
              "      <td>85</td>\n",
              "      <td>95</td>\n",
              "      <td>28</td>\n",
              "      <td>31</td>\n",
              "      <td>23</td>\n",
              "    </tr>\n",
              "    <tr>\n",
              "      <th>2</th>\n",
              "      <td>190871</td>\n",
              "      <td>Neymar Jr</td>\n",
              "      <td>92</td>\n",
              "      <td>79</td>\n",
              "      <td>87</td>\n",
              "      <td>62</td>\n",
              "      <td>84</td>\n",
              "      <td>84</td>\n",
              "      <td>96</td>\n",
              "      <td>88</td>\n",
              "      <td>...</td>\n",
              "      <td>82</td>\n",
              "      <td>56</td>\n",
              "      <td>36</td>\n",
              "      <td>89</td>\n",
              "      <td>87</td>\n",
              "      <td>81</td>\n",
              "      <td>94</td>\n",
              "      <td>27</td>\n",
              "      <td>24</td>\n",
              "      <td>33</td>\n",
              "    </tr>\n",
              "    <tr>\n",
              "      <th>3</th>\n",
              "      <td>192985</td>\n",
              "      <td>K. De Bruyne</td>\n",
              "      <td>91</td>\n",
              "      <td>93</td>\n",
              "      <td>82</td>\n",
              "      <td>55</td>\n",
              "      <td>92</td>\n",
              "      <td>82</td>\n",
              "      <td>86</td>\n",
              "      <td>85</td>\n",
              "      <td>...</td>\n",
              "      <td>91</td>\n",
              "      <td>76</td>\n",
              "      <td>61</td>\n",
              "      <td>87</td>\n",
              "      <td>94</td>\n",
              "      <td>79</td>\n",
              "      <td>88</td>\n",
              "      <td>68</td>\n",
              "      <td>58</td>\n",
              "      <td>51</td>\n",
              "    </tr>\n",
              "    <tr>\n",
              "      <th>4</th>\n",
              "      <td>183277</td>\n",
              "      <td>E. Hazard</td>\n",
              "      <td>91</td>\n",
              "      <td>81</td>\n",
              "      <td>84</td>\n",
              "      <td>61</td>\n",
              "      <td>89</td>\n",
              "      <td>80</td>\n",
              "      <td>95</td>\n",
              "      <td>83</td>\n",
              "      <td>...</td>\n",
              "      <td>80</td>\n",
              "      <td>54</td>\n",
              "      <td>41</td>\n",
              "      <td>87</td>\n",
              "      <td>89</td>\n",
              "      <td>86</td>\n",
              "      <td>91</td>\n",
              "      <td>34</td>\n",
              "      <td>27</td>\n",
              "      <td>22</td>\n",
              "    </tr>\n",
              "  </tbody>\n",
              "</table>\n",
              "<p>5 rows × 32 columns</p>\n",
              "</div>"
            ],
            "text/plain": [
              "       ID               Name  Overall  Crossing  Finishing  HeadingAccuracy  \\\n",
              "0  158023           L. Messi       94        84         95               70   \n",
              "1   20801  Cristiano Ronaldo       94        84         94               89   \n",
              "2  190871          Neymar Jr       92        79         87               62   \n",
              "3  192985       K. De Bruyne       91        93         82               55   \n",
              "4  183277          E. Hazard       91        81         84               61   \n",
              "\n",
              "   ShortPassing  Volleys  Dribbling  Curve  ...  LongShots  Aggression  \\\n",
              "0            90       86         97     93  ...         94          48   \n",
              "1            81       87         88     81  ...         93          63   \n",
              "2            84       84         96     88  ...         82          56   \n",
              "3            92       82         86     85  ...         91          76   \n",
              "4            89       80         95     83  ...         80          54   \n",
              "\n",
              "   Interceptions  Positioning  Vision  Penalties  Composure  Marking  \\\n",
              "0             22           94      94         75         96       33   \n",
              "1             29           95      82         85         95       28   \n",
              "2             36           89      87         81         94       27   \n",
              "3             61           87      94         79         88       68   \n",
              "4             41           87      89         86         91       34   \n",
              "\n",
              "   StandingTackle  SlidingTackle  \n",
              "0              28             26  \n",
              "1              31             23  \n",
              "2              24             33  \n",
              "3              58             51  \n",
              "4              27             22  \n",
              "\n",
              "[5 rows x 32 columns]"
            ]
          },
          "metadata": {
            "tags": []
          },
          "execution_count": 3
        }
      ]
    },
    {
      "cell_type": "markdown",
      "metadata": {
        "id": "XSlVp6FRpuRg"
      },
      "source": [
        "We will begin with the Chicago traffic crashes dataset, focusing on removing columns with significant missing data.\n",
        "\n",
        "Remove all columns with more than 5% missing data from the dataframe. (The *missingness summary* function we wrote a few exercises ago will speed this process up significantly.) Print out the columns that were removed, and the proportion of missing data for each column."
      ]
    },
    {
      "cell_type": "code",
      "metadata": {
        "id": "p8LyaYcIpuRh"
      },
      "source": [
        "# answer goes here\n",
        "\n",
        "\n",
        "\n"
      ],
      "execution_count": null,
      "outputs": []
    },
    {
      "cell_type": "markdown",
      "metadata": {
        "id": "P_h8WYktpuRj"
      },
      "source": [
        "Next, we will shift our focus to the FIFA ratings dataset and explore univariate feature selection techniques. We will treat \"Overall\" as the response and the other ratings as features.\n",
        "\n",
        "Using the correlations between the response and features, identify the 5 features with the greatest univariate correlation to the response."
      ]
    },
    {
      "cell_type": "code",
      "metadata": {
        "id": "N2QZ5lrZTUxX"
      },
      "source": [
        "# answer goes here\n",
        "\n",
        "\n",
        "\n"
      ],
      "execution_count": null,
      "outputs": []
    },
    {
      "cell_type": "markdown",
      "metadata": {
        "id": "iR7m9gANTUxY"
      },
      "source": [
        "Use sklearn's \"SelectKBest\" function to select the top 5 features using two different scoring metrics: f_regression and mutual_info_regression. Print out the top 5 columns that are selected by both. How do they compare to the ones selected by  univariate correlation?"
      ]
    },
    {
      "cell_type": "code",
      "metadata": {
        "id": "s7ZPqXMGpuRj"
      },
      "source": [
        "# answer goes here\n",
        "\n",
        "\n",
        "\n"
      ],
      "execution_count": null,
      "outputs": []
    },
    {
      "cell_type": "markdown",
      "metadata": {
        "id": "ahsyvz1LpuRn"
      },
      "source": [
        "Shifting our focus from feature selection to dimensionality reduction, perform PCA on the ratings provided, excluding \"Overall\". Then, answer the following questions:\n",
        "\n",
        "- What percentage of the total variance is capture by the first component? What about the first two, or first three?\n",
        "- Looking at the components themselves, how would you interpret the first two components in plain English?"
      ]
    },
    {
      "cell_type": "code",
      "metadata": {
        "id": "ruxBZ8iyTUxb"
      },
      "source": [
        "# answer goes here\n",
        "\n",
        "\n",
        "\n"
      ],
      "execution_count": null,
      "outputs": []
    }
  ]
}