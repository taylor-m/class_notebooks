{
  "nbformat": 4,
  "nbformat_minor": 0,
  "metadata": {
    "colab": {
      "name": "Day 24 Lecture 1 Assignment.ipynb",
      "provenance": [],
      "collapsed_sections": []
    },
    "kernelspec": {
      "display_name": "Python 3",
      "language": "python",
      "name": "python3"
    },
    "language_info": {
      "codemirror_mode": {
        "name": "ipython",
        "version": 3
      },
      "file_extension": ".py",
      "mimetype": "text/x-python",
      "name": "python",
      "nbconvert_exporter": "python",
      "pygments_lexer": "ipython3",
      "version": "3.7.6"
    }
  },
  "cells": [
    {
      "cell_type": "markdown",
      "metadata": {
        "id": "dV--vGOPrrED"
      },
      "source": [
        "## Day 24 Lecture 1 Assignment\n",
        "\n",
        "In this assignment, we will build our first logistic regression model on numeric data. We will use the FIFA soccer ratings dataset loaded below and analyze the model generated for this dataset."
      ]
    },
    {
      "cell_type": "code",
      "metadata": {
        "colab": {
          "base_uri": "https://localhost:8080/"
        },
        "id": "msSTydewrrEE",
        "outputId": "4406cabb-acc9-4a0a-bd8a-7a438bb80e0d"
      },
      "source": [
        "import numpy as np\n",
        "import pandas as pd\n",
        "\n",
        "import statsmodels.api as sm\n",
        "from sklearn.linear_model import LogisticRegression\n",
        "from sklearn.model_selection import train_test_split\n",
        "from sklearn.metrics import confusion_matrix\n",
        "\n",
        "import seaborn as sns\n",
        "import matplotlib.pyplot as plt\n",
        "\n",
        "%matplotlib inline"
      ],
      "execution_count": null,
      "outputs": [
        {
          "output_type": "stream",
          "text": [
            "/usr/local/lib/python3.6/dist-packages/statsmodels/tools/_testing.py:19: FutureWarning: pandas.util.testing is deprecated. Use the functions in the public API at pandas.testing instead.\n",
            "  import pandas.util.testing as tm\n"
          ],
          "name": "stderr"
        }
      ]
    },
    {
      "cell_type": "markdown",
      "metadata": {
        "id": "_lZxCLU2W6DY"
      },
      "source": [
        "### Import the [FIFA Soccer Ratings dataset](https://tf-assets-prod.s3.amazonaws.com/tf-curric/data-science/fifa_ratings.csv)."
      ]
    },
    {
      "cell_type": "code",
      "metadata": {
        "id": "i3iAu42VrrEF"
      },
      "source": [
        ""
      ],
      "execution_count": null,
      "outputs": []
    },
    {
      "cell_type": "markdown",
      "metadata": {
        "id": "gC9J8aEArrEJ"
      },
      "source": [
        "### Create an Elite field that contains a 1 if the value in the Overall field is >= 75, otherwise 0.\n",
        "\n",
        "Our response for our logistic regression model is going to be a binary label, \"Elite\" or \"Not Elite\", corresponding to whether or not the player has an overall rating greater than or equal to 75. This corresponds to the top 10% or so of soccer players in the data set. Create the response column."
      ]
    },
    {
      "cell_type": "code",
      "metadata": {
        "id": "tTZkLVDnrrEK"
      },
      "source": [
        ""
      ],
      "execution_count": null,
      "outputs": []
    },
    {
      "cell_type": "markdown",
      "metadata": {
        "id": "JClcdTqfUGPR"
      },
      "source": [
        "### Address potential collinearity issues by removing the appropriate features. \n",
        "\n",
        "There is no universally agreed upon technique for doing so, so feel free to use any reasonable method. We have provided the convenience function *remove_correlated_features* as one way of doing so, and we use a threshold of 0.9 for that function to reduce correlation among features."
      ]
    },
    {
      "cell_type": "code",
      "metadata": {
        "id": "MYikuiNvUGPG"
      },
      "source": [
        "def remove_correlated_features(dataset, threshold=0.9):\n",
        "    col_corr = set()\n",
        "    corr_matrix = dataset.corr()\n",
        "    for i in range(len(corr_matrix.columns)):\n",
        "        for j in range(i):\n",
        "            if (corr_matrix.iloc[i, j] >= threshold) and (corr_matrix.columns[j] not in col_corr):\n",
        "                colname = corr_matrix.columns[i]\n",
        "                col_corr.add(colname)\n",
        "                if colname in dataset.columns:\n",
        "                    print(f'Deleted {colname} from dataset.')\n",
        "                    del dataset[colname]\n",
        "\n",
        "    return dataset"
      ],
      "execution_count": null,
      "outputs": []
    },
    {
      "cell_type": "code",
      "metadata": {
        "id": "QQ_AnjyjW6DZ"
      },
      "source": [
        ""
      ],
      "execution_count": null,
      "outputs": []
    },
    {
      "cell_type": "markdown",
      "metadata": {
        "id": "MPK3sgo5rrEN"
      },
      "source": [
        "### Split the data into train and test, with 80% training and 20% testing. \n",
        "\n",
        "Be sure to leave out columns that would not make sense in the model, like the player ID column."
      ]
    },
    {
      "cell_type": "code",
      "metadata": {
        "id": "ifiiIdQ_rrEO"
      },
      "source": [
        ""
      ],
      "execution_count": null,
      "outputs": []
    },
    {
      "cell_type": "markdown",
      "metadata": {
        "id": "x4vvG5GmrrEL"
      },
      "source": [
        "### Fit the logistic regression model using the statsmodels package and print out the coefficient summary. \n",
        "\n",
        "Which variables appear to be the most important, and what effect do they have on the probability of a player being elite?"
      ]
    },
    {
      "cell_type": "code",
      "metadata": {
        "id": "svD4pPAXAFmh"
      },
      "source": [
        ""
      ],
      "execution_count": null,
      "outputs": []
    },
    {
      "cell_type": "markdown",
      "metadata": {
        "id": "z_VuWWeyW6DZ"
      },
      "source": [
        "### Fit the logistic regression model using the Scikit-Learn package and compute the accuracy score. \n",
        "\n",
        "We have yet to discuss how to evaluate the model, which will happen next week, but one intuitive way to see if our model predictions are reasonable is to compute the accuracy score."
      ]
    },
    {
      "cell_type": "code",
      "metadata": {
        "id": "cwdpwLT6rrEM"
      },
      "source": [
        ""
      ],
      "execution_count": null,
      "outputs": []
    },
    {
      "cell_type": "markdown",
      "metadata": {
        "id": "cTL7fuXpW6DZ"
      },
      "source": [
        "### Generate predicted probabilities on the test set by calling the `predict_proba` method."
      ]
    },
    {
      "cell_type": "code",
      "metadata": {
        "id": "1rcDBUdxW6DZ"
      },
      "source": [
        ""
      ],
      "execution_count": null,
      "outputs": []
    },
    {
      "cell_type": "markdown",
      "metadata": {
        "id": "PpuAh3CHW6DZ"
      },
      "source": [
        "### Generate a violin plot that shows the distribution of predicted probabilities by actual class (Elite field).\n",
        "\n",
        "What insights can you draw from the visualization?"
      ]
    },
    {
      "cell_type": "code",
      "metadata": {
        "id": "5SmVB91nW6Da"
      },
      "source": [
        ""
      ],
      "execution_count": null,
      "outputs": []
    }
  ]
}