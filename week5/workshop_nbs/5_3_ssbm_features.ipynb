{
 "cells": [
  {
   "cell_type": "markdown",
   "metadata": {
    "id": "9y8PhZiF-xwf"
   },
   "source": [
    "# Smash Bros\n",
    "\n",
    "Today's extra nerdy dataset is stats from a tournament of the game *Super Smash Bros. Melee* for the Nintendo GameCube.  The stats were recorded during the tournament [Smash Summit 2017](https://liquipedia.net/smash/Smash_Summit/Spring_2017), these stats were collected by an older version the [Slippi](https://slippi.gg/faq) project.  The data was collected with this [R script](https://github.com/AdamSpannbauer/twitch_chat/blob/master/r_scripts/slippi_win.R) in 2017 (no promises the script still works).\n",
    "\n",
    "The data contains a player id column, `gamerTag`, and a binary variable indicating if the player won the set: `won`.  The rest of the variables are different statistics counted up throughout the set. "
   ]
  },
  {
   "cell_type": "code",
   "execution_count": 1,
   "metadata": {
    "colab": {
     "base_uri": "https://localhost:8080/",
     "height": 512
    },
    "executionInfo": {
     "elapsed": 579,
     "status": "error",
     "timestamp": 1606921514099,
     "user": {
      "displayName": "Taylor Martin",
      "photoUrl": "https://lh3.googleusercontent.com/a-/AOh14GiCE8G90wcGj0LyMdPz1s1HHFQGXUh414iGSqhD6Q=s64",
      "userId": "07425549969609912014"
     },
     "user_tz": 360
    },
    "id": "5S_OHZbJ-xwf",
    "outputId": "bc6c5227-6238-40ef-c3a5-600a32c3d549"
   },
   "outputs": [
    {
     "data": {
      "application/javascript": [
       "\n",
       "            setTimeout(function() {\n",
       "                var nbb_cell_id = 1;\n",
       "                var nbb_unformatted_code = \"%reload_ext nb_black\";\n",
       "                var nbb_formatted_code = \"%reload_ext nb_black\";\n",
       "                var nbb_cells = Jupyter.notebook.get_cells();\n",
       "                for (var i = 0; i < nbb_cells.length; ++i) {\n",
       "                    if (nbb_cells[i].input_prompt_number == nbb_cell_id) {\n",
       "                        if (nbb_cells[i].get_text() == nbb_unformatted_code) {\n",
       "                             nbb_cells[i].set_text(nbb_formatted_code);\n",
       "                        }\n",
       "                        break;\n",
       "                    }\n",
       "                }\n",
       "            }, 500);\n",
       "            "
      ],
      "text/plain": [
       "<IPython.core.display.Javascript object>"
      ]
     },
     "metadata": {},
     "output_type": "display_data"
    }
   ],
   "source": [
    "%reload_ext nb_black"
   ]
  },
  {
   "cell_type": "code",
   "execution_count": 48,
   "metadata": {},
   "outputs": [
    {
     "data": {
      "text/plain": [
       "'0.23.1'"
      ]
     },
     "execution_count": 48,
     "metadata": {},
     "output_type": "execute_result"
    },
    {
     "data": {
      "application/javascript": [
       "\n",
       "            setTimeout(function() {\n",
       "                var nbb_cell_id = 48;\n",
       "                var nbb_unformatted_code = \"import sklearn\\n\\nsklearn.__version__\";\n",
       "                var nbb_formatted_code = \"import sklearn\\n\\nsklearn.__version__\";\n",
       "                var nbb_cells = Jupyter.notebook.get_cells();\n",
       "                for (var i = 0; i < nbb_cells.length; ++i) {\n",
       "                    if (nbb_cells[i].input_prompt_number == nbb_cell_id) {\n",
       "                        if (nbb_cells[i].get_text() == nbb_unformatted_code) {\n",
       "                             nbb_cells[i].set_text(nbb_formatted_code);\n",
       "                        }\n",
       "                        break;\n",
       "                    }\n",
       "                }\n",
       "            }, 500);\n",
       "            "
      ],
      "text/plain": [
       "<IPython.core.display.Javascript object>"
      ]
     },
     "metadata": {},
     "output_type": "display_data"
    }
   ],
   "source": [
    "import sklearn\n",
    "\n",
    "sklearn.__version__"
   ]
  },
  {
   "cell_type": "code",
   "execution_count": 46,
   "metadata": {
    "scrolled": true
   },
   "outputs": [
    {
     "name": "stdout",
     "output_type": "stream",
     "text": [
      "Name: sklearn\n",
      "Version: 0.0\n",
      "Summary: A set of python modules for machine learning and data mining\n",
      "Home-page: https://pypi.python.org/pypi/scikit-learn/\n",
      "Author: UNKNOWN\n",
      "Author-email: UNKNOWN\n",
      "License: None\n",
      "Location: c:\\users\\tayma\\appdata\\roaming\\python\\python38\\site-packages\n",
      "Requires: scikit-learn\n",
      "Required-by: \n"
     ]
    },
    {
     "data": {
      "application/javascript": [
       "\n",
       "            setTimeout(function() {\n",
       "                var nbb_cell_id = 46;\n",
       "                var nbb_unformatted_code = \"!pip show sklearn\";\n",
       "                var nbb_formatted_code = \"!pip show sklearn\";\n",
       "                var nbb_cells = Jupyter.notebook.get_cells();\n",
       "                for (var i = 0; i < nbb_cells.length; ++i) {\n",
       "                    if (nbb_cells[i].input_prompt_number == nbb_cell_id) {\n",
       "                        if (nbb_cells[i].get_text() == nbb_unformatted_code) {\n",
       "                             nbb_cells[i].set_text(nbb_formatted_code);\n",
       "                        }\n",
       "                        break;\n",
       "                    }\n",
       "                }\n",
       "            }, 500);\n",
       "            "
      ],
      "text/plain": [
       "<IPython.core.display.Javascript object>"
      ]
     },
     "metadata": {},
     "output_type": "display_data"
    }
   ],
   "source": [
    "!pip show sklearn"
   ]
  },
  {
   "cell_type": "code",
   "execution_count": 3,
   "metadata": {
    "executionInfo": {
     "elapsed": 2227,
     "status": "ok",
     "timestamp": 1606921515754,
     "user": {
      "displayName": "Taylor Martin",
      "photoUrl": "https://lh3.googleusercontent.com/a-/AOh14GiCE8G90wcGj0LyMdPz1s1HHFQGXUh414iGSqhD6Q=s64",
      "userId": "07425549969609912014"
     },
     "user_tz": 360
    },
    "id": "AqpvZJov-xwi"
   },
   "outputs": [
    {
     "data": {
      "application/javascript": [
       "\n",
       "            setTimeout(function() {\n",
       "                var nbb_cell_id = 3;\n",
       "                var nbb_unformatted_code = \"import pandas as pd\\nimport numpy as np\\n\\nfrom sklearn.preprocessing import StandardScaler\\nfrom sklearn.feature_selection import SelectKBest, f_classif\\nfrom sklearn.decomposition import PCA\\nfrom sklearn.linear_model import LogisticRegression\\n\\nfrom scipy import stats\\n\\nimport seaborn as sns\\nimport matplotlib.pyplot as plt\\n\\n%matplotlib inline\\n\\n\\ndata_url = \\\"https://raw.githubusercontent.com/AdamSpannbauer/twitch_chat/master/data/slippi_data/ssbm_win.csv\\\"\\nssbm = pd.read_csv(data_url)\";\n",
       "                var nbb_formatted_code = \"import pandas as pd\\nimport numpy as np\\n\\nfrom sklearn.preprocessing import StandardScaler\\nfrom sklearn.feature_selection import SelectKBest, f_classif\\nfrom sklearn.decomposition import PCA\\nfrom sklearn.linear_model import LogisticRegression\\n\\nfrom scipy import stats\\n\\nimport seaborn as sns\\nimport matplotlib.pyplot as plt\\n\\n%matplotlib inline\\n\\n\\ndata_url = \\\"https://raw.githubusercontent.com/AdamSpannbauer/twitch_chat/master/data/slippi_data/ssbm_win.csv\\\"\\nssbm = pd.read_csv(data_url)\";\n",
       "                var nbb_cells = Jupyter.notebook.get_cells();\n",
       "                for (var i = 0; i < nbb_cells.length; ++i) {\n",
       "                    if (nbb_cells[i].input_prompt_number == nbb_cell_id) {\n",
       "                        if (nbb_cells[i].get_text() == nbb_unformatted_code) {\n",
       "                             nbb_cells[i].set_text(nbb_formatted_code);\n",
       "                        }\n",
       "                        break;\n",
       "                    }\n",
       "                }\n",
       "            }, 500);\n",
       "            "
      ],
      "text/plain": [
       "<IPython.core.display.Javascript object>"
      ]
     },
     "metadata": {},
     "output_type": "display_data"
    }
   ],
   "source": [
    "import pandas as pd\n",
    "import numpy as np\n",
    "\n",
    "from sklearn.preprocessing import StandardScaler\n",
    "from sklearn.feature_selection import SelectKBest, f_classif\n",
    "from sklearn.decomposition import PCA\n",
    "from sklearn.linear_model import LogisticRegression\n",
    "\n",
    "from scipy import stats\n",
    "\n",
    "import seaborn as sns\n",
    "import matplotlib.pyplot as plt\n",
    "\n",
    "%matplotlib inline\n",
    "\n",
    "\n",
    "data_url = \"https://raw.githubusercontent.com/AdamSpannbauer/twitch_chat/master/data/slippi_data/ssbm_win.csv\"\n",
    "ssbm = pd.read_csv(data_url)"
   ]
  },
  {
   "cell_type": "markdown",
   "metadata": {
    "id": "sNk_iZv1_oxQ"
   },
   "source": [
    "What data type is the response/target? Categorical\n",
    "\n",
    "* **classification** is predicting a **categorical** target\n",
    "* **regression** is  predicting a **numerical** target"
   ]
  },
  {
   "cell_type": "code",
   "execution_count": 4,
   "metadata": {
    "colab": {
     "base_uri": "https://localhost:8080/"
    },
    "executionInfo": {
     "elapsed": 1116,
     "status": "ok",
     "timestamp": 1606921605081,
     "user": {
      "displayName": "Taylor Martin",
      "photoUrl": "https://lh3.googleusercontent.com/a-/AOh14GiCE8G90wcGj0LyMdPz1s1HHFQGXUh414iGSqhD6Q=s64",
      "userId": "07425549969609912014"
     },
     "user_tz": 360
    },
    "id": "2firITxi_F3g",
    "outputId": "1b86568a-b74e-4edc-a35c-b2ef816604f0"
   },
   "outputs": [
    {
     "data": {
      "text/plain": [
       "0.0    30\n",
       "1.0    26\n",
       "Name: won, dtype: int64"
      ]
     },
     "execution_count": 4,
     "metadata": {},
     "output_type": "execute_result"
    },
    {
     "data": {
      "application/javascript": [
       "\n",
       "            setTimeout(function() {\n",
       "                var nbb_cell_id = 4;\n",
       "                var nbb_unformatted_code = \"ssbm.won.value_counts()\";\n",
       "                var nbb_formatted_code = \"ssbm.won.value_counts()\";\n",
       "                var nbb_cells = Jupyter.notebook.get_cells();\n",
       "                for (var i = 0; i < nbb_cells.length; ++i) {\n",
       "                    if (nbb_cells[i].input_prompt_number == nbb_cell_id) {\n",
       "                        if (nbb_cells[i].get_text() == nbb_unformatted_code) {\n",
       "                             nbb_cells[i].set_text(nbb_formatted_code);\n",
       "                        }\n",
       "                        break;\n",
       "                    }\n",
       "                }\n",
       "            }, 500);\n",
       "            "
      ],
      "text/plain": [
       "<IPython.core.display.Javascript object>"
      ]
     },
     "metadata": {},
     "output_type": "display_data"
    }
   ],
   "source": [
    "ssbm.won.value_counts()"
   ]
  },
  {
   "cell_type": "markdown",
   "metadata": {
    "id": "uuolF9FI-xwi"
   },
   "source": [
    "Complete the below function to show the biggest offenders for NAs in a `pandas.DataFrame` (i.e. show the top n columns by number or percent of `np.nan` values in the column).\n",
    "\n",
    "* Give the `n` parameter a default value of `5`\n",
    "* Give the `rate` parameter a default boolean value\n",
    "* Fill in the blanks to match what the comments are saying"
   ]
  },
  {
   "cell_type": "code",
   "execution_count": 5,
   "metadata": {
    "executionInfo": {
     "elapsed": 364,
     "status": "ok",
     "timestamp": 1606922068789,
     "user": {
      "displayName": "Taylor Martin",
      "photoUrl": "https://lh3.googleusercontent.com/a-/AOh14GiCE8G90wcGj0LyMdPz1s1HHFQGXUh414iGSqhD6Q=s64",
      "userId": "07425549969609912014"
     },
     "user_tz": 360
    },
    "id": "wqa3AvHU-xwi"
   },
   "outputs": [
    {
     "data": {
      "application/javascript": [
       "\n",
       "            setTimeout(function() {\n",
       "                var nbb_cell_id = 5;\n",
       "                var nbb_unformatted_code = \"def show_top_missing(df, n=5, rate=False):\\n    \\\"\\\"\\\"Utility to print most 'sparse' columns by missing values\\\"\\\"\\\"\\n\\n    # Create a boolean df indicating which values are np.nan\\n    is_na_df = df.isna()\\n\\n    # Aggregate the df:\\n    # * if rate is true, then calculate what percent of values are nan\\n    # * if rate is false, then calculate the count of nans\\n    if rate:\\n        missing_stats = is_na_df.mean()\\n    else:\\n        missing_stats = is_na_df.sum()\\n\\n    top_missing = missing_stats.sort_values(ascending=False)\\n\\n    # We might consider to return or print here\\n    # If we wanted to work with the output values, we'd want\\n    # to use return.  I just wanted to see a display of the\\n    # output so I chose print instead.\\n    print(top_missing.head(n))\";\n",
       "                var nbb_formatted_code = \"def show_top_missing(df, n=5, rate=False):\\n    \\\"\\\"\\\"Utility to print most 'sparse' columns by missing values\\\"\\\"\\\"\\n\\n    # Create a boolean df indicating which values are np.nan\\n    is_na_df = df.isna()\\n\\n    # Aggregate the df:\\n    # * if rate is true, then calculate what percent of values are nan\\n    # * if rate is false, then calculate the count of nans\\n    if rate:\\n        missing_stats = is_na_df.mean()\\n    else:\\n        missing_stats = is_na_df.sum()\\n\\n    top_missing = missing_stats.sort_values(ascending=False)\\n\\n    # We might consider to return or print here\\n    # If we wanted to work with the output values, we'd want\\n    # to use return.  I just wanted to see a display of the\\n    # output so I chose print instead.\\n    print(top_missing.head(n))\";\n",
       "                var nbb_cells = Jupyter.notebook.get_cells();\n",
       "                for (var i = 0; i < nbb_cells.length; ++i) {\n",
       "                    if (nbb_cells[i].input_prompt_number == nbb_cell_id) {\n",
       "                        if (nbb_cells[i].get_text() == nbb_unformatted_code) {\n",
       "                             nbb_cells[i].set_text(nbb_formatted_code);\n",
       "                        }\n",
       "                        break;\n",
       "                    }\n",
       "                }\n",
       "            }, 500);\n",
       "            "
      ],
      "text/plain": [
       "<IPython.core.display.Javascript object>"
      ]
     },
     "metadata": {},
     "output_type": "display_data"
    }
   ],
   "source": [
    "def show_top_missing(df, n=5, rate=False):\n",
    "    \"\"\"Utility to print most 'sparse' columns by missing values\"\"\"\n",
    "\n",
    "    # Create a boolean df indicating which values are np.nan\n",
    "    is_na_df = df.isna()\n",
    "\n",
    "    # Aggregate the df:\n",
    "    # * if rate is true, then calculate what percent of values are nan\n",
    "    # * if rate is false, then calculate the count of nans\n",
    "    if rate:\n",
    "        missing_stats = is_na_df.mean()\n",
    "    else:\n",
    "        missing_stats = is_na_df.sum()\n",
    "\n",
    "    top_missing = missing_stats.sort_values(ascending=False)\n",
    "\n",
    "    # We might consider to return or print here\n",
    "    # If we wanted to work with the output values, we'd want\n",
    "    # to use return.  I just wanted to see a display of the\n",
    "    # output so I chose print instead.\n",
    "    print(top_missing.head(n))"
   ]
  },
  {
   "cell_type": "code",
   "execution_count": 6,
   "metadata": {
    "colab": {
     "base_uri": "https://localhost:8080/",
     "height": 355
    },
    "executionInfo": {
     "elapsed": 373,
     "status": "ok",
     "timestamp": 1606922089079,
     "user": {
      "displayName": "Taylor Martin",
      "photoUrl": "https://lh3.googleusercontent.com/a-/AOh14GiCE8G90wcGj0LyMdPz1s1HHFQGXUh414iGSqhD6Q=s64",
      "userId": "07425549969609912014"
     },
     "user_tz": 360
    },
    "id": "TsthV19_-xwj",
    "outputId": "e96e5652-e5a6-4297-e4cf-99dafa015496"
   },
   "outputs": [
    {
     "name": "stdout",
     "output_type": "stream",
     "text": [
      "won                   0.0\n",
      "openingsPerKill       0.0\n",
      "numCombosStarted      0.0\n",
      "totalComboDamage      0.0\n",
      "averageComboDamage    0.0\n",
      "dtype: float64\n"
     ]
    },
    {
     "data": {
      "text/html": [
       "<div>\n",
       "<style scoped>\n",
       "    .dataframe tbody tr th:only-of-type {\n",
       "        vertical-align: middle;\n",
       "    }\n",
       "\n",
       "    .dataframe tbody tr th {\n",
       "        vertical-align: top;\n",
       "    }\n",
       "\n",
       "    .dataframe thead th {\n",
       "        text-align: right;\n",
       "    }\n",
       "</style>\n",
       "<table border=\"1\" class=\"dataframe\">\n",
       "  <thead>\n",
       "    <tr style=\"text-align: right;\">\n",
       "      <th></th>\n",
       "      <th>gamerTag</th>\n",
       "      <th>numCombosStarted</th>\n",
       "      <th>totalComboDamage</th>\n",
       "      <th>averageComboDamage</th>\n",
       "      <th>maxComboDamage</th>\n",
       "      <th>percentTimeClosestCenter</th>\n",
       "      <th>percentTimeInShield</th>\n",
       "      <th>rollCount</th>\n",
       "      <th>numRecoveries</th>\n",
       "      <th>totalRecoveryDamage</th>\n",
       "      <th>...</th>\n",
       "      <th>numEdgeguards</th>\n",
       "      <th>numFailedEdgeguards</th>\n",
       "      <th>edgeguardSuccessPercent</th>\n",
       "      <th>numPunishesStarted</th>\n",
       "      <th>numKillingPunishes</th>\n",
       "      <th>totalPunishDamage</th>\n",
       "      <th>averagePunishDamage</th>\n",
       "      <th>neutralWinPercent</th>\n",
       "      <th>openingsPerKill</th>\n",
       "      <th>won</th>\n",
       "    </tr>\n",
       "  </thead>\n",
       "  <tbody>\n",
       "    <tr>\n",
       "      <th>0</th>\n",
       "      <td>S2J</td>\n",
       "      <td>79</td>\n",
       "      <td>1119.17</td>\n",
       "      <td>14.166709</td>\n",
       "      <td>37.92</td>\n",
       "      <td>53.205737</td>\n",
       "      <td>7.801918</td>\n",
       "      <td>43</td>\n",
       "      <td>23</td>\n",
       "      <td>375.85</td>\n",
       "      <td>...</td>\n",
       "      <td>24</td>\n",
       "      <td>23</td>\n",
       "      <td>4.166667</td>\n",
       "      <td>66</td>\n",
       "      <td>9</td>\n",
       "      <td>1124.17</td>\n",
       "      <td>17.032879</td>\n",
       "      <td>45.833333</td>\n",
       "      <td>7.333333</td>\n",
       "      <td>0.0</td>\n",
       "    </tr>\n",
       "    <tr>\n",
       "      <th>1</th>\n",
       "      <td>Hungrybox</td>\n",
       "      <td>101</td>\n",
       "      <td>1724.49</td>\n",
       "      <td>17.074158</td>\n",
       "      <td>89.08</td>\n",
       "      <td>46.794263</td>\n",
       "      <td>3.151007</td>\n",
       "      <td>7</td>\n",
       "      <td>24</td>\n",
       "      <td>94.10</td>\n",
       "      <td>...</td>\n",
       "      <td>23</td>\n",
       "      <td>11</td>\n",
       "      <td>52.173913</td>\n",
       "      <td>78</td>\n",
       "      <td>15</td>\n",
       "      <td>1724.49</td>\n",
       "      <td>22.108846</td>\n",
       "      <td>54.166667</td>\n",
       "      <td>5.200000</td>\n",
       "      <td>1.0</td>\n",
       "    </tr>\n",
       "    <tr>\n",
       "      <th>2</th>\n",
       "      <td>Leffen</td>\n",
       "      <td>74</td>\n",
       "      <td>1226.34</td>\n",
       "      <td>16.572162</td>\n",
       "      <td>66.09</td>\n",
       "      <td>53.446289</td>\n",
       "      <td>3.783666</td>\n",
       "      <td>13</td>\n",
       "      <td>20</td>\n",
       "      <td>269.00</td>\n",
       "      <td>...</td>\n",
       "      <td>22</td>\n",
       "      <td>13</td>\n",
       "      <td>40.909091</td>\n",
       "      <td>50</td>\n",
       "      <td>11</td>\n",
       "      <td>1229.34</td>\n",
       "      <td>24.586800</td>\n",
       "      <td>53.763441</td>\n",
       "      <td>4.545455</td>\n",
       "      <td>1.0</td>\n",
       "    </tr>\n",
       "    <tr>\n",
       "      <th>3</th>\n",
       "      <td>PewPewU</td>\n",
       "      <td>60</td>\n",
       "      <td>912.56</td>\n",
       "      <td>15.209333</td>\n",
       "      <td>66.24</td>\n",
       "      <td>46.553711</td>\n",
       "      <td>1.933133</td>\n",
       "      <td>4</td>\n",
       "      <td>22</td>\n",
       "      <td>240.41</td>\n",
       "      <td>...</td>\n",
       "      <td>20</td>\n",
       "      <td>15</td>\n",
       "      <td>25.000000</td>\n",
       "      <td>43</td>\n",
       "      <td>6</td>\n",
       "      <td>913.56</td>\n",
       "      <td>21.245581</td>\n",
       "      <td>46.236559</td>\n",
       "      <td>7.166667</td>\n",
       "      <td>0.0</td>\n",
       "    </tr>\n",
       "    <tr>\n",
       "      <th>4</th>\n",
       "      <td>Infinite Numbers</td>\n",
       "      <td>53</td>\n",
       "      <td>932.94</td>\n",
       "      <td>17.602642</td>\n",
       "      <td>140.80</td>\n",
       "      <td>51.024071</td>\n",
       "      <td>8.328259</td>\n",
       "      <td>9</td>\n",
       "      <td>26</td>\n",
       "      <td>499.92</td>\n",
       "      <td>...</td>\n",
       "      <td>14</td>\n",
       "      <td>13</td>\n",
       "      <td>7.142857</td>\n",
       "      <td>45</td>\n",
       "      <td>5</td>\n",
       "      <td>932.94</td>\n",
       "      <td>20.732000</td>\n",
       "      <td>39.473684</td>\n",
       "      <td>9.000000</td>\n",
       "      <td>0.0</td>\n",
       "    </tr>\n",
       "  </tbody>\n",
       "</table>\n",
       "<p>5 rows × 24 columns</p>\n",
       "</div>"
      ],
      "text/plain": [
       "           gamerTag  numCombosStarted  totalComboDamage  averageComboDamage  \\\n",
       "0               S2J                79           1119.17           14.166709   \n",
       "1         Hungrybox               101           1724.49           17.074158   \n",
       "2            Leffen                74           1226.34           16.572162   \n",
       "3           PewPewU                60            912.56           15.209333   \n",
       "4  Infinite Numbers                53            932.94           17.602642   \n",
       "\n",
       "   maxComboDamage  percentTimeClosestCenter  percentTimeInShield  rollCount  \\\n",
       "0           37.92                 53.205737             7.801918         43   \n",
       "1           89.08                 46.794263             3.151007          7   \n",
       "2           66.09                 53.446289             3.783666         13   \n",
       "3           66.24                 46.553711             1.933133          4   \n",
       "4          140.80                 51.024071             8.328259          9   \n",
       "\n",
       "   numRecoveries  totalRecoveryDamage  ...  numEdgeguards  \\\n",
       "0             23               375.85  ...             24   \n",
       "1             24                94.10  ...             23   \n",
       "2             20               269.00  ...             22   \n",
       "3             22               240.41  ...             20   \n",
       "4             26               499.92  ...             14   \n",
       "\n",
       "   numFailedEdgeguards  edgeguardSuccessPercent  numPunishesStarted  \\\n",
       "0                   23                 4.166667                  66   \n",
       "1                   11                52.173913                  78   \n",
       "2                   13                40.909091                  50   \n",
       "3                   15                25.000000                  43   \n",
       "4                   13                 7.142857                  45   \n",
       "\n",
       "   numKillingPunishes  totalPunishDamage  averagePunishDamage  \\\n",
       "0                   9            1124.17            17.032879   \n",
       "1                  15            1724.49            22.108846   \n",
       "2                  11            1229.34            24.586800   \n",
       "3                   6             913.56            21.245581   \n",
       "4                   5             932.94            20.732000   \n",
       "\n",
       "   neutralWinPercent  openingsPerKill  won  \n",
       "0          45.833333         7.333333  0.0  \n",
       "1          54.166667         5.200000  1.0  \n",
       "2          53.763441         4.545455  1.0  \n",
       "3          46.236559         7.166667  0.0  \n",
       "4          39.473684         9.000000  0.0  \n",
       "\n",
       "[5 rows x 24 columns]"
      ]
     },
     "execution_count": 6,
     "metadata": {},
     "output_type": "execute_result"
    },
    {
     "data": {
      "application/javascript": [
       "\n",
       "            setTimeout(function() {\n",
       "                var nbb_cell_id = 6;\n",
       "                var nbb_unformatted_code = \"# If you followed ALL the prompts for the function\\n# this code should run without error. If you get an\\n# error about \\\"missing required positional arguments\\\"\\n# then you need to check that you set default values\\n# for n and rate.\\n\\nshow_top_missing(ssbm, rate=True)\\nssbm.head()\";\n",
       "                var nbb_formatted_code = \"# If you followed ALL the prompts for the function\\n# this code should run without error. If you get an\\n# error about \\\"missing required positional arguments\\\"\\n# then you need to check that you set default values\\n# for n and rate.\\n\\nshow_top_missing(ssbm, rate=True)\\nssbm.head()\";\n",
       "                var nbb_cells = Jupyter.notebook.get_cells();\n",
       "                for (var i = 0; i < nbb_cells.length; ++i) {\n",
       "                    if (nbb_cells[i].input_prompt_number == nbb_cell_id) {\n",
       "                        if (nbb_cells[i].get_text() == nbb_unformatted_code) {\n",
       "                             nbb_cells[i].set_text(nbb_formatted_code);\n",
       "                        }\n",
       "                        break;\n",
       "                    }\n",
       "                }\n",
       "            }, 500);\n",
       "            "
      ],
      "text/plain": [
       "<IPython.core.display.Javascript object>"
      ]
     },
     "metadata": {},
     "output_type": "display_data"
    }
   ],
   "source": [
    "# If you followed ALL the prompts for the function\n",
    "# this code should run without error. If you get an\n",
    "# error about \"missing required positional arguments\"\n",
    "# then you need to check that you set default values\n",
    "# for n and rate.\n",
    "\n",
    "show_top_missing(ssbm, rate=True)\n",
    "ssbm.head()"
   ]
  },
  {
   "cell_type": "markdown",
   "metadata": {
    "id": "fpKd6oKd-xwj"
   },
   "source": [
    "Create some visualization(s) in light of the goal (predicting win).  Based on the visualization, what do you think will be a good predictor?"
   ]
  },
  {
   "cell_type": "code",
   "execution_count": 7,
   "metadata": {
    "colab": {
     "base_uri": "https://localhost:8080/",
     "height": 904
    },
    "executionInfo": {
     "elapsed": 14982,
     "status": "ok",
     "timestamp": 1606922400945,
     "user": {
      "displayName": "Taylor Martin",
      "photoUrl": "https://lh3.googleusercontent.com/a-/AOh14GiCE8G90wcGj0LyMdPz1s1HHFQGXUh414iGSqhD6Q=s64",
      "userId": "07425549969609912014"
     },
     "user_tz": 360
    },
    "id": "0wBP3TIQ-xwj",
    "outputId": "0f980982-73b9-4874-8fc6-2033ba34d9ab"
   },
   "outputs": [
    {
     "data": {
      "image/png": "[encoded data removed]",
      "text/plain": [
       "<Figure size 952x900 with 30 Axes>"
      ]
     },
     "metadata": {
      "needs_background": "light"
     },
     "output_type": "display_data"
    },
    {
     "data": {
      "application/javascript": [
       "\n",
       "            setTimeout(function() {\n",
       "                var nbb_cell_id = 7;\n",
       "                var nbb_unformatted_code = \"plot_cols = [\\n    \\\"averageComboDamage\\\",\\n    \\\"numKillingPunishes\\\",\\n    \\\"averagePunishDamage\\\",\\n    \\\"neutralWinPercent\\\",\\n    \\\"openingsPerKill\\\",\\n    \\\"won\\\",\\n]\\n\\nsns.pairplot(ssbm[plot_cols], hue=\\\"won\\\")\\nplt.show()\";\n",
       "                var nbb_formatted_code = \"plot_cols = [\\n    \\\"averageComboDamage\\\",\\n    \\\"numKillingPunishes\\\",\\n    \\\"averagePunishDamage\\\",\\n    \\\"neutralWinPercent\\\",\\n    \\\"openingsPerKill\\\",\\n    \\\"won\\\",\\n]\\n\\nsns.pairplot(ssbm[plot_cols], hue=\\\"won\\\")\\nplt.show()\";\n",
       "                var nbb_cells = Jupyter.notebook.get_cells();\n",
       "                for (var i = 0; i < nbb_cells.length; ++i) {\n",
       "                    if (nbb_cells[i].input_prompt_number == nbb_cell_id) {\n",
       "                        if (nbb_cells[i].get_text() == nbb_unformatted_code) {\n",
       "                             nbb_cells[i].set_text(nbb_formatted_code);\n",
       "                        }\n",
       "                        break;\n",
       "                    }\n",
       "                }\n",
       "            }, 500);\n",
       "            "
      ],
      "text/plain": [
       "<IPython.core.display.Javascript object>"
      ]
     },
     "metadata": {},
     "output_type": "display_data"
    }
   ],
   "source": [
    "plot_cols = [\n",
    "    \"averageComboDamage\",\n",
    "    \"numKillingPunishes\",\n",
    "    \"averagePunishDamage\",\n",
    "    \"neutralWinPercent\",\n",
    "    \"openingsPerKill\",\n",
    "    \"won\",\n",
    "]\n",
    "\n",
    "sns.pairplot(ssbm[plot_cols], hue=\"won\")\n",
    "plt.show()"
   ]
  },
  {
   "cell_type": "code",
   "execution_count": 8,
   "metadata": {
    "colab": {
     "base_uri": "https://localhost:8080/",
     "height": 279
    },
    "executionInfo": {
     "elapsed": 548,
     "status": "ok",
     "timestamp": 1606922788154,
     "user": {
      "displayName": "Taylor Martin",
      "photoUrl": "https://lh3.googleusercontent.com/a-/AOh14GiCE8G90wcGj0LyMdPz1s1HHFQGXUh414iGSqhD6Q=s64",
      "userId": "07425549969609912014"
     },
     "user_tz": 360
    },
    "id": "sLx5wrLDDdTW",
    "outputId": "2f0f47d0-8831-4930-da51-577774ea0450"
   },
   "outputs": [
    {
     "data": {
      "image/png": "[encoded data removed]",
      "text/plain": [
       "<Figure size 432x288 with 1 Axes>"
      ]
     },
     "metadata": {
      "needs_background": "light"
     },
     "output_type": "display_data"
    },
    {
     "data": {
      "application/javascript": [
       "\n",
       "            setTimeout(function() {\n",
       "                var nbb_cell_id = 8;\n",
       "                var nbb_unformatted_code = \"# categorical vs. numeric\\nsns.swarmplot(x=\\\"won\\\", y=\\\"openingsPerKill\\\", data=ssbm)\\nplt.show()\";\n",
       "                var nbb_formatted_code = \"# categorical vs. numeric\\nsns.swarmplot(x=\\\"won\\\", y=\\\"openingsPerKill\\\", data=ssbm)\\nplt.show()\";\n",
       "                var nbb_cells = Jupyter.notebook.get_cells();\n",
       "                for (var i = 0; i < nbb_cells.length; ++i) {\n",
       "                    if (nbb_cells[i].input_prompt_number == nbb_cell_id) {\n",
       "                        if (nbb_cells[i].get_text() == nbb_unformatted_code) {\n",
       "                             nbb_cells[i].set_text(nbb_formatted_code);\n",
       "                        }\n",
       "                        break;\n",
       "                    }\n",
       "                }\n",
       "            }, 500);\n",
       "            "
      ],
      "text/plain": [
       "<IPython.core.display.Javascript object>"
      ]
     },
     "metadata": {},
     "output_type": "display_data"
    }
   ],
   "source": [
    "# categorical vs. numeric\n",
    "sns.swarmplot(x=\"won\", y=\"openingsPerKill\", data=ssbm)\n",
    "plt.show()"
   ]
  },
  {
   "cell_type": "markdown",
   "metadata": {
    "id": "UP4eX_LE-xwj"
   },
   "source": [
    "In most machine learning contexts, we will isolate our input features from our target variable.  Player ID won't be much use since we want our model to predict wins for every player, not just the 16 players in our data set.\n",
    "\n",
    "* So we'll drop `gamerTag` & `won` and assign it to `X`\n",
    "    * This `X` is a conventional way to specify that this variable is our input features\n",
    "* It's also conventional to put your target into a variable named `y`"
   ]
  },
  {
   "cell_type": "code",
   "execution_count": 9,
   "metadata": {
    "executionInfo": {
     "elapsed": 707,
     "status": "ok",
     "timestamp": 1606922890729,
     "user": {
      "displayName": "Taylor Martin",
      "photoUrl": "https://lh3.googleusercontent.com/a-/AOh14GiCE8G90wcGj0LyMdPz1s1HHFQGXUh414iGSqhD6Q=s64",
      "userId": "07425549969609912014"
     },
     "user_tz": 360
    },
    "id": "voiEb01B-xwj"
   },
   "outputs": [
    {
     "data": {
      "application/javascript": [
       "\n",
       "            setTimeout(function() {\n",
       "                var nbb_cell_id = 9;\n",
       "                var nbb_unformatted_code = \"# Store every column but 'gamerTag' and 'won' in X\\nX = ssbm.drop(columns=[\\\"gamerTag\\\", \\\"won\\\"])\\n\\n# Store what you want to predict ('won') in y\\ny = ssbm[\\\"won\\\"]\";\n",
       "                var nbb_formatted_code = \"# Store every column but 'gamerTag' and 'won' in X\\nX = ssbm.drop(columns=[\\\"gamerTag\\\", \\\"won\\\"])\\n\\n# Store what you want to predict ('won') in y\\ny = ssbm[\\\"won\\\"]\";\n",
       "                var nbb_cells = Jupyter.notebook.get_cells();\n",
       "                for (var i = 0; i < nbb_cells.length; ++i) {\n",
       "                    if (nbb_cells[i].input_prompt_number == nbb_cell_id) {\n",
       "                        if (nbb_cells[i].get_text() == nbb_unformatted_code) {\n",
       "                             nbb_cells[i].set_text(nbb_formatted_code);\n",
       "                        }\n",
       "                        break;\n",
       "                    }\n",
       "                }\n",
       "            }, 500);\n",
       "            "
      ],
      "text/plain": [
       "<IPython.core.display.Javascript object>"
      ]
     },
     "metadata": {},
     "output_type": "display_data"
    }
   ],
   "source": [
    "# Store every column but 'gamerTag' and 'won' in X\n",
    "X = ssbm.drop(columns=[\"gamerTag\", \"won\"])\n",
    "\n",
    "# Store what you want to predict ('won') in y\n",
    "y = ssbm[\"won\"]"
   ]
  },
  {
   "cell_type": "markdown",
   "metadata": {
    "id": "-0IBgTJu-xwk"
   },
   "source": [
    "Let's go ahead and try to build our first model to predict this win.  Since the topic at hand is feature selection, we won't really discuss the model being used (yet); we'll just use it as a way to grade our features.  Note, this model building is also not following the best practice of doing a train/test split to evaluate accuracy."
   ]
  },
  {
   "cell_type": "code",
   "execution_count": 10,
   "metadata": {
    "colab": {
     "base_uri": "https://localhost:8080/"
    },
    "executionInfo": {
     "elapsed": 487,
     "status": "ok",
     "timestamp": 1606922970270,
     "user": {
      "displayName": "Taylor Martin",
      "photoUrl": "https://lh3.googleusercontent.com/a-/AOh14GiCE8G90wcGj0LyMdPz1s1HHFQGXUh414iGSqhD6Q=s64",
      "userId": "07425549969609912014"
     },
     "user_tz": 360
    },
    "id": "09bey_wD-xwk",
    "outputId": "6c902db2-adae-4536-bec2-54d11e877243"
   },
   "outputs": [
    {
     "name": "stderr",
     "output_type": "stream",
     "text": [
      "C:\\Users\\tayma\\anaconda3\\lib\\site-packages\\sklearn\\linear_model\\_logistic.py:762: ConvergenceWarning: lbfgs failed to converge (status=1):\n",
      "STOP: TOTAL NO. of ITERATIONS REACHED LIMIT.\n",
      "\n",
      "Increase the number of iterations (max_iter) or scale the data as shown in:\n",
      "    https://scikit-learn.org/stable/modules/preprocessing.html\n",
      "Please also refer to the documentation for alternative solver options:\n",
      "    https://scikit-learn.org/stable/modules/linear_model.html#logistic-regression\n",
      "  n_iter_i = _check_optimize_result(\n"
     ]
    },
    {
     "data": {
      "text/plain": [
       "0.9464285714285714"
      ]
     },
     "execution_count": 10,
     "metadata": {},
     "output_type": "execute_result"
    },
    {
     "data": {
      "application/javascript": [
       "\n",
       "            setTimeout(function() {\n",
       "                var nbb_cell_id = 10;\n",
       "                var nbb_unformatted_code = \"model = LogisticRegression()\\nmodel.fit(X, y)\\n# In practice score on a test set\\nmodel.score(X, y)\";\n",
       "                var nbb_formatted_code = \"model = LogisticRegression()\\nmodel.fit(X, y)\\n# In practice score on a test set\\nmodel.score(X, y)\";\n",
       "                var nbb_cells = Jupyter.notebook.get_cells();\n",
       "                for (var i = 0; i < nbb_cells.length; ++i) {\n",
       "                    if (nbb_cells[i].input_prompt_number == nbb_cell_id) {\n",
       "                        if (nbb_cells[i].get_text() == nbb_unformatted_code) {\n",
       "                             nbb_cells[i].set_text(nbb_formatted_code);\n",
       "                        }\n",
       "                        break;\n",
       "                    }\n",
       "                }\n",
       "            }, 500);\n",
       "            "
      ],
      "text/plain": [
       "<IPython.core.display.Javascript object>"
      ]
     },
     "metadata": {},
     "output_type": "display_data"
    }
   ],
   "source": [
    "model = LogisticRegression()\n",
    "model.fit(X, y)\n",
    "# In practice score on a test set\n",
    "model.score(X, y)"
   ]
  },
  {
   "cell_type": "markdown",
   "metadata": {},
   "source": [
    "We see we ran into a `ConvergenceWarning`(note that it tells us some possible solutions to this issue).  Despite this issue we ended up predicting with ~95% accuracy.\n",
    "\n",
    "*Note, again, this is a **bad way to evaluate a model**, we should be testing our model on data the model has never seen before.*"
   ]
  },
  {
   "cell_type": "markdown",
   "metadata": {
    "id": "9u04a9Cj-xwk"
   },
   "source": [
    "## Feature Selection\n",
    "\n",
    "We might be able to avoid this warning by narrowing down our features.  Narrowing down features has a lot of benefits, including:\n",
    "* Aiding in computation issues (RE:above warning)\n",
    "* Aiding in accuracy\n",
    "    * Can be a direct result from helping first point\n",
    "* Aiding in interpretability\n",
    "    * A lot of times you're not only interested in predicting something accurately, but also explaining why you're good at making these predictions.  For example, in a business context you might want to accurately predict customer churn, but you're management would also really like to know what is indicating that a customer is going to churn.  With an easily interpretable model you can show the impact each input feature has on a customer's likelihood to churn.  With a lot of predictors this gets harder to parse out.\n",
    "    * There's also an issue known as [multicollinearity](https://en.wikipedia.org/wiki/Multicollinearity).  This intuitively means that some of your input features are encoding the same information (like having a feature for `temperature_celsius` & one for `temperature_farenheit`).  When your model has multiple variables representing the same thing it can confuse the model, the model might still be accurate, but it will have more trouble explaining to you why it's accurate.\n",
    "    \n",
    "In this case, a way we can smartly select a subset of predictors is with `SelectKBest` with the `f_classif` method.  If you remember, ANOVA outputs a value called $F$, this is what the `f` in `f_classif` represents.  All we're doing here is running an ANOVA for each of our variables and target.\n",
    "\n",
    "Our target variable is a category and all our predictors are numeric, so for each numeric feature we run an ANOVA using the target as the groups.  Below is an example using the feature `numKillingPunishes`.  To start we might visualize the differences between the 2 groups.  We see some difference, but we can quantify this difference using the `stats.f_oneway` function we've used before to perform an ANOVA.  We end up with an $F$ value of about `23.8`.\n",
    "\n",
    "Note, we didn't really check for normality here.  ANOVA is fairly robust against violations of the normality assumption. Also, in the case variable selection, we aren't trying to declare any significant difference, we're just looking for potentially useful differences."
   ]
  },
  {
   "cell_type": "markdown",
   "metadata": {
    "id": "5lWPr-x0-xwl"
   },
   "source": [
    "Perform an ANOVA for the `numKillingPunishes` feature grouped by `won`."
   ]
  },
  {
   "cell_type": "code",
   "execution_count": 11,
   "metadata": {
    "id": "OkqIkmpu-xwl"
   },
   "outputs": [
    {
     "data": {
      "image/png": "[encoded data removed]",
      "text/plain": [
       "<Figure size 432x288 with 1 Axes>"
      ]
     },
     "metadata": {
      "needs_background": "light"
     },
     "output_type": "display_data"
    },
    {
     "data": {
      "application/javascript": [
       "\n",
       "            setTimeout(function() {\n",
       "                var nbb_cell_id = 11;\n",
       "                var nbb_unformatted_code = \"sns.violinplot(\\\"won\\\", \\\"numKillingPunishes\\\", data=ssbm)\\nplt.show()\";\n",
       "                var nbb_formatted_code = \"sns.violinplot(\\\"won\\\", \\\"numKillingPunishes\\\", data=ssbm)\\nplt.show()\";\n",
       "                var nbb_cells = Jupyter.notebook.get_cells();\n",
       "                for (var i = 0; i < nbb_cells.length; ++i) {\n",
       "                    if (nbb_cells[i].input_prompt_number == nbb_cell_id) {\n",
       "                        if (nbb_cells[i].get_text() == nbb_unformatted_code) {\n",
       "                             nbb_cells[i].set_text(nbb_formatted_code);\n",
       "                        }\n",
       "                        break;\n",
       "                    }\n",
       "                }\n",
       "            }, 500);\n",
       "            "
      ],
      "text/plain": [
       "<IPython.core.display.Javascript object>"
      ]
     },
     "metadata": {},
     "output_type": "display_data"
    }
   ],
   "source": [
    "sns.violinplot(\"won\", \"numKillingPunishes\", data=ssbm)\n",
    "plt.show()"
   ]
  },
  {
   "cell_type": "code",
   "execution_count": 12,
   "metadata": {
    "id": "h3VSKOiX-xwl"
   },
   "outputs": [
    {
     "data": {
      "text/plain": [
       "F_onewayResult(statistic=23.801775848225727, pvalue=9.83326076430818e-06)"
      ]
     },
     "execution_count": 12,
     "metadata": {},
     "output_type": "execute_result"
    },
    {
     "data": {
      "application/javascript": [
       "\n",
       "            setTimeout(function() {\n",
       "                var nbb_cell_id = 12;\n",
       "                var nbb_unformatted_code = \"won = ssbm[ssbm[\\\"won\\\"] == 1]\\nlost = ssbm[ssbm[\\\"won\\\"] == 0]\\n\\nstats.f_oneway(won[\\\"numKillingPunishes\\\"], lost[\\\"numKillingPunishes\\\"])\";\n",
       "                var nbb_formatted_code = \"won = ssbm[ssbm[\\\"won\\\"] == 1]\\nlost = ssbm[ssbm[\\\"won\\\"] == 0]\\n\\nstats.f_oneway(won[\\\"numKillingPunishes\\\"], lost[\\\"numKillingPunishes\\\"])\";\n",
       "                var nbb_cells = Jupyter.notebook.get_cells();\n",
       "                for (var i = 0; i < nbb_cells.length; ++i) {\n",
       "                    if (nbb_cells[i].input_prompt_number == nbb_cell_id) {\n",
       "                        if (nbb_cells[i].get_text() == nbb_unformatted_code) {\n",
       "                             nbb_cells[i].set_text(nbb_formatted_code);\n",
       "                        }\n",
       "                        break;\n",
       "                    }\n",
       "                }\n",
       "            }, 500);\n",
       "            "
      ],
      "text/plain": [
       "<IPython.core.display.Javascript object>"
      ]
     },
     "metadata": {},
     "output_type": "display_data"
    }
   ],
   "source": [
    "won = ssbm[ssbm[\"won\"] == 1]\n",
    "lost = ssbm[ssbm[\"won\"] == 0]\n",
    "\n",
    "stats.f_oneway(won[\"numKillingPunishes\"], lost[\"numKillingPunishes\"])"
   ]
  },
  {
   "cell_type": "code",
   "execution_count": 13,
   "metadata": {},
   "outputs": [
    {
     "data": {
      "text/plain": [
       "F_onewayResult(statistic=21.768686372429364, pvalue=2.067512683853421e-05)"
      ]
     },
     "execution_count": 13,
     "metadata": {},
     "output_type": "execute_result"
    },
    {
     "data": {
      "application/javascript": [
       "\n",
       "            setTimeout(function() {\n",
       "                var nbb_cell_id = 13;\n",
       "                var nbb_unformatted_code = \"stats.f_oneway(won[\\\"openingsPerKill\\\"], lost[\\\"openingsPerKill\\\"])\";\n",
       "                var nbb_formatted_code = \"stats.f_oneway(won[\\\"openingsPerKill\\\"], lost[\\\"openingsPerKill\\\"])\";\n",
       "                var nbb_cells = Jupyter.notebook.get_cells();\n",
       "                for (var i = 0; i < nbb_cells.length; ++i) {\n",
       "                    if (nbb_cells[i].input_prompt_number == nbb_cell_id) {\n",
       "                        if (nbb_cells[i].get_text() == nbb_unformatted_code) {\n",
       "                             nbb_cells[i].set_text(nbb_formatted_code);\n",
       "                        }\n",
       "                        break;\n",
       "                    }\n",
       "                }\n",
       "            }, 500);\n",
       "            "
      ],
      "text/plain": [
       "<IPython.core.display.Javascript object>"
      ]
     },
     "metadata": {},
     "output_type": "display_data"
    }
   ],
   "source": [
    "stats.f_oneway(won[\"openingsPerKill\"], lost[\"openingsPerKill\"])"
   ]
  },
  {
   "cell_type": "markdown",
   "metadata": {
    "id": "JBRvFk1e-xwl"
   },
   "source": [
    "So we've done an ANOVA for one of our variables, we can use `SelectKBest` from `sklearn` to do the rest.  It will:\n",
    "\n",
    "* run the same ANOVA\n",
    "* store all the values of $F$\n",
    "* keep only the features with the top $k$ values of $F$\n",
    "\n",
    "We have to select the value of $k$, and there's not a general rule of thumb on what it should be. Below, I chose 5 cause I wanted to it to choose the 5 best because ¯\\\\_(ツ)_/¯.\n",
    "\n",
    "From the output, we can see the scores for each ANOVA that was run with `f_classif`, and we can confirm that we see the same value for `numKillingPunishes` as we did in our one variable example."
   ]
  },
  {
   "cell_type": "markdown",
   "metadata": {
    "id": "BmH5NkNT-xwl"
   },
   "source": [
    "* Use `SelectKBest` and `f_classif` to choose the best 5 predictors of `won`\n",
    "* Put these best predictors back into a dataframe with the original names"
   ]
  },
  {
   "cell_type": "code",
   "execution_count": 14,
   "metadata": {
    "id": "wXfUUK5H-xwl",
    "scrolled": true
   },
   "outputs": [
    {
     "data": {
      "text/plain": [
       "(56, 5)"
      ]
     },
     "execution_count": 14,
     "metadata": {},
     "output_type": "execute_result"
    },
    {
     "data": {
      "application/javascript": [
       "\n",
       "            setTimeout(function() {\n",
       "                var nbb_cell_id = 14;\n",
       "                var nbb_unformatted_code = \"selector = SelectKBest(f_classif, k=5)\\n\\n# Use `.fit()` method so the selector can 'learn' from our data\\nselector.fit(X, y)\\n\\n# Use `.transform()` method so the selector can apply\\n# what it learned in `.fit()`\\nk_best = selector.transform(X)\\n\\nk_best.shape\";\n",
       "                var nbb_formatted_code = \"selector = SelectKBest(f_classif, k=5)\\n\\n# Use `.fit()` method so the selector can 'learn' from our data\\nselector.fit(X, y)\\n\\n# Use `.transform()` method so the selector can apply\\n# what it learned in `.fit()`\\nk_best = selector.transform(X)\\n\\nk_best.shape\";\n",
       "                var nbb_cells = Jupyter.notebook.get_cells();\n",
       "                for (var i = 0; i < nbb_cells.length; ++i) {\n",
       "                    if (nbb_cells[i].input_prompt_number == nbb_cell_id) {\n",
       "                        if (nbb_cells[i].get_text() == nbb_unformatted_code) {\n",
       "                             nbb_cells[i].set_text(nbb_formatted_code);\n",
       "                        }\n",
       "                        break;\n",
       "                    }\n",
       "                }\n",
       "            }, 500);\n",
       "            "
      ],
      "text/plain": [
       "<IPython.core.display.Javascript object>"
      ]
     },
     "metadata": {},
     "output_type": "display_data"
    }
   ],
   "source": [
    "selector = SelectKBest(f_classif, k=5)\n",
    "\n",
    "# Use `.fit()` method so the selector can 'learn' from our data\n",
    "selector.fit(X, y)\n",
    "\n",
    "# Use `.transform()` method so the selector can apply\n",
    "# what it learned in `.fit()`\n",
    "k_best = selector.transform(X)\n",
    "\n",
    "k_best.shape"
   ]
  },
  {
   "cell_type": "code",
   "execution_count": 15,
   "metadata": {
    "scrolled": true
   },
   "outputs": [
    {
     "name": "stdout",
     "output_type": "stream",
     "text": [
      "                    feature    f_score\n",
      "17       numKillingPunishes  23.801776\n",
      "21          openingsPerKill  21.768686\n",
      "12   recoverySuccessPercent  18.121388\n",
      "15  edgeguardSuccessPercent  17.857051\n",
      "20        neutralWinPercent  17.063896\n"
     ]
    },
    {
     "data": {
      "application/javascript": [
       "\n",
       "            setTimeout(function() {\n",
       "                var nbb_cell_id = 15;\n",
       "                var nbb_unformatted_code = \"# We can see/rank which features were the best\\nscore_df = pd.DataFrame({\\\"feature\\\": X.columns, \\\"f_score\\\": selector.scores_})\\nscore_df = score_df.sort_values(\\\"f_score\\\", ascending=False)\\nprint(score_df.head())\";\n",
       "                var nbb_formatted_code = \"# We can see/rank which features were the best\\nscore_df = pd.DataFrame({\\\"feature\\\": X.columns, \\\"f_score\\\": selector.scores_})\\nscore_df = score_df.sort_values(\\\"f_score\\\", ascending=False)\\nprint(score_df.head())\";\n",
       "                var nbb_cells = Jupyter.notebook.get_cells();\n",
       "                for (var i = 0; i < nbb_cells.length; ++i) {\n",
       "                    if (nbb_cells[i].input_prompt_number == nbb_cell_id) {\n",
       "                        if (nbb_cells[i].get_text() == nbb_unformatted_code) {\n",
       "                             nbb_cells[i].set_text(nbb_formatted_code);\n",
       "                        }\n",
       "                        break;\n",
       "                    }\n",
       "                }\n",
       "            }, 500);\n",
       "            "
      ],
      "text/plain": [
       "<IPython.core.display.Javascript object>"
      ]
     },
     "metadata": {},
     "output_type": "display_data"
    }
   ],
   "source": [
    "# We can see/rank which features were the best\n",
    "score_df = pd.DataFrame({\"feature\": X.columns, \"f_score\": selector.scores_})\n",
    "score_df = score_df.sort_values(\"f_score\", ascending=False)\n",
    "print(score_df.head())\n"
   ]
  },
  {
   "cell_type": "code",
   "execution_count": 16,
   "metadata": {},
   "outputs": [
    {
     "data": {
      "text/html": [
       "<div>\n",
       "<style scoped>\n",
       "    .dataframe tbody tr th:only-of-type {\n",
       "        vertical-align: middle;\n",
       "    }\n",
       "\n",
       "    .dataframe tbody tr th {\n",
       "        vertical-align: top;\n",
       "    }\n",
       "\n",
       "    .dataframe thead th {\n",
       "        text-align: right;\n",
       "    }\n",
       "</style>\n",
       "<table border=\"1\" class=\"dataframe\">\n",
       "  <thead>\n",
       "    <tr style=\"text-align: right;\">\n",
       "      <th></th>\n",
       "      <th>recoverySuccessPercent</th>\n",
       "      <th>edgeguardSuccessPercent</th>\n",
       "      <th>numKillingPunishes</th>\n",
       "      <th>neutralWinPercent</th>\n",
       "      <th>openingsPerKill</th>\n",
       "    </tr>\n",
       "  </thead>\n",
       "  <tbody>\n",
       "    <tr>\n",
       "      <th>0</th>\n",
       "      <td>47.826087</td>\n",
       "      <td>4.166667</td>\n",
       "      <td>9.0</td>\n",
       "      <td>45.833333</td>\n",
       "      <td>7.333333</td>\n",
       "    </tr>\n",
       "    <tr>\n",
       "      <th>1</th>\n",
       "      <td>95.833333</td>\n",
       "      <td>52.173913</td>\n",
       "      <td>15.0</td>\n",
       "      <td>54.166667</td>\n",
       "      <td>5.200000</td>\n",
       "    </tr>\n",
       "    <tr>\n",
       "      <th>2</th>\n",
       "      <td>75.000000</td>\n",
       "      <td>40.909091</td>\n",
       "      <td>11.0</td>\n",
       "      <td>53.763441</td>\n",
       "      <td>4.545455</td>\n",
       "    </tr>\n",
       "    <tr>\n",
       "      <th>3</th>\n",
       "      <td>59.090909</td>\n",
       "      <td>25.000000</td>\n",
       "      <td>6.0</td>\n",
       "      <td>46.236559</td>\n",
       "      <td>7.166667</td>\n",
       "    </tr>\n",
       "    <tr>\n",
       "      <th>4</th>\n",
       "      <td>53.846154</td>\n",
       "      <td>7.142857</td>\n",
       "      <td>5.0</td>\n",
       "      <td>39.473684</td>\n",
       "      <td>9.000000</td>\n",
       "    </tr>\n",
       "  </tbody>\n",
       "</table>\n",
       "</div>"
      ],
      "text/plain": [
       "   recoverySuccessPercent  edgeguardSuccessPercent  numKillingPunishes  \\\n",
       "0               47.826087                 4.166667                 9.0   \n",
       "1               95.833333                52.173913                15.0   \n",
       "2               75.000000                40.909091                11.0   \n",
       "3               59.090909                25.000000                 6.0   \n",
       "4               53.846154                 7.142857                 5.0   \n",
       "\n",
       "   neutralWinPercent  openingsPerKill  \n",
       "0          45.833333         7.333333  \n",
       "1          54.166667         5.200000  \n",
       "2          53.763441         4.545455  \n",
       "3          46.236559         7.166667  \n",
       "4          39.473684         9.000000  "
      ]
     },
     "execution_count": 16,
     "metadata": {},
     "output_type": "execute_result"
    },
    {
     "data": {
      "application/javascript": [
       "\n",
       "            setTimeout(function() {\n",
       "                var nbb_cell_id = 16;\n",
       "                var nbb_unformatted_code = \"# We can put back into a dataframe to see column names\\nbest_df = pd.DataFrame(k_best, columns=X.columns[selector.get_support()])\\nbest_df.head()\";\n",
       "                var nbb_formatted_code = \"# We can put back into a dataframe to see column names\\nbest_df = pd.DataFrame(k_best, columns=X.columns[selector.get_support()])\\nbest_df.head()\";\n",
       "                var nbb_cells = Jupyter.notebook.get_cells();\n",
       "                for (var i = 0; i < nbb_cells.length; ++i) {\n",
       "                    if (nbb_cells[i].input_prompt_number == nbb_cell_id) {\n",
       "                        if (nbb_cells[i].get_text() == nbb_unformatted_code) {\n",
       "                             nbb_cells[i].set_text(nbb_formatted_code);\n",
       "                        }\n",
       "                        break;\n",
       "                    }\n",
       "                }\n",
       "            }, 500);\n",
       "            "
      ],
      "text/plain": [
       "<IPython.core.display.Javascript object>"
      ]
     },
     "metadata": {},
     "output_type": "display_data"
    }
   ],
   "source": [
    "# We can put back into a dataframe to see column names\n",
    "best_df = pd.DataFrame(k_best, columns=X.columns[selector.get_support()])\n",
    "best_df.head()"
   ]
  },
  {
   "cell_type": "code",
   "execution_count": 17,
   "metadata": {},
   "outputs": [
    {
     "data": {
      "text/plain": [
       "Index(['recoverySuccessPercent', 'edgeguardSuccessPercent',\n",
       "       'numKillingPunishes', 'neutralWinPercent', 'openingsPerKill'],\n",
       "      dtype='object')"
      ]
     },
     "execution_count": 17,
     "metadata": {},
     "output_type": "execute_result"
    },
    {
     "data": {
      "application/javascript": [
       "\n",
       "            setTimeout(function() {\n",
       "                var nbb_cell_id = 17;\n",
       "                var nbb_unformatted_code = \"X.columns[selector.get_support()]\";\n",
       "                var nbb_formatted_code = \"X.columns[selector.get_support()]\";\n",
       "                var nbb_cells = Jupyter.notebook.get_cells();\n",
       "                for (var i = 0; i < nbb_cells.length; ++i) {\n",
       "                    if (nbb_cells[i].input_prompt_number == nbb_cell_id) {\n",
       "                        if (nbb_cells[i].get_text() == nbb_unformatted_code) {\n",
       "                             nbb_cells[i].set_text(nbb_formatted_code);\n",
       "                        }\n",
       "                        break;\n",
       "                    }\n",
       "                }\n",
       "            }, 500);\n",
       "            "
      ],
      "text/plain": [
       "<IPython.core.display.Javascript object>"
      ]
     },
     "metadata": {},
     "output_type": "display_data"
    }
   ],
   "source": [
    "X.columns[selector.get_support()]"
   ]
  },
  {
   "cell_type": "markdown",
   "metadata": {
    "id": "lfML2jVx-xwl"
   },
   "source": [
    "We could now move back to modeling this data using the same code as before, but now providing only the 5 'best' features."
   ]
  },
  {
   "cell_type": "code",
   "execution_count": 18,
   "metadata": {
    "id": "Us0bVzTl-xwl"
   },
   "outputs": [
    {
     "data": {
      "text/plain": [
       "0.8928571428571429"
      ]
     },
     "execution_count": 18,
     "metadata": {},
     "output_type": "execute_result"
    },
    {
     "data": {
      "application/javascript": [
       "\n",
       "            setTimeout(function() {\n",
       "                var nbb_cell_id = 18;\n",
       "                var nbb_unformatted_code = \"model = LogisticRegression()\\nmodel.fit(k_best, y)\\n# In practice score on a test set\\nmodel.score(k_best, y)\";\n",
       "                var nbb_formatted_code = \"model = LogisticRegression()\\nmodel.fit(k_best, y)\\n# In practice score on a test set\\nmodel.score(k_best, y)\";\n",
       "                var nbb_cells = Jupyter.notebook.get_cells();\n",
       "                for (var i = 0; i < nbb_cells.length; ++i) {\n",
       "                    if (nbb_cells[i].input_prompt_number == nbb_cell_id) {\n",
       "                        if (nbb_cells[i].get_text() == nbb_unformatted_code) {\n",
       "                             nbb_cells[i].set_text(nbb_formatted_code);\n",
       "                        }\n",
       "                        break;\n",
       "                    }\n",
       "                }\n",
       "            }, 500);\n",
       "            "
      ],
      "text/plain": [
       "<IPython.core.display.Javascript object>"
      ]
     },
     "metadata": {},
     "output_type": "display_data"
    }
   ],
   "source": [
    "model = LogisticRegression()\n",
    "model.fit(k_best, y)\n",
    "# In practice score on a test set\n",
    "model.score(k_best, y)"
   ]
  },
  {
   "cell_type": "markdown",
   "metadata": {
    "id": "8q3YbFtU-xwl"
   },
   "source": [
    "With this restricted set, we didn't get a `ConvergenceWarning`. We do see a drop in accuracy, but this might actually be a sign that our first model was [*overfitting*](https://en.wikipedia.org/wiki/Overfitting).  Again, we can't take much from the score on our training data (see note below, and above, and everywhere).\n",
    "\n",
    "However, we didn't lose too much accuracy despite deleting 19 of our input columns.  This shows that we likely have a lot of 'dead weight' in our features, and we can likely predict the outcome without having all 24 features to wade through (which can be a burden for both our model and us during interpretation).\n",
    "\n",
    "*Note, again, this is a **bad way to evaluate a model**, we should be testing our model on data the model has never seen before.*"
   ]
  },
  {
   "cell_type": "markdown",
   "metadata": {
    "id": "rZ2xKhKF-xwl"
   },
   "source": [
    "## PCA\n",
    "\n",
    "In PCA (principle components anaylsis) we capture the variance of our data into 'components'.  What does that mean? Well, we'll be predicting our outcome based on how the other variables' values change (or vary).  So our model is really wanting to pick up on how the input features vary in relation to the outcome we're predicting.  PCA captures all this 'varying' in our data by combining our features, and it can capture this variance with less features than we started with.\n",
    "\n",
    "Since we're really focused on how our features are varying, we `scale` them before doing PCA. Remember that `scale` will transform our inputs so that their means are 0 and their standard deviations are 1.  With all these standard deviations set to 1, none of the features will overpower the others in terms of their variance.  For example, the `totalComboDamage` has a variance of 188387.3 and `openingsPerKill` has a variance of 2.8, this is a big gap.  PCA is trying to maximize the amount of variation captured, and an easy way to shortcut this would be to focus in on features with larger variances; we want to put all our features on equal ground, and so we scale.\n",
    "\n",
    "Below we see the effects of scaling on our features."
   ]
  },
  {
   "cell_type": "markdown",
   "metadata": {
    "id": "yGyfeNEg-xwl"
   },
   "source": [
    "* Use the `StandardScaler()` to scale the data"
   ]
  },
  {
   "cell_type": "code",
   "execution_count": 19,
   "metadata": {},
   "outputs": [
    {
     "data": {
      "application/javascript": [
       "\n",
       "            setTimeout(function() {\n",
       "                var nbb_cell_id = 19;\n",
       "                var nbb_unformatted_code = \"# variance and std\\n# how far is a typical observation away from the mean?\\n# is_nerd = [1,1,1,1,1,1,1] # variance = 0\";\n",
       "                var nbb_formatted_code = \"# variance and std\\n# how far is a typical observation away from the mean?\\n# is_nerd = [1,1,1,1,1,1,1] # variance = 0\";\n",
       "                var nbb_cells = Jupyter.notebook.get_cells();\n",
       "                for (var i = 0; i < nbb_cells.length; ++i) {\n",
       "                    if (nbb_cells[i].input_prompt_number == nbb_cell_id) {\n",
       "                        if (nbb_cells[i].get_text() == nbb_unformatted_code) {\n",
       "                             nbb_cells[i].set_text(nbb_formatted_code);\n",
       "                        }\n",
       "                        break;\n",
       "                    }\n",
       "                }\n",
       "            }, 500);\n",
       "            "
      ],
      "text/plain": [
       "<IPython.core.display.Javascript object>"
      ]
     },
     "metadata": {},
     "output_type": "display_data"
    }
   ],
   "source": [
    "# variance and std\n",
    "# how far is a typical observation away from the mean?\n",
    "# is_nerd = [1,1,1,1,1,1,1] # variance = 0"
   ]
  },
  {
   "cell_type": "code",
   "execution_count": 20,
   "metadata": {
    "id": "7Ukm6-H0-xwl"
   },
   "outputs": [
    {
     "name": "stdout",
     "output_type": "stream",
     "text": [
      "Feature variances before scaling:\n",
      "totalComboDamage       188387.321222\n",
      "totalPunishDamage      188083.438028\n",
      "totalRecoveryDamage     20801.620480\n",
      "numCombosStarted         1066.254221\n",
      "maxComboDamage            962.982273\n",
      "dtype: float64\n"
     ]
    },
    {
     "data": {
      "text/plain": [
       "array([[-0.5634041 , -0.84075427, -0.53683321, ..., -1.25838302,\n",
       "        -0.8631068 ,  0.58866437],\n",
       "       [ 0.11643317,  0.56649767,  0.5839697 , ...,  0.16455062,\n",
       "         0.8631068 , -0.70828172],\n",
       "       [-0.71791257, -0.59160475,  0.39045341, ...,  0.85918941,\n",
       "         0.77958033, -1.10620836],\n",
       "       ...,\n",
       "       [ 0.67266366,  1.78348744,  1.2841592 , ...,  2.61846999,\n",
       "         0.07142953, -0.69959681],\n",
       "       [-0.71791257, -0.54687547,  0.49068172, ...,  0.58668774,\n",
       "        -0.28506279, -0.94040559],\n",
       "       [-0.87242104, -1.04133859, -0.22739317, ..., -0.82763573,\n",
       "         0.28506279,  0.38601654]])"
      ]
     },
     "execution_count": 20,
     "metadata": {},
     "output_type": "execute_result"
    },
    {
     "data": {
      "application/javascript": [
       "\n",
       "            setTimeout(function() {\n",
       "                var nbb_cell_id = 20;\n",
       "                var nbb_unformatted_code = \"print(\\\"Feature variances before scaling:\\\")\\nprint(X.var().sort_values(ascending=False).head())\\n\\nscaler = StandardScaler()\\n\\n# 'learn' from the data\\nscaler.fit(X)\\n\\n# apply what the scaler learned\\nscaled_X = scaler.transform(X)\\nscaled_X\";\n",
       "                var nbb_formatted_code = \"print(\\\"Feature variances before scaling:\\\")\\nprint(X.var().sort_values(ascending=False).head())\\n\\nscaler = StandardScaler()\\n\\n# 'learn' from the data\\nscaler.fit(X)\\n\\n# apply what the scaler learned\\nscaled_X = scaler.transform(X)\\nscaled_X\";\n",
       "                var nbb_cells = Jupyter.notebook.get_cells();\n",
       "                for (var i = 0; i < nbb_cells.length; ++i) {\n",
       "                    if (nbb_cells[i].input_prompt_number == nbb_cell_id) {\n",
       "                        if (nbb_cells[i].get_text() == nbb_unformatted_code) {\n",
       "                             nbb_cells[i].set_text(nbb_formatted_code);\n",
       "                        }\n",
       "                        break;\n",
       "                    }\n",
       "                }\n",
       "            }, 500);\n",
       "            "
      ],
      "text/plain": [
       "<IPython.core.display.Javascript object>"
      ]
     },
     "metadata": {},
     "output_type": "display_data"
    }
   ],
   "source": [
    "print(\"Feature variances before scaling:\")\n",
    "print(X.var().sort_values(ascending=False).head())\n",
    "\n",
    "scaler = StandardScaler()\n",
    "\n",
    "# 'learn' from the data\n",
    "scaler.fit(X)\n",
    "\n",
    "# apply what the scaler learned\n",
    "scaled_X = scaler.transform(X)\n",
    "scaled_X"
   ]
  },
  {
   "cell_type": "markdown",
   "metadata": {
    "id": "2sX1gkMy-xwl"
   },
   "source": [
    "Now we can move onto performing PCA.  To do this we can use `sklearn.decomposition.PCA`, and the main thing left for us to decide is how many components.  The reading focuses in on eigenvalues, here we'll use the variance explained and a scree plot.  I'd say the 'elbow' that we typically look for in a scree plot occurs after our 4th component.  So we might choose to set `n_components` to 4."
   ]
  },
  {
   "cell_type": "markdown",
   "metadata": {
    "id": "Hp3_iZTQ-xwl"
   },
   "source": [
    "* Create a `PCA` object and apply it to the scaled data\n",
    "* Plot the variance explained by each component\n",
    "* Create a correlation heatmap of the prinicple components"
   ]
  },
  {
   "cell_type": "code",
   "execution_count": 26,
   "metadata": {
    "id": "7DUJe15K-xwl"
   },
   "outputs": [
    {
     "data": {
      "text/plain": [
       "(56, 22)"
      ]
     },
     "execution_count": 26,
     "metadata": {},
     "output_type": "execute_result"
    },
    {
     "data": {
      "application/javascript": [
       "\n",
       "            setTimeout(function() {\n",
       "                var nbb_cell_id = 26;\n",
       "                var nbb_unformatted_code = \"pca = PCA()\\n\\n# 'learn' from the data\\npca.fit(scaled_X)\\n\\n# apply what the pca object learned\\npca_X = pca.transform(scaled_X)\\n\\npca_X.shape\";\n",
       "                var nbb_formatted_code = \"pca = PCA()\\n\\n# 'learn' from the data\\npca.fit(scaled_X)\\n\\n# apply what the pca object learned\\npca_X = pca.transform(scaled_X)\\n\\npca_X.shape\";\n",
       "                var nbb_cells = Jupyter.notebook.get_cells();\n",
       "                for (var i = 0; i < nbb_cells.length; ++i) {\n",
       "                    if (nbb_cells[i].input_prompt_number == nbb_cell_id) {\n",
       "                        if (nbb_cells[i].get_text() == nbb_unformatted_code) {\n",
       "                             nbb_cells[i].set_text(nbb_formatted_code);\n",
       "                        }\n",
       "                        break;\n",
       "                    }\n",
       "                }\n",
       "            }, 500);\n",
       "            "
      ],
      "text/plain": [
       "<IPython.core.display.Javascript object>"
      ]
     },
     "metadata": {},
     "output_type": "display_data"
    }
   ],
   "source": [
    "pca = PCA()\n",
    "\n",
    "# 'learn' from the data\n",
    "pca.fit(scaled_X)\n",
    "\n",
    "# apply what the pca object learned\n",
    "pca_X = pca.transform(scaled_X)\n",
    "\n",
    "pca_X.shape"
   ]
  },
  {
   "cell_type": "code",
   "execution_count": 27,
   "metadata": {},
   "outputs": [
    {
     "data": {
      "image/png": "[encoded data removed]",
      "text/plain": [
       "<Figure size 432x288 with 1 Axes>"
      ]
     },
     "metadata": {
      "needs_background": "light"
     },
     "output_type": "display_data"
    },
    {
     "data": {
      "application/javascript": [
       "\n",
       "            setTimeout(function() {\n",
       "                var nbb_cell_id = 27;\n",
       "                var nbb_unformatted_code = \"# What attribute holds the variance explained?\\nplt.plot(pca.explained_variance_ratio_, marker=\\\"o\\\")\\nplt.title(\\\"Variance explained by each component\\\")\\nplt.show()\";\n",
       "                var nbb_formatted_code = \"# What attribute holds the variance explained?\\nplt.plot(pca.explained_variance_ratio_, marker=\\\"o\\\")\\nplt.title(\\\"Variance explained by each component\\\")\\nplt.show()\";\n",
       "                var nbb_cells = Jupyter.notebook.get_cells();\n",
       "                for (var i = 0; i < nbb_cells.length; ++i) {\n",
       "                    if (nbb_cells[i].input_prompt_number == nbb_cell_id) {\n",
       "                        if (nbb_cells[i].get_text() == nbb_unformatted_code) {\n",
       "                             nbb_cells[i].set_text(nbb_formatted_code);\n",
       "                        }\n",
       "                        break;\n",
       "                    }\n",
       "                }\n",
       "            }, 500);\n",
       "            "
      ],
      "text/plain": [
       "<IPython.core.display.Javascript object>"
      ]
     },
     "metadata": {},
     "output_type": "display_data"
    }
   ],
   "source": [
    "# What attribute holds the variance explained?\n",
    "plt.plot(pca.explained_variance_ratio_, marker=\"o\")\n",
    "plt.title(\"Variance explained by each component\")\n",
    "plt.show()"
   ]
  },
  {
   "cell_type": "code",
   "execution_count": 28,
   "metadata": {},
   "outputs": [
    {
     "data": {
      "text/plain": [
       "array([0.34472604, 0.55142412, 0.69668242, 0.76641502, 0.82660758,\n",
       "       0.87084342, 0.89837246, 0.92055042, 0.93730906, 0.95240967,\n",
       "       0.96700411, 0.97847895, 0.98750939, 0.99263601, 0.99622742,\n",
       "       0.99819319, 0.99911915, 0.9994747 , 0.99979052, 0.99991325,\n",
       "       0.99999457, 1.        ])"
      ]
     },
     "execution_count": 28,
     "metadata": {},
     "output_type": "execute_result"
    },
    {
     "data": {
      "application/javascript": [
       "\n",
       "            setTimeout(function() {\n",
       "                var nbb_cell_id = 28;\n",
       "                var nbb_unformatted_code = \"# view cumulative sum of each variable and how much of the variance is captured as you include each extra var\\nnp.cumsum(pca.explained_variance_ratio_)\";\n",
       "                var nbb_formatted_code = \"# view cumulative sum of each variable and how much of the variance is captured as you include each extra var\\nnp.cumsum(pca.explained_variance_ratio_)\";\n",
       "                var nbb_cells = Jupyter.notebook.get_cells();\n",
       "                for (var i = 0; i < nbb_cells.length; ++i) {\n",
       "                    if (nbb_cells[i].input_prompt_number == nbb_cell_id) {\n",
       "                        if (nbb_cells[i].get_text() == nbb_unformatted_code) {\n",
       "                             nbb_cells[i].set_text(nbb_formatted_code);\n",
       "                        }\n",
       "                        break;\n",
       "                    }\n",
       "                }\n",
       "            }, 500);\n",
       "            "
      ],
      "text/plain": [
       "<IPython.core.display.Javascript object>"
      ]
     },
     "metadata": {},
     "output_type": "display_data"
    }
   ],
   "source": [
    "# view cumulative sum of each variable and how much of the variance is captured as you include each extra var\n",
    "np.cumsum(pca.explained_variance_ratio_)"
   ]
  },
  {
   "cell_type": "code",
   "execution_count": 29,
   "metadata": {
    "scrolled": true
   },
   "outputs": [
    {
     "data": {
      "image/png": "[encoded data removed]",
      "text/plain": [
       "<Figure size 432x288 with 2 Axes>"
      ]
     },
     "metadata": {
      "needs_background": "light"
     },
     "output_type": "display_data"
    },
    {
     "data": {
      "application/javascript": [
       "\n",
       "            setTimeout(function() {\n",
       "                var nbb_cell_id = 29;\n",
       "                var nbb_unformatted_code = \"pca_df = pd.DataFrame(pca_X)\\n\\nsns.heatmap(pca_df.corr(), vmin=-1, vmax=1)\\nplt.title(\\\"Correlation between components\\\")\\nplt.show()\";\n",
       "                var nbb_formatted_code = \"pca_df = pd.DataFrame(pca_X)\\n\\nsns.heatmap(pca_df.corr(), vmin=-1, vmax=1)\\nplt.title(\\\"Correlation between components\\\")\\nplt.show()\";\n",
       "                var nbb_cells = Jupyter.notebook.get_cells();\n",
       "                for (var i = 0; i < nbb_cells.length; ++i) {\n",
       "                    if (nbb_cells[i].input_prompt_number == nbb_cell_id) {\n",
       "                        if (nbb_cells[i].get_text() == nbb_unformatted_code) {\n",
       "                             nbb_cells[i].set_text(nbb_formatted_code);\n",
       "                        }\n",
       "                        break;\n",
       "                    }\n",
       "                }\n",
       "            }, 500);\n",
       "            "
      ],
      "text/plain": [
       "<IPython.core.display.Javascript object>"
      ]
     },
     "metadata": {},
     "output_type": "display_data"
    }
   ],
   "source": [
    "pca_df = pd.DataFrame(pca_X)\n",
    "\n",
    "sns.heatmap(pca_df.corr(), vmin=-1, vmax=1)\n",
    "plt.title(\"Correlation between components\")\n",
    "plt.show()"
   ]
  },
  {
   "cell_type": "markdown",
   "metadata": {},
   "source": [
    "> pca doesn't give back any redundancy and decorrelates the data"
   ]
  },
  {
   "cell_type": "markdown",
   "metadata": {
    "id": "pGHGOdv1-xwl"
   },
   "source": [
    "* Use what we learned from the scree plot to choose an appropriate number of components to use for the model"
   ]
  },
  {
   "cell_type": "code",
   "execution_count": 41,
   "metadata": {
    "id": "GQeEZhY6-xwl"
   },
   "outputs": [
    {
     "data": {
      "application/javascript": [
       "\n",
       "            setTimeout(function() {\n",
       "                var nbb_cell_id = 41;\n",
       "                var nbb_unformatted_code = \"pca = PCA(n_components=3)\\n\\n# 'learn' from the data\\npca.fit(scaled_X)\\n\\n# apply what the pca object learned\\npca_X = pca.transform(scaled_X)\";\n",
       "                var nbb_formatted_code = \"pca = PCA(n_components=3)\\n\\n# 'learn' from the data\\npca.fit(scaled_X)\\n\\n# apply what the pca object learned\\npca_X = pca.transform(scaled_X)\";\n",
       "                var nbb_cells = Jupyter.notebook.get_cells();\n",
       "                for (var i = 0; i < nbb_cells.length; ++i) {\n",
       "                    if (nbb_cells[i].input_prompt_number == nbb_cell_id) {\n",
       "                        if (nbb_cells[i].get_text() == nbb_unformatted_code) {\n",
       "                             nbb_cells[i].set_text(nbb_formatted_code);\n",
       "                        }\n",
       "                        break;\n",
       "                    }\n",
       "                }\n",
       "            }, 500);\n",
       "            "
      ],
      "text/plain": [
       "<IPython.core.display.Javascript object>"
      ]
     },
     "metadata": {},
     "output_type": "display_data"
    }
   ],
   "source": [
    "pca = PCA(n_components=3)\n",
    "\n",
    "# 'learn' from the data\n",
    "pca.fit(scaled_X)\n",
    "\n",
    "# apply what the pca object learned\n",
    "pca_X = pca.transform(scaled_X)"
   ]
  },
  {
   "cell_type": "code",
   "execution_count": 42,
   "metadata": {
    "id": "-RbUr-kq-xwl"
   },
   "outputs": [
    {
     "data": {
      "text/plain": [
       "0.9107142857142857"
      ]
     },
     "execution_count": 42,
     "metadata": {},
     "output_type": "execute_result"
    },
    {
     "data": {
      "application/javascript": [
       "\n",
       "            setTimeout(function() {\n",
       "                var nbb_cell_id = 42;\n",
       "                var nbb_unformatted_code = \"model = LogisticRegression()\\nmodel.fit(pca_X, y)\\n# In practice score on a test set\\nmodel.score(pca_X, y)\";\n",
       "                var nbb_formatted_code = \"model = LogisticRegression()\\nmodel.fit(pca_X, y)\\n# In practice score on a test set\\nmodel.score(pca_X, y)\";\n",
       "                var nbb_cells = Jupyter.notebook.get_cells();\n",
       "                for (var i = 0; i < nbb_cells.length; ++i) {\n",
       "                    if (nbb_cells[i].input_prompt_number == nbb_cell_id) {\n",
       "                        if (nbb_cells[i].get_text() == nbb_unformatted_code) {\n",
       "                             nbb_cells[i].set_text(nbb_formatted_code);\n",
       "                        }\n",
       "                        break;\n",
       "                    }\n",
       "                }\n",
       "            }, 500);\n",
       "            "
      ],
      "text/plain": [
       "<IPython.core.display.Javascript object>"
      ]
     },
     "metadata": {},
     "output_type": "display_data"
    }
   ],
   "source": [
    "model = LogisticRegression()\n",
    "model.fit(pca_X, y)\n",
    "# In practice score on a test set\n",
    "model.score(pca_X, y)"
   ]
  },
  {
   "cell_type": "markdown",
   "metadata": {
    "id": "udQUwONf-xwl"
   },
   "source": [
    "So we went ahead and refit the model using our first 4 principle components.  We don't get a warning about convergence, and we seem to have a pretty decent fit (as judged by our bad scoring practice).  One thing to note about the model that was built.  It's going to be very hard to interpret.  We'll be able to see what effect each principle component has on the target variable.  This isn't the most intuitive thing to grasp, and it's even harder to explain to someone with a non-technical background.  PCA can sometimes be a positive in terms of model accuracy, but can also be a negative in terms of loss of iterpretability and understanding.\n",
    "\n",
    "*Note, again, again, this is a **bad way to evaluate a model**, we should be testing our model on data the model has never seen before.*"
   ]
  },
  {
   "cell_type": "markdown",
   "metadata": {},
   "source": [
    "----\n",
    "\n",
    "* Feature Selection:\n",
    "    * Expertise\n",
    "        * strive to be the data expert\n",
    "        * rely on those with experience with the data\n",
    "        * project goals vs. data vars\n",
    "    * Use visuals and EDA to ID:\n",
    "        * redundant vars\n",
    "        * things associated with the target var\n",
    "    * Automated feature selection:\n",
    "        * ANOVA using 'SelectKBest'\n",
    "        * 'from sklearn.feature_selection import SelectKBest'\n",
    "        * highest F score is most assocaited with target\n",
    "            (same thing as low p value)\n",
    "        * we can set 'k'\n",
    "    * dimension reduction (mix cols together)\n",
    "        * princial components analysis\n",
    "    "
   ]
  }
 ],
 "metadata": {
  "colab": {
   "name": "Copy of ssbm_features_blank.ipynb",
   "provenance": []
  },
  "kernelspec": {
   "display_name": "Python 3",
   "language": "python",
   "name": "python3"
  },
  "language_info": {
   "codemirror_mode": {
    "name": "ipython",
    "version": 3
   },
   "file_extension": ".py",
   "mimetype": "text/x-python",
   "name": "python",
   "nbconvert_exporter": "python",
   "pygments_lexer": "ipython3",
   "version": "3.8.3"
  },
  "toc": {
   "base_numbering": 1,
   "nav_menu": {},
   "number_sections": true,
   "sideBar": true,
   "skip_h1_title": false,
   "title_cell": "Table of Contents",
   "title_sidebar": "Contents",
   "toc_cell": false,
   "toc_position": {},
   "toc_section_display": true,
   "toc_window_display": true
  }
 },
 "nbformat": 4,
 "nbformat_minor": 1
}
