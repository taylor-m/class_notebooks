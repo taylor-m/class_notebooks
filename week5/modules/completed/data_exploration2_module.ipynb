{
 "cells": [
  {
   "cell_type": "markdown",
   "metadata": {},
   "source": [
    "**Assignment**\n",
    "\n",
    "1. Are there any differences between the genders, ethnicities, and parental level of education with respect to student performances in exams?\n",
    "2. Are there any differences between the lunch types with respect to student performances in exams? If there are, how do you explain this?\n",
    "3. Does the test preparation course seem to have an effect on the exam performances?\n",
    "4. Which two exam scores are most correlated with each other?"
   ]
  },
  {
   "cell_type": "markdown",
   "metadata": {},
   "source": [
    "# Imports"
   ]
  },
  {
   "cell_type": "code",
   "execution_count": 12,
   "metadata": {},
   "outputs": [
    {
     "data": {
      "application/javascript": [
       "\n",
       "            setTimeout(function() {\n",
       "                var nbb_cell_id = 12;\n",
       "                var nbb_unformatted_code = \"import matplotlib.pyplot as plt\\nimport seaborn as sns\\nimport numpy as np\\nimport pandas as pd\\nimport seaborn as sns\\nimport scipy.stats as stats\\n\\nfrom scipy.stats import f_oneway as anova\\nimport statsmodels.api as sm\\nfrom statsmodels.formula.api import ols\\nfrom statsmodels.stats.multicomp import pairwise_tukeyhsd as tukey\\n\\n%matplotlib inline\";\n",
       "                var nbb_formatted_code = \"import matplotlib.pyplot as plt\\nimport seaborn as sns\\nimport numpy as np\\nimport pandas as pd\\nimport seaborn as sns\\nimport scipy.stats as stats\\n\\nfrom scipy.stats import f_oneway as anova\\nimport statsmodels.api as sm\\nfrom statsmodels.formula.api import ols\\nfrom statsmodels.stats.multicomp import pairwise_tukeyhsd as tukey\\n\\n%matplotlib inline\";\n",
       "                var nbb_cells = Jupyter.notebook.get_cells();\n",
       "                for (var i = 0; i < nbb_cells.length; ++i) {\n",
       "                    if (nbb_cells[i].input_prompt_number == nbb_cell_id) {\n",
       "                        if (nbb_cells[i].get_text() == nbb_unformatted_code) {\n",
       "                             nbb_cells[i].set_text(nbb_formatted_code);\n",
       "                        }\n",
       "                        break;\n",
       "                    }\n",
       "                }\n",
       "            }, 500);\n",
       "            "
      ],
      "text/plain": [
       "<IPython.core.display.Javascript object>"
      ]
     },
     "metadata": {},
     "output_type": "display_data"
    },
    {
     "data": {
      "application/javascript": [
       "\n",
       "            setTimeout(function() {\n",
       "                var nbb_cell_id = 12;\n",
       "                var nbb_unformatted_code = \"import matplotlib.pyplot as plt\\nimport seaborn as sns\\nimport numpy as np\\nimport pandas as pd\\nimport seaborn as sns\\nimport scipy.stats as stats\\n\\nfrom scipy.stats import f_oneway as anova\\nimport statsmodels.api as sm\\nfrom statsmodels.formula.api import ols\\nfrom statsmodels.stats.multicomp import pairwise_tukeyhsd as tukey\\n\\n%matplotlib inline\";\n",
       "                var nbb_formatted_code = \"import matplotlib.pyplot as plt\\nimport seaborn as sns\\nimport numpy as np\\nimport pandas as pd\\nimport seaborn as sns\\nimport scipy.stats as stats\\n\\nfrom scipy.stats import f_oneway as anova\\nimport statsmodels.api as sm\\nfrom statsmodels.formula.api import ols\\nfrom statsmodels.stats.multicomp import pairwise_tukeyhsd as tukey\\n\\n%matplotlib inline\";\n",
       "                var nbb_cells = Jupyter.notebook.get_cells();\n",
       "                for (var i = 0; i < nbb_cells.length; ++i) {\n",
       "                    if (nbb_cells[i].input_prompt_number == nbb_cell_id) {\n",
       "                        if (nbb_cells[i].get_text() == nbb_unformatted_code) {\n",
       "                             nbb_cells[i].set_text(nbb_formatted_code);\n",
       "                        }\n",
       "                        break;\n",
       "                    }\n",
       "                }\n",
       "            }, 500);\n",
       "            "
      ],
      "text/plain": [
       "<IPython.core.display.Javascript object>"
      ]
     },
     "metadata": {},
     "output_type": "display_data"
    }
   ],
   "source": [
    "import matplotlib.pyplot as plt\n",
    "import seaborn as sns\n",
    "import numpy as np\n",
    "import pandas as pd\n",
    "import seaborn as sns\n",
    "import scipy.stats as stats\n",
    "\n",
    "from scipy.stats import f_oneway as anova\n",
    "import statsmodels.api as sm\n",
    "from statsmodels.formula.api import ols\n",
    "from statsmodels.stats.multicomp import pairwise_tukeyhsd as tukey\n",
    "\n",
    "%matplotlib inline"
   ]
  },
  {
   "cell_type": "code",
   "execution_count": 3,
   "metadata": {},
   "outputs": [
    {
     "data": {
      "text/html": [
       "<div>\n",
       "<style scoped>\n",
       "    .dataframe tbody tr th:only-of-type {\n",
       "        vertical-align: middle;\n",
       "    }\n",
       "\n",
       "    .dataframe tbody tr th {\n",
       "        vertical-align: top;\n",
       "    }\n",
       "\n",
       "    .dataframe thead th {\n",
       "        text-align: right;\n",
       "    }\n",
       "</style>\n",
       "<table border=\"1\" class=\"dataframe\">\n",
       "  <thead>\n",
       "    <tr style=\"text-align: right;\">\n",
       "      <th></th>\n",
       "      <th>gender</th>\n",
       "      <th>race/ethnicity</th>\n",
       "      <th>parental level of education</th>\n",
       "      <th>lunch</th>\n",
       "      <th>test preparation course</th>\n",
       "      <th>math score</th>\n",
       "      <th>reading score</th>\n",
       "      <th>writing score</th>\n",
       "    </tr>\n",
       "  </thead>\n",
       "  <tbody>\n",
       "    <tr>\n",
       "      <th>0</th>\n",
       "      <td>female</td>\n",
       "      <td>group B</td>\n",
       "      <td>bachelor's degree</td>\n",
       "      <td>standard</td>\n",
       "      <td>none</td>\n",
       "      <td>72</td>\n",
       "      <td>72</td>\n",
       "      <td>74</td>\n",
       "    </tr>\n",
       "    <tr>\n",
       "      <th>1</th>\n",
       "      <td>female</td>\n",
       "      <td>group C</td>\n",
       "      <td>some college</td>\n",
       "      <td>standard</td>\n",
       "      <td>completed</td>\n",
       "      <td>69</td>\n",
       "      <td>90</td>\n",
       "      <td>88</td>\n",
       "    </tr>\n",
       "    <tr>\n",
       "      <th>2</th>\n",
       "      <td>female</td>\n",
       "      <td>group B</td>\n",
       "      <td>master's degree</td>\n",
       "      <td>standard</td>\n",
       "      <td>none</td>\n",
       "      <td>90</td>\n",
       "      <td>95</td>\n",
       "      <td>93</td>\n",
       "    </tr>\n",
       "    <tr>\n",
       "      <th>3</th>\n",
       "      <td>male</td>\n",
       "      <td>group A</td>\n",
       "      <td>associate's degree</td>\n",
       "      <td>free/reduced</td>\n",
       "      <td>none</td>\n",
       "      <td>47</td>\n",
       "      <td>57</td>\n",
       "      <td>44</td>\n",
       "    </tr>\n",
       "    <tr>\n",
       "      <th>4</th>\n",
       "      <td>male</td>\n",
       "      <td>group C</td>\n",
       "      <td>some college</td>\n",
       "      <td>standard</td>\n",
       "      <td>none</td>\n",
       "      <td>76</td>\n",
       "      <td>78</td>\n",
       "      <td>75</td>\n",
       "    </tr>\n",
       "  </tbody>\n",
       "</table>\n",
       "</div>"
      ],
      "text/plain": [
       "   gender race/ethnicity parental level of education         lunch  \\\n",
       "0  female        group B           bachelor's degree      standard   \n",
       "1  female        group C                some college      standard   \n",
       "2  female        group B             master's degree      standard   \n",
       "3    male        group A          associate's degree  free/reduced   \n",
       "4    male        group C                some college      standard   \n",
       "\n",
       "  test preparation course  math score  reading score  writing score  \n",
       "0                    none          72             72             74  \n",
       "1               completed          69             90             88  \n",
       "2                    none          90             95             93  \n",
       "3                    none          47             57             44  \n",
       "4                    none          76             78             75  "
      ]
     },
     "execution_count": 3,
     "metadata": {},
     "output_type": "execute_result"
    },
    {
     "data": {
      "application/javascript": [
       "\n",
       "            setTimeout(function() {\n",
       "                var nbb_cell_id = 3;\n",
       "                var nbb_unformatted_code = \"%reload_ext nb_black\\npostgres_user = \\\"dsbc_student\\\"\\npostgres_pw = \\\"7*.8G9QH21\\\"\\npostgres_host = \\\"142.93.121.174\\\"\\npostgres_port = \\\"5432\\\"\\npostgres_db = \\\"studentsperformance\\\"\\nconn_str = f\\\"postgresql://{postgres_user}:{postgres_pw}@{postgres_host}:{postgres_port}/{postgres_db}\\\"\\nquery = \\\"\\\"\\\"\\nSELECT *\\nFROM studentsperformance\\n\\\"\\\"\\\"\\ndf = pd.read_sql_query(query, con=conn_str)\\ndf.head()\";\n",
       "                var nbb_formatted_code = \"%reload_ext nb_black\\npostgres_user = \\\"dsbc_student\\\"\\npostgres_pw = \\\"7*.8G9QH21\\\"\\npostgres_host = \\\"142.93.121.174\\\"\\npostgres_port = \\\"5432\\\"\\npostgres_db = \\\"studentsperformance\\\"\\nconn_str = f\\\"postgresql://{postgres_user}:{postgres_pw}@{postgres_host}:{postgres_port}/{postgres_db}\\\"\\nquery = \\\"\\\"\\\"\\nSELECT *\\nFROM studentsperformance\\n\\\"\\\"\\\"\\ndf = pd.read_sql_query(query, con=conn_str)\\ndf.head()\";\n",
       "                var nbb_cells = Jupyter.notebook.get_cells();\n",
       "                for (var i = 0; i < nbb_cells.length; ++i) {\n",
       "                    if (nbb_cells[i].input_prompt_number == nbb_cell_id) {\n",
       "                        if (nbb_cells[i].get_text() == nbb_unformatted_code) {\n",
       "                             nbb_cells[i].set_text(nbb_formatted_code);\n",
       "                        }\n",
       "                        break;\n",
       "                    }\n",
       "                }\n",
       "            }, 500);\n",
       "            "
      ],
      "text/plain": [
       "<IPython.core.display.Javascript object>"
      ]
     },
     "metadata": {},
     "output_type": "display_data"
    },
    {
     "data": {
      "application/javascript": [
       "\n",
       "            setTimeout(function() {\n",
       "                var nbb_cell_id = 3;\n",
       "                var nbb_unformatted_code = \"%reload_ext nb_black\\npostgres_user = \\\"dsbc_student\\\"\\npostgres_pw = \\\"7*.8G9QH21\\\"\\npostgres_host = \\\"142.93.121.174\\\"\\npostgres_port = \\\"5432\\\"\\npostgres_db = \\\"studentsperformance\\\"\\nconn_str = f\\\"postgresql://{postgres_user}:{postgres_pw}@{postgres_host}:{postgres_port}/{postgres_db}\\\"\\nquery = \\\"\\\"\\\"\\nSELECT *\\nFROM studentsperformance\\n\\\"\\\"\\\"\\ndf = pd.read_sql_query(query, con=conn_str)\\ndf.head()\";\n",
       "                var nbb_formatted_code = \"%reload_ext nb_black\\npostgres_user = \\\"dsbc_student\\\"\\npostgres_pw = \\\"7*.8G9QH21\\\"\\npostgres_host = \\\"142.93.121.174\\\"\\npostgres_port = \\\"5432\\\"\\npostgres_db = \\\"studentsperformance\\\"\\nconn_str = f\\\"postgresql://{postgres_user}:{postgres_pw}@{postgres_host}:{postgres_port}/{postgres_db}\\\"\\nquery = \\\"\\\"\\\"\\nSELECT *\\nFROM studentsperformance\\n\\\"\\\"\\\"\\ndf = pd.read_sql_query(query, con=conn_str)\\ndf.head()\";\n",
       "                var nbb_cells = Jupyter.notebook.get_cells();\n",
       "                for (var i = 0; i < nbb_cells.length; ++i) {\n",
       "                    if (nbb_cells[i].input_prompt_number == nbb_cell_id) {\n",
       "                        if (nbb_cells[i].get_text() == nbb_unformatted_code) {\n",
       "                             nbb_cells[i].set_text(nbb_formatted_code);\n",
       "                        }\n",
       "                        break;\n",
       "                    }\n",
       "                }\n",
       "            }, 500);\n",
       "            "
      ],
      "text/plain": [
       "<IPython.core.display.Javascript object>"
      ]
     },
     "metadata": {},
     "output_type": "display_data"
    }
   ],
   "source": [
    "%reload_ext nb_black\n",
    "postgres_user = \"dsbc_student\"\n",
    "postgres_pw = \"7*.8G9QH21\"\n",
    "postgres_host = \"142.93.121.174\"\n",
    "postgres_port = \"5432\"\n",
    "postgres_db = \"studentsperformance\"\n",
    "conn_str = f\"postgresql://{postgres_user}:{postgres_pw}@{postgres_host}:{postgres_port}/{postgres_db}\"\n",
    "query = \"\"\"\n",
    "SELECT *\n",
    "FROM studentsperformance\n",
    "\"\"\"\n",
    "df = pd.read_sql_query(query, con=conn_str)\n",
    "df.head()"
   ]
  },
  {
   "cell_type": "markdown",
   "metadata": {},
   "source": [
    "# Are there any differences between the genders, ethnicities, and parental level of education with respect to student performances in exams?"
   ]
  },
  {
   "cell_type": "markdown",
   "metadata": {},
   "source": [
    "## genders"
   ]
  },
  {
   "cell_type": "code",
   "execution_count": 4,
   "metadata": {},
   "outputs": [
    {
     "data": {
      "application/javascript": [
       "\n",
       "            setTimeout(function() {\n",
       "                var nbb_cell_id = 4;\n",
       "                var nbb_unformatted_code = \"gender_df = df[['gender', 'math score', 'reading score', 'writing score']]\";\n",
       "                var nbb_formatted_code = \"gender_df = df[[\\\"gender\\\", \\\"math score\\\", \\\"reading score\\\", \\\"writing score\\\"]]\";\n",
       "                var nbb_cells = Jupyter.notebook.get_cells();\n",
       "                for (var i = 0; i < nbb_cells.length; ++i) {\n",
       "                    if (nbb_cells[i].input_prompt_number == nbb_cell_id) {\n",
       "                        if (nbb_cells[i].get_text() == nbb_unformatted_code) {\n",
       "                             nbb_cells[i].set_text(nbb_formatted_code);\n",
       "                        }\n",
       "                        break;\n",
       "                    }\n",
       "                }\n",
       "            }, 500);\n",
       "            "
      ],
      "text/plain": [
       "<IPython.core.display.Javascript object>"
      ]
     },
     "metadata": {},
     "output_type": "display_data"
    },
    {
     "data": {
      "application/javascript": [
       "\n",
       "            setTimeout(function() {\n",
       "                var nbb_cell_id = 4;\n",
       "                var nbb_unformatted_code = \"gender_df = df[['gender', 'math score', 'reading score', 'writing score']]\";\n",
       "                var nbb_formatted_code = \"gender_df = df[[\\\"gender\\\", \\\"math score\\\", \\\"reading score\\\", \\\"writing score\\\"]]\";\n",
       "                var nbb_cells = Jupyter.notebook.get_cells();\n",
       "                for (var i = 0; i < nbb_cells.length; ++i) {\n",
       "                    if (nbb_cells[i].input_prompt_number == nbb_cell_id) {\n",
       "                        if (nbb_cells[i].get_text() == nbb_unformatted_code) {\n",
       "                             nbb_cells[i].set_text(nbb_formatted_code);\n",
       "                        }\n",
       "                        break;\n",
       "                    }\n",
       "                }\n",
       "            }, 500);\n",
       "            "
      ],
      "text/plain": [
       "<IPython.core.display.Javascript object>"
      ]
     },
     "metadata": {},
     "output_type": "display_data"
    }
   ],
   "source": [
    "gender_df = df[[\"gender\", \"math score\", \"reading score\", \"writing score\"]]"
   ]
  },
  {
   "cell_type": "code",
   "execution_count": 8,
   "metadata": {},
   "outputs": [
    {
     "data": {
      "text/html": [
       "<div>\n",
       "<style scoped>\n",
       "    .dataframe tbody tr th:only-of-type {\n",
       "        vertical-align: middle;\n",
       "    }\n",
       "\n",
       "    .dataframe tbody tr th {\n",
       "        vertical-align: top;\n",
       "    }\n",
       "\n",
       "    .dataframe thead th {\n",
       "        text-align: right;\n",
       "    }\n",
       "</style>\n",
       "<table border=\"1\" class=\"dataframe\">\n",
       "  <thead>\n",
       "    <tr style=\"text-align: right;\">\n",
       "      <th></th>\n",
       "      <th>math score</th>\n",
       "      <th>reading score</th>\n",
       "      <th>writing score</th>\n",
       "    </tr>\n",
       "    <tr>\n",
       "      <th>gender</th>\n",
       "      <th></th>\n",
       "      <th></th>\n",
       "      <th></th>\n",
       "    </tr>\n",
       "  </thead>\n",
       "  <tbody>\n",
       "    <tr>\n",
       "      <th>female</th>\n",
       "      <td>63.633205</td>\n",
       "      <td>72.608108</td>\n",
       "      <td>72.467181</td>\n",
       "    </tr>\n",
       "    <tr>\n",
       "      <th>male</th>\n",
       "      <td>68.728216</td>\n",
       "      <td>65.473029</td>\n",
       "      <td>63.311203</td>\n",
       "    </tr>\n",
       "  </tbody>\n",
       "</table>\n",
       "</div>"
      ],
      "text/plain": [
       "        math score  reading score  writing score\n",
       "gender                                          \n",
       "female   63.633205      72.608108      72.467181\n",
       "male     68.728216      65.473029      63.311203"
      ]
     },
     "execution_count": 8,
     "metadata": {},
     "output_type": "execute_result"
    },
    {
     "data": {
      "application/javascript": [
       "\n",
       "            setTimeout(function() {\n",
       "                var nbb_cell_id = 8;\n",
       "                var nbb_unformatted_code = \"gender_df.groupby(\\\"gender\\\").mean()\";\n",
       "                var nbb_formatted_code = \"gender_df.groupby(\\\"gender\\\").mean()\";\n",
       "                var nbb_cells = Jupyter.notebook.get_cells();\n",
       "                for (var i = 0; i < nbb_cells.length; ++i) {\n",
       "                    if (nbb_cells[i].input_prompt_number == nbb_cell_id) {\n",
       "                        if (nbb_cells[i].get_text() == nbb_unformatted_code) {\n",
       "                             nbb_cells[i].set_text(nbb_formatted_code);\n",
       "                        }\n",
       "                        break;\n",
       "                    }\n",
       "                }\n",
       "            }, 500);\n",
       "            "
      ],
      "text/plain": [
       "<IPython.core.display.Javascript object>"
      ]
     },
     "metadata": {},
     "output_type": "display_data"
    },
    {
     "data": {
      "application/javascript": [
       "\n",
       "            setTimeout(function() {\n",
       "                var nbb_cell_id = 8;\n",
       "                var nbb_unformatted_code = \"gender_df.groupby(\\\"gender\\\").mean()\";\n",
       "                var nbb_formatted_code = \"gender_df.groupby(\\\"gender\\\").mean()\";\n",
       "                var nbb_cells = Jupyter.notebook.get_cells();\n",
       "                for (var i = 0; i < nbb_cells.length; ++i) {\n",
       "                    if (nbb_cells[i].input_prompt_number == nbb_cell_id) {\n",
       "                        if (nbb_cells[i].get_text() == nbb_unformatted_code) {\n",
       "                             nbb_cells[i].set_text(nbb_formatted_code);\n",
       "                        }\n",
       "                        break;\n",
       "                    }\n",
       "                }\n",
       "            }, 500);\n",
       "            "
      ],
      "text/plain": [
       "<IPython.core.display.Javascript object>"
      ]
     },
     "metadata": {},
     "output_type": "display_data"
    }
   ],
   "source": [
    "gender_df.groupby(\"gender\").mean()"
   ]
  },
  {
   "cell_type": "code",
   "execution_count": 11,
   "metadata": {},
   "outputs": [
    {
     "data": {
      "image/png": "[encoded data removed]",
      "text/plain": [
       "<Figure size 432x288 with 1 Axes>"
      ]
     },
     "metadata": {
      "needs_background": "light"
     },
     "output_type": "display_data"
    },
    {
     "data": {
      "image/png": "[encoded data removed]",
      "text/plain": [
       "<Figure size 432x288 with 1 Axes>"
      ]
     },
     "metadata": {
      "needs_background": "light"
     },
     "output_type": "display_data"
    },
    {
     "data": {
      "image/png": "[encoded data removed]",
      "text/plain": [
       "<Figure size 432x288 with 1 Axes>"
      ]
     },
     "metadata": {
      "needs_background": "light"
     },
     "output_type": "display_data"
    },
    {
     "data": {
      "application/javascript": [
       "\n",
       "            setTimeout(function() {\n",
       "                var nbb_cell_id = 11;\n",
       "                var nbb_unformatted_code = \"# bar plots of all the scores by gender\\nplt.subplot(1, 3, 1)\\nsns.barplot(gender_df.gender, gender_df[\\\"math score\\\"])\\nplt.title(\\\"Avg Math Score\\\")\\nplt.show()\\n\\nplt.subplot(1, 3, 2)\\nsns.barplot(gender_df.gender, gender_df[\\\"reading score\\\"])\\nplt.title(\\\"Avg Reading Score\\\")\\nplt.show()\\n\\nplt.subplot(1, 3, 3)\\nsns.barplot(gender_df.gender, gender_df[\\\"writing score\\\"])\\nplt.title(\\\"Avg Writing Score\\\")\\nplt.show()\";\n",
       "                var nbb_formatted_code = \"# bar plots of all the scores by gender\\nplt.subplot(1, 3, 1)\\nsns.barplot(gender_df.gender, gender_df[\\\"math score\\\"])\\nplt.title(\\\"Avg Math Score\\\")\\nplt.show()\\n\\nplt.subplot(1, 3, 2)\\nsns.barplot(gender_df.gender, gender_df[\\\"reading score\\\"])\\nplt.title(\\\"Avg Reading Score\\\")\\nplt.show()\\n\\nplt.subplot(1, 3, 3)\\nsns.barplot(gender_df.gender, gender_df[\\\"writing score\\\"])\\nplt.title(\\\"Avg Writing Score\\\")\\nplt.show()\";\n",
       "                var nbb_cells = Jupyter.notebook.get_cells();\n",
       "                for (var i = 0; i < nbb_cells.length; ++i) {\n",
       "                    if (nbb_cells[i].input_prompt_number == nbb_cell_id) {\n",
       "                        if (nbb_cells[i].get_text() == nbb_unformatted_code) {\n",
       "                             nbb_cells[i].set_text(nbb_formatted_code);\n",
       "                        }\n",
       "                        break;\n",
       "                    }\n",
       "                }\n",
       "            }, 500);\n",
       "            "
      ],
      "text/plain": [
       "<IPython.core.display.Javascript object>"
      ]
     },
     "metadata": {},
     "output_type": "display_data"
    },
    {
     "data": {
      "application/javascript": [
       "\n",
       "            setTimeout(function() {\n",
       "                var nbb_cell_id = 11;\n",
       "                var nbb_unformatted_code = \"# bar plots of all the scores by gender\\nplt.subplot(1, 3, 1)\\nsns.barplot(gender_df.gender, gender_df[\\\"math score\\\"])\\nplt.title(\\\"Avg Math Score\\\")\\nplt.show()\\n\\nplt.subplot(1, 3, 2)\\nsns.barplot(gender_df.gender, gender_df[\\\"reading score\\\"])\\nplt.title(\\\"Avg Reading Score\\\")\\nplt.show()\\n\\nplt.subplot(1, 3, 3)\\nsns.barplot(gender_df.gender, gender_df[\\\"writing score\\\"])\\nplt.title(\\\"Avg Writing Score\\\")\\nplt.show()\";\n",
       "                var nbb_formatted_code = \"# bar plots of all the scores by gender\\nplt.subplot(1, 3, 1)\\nsns.barplot(gender_df.gender, gender_df[\\\"math score\\\"])\\nplt.title(\\\"Avg Math Score\\\")\\nplt.show()\\n\\nplt.subplot(1, 3, 2)\\nsns.barplot(gender_df.gender, gender_df[\\\"reading score\\\"])\\nplt.title(\\\"Avg Reading Score\\\")\\nplt.show()\\n\\nplt.subplot(1, 3, 3)\\nsns.barplot(gender_df.gender, gender_df[\\\"writing score\\\"])\\nplt.title(\\\"Avg Writing Score\\\")\\nplt.show()\";\n",
       "                var nbb_cells = Jupyter.notebook.get_cells();\n",
       "                for (var i = 0; i < nbb_cells.length; ++i) {\n",
       "                    if (nbb_cells[i].input_prompt_number == nbb_cell_id) {\n",
       "                        if (nbb_cells[i].get_text() == nbb_unformatted_code) {\n",
       "                             nbb_cells[i].set_text(nbb_formatted_code);\n",
       "                        }\n",
       "                        break;\n",
       "                    }\n",
       "                }\n",
       "            }, 500);\n",
       "            "
      ],
      "text/plain": [
       "<IPython.core.display.Javascript object>"
      ]
     },
     "metadata": {},
     "output_type": "display_data"
    }
   ],
   "source": [
    "# bar plots of all the scores by gender\n",
    "plt.subplot(1, 3, 1)\n",
    "sns.barplot(gender_df.gender, gender_df[\"math score\"])\n",
    "plt.title(\"Avg Math Score\")\n",
    "plt.show()\n",
    "\n",
    "plt.subplot(1, 3, 2)\n",
    "sns.barplot(gender_df.gender, gender_df[\"reading score\"])\n",
    "plt.title(\"Avg Reading Score\")\n",
    "plt.show()\n",
    "\n",
    "plt.subplot(1, 3, 3)\n",
    "sns.barplot(gender_df.gender, gender_df[\"writing score\"])\n",
    "plt.title(\"Avg Writing Score\")\n",
    "plt.show()"
   ]
  },
  {
   "cell_type": "markdown",
   "metadata": {},
   "source": [
    "> the female group seems to score higher in both reading and writing, and lower in math\n",
    "---"
   ]
  },
  {
   "cell_type": "code",
   "execution_count": 13,
   "metadata": {
    "scrolled": true
   },
   "outputs": [
    {
     "name": "stdout",
     "output_type": "stream",
     "text": [
      "math score\n",
      "Ttest_indResult(statistic=5.383245869828983, pvalue=9.120185549328822e-08)\n",
      "reading score\n",
      "Ttest_indResult(statistic=-7.959308005187657, pvalue=4.680538743933289e-15)\n",
      "writing score\n",
      "Ttest_indResult(statistic=-9.979557910004507, pvalue=2.019877706867934e-22)\n"
     ]
    },
    {
     "data": {
      "application/javascript": [
       "\n",
       "            setTimeout(function() {\n",
       "                var nbb_cell_id = 13;\n",
       "                var nbb_unformatted_code = \"# run t-tests on the different scores by gender\\nscores = [\\\"math score\\\", \\\"reading score\\\", \\\"writing score\\\"]\\n\\nfor score in scores:\\n    print(score)\\n    print(stats.ttest_ind(gender_df[gender_df.gender == 'male'][score], gender_df[gender_df.gender == 'female'][score]))\";\n",
       "                var nbb_formatted_code = \"# run t-tests on the different scores by gender\\nscores = [\\\"math score\\\", \\\"reading score\\\", \\\"writing score\\\"]\\n\\nfor score in scores:\\n    print(score)\\n    print(\\n        stats.ttest_ind(\\n            gender_df[gender_df.gender == \\\"male\\\"][score],\\n            gender_df[gender_df.gender == \\\"female\\\"][score],\\n        )\\n    )\";\n",
       "                var nbb_cells = Jupyter.notebook.get_cells();\n",
       "                for (var i = 0; i < nbb_cells.length; ++i) {\n",
       "                    if (nbb_cells[i].input_prompt_number == nbb_cell_id) {\n",
       "                        if (nbb_cells[i].get_text() == nbb_unformatted_code) {\n",
       "                             nbb_cells[i].set_text(nbb_formatted_code);\n",
       "                        }\n",
       "                        break;\n",
       "                    }\n",
       "                }\n",
       "            }, 500);\n",
       "            "
      ],
      "text/plain": [
       "<IPython.core.display.Javascript object>"
      ]
     },
     "metadata": {},
     "output_type": "display_data"
    },
    {
     "data": {
      "application/javascript": [
       "\n",
       "            setTimeout(function() {\n",
       "                var nbb_cell_id = 13;\n",
       "                var nbb_unformatted_code = \"# run t-tests on the different scores by gender\\nscores = [\\\"math score\\\", \\\"reading score\\\", \\\"writing score\\\"]\\n\\nfor score in scores:\\n    print(score)\\n    print(stats.ttest_ind(gender_df[gender_df.gender == 'male'][score], gender_df[gender_df.gender == 'female'][score]))\";\n",
       "                var nbb_formatted_code = \"# run t-tests on the different scores by gender\\nscores = [\\\"math score\\\", \\\"reading score\\\", \\\"writing score\\\"]\\n\\nfor score in scores:\\n    print(score)\\n    print(\\n        stats.ttest_ind(\\n            gender_df[gender_df.gender == \\\"male\\\"][score],\\n            gender_df[gender_df.gender == \\\"female\\\"][score],\\n        )\\n    )\";\n",
       "                var nbb_cells = Jupyter.notebook.get_cells();\n",
       "                for (var i = 0; i < nbb_cells.length; ++i) {\n",
       "                    if (nbb_cells[i].input_prompt_number == nbb_cell_id) {\n",
       "                        if (nbb_cells[i].get_text() == nbb_unformatted_code) {\n",
       "                             nbb_cells[i].set_text(nbb_formatted_code);\n",
       "                        }\n",
       "                        break;\n",
       "                    }\n",
       "                }\n",
       "            }, 500);\n",
       "            "
      ],
      "text/plain": [
       "<IPython.core.display.Javascript object>"
      ]
     },
     "metadata": {},
     "output_type": "display_data"
    }
   ],
   "source": [
    "# run t-tests on the different scores by gender\n",
    "scores = [\"math score\", \"reading score\", \"writing score\"]\n",
    "\n",
    "for score in scores:\n",
    "    print(score)\n",
    "    print(\n",
    "        stats.ttest_ind(\n",
    "            gender_df[gender_df.gender == \"male\"][score],\n",
    "            gender_df[gender_df.gender == \"female\"][score],\n",
    "        )\n",
    "    )"
   ]
  },
  {
   "cell_type": "markdown",
   "metadata": {},
   "source": [
    "> There seems to be a significant difference in scores by gender\n",
    "---"
   ]
  },
  {
   "cell_type": "markdown",
   "metadata": {},
   "source": [
    "## Ethnicities"
   ]
  },
  {
   "cell_type": "code",
   "execution_count": 19,
   "metadata": {},
   "outputs": [
    {
     "data": {
      "application/javascript": [
       "\n",
       "            setTimeout(function() {\n",
       "                var nbb_cell_id = 19;\n",
       "                var nbb_unformatted_code = \"# var for all race types\\nraces = df[\\\"race/ethnicity\\\"].unique()\\n\\n# create df just with vars of interest\\nrace_df = df[[\\\"race/ethnicity\\\", \\\"math score\\\", \\\"reading score\\\", \\\"writing score\\\"]]\";\n",
       "                var nbb_formatted_code = \"# var for all race types\\nraces = df[\\\"race/ethnicity\\\"].unique()\\n\\n# create df just with vars of interest\\nrace_df = df[[\\\"race/ethnicity\\\", \\\"math score\\\", \\\"reading score\\\", \\\"writing score\\\"]]\";\n",
       "                var nbb_cells = Jupyter.notebook.get_cells();\n",
       "                for (var i = 0; i < nbb_cells.length; ++i) {\n",
       "                    if (nbb_cells[i].input_prompt_number == nbb_cell_id) {\n",
       "                        if (nbb_cells[i].get_text() == nbb_unformatted_code) {\n",
       "                             nbb_cells[i].set_text(nbb_formatted_code);\n",
       "                        }\n",
       "                        break;\n",
       "                    }\n",
       "                }\n",
       "            }, 500);\n",
       "            "
      ],
      "text/plain": [
       "<IPython.core.display.Javascript object>"
      ]
     },
     "metadata": {},
     "output_type": "display_data"
    },
    {
     "data": {
      "application/javascript": [
       "\n",
       "            setTimeout(function() {\n",
       "                var nbb_cell_id = 19;\n",
       "                var nbb_unformatted_code = \"# var for all race types\\nraces = df[\\\"race/ethnicity\\\"].unique()\\n\\n# create df just with vars of interest\\nrace_df = df[[\\\"race/ethnicity\\\", \\\"math score\\\", \\\"reading score\\\", \\\"writing score\\\"]]\";\n",
       "                var nbb_formatted_code = \"# var for all race types\\nraces = df[\\\"race/ethnicity\\\"].unique()\\n\\n# create df just with vars of interest\\nrace_df = df[[\\\"race/ethnicity\\\", \\\"math score\\\", \\\"reading score\\\", \\\"writing score\\\"]]\";\n",
       "                var nbb_cells = Jupyter.notebook.get_cells();\n",
       "                for (var i = 0; i < nbb_cells.length; ++i) {\n",
       "                    if (nbb_cells[i].input_prompt_number == nbb_cell_id) {\n",
       "                        if (nbb_cells[i].get_text() == nbb_unformatted_code) {\n",
       "                             nbb_cells[i].set_text(nbb_formatted_code);\n",
       "                        }\n",
       "                        break;\n",
       "                    }\n",
       "                }\n",
       "            }, 500);\n",
       "            "
      ],
      "text/plain": [
       "<IPython.core.display.Javascript object>"
      ]
     },
     "metadata": {},
     "output_type": "display_data"
    }
   ],
   "source": [
    "# create df just with vars of interest\n",
    "race_df = df[[\"race/ethnicity\", \"math score\", \"reading score\", \"writing score\"]]"
   ]
  },
  {
   "cell_type": "code",
   "execution_count": 23,
   "metadata": {
    "scrolled": true
   },
   "outputs": [
    {
     "data": {
      "text/html": [
       "<style  type=\"text/css\" >\n",
       "    #T_f2aa76b4_34db_11eb_82d7_bc542fc4f43brow0_col0 {\n",
       "            background-color:  #fff7fb;\n",
       "            color:  #000000;\n",
       "        }    #T_f2aa76b4_34db_11eb_82d7_bc542fc4f43brow0_col1 {\n",
       "            background-color:  #fff7fb;\n",
       "            color:  #000000;\n",
       "        }    #T_f2aa76b4_34db_11eb_82d7_bc542fc4f43brow0_col2 {\n",
       "            background-color:  #fff7fb;\n",
       "            color:  #000000;\n",
       "        }    #T_f2aa76b4_34db_11eb_82d7_bc542fc4f43brow1_col0 {\n",
       "            background-color:  #e7e3f0;\n",
       "            color:  #000000;\n",
       "        }    #T_f2aa76b4_34db_11eb_82d7_bc542fc4f43brow1_col1 {\n",
       "            background-color:  #b8c6e0;\n",
       "            color:  #000000;\n",
       "        }    #T_f2aa76b4_34db_11eb_82d7_bc542fc4f43brow1_col2 {\n",
       "            background-color:  #b4c4df;\n",
       "            color:  #000000;\n",
       "        }    #T_f2aa76b4_34db_11eb_82d7_bc542fc4f43brow2_col0 {\n",
       "            background-color:  #d4d4e8;\n",
       "            color:  #000000;\n",
       "        }    #T_f2aa76b4_34db_11eb_82d7_bc542fc4f43brow2_col1 {\n",
       "            background-color:  #65a3cb;\n",
       "            color:  #000000;\n",
       "        }    #T_f2aa76b4_34db_11eb_82d7_bc542fc4f43brow2_col2 {\n",
       "            background-color:  #4697c4;\n",
       "            color:  #000000;\n",
       "        }    #T_f2aa76b4_34db_11eb_82d7_bc542fc4f43brow3_col0 {\n",
       "            background-color:  #80aed2;\n",
       "            color:  #000000;\n",
       "        }    #T_f2aa76b4_34db_11eb_82d7_bc542fc4f43brow3_col1 {\n",
       "            background-color:  #2f8bbe;\n",
       "            color:  #000000;\n",
       "        }    #T_f2aa76b4_34db_11eb_82d7_bc542fc4f43brow3_col2 {\n",
       "            background-color:  #045d92;\n",
       "            color:  #f1f1f1;\n",
       "        }    #T_f2aa76b4_34db_11eb_82d7_bc542fc4f43brow4_col0 {\n",
       "            background-color:  #023858;\n",
       "            color:  #f1f1f1;\n",
       "        }    #T_f2aa76b4_34db_11eb_82d7_bc542fc4f43brow4_col1 {\n",
       "            background-color:  #023858;\n",
       "            color:  #f1f1f1;\n",
       "        }    #T_f2aa76b4_34db_11eb_82d7_bc542fc4f43brow4_col2 {\n",
       "            background-color:  #023858;\n",
       "            color:  #f1f1f1;\n",
       "        }</style><table id=\"T_f2aa76b4_34db_11eb_82d7_bc542fc4f43b\" ><thead>    <tr>        <th class=\"blank level0\" ></th>        <th class=\"col_heading level0 col0\" >math score</th>        <th class=\"col_heading level0 col1\" >reading score</th>        <th class=\"col_heading level0 col2\" >writing score</th>    </tr>    <tr>        <th class=\"index_name level0\" >race/ethnicity</th>        <th class=\"blank\" ></th>        <th class=\"blank\" ></th>        <th class=\"blank\" ></th>    </tr></thead><tbody>\n",
       "                <tr>\n",
       "                        <th id=\"T_f2aa76b4_34db_11eb_82d7_bc542fc4f43blevel0_row0\" class=\"row_heading level0 row0\" >group A</th>\n",
       "                        <td id=\"T_f2aa76b4_34db_11eb_82d7_bc542fc4f43brow0_col0\" class=\"data row0 col0\" >61.629213</td>\n",
       "                        <td id=\"T_f2aa76b4_34db_11eb_82d7_bc542fc4f43brow0_col1\" class=\"data row0 col1\" >64.674157</td>\n",
       "                        <td id=\"T_f2aa76b4_34db_11eb_82d7_bc542fc4f43brow0_col2\" class=\"data row0 col2\" >62.674157</td>\n",
       "            </tr>\n",
       "            <tr>\n",
       "                        <th id=\"T_f2aa76b4_34db_11eb_82d7_bc542fc4f43blevel0_row1\" class=\"row_heading level0 row1\" >group B</th>\n",
       "                        <td id=\"T_f2aa76b4_34db_11eb_82d7_bc542fc4f43brow1_col0\" class=\"data row1 col0\" >63.452632</td>\n",
       "                        <td id=\"T_f2aa76b4_34db_11eb_82d7_bc542fc4f43brow1_col1\" class=\"data row1 col1\" >67.352632</td>\n",
       "                        <td id=\"T_f2aa76b4_34db_11eb_82d7_bc542fc4f43brow1_col2\" class=\"data row1 col2\" >65.600000</td>\n",
       "            </tr>\n",
       "            <tr>\n",
       "                        <th id=\"T_f2aa76b4_34db_11eb_82d7_bc542fc4f43blevel0_row2\" class=\"row_heading level0 row2\" >group C</th>\n",
       "                        <td id=\"T_f2aa76b4_34db_11eb_82d7_bc542fc4f43brow2_col0\" class=\"data row2 col0\" >64.463950</td>\n",
       "                        <td id=\"T_f2aa76b4_34db_11eb_82d7_bc542fc4f43brow2_col1\" class=\"data row2 col1\" >69.103448</td>\n",
       "                        <td id=\"T_f2aa76b4_34db_11eb_82d7_bc542fc4f43brow2_col2\" class=\"data row2 col2\" >67.827586</td>\n",
       "            </tr>\n",
       "            <tr>\n",
       "                        <th id=\"T_f2aa76b4_34db_11eb_82d7_bc542fc4f43blevel0_row3\" class=\"row_heading level0 row3\" >group D</th>\n",
       "                        <td id=\"T_f2aa76b4_34db_11eb_82d7_bc542fc4f43brow3_col0\" class=\"data row3 col0\" >67.362595</td>\n",
       "                        <td id=\"T_f2aa76b4_34db_11eb_82d7_bc542fc4f43brow3_col1\" class=\"data row3 col1\" >70.030534</td>\n",
       "                        <td id=\"T_f2aa76b4_34db_11eb_82d7_bc542fc4f43brow3_col2\" class=\"data row3 col2\" >70.145038</td>\n",
       "            </tr>\n",
       "            <tr>\n",
       "                        <th id=\"T_f2aa76b4_34db_11eb_82d7_bc542fc4f43blevel0_row4\" class=\"row_heading level0 row4\" >group E</th>\n",
       "                        <td id=\"T_f2aa76b4_34db_11eb_82d7_bc542fc4f43brow4_col0\" class=\"data row4 col0\" >73.821429</td>\n",
       "                        <td id=\"T_f2aa76b4_34db_11eb_82d7_bc542fc4f43brow4_col1\" class=\"data row4 col1\" >73.028571</td>\n",
       "                        <td id=\"T_f2aa76b4_34db_11eb_82d7_bc542fc4f43brow4_col2\" class=\"data row4 col2\" >71.407143</td>\n",
       "            </tr>\n",
       "    </tbody></table>"
      ],
      "text/plain": [
       "<pandas.io.formats.style.Styler at 0x29c43cf47f0>"
      ]
     },
     "execution_count": 23,
     "metadata": {},
     "output_type": "execute_result"
    },
    {
     "data": {
      "application/javascript": [
       "\n",
       "            setTimeout(function() {\n",
       "                var nbb_cell_id = 23;\n",
       "                var nbb_unformatted_code = \"# check differences in mean by race\\nrace_df.groupby(\\\"race/ethnicity\\\").mean().style.background_gradient()\";\n",
       "                var nbb_formatted_code = \"# check differences in mean by race\\nrace_df.groupby(\\\"race/ethnicity\\\").mean().style.background_gradient()\";\n",
       "                var nbb_cells = Jupyter.notebook.get_cells();\n",
       "                for (var i = 0; i < nbb_cells.length; ++i) {\n",
       "                    if (nbb_cells[i].input_prompt_number == nbb_cell_id) {\n",
       "                        if (nbb_cells[i].get_text() == nbb_unformatted_code) {\n",
       "                             nbb_cells[i].set_text(nbb_formatted_code);\n",
       "                        }\n",
       "                        break;\n",
       "                    }\n",
       "                }\n",
       "            }, 500);\n",
       "            "
      ],
      "text/plain": [
       "<IPython.core.display.Javascript object>"
      ]
     },
     "metadata": {},
     "output_type": "display_data"
    },
    {
     "data": {
      "application/javascript": [
       "\n",
       "            setTimeout(function() {\n",
       "                var nbb_cell_id = 23;\n",
       "                var nbb_unformatted_code = \"# check differences in mean by race\\nrace_df.groupby(\\\"race/ethnicity\\\").mean().style.background_gradient()\";\n",
       "                var nbb_formatted_code = \"# check differences in mean by race\\nrace_df.groupby(\\\"race/ethnicity\\\").mean().style.background_gradient()\";\n",
       "                var nbb_cells = Jupyter.notebook.get_cells();\n",
       "                for (var i = 0; i < nbb_cells.length; ++i) {\n",
       "                    if (nbb_cells[i].input_prompt_number == nbb_cell_id) {\n",
       "                        if (nbb_cells[i].get_text() == nbb_unformatted_code) {\n",
       "                             nbb_cells[i].set_text(nbb_formatted_code);\n",
       "                        }\n",
       "                        break;\n",
       "                    }\n",
       "                }\n",
       "            }, 500);\n",
       "            "
      ],
      "text/plain": [
       "<IPython.core.display.Javascript object>"
      ]
     },
     "metadata": {},
     "output_type": "display_data"
    }
   ],
   "source": [
    "# check differences in mean by race\n",
    "race_df.groupby(\"race/ethnicity\").mean().style.background_gradient()\n"
   ]
  },
  {
   "cell_type": "code",
   "execution_count": 47,
   "metadata": {
    "scrolled": true
   },
   "outputs": [
    {
     "name": "stdout",
     "output_type": "stream",
     "text": [
      "------------------------------------------------\n",
      "Comparisons for variable: math score\n",
      "------------------------------------------------\n",
      "t-test groups group B and group D\n",
      "Ttest_indResult(statistic=-2.82845539712675, pvalue=0.004886197137104194)\n",
      "t-test groups group B and group E\n",
      "Ttest_indResult(statistic=-6.007397050552227, pvalue=5.007946047497971e-09)\n",
      "t-test groups group C and group D\n",
      "Ttest_indResult(statistic=-2.41858624746011, pvalue=0.015888349556016285)\n",
      "t-test groups group C and group E\n",
      "Ttest_indResult(statistic=-6.127642520822135, pvalue=1.927238849552764e-09)\n",
      "t-test groups group A and group D\n",
      "Ttest_indResult(statistic=-3.3466982429712298, pvalue=0.0009068636053543751)\n",
      "t-test groups group A and group E\n",
      "Ttest_indResult(statistic=-5.936141025544798, pvalue=1.083559122656415e-08)\n",
      "t-test groups group D and group E\n",
      "Ttest_indResult(statistic=-4.282287214674715, pvalue=2.3187640326715042e-05)\n",
      "------------------------------------------------\n",
      "Comparisons for variable: reading score\n",
      "------------------------------------------------\n",
      "t-test groups group B and group E\n",
      "Ttest_indResult(statistic=-3.386066945409153, pvalue=0.0007951618495240944)\n",
      "t-test groups group C and group A\n",
      "Ttest_indResult(statistic=2.575432218066352, pvalue=0.010364398025471079)\n",
      "t-test groups group C and group E\n",
      "Ttest_indResult(statistic=-2.7133018645371685, pvalue=0.0069132842804986595)\n",
      "t-test groups group A and group D\n",
      "Ttest_indResult(statistic=-3.0468548573461187, pvalue=0.002488654464332207)\n",
      "t-test groups group A and group E\n",
      "Ttest_indResult(statistic=-4.071106227981414, pvalue=6.463395931833847e-05)\n",
      "t-test groups group D and group E\n",
      "Ttest_indResult(statistic=-2.0106479406031794, pvalue=0.045033306431345586)\n",
      "------------------------------------------------\n",
      "Comparisons for variable: writing score\n",
      "------------------------------------------------\n",
      "t-test groups group B and group D\n",
      "Ttest_indResult(statistic=-3.19929333232526, pvalue=0.0014749978881319053)\n",
      "t-test groups group B and group E\n",
      "Ttest_indResult(statistic=-3.3831978345244518, pvalue=0.0008032300486353951)\n",
      "t-test groups group C and group A\n",
      "Ttest_indResult(statistic=2.848872404992454, pvalue=0.004610690740740428)\n",
      "t-test groups group C and group E\n",
      "Ttest_indResult(statistic=-2.3502811868359177, pvalue=0.019183539018898285)\n",
      "t-test groups group A and group D\n",
      "Ttest_indResult(statistic=-4.1556316361449195, pvalue=4.084805733969806e-05)\n",
      "t-test groups group A and group E\n",
      "Ttest_indResult(statistic=-4.2234736631970105, pvalue=3.483278064499439e-05)\n"
     ]
    },
    {
     "data": {
      "application/javascript": [
       "\n",
       "            setTimeout(function() {\n",
       "                var nbb_cell_id = 47;\n",
       "                var nbb_unformatted_code = \"# run t-tests between groups\\n# var for all race types\\nraces = df[\\\"race/ethnicity\\\"].unique()\\ngrouped_df = race_df.groupby(\\\"race/ethnicity\\\")\\nscores = [\\\"math score\\\", \\\"reading score\\\", \\\"writing score\\\"]\\n\\nfor score in scores:\\n    print(\\\"------------------------------------------------\\\")\\n    print(\\\"Comparisons for variable: {}\\\".format(score))\\n    print(\\\"------------------------------------------------\\\")\\n    for i in range(0, len(races)):\\n        for j in range(i + 1, len(races)):\\n            t, p = stats.ttest_ind(\\n                race_df[race_df[\\\"race/ethnicity\\\"] == races[i]][score],\\n                race_df[race_df[\\\"race/ethnicity\\\"] == races[j]][score],\\n            )\\n            if p < 0.05:\\n                print(\\\"t-test groups {0} and {1}\\\".format(races[i], races[j]))\\n                print(\\n                    stats.ttest_ind(\\n                        race_df[race_df[\\\"race/ethnicity\\\"] == races[i]][score],\\n                        race_df[race_df[\\\"race/ethnicity\\\"] == races[j]][score],\\n                    )\\n                )\";\n",
       "                var nbb_formatted_code = \"# run t-tests between groups\\n# var for all race types\\nraces = df[\\\"race/ethnicity\\\"].unique()\\ngrouped_df = race_df.groupby(\\\"race/ethnicity\\\")\\nscores = [\\\"math score\\\", \\\"reading score\\\", \\\"writing score\\\"]\\n\\nfor score in scores:\\n    print(\\\"------------------------------------------------\\\")\\n    print(\\\"Comparisons for variable: {}\\\".format(score))\\n    print(\\\"------------------------------------------------\\\")\\n    for i in range(0, len(races)):\\n        for j in range(i + 1, len(races)):\\n            t, p = stats.ttest_ind(\\n                race_df[race_df[\\\"race/ethnicity\\\"] == races[i]][score],\\n                race_df[race_df[\\\"race/ethnicity\\\"] == races[j]][score],\\n            )\\n            if p < 0.05:\\n                print(\\\"t-test groups {0} and {1}\\\".format(races[i], races[j]))\\n                print(\\n                    stats.ttest_ind(\\n                        race_df[race_df[\\\"race/ethnicity\\\"] == races[i]][score],\\n                        race_df[race_df[\\\"race/ethnicity\\\"] == races[j]][score],\\n                    )\\n                )\";\n",
       "                var nbb_cells = Jupyter.notebook.get_cells();\n",
       "                for (var i = 0; i < nbb_cells.length; ++i) {\n",
       "                    if (nbb_cells[i].input_prompt_number == nbb_cell_id) {\n",
       "                        if (nbb_cells[i].get_text() == nbb_unformatted_code) {\n",
       "                             nbb_cells[i].set_text(nbb_formatted_code);\n",
       "                        }\n",
       "                        break;\n",
       "                    }\n",
       "                }\n",
       "            }, 500);\n",
       "            "
      ],
      "text/plain": [
       "<IPython.core.display.Javascript object>"
      ]
     },
     "metadata": {},
     "output_type": "display_data"
    },
    {
     "data": {
      "application/javascript": [
       "\n",
       "            setTimeout(function() {\n",
       "                var nbb_cell_id = 47;\n",
       "                var nbb_unformatted_code = \"# run t-tests between groups\\n# var for all race types\\nraces = df[\\\"race/ethnicity\\\"].unique()\\ngrouped_df = race_df.groupby(\\\"race/ethnicity\\\")\\nscores = [\\\"math score\\\", \\\"reading score\\\", \\\"writing score\\\"]\\n\\nfor score in scores:\\n    print(\\\"------------------------------------------------\\\")\\n    print(\\\"Comparisons for variable: {}\\\".format(score))\\n    print(\\\"------------------------------------------------\\\")\\n    for i in range(0, len(races)):\\n        for j in range(i + 1, len(races)):\\n            t, p = stats.ttest_ind(\\n                race_df[race_df[\\\"race/ethnicity\\\"] == races[i]][score],\\n                race_df[race_df[\\\"race/ethnicity\\\"] == races[j]][score],\\n            )\\n            if p < 0.05:\\n                print(\\\"t-test groups {0} and {1}\\\".format(races[i], races[j]))\\n                print(\\n                    stats.ttest_ind(\\n                        race_df[race_df[\\\"race/ethnicity\\\"] == races[i]][score],\\n                        race_df[race_df[\\\"race/ethnicity\\\"] == races[j]][score],\\n                    )\\n                )\";\n",
       "                var nbb_formatted_code = \"# run t-tests between groups\\n# var for all race types\\nraces = df[\\\"race/ethnicity\\\"].unique()\\ngrouped_df = race_df.groupby(\\\"race/ethnicity\\\")\\nscores = [\\\"math score\\\", \\\"reading score\\\", \\\"writing score\\\"]\\n\\nfor score in scores:\\n    print(\\\"------------------------------------------------\\\")\\n    print(\\\"Comparisons for variable: {}\\\".format(score))\\n    print(\\\"------------------------------------------------\\\")\\n    for i in range(0, len(races)):\\n        for j in range(i + 1, len(races)):\\n            t, p = stats.ttest_ind(\\n                race_df[race_df[\\\"race/ethnicity\\\"] == races[i]][score],\\n                race_df[race_df[\\\"race/ethnicity\\\"] == races[j]][score],\\n            )\\n            if p < 0.05:\\n                print(\\\"t-test groups {0} and {1}\\\".format(races[i], races[j]))\\n                print(\\n                    stats.ttest_ind(\\n                        race_df[race_df[\\\"race/ethnicity\\\"] == races[i]][score],\\n                        race_df[race_df[\\\"race/ethnicity\\\"] == races[j]][score],\\n                    )\\n                )\";\n",
       "                var nbb_cells = Jupyter.notebook.get_cells();\n",
       "                for (var i = 0; i < nbb_cells.length; ++i) {\n",
       "                    if (nbb_cells[i].input_prompt_number == nbb_cell_id) {\n",
       "                        if (nbb_cells[i].get_text() == nbb_unformatted_code) {\n",
       "                             nbb_cells[i].set_text(nbb_formatted_code);\n",
       "                        }\n",
       "                        break;\n",
       "                    }\n",
       "                }\n",
       "            }, 500);\n",
       "            "
      ],
      "text/plain": [
       "<IPython.core.display.Javascript object>"
      ]
     },
     "metadata": {},
     "output_type": "display_data"
    }
   ],
   "source": [
    "# run t-tests between groups\n",
    "# var for all race types\n",
    "races = df[\"race/ethnicity\"].unique()\n",
    "grouped_df = race_df.groupby(\"race/ethnicity\")\n",
    "scores = [\"math score\", \"reading score\", \"writing score\"]\n",
    "\n",
    "for score in scores:\n",
    "    print(\"------------------------------------------------\")\n",
    "    print(\"Comparisons for variable: {}\".format(score))\n",
    "    print(\"------------------------------------------------\")\n",
    "    for i in range(0, len(races)):\n",
    "        for j in range(i + 1, len(races)):\n",
    "            t, p = stats.ttest_ind(\n",
    "                race_df[race_df[\"race/ethnicity\"] == races[i]][score],\n",
    "                race_df[race_df[\"race/ethnicity\"] == races[j]][score],\n",
    "            )\n",
    "            if p < 0.05:\n",
    "                print(\"t-test groups {0} and {1}\".format(races[i], races[j]))\n",
    "                print(\n",
    "                    stats.ttest_ind(\n",
    "                        race_df[race_df[\"race/ethnicity\"] == races[i]][score],\n",
    "                        race_df[race_df[\"race/ethnicity\"] == races[j]][score],\n",
    "                    )\n",
    "                )"
   ]
  },
  {
   "cell_type": "markdown",
   "metadata": {},
   "source": [
    "## Parental Education"
   ]
  },
  {
   "cell_type": "code",
   "execution_count": 39,
   "metadata": {},
   "outputs": [
    {
     "data": {
      "application/javascript": [
       "\n",
       "            setTimeout(function() {\n",
       "                var nbb_cell_id = 39;\n",
       "                var nbb_unformatted_code = \"parent_df = df[[\\\"parental level of education\\\", \\\"math score\\\", \\\"reading score\\\", \\\"writing score\\\"]]\";\n",
       "                var nbb_formatted_code = \"parent_df = df[\\n    [\\\"parental level of education\\\", \\\"math score\\\", \\\"reading score\\\", \\\"writing score\\\"]\\n]\";\n",
       "                var nbb_cells = Jupyter.notebook.get_cells();\n",
       "                for (var i = 0; i < nbb_cells.length; ++i) {\n",
       "                    if (nbb_cells[i].input_prompt_number == nbb_cell_id) {\n",
       "                        if (nbb_cells[i].get_text() == nbb_unformatted_code) {\n",
       "                             nbb_cells[i].set_text(nbb_formatted_code);\n",
       "                        }\n",
       "                        break;\n",
       "                    }\n",
       "                }\n",
       "            }, 500);\n",
       "            "
      ],
      "text/plain": [
       "<IPython.core.display.Javascript object>"
      ]
     },
     "metadata": {},
     "output_type": "display_data"
    },
    {
     "data": {
      "application/javascript": [
       "\n",
       "            setTimeout(function() {\n",
       "                var nbb_cell_id = 39;\n",
       "                var nbb_unformatted_code = \"parent_df = df[[\\\"parental level of education\\\", \\\"math score\\\", \\\"reading score\\\", \\\"writing score\\\"]]\";\n",
       "                var nbb_formatted_code = \"parent_df = df[\\n    [\\\"parental level of education\\\", \\\"math score\\\", \\\"reading score\\\", \\\"writing score\\\"]\\n]\";\n",
       "                var nbb_cells = Jupyter.notebook.get_cells();\n",
       "                for (var i = 0; i < nbb_cells.length; ++i) {\n",
       "                    if (nbb_cells[i].input_prompt_number == nbb_cell_id) {\n",
       "                        if (nbb_cells[i].get_text() == nbb_unformatted_code) {\n",
       "                             nbb_cells[i].set_text(nbb_formatted_code);\n",
       "                        }\n",
       "                        break;\n",
       "                    }\n",
       "                }\n",
       "            }, 500);\n",
       "            "
      ],
      "text/plain": [
       "<IPython.core.display.Javascript object>"
      ]
     },
     "metadata": {},
     "output_type": "display_data"
    }
   ],
   "source": [
    "parent_df = df[\n",
    "    [\"parental level of education\", \"math score\", \"reading score\", \"writing score\"]\n",
    "]"
   ]
  },
  {
   "cell_type": "code",
   "execution_count": 35,
   "metadata": {},
   "outputs": [
    {
     "data": {
      "text/html": [
       "<style  type=\"text/css\" >\n",
       "    #T_7b7e0f96_34e0_11eb_8ca5_bc542fc4f43brow0_col0 {\n",
       "            background-color:  #056fae;\n",
       "            color:  #f1f1f1;\n",
       "        }    #T_7b7e0f96_34e0_11eb_8ca5_bc542fc4f43brow0_col1 {\n",
       "            background-color:  #4a98c5;\n",
       "            color:  #000000;\n",
       "        }    #T_7b7e0f96_34e0_11eb_8ca5_bc542fc4f43brow0_col2 {\n",
       "            background-color:  #549cc7;\n",
       "            color:  #000000;\n",
       "        }    #T_7b7e0f96_34e0_11eb_8ca5_bc542fc4f43brow1_col0 {\n",
       "            background-color:  #03446a;\n",
       "            color:  #f1f1f1;\n",
       "        }    #T_7b7e0f96_34e0_11eb_8ca5_bc542fc4f43brow1_col1 {\n",
       "            background-color:  #056ba7;\n",
       "            color:  #f1f1f1;\n",
       "        }    #T_7b7e0f96_34e0_11eb_8ca5_bc542fc4f43brow1_col2 {\n",
       "            background-color:  #04629a;\n",
       "            color:  #f1f1f1;\n",
       "        }    #T_7b7e0f96_34e0_11eb_8ca5_bc542fc4f43brow2_col0 {\n",
       "            background-color:  #fff7fb;\n",
       "            color:  #000000;\n",
       "        }    #T_7b7e0f96_34e0_11eb_8ca5_bc542fc4f43brow2_col1 {\n",
       "            background-color:  #fff7fb;\n",
       "            color:  #000000;\n",
       "        }    #T_7b7e0f96_34e0_11eb_8ca5_bc542fc4f43brow2_col2 {\n",
       "            background-color:  #fff7fb;\n",
       "            color:  #000000;\n",
       "        }    #T_7b7e0f96_34e0_11eb_8ca5_bc542fc4f43brow3_col0 {\n",
       "            background-color:  #023858;\n",
       "            color:  #f1f1f1;\n",
       "        }    #T_7b7e0f96_34e0_11eb_8ca5_bc542fc4f43brow3_col1 {\n",
       "            background-color:  #023858;\n",
       "            color:  #f1f1f1;\n",
       "        }    #T_7b7e0f96_34e0_11eb_8ca5_bc542fc4f43brow3_col2 {\n",
       "            background-color:  #023858;\n",
       "            color:  #f1f1f1;\n",
       "        }    #T_7b7e0f96_34e0_11eb_8ca5_bc542fc4f43brow4_col0 {\n",
       "            background-color:  #2a88bc;\n",
       "            color:  #000000;\n",
       "        }    #T_7b7e0f96_34e0_11eb_8ca5_bc542fc4f43brow4_col1 {\n",
       "            background-color:  #89b1d4;\n",
       "            color:  #000000;\n",
       "        }    #T_7b7e0f96_34e0_11eb_8ca5_bc542fc4f43brow4_col2 {\n",
       "            background-color:  #7bacd1;\n",
       "            color:  #000000;\n",
       "        }    #T_7b7e0f96_34e0_11eb_8ca5_bc542fc4f43brow5_col0 {\n",
       "            background-color:  #e0deed;\n",
       "            color:  #000000;\n",
       "        }    #T_7b7e0f96_34e0_11eb_8ca5_bc542fc4f43brow5_col1 {\n",
       "            background-color:  #d9d8ea;\n",
       "            color:  #000000;\n",
       "        }    #T_7b7e0f96_34e0_11eb_8ca5_bc542fc4f43brow5_col2 {\n",
       "            background-color:  #dfddec;\n",
       "            color:  #000000;\n",
       "        }</style><table id=\"T_7b7e0f96_34e0_11eb_8ca5_bc542fc4f43b\" ><thead>    <tr>        <th class=\"blank level0\" ></th>        <th class=\"col_heading level0 col0\" >math score</th>        <th class=\"col_heading level0 col1\" >reading score</th>        <th class=\"col_heading level0 col2\" >writing score</th>    </tr>    <tr>        <th class=\"index_name level0\" >parental level of education</th>        <th class=\"blank\" ></th>        <th class=\"blank\" ></th>        <th class=\"blank\" ></th>    </tr></thead><tbody>\n",
       "                <tr>\n",
       "                        <th id=\"T_7b7e0f96_34e0_11eb_8ca5_bc542fc4f43blevel0_row0\" class=\"row_heading level0 row0\" >associate's degree</th>\n",
       "                        <td id=\"T_7b7e0f96_34e0_11eb_8ca5_bc542fc4f43brow0_col0\" class=\"data row0 col0\" >67.882883</td>\n",
       "                        <td id=\"T_7b7e0f96_34e0_11eb_8ca5_bc542fc4f43brow0_col1\" class=\"data row0 col1\" >70.927928</td>\n",
       "                        <td id=\"T_7b7e0f96_34e0_11eb_8ca5_bc542fc4f43brow0_col2\" class=\"data row0 col2\" >69.896396</td>\n",
       "            </tr>\n",
       "            <tr>\n",
       "                        <th id=\"T_7b7e0f96_34e0_11eb_8ca5_bc542fc4f43blevel0_row1\" class=\"row_heading level0 row1\" >bachelor's degree</th>\n",
       "                        <td id=\"T_7b7e0f96_34e0_11eb_8ca5_bc542fc4f43brow1_col0\" class=\"data row1 col0\" >69.389831</td>\n",
       "                        <td id=\"T_7b7e0f96_34e0_11eb_8ca5_bc542fc4f43brow1_col1\" class=\"data row1 col1\" >73.000000</td>\n",
       "                        <td id=\"T_7b7e0f96_34e0_11eb_8ca5_bc542fc4f43brow1_col2\" class=\"data row1 col2\" >73.381356</td>\n",
       "            </tr>\n",
       "            <tr>\n",
       "                        <th id=\"T_7b7e0f96_34e0_11eb_8ca5_bc542fc4f43blevel0_row2\" class=\"row_heading level0 row2\" >high school</th>\n",
       "                        <td id=\"T_7b7e0f96_34e0_11eb_8ca5_bc542fc4f43brow2_col0\" class=\"data row2 col0\" >62.137755</td>\n",
       "                        <td id=\"T_7b7e0f96_34e0_11eb_8ca5_bc542fc4f43brow2_col1\" class=\"data row2 col1\" >64.704082</td>\n",
       "                        <td id=\"T_7b7e0f96_34e0_11eb_8ca5_bc542fc4f43brow2_col2\" class=\"data row2 col2\" >62.448980</td>\n",
       "            </tr>\n",
       "            <tr>\n",
       "                        <th id=\"T_7b7e0f96_34e0_11eb_8ca5_bc542fc4f43blevel0_row3\" class=\"row_heading level0 row3\" >master's degree</th>\n",
       "                        <td id=\"T_7b7e0f96_34e0_11eb_8ca5_bc542fc4f43brow3_col0\" class=\"data row3 col0\" >69.745763</td>\n",
       "                        <td id=\"T_7b7e0f96_34e0_11eb_8ca5_bc542fc4f43brow3_col1\" class=\"data row3 col1\" >75.372881</td>\n",
       "                        <td id=\"T_7b7e0f96_34e0_11eb_8ca5_bc542fc4f43brow3_col2\" class=\"data row3 col2\" >75.677966</td>\n",
       "            </tr>\n",
       "            <tr>\n",
       "                        <th id=\"T_7b7e0f96_34e0_11eb_8ca5_bc542fc4f43blevel0_row4\" class=\"row_heading level0 row4\" >some college</th>\n",
       "                        <td id=\"T_7b7e0f96_34e0_11eb_8ca5_bc542fc4f43brow4_col0\" class=\"data row4 col0\" >67.128319</td>\n",
       "                        <td id=\"T_7b7e0f96_34e0_11eb_8ca5_bc542fc4f43brow4_col1\" class=\"data row4 col1\" >69.460177</td>\n",
       "                        <td id=\"T_7b7e0f96_34e0_11eb_8ca5_bc542fc4f43brow4_col2\" class=\"data row4 col2\" >68.840708</td>\n",
       "            </tr>\n",
       "            <tr>\n",
       "                        <th id=\"T_7b7e0f96_34e0_11eb_8ca5_bc542fc4f43blevel0_row5\" class=\"row_heading level0 row5\" >some high school</th>\n",
       "                        <td id=\"T_7b7e0f96_34e0_11eb_8ca5_bc542fc4f43brow5_col0\" class=\"data row5 col0\" >63.497207</td>\n",
       "                        <td id=\"T_7b7e0f96_34e0_11eb_8ca5_bc542fc4f43brow5_col1\" class=\"data row5 col1\" >66.938547</td>\n",
       "                        <td id=\"T_7b7e0f96_34e0_11eb_8ca5_bc542fc4f43brow5_col2\" class=\"data row5 col2\" >64.888268</td>\n",
       "            </tr>\n",
       "    </tbody></table>"
      ],
      "text/plain": [
       "<pandas.io.formats.style.Styler at 0x29c3fd30820>"
      ]
     },
     "execution_count": 35,
     "metadata": {},
     "output_type": "execute_result"
    },
    {
     "data": {
      "application/javascript": [
       "\n",
       "            setTimeout(function() {\n",
       "                var nbb_cell_id = 35;\n",
       "                var nbb_unformatted_code = \"df.groupby(\\\"parental level of education\\\").mean()[\\n    [\\\"math score\\\", \\\"reading score\\\", \\\"writing score\\\"]\\n].style.background_gradient()\";\n",
       "                var nbb_formatted_code = \"df.groupby(\\\"parental level of education\\\").mean()[\\n    [\\\"math score\\\", \\\"reading score\\\", \\\"writing score\\\"]\\n].style.background_gradient()\";\n",
       "                var nbb_cells = Jupyter.notebook.get_cells();\n",
       "                for (var i = 0; i < nbb_cells.length; ++i) {\n",
       "                    if (nbb_cells[i].input_prompt_number == nbb_cell_id) {\n",
       "                        if (nbb_cells[i].get_text() == nbb_unformatted_code) {\n",
       "                             nbb_cells[i].set_text(nbb_formatted_code);\n",
       "                        }\n",
       "                        break;\n",
       "                    }\n",
       "                }\n",
       "            }, 500);\n",
       "            "
      ],
      "text/plain": [
       "<IPython.core.display.Javascript object>"
      ]
     },
     "metadata": {},
     "output_type": "display_data"
    },
    {
     "data": {
      "application/javascript": [
       "\n",
       "            setTimeout(function() {\n",
       "                var nbb_cell_id = 35;\n",
       "                var nbb_unformatted_code = \"df.groupby(\\\"parental level of education\\\").mean()[\\n    [\\\"math score\\\", \\\"reading score\\\", \\\"writing score\\\"]\\n].style.background_gradient()\";\n",
       "                var nbb_formatted_code = \"df.groupby(\\\"parental level of education\\\").mean()[\\n    [\\\"math score\\\", \\\"reading score\\\", \\\"writing score\\\"]\\n].style.background_gradient()\";\n",
       "                var nbb_cells = Jupyter.notebook.get_cells();\n",
       "                for (var i = 0; i < nbb_cells.length; ++i) {\n",
       "                    if (nbb_cells[i].input_prompt_number == nbb_cell_id) {\n",
       "                        if (nbb_cells[i].get_text() == nbb_unformatted_code) {\n",
       "                             nbb_cells[i].set_text(nbb_formatted_code);\n",
       "                        }\n",
       "                        break;\n",
       "                    }\n",
       "                }\n",
       "            }, 500);\n",
       "            "
      ],
      "text/plain": [
       "<IPython.core.display.Javascript object>"
      ]
     },
     "metadata": {},
     "output_type": "display_data"
    }
   ],
   "source": [
    "df.groupby(\"parental level of education\").mean()[\n",
    "    [\"math score\", \"reading score\", \"writing score\"]\n",
    "].style.background_gradient()"
   ]
  },
  {
   "cell_type": "code",
   "execution_count": 44,
   "metadata": {
    "scrolled": true
   },
   "outputs": [
    {
     "name": "stdout",
     "output_type": "stream",
     "text": [
      "------------------------------------------------\n",
      "Comparisons for variable: math score\n",
      "------------------------------------------------\n",
      "t-test groups bachelor's degree and high school\n",
      "Ttest_indResult(statistic=4.236143622484822, pvalue=2.9965345853843376e-05)\n",
      "t-test groups bachelor's degree and some high school\n",
      "Ttest_indResult(statistic=3.196718602676573, pvalue=0.0015409192922812146)\n",
      "t-test groups some college and high school\n",
      "Ttest_indResult(statistic=3.5461079495681163, pvalue=0.00043498004192453146)\n",
      "t-test groups some college and some high school\n",
      "Ttest_indResult(statistic=2.4117046231407633, pvalue=0.016324361572645503)\n",
      "t-test groups master's degree and high school\n",
      "Ttest_indResult(statistic=3.4893759321890823, pvalue=0.000570929230228812)\n",
      "t-test groups master's degree and some high school\n",
      "Ttest_indResult(statistic=2.6442572081925526, pvalue=0.008736228790471057)\n",
      "t-test groups associate's degree and high school\n",
      "Ttest_indResult(statistic=3.9481325318265013, pvalue=9.247314274963044e-05)\n",
      "t-test groups associate's degree and some high school\n",
      "Ttest_indResult(statistic=2.820053979930256, pvalue=0.005041081492906143)\n",
      "------------------------------------------------\n",
      "Comparisons for variable: reading score\n",
      "------------------------------------------------\n",
      "t-test groups bachelor's degree and some college\n",
      "Ttest_indResult(statistic=2.2048821209085077, pvalue=0.028127555314401052)\n",
      "t-test groups bachelor's degree and high school\n",
      "Ttest_indResult(statistic=5.017577900835298, pvalue=8.804250310784477e-07)\n",
      "t-test groups bachelor's degree and some high school\n",
      "Ttest_indResult(statistic=3.4039270673798745, pvalue=0.0007561971719730451)\n",
      "t-test groups some college and master's degree\n",
      "Ttest_indResult(statistic=-2.888843374950649, pvalue=0.004165440800640354)\n",
      "t-test groups some college and high school\n",
      "Ttest_indResult(statistic=3.4578427683620334, pvalue=0.0006001048481252139)\n",
      "t-test groups master's degree and associate's degree\n",
      "Ttest_indResult(statistic=2.1912015759838686, pvalue=0.02926414570972208)\n",
      "t-test groups master's degree and high school\n",
      "Ttest_indResult(statistic=5.113158728723477, pvalue=6.257558119816884e-07)\n",
      "t-test groups master's degree and some high school\n",
      "Ttest_indResult(statistic=3.7261574122231513, pvalue=0.00024334552617191513)\n",
      "t-test groups associate's degree and high school\n",
      "Ttest_indResult(statistic=4.538021419898997, pvalue=7.442167797135797e-06)\n",
      "t-test groups associate's degree and some high school\n",
      "Ttest_indResult(statistic=2.7183602204037927, pvalue=0.006846770119677965)\n",
      "------------------------------------------------\n",
      "Comparisons for variable: writing score\n",
      "------------------------------------------------\n",
      "t-test groups bachelor's degree and some college\n",
      "Ttest_indResult(statistic=2.6803314684632196, pvalue=0.00771101202367254)\n",
      "t-test groups bachelor's degree and associate's degree\n",
      "Ttest_indResult(statistic=2.1159296639133762, pvalue=0.03508162451719667)\n",
      "t-test groups bachelor's degree and high school\n",
      "Ttest_indResult(statistic=6.547380937127048, pvalue=2.4076253789515874e-10)\n",
      "t-test groups bachelor's degree and some high school\n",
      "Ttest_indResult(statistic=4.667733097498242, pvalue=4.628198526834338e-06)\n",
      "t-test groups some college and master's degree\n",
      "Ttest_indResult(statistic=-3.1687690632394907, pvalue=0.0016985933135959495)\n",
      "t-test groups some college and high school\n",
      "Ttest_indResult(statistic=4.488520877492127, pvalue=9.275017802620877e-06)\n",
      "t-test groups some college and some high school\n",
      "Ttest_indResult(statistic=2.5757211403792417, pvalue=0.01035852908608136)\n",
      "t-test groups master's degree and associate's degree\n",
      "Ttest_indResult(statistic=2.78124154906855, pvalue=0.00578403270525775)\n",
      "t-test groups master's degree and high school\n",
      "Ttest_indResult(statistic=6.360904883721531, pvalue=9.326930296880332e-10)\n",
      "t-test groups master's degree and some high school\n",
      "Ttest_indResult(statistic=4.707583817143559, pvalue=4.275465153074631e-06)\n",
      "t-test groups associate's degree and high school\n",
      "Ttest_indResult(statistic=5.348725635626432, pvalue=1.4650545536741998e-07)\n",
      "t-test groups associate's degree and some high school\n",
      "Ttest_indResult(statistic=3.3317223453475715, pvalue=0.0009435990258795855)\n"
     ]
    },
    {
     "data": {
      "application/javascript": [
       "\n",
       "            setTimeout(function() {\n",
       "                var nbb_cell_id = 44;\n",
       "                var nbb_unformatted_code = \"# run t-tests between groups\\n# var for all race types\\nparent_ed = df[\\\"parental level of education\\\"].unique()\\ngrouped_df = parent_df.groupby(\\\"parental level of education\\\")\\nscores = [\\\"math score\\\", \\\"reading score\\\", \\\"writing score\\\"]\\n\\nfor score in scores:\\n    print(\\\"------------------------------------------------\\\")\\n    print(\\\"Comparisons for variable: {}\\\".format(score))\\n    print(\\\"------------------------------------------------\\\")\\n    for i in range(0, len(parent_ed)):\\n        for j in range(i + 1, len(parent_ed)):\\n            t, p = stats.ttest_ind(\\n                    parent_df[parent_df[\\\"parental level of education\\\"] == parent_ed[i]][\\n                        score\\n                    ],\\n                    parent_df[parent_df[\\\"parental level of education\\\"] == parent_ed[j]][\\n                        score\\n                    ])\\n            if p < 0.05:\\n                print(\\\"t-test groups {0} and {1}\\\".format(parent_ed[i], parent_ed[j]))\\n                print(\\n                    stats.ttest_ind(\\n                        parent_df[parent_df[\\\"parental level of education\\\"] == parent_ed[i]][\\n                            score\\n                        ],\\n                        parent_df[parent_df[\\\"parental level of education\\\"] == parent_ed[j]][\\n                            score\\n                        ],\\n                    )\\n            )\";\n",
       "                var nbb_formatted_code = \"# run t-tests between groups\\n# var for all race types\\nparent_ed = df[\\\"parental level of education\\\"].unique()\\ngrouped_df = parent_df.groupby(\\\"parental level of education\\\")\\nscores = [\\\"math score\\\", \\\"reading score\\\", \\\"writing score\\\"]\\n\\nfor score in scores:\\n    print(\\\"------------------------------------------------\\\")\\n    print(\\\"Comparisons for variable: {}\\\".format(score))\\n    print(\\\"------------------------------------------------\\\")\\n    for i in range(0, len(parent_ed)):\\n        for j in range(i + 1, len(parent_ed)):\\n            t, p = stats.ttest_ind(\\n                parent_df[parent_df[\\\"parental level of education\\\"] == parent_ed[i]][\\n                    score\\n                ],\\n                parent_df[parent_df[\\\"parental level of education\\\"] == parent_ed[j]][\\n                    score\\n                ],\\n            )\\n            if p < 0.05:\\n                print(\\\"t-test groups {0} and {1}\\\".format(parent_ed[i], parent_ed[j]))\\n                print(\\n                    stats.ttest_ind(\\n                        parent_df[\\n                            parent_df[\\\"parental level of education\\\"] == parent_ed[i]\\n                        ][score],\\n                        parent_df[\\n                            parent_df[\\\"parental level of education\\\"] == parent_ed[j]\\n                        ][score],\\n                    )\\n                )\";\n",
       "                var nbb_cells = Jupyter.notebook.get_cells();\n",
       "                for (var i = 0; i < nbb_cells.length; ++i) {\n",
       "                    if (nbb_cells[i].input_prompt_number == nbb_cell_id) {\n",
       "                        if (nbb_cells[i].get_text() == nbb_unformatted_code) {\n",
       "                             nbb_cells[i].set_text(nbb_formatted_code);\n",
       "                        }\n",
       "                        break;\n",
       "                    }\n",
       "                }\n",
       "            }, 500);\n",
       "            "
      ],
      "text/plain": [
       "<IPython.core.display.Javascript object>"
      ]
     },
     "metadata": {},
     "output_type": "display_data"
    },
    {
     "data": {
      "application/javascript": [
       "\n",
       "            setTimeout(function() {\n",
       "                var nbb_cell_id = 44;\n",
       "                var nbb_unformatted_code = \"# run t-tests between groups\\n# var for all race types\\nparent_ed = df[\\\"parental level of education\\\"].unique()\\ngrouped_df = parent_df.groupby(\\\"parental level of education\\\")\\nscores = [\\\"math score\\\", \\\"reading score\\\", \\\"writing score\\\"]\\n\\nfor score in scores:\\n    print(\\\"------------------------------------------------\\\")\\n    print(\\\"Comparisons for variable: {}\\\".format(score))\\n    print(\\\"------------------------------------------------\\\")\\n    for i in range(0, len(parent_ed)):\\n        for j in range(i + 1, len(parent_ed)):\\n            t, p = stats.ttest_ind(\\n                    parent_df[parent_df[\\\"parental level of education\\\"] == parent_ed[i]][\\n                        score\\n                    ],\\n                    parent_df[parent_df[\\\"parental level of education\\\"] == parent_ed[j]][\\n                        score\\n                    ])\\n            if p < 0.05:\\n                print(\\\"t-test groups {0} and {1}\\\".format(parent_ed[i], parent_ed[j]))\\n                print(\\n                    stats.ttest_ind(\\n                        parent_df[parent_df[\\\"parental level of education\\\"] == parent_ed[i]][\\n                            score\\n                        ],\\n                        parent_df[parent_df[\\\"parental level of education\\\"] == parent_ed[j]][\\n                            score\\n                        ],\\n                    )\\n            )\";\n",
       "                var nbb_formatted_code = \"# run t-tests between groups\\n# var for all race types\\nparent_ed = df[\\\"parental level of education\\\"].unique()\\ngrouped_df = parent_df.groupby(\\\"parental level of education\\\")\\nscores = [\\\"math score\\\", \\\"reading score\\\", \\\"writing score\\\"]\\n\\nfor score in scores:\\n    print(\\\"------------------------------------------------\\\")\\n    print(\\\"Comparisons for variable: {}\\\".format(score))\\n    print(\\\"------------------------------------------------\\\")\\n    for i in range(0, len(parent_ed)):\\n        for j in range(i + 1, len(parent_ed)):\\n            t, p = stats.ttest_ind(\\n                parent_df[parent_df[\\\"parental level of education\\\"] == parent_ed[i]][\\n                    score\\n                ],\\n                parent_df[parent_df[\\\"parental level of education\\\"] == parent_ed[j]][\\n                    score\\n                ],\\n            )\\n            if p < 0.05:\\n                print(\\\"t-test groups {0} and {1}\\\".format(parent_ed[i], parent_ed[j]))\\n                print(\\n                    stats.ttest_ind(\\n                        parent_df[\\n                            parent_df[\\\"parental level of education\\\"] == parent_ed[i]\\n                        ][score],\\n                        parent_df[\\n                            parent_df[\\\"parental level of education\\\"] == parent_ed[j]\\n                        ][score],\\n                    )\\n                )\";\n",
       "                var nbb_cells = Jupyter.notebook.get_cells();\n",
       "                for (var i = 0; i < nbb_cells.length; ++i) {\n",
       "                    if (nbb_cells[i].input_prompt_number == nbb_cell_id) {\n",
       "                        if (nbb_cells[i].get_text() == nbb_unformatted_code) {\n",
       "                             nbb_cells[i].set_text(nbb_formatted_code);\n",
       "                        }\n",
       "                        break;\n",
       "                    }\n",
       "                }\n",
       "            }, 500);\n",
       "            "
      ],
      "text/plain": [
       "<IPython.core.display.Javascript object>"
      ]
     },
     "metadata": {},
     "output_type": "display_data"
    }
   ],
   "source": [
    "# run t-tests between groups\n",
    "# var for all race types\n",
    "parent_ed = df[\"parental level of education\"].unique()\n",
    "grouped_df = parent_df.groupby(\"parental level of education\")\n",
    "scores = [\"math score\", \"reading score\", \"writing score\"]\n",
    "\n",
    "for score in scores:\n",
    "    print(\"------------------------------------------------\")\n",
    "    print(\"Comparisons for variable: {}\".format(score))\n",
    "    print(\"------------------------------------------------\")\n",
    "    for i in range(0, len(parent_ed)):\n",
    "        for j in range(i + 1, len(parent_ed)):\n",
    "            t, p = stats.ttest_ind(\n",
    "                parent_df[parent_df[\"parental level of education\"] == parent_ed[i]][\n",
    "                    score\n",
    "                ],\n",
    "                parent_df[parent_df[\"parental level of education\"] == parent_ed[j]][\n",
    "                    score\n",
    "                ],\n",
    "            )\n",
    "            if p < 0.05:\n",
    "                print(\"t-test groups {0} and {1}\".format(parent_ed[i], parent_ed[j]))\n",
    "                print(\n",
    "                    stats.ttest_ind(\n",
    "                        parent_df[\n",
    "                            parent_df[\"parental level of education\"] == parent_ed[i]\n",
    "                        ][score],\n",
    "                        parent_df[\n",
    "                            parent_df[\"parental level of education\"] == parent_ed[j]\n",
    "                        ][score],\n",
    "                    )\n",
    "                )"
   ]
  },
  {
   "cell_type": "markdown",
   "metadata": {},
   "source": [
    "# Does the test preparation course seem to have an effect on the exam performances?"
   ]
  },
  {
   "cell_type": "code",
   "execution_count": 49,
   "metadata": {
    "scrolled": true
   },
   "outputs": [
    {
     "data": {
      "application/javascript": [
       "\n",
       "            setTimeout(function() {\n",
       "                var nbb_cell_id = 49;\n",
       "                var nbb_unformatted_code = \"prep_df = df[[\\\"test preparation course\\\", \\\"math score\\\", \\\"reading score\\\", \\\"writing score\\\"]]\";\n",
       "                var nbb_formatted_code = \"prep_df = df[\\n    [\\\"test preparation course\\\", \\\"math score\\\", \\\"reading score\\\", \\\"writing score\\\"]\\n]\";\n",
       "                var nbb_cells = Jupyter.notebook.get_cells();\n",
       "                for (var i = 0; i < nbb_cells.length; ++i) {\n",
       "                    if (nbb_cells[i].input_prompt_number == nbb_cell_id) {\n",
       "                        if (nbb_cells[i].get_text() == nbb_unformatted_code) {\n",
       "                             nbb_cells[i].set_text(nbb_formatted_code);\n",
       "                        }\n",
       "                        break;\n",
       "                    }\n",
       "                }\n",
       "            }, 500);\n",
       "            "
      ],
      "text/plain": [
       "<IPython.core.display.Javascript object>"
      ]
     },
     "metadata": {},
     "output_type": "display_data"
    },
    {
     "data": {
      "application/javascript": [
       "\n",
       "            setTimeout(function() {\n",
       "                var nbb_cell_id = 49;\n",
       "                var nbb_unformatted_code = \"prep_df = df[[\\\"test preparation course\\\", \\\"math score\\\", \\\"reading score\\\", \\\"writing score\\\"]]\";\n",
       "                var nbb_formatted_code = \"prep_df = df[\\n    [\\\"test preparation course\\\", \\\"math score\\\", \\\"reading score\\\", \\\"writing score\\\"]\\n]\";\n",
       "                var nbb_cells = Jupyter.notebook.get_cells();\n",
       "                for (var i = 0; i < nbb_cells.length; ++i) {\n",
       "                    if (nbb_cells[i].input_prompt_number == nbb_cell_id) {\n",
       "                        if (nbb_cells[i].get_text() == nbb_unformatted_code) {\n",
       "                             nbb_cells[i].set_text(nbb_formatted_code);\n",
       "                        }\n",
       "                        break;\n",
       "                    }\n",
       "                }\n",
       "            }, 500);\n",
       "            "
      ],
      "text/plain": [
       "<IPython.core.display.Javascript object>"
      ]
     },
     "metadata": {},
     "output_type": "display_data"
    }
   ],
   "source": [
    "prep_df = df[\n",
    "    [\"test preparation course\", \"math score\", \"reading score\", \"writing score\"]\n",
    "]"
   ]
  },
  {
   "cell_type": "code",
   "execution_count": 50,
   "metadata": {},
   "outputs": [
    {
     "data": {
      "text/html": [
       "<style  type=\"text/css\" >\n",
       "    #T_659bd78a_34e3_11eb_b9f2_bc542fc4f43brow0_col0 {\n",
       "            background-color:  #023858;\n",
       "            color:  #f1f1f1;\n",
       "        }    #T_659bd78a_34e3_11eb_b9f2_bc542fc4f43brow0_col1 {\n",
       "            background-color:  #023858;\n",
       "            color:  #f1f1f1;\n",
       "        }    #T_659bd78a_34e3_11eb_b9f2_bc542fc4f43brow0_col2 {\n",
       "            background-color:  #023858;\n",
       "            color:  #f1f1f1;\n",
       "        }    #T_659bd78a_34e3_11eb_b9f2_bc542fc4f43brow1_col0 {\n",
       "            background-color:  #fff7fb;\n",
       "            color:  #000000;\n",
       "        }    #T_659bd78a_34e3_11eb_b9f2_bc542fc4f43brow1_col1 {\n",
       "            background-color:  #fff7fb;\n",
       "            color:  #000000;\n",
       "        }    #T_659bd78a_34e3_11eb_b9f2_bc542fc4f43brow1_col2 {\n",
       "            background-color:  #fff7fb;\n",
       "            color:  #000000;\n",
       "        }</style><table id=\"T_659bd78a_34e3_11eb_b9f2_bc542fc4f43b\" ><thead>    <tr>        <th class=\"blank level0\" ></th>        <th class=\"col_heading level0 col0\" >math score</th>        <th class=\"col_heading level0 col1\" >reading score</th>        <th class=\"col_heading level0 col2\" >writing score</th>    </tr>    <tr>        <th class=\"index_name level0\" >test preparation course</th>        <th class=\"blank\" ></th>        <th class=\"blank\" ></th>        <th class=\"blank\" ></th>    </tr></thead><tbody>\n",
       "                <tr>\n",
       "                        <th id=\"T_659bd78a_34e3_11eb_b9f2_bc542fc4f43blevel0_row0\" class=\"row_heading level0 row0\" >completed</th>\n",
       "                        <td id=\"T_659bd78a_34e3_11eb_b9f2_bc542fc4f43brow0_col0\" class=\"data row0 col0\" >69.695531</td>\n",
       "                        <td id=\"T_659bd78a_34e3_11eb_b9f2_bc542fc4f43brow0_col1\" class=\"data row0 col1\" >73.893855</td>\n",
       "                        <td id=\"T_659bd78a_34e3_11eb_b9f2_bc542fc4f43brow0_col2\" class=\"data row0 col2\" >74.418994</td>\n",
       "            </tr>\n",
       "            <tr>\n",
       "                        <th id=\"T_659bd78a_34e3_11eb_b9f2_bc542fc4f43blevel0_row1\" class=\"row_heading level0 row1\" >none</th>\n",
       "                        <td id=\"T_659bd78a_34e3_11eb_b9f2_bc542fc4f43brow1_col0\" class=\"data row1 col0\" >64.077882</td>\n",
       "                        <td id=\"T_659bd78a_34e3_11eb_b9f2_bc542fc4f43brow1_col1\" class=\"data row1 col1\" >66.534268</td>\n",
       "                        <td id=\"T_659bd78a_34e3_11eb_b9f2_bc542fc4f43brow1_col2\" class=\"data row1 col2\" >64.504673</td>\n",
       "            </tr>\n",
       "    </tbody></table>"
      ],
      "text/plain": [
       "<pandas.io.formats.style.Styler at 0x29c47ab3340>"
      ]
     },
     "execution_count": 50,
     "metadata": {},
     "output_type": "execute_result"
    },
    {
     "data": {
      "application/javascript": [
       "\n",
       "            setTimeout(function() {\n",
       "                var nbb_cell_id = 50;\n",
       "                var nbb_unformatted_code = \"prep_df.groupby(\\\"test preparation course\\\").mean().style.background_gradient()\";\n",
       "                var nbb_formatted_code = \"prep_df.groupby(\\\"test preparation course\\\").mean().style.background_gradient()\";\n",
       "                var nbb_cells = Jupyter.notebook.get_cells();\n",
       "                for (var i = 0; i < nbb_cells.length; ++i) {\n",
       "                    if (nbb_cells[i].input_prompt_number == nbb_cell_id) {\n",
       "                        if (nbb_cells[i].get_text() == nbb_unformatted_code) {\n",
       "                             nbb_cells[i].set_text(nbb_formatted_code);\n",
       "                        }\n",
       "                        break;\n",
       "                    }\n",
       "                }\n",
       "            }, 500);\n",
       "            "
      ],
      "text/plain": [
       "<IPython.core.display.Javascript object>"
      ]
     },
     "metadata": {},
     "output_type": "display_data"
    },
    {
     "data": {
      "application/javascript": [
       "\n",
       "            setTimeout(function() {\n",
       "                var nbb_cell_id = 50;\n",
       "                var nbb_unformatted_code = \"prep_df.groupby(\\\"test preparation course\\\").mean().style.background_gradient()\";\n",
       "                var nbb_formatted_code = \"prep_df.groupby(\\\"test preparation course\\\").mean().style.background_gradient()\";\n",
       "                var nbb_cells = Jupyter.notebook.get_cells();\n",
       "                for (var i = 0; i < nbb_cells.length; ++i) {\n",
       "                    if (nbb_cells[i].input_prompt_number == nbb_cell_id) {\n",
       "                        if (nbb_cells[i].get_text() == nbb_unformatted_code) {\n",
       "                             nbb_cells[i].set_text(nbb_formatted_code);\n",
       "                        }\n",
       "                        break;\n",
       "                    }\n",
       "                }\n",
       "            }, 500);\n",
       "            "
      ],
      "text/plain": [
       "<IPython.core.display.Javascript object>"
      ]
     },
     "metadata": {},
     "output_type": "display_data"
    }
   ],
   "source": [
    "prep_df.groupby(\"test preparation course\").mean().style.background_gradient()"
   ]
  },
  {
   "cell_type": "code",
   "execution_count": 53,
   "metadata": {},
   "outputs": [
    {
     "name": "stdout",
     "output_type": "stream",
     "text": [
      "math score\n",
      "Ttest_indResult(statistic=5.704616417349102, pvalue=1.5359134607147415e-08)\n",
      "reading score\n",
      "Ttest_indResult(statistic=7.871663538941468, pvalue=9.081783336892205e-15)\n",
      "writing score\n",
      "Ttest_indResult(statistic=10.409173436808748, pvalue=3.68529173524572e-24)\n"
     ]
    },
    {
     "data": {
      "application/javascript": [
       "\n",
       "            setTimeout(function() {\n",
       "                var nbb_cell_id = 53;\n",
       "                var nbb_unformatted_code = \"for score in scores:\\n    print(score)\\n    print(\\n        stats.ttest_ind(\\n            prep_df[prep_df[\\\"test preparation course\\\"] == \\\"completed\\\"][score],\\n            prep_df[prep_df[\\\"test preparation course\\\"] == \\\"none\\\"][score],\\n        )\\n    )\";\n",
       "                var nbb_formatted_code = \"for score in scores:\\n    print(score)\\n    print(\\n        stats.ttest_ind(\\n            prep_df[prep_df[\\\"test preparation course\\\"] == \\\"completed\\\"][score],\\n            prep_df[prep_df[\\\"test preparation course\\\"] == \\\"none\\\"][score],\\n        )\\n    )\";\n",
       "                var nbb_cells = Jupyter.notebook.get_cells();\n",
       "                for (var i = 0; i < nbb_cells.length; ++i) {\n",
       "                    if (nbb_cells[i].input_prompt_number == nbb_cell_id) {\n",
       "                        if (nbb_cells[i].get_text() == nbb_unformatted_code) {\n",
       "                             nbb_cells[i].set_text(nbb_formatted_code);\n",
       "                        }\n",
       "                        break;\n",
       "                    }\n",
       "                }\n",
       "            }, 500);\n",
       "            "
      ],
      "text/plain": [
       "<IPython.core.display.Javascript object>"
      ]
     },
     "metadata": {},
     "output_type": "display_data"
    },
    {
     "data": {
      "application/javascript": [
       "\n",
       "            setTimeout(function() {\n",
       "                var nbb_cell_id = 53;\n",
       "                var nbb_unformatted_code = \"for score in scores:\\n    print(score)\\n    print(\\n        stats.ttest_ind(\\n            prep_df[prep_df[\\\"test preparation course\\\"] == \\\"completed\\\"][score],\\n            prep_df[prep_df[\\\"test preparation course\\\"] == \\\"none\\\"][score],\\n        )\\n    )\";\n",
       "                var nbb_formatted_code = \"for score in scores:\\n    print(score)\\n    print(\\n        stats.ttest_ind(\\n            prep_df[prep_df[\\\"test preparation course\\\"] == \\\"completed\\\"][score],\\n            prep_df[prep_df[\\\"test preparation course\\\"] == \\\"none\\\"][score],\\n        )\\n    )\";\n",
       "                var nbb_cells = Jupyter.notebook.get_cells();\n",
       "                for (var i = 0; i < nbb_cells.length; ++i) {\n",
       "                    if (nbb_cells[i].input_prompt_number == nbb_cell_id) {\n",
       "                        if (nbb_cells[i].get_text() == nbb_unformatted_code) {\n",
       "                             nbb_cells[i].set_text(nbb_formatted_code);\n",
       "                        }\n",
       "                        break;\n",
       "                    }\n",
       "                }\n",
       "            }, 500);\n",
       "            "
      ],
      "text/plain": [
       "<IPython.core.display.Javascript object>"
      ]
     },
     "metadata": {},
     "output_type": "display_data"
    }
   ],
   "source": [
    "for score in scores:\n",
    "    print(score)\n",
    "    print(\n",
    "        stats.ttest_ind(\n",
    "            prep_df[prep_df[\"test preparation course\"] == \"completed\"][score],\n",
    "            prep_df[prep_df[\"test preparation course\"] == \"none\"][score],\n",
    "        )\n",
    "    )"
   ]
  },
  {
   "cell_type": "markdown",
   "metadata": {},
   "source": [
    "> the test prep course did have an effect on performance on all scores\n",
    "---"
   ]
  },
  {
   "cell_type": "markdown",
   "metadata": {},
   "source": [
    "# Which two exam scores are most correlated with each other?"
   ]
  },
  {
   "cell_type": "code",
   "execution_count": 57,
   "metadata": {},
   "outputs": [
    {
     "data": {
      "text/html": [
       "<div>\n",
       "<style scoped>\n",
       "    .dataframe tbody tr th:only-of-type {\n",
       "        vertical-align: middle;\n",
       "    }\n",
       "\n",
       "    .dataframe tbody tr th {\n",
       "        vertical-align: top;\n",
       "    }\n",
       "\n",
       "    .dataframe thead th {\n",
       "        text-align: right;\n",
       "    }\n",
       "</style>\n",
       "<table border=\"1\" class=\"dataframe\">\n",
       "  <thead>\n",
       "    <tr style=\"text-align: right;\">\n",
       "      <th></th>\n",
       "      <th>math score</th>\n",
       "      <th>reading score</th>\n",
       "      <th>writing score</th>\n",
       "    </tr>\n",
       "  </thead>\n",
       "  <tbody>\n",
       "    <tr>\n",
       "      <th>math score</th>\n",
       "      <td>1.000000</td>\n",
       "      <td>0.817580</td>\n",
       "      <td>0.802642</td>\n",
       "    </tr>\n",
       "    <tr>\n",
       "      <th>reading score</th>\n",
       "      <td>0.817580</td>\n",
       "      <td>1.000000</td>\n",
       "      <td>0.954598</td>\n",
       "    </tr>\n",
       "    <tr>\n",
       "      <th>writing score</th>\n",
       "      <td>0.802642</td>\n",
       "      <td>0.954598</td>\n",
       "      <td>1.000000</td>\n",
       "    </tr>\n",
       "  </tbody>\n",
       "</table>\n",
       "</div>"
      ],
      "text/plain": [
       "               math score  reading score  writing score\n",
       "math score       1.000000       0.817580       0.802642\n",
       "reading score    0.817580       1.000000       0.954598\n",
       "writing score    0.802642       0.954598       1.000000"
      ]
     },
     "execution_count": 57,
     "metadata": {},
     "output_type": "execute_result"
    },
    {
     "data": {
      "application/javascript": [
       "\n",
       "            setTimeout(function() {\n",
       "                var nbb_cell_id = 57;\n",
       "                var nbb_unformatted_code = \"df[[\\\"math score\\\", \\\"reading score\\\", \\\"writing score\\\"]].corr()\";\n",
       "                var nbb_formatted_code = \"df[[\\\"math score\\\", \\\"reading score\\\", \\\"writing score\\\"]].corr()\";\n",
       "                var nbb_cells = Jupyter.notebook.get_cells();\n",
       "                for (var i = 0; i < nbb_cells.length; ++i) {\n",
       "                    if (nbb_cells[i].input_prompt_number == nbb_cell_id) {\n",
       "                        if (nbb_cells[i].get_text() == nbb_unformatted_code) {\n",
       "                             nbb_cells[i].set_text(nbb_formatted_code);\n",
       "                        }\n",
       "                        break;\n",
       "                    }\n",
       "                }\n",
       "            }, 500);\n",
       "            "
      ],
      "text/plain": [
       "<IPython.core.display.Javascript object>"
      ]
     },
     "metadata": {},
     "output_type": "display_data"
    },
    {
     "data": {
      "application/javascript": [
       "\n",
       "            setTimeout(function() {\n",
       "                var nbb_cell_id = 57;\n",
       "                var nbb_unformatted_code = \"df[[\\\"math score\\\", \\\"reading score\\\", \\\"writing score\\\"]].corr()\";\n",
       "                var nbb_formatted_code = \"df[[\\\"math score\\\", \\\"reading score\\\", \\\"writing score\\\"]].corr()\";\n",
       "                var nbb_cells = Jupyter.notebook.get_cells();\n",
       "                for (var i = 0; i < nbb_cells.length; ++i) {\n",
       "                    if (nbb_cells[i].input_prompt_number == nbb_cell_id) {\n",
       "                        if (nbb_cells[i].get_text() == nbb_unformatted_code) {\n",
       "                             nbb_cells[i].set_text(nbb_formatted_code);\n",
       "                        }\n",
       "                        break;\n",
       "                    }\n",
       "                }\n",
       "            }, 500);\n",
       "            "
      ],
      "text/plain": [
       "<IPython.core.display.Javascript object>"
      ]
     },
     "metadata": {},
     "output_type": "display_data"
    }
   ],
   "source": [
    "df[[\"math score\", \"reading score\", \"writing score\"]].corr()"
   ]
  },
  {
   "cell_type": "markdown",
   "metadata": {},
   "source": [
    "> writing and reading are most correlated\n",
    "---"
   ]
  }
 ],
 "metadata": {
  "kernelspec": {
   "display_name": "Python 3",
   "language": "python",
   "name": "python3"
  },
  "language_info": {
   "codemirror_mode": {
    "name": "ipython",
    "version": 3
   },
   "file_extension": ".py",
   "mimetype": "text/x-python",
   "name": "python",
   "nbconvert_exporter": "python",
   "pygments_lexer": "ipython3",
   "version": "3.8.3"
  },
  "toc": {
   "base_numbering": 1,
   "nav_menu": {},
   "number_sections": true,
   "sideBar": true,
   "skip_h1_title": false,
   "title_cell": "Table of Contents",
   "title_sidebar": "Contents",
   "toc_cell": false,
   "toc_position": {},
   "toc_section_display": true,
   "toc_window_display": true
  }
 },
 "nbformat": 4,
 "nbformat_minor": 4
}
