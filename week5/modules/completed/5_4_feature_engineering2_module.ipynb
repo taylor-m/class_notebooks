{
 "cells": [
  {
   "cell_type": "markdown",
   "metadata": {},
   "source": [
    "# Data & Imports"
   ]
  },
  {
   "cell_type": "code",
   "execution_count": 1,
   "metadata": {},
   "outputs": [
    {
     "data": {
      "application/javascript": [
       "\n",
       "            setTimeout(function() {\n",
       "                var nbb_cell_id = 1;\n",
       "                var nbb_unformatted_code = \"%reload_ext nb_black\\nimport pandas as pd\\nimport numpy as np\\nfrom matplotlib import pyplot as plt\\nimport plotly\\nimport seaborn as sns\\n# from statsmodels.graphics.gofplots import qqplot\\n%matplotlib inline\";\n",
       "                var nbb_formatted_code = \"%reload_ext nb_black\\nimport pandas as pd\\nimport numpy as np\\nfrom matplotlib import pyplot as plt\\nimport plotly\\nimport seaborn as sns\\n\\n# from statsmodels.graphics.gofplots import qqplot\\n%matplotlib inline\";\n",
       "                var nbb_cells = Jupyter.notebook.get_cells();\n",
       "                for (var i = 0; i < nbb_cells.length; ++i) {\n",
       "                    if (nbb_cells[i].input_prompt_number == nbb_cell_id) {\n",
       "                        if (nbb_cells[i].get_text() == nbb_unformatted_code) {\n",
       "                             nbb_cells[i].set_text(nbb_formatted_code);\n",
       "                        }\n",
       "                        break;\n",
       "                    }\n",
       "                }\n",
       "            }, 500);\n",
       "            "
      ],
      "text/plain": [
       "<IPython.core.display.Javascript object>"
      ]
     },
     "metadata": {},
     "output_type": "display_data"
    }
   ],
   "source": [
    "%reload_ext nb_black\n",
    "import pandas as pd\n",
    "import numpy as np\n",
    "from matplotlib import pyplot as plt\n",
    "import plotly\n",
    "import seaborn as sns\n",
    "\n",
    "# from statsmodels.graphics.gofplots import qqplot\n",
    "%matplotlib inline"
   ]
  },
  {
   "cell_type": "code",
   "execution_count": 16,
   "metadata": {},
   "outputs": [
    {
     "data": {
      "application/javascript": [
       "\n",
       "            setTimeout(function() {\n",
       "                var nbb_cell_id = 16;\n",
       "                var nbb_unformatted_code = \"# from matplotlib.mlab import PCA as mlabPCA # deprecated\\nfrom sklearn.preprocessing import StandardScaler\\nfrom sklearn.decomposition import PCA\";\n",
       "                var nbb_formatted_code = \"# from matplotlib.mlab import PCA as mlabPCA # deprecated\\nfrom sklearn.preprocessing import StandardScaler\\nfrom sklearn.decomposition import PCA\";\n",
       "                var nbb_cells = Jupyter.notebook.get_cells();\n",
       "                for (var i = 0; i < nbb_cells.length; ++i) {\n",
       "                    if (nbb_cells[i].input_prompt_number == nbb_cell_id) {\n",
       "                        if (nbb_cells[i].get_text() == nbb_unformatted_code) {\n",
       "                             nbb_cells[i].set_text(nbb_formatted_code);\n",
       "                        }\n",
       "                        break;\n",
       "                    }\n",
       "                }\n",
       "            }, 500);\n",
       "            "
      ],
      "text/plain": [
       "<IPython.core.display.Javascript object>"
      ]
     },
     "metadata": {},
     "output_type": "display_data"
    },
    {
     "data": {
      "application/javascript": [
       "\n",
       "            setTimeout(function() {\n",
       "                var nbb_cell_id = 16;\n",
       "                var nbb_unformatted_code = \"# from matplotlib.mlab import PCA as mlabPCA # deprecated\\nfrom sklearn.preprocessing import StandardScaler\\nfrom sklearn.decomposition import PCA\";\n",
       "                var nbb_formatted_code = \"# from matplotlib.mlab import PCA as mlabPCA # deprecated\\nfrom sklearn.preprocessing import StandardScaler\\nfrom sklearn.decomposition import PCA\";\n",
       "                var nbb_cells = Jupyter.notebook.get_cells();\n",
       "                for (var i = 0; i < nbb_cells.length; ++i) {\n",
       "                    if (nbb_cells[i].input_prompt_number == nbb_cell_id) {\n",
       "                        if (nbb_cells[i].get_text() == nbb_unformatted_code) {\n",
       "                             nbb_cells[i].set_text(nbb_formatted_code);\n",
       "                        }\n",
       "                        break;\n",
       "                    }\n",
       "                }\n",
       "            }, 500);\n",
       "            "
      ],
      "text/plain": [
       "<IPython.core.display.Javascript object>"
      ]
     },
     "metadata": {},
     "output_type": "display_data"
    }
   ],
   "source": [
    "# from matplotlib.mlab import PCA as mlabPCA # deprecated\n",
    "from sklearn.preprocessing import StandardScaler\n",
    "from sklearn.decomposition import PCA"
   ]
  },
  {
   "cell_type": "code",
   "execution_count": 2,
   "metadata": {},
   "outputs": [
    {
     "data": {
      "text/html": [
       "<div>\n",
       "<style scoped>\n",
       "    .dataframe tbody tr th:only-of-type {\n",
       "        vertical-align: middle;\n",
       "    }\n",
       "\n",
       "    .dataframe tbody tr th {\n",
       "        vertical-align: top;\n",
       "    }\n",
       "\n",
       "    .dataframe thead th {\n",
       "        text-align: right;\n",
       "    }\n",
       "</style>\n",
       "<table border=\"1\" class=\"dataframe\">\n",
       "  <thead>\n",
       "    <tr style=\"text-align: right;\">\n",
       "      <th></th>\n",
       "      <th>PRIMARY_KEY</th>\n",
       "      <th>STATE</th>\n",
       "      <th>YEAR</th>\n",
       "      <th>ENROLL</th>\n",
       "      <th>TOTAL_REVENUE</th>\n",
       "      <th>FEDERAL_REVENUE</th>\n",
       "      <th>STATE_REVENUE</th>\n",
       "      <th>LOCAL_REVENUE</th>\n",
       "      <th>TOTAL_EXPENDITURE</th>\n",
       "      <th>INSTRUCTION_EXPENDITURE</th>\n",
       "      <th>...</th>\n",
       "      <th>GRADES_4_G</th>\n",
       "      <th>GRADES_8_G</th>\n",
       "      <th>GRADES_12_G</th>\n",
       "      <th>GRADES_1_8_G</th>\n",
       "      <th>GRADES_9_12_G</th>\n",
       "      <th>GRADES_ALL_G</th>\n",
       "      <th>AVG_MATH_4_SCORE</th>\n",
       "      <th>AVG_MATH_8_SCORE</th>\n",
       "      <th>AVG_READING_4_SCORE</th>\n",
       "      <th>AVG_READING_8_SCORE</th>\n",
       "    </tr>\n",
       "  </thead>\n",
       "  <tbody>\n",
       "    <tr>\n",
       "      <th>0</th>\n",
       "      <td>1992_ALABAMA</td>\n",
       "      <td>ALABAMA</td>\n",
       "      <td>1992</td>\n",
       "      <td>NaN</td>\n",
       "      <td>2678885.0</td>\n",
       "      <td>304177.0</td>\n",
       "      <td>1659028.0</td>\n",
       "      <td>715680.0</td>\n",
       "      <td>2653798.0</td>\n",
       "      <td>1481703.0</td>\n",
       "      <td>...</td>\n",
       "      <td>57948.0</td>\n",
       "      <td>58025.0</td>\n",
       "      <td>41167.0</td>\n",
       "      <td>471564.0</td>\n",
       "      <td>196386.0</td>\n",
       "      <td>676174.0</td>\n",
       "      <td>208.327876</td>\n",
       "      <td>252.187522</td>\n",
       "      <td>207.963517</td>\n",
       "      <td>NaN</td>\n",
       "    </tr>\n",
       "    <tr>\n",
       "      <th>1</th>\n",
       "      <td>1992_ALASKA</td>\n",
       "      <td>ALASKA</td>\n",
       "      <td>1992</td>\n",
       "      <td>NaN</td>\n",
       "      <td>1049591.0</td>\n",
       "      <td>106780.0</td>\n",
       "      <td>720711.0</td>\n",
       "      <td>222100.0</td>\n",
       "      <td>972488.0</td>\n",
       "      <td>498362.0</td>\n",
       "      <td>...</td>\n",
       "      <td>9748.0</td>\n",
       "      <td>8789.0</td>\n",
       "      <td>6714.0</td>\n",
       "      <td>79117.0</td>\n",
       "      <td>30847.0</td>\n",
       "      <td>112335.0</td>\n",
       "      <td>NaN</td>\n",
       "      <td>NaN</td>\n",
       "      <td>NaN</td>\n",
       "      <td>258.859712</td>\n",
       "    </tr>\n",
       "    <tr>\n",
       "      <th>2</th>\n",
       "      <td>1992_ARIZONA</td>\n",
       "      <td>ARIZONA</td>\n",
       "      <td>1992</td>\n",
       "      <td>NaN</td>\n",
       "      <td>3258079.0</td>\n",
       "      <td>297888.0</td>\n",
       "      <td>1369815.0</td>\n",
       "      <td>1590376.0</td>\n",
       "      <td>3401580.0</td>\n",
       "      <td>1435908.0</td>\n",
       "      <td>...</td>\n",
       "      <td>55433.0</td>\n",
       "      <td>49081.0</td>\n",
       "      <td>37410.0</td>\n",
       "      <td>437127.0</td>\n",
       "      <td>175210.0</td>\n",
       "      <td>614881.0</td>\n",
       "      <td>215.253932</td>\n",
       "      <td>265.366278</td>\n",
       "      <td>206.212716</td>\n",
       "      <td>262.169895</td>\n",
       "    </tr>\n",
       "    <tr>\n",
       "      <th>3</th>\n",
       "      <td>1992_ARKANSAS</td>\n",
       "      <td>ARKANSAS</td>\n",
       "      <td>1992</td>\n",
       "      <td>NaN</td>\n",
       "      <td>1711959.0</td>\n",
       "      <td>178571.0</td>\n",
       "      <td>958785.0</td>\n",
       "      <td>574603.0</td>\n",
       "      <td>1743022.0</td>\n",
       "      <td>964323.0</td>\n",
       "      <td>...</td>\n",
       "      <td>34632.0</td>\n",
       "      <td>36011.0</td>\n",
       "      <td>27651.0</td>\n",
       "      <td>281338.0</td>\n",
       "      <td>123113.0</td>\n",
       "      <td>405259.0</td>\n",
       "      <td>210.206028</td>\n",
       "      <td>256.312090</td>\n",
       "      <td>208.634458</td>\n",
       "      <td>264.619665</td>\n",
       "    </tr>\n",
       "    <tr>\n",
       "      <th>4</th>\n",
       "      <td>1992_CALIFORNIA</td>\n",
       "      <td>CALIFORNIA</td>\n",
       "      <td>1992</td>\n",
       "      <td>NaN</td>\n",
       "      <td>26260025.0</td>\n",
       "      <td>2072470.0</td>\n",
       "      <td>16546514.0</td>\n",
       "      <td>7641041.0</td>\n",
       "      <td>27138832.0</td>\n",
       "      <td>14358922.0</td>\n",
       "      <td>...</td>\n",
       "      <td>418418.0</td>\n",
       "      <td>363296.0</td>\n",
       "      <td>270675.0</td>\n",
       "      <td>3286034.0</td>\n",
       "      <td>1372011.0</td>\n",
       "      <td>4717112.0</td>\n",
       "      <td>208.398961</td>\n",
       "      <td>260.892247</td>\n",
       "      <td>196.764414</td>\n",
       "      <td>NaN</td>\n",
       "    </tr>\n",
       "  </tbody>\n",
       "</table>\n",
       "<p>5 rows × 25 columns</p>\n",
       "</div>"
      ],
      "text/plain": [
       "       PRIMARY_KEY       STATE  YEAR  ENROLL  TOTAL_REVENUE  FEDERAL_REVENUE  \\\n",
       "0     1992_ALABAMA     ALABAMA  1992     NaN      2678885.0         304177.0   \n",
       "1      1992_ALASKA      ALASKA  1992     NaN      1049591.0         106780.0   \n",
       "2     1992_ARIZONA     ARIZONA  1992     NaN      3258079.0         297888.0   \n",
       "3    1992_ARKANSAS    ARKANSAS  1992     NaN      1711959.0         178571.0   \n",
       "4  1992_CALIFORNIA  CALIFORNIA  1992     NaN     26260025.0        2072470.0   \n",
       "\n",
       "   STATE_REVENUE  LOCAL_REVENUE  TOTAL_EXPENDITURE  INSTRUCTION_EXPENDITURE  \\\n",
       "0      1659028.0       715680.0          2653798.0                1481703.0   \n",
       "1       720711.0       222100.0           972488.0                 498362.0   \n",
       "2      1369815.0      1590376.0          3401580.0                1435908.0   \n",
       "3       958785.0       574603.0          1743022.0                 964323.0   \n",
       "4     16546514.0      7641041.0         27138832.0               14358922.0   \n",
       "\n",
       "   ...  GRADES_4_G  GRADES_8_G  GRADES_12_G  GRADES_1_8_G  GRADES_9_12_G  \\\n",
       "0  ...     57948.0     58025.0      41167.0      471564.0       196386.0   \n",
       "1  ...      9748.0      8789.0       6714.0       79117.0        30847.0   \n",
       "2  ...     55433.0     49081.0      37410.0      437127.0       175210.0   \n",
       "3  ...     34632.0     36011.0      27651.0      281338.0       123113.0   \n",
       "4  ...    418418.0    363296.0     270675.0     3286034.0      1372011.0   \n",
       "\n",
       "   GRADES_ALL_G  AVG_MATH_4_SCORE  AVG_MATH_8_SCORE  AVG_READING_4_SCORE  \\\n",
       "0      676174.0        208.327876        252.187522           207.963517   \n",
       "1      112335.0               NaN               NaN                  NaN   \n",
       "2      614881.0        215.253932        265.366278           206.212716   \n",
       "3      405259.0        210.206028        256.312090           208.634458   \n",
       "4     4717112.0        208.398961        260.892247           196.764414   \n",
       "\n",
       "   AVG_READING_8_SCORE  \n",
       "0                  NaN  \n",
       "1           258.859712  \n",
       "2           262.169895  \n",
       "3           264.619665  \n",
       "4                  NaN  \n",
       "\n",
       "[5 rows x 25 columns]"
      ]
     },
     "execution_count": 2,
     "metadata": {},
     "output_type": "execute_result"
    },
    {
     "data": {
      "application/javascript": [
       "\n",
       "            setTimeout(function() {\n",
       "                var nbb_cell_id = 2;\n",
       "                var nbb_unformatted_code = \"%reload_ext nb_black\\npostgres_user = 'dsbc_student'\\npostgres_pw = '7*.8G9QH21'\\npostgres_host = '142.93.121.174'\\npostgres_port = '5432'\\npostgres_db = 'useducation'\\nconn_str = f'postgresql://{postgres_user}:{postgres_pw}@{postgres_host}:{postgres_port}/{postgres_db}'\\nquery = '''\\nSELECT *\\nFROM useducation\\n'''\\ndf = pd.read_sql_query(query, con=conn_str)\\ndf.head()\";\n",
       "                var nbb_formatted_code = \"%reload_ext nb_black\\npostgres_user = \\\"dsbc_student\\\"\\npostgres_pw = \\\"7*.8G9QH21\\\"\\npostgres_host = \\\"142.93.121.174\\\"\\npostgres_port = \\\"5432\\\"\\npostgres_db = \\\"useducation\\\"\\nconn_str = f\\\"postgresql://{postgres_user}:{postgres_pw}@{postgres_host}:{postgres_port}/{postgres_db}\\\"\\nquery = \\\"\\\"\\\"\\nSELECT *\\nFROM useducation\\n\\\"\\\"\\\"\\ndf = pd.read_sql_query(query, con=conn_str)\\ndf.head()\";\n",
       "                var nbb_cells = Jupyter.notebook.get_cells();\n",
       "                for (var i = 0; i < nbb_cells.length; ++i) {\n",
       "                    if (nbb_cells[i].input_prompt_number == nbb_cell_id) {\n",
       "                        if (nbb_cells[i].get_text() == nbb_unformatted_code) {\n",
       "                             nbb_cells[i].set_text(nbb_formatted_code);\n",
       "                        }\n",
       "                        break;\n",
       "                    }\n",
       "                }\n",
       "            }, 500);\n",
       "            "
      ],
      "text/plain": [
       "<IPython.core.display.Javascript object>"
      ]
     },
     "metadata": {},
     "output_type": "display_data"
    },
    {
     "data": {
      "application/javascript": [
       "\n",
       "            setTimeout(function() {\n",
       "                var nbb_cell_id = 2;\n",
       "                var nbb_unformatted_code = \"%reload_ext nb_black\\npostgres_user = 'dsbc_student'\\npostgres_pw = '7*.8G9QH21'\\npostgres_host = '142.93.121.174'\\npostgres_port = '5432'\\npostgres_db = 'useducation'\\nconn_str = f'postgresql://{postgres_user}:{postgres_pw}@{postgres_host}:{postgres_port}/{postgres_db}'\\nquery = '''\\nSELECT *\\nFROM useducation\\n'''\\ndf = pd.read_sql_query(query, con=conn_str)\\ndf.head()\";\n",
       "                var nbb_formatted_code = \"%reload_ext nb_black\\npostgres_user = \\\"dsbc_student\\\"\\npostgres_pw = \\\"7*.8G9QH21\\\"\\npostgres_host = \\\"142.93.121.174\\\"\\npostgres_port = \\\"5432\\\"\\npostgres_db = \\\"useducation\\\"\\nconn_str = f\\\"postgresql://{postgres_user}:{postgres_pw}@{postgres_host}:{postgres_port}/{postgres_db}\\\"\\nquery = \\\"\\\"\\\"\\nSELECT *\\nFROM useducation\\n\\\"\\\"\\\"\\ndf = pd.read_sql_query(query, con=conn_str)\\ndf.head()\";\n",
       "                var nbb_cells = Jupyter.notebook.get_cells();\n",
       "                for (var i = 0; i < nbb_cells.length; ++i) {\n",
       "                    if (nbb_cells[i].input_prompt_number == nbb_cell_id) {\n",
       "                        if (nbb_cells[i].get_text() == nbb_unformatted_code) {\n",
       "                             nbb_cells[i].set_text(nbb_formatted_code);\n",
       "                        }\n",
       "                        break;\n",
       "                    }\n",
       "                }\n",
       "            }, 500);\n",
       "            "
      ],
      "text/plain": [
       "<IPython.core.display.Javascript object>"
      ]
     },
     "metadata": {},
     "output_type": "display_data"
    }
   ],
   "source": [
    "%reload_ext nb_black\n",
    "postgres_user = \"dsbc_student\"\n",
    "postgres_pw = \"7*.8G9QH21\"\n",
    "postgres_host = \"142.93.121.174\"\n",
    "postgres_port = \"5432\"\n",
    "postgres_db = \"useducation\"\n",
    "conn_str = f\"postgresql://{postgres_user}:{postgres_pw}@{postgres_host}:{postgres_port}/{postgres_db}\"\n",
    "query = \"\"\"\n",
    "SELECT *\n",
    "FROM useducation\n",
    "\"\"\"\n",
    "df = pd.read_sql_query(query, con=conn_str)\n",
    "df.head()"
   ]
  },
  {
   "cell_type": "code",
   "execution_count": 5,
   "metadata": {
    "scrolled": true
   },
   "outputs": [
    {
     "data": {
      "application/javascript": [
       "\n",
       "            setTimeout(function() {\n",
       "                var nbb_cell_id = 5;\n",
       "                var nbb_unformatted_code = \"fill_list = [\\n    \\\"ENROLL\\\",\\n    \\\"TOTAL_REVENUE\\\",\\n    \\\"FEDERAL_REVENUE\\\",\\n    \\\"STATE_REVENUE\\\",\\n    \\\"LOCAL_REVENUE\\\",\\n    \\\"TOTAL_EXPENDITURE\\\",\\n    \\\"INSTRUCTION_EXPENDITURE\\\",\\n    \\\"SUPPORT_SERVICES_EXPENDITURE\\\",\\n    \\\"OTHER_EXPENDITURE\\\",\\n    \\\"CAPITAL_OUTLAY_EXPENDITURE\\\",\\n    \\\"GRADES_PK_G\\\",\\n    \\\"GRADES_KG_G\\\",\\n    \\\"GRADES_4_G\\\",\\n    \\\"GRADES_8_G\\\",\\n    \\\"GRADES_12_G\\\",\\n    \\\"GRADES_1_8_G\\\",\\n    \\\"GRADES_9_12_G\\\",\\n    \\\"GRADES_ALL_G\\\",\\n]\\n\\nstates = df[\\\"STATE\\\"].unique()\\n\\nfor state in states:\\n    df.loc[df[\\\"STATE\\\"] == state, fill_list] = df.loc[\\n        df[\\\"STATE\\\"] == state, fill_list\\n    ].interpolate()\\n\\n# we drop the null values after interpolation\\ndf.dropna(inplace=True)\";\n",
       "                var nbb_formatted_code = \"fill_list = [\\n    \\\"ENROLL\\\",\\n    \\\"TOTAL_REVENUE\\\",\\n    \\\"FEDERAL_REVENUE\\\",\\n    \\\"STATE_REVENUE\\\",\\n    \\\"LOCAL_REVENUE\\\",\\n    \\\"TOTAL_EXPENDITURE\\\",\\n    \\\"INSTRUCTION_EXPENDITURE\\\",\\n    \\\"SUPPORT_SERVICES_EXPENDITURE\\\",\\n    \\\"OTHER_EXPENDITURE\\\",\\n    \\\"CAPITAL_OUTLAY_EXPENDITURE\\\",\\n    \\\"GRADES_PK_G\\\",\\n    \\\"GRADES_KG_G\\\",\\n    \\\"GRADES_4_G\\\",\\n    \\\"GRADES_8_G\\\",\\n    \\\"GRADES_12_G\\\",\\n    \\\"GRADES_1_8_G\\\",\\n    \\\"GRADES_9_12_G\\\",\\n    \\\"GRADES_ALL_G\\\",\\n]\\n\\nstates = df[\\\"STATE\\\"].unique()\\n\\nfor state in states:\\n    df.loc[df[\\\"STATE\\\"] == state, fill_list] = df.loc[\\n        df[\\\"STATE\\\"] == state, fill_list\\n    ].interpolate()\\n\\n# we drop the null values after interpolation\\ndf.dropna(inplace=True)\";\n",
       "                var nbb_cells = Jupyter.notebook.get_cells();\n",
       "                for (var i = 0; i < nbb_cells.length; ++i) {\n",
       "                    if (nbb_cells[i].input_prompt_number == nbb_cell_id) {\n",
       "                        if (nbb_cells[i].get_text() == nbb_unformatted_code) {\n",
       "                             nbb_cells[i].set_text(nbb_formatted_code);\n",
       "                        }\n",
       "                        break;\n",
       "                    }\n",
       "                }\n",
       "            }, 500);\n",
       "            "
      ],
      "text/plain": [
       "<IPython.core.display.Javascript object>"
      ]
     },
     "metadata": {},
     "output_type": "display_data"
    },
    {
     "data": {
      "application/javascript": [
       "\n",
       "            setTimeout(function() {\n",
       "                var nbb_cell_id = 5;\n",
       "                var nbb_unformatted_code = \"fill_list = [\\n    \\\"ENROLL\\\",\\n    \\\"TOTAL_REVENUE\\\",\\n    \\\"FEDERAL_REVENUE\\\",\\n    \\\"STATE_REVENUE\\\",\\n    \\\"LOCAL_REVENUE\\\",\\n    \\\"TOTAL_EXPENDITURE\\\",\\n    \\\"INSTRUCTION_EXPENDITURE\\\",\\n    \\\"SUPPORT_SERVICES_EXPENDITURE\\\",\\n    \\\"OTHER_EXPENDITURE\\\",\\n    \\\"CAPITAL_OUTLAY_EXPENDITURE\\\",\\n    \\\"GRADES_PK_G\\\",\\n    \\\"GRADES_KG_G\\\",\\n    \\\"GRADES_4_G\\\",\\n    \\\"GRADES_8_G\\\",\\n    \\\"GRADES_12_G\\\",\\n    \\\"GRADES_1_8_G\\\",\\n    \\\"GRADES_9_12_G\\\",\\n    \\\"GRADES_ALL_G\\\",\\n]\\n\\nstates = df[\\\"STATE\\\"].unique()\\n\\nfor state in states:\\n    df.loc[df[\\\"STATE\\\"] == state, fill_list] = df.loc[\\n        df[\\\"STATE\\\"] == state, fill_list\\n    ].interpolate()\\n\\n# we drop the null values after interpolation\\ndf.dropna(inplace=True)\";\n",
       "                var nbb_formatted_code = \"fill_list = [\\n    \\\"ENROLL\\\",\\n    \\\"TOTAL_REVENUE\\\",\\n    \\\"FEDERAL_REVENUE\\\",\\n    \\\"STATE_REVENUE\\\",\\n    \\\"LOCAL_REVENUE\\\",\\n    \\\"TOTAL_EXPENDITURE\\\",\\n    \\\"INSTRUCTION_EXPENDITURE\\\",\\n    \\\"SUPPORT_SERVICES_EXPENDITURE\\\",\\n    \\\"OTHER_EXPENDITURE\\\",\\n    \\\"CAPITAL_OUTLAY_EXPENDITURE\\\",\\n    \\\"GRADES_PK_G\\\",\\n    \\\"GRADES_KG_G\\\",\\n    \\\"GRADES_4_G\\\",\\n    \\\"GRADES_8_G\\\",\\n    \\\"GRADES_12_G\\\",\\n    \\\"GRADES_1_8_G\\\",\\n    \\\"GRADES_9_12_G\\\",\\n    \\\"GRADES_ALL_G\\\",\\n]\\n\\nstates = df[\\\"STATE\\\"].unique()\\n\\nfor state in states:\\n    df.loc[df[\\\"STATE\\\"] == state, fill_list] = df.loc[\\n        df[\\\"STATE\\\"] == state, fill_list\\n    ].interpolate()\\n\\n# we drop the null values after interpolation\\ndf.dropna(inplace=True)\";\n",
       "                var nbb_cells = Jupyter.notebook.get_cells();\n",
       "                for (var i = 0; i < nbb_cells.length; ++i) {\n",
       "                    if (nbb_cells[i].input_prompt_number == nbb_cell_id) {\n",
       "                        if (nbb_cells[i].get_text() == nbb_unformatted_code) {\n",
       "                             nbb_cells[i].set_text(nbb_formatted_code);\n",
       "                        }\n",
       "                        break;\n",
       "                    }\n",
       "                }\n",
       "            }, 500);\n",
       "            "
      ],
      "text/plain": [
       "<IPython.core.display.Javascript object>"
      ]
     },
     "metadata": {},
     "output_type": "display_data"
    }
   ],
   "source": [
    "fill_list = [\n",
    "    \"ENROLL\",\n",
    "    \"TOTAL_REVENUE\",\n",
    "    \"FEDERAL_REVENUE\",\n",
    "    \"STATE_REVENUE\",\n",
    "    \"LOCAL_REVENUE\",\n",
    "    \"TOTAL_EXPENDITURE\",\n",
    "    \"INSTRUCTION_EXPENDITURE\",\n",
    "    \"SUPPORT_SERVICES_EXPENDITURE\",\n",
    "    \"OTHER_EXPENDITURE\",\n",
    "    \"CAPITAL_OUTLAY_EXPENDITURE\",\n",
    "    \"GRADES_PK_G\",\n",
    "    \"GRADES_KG_G\",\n",
    "    \"GRADES_4_G\",\n",
    "    \"GRADES_8_G\",\n",
    "    \"GRADES_12_G\",\n",
    "    \"GRADES_1_8_G\",\n",
    "    \"GRADES_9_12_G\",\n",
    "    \"GRADES_ALL_G\",\n",
    "]\n",
    "\n",
    "states = df[\"STATE\"].unique()\n",
    "\n",
    "for state in states:\n",
    "    df.loc[df[\"STATE\"] == state, fill_list] = df.loc[\n",
    "        df[\"STATE\"] == state, fill_list\n",
    "    ].interpolate()\n",
    "\n",
    "# we drop the null values after interpolation\n",
    "df.dropna(inplace=True)"
   ]
  },
  {
   "cell_type": "markdown",
   "metadata": {},
   "source": [
    "### 1. Compute the average score for each row for all students weighted properly by grade. In other words, each row will have its own average. Notice that the number of students in the fourth grade isn't the same as the number of students in the eighth grade. So, you should appropriately weigh the scores."
   ]
  },
  {
   "cell_type": "code",
   "execution_count": 8,
   "metadata": {
    "scrolled": true
   },
   "outputs": [
    {
     "data": {
      "application/javascript": [
       "\n",
       "            setTimeout(function() {\n",
       "                var nbb_cell_id = 8;\n",
       "                var nbb_unformatted_code = \"# var for the total students in 4th and 8th grades\\ntotal_students = df.GRADES_4_G + df.GRADES_8_G\\n\\ndf[\\\"overall_avg\\\"] = (((df.AVG_MATH_4_SCORE * (df.GRADES_4_G/total_students)) + (df.AVG_MATH_8_SCORE * (df.GRADES_8_G/total_students))) + ((df.AVG_READING_4_SCORE * (df.GRADES_4_G/total_students)) + (df.AVG_READING_8_SCORE * (df.GRADES_8_G/total_students))))/2\";\n",
       "                var nbb_formatted_code = \"# var for the total students in 4th and 8th grades\\ntotal_students = df.GRADES_4_G + df.GRADES_8_G\\n\\ndf[\\\"overall_avg\\\"] = (\\n    (\\n        (df.AVG_MATH_4_SCORE * (df.GRADES_4_G / total_students))\\n        + (df.AVG_MATH_8_SCORE * (df.GRADES_8_G / total_students))\\n    )\\n    + (\\n        (df.AVG_READING_4_SCORE * (df.GRADES_4_G / total_students))\\n        + (df.AVG_READING_8_SCORE * (df.GRADES_8_G / total_students))\\n    )\\n) / 2\";\n",
       "                var nbb_cells = Jupyter.notebook.get_cells();\n",
       "                for (var i = 0; i < nbb_cells.length; ++i) {\n",
       "                    if (nbb_cells[i].input_prompt_number == nbb_cell_id) {\n",
       "                        if (nbb_cells[i].get_text() == nbb_unformatted_code) {\n",
       "                             nbb_cells[i].set_text(nbb_formatted_code);\n",
       "                        }\n",
       "                        break;\n",
       "                    }\n",
       "                }\n",
       "            }, 500);\n",
       "            "
      ],
      "text/plain": [
       "<IPython.core.display.Javascript object>"
      ]
     },
     "metadata": {},
     "output_type": "display_data"
    },
    {
     "data": {
      "application/javascript": [
       "\n",
       "            setTimeout(function() {\n",
       "                var nbb_cell_id = 8;\n",
       "                var nbb_unformatted_code = \"# var for the total students in 4th and 8th grades\\ntotal_students = df.GRADES_4_G + df.GRADES_8_G\\n\\ndf[\\\"overall_avg\\\"] = (((df.AVG_MATH_4_SCORE * (df.GRADES_4_G/total_students)) + (df.AVG_MATH_8_SCORE * (df.GRADES_8_G/total_students))) + ((df.AVG_READING_4_SCORE * (df.GRADES_4_G/total_students)) + (df.AVG_READING_8_SCORE * (df.GRADES_8_G/total_students))))/2\";\n",
       "                var nbb_formatted_code = \"# var for the total students in 4th and 8th grades\\ntotal_students = df.GRADES_4_G + df.GRADES_8_G\\n\\ndf[\\\"overall_avg\\\"] = (\\n    (\\n        (df.AVG_MATH_4_SCORE * (df.GRADES_4_G / total_students))\\n        + (df.AVG_MATH_8_SCORE * (df.GRADES_8_G / total_students))\\n    )\\n    + (\\n        (df.AVG_READING_4_SCORE * (df.GRADES_4_G / total_students))\\n        + (df.AVG_READING_8_SCORE * (df.GRADES_8_G / total_students))\\n    )\\n) / 2\";\n",
       "                var nbb_cells = Jupyter.notebook.get_cells();\n",
       "                for (var i = 0; i < nbb_cells.length; ++i) {\n",
       "                    if (nbb_cells[i].input_prompt_number == nbb_cell_id) {\n",
       "                        if (nbb_cells[i].get_text() == nbb_unformatted_code) {\n",
       "                             nbb_cells[i].set_text(nbb_formatted_code);\n",
       "                        }\n",
       "                        break;\n",
       "                    }\n",
       "                }\n",
       "            }, 500);\n",
       "            "
      ],
      "text/plain": [
       "<IPython.core.display.Javascript object>"
      ]
     },
     "metadata": {},
     "output_type": "display_data"
    }
   ],
   "source": [
    "# var for the total students in 4th and 8th grades\n",
    "total_students = df.GRADES_4_G + df.GRADES_8_G\n",
    "\n",
    "df[\"overall_avg\"] = (\n",
    "    (\n",
    "        (df.AVG_MATH_4_SCORE * (df.GRADES_4_G / total_students))\n",
    "        + (df.AVG_MATH_8_SCORE * (df.GRADES_8_G / total_students))\n",
    "    )\n",
    "    + (\n",
    "        (df.AVG_READING_4_SCORE * (df.GRADES_4_G / total_students))\n",
    "        + (df.AVG_READING_8_SCORE * (df.GRADES_8_G / total_students))\n",
    "    )\n",
    ") / 2"
   ]
  },
  {
   "cell_type": "markdown",
   "metadata": {},
   "source": [
    "---"
   ]
  },
  {
   "cell_type": "markdown",
   "metadata": {},
   "source": [
    "### 2. What are the correlations between this newly created score variable and the expenditure types? Which one of the expenditure types is more correlated than the others?"
   ]
  },
  {
   "cell_type": "code",
   "execution_count": 10,
   "metadata": {
    "scrolled": true
   },
   "outputs": [
    {
     "data": {
      "text/html": [
       "<div>\n",
       "<style scoped>\n",
       "    .dataframe tbody tr th:only-of-type {\n",
       "        vertical-align: middle;\n",
       "    }\n",
       "\n",
       "    .dataframe tbody tr th {\n",
       "        vertical-align: top;\n",
       "    }\n",
       "\n",
       "    .dataframe thead th {\n",
       "        text-align: right;\n",
       "    }\n",
       "</style>\n",
       "<table border=\"1\" class=\"dataframe\">\n",
       "  <thead>\n",
       "    <tr style=\"text-align: right;\">\n",
       "      <th></th>\n",
       "      <th>PRIMARY_KEY</th>\n",
       "      <th>STATE</th>\n",
       "      <th>YEAR</th>\n",
       "      <th>ENROLL</th>\n",
       "      <th>TOTAL_REVENUE</th>\n",
       "      <th>FEDERAL_REVENUE</th>\n",
       "      <th>STATE_REVENUE</th>\n",
       "      <th>LOCAL_REVENUE</th>\n",
       "      <th>TOTAL_EXPENDITURE</th>\n",
       "      <th>INSTRUCTION_EXPENDITURE</th>\n",
       "      <th>...</th>\n",
       "      <th>GRADES_8_G</th>\n",
       "      <th>GRADES_12_G</th>\n",
       "      <th>GRADES_1_8_G</th>\n",
       "      <th>GRADES_9_12_G</th>\n",
       "      <th>GRADES_ALL_G</th>\n",
       "      <th>AVG_MATH_4_SCORE</th>\n",
       "      <th>AVG_MATH_8_SCORE</th>\n",
       "      <th>AVG_READING_4_SCORE</th>\n",
       "      <th>AVG_READING_8_SCORE</th>\n",
       "      <th>overall_avg</th>\n",
       "    </tr>\n",
       "  </thead>\n",
       "  <tbody>\n",
       "    <tr>\n",
       "      <th>209</th>\n",
       "      <td>1996_ALABAMA</td>\n",
       "      <td>ALABAMA</td>\n",
       "      <td>1996</td>\n",
       "      <td>735912.0</td>\n",
       "      <td>3365113.0</td>\n",
       "      <td>334858.0</td>\n",
       "      <td>2138717.0</td>\n",
       "      <td>891538.0</td>\n",
       "      <td>3572283.0</td>\n",
       "      <td>1987018.0</td>\n",
       "      <td>...</td>\n",
       "      <td>58305.0</td>\n",
       "      <td>42510.0</td>\n",
       "      <td>469370.0</td>\n",
       "      <td>207980.0</td>\n",
       "      <td>686983.0</td>\n",
       "      <td>211.646974</td>\n",
       "      <td>256.594863</td>\n",
       "      <td>210.920767</td>\n",
       "      <td>260.276441</td>\n",
       "      <td>235.106342</td>\n",
       "    </tr>\n",
       "    <tr>\n",
       "      <th>211</th>\n",
       "      <td>1996_ARIZONA</td>\n",
       "      <td>ARIZONA</td>\n",
       "      <td>1996</td>\n",
       "      <td>764681.0</td>\n",
       "      <td>4143304.0</td>\n",
       "      <td>378917.0</td>\n",
       "      <td>1798363.0</td>\n",
       "      <td>1966024.0</td>\n",
       "      <td>4391555.0</td>\n",
       "      <td>1860007.0</td>\n",
       "      <td>...</td>\n",
       "      <td>60514.0</td>\n",
       "      <td>42041.0</td>\n",
       "      <td>511925.0</td>\n",
       "      <td>210289.0</td>\n",
       "      <td>726709.0</td>\n",
       "      <td>217.575940</td>\n",
       "      <td>267.874834</td>\n",
       "      <td>206.529788</td>\n",
       "      <td>263.283638</td>\n",
       "      <td>238.321404</td>\n",
       "    </tr>\n",
       "    <tr>\n",
       "      <th>212</th>\n",
       "      <td>1996_ARKANSAS</td>\n",
       "      <td>ARKANSAS</td>\n",
       "      <td>1996</td>\n",
       "      <td>452907.0</td>\n",
       "      <td>2183384.0</td>\n",
       "      <td>192152.0</td>\n",
       "      <td>1296247.0</td>\n",
       "      <td>694985.0</td>\n",
       "      <td>2297381.0</td>\n",
       "      <td>1264275.0</td>\n",
       "      <td>...</td>\n",
       "      <td>37064.0</td>\n",
       "      <td>27613.0</td>\n",
       "      <td>283883.0</td>\n",
       "      <td>131997.0</td>\n",
       "      <td>417860.0</td>\n",
       "      <td>215.846436</td>\n",
       "      <td>261.652745</td>\n",
       "      <td>208.837716</td>\n",
       "      <td>271.834590</td>\n",
       "      <td>240.773675</td>\n",
       "    </tr>\n",
       "    <tr>\n",
       "      <th>213</th>\n",
       "      <td>1996_CALIFORNIA</td>\n",
       "      <td>CALIFORNIA</td>\n",
       "      <td>1996</td>\n",
       "      <td>5460484.0</td>\n",
       "      <td>31282981.0</td>\n",
       "      <td>2603882.0</td>\n",
       "      <td>17061474.0</td>\n",
       "      <td>11617625.0</td>\n",
       "      <td>31561692.0</td>\n",
       "      <td>16880730.0</td>\n",
       "      <td>...</td>\n",
       "      <td>406456.0</td>\n",
       "      <td>298669.0</td>\n",
       "      <td>3516572.0</td>\n",
       "      <td>1525618.0</td>\n",
       "      <td>5115423.0</td>\n",
       "      <td>209.129083</td>\n",
       "      <td>262.772478</td>\n",
       "      <td>201.912591</td>\n",
       "      <td>269.197451</td>\n",
       "      <td>234.719834</td>\n",
       "    </tr>\n",
       "    <tr>\n",
       "      <th>214</th>\n",
       "      <td>1996_COLORADO</td>\n",
       "      <td>COLORADO</td>\n",
       "      <td>1996</td>\n",
       "      <td>655679.0</td>\n",
       "      <td>3891203.0</td>\n",
       "      <td>194998.0</td>\n",
       "      <td>1664676.0</td>\n",
       "      <td>2031529.0</td>\n",
       "      <td>4075165.0</td>\n",
       "      <td>2052264.0</td>\n",
       "      <td>...</td>\n",
       "      <td>52269.0</td>\n",
       "      <td>37179.0</td>\n",
       "      <td>423510.0</td>\n",
       "      <td>185700.0</td>\n",
       "      <td>621730.0</td>\n",
       "      <td>225.805858</td>\n",
       "      <td>275.608214</td>\n",
       "      <td>221.653243</td>\n",
       "      <td>268.168154</td>\n",
       "      <td>247.750273</td>\n",
       "    </tr>\n",
       "  </tbody>\n",
       "</table>\n",
       "<p>5 rows × 26 columns</p>\n",
       "</div>"
      ],
      "text/plain": [
       "         PRIMARY_KEY       STATE  YEAR     ENROLL  TOTAL_REVENUE  \\\n",
       "209     1996_ALABAMA     ALABAMA  1996   735912.0      3365113.0   \n",
       "211     1996_ARIZONA     ARIZONA  1996   764681.0      4143304.0   \n",
       "212    1996_ARKANSAS    ARKANSAS  1996   452907.0      2183384.0   \n",
       "213  1996_CALIFORNIA  CALIFORNIA  1996  5460484.0     31282981.0   \n",
       "214    1996_COLORADO    COLORADO  1996   655679.0      3891203.0   \n",
       "\n",
       "     FEDERAL_REVENUE  STATE_REVENUE  LOCAL_REVENUE  TOTAL_EXPENDITURE  \\\n",
       "209         334858.0      2138717.0       891538.0          3572283.0   \n",
       "211         378917.0      1798363.0      1966024.0          4391555.0   \n",
       "212         192152.0      1296247.0       694985.0          2297381.0   \n",
       "213        2603882.0     17061474.0     11617625.0         31561692.0   \n",
       "214         194998.0      1664676.0      2031529.0          4075165.0   \n",
       "\n",
       "     INSTRUCTION_EXPENDITURE  ...  GRADES_8_G  GRADES_12_G  GRADES_1_8_G  \\\n",
       "209                1987018.0  ...     58305.0      42510.0      469370.0   \n",
       "211                1860007.0  ...     60514.0      42041.0      511925.0   \n",
       "212                1264275.0  ...     37064.0      27613.0      283883.0   \n",
       "213               16880730.0  ...    406456.0     298669.0     3516572.0   \n",
       "214                2052264.0  ...     52269.0      37179.0      423510.0   \n",
       "\n",
       "     GRADES_9_12_G  GRADES_ALL_G  AVG_MATH_4_SCORE  AVG_MATH_8_SCORE  \\\n",
       "209       207980.0      686983.0        211.646974        256.594863   \n",
       "211       210289.0      726709.0        217.575940        267.874834   \n",
       "212       131997.0      417860.0        215.846436        261.652745   \n",
       "213      1525618.0     5115423.0        209.129083        262.772478   \n",
       "214       185700.0      621730.0        225.805858        275.608214   \n",
       "\n",
       "     AVG_READING_4_SCORE  AVG_READING_8_SCORE  overall_avg  \n",
       "209           210.920767           260.276441   235.106342  \n",
       "211           206.529788           263.283638   238.321404  \n",
       "212           208.837716           271.834590   240.773675  \n",
       "213           201.912591           269.197451   234.719834  \n",
       "214           221.653243           268.168154   247.750273  \n",
       "\n",
       "[5 rows x 26 columns]"
      ]
     },
     "execution_count": 10,
     "metadata": {},
     "output_type": "execute_result"
    },
    {
     "data": {
      "application/javascript": [
       "\n",
       "            setTimeout(function() {\n",
       "                var nbb_cell_id = 10;\n",
       "                var nbb_unformatted_code = \"df.head(\\n)\";\n",
       "                var nbb_formatted_code = \"df.head()\";\n",
       "                var nbb_cells = Jupyter.notebook.get_cells();\n",
       "                for (var i = 0; i < nbb_cells.length; ++i) {\n",
       "                    if (nbb_cells[i].input_prompt_number == nbb_cell_id) {\n",
       "                        if (nbb_cells[i].get_text() == nbb_unformatted_code) {\n",
       "                             nbb_cells[i].set_text(nbb_formatted_code);\n",
       "                        }\n",
       "                        break;\n",
       "                    }\n",
       "                }\n",
       "            }, 500);\n",
       "            "
      ],
      "text/plain": [
       "<IPython.core.display.Javascript object>"
      ]
     },
     "metadata": {},
     "output_type": "display_data"
    },
    {
     "data": {
      "application/javascript": [
       "\n",
       "            setTimeout(function() {\n",
       "                var nbb_cell_id = 10;\n",
       "                var nbb_unformatted_code = \"df.head(\\n)\";\n",
       "                var nbb_formatted_code = \"df.head()\";\n",
       "                var nbb_cells = Jupyter.notebook.get_cells();\n",
       "                for (var i = 0; i < nbb_cells.length; ++i) {\n",
       "                    if (nbb_cells[i].input_prompt_number == nbb_cell_id) {\n",
       "                        if (nbb_cells[i].get_text() == nbb_unformatted_code) {\n",
       "                             nbb_cells[i].set_text(nbb_formatted_code);\n",
       "                        }\n",
       "                        break;\n",
       "                    }\n",
       "                }\n",
       "            }, 500);\n",
       "            "
      ],
      "text/plain": [
       "<IPython.core.display.Javascript object>"
      ]
     },
     "metadata": {},
     "output_type": "display_data"
    }
   ],
   "source": [
    "df.head()"
   ]
  },
  {
   "cell_type": "code",
   "execution_count": 13,
   "metadata": {},
   "outputs": [
    {
     "data": {
      "text/html": [
       "<div>\n",
       "<style scoped>\n",
       "    .dataframe tbody tr th:only-of-type {\n",
       "        vertical-align: middle;\n",
       "    }\n",
       "\n",
       "    .dataframe tbody tr th {\n",
       "        vertical-align: top;\n",
       "    }\n",
       "\n",
       "    .dataframe thead th {\n",
       "        text-align: right;\n",
       "    }\n",
       "</style>\n",
       "<table border=\"1\" class=\"dataframe\">\n",
       "  <thead>\n",
       "    <tr style=\"text-align: right;\">\n",
       "      <th></th>\n",
       "      <th>INSTRUCTION_EXPENDITURE</th>\n",
       "      <th>SUPPORT_SERVICES_EXPENDITURE</th>\n",
       "      <th>OTHER_EXPENDITURE</th>\n",
       "      <th>CAPITAL_OUTLAY_EXPENDITURE</th>\n",
       "      <th>overall_avg</th>\n",
       "    </tr>\n",
       "  </thead>\n",
       "  <tbody>\n",
       "    <tr>\n",
       "      <th>209</th>\n",
       "      <td>1987018.0</td>\n",
       "      <td>935115.0</td>\n",
       "      <td>322883.0</td>\n",
       "      <td>286699.0</td>\n",
       "      <td>235.106342</td>\n",
       "    </tr>\n",
       "    <tr>\n",
       "      <th>211</th>\n",
       "      <td>1860007.0</td>\n",
       "      <td>1193260.0</td>\n",
       "      <td>220650.0</td>\n",
       "      <td>877190.0</td>\n",
       "      <td>238.321404</td>\n",
       "    </tr>\n",
       "    <tr>\n",
       "      <th>212</th>\n",
       "      <td>1264275.0</td>\n",
       "      <td>636106.0</td>\n",
       "      <td>127007.0</td>\n",
       "      <td>203555.0</td>\n",
       "      <td>240.773675</td>\n",
       "    </tr>\n",
       "    <tr>\n",
       "      <th>213</th>\n",
       "      <td>16880730.0</td>\n",
       "      <td>9222569.0</td>\n",
       "      <td>2362407.0</td>\n",
       "      <td>2580639.0</td>\n",
       "      <td>234.719834</td>\n",
       "    </tr>\n",
       "    <tr>\n",
       "      <th>214</th>\n",
       "      <td>2052264.0</td>\n",
       "      <td>1127563.0</td>\n",
       "      <td>143767.0</td>\n",
       "      <td>588209.0</td>\n",
       "      <td>247.750273</td>\n",
       "    </tr>\n",
       "  </tbody>\n",
       "</table>\n",
       "</div>"
      ],
      "text/plain": [
       "     INSTRUCTION_EXPENDITURE  SUPPORT_SERVICES_EXPENDITURE  OTHER_EXPENDITURE  \\\n",
       "209                1987018.0                      935115.0           322883.0   \n",
       "211                1860007.0                     1193260.0           220650.0   \n",
       "212                1264275.0                      636106.0           127007.0   \n",
       "213               16880730.0                     9222569.0          2362407.0   \n",
       "214                2052264.0                     1127563.0           143767.0   \n",
       "\n",
       "     CAPITAL_OUTLAY_EXPENDITURE  overall_avg  \n",
       "209                    286699.0   235.106342  \n",
       "211                    877190.0   238.321404  \n",
       "212                    203555.0   240.773675  \n",
       "213                   2580639.0   234.719834  \n",
       "214                    588209.0   247.750273  "
      ]
     },
     "execution_count": 13,
     "metadata": {},
     "output_type": "execute_result"
    },
    {
     "data": {
      "application/javascript": [
       "\n",
       "            setTimeout(function() {\n",
       "                var nbb_cell_id = 13;\n",
       "                var nbb_unformatted_code = \"expenditures = df[\\n    [\\n        \\\"INSTRUCTION_EXPENDITURE\\\",\\n        \\\"SUPPORT_SERVICES_EXPENDITURE\\\",\\n        \\\"OTHER_EXPENDITURE\\\",\\n        \\\"CAPITAL_OUTLAY_EXPENDITURE\\\",\\n        \\\"overall_avg\\\",\\n    ]\\n]\\nexpenditures.head()\";\n",
       "                var nbb_formatted_code = \"expenditures = df[\\n    [\\n        \\\"INSTRUCTION_EXPENDITURE\\\",\\n        \\\"SUPPORT_SERVICES_EXPENDITURE\\\",\\n        \\\"OTHER_EXPENDITURE\\\",\\n        \\\"CAPITAL_OUTLAY_EXPENDITURE\\\",\\n        \\\"overall_avg\\\",\\n    ]\\n]\\nexpenditures.head()\";\n",
       "                var nbb_cells = Jupyter.notebook.get_cells();\n",
       "                for (var i = 0; i < nbb_cells.length; ++i) {\n",
       "                    if (nbb_cells[i].input_prompt_number == nbb_cell_id) {\n",
       "                        if (nbb_cells[i].get_text() == nbb_unformatted_code) {\n",
       "                             nbb_cells[i].set_text(nbb_formatted_code);\n",
       "                        }\n",
       "                        break;\n",
       "                    }\n",
       "                }\n",
       "            }, 500);\n",
       "            "
      ],
      "text/plain": [
       "<IPython.core.display.Javascript object>"
      ]
     },
     "metadata": {},
     "output_type": "display_data"
    },
    {
     "data": {
      "application/javascript": [
       "\n",
       "            setTimeout(function() {\n",
       "                var nbb_cell_id = 13;\n",
       "                var nbb_unformatted_code = \"expenditures = df[\\n    [\\n        \\\"INSTRUCTION_EXPENDITURE\\\",\\n        \\\"SUPPORT_SERVICES_EXPENDITURE\\\",\\n        \\\"OTHER_EXPENDITURE\\\",\\n        \\\"CAPITAL_OUTLAY_EXPENDITURE\\\",\\n        \\\"overall_avg\\\",\\n    ]\\n]\\nexpenditures.head()\";\n",
       "                var nbb_formatted_code = \"expenditures = df[\\n    [\\n        \\\"INSTRUCTION_EXPENDITURE\\\",\\n        \\\"SUPPORT_SERVICES_EXPENDITURE\\\",\\n        \\\"OTHER_EXPENDITURE\\\",\\n        \\\"CAPITAL_OUTLAY_EXPENDITURE\\\",\\n        \\\"overall_avg\\\",\\n    ]\\n]\\nexpenditures.head()\";\n",
       "                var nbb_cells = Jupyter.notebook.get_cells();\n",
       "                for (var i = 0; i < nbb_cells.length; ++i) {\n",
       "                    if (nbb_cells[i].input_prompt_number == nbb_cell_id) {\n",
       "                        if (nbb_cells[i].get_text() == nbb_unformatted_code) {\n",
       "                             nbb_cells[i].set_text(nbb_formatted_code);\n",
       "                        }\n",
       "                        break;\n",
       "                    }\n",
       "                }\n",
       "            }, 500);\n",
       "            "
      ],
      "text/plain": [
       "<IPython.core.display.Javascript object>"
      ]
     },
     "metadata": {},
     "output_type": "display_data"
    }
   ],
   "source": [
    "expenditures = df[\n",
    "    [\n",
    "        \"INSTRUCTION_EXPENDITURE\",\n",
    "        \"SUPPORT_SERVICES_EXPENDITURE\",\n",
    "        \"OTHER_EXPENDITURE\",\n",
    "        \"CAPITAL_OUTLAY_EXPENDITURE\",\n",
    "        \"overall_avg\",\n",
    "    ]\n",
    "]\n",
    "expenditures.head()"
   ]
  },
  {
   "cell_type": "code",
   "execution_count": 14,
   "metadata": {},
   "outputs": [
    {
     "data": {
      "text/html": [
       "<div>\n",
       "<style scoped>\n",
       "    .dataframe tbody tr th:only-of-type {\n",
       "        vertical-align: middle;\n",
       "    }\n",
       "\n",
       "    .dataframe tbody tr th {\n",
       "        vertical-align: top;\n",
       "    }\n",
       "\n",
       "    .dataframe thead th {\n",
       "        text-align: right;\n",
       "    }\n",
       "</style>\n",
       "<table border=\"1\" class=\"dataframe\">\n",
       "  <thead>\n",
       "    <tr style=\"text-align: right;\">\n",
       "      <th></th>\n",
       "      <th>INSTRUCTION_EXPENDITURE</th>\n",
       "      <th>SUPPORT_SERVICES_EXPENDITURE</th>\n",
       "      <th>OTHER_EXPENDITURE</th>\n",
       "      <th>CAPITAL_OUTLAY_EXPENDITURE</th>\n",
       "      <th>overall_avg</th>\n",
       "    </tr>\n",
       "  </thead>\n",
       "  <tbody>\n",
       "    <tr>\n",
       "      <th>INSTRUCTION_EXPENDITURE</th>\n",
       "      <td>1.000000</td>\n",
       "      <td>0.974399</td>\n",
       "      <td>0.902173</td>\n",
       "      <td>0.884798</td>\n",
       "      <td>0.087386</td>\n",
       "    </tr>\n",
       "    <tr>\n",
       "      <th>SUPPORT_SERVICES_EXPENDITURE</th>\n",
       "      <td>0.974399</td>\n",
       "      <td>1.000000</td>\n",
       "      <td>0.952282</td>\n",
       "      <td>0.911245</td>\n",
       "      <td>0.079002</td>\n",
       "    </tr>\n",
       "    <tr>\n",
       "      <th>OTHER_EXPENDITURE</th>\n",
       "      <td>0.902173</td>\n",
       "      <td>0.952282</td>\n",
       "      <td>1.000000</td>\n",
       "      <td>0.918188</td>\n",
       "      <td>0.010959</td>\n",
       "    </tr>\n",
       "    <tr>\n",
       "      <th>CAPITAL_OUTLAY_EXPENDITURE</th>\n",
       "      <td>0.884798</td>\n",
       "      <td>0.911245</td>\n",
       "      <td>0.918188</td>\n",
       "      <td>1.000000</td>\n",
       "      <td>-0.005389</td>\n",
       "    </tr>\n",
       "    <tr>\n",
       "      <th>overall_avg</th>\n",
       "      <td>0.087386</td>\n",
       "      <td>0.079002</td>\n",
       "      <td>0.010959</td>\n",
       "      <td>-0.005389</td>\n",
       "      <td>1.000000</td>\n",
       "    </tr>\n",
       "  </tbody>\n",
       "</table>\n",
       "</div>"
      ],
      "text/plain": [
       "                              INSTRUCTION_EXPENDITURE  \\\n",
       "INSTRUCTION_EXPENDITURE                      1.000000   \n",
       "SUPPORT_SERVICES_EXPENDITURE                 0.974399   \n",
       "OTHER_EXPENDITURE                            0.902173   \n",
       "CAPITAL_OUTLAY_EXPENDITURE                   0.884798   \n",
       "overall_avg                                  0.087386   \n",
       "\n",
       "                              SUPPORT_SERVICES_EXPENDITURE  OTHER_EXPENDITURE  \\\n",
       "INSTRUCTION_EXPENDITURE                           0.974399           0.902173   \n",
       "SUPPORT_SERVICES_EXPENDITURE                      1.000000           0.952282   \n",
       "OTHER_EXPENDITURE                                 0.952282           1.000000   \n",
       "CAPITAL_OUTLAY_EXPENDITURE                        0.911245           0.918188   \n",
       "overall_avg                                       0.079002           0.010959   \n",
       "\n",
       "                              CAPITAL_OUTLAY_EXPENDITURE  overall_avg  \n",
       "INSTRUCTION_EXPENDITURE                         0.884798     0.087386  \n",
       "SUPPORT_SERVICES_EXPENDITURE                    0.911245     0.079002  \n",
       "OTHER_EXPENDITURE                               0.918188     0.010959  \n",
       "CAPITAL_OUTLAY_EXPENDITURE                      1.000000    -0.005389  \n",
       "overall_avg                                    -0.005389     1.000000  "
      ]
     },
     "execution_count": 14,
     "metadata": {},
     "output_type": "execute_result"
    },
    {
     "data": {
      "application/javascript": [
       "\n",
       "            setTimeout(function() {\n",
       "                var nbb_cell_id = 14;\n",
       "                var nbb_unformatted_code = \"expenditures.corr()\";\n",
       "                var nbb_formatted_code = \"expenditures.corr()\";\n",
       "                var nbb_cells = Jupyter.notebook.get_cells();\n",
       "                for (var i = 0; i < nbb_cells.length; ++i) {\n",
       "                    if (nbb_cells[i].input_prompt_number == nbb_cell_id) {\n",
       "                        if (nbb_cells[i].get_text() == nbb_unformatted_code) {\n",
       "                             nbb_cells[i].set_text(nbb_formatted_code);\n",
       "                        }\n",
       "                        break;\n",
       "                    }\n",
       "                }\n",
       "            }, 500);\n",
       "            "
      ],
      "text/plain": [
       "<IPython.core.display.Javascript object>"
      ]
     },
     "metadata": {},
     "output_type": "display_data"
    },
    {
     "data": {
      "application/javascript": [
       "\n",
       "            setTimeout(function() {\n",
       "                var nbb_cell_id = 14;\n",
       "                var nbb_unformatted_code = \"expenditures.corr()\";\n",
       "                var nbb_formatted_code = \"expenditures.corr()\";\n",
       "                var nbb_cells = Jupyter.notebook.get_cells();\n",
       "                for (var i = 0; i < nbb_cells.length; ++i) {\n",
       "                    if (nbb_cells[i].input_prompt_number == nbb_cell_id) {\n",
       "                        if (nbb_cells[i].get_text() == nbb_unformatted_code) {\n",
       "                             nbb_cells[i].set_text(nbb_formatted_code);\n",
       "                        }\n",
       "                        break;\n",
       "                    }\n",
       "                }\n",
       "            }, 500);\n",
       "            "
      ],
      "text/plain": [
       "<IPython.core.display.Javascript object>"
      ]
     },
     "metadata": {},
     "output_type": "display_data"
    }
   ],
   "source": [
    "expenditures.corr()"
   ]
  },
  {
   "cell_type": "markdown",
   "metadata": {},
   "source": [
    "> Instruction expenditure is most correlated with the overall score avg var\n",
    "---"
   ]
  },
  {
   "cell_type": "markdown",
   "metadata": {},
   "source": [
    "### 3. Now, apply PCA to the four expenditure types. How much of the total variance is explained by the first component?"
   ]
  },
  {
   "cell_type": "code",
   "execution_count": 33,
   "metadata": {},
   "outputs": [
    {
     "data": {
      "application/javascript": [
       "\n",
       "            setTimeout(function() {\n",
       "                var nbb_cell_id = 33;\n",
       "                var nbb_unformatted_code = \"# scaling the data before PCA\\n# df for just expenditure types\\nX = expenditures.drop(columns=\\\"overall_avg\\\")\\n\\n# instance of standard scaler\\n# \\\"learn\\\" from the data with fit_transform()\\nX = StandardScaler().fit_transform(X)\\n\\n# create PCA object with n=1\\nsklearn_pca = PCA(n_components=1)\\n\\ndf[\\\"expenditures_pca\\\"] = sklearn_pca.fit_transform(X)\";\n",
       "                var nbb_formatted_code = \"# scaling the data before PCA\\n# df for just expenditure types\\nX = expenditures.drop(columns=\\\"overall_avg\\\")\\n\\n# instance of standard scaler\\n# \\\"learn\\\" from the data with fit_transform()\\nX = StandardScaler().fit_transform(X)\\n\\n# create PCA object with n=1\\nsklearn_pca = PCA(n_components=1)\\n\\ndf[\\\"expenditures_pca\\\"] = sklearn_pca.fit_transform(X)\";\n",
       "                var nbb_cells = Jupyter.notebook.get_cells();\n",
       "                for (var i = 0; i < nbb_cells.length; ++i) {\n",
       "                    if (nbb_cells[i].input_prompt_number == nbb_cell_id) {\n",
       "                        if (nbb_cells[i].get_text() == nbb_unformatted_code) {\n",
       "                             nbb_cells[i].set_text(nbb_formatted_code);\n",
       "                        }\n",
       "                        break;\n",
       "                    }\n",
       "                }\n",
       "            }, 500);\n",
       "            "
      ],
      "text/plain": [
       "<IPython.core.display.Javascript object>"
      ]
     },
     "metadata": {},
     "output_type": "display_data"
    },
    {
     "data": {
      "application/javascript": [
       "\n",
       "            setTimeout(function() {\n",
       "                var nbb_cell_id = 33;\n",
       "                var nbb_unformatted_code = \"# scaling the data before PCA\\n# df for just expenditure types\\nX = expenditures.drop(columns=\\\"overall_avg\\\")\\n\\n# instance of standard scaler\\n# \\\"learn\\\" from the data with fit_transform()\\nX = StandardScaler().fit_transform(X)\\n\\n# create PCA object with n=1\\nsklearn_pca = PCA(n_components=1)\\n\\ndf[\\\"expenditures_pca\\\"] = sklearn_pca.fit_transform(X)\";\n",
       "                var nbb_formatted_code = \"# scaling the data before PCA\\n# df for just expenditure types\\nX = expenditures.drop(columns=\\\"overall_avg\\\")\\n\\n# instance of standard scaler\\n# \\\"learn\\\" from the data with fit_transform()\\nX = StandardScaler().fit_transform(X)\\n\\n# create PCA object with n=1\\nsklearn_pca = PCA(n_components=1)\\n\\ndf[\\\"expenditures_pca\\\"] = sklearn_pca.fit_transform(X)\";\n",
       "                var nbb_cells = Jupyter.notebook.get_cells();\n",
       "                for (var i = 0; i < nbb_cells.length; ++i) {\n",
       "                    if (nbb_cells[i].input_prompt_number == nbb_cell_id) {\n",
       "                        if (nbb_cells[i].get_text() == nbb_unformatted_code) {\n",
       "                             nbb_cells[i].set_text(nbb_formatted_code);\n",
       "                        }\n",
       "                        break;\n",
       "                    }\n",
       "                }\n",
       "            }, 500);\n",
       "            "
      ],
      "text/plain": [
       "<IPython.core.display.Javascript object>"
      ]
     },
     "metadata": {},
     "output_type": "display_data"
    }
   ],
   "source": [
    "# scaling the data before PCA\n",
    "# df for just expenditure types\n",
    "X = expenditures.drop(columns=\"overall_avg\")\n",
    "\n",
    "# instance of standard scaler\n",
    "# \"learn\" from the data with fit_transform()\n",
    "X = StandardScaler().fit_transform(X)\n",
    "\n",
    "# create PCA object with n=1\n",
    "sklearn_pca = PCA(n_components=1)\n",
    "\n",
    "df[\"expenditures_pca\"] = sklearn_pca.fit_transform(X)"
   ]
  },
  {
   "cell_type": "code",
   "execution_count": 35,
   "metadata": {},
   "outputs": [
    {
     "name": "stdout",
     "output_type": "stream",
     "text": [
      "The percentage of total variance in the dataset explained by each component from Sklearn PCA.\n",
      " [94.30174978]\n"
     ]
    },
    {
     "data": {
      "application/javascript": [
       "\n",
       "            setTimeout(function() {\n",
       "                var nbb_cell_id = 35;\n",
       "                var nbb_unformatted_code = \"print(\\n    \\\"The percentage of total variance in the dataset explained by each\\\",\\n    \\\"component from Sklearn PCA.\\\\n\\\",\\n    sklearn_pca.explained_variance_ratio_*100,\\n)\";\n",
       "                var nbb_formatted_code = \"print(\\n    \\\"The percentage of total variance in the dataset explained by each\\\",\\n    \\\"component from Sklearn PCA.\\\\n\\\",\\n    sklearn_pca.explained_variance_ratio_ * 100,\\n)\";\n",
       "                var nbb_cells = Jupyter.notebook.get_cells();\n",
       "                for (var i = 0; i < nbb_cells.length; ++i) {\n",
       "                    if (nbb_cells[i].input_prompt_number == nbb_cell_id) {\n",
       "                        if (nbb_cells[i].get_text() == nbb_unformatted_code) {\n",
       "                             nbb_cells[i].set_text(nbb_formatted_code);\n",
       "                        }\n",
       "                        break;\n",
       "                    }\n",
       "                }\n",
       "            }, 500);\n",
       "            "
      ],
      "text/plain": [
       "<IPython.core.display.Javascript object>"
      ]
     },
     "metadata": {},
     "output_type": "display_data"
    },
    {
     "data": {
      "application/javascript": [
       "\n",
       "            setTimeout(function() {\n",
       "                var nbb_cell_id = 35;\n",
       "                var nbb_unformatted_code = \"print(\\n    \\\"The percentage of total variance in the dataset explained by each\\\",\\n    \\\"component from Sklearn PCA.\\\\n\\\",\\n    sklearn_pca.explained_variance_ratio_*100,\\n)\";\n",
       "                var nbb_formatted_code = \"print(\\n    \\\"The percentage of total variance in the dataset explained by each\\\",\\n    \\\"component from Sklearn PCA.\\\\n\\\",\\n    sklearn_pca.explained_variance_ratio_ * 100,\\n)\";\n",
       "                var nbb_cells = Jupyter.notebook.get_cells();\n",
       "                for (var i = 0; i < nbb_cells.length; ++i) {\n",
       "                    if (nbb_cells[i].input_prompt_number == nbb_cell_id) {\n",
       "                        if (nbb_cells[i].get_text() == nbb_unformatted_code) {\n",
       "                             nbb_cells[i].set_text(nbb_formatted_code);\n",
       "                        }\n",
       "                        break;\n",
       "                    }\n",
       "                }\n",
       "            }, 500);\n",
       "            "
      ],
      "text/plain": [
       "<IPython.core.display.Javascript object>"
      ]
     },
     "metadata": {},
     "output_type": "display_data"
    }
   ],
   "source": [
    "print(\n",
    "    \"The percentage of total variance in the dataset explained by each\",\n",
    "    \"component from Sklearn PCA.\\n\",\n",
    "    sklearn_pca.explained_variance_ratio_ * 100,\n",
    ")"
   ]
  },
  {
   "cell_type": "markdown",
   "metadata": {},
   "source": [
    "> 94.3% of the variance is explained by the first component\n",
    "---"
   ]
  },
  {
   "cell_type": "markdown",
   "metadata": {},
   "source": [
    "### 4. What is the correlation between the overall score variable and the first principal component?"
   ]
  },
  {
   "cell_type": "code",
   "execution_count": 39,
   "metadata": {
    "scrolled": true
   },
   "outputs": [
    {
     "data": {
      "text/html": [
       "<div>\n",
       "<style scoped>\n",
       "    .dataframe tbody tr th:only-of-type {\n",
       "        vertical-align: middle;\n",
       "    }\n",
       "\n",
       "    .dataframe tbody tr th {\n",
       "        vertical-align: top;\n",
       "    }\n",
       "\n",
       "    .dataframe thead th {\n",
       "        text-align: right;\n",
       "    }\n",
       "</style>\n",
       "<table border=\"1\" class=\"dataframe\">\n",
       "  <thead>\n",
       "    <tr style=\"text-align: right;\">\n",
       "      <th></th>\n",
       "      <th>overall_avg</th>\n",
       "      <th>expenditures_pca</th>\n",
       "      <th>TOTAL_EXPENDITURE</th>\n",
       "      <th>INSTRUCTION_EXPENDITURE</th>\n",
       "      <th>SUPPORT_SERVICES_EXPENDITURE</th>\n",
       "      <th>OTHER_EXPENDITURE</th>\n",
       "      <th>CAPITAL_OUTLAY_EXPENDITURE</th>\n",
       "    </tr>\n",
       "  </thead>\n",
       "  <tbody>\n",
       "    <tr>\n",
       "      <th>overall_avg</th>\n",
       "      <td>1.000000</td>\n",
       "      <td>0.044596</td>\n",
       "      <td>0.074155</td>\n",
       "      <td>0.087386</td>\n",
       "      <td>0.079002</td>\n",
       "      <td>0.010959</td>\n",
       "      <td>-0.005389</td>\n",
       "    </tr>\n",
       "    <tr>\n",
       "      <th>expenditures_pca</th>\n",
       "      <td>0.044596</td>\n",
       "      <td>1.000000</td>\n",
       "      <td>0.992054</td>\n",
       "      <td>0.968606</td>\n",
       "      <td>0.988345</td>\n",
       "      <td>0.971343</td>\n",
       "      <td>0.955792</td>\n",
       "    </tr>\n",
       "    <tr>\n",
       "      <th>TOTAL_EXPENDITURE</th>\n",
       "      <td>0.074155</td>\n",
       "      <td>0.992054</td>\n",
       "      <td>1.000000</td>\n",
       "      <td>0.990255</td>\n",
       "      <td>0.992988</td>\n",
       "      <td>0.943702</td>\n",
       "      <td>0.925784</td>\n",
       "    </tr>\n",
       "    <tr>\n",
       "      <th>INSTRUCTION_EXPENDITURE</th>\n",
       "      <td>0.087386</td>\n",
       "      <td>0.968606</td>\n",
       "      <td>0.990255</td>\n",
       "      <td>1.000000</td>\n",
       "      <td>0.974399</td>\n",
       "      <td>0.902173</td>\n",
       "      <td>0.884798</td>\n",
       "    </tr>\n",
       "    <tr>\n",
       "      <th>SUPPORT_SERVICES_EXPENDITURE</th>\n",
       "      <td>0.079002</td>\n",
       "      <td>0.988345</td>\n",
       "      <td>0.992988</td>\n",
       "      <td>0.974399</td>\n",
       "      <td>1.000000</td>\n",
       "      <td>0.952282</td>\n",
       "      <td>0.911245</td>\n",
       "    </tr>\n",
       "    <tr>\n",
       "      <th>OTHER_EXPENDITURE</th>\n",
       "      <td>0.010959</td>\n",
       "      <td>0.971343</td>\n",
       "      <td>0.943702</td>\n",
       "      <td>0.902173</td>\n",
       "      <td>0.952282</td>\n",
       "      <td>1.000000</td>\n",
       "      <td>0.918188</td>\n",
       "    </tr>\n",
       "    <tr>\n",
       "      <th>CAPITAL_OUTLAY_EXPENDITURE</th>\n",
       "      <td>-0.005389</td>\n",
       "      <td>0.955792</td>\n",
       "      <td>0.925784</td>\n",
       "      <td>0.884798</td>\n",
       "      <td>0.911245</td>\n",
       "      <td>0.918188</td>\n",
       "      <td>1.000000</td>\n",
       "    </tr>\n",
       "  </tbody>\n",
       "</table>\n",
       "</div>"
      ],
      "text/plain": [
       "                              overall_avg  expenditures_pca  \\\n",
       "overall_avg                      1.000000          0.044596   \n",
       "expenditures_pca                 0.044596          1.000000   \n",
       "TOTAL_EXPENDITURE                0.074155          0.992054   \n",
       "INSTRUCTION_EXPENDITURE          0.087386          0.968606   \n",
       "SUPPORT_SERVICES_EXPENDITURE     0.079002          0.988345   \n",
       "OTHER_EXPENDITURE                0.010959          0.971343   \n",
       "CAPITAL_OUTLAY_EXPENDITURE      -0.005389          0.955792   \n",
       "\n",
       "                              TOTAL_EXPENDITURE  INSTRUCTION_EXPENDITURE  \\\n",
       "overall_avg                            0.074155                 0.087386   \n",
       "expenditures_pca                       0.992054                 0.968606   \n",
       "TOTAL_EXPENDITURE                      1.000000                 0.990255   \n",
       "INSTRUCTION_EXPENDITURE                0.990255                 1.000000   \n",
       "SUPPORT_SERVICES_EXPENDITURE           0.992988                 0.974399   \n",
       "OTHER_EXPENDITURE                      0.943702                 0.902173   \n",
       "CAPITAL_OUTLAY_EXPENDITURE             0.925784                 0.884798   \n",
       "\n",
       "                              SUPPORT_SERVICES_EXPENDITURE  OTHER_EXPENDITURE  \\\n",
       "overall_avg                                       0.079002           0.010959   \n",
       "expenditures_pca                                  0.988345           0.971343   \n",
       "TOTAL_EXPENDITURE                                 0.992988           0.943702   \n",
       "INSTRUCTION_EXPENDITURE                           0.974399           0.902173   \n",
       "SUPPORT_SERVICES_EXPENDITURE                      1.000000           0.952282   \n",
       "OTHER_EXPENDITURE                                 0.952282           1.000000   \n",
       "CAPITAL_OUTLAY_EXPENDITURE                        0.911245           0.918188   \n",
       "\n",
       "                              CAPITAL_OUTLAY_EXPENDITURE  \n",
       "overall_avg                                    -0.005389  \n",
       "expenditures_pca                                0.955792  \n",
       "TOTAL_EXPENDITURE                               0.925784  \n",
       "INSTRUCTION_EXPENDITURE                         0.884798  \n",
       "SUPPORT_SERVICES_EXPENDITURE                    0.911245  \n",
       "OTHER_EXPENDITURE                               0.918188  \n",
       "CAPITAL_OUTLAY_EXPENDITURE                      1.000000  "
      ]
     },
     "execution_count": 39,
     "metadata": {},
     "output_type": "execute_result"
    },
    {
     "data": {
      "application/javascript": [
       "\n",
       "            setTimeout(function() {\n",
       "                var nbb_cell_id = 39;\n",
       "                var nbb_unformatted_code = \"df[\\n    [\\n        \\\"overall_avg\\\",\\n        \\\"expenditures_pca\\\",\\n        \\\"TOTAL_EXPENDITURE\\\",\\n        \\\"INSTRUCTION_EXPENDITURE\\\",\\n        \\\"SUPPORT_SERVICES_EXPENDITURE\\\",\\n        \\\"OTHER_EXPENDITURE\\\",\\n        \\\"CAPITAL_OUTLAY_EXPENDITURE\\\",\\n    ]\\n].corr()\";\n",
       "                var nbb_formatted_code = \"df[\\n    [\\n        \\\"overall_avg\\\",\\n        \\\"expenditures_pca\\\",\\n        \\\"TOTAL_EXPENDITURE\\\",\\n        \\\"INSTRUCTION_EXPENDITURE\\\",\\n        \\\"SUPPORT_SERVICES_EXPENDITURE\\\",\\n        \\\"OTHER_EXPENDITURE\\\",\\n        \\\"CAPITAL_OUTLAY_EXPENDITURE\\\",\\n    ]\\n].corr()\";\n",
       "                var nbb_cells = Jupyter.notebook.get_cells();\n",
       "                for (var i = 0; i < nbb_cells.length; ++i) {\n",
       "                    if (nbb_cells[i].input_prompt_number == nbb_cell_id) {\n",
       "                        if (nbb_cells[i].get_text() == nbb_unformatted_code) {\n",
       "                             nbb_cells[i].set_text(nbb_formatted_code);\n",
       "                        }\n",
       "                        break;\n",
       "                    }\n",
       "                }\n",
       "            }, 500);\n",
       "            "
      ],
      "text/plain": [
       "<IPython.core.display.Javascript object>"
      ]
     },
     "metadata": {},
     "output_type": "display_data"
    },
    {
     "data": {
      "application/javascript": [
       "\n",
       "            setTimeout(function() {\n",
       "                var nbb_cell_id = 39;\n",
       "                var nbb_unformatted_code = \"df[\\n    [\\n        \\\"overall_avg\\\",\\n        \\\"expenditures_pca\\\",\\n        \\\"TOTAL_EXPENDITURE\\\",\\n        \\\"INSTRUCTION_EXPENDITURE\\\",\\n        \\\"SUPPORT_SERVICES_EXPENDITURE\\\",\\n        \\\"OTHER_EXPENDITURE\\\",\\n        \\\"CAPITAL_OUTLAY_EXPENDITURE\\\",\\n    ]\\n].corr()\";\n",
       "                var nbb_formatted_code = \"df[\\n    [\\n        \\\"overall_avg\\\",\\n        \\\"expenditures_pca\\\",\\n        \\\"TOTAL_EXPENDITURE\\\",\\n        \\\"INSTRUCTION_EXPENDITURE\\\",\\n        \\\"SUPPORT_SERVICES_EXPENDITURE\\\",\\n        \\\"OTHER_EXPENDITURE\\\",\\n        \\\"CAPITAL_OUTLAY_EXPENDITURE\\\",\\n    ]\\n].corr()\";\n",
       "                var nbb_cells = Jupyter.notebook.get_cells();\n",
       "                for (var i = 0; i < nbb_cells.length; ++i) {\n",
       "                    if (nbb_cells[i].input_prompt_number == nbb_cell_id) {\n",
       "                        if (nbb_cells[i].get_text() == nbb_unformatted_code) {\n",
       "                             nbb_cells[i].set_text(nbb_formatted_code);\n",
       "                        }\n",
       "                        break;\n",
       "                    }\n",
       "                }\n",
       "            }, 500);\n",
       "            "
      ],
      "text/plain": [
       "<IPython.core.display.Javascript object>"
      ]
     },
     "metadata": {},
     "output_type": "display_data"
    }
   ],
   "source": [
    "df[\n",
    "    [\n",
    "        \"overall_avg\",\n",
    "        \"expenditures_pca\",\n",
    "        \"TOTAL_EXPENDITURE\",\n",
    "        \"INSTRUCTION_EXPENDITURE\",\n",
    "        \"SUPPORT_SERVICES_EXPENDITURE\",\n",
    "        \"OTHER_EXPENDITURE\",\n",
    "        \"CAPITAL_OUTLAY_EXPENDITURE\",\n",
    "    ]\n",
    "].corr()"
   ]
  },
  {
   "cell_type": "markdown",
   "metadata": {},
   "source": [
    "> Correlation between overall_avg and expenditures_pca = 0.044596\n",
    "---"
   ]
  },
  {
   "cell_type": "markdown",
   "metadata": {},
   "source": [
    "### 5. If you were to choose the best variables for your model, would you prefer using the first principal component instead of the expenditure variables? Why?"
   ]
  },
  {
   "cell_type": "markdown",
   "metadata": {},
   "source": [
    "> I would rather use the expenditures vars because they have a higher correlation than the pca var\n",
    "---"
   ]
  }
 ],
 "metadata": {
  "kernelspec": {
   "display_name": "Python 3",
   "language": "python",
   "name": "python3"
  },
  "language_info": {
   "codemirror_mode": {
    "name": "ipython",
    "version": 3
   },
   "file_extension": ".py",
   "mimetype": "text/x-python",
   "name": "python",
   "nbconvert_exporter": "python",
   "pygments_lexer": "ipython3",
   "version": "3.8.3"
  },
  "toc": {
   "base_numbering": 1,
   "nav_menu": {},
   "number_sections": false,
   "sideBar": true,
   "skip_h1_title": false,
   "title_cell": "Table of Contents",
   "title_sidebar": "Contents",
   "toc_cell": false,
   "toc_position": {
    "height": "calc(100% - 180px)",
    "left": "10px",
    "top": "150px",
    "width": "384px"
   },
   "toc_section_display": true,
   "toc_window_display": true
  }
 },
 "nbformat": 4,
 "nbformat_minor": 4
}
