{
 "cells": [
  {
   "cell_type": "code",
   "execution_count": 13,
   "metadata": {},
   "outputs": [
    {
     "data": {
      "application/javascript": [
       "\n",
       "            setTimeout(function() {\n",
       "                var nbb_cell_id = 13;\n",
       "                var nbb_unformatted_code = \"import pandas as pd\\nimport numpy as np\\nfrom scipy import stats\\n%reload_ext nb_black\\nfrom matplotlib import pyplot as plt\\nimport plotly\\nimport seaborn as sns\\nfrom statsmodels.graphics.gofplots import qqplot\\n\\n%matplotlib inline\";\n",
       "                var nbb_formatted_code = \"import pandas as pd\\nimport numpy as np\\nfrom scipy import stats\\n\\n%reload_ext nb_black\\nfrom matplotlib import pyplot as plt\\nimport plotly\\nimport seaborn as sns\\nfrom statsmodels.graphics.gofplots import qqplot\\n\\n%matplotlib inline\";\n",
       "                var nbb_cells = Jupyter.notebook.get_cells();\n",
       "                for (var i = 0; i < nbb_cells.length; ++i) {\n",
       "                    if (nbb_cells[i].input_prompt_number == nbb_cell_id) {\n",
       "                        if (nbb_cells[i].get_text() == nbb_unformatted_code) {\n",
       "                             nbb_cells[i].set_text(nbb_formatted_code);\n",
       "                        }\n",
       "                        break;\n",
       "                    }\n",
       "                }\n",
       "            }, 500);\n",
       "            "
      ],
      "text/plain": [
       "<IPython.core.display.Javascript object>"
      ]
     },
     "metadata": {},
     "output_type": "display_data"
    },
    {
     "data": {
      "application/javascript": [
       "\n",
       "            setTimeout(function() {\n",
       "                var nbb_cell_id = 13;\n",
       "                var nbb_unformatted_code = \"import pandas as pd\\nimport numpy as np\\nfrom scipy import stats\\n%reload_ext nb_black\\nfrom matplotlib import pyplot as plt\\nimport plotly\\nimport seaborn as sns\\nfrom statsmodels.graphics.gofplots import qqplot\\n\\n%matplotlib inline\";\n",
       "                var nbb_formatted_code = \"import pandas as pd\\nimport numpy as np\\nfrom scipy import stats\\n\\n%reload_ext nb_black\\nfrom matplotlib import pyplot as plt\\nimport plotly\\nimport seaborn as sns\\nfrom statsmodels.graphics.gofplots import qqplot\\n\\n%matplotlib inline\";\n",
       "                var nbb_cells = Jupyter.notebook.get_cells();\n",
       "                for (var i = 0; i < nbb_cells.length; ++i) {\n",
       "                    if (nbb_cells[i].input_prompt_number == nbb_cell_id) {\n",
       "                        if (nbb_cells[i].get_text() == nbb_unformatted_code) {\n",
       "                             nbb_cells[i].set_text(nbb_formatted_code);\n",
       "                        }\n",
       "                        break;\n",
       "                    }\n",
       "                }\n",
       "            }, 500);\n",
       "            "
      ],
      "text/plain": [
       "<IPython.core.display.Javascript object>"
      ]
     },
     "metadata": {},
     "output_type": "display_data"
    },
    {
     "data": {
      "application/javascript": [
       "\n",
       "            setTimeout(function() {\n",
       "                var nbb_cell_id = 13;\n",
       "                var nbb_unformatted_code = \"import pandas as pd\\nimport numpy as np\\nfrom scipy import stats\\n%reload_ext nb_black\\nfrom matplotlib import pyplot as plt\\nimport plotly\\nimport seaborn as sns\\nfrom statsmodels.graphics.gofplots import qqplot\\n\\n%matplotlib inline\";\n",
       "                var nbb_formatted_code = \"import pandas as pd\\nimport numpy as np\\nfrom scipy import stats\\n\\n%reload_ext nb_black\\nfrom matplotlib import pyplot as plt\\nimport plotly\\nimport seaborn as sns\\nfrom statsmodels.graphics.gofplots import qqplot\\n\\n%matplotlib inline\";\n",
       "                var nbb_cells = Jupyter.notebook.get_cells();\n",
       "                for (var i = 0; i < nbb_cells.length; ++i) {\n",
       "                    if (nbb_cells[i].input_prompt_number == nbb_cell_id) {\n",
       "                        if (nbb_cells[i].get_text() == nbb_unformatted_code) {\n",
       "                             nbb_cells[i].set_text(nbb_formatted_code);\n",
       "                        }\n",
       "                        break;\n",
       "                    }\n",
       "                }\n",
       "            }, 500);\n",
       "            "
      ],
      "text/plain": [
       "<IPython.core.display.Javascript object>"
      ]
     },
     "metadata": {},
     "output_type": "display_data"
    },
    {
     "data": {
      "application/javascript": [
       "\n",
       "            setTimeout(function() {\n",
       "                var nbb_cell_id = 13;\n",
       "                var nbb_unformatted_code = \"import pandas as pd\\nimport numpy as np\\nfrom scipy import stats\\n%reload_ext nb_black\\nfrom matplotlib import pyplot as plt\\nimport plotly\\nimport seaborn as sns\\nfrom statsmodels.graphics.gofplots import qqplot\\n\\n%matplotlib inline\";\n",
       "                var nbb_formatted_code = \"import pandas as pd\\nimport numpy as np\\nfrom scipy import stats\\n\\n%reload_ext nb_black\\nfrom matplotlib import pyplot as plt\\nimport plotly\\nimport seaborn as sns\\nfrom statsmodels.graphics.gofplots import qqplot\\n\\n%matplotlib inline\";\n",
       "                var nbb_cells = Jupyter.notebook.get_cells();\n",
       "                for (var i = 0; i < nbb_cells.length; ++i) {\n",
       "                    if (nbb_cells[i].input_prompt_number == nbb_cell_id) {\n",
       "                        if (nbb_cells[i].get_text() == nbb_unformatted_code) {\n",
       "                             nbb_cells[i].set_text(nbb_formatted_code);\n",
       "                        }\n",
       "                        break;\n",
       "                    }\n",
       "                }\n",
       "            }, 500);\n",
       "            "
      ],
      "text/plain": [
       "<IPython.core.display.Javascript object>"
      ]
     },
     "metadata": {},
     "output_type": "display_data"
    },
    {
     "data": {
      "application/javascript": [
       "\n",
       "            setTimeout(function() {\n",
       "                var nbb_cell_id = 13;\n",
       "                var nbb_unformatted_code = \"import pandas as pd\\nimport numpy as np\\nfrom scipy import stats\\n%reload_ext nb_black\\nfrom matplotlib import pyplot as plt\\nimport plotly\\nimport seaborn as sns\\nfrom statsmodels.graphics.gofplots import qqplot\\n\\n%matplotlib inline\";\n",
       "                var nbb_formatted_code = \"import pandas as pd\\nimport numpy as np\\nfrom scipy import stats\\n\\n%reload_ext nb_black\\nfrom matplotlib import pyplot as plt\\nimport plotly\\nimport seaborn as sns\\nfrom statsmodels.graphics.gofplots import qqplot\\n\\n%matplotlib inline\";\n",
       "                var nbb_cells = Jupyter.notebook.get_cells();\n",
       "                for (var i = 0; i < nbb_cells.length; ++i) {\n",
       "                    if (nbb_cells[i].input_prompt_number == nbb_cell_id) {\n",
       "                        if (nbb_cells[i].get_text() == nbb_unformatted_code) {\n",
       "                             nbb_cells[i].set_text(nbb_formatted_code);\n",
       "                        }\n",
       "                        break;\n",
       "                    }\n",
       "                }\n",
       "            }, 500);\n",
       "            "
      ],
      "text/plain": [
       "<IPython.core.display.Javascript object>"
      ]
     },
     "metadata": {},
     "output_type": "display_data"
    }
   ],
   "source": [
    "import pandas as pd\n",
    "import numpy as np\n",
    "from scipy import stats\n",
    "\n",
    "%reload_ext nb_black\n",
    "from matplotlib import pyplot as plt\n",
    "import plotly\n",
    "import seaborn as sns\n",
    "from statsmodels.graphics.gofplots import qqplot\n",
    "\n",
    "%matplotlib inline"
   ]
  },
  {
   "cell_type": "code",
   "execution_count": 9,
   "metadata": {
    "scrolled": true
   },
   "outputs": [
    {
     "data": {
      "text/html": [
       "<div>\n",
       "<style scoped>\n",
       "    .dataframe tbody tr th:only-of-type {\n",
       "        vertical-align: middle;\n",
       "    }\n",
       "\n",
       "    .dataframe tbody tr th {\n",
       "        vertical-align: top;\n",
       "    }\n",
       "\n",
       "    .dataframe thead th {\n",
       "        text-align: right;\n",
       "    }\n",
       "</style>\n",
       "<table border=\"1\" class=\"dataframe\">\n",
       "  <thead>\n",
       "    <tr style=\"text-align: right;\">\n",
       "      <th></th>\n",
       "      <th>gender</th>\n",
       "      <th>race/ethnicity</th>\n",
       "      <th>parent_education</th>\n",
       "      <th>lunch</th>\n",
       "      <th>test_prep</th>\n",
       "      <th>math</th>\n",
       "      <th>reading</th>\n",
       "      <th>writing</th>\n",
       "    </tr>\n",
       "  </thead>\n",
       "  <tbody>\n",
       "    <tr>\n",
       "      <th>0</th>\n",
       "      <td>female</td>\n",
       "      <td>group B</td>\n",
       "      <td>bachelor's degree</td>\n",
       "      <td>standard</td>\n",
       "      <td>none</td>\n",
       "      <td>72</td>\n",
       "      <td>72</td>\n",
       "      <td>74</td>\n",
       "    </tr>\n",
       "    <tr>\n",
       "      <th>1</th>\n",
       "      <td>female</td>\n",
       "      <td>group C</td>\n",
       "      <td>some college</td>\n",
       "      <td>standard</td>\n",
       "      <td>completed</td>\n",
       "      <td>69</td>\n",
       "      <td>90</td>\n",
       "      <td>88</td>\n",
       "    </tr>\n",
       "    <tr>\n",
       "      <th>2</th>\n",
       "      <td>female</td>\n",
       "      <td>group B</td>\n",
       "      <td>master's degree</td>\n",
       "      <td>standard</td>\n",
       "      <td>none</td>\n",
       "      <td>90</td>\n",
       "      <td>95</td>\n",
       "      <td>93</td>\n",
       "    </tr>\n",
       "    <tr>\n",
       "      <th>3</th>\n",
       "      <td>male</td>\n",
       "      <td>group A</td>\n",
       "      <td>associate's degree</td>\n",
       "      <td>free/reduced</td>\n",
       "      <td>none</td>\n",
       "      <td>47</td>\n",
       "      <td>57</td>\n",
       "      <td>44</td>\n",
       "    </tr>\n",
       "    <tr>\n",
       "      <th>4</th>\n",
       "      <td>male</td>\n",
       "      <td>group C</td>\n",
       "      <td>some college</td>\n",
       "      <td>standard</td>\n",
       "      <td>none</td>\n",
       "      <td>76</td>\n",
       "      <td>78</td>\n",
       "      <td>75</td>\n",
       "    </tr>\n",
       "  </tbody>\n",
       "</table>\n",
       "</div>"
      ],
      "text/plain": [
       "   gender race/ethnicity    parent_education         lunch  test_prep  math  \\\n",
       "0  female        group B   bachelor's degree      standard       none    72   \n",
       "1  female        group C        some college      standard  completed    69   \n",
       "2  female        group B     master's degree      standard       none    90   \n",
       "3    male        group A  associate's degree  free/reduced       none    47   \n",
       "4    male        group C        some college      standard       none    76   \n",
       "\n",
       "   reading  writing  \n",
       "0       72       74  \n",
       "1       90       88  \n",
       "2       95       93  \n",
       "3       57       44  \n",
       "4       78       75  "
      ]
     },
     "execution_count": 9,
     "metadata": {},
     "output_type": "execute_result"
    },
    {
     "data": {
      "application/javascript": [
       "\n",
       "            setTimeout(function() {\n",
       "                var nbb_cell_id = 9;\n",
       "                var nbb_unformatted_code = \"%reload_ext nb_black\\npostgres_user = \\\"dsbc_student\\\"\\npostgres_pw = \\\"7*.8G9QH21\\\"\\npostgres_host = \\\"142.93.121.174\\\"\\npostgres_port = \\\"5432\\\"\\npostgres_db = \\\"studentsperformance\\\"\\nconn_str = f\\\"postgresql://{postgres_user}:{postgres_pw}@{postgres_host}:{postgres_port}/{postgres_db}\\\"\\nquery = \\\"\\\"\\\"\\nSELECT *\\nFROM studentsperformance\\n\\\"\\\"\\\"\\ndf = pd.read_sql_query(query, con=conn_str)\\n\\n# I don't like the column names bc I can't use my column methods\\nmapping = {\\n    \\\"parental level of education\\\": \\\"parent_education\\\",\\n    \\\"test preparation course\\\": \\\"test_prep\\\",\\n    \\\"math score\\\": \\\"math\\\",\\n    \\\"reading score\\\": \\\"reading\\\",\\n    \\\"writing score\\\": \\\"writing\\\",\\n}\\ndf = df.rename(columns=mapping)\\ndf.head()\";\n",
       "                var nbb_formatted_code = \"%reload_ext nb_black\\npostgres_user = \\\"dsbc_student\\\"\\npostgres_pw = \\\"7*.8G9QH21\\\"\\npostgres_host = \\\"142.93.121.174\\\"\\npostgres_port = \\\"5432\\\"\\npostgres_db = \\\"studentsperformance\\\"\\nconn_str = f\\\"postgresql://{postgres_user}:{postgres_pw}@{postgres_host}:{postgres_port}/{postgres_db}\\\"\\nquery = \\\"\\\"\\\"\\nSELECT *\\nFROM studentsperformance\\n\\\"\\\"\\\"\\ndf = pd.read_sql_query(query, con=conn_str)\\n\\n# I don't like the column names bc I can't use my column methods\\nmapping = {\\n    \\\"parental level of education\\\": \\\"parent_education\\\",\\n    \\\"test preparation course\\\": \\\"test_prep\\\",\\n    \\\"math score\\\": \\\"math\\\",\\n    \\\"reading score\\\": \\\"reading\\\",\\n    \\\"writing score\\\": \\\"writing\\\",\\n}\\ndf = df.rename(columns=mapping)\\ndf.head()\";\n",
       "                var nbb_cells = Jupyter.notebook.get_cells();\n",
       "                for (var i = 0; i < nbb_cells.length; ++i) {\n",
       "                    if (nbb_cells[i].input_prompt_number == nbb_cell_id) {\n",
       "                        if (nbb_cells[i].get_text() == nbb_unformatted_code) {\n",
       "                             nbb_cells[i].set_text(nbb_formatted_code);\n",
       "                        }\n",
       "                        break;\n",
       "                    }\n",
       "                }\n",
       "            }, 500);\n",
       "            "
      ],
      "text/plain": [
       "<IPython.core.display.Javascript object>"
      ]
     },
     "metadata": {},
     "output_type": "display_data"
    },
    {
     "data": {
      "application/javascript": [
       "\n",
       "            setTimeout(function() {\n",
       "                var nbb_cell_id = 9;\n",
       "                var nbb_unformatted_code = \"%reload_ext nb_black\\npostgres_user = \\\"dsbc_student\\\"\\npostgres_pw = \\\"7*.8G9QH21\\\"\\npostgres_host = \\\"142.93.121.174\\\"\\npostgres_port = \\\"5432\\\"\\npostgres_db = \\\"studentsperformance\\\"\\nconn_str = f\\\"postgresql://{postgres_user}:{postgres_pw}@{postgres_host}:{postgres_port}/{postgres_db}\\\"\\nquery = \\\"\\\"\\\"\\nSELECT *\\nFROM studentsperformance\\n\\\"\\\"\\\"\\ndf = pd.read_sql_query(query, con=conn_str)\\n\\n# I don't like the column names bc I can't use my column methods\\nmapping = {\\n    \\\"parental level of education\\\": \\\"parent_education\\\",\\n    \\\"test preparation course\\\": \\\"test_prep\\\",\\n    \\\"math score\\\": \\\"math\\\",\\n    \\\"reading score\\\": \\\"reading\\\",\\n    \\\"writing score\\\": \\\"writing\\\",\\n}\\ndf = df.rename(columns=mapping)\\ndf.head()\";\n",
       "                var nbb_formatted_code = \"%reload_ext nb_black\\npostgres_user = \\\"dsbc_student\\\"\\npostgres_pw = \\\"7*.8G9QH21\\\"\\npostgres_host = \\\"142.93.121.174\\\"\\npostgres_port = \\\"5432\\\"\\npostgres_db = \\\"studentsperformance\\\"\\nconn_str = f\\\"postgresql://{postgres_user}:{postgres_pw}@{postgres_host}:{postgres_port}/{postgres_db}\\\"\\nquery = \\\"\\\"\\\"\\nSELECT *\\nFROM studentsperformance\\n\\\"\\\"\\\"\\ndf = pd.read_sql_query(query, con=conn_str)\\n\\n# I don't like the column names bc I can't use my column methods\\nmapping = {\\n    \\\"parental level of education\\\": \\\"parent_education\\\",\\n    \\\"test preparation course\\\": \\\"test_prep\\\",\\n    \\\"math score\\\": \\\"math\\\",\\n    \\\"reading score\\\": \\\"reading\\\",\\n    \\\"writing score\\\": \\\"writing\\\",\\n}\\ndf = df.rename(columns=mapping)\\ndf.head()\";\n",
       "                var nbb_cells = Jupyter.notebook.get_cells();\n",
       "                for (var i = 0; i < nbb_cells.length; ++i) {\n",
       "                    if (nbb_cells[i].input_prompt_number == nbb_cell_id) {\n",
       "                        if (nbb_cells[i].get_text() == nbb_unformatted_code) {\n",
       "                             nbb_cells[i].set_text(nbb_formatted_code);\n",
       "                        }\n",
       "                        break;\n",
       "                    }\n",
       "                }\n",
       "            }, 500);\n",
       "            "
      ],
      "text/plain": [
       "<IPython.core.display.Javascript object>"
      ]
     },
     "metadata": {},
     "output_type": "display_data"
    },
    {
     "data": {
      "application/javascript": [
       "\n",
       "            setTimeout(function() {\n",
       "                var nbb_cell_id = 9;\n",
       "                var nbb_unformatted_code = \"%reload_ext nb_black\\npostgres_user = \\\"dsbc_student\\\"\\npostgres_pw = \\\"7*.8G9QH21\\\"\\npostgres_host = \\\"142.93.121.174\\\"\\npostgres_port = \\\"5432\\\"\\npostgres_db = \\\"studentsperformance\\\"\\nconn_str = f\\\"postgresql://{postgres_user}:{postgres_pw}@{postgres_host}:{postgres_port}/{postgres_db}\\\"\\nquery = \\\"\\\"\\\"\\nSELECT *\\nFROM studentsperformance\\n\\\"\\\"\\\"\\ndf = pd.read_sql_query(query, con=conn_str)\\n\\n# I don't like the column names bc I can't use my column methods\\nmapping = {\\n    \\\"parental level of education\\\": \\\"parent_education\\\",\\n    \\\"test preparation course\\\": \\\"test_prep\\\",\\n    \\\"math score\\\": \\\"math\\\",\\n    \\\"reading score\\\": \\\"reading\\\",\\n    \\\"writing score\\\": \\\"writing\\\",\\n}\\ndf = df.rename(columns=mapping)\\ndf.head()\";\n",
       "                var nbb_formatted_code = \"%reload_ext nb_black\\npostgres_user = \\\"dsbc_student\\\"\\npostgres_pw = \\\"7*.8G9QH21\\\"\\npostgres_host = \\\"142.93.121.174\\\"\\npostgres_port = \\\"5432\\\"\\npostgres_db = \\\"studentsperformance\\\"\\nconn_str = f\\\"postgresql://{postgres_user}:{postgres_pw}@{postgres_host}:{postgres_port}/{postgres_db}\\\"\\nquery = \\\"\\\"\\\"\\nSELECT *\\nFROM studentsperformance\\n\\\"\\\"\\\"\\ndf = pd.read_sql_query(query, con=conn_str)\\n\\n# I don't like the column names bc I can't use my column methods\\nmapping = {\\n    \\\"parental level of education\\\": \\\"parent_education\\\",\\n    \\\"test preparation course\\\": \\\"test_prep\\\",\\n    \\\"math score\\\": \\\"math\\\",\\n    \\\"reading score\\\": \\\"reading\\\",\\n    \\\"writing score\\\": \\\"writing\\\",\\n}\\ndf = df.rename(columns=mapping)\\ndf.head()\";\n",
       "                var nbb_cells = Jupyter.notebook.get_cells();\n",
       "                for (var i = 0; i < nbb_cells.length; ++i) {\n",
       "                    if (nbb_cells[i].input_prompt_number == nbb_cell_id) {\n",
       "                        if (nbb_cells[i].get_text() == nbb_unformatted_code) {\n",
       "                             nbb_cells[i].set_text(nbb_formatted_code);\n",
       "                        }\n",
       "                        break;\n",
       "                    }\n",
       "                }\n",
       "            }, 500);\n",
       "            "
      ],
      "text/plain": [
       "<IPython.core.display.Javascript object>"
      ]
     },
     "metadata": {},
     "output_type": "display_data"
    },
    {
     "data": {
      "application/javascript": [
       "\n",
       "            setTimeout(function() {\n",
       "                var nbb_cell_id = 9;\n",
       "                var nbb_unformatted_code = \"%reload_ext nb_black\\npostgres_user = \\\"dsbc_student\\\"\\npostgres_pw = \\\"7*.8G9QH21\\\"\\npostgres_host = \\\"142.93.121.174\\\"\\npostgres_port = \\\"5432\\\"\\npostgres_db = \\\"studentsperformance\\\"\\nconn_str = f\\\"postgresql://{postgres_user}:{postgres_pw}@{postgres_host}:{postgres_port}/{postgres_db}\\\"\\nquery = \\\"\\\"\\\"\\nSELECT *\\nFROM studentsperformance\\n\\\"\\\"\\\"\\ndf = pd.read_sql_query(query, con=conn_str)\\n\\n# I don't like the column names bc I can't use my column methods\\nmapping = {\\n    \\\"parental level of education\\\": \\\"parent_education\\\",\\n    \\\"test preparation course\\\": \\\"test_prep\\\",\\n    \\\"math score\\\": \\\"math\\\",\\n    \\\"reading score\\\": \\\"reading\\\",\\n    \\\"writing score\\\": \\\"writing\\\",\\n}\\ndf = df.rename(columns=mapping)\\ndf.head()\";\n",
       "                var nbb_formatted_code = \"%reload_ext nb_black\\npostgres_user = \\\"dsbc_student\\\"\\npostgres_pw = \\\"7*.8G9QH21\\\"\\npostgres_host = \\\"142.93.121.174\\\"\\npostgres_port = \\\"5432\\\"\\npostgres_db = \\\"studentsperformance\\\"\\nconn_str = f\\\"postgresql://{postgres_user}:{postgres_pw}@{postgres_host}:{postgres_port}/{postgres_db}\\\"\\nquery = \\\"\\\"\\\"\\nSELECT *\\nFROM studentsperformance\\n\\\"\\\"\\\"\\ndf = pd.read_sql_query(query, con=conn_str)\\n\\n# I don't like the column names bc I can't use my column methods\\nmapping = {\\n    \\\"parental level of education\\\": \\\"parent_education\\\",\\n    \\\"test preparation course\\\": \\\"test_prep\\\",\\n    \\\"math score\\\": \\\"math\\\",\\n    \\\"reading score\\\": \\\"reading\\\",\\n    \\\"writing score\\\": \\\"writing\\\",\\n}\\ndf = df.rename(columns=mapping)\\ndf.head()\";\n",
       "                var nbb_cells = Jupyter.notebook.get_cells();\n",
       "                for (var i = 0; i < nbb_cells.length; ++i) {\n",
       "                    if (nbb_cells[i].input_prompt_number == nbb_cell_id) {\n",
       "                        if (nbb_cells[i].get_text() == nbb_unformatted_code) {\n",
       "                             nbb_cells[i].set_text(nbb_formatted_code);\n",
       "                        }\n",
       "                        break;\n",
       "                    }\n",
       "                }\n",
       "            }, 500);\n",
       "            "
      ],
      "text/plain": [
       "<IPython.core.display.Javascript object>"
      ]
     },
     "metadata": {},
     "output_type": "display_data"
    }
   ],
   "source": [
    "%reload_ext nb_black\n",
    "postgres_user = \"dsbc_student\"\n",
    "postgres_pw = \"7*.8G9QH21\"\n",
    "postgres_host = \"142.93.121.174\"\n",
    "postgres_port = \"5432\"\n",
    "postgres_db = \"studentsperformance\"\n",
    "conn_str = f\"postgresql://{postgres_user}:{postgres_pw}@{postgres_host}:{postgres_port}/{postgres_db}\"\n",
    "query = \"\"\"\n",
    "SELECT *\n",
    "FROM studentsperformance\n",
    "\"\"\"\n",
    "df = pd.read_sql_query(query, con=conn_str)\n",
    "\n",
    "# I don't like the column names bc I can't use my column methods\n",
    "mapping = {\n",
    "    \"parental level of education\": \"parent_education\",\n",
    "    \"test preparation course\": \"test_prep\",\n",
    "    \"math score\": \"math\",\n",
    "    \"reading score\": \"reading\",\n",
    "    \"writing score\": \"writing\",\n",
    "}\n",
    "df = df.rename(columns=mapping)\n",
    "df.head()"
   ]
  },
  {
   "cell_type": "markdown",
   "metadata": {},
   "source": [
    "# Are the exam score variables normally distributed? If not, apply a Box-Cox transformation. Does anything change?"
   ]
  },
  {
   "cell_type": "code",
   "execution_count": 15,
   "metadata": {},
   "outputs": [
    {
     "name": "stdout",
     "output_type": "stream",
     "text": [
      "math\n",
      "Jarque-Bera\n",
      "Jarque_beraResult(statistic=15.912256686712709, pvalue=0.0003505075386818213)\n",
      "Normal Test\n",
      "NormaltestResult(statistic=15.408960513931822, pvalue=0.00045080293869937836)\n",
      "--------------------------------------------------------------------\n",
      "reading\n",
      "Jarque-Bera\n",
      "Jarque_beraResult(statistic=11.383300575987892, pvalue=0.0033740202672214448)\n",
      "Normal Test\n",
      "NormaltestResult(statistic=11.11741279628622, pvalue=0.003853758403576582)\n",
      "--------------------------------------------------------------------\n",
      "writing\n",
      "Jarque-Bera\n",
      "Jarque_beraResult(statistic=13.98509448257235, pvalue=0.0009187033894586527)\n",
      "Normal Test\n",
      "NormaltestResult(statistic=13.606450837263859, pvalue=0.0011101885439899974)\n",
      "--------------------------------------------------------------------\n"
     ]
    },
    {
     "data": {
      "application/javascript": [
       "\n",
       "            setTimeout(function() {\n",
       "                var nbb_cell_id = 15;\n",
       "                var nbb_unformatted_code = \"for var in [\\\"math\\\", \\\"reading\\\", \\\"writing\\\"]:\\n    print(var)\\n    print(\\\"Jarque-Bera\\\")\\n    print(stats.jarque_bera(df[var]))\\n    print(\\\"Normal Test\\\")\\n    print(stats.normaltest(df[var]))\\n    print(\\\"--------------------------------------------------------------------\\\")\";\n",
       "                var nbb_formatted_code = \"for var in [\\\"math\\\", \\\"reading\\\", \\\"writing\\\"]:\\n    print(var)\\n    print(\\\"Jarque-Bera\\\")\\n    print(stats.jarque_bera(df[var]))\\n    print(\\\"Normal Test\\\")\\n    print(stats.normaltest(df[var]))\\n    print(\\\"--------------------------------------------------------------------\\\")\";\n",
       "                var nbb_cells = Jupyter.notebook.get_cells();\n",
       "                for (var i = 0; i < nbb_cells.length; ++i) {\n",
       "                    if (nbb_cells[i].input_prompt_number == nbb_cell_id) {\n",
       "                        if (nbb_cells[i].get_text() == nbb_unformatted_code) {\n",
       "                             nbb_cells[i].set_text(nbb_formatted_code);\n",
       "                        }\n",
       "                        break;\n",
       "                    }\n",
       "                }\n",
       "            }, 500);\n",
       "            "
      ],
      "text/plain": [
       "<IPython.core.display.Javascript object>"
      ]
     },
     "metadata": {},
     "output_type": "display_data"
    },
    {
     "data": {
      "application/javascript": [
       "\n",
       "            setTimeout(function() {\n",
       "                var nbb_cell_id = 15;\n",
       "                var nbb_unformatted_code = \"for var in [\\\"math\\\", \\\"reading\\\", \\\"writing\\\"]:\\n    print(var)\\n    print(\\\"Jarque-Bera\\\")\\n    print(stats.jarque_bera(df[var]))\\n    print(\\\"Normal Test\\\")\\n    print(stats.normaltest(df[var]))\\n    print(\\\"--------------------------------------------------------------------\\\")\";\n",
       "                var nbb_formatted_code = \"for var in [\\\"math\\\", \\\"reading\\\", \\\"writing\\\"]:\\n    print(var)\\n    print(\\\"Jarque-Bera\\\")\\n    print(stats.jarque_bera(df[var]))\\n    print(\\\"Normal Test\\\")\\n    print(stats.normaltest(df[var]))\\n    print(\\\"--------------------------------------------------------------------\\\")\";\n",
       "                var nbb_cells = Jupyter.notebook.get_cells();\n",
       "                for (var i = 0; i < nbb_cells.length; ++i) {\n",
       "                    if (nbb_cells[i].input_prompt_number == nbb_cell_id) {\n",
       "                        if (nbb_cells[i].get_text() == nbb_unformatted_code) {\n",
       "                             nbb_cells[i].set_text(nbb_formatted_code);\n",
       "                        }\n",
       "                        break;\n",
       "                    }\n",
       "                }\n",
       "            }, 500);\n",
       "            "
      ],
      "text/plain": [
       "<IPython.core.display.Javascript object>"
      ]
     },
     "metadata": {},
     "output_type": "display_data"
    },
    {
     "data": {
      "application/javascript": [
       "\n",
       "            setTimeout(function() {\n",
       "                var nbb_cell_id = 15;\n",
       "                var nbb_unformatted_code = \"for var in [\\\"math\\\", \\\"reading\\\", \\\"writing\\\"]:\\n    print(var)\\n    print(\\\"Jarque-Bera\\\")\\n    print(stats.jarque_bera(df[var]))\\n    print(\\\"Normal Test\\\")\\n    print(stats.normaltest(df[var]))\\n    print(\\\"--------------------------------------------------------------------\\\")\";\n",
       "                var nbb_formatted_code = \"for var in [\\\"math\\\", \\\"reading\\\", \\\"writing\\\"]:\\n    print(var)\\n    print(\\\"Jarque-Bera\\\")\\n    print(stats.jarque_bera(df[var]))\\n    print(\\\"Normal Test\\\")\\n    print(stats.normaltest(df[var]))\\n    print(\\\"--------------------------------------------------------------------\\\")\";\n",
       "                var nbb_cells = Jupyter.notebook.get_cells();\n",
       "                for (var i = 0; i < nbb_cells.length; ++i) {\n",
       "                    if (nbb_cells[i].input_prompt_number == nbb_cell_id) {\n",
       "                        if (nbb_cells[i].get_text() == nbb_unformatted_code) {\n",
       "                             nbb_cells[i].set_text(nbb_formatted_code);\n",
       "                        }\n",
       "                        break;\n",
       "                    }\n",
       "                }\n",
       "            }, 500);\n",
       "            "
      ],
      "text/plain": [
       "<IPython.core.display.Javascript object>"
      ]
     },
     "metadata": {},
     "output_type": "display_data"
    },
    {
     "data": {
      "application/javascript": [
       "\n",
       "            setTimeout(function() {\n",
       "                var nbb_cell_id = 15;\n",
       "                var nbb_unformatted_code = \"for var in [\\\"math\\\", \\\"reading\\\", \\\"writing\\\"]:\\n    print(var)\\n    print(\\\"Jarque-Bera\\\")\\n    print(stats.jarque_bera(df[var]))\\n    print(\\\"Normal Test\\\")\\n    print(stats.normaltest(df[var]))\\n    print(\\\"--------------------------------------------------------------------\\\")\";\n",
       "                var nbb_formatted_code = \"for var in [\\\"math\\\", \\\"reading\\\", \\\"writing\\\"]:\\n    print(var)\\n    print(\\\"Jarque-Bera\\\")\\n    print(stats.jarque_bera(df[var]))\\n    print(\\\"Normal Test\\\")\\n    print(stats.normaltest(df[var]))\\n    print(\\\"--------------------------------------------------------------------\\\")\";\n",
       "                var nbb_cells = Jupyter.notebook.get_cells();\n",
       "                for (var i = 0; i < nbb_cells.length; ++i) {\n",
       "                    if (nbb_cells[i].input_prompt_number == nbb_cell_id) {\n",
       "                        if (nbb_cells[i].get_text() == nbb_unformatted_code) {\n",
       "                             nbb_cells[i].set_text(nbb_formatted_code);\n",
       "                        }\n",
       "                        break;\n",
       "                    }\n",
       "                }\n",
       "            }, 500);\n",
       "            "
      ],
      "text/plain": [
       "<IPython.core.display.Javascript object>"
      ]
     },
     "metadata": {},
     "output_type": "display_data"
    },
    {
     "data": {
      "application/javascript": [
       "\n",
       "            setTimeout(function() {\n",
       "                var nbb_cell_id = 15;\n",
       "                var nbb_unformatted_code = \"for var in [\\\"math\\\", \\\"reading\\\", \\\"writing\\\"]:\\n    print(var)\\n    print(\\\"Jarque-Bera\\\")\\n    print(stats.jarque_bera(df[var]))\\n    print(\\\"Normal Test\\\")\\n    print(stats.normaltest(df[var]))\\n    print(\\\"--------------------------------------------------------------------\\\")\";\n",
       "                var nbb_formatted_code = \"for var in [\\\"math\\\", \\\"reading\\\", \\\"writing\\\"]:\\n    print(var)\\n    print(\\\"Jarque-Bera\\\")\\n    print(stats.jarque_bera(df[var]))\\n    print(\\\"Normal Test\\\")\\n    print(stats.normaltest(df[var]))\\n    print(\\\"--------------------------------------------------------------------\\\")\";\n",
       "                var nbb_cells = Jupyter.notebook.get_cells();\n",
       "                for (var i = 0; i < nbb_cells.length; ++i) {\n",
       "                    if (nbb_cells[i].input_prompt_number == nbb_cell_id) {\n",
       "                        if (nbb_cells[i].get_text() == nbb_unformatted_code) {\n",
       "                             nbb_cells[i].set_text(nbb_formatted_code);\n",
       "                        }\n",
       "                        break;\n",
       "                    }\n",
       "                }\n",
       "            }, 500);\n",
       "            "
      ],
      "text/plain": [
       "<IPython.core.display.Javascript object>"
      ]
     },
     "metadata": {},
     "output_type": "display_data"
    }
   ],
   "source": [
    "for var in [\"math\", \"reading\", \"writing\"]:\n",
    "    print(var)\n",
    "    print(\"Jarque-Bera\")\n",
    "    print(stats.jarque_bera(df[var]))\n",
    "    print(\"Normal Test\")\n",
    "    print(stats.normaltest(df[var]))\n",
    "    print(\"--------------------------------------------------------------------\")"
   ]
  },
  {
   "cell_type": "markdown",
   "metadata": {},
   "source": [
    "> none of the distributions are normal\n",
    "---"
   ]
  },
  {
   "cell_type": "markdown",
   "metadata": {},
   "source": [
    "# Say you want to use a single variable for the exam scores as your target. For this purpose, create a new variable by taking a weighted average of the exam scores. Check whether this new variable is normally distributed. If it's not normally distributed, apply a Box-Cox transformation and check whether or not the transformed variable is normally distributed."
   ]
  },
  {
   "cell_type": "code",
   "execution_count": 17,
   "metadata": {},
   "outputs": [
    {
     "data": {
      "text/plain": [
       "NormaltestResult(statistic=15.186721327231322, pvalue=0.0005037851534494478)"
      ]
     },
     "execution_count": 17,
     "metadata": {},
     "output_type": "execute_result"
    },
    {
     "data": {
      "application/javascript": [
       "\n",
       "            setTimeout(function() {\n",
       "                var nbb_cell_id = 17;\n",
       "                var nbb_unformatted_code = \"df[\\\"score_avg\\\"] = (df.math + df.reading + df.writing) / 3\\nstats.normaltest(df.score_avg)\";\n",
       "                var nbb_formatted_code = \"df[\\\"score_avg\\\"] = (df.math + df.reading + df.writing) / 3\\nstats.normaltest(df.score_avg)\";\n",
       "                var nbb_cells = Jupyter.notebook.get_cells();\n",
       "                for (var i = 0; i < nbb_cells.length; ++i) {\n",
       "                    if (nbb_cells[i].input_prompt_number == nbb_cell_id) {\n",
       "                        if (nbb_cells[i].get_text() == nbb_unformatted_code) {\n",
       "                             nbb_cells[i].set_text(nbb_formatted_code);\n",
       "                        }\n",
       "                        break;\n",
       "                    }\n",
       "                }\n",
       "            }, 500);\n",
       "            "
      ],
      "text/plain": [
       "<IPython.core.display.Javascript object>"
      ]
     },
     "metadata": {},
     "output_type": "display_data"
    },
    {
     "data": {
      "application/javascript": [
       "\n",
       "            setTimeout(function() {\n",
       "                var nbb_cell_id = 17;\n",
       "                var nbb_unformatted_code = \"df[\\\"score_avg\\\"] = (df.math + df.reading + df.writing) / 3\\nstats.normaltest(df.score_avg)\";\n",
       "                var nbb_formatted_code = \"df[\\\"score_avg\\\"] = (df.math + df.reading + df.writing) / 3\\nstats.normaltest(df.score_avg)\";\n",
       "                var nbb_cells = Jupyter.notebook.get_cells();\n",
       "                for (var i = 0; i < nbb_cells.length; ++i) {\n",
       "                    if (nbb_cells[i].input_prompt_number == nbb_cell_id) {\n",
       "                        if (nbb_cells[i].get_text() == nbb_unformatted_code) {\n",
       "                             nbb_cells[i].set_text(nbb_formatted_code);\n",
       "                        }\n",
       "                        break;\n",
       "                    }\n",
       "                }\n",
       "            }, 500);\n",
       "            "
      ],
      "text/plain": [
       "<IPython.core.display.Javascript object>"
      ]
     },
     "metadata": {},
     "output_type": "display_data"
    },
    {
     "data": {
      "application/javascript": [
       "\n",
       "            setTimeout(function() {\n",
       "                var nbb_cell_id = 17;\n",
       "                var nbb_unformatted_code = \"df[\\\"score_avg\\\"] = (df.math + df.reading + df.writing) / 3\\nstats.normaltest(df.score_avg)\";\n",
       "                var nbb_formatted_code = \"df[\\\"score_avg\\\"] = (df.math + df.reading + df.writing) / 3\\nstats.normaltest(df.score_avg)\";\n",
       "                var nbb_cells = Jupyter.notebook.get_cells();\n",
       "                for (var i = 0; i < nbb_cells.length; ++i) {\n",
       "                    if (nbb_cells[i].input_prompt_number == nbb_cell_id) {\n",
       "                        if (nbb_cells[i].get_text() == nbb_unformatted_code) {\n",
       "                             nbb_cells[i].set_text(nbb_formatted_code);\n",
       "                        }\n",
       "                        break;\n",
       "                    }\n",
       "                }\n",
       "            }, 500);\n",
       "            "
      ],
      "text/plain": [
       "<IPython.core.display.Javascript object>"
      ]
     },
     "metadata": {},
     "output_type": "display_data"
    },
    {
     "data": {
      "application/javascript": [
       "\n",
       "            setTimeout(function() {\n",
       "                var nbb_cell_id = 17;\n",
       "                var nbb_unformatted_code = \"df[\\\"score_avg\\\"] = (df.math + df.reading + df.writing) / 3\\nstats.normaltest(df.score_avg)\";\n",
       "                var nbb_formatted_code = \"df[\\\"score_avg\\\"] = (df.math + df.reading + df.writing) / 3\\nstats.normaltest(df.score_avg)\";\n",
       "                var nbb_cells = Jupyter.notebook.get_cells();\n",
       "                for (var i = 0; i < nbb_cells.length; ++i) {\n",
       "                    if (nbb_cells[i].input_prompt_number == nbb_cell_id) {\n",
       "                        if (nbb_cells[i].get_text() == nbb_unformatted_code) {\n",
       "                             nbb_cells[i].set_text(nbb_formatted_code);\n",
       "                        }\n",
       "                        break;\n",
       "                    }\n",
       "                }\n",
       "            }, 500);\n",
       "            "
      ],
      "text/plain": [
       "<IPython.core.display.Javascript object>"
      ]
     },
     "metadata": {},
     "output_type": "display_data"
    },
    {
     "data": {
      "application/javascript": [
       "\n",
       "            setTimeout(function() {\n",
       "                var nbb_cell_id = 17;\n",
       "                var nbb_unformatted_code = \"df[\\\"score_avg\\\"] = (df.math + df.reading + df.writing) / 3\\nstats.normaltest(df.score_avg)\";\n",
       "                var nbb_formatted_code = \"df[\\\"score_avg\\\"] = (df.math + df.reading + df.writing) / 3\\nstats.normaltest(df.score_avg)\";\n",
       "                var nbb_cells = Jupyter.notebook.get_cells();\n",
       "                for (var i = 0; i < nbb_cells.length; ++i) {\n",
       "                    if (nbb_cells[i].input_prompt_number == nbb_cell_id) {\n",
       "                        if (nbb_cells[i].get_text() == nbb_unformatted_code) {\n",
       "                             nbb_cells[i].set_text(nbb_formatted_code);\n",
       "                        }\n",
       "                        break;\n",
       "                    }\n",
       "                }\n",
       "            }, 500);\n",
       "            "
      ],
      "text/plain": [
       "<IPython.core.display.Javascript object>"
      ]
     },
     "metadata": {},
     "output_type": "display_data"
    }
   ],
   "source": [
    "df[\"score_avg\"] = (df.math + df.reading + df.writing) / 3\n",
    "stats.normaltest(df.score_avg)"
   ]
  },
  {
   "cell_type": "markdown",
   "metadata": {},
   "source": [
    "> new variable not normally distributed\n",
    "---"
   ]
  },
  {
   "cell_type": "code",
   "execution_count": 27,
   "metadata": {},
   "outputs": [
    {
     "data": {
      "text/plain": [
       "NormaltestResult(statistic=2.779857602227616, pvalue=0.24909303914726724)"
      ]
     },
     "execution_count": 27,
     "metadata": {},
     "output_type": "execute_result"
    },
    {
     "data": {
      "application/javascript": [
       "\n",
       "            setTimeout(function() {\n",
       "                var nbb_cell_id = 27;\n",
       "                var nbb_unformatted_code = \"score_avg_boxcox, _ = stats.boxcox(df.score_avg)\\nstats.normaltest(score_avg_boxcox)\";\n",
       "                var nbb_formatted_code = \"score_avg_boxcox, _ = stats.boxcox(df.score_avg)\\nstats.normaltest(score_avg_boxcox)\";\n",
       "                var nbb_cells = Jupyter.notebook.get_cells();\n",
       "                for (var i = 0; i < nbb_cells.length; ++i) {\n",
       "                    if (nbb_cells[i].input_prompt_number == nbb_cell_id) {\n",
       "                        if (nbb_cells[i].get_text() == nbb_unformatted_code) {\n",
       "                             nbb_cells[i].set_text(nbb_formatted_code);\n",
       "                        }\n",
       "                        break;\n",
       "                    }\n",
       "                }\n",
       "            }, 500);\n",
       "            "
      ],
      "text/plain": [
       "<IPython.core.display.Javascript object>"
      ]
     },
     "metadata": {},
     "output_type": "display_data"
    },
    {
     "data": {
      "application/javascript": [
       "\n",
       "            setTimeout(function() {\n",
       "                var nbb_cell_id = 27;\n",
       "                var nbb_unformatted_code = \"score_avg_boxcox, _ = stats.boxcox(df.score_avg)\\nstats.normaltest(score_avg_boxcox)\";\n",
       "                var nbb_formatted_code = \"score_avg_boxcox, _ = stats.boxcox(df.score_avg)\\nstats.normaltest(score_avg_boxcox)\";\n",
       "                var nbb_cells = Jupyter.notebook.get_cells();\n",
       "                for (var i = 0; i < nbb_cells.length; ++i) {\n",
       "                    if (nbb_cells[i].input_prompt_number == nbb_cell_id) {\n",
       "                        if (nbb_cells[i].get_text() == nbb_unformatted_code) {\n",
       "                             nbb_cells[i].set_text(nbb_formatted_code);\n",
       "                        }\n",
       "                        break;\n",
       "                    }\n",
       "                }\n",
       "            }, 500);\n",
       "            "
      ],
      "text/plain": [
       "<IPython.core.display.Javascript object>"
      ]
     },
     "metadata": {},
     "output_type": "display_data"
    },
    {
     "data": {
      "application/javascript": [
       "\n",
       "            setTimeout(function() {\n",
       "                var nbb_cell_id = 27;\n",
       "                var nbb_unformatted_code = \"score_avg_boxcox, _ = stats.boxcox(df.score_avg)\\nstats.normaltest(score_avg_boxcox)\";\n",
       "                var nbb_formatted_code = \"score_avg_boxcox, _ = stats.boxcox(df.score_avg)\\nstats.normaltest(score_avg_boxcox)\";\n",
       "                var nbb_cells = Jupyter.notebook.get_cells();\n",
       "                for (var i = 0; i < nbb_cells.length; ++i) {\n",
       "                    if (nbb_cells[i].input_prompt_number == nbb_cell_id) {\n",
       "                        if (nbb_cells[i].get_text() == nbb_unformatted_code) {\n",
       "                             nbb_cells[i].set_text(nbb_formatted_code);\n",
       "                        }\n",
       "                        break;\n",
       "                    }\n",
       "                }\n",
       "            }, 500);\n",
       "            "
      ],
      "text/plain": [
       "<IPython.core.display.Javascript object>"
      ]
     },
     "metadata": {},
     "output_type": "display_data"
    },
    {
     "data": {
      "application/javascript": [
       "\n",
       "            setTimeout(function() {\n",
       "                var nbb_cell_id = 27;\n",
       "                var nbb_unformatted_code = \"score_avg_boxcox, _ = stats.boxcox(df.score_avg)\\nstats.normaltest(score_avg_boxcox)\";\n",
       "                var nbb_formatted_code = \"score_avg_boxcox, _ = stats.boxcox(df.score_avg)\\nstats.normaltest(score_avg_boxcox)\";\n",
       "                var nbb_cells = Jupyter.notebook.get_cells();\n",
       "                for (var i = 0; i < nbb_cells.length; ++i) {\n",
       "                    if (nbb_cells[i].input_prompt_number == nbb_cell_id) {\n",
       "                        if (nbb_cells[i].get_text() == nbb_unformatted_code) {\n",
       "                             nbb_cells[i].set_text(nbb_formatted_code);\n",
       "                        }\n",
       "                        break;\n",
       "                    }\n",
       "                }\n",
       "            }, 500);\n",
       "            "
      ],
      "text/plain": [
       "<IPython.core.display.Javascript object>"
      ]
     },
     "metadata": {},
     "output_type": "display_data"
    },
    {
     "data": {
      "application/javascript": [
       "\n",
       "            setTimeout(function() {\n",
       "                var nbb_cell_id = 27;\n",
       "                var nbb_unformatted_code = \"score_avg_boxcox, _ = stats.boxcox(df.score_avg)\\nstats.normaltest(score_avg_boxcox)\";\n",
       "                var nbb_formatted_code = \"score_avg_boxcox, _ = stats.boxcox(df.score_avg)\\nstats.normaltest(score_avg_boxcox)\";\n",
       "                var nbb_cells = Jupyter.notebook.get_cells();\n",
       "                for (var i = 0; i < nbb_cells.length; ++i) {\n",
       "                    if (nbb_cells[i].input_prompt_number == nbb_cell_id) {\n",
       "                        if (nbb_cells[i].get_text() == nbb_unformatted_code) {\n",
       "                             nbb_cells[i].set_text(nbb_formatted_code);\n",
       "                        }\n",
       "                        break;\n",
       "                    }\n",
       "                }\n",
       "            }, 500);\n",
       "            "
      ],
      "text/plain": [
       "<IPython.core.display.Javascript object>"
      ]
     },
     "metadata": {},
     "output_type": "display_data"
    }
   ],
   "source": [
    "score_avg_boxcox, _ = stats.boxcox(df.score_avg)\n",
    "stats.normaltest(score_avg_boxcox)"
   ]
  },
  {
   "cell_type": "markdown",
   "metadata": {},
   "source": [
    "> the new distribution is normal\n",
    "---"
   ]
  },
  {
   "cell_type": "markdown",
   "metadata": {},
   "source": [
    "# Which variables seem related to the target variable (the newly created variable from the previous question)? If your goal is to explain the determinants of success in exams, which variables in your dataset might be useful?"
   ]
  },
  {
   "cell_type": "code",
   "execution_count": 31,
   "metadata": {},
   "outputs": [
    {
     "data": {
      "text/html": [
       "<div>\n",
       "<style scoped>\n",
       "    .dataframe tbody tr th:only-of-type {\n",
       "        vertical-align: middle;\n",
       "    }\n",
       "\n",
       "    .dataframe tbody tr th {\n",
       "        vertical-align: top;\n",
       "    }\n",
       "\n",
       "    .dataframe thead th {\n",
       "        text-align: right;\n",
       "    }\n",
       "</style>\n",
       "<table border=\"1\" class=\"dataframe\">\n",
       "  <thead>\n",
       "    <tr style=\"text-align: right;\">\n",
       "      <th></th>\n",
       "      <th>gender</th>\n",
       "      <th>race/ethnicity</th>\n",
       "      <th>parent_education</th>\n",
       "      <th>lunch</th>\n",
       "      <th>test_prep</th>\n",
       "      <th>math</th>\n",
       "      <th>reading</th>\n",
       "      <th>writing</th>\n",
       "      <th>score_avg</th>\n",
       "    </tr>\n",
       "  </thead>\n",
       "  <tbody>\n",
       "    <tr>\n",
       "      <th>0</th>\n",
       "      <td>female</td>\n",
       "      <td>group B</td>\n",
       "      <td>bachelor's degree</td>\n",
       "      <td>standard</td>\n",
       "      <td>none</td>\n",
       "      <td>72</td>\n",
       "      <td>72</td>\n",
       "      <td>74</td>\n",
       "      <td>72.666667</td>\n",
       "    </tr>\n",
       "    <tr>\n",
       "      <th>1</th>\n",
       "      <td>female</td>\n",
       "      <td>group C</td>\n",
       "      <td>some college</td>\n",
       "      <td>standard</td>\n",
       "      <td>completed</td>\n",
       "      <td>69</td>\n",
       "      <td>90</td>\n",
       "      <td>88</td>\n",
       "      <td>82.333333</td>\n",
       "    </tr>\n",
       "    <tr>\n",
       "      <th>2</th>\n",
       "      <td>female</td>\n",
       "      <td>group B</td>\n",
       "      <td>master's degree</td>\n",
       "      <td>standard</td>\n",
       "      <td>none</td>\n",
       "      <td>90</td>\n",
       "      <td>95</td>\n",
       "      <td>93</td>\n",
       "      <td>92.666667</td>\n",
       "    </tr>\n",
       "    <tr>\n",
       "      <th>3</th>\n",
       "      <td>male</td>\n",
       "      <td>group A</td>\n",
       "      <td>associate's degree</td>\n",
       "      <td>free/reduced</td>\n",
       "      <td>none</td>\n",
       "      <td>47</td>\n",
       "      <td>57</td>\n",
       "      <td>44</td>\n",
       "      <td>49.333333</td>\n",
       "    </tr>\n",
       "    <tr>\n",
       "      <th>4</th>\n",
       "      <td>male</td>\n",
       "      <td>group C</td>\n",
       "      <td>some college</td>\n",
       "      <td>standard</td>\n",
       "      <td>none</td>\n",
       "      <td>76</td>\n",
       "      <td>78</td>\n",
       "      <td>75</td>\n",
       "      <td>76.333333</td>\n",
       "    </tr>\n",
       "  </tbody>\n",
       "</table>\n",
       "</div>"
      ],
      "text/plain": [
       "   gender race/ethnicity    parent_education         lunch  test_prep  math  \\\n",
       "0  female        group B   bachelor's degree      standard       none    72   \n",
       "1  female        group C        some college      standard  completed    69   \n",
       "2  female        group B     master's degree      standard       none    90   \n",
       "3    male        group A  associate's degree  free/reduced       none    47   \n",
       "4    male        group C        some college      standard       none    76   \n",
       "\n",
       "   reading  writing  score_avg  \n",
       "0       72       74  72.666667  \n",
       "1       90       88  82.333333  \n",
       "2       95       93  92.666667  \n",
       "3       57       44  49.333333  \n",
       "4       78       75  76.333333  "
      ]
     },
     "execution_count": 31,
     "metadata": {},
     "output_type": "execute_result"
    },
    {
     "data": {
      "application/javascript": [
       "\n",
       "            setTimeout(function() {\n",
       "                var nbb_cell_id = 31;\n",
       "                var nbb_unformatted_code = \"df.head()\";\n",
       "                var nbb_formatted_code = \"df.head()\";\n",
       "                var nbb_cells = Jupyter.notebook.get_cells();\n",
       "                for (var i = 0; i < nbb_cells.length; ++i) {\n",
       "                    if (nbb_cells[i].input_prompt_number == nbb_cell_id) {\n",
       "                        if (nbb_cells[i].get_text() == nbb_unformatted_code) {\n",
       "                             nbb_cells[i].set_text(nbb_formatted_code);\n",
       "                        }\n",
       "                        break;\n",
       "                    }\n",
       "                }\n",
       "            }, 500);\n",
       "            "
      ],
      "text/plain": [
       "<IPython.core.display.Javascript object>"
      ]
     },
     "metadata": {},
     "output_type": "display_data"
    },
    {
     "data": {
      "application/javascript": [
       "\n",
       "            setTimeout(function() {\n",
       "                var nbb_cell_id = 31;\n",
       "                var nbb_unformatted_code = \"df.head()\";\n",
       "                var nbb_formatted_code = \"df.head()\";\n",
       "                var nbb_cells = Jupyter.notebook.get_cells();\n",
       "                for (var i = 0; i < nbb_cells.length; ++i) {\n",
       "                    if (nbb_cells[i].input_prompt_number == nbb_cell_id) {\n",
       "                        if (nbb_cells[i].get_text() == nbb_unformatted_code) {\n",
       "                             nbb_cells[i].set_text(nbb_formatted_code);\n",
       "                        }\n",
       "                        break;\n",
       "                    }\n",
       "                }\n",
       "            }, 500);\n",
       "            "
      ],
      "text/plain": [
       "<IPython.core.display.Javascript object>"
      ]
     },
     "metadata": {},
     "output_type": "display_data"
    },
    {
     "data": {
      "application/javascript": [
       "\n",
       "            setTimeout(function() {\n",
       "                var nbb_cell_id = 31;\n",
       "                var nbb_unformatted_code = \"df.head()\";\n",
       "                var nbb_formatted_code = \"df.head()\";\n",
       "                var nbb_cells = Jupyter.notebook.get_cells();\n",
       "                for (var i = 0; i < nbb_cells.length; ++i) {\n",
       "                    if (nbb_cells[i].input_prompt_number == nbb_cell_id) {\n",
       "                        if (nbb_cells[i].get_text() == nbb_unformatted_code) {\n",
       "                             nbb_cells[i].set_text(nbb_formatted_code);\n",
       "                        }\n",
       "                        break;\n",
       "                    }\n",
       "                }\n",
       "            }, 500);\n",
       "            "
      ],
      "text/plain": [
       "<IPython.core.display.Javascript object>"
      ]
     },
     "metadata": {},
     "output_type": "display_data"
    },
    {
     "data": {
      "application/javascript": [
       "\n",
       "            setTimeout(function() {\n",
       "                var nbb_cell_id = 31;\n",
       "                var nbb_unformatted_code = \"df.head()\";\n",
       "                var nbb_formatted_code = \"df.head()\";\n",
       "                var nbb_cells = Jupyter.notebook.get_cells();\n",
       "                for (var i = 0; i < nbb_cells.length; ++i) {\n",
       "                    if (nbb_cells[i].input_prompt_number == nbb_cell_id) {\n",
       "                        if (nbb_cells[i].get_text() == nbb_unformatted_code) {\n",
       "                             nbb_cells[i].set_text(nbb_formatted_code);\n",
       "                        }\n",
       "                        break;\n",
       "                    }\n",
       "                }\n",
       "            }, 500);\n",
       "            "
      ],
      "text/plain": [
       "<IPython.core.display.Javascript object>"
      ]
     },
     "metadata": {},
     "output_type": "display_data"
    },
    {
     "data": {
      "application/javascript": [
       "\n",
       "            setTimeout(function() {\n",
       "                var nbb_cell_id = 31;\n",
       "                var nbb_unformatted_code = \"df.head()\";\n",
       "                var nbb_formatted_code = \"df.head()\";\n",
       "                var nbb_cells = Jupyter.notebook.get_cells();\n",
       "                for (var i = 0; i < nbb_cells.length; ++i) {\n",
       "                    if (nbb_cells[i].input_prompt_number == nbb_cell_id) {\n",
       "                        if (nbb_cells[i].get_text() == nbb_unformatted_code) {\n",
       "                             nbb_cells[i].set_text(nbb_formatted_code);\n",
       "                        }\n",
       "                        break;\n",
       "                    }\n",
       "                }\n",
       "            }, 500);\n",
       "            "
      ],
      "text/plain": [
       "<IPython.core.display.Javascript object>"
      ]
     },
     "metadata": {},
     "output_type": "display_data"
    }
   ],
   "source": [
    "df.head()"
   ]
  },
  {
   "cell_type": "code",
   "execution_count": 40,
   "metadata": {
    "scrolled": false
   },
   "outputs": [
    {
     "data": {
      "image/png": "[encoded data removed]",
      "text/plain": [
       "<Figure size 432x288 with 1 Axes>"
      ]
     },
     "metadata": {
      "needs_background": "light"
     },
     "output_type": "display_data"
    },
    {
     "data": {
      "image/png": "[encoded data removed]",
      "text/plain": [
       "<Figure size 432x288 with 1 Axes>"
      ]
     },
     "metadata": {
      "needs_background": "light"
     },
     "output_type": "display_data"
    },
    {
     "data": {
      "image/png": "[encoded data removed]",
      "text/plain": [
       "<Figure size 1080x720 with 1 Axes>"
      ]
     },
     "metadata": {
      "needs_background": "light"
     },
     "output_type": "display_data"
    },
    {
     "data": {
      "image/png": "[encoded data removed]",
      "text/plain": [
       "<Figure size 432x288 with 1 Axes>"
      ]
     },
     "metadata": {
      "needs_background": "light"
     },
     "output_type": "display_data"
    },
    {
     "data": {
      "image/png": "[encoded data removed]",
      "text/plain": [
       "<Figure size 432x288 with 1 Axes>"
      ]
     },
     "metadata": {
      "needs_background": "light"
     },
     "output_type": "display_data"
    },
    {
     "data": {
      "application/javascript": [
       "\n",
       "            setTimeout(function() {\n",
       "                var nbb_cell_id = 40;\n",
       "                var nbb_unformatted_code = \"plt.title(\\\"Gender vs. Score\\\")\\nsns.barplot(df.gender, df.score_avg)\\nplt.show()\\n\\nplt.title(\\\"Race vs. Score\\\")\\nsns.barplot(df[\\\"race/ethnicity\\\"], df.score_avg)\\nplt.show()\\n\\nplt.figure(figsize=(15,10))\\nplt.title(\\\"Parent Education vs. Score\\\")\\nsns.barplot(df.parent_education, df.score_avg)\\nplt.show()\\n\\nplt.title(\\\"Lunch vs. Score\\\")\\nsns.barplot(df.lunch, df.score_avg)\\nplt.show()\\n\\nplt.title(\\\"Test Prep vs. Score\\\")\\nsns.barplot(df.test_prep, df.score_avg)\\nplt.show()\";\n",
       "                var nbb_formatted_code = \"plt.title(\\\"Gender vs. Score\\\")\\nsns.barplot(df.gender, df.score_avg)\\nplt.show()\\n\\nplt.title(\\\"Race vs. Score\\\")\\nsns.barplot(df[\\\"race/ethnicity\\\"], df.score_avg)\\nplt.show()\\n\\nplt.figure(figsize=(15, 10))\\nplt.title(\\\"Parent Education vs. Score\\\")\\nsns.barplot(df.parent_education, df.score_avg)\\nplt.show()\\n\\nplt.title(\\\"Lunch vs. Score\\\")\\nsns.barplot(df.lunch, df.score_avg)\\nplt.show()\\n\\nplt.title(\\\"Test Prep vs. Score\\\")\\nsns.barplot(df.test_prep, df.score_avg)\\nplt.show()\";\n",
       "                var nbb_cells = Jupyter.notebook.get_cells();\n",
       "                for (var i = 0; i < nbb_cells.length; ++i) {\n",
       "                    if (nbb_cells[i].input_prompt_number == nbb_cell_id) {\n",
       "                        if (nbb_cells[i].get_text() == nbb_unformatted_code) {\n",
       "                             nbb_cells[i].set_text(nbb_formatted_code);\n",
       "                        }\n",
       "                        break;\n",
       "                    }\n",
       "                }\n",
       "            }, 500);\n",
       "            "
      ],
      "text/plain": [
       "<IPython.core.display.Javascript object>"
      ]
     },
     "metadata": {},
     "output_type": "display_data"
    },
    {
     "data": {
      "application/javascript": [
       "\n",
       "            setTimeout(function() {\n",
       "                var nbb_cell_id = 40;\n",
       "                var nbb_unformatted_code = \"plt.title(\\\"Gender vs. Score\\\")\\nsns.barplot(df.gender, df.score_avg)\\nplt.show()\\n\\nplt.title(\\\"Race vs. Score\\\")\\nsns.barplot(df[\\\"race/ethnicity\\\"], df.score_avg)\\nplt.show()\\n\\nplt.figure(figsize=(15,10))\\nplt.title(\\\"Parent Education vs. Score\\\")\\nsns.barplot(df.parent_education, df.score_avg)\\nplt.show()\\n\\nplt.title(\\\"Lunch vs. Score\\\")\\nsns.barplot(df.lunch, df.score_avg)\\nplt.show()\\n\\nplt.title(\\\"Test Prep vs. Score\\\")\\nsns.barplot(df.test_prep, df.score_avg)\\nplt.show()\";\n",
       "                var nbb_formatted_code = \"plt.title(\\\"Gender vs. Score\\\")\\nsns.barplot(df.gender, df.score_avg)\\nplt.show()\\n\\nplt.title(\\\"Race vs. Score\\\")\\nsns.barplot(df[\\\"race/ethnicity\\\"], df.score_avg)\\nplt.show()\\n\\nplt.figure(figsize=(15, 10))\\nplt.title(\\\"Parent Education vs. Score\\\")\\nsns.barplot(df.parent_education, df.score_avg)\\nplt.show()\\n\\nplt.title(\\\"Lunch vs. Score\\\")\\nsns.barplot(df.lunch, df.score_avg)\\nplt.show()\\n\\nplt.title(\\\"Test Prep vs. Score\\\")\\nsns.barplot(df.test_prep, df.score_avg)\\nplt.show()\";\n",
       "                var nbb_cells = Jupyter.notebook.get_cells();\n",
       "                for (var i = 0; i < nbb_cells.length; ++i) {\n",
       "                    if (nbb_cells[i].input_prompt_number == nbb_cell_id) {\n",
       "                        if (nbb_cells[i].get_text() == nbb_unformatted_code) {\n",
       "                             nbb_cells[i].set_text(nbb_formatted_code);\n",
       "                        }\n",
       "                        break;\n",
       "                    }\n",
       "                }\n",
       "            }, 500);\n",
       "            "
      ],
      "text/plain": [
       "<IPython.core.display.Javascript object>"
      ]
     },
     "metadata": {},
     "output_type": "display_data"
    },
    {
     "data": {
      "application/javascript": [
       "\n",
       "            setTimeout(function() {\n",
       "                var nbb_cell_id = 40;\n",
       "                var nbb_unformatted_code = \"plt.title(\\\"Gender vs. Score\\\")\\nsns.barplot(df.gender, df.score_avg)\\nplt.show()\\n\\nplt.title(\\\"Race vs. Score\\\")\\nsns.barplot(df[\\\"race/ethnicity\\\"], df.score_avg)\\nplt.show()\\n\\nplt.figure(figsize=(15,10))\\nplt.title(\\\"Parent Education vs. Score\\\")\\nsns.barplot(df.parent_education, df.score_avg)\\nplt.show()\\n\\nplt.title(\\\"Lunch vs. Score\\\")\\nsns.barplot(df.lunch, df.score_avg)\\nplt.show()\\n\\nplt.title(\\\"Test Prep vs. Score\\\")\\nsns.barplot(df.test_prep, df.score_avg)\\nplt.show()\";\n",
       "                var nbb_formatted_code = \"plt.title(\\\"Gender vs. Score\\\")\\nsns.barplot(df.gender, df.score_avg)\\nplt.show()\\n\\nplt.title(\\\"Race vs. Score\\\")\\nsns.barplot(df[\\\"race/ethnicity\\\"], df.score_avg)\\nplt.show()\\n\\nplt.figure(figsize=(15, 10))\\nplt.title(\\\"Parent Education vs. Score\\\")\\nsns.barplot(df.parent_education, df.score_avg)\\nplt.show()\\n\\nplt.title(\\\"Lunch vs. Score\\\")\\nsns.barplot(df.lunch, df.score_avg)\\nplt.show()\\n\\nplt.title(\\\"Test Prep vs. Score\\\")\\nsns.barplot(df.test_prep, df.score_avg)\\nplt.show()\";\n",
       "                var nbb_cells = Jupyter.notebook.get_cells();\n",
       "                for (var i = 0; i < nbb_cells.length; ++i) {\n",
       "                    if (nbb_cells[i].input_prompt_number == nbb_cell_id) {\n",
       "                        if (nbb_cells[i].get_text() == nbb_unformatted_code) {\n",
       "                             nbb_cells[i].set_text(nbb_formatted_code);\n",
       "                        }\n",
       "                        break;\n",
       "                    }\n",
       "                }\n",
       "            }, 500);\n",
       "            "
      ],
      "text/plain": [
       "<IPython.core.display.Javascript object>"
      ]
     },
     "metadata": {},
     "output_type": "display_data"
    },
    {
     "data": {
      "application/javascript": [
       "\n",
       "            setTimeout(function() {\n",
       "                var nbb_cell_id = 40;\n",
       "                var nbb_unformatted_code = \"plt.title(\\\"Gender vs. Score\\\")\\nsns.barplot(df.gender, df.score_avg)\\nplt.show()\\n\\nplt.title(\\\"Race vs. Score\\\")\\nsns.barplot(df[\\\"race/ethnicity\\\"], df.score_avg)\\nplt.show()\\n\\nplt.figure(figsize=(15,10))\\nplt.title(\\\"Parent Education vs. Score\\\")\\nsns.barplot(df.parent_education, df.score_avg)\\nplt.show()\\n\\nplt.title(\\\"Lunch vs. Score\\\")\\nsns.barplot(df.lunch, df.score_avg)\\nplt.show()\\n\\nplt.title(\\\"Test Prep vs. Score\\\")\\nsns.barplot(df.test_prep, df.score_avg)\\nplt.show()\";\n",
       "                var nbb_formatted_code = \"plt.title(\\\"Gender vs. Score\\\")\\nsns.barplot(df.gender, df.score_avg)\\nplt.show()\\n\\nplt.title(\\\"Race vs. Score\\\")\\nsns.barplot(df[\\\"race/ethnicity\\\"], df.score_avg)\\nplt.show()\\n\\nplt.figure(figsize=(15, 10))\\nplt.title(\\\"Parent Education vs. Score\\\")\\nsns.barplot(df.parent_education, df.score_avg)\\nplt.show()\\n\\nplt.title(\\\"Lunch vs. Score\\\")\\nsns.barplot(df.lunch, df.score_avg)\\nplt.show()\\n\\nplt.title(\\\"Test Prep vs. Score\\\")\\nsns.barplot(df.test_prep, df.score_avg)\\nplt.show()\";\n",
       "                var nbb_cells = Jupyter.notebook.get_cells();\n",
       "                for (var i = 0; i < nbb_cells.length; ++i) {\n",
       "                    if (nbb_cells[i].input_prompt_number == nbb_cell_id) {\n",
       "                        if (nbb_cells[i].get_text() == nbb_unformatted_code) {\n",
       "                             nbb_cells[i].set_text(nbb_formatted_code);\n",
       "                        }\n",
       "                        break;\n",
       "                    }\n",
       "                }\n",
       "            }, 500);\n",
       "            "
      ],
      "text/plain": [
       "<IPython.core.display.Javascript object>"
      ]
     },
     "metadata": {},
     "output_type": "display_data"
    },
    {
     "data": {
      "application/javascript": [
       "\n",
       "            setTimeout(function() {\n",
       "                var nbb_cell_id = 40;\n",
       "                var nbb_unformatted_code = \"plt.title(\\\"Gender vs. Score\\\")\\nsns.barplot(df.gender, df.score_avg)\\nplt.show()\\n\\nplt.title(\\\"Race vs. Score\\\")\\nsns.barplot(df[\\\"race/ethnicity\\\"], df.score_avg)\\nplt.show()\\n\\nplt.figure(figsize=(15,10))\\nplt.title(\\\"Parent Education vs. Score\\\")\\nsns.barplot(df.parent_education, df.score_avg)\\nplt.show()\\n\\nplt.title(\\\"Lunch vs. Score\\\")\\nsns.barplot(df.lunch, df.score_avg)\\nplt.show()\\n\\nplt.title(\\\"Test Prep vs. Score\\\")\\nsns.barplot(df.test_prep, df.score_avg)\\nplt.show()\";\n",
       "                var nbb_formatted_code = \"plt.title(\\\"Gender vs. Score\\\")\\nsns.barplot(df.gender, df.score_avg)\\nplt.show()\\n\\nplt.title(\\\"Race vs. Score\\\")\\nsns.barplot(df[\\\"race/ethnicity\\\"], df.score_avg)\\nplt.show()\\n\\nplt.figure(figsize=(15, 10))\\nplt.title(\\\"Parent Education vs. Score\\\")\\nsns.barplot(df.parent_education, df.score_avg)\\nplt.show()\\n\\nplt.title(\\\"Lunch vs. Score\\\")\\nsns.barplot(df.lunch, df.score_avg)\\nplt.show()\\n\\nplt.title(\\\"Test Prep vs. Score\\\")\\nsns.barplot(df.test_prep, df.score_avg)\\nplt.show()\";\n",
       "                var nbb_cells = Jupyter.notebook.get_cells();\n",
       "                for (var i = 0; i < nbb_cells.length; ++i) {\n",
       "                    if (nbb_cells[i].input_prompt_number == nbb_cell_id) {\n",
       "                        if (nbb_cells[i].get_text() == nbb_unformatted_code) {\n",
       "                             nbb_cells[i].set_text(nbb_formatted_code);\n",
       "                        }\n",
       "                        break;\n",
       "                    }\n",
       "                }\n",
       "            }, 500);\n",
       "            "
      ],
      "text/plain": [
       "<IPython.core.display.Javascript object>"
      ]
     },
     "metadata": {},
     "output_type": "display_data"
    }
   ],
   "source": [
    "plt.title(\"Gender vs. Score\")\n",
    "sns.barplot(df.gender, df.score_avg)\n",
    "plt.show()\n",
    "\n",
    "plt.title(\"Race vs. Score\")\n",
    "sns.barplot(df[\"race/ethnicity\"], df.score_avg)\n",
    "plt.show()\n",
    "\n",
    "plt.figure(figsize=(15, 10))\n",
    "plt.title(\"Parent Education vs. Score\")\n",
    "sns.barplot(df.parent_education, df.score_avg)\n",
    "plt.show()\n",
    "\n",
    "plt.title(\"Lunch vs. Score\")\n",
    "sns.barplot(df.lunch, df.score_avg)\n",
    "plt.show()\n",
    "\n",
    "plt.title(\"Test Prep vs. Score\")\n",
    "sns.barplot(df.test_prep, df.score_avg)\n",
    "plt.show()"
   ]
  },
  {
   "cell_type": "markdown",
   "metadata": {},
   "source": [
    "> Variables of Interest:\n",
    "1. gender, test prep, and lunch all show a decent indication of score differences\n",
    "2. parental education shows some differences between the high school values and the others\n",
    "3. Race shows some differences between a few of the groups\n",
    "---"
   ]
  }
 ],
 "metadata": {
  "kernelspec": {
   "display_name": "Python 3",
   "language": "python",
   "name": "python3"
  },
  "language_info": {
   "codemirror_mode": {
    "name": "ipython",
    "version": 3
   },
   "file_extension": ".py",
   "mimetype": "text/x-python",
   "name": "python",
   "nbconvert_exporter": "python",
   "pygments_lexer": "ipython3",
   "version": "3.8.3"
  },
  "toc": {
   "base_numbering": 1,
   "nav_menu": {},
   "number_sections": true,
   "sideBar": true,
   "skip_h1_title": false,
   "title_cell": "Table of Contents",
   "title_sidebar": "Contents",
   "toc_cell": false,
   "toc_position": {},
   "toc_section_display": true,
   "toc_window_display": true
  }
 },
 "nbformat": 4,
 "nbformat_minor": 4
}
