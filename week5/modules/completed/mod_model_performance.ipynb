{
 "cells": [
  {
   "cell_type": "markdown",
   "metadata": {},
   "source": [
    "# Imports"
   ]
  },
  {
   "cell_type": "code",
   "execution_count": 1,
   "metadata": {},
   "outputs": [
    {
     "data": {
      "application/javascript": [
       "\n",
       "            setTimeout(function() {\n",
       "                var nbb_cell_id = 1;\n",
       "                var nbb_unformatted_code = \"%reload_ext nb_black\\nimport matplotlib.pyplot as plt\\nimport numpy as np\\nimport pandas as pd\\nimport seaborn as sns\\nfrom sklearn.linear_model import LogisticRegression\\nfrom sklearn.model_selection import train_test_split, cross_val_score\\nfrom sklearn.dummy import DummyClassifier\\nfrom sklearn.metrics import confusion_matrix\\nfrom sklearn.utils.multiclass import unique_labels\\nfrom sklearn.metrics import roc_curve, precision_recall_curve, roc_auc_score\\nfrom sklearn.preprocessing import StandardScaler\\nfrom sklearn.neighbors import KNeighborsClassifier\\nfrom sklearn.ensemble import RandomForestClassifier\\nfrom sklearn.metrics import classification_report\\n\\n%matplotlib inline\\n\\nimport nbimporter\\nfrom functions_folder.functions_class import Functions\";\n",
       "                var nbb_formatted_code = \"%reload_ext nb_black\\nimport matplotlib.pyplot as plt\\nimport numpy as np\\nimport pandas as pd\\nimport seaborn as sns\\nfrom sklearn.linear_model import LogisticRegression\\nfrom sklearn.model_selection import train_test_split, cross_val_score\\nfrom sklearn.dummy import DummyClassifier\\nfrom sklearn.metrics import confusion_matrix\\nfrom sklearn.utils.multiclass import unique_labels\\nfrom sklearn.metrics import roc_curve, precision_recall_curve, roc_auc_score\\nfrom sklearn.preprocessing import StandardScaler\\nfrom sklearn.neighbors import KNeighborsClassifier\\nfrom sklearn.ensemble import RandomForestClassifier\\nfrom sklearn.metrics import classification_report\\n\\n%matplotlib inline\\n\\nimport nbimporter\\nfrom functions_folder.functions_class import Functions\";\n",
       "                var nbb_cells = Jupyter.notebook.get_cells();\n",
       "                for (var i = 0; i < nbb_cells.length; ++i) {\n",
       "                    if (nbb_cells[i].input_prompt_number == nbb_cell_id) {\n",
       "                        if (nbb_cells[i].get_text() == nbb_unformatted_code) {\n",
       "                             nbb_cells[i].set_text(nbb_formatted_code);\n",
       "                        }\n",
       "                        break;\n",
       "                    }\n",
       "                }\n",
       "            }, 500);\n",
       "            "
      ],
      "text/plain": [
       "<IPython.core.display.Javascript object>"
      ]
     },
     "metadata": {},
     "output_type": "display_data"
    }
   ],
   "source": [
    "%reload_ext nb_black\n",
    "import matplotlib.pyplot as plt\n",
    "import numpy as np\n",
    "import pandas as pd\n",
    "import seaborn as sns\n",
    "from sklearn.linear_model import LogisticRegression\n",
    "from sklearn.model_selection import train_test_split, cross_val_score\n",
    "from sklearn.dummy import DummyClassifier\n",
    "from sklearn.metrics import confusion_matrix\n",
    "from sklearn.utils.multiclass import unique_labels\n",
    "from sklearn.metrics import roc_curve, precision_recall_curve, roc_auc_score\n",
    "from sklearn.preprocessing import StandardScaler\n",
    "from sklearn.neighbors import KNeighborsClassifier\n",
    "from sklearn.ensemble import RandomForestClassifier\n",
    "from sklearn.metrics import classification_report\n",
    "\n",
    "%matplotlib inline\n",
    "\n",
    "import nbimporter\n",
    "from functions_folder.functions_class import Functions"
   ]
  },
  {
   "cell_type": "code",
   "execution_count": 2,
   "metadata": {},
   "outputs": [
    {
     "data": {
      "application/javascript": [
       "\n",
       "            setTimeout(function() {\n",
       "                var nbb_cell_id = 2;\n",
       "                var nbb_unformatted_code = \"def calc_metrics(y_test, predictions):\\n    from sklearn.metrics import (\\n        accuracy_score,\\n        precision_score,\\n        recall_score,\\n        f1_score,\\n        fbeta_score,\\n    )\\n\\n    accuracy = accuracy_score(y_test, predictions)\\n    precision = precision_score(y_test, predictions)\\n    recall = recall_score(y_test, predictions)\\n    f1 = f1_score(y_test, predictions)\\n    fbeta_precision = fbeta_score(y_test, predictions, beta=0.5)\\n    fbeta_recall = fbeta_score(y_test, predictions, beta=2)\\n\\n    print(\\\"Accuracy score: {:.2f}\\\".format(accuracy))\\n    print(\\\"Precision score: {:.2f}\\\".format(precision))\\n    print(\\\"Recall score: {:.2f}\\\".format(recall))\\n    print(\\\"F1 score: {:.2f}\\\".format(f1))\\n    print(\\\"Fbeta score favoring precision: {:.2f}\\\".format(fbeta_precision))\\n    print(\\\"FBeta score favoring recall: {:.2f}\\\".format(fbeta_recall))\\n    return accuracy, precision, recall, f1, fbeta_precision, fbeta_recall\";\n",
       "                var nbb_formatted_code = \"def calc_metrics(y_test, predictions):\\n    from sklearn.metrics import (\\n        accuracy_score,\\n        precision_score,\\n        recall_score,\\n        f1_score,\\n        fbeta_score,\\n    )\\n\\n    accuracy = accuracy_score(y_test, predictions)\\n    precision = precision_score(y_test, predictions)\\n    recall = recall_score(y_test, predictions)\\n    f1 = f1_score(y_test, predictions)\\n    fbeta_precision = fbeta_score(y_test, predictions, beta=0.5)\\n    fbeta_recall = fbeta_score(y_test, predictions, beta=2)\\n\\n    print(\\\"Accuracy score: {:.2f}\\\".format(accuracy))\\n    print(\\\"Precision score: {:.2f}\\\".format(precision))\\n    print(\\\"Recall score: {:.2f}\\\".format(recall))\\n    print(\\\"F1 score: {:.2f}\\\".format(f1))\\n    print(\\\"Fbeta score favoring precision: {:.2f}\\\".format(fbeta_precision))\\n    print(\\\"FBeta score favoring recall: {:.2f}\\\".format(fbeta_recall))\\n    return accuracy, precision, recall, f1, fbeta_precision, fbeta_recall\";\n",
       "                var nbb_cells = Jupyter.notebook.get_cells();\n",
       "                for (var i = 0; i < nbb_cells.length; ++i) {\n",
       "                    if (nbb_cells[i].input_prompt_number == nbb_cell_id) {\n",
       "                        if (nbb_cells[i].get_text() == nbb_unformatted_code) {\n",
       "                             nbb_cells[i].set_text(nbb_formatted_code);\n",
       "                        }\n",
       "                        break;\n",
       "                    }\n",
       "                }\n",
       "            }, 500);\n",
       "            "
      ],
      "text/plain": [
       "<IPython.core.display.Javascript object>"
      ]
     },
     "metadata": {},
     "output_type": "display_data"
    }
   ],
   "source": [
    "def calc_metrics(y_test, predictions):\n",
    "    from sklearn.metrics import (\n",
    "        accuracy_score,\n",
    "        precision_score,\n",
    "        recall_score,\n",
    "        f1_score,\n",
    "        fbeta_score,\n",
    "    )\n",
    "\n",
    "    accuracy = accuracy_score(y_test, predictions)\n",
    "    precision = precision_score(y_test, predictions)\n",
    "    recall = recall_score(y_test, predictions)\n",
    "    f1 = f1_score(y_test, predictions)\n",
    "    fbeta_precision = fbeta_score(y_test, predictions, beta=0.5)\n",
    "    fbeta_recall = fbeta_score(y_test, predictions, beta=2)\n",
    "\n",
    "    print(\"Accuracy score: {:.2f}\".format(accuracy))\n",
    "    print(\"Precision score: {:.2f}\".format(precision))\n",
    "    print(\"Recall score: {:.2f}\".format(recall))\n",
    "    print(\"F1 score: {:.2f}\".format(f1))\n",
    "    print(\"Fbeta score favoring precision: {:.2f}\".format(fbeta_precision))\n",
    "    print(\"FBeta score favoring recall: {:.2f}\".format(fbeta_recall))\n",
    "    return accuracy, precision, recall, f1, fbeta_precision, fbeta_recall\n"
   ]
  },
  {
   "cell_type": "code",
   "execution_count": 3,
   "metadata": {},
   "outputs": [
    {
     "data": {
      "text/html": [
       "<div>\n",
       "<style scoped>\n",
       "    .dataframe tbody tr th:only-of-type {\n",
       "        vertical-align: middle;\n",
       "    }\n",
       "\n",
       "    .dataframe tbody tr th {\n",
       "        vertical-align: top;\n",
       "    }\n",
       "\n",
       "    .dataframe thead th {\n",
       "        text-align: right;\n",
       "    }\n",
       "</style>\n",
       "<table border=\"1\" class=\"dataframe\">\n",
       "  <thead>\n",
       "    <tr style=\"text-align: right;\">\n",
       "      <th></th>\n",
       "      <th>0</th>\n",
       "      <th>1</th>\n",
       "      <th>2</th>\n",
       "      <th>3</th>\n",
       "      <th>4</th>\n",
       "      <th>5</th>\n",
       "      <th>6</th>\n",
       "      <th>7</th>\n",
       "      <th>8</th>\n",
       "      <th>9</th>\n",
       "    </tr>\n",
       "  </thead>\n",
       "  <tbody>\n",
       "    <tr>\n",
       "      <th>0</th>\n",
       "      <td>55</td>\n",
       "      <td>0</td>\n",
       "      <td>81</td>\n",
       "      <td>0</td>\n",
       "      <td>-6</td>\n",
       "      <td>11</td>\n",
       "      <td>25</td>\n",
       "      <td>88</td>\n",
       "      <td>64</td>\n",
       "      <td>4</td>\n",
       "    </tr>\n",
       "    <tr>\n",
       "      <th>1</th>\n",
       "      <td>56</td>\n",
       "      <td>0</td>\n",
       "      <td>96</td>\n",
       "      <td>0</td>\n",
       "      <td>52</td>\n",
       "      <td>-4</td>\n",
       "      <td>40</td>\n",
       "      <td>44</td>\n",
       "      <td>4</td>\n",
       "      <td>4</td>\n",
       "    </tr>\n",
       "    <tr>\n",
       "      <th>2</th>\n",
       "      <td>50</td>\n",
       "      <td>-1</td>\n",
       "      <td>89</td>\n",
       "      <td>-7</td>\n",
       "      <td>50</td>\n",
       "      <td>0</td>\n",
       "      <td>39</td>\n",
       "      <td>40</td>\n",
       "      <td>2</td>\n",
       "      <td>1</td>\n",
       "    </tr>\n",
       "    <tr>\n",
       "      <th>3</th>\n",
       "      <td>53</td>\n",
       "      <td>9</td>\n",
       "      <td>79</td>\n",
       "      <td>0</td>\n",
       "      <td>42</td>\n",
       "      <td>-2</td>\n",
       "      <td>25</td>\n",
       "      <td>37</td>\n",
       "      <td>12</td>\n",
       "      <td>4</td>\n",
       "    </tr>\n",
       "    <tr>\n",
       "      <th>4</th>\n",
       "      <td>55</td>\n",
       "      <td>2</td>\n",
       "      <td>82</td>\n",
       "      <td>0</td>\n",
       "      <td>54</td>\n",
       "      <td>-6</td>\n",
       "      <td>26</td>\n",
       "      <td>28</td>\n",
       "      <td>2</td>\n",
       "      <td>1</td>\n",
       "    </tr>\n",
       "    <tr>\n",
       "      <th>5</th>\n",
       "      <td>41</td>\n",
       "      <td>0</td>\n",
       "      <td>84</td>\n",
       "      <td>3</td>\n",
       "      <td>38</td>\n",
       "      <td>-4</td>\n",
       "      <td>43</td>\n",
       "      <td>45</td>\n",
       "      <td>2</td>\n",
       "      <td>1</td>\n",
       "    </tr>\n",
       "    <tr>\n",
       "      <th>6</th>\n",
       "      <td>37</td>\n",
       "      <td>0</td>\n",
       "      <td>100</td>\n",
       "      <td>0</td>\n",
       "      <td>36</td>\n",
       "      <td>-8</td>\n",
       "      <td>63</td>\n",
       "      <td>64</td>\n",
       "      <td>2</td>\n",
       "      <td>1</td>\n",
       "    </tr>\n",
       "    <tr>\n",
       "      <th>7</th>\n",
       "      <td>46</td>\n",
       "      <td>0</td>\n",
       "      <td>83</td>\n",
       "      <td>0</td>\n",
       "      <td>46</td>\n",
       "      <td>0</td>\n",
       "      <td>37</td>\n",
       "      <td>36</td>\n",
       "      <td>0</td>\n",
       "      <td>1</td>\n",
       "    </tr>\n",
       "    <tr>\n",
       "      <th>8</th>\n",
       "      <td>44</td>\n",
       "      <td>0</td>\n",
       "      <td>79</td>\n",
       "      <td>0</td>\n",
       "      <td>42</td>\n",
       "      <td>-17</td>\n",
       "      <td>35</td>\n",
       "      <td>37</td>\n",
       "      <td>2</td>\n",
       "      <td>1</td>\n",
       "    </tr>\n",
       "    <tr>\n",
       "      <th>9</th>\n",
       "      <td>44</td>\n",
       "      <td>-1</td>\n",
       "      <td>78</td>\n",
       "      <td>0</td>\n",
       "      <td>44</td>\n",
       "      <td>0</td>\n",
       "      <td>34</td>\n",
       "      <td>34</td>\n",
       "      <td>0</td>\n",
       "      <td>1</td>\n",
       "    </tr>\n",
       "    <tr>\n",
       "      <th>10</th>\n",
       "      <td>55</td>\n",
       "      <td>0</td>\n",
       "      <td>81</td>\n",
       "      <td>0</td>\n",
       "      <td>54</td>\n",
       "      <td>-10</td>\n",
       "      <td>25</td>\n",
       "      <td>26</td>\n",
       "      <td>2</td>\n",
       "      <td>1</td>\n",
       "    </tr>\n",
       "    <tr>\n",
       "      <th>11</th>\n",
       "      <td>56</td>\n",
       "      <td>0</td>\n",
       "      <td>95</td>\n",
       "      <td>0</td>\n",
       "      <td>52</td>\n",
       "      <td>-3</td>\n",
       "      <td>40</td>\n",
       "      <td>44</td>\n",
       "      <td>4</td>\n",
       "      <td>4</td>\n",
       "    </tr>\n",
       "    <tr>\n",
       "      <th>12</th>\n",
       "      <td>37</td>\n",
       "      <td>0</td>\n",
       "      <td>100</td>\n",
       "      <td>0</td>\n",
       "      <td>34</td>\n",
       "      <td>6</td>\n",
       "      <td>64</td>\n",
       "      <td>67</td>\n",
       "      <td>4</td>\n",
       "      <td>1</td>\n",
       "    </tr>\n",
       "    <tr>\n",
       "      <th>13</th>\n",
       "      <td>43</td>\n",
       "      <td>-3</td>\n",
       "      <td>86</td>\n",
       "      <td>2</td>\n",
       "      <td>44</td>\n",
       "      <td>14</td>\n",
       "      <td>43</td>\n",
       "      <td>42</td>\n",
       "      <td>0</td>\n",
       "      <td>1</td>\n",
       "    </tr>\n",
       "    <tr>\n",
       "      <th>14</th>\n",
       "      <td>46</td>\n",
       "      <td>-5</td>\n",
       "      <td>84</td>\n",
       "      <td>0</td>\n",
       "      <td>46</td>\n",
       "      <td>0</td>\n",
       "      <td>38</td>\n",
       "      <td>37</td>\n",
       "      <td>0</td>\n",
       "      <td>1</td>\n",
       "    </tr>\n",
       "    <tr>\n",
       "      <th>15</th>\n",
       "      <td>45</td>\n",
       "      <td>0</td>\n",
       "      <td>81</td>\n",
       "      <td>0</td>\n",
       "      <td>44</td>\n",
       "      <td>0</td>\n",
       "      <td>36</td>\n",
       "      <td>37</td>\n",
       "      <td>0</td>\n",
       "      <td>1</td>\n",
       "    </tr>\n",
       "    <tr>\n",
       "      <th>16</th>\n",
       "      <td>48</td>\n",
       "      <td>0</td>\n",
       "      <td>86</td>\n",
       "      <td>0</td>\n",
       "      <td>50</td>\n",
       "      <td>30</td>\n",
       "      <td>38</td>\n",
       "      <td>37</td>\n",
       "      <td>0</td>\n",
       "      <td>1</td>\n",
       "    </tr>\n",
       "    <tr>\n",
       "      <th>17</th>\n",
       "      <td>56</td>\n",
       "      <td>0</td>\n",
       "      <td>78</td>\n",
       "      <td>0</td>\n",
       "      <td>42</td>\n",
       "      <td>-2</td>\n",
       "      <td>22</td>\n",
       "      <td>37</td>\n",
       "      <td>14</td>\n",
       "      <td>4</td>\n",
       "    </tr>\n",
       "    <tr>\n",
       "      <th>18</th>\n",
       "      <td>56</td>\n",
       "      <td>0</td>\n",
       "      <td>77</td>\n",
       "      <td>0</td>\n",
       "      <td>18</td>\n",
       "      <td>-18</td>\n",
       "      <td>22</td>\n",
       "      <td>59</td>\n",
       "      <td>38</td>\n",
       "      <td>4</td>\n",
       "    </tr>\n",
       "    <tr>\n",
       "      <th>19</th>\n",
       "      <td>45</td>\n",
       "      <td>5</td>\n",
       "      <td>90</td>\n",
       "      <td>0</td>\n",
       "      <td>44</td>\n",
       "      <td>0</td>\n",
       "      <td>44</td>\n",
       "      <td>46</td>\n",
       "      <td>2</td>\n",
       "      <td>1</td>\n",
       "    </tr>\n",
       "    <tr>\n",
       "      <th>20</th>\n",
       "      <td>37</td>\n",
       "      <td>0</td>\n",
       "      <td>77</td>\n",
       "      <td>0</td>\n",
       "      <td>-20</td>\n",
       "      <td>27</td>\n",
       "      <td>41</td>\n",
       "      <td>98</td>\n",
       "      <td>58</td>\n",
       "      <td>1</td>\n",
       "    </tr>\n",
       "    <tr>\n",
       "      <th>21</th>\n",
       "      <td>37</td>\n",
       "      <td>0</td>\n",
       "      <td>90</td>\n",
       "      <td>-6</td>\n",
       "      <td>18</td>\n",
       "      <td>0</td>\n",
       "      <td>53</td>\n",
       "      <td>72</td>\n",
       "      <td>20</td>\n",
       "      <td>1</td>\n",
       "    </tr>\n",
       "    <tr>\n",
       "      <th>22</th>\n",
       "      <td>37</td>\n",
       "      <td>-8</td>\n",
       "      <td>77</td>\n",
       "      <td>0</td>\n",
       "      <td>20</td>\n",
       "      <td>0</td>\n",
       "      <td>40</td>\n",
       "      <td>57</td>\n",
       "      <td>16</td>\n",
       "      <td>1</td>\n",
       "    </tr>\n",
       "    <tr>\n",
       "      <th>23</th>\n",
       "      <td>50</td>\n",
       "      <td>5</td>\n",
       "      <td>95</td>\n",
       "      <td>-3</td>\n",
       "      <td>50</td>\n",
       "      <td>0</td>\n",
       "      <td>45</td>\n",
       "      <td>46</td>\n",
       "      <td>2</td>\n",
       "      <td>1</td>\n",
       "    </tr>\n",
       "    <tr>\n",
       "      <th>24</th>\n",
       "      <td>43</td>\n",
       "      <td>-2</td>\n",
       "      <td>76</td>\n",
       "      <td>0</td>\n",
       "      <td>44</td>\n",
       "      <td>15</td>\n",
       "      <td>32</td>\n",
       "      <td>32</td>\n",
       "      <td>0</td>\n",
       "      <td>1</td>\n",
       "    </tr>\n",
       "  </tbody>\n",
       "</table>\n",
       "</div>"
      ],
      "text/plain": [
       "     0  1    2  3   4   5   6   7   8  9\n",
       "0   55  0   81  0  -6  11  25  88  64  4\n",
       "1   56  0   96  0  52  -4  40  44   4  4\n",
       "2   50 -1   89 -7  50   0  39  40   2  1\n",
       "3   53  9   79  0  42  -2  25  37  12  4\n",
       "4   55  2   82  0  54  -6  26  28   2  1\n",
       "5   41  0   84  3  38  -4  43  45   2  1\n",
       "6   37  0  100  0  36  -8  63  64   2  1\n",
       "7   46  0   83  0  46   0  37  36   0  1\n",
       "8   44  0   79  0  42 -17  35  37   2  1\n",
       "9   44 -1   78  0  44   0  34  34   0  1\n",
       "10  55  0   81  0  54 -10  25  26   2  1\n",
       "11  56  0   95  0  52  -3  40  44   4  4\n",
       "12  37  0  100  0  34   6  64  67   4  1\n",
       "13  43 -3   86  2  44  14  43  42   0  1\n",
       "14  46 -5   84  0  46   0  38  37   0  1\n",
       "15  45  0   81  0  44   0  36  37   0  1\n",
       "16  48  0   86  0  50  30  38  37   0  1\n",
       "17  56  0   78  0  42  -2  22  37  14  4\n",
       "18  56  0   77  0  18 -18  22  59  38  4\n",
       "19  45  5   90  0  44   0  44  46   2  1\n",
       "20  37  0   77  0 -20  27  41  98  58  1\n",
       "21  37  0   90 -6  18   0  53  72  20  1\n",
       "22  37 -8   77  0  20   0  40  57  16  1\n",
       "23  50  5   95 -3  50   0  45  46   2  1\n",
       "24  43 -2   76  0  44  15  32  32   0  1"
      ]
     },
     "execution_count": 3,
     "metadata": {},
     "output_type": "execute_result"
    },
    {
     "data": {
      "application/javascript": [
       "\n",
       "            setTimeout(function() {\n",
       "                var nbb_cell_id = 3;\n",
       "                var nbb_unformatted_code = \"url = \\\"http://archive.ics.uci.edu/ml/machine-learning-databases/statlog/shuttle/shuttle.tst\\\"\\ndf_train_data = pd.read_csv(url, header=None, sep=\\\" \\\")\\ndf_train_data.head(25)\";\n",
       "                var nbb_formatted_code = \"url = \\\"http://archive.ics.uci.edu/ml/machine-learning-databases/statlog/shuttle/shuttle.tst\\\"\\ndf_train_data = pd.read_csv(url, header=None, sep=\\\" \\\")\\ndf_train_data.head(25)\";\n",
       "                var nbb_cells = Jupyter.notebook.get_cells();\n",
       "                for (var i = 0; i < nbb_cells.length; ++i) {\n",
       "                    if (nbb_cells[i].input_prompt_number == nbb_cell_id) {\n",
       "                        if (nbb_cells[i].get_text() == nbb_unformatted_code) {\n",
       "                             nbb_cells[i].set_text(nbb_formatted_code);\n",
       "                        }\n",
       "                        break;\n",
       "                    }\n",
       "                }\n",
       "            }, 500);\n",
       "            "
      ],
      "text/plain": [
       "<IPython.core.display.Javascript object>"
      ]
     },
     "metadata": {},
     "output_type": "display_data"
    }
   ],
   "source": [
    "url = \"http://archive.ics.uci.edu/ml/machine-learning-databases/statlog/shuttle/shuttle.tst\"\n",
    "df_train_data = pd.read_csv(url, header=None, sep=\" \")\n",
    "df_train_data.head(25)"
   ]
  },
  {
   "cell_type": "code",
   "execution_count": 4,
   "metadata": {},
   "outputs": [
    {
     "data": {
      "application/javascript": [
       "\n",
       "            setTimeout(function() {\n",
       "                var nbb_cell_id = 4;\n",
       "                var nbb_unformatted_code = \"# make target column binary classified\\ndf_train_data.loc[df_train_data[9] != 4, 9] = 0\\ndf_train_data.loc[df_train_data[9] == 4, 9] = 1\\n\\n# create a df for all features & a df for the target var\\nX = df_train_data.drop(columns=[9], axis=1)\\ny = df_train_data[9]\\n\\n# create train & test vars\\nX_train, X_test, y_train, y_test = train_test_split(X, y)\";\n",
       "                var nbb_formatted_code = \"# make target column binary classified\\ndf_train_data.loc[df_train_data[9] != 4, 9] = 0\\ndf_train_data.loc[df_train_data[9] == 4, 9] = 1\\n\\n# create a df for all features & a df for the target var\\nX = df_train_data.drop(columns=[9], axis=1)\\ny = df_train_data[9]\\n\\n# create train & test vars\\nX_train, X_test, y_train, y_test = train_test_split(X, y)\";\n",
       "                var nbb_cells = Jupyter.notebook.get_cells();\n",
       "                for (var i = 0; i < nbb_cells.length; ++i) {\n",
       "                    if (nbb_cells[i].input_prompt_number == nbb_cell_id) {\n",
       "                        if (nbb_cells[i].get_text() == nbb_unformatted_code) {\n",
       "                             nbb_cells[i].set_text(nbb_formatted_code);\n",
       "                        }\n",
       "                        break;\n",
       "                    }\n",
       "                }\n",
       "            }, 500);\n",
       "            "
      ],
      "text/plain": [
       "<IPython.core.display.Javascript object>"
      ]
     },
     "metadata": {},
     "output_type": "display_data"
    }
   ],
   "source": [
    "# make target column binary classified\n",
    "df_train_data.loc[df_train_data[9] != 4, 9] = 0\n",
    "df_train_data.loc[df_train_data[9] == 4, 9] = 1\n",
    "\n",
    "# create a df for all features & a df for the target var\n",
    "X = df_train_data.drop(columns=[9], axis=1)\n",
    "y = df_train_data[9]\n",
    "\n",
    "# create train & test vars\n",
    "X_train, X_test, y_train, y_test = train_test_split(X, y)"
   ]
  },
  {
   "cell_type": "code",
   "execution_count": 5,
   "metadata": {},
   "outputs": [
    {
     "data": {
      "application/javascript": [
       "\n",
       "            setTimeout(function() {\n",
       "                var nbb_cell_id = 5;\n",
       "                var nbb_unformatted_code = \"# random state var\\nr_state = 7\";\n",
       "                var nbb_formatted_code = \"# random state var\\nr_state = 7\";\n",
       "                var nbb_cells = Jupyter.notebook.get_cells();\n",
       "                for (var i = 0; i < nbb_cells.length; ++i) {\n",
       "                    if (nbb_cells[i].input_prompt_number == nbb_cell_id) {\n",
       "                        if (nbb_cells[i].get_text() == nbb_unformatted_code) {\n",
       "                             nbb_cells[i].set_text(nbb_formatted_code);\n",
       "                        }\n",
       "                        break;\n",
       "                    }\n",
       "                }\n",
       "            }, 500);\n",
       "            "
      ],
      "text/plain": [
       "<IPython.core.display.Javascript object>"
      ]
     },
     "metadata": {},
     "output_type": "display_data"
    }
   ],
   "source": [
    "# random state var\n",
    "r_state = 7"
   ]
  },
  {
   "cell_type": "code",
   "execution_count": 6,
   "metadata": {},
   "outputs": [
    {
     "data": {
      "text/plain": [
       "LogisticRegression(max_iter=1000)"
      ]
     },
     "execution_count": 6,
     "metadata": {},
     "output_type": "execute_result"
    },
    {
     "data": {
      "application/javascript": [
       "\n",
       "            setTimeout(function() {\n",
       "                var nbb_cell_id = 6;\n",
       "                var nbb_unformatted_code = \"# instance model object\\nmodel = LogisticRegression(solver=\\\"lbfgs\\\", max_iter=1000)\\n\\n# fit model to data\\nmodel.fit(X_train, y_train)\";\n",
       "                var nbb_formatted_code = \"# instance model object\\nmodel = LogisticRegression(solver=\\\"lbfgs\\\", max_iter=1000)\\n\\n# fit model to data\\nmodel.fit(X_train, y_train)\";\n",
       "                var nbb_cells = Jupyter.notebook.get_cells();\n",
       "                for (var i = 0; i < nbb_cells.length; ++i) {\n",
       "                    if (nbb_cells[i].input_prompt_number == nbb_cell_id) {\n",
       "                        if (nbb_cells[i].get_text() == nbb_unformatted_code) {\n",
       "                             nbb_cells[i].set_text(nbb_formatted_code);\n",
       "                        }\n",
       "                        break;\n",
       "                    }\n",
       "                }\n",
       "            }, 500);\n",
       "            "
      ],
      "text/plain": [
       "<IPython.core.display.Javascript object>"
      ]
     },
     "metadata": {},
     "output_type": "display_data"
    }
   ],
   "source": [
    "# instance model object\n",
    "model = LogisticRegression(solver=\"lbfgs\", max_iter=1000)\n",
    "\n",
    "# fit model to data\n",
    "model.fit(X_train, y_train)"
   ]
  },
  {
   "cell_type": "code",
   "execution_count": 7,
   "metadata": {},
   "outputs": [
    {
     "name": "stdout",
     "output_type": "stream",
     "text": [
      "train score: 0.8258390804597702\n",
      "test score: 0.8226206896551724\n",
      "# of iterations: 314\n"
     ]
    },
    {
     "data": {
      "application/javascript": [
       "\n",
       "            setTimeout(function() {\n",
       "                var nbb_cell_id = 7;\n",
       "                var nbb_unformatted_code = \"# model train & test scores\\ntrain_score = model.score(X_train, y_train)\\ntest_score = model.score(X_test, y_test)\\nprint(\\\"train score: %s\\\" % train_score)\\nprint(\\\"test score: %s\\\" % test_score)\\nprint(\\\"# of iterations: %s\\\" % model.n_iter_[0])\";\n",
       "                var nbb_formatted_code = \"# model train & test scores\\ntrain_score = model.score(X_train, y_train)\\ntest_score = model.score(X_test, y_test)\\nprint(\\\"train score: %s\\\" % train_score)\\nprint(\\\"test score: %s\\\" % test_score)\\nprint(\\\"# of iterations: %s\\\" % model.n_iter_[0])\";\n",
       "                var nbb_cells = Jupyter.notebook.get_cells();\n",
       "                for (var i = 0; i < nbb_cells.length; ++i) {\n",
       "                    if (nbb_cells[i].input_prompt_number == nbb_cell_id) {\n",
       "                        if (nbb_cells[i].get_text() == nbb_unformatted_code) {\n",
       "                             nbb_cells[i].set_text(nbb_formatted_code);\n",
       "                        }\n",
       "                        break;\n",
       "                    }\n",
       "                }\n",
       "            }, 500);\n",
       "            "
      ],
      "text/plain": [
       "<IPython.core.display.Javascript object>"
      ]
     },
     "metadata": {},
     "output_type": "display_data"
    }
   ],
   "source": [
    "# model train & test scores\n",
    "train_score = model.score(X_train, y_train)\n",
    "test_score = model.score(X_test, y_test)\n",
    "print(\"train score: %s\" % train_score)\n",
    "print(\"test score: %s\" % test_score)\n",
    "print(\"# of iterations: %s\" % model.n_iter_[0])"
   ]
  },
  {
   "cell_type": "code",
   "execution_count": 8,
   "metadata": {},
   "outputs": [
    {
     "name": "stdout",
     "output_type": "stream",
     "text": [
      "0.5028965517241379\n"
     ]
    },
    {
     "data": {
      "application/javascript": [
       "\n",
       "            setTimeout(function() {\n",
       "                var nbb_cell_id = 8;\n",
       "                var nbb_unformatted_code = \"# dummy classifier object\\ndummy_model = DummyClassifier(strategy=\\\"uniform\\\")\\ndummy_model.fit(X_train, y_train)\\n\\ndummy_score = dummy_model.score(X_test, y_test)\\nprint(dummy_score)\";\n",
       "                var nbb_formatted_code = \"# dummy classifier object\\ndummy_model = DummyClassifier(strategy=\\\"uniform\\\")\\ndummy_model.fit(X_train, y_train)\\n\\ndummy_score = dummy_model.score(X_test, y_test)\\nprint(dummy_score)\";\n",
       "                var nbb_cells = Jupyter.notebook.get_cells();\n",
       "                for (var i = 0; i < nbb_cells.length; ++i) {\n",
       "                    if (nbb_cells[i].input_prompt_number == nbb_cell_id) {\n",
       "                        if (nbb_cells[i].get_text() == nbb_unformatted_code) {\n",
       "                             nbb_cells[i].set_text(nbb_formatted_code);\n",
       "                        }\n",
       "                        break;\n",
       "                    }\n",
       "                }\n",
       "            }, 500);\n",
       "            "
      ],
      "text/plain": [
       "<IPython.core.display.Javascript object>"
      ]
     },
     "metadata": {},
     "output_type": "display_data"
    }
   ],
   "source": [
    "# dummy classifier object\n",
    "dummy_model = DummyClassifier(strategy=\"uniform\")\n",
    "dummy_model.fit(X_train, y_train)\n",
    "\n",
    "dummy_score = dummy_model.score(X_test, y_test)\n",
    "print(dummy_score)"
   ]
  },
  {
   "cell_type": "markdown",
   "metadata": {},
   "source": [
    "> Our model accuracy is about 32% better than random guessing\n",
    "---"
   ]
  },
  {
   "cell_type": "code",
   "execution_count": 9,
   "metadata": {},
   "outputs": [
    {
     "data": {
      "text/html": [
       "<div>\n",
       "<style scoped>\n",
       "    .dataframe tbody tr th:only-of-type {\n",
       "        vertical-align: middle;\n",
       "    }\n",
       "\n",
       "    .dataframe tbody tr th {\n",
       "        vertical-align: top;\n",
       "    }\n",
       "\n",
       "    .dataframe thead th {\n",
       "        text-align: right;\n",
       "    }\n",
       "</style>\n",
       "<table border=\"1\" class=\"dataframe\">\n",
       "  <thead>\n",
       "    <tr style=\"text-align: right;\">\n",
       "      <th></th>\n",
       "      <th>actual_0</th>\n",
       "      <th>actual_1</th>\n",
       "    </tr>\n",
       "  </thead>\n",
       "  <tbody>\n",
       "    <tr>\n",
       "      <th>predicted_0</th>\n",
       "      <td>27</td>\n",
       "      <td>120</td>\n",
       "    </tr>\n",
       "    <tr>\n",
       "      <th>predicted_1</th>\n",
       "      <td>523</td>\n",
       "      <td>2955</td>\n",
       "    </tr>\n",
       "  </tbody>\n",
       "</table>\n",
       "</div>"
      ],
      "text/plain": [
       "             actual_0  actual_1\n",
       "predicted_0        27       120\n",
       "predicted_1       523      2955"
      ]
     },
     "execution_count": 9,
     "metadata": {},
     "output_type": "execute_result"
    },
    {
     "data": {
      "application/javascript": [
       "\n",
       "            setTimeout(function() {\n",
       "                var nbb_cell_id = 9;\n",
       "                var nbb_unformatted_code = \"# model confusion matrix\\npredictions = model.predict(X_test)\\n\\n# create confusion matrix from predictions\\nconfusion = confusion_matrix(y_test, predictions, labels=[1, 0])\\n\\n# create DF from matrix\\nconfusion_df = pd.DataFrame(\\n    confusion, index=[\\\"actual_0\\\", \\\"actual_1\\\"], columns=[\\\"predicted_0\\\", \\\"predicted_1\\\"]\\n).T\\nconfusion_df\";\n",
       "                var nbb_formatted_code = \"# model confusion matrix\\npredictions = model.predict(X_test)\\n\\n# create confusion matrix from predictions\\nconfusion = confusion_matrix(y_test, predictions, labels=[1, 0])\\n\\n# create DF from matrix\\nconfusion_df = pd.DataFrame(\\n    confusion, index=[\\\"actual_0\\\", \\\"actual_1\\\"], columns=[\\\"predicted_0\\\", \\\"predicted_1\\\"]\\n).T\\nconfusion_df\";\n",
       "                var nbb_cells = Jupyter.notebook.get_cells();\n",
       "                for (var i = 0; i < nbb_cells.length; ++i) {\n",
       "                    if (nbb_cells[i].input_prompt_number == nbb_cell_id) {\n",
       "                        if (nbb_cells[i].get_text() == nbb_unformatted_code) {\n",
       "                             nbb_cells[i].set_text(nbb_formatted_code);\n",
       "                        }\n",
       "                        break;\n",
       "                    }\n",
       "                }\n",
       "            }, 500);\n",
       "            "
      ],
      "text/plain": [
       "<IPython.core.display.Javascript object>"
      ]
     },
     "metadata": {},
     "output_type": "display_data"
    }
   ],
   "source": [
    "# model confusion matrix\n",
    "predictions = model.predict(X_test)\n",
    "\n",
    "# create confusion matrix from predictions\n",
    "confusion = confusion_matrix(y_test, predictions, labels=[1, 0])\n",
    "\n",
    "# create DF from matrix\n",
    "confusion_df = pd.DataFrame(\n",
    "    confusion, index=[\"actual_0\", \"actual_1\"], columns=[\"predicted_0\", \"predicted_1\"]\n",
    ").T\n",
    "confusion_df"
   ]
  },
  {
   "cell_type": "code",
   "execution_count": 10,
   "metadata": {
    "scrolled": false
   },
   "outputs": [
    {
     "data": {
      "image/png": "[encoded data removed]",
      "text/plain": [
       "<Figure size 576x432 with 2 Axes>"
      ]
     },
     "metadata": {
      "needs_background": "light"
     },
     "output_type": "display_data"
    },
    {
     "data": {
      "application/javascript": [
       "\n",
       "            setTimeout(function() {\n",
       "                var nbb_cell_id = 10;\n",
       "                var nbb_unformatted_code = \"# plot confusion matrix function\\nFunctions.plot_confusion_matrix(\\n    cm=confusion,\\n    target_names=[\\\"Positive\\\", \\\"Negative\\\"],\\n    title=\\\"Confusion Matrix\\\",\\n    normalize=False,\\n)\";\n",
       "                var nbb_formatted_code = \"# plot confusion matrix function\\nFunctions.plot_confusion_matrix(\\n    cm=confusion,\\n    target_names=[\\\"Positive\\\", \\\"Negative\\\"],\\n    title=\\\"Confusion Matrix\\\",\\n    normalize=False,\\n)\";\n",
       "                var nbb_cells = Jupyter.notebook.get_cells();\n",
       "                for (var i = 0; i < nbb_cells.length; ++i) {\n",
       "                    if (nbb_cells[i].input_prompt_number == nbb_cell_id) {\n",
       "                        if (nbb_cells[i].get_text() == nbb_unformatted_code) {\n",
       "                             nbb_cells[i].set_text(nbb_formatted_code);\n",
       "                        }\n",
       "                        break;\n",
       "                    }\n",
       "                }\n",
       "            }, 500);\n",
       "            "
      ],
      "text/plain": [
       "<IPython.core.display.Javascript object>"
      ]
     },
     "metadata": {},
     "output_type": "display_data"
    }
   ],
   "source": [
    "# plot confusion matrix function\n",
    "Functions.plot_confusion_matrix(\n",
    "    cm=confusion,\n",
    "    target_names=[\"Positive\", \"Negative\"],\n",
    "    title=\"Confusion Matrix\",\n",
    "    normalize=False,\n",
    ")"
   ]
  },
  {
   "cell_type": "code",
   "execution_count": 11,
   "metadata": {
    "scrolled": true
   },
   "outputs": [
    {
     "name": "stdout",
     "output_type": "stream",
     "text": [
      "Accuracy score: 0.82\n",
      "Precision score: 0.18\n",
      "Recall score: 0.05\n",
      "F1 score: 0.08\n",
      "Fbeta score favoring precision: 0.12\n",
      "FBeta score favoring recall: 0.06\n"
     ]
    },
    {
     "data": {
      "text/plain": [
       "(0.8226206896551724,\n",
       " 0.1836734693877551,\n",
       " 0.04909090909090909,\n",
       " 0.07747489239598278,\n",
       " 0.11862917398945516,\n",
       " 0.057520238602471234)"
      ]
     },
     "execution_count": 11,
     "metadata": {},
     "output_type": "execute_result"
    },
    {
     "data": {
      "application/javascript": [
       "\n",
       "            setTimeout(function() {\n",
       "                var nbb_cell_id = 11;\n",
       "                var nbb_unformatted_code = \"# metrics calculations\\ncalc_metrics(y_test, predictions)\";\n",
       "                var nbb_formatted_code = \"# metrics calculations\\ncalc_metrics(y_test, predictions)\";\n",
       "                var nbb_cells = Jupyter.notebook.get_cells();\n",
       "                for (var i = 0; i < nbb_cells.length; ++i) {\n",
       "                    if (nbb_cells[i].input_prompt_number == nbb_cell_id) {\n",
       "                        if (nbb_cells[i].get_text() == nbb_unformatted_code) {\n",
       "                             nbb_cells[i].set_text(nbb_formatted_code);\n",
       "                        }\n",
       "                        break;\n",
       "                    }\n",
       "                }\n",
       "            }, 500);\n",
       "            "
      ],
      "text/plain": [
       "<IPython.core.display.Javascript object>"
      ]
     },
     "metadata": {},
     "output_type": "display_data"
    }
   ],
   "source": [
    "# metrics calculations\n",
    "calc_metrics(y_test, predictions)"
   ]
  },
  {
   "cell_type": "code",
   "execution_count": 12,
   "metadata": {},
   "outputs": [
    {
     "name": "stdout",
     "output_type": "stream",
     "text": [
      "              precision    recall  f1-score   support\n",
      "\n",
      "    Negative       0.85      0.96      0.90      3075\n",
      "    Positive       0.18      0.05      0.08       550\n",
      "\n",
      "    accuracy                           0.82      3625\n",
      "   macro avg       0.52      0.51      0.49      3625\n",
      "weighted avg       0.75      0.82      0.78      3625\n",
      "\n"
     ]
    },
    {
     "data": {
      "application/javascript": [
       "\n",
       "            setTimeout(function() {\n",
       "                var nbb_cell_id = 12;\n",
       "                var nbb_unformatted_code = \"# print classification report\\nreport = classification_report(\\n    y_test, predictions, target_names=[\\\"Negative\\\", \\\"Positive\\\"]\\n)\\nprint(report)\";\n",
       "                var nbb_formatted_code = \"# print classification report\\nreport = classification_report(\\n    y_test, predictions, target_names=[\\\"Negative\\\", \\\"Positive\\\"]\\n)\\nprint(report)\";\n",
       "                var nbb_cells = Jupyter.notebook.get_cells();\n",
       "                for (var i = 0; i < nbb_cells.length; ++i) {\n",
       "                    if (nbb_cells[i].input_prompt_number == nbb_cell_id) {\n",
       "                        if (nbb_cells[i].get_text() == nbb_unformatted_code) {\n",
       "                             nbb_cells[i].set_text(nbb_formatted_code);\n",
       "                        }\n",
       "                        break;\n",
       "                    }\n",
       "                }\n",
       "            }, 500);\n",
       "            "
      ],
      "text/plain": [
       "<IPython.core.display.Javascript object>"
      ]
     },
     "metadata": {},
     "output_type": "display_data"
    }
   ],
   "source": [
    "# print classification report\n",
    "report = classification_report(\n",
    "    y_test, predictions, target_names=[\"Negative\", \"Positive\"]\n",
    ")\n",
    "print(report)"
   ]
  },
  {
   "cell_type": "code",
   "execution_count": 13,
   "metadata": {},
   "outputs": [
    {
     "data": {
      "application/javascript": [
       "\n",
       "            setTimeout(function() {\n",
       "                var nbb_cell_id = 13;\n",
       "                var nbb_unformatted_code = \"# ROC curve & AUC\\nprobs = model.predict_proba(X_test)[:, 1]\\nfpr, tpr, thresholds = roc_curve(y_test, probs)\\nauc = roc_auc_score(y_test, probs)\";\n",
       "                var nbb_formatted_code = \"# ROC curve & AUC\\nprobs = model.predict_proba(X_test)[:, 1]\\nfpr, tpr, thresholds = roc_curve(y_test, probs)\\nauc = roc_auc_score(y_test, probs)\";\n",
       "                var nbb_cells = Jupyter.notebook.get_cells();\n",
       "                for (var i = 0; i < nbb_cells.length; ++i) {\n",
       "                    if (nbb_cells[i].input_prompt_number == nbb_cell_id) {\n",
       "                        if (nbb_cells[i].get_text() == nbb_unformatted_code) {\n",
       "                             nbb_cells[i].set_text(nbb_formatted_code);\n",
       "                        }\n",
       "                        break;\n",
       "                    }\n",
       "                }\n",
       "            }, 500);\n",
       "            "
      ],
      "text/plain": [
       "<IPython.core.display.Javascript object>"
      ]
     },
     "metadata": {},
     "output_type": "display_data"
    }
   ],
   "source": [
    "# ROC curve & AUC\n",
    "probs = model.predict_proba(X_test)[:, 1]\n",
    "fpr, tpr, thresholds = roc_curve(y_test, probs)\n",
    "auc = roc_auc_score(y_test, probs)"
   ]
  },
  {
   "cell_type": "code",
   "execution_count": 14,
   "metadata": {},
   "outputs": [
    {
     "data": {
      "image/png": "[encoded data removed]",
      "text/plain": [
       "<Figure size 504x504 with 1 Axes>"
      ]
     },
     "metadata": {
      "needs_background": "light"
     },
     "output_type": "display_data"
    },
    {
     "name": "stdout",
     "output_type": "stream",
     "text": [
      "area under the curve: 0.8393584626755359\n"
     ]
    },
    {
     "data": {
      "application/javascript": [
       "\n",
       "            setTimeout(function() {\n",
       "                var nbb_cell_id = 14;\n",
       "                var nbb_unformatted_code = \"# plot roc curve\\nfig = plt.figure(figsize=(7, 7))\\n# dashed line\\nplt.plot([0, 1], [0, 1], \\\"k--\\\")\\n# plot the false positive rate & true positive rate\\nplt.plot(fpr, tpr)\\nplt.fill(fpr, tpr, \\\"grey\\\", alpha=0.3)\\nplt.xlabel(\\\"False Positive Rate\\\")\\nplt.ylabel(\\\"True Positive Rate\\\")\\nplt.title(\\\"ROC curve for Logistic Regression Model\\\")\\nplt.show()\\nprint(\\\"area under the curve: %s\\\" % auc)\";\n",
       "                var nbb_formatted_code = \"# plot roc curve\\nfig = plt.figure(figsize=(7, 7))\\n# dashed line\\nplt.plot([0, 1], [0, 1], \\\"k--\\\")\\n# plot the false positive rate & true positive rate\\nplt.plot(fpr, tpr)\\nplt.fill(fpr, tpr, \\\"grey\\\", alpha=0.3)\\nplt.xlabel(\\\"False Positive Rate\\\")\\nplt.ylabel(\\\"True Positive Rate\\\")\\nplt.title(\\\"ROC curve for Logistic Regression Model\\\")\\nplt.show()\\nprint(\\\"area under the curve: %s\\\" % auc)\";\n",
       "                var nbb_cells = Jupyter.notebook.get_cells();\n",
       "                for (var i = 0; i < nbb_cells.length; ++i) {\n",
       "                    if (nbb_cells[i].input_prompt_number == nbb_cell_id) {\n",
       "                        if (nbb_cells[i].get_text() == nbb_unformatted_code) {\n",
       "                             nbb_cells[i].set_text(nbb_formatted_code);\n",
       "                        }\n",
       "                        break;\n",
       "                    }\n",
       "                }\n",
       "            }, 500);\n",
       "            "
      ],
      "text/plain": [
       "<IPython.core.display.Javascript object>"
      ]
     },
     "metadata": {},
     "output_type": "display_data"
    }
   ],
   "source": [
    "# plot roc curve\n",
    "fig = plt.figure(figsize=(7, 7))\n",
    "# dashed line\n",
    "plt.plot([0, 1], [0, 1], \"k--\")\n",
    "# plot the false positive rate & true positive rate\n",
    "plt.plot(fpr, tpr)\n",
    "plt.fill(fpr, tpr, \"grey\", alpha=0.3)\n",
    "plt.xlabel(\"False Positive Rate\")\n",
    "plt.ylabel(\"True Positive Rate\")\n",
    "plt.title(\"ROC curve for Logistic Regression Model\")\n",
    "plt.show()\n",
    "print(\"area under the curve: %s\" % auc)"
   ]
  },
  {
   "cell_type": "code",
   "execution_count": 15,
   "metadata": {},
   "outputs": [
    {
     "data": {
      "image/png": "[encoded data removed]",
      "text/plain": [
       "<Figure size 504x504 with 1 Axes>"
      ]
     },
     "metadata": {
      "needs_background": "light"
     },
     "output_type": "display_data"
    },
    {
     "data": {
      "application/javascript": [
       "\n",
       "            setTimeout(function() {\n",
       "                var nbb_cell_id = 15;\n",
       "                var nbb_unformatted_code = \"# plot precision-recall curve\\npres, rec, thresholds = precision_recall_curve(y_test, predictions)\\n\\nplt.figure(figsize=(7, 7))\\nplt.plot(rec, pres)\\nplt.xlabel(\\\"Recall\\\")\\nplt.ylabel(\\\"Precision\\\")\\nplt.title(\\\"Precision-recall curve\\\")\\nplt.show()\";\n",
       "                var nbb_formatted_code = \"# plot precision-recall curve\\npres, rec, thresholds = precision_recall_curve(y_test, predictions)\\n\\nplt.figure(figsize=(7, 7))\\nplt.plot(rec, pres)\\nplt.xlabel(\\\"Recall\\\")\\nplt.ylabel(\\\"Precision\\\")\\nplt.title(\\\"Precision-recall curve\\\")\\nplt.show()\";\n",
       "                var nbb_cells = Jupyter.notebook.get_cells();\n",
       "                for (var i = 0; i < nbb_cells.length; ++i) {\n",
       "                    if (nbb_cells[i].input_prompt_number == nbb_cell_id) {\n",
       "                        if (nbb_cells[i].get_text() == nbb_unformatted_code) {\n",
       "                             nbb_cells[i].set_text(nbb_formatted_code);\n",
       "                        }\n",
       "                        break;\n",
       "                    }\n",
       "                }\n",
       "            }, 500);\n",
       "            "
      ],
      "text/plain": [
       "<IPython.core.display.Javascript object>"
      ]
     },
     "metadata": {},
     "output_type": "display_data"
    }
   ],
   "source": [
    "# plot precision-recall curve\n",
    "pres, rec, thresholds = precision_recall_curve(y_test, predictions)\n",
    "\n",
    "plt.figure(figsize=(7, 7))\n",
    "plt.plot(rec, pres)\n",
    "plt.xlabel(\"Recall\")\n",
    "plt.ylabel(\"Precision\")\n",
    "plt.title(\"Precision-recall curve\")\n",
    "plt.show()"
   ]
  },
  {
   "cell_type": "code",
   "execution_count": 16,
   "metadata": {},
   "outputs": [
    {
     "data": {
      "application/javascript": [
       "\n",
       "            setTimeout(function() {\n",
       "                var nbb_cell_id = 16;\n",
       "                var nbb_unformatted_code = \"# optimize C score value in model\\nc_vals = np.arange(0.05, 1.5, 0.05)\\ntest_accuracy = []\\ntrain_accuracy = []\\n\\nfor c in c_vals:\\n    # instance model object\\n    model = LogisticRegression(\\n        solver=\\\"lbfgs\\\", penalty=\\\"l2\\\", C=c, max_iter=1000, random_state=r_state\\n    )\\n    # let model learn training data\\n    model.fit(X_train, y_train)\\n    # test & training score vars\\n    test_score = model.score(X_test, y_test)\\n    train_score = model.score(X_train, y_train)\\n    # append scores to lists\\n    test_accuracy.append(test_score)\\n    train_accuracy.append(train_score)\";\n",
       "                var nbb_formatted_code = \"# optimize C score value in model\\nc_vals = np.arange(0.05, 1.5, 0.05)\\ntest_accuracy = []\\ntrain_accuracy = []\\n\\nfor c in c_vals:\\n    # instance model object\\n    model = LogisticRegression(\\n        solver=\\\"lbfgs\\\", penalty=\\\"l2\\\", C=c, max_iter=1000, random_state=r_state\\n    )\\n    # let model learn training data\\n    model.fit(X_train, y_train)\\n    # test & training score vars\\n    test_score = model.score(X_test, y_test)\\n    train_score = model.score(X_train, y_train)\\n    # append scores to lists\\n    test_accuracy.append(test_score)\\n    train_accuracy.append(train_score)\";\n",
       "                var nbb_cells = Jupyter.notebook.get_cells();\n",
       "                for (var i = 0; i < nbb_cells.length; ++i) {\n",
       "                    if (nbb_cells[i].input_prompt_number == nbb_cell_id) {\n",
       "                        if (nbb_cells[i].get_text() == nbb_unformatted_code) {\n",
       "                             nbb_cells[i].set_text(nbb_formatted_code);\n",
       "                        }\n",
       "                        break;\n",
       "                    }\n",
       "                }\n",
       "            }, 500);\n",
       "            "
      ],
      "text/plain": [
       "<IPython.core.display.Javascript object>"
      ]
     },
     "metadata": {},
     "output_type": "display_data"
    }
   ],
   "source": [
    "# optimize C score value in model\n",
    "c_vals = np.arange(0.05, 1.5, 0.05)\n",
    "test_accuracy = []\n",
    "train_accuracy = []\n",
    "\n",
    "for c in c_vals:\n",
    "    # instance model object\n",
    "    model = LogisticRegression(\n",
    "        solver=\"lbfgs\", penalty=\"l2\", C=c, max_iter=1000, random_state=r_state\n",
    "    )\n",
    "    # let model learn training data\n",
    "    model.fit(X_train, y_train)\n",
    "    # test & training score vars\n",
    "    test_score = model.score(X_test, y_test)\n",
    "    train_score = model.score(X_train, y_train)\n",
    "    # append scores to lists\n",
    "    test_accuracy.append(test_score)\n",
    "    train_accuracy.append(train_score)"
   ]
  },
  {
   "cell_type": "code",
   "execution_count": 17,
   "metadata": {},
   "outputs": [
    {
     "data": {
      "image/png": "[encoded data removed]",
      "text/plain": [
       "<Figure size 720x360 with 1 Axes>"
      ]
     },
     "metadata": {
      "needs_background": "light"
     },
     "output_type": "display_data"
    },
    {
     "data": {
      "application/javascript": [
       "\n",
       "            setTimeout(function() {\n",
       "                var nbb_cell_id = 17;\n",
       "                var nbb_unformatted_code = \"# plot c values vs. test/train accuracy\\nfig = plt.figure(figsize=(10, 5))\\nax2 = fig.add_subplot(1, 1, 1)\\nax2.plot(c_vals, test_accuracy, \\\"-r\\\", label=\\\"Test Accuracy\\\")\\nax2.plot(c_vals, train_accuracy, \\\"-b\\\", label=\\\"Train Accuracy\\\")\\nax2.set(xlabel=\\\"C\\\", ylabel=\\\"Accuracy\\\")\\nax2.legend()\\nplt.show()\";\n",
       "                var nbb_formatted_code = \"# plot c values vs. test/train accuracy\\nfig = plt.figure(figsize=(10, 5))\\nax2 = fig.add_subplot(1, 1, 1)\\nax2.plot(c_vals, test_accuracy, \\\"-r\\\", label=\\\"Test Accuracy\\\")\\nax2.plot(c_vals, train_accuracy, \\\"-b\\\", label=\\\"Train Accuracy\\\")\\nax2.set(xlabel=\\\"C\\\", ylabel=\\\"Accuracy\\\")\\nax2.legend()\\nplt.show()\";\n",
       "                var nbb_cells = Jupyter.notebook.get_cells();\n",
       "                for (var i = 0; i < nbb_cells.length; ++i) {\n",
       "                    if (nbb_cells[i].input_prompt_number == nbb_cell_id) {\n",
       "                        if (nbb_cells[i].get_text() == nbb_unformatted_code) {\n",
       "                             nbb_cells[i].set_text(nbb_formatted_code);\n",
       "                        }\n",
       "                        break;\n",
       "                    }\n",
       "                }\n",
       "            }, 500);\n",
       "            "
      ],
      "text/plain": [
       "<IPython.core.display.Javascript object>"
      ]
     },
     "metadata": {},
     "output_type": "display_data"
    }
   ],
   "source": [
    "# plot c values vs. test/train accuracy\n",
    "fig = plt.figure(figsize=(10, 5))\n",
    "ax2 = fig.add_subplot(1, 1, 1)\n",
    "ax2.plot(c_vals, test_accuracy, \"-r\", label=\"Test Accuracy\")\n",
    "ax2.plot(c_vals, train_accuracy, \"-b\", label=\"Train Accuracy\")\n",
    "ax2.set(xlabel=\"C\", ylabel=\"Accuracy\")\n",
    "ax2.legend()\n",
    "plt.show()"
   ]
  },
  {
   "cell_type": "markdown",
   "metadata": {},
   "source": [
    "> optimal C = 0.4\n",
    "---"
   ]
  },
  {
   "cell_type": "markdown",
   "metadata": {},
   "source": [
    "# Cross-validation"
   ]
  },
  {
   "cell_type": "code",
   "execution_count": 31,
   "metadata": {},
   "outputs": [
    {
     "name": "stdout",
     "output_type": "stream",
     "text": [
      "mean cross-validation score: 82.61%\n"
     ]
    },
    {
     "data": {
      "application/javascript": [
       "\n",
       "            setTimeout(function() {\n",
       "                var nbb_cell_id = 31;\n",
       "                var nbb_unformatted_code = \"# model creation\\nmodel = LogisticRegression(solver=\\\"lbfgs\\\", max_iter=1000)\\n# model.fit(X_train, y_train)\\n# cross-validation of model\\ncv_scores = cross_val_score(model, X_train, y_train, cv=5)\\n# mean of the cv scores\\ncv_mean = np.mean(cv_scores) * 100\\n\\nprint(\\\"mean cross-validation score: {:.2f}%\\\".format(cv_mean))\";\n",
       "                var nbb_formatted_code = \"# model creation\\nmodel = LogisticRegression(solver=\\\"lbfgs\\\", max_iter=1000)\\n# model.fit(X_train, y_train)\\n# cross-validation of model\\ncv_scores = cross_val_score(model, X_train, y_train, cv=5)\\n# mean of the cv scores\\ncv_mean = np.mean(cv_scores) * 100\\n\\nprint(\\\"mean cross-validation score: {:.2f}%\\\".format(cv_mean))\";\n",
       "                var nbb_cells = Jupyter.notebook.get_cells();\n",
       "                for (var i = 0; i < nbb_cells.length; ++i) {\n",
       "                    if (nbb_cells[i].input_prompt_number == nbb_cell_id) {\n",
       "                        if (nbb_cells[i].get_text() == nbb_unformatted_code) {\n",
       "                             nbb_cells[i].set_text(nbb_formatted_code);\n",
       "                        }\n",
       "                        break;\n",
       "                    }\n",
       "                }\n",
       "            }, 500);\n",
       "            "
      ],
      "text/plain": [
       "<IPython.core.display.Javascript object>"
      ]
     },
     "metadata": {},
     "output_type": "display_data"
    }
   ],
   "source": [
    "# model creation\n",
    "model = LogisticRegression(solver=\"lbfgs\", max_iter=1000)\n",
    "# model.fit(X_train, y_train)\n",
    "# cross-validation of model\n",
    "cv_scores = cross_val_score(model, X_train, y_train, cv=5)\n",
    "# mean of the cv scores\n",
    "cv_mean = np.mean(cv_scores) * 100\n",
    "\n",
    "print(\"mean cross-validation score: {:.2f}%\".format(cv_mean))"
   ]
  },
  {
   "cell_type": "markdown",
   "metadata": {},
   "source": [
    "# k-nearest neighbor model (k=7)"
   ]
  },
  {
   "cell_type": "code",
   "execution_count": 33,
   "metadata": {},
   "outputs": [
    {
     "name": "stdout",
     "output_type": "stream",
     "text": [
      "train score: 0.999\n",
      "test score: 0.998\n"
     ]
    },
    {
     "data": {
      "application/javascript": [
       "\n",
       "            setTimeout(function() {\n",
       "                var nbb_cell_id = 33;\n",
       "                var nbb_unformatted_code = \"# knn model object, k=7\\nknn_model = KNeighborsClassifier(n_neighbors=7)\\nknn_model.fit(X_train, y_train)\\n\\n# train and test scores\\nknn_train = knn_model.score(X_train, y_train)\\nknn_test = knn_model.score(X_test, y_test)\\nprint(\\\"train score: {:.3f}\\\".format(knn_train))\\nprint(\\\"test score: {:.3f}\\\".format(knn_test))\";\n",
       "                var nbb_formatted_code = \"# knn model object, k=7\\nknn_model = KNeighborsClassifier(n_neighbors=7)\\nknn_model.fit(X_train, y_train)\\n\\n# train and test scores\\nknn_train = knn_model.score(X_train, y_train)\\nknn_test = knn_model.score(X_test, y_test)\\nprint(\\\"train score: {:.3f}\\\".format(knn_train))\\nprint(\\\"test score: {:.3f}\\\".format(knn_test))\";\n",
       "                var nbb_cells = Jupyter.notebook.get_cells();\n",
       "                for (var i = 0; i < nbb_cells.length; ++i) {\n",
       "                    if (nbb_cells[i].input_prompt_number == nbb_cell_id) {\n",
       "                        if (nbb_cells[i].get_text() == nbb_unformatted_code) {\n",
       "                             nbb_cells[i].set_text(nbb_formatted_code);\n",
       "                        }\n",
       "                        break;\n",
       "                    }\n",
       "                }\n",
       "            }, 500);\n",
       "            "
      ],
      "text/plain": [
       "<IPython.core.display.Javascript object>"
      ]
     },
     "metadata": {},
     "output_type": "display_data"
    }
   ],
   "source": [
    "# knn model object, k=7\n",
    "knn_model = KNeighborsClassifier(n_neighbors=7)\n",
    "knn_model.fit(X_train, y_train)\n",
    "\n",
    "# train and test scores\n",
    "knn_train = knn_model.score(X_train, y_train)\n",
    "knn_test = knn_model.score(X_test, y_test)\n",
    "print(\"train score: {:.3f}\".format(knn_train))\n",
    "print(\"test score: {:.3f}\".format(knn_test))"
   ]
  },
  {
   "cell_type": "markdown",
   "metadata": {},
   "source": [
    "> the k-nearest neighbor model has 99.9% train accuracy and 99.8% test accuracy. The data isn't well divided linearly comparing with the linear regression model\n",
    "---"
   ]
  },
  {
   "cell_type": "markdown",
   "metadata": {},
   "source": [
    "# Random forest model"
   ]
  },
  {
   "cell_type": "code",
   "execution_count": 34,
   "metadata": {},
   "outputs": [
    {
     "name": "stdout",
     "output_type": "stream",
     "text": [
      "train score: 1.000\n",
      "test score: 1.000\n"
     ]
    },
    {
     "data": {
      "application/javascript": [
       "\n",
       "            setTimeout(function() {\n",
       "                var nbb_cell_id = 34;\n",
       "                var nbb_unformatted_code = \"# random forest model object\\nrf_model = RandomForestClassifier()\\nrf_model.fit(X_train, y_train)\\n\\n# train and test scores\\nrf_train = rf_model.score(X_train, y_train)\\nrf_test = rf_model.score(X_test, y_test)\\nprint(\\\"train score: {:.3f}\\\".format(rf_train))\\nprint(\\\"test score: {:.3f}\\\".format(rf_test))\";\n",
       "                var nbb_formatted_code = \"# random forest model object\\nrf_model = RandomForestClassifier()\\nrf_model.fit(X_train, y_train)\\n\\n# train and test scores\\nrf_train = rf_model.score(X_train, y_train)\\nrf_test = rf_model.score(X_test, y_test)\\nprint(\\\"train score: {:.3f}\\\".format(rf_train))\\nprint(\\\"test score: {:.3f}\\\".format(rf_test))\";\n",
       "                var nbb_cells = Jupyter.notebook.get_cells();\n",
       "                for (var i = 0; i < nbb_cells.length; ++i) {\n",
       "                    if (nbb_cells[i].input_prompt_number == nbb_cell_id) {\n",
       "                        if (nbb_cells[i].get_text() == nbb_unformatted_code) {\n",
       "                             nbb_cells[i].set_text(nbb_formatted_code);\n",
       "                        }\n",
       "                        break;\n",
       "                    }\n",
       "                }\n",
       "            }, 500);\n",
       "            "
      ],
      "text/plain": [
       "<IPython.core.display.Javascript object>"
      ]
     },
     "metadata": {},
     "output_type": "display_data"
    }
   ],
   "source": [
    "# random forest model object\n",
    "rf_model = RandomForestClassifier()\n",
    "rf_model.fit(X_train, y_train)\n",
    "\n",
    "# train and test scores\n",
    "rf_train = rf_model.score(X_train, y_train)\n",
    "rf_test = rf_model.score(X_test, y_test)\n",
    "print(\"train score: {:.3f}\".format(rf_train))\n",
    "print(\"test score: {:.3f}\".format(rf_test))"
   ]
  }
 ],
 "metadata": {
  "kernelspec": {
   "display_name": "Python 3",
   "language": "python",
   "name": "python3"
  },
  "language_info": {
   "codemirror_mode": {
    "name": "ipython",
    "version": 3
   },
   "file_extension": ".py",
   "mimetype": "text/x-python",
   "name": "python",
   "nbconvert_exporter": "python",
   "pygments_lexer": "ipython3",
   "version": "3.8.3"
  },
  "toc": {
   "base_numbering": 1,
   "nav_menu": {},
   "number_sections": false,
   "sideBar": true,
   "skip_h1_title": false,
   "title_cell": "Table of Contents",
   "title_sidebar": "Contents",
   "toc_cell": false,
   "toc_position": {},
   "toc_section_display": true,
   "toc_window_display": true
  }
 },
 "nbformat": 4,
 "nbformat_minor": 4
}
