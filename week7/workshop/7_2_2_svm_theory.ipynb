{
 "cells": [
  {
   "cell_type": "markdown",
   "metadata": {},
   "source": [
    "A pretty great write up on SVMs:\n",
    "* [Support Vector Machine — Simply Explained](https://towardsdatascience.com/support-vector-machine-simply-explained-fee28eba5496)\n",
    "\n",
    "Another pretty great write up on SVMs:\n",
    "* Part 1: [An intuitive introduction to Support Vector Machine](https://medium.com/swlh/support-vector-machine-from-scratch-ce095a47dc5c)\n",
    "* Part 2: [Visualizing SVM with Python](https://medium.com/swlh/support-vector-machine-from-scratch-ce095a47dc5c)"
   ]
  },
  {
   "cell_type": "code",
   "execution_count": 2,
   "metadata": {},
   "outputs": [
    {
     "data": {
      "application/javascript": [
       "\n",
       "            setTimeout(function() {\n",
       "                var nbb_cell_id = 2;\n",
       "                var nbb_unformatted_code = \"%reload_ext nb_black\";\n",
       "                var nbb_formatted_code = \"%reload_ext nb_black\";\n",
       "                var nbb_cells = Jupyter.notebook.get_cells();\n",
       "                for (var i = 0; i < nbb_cells.length; ++i) {\n",
       "                    if (nbb_cells[i].input_prompt_number == nbb_cell_id) {\n",
       "                        if (nbb_cells[i].get_text() == nbb_unformatted_code) {\n",
       "                             nbb_cells[i].set_text(nbb_formatted_code);\n",
       "                        }\n",
       "                        break;\n",
       "                    }\n",
       "                }\n",
       "            }, 500);\n",
       "            "
      ],
      "text/plain": [
       "<IPython.core.display.Javascript object>"
      ]
     },
     "metadata": {},
     "output_type": "display_data"
    }
   ],
   "source": [
    "%reload_ext nb_black"
   ]
  },
  {
   "cell_type": "code",
   "execution_count": 40,
   "metadata": {},
   "outputs": [
    {
     "data": {
      "application/javascript": [
       "\n",
       "            setTimeout(function() {\n",
       "                var nbb_cell_id = 40;\n",
       "                var nbb_unformatted_code = \"import pandas as pd\\nimport numpy as np\\n\\nfrom sklearn.svm import SVC\\n\\nfrom mlxtend.plotting import plot_decision_regions\\nimport seaborn as sns\\nimport matplotlib.pyplot as plt\\nplt.style.use(['dark_background'])\\n%matplotlib inline\\n\\n# fmt: off\\n\\n# Some fake data\\ntest_grade = [90, 100, 85, 93, 88, 100, \\n              97, 92, 89, 84, 55, 65, 75, \\n              58, 69, 71, 72, 63, 70, 59]\\n\\nproject_grade = [100, 85, 98, 88, 87, 99, \\n                 99, 86, 89, 100, 67, 71,\\n                 74, 73, 55, 59, 56, 72, 67, 72]\\n\\npass_fail = [\\\"pass\\\", \\\"pass\\\", \\\"pass\\\", \\\"pass\\\", \\\"pass\\\",\\n             \\\"pass\\\", \\\"pass\\\", \\\"pass\\\", \\\"pass\\\", \\\"pass\\\",\\n             \\\"fail\\\", \\\"fail\\\", \\\"fail\\\", \\\"fail\\\", \\\"fail\\\",\\n             \\\"fail\\\", \\\"fail\\\", \\\"fail\\\", \\\"fail\\\", \\\"fail\\\"]\\n# fmt: on\";\n",
       "                var nbb_formatted_code = \"import pandas as pd\\nimport numpy as np\\n\\nfrom sklearn.svm import SVC\\n\\nfrom mlxtend.plotting import plot_decision_regions\\nimport seaborn as sns\\nimport matplotlib.pyplot as plt\\n\\nplt.style.use([\\\"dark_background\\\"])\\n%matplotlib inline\\n\\n# fmt: off\\n\\n# Some fake data\\ntest_grade = [90, 100, 85, 93, 88, 100, \\n              97, 92, 89, 84, 55, 65, 75, \\n              58, 69, 71, 72, 63, 70, 59]\\n\\nproject_grade = [100, 85, 98, 88, 87, 99, \\n                 99, 86, 89, 100, 67, 71,\\n                 74, 73, 55, 59, 56, 72, 67, 72]\\n\\npass_fail = [\\\"pass\\\", \\\"pass\\\", \\\"pass\\\", \\\"pass\\\", \\\"pass\\\",\\n             \\\"pass\\\", \\\"pass\\\", \\\"pass\\\", \\\"pass\\\", \\\"pass\\\",\\n             \\\"fail\\\", \\\"fail\\\", \\\"fail\\\", \\\"fail\\\", \\\"fail\\\",\\n             \\\"fail\\\", \\\"fail\\\", \\\"fail\\\", \\\"fail\\\", \\\"fail\\\"]\\n# fmt: on\";\n",
       "                var nbb_cells = Jupyter.notebook.get_cells();\n",
       "                for (var i = 0; i < nbb_cells.length; ++i) {\n",
       "                    if (nbb_cells[i].input_prompt_number == nbb_cell_id) {\n",
       "                        if (nbb_cells[i].get_text() == nbb_unformatted_code) {\n",
       "                             nbb_cells[i].set_text(nbb_formatted_code);\n",
       "                        }\n",
       "                        break;\n",
       "                    }\n",
       "                }\n",
       "            }, 500);\n",
       "            "
      ],
      "text/plain": [
       "<IPython.core.display.Javascript object>"
      ]
     },
     "metadata": {},
     "output_type": "display_data"
    }
   ],
   "source": [
    "import pandas as pd\n",
    "import numpy as np\n",
    "\n",
    "from sklearn.svm import SVC\n",
    "\n",
    "from mlxtend.plotting import plot_decision_regions\n",
    "import seaborn as sns\n",
    "import matplotlib.pyplot as plt\n",
    "\n",
    "plt.style.use([\"dark_background\"])\n",
    "%matplotlib inline\n",
    "\n",
    "# fmt: off\n",
    "\n",
    "# Some fake data\n",
    "test_grade = [90, 100, 85, 93, 88, 100, \n",
    "              97, 92, 89, 84, 55, 65, 75, \n",
    "              58, 69, 71, 72, 63, 70, 59]\n",
    "\n",
    "project_grade = [100, 85, 98, 88, 87, 99, \n",
    "                 99, 86, 89, 100, 67, 71,\n",
    "                 74, 73, 55, 59, 56, 72, 67, 72]\n",
    "\n",
    "pass_fail = [\"pass\", \"pass\", \"pass\", \"pass\", \"pass\",\n",
    "             \"pass\", \"pass\", \"pass\", \"pass\", \"pass\",\n",
    "             \"fail\", \"fail\", \"fail\", \"fail\", \"fail\",\n",
    "             \"fail\", \"fail\", \"fail\", \"fail\", \"fail\"]\n",
    "# fmt: on"
   ]
  },
  {
   "cell_type": "markdown",
   "metadata": {},
   "source": [
    "Create a dataframe using the 3 lists above as the columns."
   ]
  },
  {
   "cell_type": "code",
   "execution_count": 6,
   "metadata": {},
   "outputs": [
    {
     "data": {
      "application/javascript": [
       "\n",
       "            setTimeout(function() {\n",
       "                var nbb_cell_id = 6;\n",
       "                var nbb_unformatted_code = \"df = pd.DataFrame(\\n    {\\\"test_grade\\\": test_grade, \\\"project_grade\\\": project_grade, \\\"pass_fail\\\": pass_fail}\\n)\";\n",
       "                var nbb_formatted_code = \"df = pd.DataFrame(\\n    {\\\"test_grade\\\": test_grade, \\\"project_grade\\\": project_grade, \\\"pass_fail\\\": pass_fail}\\n)\";\n",
       "                var nbb_cells = Jupyter.notebook.get_cells();\n",
       "                for (var i = 0; i < nbb_cells.length; ++i) {\n",
       "                    if (nbb_cells[i].input_prompt_number == nbb_cell_id) {\n",
       "                        if (nbb_cells[i].get_text() == nbb_unformatted_code) {\n",
       "                             nbb_cells[i].set_text(nbb_formatted_code);\n",
       "                        }\n",
       "                        break;\n",
       "                    }\n",
       "                }\n",
       "            }, 500);\n",
       "            "
      ],
      "text/plain": [
       "<IPython.core.display.Javascript object>"
      ]
     },
     "metadata": {},
     "output_type": "display_data"
    }
   ],
   "source": [
    "df = pd.DataFrame(\n",
    "    {\"test_grade\": test_grade, \"project_grade\": project_grade, \"pass_fail\": pass_fail}\n",
    ")"
   ]
  },
  {
   "cell_type": "markdown",
   "metadata": {},
   "source": [
    "Convert the pass/fail column to be 1 if the record is a `'pass'` and 0 when the record is a `'fail'`. "
   ]
  },
  {
   "cell_type": "code",
   "execution_count": 33,
   "metadata": {},
   "outputs": [
    {
     "data": {
      "text/html": [
       "<div>\n",
       "<style scoped>\n",
       "    .dataframe tbody tr th:only-of-type {\n",
       "        vertical-align: middle;\n",
       "    }\n",
       "\n",
       "    .dataframe tbody tr th {\n",
       "        vertical-align: top;\n",
       "    }\n",
       "\n",
       "    .dataframe thead th {\n",
       "        text-align: right;\n",
       "    }\n",
       "</style>\n",
       "<table border=\"1\" class=\"dataframe\">\n",
       "  <thead>\n",
       "    <tr style=\"text-align: right;\">\n",
       "      <th></th>\n",
       "      <th>test_grade</th>\n",
       "      <th>project_grade</th>\n",
       "      <th>is_pass</th>\n",
       "    </tr>\n",
       "  </thead>\n",
       "  <tbody>\n",
       "    <tr>\n",
       "      <th>0</th>\n",
       "      <td>90</td>\n",
       "      <td>100</td>\n",
       "      <td>1</td>\n",
       "    </tr>\n",
       "    <tr>\n",
       "      <th>1</th>\n",
       "      <td>100</td>\n",
       "      <td>85</td>\n",
       "      <td>1</td>\n",
       "    </tr>\n",
       "    <tr>\n",
       "      <th>2</th>\n",
       "      <td>85</td>\n",
       "      <td>98</td>\n",
       "      <td>1</td>\n",
       "    </tr>\n",
       "    <tr>\n",
       "      <th>3</th>\n",
       "      <td>93</td>\n",
       "      <td>88</td>\n",
       "      <td>1</td>\n",
       "    </tr>\n",
       "    <tr>\n",
       "      <th>4</th>\n",
       "      <td>88</td>\n",
       "      <td>87</td>\n",
       "      <td>1</td>\n",
       "    </tr>\n",
       "  </tbody>\n",
       "</table>\n",
       "</div>"
      ],
      "text/plain": [
       "   test_grade  project_grade  is_pass\n",
       "0          90            100        1\n",
       "1         100             85        1\n",
       "2          85             98        1\n",
       "3          93             88        1\n",
       "4          88             87        1"
      ]
     },
     "execution_count": 33,
     "metadata": {},
     "output_type": "execute_result"
    },
    {
     "data": {
      "application/javascript": [
       "\n",
       "            setTimeout(function() {\n",
       "                var nbb_cell_id = 33;\n",
       "                var nbb_unformatted_code = \"df[\\\"is_pass\\\"] = (df[\\\"pass_fail\\\"] == \\\"pass\\\").astype(int)\\ndf = df.drop(columns=\\\"pass_fail\\\")\\ndf.head()\";\n",
       "                var nbb_formatted_code = \"df[\\\"is_pass\\\"] = (df[\\\"pass_fail\\\"] == \\\"pass\\\").astype(int)\\ndf = df.drop(columns=\\\"pass_fail\\\")\\ndf.head()\";\n",
       "                var nbb_cells = Jupyter.notebook.get_cells();\n",
       "                for (var i = 0; i < nbb_cells.length; ++i) {\n",
       "                    if (nbb_cells[i].input_prompt_number == nbb_cell_id) {\n",
       "                        if (nbb_cells[i].get_text() == nbb_unformatted_code) {\n",
       "                             nbb_cells[i].set_text(nbb_formatted_code);\n",
       "                        }\n",
       "                        break;\n",
       "                    }\n",
       "                }\n",
       "            }, 500);\n",
       "            "
      ],
      "text/plain": [
       "<IPython.core.display.Javascript object>"
      ]
     },
     "metadata": {},
     "output_type": "display_data"
    }
   ],
   "source": [
    "df[\"is_pass\"] = (df[\"pass_fail\"] == \"pass\").astype(int)\n",
    "df = df.drop(columns=\"pass_fail\")\n",
    "df.head()"
   ]
  },
  {
   "cell_type": "markdown",
   "metadata": {},
   "source": [
    "Make a scatter plot of test scores by project scores and color by whether the record passed or failed."
   ]
  },
  {
   "cell_type": "code",
   "execution_count": 41,
   "metadata": {},
   "outputs": [
    {
     "data": {
      "image/png": "[encoded data removed]",
      "text/plain": [
       "<Figure size 432x288 with 1 Axes>"
      ]
     },
     "metadata": {
      "needs_background": "dark"
     },
     "output_type": "display_data"
    },
    {
     "data": {
      "application/javascript": [
       "\n",
       "            setTimeout(function() {\n",
       "                var nbb_cell_id = 41;\n",
       "                var nbb_unformatted_code = \"sns.scatterplot(x=\\\"test_grade\\\", y=\\\"project_grade\\\", data=df, hue=\\\"is_pass\\\")\\nplt.show()\";\n",
       "                var nbb_formatted_code = \"sns.scatterplot(x=\\\"test_grade\\\", y=\\\"project_grade\\\", data=df, hue=\\\"is_pass\\\")\\nplt.show()\";\n",
       "                var nbb_cells = Jupyter.notebook.get_cells();\n",
       "                for (var i = 0; i < nbb_cells.length; ++i) {\n",
       "                    if (nbb_cells[i].input_prompt_number == nbb_cell_id) {\n",
       "                        if (nbb_cells[i].get_text() == nbb_unformatted_code) {\n",
       "                             nbb_cells[i].set_text(nbb_formatted_code);\n",
       "                        }\n",
       "                        break;\n",
       "                    }\n",
       "                }\n",
       "            }, 500);\n",
       "            "
      ],
      "text/plain": [
       "<IPython.core.display.Javascript object>"
      ]
     },
     "metadata": {},
     "output_type": "display_data"
    }
   ],
   "source": [
    "sns.scatterplot(x=\"test_grade\", y=\"project_grade\", data=df, hue=\"is_pass\")\n",
    "plt.show()"
   ]
  },
  {
   "cell_type": "markdown",
   "metadata": {},
   "source": [
    "Look at the documenation for `SVC` which has already been loaded using `from sklearn.svm import SVC`."
   ]
  },
  {
   "cell_type": "code",
   "execution_count": 14,
   "metadata": {},
   "outputs": [
    {
     "data": {
      "application/javascript": [
       "\n",
       "            setTimeout(function() {\n",
       "                var nbb_cell_id = 14;\n",
       "                var nbb_unformatted_code = \"SVC?\";\n",
       "                var nbb_formatted_code = \"SVC?\";\n",
       "                var nbb_cells = Jupyter.notebook.get_cells();\n",
       "                for (var i = 0; i < nbb_cells.length; ++i) {\n",
       "                    if (nbb_cells[i].input_prompt_number == nbb_cell_id) {\n",
       "                        if (nbb_cells[i].get_text() == nbb_unformatted_code) {\n",
       "                             nbb_cells[i].set_text(nbb_formatted_code);\n",
       "                        }\n",
       "                        break;\n",
       "                    }\n",
       "                }\n",
       "            }, 500);\n",
       "            "
      ],
      "text/plain": [
       "<IPython.core.display.Javascript object>"
      ]
     },
     "metadata": {},
     "output_type": "display_data"
    }
   ],
   "source": [
    "# SVC?"
   ]
  },
  {
   "cell_type": "markdown",
   "metadata": {},
   "source": [
    "Use the documentation to fit an `SVC` model with a kernel type of `'linear'`.  No need to do a train/test split.  The target variable should be the pass/fail column."
   ]
  },
  {
   "cell_type": "code",
   "execution_count": 42,
   "metadata": {},
   "outputs": [
    {
     "data": {
      "text/html": [
       "<div>\n",
       "<style scoped>\n",
       "    .dataframe tbody tr th:only-of-type {\n",
       "        vertical-align: middle;\n",
       "    }\n",
       "\n",
       "    .dataframe tbody tr th {\n",
       "        vertical-align: top;\n",
       "    }\n",
       "\n",
       "    .dataframe thead th {\n",
       "        text-align: right;\n",
       "    }\n",
       "</style>\n",
       "<table border=\"1\" class=\"dataframe\">\n",
       "  <thead>\n",
       "    <tr style=\"text-align: right;\">\n",
       "      <th></th>\n",
       "      <th>test_grade</th>\n",
       "      <th>project_grade</th>\n",
       "      <th>is_pass</th>\n",
       "    </tr>\n",
       "  </thead>\n",
       "  <tbody>\n",
       "    <tr>\n",
       "      <th>0</th>\n",
       "      <td>90</td>\n",
       "      <td>100</td>\n",
       "      <td>1</td>\n",
       "    </tr>\n",
       "    <tr>\n",
       "      <th>1</th>\n",
       "      <td>100</td>\n",
       "      <td>85</td>\n",
       "      <td>1</td>\n",
       "    </tr>\n",
       "    <tr>\n",
       "      <th>2</th>\n",
       "      <td>85</td>\n",
       "      <td>98</td>\n",
       "      <td>1</td>\n",
       "    </tr>\n",
       "    <tr>\n",
       "      <th>3</th>\n",
       "      <td>93</td>\n",
       "      <td>88</td>\n",
       "      <td>1</td>\n",
       "    </tr>\n",
       "    <tr>\n",
       "      <th>4</th>\n",
       "      <td>88</td>\n",
       "      <td>87</td>\n",
       "      <td>1</td>\n",
       "    </tr>\n",
       "  </tbody>\n",
       "</table>\n",
       "</div>"
      ],
      "text/plain": [
       "   test_grade  project_grade  is_pass\n",
       "0          90            100        1\n",
       "1         100             85        1\n",
       "2          85             98        1\n",
       "3          93             88        1\n",
       "4          88             87        1"
      ]
     },
     "execution_count": 42,
     "metadata": {},
     "output_type": "execute_result"
    },
    {
     "data": {
      "application/javascript": [
       "\n",
       "            setTimeout(function() {\n",
       "                var nbb_cell_id = 42;\n",
       "                var nbb_unformatted_code = \"df.head()\";\n",
       "                var nbb_formatted_code = \"df.head()\";\n",
       "                var nbb_cells = Jupyter.notebook.get_cells();\n",
       "                for (var i = 0; i < nbb_cells.length; ++i) {\n",
       "                    if (nbb_cells[i].input_prompt_number == nbb_cell_id) {\n",
       "                        if (nbb_cells[i].get_text() == nbb_unformatted_code) {\n",
       "                             nbb_cells[i].set_text(nbb_formatted_code);\n",
       "                        }\n",
       "                        break;\n",
       "                    }\n",
       "                }\n",
       "            }, 500);\n",
       "            "
      ],
      "text/plain": [
       "<IPython.core.display.Javascript object>"
      ]
     },
     "metadata": {},
     "output_type": "display_data"
    }
   ],
   "source": [
    "df.head()"
   ]
  },
  {
   "cell_type": "code",
   "execution_count": 35,
   "metadata": {
    "scrolled": true
   },
   "outputs": [
    {
     "data": {
      "text/plain": [
       "array([1, 0])"
      ]
     },
     "execution_count": 35,
     "metadata": {},
     "output_type": "execute_result"
    },
    {
     "data": {
      "application/javascript": [
       "\n",
       "            setTimeout(function() {\n",
       "                var nbb_cell_id = 35;\n",
       "                var nbb_unformatted_code = \"df.is_pass.unique()\";\n",
       "                var nbb_formatted_code = \"df.is_pass.unique()\";\n",
       "                var nbb_cells = Jupyter.notebook.get_cells();\n",
       "                for (var i = 0; i < nbb_cells.length; ++i) {\n",
       "                    if (nbb_cells[i].input_prompt_number == nbb_cell_id) {\n",
       "                        if (nbb_cells[i].get_text() == nbb_unformatted_code) {\n",
       "                             nbb_cells[i].set_text(nbb_formatted_code);\n",
       "                        }\n",
       "                        break;\n",
       "                    }\n",
       "                }\n",
       "            }, 500);\n",
       "            "
      ],
      "text/plain": [
       "<IPython.core.display.Javascript object>"
      ]
     },
     "metadata": {},
     "output_type": "display_data"
    }
   ],
   "source": [
    "# df.is_pass.unique()"
   ]
  },
  {
   "cell_type": "code",
   "execution_count": 36,
   "metadata": {},
   "outputs": [
    {
     "data": {
      "application/javascript": [
       "\n",
       "            setTimeout(function() {\n",
       "                var nbb_cell_id = 36;\n",
       "                var nbb_unformatted_code = \"X = df.drop(columns=\\\"is_pass\\\")\\ny = df[\\\"is_pass\\\"]\";\n",
       "                var nbb_formatted_code = \"X = df.drop(columns=\\\"is_pass\\\")\\ny = df[\\\"is_pass\\\"]\";\n",
       "                var nbb_cells = Jupyter.notebook.get_cells();\n",
       "                for (var i = 0; i < nbb_cells.length; ++i) {\n",
       "                    if (nbb_cells[i].input_prompt_number == nbb_cell_id) {\n",
       "                        if (nbb_cells[i].get_text() == nbb_unformatted_code) {\n",
       "                             nbb_cells[i].set_text(nbb_formatted_code);\n",
       "                        }\n",
       "                        break;\n",
       "                    }\n",
       "                }\n",
       "            }, 500);\n",
       "            "
      ],
      "text/plain": [
       "<IPython.core.display.Javascript object>"
      ]
     },
     "metadata": {},
     "output_type": "display_data"
    }
   ],
   "source": [
    "X = df.drop(columns=\"is_pass\")\n",
    "y = df[\"is_pass\"]"
   ]
  },
  {
   "cell_type": "code",
   "execution_count": 29,
   "metadata": {},
   "outputs": [
    {
     "data": {
      "application/javascript": [
       "\n",
       "            setTimeout(function() {\n",
       "                var nbb_cell_id = 29;\n",
       "                var nbb_unformatted_code = \"SVC?\";\n",
       "                var nbb_formatted_code = \"SVC?\";\n",
       "                var nbb_cells = Jupyter.notebook.get_cells();\n",
       "                for (var i = 0; i < nbb_cells.length; ++i) {\n",
       "                    if (nbb_cells[i].input_prompt_number == nbb_cell_id) {\n",
       "                        if (nbb_cells[i].get_text() == nbb_unformatted_code) {\n",
       "                             nbb_cells[i].set_text(nbb_formatted_code);\n",
       "                        }\n",
       "                        break;\n",
       "                    }\n",
       "                }\n",
       "            }, 500);\n",
       "            "
      ],
      "text/plain": [
       "<IPython.core.display.Javascript object>"
      ]
     },
     "metadata": {},
     "output_type": "display_data"
    }
   ],
   "source": [
    "# SVC?"
   ]
  },
  {
   "cell_type": "code",
   "execution_count": 37,
   "metadata": {},
   "outputs": [
    {
     "data": {
      "text/plain": [
       "SVC(kernel='linear')"
      ]
     },
     "execution_count": 37,
     "metadata": {},
     "output_type": "execute_result"
    },
    {
     "data": {
      "application/javascript": [
       "\n",
       "            setTimeout(function() {\n",
       "                var nbb_cell_id = 37;\n",
       "                var nbb_unformatted_code = \"model = SVC(kernel=\\\"linear\\\")\\nmodel.fit(X, y)\";\n",
       "                var nbb_formatted_code = \"model = SVC(kernel=\\\"linear\\\")\\nmodel.fit(X, y)\";\n",
       "                var nbb_cells = Jupyter.notebook.get_cells();\n",
       "                for (var i = 0; i < nbb_cells.length; ++i) {\n",
       "                    if (nbb_cells[i].input_prompt_number == nbb_cell_id) {\n",
       "                        if (nbb_cells[i].get_text() == nbb_unformatted_code) {\n",
       "                             nbb_cells[i].set_text(nbb_formatted_code);\n",
       "                        }\n",
       "                        break;\n",
       "                    }\n",
       "                }\n",
       "            }, 500);\n",
       "            "
      ],
      "text/plain": [
       "<IPython.core.display.Javascript object>"
      ]
     },
     "metadata": {},
     "output_type": "display_data"
    }
   ],
   "source": [
    "model = SVC(kernel=\"linear\")\n",
    "model.fit(X, y)"
   ]
  },
  {
   "cell_type": "markdown",
   "metadata": {},
   "source": [
    "Use the documentation of `plot_decision_regions` to plot the decision boundary of the `SVC` classifier.  The `plot_decision_regions` function was imported with the line: `from mlxtend.plotting import plot_decision_regions`."
   ]
  },
  {
   "cell_type": "code",
   "execution_count": 18,
   "metadata": {},
   "outputs": [
    {
     "data": {
      "application/javascript": [
       "\n",
       "            setTimeout(function() {\n",
       "                var nbb_cell_id = 18;\n",
       "                var nbb_unformatted_code = \"plot_decision_regions?\";\n",
       "                var nbb_formatted_code = \"plot_decision_regions?\";\n",
       "                var nbb_cells = Jupyter.notebook.get_cells();\n",
       "                for (var i = 0; i < nbb_cells.length; ++i) {\n",
       "                    if (nbb_cells[i].input_prompt_number == nbb_cell_id) {\n",
       "                        if (nbb_cells[i].get_text() == nbb_unformatted_code) {\n",
       "                             nbb_cells[i].set_text(nbb_formatted_code);\n",
       "                        }\n",
       "                        break;\n",
       "                    }\n",
       "                }\n",
       "            }, 500);\n",
       "            "
      ],
      "text/plain": [
       "<IPython.core.display.Javascript object>"
      ]
     },
     "metadata": {},
     "output_type": "display_data"
    }
   ],
   "source": [
    "# plot_decision_regions?"
   ]
  },
  {
   "cell_type": "code",
   "execution_count": 43,
   "metadata": {},
   "outputs": [
    {
     "data": {
      "image/png": "[encoded data removed]",
      "text/plain": [
       "<Figure size 432x288 with 1 Axes>"
      ]
     },
     "metadata": {
      "needs_background": "dark"
     },
     "output_type": "display_data"
    },
    {
     "data": {
      "application/javascript": [
       "\n",
       "            setTimeout(function() {\n",
       "                var nbb_cell_id = 43;\n",
       "                var nbb_unformatted_code = \"plot_decision_regions(np.array(X), np.array(y), model)\\n\\n# These axes labels might be different depending\\n# on how you built the dataframe, and the order of columns in it\\nplt.xlabel(\\\"Test Score\\\")\\nplt.ylabel(\\\"Project Score\\\")\\nplt.legend(loc=\\\"upper left\\\")\\nplt.show()\";\n",
       "                var nbb_formatted_code = \"plot_decision_regions(np.array(X), np.array(y), model)\\n\\n# These axes labels might be different depending\\n# on how you built the dataframe, and the order of columns in it\\nplt.xlabel(\\\"Test Score\\\")\\nplt.ylabel(\\\"Project Score\\\")\\nplt.legend(loc=\\\"upper left\\\")\\nplt.show()\";\n",
       "                var nbb_cells = Jupyter.notebook.get_cells();\n",
       "                for (var i = 0; i < nbb_cells.length; ++i) {\n",
       "                    if (nbb_cells[i].input_prompt_number == nbb_cell_id) {\n",
       "                        if (nbb_cells[i].get_text() == nbb_unformatted_code) {\n",
       "                             nbb_cells[i].set_text(nbb_formatted_code);\n",
       "                        }\n",
       "                        break;\n",
       "                    }\n",
       "                }\n",
       "            }, 500);\n",
       "            "
      ],
      "text/plain": [
       "<IPython.core.display.Javascript object>"
      ]
     },
     "metadata": {},
     "output_type": "display_data"
    }
   ],
   "source": [
    "plot_decision_regions(np.array(X), np.array(y), model)\n",
    "\n",
    "# These axes labels might be different depending\n",
    "# on how you built the dataframe, and the order of columns in it\n",
    "plt.xlabel(\"Test Score\")\n",
    "plt.ylabel(\"Project Score\")\n",
    "plt.legend(loc=\"upper left\")\n",
    "plt.show()"
   ]
  },
  {
   "cell_type": "markdown",
   "metadata": {},
   "source": [
    "View the support vectors using your model's attribute holding this info.  Identify these points in the plot."
   ]
  },
  {
   "cell_type": "code",
   "execution_count": null,
   "metadata": {},
   "outputs": [],
   "source": []
  },
  {
   "cell_type": "markdown",
   "metadata": {},
   "source": [
    "View the model's coefficients.  Note, these are not interpreted in the same way as linear regression."
   ]
  },
  {
   "cell_type": "code",
   "execution_count": null,
   "metadata": {},
   "outputs": [],
   "source": []
  },
  {
   "cell_type": "markdown",
   "metadata": {},
   "source": [
    "Look what happens to the coefficients if we make one of the features useless.  We're going to give every one a project grade of 0 so that the model can only use test grades as a predictor."
   ]
  },
  {
   "cell_type": "code",
   "execution_count": 44,
   "metadata": {},
   "outputs": [
    {
     "data": {
      "image/png": "[encoded data removed]",
      "text/plain": [
       "<Figure size 432x288 with 1 Axes>"
      ]
     },
     "metadata": {
      "needs_background": "dark"
     },
     "output_type": "display_data"
    },
    {
     "data": {
      "application/javascript": [
       "\n",
       "            setTimeout(function() {\n",
       "                var nbb_cell_id = 44;\n",
       "                var nbb_unformatted_code = \"# Gen data\\ndf = pd.DataFrame(\\n    {\\\"test_grades\\\": test_grade, \\\"project_grades\\\": 0, \\\"pass_fail\\\": pass_fail}\\n)\\n\\ndf[\\\"pass\\\"] = (df[\\\"pass_fail\\\"] == \\\"pass\\\").astype(int)\\ndf = df.drop(columns=[\\\"pass_fail\\\"])\\n\\n# Prep data for model\\nX = df.drop(columns=[\\\"pass\\\"])\\ny = df[\\\"pass\\\"]\\n\\n# Fit model\\nmodel_compare_coef = SVC(kernel=\\\"linear\\\")\\nmodel_compare_coef.fit(X, y)\\n\\nplot_decision_regions(np.array(X), np.array(y), model_compare_coef)\\n\\n# These axes labels might be different depending\\n# on how you built the dataframe, and the order of columns in it\\nplt.xlabel(\\\"Test Score\\\")\\nplt.ylabel(\\\"Project Score\\\")\\nplt.legend(loc=\\\"upper left\\\")\\nplt.show()\";\n",
       "                var nbb_formatted_code = \"# Gen data\\ndf = pd.DataFrame(\\n    {\\\"test_grades\\\": test_grade, \\\"project_grades\\\": 0, \\\"pass_fail\\\": pass_fail}\\n)\\n\\ndf[\\\"pass\\\"] = (df[\\\"pass_fail\\\"] == \\\"pass\\\").astype(int)\\ndf = df.drop(columns=[\\\"pass_fail\\\"])\\n\\n# Prep data for model\\nX = df.drop(columns=[\\\"pass\\\"])\\ny = df[\\\"pass\\\"]\\n\\n# Fit model\\nmodel_compare_coef = SVC(kernel=\\\"linear\\\")\\nmodel_compare_coef.fit(X, y)\\n\\nplot_decision_regions(np.array(X), np.array(y), model_compare_coef)\\n\\n# These axes labels might be different depending\\n# on how you built the dataframe, and the order of columns in it\\nplt.xlabel(\\\"Test Score\\\")\\nplt.ylabel(\\\"Project Score\\\")\\nplt.legend(loc=\\\"upper left\\\")\\nplt.show()\";\n",
       "                var nbb_cells = Jupyter.notebook.get_cells();\n",
       "                for (var i = 0; i < nbb_cells.length; ++i) {\n",
       "                    if (nbb_cells[i].input_prompt_number == nbb_cell_id) {\n",
       "                        if (nbb_cells[i].get_text() == nbb_unformatted_code) {\n",
       "                             nbb_cells[i].set_text(nbb_formatted_code);\n",
       "                        }\n",
       "                        break;\n",
       "                    }\n",
       "                }\n",
       "            }, 500);\n",
       "            "
      ],
      "text/plain": [
       "<IPython.core.display.Javascript object>"
      ]
     },
     "metadata": {},
     "output_type": "display_data"
    }
   ],
   "source": [
    "# Gen data\n",
    "df = pd.DataFrame(\n",
    "    {\"test_grades\": test_grade, \"project_grades\": 0, \"pass_fail\": pass_fail}\n",
    ")\n",
    "\n",
    "df[\"pass\"] = (df[\"pass_fail\"] == \"pass\").astype(int)\n",
    "df = df.drop(columns=[\"pass_fail\"])\n",
    "\n",
    "# Prep data for model\n",
    "X = df.drop(columns=[\"pass\"])\n",
    "y = df[\"pass\"]\n",
    "\n",
    "# Fit model\n",
    "model_compare_coef = SVC(kernel=\"linear\")\n",
    "model_compare_coef.fit(X, y)\n",
    "\n",
    "plot_decision_regions(np.array(X), np.array(y), model_compare_coef)\n",
    "\n",
    "# These axes labels might be different depending\n",
    "# on how you built the dataframe, and the order of columns in it\n",
    "plt.xlabel(\"Test Score\")\n",
    "plt.ylabel(\"Project Score\")\n",
    "plt.legend(loc=\"upper left\")\n",
    "plt.show()"
   ]
  },
  {
   "cell_type": "markdown",
   "metadata": {},
   "source": [
    "With scaled data and a `'linear'` kernel, the magnitude of the coefficients provide an indication of feature importance.  Note these are not intrepreted in the same way as linear regression coefficients."
   ]
  },
  {
   "cell_type": "code",
   "execution_count": 45,
   "metadata": {},
   "outputs": [
    {
     "data": {
      "text/plain": [
       "array([[0.22222222, 0.        ]])"
      ]
     },
     "execution_count": 45,
     "metadata": {},
     "output_type": "execute_result"
    },
    {
     "data": {
      "application/javascript": [
       "\n",
       "            setTimeout(function() {\n",
       "                var nbb_cell_id = 45;\n",
       "                var nbb_unformatted_code = \"model_compare_coef.coef_\";\n",
       "                var nbb_formatted_code = \"model_compare_coef.coef_\";\n",
       "                var nbb_cells = Jupyter.notebook.get_cells();\n",
       "                for (var i = 0; i < nbb_cells.length; ++i) {\n",
       "                    if (nbb_cells[i].input_prompt_number == nbb_cell_id) {\n",
       "                        if (nbb_cells[i].get_text() == nbb_unformatted_code) {\n",
       "                             nbb_cells[i].set_text(nbb_formatted_code);\n",
       "                        }\n",
       "                        break;\n",
       "                    }\n",
       "                }\n",
       "            }, 500);\n",
       "            "
      ],
      "text/plain": [
       "<IPython.core.display.Javascript object>"
      ]
     },
     "metadata": {},
     "output_type": "display_data"
    }
   ],
   "source": [
    "model_compare_coef.coef_"
   ]
  },
  {
   "cell_type": "markdown",
   "metadata": {},
   "source": [
    "-----\n",
    "\n",
    "Create a dataframe with new records to classify.\n",
    "\n",
    "* For the 1st record, use 90 as the test score and 73 as the project score.\n",
    "* For the 2nd record, use 90 as the test score and 72 as the project score.\n",
    "\n",
    "Make predictions of pass/fail for both of these records and add a column to the dataframe to hold these predictions. Call this column the same thing as the y column in your original dataframe."
   ]
  },
  {
   "cell_type": "code",
   "execution_count": null,
   "metadata": {},
   "outputs": [],
   "source": []
  },
  {
   "cell_type": "markdown",
   "metadata": {},
   "source": [
    "Combine this dataframe with the original one and replot the decision boundary with these 2 points included."
   ]
  },
  {
   "cell_type": "code",
   "execution_count": null,
   "metadata": {},
   "outputs": [],
   "source": []
  },
  {
   "cell_type": "markdown",
   "metadata": {
    "hideCode": true,
    "hideOutput": false
   },
   "source": [
    "Re-plot the decision boundary and include these 2 new points."
   ]
  },
  {
   "cell_type": "code",
   "execution_count": null,
   "metadata": {},
   "outputs": [],
   "source": [
    "plot_decision_regions(____)\n",
    "\n",
    "# These axes labels might be different depending\n",
    "# on how you built the dataframe, and the order of columns in it\n",
    "plt.xlabel(\"Test Score\")\n",
    "plt.ylabel(\"Project Score\")\n",
    "plt.legend(loc=\"upper left\")\n",
    "plt.show()"
   ]
  }
 ],
 "metadata": {
  "kernelspec": {
   "display_name": "Python 3",
   "language": "python",
   "name": "python3"
  },
  "language_info": {
   "codemirror_mode": {
    "name": "ipython",
    "version": 3
   },
   "file_extension": ".py",
   "mimetype": "text/x-python",
   "name": "python",
   "nbconvert_exporter": "python",
   "pygments_lexer": "ipython3",
   "version": "3.8.3"
  },
  "toc": {
   "base_numbering": 1,
   "nav_menu": {},
   "number_sections": false,
   "sideBar": true,
   "skip_h1_title": false,
   "title_cell": "Table of Contents",
   "title_sidebar": "Contents",
   "toc_cell": false,
   "toc_position": {},
   "toc_section_display": true,
   "toc_window_display": true
  }
 },
 "nbformat": 4,
 "nbformat_minor": 2
}
