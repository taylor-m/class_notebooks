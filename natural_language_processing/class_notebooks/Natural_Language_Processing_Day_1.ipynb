{
  "nbformat": 4,
  "nbformat_minor": 0,
  "metadata": {
    "colab": {
      "name": "Natural Language Processing Day 1.ipynb",
      "provenance": []
    },
    "kernelspec": {
      "name": "python3",
      "display_name": "Python 3"
    }
  },
  "cells": [
    {
      "cell_type": "markdown",
      "metadata": {
        "id": "DVOnhjZKDEdN"
      },
      "source": [
        "# Natural Language Processing\n",
        "* What is it?\n",
        "  * involves the interactions between computers and natural human languages\n",
        "\n",
        "* Document - Basic unit of observation. Ex: entire books, chapters in a book, articles, reviews, tweets, etc\n",
        "* Corpus - collection of related documents\n",
        "* token - unit of text analysis\n",
        "* Stop words - frequently used words with relatively unimportant meanings. (the, and, I, we, my, a)\n",
        "* Named entity - group of words that indicate a category of objects. (Names, organizations, locations, time expressions, quantities, monetary values, percentages)\n",
        "* Normalization\n",
        "  * Stem - form of a word in which affixes (prefix or suffix) can be attached\n",
        "    * Word: puppy\n",
        "    * stem: puppi\n",
        "  * Lemmatization - root or base form of the word\n",
        "    * word: puppies\n",
        "    * lemma: puppy\n",
        "\n",
        "* Part of Speech - noun, verb, adjective, adverb\n",
        "\n",
        "* Applications:\n",
        "  * Chatbots\n",
        "  * Topic Modeling\n",
        "  * Sentiment Analysis\n",
        "  * Machine Translation\n",
        "  * Spam Filtering\n",
        "  * Transcription (Speech to Text)\n",
        "  * Text to Speech\n",
        "  * Digital Assistants (Siri, Alexa, Cortana, etc)\n",
        "\n"
      ]
    },
    {
      "cell_type": "code",
      "metadata": {
        "colab": {
          "base_uri": "https://localhost:8080/"
        },
        "id": "rK2hC7f1CmK2",
        "outputId": "aa893f66-7aab-419a-985d-e91e970c514a"
      },
      "source": [
        "import requests\n",
        "\n",
        "url = 'https://quotes.toscrape.com/'\n",
        "response = requests.get(url)\n",
        "response"
      ],
      "execution_count": null,
      "outputs": [
        {
          "output_type": "execute_result",
          "data": {
            "text/plain": [
              "<Response [200]>"
            ]
          },
          "metadata": {
            "tags": []
          },
          "execution_count": 1
        }
      ]
    },
    {
      "cell_type": "code",
      "metadata": {
        "id": "IfY-zPhtJLfx"
      },
      "source": [
        "content = response.text"
      ],
      "execution_count": null,
      "outputs": []
    },
    {
      "cell_type": "code",
      "metadata": {
        "colab": {
          "base_uri": "https://localhost:8080/"
        },
        "id": "jbNLcNkpJQyi",
        "outputId": "8250ba33-a2b0-4c40-d9f4-dbfd1b76062b"
      },
      "source": [
        "type(content)"
      ],
      "execution_count": null,
      "outputs": [
        {
          "output_type": "execute_result",
          "data": {
            "text/plain": [
              "str"
            ]
          },
          "metadata": {
            "tags": []
          },
          "execution_count": 6
        }
      ]
    },
    {
      "cell_type": "code",
      "metadata": {
        "id": "UVA6p9AeJRjS"
      },
      "source": [
        "from bs4 import BeautifulSoup\n",
        "\n",
        "soup = BeautifulSoup(content)"
      ],
      "execution_count": null,
      "outputs": []
    },
    {
      "cell_type": "code",
      "metadata": {
        "colab": {
          "base_uri": "https://localhost:8080/"
        },
        "id": "zhW3oEVNJmdo",
        "outputId": "83a0f1e0-d0d6-4777-9986-2b11bcfc3d55"
      },
      "source": [
        "type(soup)"
      ],
      "execution_count": null,
      "outputs": [
        {
          "output_type": "execute_result",
          "data": {
            "text/plain": [
              "bs4.BeautifulSoup"
            ]
          },
          "metadata": {
            "tags": []
          },
          "execution_count": 5
        }
      ]
    },
    {
      "cell_type": "code",
      "metadata": {
        "id": "672yPj6DJnq-"
      },
      "source": [
        "print(soup.prettify())"
      ],
      "execution_count": null,
      "outputs": []
    },
    {
      "cell_type": "code",
      "metadata": {
        "colab": {
          "base_uri": "https://localhost:8080/",
          "height": 35
        },
        "id": "7cOtoNCoJtIN",
        "outputId": "cb99a85e-4673-404f-cd06-61742993983b"
      },
      "source": [
        "# find the first instance that contains the element tag and attributes\n",
        "soup.find('span', {'class':'text'}).get_text() #.text"
      ],
      "execution_count": null,
      "outputs": [
        {
          "output_type": "execute_result",
          "data": {
            "application/vnd.google.colaboratory.intrinsic+json": {
              "type": "string"
            },
            "text/plain": [
              "'“The world as we have created it is a process of our thinking. It cannot be changed without changing our thinking.”'"
            ]
          },
          "metadata": {
            "tags": []
          },
          "execution_count": 14
        }
      ]
    },
    {
      "cell_type": "code",
      "metadata": {
        "id": "S6HrTOxAJ911"
      },
      "source": [
        "quotes = soup.find_all('span', {'class':'text'})"
      ],
      "execution_count": null,
      "outputs": []
    },
    {
      "cell_type": "code",
      "metadata": {
        "colab": {
          "base_uri": "https://localhost:8080/"
        },
        "id": "unKIkrgLLxl8",
        "outputId": "b50cc599-ed7b-4a35-9722-1bd3f9509133"
      },
      "source": [
        "my_quotes = [quote.text for quote in quotes]\n",
        "my_quotes"
      ],
      "execution_count": null,
      "outputs": [
        {
          "output_type": "execute_result",
          "data": {
            "text/plain": [
              "['“The world as we have created it is a process of our thinking. It cannot be changed without changing our thinking.”',\n",
              " '“It is our choices, Harry, that show what we truly are, far more than our abilities.”',\n",
              " '“There are only two ways to live your life. One is as though nothing is a miracle. The other is as though everything is a miracle.”',\n",
              " '“The person, be it gentleman or lady, who has not pleasure in a good novel, must be intolerably stupid.”',\n",
              " \"“Imperfection is beauty, madness is genius and it's better to be absolutely ridiculous than absolutely boring.”\",\n",
              " '“Try not to become a man of success. Rather become a man of value.”',\n",
              " '“It is better to be hated for what you are than to be loved for what you are not.”',\n",
              " \"“I have not failed. I've just found 10,000 ways that won't work.”\",\n",
              " \"“A woman is like a tea bag; you never know how strong it is until it's in hot water.”\",\n",
              " '“A day without sunshine is like, you know, night.”']"
            ]
          },
          "metadata": {
            "tags": []
          },
          "execution_count": 22
        }
      ]
    },
    {
      "cell_type": "code",
      "metadata": {
        "id": "6fJ7DgJpKgdl"
      },
      "source": [
        "# other python libraries: Selenium, splinter"
      ],
      "execution_count": null,
      "outputs": []
    },
    {
      "cell_type": "code",
      "metadata": {
        "id": "IWknDzMxL8J0"
      },
      "source": [
        "# define the url\n",
        "url = 'https://books.toscrape.com/'\n",
        "# get html data from url\n",
        "response = requests.get(url)\n",
        "# convert to raw text\n",
        "content = response.text"
      ],
      "execution_count": null,
      "outputs": []
    },
    {
      "cell_type": "code",
      "metadata": {
        "id": "RdutVdXpMODT"
      },
      "source": [
        "soup = BeautifulSoup(content, 'html.parser') # 'lxml'"
      ],
      "execution_count": null,
      "outputs": []
    },
    {
      "cell_type": "code",
      "metadata": {
        "id": "nE2UkSxnMZCa"
      },
      "source": [
        "print(soup.prettify())"
      ],
      "execution_count": null,
      "outputs": []
    },
    {
      "cell_type": "code",
      "metadata": {
        "id": "WDL4vqLPMZ7X"
      },
      "source": [
        "article = soup.find('article', {'class': 'product_pod'})"
      ],
      "execution_count": null,
      "outputs": []
    },
    {
      "cell_type": "code",
      "metadata": {
        "colab": {
          "base_uri": "https://localhost:8080/"
        },
        "id": "pr7JJBt0MoAg",
        "outputId": "cdd73f33-fbcc-4ba4-c9f5-428f98a32448"
      },
      "source": [
        "article.find('p', {'class': 'price_color'})"
      ],
      "execution_count": null,
      "outputs": [
        {
          "output_type": "execute_result",
          "data": {
            "text/plain": [
              "<p class=\"price_color\">Â£51.77</p>"
            ]
          },
          "metadata": {
            "tags": []
          },
          "execution_count": 29
        }
      ]
    },
    {
      "cell_type": "code",
      "metadata": {
        "colab": {
          "base_uri": "https://localhost:8080/",
          "height": 35
        },
        "id": "df7V9zK8MzYs",
        "outputId": "0d49f725-2ad0-458c-ed2a-ba6ea883ff2a"
      },
      "source": [
        "article.find('h3').text"
      ],
      "execution_count": null,
      "outputs": [
        {
          "output_type": "execute_result",
          "data": {
            "application/vnd.google.colaboratory.intrinsic+json": {
              "type": "string"
            },
            "text/plain": [
              "'A Light in the ...'"
            ]
          },
          "metadata": {
            "tags": []
          },
          "execution_count": 31
        }
      ]
    },
    {
      "cell_type": "code",
      "metadata": {
        "colab": {
          "base_uri": "https://localhost:8080/",
          "height": 35
        },
        "id": "t4TGTQMxNFoy",
        "outputId": "f3b4c566-c328-48f3-c528-9c2256b48758"
      },
      "source": [
        "article.h3.text"
      ],
      "execution_count": null,
      "outputs": [
        {
          "output_type": "execute_result",
          "data": {
            "application/vnd.google.colaboratory.intrinsic+json": {
              "type": "string"
            },
            "text/plain": [
              "'A Light in the ...'"
            ]
          },
          "metadata": {
            "tags": []
          },
          "execution_count": 33
        }
      ]
    },
    {
      "cell_type": "code",
      "metadata": {
        "colab": {
          "base_uri": "https://localhost:8080/"
        },
        "id": "DoT4KQF5NJgv",
        "outputId": "09754799-e761-45a5-c5a3-01f2542ce941"
      },
      "source": [
        "!pip install feedparser"
      ],
      "execution_count": null,
      "outputs": [
        {
          "output_type": "stream",
          "text": [
            "Collecting feedparser\n",
            "\u001b[?25l  Downloading https://files.pythonhosted.org/packages/1c/21/faf1bac028662cc8adb2b5ef7a6f3999a765baa2835331df365289b0ca56/feedparser-6.0.2-py3-none-any.whl (80kB)\n",
            "\r\u001b[K     |████                            | 10kB 7.9MB/s eta 0:00:01\r\u001b[K     |████████                        | 20kB 11.8MB/s eta 0:00:01\r\u001b[K     |████████████▏                   | 30kB 7.9MB/s eta 0:00:01\r\u001b[K     |████████████████▏               | 40kB 7.9MB/s eta 0:00:01\r\u001b[K     |████████████████████▎           | 51kB 4.1MB/s eta 0:00:01\r\u001b[K     |████████████████████████▎       | 61kB 4.7MB/s eta 0:00:01\r\u001b[K     |████████████████████████████▍   | 71kB 4.5MB/s eta 0:00:01\r\u001b[K     |████████████████████████████████| 81kB 3.5MB/s \n",
            "\u001b[?25hCollecting sgmllib3k\n",
            "  Downloading https://files.pythonhosted.org/packages/9e/bd/3704a8c3e0942d711c1299ebf7b9091930adae6675d7c8f476a7ce48653c/sgmllib3k-1.0.0.tar.gz\n",
            "Building wheels for collected packages: sgmllib3k\n",
            "  Building wheel for sgmllib3k (setup.py) ... \u001b[?25l\u001b[?25hdone\n",
            "  Created wheel for sgmllib3k: filename=sgmllib3k-1.0.0-cp36-none-any.whl size=6066 sha256=91bd3caeebbb9208e1fb20c57eab9cdd932c5018e0dbe289e6839d490b352905\n",
            "  Stored in directory: /root/.cache/pip/wheels/f1/80/5a/444ba08a550cdd241bd9baf8bae44be750efe370adb944506a\n",
            "Successfully built sgmllib3k\n",
            "Installing collected packages: sgmllib3k, feedparser\n",
            "Successfully installed feedparser-6.0.2 sgmllib3k-1.0.0\n"
          ],
          "name": "stdout"
        }
      ]
    },
    {
      "cell_type": "code",
      "metadata": {
        "id": "XaAtgCiRNlH4"
      },
      "source": [
        "import feedparser\n",
        "\n",
        "feed = 'http://feeds.feedburner.com/oreilly/radar/atom'\n",
        "parsed = feedparser.parse(feed)"
      ],
      "execution_count": null,
      "outputs": []
    },
    {
      "cell_type": "code",
      "metadata": {
        "colab": {
          "base_uri": "https://localhost:8080/"
        },
        "id": "Tlxa-RvGNlKN",
        "outputId": "362c3114-cece-435f-9fc9-9835bf1002b2"
      },
      "source": [
        "len(parsed)"
      ],
      "execution_count": null,
      "outputs": [
        {
          "output_type": "execute_result",
          "data": {
            "text/plain": [
              "12"
            ]
          },
          "metadata": {
            "tags": []
          },
          "execution_count": 36
        }
      ]
    },
    {
      "cell_type": "code",
      "metadata": {
        "colab": {
          "base_uri": "https://localhost:8080/"
        },
        "id": "UMMM3jr9NlMr",
        "outputId": "88a010a3-b3bc-4f0f-ea66-eacb8f4b4fea"
      },
      "source": [
        "len(parsed.entries)"
      ],
      "execution_count": null,
      "outputs": [
        {
          "output_type": "execute_result",
          "data": {
            "text/plain": [
              "60"
            ]
          },
          "metadata": {
            "tags": []
          },
          "execution_count": 40
        }
      ]
    },
    {
      "cell_type": "code",
      "metadata": {
        "id": "DYGoCZQGNlO9"
      },
      "source": [
        "posts = parsed.entries"
      ],
      "execution_count": null,
      "outputs": []
    },
    {
      "cell_type": "code",
      "metadata": {
        "colab": {
          "base_uri": "https://localhost:8080/",
          "height": 52
        },
        "id": "uEhTRpJ1NlQp",
        "outputId": "c290c2bb-ab0e-44d0-93b9-a907c91ca549"
      },
      "source": [
        "posts[0]['summary']"
      ],
      "execution_count": null,
      "outputs": [
        {
          "output_type": "execute_result",
          "data": {
            "application/vnd.google.colaboratory.intrinsic+json": {
              "type": "string"
            },
            "text/plain": [
              "'“If they can get you asking the wrong questions, they don&#8217;t have to worry about answers.” Thomas Pynchon, Gravity’s Rainbow The deplatforming of Donald Trump and his alt-right coterie has led to many discussions of free speech.&#160; Some of the discussions make good points, most don’t, but it seems to me that all of them [&#8230;]'"
            ]
          },
          "metadata": {
            "tags": []
          },
          "execution_count": 45
        }
      ]
    },
    {
      "cell_type": "code",
      "metadata": {
        "id": "IMa2cFnpNlS8"
      },
      "source": [
        "PATH = '/content/rss_posts/'\n",
        "\n",
        "for i, post in enumerate(posts):\n",
        "  text = post['summary'] # post.summary\n",
        "\n",
        "  with open(PATH + f'post_{i}.txt', 'wb') as f:\n",
        "    f.write(text.encode())"
      ],
      "execution_count": null,
      "outputs": []
    },
    {
      "cell_type": "code",
      "metadata": {
        "id": "txaYaCjaNlU4"
      },
      "source": [
        "from nltk.corpus.reader.plaintext import PlaintextCorpusReader\n",
        "\n",
        "DOC_PATTERN = r'.*\\.txt'\n",
        "corpus = PlaintextCorpusReader('/content/rss_posts', DOC_PATTERN)"
      ],
      "execution_count": null,
      "outputs": []
    },
    {
      "cell_type": "code",
      "metadata": {
        "colab": {
          "base_uri": "https://localhost:8080/"
        },
        "id": "1MgKHlLDNlXD",
        "outputId": "afcc5c96-f214-476e-c04f-cab7c0c00ca3"
      },
      "source": [
        "len(corpus.fileids())"
      ],
      "execution_count": null,
      "outputs": [
        {
          "output_type": "execute_result",
          "data": {
            "text/plain": [
              "60"
            ]
          },
          "metadata": {
            "tags": []
          },
          "execution_count": 50
        }
      ]
    },
    {
      "cell_type": "code",
      "metadata": {
        "colab": {
          "base_uri": "https://localhost:8080/"
        },
        "id": "xRdFYEgGNlZH",
        "outputId": "28cd118e-fdfe-4088-b4a7-e66989d14301"
      },
      "source": [
        "docs = [corpus.raw(doc) for doc in corpus.fileids()]\n",
        "docs"
      ],
      "execution_count": null,
      "outputs": [
        {
          "output_type": "execute_result",
          "data": {
            "text/plain": [
              "['“If they can get you asking the wrong questions, they don&#8217;t have to worry about answers.” Thomas Pynchon, Gravity’s Rainbow The deplatforming of Donald Trump and his alt-right coterie has led to many discussions of free speech.&#160; Some of the discussions make good points, most don’t, but it seems to me that all of them [&#8230;]',\n",
              " 'A lot happened in the last month, and not just in Washington. Important developments appeared all through the technology world. Perhaps the most spectacular was the use of Natural Language Processing techniques to analyze viral DNA. It’s actually sort of obvious once you think about it. If DNA is a language, then it should have [&#8230;]',\n",
              " 'NAND Game &#8212; You start with a single component, the nand gate. Using this as the fundamental building block, you will build all other components necessary. (See also NAND to Tetris) Facebook&#8217;s Game AI &#8212; today we are unveiling Recursive Belief-based Learning (ReBeL), a general RL+Search algorithm that can work in all two-player zero-sum games, [&#8230;]',\n",
              " 'AlphaFold &#8212; This is astonishing: protein-folding solved by Google&#8217;s DeepMind. Figuring out what shapes proteins fold into is known as the “protein folding problem”, and has stood as a grand challenge in biology for the past 50 years. In a major scientific advance, the latest version of our AI system AlphaFold has been recognised as [&#8230;]',\n",
              " 'This month’s collection of interesting articles that point to important trends is dominated by AI. That’s not surprising; AI has probably been the biggest single category all year. But its dominance over other topics seems to be increasing. That’s partly because there’s more research into why AI fails; partly because we’re beginning to see AI [&#8230;]',\n",
              " 'Brian Kernighan Interviews Ken Thompson &#8212; From a fun interview: McIlroy keeps coming up. He&#8217;s the smartest of all of us and the least remembered (or written down)&#8230; McIlroy sat there and wrote &#8212;on a piece of paper, now, not on a computer&#8212; TMG [a proprietary yacc-like program] written in TMG&#8230; And then! He now [&#8230;]',\n",
              " 'OpenStreetMap is Having a Moment &#8212; Apple was responsible for more edits in 2019 than Mapbox accounted for in its entire corporate history. See also the 2020: Curious Cases of Corporations in OpenStreetMap talk from State of the Map. (via Simon Willison) Drone Warfare &#8212; The second point, &#8220;SkyNet&#8221;, is the interesting bit. Azerbaijan and [&#8230;]',\n",
              " 'epr &#8212; Terminal/CLI Epub reader. I Should Have Loved Biology &#8212; Conveys well the magic of the field. Notable also for the reference to A Computer Scientist&#8217;s Guide to Cell Biology, which I didn&#8217;t realise existed. Ur-Technical Debt &#8212; Reviving Ward Cunningham&#8217;s take on technical debt. Simply put, ur-technical debt arises when my ideas diverge [&#8230;]',\n",
              " 'If software is such stuff as dreams are made on, how do we talk about nightmares? Software is not the tangible, kickable stuff our senses are tuned to, so we draw on metaphor to communicate and reason about it. The 1970s offered up spaghetti code to describe the tangle of unstructured control flow. This has [&#8230;]',\n",
              " 'NDSS Symposium 2020 Papers &#8212; Large pile of security research from the 2020 Network and Distributed System Security Symposium, including papers on topics as wide-reaching as hypervisor fuzzing and The Attack of the Clones Against Proof-of-Authority which sounds like a very niche Star Wars sequel indeed. Liquid Information Flow Control &#8212; We present Lifty, a [&#8230;]',\n",
              " 'Advanced System on a Chip Lecture Notes (2016) &#8212; Topics: 1. Basic Processor &#38; Memory hierarchy; 2. Advanced Out-of-Order Processor; 3. Data-parallel processors; 4. Micro-controller introduction; 5. Multicore; 6. RISC-V core; 7. Advanced Multicore; 8. Multicore programming; 9. Graphics Processing Unit (GPU); 10. Heterogeneous SoC; 11. GPU Programming; 12. Application-Specific Instruction-Set Processor (ASIP); 13 PULP: [&#8230;]',\n",
              " 'The programming world used to be split into functional languages, object-oriented languages, and everything else (mostly procedural languages). One &#8220;was&#8221; a functional programmer (at least as a hobby) writing Lisp, Haskell, or Erlang; or one &#8220;was&#8221; an OO programmer (at least professionally), writing code in Java or C++.\\xa0 (One never called oneself a “procedural programmer”; [&#8230;]',\n",
              " 'In this report, we look at the data generated by the O’Reilly online learning platform to discern trends in the technology industry—trends technology leaders need to follow. But what are “trends”? All too often, trends degenerate into horse races over languages and platforms. Look at all the angst heating up social media when TIOBE or [&#8230;]',\n",
              " 'Hypothesis as Liability &#8212; Would the mental focus on a specific hypothesis prevent us from making a discovery? To test this, we made up a dataset and asked students to analyze it. [&#8230;] The most notable “discovery” in the dataset was that if you simply plotted the number of steps versus the BMI, you would [&#8230;]',\n",
              " 'Dealing with Security Holes in Chips &#8212; system security starts at the hardware layer. Ubooquity &#8212; free home server for your comics and ebooks library. &#8220;Like plex for books.&#8221; Noisepage &#8212; a relational database management system developed by the Carnegie Mellon Database Group. The research goal of the NoisePage project is to develop high-performance system [&#8230;]',\n",
              " 'The AI Who Mistook a Bald Head for a Football &#8212; Second-tier Scottish football club Inverness Caledonian Thistle doesn’t have a camera operator for matches at their stadium so the club uses an AI-controlled camera that’s programmed to follow the ball for their broadcasts. But in a recent match against Ayr United, the AI controller [&#8230;]',\n",
              " 'Perhaps the most important event this month isn’t technical, but the start of the US Justice Dept.’s lawsuit against Google. That will certainly play out over years rather than months, but it’s significance is less about this particular case than the idea that legal and regulatory systems will play a large role in the evolution [&#8230;]',\n",
              " 'Mutation Testing &#8212; in this paper, we semi-automatically learn error-inducing patterns from a corpus of common Java coding errors and from changes that caused operational anomalies at Facebook specifically. We combine the mutations with instrumentation that measures which tests exactly visited the mutated piece of code. Results on more than 15,000 generated mutants show that [&#8230;]',\n",
              " 'Phantom of the ADAS &#8212; In this paper, we investigate &#8220;split-second phantom attacks,&#8221; a scientific gap that causes two commercial advanced driver-assistance systems (ADASs), Telsa Model X (HW 2.5 and HW 3) and Mobileye 630, to treat a depthless object that appears for a few milliseconds as a real obstacle/object. Turns out neural networks can [&#8230;]',\n",
              " '&#8220;On peut interroger n&#8217;importe qui, dans n&#8217;importe quel état; ce sont rarement les réponses qui apportent la vérité, mais l&#8217;enchaînement des questions.&#8220; &#8220;You can interrogate anyone, no matter what their state of being.&#160; It&#8217;s rarely their answers that unveil the truth, but the sequence of questions that you have to ask.&#8220;–&#160; Inspector Pastor in La [&#8230;]',\n",
              " 'Justice Department Antitrust Filing Against Google &#8212; Claims advertising was an artificially limited market because of their exclusivity deals, including the Android anti-forking arrangements and Browser paid-default-search deals. New York Times has a write-up. This may be more important, historically, than the election results. Differential Dataflow &#8212; Differential dataflow programs look like many standard &#8220;big [&#8230;]',\n",
              " 'Automerge &#8212; (Github) Data structure library for Javascript (and Rust) providing Conflict-Free Replicated Data Types (CRDTs). Automerge is designed for creating local-first software, i.e. software that treats a user&#8217;s local copy of their data (on their own device) as primary, rather than centralising data in a cloud service. Alan Turing &#8212; (BBC) An excellent episode [&#8230;]',\n",
              " 'Data Organization in Spreadsheets &#8212; Focusing on the data entry and storage aspects, this article offers practical recommendations for organizing spreadsheet data to reduce errors and ease later analyses. The basic principles are: be consistent, write dates like YYYY-MM-DD, do not leave any cells empty, put just one thing in a cell, organize the data [&#8230;]',\n",
              " '“[T]he threats to consumers arising from data abuse, including those posed by algorithmic harms, are mounting and urgent.” FTC Commissioner Rebecca K. Slaughter Variants of artificial intelligence (AI), such as predictive modeling, statistical learning, and machine learning (ML), can create new value for organizations. AI can also cause costly reputational damage, get your organization slapped [&#8230;]',\n",
              " 'The field of AI product management continues to gain momentum. As the AI product management role advances in maturity, more and more information and advice has become available. Our previous articles in this series introduce our own take on AI product management, discuss the skills that AI product managers need, and detail how to bring [&#8230;]',\n",
              " 'T-SQL in SQLite &#8212; CG/SQL is a code generation system for the popular SQLite library that allows developers to write stored procedures in a variant of Transact-SQL (T-SQL) and compile them into C code that uses SQLite’s C API to do the coded operations. CG/SQL enables engineers to create highly complex stored procedures with very [&#8230;]',\n",
              " 'The release of GPT-3 has reinvigorated a discussion of creativity and artificial intelligence. That&#8217;s a good discussion to have, primarily because it forces us to think carefully about what we mean when we use words like &#8220;creativity&#8221; and &#8220;art.&#8221; As I&#8217;ve argued in the past, each time we have this discussion, we end up raising [&#8230;]',\n",
              " 'Algorithms Can Collude &#8212; To analyze the possible consequences, we study experimentally the behavior of algorithms powered by Artificial Intelligence (Q-learning) in a workhorse oligopoly model of repeated price competition. We find that the algorithms consistently learn to charge supracompetitive prices, without communicating with one another. The high prices are sustained by collusive strategies with [&#8230;]',\n",
              " 'Single Device Behaves Like a Neuron &#8212; On its own, using a simple DC voltage as the input, the device outputs not just simple spikes, as some other devices can manage, but the whole array of neural activity—bursts of spikes, self-sustained oscillations, and other stuff that goes on in your brain. (Paper) USB-C Is a [&#8230;]',\n",
              " 'This month, the big surprise is that there’s no significant technology news about COVID. And there is more news than ever about legislation and regulation. I suspect that the legal system will be a big driver for technology over the next year. Another trend that doesn’t quite count as technology news but that definitely bears [&#8230;]',\n",
              " 'When Coffeemakers Demand Ransom &#8212; So he then examined the mechanism the coffee maker used to receive firmware updates. It turned out they were received from the phone with—you guessed it—no encryption, no authentication, and no code signing. Nothing remarkable here other than it&#8217;s 2020 and companies still put crappy software into their hardware. Returns [&#8230;]',\n",
              " 'Adapton &#8212; A program P is incremental if repeating P with a changed input is faster than from-scratch computation. Adapton offers programming language abstractions for incremental computation. Migration Lessons Learned &#8212; Keep your migration scripts away from your production code; Keep it low-tech, don’t deserialize; Write tests to exercise each migration script individually; Consider running [&#8230;]',\n",
              " 'CS349 &#8211; Contemporary Issues in Computer Science &#8212; This class examines ethical frameworks, modern ethical concerns related to computer science and technology, and clear oral and written communication. Topics we will explore include policy vacuums created by new technology, copyright and patent, software bugs and liability, freedom of speech, privacy, security, employment and job markets, [&#8230;]',\n",
              " 'A Concurrency Cost Hierarchy &#8212; a higher level taxonomy that I use to think about concurrent performance. We’ll group the performance of concurrent operations into six broad levels running from fast to slow, with each level differing from its neighbors by roughly an order of magnitude in performance. They are: Contended Atomics, System Calls, Implied [&#8230;]',\n",
              " 'A few months ago, I said that &#8220;making everything into a design pattern is a sign that you don&#8217;t know what design patterns really are.&#8221; So now, I feel obliged to say something about what design patterns are. Design patterns are frequently observed solutions to common problems. The idea comes from the work of Christopher [&#8230;]',\n",
              " 'AI Benefits and Stakeholders AI is a field where value, in the form of outcomes and their resulting benefits, is created by machines exhibiting the ability to learn and “understand,” and to use the knowledge learned to carry out tasks or achieve goals. AI-generated benefits can be realized by defining and achieving appropriate goals. These [&#8230;]',\n",
              " 'Accurately Lipsync Video to Any Speech &#8212; In our paper, A Lip Sync Expert Is All You Need for Speech to Lip Generation In the Wild, ACM Multimedia 2020, we aim to lip-sync unconstrained videos in the wild to any desired target speech. (Paper) Impressive. Temporal &#8212; Open source &#8220;workflow-as-code&#8221; engine. I can&#8217;t decide if [&#8230;]',\n",
              " 'Things I Learned to Become a Senior Software Engineer &#8212; Full of relatable growth moments, such as changing your code to make the test pass vs understanding why the test failed. The Future is Software Engineers Who Can&#8217;t Code &#8212; “There are lot of definitions of what a developer is [&#8230;] It’s not just people [&#8230;]',\n",
              " 'In a conversation with Kevlin Henney, we started talking about the kinds of user interfaces that might work for AI-assisted programming. This is a significant problem: neither of us were aware of any significant work on user interfaces that support collaboration. However, as software developers, many of us have been practicing effective collaboration for years. [&#8230;]',\n",
              " 'Inside the Digital Pregnancy Test &#8212; &#8230; is a paper pregnancy test and watch-battery-powered microcontroller connected to three LEDs, a photo-cell, and an LCD display. That (8-bit) microcontroller runs at 4MHz, almost as fast as an IBM PC did. The Incredible Proof Machine &#8212; Fun game (modelled on The Incredible Machine from the 90s) that [&#8230;]',\n",
              " 'VSCode Debug Visualizer &#8212; A VS Code extension for visualizing data structures while debugging. Like the VS Code&#8217;s watch view, but with rich visualizations of the watched value. The screencast is wow. Userland &#8212; an integrated dataflow environment for end-users. It allows users to interact with modules that implement functionality for different domains from a [&#8230;]',\n",
              " 'Compared to the last few months, there are relatively few items about COVID. And almost no items about Blockchains, though the one item I’ve listed, about China’s Blockchain Services Network, may be the most important item here. I’m seeing a steady stream of articles about various forms of no-code/low-code programming. While many programmers scoff at [&#8230;]',\n",
              " 'Activity Watch &#8212; Open source, privacy-first, cross-platform app that automatically tracks how you spend time on your devices. Natural Language Database Queries &#8212; An interesting comment thread on Hacker News. Sample comments: I&#8217;ve done some previous digging into natural language SQL queries &#8212; there&#8217;s a good amount of research around this. But the error rate [&#8230;]',\n",
              " 'The Covid-19 pandemic has changed how people and businesses spend and operate.&#160; Over the coming pages we&#8217;ll explore ways in which our current world is already very different from the one we knew just a few months ago, as well as predictions of our &#8220;new normal&#8221; once the proverbial boat stops rocking.&#160; Specifically, we&#8217;ll see [&#8230;]',\n",
              " 'Wooden Turing Machine &#8212; (YouTube) Description of how it works. It implements three data elements and two states, sufficient for any calculation (discussed here)&#62; Not an infinite tape, because &#8230; wood. Emotional Resiliency in Leadership Report 2020 &#8212; Very interesting report, based on survey and science of burnout. It is primarily written for the survey [&#8230;]',\n",
              " 'The last month of the old year showed a lot of activity on the border of AI and biology. The advances in protein folding with deep learning are a huge breakthrough that could revolutionize drug design. It’s important to remember the role AI had in developing the vaccine for COVID—and also worth remembering that we [&#8230;]',\n",
              " 'The 212 Story Tower That Isn&#8217;t in Suburban Melbourne &#8212; A typo in a Open Street Map submission becomes a surprising monolith in Microsoft Flight Simulator. Fairness in Machine Learning &#8212; Draft text for a book on the subject. The Social Architecture of Impactful Communities &#8212; A really good set of models for communities. Individuals [&#8230;]',\n",
              " 'The Design Space of Computational Notebooks &#8212; Looked at 60 notebook systems and grouped 10 design space dimensions into four major stages of a data science workflow: importing data into notebooks (data sources), editing code and prose (editor style, supported programming languages, versioning, collaboration), running code to generate outputs (cell execution order, liveness [6], execution [&#8230;]',\n",
              " 'So you need to redesign your company’s data infrastructure. Do you buy a solution from a big integration company like IBM, Cloudera, or Amazon?&#160; Do you engage many small startups, each focused on one part of the problem?&#160; A little of both?&#160; We see trends shifting towards focused best-of-breed platforms. That is, products that are [&#8230;]',\n",
              " 'Sinter &#8212; Sinter uses the user-mode EndpointSecurity API to subscribe to and receive authorization callbacks from the macOS kernel, for a set of security-relevant event types. The current version of Sinter supports allowing/denying process executions; in future versions we intend to support other types of events such as file, socket, and kernel events. Inspired by [&#8230;]',\n",
              " 'StackOverflow&#8217;s 2020 developer survey included a table showing the&#160; &#8220;most loved, dreaded, and wanted languages.&#8221; Loved and wanted languages are, well, sort of boring. The programming languages we dread are a lot more interesting. As Tolstoy said, “All happy families are alike; each unhappy family is unhappy in its own way.” So what are these [&#8230;]',\n",
              " 'ImmuDB &#8212; lightweight, high-speed immutable database for systems and applications. Open Source and easy to integrate into any existing application. Latest version provides multitenancy. Smart Mask &#8212; (CNN) Japanese startup Donut Robotics [&#8230;] created a smart mask — a high-tech upgrade to standard face coverings, designed to make communication and social distancing easier. In conjunction [&#8230;]',\n",
              " 'Surprising Economics of Load-Balanced Systems &#8212; I have a system with c servers, each of which can only handle a single concurrent request, and has no internal queuing. The servers sit behind a load balancer, which contains an infinite queue. An unlimited number of clients offer c * 0.8 requests per second to the load [&#8230;]',\n",
              " 'Tales of the Autistic Developer &#8211; Senior Developer &#8212; Interesting article from a senior developer with Autism Spectrum Disorder. They talk about the problems it causes, how they solved each problem, and how those problems even became strengths. You can&#8217;t read this and not have more empathy for neurodiverse programmers. NyanSat: The Open Source LEO [&#8230;]',\n",
              " 'I thought July was going to be a dull month, but I’m wrong again. COVID-specific technology seems to be drying up, though there’s a fascinating report about a DIY vaccine. (Developed by serious scientists, so don’t try this at home.) There’s a lot of news about AI, and specifically, about the GPT-2 and GPT-3 language [&#8230;]',\n",
              " 'Migrating a 40TB SQL Server Database &#8212; A horror story to tell around the campfire. I was struck by the observation in this Hacker News comment that It&#8217;s typical that a log will be accessed zero times. Collecting, aggregating, and indexing logs is usually a mistake made by people who aren&#8217;t clear on the use [&#8230;]',\n",
              " 'End-to-end Entity Resolution for Big Data — Introduction to the entity resolution pipeline and the algorithms at the different stages. Includes a summary of open source tools and their features. (via Adrian Colyer) 33 Engineering Challenges of Building Mobile Apps at Scale — Part 1, covering the first 10, is up. They are: 1. State [&#8230;]',\n",
              " 'TextAttack — Framework for generating adversarial examples for NLP models. (Paper) (via The Data Exchange) Measuring Developer Productivity — There is no useful measure that operates at a finer grain than “tasks multiplied by complexity.” Measuring commits, lines of code, or hours spent coding, as some tools do, is no more useful at a team [&#8230;]',\n",
              " '2020 has been a year of great challenges for so many, but it’s not all negative. Around the world, organizations and their workforces have risen to the occasion, recognizing the importance of expanding their knowledge, taking on new tasks, and bettering themselves both personally and professionally. With the uptick in virtual conferencing, remote work, and, [&#8230;]',\n",
              " 'It has long seemed to me that functional programming is, essentially, programming viewed as mathematics. Many ideas in functional programming came from Alonzo Church&#8217;s Lambda Calculus, which significantly predates anything that looks remotely like a modern computer. Though the actual history of computing runs differently: in the early days of computing, Von Neumann’s ideas were [&#8230;]']"
            ]
          },
          "metadata": {
            "tags": []
          },
          "execution_count": 51
        }
      ]
    },
    {
      "cell_type": "code",
      "metadata": {
        "colab": {
          "base_uri": "https://localhost:8080/"
        },
        "id": "mxTBTbpKNlbQ",
        "outputId": "36ce8c63-6b85-4579-b0ed-35fdce5dd1d4"
      },
      "source": [
        "# API\n",
        "url = 'https://dog.ceo/api/breed/pomeranian/images/random'\n",
        "requests.get(url).json()"
      ],
      "execution_count": null,
      "outputs": [
        {
          "output_type": "execute_result",
          "data": {
            "text/plain": [
              "{'message': 'https://images.dog.ceo/breeds/pomeranian/n02112018_5697.jpg',\n",
              " 'status': 'success'}"
            ]
          },
          "metadata": {
            "tags": []
          },
          "execution_count": 60
        }
      ]
    },
    {
      "cell_type": "code",
      "metadata": {
        "colab": {
          "base_uri": "https://localhost:8080/"
        },
        "id": "lr7V7uc4P1yl",
        "outputId": "109cca5f-1d70-4f74-c19c-0e9fe0cc1607"
      },
      "source": [
        "url = 'https://api.kanye.rest/'\n",
        "\n",
        "requests.get(url).json()"
      ],
      "execution_count": null,
      "outputs": [
        {
          "output_type": "execute_result",
          "data": {
            "text/plain": [
              "{'quote': \"I'm nice at ping pong\"}"
            ]
          },
          "metadata": {
            "tags": []
          },
          "execution_count": 63
        }
      ]
    },
    {
      "cell_type": "code",
      "metadata": {
        "colab": {
          "base_uri": "https://localhost:8080/"
        },
        "id": "QeAShHa5Qe-j",
        "outputId": "0882743f-8b0e-4163-a149-3b2fa83c6382"
      },
      "source": [
        "for i in range(10):\n",
        "  response = requests.get(url).json()\n",
        "\n",
        "  print(response['quote'])\n",
        "  print('---'*10)"
      ],
      "execution_count": null,
      "outputs": [
        {
          "output_type": "stream",
          "text": [
            "Decentralize\n",
            "------------------------------\n",
            "Empathy is the glue\n",
            "------------------------------\n",
            "We must and will cure homelessness and hunger. We have the capability as a species\n",
            "------------------------------\n",
            "Have you ever thought you were in love with someone but then realized you were just staring in a mirror for 20 minutes?\n",
            "------------------------------\n",
            "We're going to move the entire music industry into the 21st Century\n",
            "------------------------------\n",
            "We have to evolve\n",
            "------------------------------\n",
            "We will heal. We will cure.\n",
            "------------------------------\n",
            "If I don't scream, if I don't say something then no one's going to say anything.\n",
            "------------------------------\n",
            "Buy property\n",
            "------------------------------\n",
            "The world is our family\n",
            "------------------------------\n"
          ],
          "name": "stdout"
        }
      ]
    },
    {
      "cell_type": "code",
      "metadata": {
        "id": "snf4Vz0LQjNp"
      },
      "source": [
        "url = 'http://newsapi.org/v2/everything?q=tesla&from=2021-02-11&language=en&sortBy=publishedAt&apiKey=cc48d0d278124cedafac4fa8c6b8e3ae'\n",
        "\n",
        "data = requests.get(url).json()"
      ],
      "execution_count": null,
      "outputs": []
    },
    {
      "cell_type": "code",
      "metadata": {
        "colab": {
          "base_uri": "https://localhost:8080/"
        },
        "id": "T0yVz6SmRi52",
        "outputId": "eecd9f64-3d25-4208-f297-ac53691fbf0b"
      },
      "source": [
        "len(data['articles'])"
      ],
      "execution_count": null,
      "outputs": [
        {
          "output_type": "execute_result",
          "data": {
            "text/plain": [
              "20"
            ]
          },
          "metadata": {
            "tags": []
          },
          "execution_count": 81
        }
      ]
    },
    {
      "cell_type": "code",
      "metadata": {
        "colab": {
          "base_uri": "https://localhost:8080/",
          "height": 35
        },
        "id": "OO2T1uS1RxS7",
        "outputId": "ee71152d-bfab-40ad-d29e-4230585b228b"
      },
      "source": [
        "data['articles'][0]['description']"
      ],
      "execution_count": null,
      "outputs": [
        {
          "output_type": "execute_result",
          "data": {
            "application/vnd.google.colaboratory.intrinsic+json": {
              "type": "string"
            },
            "text/plain": [
              "\"Elon Musk, the world's richest man, says that he manages to get by on six hours of sleep while juggling his portfolio of businesses like Tesla (bottom left) and SpaceX (top left).\""
            ]
          },
          "metadata": {
            "tags": []
          },
          "execution_count": 80
        }
      ]
    },
    {
      "cell_type": "code",
      "metadata": {
        "colab": {
          "base_uri": "https://localhost:8080/"
        },
        "id": "N7g7CfeTR_OR",
        "outputId": "7fc39ce8-27b2-4b0a-8a5d-3649d3bba670"
      },
      "source": [
        "for article in data['articles']:\n",
        "  print(article['description'])\n",
        "  print('-----------')"
      ],
      "execution_count": null,
      "outputs": [
        {
          "output_type": "stream",
          "text": [
            "Elon Musk, the world's richest man, says that he manages to get by on six hours of sleep while juggling his portfolio of businesses like Tesla (bottom left) and SpaceX (top left).\n",
            "-----------\n",
            "Sen. Cynthia Lummis (R., Wyo.) says she doesn't want the federal government to \"mess up\" cryptocurrency regulation.\n",
            "-----------\n",
            "Despite choppy price action, news over the past few days has been extraordinarily bullish for the leading cryptocurrency.\n",
            "-----------\n",
            "DUBLIN, Feb. 12, 2021 /PRNewswire/ -- The \"Electric Vehicle Charging Station Market by Level of Charging (Level 1, Level 2 & Level 3), by Charging Infrastructure (Normal Charge, Type-2, CCS, CHAdeMO and Tesla Supercharger), DC Fast Charging (Fast & Ultra-fast…\n",
            "-----------\n",
            "DUBLIN, Feb. 12, 2021 /PRNewswire/ -- The \"Electric Vehicle Charging Station Market by Level of Charging (Level 1, Level 2 & Level 3), by Charging Infrastructure (Normal Charge, Type-2, CCS, CHAdeMO and Tesla Supercharger), DC Fast Charging (Fast & Ultra-fast…\n",
            "-----------\n",
            "The \"Electric Vehicle Charging Station Market by Level of Charging (Level 1, Level 2 & Level 3), by Charging Infrastructure (Normal Charge, Type-2, CCS...\n",
            "-----------\n",
            "“If you think the BTC price will go down because of a Canada ETF or Chinese new year, you were just looking for an excuse to sell anyway,\" one trader said.\n",
            "-----------\n",
            "The S&P 500 drifted higher on Friday, recovering from early weakness as financial and materials stocks gained ground while investors held out for signs of progress on the next batch of fiscal aid.\n",
            "-----------\n",
            "Elon expressed very little interest in the topic of alien life during a new interview with Joe Rogan.https://www.hotnewhiphop.com/elon-musk-tells-joe-rogan-looking-for-aliens-is-a-waste-of-time-news.126546.html\n",
            "-----------\n",
            "In this week's Autoblog Podcast, Editor-in-Chief Greg Migliore is joined by Consumer Editor Jeremy Korzeniewski.  A narrator will take you through the...\n",
            "-----------\n",
            "Bitcoin traded around $47,500 after dipping from Thursday's record high. Adoption from BNY Mellon and Tesla fueled the cryptocurrency's latest rally.\n",
            "-----------\n",
            "Litecoin as a cryptocurrency has longevity behind it, digital scarcity, and a code that’s just like Bitcoin’s. Yet the reputation of the altcoin has been so tarnished, it has long lagged behind the rest of the market after being the once clear leader. Signs a…\n",
            "-----------\n",
            "This week on the Electrek Podcast, we discuss the most popular news in the world of sustainable transport and energy, including more Tesla Roadster information, Toyota bringing EVs to the US, a new federal tax credit, and more. The Electrek Podcast is me, Fre…\n",
            "-----------\n",
            "As the cryptocurrency Bitcoin rallied again this week, opening Friday at $46,645.20 USD, Wall Street bank leaders have been discussing classifying Bitcoin as...\n",
            "-----------\n",
            "Tesla's Elon Musk and Twitter's Jack Dorsey have everyone's interest piqued in cryptocurrency and blockchain. However, these two technologies are still not well understood. What are the prospects for Bitcoin and its brethren on their journey to becoming, well…\n",
            "-----------\n",
            "It isn't clear where the crypto is headed from here, it is still up by about 50% over the past seven-day period and enjoys an eye-popping 1,350% gain since the start of 2021, boasting a market value of $8.7 billion, as of Friday afternoon.\n",
            "-----------\n",
            "HUN earnings call for the period ending December 31, 2020.\n",
            "-----------\n",
            "I have my models.py set up like:\n",
            "class Garage(models.Model):\n",
            " garage_name = models.CharField(max_length=200, null=True, blank=True)\n",
            "\n",
            "class Car(models.Model):\n",
            " car_name = models.CharField(max_length=200, null=True, blank=True)\n",
            " garage = models.ForeignKey(Garag…\n",
            "-----------\n",
            "Elon Musk revealed the expected capacity of Tesla Semi’s battery pack ahead of the start of production, and it is surprisingly smaller than we thought. Back in 2017, Tesla unveiled its plan for an electric semi-truck, called the Tesla Semi, and at the time, t…\n",
            "-----------\n",
            "The Tesla driver with the controversial “FKGAS” plate will be able to keep it.\n",
            "-----------\n"
          ],
          "name": "stdout"
        }
      ]
    },
    {
      "cell_type": "code",
      "metadata": {
        "id": "4AiYEaHISSdb"
      },
      "source": [
        ""
      ],
      "execution_count": null,
      "outputs": []
    }
  ]
}