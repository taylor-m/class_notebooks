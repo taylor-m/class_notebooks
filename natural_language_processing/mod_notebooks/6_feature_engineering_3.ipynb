{
 "cells": [
  {
   "cell_type": "markdown",
   "metadata": {
    "colab_type": "text",
    "id": "zyMBrDwJnyd3"
   },
   "source": [
    "In a nutshell, the word2vec algorithm takes a corpus of text as input and generates a vector of several hundred dimensions for each word in the corpus. In doing this, it doesn't rely on the counts of the occurrences of the words. Instead, it follows a much more complicated procedure that considers the surrounding words of each word in the sentences.\n",
    "\n",
    "Before moving further, note that you're still in the feature-engineering step as shown below:\n",
    "\n",
    "![Feature Engineering](assets/feature_engineering.png)\n",
    "\n"
   ]
  },
  {
   "cell_type": "markdown",
   "metadata": {
    "colab_type": "text",
    "id": "uCTjtARdnyd4",
    "run_control": {
     "frozen": false,
     "read_only": false
    }
   },
   "source": [
    "# What is word2vec?\n",
    "\n",
    "The most common feature-generation approach for NLP tasks is word2vec. What word2vec does is that it trains a shallow neural network model in an unsupervised manner for converting words to vectors. At the highest level of abstraction, word2vec assigns a vector of random values to each word. For a word *W*, it looks at the words that are near *W* in the sentence. It then shifts the values in the word vectors, such that the vectors for words near *W* are closer to the *W* vector, and vectors for words not near *W* are farther away from the *W* vector. With a large enough corpus, this will eventually result in words that often appear together having vectors that are near one another, and words that rarely or never appear together having vectors that are far away from each other.\n",
    "\n",
    "This may sound quite similar to the latent semantic analysis approach that you learned about in the previous checkpoint. The conceptual difference is that LSA creates vector representations of sentences based on the words in them, while word2vec creates representations of individual words, based on the words around them."
   ]
  },
  {
   "cell_type": "markdown",
   "metadata": {
    "colab_type": "text",
    "id": "_zyjblsFnyd5"
   },
   "source": [
    "## What is it good for?\n",
    "\n",
    "Word2vec is strong at capturing the meanings of the words, so it's also good at detecting words that have similar meanings. The challenge with human communication is that there are many different ways to communicate the same concept. It's easy for humans to know that `the silverware` and `the utensils` can refer to the same thing. But computers can't do that unless you teach them, and this can be a real choke point for human-computer interactions. If you've ever played a text adventure game like *Colossal Cave Adventure* or *Zork*, you may have encountered the following scenario:"
   ]
  },
  {
   "cell_type": "markdown",
   "metadata": {
    "colab_type": "raw",
    "id": "esovvnnhnyd7"
   },
   "source": [
    "    GAME: You are on a forest path north of the field. A cave leads into a granite butte to the north.\n",
    "    A thick hedge blocks the way to the west.\n",
    "    A hefty stick lies on the ground.\n",
    "\n",
    "    YOU: pick up stick  \n",
    "\n",
    "    GAME: You don't know how to do that.  \n",
    "\n",
    "    YOU: lift stick  \n",
    "\n",
    "    GAME: You don't know how to do that.  \n",
    "\n",
    "    YOU: take stick  \n",
    "\n",
    "    GAME: You don't know how to do that.  \n",
    "\n",
    "    YOU: grab stick  \n",
    "\n",
    "    GAME: You grab the stick from the ground and put it in your bag.  "
   ]
  },
  {
   "cell_type": "markdown",
   "metadata": {
    "colab_type": "text",
    "id": "VOVMQrdxnyd8"
   },
   "source": [
    "And your brain explodes from frustration. A text adventure game that incorporates a properly trained word2vec model would have vectors for `pick up`, `lift`, and `take` that are close to the vector for `grab`. Therefore, it could accept those other verbs as synonyms so that you could move ahead faster. In more practical applications, word2vec and other similar algorithms are what help a search engine return the best results for your query, not just the results that contain the exact words that you used. In fact, a search is a better example. Not only does the search engine need to understand your request, it also needs to match it to web pages that were also written by humans and therefore also use idiosyncratic language.\n",
    "\n",
    "Next, look very briefly at the word2vec algorithm and examine how it comes up with vector representations of words that capture semantics."
   ]
  },
  {
   "cell_type": "markdown",
   "metadata": {
    "colab_type": "text",
    "id": "6rgG5EApnyd8"
   },
   "source": [
    "## Generating vectors: Multiple algorithms\n",
    "\n",
    "In considering the relationship between a word and its surrounding words, word2vec has two options that are the inverse of one another:\n",
    "\n",
    " * **Continuous bag of words (CBOW):** The identity of a word is predicted using the words near it in a sentence.\n",
    " * **Skip-gram:** The identities of words are predicted from the word that they surround. Skip-gram seems to work better for larger corpora.\n",
    "\n",
    "Now, consider the following sentence:\n",
    "    \n",
    "    \"Terry Gilliam is a better comedian than a director\" \n",
    "\n",
    "Focus on the word `comedian` here. CBOW will try to predict `comedian` using `is`, `a`, `better`, `than`, `a`, and `director`. Skip-gram will try to predict `is`, `a`, `better`, `than`, `a`, and `director` using the word `comedian`. In practice, for CBOW, the vector for `comedian` will be pulled closer to the other words. But for skip-gram, the vectors for the other words will be pulled closer to `comedian`.  \n",
    "\n",
    "In addition to moving the vectors for nearby words closer together, each time a word is processed, some vectors are moved farther away. Word2vec has two approaches to pushing vectors apart:\n",
    " \n",
    " * **Negative sampling:** Like it sounds, each time that a word is pulled toward some neighbors, the vectors for a randomly chosen small set of other words are pushed away.\n",
    " * **Hierarchical softmax:** Every neighboring word is pulled closer or farther from a subset of words chosen based on a tree of probabilities."
   ]
  },
  {
   "cell_type": "markdown",
   "metadata": {
    "colab_type": "text",
    "id": "ZqRBWBKinyd9"
   },
   "source": [
    "## What is similarity? Strengths and weaknesses of word2vec\n",
    "\n",
    "Keep in mind that word2vec operates on the assumption that frequent proximity indicates similarity, but words can be similar in various ways. They may be conceptually similar (`royal`, `king`, and `throne`), but they may also be functionally similar (`tremendous` and `negligible` are both common modifiers of `size`). Here is a more [detailed exploration, with examples](https://quomodocumque.wordpress.com/2016/01/15/messing-around-with-word2vec/), of what similarity means in word2vec.\n",
    "\n",
    "One cool thing about word2vec is that it can identify similarities between words that never occur near one another in the corpus. For example, consider these sentences:\n",
    "\n",
    "    \"The dog played with an elastic ball.\"\n",
    "    \"Babies prefer the ball that is bouncy.\"\n",
    "    \"I wanted to find a ball that's elastic.\"\n",
    "    \"Tracy threw a bouncy ball.\"\n",
    "\n",
    "`Elastic` and `bouncy` are similar in meaning in the text but don't appear in the same sentence. However, both appear near `ball`. In the process of nudging the vectors around so that `elastic` and `bouncy` are both near the vector for `ball`, the words also become nearer to one another and their similarity can be detected.\n",
    "\n",
    "For a while, after it was introduced, [no one was really sure why word2vec worked as well as it did](https://arxiv.org/pdf/1402.3722v1.pdf) (see the last paragraph of the linked paper). A few years later, some additional math was developed to explain word2vec and similar models. If you are comfortable with both math and academic writing, have a lot of time on your hands, and want to take a deep dive into the inner workings of word2vec, [check out this paper](https://arxiv.org/pdf/1502.03520v7.pdf) from 2016.\n",
    "\n",
    "One of the draws of word2vec when it first came out was that the vectors could be used to convert analogies (`king` is to `queen` as `man` is to `woman`, for example) into mathematical expressions (`king` + `woman` - `man` = ?) and solve for the missing element (`queen`). This is kind of nifty.\n",
    "\n",
    "A drawback of word2vec is that it works best with a corpus that is at least several billion words long. Even though the word2vec algorithm is speedy, this is a lot of data and takes a long time! In the following examples, your dataset is very short. This allows you to run it in the Notebook without overwhelming the kernel, but probably won't give great results. Still, you'll explore how you can implement word2vec using the Gensim library."
   ]
  },
  {
   "cell_type": "markdown",
   "metadata": {
    "colab_type": "text",
    "id": "lTYW9SDTnyd-"
   },
   "source": [
    "## Implementing word2vec\n",
    "\n",
    "Now, you can start to use word2vec representations of the words to feed into machine-learning models. There are a few word2vec implementations in Python, but the general consensus is that the easiest one to use is [Gensim](https://radimrehurek.com/gensim/models/word2vec.html). Now is a good time to install this library if you don't have it yet. Install it as follows:\n",
    "\n",
    "```bash\n",
    "pip install gensim\n",
    "````\n",
    "\n",
    "In the following examples, you'll use the Gensim library along with others. As you did in the previous checkpoints, you'll be working on Jane Austen's *Persuasion* and Lewis Carroll's *Alice's Adventures in Wonderland*.\n",
    "\n",
    "You have two options when working with the word2vec vectors in Gensim. The first one is to train your own word2vec algorithm using your own corpus. This will be your first approach in the following process. However, for the word2vec algorithm to perform well, you need a much larger corpus than you have here. So, the second option is to load a pretrained word2vec vector that's been trained on a very large corpus. After you train your word2vec representations, you'll also load a pretrained one.\n",
    "\n",
    "Now, start with importing the libraries that you'll use:"
   ]
  },
  {
   "cell_type": "code",
   "execution_count": 2,
   "metadata": {
    "colab": {
     "base_uri": "https://localhost:8080/",
     "height": 190
    },
    "colab_type": "code",
    "id": "QajclIwjnyeA",
    "outputId": "32c6c2ae-4596-4789-e129-3d1eb92331b9",
    "run_control": {
     "frozen": false,
     "read_only": false
    },
    "scrolled": true
   },
   "outputs": [
    {
     "name": "stderr",
     "output_type": "stream",
     "text": [
      "[nltk_data] Downloading package gutenberg to\n",
      "[nltk_data]     /Users/emetozar/nltk_data...\n",
      "[nltk_data]   Package gutenberg is already up-to-date!\n"
     ]
    },
    {
     "name": "stdout",
     "output_type": "stream",
     "text": [
      "Requirement already satisfied: en_core_web_sm==2.1.0 from https://github.com/explosion/spacy-models/releases/download/en_core_web_sm-2.1.0/en_core_web_sm-2.1.0.tar.gz#egg=en_core_web_sm==2.1.0 in /anaconda3/lib/python3.7/site-packages (2.1.0)\n",
      "\u001b[38;5;2m✔ Download and installation successful\u001b[0m\n",
      "You can now load the model via spacy.load('en_core_web_sm')\n",
      "\u001b[38;5;2m✔ Linking successful\u001b[0m\n",
      "/anaconda3/lib/python3.7/site-packages/en_core_web_sm -->\n",
      "/anaconda3/lib/python3.7/site-packages/spacy/data/en\n",
      "You can now load the model via spacy.load('en')\n"
     ]
    }
   ],
   "source": [
    "import numpy as np\n",
    "import pandas as pd\n",
    "import sklearn\n",
    "import spacy\n",
    "import re\n",
    "import nltk\n",
    "from nltk.corpus import gutenberg\n",
    "import gensim\n",
    "import warnings\n",
    "warnings.filterwarnings(\"ignore\")\n",
    "\n",
    "nltk.download('gutenberg')\n",
    "!python -m spacy download en"
   ]
  },
  {
   "cell_type": "markdown",
   "metadata": {
    "colab_type": "text",
    "id": "Qt6pE-RAnyeE"
   },
   "source": [
    "Before moving on to vectorizing the text, you need to clean your data. You can use the same cleaning codes as in the previous checkpoints, because you're using the same documents."
   ]
  },
  {
   "cell_type": "code",
   "execution_count": 3,
   "metadata": {
    "colab": {},
    "colab_type": "code",
    "id": "GStl5G-gnyeF"
   },
   "outputs": [],
   "source": [
    "# Utility function for standard text cleaning\n",
    "def text_cleaner(text):\n",
    "    # Visual inspection identifies a form of punctuation that spaCy doesn't\n",
    "    # recognize: the double dash --. Better get rid of it now!\n",
    "    text = re.sub(r'--',' ',text)\n",
    "    text = re.sub(\"[\\[].*?[\\]]\", \"\", text)\n",
    "    text = re.sub(r\"(\\b|\\s+\\-?|^\\-?)(\\d+|\\d*\\.\\d+)\\b\", \" \", text)\n",
    "    text = ' '.join(text.split())\n",
    "    return text"
   ]
  },
  {
   "cell_type": "code",
   "execution_count": 4,
   "metadata": {
    "colab": {},
    "colab_type": "code",
    "id": "fYGkgFujnyeI"
   },
   "outputs": [],
   "source": [
    "# Load and clean the data\n",
    "persuasion = gutenberg.raw('austen-persuasion.txt')\n",
    "alice = gutenberg.raw('carroll-alice.txt')\n",
    "\n",
    "# The chapter indicator is idiosyncratic\n",
    "persuasion = re.sub(r'Chapter \\d+', '', persuasion)\n",
    "alice = re.sub(r'CHAPTER .*', '', alice)\n",
    "    \n",
    "alice = text_cleaner(alice)\n",
    "persuasion = text_cleaner(persuasion)"
   ]
  },
  {
   "cell_type": "code",
   "execution_count": 5,
   "metadata": {
    "colab": {},
    "colab_type": "code",
    "id": "Xw1gGshfnyeJ"
   },
   "outputs": [],
   "source": [
    "# Parse the cleaned novels. This can take some time.\n",
    "nlp = spacy.load('en')\n",
    "alice_doc = nlp(alice)\n",
    "persuasion_doc = nlp(persuasion)"
   ]
  },
  {
   "cell_type": "code",
   "execution_count": 6,
   "metadata": {
    "colab": {
     "base_uri": "https://localhost:8080/",
     "height": 204
    },
    "colab_type": "code",
    "id": "nVRmVxehnyeL",
    "outputId": "0aa6d425-1bc2-45a2-875a-4ca7090ed647"
   },
   "outputs": [
    {
     "data": {
      "text/html": [
       "<div>\n",
       "<style scoped>\n",
       "    .dataframe tbody tr th:only-of-type {\n",
       "        vertical-align: middle;\n",
       "    }\n",
       "\n",
       "    .dataframe tbody tr th {\n",
       "        vertical-align: top;\n",
       "    }\n",
       "\n",
       "    .dataframe thead th {\n",
       "        text-align: right;\n",
       "    }\n",
       "</style>\n",
       "<table border=\"1\" class=\"dataframe\">\n",
       "  <thead>\n",
       "    <tr style=\"text-align: right;\">\n",
       "      <th></th>\n",
       "      <th>text</th>\n",
       "      <th>author</th>\n",
       "    </tr>\n",
       "  </thead>\n",
       "  <tbody>\n",
       "    <tr>\n",
       "      <th>0</th>\n",
       "      <td>(Alice, was, beginning, to, get, very, tired, ...</td>\n",
       "      <td>Carroll</td>\n",
       "    </tr>\n",
       "    <tr>\n",
       "      <th>1</th>\n",
       "      <td>(So, she, was, considering, in, her, own, mind...</td>\n",
       "      <td>Carroll</td>\n",
       "    </tr>\n",
       "    <tr>\n",
       "      <th>2</th>\n",
       "      <td>(There, was, nothing, so, VERY, remarkable, in...</td>\n",
       "      <td>Carroll</td>\n",
       "    </tr>\n",
       "    <tr>\n",
       "      <th>3</th>\n",
       "      <td>(Oh, dear, !)</td>\n",
       "      <td>Carroll</td>\n",
       "    </tr>\n",
       "    <tr>\n",
       "      <th>4</th>\n",
       "      <td>(Oh, dear, !)</td>\n",
       "      <td>Carroll</td>\n",
       "    </tr>\n",
       "  </tbody>\n",
       "</table>\n",
       "</div>"
      ],
      "text/plain": [
       "                                                text   author\n",
       "0  (Alice, was, beginning, to, get, very, tired, ...  Carroll\n",
       "1  (So, she, was, considering, in, her, own, mind...  Carroll\n",
       "2  (There, was, nothing, so, VERY, remarkable, in...  Carroll\n",
       "3                                      (Oh, dear, !)  Carroll\n",
       "4                                      (Oh, dear, !)  Carroll"
      ]
     },
     "execution_count": 6,
     "metadata": {},
     "output_type": "execute_result"
    }
   ],
   "source": [
    "# Group into sentences\n",
    "alice_sents = [[sent, \"Carroll\"] for sent in alice_doc.sents]\n",
    "persuasion_sents = [[sent, \"Austen\"] for sent in persuasion_doc.sents]\n",
    "\n",
    "# Combine the sentences from the two novels into one DataFrame\n",
    "sentences = pd.DataFrame(alice_sents + persuasion_sents, columns = [\"text\", \"author\"])\n",
    "sentences.head()"
   ]
  },
  {
   "cell_type": "code",
   "execution_count": 7,
   "metadata": {
    "colab": {},
    "colab_type": "code",
    "id": "Wf7Wk2NwnyeN"
   },
   "outputs": [],
   "source": [
    "# Get rid of stop words and punctuation,\n",
    "# and lemmatize the tokens\n",
    "for i, sentence in enumerate(sentences[\"text\"]):\n",
    "    sentences.loc[i, \"text\"] = [token.lemma_ for token in sentence if not token.is_punct and not token.is_stop]"
   ]
  },
  {
   "cell_type": "markdown",
   "metadata": {
    "colab_type": "text",
    "id": "DNPcJeLmnyeP"
   },
   "source": [
    "Now, you're ready to vectorize your words using word2vec. For this purpose, use `Word2Vec` from Gensim's `models` module. The `Word2Vec` class has several parameters. Set the following parameters:\n",
    "\n",
    "* `workers=4`: Set the number of threads to run in parallel to 4 (which makes sense if your computer has available computing units).\n",
    "* `min_count=1`: Set the minimum word count threshold to 1.\n",
    "* `window=6`: Set the number of words around the target word to consider to 6.\n",
    "* `sg=0`: Use CBOW because your corpus is small.\n",
    "* `sample=1e-3`: Penalize frequent words.\n",
    "* `size=100`: Set the word vector length to 100.\n",
    "* `hs=1`: Use hierarchical softmax."
   ]
  },
  {
   "cell_type": "code",
   "execution_count": 8,
   "metadata": {
    "colab": {},
    "colab_type": "code",
    "id": "CaHMx8TfnyeQ"
   },
   "outputs": [],
   "source": [
    "# Train word2vec on the sentences\n",
    "model = gensim.models.Word2Vec(\n",
    "    sentences[\"text\"],\n",
    "    workers=4,\n",
    "    min_count=1,\n",
    "    window=6,\n",
    "    sg=0,\n",
    "    sample=1e-3,\n",
    "    size=100,\n",
    "    hs=1\n",
    ")"
   ]
  },
  {
   "cell_type": "markdown",
   "metadata": {
    "colab_type": "text",
    "id": "c_39am1FnyeT"
   },
   "source": [
    "Before jumping into the machine-learning model for prediction, play with the word2vec word representation that you just trained. Specifically, look into the following:\n",
    "\n",
    "* The first five words that are closer to `lady`\n",
    "* The word that doesn't fit in this list: `dad`, `dinner`, `mom`, `aunt`, `uncle`\n",
    "* The similarity score of `woman` and `man`\n",
    "* The similarity score of `horse` and `cat`\n",
    "\n",
    "Note that all of the above calculations are based on the word2vec representations of the words that you just trained above."
   ]
  },
  {
   "cell_type": "code",
   "execution_count": null,
   "metadata": {
    "colab": {
     "base_uri": "https://localhost:8080/",
     "height": 105
    },
    "colab_type": "code",
    "id": "qRN8FY92nyeT",
    "outputId": "e9ed3e27-03bd-4c11-c646-fd5220d7a465"
   },
   "outputs": [
    {
     "name": "stdout",
     "output_type": "stream",
     "text": [
      "[('want', 0.9981542825698853), ('assure', 0.9980653524398804), ('conduct', 0.9980344772338867), ('have', 0.997972309589386), ('small', 0.9979379177093506)]\n",
      "dinner\n",
      "0.9992296\n",
      "0.9922296\n"
     ]
    }
   ],
   "source": [
    "print(model.most_similar(positive=['lady', 'man'], negative=['woman'], topn=5))\n",
    "print(model.doesnt_match(\"dad dinner mom aunt uncle\".split()))\n",
    "print(model.similarity('woman', 'man'))\n",
    "print(model.similarity('horse', 'cat'))"
   ]
  },
  {
   "cell_type": "markdown",
   "metadata": {
    "colab_type": "text",
    "id": "XAPrzFiEnyeV"
   },
   "source": [
    "Well, the results make sense to some degree, but it's obvious that your representations aren't perfect. This is because your corpus is small. To get more meaningful results, you need to train word2vec representations using much larger corpora.\n",
    "\n",
    "Now, create your numerical features using the word2vec representations of the words. In the following, get the word2vec vectors of each word in a sentence. Then take the average of all the vectors in the high dimensional space (in your case, it's 100). So, as a result, you'll have a vector of 100 dimensions as the feature for a sentence. You can then use each dimension as a separate feature—which means that you'll have 100 numerical features in your final dataset."
   ]
  },
  {
   "cell_type": "code",
   "execution_count": null,
   "metadata": {
    "colab": {
     "base_uri": "https://localhost:8080/",
     "height": 440
    },
    "colab_type": "code",
    "id": "5avMNgVXnyeW",
    "outputId": "f3d3aa1c-e085-4ffe-de40-4a057cc21608",
    "scrolled": true
   },
   "outputs": [
    {
     "data": {
      "text/html": [
       "<div>\n",
       "<style scoped>\n",
       "    .dataframe tbody tr th:only-of-type {\n",
       "        vertical-align: middle;\n",
       "    }\n",
       "\n",
       "    .dataframe tbody tr th {\n",
       "        vertical-align: top;\n",
       "    }\n",
       "\n",
       "    .dataframe thead th {\n",
       "        text-align: right;\n",
       "    }\n",
       "</style>\n",
       "<table border=\"1\" class=\"dataframe\">\n",
       "  <thead>\n",
       "    <tr style=\"text-align: right;\">\n",
       "      <th></th>\n",
       "      <th>author</th>\n",
       "      <th>text</th>\n",
       "      <th>0</th>\n",
       "      <th>1</th>\n",
       "      <th>2</th>\n",
       "      <th>3</th>\n",
       "      <th>4</th>\n",
       "      <th>5</th>\n",
       "      <th>6</th>\n",
       "      <th>7</th>\n",
       "      <th>...</th>\n",
       "      <th>90</th>\n",
       "      <th>91</th>\n",
       "      <th>92</th>\n",
       "      <th>93</th>\n",
       "      <th>94</th>\n",
       "      <th>95</th>\n",
       "      <th>96</th>\n",
       "      <th>97</th>\n",
       "      <th>98</th>\n",
       "      <th>99</th>\n",
       "    </tr>\n",
       "  </thead>\n",
       "  <tbody>\n",
       "    <tr>\n",
       "      <th>0</th>\n",
       "      <td>Carroll</td>\n",
       "      <td>[Alice, begin, tired, sit, sister, bank, have,...</td>\n",
       "      <td>0.105171</td>\n",
       "      <td>0.029203</td>\n",
       "      <td>0.106189</td>\n",
       "      <td>-0.233402</td>\n",
       "      <td>0.454079</td>\n",
       "      <td>-0.172252</td>\n",
       "      <td>-0.417670</td>\n",
       "      <td>-0.443123</td>\n",
       "      <td>...</td>\n",
       "      <td>0.318644</td>\n",
       "      <td>-0.169716</td>\n",
       "      <td>0.242794</td>\n",
       "      <td>-0.158143</td>\n",
       "      <td>-0.208328</td>\n",
       "      <td>0.137009</td>\n",
       "      <td>0.190339</td>\n",
       "      <td>-0.327450</td>\n",
       "      <td>-0.189454</td>\n",
       "      <td>0.313232</td>\n",
       "    </tr>\n",
       "    <tr>\n",
       "      <th>1</th>\n",
       "      <td>Carroll</td>\n",
       "      <td>[consider, mind, hot, day, feel, sleepy, stupi...</td>\n",
       "      <td>0.093776</td>\n",
       "      <td>0.021333</td>\n",
       "      <td>0.078646</td>\n",
       "      <td>-0.176176</td>\n",
       "      <td>0.361667</td>\n",
       "      <td>-0.138862</td>\n",
       "      <td>-0.339069</td>\n",
       "      <td>-0.361669</td>\n",
       "      <td>...</td>\n",
       "      <td>0.272195</td>\n",
       "      <td>-0.124776</td>\n",
       "      <td>0.194985</td>\n",
       "      <td>-0.134077</td>\n",
       "      <td>-0.180503</td>\n",
       "      <td>0.123825</td>\n",
       "      <td>0.152447</td>\n",
       "      <td>-0.266867</td>\n",
       "      <td>-0.141993</td>\n",
       "      <td>0.262484</td>\n",
       "    </tr>\n",
       "    <tr>\n",
       "      <th>2</th>\n",
       "      <td>Carroll</td>\n",
       "      <td>[remarkable, Alice, think, way, hear, Rabbit]</td>\n",
       "      <td>0.133105</td>\n",
       "      <td>0.012398</td>\n",
       "      <td>0.137440</td>\n",
       "      <td>-0.294095</td>\n",
       "      <td>0.558005</td>\n",
       "      <td>-0.226012</td>\n",
       "      <td>-0.526310</td>\n",
       "      <td>-0.528327</td>\n",
       "      <td>...</td>\n",
       "      <td>0.401526</td>\n",
       "      <td>-0.212107</td>\n",
       "      <td>0.294243</td>\n",
       "      <td>-0.198852</td>\n",
       "      <td>-0.230249</td>\n",
       "      <td>0.167386</td>\n",
       "      <td>0.248123</td>\n",
       "      <td>-0.417506</td>\n",
       "      <td>-0.231474</td>\n",
       "      <td>0.384248</td>\n",
       "    </tr>\n",
       "    <tr>\n",
       "      <th>3</th>\n",
       "      <td>Carroll</td>\n",
       "      <td>[oh, dear]</td>\n",
       "      <td>0.096552</td>\n",
       "      <td>0.037364</td>\n",
       "      <td>0.095361</td>\n",
       "      <td>-0.230718</td>\n",
       "      <td>0.464172</td>\n",
       "      <td>-0.167147</td>\n",
       "      <td>-0.438785</td>\n",
       "      <td>-0.448484</td>\n",
       "      <td>...</td>\n",
       "      <td>0.322805</td>\n",
       "      <td>-0.166143</td>\n",
       "      <td>0.260970</td>\n",
       "      <td>-0.179004</td>\n",
       "      <td>-0.235276</td>\n",
       "      <td>0.134661</td>\n",
       "      <td>0.203214</td>\n",
       "      <td>-0.327309</td>\n",
       "      <td>-0.201553</td>\n",
       "      <td>0.320577</td>\n",
       "    </tr>\n",
       "    <tr>\n",
       "      <th>4</th>\n",
       "      <td>Carroll</td>\n",
       "      <td>[oh, dear]</td>\n",
       "      <td>0.096552</td>\n",
       "      <td>0.037364</td>\n",
       "      <td>0.095361</td>\n",
       "      <td>-0.230718</td>\n",
       "      <td>0.464172</td>\n",
       "      <td>-0.167147</td>\n",
       "      <td>-0.438785</td>\n",
       "      <td>-0.448484</td>\n",
       "      <td>...</td>\n",
       "      <td>0.322805</td>\n",
       "      <td>-0.166143</td>\n",
       "      <td>0.260970</td>\n",
       "      <td>-0.179004</td>\n",
       "      <td>-0.235276</td>\n",
       "      <td>0.134661</td>\n",
       "      <td>0.203214</td>\n",
       "      <td>-0.327309</td>\n",
       "      <td>-0.201553</td>\n",
       "      <td>0.320577</td>\n",
       "    </tr>\n",
       "  </tbody>\n",
       "</table>\n",
       "<p>5 rows × 102 columns</p>\n",
       "</div>"
      ],
      "text/plain": [
       "    author                                               text         0  \\\n",
       "0  Carroll  [Alice, begin, tired, sit, sister, bank, have,...  0.105171   \n",
       "1  Carroll  [consider, mind, hot, day, feel, sleepy, stupi...  0.093776   \n",
       "2  Carroll      [remarkable, Alice, think, way, hear, Rabbit]  0.133105   \n",
       "3  Carroll                                         [oh, dear]  0.096552   \n",
       "4  Carroll                                         [oh, dear]  0.096552   \n",
       "\n",
       "          1         2         3         4         5         6         7  \\\n",
       "0  0.029203  0.106189 -0.233402  0.454079 -0.172252 -0.417670 -0.443123   \n",
       "1  0.021333  0.078646 -0.176176  0.361667 -0.138862 -0.339069 -0.361669   \n",
       "2  0.012398  0.137440 -0.294095  0.558005 -0.226012 -0.526310 -0.528327   \n",
       "3  0.037364  0.095361 -0.230718  0.464172 -0.167147 -0.438785 -0.448484   \n",
       "4  0.037364  0.095361 -0.230718  0.464172 -0.167147 -0.438785 -0.448484   \n",
       "\n",
       "     ...           90        91        92        93        94        95  \\\n",
       "0    ...     0.318644 -0.169716  0.242794 -0.158143 -0.208328  0.137009   \n",
       "1    ...     0.272195 -0.124776  0.194985 -0.134077 -0.180503  0.123825   \n",
       "2    ...     0.401526 -0.212107  0.294243 -0.198852 -0.230249  0.167386   \n",
       "3    ...     0.322805 -0.166143  0.260970 -0.179004 -0.235276  0.134661   \n",
       "4    ...     0.322805 -0.166143  0.260970 -0.179004 -0.235276  0.134661   \n",
       "\n",
       "         96        97        98        99  \n",
       "0  0.190339 -0.327450 -0.189454  0.313232  \n",
       "1  0.152447 -0.266867 -0.141993  0.262484  \n",
       "2  0.248123 -0.417506 -0.231474  0.384248  \n",
       "3  0.203214 -0.327309 -0.201553  0.320577  \n",
       "4  0.203214 -0.327309 -0.201553  0.320577  \n",
       "\n",
       "[5 rows x 102 columns]"
      ]
     },
     "execution_count": 10,
     "metadata": {},
     "output_type": "execute_result"
    }
   ],
   "source": [
    "word2vec_arr = np.zeros((sentences.shape[0],100))\n",
    "\n",
    "for i, sentence in enumerate(sentences[\"text\"]):\n",
    "    word2vec_arr[i,:] = np.mean([model[lemma] for lemma in sentence], axis=0)\n",
    "\n",
    "word2vec_arr = pd.DataFrame(word2vec_arr)\n",
    "sentences = pd.concat([sentences[[\"author\", \"text\"]],word2vec_arr], axis=1)\n",
    "sentences.dropna(inplace=True)\n",
    "\n",
    "sentences.head()"
   ]
  },
  {
   "cell_type": "markdown",
   "metadata": {
    "colab_type": "text",
    "id": "FjPoGXhc_K47"
   },
   "source": [
    "This is a good dataset format. Now, you're ready to jump into the modeling step with your features. The diagram below shows where you're at the data science pipeline:\n",
    "\n",
    "![Modeling](assets/modeling.png)"
   ]
  },
  {
   "cell_type": "markdown",
   "metadata": {
    "colab_type": "text",
    "id": "kK3W2MKXnyeY"
   },
   "source": [
    "## Word2vec in action\n",
    "\n",
    "Notice that you now have a dataset where the columns named from *0* to *99* are the features that you'll use in the following models. Use the same models that you built in the previous checkpoints to predict the author of a sentence."
   ]
  },
  {
   "cell_type": "code",
   "execution_count": null,
   "metadata": {
    "colab": {
     "base_uri": "https://localhost:8080/",
     "height": 221
    },
    "colab_type": "code",
    "id": "6-repE9SnyeZ",
    "outputId": "d2e94261-0cf5-423f-f6e0-981048de397d",
    "scrolled": true
   },
   "outputs": [
    {
     "name": "stdout",
     "output_type": "stream",
     "text": [
      "----------------------Logistic Regression Scores----------------------\n",
      "Training set score: 0.8088563236699586\n",
      "\n",
      "Test set score: 0.7975167144221585\n",
      "----------------------Random Forest Scores----------------------\n",
      "Training set score: 0.9827970691302963\n",
      "\n",
      "Test set score: 0.8285577841451767\n",
      "----------------------Gradient Boosting Scores----------------------\n",
      "Training set score: 0.9104810449187639\n",
      "\n",
      "Test set score: 0.8347659980897804\n"
     ]
    }
   ],
   "source": [
    "from sklearn.linear_model import LogisticRegression\n",
    "from sklearn.ensemble import RandomForestClassifier, GradientBoostingClassifier\n",
    "from sklearn.model_selection import train_test_split\n",
    "\n",
    "Y = sentences['author']\n",
    "X = np.array(sentences.drop(['text','author'], 1))\n",
    "\n",
    "# Split the dataset into training and test sets\n",
    "X_train, X_test, y_train, y_test = train_test_split(X, Y, test_size=0.4, random_state=123)\n",
    "\n",
    "# Models\n",
    "lr = LogisticRegression()\n",
    "rfc = RandomForestClassifier()\n",
    "gbc = GradientBoostingClassifier()\n",
    "\n",
    "lr.fit(X_train, y_train)\n",
    "rfc.fit(X_train, y_train)\n",
    "gbc.fit(X_train, y_train)\n",
    "\n",
    "print(\"----------------------Logistic Regression Scores----------------------\")\n",
    "print('Training set score:', lr.score(X_train, y_train))\n",
    "print('\\nTest set score:', lr.score(X_test, y_test))\n",
    "\n",
    "print(\"----------------------Random Forest Scores----------------------\")\n",
    "print('Training set score:', rfc.score(X_train, y_train))\n",
    "print('\\nTest set score:', rfc.score(X_test, y_test))\n",
    "\n",
    "print(\"----------------------Gradient Boosting Scores----------------------\")\n",
    "print('Training set score:', gbc.score(X_train, y_train))\n",
    "print('\\nTest set score:', gbc.score(X_test, y_test))"
   ]
  },
  {
   "cell_type": "markdown",
   "metadata": {
    "colab_type": "text",
    "id": "a_YUtF7snyec"
   },
   "source": [
    "The scores aren't great compared to the scores of the previous checkpoints. The main reason is the small size of your corpus.\n",
    "\n",
    "So, use word2vec vectors that are trained on a very large corpus. For this, use pretrained vectors released by Google. Google released a large set of word2vec vectors that are trained on around 100,000,000,000 words from the Google News dataset. Their corpus contains 3,000,000 words, and the word vectors that they trained have 300 features each.\n",
    "\n",
    "Download the pretrained vectors from this address: https://s3.amazonaws.com/dl4j-distribution/GoogleNews-vectors-negative300.bin.gz. Note that the download and the following codes take some time. So, it's recommended to run the following cells in Google Colab."
   ]
  },
  {
   "cell_type": "code",
   "execution_count": null,
   "metadata": {
    "colab": {},
    "colab_type": "code",
    "id": "JpTJ_mSWnyec",
    "run_control": {
     "frozen": false,
     "read_only": false
    }
   },
   "outputs": [],
   "source": [
    "# Load Google's pretrained word2vec model.\n",
    "model_pretrained = gensim.models.KeyedVectors.load_word2vec_format(\n",
    "    'https://s3.amazonaws.com/dl4j-distribution/GoogleNews-vectors-negative300.bin.gz', binary=True)"
   ]
  },
  {
   "cell_type": "markdown",
   "metadata": {
    "colab_type": "text",
    "id": "vGgVddlD_K5B"
   },
   "source": [
    "Now you have the pretrained vectors in a variable called `model_pretrained`. Next, look for the vector representations of the words in your corpus. For simplicity, if a word in a sentence can't be found in the vocabulary of these pretrained vectors, you can just drop those sentences from your dataset. But you could follow alternative approaches if you like. "
   ]
  },
  {
   "cell_type": "code",
   "execution_count": null,
   "metadata": {
    "colab": {
     "base_uri": "https://localhost:8080/",
     "height": 457
    },
    "colab_type": "code",
    "id": "K0NEP0uhohZC",
    "outputId": "ee91d765-4561-498e-933c-ebb2081cca33",
    "scrolled": true
   },
   "outputs": [],
   "source": [
    "word2vec_arr = np.zeros((sentences.shape[0],300))\n",
    "\n",
    "for i, sentence in enumerate(sentences[\"text\"]):\n",
    "  try:\n",
    "    word2vec_arr[i,:] = np.mean([model_pretrained[lemma] for lemma in sentence], axis=0)\n",
    "  except KeyError:\n",
    "    word2vec_arr[i,:] = np.full((1,300), np.nan)\n",
    "    continue\n",
    "\n",
    "word2vec_arr = pd.DataFrame(word2vec_arr)\n",
    "sentences = pd.concat([sentences[[\"author\", \"text\"]],word2vec_arr], axis=1)\n",
    "sentences.dropna(inplace=True)\n",
    "\n",
    "print(\"Shape of the dataset: {}\".format(sentences.shape))\n",
    "sentences.head()"
   ]
  },
  {
   "cell_type": "markdown",
   "metadata": {
    "colab_type": "text",
    "id": "oyoFElbP_K5D"
   },
   "source": [
    "As a result, you have a dataset of 4,114 rows and 300 features (excluding the *text* and *author* columns). Now, you can run your classifiers using this dataset."
   ]
  },
  {
   "cell_type": "code",
   "execution_count": null,
   "metadata": {
    "colab": {
     "base_uri": "https://localhost:8080/",
     "height": 221
    },
    "colab_type": "code",
    "id": "kZkAT2q5opAJ",
    "outputId": "38258c78-a22b-417f-f12a-00266e2cd8eb",
    "scrolled": true
   },
   "outputs": [],
   "source": [
    "from sklearn.linear_model import LogisticRegression\n",
    "from sklearn.ensemble import RandomForestClassifier, GradientBoostingClassifier\n",
    "from sklearn.model_selection import train_test_split\n",
    "\n",
    "Y = sentences['author']\n",
    "X = np.array(sentences.drop(['text','author'], 1))\n",
    "\n",
    "# Split the dataset into training and test sets\n",
    "X_train, X_test, y_train, y_test = train_test_split(X, Y, test_size=0.4, random_state=123)\n",
    "\n",
    "# Models\n",
    "lr = LogisticRegression()\n",
    "rfc = RandomForestClassifier()\n",
    "gbc = GradientBoostingClassifier()\n",
    "\n",
    "lr.fit(X_train, y_train)\n",
    "rfc.fit(X_train, y_train)\n",
    "gbc.fit(X_train, y_train)\n",
    "\n",
    "print(\"----------------------Logistic Regression Scores----------------------\")\n",
    "print('Training set score:', lr.score(X_train, y_train))\n",
    "print('\\nTest set score:', lr.score(X_test, y_test))\n",
    "\n",
    "print(\"----------------------Random Forest Scores----------------------\")\n",
    "print('Training set score:', rfc.score(X_train, y_train))\n",
    "print('\\nTest set score:', rfc.score(X_test, y_test))\n",
    "\n",
    "print(\"----------------------Gradient Boosting Scores----------------------\")\n",
    "print('Training set score:', gbc.score(X_train, y_train))\n",
    "print('\\nTest set score:', gbc.score(X_test, y_test))"
   ]
  },
  {
   "cell_type": "markdown",
   "metadata": {
    "colab_type": "text",
    "id": "VnPsWBqd_K5F"
   },
   "source": [
    "Obviously, the scores are much better than you got with the previous word2vec vectors that you trained using your corpus. But there is still a lot of room for improvement. You can also use the pretrained vectors above as features in other models or try to gain insights from the vector compositions themselves."
   ]
  },
  {
   "cell_type": "markdown",
   "metadata": {
    "colab_type": "text",
    "id": "J6BkciUjnyee",
    "run_control": {
     "frozen": false,
     "read_only": false
    }
   },
   "source": [
    "# Example word2vec applications\n",
    "\n",
    "Here are some neat things that people have done with word2vec:\n",
    "\n",
    " * [Visualizing word embeddings in Jane Austen's *Pride and Prejudice*](http://blogger.ghostweather.com/2014/11/visualizing-word-embeddings-in-pride.html). Skip to the bottom to see a truly honest account of this data scientist's process.\n",
    "\n",
    " * [Tracking changes in Dutch newspapers' associations](https://www.slideshare.net/MelvinWevers/concepts-through-time-tracing-concepts-in-dutch-newspaper-discourse-using-sequential-word-vector-spaces) with words like `propaganda` and `alien`, from 1950 to 1990\n",
    "\n",
    " * [Helping customers find clothing items](http://multithreaded.stitchfix.com/blog/2015/03/11/word-is-worth-a-thousand-vectors/) that are similar to a given item but differ on one or more characteristics\n",
    " \n",
    "Before finishing this checkpoint, there's one last vectorization method that you'll briefly cover: [GloVe](https://nlp.stanford.edu/projects/glove/). GloVe is another popular vectorization method that is similar to word2vec and developed by the researchers at Stanford University. Gensim also supports working with GloVe vectors. If you want, you can play with this method using Gensim."
   ]
  }
 ],
 "metadata": {
  "colab": {
   "collapsed_sections": [],
   "name": "6.feature_engineering_3.ipynb",
   "provenance": [],
   "version": "0.3.2"
  },
  "hide_input": false,
  "kernelspec": {
   "display_name": "Python 3",
   "language": "python",
   "name": "python3"
  },
  "language_info": {
   "codemirror_mode": {
    "name": "ipython",
    "version": 3
   },
   "file_extension": ".py",
   "mimetype": "text/x-python",
   "name": "python",
   "nbconvert_exporter": "python",
   "pygments_lexer": "ipython3",
   "version": "3.8.6"
  },
  "latex_envs": {
   "LaTeX_envs_menu_present": true,
   "autoclose": false,
   "autocomplete": true,
   "bibliofile": "biblio.bib",
   "cite_by": "apalike",
   "current_citInitial": 1,
   "eqLabelWithNumbers": true,
   "eqNumInitial": 1,
   "hotkeys": {
    "equation": "Ctrl-E",
    "itemize": "Ctrl-I"
   },
   "labels_anchors": false,
   "latex_user_defs": false,
   "report_style_numbering": false,
   "user_envs_cfg": false
  },
  "toc": {
   "colors": {
    "hover_highlight": "#DAA520",
    "running_highlight": "#FF0000",
    "selected_highlight": "#FFD700"
   },
   "moveMenuLeft": true,
   "nav_menu": {
    "height": "96px",
    "width": "252px"
   },
   "navigate_menu": true,
   "number_sections": true,
   "sideBar": true,
   "threshold": 4,
   "toc_cell": false,
   "toc_section_display": "block",
   "toc_window_display": false
  },
  "varInspector": {
   "cols": {
    "lenName": 16,
    "lenType": 16,
    "lenVar": 40
   },
   "kernels_config": {
    "python": {
     "delete_cmd_postfix": "",
     "delete_cmd_prefix": "del ",
     "library": "var_list.py",
     "varRefreshCmd": "print(var_dic_list())"
    },
    "r": {
     "delete_cmd_postfix": ") ",
     "delete_cmd_prefix": "rm(",
     "library": "var_list.r",
     "varRefreshCmd": "cat(var_dic_list()) "
    }
   },
   "types_to_exclude": [
    "module",
    "function",
    "builtin_function_or_method",
    "instance",
    "_Feature"
   ],
   "window_display": false
  }
 },
 "nbformat": 4,
 "nbformat_minor": 1
}
