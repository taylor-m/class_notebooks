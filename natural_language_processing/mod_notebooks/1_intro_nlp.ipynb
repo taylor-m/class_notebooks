{
 "cells": [
  {
   "cell_type": "markdown",
   "metadata": {},
   "source": [
    "# What is natural language processing?\n",
    "\n",
    "In a nutshell, NLP is a discipline that contains approaches, algorithms, and techniques that aim to understand human language. It's a broad area of research, and it contains multiple subfields with their own concepts, applications, and techniques. [According to Wikipedia](https://en.wikipedia.org/wiki/Natural_language_processing), NLP can be defined as follows:\n",
    "\n",
    "> \"Natural language processing (NLP) is a subfield of computer science, information engineering, and artificial intelligence concerned with the interactions between computers and human (natural) languages, in particular how to program computers to process and analyze large amounts of natural language data. Challenges in natural language processing frequently involve speech recognition, natural language understanding, and natural language generation.\"\n",
    "\n",
    "As described in this definition, people use techniques from NLP to analyze human languages. Although NLP dates back to the 1950s, the techniques that you'll cover in this module are relatively new. In many NLP tasks, the current state of the art includes statistical and machine-learning methods. So, this focus will focus on introducing you to the basic statistical and machine-learning techniques that are fundamental to NLP applications. Specifically, you'll apply machine-learning techniques to learn how to classify text, develop a chatbot, and generate sentences that seem as though they were written by humans. The overarching goal is to make you familiar with the basics of current NLP methods and pave the way for you to jumpstart your journey in the vast field of NLP. \n",
    "\n",
    "Here are some of the fundamental tasks that are highly important and popular in NLP:\n",
    "\n",
    "1. **Text classification** is one of the most important tasks, and it has wide applicability in the industry. This task involves categorizing text data into predefined classes. You are already familiar with these kinds of classification tasks from earlier in the program.\n",
    "\n",
    "2. **Part-of-speech tagging** is one of the classical tasks in linguistics; it refers to determining the tags of the individual words in a sentence.\n",
    "\n",
    "3. **Named entity recognition** aims to find named entities—like people, locations, and organizations—in a sentence.\n",
    "\n",
    "4. **Language modeling** refers to numerically representing a human language by preserving the meanings of the words. This task is usually handled by unsupervised learning methods, and it's one of the most important topics in current NLP research. \n",
    "\n",
    "5. **Machine translation** is another popular field of NLP; it aims to translate one language into another without any human intervention.\n",
    "\n",
    "6. **Language generation** has gained popularity in the recent years; the goal is to make algorithms generate human-language texts that are indistinguishable from texts that are written by humans.\n",
    "\n",
    "The list above is not exhaustive; in fact, it only covers a small number of fields that could be considered important for you to know about. The text required to cover all of these topics in depth could fill at least a couple of books. Hence, the goal in this module is to get you familiar with the basic toolkits and methods, and to build your confidence so that you can continue advancing your NLP skills and knowledge on your own."
   ]
  },
  {
   "cell_type": "markdown",
   "metadata": {},
   "source": [
    "# Applications of NLP\n",
    "\n",
    "As mentioned before, data scientists with NLP skills are in high demand in the industry. That's because there are many real-world applications that involve NLP. Here, you'll learn about a few fascinating applications that are brought to life with the help of advances in NLP techniques in recent years. This should give you an idea of what NLP can accomplish in its current state, and motivate you to learn more about NLP.\n",
    "\n",
    "## Language translation\n",
    "\n",
    "Probably the most well-known NLP application is Google's translation service, Google Translate. It's been around for several years, and many people use it to translate sentences from one language to another. If you aren't already familiar with this service, go ahead and [check out Google Translate](https://translate.google.com/) now.\n",
    "\n",
    "As mentioned before, the application area of translating a text from one language to another is known as *machine translation*. Although machine translation services have been around for a while, the underlying algorithms that bring them to life are changing rapidly. And these services are constantly improving in quality. Nowadays, the main driving forces behind machine translation systems are deep-learning models."
   ]
  },
  {
   "cell_type": "markdown",
   "metadata": {},
   "source": [
    "## Digital assistants\n",
    "\n",
    "Amazon Alexa, Apple's Siri, Google Assistant, and Microsoft's Cortana all share the same underlying technology: speech and text understanding. All of these digital assistants understand the language that humans speak and take actions based on it. Understanding the words that people speak occurs in two stages: First, these assistants need to convert human voices into words. This task is known as *speech recognition*, which is a field of data science that is beyond the scope of this program. After these assistants convert human speech into text, the next stage is to apply NLP techniques; these techniques enable them to understand the meaning and carry out actions based on the instructions that they've received.\n",
    "\n",
    "To get an idea of what digital assistants are currently capable of, check out the video below of a conversation between Google Assistant and a real hair salon. In this video, Google Assistant is making a haircut appointment on behalf of someone.\n",
    "\n",
    "<img src=\"assets/google_assistant.gif\" alt=\"Google Assistant\" height=\"600\" width=\"600\">\n",
    "\n",
    "You can also watch Sundar Pichai, the CEO of Google, present [the same video](https://www.youtube.com/watch?v=D5VN56jQMWM) with voice in the Google I/O 2018 event."
   ]
  },
  {
   "cell_type": "markdown",
   "metadata": {},
   "source": [
    "## Spam filtering\n",
    "\n",
    "Many email services have a dedicated inbox folder for emails that they categorize as spam. The underlying mechanism that works behind the scenes is a text classification model that takes the content of each email as input and returns a probability that the email is spam. This area of NLP is called *text classification*, and you'll walk through some applications of text categorization in the remainder of this module."
   ]
  },
  {
   "cell_type": "markdown",
   "metadata": {},
   "source": [
    "## Language generation\n",
    "\n",
    "In 2018, a company named OpenAI announced that they trained a deep-learning model that uses a huge set of text data for language generation. Their announcement was sensational because they claimed that their model is so good that it could be used to generate fake content that looks like human-generated content. Hence, they decided not to publish their trained model. \n",
    "\n",
    "The controversy about the announcement aside, OpenAI's accomplishment is a good example of what NLP can achieve in generating human-like content. Below is an example of the text that their model can generate when it's given a few sentences to determine the context.\n",
    "\n",
    "<h3 style=\"margin-left: 40px; margin-right: 80px\">Human-written text</h3>\n",
    "\n",
    "<p style=\"margin-left: 40px; margin-right: 80px\">In a shocking finding, scientist discovered a herd of unicorns living in a remote, previously unexplored valley, in the Andes Mountains. Even more surprising to the researchers was the fact that the unicorns spoke perfect English.</p>\n",
    "\n",
    "<h3 style=\"margin-left: 40px; margin-right: 80px\">Model output</h3>\n",
    "\n",
    "<p style=\"margin-left: 40px; margin-right: 80px\">The scientist named the population after their distinctive horn, Ovid's Unicorn. These four-horned, silver-white unicorns were previously unknown to science. Now, after almost two centuries, the mystery of what sparked this odd phenomenon is finally solved.</p>\n",
    "\n",
    "<p style=\"margin-left: 40px; margin-right: 80px\">Dr. Jorge Pérez, an evolutionary biologist from the University of La Paz, and several companions, were exploring the Andes Mountains when they found a small valley, with no other animals or humans. Pérez noticed that the valley had what appeared to be a natural fountain, surrounded by two peaks of rock and silver snow.</p>\n",
    "\n",
    "<p style=\"margin-left: 40px; margin-right: 80px\">Pérez and the others then ventured further into the valley. “By the time we reached the top of one peak, the water looked blue, with some crystals on top,” said Pérez.</p>\n",
    "\n",
    "<p style=\"margin-left: 40px; margin-right: 80px\">Pérez and his friends were astonished to see the unicorn herd. These creatures could be seen from the air without having to move too much to see them – they were so close they could touch their horns.</p>\n",
    "\n",
    "<p style=\"margin-left: 40px; margin-right: 80px\">While examining these bizarre creatures the scientists discovered that the creatures also spoke some fairly regular English. Pérez stated, “We can see, for example, that they have a common 'language,' something like a dialect or dialectic.”</p>\n",
    "\n",
    "<p style=\"margin-left: 40px; margin-right: 80px\">Dr. Pérez believes that the unicorns may have originated in Argentina, where the animals were believed to be descendants of a lost race of people who lived there before the arrival of humans in those parts of South America.</p>\n",
    "\n",
    "<p style=\"margin-left: 40px; margin-right: 80px\">While their origins are still unclear, some believe that perhaps the creatures were created when a human and a unicorn met each other in a time before human civilization. According to Pérez, “In South America, such incidents seem to be quite common.”</p>\n",
    "\n",
    "<p style=\"margin-left: 40px; margin-right: 80px\">However, Pérez also pointed out that it is likely that the only way of knowing for sure if unicorns are indeed the descendants of a lost alien race is through DNA. “But they seem to be able to communicate in English quite well, which I believe is a sign of evolution, or at least a change in social organization,” said the scientist.</p>\n",
    "\n",
    "If you're interested in reading more, check out the [OpenAI blog post](https://openai.com/blog/better-language-models/). Later in this module, you'll walk through an example where you'll learn how to generate sentences."
   ]
  }
 ],
 "metadata": {
  "kernelspec": {
   "display_name": "Python 3",
   "language": "python",
   "name": "python3"
  },
  "language_info": {
   "codemirror_mode": {
    "name": "ipython",
    "version": 3
   },
   "file_extension": ".py",
   "mimetype": "text/x-python",
   "name": "python",
   "nbconvert_exporter": "python",
   "pygments_lexer": "ipython3",
   "version": "3.8.6"
  },
  "latex_envs": {
   "LaTeX_envs_menu_present": true,
   "autoclose": false,
   "autocomplete": true,
   "bibliofile": "biblio.bib",
   "cite_by": "apalike",
   "current_citInitial": 1,
   "eqLabelWithNumbers": true,
   "eqNumInitial": 1,
   "hotkeys": {
    "equation": "Ctrl-E",
    "itemize": "Ctrl-I"
   },
   "labels_anchors": false,
   "latex_user_defs": false,
   "report_style_numbering": false,
   "user_envs_cfg": false
  },
  "varInspector": {
   "cols": {
    "lenName": 16,
    "lenType": 16,
    "lenVar": 40
   },
   "kernels_config": {
    "python": {
     "delete_cmd_postfix": "",
     "delete_cmd_prefix": "del ",
     "library": "var_list.py",
     "varRefreshCmd": "print(var_dic_list())"
    },
    "r": {
     "delete_cmd_postfix": ") ",
     "delete_cmd_prefix": "rm(",
     "library": "var_list.r",
     "varRefreshCmd": "cat(var_dic_list()) "
    }
   },
   "types_to_exclude": [
    "module",
    "function",
    "builtin_function_or_method",
    "instance",
    "_Feature"
   ],
   "window_display": false
  }
 },
 "nbformat": 4,
 "nbformat_minor": 2
}
