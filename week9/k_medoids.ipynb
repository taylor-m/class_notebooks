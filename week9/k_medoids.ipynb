{
 "cells": [
  {
   "cell_type": "markdown",
   "metadata": {
    "colab_type": "text",
    "id": "M_uhy3cgOZg4"
   },
   "source": [
    "# Clustering Netflix Titles"
   ]
  },
  {
   "cell_type": "markdown",
   "metadata": {},
   "source": [
    "markdown practice warm-up:\n",
    "\n",
    "There's a file named `me_hoy_medoid.png` in this directory.  Display the image in this notebook using a markdown cell."
   ]
  },
  {
   "cell_type": "markdown",
   "metadata": {},
   "source": []
  },
  {
   "cell_type": "markdown",
   "metadata": {
    "colab_type": "text",
    "id": "BK6kakJpNlV7"
   },
   "source": [
    "## Load"
   ]
  },
  {
   "cell_type": "code",
   "execution_count": 1,
   "metadata": {},
   "outputs": [
    {
     "data": {
      "application/javascript": [
       "\n",
       "            setTimeout(function() {\n",
       "                var nbb_cell_id = 1;\n",
       "                var nbb_unformatted_code = \"%reload_ext nb_black\";\n",
       "                var nbb_formatted_code = \"%reload_ext nb_black\";\n",
       "                var nbb_cells = Jupyter.notebook.get_cells();\n",
       "                for (var i = 0; i < nbb_cells.length; ++i) {\n",
       "                    if (nbb_cells[i].input_prompt_number == nbb_cell_id) {\n",
       "                        if (nbb_cells[i].get_text() == nbb_unformatted_code) {\n",
       "                             nbb_cells[i].set_text(nbb_formatted_code);\n",
       "                        }\n",
       "                        break;\n",
       "                    }\n",
       "                }\n",
       "            }, 500);\n",
       "            "
      ],
      "text/plain": [
       "<IPython.core.display.Javascript object>"
      ]
     },
     "metadata": {},
     "output_type": "display_data"
    }
   ],
   "source": [
    "%reload_ext nb_black"
   ]
  },
  {
   "cell_type": "code",
   "execution_count": 2,
   "metadata": {
    "colab": {},
    "colab_type": "code",
    "id": "K2JeozGCbkUf"
   },
   "outputs": [
    {
     "data": {
      "application/javascript": [
       "\n",
       "            setTimeout(function() {\n",
       "                var nbb_cell_id = 2;\n",
       "                var nbb_unformatted_code = \"import pandas as pd\\nimport numpy as np\\n\\nfrom scipy.spatial.distance import pdist, squareform\\n\\n# !pip install pyclustering\\nfrom pyclustering.cluster.kmedoids import kmedoids\\n\\nimport seaborn as sns\\nimport matplotlib.pyplot as plt\\n\\n%matplotlib inline\\n\\n\\nurl = \\\"https://raw.githubusercontent.com/AdamSpannbauer/flixable_ml_dsi/master/data/movies_2020_01_23_13_15_04.csv\\\"\\nmovie = pd.read_csv(url)\\n\\n# Drop rows where genre is na\\nmovie = movie.dropna(subset=[\\\"Genre\\\"])\\n\\n# Proceed with sample of rows to make things run faster for class time\\nmovie = movie.sample(2000, random_state=42)\\n\\n# Subset down to a small feature set\\n# fmt: off\\ndrop_columns = ['Poster', 'flixable_url', 'Response', \\n                'Awards', 'Rated', 'imdbID', 'DVD', 'Website',\\n                'BoxOffice', 'Released', 'added_to_netflix',\\n                'Writer', 'Actors', 'Plot',\\n                'Metascore', 'Production',\\n                'totalSeasons', 'Runtime', 'Director',\\n                'Title', 'Ratings', 'Year', 'imdbRating',\\n                'imdbVotes']\\n# fmt: on\\nmovie = movie.drop(columns=drop_columns)\";\n",
       "                var nbb_formatted_code = \"import pandas as pd\\nimport numpy as np\\n\\nfrom scipy.spatial.distance import pdist, squareform\\n\\n# !pip install pyclustering\\nfrom pyclustering.cluster.kmedoids import kmedoids\\n\\nimport seaborn as sns\\nimport matplotlib.pyplot as plt\\n\\n%matplotlib inline\\n\\n\\nurl = \\\"https://raw.githubusercontent.com/AdamSpannbauer/flixable_ml_dsi/master/data/movies_2020_01_23_13_15_04.csv\\\"\\nmovie = pd.read_csv(url)\\n\\n# Drop rows where genre is na\\nmovie = movie.dropna(subset=[\\\"Genre\\\"])\\n\\n# Proceed with sample of rows to make things run faster for class time\\nmovie = movie.sample(2000, random_state=42)\\n\\n# Subset down to a small feature set\\n# fmt: off\\ndrop_columns = ['Poster', 'flixable_url', 'Response', \\n                'Awards', 'Rated', 'imdbID', 'DVD', 'Website',\\n                'BoxOffice', 'Released', 'added_to_netflix',\\n                'Writer', 'Actors', 'Plot',\\n                'Metascore', 'Production',\\n                'totalSeasons', 'Runtime', 'Director',\\n                'Title', 'Ratings', 'Year', 'imdbRating',\\n                'imdbVotes']\\n# fmt: on\\nmovie = movie.drop(columns=drop_columns)\";\n",
       "                var nbb_cells = Jupyter.notebook.get_cells();\n",
       "                for (var i = 0; i < nbb_cells.length; ++i) {\n",
       "                    if (nbb_cells[i].input_prompt_number == nbb_cell_id) {\n",
       "                        if (nbb_cells[i].get_text() == nbb_unformatted_code) {\n",
       "                             nbb_cells[i].set_text(nbb_formatted_code);\n",
       "                        }\n",
       "                        break;\n",
       "                    }\n",
       "                }\n",
       "            }, 500);\n",
       "            "
      ],
      "text/plain": [
       "<IPython.core.display.Javascript object>"
      ]
     },
     "metadata": {},
     "output_type": "display_data"
    }
   ],
   "source": [
    "import pandas as pd\n",
    "import numpy as np\n",
    "\n",
    "from scipy.spatial.distance import pdist, squareform\n",
    "\n",
    "# !pip install pyclustering\n",
    "from pyclustering.cluster.kmedoids import kmedoids\n",
    "\n",
    "import seaborn as sns\n",
    "import matplotlib.pyplot as plt\n",
    "\n",
    "%matplotlib inline\n",
    "\n",
    "\n",
    "url = \"https://raw.githubusercontent.com/AdamSpannbauer/flixable_ml_dsi/master/data/movies_2020_01_23_13_15_04.csv\"\n",
    "movie = pd.read_csv(url)\n",
    "\n",
    "# Drop rows where genre is na\n",
    "movie = movie.dropna(subset=[\"Genre\"])\n",
    "\n",
    "# Proceed with sample of rows to make things run faster for class time\n",
    "movie = movie.sample(2000, random_state=42)\n",
    "\n",
    "# Subset down to a small feature set\n",
    "# fmt: off\n",
    "drop_columns = ['Poster', 'flixable_url', 'Response', \n",
    "                'Awards', 'Rated', 'imdbID', 'DVD', 'Website',\n",
    "                'BoxOffice', 'Released', 'added_to_netflix',\n",
    "                'Writer', 'Actors', 'Plot',\n",
    "                'Metascore', 'Production',\n",
    "                'totalSeasons', 'Runtime', 'Director',\n",
    "                'Title', 'Ratings', 'Year', 'imdbRating',\n",
    "                'imdbVotes']\n",
    "# fmt: on\n",
    "movie = movie.drop(columns=drop_columns)"
   ]
  },
  {
   "cell_type": "code",
   "execution_count": 3,
   "metadata": {},
   "outputs": [
    {
     "data": {
      "text/html": [
       "<div>\n",
       "<style scoped>\n",
       "    .dataframe tbody tr th:only-of-type {\n",
       "        vertical-align: middle;\n",
       "    }\n",
       "\n",
       "    .dataframe tbody tr th {\n",
       "        vertical-align: top;\n",
       "    }\n",
       "\n",
       "    .dataframe thead th {\n",
       "        text-align: right;\n",
       "    }\n",
       "</style>\n",
       "<table border=\"1\" class=\"dataframe\">\n",
       "  <thead>\n",
       "    <tr style=\"text-align: right;\">\n",
       "      <th></th>\n",
       "      <th>Country</th>\n",
       "      <th>Genre</th>\n",
       "      <th>Language</th>\n",
       "      <th>Type</th>\n",
       "      <th>mpaa_rating</th>\n",
       "    </tr>\n",
       "  </thead>\n",
       "  <tbody>\n",
       "    <tr>\n",
       "      <th>3136</th>\n",
       "      <td>Hong Kong</td>\n",
       "      <td>Action, Comedy</td>\n",
       "      <td>Cantonese, Mandarin</td>\n",
       "      <td>movie</td>\n",
       "      <td>TV-14</td>\n",
       "    </tr>\n",
       "    <tr>\n",
       "      <th>1648</th>\n",
       "      <td>Egypt</td>\n",
       "      <td>Action, Comedy, Drama</td>\n",
       "      <td>Arabic</td>\n",
       "      <td>movie</td>\n",
       "      <td>TV-14</td>\n",
       "    </tr>\n",
       "    <tr>\n",
       "      <th>3641</th>\n",
       "      <td>USA</td>\n",
       "      <td>Drama</td>\n",
       "      <td>English</td>\n",
       "      <td>movie</td>\n",
       "      <td>TV-14</td>\n",
       "    </tr>\n",
       "    <tr>\n",
       "      <th>4221</th>\n",
       "      <td>India</td>\n",
       "      <td>Comedy</td>\n",
       "      <td>NaN</td>\n",
       "      <td>movie</td>\n",
       "      <td>TV-PG</td>\n",
       "    </tr>\n",
       "    <tr>\n",
       "      <th>158</th>\n",
       "      <td>South Korea</td>\n",
       "      <td>Comedy, Drama, Family</td>\n",
       "      <td>Korean</td>\n",
       "      <td>series</td>\n",
       "      <td>TV-14</td>\n",
       "    </tr>\n",
       "  </tbody>\n",
       "</table>\n",
       "</div>"
      ],
      "text/plain": [
       "          Country                  Genre             Language    Type  \\\n",
       "3136    Hong Kong         Action, Comedy  Cantonese, Mandarin   movie   \n",
       "1648        Egypt  Action, Comedy, Drama               Arabic   movie   \n",
       "3641          USA                  Drama              English   movie   \n",
       "4221        India                 Comedy                  NaN   movie   \n",
       "158   South Korea  Comedy, Drama, Family               Korean  series   \n",
       "\n",
       "     mpaa_rating  \n",
       "3136       TV-14  \n",
       "1648       TV-14  \n",
       "3641       TV-14  \n",
       "4221       TV-PG  \n",
       "158        TV-14  "
      ]
     },
     "execution_count": 3,
     "metadata": {},
     "output_type": "execute_result"
    },
    {
     "data": {
      "application/javascript": [
       "\n",
       "            setTimeout(function() {\n",
       "                var nbb_cell_id = 3;\n",
       "                var nbb_unformatted_code = \"movie.head()\";\n",
       "                var nbb_formatted_code = \"movie.head()\";\n",
       "                var nbb_cells = Jupyter.notebook.get_cells();\n",
       "                for (var i = 0; i < nbb_cells.length; ++i) {\n",
       "                    if (nbb_cells[i].input_prompt_number == nbb_cell_id) {\n",
       "                        if (nbb_cells[i].get_text() == nbb_unformatted_code) {\n",
       "                             nbb_cells[i].set_text(nbb_formatted_code);\n",
       "                        }\n",
       "                        break;\n",
       "                    }\n",
       "                }\n",
       "            }, 500);\n",
       "            "
      ],
      "text/plain": [
       "<IPython.core.display.Javascript object>"
      ]
     },
     "metadata": {},
     "output_type": "display_data"
    }
   ],
   "source": [
    "movie.head()"
   ]
  },
  {
   "cell_type": "code",
   "execution_count": 4,
   "metadata": {},
   "outputs": [
    {
     "name": "stdout",
     "output_type": "stream",
     "text": [
      "\n",
      "------- Country -------------\n",
      "USA                                            676\n",
      "India                                          308\n",
      "UK                                              93\n",
      "Japan                                           54\n",
      "South Korea                                     49\n",
      "                                              ... \n",
      "Australia, UK, United Arab Emirates, Canada      1\n",
      "USA, Hungary                                     1\n",
      "USA, Canada, Germany                             1\n",
      "Germany, Italy                                   1\n",
      "Spain, Mexico                                    1\n",
      "Name: Country, Length: 261, dtype: int64\n",
      "\n",
      "------- Genre -------------\n",
      "Comedy                                                    214\n",
      "Drama                                                     178\n",
      "Documentary                                               162\n",
      "Comedy, Drama                                              56\n",
      "Comedy, Drama, Romance                                     47\n",
      "                                                         ... \n",
      "Crime, Mystery, Sci-Fi, Thriller                            1\n",
      "Documentary, Biography, Crime, History, Sport               1\n",
      "Documentary, Biography, History, Horror, Mystery            1\n",
      "Drama, Family, Musical                                      1\n",
      "Animation, Adventure, Drama, Fantasy, Musical, Romance      1\n",
      "Name: Genre, Length: 498, dtype: int64\n",
      "\n",
      "------- Language -------------\n",
      "English                             910\n",
      "Hindi                               158\n",
      "Spanish                              92\n",
      "Japanese                             48\n",
      "Korean                               45\n",
      "                                   ... \n",
      "Urdu, Pushto                          1\n",
      "Gujarati                              1\n",
      "Hindi, English, German                1\n",
      "English, German, French, Italian      1\n",
      "English, French, Scottish Gaelic      1\n",
      "Name: Language, Length: 271, dtype: int64\n",
      "\n",
      "------- Type -------------\n",
      "movie     1582\n",
      "series     418\n",
      "Name: Type, dtype: int64\n",
      "\n",
      "------- mpaa_rating -------------\n",
      "TV-MA       760\n",
      "TV-14       549\n",
      "TV-PG       220\n",
      "R           196\n",
      "PG-13        98\n",
      "PG           59\n",
      "TV-Y7        29\n",
      "TV-G         27\n",
      "TV-Y         27\n",
      "TV-Y7-FV     24\n",
      "G             7\n",
      "NR            3\n",
      "NC-17         1\n",
      "Name: mpaa_rating, dtype: int64\n"
     ]
    },
    {
     "data": {
      "application/javascript": [
       "\n",
       "            setTimeout(function() {\n",
       "                var nbb_cell_id = 4;\n",
       "                var nbb_unformatted_code = \"for col in movie:\\n    print(f\\\"\\\\n------- {col} -------------\\\")\\n    print(movie[col].value_counts())\";\n",
       "                var nbb_formatted_code = \"for col in movie:\\n    print(f\\\"\\\\n------- {col} -------------\\\")\\n    print(movie[col].value_counts())\";\n",
       "                var nbb_cells = Jupyter.notebook.get_cells();\n",
       "                for (var i = 0; i < nbb_cells.length; ++i) {\n",
       "                    if (nbb_cells[i].input_prompt_number == nbb_cell_id) {\n",
       "                        if (nbb_cells[i].get_text() == nbb_unformatted_code) {\n",
       "                             nbb_cells[i].set_text(nbb_formatted_code);\n",
       "                        }\n",
       "                        break;\n",
       "                    }\n",
       "                }\n",
       "            }, 500);\n",
       "            "
      ],
      "text/plain": [
       "<IPython.core.display.Javascript object>"
      ]
     },
     "metadata": {},
     "output_type": "display_data"
    }
   ],
   "source": [
    "for col in movie:\n",
    "    print(f\"\\n------- {col} -------------\")\n",
    "    print(movie[col].value_counts())"
   ]
  },
  {
   "cell_type": "markdown",
   "metadata": {},
   "source": [
    "## Preprocess"
   ]
  },
  {
   "cell_type": "code",
   "execution_count": 5,
   "metadata": {},
   "outputs": [
    {
     "data": {
      "text/plain": [
       "Country        41\n",
       "Genre           0\n",
       "Language       74\n",
       "Type            0\n",
       "mpaa_rating     0\n",
       "dtype: int64"
      ]
     },
     "execution_count": 5,
     "metadata": {},
     "output_type": "execute_result"
    },
    {
     "data": {
      "application/javascript": [
       "\n",
       "            setTimeout(function() {\n",
       "                var nbb_cell_id = 5;\n",
       "                var nbb_unformatted_code = \"movie.isna().sum()\";\n",
       "                var nbb_formatted_code = \"movie.isna().sum()\";\n",
       "                var nbb_cells = Jupyter.notebook.get_cells();\n",
       "                for (var i = 0; i < nbb_cells.length; ++i) {\n",
       "                    if (nbb_cells[i].input_prompt_number == nbb_cell_id) {\n",
       "                        if (nbb_cells[i].get_text() == nbb_unformatted_code) {\n",
       "                             nbb_cells[i].set_text(nbb_formatted_code);\n",
       "                        }\n",
       "                        break;\n",
       "                    }\n",
       "                }\n",
       "            }, 500);\n",
       "            "
      ],
      "text/plain": [
       "<IPython.core.display.Javascript object>"
      ]
     },
     "metadata": {},
     "output_type": "display_data"
    }
   ],
   "source": [
    "movie.isna().sum()"
   ]
  },
  {
   "cell_type": "code",
   "execution_count": 6,
   "metadata": {},
   "outputs": [
    {
     "data": {
      "application/javascript": [
       "\n",
       "            setTimeout(function() {\n",
       "                var nbb_cell_id = 6;\n",
       "                var nbb_unformatted_code = \"movie = movie.dropna()\";\n",
       "                var nbb_formatted_code = \"movie = movie.dropna()\";\n",
       "                var nbb_cells = Jupyter.notebook.get_cells();\n",
       "                for (var i = 0; i < nbb_cells.length; ++i) {\n",
       "                    if (nbb_cells[i].input_prompt_number == nbb_cell_id) {\n",
       "                        if (nbb_cells[i].get_text() == nbb_unformatted_code) {\n",
       "                             nbb_cells[i].set_text(nbb_formatted_code);\n",
       "                        }\n",
       "                        break;\n",
       "                    }\n",
       "                }\n",
       "            }, 500);\n",
       "            "
      ],
      "text/plain": [
       "<IPython.core.display.Javascript object>"
      ]
     },
     "metadata": {},
     "output_type": "display_data"
    }
   ],
   "source": [
    "movie = movie.dropna()"
   ]
  },
  {
   "cell_type": "markdown",
   "metadata": {},
   "source": [
    "Create a copy of the dataframe to preserve this original structure for cluster analysis later."
   ]
  },
  {
   "cell_type": "code",
   "execution_count": 7,
   "metadata": {},
   "outputs": [
    {
     "data": {
      "application/javascript": [
       "\n",
       "            setTimeout(function() {\n",
       "                var nbb_cell_id = 7;\n",
       "                var nbb_unformatted_code = \"# do when youve already filtered to records you want to cluster\\n# but you havent yet filtered to the features you want to cluster\\nog_movie = movie.copy()\";\n",
       "                var nbb_formatted_code = \"# do when youve already filtered to records you want to cluster\\n# but you havent yet filtered to the features you want to cluster\\nog_movie = movie.copy()\";\n",
       "                var nbb_cells = Jupyter.notebook.get_cells();\n",
       "                for (var i = 0; i < nbb_cells.length; ++i) {\n",
       "                    if (nbb_cells[i].input_prompt_number == nbb_cell_id) {\n",
       "                        if (nbb_cells[i].get_text() == nbb_unformatted_code) {\n",
       "                             nbb_cells[i].set_text(nbb_formatted_code);\n",
       "                        }\n",
       "                        break;\n",
       "                    }\n",
       "                }\n",
       "            }, 500);\n",
       "            "
      ],
      "text/plain": [
       "<IPython.core.display.Javascript object>"
      ]
     },
     "metadata": {},
     "output_type": "display_data"
    }
   ],
   "source": [
    "# do when youve already filtered to records you want to cluster\n",
    "# but you havent yet filtered to the features you want to cluster\n",
    "og_movie = movie.copy()"
   ]
  },
  {
   "cell_type": "markdown",
   "metadata": {},
   "source": [
    "Use [`pd.Series.str.get_dummies()`](https://pandas.pydata.org/pandas-docs/stable/reference/api/pandas.Series.str.get_dummies.html) to convert dummy encode `'Genre'`, `'Language'`, and `'Country'`."
   ]
  },
  {
   "cell_type": "code",
   "execution_count": 8,
   "metadata": {},
   "outputs": [
    {
     "data": {
      "application/javascript": [
       "\n",
       "            setTimeout(function() {\n",
       "                var nbb_cell_id = 8;\n",
       "                var nbb_unformatted_code = \"genre_dummies = movie[\\\"Genre\\\"].str.get_dummies(\\\", \\\")\";\n",
       "                var nbb_formatted_code = \"genre_dummies = movie[\\\"Genre\\\"].str.get_dummies(\\\", \\\")\";\n",
       "                var nbb_cells = Jupyter.notebook.get_cells();\n",
       "                for (var i = 0; i < nbb_cells.length; ++i) {\n",
       "                    if (nbb_cells[i].input_prompt_number == nbb_cell_id) {\n",
       "                        if (nbb_cells[i].get_text() == nbb_unformatted_code) {\n",
       "                             nbb_cells[i].set_text(nbb_formatted_code);\n",
       "                        }\n",
       "                        break;\n",
       "                    }\n",
       "                }\n",
       "            }, 500);\n",
       "            "
      ],
      "text/plain": [
       "<IPython.core.display.Javascript object>"
      ]
     },
     "metadata": {},
     "output_type": "display_data"
    }
   ],
   "source": [
    "genre_dummies = movie[\"Genre\"].str.get_dummies(\", \")"
   ]
  },
  {
   "cell_type": "code",
   "execution_count": 9,
   "metadata": {},
   "outputs": [
    {
     "data": {
      "application/javascript": [
       "\n",
       "            setTimeout(function() {\n",
       "                var nbb_cell_id = 9;\n",
       "                var nbb_unformatted_code = \"language_dummies = movie[\\\"Language\\\"].str.get_dummies(\\\", \\\")\";\n",
       "                var nbb_formatted_code = \"language_dummies = movie[\\\"Language\\\"].str.get_dummies(\\\", \\\")\";\n",
       "                var nbb_cells = Jupyter.notebook.get_cells();\n",
       "                for (var i = 0; i < nbb_cells.length; ++i) {\n",
       "                    if (nbb_cells[i].input_prompt_number == nbb_cell_id) {\n",
       "                        if (nbb_cells[i].get_text() == nbb_unformatted_code) {\n",
       "                             nbb_cells[i].set_text(nbb_formatted_code);\n",
       "                        }\n",
       "                        break;\n",
       "                    }\n",
       "                }\n",
       "            }, 500);\n",
       "            "
      ],
      "text/plain": [
       "<IPython.core.display.Javascript object>"
      ]
     },
     "metadata": {},
     "output_type": "display_data"
    }
   ],
   "source": [
    "language_dummies = movie[\"Language\"].str.get_dummies(\", \")"
   ]
  },
  {
   "cell_type": "code",
   "execution_count": 10,
   "metadata": {},
   "outputs": [
    {
     "data": {
      "application/javascript": [
       "\n",
       "            setTimeout(function() {\n",
       "                var nbb_cell_id = 10;\n",
       "                var nbb_unformatted_code = \"country_dummies = movie[\\\"Country\\\"].str.get_dummies(\\\", \\\")\";\n",
       "                var nbb_formatted_code = \"country_dummies = movie[\\\"Country\\\"].str.get_dummies(\\\", \\\")\";\n",
       "                var nbb_cells = Jupyter.notebook.get_cells();\n",
       "                for (var i = 0; i < nbb_cells.length; ++i) {\n",
       "                    if (nbb_cells[i].input_prompt_number == nbb_cell_id) {\n",
       "                        if (nbb_cells[i].get_text() == nbb_unformatted_code) {\n",
       "                             nbb_cells[i].set_text(nbb_formatted_code);\n",
       "                        }\n",
       "                        break;\n",
       "                    }\n",
       "                }\n",
       "            }, 500);\n",
       "            "
      ],
      "text/plain": [
       "<IPython.core.display.Javascript object>"
      ]
     },
     "metadata": {},
     "output_type": "display_data"
    }
   ],
   "source": [
    "country_dummies = movie[\"Country\"].str.get_dummies(\", \")"
   ]
  },
  {
   "cell_type": "markdown",
   "metadata": {},
   "source": [
    "Combine all 3 dummy dataframes into a single (very wide) dataframe."
   ]
  },
  {
   "cell_type": "code",
   "execution_count": 11,
   "metadata": {},
   "outputs": [
    {
     "data": {
      "text/html": [
       "<div>\n",
       "<style scoped>\n",
       "    .dataframe tbody tr th:only-of-type {\n",
       "        vertical-align: middle;\n",
       "    }\n",
       "\n",
       "    .dataframe tbody tr th {\n",
       "        vertical-align: top;\n",
       "    }\n",
       "\n",
       "    .dataframe thead th {\n",
       "        text-align: right;\n",
       "    }\n",
       "</style>\n",
       "<table border=\"1\" class=\"dataframe\">\n",
       "  <thead>\n",
       "    <tr style=\"text-align: right;\">\n",
       "      <th></th>\n",
       "      <th>Action</th>\n",
       "      <th>Adventure</th>\n",
       "      <th>Animation</th>\n",
       "      <th>Biography</th>\n",
       "      <th>Comedy</th>\n",
       "      <th>Crime</th>\n",
       "      <th>Documentary</th>\n",
       "      <th>Drama</th>\n",
       "      <th>Family</th>\n",
       "      <th>Fantasy</th>\n",
       "      <th>...</th>\n",
       "      <th>Thailand</th>\n",
       "      <th>Tunisia</th>\n",
       "      <th>Turkey</th>\n",
       "      <th>UK</th>\n",
       "      <th>USA</th>\n",
       "      <th>Uganda</th>\n",
       "      <th>Ukraine</th>\n",
       "      <th>United Arab Emirates</th>\n",
       "      <th>Uruguay</th>\n",
       "      <th>Zimbabwe</th>\n",
       "    </tr>\n",
       "  </thead>\n",
       "  <tbody>\n",
       "    <tr>\n",
       "      <th>3136</th>\n",
       "      <td>1</td>\n",
       "      <td>0</td>\n",
       "      <td>0</td>\n",
       "      <td>0</td>\n",
       "      <td>1</td>\n",
       "      <td>0</td>\n",
       "      <td>0</td>\n",
       "      <td>0</td>\n",
       "      <td>0</td>\n",
       "      <td>0</td>\n",
       "      <td>...</td>\n",
       "      <td>0</td>\n",
       "      <td>0</td>\n",
       "      <td>0</td>\n",
       "      <td>0</td>\n",
       "      <td>0</td>\n",
       "      <td>0</td>\n",
       "      <td>0</td>\n",
       "      <td>0</td>\n",
       "      <td>0</td>\n",
       "      <td>0</td>\n",
       "    </tr>\n",
       "    <tr>\n",
       "      <th>1648</th>\n",
       "      <td>1</td>\n",
       "      <td>0</td>\n",
       "      <td>0</td>\n",
       "      <td>0</td>\n",
       "      <td>1</td>\n",
       "      <td>0</td>\n",
       "      <td>0</td>\n",
       "      <td>1</td>\n",
       "      <td>0</td>\n",
       "      <td>0</td>\n",
       "      <td>...</td>\n",
       "      <td>0</td>\n",
       "      <td>0</td>\n",
       "      <td>0</td>\n",
       "      <td>0</td>\n",
       "      <td>0</td>\n",
       "      <td>0</td>\n",
       "      <td>0</td>\n",
       "      <td>0</td>\n",
       "      <td>0</td>\n",
       "      <td>0</td>\n",
       "    </tr>\n",
       "    <tr>\n",
       "      <th>3641</th>\n",
       "      <td>0</td>\n",
       "      <td>0</td>\n",
       "      <td>0</td>\n",
       "      <td>0</td>\n",
       "      <td>0</td>\n",
       "      <td>0</td>\n",
       "      <td>0</td>\n",
       "      <td>1</td>\n",
       "      <td>0</td>\n",
       "      <td>0</td>\n",
       "      <td>...</td>\n",
       "      <td>0</td>\n",
       "      <td>0</td>\n",
       "      <td>0</td>\n",
       "      <td>0</td>\n",
       "      <td>1</td>\n",
       "      <td>0</td>\n",
       "      <td>0</td>\n",
       "      <td>0</td>\n",
       "      <td>0</td>\n",
       "      <td>0</td>\n",
       "    </tr>\n",
       "    <tr>\n",
       "      <th>158</th>\n",
       "      <td>0</td>\n",
       "      <td>0</td>\n",
       "      <td>0</td>\n",
       "      <td>0</td>\n",
       "      <td>1</td>\n",
       "      <td>0</td>\n",
       "      <td>0</td>\n",
       "      <td>1</td>\n",
       "      <td>1</td>\n",
       "      <td>0</td>\n",
       "      <td>...</td>\n",
       "      <td>0</td>\n",
       "      <td>0</td>\n",
       "      <td>0</td>\n",
       "      <td>0</td>\n",
       "      <td>0</td>\n",
       "      <td>0</td>\n",
       "      <td>0</td>\n",
       "      <td>0</td>\n",
       "      <td>0</td>\n",
       "      <td>0</td>\n",
       "    </tr>\n",
       "    <tr>\n",
       "      <th>3556</th>\n",
       "      <td>0</td>\n",
       "      <td>0</td>\n",
       "      <td>0</td>\n",
       "      <td>0</td>\n",
       "      <td>0</td>\n",
       "      <td>0</td>\n",
       "      <td>1</td>\n",
       "      <td>0</td>\n",
       "      <td>0</td>\n",
       "      <td>0</td>\n",
       "      <td>...</td>\n",
       "      <td>0</td>\n",
       "      <td>0</td>\n",
       "      <td>0</td>\n",
       "      <td>0</td>\n",
       "      <td>1</td>\n",
       "      <td>0</td>\n",
       "      <td>0</td>\n",
       "      <td>0</td>\n",
       "      <td>0</td>\n",
       "      <td>0</td>\n",
       "    </tr>\n",
       "  </tbody>\n",
       "</table>\n",
       "<p>5 rows × 211 columns</p>\n",
       "</div>"
      ],
      "text/plain": [
       "      Action  Adventure  Animation  Biography  Comedy  Crime  Documentary  \\\n",
       "3136       1          0          0          0       1      0            0   \n",
       "1648       1          0          0          0       1      0            0   \n",
       "3641       0          0          0          0       0      0            0   \n",
       "158        0          0          0          0       1      0            0   \n",
       "3556       0          0          0          0       0      0            1   \n",
       "\n",
       "      Drama  Family  Fantasy  ...  Thailand  Tunisia  Turkey  UK  USA  Uganda  \\\n",
       "3136      0       0        0  ...         0        0       0   0    0       0   \n",
       "1648      1       0        0  ...         0        0       0   0    0       0   \n",
       "3641      1       0        0  ...         0        0       0   0    1       0   \n",
       "158       1       1        0  ...         0        0       0   0    0       0   \n",
       "3556      0       0        0  ...         0        0       0   0    1       0   \n",
       "\n",
       "      Ukraine  United Arab Emirates  Uruguay  Zimbabwe  \n",
       "3136        0                     0        0         0  \n",
       "1648        0                     0        0         0  \n",
       "3641        0                     0        0         0  \n",
       "158         0                     0        0         0  \n",
       "3556        0                     0        0         0  \n",
       "\n",
       "[5 rows x 211 columns]"
      ]
     },
     "execution_count": 11,
     "metadata": {},
     "output_type": "execute_result"
    },
    {
     "data": {
      "application/javascript": [
       "\n",
       "            setTimeout(function() {\n",
       "                var nbb_cell_id = 11;\n",
       "                var nbb_unformatted_code = \"str_dummies = pd.concat((genre_dummies, language_dummies, country_dummies), axis=1)\\nstr_dummies.head()\";\n",
       "                var nbb_formatted_code = \"str_dummies = pd.concat((genre_dummies, language_dummies, country_dummies), axis=1)\\nstr_dummies.head()\";\n",
       "                var nbb_cells = Jupyter.notebook.get_cells();\n",
       "                for (var i = 0; i < nbb_cells.length; ++i) {\n",
       "                    if (nbb_cells[i].input_prompt_number == nbb_cell_id) {\n",
       "                        if (nbb_cells[i].get_text() == nbb_unformatted_code) {\n",
       "                             nbb_cells[i].set_text(nbb_formatted_code);\n",
       "                        }\n",
       "                        break;\n",
       "                    }\n",
       "                }\n",
       "            }, 500);\n",
       "            "
      ],
      "text/plain": [
       "<IPython.core.display.Javascript object>"
      ]
     },
     "metadata": {},
     "output_type": "display_data"
    }
   ],
   "source": [
    "str_dummies = pd.concat((genre_dummies, language_dummies, country_dummies), axis=1)\n",
    "str_dummies.head()"
   ]
  },
  {
   "cell_type": "markdown",
   "metadata": {},
   "source": [
    "* Drop the original `'Genre'`, `'Language'`, and `'Country'` columns from the `movie` dataframe.\n",
    "* Add the data from `str_dummies` to the `movie` dataframe"
   ]
  },
  {
   "cell_type": "code",
   "execution_count": 12,
   "metadata": {},
   "outputs": [
    {
     "data": {
      "text/html": [
       "<div>\n",
       "<style scoped>\n",
       "    .dataframe tbody tr th:only-of-type {\n",
       "        vertical-align: middle;\n",
       "    }\n",
       "\n",
       "    .dataframe tbody tr th {\n",
       "        vertical-align: top;\n",
       "    }\n",
       "\n",
       "    .dataframe thead th {\n",
       "        text-align: right;\n",
       "    }\n",
       "</style>\n",
       "<table border=\"1\" class=\"dataframe\">\n",
       "  <thead>\n",
       "    <tr style=\"text-align: right;\">\n",
       "      <th></th>\n",
       "      <th>Type</th>\n",
       "      <th>mpaa_rating</th>\n",
       "      <th>Action</th>\n",
       "      <th>Adventure</th>\n",
       "      <th>Animation</th>\n",
       "      <th>Biography</th>\n",
       "      <th>Comedy</th>\n",
       "      <th>Crime</th>\n",
       "      <th>Documentary</th>\n",
       "      <th>Drama</th>\n",
       "      <th>...</th>\n",
       "      <th>Thailand</th>\n",
       "      <th>Tunisia</th>\n",
       "      <th>Turkey</th>\n",
       "      <th>UK</th>\n",
       "      <th>USA</th>\n",
       "      <th>Uganda</th>\n",
       "      <th>Ukraine</th>\n",
       "      <th>United Arab Emirates</th>\n",
       "      <th>Uruguay</th>\n",
       "      <th>Zimbabwe</th>\n",
       "    </tr>\n",
       "  </thead>\n",
       "  <tbody>\n",
       "    <tr>\n",
       "      <th>3136</th>\n",
       "      <td>movie</td>\n",
       "      <td>TV-14</td>\n",
       "      <td>1</td>\n",
       "      <td>0</td>\n",
       "      <td>0</td>\n",
       "      <td>0</td>\n",
       "      <td>1</td>\n",
       "      <td>0</td>\n",
       "      <td>0</td>\n",
       "      <td>0</td>\n",
       "      <td>...</td>\n",
       "      <td>0</td>\n",
       "      <td>0</td>\n",
       "      <td>0</td>\n",
       "      <td>0</td>\n",
       "      <td>0</td>\n",
       "      <td>0</td>\n",
       "      <td>0</td>\n",
       "      <td>0</td>\n",
       "      <td>0</td>\n",
       "      <td>0</td>\n",
       "    </tr>\n",
       "    <tr>\n",
       "      <th>1648</th>\n",
       "      <td>movie</td>\n",
       "      <td>TV-14</td>\n",
       "      <td>1</td>\n",
       "      <td>0</td>\n",
       "      <td>0</td>\n",
       "      <td>0</td>\n",
       "      <td>1</td>\n",
       "      <td>0</td>\n",
       "      <td>0</td>\n",
       "      <td>1</td>\n",
       "      <td>...</td>\n",
       "      <td>0</td>\n",
       "      <td>0</td>\n",
       "      <td>0</td>\n",
       "      <td>0</td>\n",
       "      <td>0</td>\n",
       "      <td>0</td>\n",
       "      <td>0</td>\n",
       "      <td>0</td>\n",
       "      <td>0</td>\n",
       "      <td>0</td>\n",
       "    </tr>\n",
       "    <tr>\n",
       "      <th>3641</th>\n",
       "      <td>movie</td>\n",
       "      <td>TV-14</td>\n",
       "      <td>0</td>\n",
       "      <td>0</td>\n",
       "      <td>0</td>\n",
       "      <td>0</td>\n",
       "      <td>0</td>\n",
       "      <td>0</td>\n",
       "      <td>0</td>\n",
       "      <td>1</td>\n",
       "      <td>...</td>\n",
       "      <td>0</td>\n",
       "      <td>0</td>\n",
       "      <td>0</td>\n",
       "      <td>0</td>\n",
       "      <td>1</td>\n",
       "      <td>0</td>\n",
       "      <td>0</td>\n",
       "      <td>0</td>\n",
       "      <td>0</td>\n",
       "      <td>0</td>\n",
       "    </tr>\n",
       "    <tr>\n",
       "      <th>158</th>\n",
       "      <td>series</td>\n",
       "      <td>TV-14</td>\n",
       "      <td>0</td>\n",
       "      <td>0</td>\n",
       "      <td>0</td>\n",
       "      <td>0</td>\n",
       "      <td>1</td>\n",
       "      <td>0</td>\n",
       "      <td>0</td>\n",
       "      <td>1</td>\n",
       "      <td>...</td>\n",
       "      <td>0</td>\n",
       "      <td>0</td>\n",
       "      <td>0</td>\n",
       "      <td>0</td>\n",
       "      <td>0</td>\n",
       "      <td>0</td>\n",
       "      <td>0</td>\n",
       "      <td>0</td>\n",
       "      <td>0</td>\n",
       "      <td>0</td>\n",
       "    </tr>\n",
       "    <tr>\n",
       "      <th>3556</th>\n",
       "      <td>movie</td>\n",
       "      <td>TV-PG</td>\n",
       "      <td>0</td>\n",
       "      <td>0</td>\n",
       "      <td>0</td>\n",
       "      <td>0</td>\n",
       "      <td>0</td>\n",
       "      <td>0</td>\n",
       "      <td>1</td>\n",
       "      <td>0</td>\n",
       "      <td>...</td>\n",
       "      <td>0</td>\n",
       "      <td>0</td>\n",
       "      <td>0</td>\n",
       "      <td>0</td>\n",
       "      <td>1</td>\n",
       "      <td>0</td>\n",
       "      <td>0</td>\n",
       "      <td>0</td>\n",
       "      <td>0</td>\n",
       "      <td>0</td>\n",
       "    </tr>\n",
       "  </tbody>\n",
       "</table>\n",
       "<p>5 rows × 213 columns</p>\n",
       "</div>"
      ],
      "text/plain": [
       "        Type mpaa_rating  Action  Adventure  Animation  Biography  Comedy  \\\n",
       "3136   movie       TV-14       1          0          0          0       1   \n",
       "1648   movie       TV-14       1          0          0          0       1   \n",
       "3641   movie       TV-14       0          0          0          0       0   \n",
       "158   series       TV-14       0          0          0          0       1   \n",
       "3556   movie       TV-PG       0          0          0          0       0   \n",
       "\n",
       "      Crime  Documentary  Drama  ...  Thailand  Tunisia  Turkey  UK  USA  \\\n",
       "3136      0            0      0  ...         0        0       0   0    0   \n",
       "1648      0            0      1  ...         0        0       0   0    0   \n",
       "3641      0            0      1  ...         0        0       0   0    1   \n",
       "158       0            0      1  ...         0        0       0   0    0   \n",
       "3556      0            1      0  ...         0        0       0   0    1   \n",
       "\n",
       "      Uganda  Ukraine  United Arab Emirates  Uruguay  Zimbabwe  \n",
       "3136       0        0                     0        0         0  \n",
       "1648       0        0                     0        0         0  \n",
       "3641       0        0                     0        0         0  \n",
       "158        0        0                     0        0         0  \n",
       "3556       0        0                     0        0         0  \n",
       "\n",
       "[5 rows x 213 columns]"
      ]
     },
     "execution_count": 12,
     "metadata": {},
     "output_type": "execute_result"
    },
    {
     "data": {
      "application/javascript": [
       "\n",
       "            setTimeout(function() {\n",
       "                var nbb_cell_id = 12;\n",
       "                var nbb_unformatted_code = \"movie = movie.drop(columns=[\\\"Genre\\\", \\\"Language\\\", \\\"Country\\\"])\\nmovie = pd.concat((movie, str_dummies), axis=1)\\nmovie.head()\";\n",
       "                var nbb_formatted_code = \"movie = movie.drop(columns=[\\\"Genre\\\", \\\"Language\\\", \\\"Country\\\"])\\nmovie = pd.concat((movie, str_dummies), axis=1)\\nmovie.head()\";\n",
       "                var nbb_cells = Jupyter.notebook.get_cells();\n",
       "                for (var i = 0; i < nbb_cells.length; ++i) {\n",
       "                    if (nbb_cells[i].input_prompt_number == nbb_cell_id) {\n",
       "                        if (nbb_cells[i].get_text() == nbb_unformatted_code) {\n",
       "                             nbb_cells[i].set_text(nbb_formatted_code);\n",
       "                        }\n",
       "                        break;\n",
       "                    }\n",
       "                }\n",
       "            }, 500);\n",
       "            "
      ],
      "text/plain": [
       "<IPython.core.display.Javascript object>"
      ]
     },
     "metadata": {},
     "output_type": "display_data"
    }
   ],
   "source": [
    "movie = movie.drop(columns=[\"Genre\", \"Language\", \"Country\"])\n",
    "movie = pd.concat((movie, str_dummies), axis=1)\n",
    "movie.head()"
   ]
  },
  {
   "cell_type": "markdown",
   "metadata": {},
   "source": [
    "Use [`pd.get_dummies()`](https://pandas.pydata.org/pandas-docs/stable/reference/api/pandas.get_dummies.html) to dummy encode `'Type'` and `'mpaa_rating'`."
   ]
  },
  {
   "cell_type": "code",
   "execution_count": 13,
   "metadata": {
    "colab": {},
    "colab_type": "code",
    "id": "TfMAPiTofCRZ"
   },
   "outputs": [
    {
     "name": "stdout",
     "output_type": "stream",
     "text": [
      "(1916, 226)\n"
     ]
    },
    {
     "data": {
      "text/html": [
       "<div>\n",
       "<style scoped>\n",
       "    .dataframe tbody tr th:only-of-type {\n",
       "        vertical-align: middle;\n",
       "    }\n",
       "\n",
       "    .dataframe tbody tr th {\n",
       "        vertical-align: top;\n",
       "    }\n",
       "\n",
       "    .dataframe thead th {\n",
       "        text-align: right;\n",
       "    }\n",
       "</style>\n",
       "<table border=\"1\" class=\"dataframe\">\n",
       "  <thead>\n",
       "    <tr style=\"text-align: right;\">\n",
       "      <th></th>\n",
       "      <th>Action</th>\n",
       "      <th>Adventure</th>\n",
       "      <th>Animation</th>\n",
       "      <th>Biography</th>\n",
       "      <th>Comedy</th>\n",
       "      <th>Crime</th>\n",
       "      <th>Documentary</th>\n",
       "      <th>Drama</th>\n",
       "      <th>Family</th>\n",
       "      <th>Fantasy</th>\n",
       "      <th>...</th>\n",
       "      <th>mpaa_rating_PG</th>\n",
       "      <th>mpaa_rating_PG-13</th>\n",
       "      <th>mpaa_rating_R</th>\n",
       "      <th>mpaa_rating_TV-14</th>\n",
       "      <th>mpaa_rating_TV-G</th>\n",
       "      <th>mpaa_rating_TV-MA</th>\n",
       "      <th>mpaa_rating_TV-PG</th>\n",
       "      <th>mpaa_rating_TV-Y</th>\n",
       "      <th>mpaa_rating_TV-Y7</th>\n",
       "      <th>mpaa_rating_TV-Y7-FV</th>\n",
       "    </tr>\n",
       "  </thead>\n",
       "  <tbody>\n",
       "    <tr>\n",
       "      <th>3136</th>\n",
       "      <td>1</td>\n",
       "      <td>0</td>\n",
       "      <td>0</td>\n",
       "      <td>0</td>\n",
       "      <td>1</td>\n",
       "      <td>0</td>\n",
       "      <td>0</td>\n",
       "      <td>0</td>\n",
       "      <td>0</td>\n",
       "      <td>0</td>\n",
       "      <td>...</td>\n",
       "      <td>0</td>\n",
       "      <td>0</td>\n",
       "      <td>0</td>\n",
       "      <td>1</td>\n",
       "      <td>0</td>\n",
       "      <td>0</td>\n",
       "      <td>0</td>\n",
       "      <td>0</td>\n",
       "      <td>0</td>\n",
       "      <td>0</td>\n",
       "    </tr>\n",
       "    <tr>\n",
       "      <th>1648</th>\n",
       "      <td>1</td>\n",
       "      <td>0</td>\n",
       "      <td>0</td>\n",
       "      <td>0</td>\n",
       "      <td>1</td>\n",
       "      <td>0</td>\n",
       "      <td>0</td>\n",
       "      <td>1</td>\n",
       "      <td>0</td>\n",
       "      <td>0</td>\n",
       "      <td>...</td>\n",
       "      <td>0</td>\n",
       "      <td>0</td>\n",
       "      <td>0</td>\n",
       "      <td>1</td>\n",
       "      <td>0</td>\n",
       "      <td>0</td>\n",
       "      <td>0</td>\n",
       "      <td>0</td>\n",
       "      <td>0</td>\n",
       "      <td>0</td>\n",
       "    </tr>\n",
       "    <tr>\n",
       "      <th>3641</th>\n",
       "      <td>0</td>\n",
       "      <td>0</td>\n",
       "      <td>0</td>\n",
       "      <td>0</td>\n",
       "      <td>0</td>\n",
       "      <td>0</td>\n",
       "      <td>0</td>\n",
       "      <td>1</td>\n",
       "      <td>0</td>\n",
       "      <td>0</td>\n",
       "      <td>...</td>\n",
       "      <td>0</td>\n",
       "      <td>0</td>\n",
       "      <td>0</td>\n",
       "      <td>1</td>\n",
       "      <td>0</td>\n",
       "      <td>0</td>\n",
       "      <td>0</td>\n",
       "      <td>0</td>\n",
       "      <td>0</td>\n",
       "      <td>0</td>\n",
       "    </tr>\n",
       "    <tr>\n",
       "      <th>158</th>\n",
       "      <td>0</td>\n",
       "      <td>0</td>\n",
       "      <td>0</td>\n",
       "      <td>0</td>\n",
       "      <td>1</td>\n",
       "      <td>0</td>\n",
       "      <td>0</td>\n",
       "      <td>1</td>\n",
       "      <td>1</td>\n",
       "      <td>0</td>\n",
       "      <td>...</td>\n",
       "      <td>0</td>\n",
       "      <td>0</td>\n",
       "      <td>0</td>\n",
       "      <td>1</td>\n",
       "      <td>0</td>\n",
       "      <td>0</td>\n",
       "      <td>0</td>\n",
       "      <td>0</td>\n",
       "      <td>0</td>\n",
       "      <td>0</td>\n",
       "    </tr>\n",
       "    <tr>\n",
       "      <th>3556</th>\n",
       "      <td>0</td>\n",
       "      <td>0</td>\n",
       "      <td>0</td>\n",
       "      <td>0</td>\n",
       "      <td>0</td>\n",
       "      <td>0</td>\n",
       "      <td>1</td>\n",
       "      <td>0</td>\n",
       "      <td>0</td>\n",
       "      <td>0</td>\n",
       "      <td>...</td>\n",
       "      <td>0</td>\n",
       "      <td>0</td>\n",
       "      <td>0</td>\n",
       "      <td>0</td>\n",
       "      <td>0</td>\n",
       "      <td>0</td>\n",
       "      <td>1</td>\n",
       "      <td>0</td>\n",
       "      <td>0</td>\n",
       "      <td>0</td>\n",
       "    </tr>\n",
       "  </tbody>\n",
       "</table>\n",
       "<p>5 rows × 226 columns</p>\n",
       "</div>"
      ],
      "text/plain": [
       "      Action  Adventure  Animation  Biography  Comedy  Crime  Documentary  \\\n",
       "3136       1          0          0          0       1      0            0   \n",
       "1648       1          0          0          0       1      0            0   \n",
       "3641       0          0          0          0       0      0            0   \n",
       "158        0          0          0          0       1      0            0   \n",
       "3556       0          0          0          0       0      0            1   \n",
       "\n",
       "      Drama  Family  Fantasy  ...  mpaa_rating_PG  mpaa_rating_PG-13  \\\n",
       "3136      0       0        0  ...               0                  0   \n",
       "1648      1       0        0  ...               0                  0   \n",
       "3641      1       0        0  ...               0                  0   \n",
       "158       1       1        0  ...               0                  0   \n",
       "3556      0       0        0  ...               0                  0   \n",
       "\n",
       "      mpaa_rating_R  mpaa_rating_TV-14  mpaa_rating_TV-G  mpaa_rating_TV-MA  \\\n",
       "3136              0                  1                 0                  0   \n",
       "1648              0                  1                 0                  0   \n",
       "3641              0                  1                 0                  0   \n",
       "158               0                  1                 0                  0   \n",
       "3556              0                  0                 0                  0   \n",
       "\n",
       "      mpaa_rating_TV-PG  mpaa_rating_TV-Y  mpaa_rating_TV-Y7  \\\n",
       "3136                  0                 0                  0   \n",
       "1648                  0                 0                  0   \n",
       "3641                  0                 0                  0   \n",
       "158                   0                 0                  0   \n",
       "3556                  1                 0                  0   \n",
       "\n",
       "      mpaa_rating_TV-Y7-FV  \n",
       "3136                     0  \n",
       "1648                     0  \n",
       "3641                     0  \n",
       "158                      0  \n",
       "3556                     0  \n",
       "\n",
       "[5 rows x 226 columns]"
      ]
     },
     "execution_count": 13,
     "metadata": {},
     "output_type": "execute_result"
    },
    {
     "data": {
      "application/javascript": [
       "\n",
       "            setTimeout(function() {\n",
       "                var nbb_cell_id = 13;\n",
       "                var nbb_unformatted_code = \"movie = pd.get_dummies(movie)\\nprint(movie.shape)\\nmovie.head()\";\n",
       "                var nbb_formatted_code = \"movie = pd.get_dummies(movie)\\nprint(movie.shape)\\nmovie.head()\";\n",
       "                var nbb_cells = Jupyter.notebook.get_cells();\n",
       "                for (var i = 0; i < nbb_cells.length; ++i) {\n",
       "                    if (nbb_cells[i].input_prompt_number == nbb_cell_id) {\n",
       "                        if (nbb_cells[i].get_text() == nbb_unformatted_code) {\n",
       "                             nbb_cells[i].set_text(nbb_formatted_code);\n",
       "                        }\n",
       "                        break;\n",
       "                    }\n",
       "                }\n",
       "            }, 500);\n",
       "            "
      ],
      "text/plain": [
       "<IPython.core.display.Javascript object>"
      ]
     },
     "metadata": {},
     "output_type": "display_data"
    }
   ],
   "source": [
    "movie = pd.get_dummies(movie)\n",
    "print(movie.shape)\n",
    "movie.head()"
   ]
  },
  {
   "cell_type": "markdown",
   "metadata": {
    "colab_type": "text",
    "id": "nmzSU_a_NfJK"
   },
   "source": [
    "## Calculate distances\n",
    "\n",
    "* Use `pdist` and `squareform` to calculate the distance between each row\n",
    "    * What distance metric makes the most sense here?"
   ]
  },
  {
   "cell_type": "code",
   "execution_count": 14,
   "metadata": {
    "colab": {
     "base_uri": "https://localhost:8080/",
     "height": 34
    },
    "colab_type": "code",
    "executionInfo": {
     "elapsed": 1612,
     "status": "ok",
     "timestamp": 1580235788350,
     "user": {
      "displayName": "Adam Spannbauer",
      "photoUrl": "https://lh3.googleusercontent.com/a-/AAuE7mAU2JSQZkFVVbFv_OhPGdmiwr3ChGbq34PCZXJz=s64",
      "userId": "04097551985177324740"
     },
     "user_tz": 300
    },
    "id": "PVJ6ziBdfgtp",
    "outputId": "e23c6ceb-e9f6-4da2-f346-e6b2ef81bc0e"
   },
   "outputs": [
    {
     "data": {
      "text/plain": [
       "(1916, 1916)"
      ]
     },
     "execution_count": 14,
     "metadata": {},
     "output_type": "execute_result"
    },
    {
     "data": {
      "application/javascript": [
       "\n",
       "            setTimeout(function() {\n",
       "                var nbb_cell_id = 14;\n",
       "                var nbb_unformatted_code = \"dist = pdist(movie, metric=\\\"dice\\\")\\ndist_mat = squareform(dist)\\ndist_mat.shape\";\n",
       "                var nbb_formatted_code = \"dist = pdist(movie, metric=\\\"dice\\\")\\ndist_mat = squareform(dist)\\ndist_mat.shape\";\n",
       "                var nbb_cells = Jupyter.notebook.get_cells();\n",
       "                for (var i = 0; i < nbb_cells.length; ++i) {\n",
       "                    if (nbb_cells[i].input_prompt_number == nbb_cell_id) {\n",
       "                        if (nbb_cells[i].get_text() == nbb_unformatted_code) {\n",
       "                             nbb_cells[i].set_text(nbb_formatted_code);\n",
       "                        }\n",
       "                        break;\n",
       "                    }\n",
       "                }\n",
       "            }, 500);\n",
       "            "
      ],
      "text/plain": [
       "<IPython.core.display.Javascript object>"
      ]
     },
     "metadata": {},
     "output_type": "display_data"
    }
   ],
   "source": [
    "dist = pdist(movie, metric=\"dice\")\n",
    "dist_mat = squareform(dist)\n",
    "dist_mat.shape"
   ]
  },
  {
   "cell_type": "code",
   "execution_count": 15,
   "metadata": {},
   "outputs": [
    {
     "data": {
      "application/javascript": [
       "\n",
       "            setTimeout(function() {\n",
       "                var nbb_cell_id = 15;\n",
       "                var nbb_unformatted_code = \"dist_mat_df = pd.DataFrame(dist_mat, index=movie.index, columns=movie.index)\";\n",
       "                var nbb_formatted_code = \"dist_mat_df = pd.DataFrame(dist_mat, index=movie.index, columns=movie.index)\";\n",
       "                var nbb_cells = Jupyter.notebook.get_cells();\n",
       "                for (var i = 0; i < nbb_cells.length; ++i) {\n",
       "                    if (nbb_cells[i].input_prompt_number == nbb_cell_id) {\n",
       "                        if (nbb_cells[i].get_text() == nbb_unformatted_code) {\n",
       "                             nbb_cells[i].set_text(nbb_formatted_code);\n",
       "                        }\n",
       "                        break;\n",
       "                    }\n",
       "                }\n",
       "            }, 500);\n",
       "            "
      ],
      "text/plain": [
       "<IPython.core.display.Javascript object>"
      ]
     },
     "metadata": {},
     "output_type": "display_data"
    }
   ],
   "source": [
    "dist_mat_df = pd.DataFrame(dist_mat, index=movie.index, columns=movie.index)"
   ]
  },
  {
   "cell_type": "markdown",
   "metadata": {
    "colab_type": "text",
    "id": "LueWWljFOONH"
   },
   "source": [
    "## Cluster with K-medoids"
   ]
  },
  {
   "cell_type": "markdown",
   "metadata": {},
   "source": [
    "We need to initialize the starting 'medoids' for our clusters.  To do this, `pyclustering` wants us to provide the indices of our starting points.\n",
    "\n",
    "* Generate `k` random indices from our distance matrix"
   ]
  },
  {
   "cell_type": "code",
   "execution_count": 16,
   "metadata": {},
   "outputs": [
    {
     "data": {
      "application/javascript": [
       "\n",
       "            setTimeout(function() {\n",
       "                var nbb_cell_id = 16;\n",
       "                var nbb_unformatted_code = \"k = 5\";\n",
       "                var nbb_formatted_code = \"k = 5\";\n",
       "                var nbb_cells = Jupyter.notebook.get_cells();\n",
       "                for (var i = 0; i < nbb_cells.length; ++i) {\n",
       "                    if (nbb_cells[i].input_prompt_number == nbb_cell_id) {\n",
       "                        if (nbb_cells[i].get_text() == nbb_unformatted_code) {\n",
       "                             nbb_cells[i].set_text(nbb_formatted_code);\n",
       "                        }\n",
       "                        break;\n",
       "                    }\n",
       "                }\n",
       "            }, 500);\n",
       "            "
      ],
      "text/plain": [
       "<IPython.core.display.Javascript object>"
      ]
     },
     "metadata": {},
     "output_type": "display_data"
    }
   ],
   "source": [
    "k = 5"
   ]
  },
  {
   "cell_type": "code",
   "execution_count": 17,
   "metadata": {},
   "outputs": [
    {
     "data": {
      "text/plain": [
       "array([1126, 1459,  860, 1294, 1130])"
      ]
     },
     "execution_count": 17,
     "metadata": {},
     "output_type": "execute_result"
    },
    {
     "data": {
      "application/javascript": [
       "\n",
       "            setTimeout(function() {\n",
       "                var nbb_cell_id = 17;\n",
       "                var nbb_unformatted_code = \"np.random.seed(42)\\n\\n# TODO: randint has issue of possible duplicate medoids\\n# FIXME: fix by sampling index without replacement instead\\nnrows = dist_mat.shape[0]\\ninit_medoids = np.random.randint(0, nrows, k)\\ninit_medoids\";\n",
       "                var nbb_formatted_code = \"np.random.seed(42)\\n\\n# TODO: randint has issue of possible duplicate medoids\\n# FIXME: fix by sampling index without replacement instead\\nnrows = dist_mat.shape[0]\\ninit_medoids = np.random.randint(0, nrows, k)\\ninit_medoids\";\n",
       "                var nbb_cells = Jupyter.notebook.get_cells();\n",
       "                for (var i = 0; i < nbb_cells.length; ++i) {\n",
       "                    if (nbb_cells[i].input_prompt_number == nbb_cell_id) {\n",
       "                        if (nbb_cells[i].get_text() == nbb_unformatted_code) {\n",
       "                             nbb_cells[i].set_text(nbb_formatted_code);\n",
       "                        }\n",
       "                        break;\n",
       "                    }\n",
       "                }\n",
       "            }, 500);\n",
       "            "
      ],
      "text/plain": [
       "<IPython.core.display.Javascript object>"
      ]
     },
     "metadata": {},
     "output_type": "display_data"
    }
   ],
   "source": [
    "np.random.seed(42)\n",
    "\n",
    "# TODO: randint has issue of possible duplicate medoids\n",
    "# FIXME: fix by sampling index without replacement instead\n",
    "nrows = dist_mat.shape[0]\n",
    "init_medoids = np.random.randint(0, nrows, k)\n",
    "init_medoids"
   ]
  },
  {
   "cell_type": "code",
   "execution_count": 18,
   "metadata": {
    "colab": {
     "base_uri": "https://localhost:8080/",
     "height": 34
    },
    "colab_type": "code",
    "executionInfo": {
     "elapsed": 2693,
     "status": "ok",
     "timestamp": 1580235980993,
     "user": {
      "displayName": "Adam Spannbauer",
      "photoUrl": "https://lh3.googleusercontent.com/a-/AAuE7mAU2JSQZkFVVbFv_OhPGdmiwr3ChGbq34PCZXJz=s64",
      "userId": "04097551985177324740"
     },
     "user_tz": 300
    },
    "id": "pvNAw7jLfpCI",
    "outputId": "af10360e-d911-4f1a-e8a0-e78d39ab03a8"
   },
   "outputs": [
    {
     "data": {
      "text/plain": [
       "<pyclustering.cluster.kmedoids.kmedoids at 0x1476b6040>"
      ]
     },
     "execution_count": 18,
     "metadata": {},
     "output_type": "execute_result"
    },
    {
     "data": {
      "application/javascript": [
       "\n",
       "            setTimeout(function() {\n",
       "                var nbb_cell_id = 18;\n",
       "                var nbb_unformatted_code = \"kmed = kmedoids(\\n    dist_mat, initial_index_medoids=init_medoids, data_type=\\\"distance_matrix\\\"\\n)\\n\\nkmed.process()\";\n",
       "                var nbb_formatted_code = \"kmed = kmedoids(\\n    dist_mat, initial_index_medoids=init_medoids, data_type=\\\"distance_matrix\\\"\\n)\\n\\nkmed.process()\";\n",
       "                var nbb_cells = Jupyter.notebook.get_cells();\n",
       "                for (var i = 0; i < nbb_cells.length; ++i) {\n",
       "                    if (nbb_cells[i].input_prompt_number == nbb_cell_id) {\n",
       "                        if (nbb_cells[i].get_text() == nbb_unformatted_code) {\n",
       "                             nbb_cells[i].set_text(nbb_formatted_code);\n",
       "                        }\n",
       "                        break;\n",
       "                    }\n",
       "                }\n",
       "            }, 500);\n",
       "            "
      ],
      "text/plain": [
       "<IPython.core.display.Javascript object>"
      ]
     },
     "metadata": {},
     "output_type": "display_data"
    }
   ],
   "source": [
    "kmed = kmedoids(\n",
    "    dist_mat, initial_index_medoids=init_medoids, data_type=\"distance_matrix\"\n",
    ")\n",
    "\n",
    "kmed.process()"
   ]
  },
  {
   "cell_type": "markdown",
   "metadata": {},
   "source": [
    "Use the `.get_medoids()` method to find the index for each cluster center."
   ]
  },
  {
   "cell_type": "code",
   "execution_count": 19,
   "metadata": {
    "colab": {},
    "colab_type": "code",
    "id": "WS0xNyAQZ4L9"
   },
   "outputs": [
    {
     "data": {
      "text/plain": [
       "[1634, 15, 39, 1800, 1314]"
      ]
     },
     "execution_count": 19,
     "metadata": {},
     "output_type": "execute_result"
    },
    {
     "data": {
      "application/javascript": [
       "\n",
       "            setTimeout(function() {\n",
       "                var nbb_cell_id = 19;\n",
       "                var nbb_unformatted_code = \"medoid_idxs = kmed.get_medoids()\\nmedoid_idxs\";\n",
       "                var nbb_formatted_code = \"medoid_idxs = kmed.get_medoids()\\nmedoid_idxs\";\n",
       "                var nbb_cells = Jupyter.notebook.get_cells();\n",
       "                for (var i = 0; i < nbb_cells.length; ++i) {\n",
       "                    if (nbb_cells[i].input_prompt_number == nbb_cell_id) {\n",
       "                        if (nbb_cells[i].get_text() == nbb_unformatted_code) {\n",
       "                             nbb_cells[i].set_text(nbb_formatted_code);\n",
       "                        }\n",
       "                        break;\n",
       "                    }\n",
       "                }\n",
       "            }, 500);\n",
       "            "
      ],
      "text/plain": [
       "<IPython.core.display.Javascript object>"
      ]
     },
     "metadata": {},
     "output_type": "display_data"
    }
   ],
   "source": [
    "medoid_idxs = kmed.get_medoids()\n",
    "medoid_idxs"
   ]
  },
  {
   "cell_type": "markdown",
   "metadata": {},
   "source": [
    "Use the `.predict()` method to output the cluster label for each record in a dataset."
   ]
  },
  {
   "cell_type": "code",
   "execution_count": 20,
   "metadata": {},
   "outputs": [
    {
     "data": {
      "text/plain": [
       "array([3, 3, 4, ..., 3, 1, 1])"
      ]
     },
     "execution_count": 20,
     "metadata": {},
     "output_type": "execute_result"
    },
    {
     "data": {
      "application/javascript": [
       "\n",
       "            setTimeout(function() {\n",
       "                var nbb_cell_id = 20;\n",
       "                var nbb_unformatted_code = \"labels = kmed.predict(dist_mat)\\nlabels\";\n",
       "                var nbb_formatted_code = \"labels = kmed.predict(dist_mat)\\nlabels\";\n",
       "                var nbb_cells = Jupyter.notebook.get_cells();\n",
       "                for (var i = 0; i < nbb_cells.length; ++i) {\n",
       "                    if (nbb_cells[i].input_prompt_number == nbb_cell_id) {\n",
       "                        if (nbb_cells[i].get_text() == nbb_unformatted_code) {\n",
       "                             nbb_cells[i].set_text(nbb_formatted_code);\n",
       "                        }\n",
       "                        break;\n",
       "                    }\n",
       "                }\n",
       "            }, 500);\n",
       "            "
      ],
      "text/plain": [
       "<IPython.core.display.Javascript object>"
      ]
     },
     "metadata": {},
     "output_type": "display_data"
    }
   ],
   "source": [
    "labels = kmed.predict(dist_mat)\n",
    "labels"
   ]
  },
  {
   "cell_type": "markdown",
   "metadata": {},
   "source": [
    "Put these labels into both the `og_movie` and `movie` dataframes."
   ]
  },
  {
   "cell_type": "code",
   "execution_count": 21,
   "metadata": {},
   "outputs": [
    {
     "data": {
      "application/javascript": [
       "\n",
       "            setTimeout(function() {\n",
       "                var nbb_cell_id = 21;\n",
       "                var nbb_unformatted_code = \"og_movie[\\\"label\\\"] = labels\\nmovie[\\\"label\\\"] = labels\";\n",
       "                var nbb_formatted_code = \"og_movie[\\\"label\\\"] = labels\\nmovie[\\\"label\\\"] = labels\";\n",
       "                var nbb_cells = Jupyter.notebook.get_cells();\n",
       "                for (var i = 0; i < nbb_cells.length; ++i) {\n",
       "                    if (nbb_cells[i].input_prompt_number == nbb_cell_id) {\n",
       "                        if (nbb_cells[i].get_text() == nbb_unformatted_code) {\n",
       "                             nbb_cells[i].set_text(nbb_formatted_code);\n",
       "                        }\n",
       "                        break;\n",
       "                    }\n",
       "                }\n",
       "            }, 500);\n",
       "            "
      ],
      "text/plain": [
       "<IPython.core.display.Javascript object>"
      ]
     },
     "metadata": {},
     "output_type": "display_data"
    }
   ],
   "source": [
    "og_movie[\"label\"] = labels\n",
    "movie[\"label\"] = labels"
   ]
  },
  {
   "cell_type": "markdown",
   "metadata": {
    "colab_type": "text",
    "id": "JzEvzv43OTDz"
   },
   "source": [
    "## Explore Clusters"
   ]
  },
  {
   "cell_type": "markdown",
   "metadata": {},
   "source": [
    "Use the `medoid_idxs` to pull out our cluster centers from `og_movie`."
   ]
  },
  {
   "cell_type": "code",
   "execution_count": 22,
   "metadata": {},
   "outputs": [
    {
     "data": {
      "text/plain": [
       "[1634, 15, 39, 1800, 1314]"
      ]
     },
     "execution_count": 22,
     "metadata": {},
     "output_type": "execute_result"
    },
    {
     "data": {
      "application/javascript": [
       "\n",
       "            setTimeout(function() {\n",
       "                var nbb_cell_id = 22;\n",
       "                var nbb_unformatted_code = \"medoid_idxs\";\n",
       "                var nbb_formatted_code = \"medoid_idxs\";\n",
       "                var nbb_cells = Jupyter.notebook.get_cells();\n",
       "                for (var i = 0; i < nbb_cells.length; ++i) {\n",
       "                    if (nbb_cells[i].input_prompt_number == nbb_cell_id) {\n",
       "                        if (nbb_cells[i].get_text() == nbb_unformatted_code) {\n",
       "                             nbb_cells[i].set_text(nbb_formatted_code);\n",
       "                        }\n",
       "                        break;\n",
       "                    }\n",
       "                }\n",
       "            }, 500);\n",
       "            "
      ],
      "text/plain": [
       "<IPython.core.display.Javascript object>"
      ]
     },
     "metadata": {},
     "output_type": "display_data"
    }
   ],
   "source": [
    "medoid_idxs"
   ]
  },
  {
   "cell_type": "code",
   "execution_count": 23,
   "metadata": {
    "colab": {
     "base_uri": "https://localhost:8080/",
     "height": 204
    },
    "colab_type": "code",
    "executionInfo": {
     "elapsed": 1490,
     "status": "ok",
     "timestamp": 1580236134342,
     "user": {
      "displayName": "Adam Spannbauer",
      "photoUrl": "https://lh3.googleusercontent.com/a-/AAuE7mAU2JSQZkFVVbFv_OhPGdmiwr3ChGbq34PCZXJz=s64",
      "userId": "04097551985177324740"
     },
     "user_tz": 300
    },
    "id": "KEwPHXf9MiI6",
    "outputId": "90e5044a-b288-48b7-fd6b-f8ac02c9af18"
   },
   "outputs": [
    {
     "data": {
      "text/html": [
       "<div>\n",
       "<style scoped>\n",
       "    .dataframe tbody tr th:only-of-type {\n",
       "        vertical-align: middle;\n",
       "    }\n",
       "\n",
       "    .dataframe tbody tr th {\n",
       "        vertical-align: top;\n",
       "    }\n",
       "\n",
       "    .dataframe thead th {\n",
       "        text-align: right;\n",
       "    }\n",
       "</style>\n",
       "<table border=\"1\" class=\"dataframe\">\n",
       "  <thead>\n",
       "    <tr style=\"text-align: right;\">\n",
       "      <th></th>\n",
       "      <th>Country</th>\n",
       "      <th>Genre</th>\n",
       "      <th>Language</th>\n",
       "      <th>Type</th>\n",
       "      <th>mpaa_rating</th>\n",
       "      <th>label</th>\n",
       "    </tr>\n",
       "  </thead>\n",
       "  <tbody>\n",
       "    <tr>\n",
       "      <th>3699</th>\n",
       "      <td>USA</td>\n",
       "      <td>Crime, Drama, Thriller</td>\n",
       "      <td>English</td>\n",
       "      <td>movie</td>\n",
       "      <td>TV-MA</td>\n",
       "      <td>0</td>\n",
       "    </tr>\n",
       "    <tr>\n",
       "      <th>5824</th>\n",
       "      <td>USA</td>\n",
       "      <td>Comedy</td>\n",
       "      <td>English</td>\n",
       "      <td>movie</td>\n",
       "      <td>TV-MA</td>\n",
       "      <td>1</td>\n",
       "    </tr>\n",
       "    <tr>\n",
       "      <th>144</th>\n",
       "      <td>USA</td>\n",
       "      <td>Drama</td>\n",
       "      <td>English</td>\n",
       "      <td>series</td>\n",
       "      <td>TV-MA</td>\n",
       "      <td>2</td>\n",
       "    </tr>\n",
       "    <tr>\n",
       "      <th>3393</th>\n",
       "      <td>India</td>\n",
       "      <td>Comedy, Drama</td>\n",
       "      <td>Hindi</td>\n",
       "      <td>movie</td>\n",
       "      <td>TV-14</td>\n",
       "      <td>3</td>\n",
       "    </tr>\n",
       "    <tr>\n",
       "      <th>4258</th>\n",
       "      <td>USA</td>\n",
       "      <td>Documentary</td>\n",
       "      <td>English</td>\n",
       "      <td>movie</td>\n",
       "      <td>TV-14</td>\n",
       "      <td>4</td>\n",
       "    </tr>\n",
       "  </tbody>\n",
       "</table>\n",
       "</div>"
      ],
      "text/plain": [
       "     Country                   Genre Language    Type mpaa_rating  label\n",
       "3699     USA  Crime, Drama, Thriller  English   movie       TV-MA      0\n",
       "5824     USA                  Comedy  English   movie       TV-MA      1\n",
       "144      USA                   Drama  English  series       TV-MA      2\n",
       "3393   India           Comedy, Drama    Hindi   movie       TV-14      3\n",
       "4258     USA             Documentary  English   movie       TV-14      4"
      ]
     },
     "execution_count": 23,
     "metadata": {},
     "output_type": "execute_result"
    },
    {
     "data": {
      "application/javascript": [
       "\n",
       "            setTimeout(function() {\n",
       "                var nbb_cell_id = 23;\n",
       "                var nbb_unformatted_code = \"og_movie.iloc[medoid_idxs, :]\";\n",
       "                var nbb_formatted_code = \"og_movie.iloc[medoid_idxs, :]\";\n",
       "                var nbb_cells = Jupyter.notebook.get_cells();\n",
       "                for (var i = 0; i < nbb_cells.length; ++i) {\n",
       "                    if (nbb_cells[i].input_prompt_number == nbb_cell_id) {\n",
       "                        if (nbb_cells[i].get_text() == nbb_unformatted_code) {\n",
       "                             nbb_cells[i].set_text(nbb_formatted_code);\n",
       "                        }\n",
       "                        break;\n",
       "                    }\n",
       "                }\n",
       "            }, 500);\n",
       "            "
      ],
      "text/plain": [
       "<IPython.core.display.Javascript object>"
      ]
     },
     "metadata": {},
     "output_type": "display_data"
    }
   ],
   "source": [
    "og_movie.iloc[medoid_idxs, :]"
   ]
  },
  {
   "cell_type": "markdown",
   "metadata": {},
   "source": [
    "Analyze clusters"
   ]
  },
  {
   "cell_type": "code",
   "execution_count": 24,
   "metadata": {},
   "outputs": [
    {
     "data": {
      "application/javascript": [
       "\n",
       "            setTimeout(function() {\n",
       "                var nbb_cell_id = 24;\n",
       "                var nbb_unformatted_code = \"cluster_avgs = movie.groupby(\\\"label\\\").mean()\";\n",
       "                var nbb_formatted_code = \"cluster_avgs = movie.groupby(\\\"label\\\").mean()\";\n",
       "                var nbb_cells = Jupyter.notebook.get_cells();\n",
       "                for (var i = 0; i < nbb_cells.length; ++i) {\n",
       "                    if (nbb_cells[i].input_prompt_number == nbb_cell_id) {\n",
       "                        if (nbb_cells[i].get_text() == nbb_unformatted_code) {\n",
       "                             nbb_cells[i].set_text(nbb_formatted_code);\n",
       "                        }\n",
       "                        break;\n",
       "                    }\n",
       "                }\n",
       "            }, 500);\n",
       "            "
      ],
      "text/plain": [
       "<IPython.core.display.Javascript object>"
      ]
     },
     "metadata": {},
     "output_type": "display_data"
    }
   ],
   "source": [
    "cluster_avgs = movie.groupby(\"label\").mean()"
   ]
  },
  {
   "cell_type": "code",
   "execution_count": 25,
   "metadata": {},
   "outputs": [
    {
     "data": {
      "text/html": [
       "<div>\n",
       "<style scoped>\n",
       "    .dataframe tbody tr th:only-of-type {\n",
       "        vertical-align: middle;\n",
       "    }\n",
       "\n",
       "    .dataframe tbody tr th {\n",
       "        vertical-align: top;\n",
       "    }\n",
       "\n",
       "    .dataframe thead th {\n",
       "        text-align: right;\n",
       "    }\n",
       "</style>\n",
       "<table border=\"1\" class=\"dataframe\">\n",
       "  <thead>\n",
       "    <tr style=\"text-align: right;\">\n",
       "      <th>label</th>\n",
       "      <th>0</th>\n",
       "      <th>1</th>\n",
       "      <th>2</th>\n",
       "      <th>3</th>\n",
       "      <th>4</th>\n",
       "    </tr>\n",
       "  </thead>\n",
       "  <tbody>\n",
       "    <tr>\n",
       "      <th>Type_movie</th>\n",
       "      <td>1.000000</td>\n",
       "      <td>1.000000</td>\n",
       "      <td>0.228412</td>\n",
       "      <td>0.843648</td>\n",
       "      <td>0.967552</td>\n",
       "    </tr>\n",
       "    <tr>\n",
       "      <th>English</th>\n",
       "      <td>0.907514</td>\n",
       "      <td>0.988372</td>\n",
       "      <td>0.665738</td>\n",
       "      <td>0.107492</td>\n",
       "      <td>0.991150</td>\n",
       "    </tr>\n",
       "    <tr>\n",
       "      <th>Drama</th>\n",
       "      <td>0.736994</td>\n",
       "      <td>0.151163</td>\n",
       "      <td>0.398329</td>\n",
       "      <td>0.571661</td>\n",
       "      <td>0.079646</td>\n",
       "    </tr>\n",
       "    <tr>\n",
       "      <th>USA</th>\n",
       "      <td>0.658960</td>\n",
       "      <td>0.914729</td>\n",
       "      <td>0.406685</td>\n",
       "      <td>0.003257</td>\n",
       "      <td>0.746313</td>\n",
       "    </tr>\n",
       "    <tr>\n",
       "      <th>Thriller</th>\n",
       "      <td>0.528902</td>\n",
       "      <td>0.007752</td>\n",
       "      <td>0.167131</td>\n",
       "      <td>0.135179</td>\n",
       "      <td>0.029499</td>\n",
       "    </tr>\n",
       "  </tbody>\n",
       "</table>\n",
       "</div>"
      ],
      "text/plain": [
       "label              0         1         2         3         4\n",
       "Type_movie  1.000000  1.000000  0.228412  0.843648  0.967552\n",
       "English     0.907514  0.988372  0.665738  0.107492  0.991150\n",
       "Drama       0.736994  0.151163  0.398329  0.571661  0.079646\n",
       "USA         0.658960  0.914729  0.406685  0.003257  0.746313\n",
       "Thriller    0.528902  0.007752  0.167131  0.135179  0.029499"
      ]
     },
     "execution_count": 25,
     "metadata": {},
     "output_type": "execute_result"
    },
    {
     "data": {
      "application/javascript": [
       "\n",
       "            setTimeout(function() {\n",
       "                var nbb_cell_id = 25;\n",
       "                var nbb_unformatted_code = \"# Most defining cluster 0 characteristics\\ncluster_avgs.T.sort_values(0, ascending=False).head(5)\";\n",
       "                var nbb_formatted_code = \"# Most defining cluster 0 characteristics\\ncluster_avgs.T.sort_values(0, ascending=False).head(5)\";\n",
       "                var nbb_cells = Jupyter.notebook.get_cells();\n",
       "                for (var i = 0; i < nbb_cells.length; ++i) {\n",
       "                    if (nbb_cells[i].input_prompt_number == nbb_cell_id) {\n",
       "                        if (nbb_cells[i].get_text() == nbb_unformatted_code) {\n",
       "                             nbb_cells[i].set_text(nbb_formatted_code);\n",
       "                        }\n",
       "                        break;\n",
       "                    }\n",
       "                }\n",
       "            }, 500);\n",
       "            "
      ],
      "text/plain": [
       "<IPython.core.display.Javascript object>"
      ]
     },
     "metadata": {},
     "output_type": "display_data"
    }
   ],
   "source": [
    "# Most defining cluster 0 characteristics\n",
    "cluster_avgs.T.sort_values(0, ascending=False).head(5)"
   ]
  },
  {
   "cell_type": "code",
   "execution_count": 26,
   "metadata": {},
   "outputs": [
    {
     "data": {
      "text/html": [
       "<div>\n",
       "<style scoped>\n",
       "    .dataframe tbody tr th:only-of-type {\n",
       "        vertical-align: middle;\n",
       "    }\n",
       "\n",
       "    .dataframe tbody tr th {\n",
       "        vertical-align: top;\n",
       "    }\n",
       "\n",
       "    .dataframe thead th {\n",
       "        text-align: right;\n",
       "    }\n",
       "</style>\n",
       "<table border=\"1\" class=\"dataframe\">\n",
       "  <thead>\n",
       "    <tr style=\"text-align: right;\">\n",
       "      <th>label</th>\n",
       "      <th>0</th>\n",
       "      <th>1</th>\n",
       "      <th>2</th>\n",
       "      <th>3</th>\n",
       "      <th>4</th>\n",
       "    </tr>\n",
       "  </thead>\n",
       "  <tbody>\n",
       "    <tr>\n",
       "      <th>Type_movie</th>\n",
       "      <td>1.000000</td>\n",
       "      <td>1.000000</td>\n",
       "      <td>0.228412</td>\n",
       "      <td>0.843648</td>\n",
       "      <td>0.967552</td>\n",
       "    </tr>\n",
       "    <tr>\n",
       "      <th>English</th>\n",
       "      <td>0.907514</td>\n",
       "      <td>0.988372</td>\n",
       "      <td>0.665738</td>\n",
       "      <td>0.107492</td>\n",
       "      <td>0.991150</td>\n",
       "    </tr>\n",
       "    <tr>\n",
       "      <th>USA</th>\n",
       "      <td>0.658960</td>\n",
       "      <td>0.914729</td>\n",
       "      <td>0.406685</td>\n",
       "      <td>0.003257</td>\n",
       "      <td>0.746313</td>\n",
       "    </tr>\n",
       "    <tr>\n",
       "      <th>Comedy</th>\n",
       "      <td>0.095376</td>\n",
       "      <td>0.782946</td>\n",
       "      <td>0.144847</td>\n",
       "      <td>0.390879</td>\n",
       "      <td>0.294985</td>\n",
       "    </tr>\n",
       "    <tr>\n",
       "      <th>mpaa_rating_TV-MA</th>\n",
       "      <td>0.494220</td>\n",
       "      <td>0.705426</td>\n",
       "      <td>0.548747</td>\n",
       "      <td>0.250814</td>\n",
       "      <td>0.056047</td>\n",
       "    </tr>\n",
       "  </tbody>\n",
       "</table>\n",
       "</div>"
      ],
      "text/plain": [
       "label                     0         1         2         3         4\n",
       "Type_movie         1.000000  1.000000  0.228412  0.843648  0.967552\n",
       "English            0.907514  0.988372  0.665738  0.107492  0.991150\n",
       "USA                0.658960  0.914729  0.406685  0.003257  0.746313\n",
       "Comedy             0.095376  0.782946  0.144847  0.390879  0.294985\n",
       "mpaa_rating_TV-MA  0.494220  0.705426  0.548747  0.250814  0.056047"
      ]
     },
     "execution_count": 26,
     "metadata": {},
     "output_type": "execute_result"
    },
    {
     "data": {
      "application/javascript": [
       "\n",
       "            setTimeout(function() {\n",
       "                var nbb_cell_id = 26;\n",
       "                var nbb_unformatted_code = \"# Most defining cluster 1 characteristics\\ncluster_avgs.T.sort_values(1, ascending=False).head(5)\";\n",
       "                var nbb_formatted_code = \"# Most defining cluster 1 characteristics\\ncluster_avgs.T.sort_values(1, ascending=False).head(5)\";\n",
       "                var nbb_cells = Jupyter.notebook.get_cells();\n",
       "                for (var i = 0; i < nbb_cells.length; ++i) {\n",
       "                    if (nbb_cells[i].input_prompt_number == nbb_cell_id) {\n",
       "                        if (nbb_cells[i].get_text() == nbb_unformatted_code) {\n",
       "                             nbb_cells[i].set_text(nbb_formatted_code);\n",
       "                        }\n",
       "                        break;\n",
       "                    }\n",
       "                }\n",
       "            }, 500);\n",
       "            "
      ],
      "text/plain": [
       "<IPython.core.display.Javascript object>"
      ]
     },
     "metadata": {},
     "output_type": "display_data"
    }
   ],
   "source": [
    "# Most defining cluster 1 characteristics\n",
    "cluster_avgs.T.sort_values(1, ascending=False).head(5)"
   ]
  },
  {
   "cell_type": "code",
   "execution_count": 27,
   "metadata": {},
   "outputs": [
    {
     "data": {
      "text/html": [
       "<div>\n",
       "<style scoped>\n",
       "    .dataframe tbody tr th:only-of-type {\n",
       "        vertical-align: middle;\n",
       "    }\n",
       "\n",
       "    .dataframe tbody tr th {\n",
       "        vertical-align: top;\n",
       "    }\n",
       "\n",
       "    .dataframe thead th {\n",
       "        text-align: right;\n",
       "    }\n",
       "</style>\n",
       "<table border=\"1\" class=\"dataframe\">\n",
       "  <thead>\n",
       "    <tr style=\"text-align: right;\">\n",
       "      <th>label</th>\n",
       "      <th>0</th>\n",
       "      <th>1</th>\n",
       "      <th>2</th>\n",
       "      <th>3</th>\n",
       "      <th>4</th>\n",
       "    </tr>\n",
       "  </thead>\n",
       "  <tbody>\n",
       "    <tr>\n",
       "      <th>Type_movie</th>\n",
       "      <td>1.000000</td>\n",
       "      <td>1.000000</td>\n",
       "      <td>0.228412</td>\n",
       "      <td>0.843648</td>\n",
       "      <td>0.967552</td>\n",
       "    </tr>\n",
       "    <tr>\n",
       "      <th>Drama</th>\n",
       "      <td>0.736994</td>\n",
       "      <td>0.151163</td>\n",
       "      <td>0.398329</td>\n",
       "      <td>0.571661</td>\n",
       "      <td>0.079646</td>\n",
       "    </tr>\n",
       "    <tr>\n",
       "      <th>mpaa_rating_TV-14</th>\n",
       "      <td>0.026012</td>\n",
       "      <td>0.000000</td>\n",
       "      <td>0.094708</td>\n",
       "      <td>0.568404</td>\n",
       "      <td>0.398230</td>\n",
       "    </tr>\n",
       "    <tr>\n",
       "      <th>India</th>\n",
       "      <td>0.034682</td>\n",
       "      <td>0.003876</td>\n",
       "      <td>0.011142</td>\n",
       "      <td>0.495114</td>\n",
       "      <td>0.017699</td>\n",
       "    </tr>\n",
       "    <tr>\n",
       "      <th>Comedy</th>\n",
       "      <td>0.095376</td>\n",
       "      <td>0.782946</td>\n",
       "      <td>0.144847</td>\n",
       "      <td>0.390879</td>\n",
       "      <td>0.294985</td>\n",
       "    </tr>\n",
       "    <tr>\n",
       "      <th>Hindi</th>\n",
       "      <td>0.031792</td>\n",
       "      <td>0.000000</td>\n",
       "      <td>0.011142</td>\n",
       "      <td>0.361564</td>\n",
       "      <td>0.011799</td>\n",
       "    </tr>\n",
       "    <tr>\n",
       "      <th>mpaa_rating_TV-MA</th>\n",
       "      <td>0.494220</td>\n",
       "      <td>0.705426</td>\n",
       "      <td>0.548747</td>\n",
       "      <td>0.250814</td>\n",
       "      <td>0.056047</td>\n",
       "    </tr>\n",
       "    <tr>\n",
       "      <th>Romance</th>\n",
       "      <td>0.127168</td>\n",
       "      <td>0.120155</td>\n",
       "      <td>0.091922</td>\n",
       "      <td>0.249186</td>\n",
       "      <td>0.056047</td>\n",
       "    </tr>\n",
       "  </tbody>\n",
       "</table>\n",
       "</div>"
      ],
      "text/plain": [
       "label                     0         1         2         3         4\n",
       "Type_movie         1.000000  1.000000  0.228412  0.843648  0.967552\n",
       "Drama              0.736994  0.151163  0.398329  0.571661  0.079646\n",
       "mpaa_rating_TV-14  0.026012  0.000000  0.094708  0.568404  0.398230\n",
       "India              0.034682  0.003876  0.011142  0.495114  0.017699\n",
       "Comedy             0.095376  0.782946  0.144847  0.390879  0.294985\n",
       "Hindi              0.031792  0.000000  0.011142  0.361564  0.011799\n",
       "mpaa_rating_TV-MA  0.494220  0.705426  0.548747  0.250814  0.056047\n",
       "Romance            0.127168  0.120155  0.091922  0.249186  0.056047"
      ]
     },
     "execution_count": 27,
     "metadata": {},
     "output_type": "execute_result"
    },
    {
     "data": {
      "application/javascript": [
       "\n",
       "            setTimeout(function() {\n",
       "                var nbb_cell_id = 27;\n",
       "                var nbb_unformatted_code = \"# Most defining cluster 3 characteristics\\ncluster_avgs.T.sort_values(3, ascending=False).head(8)\";\n",
       "                var nbb_formatted_code = \"# Most defining cluster 3 characteristics\\ncluster_avgs.T.sort_values(3, ascending=False).head(8)\";\n",
       "                var nbb_cells = Jupyter.notebook.get_cells();\n",
       "                for (var i = 0; i < nbb_cells.length; ++i) {\n",
       "                    if (nbb_cells[i].input_prompt_number == nbb_cell_id) {\n",
       "                        if (nbb_cells[i].get_text() == nbb_unformatted_code) {\n",
       "                             nbb_cells[i].set_text(nbb_formatted_code);\n",
       "                        }\n",
       "                        break;\n",
       "                    }\n",
       "                }\n",
       "            }, 500);\n",
       "            "
      ],
      "text/plain": [
       "<IPython.core.display.Javascript object>"
      ]
     },
     "metadata": {},
     "output_type": "display_data"
    }
   ],
   "source": [
    "# Most defining cluster 3 characteristics\n",
    "cluster_avgs.T.sort_values(3, ascending=False).head(8)"
   ]
  }
 ],
 "metadata": {
  "colab": {
   "authorship_tag": "ABX9TyOHNHyo6xLlG19rkvHFMkTG",
   "collapsed_sections": [
    "WKvBMlkUNTov"
   ],
   "name": "k_medoids_example.ipynb",
   "provenance": []
  },
  "kernelspec": {
   "display_name": "Python 3",
   "language": "python",
   "name": "python3"
  },
  "language_info": {
   "codemirror_mode": {
    "name": "ipython",
    "version": 3
   },
   "file_extension": ".py",
   "mimetype": "text/x-python",
   "name": "python",
   "nbconvert_exporter": "python",
   "pygments_lexer": "ipython3",
   "version": "3.8.3"
  },
  "toc": {
   "base_numbering": 1,
   "nav_menu": {},
   "number_sections": false,
   "sideBar": true,
   "skip_h1_title": false,
   "title_cell": "Table of Contents",
   "title_sidebar": "Contents",
   "toc_cell": false,
   "toc_position": {
    "height": "calc(100% - 180px)",
    "left": "10px",
    "top": "150px",
    "width": "241px"
   },
   "toc_section_display": true,
   "toc_window_display": true
  }
 },
 "nbformat": 4,
 "nbformat_minor": 1
}
