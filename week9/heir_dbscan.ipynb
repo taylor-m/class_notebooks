{
 "cells": [
  {
   "cell_type": "code",
   "execution_count": 1,
   "metadata": {},
   "outputs": [
    {
     "data": {
      "application/javascript": [
       "\n",
       "            setTimeout(function() {\n",
       "                var nbb_cell_id = 1;\n",
       "                var nbb_unformatted_code = \"%reload_ext nb_black\";\n",
       "                var nbb_formatted_code = \"%reload_ext nb_black\";\n",
       "                var nbb_cells = Jupyter.notebook.get_cells();\n",
       "                for (var i = 0; i < nbb_cells.length; ++i) {\n",
       "                    if (nbb_cells[i].input_prompt_number == nbb_cell_id) {\n",
       "                        if (nbb_cells[i].get_text() == nbb_unformatted_code) {\n",
       "                             nbb_cells[i].set_text(nbb_formatted_code);\n",
       "                        }\n",
       "                        break;\n",
       "                    }\n",
       "                }\n",
       "            }, 500);\n",
       "            "
      ],
      "text/plain": [
       "<IPython.core.display.Javascript object>"
      ]
     },
     "metadata": {},
     "output_type": "display_data"
    }
   ],
   "source": [
    "%reload_ext nb_black"
   ]
  },
  {
   "cell_type": "markdown",
   "metadata": {
    "colab_type": "text",
    "id": "onblHDz_LiO4"
   },
   "source": [
    "# Zillow\n",
    "\n",
    "Data provided by Zillow * Kaggle (see [here](https://www.kaggle.com/pratyushakar/zillow-zestimate#properties_2017.csv))"
   ]
  },
  {
   "cell_type": "code",
   "execution_count": 2,
   "metadata": {
    "colab": {},
    "colab_type": "code",
    "id": "mM4--G_zipCj"
   },
   "outputs": [
    {
     "data": {
      "application/javascript": [
       "\n",
       "            setTimeout(function() {\n",
       "                var nbb_cell_id = 2;\n",
       "                var nbb_unformatted_code = \"data_url = \\\"https://docs.google.com/spreadsheets/d/198EG3tckqzD1uOKSYxAY62i5v_0LIZQMgzaIae6u1vo/export?format=csv\\\"\";\n",
       "                var nbb_formatted_code = \"data_url = \\\"https://docs.google.com/spreadsheets/d/198EG3tckqzD1uOKSYxAY62i5v_0LIZQMgzaIae6u1vo/export?format=csv\\\"\";\n",
       "                var nbb_cells = Jupyter.notebook.get_cells();\n",
       "                for (var i = 0; i < nbb_cells.length; ++i) {\n",
       "                    if (nbb_cells[i].input_prompt_number == nbb_cell_id) {\n",
       "                        if (nbb_cells[i].get_text() == nbb_unformatted_code) {\n",
       "                             nbb_cells[i].set_text(nbb_formatted_code);\n",
       "                        }\n",
       "                        break;\n",
       "                    }\n",
       "                }\n",
       "            }, 500);\n",
       "            "
      ],
      "text/plain": [
       "<IPython.core.display.Javascript object>"
      ]
     },
     "metadata": {},
     "output_type": "display_data"
    }
   ],
   "source": [
    "data_url = \"https://docs.google.com/spreadsheets/d/198EG3tckqzD1uOKSYxAY62i5v_0LIZQMgzaIae6u1vo/export?format=csv\""
   ]
  },
  {
   "cell_type": "markdown",
   "metadata": {
    "colab_type": "text",
    "id": "97m5nEXWir7a"
   },
   "source": [
    "Load all the usual suspects and some new ones including: `AgglomerativeClustering`, `DBSCAN`, `dendrogram`."
   ]
  },
  {
   "cell_type": "code",
   "execution_count": 3,
   "metadata": {
    "colab": {},
    "colab_type": "code",
    "id": "W8FU94m0Jx83"
   },
   "outputs": [
    {
     "data": {
      "application/javascript": [
       "\n",
       "            setTimeout(function() {\n",
       "                var nbb_cell_id = 3;\n",
       "                var nbb_unformatted_code = \"import numpy as np\\nimport pandas as pd\\n\\nfrom sklearn.preprocessing import StandardScaler\\nfrom sklearn.cluster import AgglomerativeClustering, DBSCAN\\n\\nfrom scipy.cluster.hierarchy import dendrogram\\nfrom scipy.spatial.distance import pdist, squareform\\n\\nimport matplotlib.pyplot as plt\\n\\n%matplotlib inline\";\n",
       "                var nbb_formatted_code = \"import numpy as np\\nimport pandas as pd\\n\\nfrom sklearn.preprocessing import StandardScaler\\nfrom sklearn.cluster import AgglomerativeClustering, DBSCAN\\n\\nfrom scipy.cluster.hierarchy import dendrogram\\nfrom scipy.spatial.distance import pdist, squareform\\n\\nimport matplotlib.pyplot as plt\\n\\n%matplotlib inline\";\n",
       "                var nbb_cells = Jupyter.notebook.get_cells();\n",
       "                for (var i = 0; i < nbb_cells.length; ++i) {\n",
       "                    if (nbb_cells[i].input_prompt_number == nbb_cell_id) {\n",
       "                        if (nbb_cells[i].get_text() == nbb_unformatted_code) {\n",
       "                             nbb_cells[i].set_text(nbb_formatted_code);\n",
       "                        }\n",
       "                        break;\n",
       "                    }\n",
       "                }\n",
       "            }, 500);\n",
       "            "
      ],
      "text/plain": [
       "<IPython.core.display.Javascript object>"
      ]
     },
     "metadata": {},
     "output_type": "display_data"
    }
   ],
   "source": [
    "import numpy as np\n",
    "import pandas as pd\n",
    "\n",
    "from sklearn.preprocessing import StandardScaler\n",
    "from sklearn.cluster import AgglomerativeClustering, DBSCAN\n",
    "\n",
    "from scipy.cluster.hierarchy import dendrogram\n",
    "from scipy.spatial.distance import pdist, squareform\n",
    "\n",
    "import matplotlib.pyplot as plt\n",
    "\n",
    "%matplotlib inline"
   ]
  },
  {
   "cell_type": "markdown",
   "metadata": {
    "colab_type": "text",
    "id": "58b310hxikJF"
   },
   "source": [
    "Function that will also be used in your exercise to produce a dendrogram from our `AgglomerativeClustering` object."
   ]
  },
  {
   "cell_type": "code",
   "execution_count": 4,
   "metadata": {
    "colab": {},
    "colab_type": "code",
    "id": "Ky5AfTm0ijeN"
   },
   "outputs": [
    {
     "data": {
      "application/javascript": [
       "\n",
       "            setTimeout(function() {\n",
       "                var nbb_cell_id = 4;\n",
       "                var nbb_unformatted_code = \"def plot_dendrogram(model, **kwargs):\\n    \\\"\\\"\\\"\\n    A function for plotting a dendrogram. Sourced from the following link:\\n    https://github.com/scikit-learn/scikit-learn/blob/70cf4a676caa2d2dad2e3f6e4478d64bcb0506f7/examples/cluster/plot_hierarchical_clustering_dendrogram.py\\n\\n    Parameters:\\n        model (object of class sklearn.cluster.hierarchical.AgglomerativeClustering): a fitted scikit-learn hierarchical clustering model.\\n\\n    Output: a dendrogram based on the model based in the parameters.\\n\\n    Returns: None\\n    \\\"\\\"\\\"\\n    # Children of hierarchical clustering\\n    children = model.children_\\n\\n    # Distances between each pair of children\\n    # Since we don't have this information, we can use a uniform one for plotting\\n    distance = np.arange(children.shape[0])\\n\\n    # The number of observations contained in each cluster level\\n    no_of_observations = np.arange(2, children.shape[0] + 2)\\n\\n    # Create linkage matrix and then plot the dendrogram\\n    linkage_matrix = np.column_stack([children, distance, no_of_observations]).astype(\\n        float\\n    )\\n\\n    # Plot the corresponding dendrogram\\n    dendrogram(linkage_matrix, **kwargs)\";\n",
       "                var nbb_formatted_code = \"def plot_dendrogram(model, **kwargs):\\n    \\\"\\\"\\\"\\n    A function for plotting a dendrogram. Sourced from the following link:\\n    https://github.com/scikit-learn/scikit-learn/blob/70cf4a676caa2d2dad2e3f6e4478d64bcb0506f7/examples/cluster/plot_hierarchical_clustering_dendrogram.py\\n\\n    Parameters:\\n        model (object of class sklearn.cluster.hierarchical.AgglomerativeClustering): a fitted scikit-learn hierarchical clustering model.\\n\\n    Output: a dendrogram based on the model based in the parameters.\\n\\n    Returns: None\\n    \\\"\\\"\\\"\\n    # Children of hierarchical clustering\\n    children = model.children_\\n\\n    # Distances between each pair of children\\n    # Since we don't have this information, we can use a uniform one for plotting\\n    distance = np.arange(children.shape[0])\\n\\n    # The number of observations contained in each cluster level\\n    no_of_observations = np.arange(2, children.shape[0] + 2)\\n\\n    # Create linkage matrix and then plot the dendrogram\\n    linkage_matrix = np.column_stack([children, distance, no_of_observations]).astype(\\n        float\\n    )\\n\\n    # Plot the corresponding dendrogram\\n    dendrogram(linkage_matrix, **kwargs)\";\n",
       "                var nbb_cells = Jupyter.notebook.get_cells();\n",
       "                for (var i = 0; i < nbb_cells.length; ++i) {\n",
       "                    if (nbb_cells[i].input_prompt_number == nbb_cell_id) {\n",
       "                        if (nbb_cells[i].get_text() == nbb_unformatted_code) {\n",
       "                             nbb_cells[i].set_text(nbb_formatted_code);\n",
       "                        }\n",
       "                        break;\n",
       "                    }\n",
       "                }\n",
       "            }, 500);\n",
       "            "
      ],
      "text/plain": [
       "<IPython.core.display.Javascript object>"
      ]
     },
     "metadata": {},
     "output_type": "display_data"
    }
   ],
   "source": [
    "def plot_dendrogram(model, **kwargs):\n",
    "    \"\"\"\n",
    "    A function for plotting a dendrogram. Sourced from the following link:\n",
    "    https://github.com/scikit-learn/scikit-learn/blob/70cf4a676caa2d2dad2e3f6e4478d64bcb0506f7/examples/cluster/plot_hierarchical_clustering_dendrogram.py\n",
    "\n",
    "    Parameters:\n",
    "        model (object of class sklearn.cluster.hierarchical.AgglomerativeClustering): a fitted scikit-learn hierarchical clustering model.\n",
    "\n",
    "    Output: a dendrogram based on the model based in the parameters.\n",
    "\n",
    "    Returns: None\n",
    "    \"\"\"\n",
    "    # Children of hierarchical clustering\n",
    "    children = model.children_\n",
    "\n",
    "    # Distances between each pair of children\n",
    "    # Since we don't have this information, we can use a uniform one for plotting\n",
    "    distance = np.arange(children.shape[0])\n",
    "\n",
    "    # The number of observations contained in each cluster level\n",
    "    no_of_observations = np.arange(2, children.shape[0] + 2)\n",
    "\n",
    "    # Create linkage matrix and then plot the dendrogram\n",
    "    linkage_matrix = np.column_stack([children, distance, no_of_observations]).astype(\n",
    "        float\n",
    "    )\n",
    "\n",
    "    # Plot the corresponding dendrogram\n",
    "    dendrogram(linkage_matrix, **kwargs)"
   ]
  },
  {
   "cell_type": "markdown",
   "metadata": {
    "colab_type": "text",
    "id": "bphdy-BGjAwi"
   },
   "source": [
    "Read data and do some inspection & cleaning."
   ]
  },
  {
   "cell_type": "code",
   "execution_count": 5,
   "metadata": {
    "colab": {
     "base_uri": "https://localhost:8080/",
     "height": 224
    },
    "colab_type": "code",
    "id": "kxGpm68dLxuX",
    "outputId": "d4a04517-b481-44ca-906e-c415bfa48845"
   },
   "outputs": [
    {
     "data": {
      "text/html": [
       "<div>\n",
       "<style scoped>\n",
       "    .dataframe tbody tr th:only-of-type {\n",
       "        vertical-align: middle;\n",
       "    }\n",
       "\n",
       "    .dataframe tbody tr th {\n",
       "        vertical-align: top;\n",
       "    }\n",
       "\n",
       "    .dataframe thead th {\n",
       "        text-align: right;\n",
       "    }\n",
       "</style>\n",
       "<table border=\"1\" class=\"dataframe\">\n",
       "  <thead>\n",
       "    <tr style=\"text-align: right;\">\n",
       "      <th></th>\n",
       "      <th>parcelid</th>\n",
       "      <th>airconditioningtypeid</th>\n",
       "      <th>architecturalstyletypeid</th>\n",
       "      <th>basementsqft</th>\n",
       "      <th>bathroomcnt</th>\n",
       "      <th>bedroomcnt</th>\n",
       "      <th>buildingclasstypeid</th>\n",
       "      <th>buildingqualitytypeid</th>\n",
       "      <th>calculatedbathnbr</th>\n",
       "      <th>decktypeid</th>\n",
       "      <th>...</th>\n",
       "      <th>numberofstories</th>\n",
       "      <th>fireplaceflag</th>\n",
       "      <th>structuretaxvaluedollarcnt</th>\n",
       "      <th>taxvaluedollarcnt</th>\n",
       "      <th>assessmentyear</th>\n",
       "      <th>landtaxvaluedollarcnt</th>\n",
       "      <th>taxamount</th>\n",
       "      <th>taxdelinquencyflag</th>\n",
       "      <th>taxdelinquencyyear</th>\n",
       "      <th>censustractandblock</th>\n",
       "    </tr>\n",
       "  </thead>\n",
       "  <tbody>\n",
       "    <tr>\n",
       "      <th>0</th>\n",
       "      <td>17291058</td>\n",
       "      <td>NaN</td>\n",
       "      <td>NaN</td>\n",
       "      <td>8516.0</td>\n",
       "      <td>9.5</td>\n",
       "      <td>6</td>\n",
       "      <td>NaN</td>\n",
       "      <td>NaN</td>\n",
       "      <td>9.5</td>\n",
       "      <td>66.0</td>\n",
       "      <td>...</td>\n",
       "      <td>2.0</td>\n",
       "      <td>NaN</td>\n",
       "      <td>12956457</td>\n",
       "      <td>26879210</td>\n",
       "      <td>2016</td>\n",
       "      <td>13922753</td>\n",
       "      <td>283062.46</td>\n",
       "      <td>NaN</td>\n",
       "      <td>NaN</td>\n",
       "      <td>6.111007e+13</td>\n",
       "    </tr>\n",
       "    <tr>\n",
       "      <th>1</th>\n",
       "      <td>17214945</td>\n",
       "      <td>NaN</td>\n",
       "      <td>NaN</td>\n",
       "      <td>296.0</td>\n",
       "      <td>2.5</td>\n",
       "      <td>3</td>\n",
       "      <td>NaN</td>\n",
       "      <td>NaN</td>\n",
       "      <td>2.5</td>\n",
       "      <td>66.0</td>\n",
       "      <td>...</td>\n",
       "      <td>2.0</td>\n",
       "      <td>NaN</td>\n",
       "      <td>321000</td>\n",
       "      <td>1074000</td>\n",
       "      <td>2016</td>\n",
       "      <td>753000</td>\n",
       "      <td>11525.74</td>\n",
       "      <td>NaN</td>\n",
       "      <td>NaN</td>\n",
       "      <td>6.111005e+13</td>\n",
       "    </tr>\n",
       "    <tr>\n",
       "      <th>2</th>\n",
       "      <td>17060678</td>\n",
       "      <td>NaN</td>\n",
       "      <td>NaN</td>\n",
       "      <td>1146.0</td>\n",
       "      <td>6.5</td>\n",
       "      <td>4</td>\n",
       "      <td>NaN</td>\n",
       "      <td>NaN</td>\n",
       "      <td>6.5</td>\n",
       "      <td>66.0</td>\n",
       "      <td>...</td>\n",
       "      <td>2.0</td>\n",
       "      <td>NaN</td>\n",
       "      <td>1804157</td>\n",
       "      <td>2275709</td>\n",
       "      <td>2016</td>\n",
       "      <td>471552</td>\n",
       "      <td>24503.28</td>\n",
       "      <td>NaN</td>\n",
       "      <td>NaN</td>\n",
       "      <td>6.111001e+13</td>\n",
       "    </tr>\n",
       "    <tr>\n",
       "      <th>3</th>\n",
       "      <td>17284901</td>\n",
       "      <td>NaN</td>\n",
       "      <td>NaN</td>\n",
       "      <td>2322.0</td>\n",
       "      <td>1.5</td>\n",
       "      <td>6</td>\n",
       "      <td>NaN</td>\n",
       "      <td>NaN</td>\n",
       "      <td>1.5</td>\n",
       "      <td>66.0</td>\n",
       "      <td>...</td>\n",
       "      <td>3.0</td>\n",
       "      <td>NaN</td>\n",
       "      <td>4481348</td>\n",
       "      <td>7138171</td>\n",
       "      <td>2016</td>\n",
       "      <td>2656823</td>\n",
       "      <td>75722.34</td>\n",
       "      <td>NaN</td>\n",
       "      <td>NaN</td>\n",
       "      <td>6.111007e+13</td>\n",
       "    </tr>\n",
       "    <tr>\n",
       "      <th>4</th>\n",
       "      <td>17277746</td>\n",
       "      <td>NaN</td>\n",
       "      <td>NaN</td>\n",
       "      <td>182.0</td>\n",
       "      <td>3.5</td>\n",
       "      <td>4</td>\n",
       "      <td>NaN</td>\n",
       "      <td>NaN</td>\n",
       "      <td>3.5</td>\n",
       "      <td>66.0</td>\n",
       "      <td>...</td>\n",
       "      <td>2.0</td>\n",
       "      <td>NaN</td>\n",
       "      <td>254934</td>\n",
       "      <td>420023</td>\n",
       "      <td>2016</td>\n",
       "      <td>165089</td>\n",
       "      <td>4427.28</td>\n",
       "      <td>NaN</td>\n",
       "      <td>NaN</td>\n",
       "      <td>6.111006e+13</td>\n",
       "    </tr>\n",
       "  </tbody>\n",
       "</table>\n",
       "<p>5 rows × 58 columns</p>\n",
       "</div>"
      ],
      "text/plain": [
       "   parcelid  airconditioningtypeid  architecturalstyletypeid  basementsqft  \\\n",
       "0  17291058                    NaN                       NaN        8516.0   \n",
       "1  17214945                    NaN                       NaN         296.0   \n",
       "2  17060678                    NaN                       NaN        1146.0   \n",
       "3  17284901                    NaN                       NaN        2322.0   \n",
       "4  17277746                    NaN                       NaN         182.0   \n",
       "\n",
       "   bathroomcnt  bedroomcnt  buildingclasstypeid  buildingqualitytypeid  \\\n",
       "0          9.5           6                  NaN                    NaN   \n",
       "1          2.5           3                  NaN                    NaN   \n",
       "2          6.5           4                  NaN                    NaN   \n",
       "3          1.5           6                  NaN                    NaN   \n",
       "4          3.5           4                  NaN                    NaN   \n",
       "\n",
       "   calculatedbathnbr  decktypeid  ...  numberofstories  fireplaceflag  \\\n",
       "0                9.5        66.0  ...              2.0            NaN   \n",
       "1                2.5        66.0  ...              2.0            NaN   \n",
       "2                6.5        66.0  ...              2.0            NaN   \n",
       "3                1.5        66.0  ...              3.0            NaN   \n",
       "4                3.5        66.0  ...              2.0            NaN   \n",
       "\n",
       "   structuretaxvaluedollarcnt  taxvaluedollarcnt  assessmentyear  \\\n",
       "0                    12956457           26879210            2016   \n",
       "1                      321000            1074000            2016   \n",
       "2                     1804157            2275709            2016   \n",
       "3                     4481348            7138171            2016   \n",
       "4                      254934             420023            2016   \n",
       "\n",
       "   landtaxvaluedollarcnt  taxamount  taxdelinquencyflag  taxdelinquencyyear  \\\n",
       "0               13922753  283062.46                 NaN                 NaN   \n",
       "1                 753000   11525.74                 NaN                 NaN   \n",
       "2                 471552   24503.28                 NaN                 NaN   \n",
       "3                2656823   75722.34                 NaN                 NaN   \n",
       "4                 165089    4427.28                 NaN                 NaN   \n",
       "\n",
       "   censustractandblock  \n",
       "0         6.111007e+13  \n",
       "1         6.111005e+13  \n",
       "2         6.111001e+13  \n",
       "3         6.111007e+13  \n",
       "4         6.111006e+13  \n",
       "\n",
       "[5 rows x 58 columns]"
      ]
     },
     "execution_count": 5,
     "metadata": {},
     "output_type": "execute_result"
    },
    {
     "data": {
      "application/javascript": [
       "\n",
       "            setTimeout(function() {\n",
       "                var nbb_cell_id = 5;\n",
       "                var nbb_unformatted_code = \"zillow = pd.read_csv(data_url)\\nzillow.head()\";\n",
       "                var nbb_formatted_code = \"zillow = pd.read_csv(data_url)\\nzillow.head()\";\n",
       "                var nbb_cells = Jupyter.notebook.get_cells();\n",
       "                for (var i = 0; i < nbb_cells.length; ++i) {\n",
       "                    if (nbb_cells[i].input_prompt_number == nbb_cell_id) {\n",
       "                        if (nbb_cells[i].get_text() == nbb_unformatted_code) {\n",
       "                             nbb_cells[i].set_text(nbb_formatted_code);\n",
       "                        }\n",
       "                        break;\n",
       "                    }\n",
       "                }\n",
       "            }, 500);\n",
       "            "
      ],
      "text/plain": [
       "<IPython.core.display.Javascript object>"
      ]
     },
     "metadata": {},
     "output_type": "display_data"
    }
   ],
   "source": [
    "zillow = pd.read_csv(data_url)\n",
    "zillow.head()"
   ]
  },
  {
   "cell_type": "markdown",
   "metadata": {
    "colab_type": "text",
    "id": "ibTTfwWEjGPW"
   },
   "source": [
    "Drop columns that have more than 20% of their values missing.  How many columns does this remove?"
   ]
  },
  {
   "cell_type": "code",
   "execution_count": 6,
   "metadata": {},
   "outputs": [
    {
     "data": {
      "application/javascript": [
       "\n",
       "            setTimeout(function() {\n",
       "                var nbb_cell_id = 6;\n",
       "                var nbb_unformatted_code = \"perc_missing = zillow.isna().mean()\\nhi_missing = perc_missing[perc_missing > 0.2]\\n\\n# uncomment to see values/names\\n# display(hi_missing.sort_values(ascending=False))\\n\\ndrop_cols = hi_missing.index\\nzillow = zillow.drop(columns=drop_cols)\";\n",
       "                var nbb_formatted_code = \"perc_missing = zillow.isna().mean()\\nhi_missing = perc_missing[perc_missing > 0.2]\\n\\n# uncomment to see values/names\\n# display(hi_missing.sort_values(ascending=False))\\n\\ndrop_cols = hi_missing.index\\nzillow = zillow.drop(columns=drop_cols)\";\n",
       "                var nbb_cells = Jupyter.notebook.get_cells();\n",
       "                for (var i = 0; i < nbb_cells.length; ++i) {\n",
       "                    if (nbb_cells[i].input_prompt_number == nbb_cell_id) {\n",
       "                        if (nbb_cells[i].get_text() == nbb_unformatted_code) {\n",
       "                             nbb_cells[i].set_text(nbb_formatted_code);\n",
       "                        }\n",
       "                        break;\n",
       "                    }\n",
       "                }\n",
       "            }, 500);\n",
       "            "
      ],
      "text/plain": [
       "<IPython.core.display.Javascript object>"
      ]
     },
     "metadata": {},
     "output_type": "display_data"
    }
   ],
   "source": [
    "perc_missing = zillow.isna().mean()\n",
    "hi_missing = perc_missing[perc_missing > 0.2]\n",
    "\n",
    "# uncomment to see values/names\n",
    "# display(hi_missing.sort_values(ascending=False))\n",
    "\n",
    "drop_cols = hi_missing.index\n",
    "zillow = zillow.drop(columns=drop_cols)"
   ]
  },
  {
   "cell_type": "markdown",
   "metadata": {},
   "source": [
    "Drop all NAs from the dataframe.  How many rows does this remove?"
   ]
  },
  {
   "cell_type": "code",
   "execution_count": 7,
   "metadata": {},
   "outputs": [
    {
     "data": {
      "text/plain": [
       "(15000, 34)"
      ]
     },
     "execution_count": 7,
     "metadata": {},
     "output_type": "execute_result"
    },
    {
     "data": {
      "application/javascript": [
       "\n",
       "            setTimeout(function() {\n",
       "                var nbb_cell_id = 7;\n",
       "                var nbb_unformatted_code = \"zillow.shape\";\n",
       "                var nbb_formatted_code = \"zillow.shape\";\n",
       "                var nbb_cells = Jupyter.notebook.get_cells();\n",
       "                for (var i = 0; i < nbb_cells.length; ++i) {\n",
       "                    if (nbb_cells[i].input_prompt_number == nbb_cell_id) {\n",
       "                        if (nbb_cells[i].get_text() == nbb_unformatted_code) {\n",
       "                             nbb_cells[i].set_text(nbb_formatted_code);\n",
       "                        }\n",
       "                        break;\n",
       "                    }\n",
       "                }\n",
       "            }, 500);\n",
       "            "
      ],
      "text/plain": [
       "<IPython.core.display.Javascript object>"
      ]
     },
     "metadata": {},
     "output_type": "display_data"
    }
   ],
   "source": [
    "zillow.shape"
   ]
  },
  {
   "cell_type": "code",
   "execution_count": 8,
   "metadata": {},
   "outputs": [
    {
     "data": {
      "application/javascript": [
       "\n",
       "            setTimeout(function() {\n",
       "                var nbb_cell_id = 8;\n",
       "                var nbb_unformatted_code = \"zillow = zillow.dropna()\";\n",
       "                var nbb_formatted_code = \"zillow = zillow.dropna()\";\n",
       "                var nbb_cells = Jupyter.notebook.get_cells();\n",
       "                for (var i = 0; i < nbb_cells.length; ++i) {\n",
       "                    if (nbb_cells[i].input_prompt_number == nbb_cell_id) {\n",
       "                        if (nbb_cells[i].get_text() == nbb_unformatted_code) {\n",
       "                             nbb_cells[i].set_text(nbb_formatted_code);\n",
       "                        }\n",
       "                        break;\n",
       "                    }\n",
       "                }\n",
       "            }, 500);\n",
       "            "
      ],
      "text/plain": [
       "<IPython.core.display.Javascript object>"
      ]
     },
     "metadata": {},
     "output_type": "display_data"
    }
   ],
   "source": [
    "zillow = zillow.dropna()"
   ]
  },
  {
   "cell_type": "code",
   "execution_count": 9,
   "metadata": {},
   "outputs": [
    {
     "data": {
      "text/plain": [
       "(12425, 34)"
      ]
     },
     "execution_count": 9,
     "metadata": {},
     "output_type": "execute_result"
    },
    {
     "data": {
      "application/javascript": [
       "\n",
       "            setTimeout(function() {\n",
       "                var nbb_cell_id = 9;\n",
       "                var nbb_unformatted_code = \"zillow.shape\";\n",
       "                var nbb_formatted_code = \"zillow.shape\";\n",
       "                var nbb_cells = Jupyter.notebook.get_cells();\n",
       "                for (var i = 0; i < nbb_cells.length; ++i) {\n",
       "                    if (nbb_cells[i].input_prompt_number == nbb_cell_id) {\n",
       "                        if (nbb_cells[i].get_text() == nbb_unformatted_code) {\n",
       "                             nbb_cells[i].set_text(nbb_formatted_code);\n",
       "                        }\n",
       "                        break;\n",
       "                    }\n",
       "                }\n",
       "            }, 500);\n",
       "            "
      ],
      "text/plain": [
       "<IPython.core.display.Javascript object>"
      ]
     },
     "metadata": {},
     "output_type": "display_data"
    }
   ],
   "source": [
    "zillow.shape"
   ]
  },
  {
   "cell_type": "markdown",
   "metadata": {
    "colab_type": "text",
    "id": "YYPhn06mjhR6"
   },
   "source": [
    "For the sake of time & plotting, downsample to 100 random records in the `zillow` dataframe.  Use a random seed of `42` to obtain consistent results."
   ]
  },
  {
   "cell_type": "code",
   "execution_count": 10,
   "metadata": {
    "colab": {},
    "colab_type": "code",
    "id": "tZLSy9UkL7nB"
   },
   "outputs": [
    {
     "data": {
      "text/html": [
       "<div>\n",
       "<style scoped>\n",
       "    .dataframe tbody tr th:only-of-type {\n",
       "        vertical-align: middle;\n",
       "    }\n",
       "\n",
       "    .dataframe tbody tr th {\n",
       "        vertical-align: top;\n",
       "    }\n",
       "\n",
       "    .dataframe thead th {\n",
       "        text-align: right;\n",
       "    }\n",
       "</style>\n",
       "<table border=\"1\" class=\"dataframe\">\n",
       "  <thead>\n",
       "    <tr style=\"text-align: right;\">\n",
       "      <th></th>\n",
       "      <th>parcelid</th>\n",
       "      <th>bathroomcnt</th>\n",
       "      <th>bedroomcnt</th>\n",
       "      <th>calculatedbathnbr</th>\n",
       "      <th>finishedfloor1squarefeet</th>\n",
       "      <th>calculatedfinishedsquarefeet</th>\n",
       "      <th>finishedsquarefeet12</th>\n",
       "      <th>finishedsquarefeet50</th>\n",
       "      <th>fips</th>\n",
       "      <th>fireplacecnt</th>\n",
       "      <th>...</th>\n",
       "      <th>regionidzip</th>\n",
       "      <th>roomcnt</th>\n",
       "      <th>yearbuilt</th>\n",
       "      <th>numberofstories</th>\n",
       "      <th>structuretaxvaluedollarcnt</th>\n",
       "      <th>taxvaluedollarcnt</th>\n",
       "      <th>assessmentyear</th>\n",
       "      <th>landtaxvaluedollarcnt</th>\n",
       "      <th>taxamount</th>\n",
       "      <th>censustractandblock</th>\n",
       "    </tr>\n",
       "  </thead>\n",
       "  <tbody>\n",
       "    <tr>\n",
       "      <th>11325</th>\n",
       "      <td>17125395</td>\n",
       "      <td>4.0</td>\n",
       "      <td>5</td>\n",
       "      <td>4.0</td>\n",
       "      <td>1806.0</td>\n",
       "      <td>3705</td>\n",
       "      <td>3705.0</td>\n",
       "      <td>1806.0</td>\n",
       "      <td>6111</td>\n",
       "      <td>2.0</td>\n",
       "      <td>...</td>\n",
       "      <td>97089</td>\n",
       "      <td>10</td>\n",
       "      <td>2001.0</td>\n",
       "      <td>2.0</td>\n",
       "      <td>458000</td>\n",
       "      <td>1316000</td>\n",
       "      <td>2016</td>\n",
       "      <td>858000</td>\n",
       "      <td>15108.92</td>\n",
       "      <td>6.111005e+13</td>\n",
       "    </tr>\n",
       "    <tr>\n",
       "      <th>1766</th>\n",
       "      <td>17270065</td>\n",
       "      <td>3.0</td>\n",
       "      <td>5</td>\n",
       "      <td>3.0</td>\n",
       "      <td>2216.0</td>\n",
       "      <td>3642</td>\n",
       "      <td>3642.0</td>\n",
       "      <td>2216.0</td>\n",
       "      <td>6111</td>\n",
       "      <td>2.0</td>\n",
       "      <td>...</td>\n",
       "      <td>96351</td>\n",
       "      <td>10</td>\n",
       "      <td>1998.0</td>\n",
       "      <td>2.0</td>\n",
       "      <td>456219</td>\n",
       "      <td>726215</td>\n",
       "      <td>2016</td>\n",
       "      <td>269996</td>\n",
       "      <td>8078.32</td>\n",
       "      <td>6.111006e+13</td>\n",
       "    </tr>\n",
       "    <tr>\n",
       "      <th>14591</th>\n",
       "      <td>17222882</td>\n",
       "      <td>3.0</td>\n",
       "      <td>3</td>\n",
       "      <td>3.0</td>\n",
       "      <td>1565.0</td>\n",
       "      <td>2779</td>\n",
       "      <td>2779.0</td>\n",
       "      <td>1565.0</td>\n",
       "      <td>6111</td>\n",
       "      <td>2.0</td>\n",
       "      <td>...</td>\n",
       "      <td>97118</td>\n",
       "      <td>8</td>\n",
       "      <td>1988.0</td>\n",
       "      <td>2.0</td>\n",
       "      <td>324392</td>\n",
       "      <td>648784</td>\n",
       "      <td>2016</td>\n",
       "      <td>324392</td>\n",
       "      <td>7340.82</td>\n",
       "      <td>6.111008e+13</td>\n",
       "    </tr>\n",
       "    <tr>\n",
       "      <th>14939</th>\n",
       "      <td>17300793</td>\n",
       "      <td>3.0</td>\n",
       "      <td>3</td>\n",
       "      <td>3.0</td>\n",
       "      <td>1524.0</td>\n",
       "      <td>2902</td>\n",
       "      <td>2902.0</td>\n",
       "      <td>1524.0</td>\n",
       "      <td>6111</td>\n",
       "      <td>2.0</td>\n",
       "      <td>...</td>\n",
       "      <td>96342</td>\n",
       "      <td>7</td>\n",
       "      <td>1977.0</td>\n",
       "      <td>2.0</td>\n",
       "      <td>469425</td>\n",
       "      <td>1024253</td>\n",
       "      <td>2016</td>\n",
       "      <td>554828</td>\n",
       "      <td>11795.98</td>\n",
       "      <td>6.111008e+13</td>\n",
       "    </tr>\n",
       "    <tr>\n",
       "      <th>12049</th>\n",
       "      <td>17240329</td>\n",
       "      <td>3.0</td>\n",
       "      <td>4</td>\n",
       "      <td>3.0</td>\n",
       "      <td>1453.0</td>\n",
       "      <td>2295</td>\n",
       "      <td>2295.0</td>\n",
       "      <td>1453.0</td>\n",
       "      <td>6111</td>\n",
       "      <td>2.0</td>\n",
       "      <td>...</td>\n",
       "      <td>97116</td>\n",
       "      <td>8</td>\n",
       "      <td>1979.0</td>\n",
       "      <td>2.0</td>\n",
       "      <td>228144</td>\n",
       "      <td>380236</td>\n",
       "      <td>2016</td>\n",
       "      <td>152092</td>\n",
       "      <td>4799.22</td>\n",
       "      <td>6.111008e+13</td>\n",
       "    </tr>\n",
       "  </tbody>\n",
       "</table>\n",
       "<p>5 rows × 34 columns</p>\n",
       "</div>"
      ],
      "text/plain": [
       "       parcelid  bathroomcnt  bedroomcnt  calculatedbathnbr  \\\n",
       "11325  17125395          4.0           5                4.0   \n",
       "1766   17270065          3.0           5                3.0   \n",
       "14591  17222882          3.0           3                3.0   \n",
       "14939  17300793          3.0           3                3.0   \n",
       "12049  17240329          3.0           4                3.0   \n",
       "\n",
       "       finishedfloor1squarefeet  calculatedfinishedsquarefeet  \\\n",
       "11325                    1806.0                          3705   \n",
       "1766                     2216.0                          3642   \n",
       "14591                    1565.0                          2779   \n",
       "14939                    1524.0                          2902   \n",
       "12049                    1453.0                          2295   \n",
       "\n",
       "       finishedsquarefeet12  finishedsquarefeet50  fips  fireplacecnt  ...  \\\n",
       "11325                3705.0                1806.0  6111           2.0  ...   \n",
       "1766                 3642.0                2216.0  6111           2.0  ...   \n",
       "14591                2779.0                1565.0  6111           2.0  ...   \n",
       "14939                2902.0                1524.0  6111           2.0  ...   \n",
       "12049                2295.0                1453.0  6111           2.0  ...   \n",
       "\n",
       "       regionidzip  roomcnt  yearbuilt  numberofstories  \\\n",
       "11325        97089       10     2001.0              2.0   \n",
       "1766         96351       10     1998.0              2.0   \n",
       "14591        97118        8     1988.0              2.0   \n",
       "14939        96342        7     1977.0              2.0   \n",
       "12049        97116        8     1979.0              2.0   \n",
       "\n",
       "       structuretaxvaluedollarcnt  taxvaluedollarcnt  assessmentyear  \\\n",
       "11325                      458000            1316000            2016   \n",
       "1766                       456219             726215            2016   \n",
       "14591                      324392             648784            2016   \n",
       "14939                      469425            1024253            2016   \n",
       "12049                      228144             380236            2016   \n",
       "\n",
       "       landtaxvaluedollarcnt  taxamount censustractandblock  \n",
       "11325                 858000   15108.92        6.111005e+13  \n",
       "1766                  269996    8078.32        6.111006e+13  \n",
       "14591                 324392    7340.82        6.111008e+13  \n",
       "14939                 554828   11795.98        6.111008e+13  \n",
       "12049                 152092    4799.22        6.111008e+13  \n",
       "\n",
       "[5 rows x 34 columns]"
      ]
     },
     "execution_count": 10,
     "metadata": {},
     "output_type": "execute_result"
    },
    {
     "data": {
      "application/javascript": [
       "\n",
       "            setTimeout(function() {\n",
       "                var nbb_cell_id = 10;\n",
       "                var nbb_unformatted_code = \"# If we calc a distance matrix it will be 12425 * 12425 (154,380,625) elements large\\n# Let's down sample to have a quicker demo and a prettier dendrogram to look at\\nzillow = zillow.sample(100, random_state=42)\\nzillow.shape\\n\\nzillow.head()\";\n",
       "                var nbb_formatted_code = \"# If we calc a distance matrix it will be 12425 * 12425 (154,380,625) elements large\\n# Let's down sample to have a quicker demo and a prettier dendrogram to look at\\nzillow = zillow.sample(100, random_state=42)\\nzillow.shape\\n\\nzillow.head()\";\n",
       "                var nbb_cells = Jupyter.notebook.get_cells();\n",
       "                for (var i = 0; i < nbb_cells.length; ++i) {\n",
       "                    if (nbb_cells[i].input_prompt_number == nbb_cell_id) {\n",
       "                        if (nbb_cells[i].get_text() == nbb_unformatted_code) {\n",
       "                             nbb_cells[i].set_text(nbb_formatted_code);\n",
       "                        }\n",
       "                        break;\n",
       "                    }\n",
       "                }\n",
       "            }, 500);\n",
       "            "
      ],
      "text/plain": [
       "<IPython.core.display.Javascript object>"
      ]
     },
     "metadata": {},
     "output_type": "display_data"
    }
   ],
   "source": [
    "# If we calc a distance matrix it will be 12425 * 12425 (154,380,625) elements large\n",
    "# Let's down sample to have a quicker demo and a prettier dendrogram to look at\n",
    "zillow = zillow.sample(100, random_state=42)\n",
    "zillow.shape\n",
    "\n",
    "zillow.head()"
   ]
  },
  {
   "cell_type": "markdown",
   "metadata": {
    "colab_type": "text",
    "id": "siio9UX5j7Z-"
   },
   "source": [
    "Dropping a lot of columns based on being ID, having 0 variance, or being collinear (based on my understanding... rather than analysis... might be wrong)."
   ]
  },
  {
   "cell_type": "code",
   "execution_count": 11,
   "metadata": {
    "colab": {
     "base_uri": "https://localhost:8080/",
     "height": 224
    },
    "colab_type": "code",
    "id": "tNnwfPxSj5ih",
    "outputId": "22d9b902-d7f7-46be-ccab-87775b4e820f"
   },
   "outputs": [
    {
     "data": {
      "text/html": [
       "<div>\n",
       "<style scoped>\n",
       "    .dataframe tbody tr th:only-of-type {\n",
       "        vertical-align: middle;\n",
       "    }\n",
       "\n",
       "    .dataframe tbody tr th {\n",
       "        vertical-align: top;\n",
       "    }\n",
       "\n",
       "    .dataframe thead th {\n",
       "        text-align: right;\n",
       "    }\n",
       "</style>\n",
       "<table border=\"1\" class=\"dataframe\">\n",
       "  <thead>\n",
       "    <tr style=\"text-align: right;\">\n",
       "      <th></th>\n",
       "      <th>bathroomcnt</th>\n",
       "      <th>bedroomcnt</th>\n",
       "      <th>calculatedfinishedsquarefeet</th>\n",
       "      <th>fireplacecnt</th>\n",
       "      <th>fullbathcnt</th>\n",
       "      <th>garagecarcnt</th>\n",
       "      <th>garagetotalsqft</th>\n",
       "      <th>lotsizesquarefeet</th>\n",
       "      <th>poolsizesum</th>\n",
       "      <th>roomcnt</th>\n",
       "      <th>yearbuilt</th>\n",
       "      <th>numberofstories</th>\n",
       "      <th>taxamount</th>\n",
       "    </tr>\n",
       "  </thead>\n",
       "  <tbody>\n",
       "    <tr>\n",
       "      <th>11325</th>\n",
       "      <td>4.0</td>\n",
       "      <td>5</td>\n",
       "      <td>3705</td>\n",
       "      <td>2.0</td>\n",
       "      <td>4.0</td>\n",
       "      <td>4.0</td>\n",
       "      <td>948.0</td>\n",
       "      <td>59349.0</td>\n",
       "      <td>684.0</td>\n",
       "      <td>10</td>\n",
       "      <td>2001.0</td>\n",
       "      <td>2.0</td>\n",
       "      <td>15108.92</td>\n",
       "    </tr>\n",
       "    <tr>\n",
       "      <th>1766</th>\n",
       "      <td>3.0</td>\n",
       "      <td>5</td>\n",
       "      <td>3642</td>\n",
       "      <td>2.0</td>\n",
       "      <td>3.0</td>\n",
       "      <td>2.0</td>\n",
       "      <td>471.0</td>\n",
       "      <td>7720.0</td>\n",
       "      <td>640.0</td>\n",
       "      <td>10</td>\n",
       "      <td>1998.0</td>\n",
       "      <td>2.0</td>\n",
       "      <td>8078.32</td>\n",
       "    </tr>\n",
       "    <tr>\n",
       "      <th>14591</th>\n",
       "      <td>3.0</td>\n",
       "      <td>3</td>\n",
       "      <td>2779</td>\n",
       "      <td>2.0</td>\n",
       "      <td>3.0</td>\n",
       "      <td>2.0</td>\n",
       "      <td>659.0</td>\n",
       "      <td>11610.0</td>\n",
       "      <td>420.0</td>\n",
       "      <td>8</td>\n",
       "      <td>1988.0</td>\n",
       "      <td>2.0</td>\n",
       "      <td>7340.82</td>\n",
       "    </tr>\n",
       "    <tr>\n",
       "      <th>14939</th>\n",
       "      <td>3.0</td>\n",
       "      <td>3</td>\n",
       "      <td>2902</td>\n",
       "      <td>2.0</td>\n",
       "      <td>3.0</td>\n",
       "      <td>3.0</td>\n",
       "      <td>774.0</td>\n",
       "      <td>43560.0</td>\n",
       "      <td>525.0</td>\n",
       "      <td>7</td>\n",
       "      <td>1977.0</td>\n",
       "      <td>2.0</td>\n",
       "      <td>11795.98</td>\n",
       "    </tr>\n",
       "    <tr>\n",
       "      <th>12049</th>\n",
       "      <td>3.0</td>\n",
       "      <td>4</td>\n",
       "      <td>2295</td>\n",
       "      <td>2.0</td>\n",
       "      <td>3.0</td>\n",
       "      <td>2.0</td>\n",
       "      <td>487.0</td>\n",
       "      <td>8539.0</td>\n",
       "      <td>396.0</td>\n",
       "      <td>8</td>\n",
       "      <td>1979.0</td>\n",
       "      <td>2.0</td>\n",
       "      <td>4799.22</td>\n",
       "    </tr>\n",
       "  </tbody>\n",
       "</table>\n",
       "</div>"
      ],
      "text/plain": [
       "       bathroomcnt  bedroomcnt  calculatedfinishedsquarefeet  fireplacecnt  \\\n",
       "11325          4.0           5                          3705           2.0   \n",
       "1766           3.0           5                          3642           2.0   \n",
       "14591          3.0           3                          2779           2.0   \n",
       "14939          3.0           3                          2902           2.0   \n",
       "12049          3.0           4                          2295           2.0   \n",
       "\n",
       "       fullbathcnt  garagecarcnt  garagetotalsqft  lotsizesquarefeet  \\\n",
       "11325          4.0           4.0            948.0            59349.0   \n",
       "1766           3.0           2.0            471.0             7720.0   \n",
       "14591          3.0           2.0            659.0            11610.0   \n",
       "14939          3.0           3.0            774.0            43560.0   \n",
       "12049          3.0           2.0            487.0             8539.0   \n",
       "\n",
       "       poolsizesum  roomcnt  yearbuilt  numberofstories  taxamount  \n",
       "11325        684.0       10     2001.0              2.0   15108.92  \n",
       "1766         640.0       10     1998.0              2.0    8078.32  \n",
       "14591        420.0        8     1988.0              2.0    7340.82  \n",
       "14939        525.0        7     1977.0              2.0   11795.98  \n",
       "12049        396.0        8     1979.0              2.0    4799.22  "
      ]
     },
     "execution_count": 11,
     "metadata": {},
     "output_type": "execute_result"
    },
    {
     "data": {
      "application/javascript": [
       "\n",
       "            setTimeout(function() {\n",
       "                var nbb_cell_id = 11;\n",
       "                var nbb_unformatted_code = \"# Id columns aren't too useful for clustering but we might want them later\\n# fmt: off\\nid_cols = [\\\"parcelid\\\", \\\"pooltypeid7\\\", \\\"propertycountylandusecode\\\", \\n           \\\"propertylandusetypeid\\\", \\\"regionidcity\\\", \\\"regionidcounty\\\", \\\"regionidzip\\\",\\n           \\\"latitude\\\", \\\"longitude\\\", \\\"fips\\\",\\n           \\\"rawcensustractandblock\\\", \\\"censustractandblock\\\"]\\nzillow_sub = zillow.drop(columns=id_cols)\\n\\n# Some columns that duplicate info\\n# Idk much about real estate so some of these might be bad assumptions\\ndup_cols = [\\\"calculatedbathnbr\\\", \\\"finishedsquarefeet50\\\", \\\"finishedsquarefeet12\\\",\\n            \\\"finishedfloor1squarefeet\\\", \\\"structuretaxvaluedollarcnt\\\", \\n            \\\"taxvaluedollarcnt\\\", \\\"landtaxvaluedollarcnt\\\"]\\n# fmt: on\\nzillow_sub = zillow_sub.drop(columns=dup_cols)\\n\\n# My random sample (using 42 as seed) had 0 variance in these 2 columns\\nno_var_cols = [\\\"poolcnt\\\", \\\"assessmentyear\\\"]\\nzillow_sub = zillow_sub.drop(columns=no_var_cols)\\n\\nzillow_sub.head()\";\n",
       "                var nbb_formatted_code = \"# Id columns aren't too useful for clustering but we might want them later\\n# fmt: off\\nid_cols = [\\\"parcelid\\\", \\\"pooltypeid7\\\", \\\"propertycountylandusecode\\\", \\n           \\\"propertylandusetypeid\\\", \\\"regionidcity\\\", \\\"regionidcounty\\\", \\\"regionidzip\\\",\\n           \\\"latitude\\\", \\\"longitude\\\", \\\"fips\\\",\\n           \\\"rawcensustractandblock\\\", \\\"censustractandblock\\\"]\\nzillow_sub = zillow.drop(columns=id_cols)\\n\\n# Some columns that duplicate info\\n# Idk much about real estate so some of these might be bad assumptions\\ndup_cols = [\\\"calculatedbathnbr\\\", \\\"finishedsquarefeet50\\\", \\\"finishedsquarefeet12\\\",\\n            \\\"finishedfloor1squarefeet\\\", \\\"structuretaxvaluedollarcnt\\\", \\n            \\\"taxvaluedollarcnt\\\", \\\"landtaxvaluedollarcnt\\\"]\\n# fmt: on\\nzillow_sub = zillow_sub.drop(columns=dup_cols)\\n\\n# My random sample (using 42 as seed) had 0 variance in these 2 columns\\nno_var_cols = [\\\"poolcnt\\\", \\\"assessmentyear\\\"]\\nzillow_sub = zillow_sub.drop(columns=no_var_cols)\\n\\nzillow_sub.head()\";\n",
       "                var nbb_cells = Jupyter.notebook.get_cells();\n",
       "                for (var i = 0; i < nbb_cells.length; ++i) {\n",
       "                    if (nbb_cells[i].input_prompt_number == nbb_cell_id) {\n",
       "                        if (nbb_cells[i].get_text() == nbb_unformatted_code) {\n",
       "                             nbb_cells[i].set_text(nbb_formatted_code);\n",
       "                        }\n",
       "                        break;\n",
       "                    }\n",
       "                }\n",
       "            }, 500);\n",
       "            "
      ],
      "text/plain": [
       "<IPython.core.display.Javascript object>"
      ]
     },
     "metadata": {},
     "output_type": "display_data"
    }
   ],
   "source": [
    "# Id columns aren't too useful for clustering but we might want them later\n",
    "# fmt: off\n",
    "id_cols = [\"parcelid\", \"pooltypeid7\", \"propertycountylandusecode\", \n",
    "           \"propertylandusetypeid\", \"regionidcity\", \"regionidcounty\", \"regionidzip\",\n",
    "           \"latitude\", \"longitude\", \"fips\",\n",
    "           \"rawcensustractandblock\", \"censustractandblock\"]\n",
    "zillow_sub = zillow.drop(columns=id_cols)\n",
    "\n",
    "# Some columns that duplicate info\n",
    "# Idk much about real estate so some of these might be bad assumptions\n",
    "dup_cols = [\"calculatedbathnbr\", \"finishedsquarefeet50\", \"finishedsquarefeet12\",\n",
    "            \"finishedfloor1squarefeet\", \"structuretaxvaluedollarcnt\", \n",
    "            \"taxvaluedollarcnt\", \"landtaxvaluedollarcnt\"]\n",
    "# fmt: on\n",
    "zillow_sub = zillow_sub.drop(columns=dup_cols)\n",
    "\n",
    "# My random sample (using 42 as seed) had 0 variance in these 2 columns\n",
    "no_var_cols = [\"poolcnt\", \"assessmentyear\"]\n",
    "zillow_sub = zillow_sub.drop(columns=no_var_cols)\n",
    "\n",
    "zillow_sub.head()"
   ]
  },
  {
   "cell_type": "markdown",
   "metadata": {
    "colab_type": "text",
    "id": "UqLa0chVfimW"
   },
   "source": [
    "## Heirarchical Clustering\n",
    "\n",
    "Links:\n",
    "* [Greate resource here explaining an example in depth](http://www.econ.upf.edu/~michael/stanford/maeb7.pdf)\n",
    "* [StatQuest video](https://www.youtube.com/watch?v=7xHsRkOdVwo): admittedly not his best work and not his best \"bams\""
   ]
  },
  {
   "cell_type": "markdown",
   "metadata": {},
   "source": [
    "#### Practicality ranking of different linkages:\n",
    "\n",
    "(limited to avg, single, complete)\n",
    "\n",
    "1. Average - Middle ground; great place to start\n",
    "2. Complete - Can give more disparate clusters (might end up making points that were originally close together appear in different clusters)\n",
    "3. Single - Will be biased towards making a \"mega\" cluster and then adding in outliers 1 by 1\n",
    "\n",
    "----\n",
    "\n",
    "* Ward - only applicable if euclidean distance is appropriate (numeric data) - great place to start if applicable"
   ]
  },
  {
   "cell_type": "markdown",
   "metadata": {
    "colab_type": "text",
    "id": "bveQM2RjlPsY"
   },
   "source": [
    "Prep data for clustering"
   ]
  },
  {
   "cell_type": "code",
   "execution_count": 12,
   "metadata": {
    "colab": {},
    "colab_type": "code",
    "id": "qnJHCNWYNskO"
   },
   "outputs": [
    {
     "data": {
      "text/html": [
       "<div>\n",
       "<style scoped>\n",
       "    .dataframe tbody tr th:only-of-type {\n",
       "        vertical-align: middle;\n",
       "    }\n",
       "\n",
       "    .dataframe tbody tr th {\n",
       "        vertical-align: top;\n",
       "    }\n",
       "\n",
       "    .dataframe thead th {\n",
       "        text-align: right;\n",
       "    }\n",
       "</style>\n",
       "<table border=\"1\" class=\"dataframe\">\n",
       "  <thead>\n",
       "    <tr style=\"text-align: right;\">\n",
       "      <th></th>\n",
       "      <th>bathroomcnt</th>\n",
       "      <th>bedroomcnt</th>\n",
       "      <th>calculatedfinishedsquarefeet</th>\n",
       "      <th>fireplacecnt</th>\n",
       "      <th>fullbathcnt</th>\n",
       "      <th>garagecarcnt</th>\n",
       "      <th>garagetotalsqft</th>\n",
       "      <th>lotsizesquarefeet</th>\n",
       "      <th>poolsizesum</th>\n",
       "      <th>roomcnt</th>\n",
       "      <th>yearbuilt</th>\n",
       "      <th>numberofstories</th>\n",
       "      <th>taxamount</th>\n",
       "    </tr>\n",
       "  </thead>\n",
       "  <tbody>\n",
       "    <tr>\n",
       "      <th>11325</th>\n",
       "      <td>0.641759</td>\n",
       "      <td>1.120951</td>\n",
       "      <td>0.292137</td>\n",
       "      <td>0.321897</td>\n",
       "      <td>0.950019</td>\n",
       "      <td>1.626534</td>\n",
       "      <td>1.062755</td>\n",
       "      <td>0.675226</td>\n",
       "      <td>1.048651</td>\n",
       "      <td>0.921299</td>\n",
       "      <td>1.213299</td>\n",
       "      <td>0.816497</td>\n",
       "      <td>0.624734</td>\n",
       "    </tr>\n",
       "    <tr>\n",
       "      <th>1766</th>\n",
       "      <td>-0.255806</td>\n",
       "      <td>1.120951</td>\n",
       "      <td>0.256025</td>\n",
       "      <td>0.321897</td>\n",
       "      <td>0.036539</td>\n",
       "      <td>-0.432370</td>\n",
       "      <td>-0.706772</td>\n",
       "      <td>-0.512082</td>\n",
       "      <td>0.729471</td>\n",
       "      <td>0.921299</td>\n",
       "      <td>1.005897</td>\n",
       "      <td>0.816497</td>\n",
       "      <td>-0.178307</td>\n",
       "    </tr>\n",
       "    <tr>\n",
       "      <th>14591</th>\n",
       "      <td>-0.255806</td>\n",
       "      <td>-1.315899</td>\n",
       "      <td>-0.238646</td>\n",
       "      <td>0.321897</td>\n",
       "      <td>0.036539</td>\n",
       "      <td>-0.432370</td>\n",
       "      <td>-0.009348</td>\n",
       "      <td>-0.422624</td>\n",
       "      <td>-0.866428</td>\n",
       "      <td>-0.195427</td>\n",
       "      <td>0.314559</td>\n",
       "      <td>0.816497</td>\n",
       "      <td>-0.262544</td>\n",
       "    </tr>\n",
       "    <tr>\n",
       "      <th>14939</th>\n",
       "      <td>-0.255806</td>\n",
       "      <td>-1.315899</td>\n",
       "      <td>-0.168142</td>\n",
       "      <td>0.321897</td>\n",
       "      <td>0.036539</td>\n",
       "      <td>0.597082</td>\n",
       "      <td>0.417267</td>\n",
       "      <td>0.312127</td>\n",
       "      <td>-0.104749</td>\n",
       "      <td>-0.753790</td>\n",
       "      <td>-0.445913</td>\n",
       "      <td>0.816497</td>\n",
       "      <td>0.246328</td>\n",
       "    </tr>\n",
       "    <tr>\n",
       "      <th>12049</th>\n",
       "      <td>-0.255806</td>\n",
       "      <td>-0.097474</td>\n",
       "      <td>-0.516074</td>\n",
       "      <td>0.321897</td>\n",
       "      <td>0.036539</td>\n",
       "      <td>-0.432370</td>\n",
       "      <td>-0.647417</td>\n",
       "      <td>-0.493248</td>\n",
       "      <td>-1.040527</td>\n",
       "      <td>-0.195427</td>\n",
       "      <td>-0.307646</td>\n",
       "      <td>0.816497</td>\n",
       "      <td>-0.552848</td>\n",
       "    </tr>\n",
       "  </tbody>\n",
       "</table>\n",
       "</div>"
      ],
      "text/plain": [
       "       bathroomcnt  bedroomcnt  calculatedfinishedsquarefeet  fireplacecnt  \\\n",
       "11325     0.641759    1.120951                      0.292137      0.321897   \n",
       "1766     -0.255806    1.120951                      0.256025      0.321897   \n",
       "14591    -0.255806   -1.315899                     -0.238646      0.321897   \n",
       "14939    -0.255806   -1.315899                     -0.168142      0.321897   \n",
       "12049    -0.255806   -0.097474                     -0.516074      0.321897   \n",
       "\n",
       "       fullbathcnt  garagecarcnt  garagetotalsqft  lotsizesquarefeet  \\\n",
       "11325     0.950019      1.626534         1.062755           0.675226   \n",
       "1766      0.036539     -0.432370        -0.706772          -0.512082   \n",
       "14591     0.036539     -0.432370        -0.009348          -0.422624   \n",
       "14939     0.036539      0.597082         0.417267           0.312127   \n",
       "12049     0.036539     -0.432370        -0.647417          -0.493248   \n",
       "\n",
       "       poolsizesum   roomcnt  yearbuilt  numberofstories  taxamount  \n",
       "11325     1.048651  0.921299   1.213299         0.816497   0.624734  \n",
       "1766      0.729471  0.921299   1.005897         0.816497  -0.178307  \n",
       "14591    -0.866428 -0.195427   0.314559         0.816497  -0.262544  \n",
       "14939    -0.104749 -0.753790  -0.445913         0.816497   0.246328  \n",
       "12049    -1.040527 -0.195427  -0.307646         0.816497  -0.552848  "
      ]
     },
     "execution_count": 12,
     "metadata": {},
     "output_type": "execute_result"
    },
    {
     "data": {
      "application/javascript": [
       "\n",
       "            setTimeout(function() {\n",
       "                var nbb_cell_id = 12;\n",
       "                var nbb_unformatted_code = \"scaler = StandardScaler()\\nscaled = scaler.fit_transform(zillow_sub)\\nscaled = pd.DataFrame(scaled, columns=zillow_sub.columns, index=zillow_sub.index)\\nscaled.head()\";\n",
       "                var nbb_formatted_code = \"scaler = StandardScaler()\\nscaled = scaler.fit_transform(zillow_sub)\\nscaled = pd.DataFrame(scaled, columns=zillow_sub.columns, index=zillow_sub.index)\\nscaled.head()\";\n",
       "                var nbb_cells = Jupyter.notebook.get_cells();\n",
       "                for (var i = 0; i < nbb_cells.length; ++i) {\n",
       "                    if (nbb_cells[i].input_prompt_number == nbb_cell_id) {\n",
       "                        if (nbb_cells[i].get_text() == nbb_unformatted_code) {\n",
       "                             nbb_cells[i].set_text(nbb_formatted_code);\n",
       "                        }\n",
       "                        break;\n",
       "                    }\n",
       "                }\n",
       "            }, 500);\n",
       "            "
      ],
      "text/plain": [
       "<IPython.core.display.Javascript object>"
      ]
     },
     "metadata": {},
     "output_type": "display_data"
    }
   ],
   "source": [
    "scaler = StandardScaler()\n",
    "scaled = scaler.fit_transform(zillow_sub)\n",
    "scaled = pd.DataFrame(scaled, columns=zillow_sub.columns, index=zillow_sub.index)\n",
    "scaled.head()"
   ]
  },
  {
   "cell_type": "markdown",
   "metadata": {
    "colab_type": "text",
    "id": "GfFgoSBulT_W"
   },
   "source": [
    "Calculate distance matrix"
   ]
  },
  {
   "cell_type": "code",
   "execution_count": 13,
   "metadata": {
    "colab": {},
    "colab_type": "code",
    "id": "FW6IRyyeN7LG"
   },
   "outputs": [
    {
     "data": {
      "text/html": [
       "<div>\n",
       "<style scoped>\n",
       "    .dataframe tbody tr th:only-of-type {\n",
       "        vertical-align: middle;\n",
       "    }\n",
       "\n",
       "    .dataframe tbody tr th {\n",
       "        vertical-align: top;\n",
       "    }\n",
       "\n",
       "    .dataframe thead th {\n",
       "        text-align: right;\n",
       "    }\n",
       "</style>\n",
       "<table border=\"1\" class=\"dataframe\">\n",
       "  <thead>\n",
       "    <tr style=\"text-align: right;\">\n",
       "      <th></th>\n",
       "      <th>11325</th>\n",
       "      <th>1766</th>\n",
       "      <th>14591</th>\n",
       "      <th>14939</th>\n",
       "      <th>12049</th>\n",
       "      <th>6551</th>\n",
       "      <th>12445</th>\n",
       "      <th>1176</th>\n",
       "      <th>7006</th>\n",
       "      <th>3980</th>\n",
       "      <th>...</th>\n",
       "      <th>9060</th>\n",
       "      <th>1351</th>\n",
       "      <th>12753</th>\n",
       "      <th>13125</th>\n",
       "      <th>2452</th>\n",
       "      <th>2869</th>\n",
       "      <th>5163</th>\n",
       "      <th>4317</th>\n",
       "      <th>9151</th>\n",
       "      <th>2153</th>\n",
       "    </tr>\n",
       "  </thead>\n",
       "  <tbody>\n",
       "    <tr>\n",
       "      <th>11325</th>\n",
       "      <td>0.000000</td>\n",
       "      <td>3.348306</td>\n",
       "      <td>4.578582</td>\n",
       "      <td>4.053500</td>\n",
       "      <td>4.649586</td>\n",
       "      <td>4.510649</td>\n",
       "      <td>5.720689</td>\n",
       "      <td>4.629051</td>\n",
       "      <td>3.605171</td>\n",
       "      <td>4.899042</td>\n",
       "      <td>...</td>\n",
       "      <td>6.505565</td>\n",
       "      <td>4.811975</td>\n",
       "      <td>8.886839</td>\n",
       "      <td>3.979704</td>\n",
       "      <td>4.258759</td>\n",
       "      <td>5.075261</td>\n",
       "      <td>4.796224</td>\n",
       "      <td>2.748222</td>\n",
       "      <td>5.218322</td>\n",
       "      <td>4.666395</td>\n",
       "    </tr>\n",
       "    <tr>\n",
       "      <th>1766</th>\n",
       "      <td>3.348306</td>\n",
       "      <td>0.000000</td>\n",
       "      <td>3.310040</td>\n",
       "      <td>3.861429</td>\n",
       "      <td>2.886212</td>\n",
       "      <td>3.139493</td>\n",
       "      <td>4.154514</td>\n",
       "      <td>2.912746</td>\n",
       "      <td>1.735592</td>\n",
       "      <td>4.667685</td>\n",
       "      <td>...</td>\n",
       "      <td>5.125081</td>\n",
       "      <td>3.988176</td>\n",
       "      <td>7.634922</td>\n",
       "      <td>2.834333</td>\n",
       "      <td>2.743362</td>\n",
       "      <td>4.771451</td>\n",
       "      <td>3.365763</td>\n",
       "      <td>4.654137</td>\n",
       "      <td>3.335057</td>\n",
       "      <td>4.822543</td>\n",
       "    </tr>\n",
       "    <tr>\n",
       "      <th>14591</th>\n",
       "      <td>4.578582</td>\n",
       "      <td>3.310040</td>\n",
       "      <td>0.000000</td>\n",
       "      <td>1.875046</td>\n",
       "      <td>1.573331</td>\n",
       "      <td>3.059685</td>\n",
       "      <td>3.441136</td>\n",
       "      <td>2.081025</td>\n",
       "      <td>2.569361</td>\n",
       "      <td>2.908439</td>\n",
       "      <td>...</td>\n",
       "      <td>3.527489</td>\n",
       "      <td>4.694450</td>\n",
       "      <td>5.965963</td>\n",
       "      <td>2.088886</td>\n",
       "      <td>1.880516</td>\n",
       "      <td>4.863892</td>\n",
       "      <td>2.635877</td>\n",
       "      <td>5.119534</td>\n",
       "      <td>2.314954</td>\n",
       "      <td>4.366358</td>\n",
       "    </tr>\n",
       "    <tr>\n",
       "      <th>14939</th>\n",
       "      <td>4.053500</td>\n",
       "      <td>3.861429</td>\n",
       "      <td>1.875046</td>\n",
       "      <td>0.000000</td>\n",
       "      <td>2.508549</td>\n",
       "      <td>3.119016</td>\n",
       "      <td>3.549617</td>\n",
       "      <td>2.720650</td>\n",
       "      <td>3.135926</td>\n",
       "      <td>2.725889</td>\n",
       "      <td>...</td>\n",
       "      <td>3.520000</td>\n",
       "      <td>5.488207</td>\n",
       "      <td>5.568214</td>\n",
       "      <td>2.447868</td>\n",
       "      <td>2.439201</td>\n",
       "      <td>4.231623</td>\n",
       "      <td>3.128583</td>\n",
       "      <td>4.431397</td>\n",
       "      <td>3.014028</td>\n",
       "      <td>3.773120</td>\n",
       "    </tr>\n",
       "    <tr>\n",
       "      <th>12049</th>\n",
       "      <td>4.649586</td>\n",
       "      <td>2.886212</td>\n",
       "      <td>1.573331</td>\n",
       "      <td>2.508549</td>\n",
       "      <td>0.000000</td>\n",
       "      <td>3.076110</td>\n",
       "      <td>3.011393</td>\n",
       "      <td>1.864348</td>\n",
       "      <td>1.713908</td>\n",
       "      <td>3.233524</td>\n",
       "      <td>...</td>\n",
       "      <td>3.447616</td>\n",
       "      <td>3.998361</td>\n",
       "      <td>5.838851</td>\n",
       "      <td>1.637596</td>\n",
       "      <td>1.576541</td>\n",
       "      <td>4.653939</td>\n",
       "      <td>2.544483</td>\n",
       "      <td>5.548460</td>\n",
       "      <td>1.615128</td>\n",
       "      <td>5.040417</td>\n",
       "    </tr>\n",
       "  </tbody>\n",
       "</table>\n",
       "<p>5 rows × 100 columns</p>\n",
       "</div>"
      ],
      "text/plain": [
       "          11325     1766      14591     14939     12049     6551      12445  \\\n",
       "11325  0.000000  3.348306  4.578582  4.053500  4.649586  4.510649  5.720689   \n",
       "1766   3.348306  0.000000  3.310040  3.861429  2.886212  3.139493  4.154514   \n",
       "14591  4.578582  3.310040  0.000000  1.875046  1.573331  3.059685  3.441136   \n",
       "14939  4.053500  3.861429  1.875046  0.000000  2.508549  3.119016  3.549617   \n",
       "12049  4.649586  2.886212  1.573331  2.508549  0.000000  3.076110  3.011393   \n",
       "\n",
       "          1176      7006      3980   ...     9060      1351      12753  \\\n",
       "11325  4.629051  3.605171  4.899042  ...  6.505565  4.811975  8.886839   \n",
       "1766   2.912746  1.735592  4.667685  ...  5.125081  3.988176  7.634922   \n",
       "14591  2.081025  2.569361  2.908439  ...  3.527489  4.694450  5.965963   \n",
       "14939  2.720650  3.135926  2.725889  ...  3.520000  5.488207  5.568214   \n",
       "12049  1.864348  1.713908  3.233524  ...  3.447616  3.998361  5.838851   \n",
       "\n",
       "          13125     2452      2869      5163      4317      9151      2153   \n",
       "11325  3.979704  4.258759  5.075261  4.796224  2.748222  5.218322  4.666395  \n",
       "1766   2.834333  2.743362  4.771451  3.365763  4.654137  3.335057  4.822543  \n",
       "14591  2.088886  1.880516  4.863892  2.635877  5.119534  2.314954  4.366358  \n",
       "14939  2.447868  2.439201  4.231623  3.128583  4.431397  3.014028  3.773120  \n",
       "12049  1.637596  1.576541  4.653939  2.544483  5.548460  1.615128  5.040417  \n",
       "\n",
       "[5 rows x 100 columns]"
      ]
     },
     "execution_count": 13,
     "metadata": {},
     "output_type": "execute_result"
    },
    {
     "data": {
      "application/javascript": [
       "\n",
       "            setTimeout(function() {\n",
       "                var nbb_cell_id = 13;\n",
       "                var nbb_unformatted_code = \"dist_mat = squareform(pdist(scaled, metric=\\\"euclidean\\\"))\\ndist_mat = pd.DataFrame(dist_mat, index=scaled.index, columns=scaled.index)\\ndist_mat.head()\";\n",
       "                var nbb_formatted_code = \"dist_mat = squareform(pdist(scaled, metric=\\\"euclidean\\\"))\\ndist_mat = pd.DataFrame(dist_mat, index=scaled.index, columns=scaled.index)\\ndist_mat.head()\";\n",
       "                var nbb_cells = Jupyter.notebook.get_cells();\n",
       "                for (var i = 0; i < nbb_cells.length; ++i) {\n",
       "                    if (nbb_cells[i].input_prompt_number == nbb_cell_id) {\n",
       "                        if (nbb_cells[i].get_text() == nbb_unformatted_code) {\n",
       "                             nbb_cells[i].set_text(nbb_formatted_code);\n",
       "                        }\n",
       "                        break;\n",
       "                    }\n",
       "                }\n",
       "            }, 500);\n",
       "            "
      ],
      "text/plain": [
       "<IPython.core.display.Javascript object>"
      ]
     },
     "metadata": {},
     "output_type": "display_data"
    }
   ],
   "source": [
    "dist_mat = squareform(pdist(scaled, metric=\"euclidean\"))\n",
    "dist_mat = pd.DataFrame(dist_mat, index=scaled.index, columns=scaled.index)\n",
    "dist_mat.head()"
   ]
  },
  {
   "cell_type": "markdown",
   "metadata": {
    "colab_type": "text",
    "id": "F4lK-6P3labM"
   },
   "source": [
    "Perform heirarchical clustering with the distance matrix and [`sklearn.cluster.AgglomerativeClustering`](https://scikit-learn.org/stable/modules/generated/sklearn.cluster.AgglomerativeClustering.html)."
   ]
  },
  {
   "cell_type": "code",
   "execution_count": 14,
   "metadata": {},
   "outputs": [
    {
     "data": {
      "text/plain": [
       "AgglomerativeClustering(affinity='manhattan', linkage='complete', n_clusters=10)"
      ]
     },
     "execution_count": 14,
     "metadata": {},
     "output_type": "execute_result"
    },
    {
     "data": {
      "application/javascript": [
       "\n",
       "            setTimeout(function() {\n",
       "                var nbb_cell_id = 14;\n",
       "                var nbb_unformatted_code = \"# If using one of their distances provided\\n# you can fit to original data instead of distance matrix\\n\\n# clst = AgglomerativeClustering(n_clusters=10, affinity=\\\"euclidean\\\", linkage=\\\"ward\\\")\\nclst = AgglomerativeClustering(n_clusters=10, affinity=\\\"manhattan\\\", linkage=\\\"complete\\\")\\nclst.fit(scaled)\";\n",
       "                var nbb_formatted_code = \"# If using one of their distances provided\\n# you can fit to original data instead of distance matrix\\n\\n# clst = AgglomerativeClustering(n_clusters=10, affinity=\\\"euclidean\\\", linkage=\\\"ward\\\")\\nclst = AgglomerativeClustering(n_clusters=10, affinity=\\\"manhattan\\\", linkage=\\\"complete\\\")\\nclst.fit(scaled)\";\n",
       "                var nbb_cells = Jupyter.notebook.get_cells();\n",
       "                for (var i = 0; i < nbb_cells.length; ++i) {\n",
       "                    if (nbb_cells[i].input_prompt_number == nbb_cell_id) {\n",
       "                        if (nbb_cells[i].get_text() == nbb_unformatted_code) {\n",
       "                             nbb_cells[i].set_text(nbb_formatted_code);\n",
       "                        }\n",
       "                        break;\n",
       "                    }\n",
       "                }\n",
       "            }, 500);\n",
       "            "
      ],
      "text/plain": [
       "<IPython.core.display.Javascript object>"
      ]
     },
     "metadata": {},
     "output_type": "display_data"
    }
   ],
   "source": [
    "# If using one of their distances provided\n",
    "# you can fit to original data instead of distance matrix\n",
    "\n",
    "# clst = AgglomerativeClustering(n_clusters=10, affinity=\"euclidean\", linkage=\"ward\")\n",
    "clst = AgglomerativeClustering(n_clusters=10, affinity=\"manhattan\", linkage=\"complete\")\n",
    "clst.fit(scaled)"
   ]
  },
  {
   "cell_type": "code",
   "execution_count": 15,
   "metadata": {
    "colab": {
     "base_uri": "https://localhost:8080/",
     "height": 68
    },
    "colab_type": "code",
    "id": "XfGryvX-PF2V",
    "outputId": "e1aa028a-e636-40da-90e8-b95602de7ef4"
   },
   "outputs": [
    {
     "data": {
      "text/plain": [
       "AgglomerativeClustering(affinity='precomputed', linkage='complete',\n",
       "                        n_clusters=10)"
      ]
     },
     "execution_count": 15,
     "metadata": {},
     "output_type": "execute_result"
    },
    {
     "data": {
      "application/javascript": [
       "\n",
       "            setTimeout(function() {\n",
       "                var nbb_cell_id = 15;\n",
       "                var nbb_unformatted_code = \"# If using a custom distance use your distance matrix as X and use affinity='precomputed'\\nclst = AgglomerativeClustering(\\n    n_clusters=10, affinity=\\\"precomputed\\\", linkage=\\\"complete\\\"\\n)\\nclst.fit(dist_mat)\";\n",
       "                var nbb_formatted_code = \"# If using a custom distance use your distance matrix as X and use affinity='precomputed'\\nclst = AgglomerativeClustering(\\n    n_clusters=10, affinity=\\\"precomputed\\\", linkage=\\\"complete\\\"\\n)\\nclst.fit(dist_mat)\";\n",
       "                var nbb_cells = Jupyter.notebook.get_cells();\n",
       "                for (var i = 0; i < nbb_cells.length; ++i) {\n",
       "                    if (nbb_cells[i].input_prompt_number == nbb_cell_id) {\n",
       "                        if (nbb_cells[i].get_text() == nbb_unformatted_code) {\n",
       "                             nbb_cells[i].set_text(nbb_formatted_code);\n",
       "                        }\n",
       "                        break;\n",
       "                    }\n",
       "                }\n",
       "            }, 500);\n",
       "            "
      ],
      "text/plain": [
       "<IPython.core.display.Javascript object>"
      ]
     },
     "metadata": {},
     "output_type": "display_data"
    }
   ],
   "source": [
    "# If using a custom distance use your distance matrix as X and use affinity='precomputed'\n",
    "clst = AgglomerativeClustering(\n",
    "    n_clusters=10, affinity=\"precomputed\", linkage=\"complete\"\n",
    ")\n",
    "clst.fit(dist_mat)"
   ]
  },
  {
   "cell_type": "markdown",
   "metadata": {
    "colab_type": "text",
    "id": "yHEGxCXrlpkL"
   },
   "source": [
    "Use the `plot_dendrogram()` helper function to plot the heirarchical clusters."
   ]
  },
  {
   "cell_type": "code",
   "execution_count": 16,
   "metadata": {
    "colab": {
     "base_uri": "https://localhost:8080/",
     "height": 585
    },
    "colab_type": "code",
    "id": "r_A8wFeLPU62",
    "outputId": "93e0ec6b-6918-4712-8634-9d7267bf3794"
   },
   "outputs": [
    {
     "data": {
      "image/png": "[encoded data removed]",
      "text/plain": [
       "<Figure size 1440x720 with 1 Axes>"
      ]
     },
     "metadata": {
      "needs_background": "light"
     },
     "output_type": "display_data"
    },
    {
     "data": {
      "application/javascript": [
       "\n",
       "            setTimeout(function() {\n",
       "                var nbb_cell_id = 16;\n",
       "                var nbb_unformatted_code = \"# sklearn didnt really intend for people to plot this\\n# this is a hacked together function\\n# THE Y AXIS DOES NOT LINE UP WITH ACTUAL DISTANCE VALUES\\n\\n# if youre working with smaller data and dendrogram would be useful\\n# look into scipy.cluster.hierarchy.dendrogram()\\n# TODO: adam verify if remembered function correctly\\n\\nplt.figure(figsize=(20, 10))\\nplot_dendrogram(clst)\";\n",
       "                var nbb_formatted_code = \"# sklearn didnt really intend for people to plot this\\n# this is a hacked together function\\n# THE Y AXIS DOES NOT LINE UP WITH ACTUAL DISTANCE VALUES\\n\\n# if youre working with smaller data and dendrogram would be useful\\n# look into scipy.cluster.hierarchy.dendrogram()\\n# TODO: adam verify if remembered function correctly\\n\\nplt.figure(figsize=(20, 10))\\nplot_dendrogram(clst)\";\n",
       "                var nbb_cells = Jupyter.notebook.get_cells();\n",
       "                for (var i = 0; i < nbb_cells.length; ++i) {\n",
       "                    if (nbb_cells[i].input_prompt_number == nbb_cell_id) {\n",
       "                        if (nbb_cells[i].get_text() == nbb_unformatted_code) {\n",
       "                             nbb_cells[i].set_text(nbb_formatted_code);\n",
       "                        }\n",
       "                        break;\n",
       "                    }\n",
       "                }\n",
       "            }, 500);\n",
       "            "
      ],
      "text/plain": [
       "<IPython.core.display.Javascript object>"
      ]
     },
     "metadata": {},
     "output_type": "display_data"
    }
   ],
   "source": [
    "# sklearn didnt really intend for people to plot this\n",
    "# this is a hacked together function\n",
    "# THE Y AXIS DOES NOT LINE UP WITH ACTUAL DISTANCE VALUES\n",
    "\n",
    "# if youre working with smaller data and dendrogram would be useful\n",
    "# look into scipy.cluster.hierarchy.dendrogram()\n",
    "# TODO: adam verify if remembered function correctly\n",
    "\n",
    "plt.figure(figsize=(20, 10))\n",
    "plot_dendrogram(clst)"
   ]
  },
  {
   "cell_type": "markdown",
   "metadata": {
    "colab_type": "text",
    "id": "iM7eMeD5lzp4"
   },
   "source": [
    "Assign the cluster labels to a column in our original dataframe."
   ]
  },
  {
   "cell_type": "code",
   "execution_count": 17,
   "metadata": {
    "colab": {},
    "colab_type": "code",
    "id": "IP9cOceDP6Xw"
   },
   "outputs": [
    {
     "data": {
      "text/plain": [
       "Cluster: 0    54\n",
       "Cluster: 1    16\n",
       "Cluster: 2    11\n",
       "Cluster: 3    10\n",
       "Cluster: 5     3\n",
       "Cluster: 4     2\n",
       "Cluster: 7     1\n",
       "Cluster: 6     1\n",
       "Cluster: 8     1\n",
       "Cluster: 9     1\n",
       "Name: label, dtype: int64"
      ]
     },
     "execution_count": 17,
     "metadata": {},
     "output_type": "execute_result"
    },
    {
     "data": {
      "application/javascript": [
       "\n",
       "            setTimeout(function() {\n",
       "                var nbb_cell_id = 17;\n",
       "                var nbb_unformatted_code = \"zillow_sub[\\\"label\\\"] = clst.labels_\\nzillow_sub[\\\"label\\\"] = \\\"Cluster: \\\" + zillow_sub[\\\"label\\\"].astype(str)\\nzillow_sub[\\\"label\\\"].value_counts()\";\n",
       "                var nbb_formatted_code = \"zillow_sub[\\\"label\\\"] = clst.labels_\\nzillow_sub[\\\"label\\\"] = \\\"Cluster: \\\" + zillow_sub[\\\"label\\\"].astype(str)\\nzillow_sub[\\\"label\\\"].value_counts()\";\n",
       "                var nbb_cells = Jupyter.notebook.get_cells();\n",
       "                for (var i = 0; i < nbb_cells.length; ++i) {\n",
       "                    if (nbb_cells[i].input_prompt_number == nbb_cell_id) {\n",
       "                        if (nbb_cells[i].get_text() == nbb_unformatted_code) {\n",
       "                             nbb_cells[i].set_text(nbb_formatted_code);\n",
       "                        }\n",
       "                        break;\n",
       "                    }\n",
       "                }\n",
       "            }, 500);\n",
       "            "
      ],
      "text/plain": [
       "<IPython.core.display.Javascript object>"
      ]
     },
     "metadata": {},
     "output_type": "display_data"
    }
   ],
   "source": [
    "zillow_sub[\"label\"] = clst.labels_\n",
    "zillow_sub[\"label\"] = \"Cluster: \" + zillow_sub[\"label\"].astype(str)\n",
    "zillow_sub[\"label\"].value_counts()"
   ]
  },
  {
   "cell_type": "markdown",
   "metadata": {
    "colab_type": "text",
    "id": "tdHy6u_8l5y3"
   },
   "source": [
    "Interpret the clusters"
   ]
  },
  {
   "cell_type": "code",
   "execution_count": 18,
   "metadata": {
    "colab": {
     "base_uri": "https://localhost:8080/",
     "height": 255
    },
    "colab_type": "code",
    "id": "tJwjQsjbQKRr",
    "outputId": "34461db4-c1c7-464a-bbcc-a8d51fcf8658"
   },
   "outputs": [
    {
     "data": {
      "text/html": [
       "<style  type=\"text/css\" >\n",
       "#T_184d4_row0_col0{\n",
       "            background-color:  #e1dfed;\n",
       "            color:  #000000;\n",
       "        }#T_184d4_row0_col1{\n",
       "            background-color:  #adc1dd;\n",
       "            color:  #000000;\n",
       "        }#T_184d4_row0_col2{\n",
       "            background-color:  #f8f1f8;\n",
       "            color:  #000000;\n",
       "        }#T_184d4_row0_col3{\n",
       "            background-color:  #ede7f2;\n",
       "            color:  #000000;\n",
       "        }#T_184d4_row0_col4{\n",
       "            background-color:  #dedcec;\n",
       "            color:  #000000;\n",
       "        }#T_184d4_row0_col5{\n",
       "            background-color:  #fef6fa;\n",
       "            color:  #000000;\n",
       "        }#T_184d4_row0_col6{\n",
       "            background-color:  #f7f0f7;\n",
       "            color:  #000000;\n",
       "        }#T_184d4_row0_col7,#T_184d4_row0_col12{\n",
       "            background-color:  #fdf5fa;\n",
       "            color:  #000000;\n",
       "        }#T_184d4_row0_col8,#T_184d4_row6_col1,#T_184d4_row6_col2{\n",
       "            background-color:  #dbdaeb;\n",
       "            color:  #000000;\n",
       "        }#T_184d4_row0_col9{\n",
       "            background-color:  #f0eaf4;\n",
       "            color:  #000000;\n",
       "        }#T_184d4_row0_col10{\n",
       "            background-color:  #2987bc;\n",
       "            color:  #000000;\n",
       "        }#T_184d4_row0_col11{\n",
       "            background-color:  #83afd3;\n",
       "            color:  #000000;\n",
       "        }#T_184d4_row1_col0,#T_184d4_row7_col7{\n",
       "            background-color:  #b9c6e0;\n",
       "            color:  #000000;\n",
       "        }#T_184d4_row1_col1{\n",
       "            background-color:  #79abd0;\n",
       "            color:  #000000;\n",
       "        }#T_184d4_row1_col2,#T_184d4_row3_col2,#T_184d4_row4_col9{\n",
       "            background-color:  #eae6f1;\n",
       "            color:  #000000;\n",
       "        }#T_184d4_row1_col3{\n",
       "            background-color:  #96b6d7;\n",
       "            color:  #000000;\n",
       "        }#T_184d4_row1_col4{\n",
       "            background-color:  #bbc7e0;\n",
       "            color:  #000000;\n",
       "        }#T_184d4_row1_col5,#T_184d4_row3_col5,#T_184d4_row3_col8,#T_184d4_row4_col11,#T_184d4_row8_col0,#T_184d4_row8_col1,#T_184d4_row8_col2,#T_184d4_row8_col3,#T_184d4_row8_col4,#T_184d4_row8_col5,#T_184d4_row8_col6,#T_184d4_row8_col7,#T_184d4_row8_col9,#T_184d4_row8_col10,#T_184d4_row8_col11,#T_184d4_row8_col12{\n",
       "            background-color:  #fff7fb;\n",
       "            color:  #000000;\n",
       "        }#T_184d4_row1_col6{\n",
       "            background-color:  #eee8f3;\n",
       "            color:  #000000;\n",
       "        }#T_184d4_row1_col7,#T_184d4_row3_col7{\n",
       "            background-color:  #fbf3f9;\n",
       "            color:  #000000;\n",
       "        }#T_184d4_row1_col8{\n",
       "            background-color:  #3d93c2;\n",
       "            color:  #000000;\n",
       "        }#T_184d4_row1_col9{\n",
       "            background-color:  #e0deed;\n",
       "            color:  #000000;\n",
       "        }#T_184d4_row1_col10{\n",
       "            background-color:  #046198;\n",
       "            color:  #f1f1f1;\n",
       "        }#T_184d4_row1_col11{\n",
       "            background-color:  #04649e;\n",
       "            color:  #f1f1f1;\n",
       "        }#T_184d4_row1_col12{\n",
       "            background-color:  #f2ecf5;\n",
       "            color:  #000000;\n",
       "        }#T_184d4_row2_col0{\n",
       "            background-color:  #86b0d3;\n",
       "            color:  #000000;\n",
       "        }#T_184d4_row2_col1{\n",
       "            background-color:  #94b6d7;\n",
       "            color:  #000000;\n",
       "        }#T_184d4_row2_col2,#T_184d4_row4_col12{\n",
       "            background-color:  #d7d6e9;\n",
       "            color:  #000000;\n",
       "        }#T_184d4_row2_col3{\n",
       "            background-color:  #bfc9e1;\n",
       "            color:  #000000;\n",
       "        }#T_184d4_row2_col4,#T_184d4_row5_col5{\n",
       "            background-color:  #8bb2d4;\n",
       "            color:  #000000;\n",
       "        }#T_184d4_row2_col5{\n",
       "            background-color:  #c9cee4;\n",
       "            color:  #000000;\n",
       "        }#T_184d4_row2_col6{\n",
       "            background-color:  #c8cde4;\n",
       "            color:  #000000;\n",
       "        }#T_184d4_row2_col7{\n",
       "            background-color:  #d4d4e8;\n",
       "            color:  #000000;\n",
       "        }#T_184d4_row2_col8{\n",
       "            background-color:  #78abd0;\n",
       "            color:  #000000;\n",
       "        }#T_184d4_row2_col9{\n",
       "            background-color:  #d9d8ea;\n",
       "            color:  #000000;\n",
       "        }#T_184d4_row2_col10{\n",
       "            background-color:  #034f7d;\n",
       "            color:  #f1f1f1;\n",
       "        }#T_184d4_row2_col11{\n",
       "            background-color:  #5ea0ca;\n",
       "            color:  #000000;\n",
       "        }#T_184d4_row2_col12{\n",
       "            background-color:  #e4e1ef;\n",
       "            color:  #000000;\n",
       "        }#T_184d4_row3_col0{\n",
       "            background-color:  #a8bedc;\n",
       "            color:  #000000;\n",
       "        }#T_184d4_row3_col1{\n",
       "            background-color:  #4c99c5;\n",
       "            color:  #000000;\n",
       "        }#T_184d4_row3_col3{\n",
       "            background-color:  #cacee5;\n",
       "            color:  #000000;\n",
       "        }#T_184d4_row3_col4{\n",
       "            background-color:  #a7bddb;\n",
       "            color:  #000000;\n",
       "        }#T_184d4_row3_col6{\n",
       "            background-color:  #efe9f3;\n",
       "            color:  #000000;\n",
       "        }#T_184d4_row3_col9{\n",
       "            background-color:  #d5d5e8;\n",
       "            color:  #000000;\n",
       "        }#T_184d4_row3_col10{\n",
       "            background-color:  #045a8d;\n",
       "            color:  #f1f1f1;\n",
       "        }#T_184d4_row3_col11,#T_184d4_row4_col8,#T_184d4_row5_col11,#T_184d4_row6_col3,#T_184d4_row6_col7,#T_184d4_row6_col11,#T_184d4_row7_col3,#T_184d4_row7_col5,#T_184d4_row7_col6,#T_184d4_row7_col10,#T_184d4_row7_col11,#T_184d4_row7_col12,#T_184d4_row9_col0,#T_184d4_row9_col1,#T_184d4_row9_col2,#T_184d4_row9_col3,#T_184d4_row9_col4,#T_184d4_row9_col9,#T_184d4_row9_col11{\n",
       "            background-color:  #023858;\n",
       "            color:  #f1f1f1;\n",
       "        }#T_184d4_row3_col12{\n",
       "            background-color:  #f6eff7;\n",
       "            color:  #000000;\n",
       "        }#T_184d4_row4_col0{\n",
       "            background-color:  #e6e2ef;\n",
       "            color:  #000000;\n",
       "        }#T_184d4_row4_col1,#T_184d4_row4_col7,#T_184d4_row6_col12,#T_184d4_row8_col8,#T_184d4_row9_col7{\n",
       "            background-color:  #c0c9e2;\n",
       "            color:  #000000;\n",
       "        }#T_184d4_row4_col2{\n",
       "            background-color:  #e5e1ef;\n",
       "            color:  #000000;\n",
       "        }#T_184d4_row4_col3,#T_184d4_row4_col5,#T_184d4_row6_col5{\n",
       "            background-color:  #e3e0ee;\n",
       "            color:  #000000;\n",
       "        }#T_184d4_row4_col4{\n",
       "            background-color:  #e8e4f0;\n",
       "            color:  #000000;\n",
       "        }#T_184d4_row4_col6{\n",
       "            background-color:  #dad9ea;\n",
       "            color:  #000000;\n",
       "        }#T_184d4_row4_col10{\n",
       "            background-color:  #045b8f;\n",
       "            color:  #f1f1f1;\n",
       "        }#T_184d4_row5_col0{\n",
       "            background-color:  #549cc7;\n",
       "            color:  #000000;\n",
       "        }#T_184d4_row5_col1,#T_184d4_row5_col3,#T_184d4_row9_col5{\n",
       "            background-color:  #2685bb;\n",
       "            color:  #000000;\n",
       "        }#T_184d4_row5_col2{\n",
       "            background-color:  #ced0e6;\n",
       "            color:  #000000;\n",
       "        }#T_184d4_row5_col4{\n",
       "            background-color:  #67a4cc;\n",
       "            color:  #000000;\n",
       "        }#T_184d4_row5_col6,#T_184d4_row9_col12{\n",
       "            background-color:  #65a3cb;\n",
       "            color:  #000000;\n",
       "        }#T_184d4_row5_col7{\n",
       "            background-color:  #187cb6;\n",
       "            color:  #000000;\n",
       "        }#T_184d4_row5_col8{\n",
       "            background-color:  #0567a2;\n",
       "            color:  #f1f1f1;\n",
       "        }#T_184d4_row5_col9{\n",
       "            background-color:  #b4c4df;\n",
       "            color:  #000000;\n",
       "        }#T_184d4_row5_col10{\n",
       "            background-color:  #045d92;\n",
       "            color:  #f1f1f1;\n",
       "        }#T_184d4_row5_col12{\n",
       "            background-color:  #e2dfee;\n",
       "            color:  #000000;\n",
       "        }#T_184d4_row6_col0{\n",
       "            background-color:  #62a2cb;\n",
       "            color:  #000000;\n",
       "        }#T_184d4_row6_col4{\n",
       "            background-color:  #509ac6;\n",
       "            color:  #000000;\n",
       "        }#T_184d4_row6_col6{\n",
       "            background-color:  #d2d2e7;\n",
       "            color:  #000000;\n",
       "        }#T_184d4_row6_col8,#T_184d4_row7_col8{\n",
       "            background-color:  #034d79;\n",
       "            color:  #f1f1f1;\n",
       "        }#T_184d4_row6_col9{\n",
       "            background-color:  #f5eef6;\n",
       "            color:  #000000;\n",
       "        }#T_184d4_row6_col10{\n",
       "            background-color:  #0569a4;\n",
       "            color:  #f1f1f1;\n",
       "        }#T_184d4_row7_col0{\n",
       "            background-color:  #056dab;\n",
       "            color:  #f1f1f1;\n",
       "        }#T_184d4_row7_col1{\n",
       "            background-color:  #4295c3;\n",
       "            color:  #000000;\n",
       "        }#T_184d4_row7_col2{\n",
       "            background-color:  #358fc0;\n",
       "            color:  #000000;\n",
       "        }#T_184d4_row7_col4{\n",
       "            background-color:  #1379b5;\n",
       "            color:  #f1f1f1;\n",
       "        }#T_184d4_row7_col9{\n",
       "            background-color:  #9cb9d9;\n",
       "            color:  #000000;\n",
       "        }#T_184d4_row9_col6{\n",
       "            background-color:  #3b92c1;\n",
       "            color:  #000000;\n",
       "        }#T_184d4_row9_col8{\n",
       "            background-color:  #81aed2;\n",
       "            color:  #000000;\n",
       "        }#T_184d4_row9_col10{\n",
       "            background-color:  #04598c;\n",
       "            color:  #f1f1f1;\n",
       "        }</style><table id=\"T_184d4_\" ><thead>    <tr>        <th class=\"blank level0\" ></th>        <th class=\"col_heading level0 col0\" >bathroomcnt</th>        <th class=\"col_heading level0 col1\" >bedroomcnt</th>        <th class=\"col_heading level0 col2\" >calculatedfinishedsquarefeet</th>        <th class=\"col_heading level0 col3\" >fireplacecnt</th>        <th class=\"col_heading level0 col4\" >fullbathcnt</th>        <th class=\"col_heading level0 col5\" >garagecarcnt</th>        <th class=\"col_heading level0 col6\" >garagetotalsqft</th>        <th class=\"col_heading level0 col7\" >lotsizesquarefeet</th>        <th class=\"col_heading level0 col8\" >poolsizesum</th>        <th class=\"col_heading level0 col9\" >roomcnt</th>        <th class=\"col_heading level0 col10\" >yearbuilt</th>        <th class=\"col_heading level0 col11\" >numberofstories</th>        <th class=\"col_heading level0 col12\" >taxamount</th>    </tr>    <tr>        <th class=\"index_name level0\" >label</th>        <th class=\"blank\" ></th>        <th class=\"blank\" ></th>        <th class=\"blank\" ></th>        <th class=\"blank\" ></th>        <th class=\"blank\" ></th>        <th class=\"blank\" ></th>        <th class=\"blank\" ></th>        <th class=\"blank\" ></th>        <th class=\"blank\" ></th>        <th class=\"blank\" ></th>        <th class=\"blank\" ></th>        <th class=\"blank\" ></th>        <th class=\"blank\" ></th>    </tr></thead><tbody>\n",
       "                <tr>\n",
       "                        <th id=\"T_184d4_level0_row0\" class=\"row_heading level0 row0\" >Cluster: 0</th>\n",
       "                        <td id=\"T_184d4_row0_col0\" class=\"data row0 col0\" >2.629630</td>\n",
       "                        <td id=\"T_184d4_row0_col1\" class=\"data row0 col1\" >3.759259</td>\n",
       "                        <td id=\"T_184d4_row0_col2\" class=\"data row0 col2\" >2308.407407</td>\n",
       "                        <td id=\"T_184d4_row0_col3\" class=\"data row0 col3\" >1.370370</td>\n",
       "                        <td id=\"T_184d4_row0_col4\" class=\"data row0 col4\" >2.333333</td>\n",
       "                        <td id=\"T_184d4_row0_col5\" class=\"data row0 col5\" >2.055556</td>\n",
       "                        <td id=\"T_184d4_row0_col6\" class=\"data row0 col6\" >535.185185</td>\n",
       "                        <td id=\"T_184d4_row0_col7\" class=\"data row0 col7\" >15063.592593</td>\n",
       "                        <td id=\"T_184d4_row0_col8\" class=\"data row0 col8\" >482.111111</td>\n",
       "                        <td id=\"T_184d4_row0_col9\" class=\"data row0 col9\" >7.518519</td>\n",
       "                        <td id=\"T_184d4_row0_col10\" class=\"data row0 col10\" >1976.407407</td>\n",
       "                        <td id=\"T_184d4_row0_col11\" class=\"data row0 col11\" >1.462963</td>\n",
       "                        <td id=\"T_184d4_row0_col12\" class=\"data row0 col12\" >5674.563704</td>\n",
       "            </tr>\n",
       "            <tr>\n",
       "                        <th id=\"T_184d4_level0_row1\" class=\"row_heading level0 row1\" >Cluster: 1</th>\n",
       "                        <td id=\"T_184d4_row1_col0\" class=\"data row1 col0\" >3.562500</td>\n",
       "                        <td id=\"T_184d4_row1_col1\" class=\"data row1 col1\" >4.437500</td>\n",
       "                        <td id=\"T_184d4_row1_col2\" class=\"data row1 col2\" >3453.187500</td>\n",
       "                        <td id=\"T_184d4_row1_col3\" class=\"data row1 col3\" >2.250000</td>\n",
       "                        <td id=\"T_184d4_row1_col4\" class=\"data row1 col4\" >3.187500</td>\n",
       "                        <td id=\"T_184d4_row1_col5\" class=\"data row1 col5\" >2.000000</td>\n",
       "                        <td id=\"T_184d4_row1_col6\" class=\"data row1 col6\" >634.875000</td>\n",
       "                        <td id=\"T_184d4_row1_col7\" class=\"data row1 col7\" >17445.437500</td>\n",
       "                        <td id=\"T_184d4_row1_col8\" class=\"data row1 col8\" >664.312500</td>\n",
       "                        <td id=\"T_184d4_row1_col9\" class=\"data row1 col9\" >8.687500</td>\n",
       "                        <td id=\"T_184d4_row1_col10\" class=\"data row1 col10\" >1990.500000</td>\n",
       "                        <td id=\"T_184d4_row1_col11\" class=\"data row1 col11\" >1.812500</td>\n",
       "                        <td id=\"T_184d4_row1_col12\" class=\"data row1 col12\" >10529.801250</td>\n",
       "            </tr>\n",
       "            <tr>\n",
       "                        <th id=\"T_184d4_level0_row2\" class=\"row_heading level0 row2\" >Cluster: 2</th>\n",
       "                        <td id=\"T_184d4_row2_col0\" class=\"data row2 col0\" >4.454545</td>\n",
       "                        <td id=\"T_184d4_row2_col1\" class=\"data row2 col1\" >4.090909</td>\n",
       "                        <td id=\"T_184d4_row2_col2\" class=\"data row2 col2\" >4611.545455</td>\n",
       "                        <td id=\"T_184d4_row2_col3\" class=\"data row2 col3\" >1.909091</td>\n",
       "                        <td id=\"T_184d4_row2_col4\" class=\"data row2 col4\" >4.090909</td>\n",
       "                        <td id=\"T_184d4_row2_col5\" class=\"data row2 col5\" >3.636364</td>\n",
       "                        <td id=\"T_184d4_row2_col6\" class=\"data row2 col6\" >920.000000</td>\n",
       "                        <td id=\"T_184d4_row2_col7\" class=\"data row2 col7\" >62403.909091</td>\n",
       "                        <td id=\"T_184d4_row2_col8\" class=\"data row2 col8\" >610.181818</td>\n",
       "                        <td id=\"T_184d4_row2_col9\" class=\"data row2 col9\" >9.181818</td>\n",
       "                        <td id=\"T_184d4_row2_col10\" class=\"data row2 col10\" >1996.727273</td>\n",
       "                        <td id=\"T_184d4_row2_col11\" class=\"data row2 col11\" >1.545455</td>\n",
       "                        <td id=\"T_184d4_row2_col12\" class=\"data row2 col12\" >15708.941818</td>\n",
       "            </tr>\n",
       "            <tr>\n",
       "                        <th id=\"T_184d4_level0_row3\" class=\"row_heading level0 row3\" >Cluster: 3</th>\n",
       "                        <td id=\"T_184d4_row3_col0\" class=\"data row3 col0\" >3.900000</td>\n",
       "                        <td id=\"T_184d4_row3_col1\" class=\"data row3 col1\" >4.900000</td>\n",
       "                        <td id=\"T_184d4_row3_col2\" class=\"data row3 col2\" >3453.500000</td>\n",
       "                        <td id=\"T_184d4_row3_col3\" class=\"data row3 col3\" >1.800000</td>\n",
       "                        <td id=\"T_184d4_row3_col4\" class=\"data row3 col4\" >3.600000</td>\n",
       "                        <td id=\"T_184d4_row3_col5\" class=\"data row3 col5\" >2.000000</td>\n",
       "                        <td id=\"T_184d4_row3_col6\" class=\"data row3 col6\" >625.800000</td>\n",
       "                        <td id=\"T_184d4_row3_col7\" class=\"data row3 col7\" >17355.700000</td>\n",
       "                        <td id=\"T_184d4_row3_col8\" class=\"data row3 col8\" >393.200000</td>\n",
       "                        <td id=\"T_184d4_row3_col9\" class=\"data row3 col9\" >9.400000</td>\n",
       "                        <td id=\"T_184d4_row3_col10\" class=\"data row3 col10\" >1993.600000</td>\n",
       "                        <td id=\"T_184d4_row3_col11\" class=\"data row3 col11\" >2.000000</td>\n",
       "                        <td id=\"T_184d4_row3_col12\" class=\"data row3 col12\" >8671.322000</td>\n",
       "            </tr>\n",
       "            <tr>\n",
       "                        <th id=\"T_184d4_level0_row4\" class=\"row_heading level0 row4\" >Cluster: 4</th>\n",
       "                        <td id=\"T_184d4_row4_col0\" class=\"data row4 col0\" >2.500000</td>\n",
       "                        <td id=\"T_184d4_row4_col1\" class=\"data row4 col1\" >3.500000</td>\n",
       "                        <td id=\"T_184d4_row4_col2\" class=\"data row4 col2\" >3772.000000</td>\n",
       "                        <td id=\"T_184d4_row4_col3\" class=\"data row4 col3\" >1.500000</td>\n",
       "                        <td id=\"T_184d4_row4_col4\" class=\"data row4 col4\" >2.000000</td>\n",
       "                        <td id=\"T_184d4_row4_col5\" class=\"data row4 col5\" >3.000000</td>\n",
       "                        <td id=\"T_184d4_row4_col6\" class=\"data row4 col6\" >794.000000</td>\n",
       "                        <td id=\"T_184d4_row4_col7\" class=\"data row4 col7\" >76555.500000</td>\n",
       "                        <td id=\"T_184d4_row4_col8\" class=\"data row4 col8\" >836.000000</td>\n",
       "                        <td id=\"T_184d4_row4_col9\" class=\"data row4 col9\" >8.000000</td>\n",
       "                        <td id=\"T_184d4_row4_col10\" class=\"data row4 col10\" >1993.000000</td>\n",
       "                        <td id=\"T_184d4_row4_col11\" class=\"data row4 col11\" >1.000000</td>\n",
       "                        <td id=\"T_184d4_row4_col12\" class=\"data row4 col12\" >19502.850000</td>\n",
       "            </tr>\n",
       "            <tr>\n",
       "                        <th id=\"T_184d4_level0_row5\" class=\"row_heading level0 row5\" >Cluster: 5</th>\n",
       "                        <td id=\"T_184d4_row5_col0\" class=\"data row5 col0\" >5.166667</td>\n",
       "                        <td id=\"T_184d4_row5_col1\" class=\"data row5 col1\" >5.333333</td>\n",
       "                        <td id=\"T_184d4_row5_col2\" class=\"data row5 col2\" >5123.666667</td>\n",
       "                        <td id=\"T_184d4_row5_col3\" class=\"data row5 col3\" >3.000000</td>\n",
       "                        <td id=\"T_184d4_row5_col4\" class=\"data row5 col4\" >4.666667</td>\n",
       "                        <td id=\"T_184d4_row5_col5\" class=\"data row5 col5\" >4.666667</td>\n",
       "                        <td id=\"T_184d4_row5_col6\" class=\"data row5 col6\" >1368.333333</td>\n",
       "                        <td id=\"T_184d4_row5_col7\" class=\"data row5 col7\" >164657.000000</td>\n",
       "                        <td id=\"T_184d4_row5_col8\" class=\"data row5 col8\" >746.666667</td>\n",
       "                        <td id=\"T_184d4_row5_col9\" class=\"data row5 col9\" >11.000000</td>\n",
       "                        <td id=\"T_184d4_row5_col10\" class=\"data row5 col10\" >1992.333333</td>\n",
       "                        <td id=\"T_184d4_row5_col11\" class=\"data row5 col11\" >2.000000</td>\n",
       "                        <td id=\"T_184d4_row5_col12\" class=\"data row5 col12\" >16223.740000</td>\n",
       "            </tr>\n",
       "            <tr>\n",
       "                        <th id=\"T_184d4_level0_row6\" class=\"row_heading level0 row6\" >Cluster: 6</th>\n",
       "                        <td id=\"T_184d4_row6_col0\" class=\"data row6 col0\" >5.000000</td>\n",
       "                        <td id=\"T_184d4_row6_col1\" class=\"data row6 col1\" >3.000000</td>\n",
       "                        <td id=\"T_184d4_row6_col2\" class=\"data row6 col2\" >4361.000000</td>\n",
       "                        <td id=\"T_184d4_row6_col3\" class=\"data row6 col3\" >4.000000</td>\n",
       "                        <td id=\"T_184d4_row6_col4\" class=\"data row6 col4\" >5.000000</td>\n",
       "                        <td id=\"T_184d4_row6_col5\" class=\"data row6 col5\" >3.000000</td>\n",
       "                        <td id=\"T_184d4_row6_col6\" class=\"data row6 col6\" >864.000000</td>\n",
       "                        <td id=\"T_184d4_row6_col7\" class=\"data row6 col7\" >230432.000000</td>\n",
       "                        <td id=\"T_184d4_row6_col8\" class=\"data row6 col8\" >800.000000</td>\n",
       "                        <td id=\"T_184d4_row6_col9\" class=\"data row6 col9\" >7.000000</td>\n",
       "                        <td id=\"T_184d4_row6_col10\" class=\"data row6 col10\" >1987.000000</td>\n",
       "                        <td id=\"T_184d4_row6_col11\" class=\"data row6 col11\" >2.000000</td>\n",
       "                        <td id=\"T_184d4_row6_col12\" class=\"data row6 col12\" >24757.640000</td>\n",
       "            </tr>\n",
       "            <tr>\n",
       "                        <th id=\"T_184d4_level0_row7\" class=\"row_heading level0 row7\" >Cluster: 7</th>\n",
       "                        <td id=\"T_184d4_row7_col0\" class=\"data row7 col0\" >6.500000</td>\n",
       "                        <td id=\"T_184d4_row7_col1\" class=\"data row7 col1\" >5.000000</td>\n",
       "                        <td id=\"T_184d4_row7_col2\" class=\"data row7 col2\" >10188.000000</td>\n",
       "                        <td id=\"T_184d4_row7_col3\" class=\"data row7 col3\" >4.000000</td>\n",
       "                        <td id=\"T_184d4_row7_col4\" class=\"data row7 col4\" >6.000000</td>\n",
       "                        <td id=\"T_184d4_row7_col5\" class=\"data row7 col5\" >8.000000</td>\n",
       "                        <td id=\"T_184d4_row7_col6\" class=\"data row7 col6\" >2204.000000</td>\n",
       "                        <td id=\"T_184d4_row7_col7\" class=\"data row7 col7\" >81022.000000</td>\n",
       "                        <td id=\"T_184d4_row7_col8\" class=\"data row7 col8\" >800.000000</td>\n",
       "                        <td id=\"T_184d4_row7_col9\" class=\"data row7 col9\" >12.000000</td>\n",
       "                        <td id=\"T_184d4_row7_col10\" class=\"data row7 col10\" >2004.000000</td>\n",
       "                        <td id=\"T_184d4_row7_col11\" class=\"data row7 col11\" >2.000000</td>\n",
       "                        <td id=\"T_184d4_row7_col12\" class=\"data row7 col12\" >72020.940000</td>\n",
       "            </tr>\n",
       "            <tr>\n",
       "                        <th id=\"T_184d4_level0_row8\" class=\"row_heading level0 row8\" >Cluster: 8</th>\n",
       "                        <td id=\"T_184d4_row8_col0\" class=\"data row8 col0\" >1.500000</td>\n",
       "                        <td id=\"T_184d4_row8_col1\" class=\"data row8 col1\" >2.000000</td>\n",
       "                        <td id=\"T_184d4_row8_col2\" class=\"data row8 col2\" >1624.000000</td>\n",
       "                        <td id=\"T_184d4_row8_col3\" class=\"data row8 col3\" >1.000000</td>\n",
       "                        <td id=\"T_184d4_row8_col4\" class=\"data row8 col4\" >1.000000</td>\n",
       "                        <td id=\"T_184d4_row8_col5\" class=\"data row8 col5\" >2.000000</td>\n",
       "                        <td id=\"T_184d4_row8_col6\" class=\"data row8 col6\" >432.000000</td>\n",
       "                        <td id=\"T_184d4_row8_col7\" class=\"data row8 col7\" >10980.000000</td>\n",
       "                        <td id=\"T_184d4_row8_col8\" class=\"data row8 col8\" >525.000000</td>\n",
       "                        <td id=\"T_184d4_row8_col9\" class=\"data row8 col9\" >6.000000</td>\n",
       "                        <td id=\"T_184d4_row8_col10\" class=\"data row8 col10\" >1923.000000</td>\n",
       "                        <td id=\"T_184d4_row8_col11\" class=\"data row8 col11\" >1.000000</td>\n",
       "                        <td id=\"T_184d4_row8_col12\" class=\"data row8 col12\" >4713.720000</td>\n",
       "            </tr>\n",
       "            <tr>\n",
       "                        <th id=\"T_184d4_level0_row9\" class=\"row_heading level0 row9\" >Cluster: 9</th>\n",
       "                        <td id=\"T_184d4_row9_col0\" class=\"data row9 col0\" >8.000000</td>\n",
       "                        <td id=\"T_184d4_row9_col1\" class=\"data row9 col1\" >7.000000</td>\n",
       "                        <td id=\"T_184d4_row9_col2\" class=\"data row9 col2\" >15279.000000</td>\n",
       "                        <td id=\"T_184d4_row9_col3\" class=\"data row9 col3\" >4.000000</td>\n",
       "                        <td id=\"T_184d4_row9_col4\" class=\"data row9 col4\" >8.000000</td>\n",
       "                        <td id=\"T_184d4_row9_col5\" class=\"data row9 col5\" >6.000000</td>\n",
       "                        <td id=\"T_184d4_row9_col6\" class=\"data row9 col6\" >1523.000000</td>\n",
       "                        <td id=\"T_184d4_row9_col7\" class=\"data row9 col7\" >76666.000000</td>\n",
       "                        <td id=\"T_184d4_row9_col8\" class=\"data row9 col8\" >600.000000</td>\n",
       "                        <td id=\"T_184d4_row9_col9\" class=\"data row9 col9\" >21.000000</td>\n",
       "                        <td id=\"T_184d4_row9_col10\" class=\"data row9 col10\" >1994.000000</td>\n",
       "                        <td id=\"T_184d4_row9_col11\" class=\"data row9 col11\" >2.000000</td>\n",
       "                        <td id=\"T_184d4_row9_col12\" class=\"data row9 col12\" >40354.840000</td>\n",
       "            </tr>\n",
       "    </tbody></table>"
      ],
      "text/plain": [
       "<pandas.io.formats.style.Styler at 0x13c11d370>"
      ]
     },
     "execution_count": 18,
     "metadata": {},
     "output_type": "execute_result"
    },
    {
     "data": {
      "application/javascript": [
       "\n",
       "            setTimeout(function() {\n",
       "                var nbb_cell_id = 18;\n",
       "                var nbb_unformatted_code = \"clst_avgs = zillow_sub.groupby(\\\"label\\\").mean()\\nclst_avgs.style.background_gradient()\";\n",
       "                var nbb_formatted_code = \"clst_avgs = zillow_sub.groupby(\\\"label\\\").mean()\\nclst_avgs.style.background_gradient()\";\n",
       "                var nbb_cells = Jupyter.notebook.get_cells();\n",
       "                for (var i = 0; i < nbb_cells.length; ++i) {\n",
       "                    if (nbb_cells[i].input_prompt_number == nbb_cell_id) {\n",
       "                        if (nbb_cells[i].get_text() == nbb_unformatted_code) {\n",
       "                             nbb_cells[i].set_text(nbb_formatted_code);\n",
       "                        }\n",
       "                        break;\n",
       "                    }\n",
       "                }\n",
       "            }, 500);\n",
       "            "
      ],
      "text/plain": [
       "<IPython.core.display.Javascript object>"
      ]
     },
     "metadata": {},
     "output_type": "display_data"
    }
   ],
   "source": [
    "clst_avgs = zillow_sub.groupby(\"label\").mean()\n",
    "clst_avgs.style.background_gradient()"
   ]
  },
  {
   "cell_type": "code",
   "execution_count": 19,
   "metadata": {},
   "outputs": [
    {
     "data": {
      "text/html": [
       "<style  type=\"text/css\" >\n",
       "#T_df4ca_row0_col0,#T_df4ca_row0_col1,#T_df4ca_row0_col2,#T_df4ca_row0_col3,#T_df4ca_row0_col4,#T_df4ca_row0_col6,#T_df4ca_row0_col7,#T_df4ca_row0_col9,#T_df4ca_row0_col10,#T_df4ca_row0_col11,#T_df4ca_row0_col12,#T_df4ca_row1_col5,#T_df4ca_row3_col5,#T_df4ca_row3_col8{\n",
       "            background-color:  #fff7fb;\n",
       "            color:  #000000;\n",
       "        }#T_df4ca_row0_col5{\n",
       "            background-color:  #faf3f9;\n",
       "            color:  #000000;\n",
       "        }#T_df4ca_row0_col8{\n",
       "            background-color:  #b7c5df;\n",
       "            color:  #000000;\n",
       "        }#T_df4ca_row1_col0{\n",
       "            background-color:  #6fa7ce;\n",
       "            color:  #000000;\n",
       "        }#T_df4ca_row1_col1{\n",
       "            background-color:  #4496c3;\n",
       "            color:  #000000;\n",
       "        }#T_df4ca_row1_col2,#T_df4ca_row3_col2{\n",
       "            background-color:  #75a9cf;\n",
       "            color:  #000000;\n",
       "        }#T_df4ca_row1_col3,#T_df4ca_row1_col8,#T_df4ca_row2_col0,#T_df4ca_row2_col2,#T_df4ca_row2_col4,#T_df4ca_row2_col5,#T_df4ca_row2_col6,#T_df4ca_row2_col7,#T_df4ca_row2_col10,#T_df4ca_row2_col12,#T_df4ca_row3_col1,#T_df4ca_row3_col9,#T_df4ca_row3_col11{\n",
       "            background-color:  #023858;\n",
       "            color:  #f1f1f1;\n",
       "        }#T_df4ca_row1_col4{\n",
       "            background-color:  #79abd0;\n",
       "            color:  #000000;\n",
       "        }#T_df4ca_row1_col6{\n",
       "            background-color:  #cdd0e5;\n",
       "            color:  #000000;\n",
       "        }#T_df4ca_row1_col7,#T_df4ca_row3_col7{\n",
       "            background-color:  #f8f1f8;\n",
       "            color:  #000000;\n",
       "        }#T_df4ca_row1_col9{\n",
       "            background-color:  #3790c0;\n",
       "            color:  #000000;\n",
       "        }#T_df4ca_row1_col10{\n",
       "            background-color:  #1b7eb7;\n",
       "            color:  #000000;\n",
       "        }#T_df4ca_row1_col11{\n",
       "            background-color:  #2c89bd;\n",
       "            color:  #000000;\n",
       "        }#T_df4ca_row1_col12{\n",
       "            background-color:  #7bacd1;\n",
       "            color:  #000000;\n",
       "        }#T_df4ca_row2_col1{\n",
       "            background-color:  #c2cbe2;\n",
       "            color:  #000000;\n",
       "        }#T_df4ca_row2_col3{\n",
       "            background-color:  #3d93c2;\n",
       "            color:  #000000;\n",
       "        }#T_df4ca_row2_col8{\n",
       "            background-color:  #0567a2;\n",
       "            color:  #f1f1f1;\n",
       "        }#T_df4ca_row2_col9{\n",
       "            background-color:  #045788;\n",
       "            color:  #f1f1f1;\n",
       "        }#T_df4ca_row2_col11{\n",
       "            background-color:  #e6e2ef;\n",
       "            color:  #000000;\n",
       "        }#T_df4ca_row3_col0{\n",
       "            background-color:  #197db7;\n",
       "            color:  #000000;\n",
       "        }#T_df4ca_row3_col3{\n",
       "            background-color:  #78abd0;\n",
       "            color:  #000000;\n",
       "        }#T_df4ca_row3_col4{\n",
       "            background-color:  #1077b4;\n",
       "            color:  #f1f1f1;\n",
       "        }#T_df4ca_row3_col6{\n",
       "            background-color:  #d3d4e7;\n",
       "            color:  #000000;\n",
       "        }#T_df4ca_row3_col10{\n",
       "            background-color:  #045f95;\n",
       "            color:  #f1f1f1;\n",
       "        }#T_df4ca_row3_col12{\n",
       "            background-color:  #c0c9e2;\n",
       "            color:  #000000;\n",
       "        }</style><table id=\"T_df4ca_\" ><thead>    <tr>        <th class=\"blank level0\" ></th>        <th class=\"col_heading level0 col0\" >bathroomcnt</th>        <th class=\"col_heading level0 col1\" >bedroomcnt</th>        <th class=\"col_heading level0 col2\" >calculatedfinishedsquarefeet</th>        <th class=\"col_heading level0 col3\" >fireplacecnt</th>        <th class=\"col_heading level0 col4\" >fullbathcnt</th>        <th class=\"col_heading level0 col5\" >garagecarcnt</th>        <th class=\"col_heading level0 col6\" >garagetotalsqft</th>        <th class=\"col_heading level0 col7\" >lotsizesquarefeet</th>        <th class=\"col_heading level0 col8\" >poolsizesum</th>        <th class=\"col_heading level0 col9\" >roomcnt</th>        <th class=\"col_heading level0 col10\" >yearbuilt</th>        <th class=\"col_heading level0 col11\" >numberofstories</th>        <th class=\"col_heading level0 col12\" >taxamount</th>    </tr>    <tr>        <th class=\"index_name level0\" >label</th>        <th class=\"blank\" ></th>        <th class=\"blank\" ></th>        <th class=\"blank\" ></th>        <th class=\"blank\" ></th>        <th class=\"blank\" ></th>        <th class=\"blank\" ></th>        <th class=\"blank\" ></th>        <th class=\"blank\" ></th>        <th class=\"blank\" ></th>        <th class=\"blank\" ></th>        <th class=\"blank\" ></th>        <th class=\"blank\" ></th>        <th class=\"blank\" ></th>    </tr></thead><tbody>\n",
       "                <tr>\n",
       "                        <th id=\"T_df4ca_level0_row0\" class=\"row_heading level0 row0\" >Cluster: 0</th>\n",
       "                        <td id=\"T_df4ca_row0_col0\" class=\"data row0 col0\" >2.629630</td>\n",
       "                        <td id=\"T_df4ca_row0_col1\" class=\"data row0 col1\" >3.759259</td>\n",
       "                        <td id=\"T_df4ca_row0_col2\" class=\"data row0 col2\" >2308.407407</td>\n",
       "                        <td id=\"T_df4ca_row0_col3\" class=\"data row0 col3\" >1.370370</td>\n",
       "                        <td id=\"T_df4ca_row0_col4\" class=\"data row0 col4\" >2.333333</td>\n",
       "                        <td id=\"T_df4ca_row0_col5\" class=\"data row0 col5\" >2.055556</td>\n",
       "                        <td id=\"T_df4ca_row0_col6\" class=\"data row0 col6\" >535.185185</td>\n",
       "                        <td id=\"T_df4ca_row0_col7\" class=\"data row0 col7\" >15063.592593</td>\n",
       "                        <td id=\"T_df4ca_row0_col8\" class=\"data row0 col8\" >482.111111</td>\n",
       "                        <td id=\"T_df4ca_row0_col9\" class=\"data row0 col9\" >7.518519</td>\n",
       "                        <td id=\"T_df4ca_row0_col10\" class=\"data row0 col10\" >1976.407407</td>\n",
       "                        <td id=\"T_df4ca_row0_col11\" class=\"data row0 col11\" >1.462963</td>\n",
       "                        <td id=\"T_df4ca_row0_col12\" class=\"data row0 col12\" >5674.563704</td>\n",
       "            </tr>\n",
       "            <tr>\n",
       "                        <th id=\"T_df4ca_level0_row1\" class=\"row_heading level0 row1\" >Cluster: 1</th>\n",
       "                        <td id=\"T_df4ca_row1_col0\" class=\"data row1 col0\" >3.562500</td>\n",
       "                        <td id=\"T_df4ca_row1_col1\" class=\"data row1 col1\" >4.437500</td>\n",
       "                        <td id=\"T_df4ca_row1_col2\" class=\"data row1 col2\" >3453.187500</td>\n",
       "                        <td id=\"T_df4ca_row1_col3\" class=\"data row1 col3\" >2.250000</td>\n",
       "                        <td id=\"T_df4ca_row1_col4\" class=\"data row1 col4\" >3.187500</td>\n",
       "                        <td id=\"T_df4ca_row1_col5\" class=\"data row1 col5\" >2.000000</td>\n",
       "                        <td id=\"T_df4ca_row1_col6\" class=\"data row1 col6\" >634.875000</td>\n",
       "                        <td id=\"T_df4ca_row1_col7\" class=\"data row1 col7\" >17445.437500</td>\n",
       "                        <td id=\"T_df4ca_row1_col8\" class=\"data row1 col8\" >664.312500</td>\n",
       "                        <td id=\"T_df4ca_row1_col9\" class=\"data row1 col9\" >8.687500</td>\n",
       "                        <td id=\"T_df4ca_row1_col10\" class=\"data row1 col10\" >1990.500000</td>\n",
       "                        <td id=\"T_df4ca_row1_col11\" class=\"data row1 col11\" >1.812500</td>\n",
       "                        <td id=\"T_df4ca_row1_col12\" class=\"data row1 col12\" >10529.801250</td>\n",
       "            </tr>\n",
       "            <tr>\n",
       "                        <th id=\"T_df4ca_level0_row2\" class=\"row_heading level0 row2\" >Cluster: 2</th>\n",
       "                        <td id=\"T_df4ca_row2_col0\" class=\"data row2 col0\" >4.454545</td>\n",
       "                        <td id=\"T_df4ca_row2_col1\" class=\"data row2 col1\" >4.090909</td>\n",
       "                        <td id=\"T_df4ca_row2_col2\" class=\"data row2 col2\" >4611.545455</td>\n",
       "                        <td id=\"T_df4ca_row2_col3\" class=\"data row2 col3\" >1.909091</td>\n",
       "                        <td id=\"T_df4ca_row2_col4\" class=\"data row2 col4\" >4.090909</td>\n",
       "                        <td id=\"T_df4ca_row2_col5\" class=\"data row2 col5\" >3.636364</td>\n",
       "                        <td id=\"T_df4ca_row2_col6\" class=\"data row2 col6\" >920.000000</td>\n",
       "                        <td id=\"T_df4ca_row2_col7\" class=\"data row2 col7\" >62403.909091</td>\n",
       "                        <td id=\"T_df4ca_row2_col8\" class=\"data row2 col8\" >610.181818</td>\n",
       "                        <td id=\"T_df4ca_row2_col9\" class=\"data row2 col9\" >9.181818</td>\n",
       "                        <td id=\"T_df4ca_row2_col10\" class=\"data row2 col10\" >1996.727273</td>\n",
       "                        <td id=\"T_df4ca_row2_col11\" class=\"data row2 col11\" >1.545455</td>\n",
       "                        <td id=\"T_df4ca_row2_col12\" class=\"data row2 col12\" >15708.941818</td>\n",
       "            </tr>\n",
       "            <tr>\n",
       "                        <th id=\"T_df4ca_level0_row3\" class=\"row_heading level0 row3\" >Cluster: 3</th>\n",
       "                        <td id=\"T_df4ca_row3_col0\" class=\"data row3 col0\" >3.900000</td>\n",
       "                        <td id=\"T_df4ca_row3_col1\" class=\"data row3 col1\" >4.900000</td>\n",
       "                        <td id=\"T_df4ca_row3_col2\" class=\"data row3 col2\" >3453.500000</td>\n",
       "                        <td id=\"T_df4ca_row3_col3\" class=\"data row3 col3\" >1.800000</td>\n",
       "                        <td id=\"T_df4ca_row3_col4\" class=\"data row3 col4\" >3.600000</td>\n",
       "                        <td id=\"T_df4ca_row3_col5\" class=\"data row3 col5\" >2.000000</td>\n",
       "                        <td id=\"T_df4ca_row3_col6\" class=\"data row3 col6\" >625.800000</td>\n",
       "                        <td id=\"T_df4ca_row3_col7\" class=\"data row3 col7\" >17355.700000</td>\n",
       "                        <td id=\"T_df4ca_row3_col8\" class=\"data row3 col8\" >393.200000</td>\n",
       "                        <td id=\"T_df4ca_row3_col9\" class=\"data row3 col9\" >9.400000</td>\n",
       "                        <td id=\"T_df4ca_row3_col10\" class=\"data row3 col10\" >1993.600000</td>\n",
       "                        <td id=\"T_df4ca_row3_col11\" class=\"data row3 col11\" >2.000000</td>\n",
       "                        <td id=\"T_df4ca_row3_col12\" class=\"data row3 col12\" >8671.322000</td>\n",
       "            </tr>\n",
       "    </tbody></table>"
      ],
      "text/plain": [
       "<pandas.io.formats.style.Styler at 0x13c3001f0>"
      ]
     },
     "execution_count": 19,
     "metadata": {},
     "output_type": "execute_result"
    },
    {
     "data": {
      "application/javascript": [
       "\n",
       "            setTimeout(function() {\n",
       "                var nbb_cell_id = 19;\n",
       "                var nbb_unformatted_code = \"clst_avgs.iloc[:4].style.background_gradient()\";\n",
       "                var nbb_formatted_code = \"clst_avgs.iloc[:4].style.background_gradient()\";\n",
       "                var nbb_cells = Jupyter.notebook.get_cells();\n",
       "                for (var i = 0; i < nbb_cells.length; ++i) {\n",
       "                    if (nbb_cells[i].input_prompt_number == nbb_cell_id) {\n",
       "                        if (nbb_cells[i].get_text() == nbb_unformatted_code) {\n",
       "                             nbb_cells[i].set_text(nbb_formatted_code);\n",
       "                        }\n",
       "                        break;\n",
       "                    }\n",
       "                }\n",
       "            }, 500);\n",
       "            "
      ],
      "text/plain": [
       "<IPython.core.display.Javascript object>"
      ]
     },
     "metadata": {},
     "output_type": "display_data"
    }
   ],
   "source": [
    "clst_avgs.iloc[:4].style.background_gradient()"
   ]
  },
  {
   "cell_type": "code",
   "execution_count": 20,
   "metadata": {},
   "outputs": [
    {
     "data": {
      "text/html": [
       "<div>\n",
       "<style scoped>\n",
       "    .dataframe tbody tr th:only-of-type {\n",
       "        vertical-align: middle;\n",
       "    }\n",
       "\n",
       "    .dataframe tbody tr th {\n",
       "        vertical-align: top;\n",
       "    }\n",
       "\n",
       "    .dataframe thead th {\n",
       "        text-align: right;\n",
       "    }\n",
       "</style>\n",
       "<table border=\"1\" class=\"dataframe\">\n",
       "  <thead>\n",
       "    <tr style=\"text-align: right;\">\n",
       "      <th></th>\n",
       "      <th>parcelid</th>\n",
       "      <th>bathroomcnt</th>\n",
       "      <th>bedroomcnt</th>\n",
       "      <th>calculatedbathnbr</th>\n",
       "      <th>finishedfloor1squarefeet</th>\n",
       "      <th>calculatedfinishedsquarefeet</th>\n",
       "      <th>finishedsquarefeet12</th>\n",
       "      <th>finishedsquarefeet50</th>\n",
       "      <th>fips</th>\n",
       "      <th>fireplacecnt</th>\n",
       "      <th>...</th>\n",
       "      <th>regionidzip</th>\n",
       "      <th>roomcnt</th>\n",
       "      <th>yearbuilt</th>\n",
       "      <th>numberofstories</th>\n",
       "      <th>structuretaxvaluedollarcnt</th>\n",
       "      <th>taxvaluedollarcnt</th>\n",
       "      <th>assessmentyear</th>\n",
       "      <th>landtaxvaluedollarcnt</th>\n",
       "      <th>taxamount</th>\n",
       "      <th>censustractandblock</th>\n",
       "    </tr>\n",
       "  </thead>\n",
       "  <tbody>\n",
       "    <tr>\n",
       "      <th>14591</th>\n",
       "      <td>17222882</td>\n",
       "      <td>3.0</td>\n",
       "      <td>3</td>\n",
       "      <td>3.0</td>\n",
       "      <td>1565.0</td>\n",
       "      <td>2779</td>\n",
       "      <td>2779.0</td>\n",
       "      <td>1565.0</td>\n",
       "      <td>6111</td>\n",
       "      <td>2.0</td>\n",
       "      <td>...</td>\n",
       "      <td>97118</td>\n",
       "      <td>8</td>\n",
       "      <td>1988.0</td>\n",
       "      <td>2.0</td>\n",
       "      <td>324392</td>\n",
       "      <td>648784</td>\n",
       "      <td>2016</td>\n",
       "      <td>324392</td>\n",
       "      <td>7340.82</td>\n",
       "      <td>6.111008e+13</td>\n",
       "    </tr>\n",
       "    <tr>\n",
       "      <th>14939</th>\n",
       "      <td>17300793</td>\n",
       "      <td>3.0</td>\n",
       "      <td>3</td>\n",
       "      <td>3.0</td>\n",
       "      <td>1524.0</td>\n",
       "      <td>2902</td>\n",
       "      <td>2902.0</td>\n",
       "      <td>1524.0</td>\n",
       "      <td>6111</td>\n",
       "      <td>2.0</td>\n",
       "      <td>...</td>\n",
       "      <td>96342</td>\n",
       "      <td>7</td>\n",
       "      <td>1977.0</td>\n",
       "      <td>2.0</td>\n",
       "      <td>469425</td>\n",
       "      <td>1024253</td>\n",
       "      <td>2016</td>\n",
       "      <td>554828</td>\n",
       "      <td>11795.98</td>\n",
       "      <td>6.111008e+13</td>\n",
       "    </tr>\n",
       "    <tr>\n",
       "      <th>12049</th>\n",
       "      <td>17240329</td>\n",
       "      <td>3.0</td>\n",
       "      <td>4</td>\n",
       "      <td>3.0</td>\n",
       "      <td>1453.0</td>\n",
       "      <td>2295</td>\n",
       "      <td>2295.0</td>\n",
       "      <td>1453.0</td>\n",
       "      <td>6111</td>\n",
       "      <td>2.0</td>\n",
       "      <td>...</td>\n",
       "      <td>97116</td>\n",
       "      <td>8</td>\n",
       "      <td>1979.0</td>\n",
       "      <td>2.0</td>\n",
       "      <td>228144</td>\n",
       "      <td>380236</td>\n",
       "      <td>2016</td>\n",
       "      <td>152092</td>\n",
       "      <td>4799.22</td>\n",
       "      <td>6.111008e+13</td>\n",
       "    </tr>\n",
       "    <tr>\n",
       "      <th>6551</th>\n",
       "      <td>17287190</td>\n",
       "      <td>2.5</td>\n",
       "      <td>4</td>\n",
       "      <td>2.5</td>\n",
       "      <td>2502.0</td>\n",
       "      <td>2502</td>\n",
       "      <td>2502.0</td>\n",
       "      <td>2502.0</td>\n",
       "      <td>6111</td>\n",
       "      <td>2.0</td>\n",
       "      <td>...</td>\n",
       "      <td>96393</td>\n",
       "      <td>8</td>\n",
       "      <td>1987.0</td>\n",
       "      <td>1.0</td>\n",
       "      <td>592633</td>\n",
       "      <td>1185266</td>\n",
       "      <td>2016</td>\n",
       "      <td>592633</td>\n",
       "      <td>14373.32</td>\n",
       "      <td>6.111007e+13</td>\n",
       "    </tr>\n",
       "    <tr>\n",
       "      <th>12445</th>\n",
       "      <td>17248903</td>\n",
       "      <td>2.0</td>\n",
       "      <td>4</td>\n",
       "      <td>2.0</td>\n",
       "      <td>1717.0</td>\n",
       "      <td>1717</td>\n",
       "      <td>1717.0</td>\n",
       "      <td>1717.0</td>\n",
       "      <td>6111</td>\n",
       "      <td>1.0</td>\n",
       "      <td>...</td>\n",
       "      <td>97118</td>\n",
       "      <td>7</td>\n",
       "      <td>1971.0</td>\n",
       "      <td>1.0</td>\n",
       "      <td>215651</td>\n",
       "      <td>342776</td>\n",
       "      <td>2016</td>\n",
       "      <td>127125</td>\n",
       "      <td>4060.88</td>\n",
       "      <td>6.111008e+13</td>\n",
       "    </tr>\n",
       "  </tbody>\n",
       "</table>\n",
       "<p>5 rows × 34 columns</p>\n",
       "</div>"
      ],
      "text/plain": [
       "       parcelid  bathroomcnt  bedroomcnt  calculatedbathnbr  \\\n",
       "14591  17222882          3.0           3                3.0   \n",
       "14939  17300793          3.0           3                3.0   \n",
       "12049  17240329          3.0           4                3.0   \n",
       "6551   17287190          2.5           4                2.5   \n",
       "12445  17248903          2.0           4                2.0   \n",
       "\n",
       "       finishedfloor1squarefeet  calculatedfinishedsquarefeet  \\\n",
       "14591                    1565.0                          2779   \n",
       "14939                    1524.0                          2902   \n",
       "12049                    1453.0                          2295   \n",
       "6551                     2502.0                          2502   \n",
       "12445                    1717.0                          1717   \n",
       "\n",
       "       finishedsquarefeet12  finishedsquarefeet50  fips  fireplacecnt  ...  \\\n",
       "14591                2779.0                1565.0  6111           2.0  ...   \n",
       "14939                2902.0                1524.0  6111           2.0  ...   \n",
       "12049                2295.0                1453.0  6111           2.0  ...   \n",
       "6551                 2502.0                2502.0  6111           2.0  ...   \n",
       "12445                1717.0                1717.0  6111           1.0  ...   \n",
       "\n",
       "       regionidzip  roomcnt  yearbuilt  numberofstories  \\\n",
       "14591        97118        8     1988.0              2.0   \n",
       "14939        96342        7     1977.0              2.0   \n",
       "12049        97116        8     1979.0              2.0   \n",
       "6551         96393        8     1987.0              1.0   \n",
       "12445        97118        7     1971.0              1.0   \n",
       "\n",
       "       structuretaxvaluedollarcnt  taxvaluedollarcnt  assessmentyear  \\\n",
       "14591                      324392             648784            2016   \n",
       "14939                      469425            1024253            2016   \n",
       "12049                      228144             380236            2016   \n",
       "6551                       592633            1185266            2016   \n",
       "12445                      215651             342776            2016   \n",
       "\n",
       "       landtaxvaluedollarcnt  taxamount censustractandblock  \n",
       "14591                 324392    7340.82        6.111008e+13  \n",
       "14939                 554828   11795.98        6.111008e+13  \n",
       "12049                 152092    4799.22        6.111008e+13  \n",
       "6551                  592633   14373.32        6.111007e+13  \n",
       "12445                 127125    4060.88        6.111008e+13  \n",
       "\n",
       "[5 rows x 34 columns]"
      ]
     },
     "execution_count": 20,
     "metadata": {},
     "output_type": "execute_result"
    },
    {
     "data": {
      "application/javascript": [
       "\n",
       "            setTimeout(function() {\n",
       "                var nbb_cell_id = 20;\n",
       "                var nbb_unformatted_code = \"zillow[zillow_sub[\\\"label\\\"] == \\\"Cluster: 0\\\"].head()\";\n",
       "                var nbb_formatted_code = \"zillow[zillow_sub[\\\"label\\\"] == \\\"Cluster: 0\\\"].head()\";\n",
       "                var nbb_cells = Jupyter.notebook.get_cells();\n",
       "                for (var i = 0; i < nbb_cells.length; ++i) {\n",
       "                    if (nbb_cells[i].input_prompt_number == nbb_cell_id) {\n",
       "                        if (nbb_cells[i].get_text() == nbb_unformatted_code) {\n",
       "                             nbb_cells[i].set_text(nbb_formatted_code);\n",
       "                        }\n",
       "                        break;\n",
       "                    }\n",
       "                }\n",
       "            }, 500);\n",
       "            "
      ],
      "text/plain": [
       "<IPython.core.display.Javascript object>"
      ]
     },
     "metadata": {},
     "output_type": "display_data"
    }
   ],
   "source": [
    "zillow[zillow_sub[\"label\"] == \"Cluster: 0\"].head()"
   ]
  },
  {
   "cell_type": "code",
   "execution_count": 21,
   "metadata": {
    "scrolled": true
   },
   "outputs": [
    {
     "data": {
      "application/javascript": [
       "\n",
       "            setTimeout(function() {\n",
       "                var nbb_cell_id = 21;\n",
       "                var nbb_unformatted_code = \"# sns.pairplot(zillow_sub.iloc[:, -5:], hue=\\\"label\\\")\\n# plt.show()\";\n",
       "                var nbb_formatted_code = \"# sns.pairplot(zillow_sub.iloc[:, -5:], hue=\\\"label\\\")\\n# plt.show()\";\n",
       "                var nbb_cells = Jupyter.notebook.get_cells();\n",
       "                for (var i = 0; i < nbb_cells.length; ++i) {\n",
       "                    if (nbb_cells[i].input_prompt_number == nbb_cell_id) {\n",
       "                        if (nbb_cells[i].get_text() == nbb_unformatted_code) {\n",
       "                             nbb_cells[i].set_text(nbb_formatted_code);\n",
       "                        }\n",
       "                        break;\n",
       "                    }\n",
       "                }\n",
       "            }, 500);\n",
       "            "
      ],
      "text/plain": [
       "<IPython.core.display.Javascript object>"
      ]
     },
     "metadata": {},
     "output_type": "display_data"
    }
   ],
   "source": [
    "# sns.pairplot(zillow_sub.iloc[:, -5:], hue=\"label\")\n",
    "# plt.show()"
   ]
  },
  {
   "cell_type": "markdown",
   "metadata": {
    "colab_type": "text",
    "id": "31YU3r06fp9i"
   },
   "source": [
    "## DBSCAN Clustering\n",
    "\n",
    "Links:\n",
    "* [A cool demo animation](https://www.youtube.com/watch?v=h53WMIImUuc&feature=youtu.be&t=2)\n",
    "* [Video to try and slow down and discuss the process shown in the animation animation](https://youtu.be/xzPh9R52xDs)"
   ]
  },
  {
   "cell_type": "markdown",
   "metadata": {
    "colab_type": "text",
    "id": "Y0rnvLQvmEOI"
   },
   "source": [
    "Perform clustering with [`sklearn.cluster.DBSCAN`](https://scikit-learn.org/stable/modules/generated/sklearn.cluster.DBSCAN.html)."
   ]
  },
  {
   "cell_type": "code",
   "execution_count": 22,
   "metadata": {},
   "outputs": [
    {
     "data": {
      "text/plain": [
       "2.228413948828053"
      ]
     },
     "execution_count": 22,
     "metadata": {},
     "output_type": "execute_result"
    },
    {
     "data": {
      "application/javascript": [
       "\n",
       "            setTimeout(function() {\n",
       "                var nbb_cell_id = 22;\n",
       "                var nbb_unformatted_code = \"# Not a great way to set an informed starting eps here\\n# Potentially use percentile as a way to make a somewhat\\n# informed starting eps\\nnp.percentile(dist_mat, 10)\";\n",
       "                var nbb_formatted_code = \"# Not a great way to set an informed starting eps here\\n# Potentially use percentile as a way to make a somewhat\\n# informed starting eps\\nnp.percentile(dist_mat, 10)\";\n",
       "                var nbb_cells = Jupyter.notebook.get_cells();\n",
       "                for (var i = 0; i < nbb_cells.length; ++i) {\n",
       "                    if (nbb_cells[i].input_prompt_number == nbb_cell_id) {\n",
       "                        if (nbb_cells[i].get_text() == nbb_unformatted_code) {\n",
       "                             nbb_cells[i].set_text(nbb_formatted_code);\n",
       "                        }\n",
       "                        break;\n",
       "                    }\n",
       "                }\n",
       "            }, 500);\n",
       "            "
      ],
      "text/plain": [
       "<IPython.core.display.Javascript object>"
      ]
     },
     "metadata": {},
     "output_type": "display_data"
    }
   ],
   "source": [
    "# Not a great way to set an informed starting eps here\n",
    "# Potentially use percentile as a way to make a somewhat\n",
    "# informed starting eps\n",
    "np.percentile(dist_mat, 10)"
   ]
  },
  {
   "cell_type": "code",
   "execution_count": 23,
   "metadata": {
    "colab": {
     "base_uri": "https://localhost:8080/",
     "height": 51
    },
    "colab_type": "code",
    "id": "Uq8aembmd2MC",
    "outputId": "54160fed-d335-47ca-b4d6-717ba45db663"
   },
   "outputs": [
    {
     "data": {
      "text/plain": [
       "DBSCAN(eps=2)"
      ]
     },
     "execution_count": 23,
     "metadata": {},
     "output_type": "execute_result"
    },
    {
     "data": {
      "application/javascript": [
       "\n",
       "            setTimeout(function() {\n",
       "                var nbb_cell_id = 23;\n",
       "                var nbb_unformatted_code = \"clst = DBSCAN(eps=2, min_samples=5, metric=\\\"euclidean\\\")\\nclst.fit(scaled)\";\n",
       "                var nbb_formatted_code = \"clst = DBSCAN(eps=2, min_samples=5, metric=\\\"euclidean\\\")\\nclst.fit(scaled)\";\n",
       "                var nbb_cells = Jupyter.notebook.get_cells();\n",
       "                for (var i = 0; i < nbb_cells.length; ++i) {\n",
       "                    if (nbb_cells[i].input_prompt_number == nbb_cell_id) {\n",
       "                        if (nbb_cells[i].get_text() == nbb_unformatted_code) {\n",
       "                             nbb_cells[i].set_text(nbb_formatted_code);\n",
       "                        }\n",
       "                        break;\n",
       "                    }\n",
       "                }\n",
       "            }, 500);\n",
       "            "
      ],
      "text/plain": [
       "<IPython.core.display.Javascript object>"
      ]
     },
     "metadata": {},
     "output_type": "display_data"
    }
   ],
   "source": [
    "clst = DBSCAN(eps=2, min_samples=5, metric=\"euclidean\")\n",
    "clst.fit(scaled)"
   ]
  },
  {
   "cell_type": "markdown",
   "metadata": {
    "colab_type": "text",
    "id": "EEPF55HamK2m"
   },
   "source": [
    "Assign the labels to the dataframe"
   ]
  },
  {
   "cell_type": "code",
   "execution_count": 24,
   "metadata": {
    "colab": {},
    "colab_type": "code",
    "id": "GaKLFy69gXMy"
   },
   "outputs": [
    {
     "data": {
      "application/javascript": [
       "\n",
       "            setTimeout(function() {\n",
       "                var nbb_cell_id = 24;\n",
       "                var nbb_unformatted_code = \"zillow_sub[\\\"label\\\"] = clst.labels_\\nzillow_sub[\\\"label\\\"] = \\\"Cluster: \\\" + zillow_sub[\\\"label\\\"].astype(str)\";\n",
       "                var nbb_formatted_code = \"zillow_sub[\\\"label\\\"] = clst.labels_\\nzillow_sub[\\\"label\\\"] = \\\"Cluster: \\\" + zillow_sub[\\\"label\\\"].astype(str)\";\n",
       "                var nbb_cells = Jupyter.notebook.get_cells();\n",
       "                for (var i = 0; i < nbb_cells.length; ++i) {\n",
       "                    if (nbb_cells[i].input_prompt_number == nbb_cell_id) {\n",
       "                        if (nbb_cells[i].get_text() == nbb_unformatted_code) {\n",
       "                             nbb_cells[i].set_text(nbb_formatted_code);\n",
       "                        }\n",
       "                        break;\n",
       "                    }\n",
       "                }\n",
       "            }, 500);\n",
       "            "
      ],
      "text/plain": [
       "<IPython.core.display.Javascript object>"
      ]
     },
     "metadata": {},
     "output_type": "display_data"
    }
   ],
   "source": [
    "zillow_sub[\"label\"] = clst.labels_\n",
    "zillow_sub[\"label\"] = \"Cluster: \" + zillow_sub[\"label\"].astype(str)"
   ]
  },
  {
   "cell_type": "code",
   "execution_count": 25,
   "metadata": {},
   "outputs": [
    {
     "data": {
      "text/plain": [
       "Cluster: 0    46\n",
       "Cluster: 1    23\n",
       "Name: label, dtype: int64"
      ]
     },
     "execution_count": 25,
     "metadata": {},
     "output_type": "execute_result"
    },
    {
     "data": {
      "application/javascript": [
       "\n",
       "            setTimeout(function() {\n",
       "                var nbb_cell_id = 25;\n",
       "                var nbb_unformatted_code = \"dbscan_clusters = zillow_sub[zillow_sub[\\\"label\\\"] != \\\"Cluster: -1\\\"]\\ndbscan_clusters[\\\"label\\\"].value_counts()\";\n",
       "                var nbb_formatted_code = \"dbscan_clusters = zillow_sub[zillow_sub[\\\"label\\\"] != \\\"Cluster: -1\\\"]\\ndbscan_clusters[\\\"label\\\"].value_counts()\";\n",
       "                var nbb_cells = Jupyter.notebook.get_cells();\n",
       "                for (var i = 0; i < nbb_cells.length; ++i) {\n",
       "                    if (nbb_cells[i].input_prompt_number == nbb_cell_id) {\n",
       "                        if (nbb_cells[i].get_text() == nbb_unformatted_code) {\n",
       "                             nbb_cells[i].set_text(nbb_formatted_code);\n",
       "                        }\n",
       "                        break;\n",
       "                    }\n",
       "                }\n",
       "            }, 500);\n",
       "            "
      ],
      "text/plain": [
       "<IPython.core.display.Javascript object>"
      ]
     },
     "metadata": {},
     "output_type": "display_data"
    }
   ],
   "source": [
    "dbscan_clusters = zillow_sub[zillow_sub[\"label\"] != \"Cluster: -1\"]\n",
    "dbscan_clusters[\"label\"].value_counts()"
   ]
  },
  {
   "cell_type": "markdown",
   "metadata": {
    "colab_type": "text",
    "id": "-3XraG3UmVEA"
   },
   "source": [
    "Perform clustering with DBSCAN using the distance matrix (with the same `eps` and `min_samples`."
   ]
  },
  {
   "cell_type": "code",
   "execution_count": 26,
   "metadata": {
    "colab": {
     "base_uri": "https://localhost:8080/",
     "height": 51
    },
    "colab_type": "code",
    "id": "-yLUZrp8mZeh",
    "outputId": "a6068aba-79d8-442c-b362-8949d89d7b26"
   },
   "outputs": [
    {
     "data": {
      "text/plain": [
       "DBSCAN(eps=2, metric='precomputed')"
      ]
     },
     "execution_count": 26,
     "metadata": {},
     "output_type": "execute_result"
    },
    {
     "data": {
      "application/javascript": [
       "\n",
       "            setTimeout(function() {\n",
       "                var nbb_cell_id = 26;\n",
       "                var nbb_unformatted_code = \"# Precompute if not using a typical distance\\n# (ie always precompute for cat or mixed)\\nclst = DBSCAN(eps=2, min_samples=5, metric=\\\"precomputed\\\")\\nclst.fit(dist_mat)\";\n",
       "                var nbb_formatted_code = \"# Precompute if not using a typical distance\\n# (ie always precompute for cat or mixed)\\nclst = DBSCAN(eps=2, min_samples=5, metric=\\\"precomputed\\\")\\nclst.fit(dist_mat)\";\n",
       "                var nbb_cells = Jupyter.notebook.get_cells();\n",
       "                for (var i = 0; i < nbb_cells.length; ++i) {\n",
       "                    if (nbb_cells[i].input_prompt_number == nbb_cell_id) {\n",
       "                        if (nbb_cells[i].get_text() == nbb_unformatted_code) {\n",
       "                             nbb_cells[i].set_text(nbb_formatted_code);\n",
       "                        }\n",
       "                        break;\n",
       "                    }\n",
       "                }\n",
       "            }, 500);\n",
       "            "
      ],
      "text/plain": [
       "<IPython.core.display.Javascript object>"
      ]
     },
     "metadata": {},
     "output_type": "display_data"
    }
   ],
   "source": [
    "# Precompute if not using a typical distance\n",
    "# (ie always precompute for cat or mixed)\n",
    "clst = DBSCAN(eps=2, min_samples=5, metric=\"precomputed\")\n",
    "clst.fit(dist_mat)"
   ]
  },
  {
   "cell_type": "markdown",
   "metadata": {
    "colab_type": "text",
    "id": "7xeAZn6pmaTR"
   },
   "source": [
    "Confirm you get the same results"
   ]
  },
  {
   "cell_type": "code",
   "execution_count": 27,
   "metadata": {
    "colab": {},
    "colab_type": "code",
    "id": "jcejCrMymhFu"
   },
   "outputs": [
    {
     "data": {
      "application/javascript": [
       "\n",
       "            setTimeout(function() {\n",
       "                var nbb_cell_id = 27;\n",
       "                var nbb_unformatted_code = \"zillow_sub[\\\"label\\\"] = clst.labels_\\nzillow_sub[\\\"label\\\"] = \\\"Cluster: \\\" + zillow_sub[\\\"label\\\"].astype(str)\";\n",
       "                var nbb_formatted_code = \"zillow_sub[\\\"label\\\"] = clst.labels_\\nzillow_sub[\\\"label\\\"] = \\\"Cluster: \\\" + zillow_sub[\\\"label\\\"].astype(str)\";\n",
       "                var nbb_cells = Jupyter.notebook.get_cells();\n",
       "                for (var i = 0; i < nbb_cells.length; ++i) {\n",
       "                    if (nbb_cells[i].input_prompt_number == nbb_cell_id) {\n",
       "                        if (nbb_cells[i].get_text() == nbb_unformatted_code) {\n",
       "                             nbb_cells[i].set_text(nbb_formatted_code);\n",
       "                        }\n",
       "                        break;\n",
       "                    }\n",
       "                }\n",
       "            }, 500);\n",
       "            "
      ],
      "text/plain": [
       "<IPython.core.display.Javascript object>"
      ]
     },
     "metadata": {},
     "output_type": "display_data"
    }
   ],
   "source": [
    "zillow_sub[\"label\"] = clst.labels_\n",
    "zillow_sub[\"label\"] = \"Cluster: \" + zillow_sub[\"label\"].astype(str)"
   ]
  },
  {
   "cell_type": "code",
   "execution_count": 28,
   "metadata": {},
   "outputs": [
    {
     "data": {
      "text/plain": [
       "Cluster: 0    46\n",
       "Cluster: 1    23\n",
       "Name: label, dtype: int64"
      ]
     },
     "execution_count": 28,
     "metadata": {},
     "output_type": "execute_result"
    },
    {
     "data": {
      "application/javascript": [
       "\n",
       "            setTimeout(function() {\n",
       "                var nbb_cell_id = 28;\n",
       "                var nbb_unformatted_code = \"dbscan_clusters = zillow_sub[zillow_sub[\\\"label\\\"] != \\\"Cluster: -1\\\"]\\ndbscan_clusters[\\\"label\\\"].value_counts()\";\n",
       "                var nbb_formatted_code = \"dbscan_clusters = zillow_sub[zillow_sub[\\\"label\\\"] != \\\"Cluster: -1\\\"]\\ndbscan_clusters[\\\"label\\\"].value_counts()\";\n",
       "                var nbb_cells = Jupyter.notebook.get_cells();\n",
       "                for (var i = 0; i < nbb_cells.length; ++i) {\n",
       "                    if (nbb_cells[i].input_prompt_number == nbb_cell_id) {\n",
       "                        if (nbb_cells[i].get_text() == nbb_unformatted_code) {\n",
       "                             nbb_cells[i].set_text(nbb_formatted_code);\n",
       "                        }\n",
       "                        break;\n",
       "                    }\n",
       "                }\n",
       "            }, 500);\n",
       "            "
      ],
      "text/plain": [
       "<IPython.core.display.Javascript object>"
      ]
     },
     "metadata": {},
     "output_type": "display_data"
    }
   ],
   "source": [
    "dbscan_clusters = zillow_sub[zillow_sub[\"label\"] != \"Cluster: -1\"]\n",
    "dbscan_clusters[\"label\"].value_counts()"
   ]
  },
  {
   "cell_type": "markdown",
   "metadata": {
    "colab_type": "text",
    "id": "plzprhoPmhZP"
   },
   "source": [
    "Interpret the clusters"
   ]
  },
  {
   "cell_type": "code",
   "execution_count": 29,
   "metadata": {},
   "outputs": [
    {
     "data": {
      "text/html": [
       "<style  type=\"text/css\" >\n",
       "#T_d087c_row0_col0,#T_d087c_row0_col1,#T_d087c_row0_col2,#T_d087c_row0_col3,#T_d087c_row0_col4,#T_d087c_row0_col5,#T_d087c_row0_col6,#T_d087c_row0_col9,#T_d087c_row0_col10,#T_d087c_row0_col11,#T_d087c_row0_col12,#T_d087c_row1_col7,#T_d087c_row1_col8{\n",
       "            background-color:  #023858;\n",
       "            color:  #f1f1f1;\n",
       "        }#T_d087c_row0_col7,#T_d087c_row0_col8,#T_d087c_row1_col0,#T_d087c_row1_col1,#T_d087c_row1_col2,#T_d087c_row1_col3,#T_d087c_row1_col4,#T_d087c_row1_col5,#T_d087c_row1_col6,#T_d087c_row1_col9,#T_d087c_row1_col10,#T_d087c_row1_col11,#T_d087c_row1_col12{\n",
       "            background-color:  #fff7fb;\n",
       "            color:  #000000;\n",
       "        }</style><table id=\"T_d087c_\" ><thead>    <tr>        <th class=\"blank level0\" ></th>        <th class=\"col_heading level0 col0\" >bathroomcnt</th>        <th class=\"col_heading level0 col1\" >bedroomcnt</th>        <th class=\"col_heading level0 col2\" >calculatedfinishedsquarefeet</th>        <th class=\"col_heading level0 col3\" >fireplacecnt</th>        <th class=\"col_heading level0 col4\" >fullbathcnt</th>        <th class=\"col_heading level0 col5\" >garagecarcnt</th>        <th class=\"col_heading level0 col6\" >garagetotalsqft</th>        <th class=\"col_heading level0 col7\" >lotsizesquarefeet</th>        <th class=\"col_heading level0 col8\" >poolsizesum</th>        <th class=\"col_heading level0 col9\" >roomcnt</th>        <th class=\"col_heading level0 col10\" >yearbuilt</th>        <th class=\"col_heading level0 col11\" >numberofstories</th>        <th class=\"col_heading level0 col12\" >taxamount</th>    </tr>    <tr>        <th class=\"index_name level0\" >label</th>        <th class=\"blank\" ></th>        <th class=\"blank\" ></th>        <th class=\"blank\" ></th>        <th class=\"blank\" ></th>        <th class=\"blank\" ></th>        <th class=\"blank\" ></th>        <th class=\"blank\" ></th>        <th class=\"blank\" ></th>        <th class=\"blank\" ></th>        <th class=\"blank\" ></th>        <th class=\"blank\" ></th>        <th class=\"blank\" ></th>        <th class=\"blank\" ></th>    </tr></thead><tbody>\n",
       "                <tr>\n",
       "                        <th id=\"T_d087c_level0_row0\" class=\"row_heading level0 row0\" >Cluster: 0</th>\n",
       "                        <td id=\"T_d087c_row0_col0\" class=\"data row0 col0\" >3.097826</td>\n",
       "                        <td id=\"T_d087c_row0_col1\" class=\"data row0 col1\" >4.173913</td>\n",
       "                        <td id=\"T_d087c_row0_col2\" class=\"data row0 col2\" >2844.239130</td>\n",
       "                        <td id=\"T_d087c_row0_col3\" class=\"data row0 col3\" >1.717391</td>\n",
       "                        <td id=\"T_d087c_row0_col4\" class=\"data row0 col4\" >2.782609</td>\n",
       "                        <td id=\"T_d087c_row0_col5\" class=\"data row0 col5\" >2.043478</td>\n",
       "                        <td id=\"T_d087c_row0_col6\" class=\"data row0 col6\" >587.347826</td>\n",
       "                        <td id=\"T_d087c_row0_col7\" class=\"data row0 col7\" >12953.456522</td>\n",
       "                        <td id=\"T_d087c_row0_col8\" class=\"data row0 col8\" >492.869565</td>\n",
       "                        <td id=\"T_d087c_row0_col9\" class=\"data row0 col9\" >8.195652</td>\n",
       "                        <td id=\"T_d087c_row0_col10\" class=\"data row0 col10\" >1983.847826</td>\n",
       "                        <td id=\"T_d087c_row0_col11\" class=\"data row0 col11\" >2.000000</td>\n",
       "                        <td id=\"T_d087c_row0_col12\" class=\"data row0 col12\" >7052.848261</td>\n",
       "            </tr>\n",
       "            <tr>\n",
       "                        <th id=\"T_d087c_level0_row1\" class=\"row_heading level0 row1\" >Cluster: 1</th>\n",
       "                        <td id=\"T_d087c_row1_col0\" class=\"data row1 col0\" >2.434783</td>\n",
       "                        <td id=\"T_d087c_row1_col1\" class=\"data row1 col1\" >3.739130</td>\n",
       "                        <td id=\"T_d087c_row1_col2\" class=\"data row1 col2\" >2085.304348</td>\n",
       "                        <td id=\"T_d087c_row1_col3\" class=\"data row1 col3\" >1.173913</td>\n",
       "                        <td id=\"T_d087c_row1_col4\" class=\"data row1 col4\" >2.173913</td>\n",
       "                        <td id=\"T_d087c_row1_col5\" class=\"data row1 col5\" >2.000000</td>\n",
       "                        <td id=\"T_d087c_row1_col6\" class=\"data row1 col6\" >499.173913</td>\n",
       "                        <td id=\"T_d087c_row1_col7\" class=\"data row1 col7\" >15811.782609</td>\n",
       "                        <td id=\"T_d087c_row1_col8\" class=\"data row1 col8\" >511.695652</td>\n",
       "                        <td id=\"T_d087c_row1_col9\" class=\"data row1 col9\" >7.347826</td>\n",
       "                        <td id=\"T_d087c_row1_col10\" class=\"data row1 col10\" >1972.565217</td>\n",
       "                        <td id=\"T_d087c_row1_col11\" class=\"data row1 col11\" >1.000000</td>\n",
       "                        <td id=\"T_d087c_row1_col12\" class=\"data row1 col12\" >5420.509565</td>\n",
       "            </tr>\n",
       "    </tbody></table>"
      ],
      "text/plain": [
       "<pandas.io.formats.style.Styler at 0x13c300fd0>"
      ]
     },
     "execution_count": 29,
     "metadata": {},
     "output_type": "execute_result"
    },
    {
     "data": {
      "application/javascript": [
       "\n",
       "            setTimeout(function() {\n",
       "                var nbb_cell_id = 29;\n",
       "                var nbb_unformatted_code = \"clst_avgs = dbscan_clusters.groupby(\\\"label\\\").mean()\\nclst_avgs.style.background_gradient()\";\n",
       "                var nbb_formatted_code = \"clst_avgs = dbscan_clusters.groupby(\\\"label\\\").mean()\\nclst_avgs.style.background_gradient()\";\n",
       "                var nbb_cells = Jupyter.notebook.get_cells();\n",
       "                for (var i = 0; i < nbb_cells.length; ++i) {\n",
       "                    if (nbb_cells[i].input_prompt_number == nbb_cell_id) {\n",
       "                        if (nbb_cells[i].get_text() == nbb_unformatted_code) {\n",
       "                             nbb_cells[i].set_text(nbb_formatted_code);\n",
       "                        }\n",
       "                        break;\n",
       "                    }\n",
       "                }\n",
       "            }, 500);\n",
       "            "
      ],
      "text/plain": [
       "<IPython.core.display.Javascript object>"
      ]
     },
     "metadata": {},
     "output_type": "display_data"
    }
   ],
   "source": [
    "clst_avgs = dbscan_clusters.groupby(\"label\").mean()\n",
    "clst_avgs.style.background_gradient()"
   ]
  },
  {
   "cell_type": "markdown",
   "metadata": {},
   "source": [
    "Change the values of `eps` and `min_samples` and repeat the analysis."
   ]
  }
 ],
 "metadata": {
  "colab": {
   "collapsed_sections": [],
   "name": "Copy of zillow_clustering.ipynb",
   "provenance": []
  },
  "kernelspec": {
   "display_name": "Python 3",
   "language": "python",
   "name": "python3"
  },
  "language_info": {
   "codemirror_mode": {
    "name": "ipython",
    "version": 3
   },
   "file_extension": ".py",
   "mimetype": "text/x-python",
   "name": "python",
   "nbconvert_exporter": "python",
   "pygments_lexer": "ipython3",
   "version": "3.9.1"
  }
 },
 "nbformat": 4,
 "nbformat_minor": 1
}
