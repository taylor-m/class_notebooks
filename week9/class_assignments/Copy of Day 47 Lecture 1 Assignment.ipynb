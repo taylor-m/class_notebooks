{
 "cells": [
  {
   "cell_type": "markdown",
   "metadata": {
    "colab_type": "text",
    "id": "xdL0Yz0D1D_q"
   },
   "source": [
    "## Day 47 Lecture 1 Assignment\n",
    "\n",
    "In this assignment, we will apply k-means clustering to a dataset containing player-season statistics for NBA players from the past four years."
   ]
  },
  {
   "cell_type": "code",
   "execution_count": 1,
   "metadata": {},
   "outputs": [
    {
     "data": {
      "application/javascript": [
       "\n",
       "            setTimeout(function() {\n",
       "                var nbb_cell_id = 1;\n",
       "                var nbb_unformatted_code = \"%reload_ext nb_black\";\n",
       "                var nbb_formatted_code = \"%reload_ext nb_black\";\n",
       "                var nbb_cells = Jupyter.notebook.get_cells();\n",
       "                for (var i = 0; i < nbb_cells.length; ++i) {\n",
       "                    if (nbb_cells[i].input_prompt_number == nbb_cell_id) {\n",
       "                        if (nbb_cells[i].get_text() == nbb_unformatted_code) {\n",
       "                             nbb_cells[i].set_text(nbb_formatted_code);\n",
       "                        }\n",
       "                        break;\n",
       "                    }\n",
       "                }\n",
       "            }, 500);\n",
       "            "
      ],
      "text/plain": [
       "<IPython.core.display.Javascript object>"
      ]
     },
     "metadata": {},
     "output_type": "display_data"
    }
   ],
   "source": [
    "%reload_ext nb_black"
   ]
  },
  {
   "cell_type": "code",
   "execution_count": 2,
   "metadata": {
    "colab": {},
    "colab_type": "code",
    "id": "OulyiH_C1D_r"
   },
   "outputs": [
    {
     "data": {
      "application/javascript": [
       "\n",
       "            setTimeout(function() {\n",
       "                var nbb_cell_id = 2;\n",
       "                var nbb_unformatted_code = \"import numpy as np\\nimport pandas as pd\\n\\nfrom sklearn.cluster import KMeans\\nfrom sklearn.preprocessing import StandardScaler\\n\\nimport seaborn as sns\\nimport matplotlib.pyplot as plt\\n\\n%matplotlib inline\";\n",
       "                var nbb_formatted_code = \"import numpy as np\\nimport pandas as pd\\n\\nfrom sklearn.cluster import KMeans\\nfrom sklearn.preprocessing import StandardScaler\\n\\nimport seaborn as sns\\nimport matplotlib.pyplot as plt\\n\\n%matplotlib inline\";\n",
       "                var nbb_cells = Jupyter.notebook.get_cells();\n",
       "                for (var i = 0; i < nbb_cells.length; ++i) {\n",
       "                    if (nbb_cells[i].input_prompt_number == nbb_cell_id) {\n",
       "                        if (nbb_cells[i].get_text() == nbb_unformatted_code) {\n",
       "                             nbb_cells[i].set_text(nbb_formatted_code);\n",
       "                        }\n",
       "                        break;\n",
       "                    }\n",
       "                }\n",
       "            }, 500);\n",
       "            "
      ],
      "text/plain": [
       "<IPython.core.display.Javascript object>"
      ]
     },
     "metadata": {},
     "output_type": "display_data"
    }
   ],
   "source": [
    "import numpy as np\n",
    "import pandas as pd\n",
    "\n",
    "from sklearn.cluster import KMeans\n",
    "from sklearn.preprocessing import StandardScaler\n",
    "\n",
    "import seaborn as sns\n",
    "import matplotlib.pyplot as plt\n",
    "\n",
    "%matplotlib inline"
   ]
  },
  {
   "cell_type": "markdown",
   "metadata": {
    "colab_type": "text",
    "id": "ezMvoRlB1D_t"
   },
   "source": [
    "This dataset contains player-season statistics for NBA players from the past four years. Each row in this dataset represents a player's per-game averages for a single season. \n",
    "\n",
    "This dataset contains the following variables:\n",
    "\n",
    "- Seas: season ('2019' = 2018-2019 season, '2018' = 2017-2018 season, etc.)\n",
    "- Player: player name\n",
    "- Pos: position\n",
    "- Age: age\n",
    "- Tm: team\n",
    "- G: games played\n",
    "- GS: games started\n",
    "- MP: minutes played\n",
    "- FG: field goals\n",
    "- FGA: field goals attempted\n",
    "- FG%: field goal percentage\n",
    "- 3P: 3 pointers\n",
    "- 3PA: 3 pointers attempted\n",
    "- 3P%: 3 point percentage\n",
    "- 2P: 2 pointers\n",
    "- 2PA: 2 pointers attempted\n",
    "- 2P%: 2 point percentage\n",
    "- eFG%: effective field goal percentage\n",
    "- FT: free throws\n",
    "- FTA: free throws attempted\n",
    "- FT%: free throw percentage\n",
    "- ORB: offensive rebound\n",
    "- DRB: defensive rebound\n",
    "- TRB: total rebounds\n",
    "- AST: assists\n",
    "- STL: steals\n",
    "- BLK: blocks\n",
    "- TOV: turnovers\n",
    "- PF: personal fouls\n",
    "- PTS: points\n",
    "\n",
    "Load the dataset."
   ]
  },
  {
   "cell_type": "code",
   "execution_count": 3,
   "metadata": {
    "colab": {
     "base_uri": "https://localhost:8080/",
     "height": 255
    },
    "colab_type": "code",
    "executionInfo": {
     "elapsed": 1640,
     "status": "ok",
     "timestamp": 1580210777433,
     "user": {
      "displayName": "Adam Spannbauer",
      "photoUrl": "https://lh3.googleusercontent.com/a-/AAuE7mAU2JSQZkFVVbFv_OhPGdmiwr3ChGbq34PCZXJz=s64",
      "userId": "04097551985177324740"
     },
     "user_tz": 300
    },
    "id": "wP1U4eQ91D_u",
    "outputId": "2775e98b-e429-43a0-8f84-f74bfff073bd"
   },
   "outputs": [
    {
     "data": {
      "text/html": [
       "<div>\n",
       "<style scoped>\n",
       "    .dataframe tbody tr th:only-of-type {\n",
       "        vertical-align: middle;\n",
       "    }\n",
       "\n",
       "    .dataframe tbody tr th {\n",
       "        vertical-align: top;\n",
       "    }\n",
       "\n",
       "    .dataframe thead th {\n",
       "        text-align: right;\n",
       "    }\n",
       "</style>\n",
       "<table border=\"1\" class=\"dataframe\">\n",
       "  <thead>\n",
       "    <tr style=\"text-align: right;\">\n",
       "      <th></th>\n",
       "      <th>Seas</th>\n",
       "      <th>Player</th>\n",
       "      <th>Pos</th>\n",
       "      <th>Age</th>\n",
       "      <th>Tm</th>\n",
       "      <th>G</th>\n",
       "      <th>GS</th>\n",
       "      <th>MP</th>\n",
       "      <th>FG</th>\n",
       "      <th>FGA</th>\n",
       "      <th>...</th>\n",
       "      <th>FT%</th>\n",
       "      <th>ORB</th>\n",
       "      <th>DRB</th>\n",
       "      <th>TRB</th>\n",
       "      <th>AST</th>\n",
       "      <th>STL</th>\n",
       "      <th>BLK</th>\n",
       "      <th>TOV</th>\n",
       "      <th>PF</th>\n",
       "      <th>PTS</th>\n",
       "    </tr>\n",
       "  </thead>\n",
       "  <tbody>\n",
       "    <tr>\n",
       "      <th>0</th>\n",
       "      <td>2019</td>\n",
       "      <td>Álex Abrines</td>\n",
       "      <td>SG</td>\n",
       "      <td>25</td>\n",
       "      <td>OKC</td>\n",
       "      <td>31</td>\n",
       "      <td>2</td>\n",
       "      <td>19.0</td>\n",
       "      <td>1.8</td>\n",
       "      <td>5.1</td>\n",
       "      <td>...</td>\n",
       "      <td>0.923</td>\n",
       "      <td>0.2</td>\n",
       "      <td>1.4</td>\n",
       "      <td>1.5</td>\n",
       "      <td>0.6</td>\n",
       "      <td>0.5</td>\n",
       "      <td>0.2</td>\n",
       "      <td>0.5</td>\n",
       "      <td>1.7</td>\n",
       "      <td>5.3</td>\n",
       "    </tr>\n",
       "    <tr>\n",
       "      <th>1</th>\n",
       "      <td>2019</td>\n",
       "      <td>Quincy Acy</td>\n",
       "      <td>PF</td>\n",
       "      <td>28</td>\n",
       "      <td>PHO</td>\n",
       "      <td>10</td>\n",
       "      <td>0</td>\n",
       "      <td>12.3</td>\n",
       "      <td>0.4</td>\n",
       "      <td>1.8</td>\n",
       "      <td>...</td>\n",
       "      <td>0.700</td>\n",
       "      <td>0.3</td>\n",
       "      <td>2.2</td>\n",
       "      <td>2.5</td>\n",
       "      <td>0.8</td>\n",
       "      <td>0.1</td>\n",
       "      <td>0.4</td>\n",
       "      <td>0.4</td>\n",
       "      <td>2.4</td>\n",
       "      <td>1.7</td>\n",
       "    </tr>\n",
       "    <tr>\n",
       "      <th>2</th>\n",
       "      <td>2019</td>\n",
       "      <td>Jaylen Adams</td>\n",
       "      <td>PG</td>\n",
       "      <td>22</td>\n",
       "      <td>ATL</td>\n",
       "      <td>34</td>\n",
       "      <td>1</td>\n",
       "      <td>12.6</td>\n",
       "      <td>1.1</td>\n",
       "      <td>3.2</td>\n",
       "      <td>...</td>\n",
       "      <td>0.778</td>\n",
       "      <td>0.3</td>\n",
       "      <td>1.4</td>\n",
       "      <td>1.8</td>\n",
       "      <td>1.9</td>\n",
       "      <td>0.4</td>\n",
       "      <td>0.1</td>\n",
       "      <td>0.8</td>\n",
       "      <td>1.3</td>\n",
       "      <td>3.2</td>\n",
       "    </tr>\n",
       "    <tr>\n",
       "      <th>3</th>\n",
       "      <td>2019</td>\n",
       "      <td>Steven Adams</td>\n",
       "      <td>C</td>\n",
       "      <td>25</td>\n",
       "      <td>OKC</td>\n",
       "      <td>80</td>\n",
       "      <td>80</td>\n",
       "      <td>33.4</td>\n",
       "      <td>6.0</td>\n",
       "      <td>10.1</td>\n",
       "      <td>...</td>\n",
       "      <td>0.500</td>\n",
       "      <td>4.9</td>\n",
       "      <td>4.6</td>\n",
       "      <td>9.5</td>\n",
       "      <td>1.6</td>\n",
       "      <td>1.5</td>\n",
       "      <td>1.0</td>\n",
       "      <td>1.7</td>\n",
       "      <td>2.6</td>\n",
       "      <td>13.9</td>\n",
       "    </tr>\n",
       "    <tr>\n",
       "      <th>4</th>\n",
       "      <td>2019</td>\n",
       "      <td>Bam Adebayo</td>\n",
       "      <td>C</td>\n",
       "      <td>21</td>\n",
       "      <td>MIA</td>\n",
       "      <td>82</td>\n",
       "      <td>28</td>\n",
       "      <td>23.3</td>\n",
       "      <td>3.4</td>\n",
       "      <td>5.9</td>\n",
       "      <td>...</td>\n",
       "      <td>0.735</td>\n",
       "      <td>2.0</td>\n",
       "      <td>5.3</td>\n",
       "      <td>7.3</td>\n",
       "      <td>2.2</td>\n",
       "      <td>0.9</td>\n",
       "      <td>0.8</td>\n",
       "      <td>1.5</td>\n",
       "      <td>2.5</td>\n",
       "      <td>8.9</td>\n",
       "    </tr>\n",
       "  </tbody>\n",
       "</table>\n",
       "<p>5 rows × 30 columns</p>\n",
       "</div>"
      ],
      "text/plain": [
       "   Seas        Player Pos  Age   Tm   G  GS    MP   FG   FGA  ...    FT%  ORB  \\\n",
       "0  2019  Álex Abrines  SG   25  OKC  31   2  19.0  1.8   5.1  ...  0.923  0.2   \n",
       "1  2019    Quincy Acy  PF   28  PHO  10   0  12.3  0.4   1.8  ...  0.700  0.3   \n",
       "2  2019  Jaylen Adams  PG   22  ATL  34   1  12.6  1.1   3.2  ...  0.778  0.3   \n",
       "3  2019  Steven Adams   C   25  OKC  80  80  33.4  6.0  10.1  ...  0.500  4.9   \n",
       "4  2019   Bam Adebayo   C   21  MIA  82  28  23.3  3.4   5.9  ...  0.735  2.0   \n",
       "\n",
       "   DRB  TRB  AST  STL  BLK  TOV   PF   PTS  \n",
       "0  1.4  1.5  0.6  0.5  0.2  0.5  1.7   5.3  \n",
       "1  2.2  2.5  0.8  0.1  0.4  0.4  2.4   1.7  \n",
       "2  1.4  1.8  1.9  0.4  0.1  0.8  1.3   3.2  \n",
       "3  4.6  9.5  1.6  1.5  1.0  1.7  2.6  13.9  \n",
       "4  5.3  7.3  2.2  0.9  0.8  1.5  2.5   8.9  \n",
       "\n",
       "[5 rows x 30 columns]"
      ]
     },
     "execution_count": 3,
     "metadata": {},
     "output_type": "execute_result"
    },
    {
     "data": {
      "application/javascript": [
       "\n",
       "            setTimeout(function() {\n",
       "                var nbb_cell_id = 3;\n",
       "                var nbb_unformatted_code = \"# answer goes here\\nurl = \\\"https://tf-assets-prod.s3.amazonaws.com/tf-curric/data-science/Data%20Sets%20Clustering/nba_player_seasons.csv\\\"\\nnba = pd.read_csv(url)\\nnba.head()\";\n",
       "                var nbb_formatted_code = \"# answer goes here\\nurl = \\\"https://tf-assets-prod.s3.amazonaws.com/tf-curric/data-science/Data%20Sets%20Clustering/nba_player_seasons.csv\\\"\\nnba = pd.read_csv(url)\\nnba.head()\";\n",
       "                var nbb_cells = Jupyter.notebook.get_cells();\n",
       "                for (var i = 0; i < nbb_cells.length; ++i) {\n",
       "                    if (nbb_cells[i].input_prompt_number == nbb_cell_id) {\n",
       "                        if (nbb_cells[i].get_text() == nbb_unformatted_code) {\n",
       "                             nbb_cells[i].set_text(nbb_formatted_code);\n",
       "                        }\n",
       "                        break;\n",
       "                    }\n",
       "                }\n",
       "            }, 500);\n",
       "            "
      ],
      "text/plain": [
       "<IPython.core.display.Javascript object>"
      ]
     },
     "metadata": {},
     "output_type": "display_data"
    }
   ],
   "source": [
    "# answer goes here\n",
    "url = \"https://tf-assets-prod.s3.amazonaws.com/tf-curric/data-science/Data%20Sets%20Clustering/nba_player_seasons.csv\"\n",
    "nba = pd.read_csv(url)\n",
    "nba.head()"
   ]
  },
  {
   "cell_type": "markdown",
   "metadata": {
    "colab_type": "text",
    "id": "o_K1eQ0x1D_y"
   },
   "source": [
    "The goal is to cluster these player-seasons to identify potential player \"archetypes\".\n",
    "\n",
    "Begin by removing players whose season did not meet one of the following criteria:\n",
    "1. Started at least 20 games\n",
    "2. Averaged at least 10 minutes per game"
   ]
  },
  {
   "cell_type": "code",
   "execution_count": 4,
   "metadata": {
    "colab": {},
    "colab_type": "code",
    "id": "xfYVreyw1D_y"
   },
   "outputs": [
    {
     "data": {
      "application/javascript": [
       "\n",
       "            setTimeout(function() {\n",
       "                var nbb_cell_id = 4;\n",
       "                var nbb_unformatted_code = \"# answer goes here\\nnba = nba[nba[\\\"GS\\\"] >= 20]\\nnba = nba[nba[\\\"MP\\\"] >= 10]\\nnba_og = nba.copy()\";\n",
       "                var nbb_formatted_code = \"# answer goes here\\nnba = nba[nba[\\\"GS\\\"] >= 20]\\nnba = nba[nba[\\\"MP\\\"] >= 10]\\nnba_og = nba.copy()\";\n",
       "                var nbb_cells = Jupyter.notebook.get_cells();\n",
       "                for (var i = 0; i < nbb_cells.length; ++i) {\n",
       "                    if (nbb_cells[i].input_prompt_number == nbb_cell_id) {\n",
       "                        if (nbb_cells[i].get_text() == nbb_unformatted_code) {\n",
       "                             nbb_cells[i].set_text(nbb_formatted_code);\n",
       "                        }\n",
       "                        break;\n",
       "                    }\n",
       "                }\n",
       "            }, 500);\n",
       "            "
      ],
      "text/plain": [
       "<IPython.core.display.Javascript object>"
      ]
     },
     "metadata": {},
     "output_type": "display_data"
    }
   ],
   "source": [
    "# answer goes here\n",
    "nba = nba[nba[\"GS\"] >= 20]\n",
    "nba = nba[nba[\"MP\"] >= 10]\n",
    "nba_og = nba.copy()"
   ]
  },
  {
   "cell_type": "markdown",
   "metadata": {
    "colab_type": "text",
    "id": "86lfEP_91D_0"
   },
   "source": [
    "Choose a subset of numeric columns that is interesting to you from an \"archetypal\" standpoint. \n",
    "\n",
    "We will choose the following basic statistics: **points, total rebounds, assists, steals, blocks**, and **turnovers**, but you should feel free to choose other reasonable feature sets if you like. Be careful not to include too many dimensions (curse of dimensionality)."
   ]
  },
  {
   "cell_type": "code",
   "execution_count": 5,
   "metadata": {
    "colab": {
     "base_uri": "https://localhost:8080/",
     "height": 198
    },
    "colab_type": "code",
    "executionInfo": {
     "elapsed": 3543,
     "status": "error",
     "timestamp": 1580250989062,
     "user": {
      "displayName": "Adam Spannbauer",
      "photoUrl": "https://lh3.googleusercontent.com/a-/AAuE7mAU2JSQZkFVVbFv_OhPGdmiwr3ChGbq34PCZXJz=s64",
      "userId": "04097551985177324740"
     },
     "user_tz": 300
    },
    "id": "o3PUI4l61D_0",
    "outputId": "b35c10d8-69ec-4182-8e20-5c57a4d0900c"
   },
   "outputs": [
    {
     "data": {
      "text/html": [
       "<div>\n",
       "<style scoped>\n",
       "    .dataframe tbody tr th:only-of-type {\n",
       "        vertical-align: middle;\n",
       "    }\n",
       "\n",
       "    .dataframe tbody tr th {\n",
       "        vertical-align: top;\n",
       "    }\n",
       "\n",
       "    .dataframe thead th {\n",
       "        text-align: right;\n",
       "    }\n",
       "</style>\n",
       "<table border=\"1\" class=\"dataframe\">\n",
       "  <thead>\n",
       "    <tr style=\"text-align: right;\">\n",
       "      <th></th>\n",
       "      <th>PTS</th>\n",
       "      <th>TRB</th>\n",
       "      <th>AST</th>\n",
       "      <th>STL</th>\n",
       "      <th>BLK</th>\n",
       "      <th>TOV</th>\n",
       "    </tr>\n",
       "  </thead>\n",
       "  <tbody>\n",
       "    <tr>\n",
       "      <th>3</th>\n",
       "      <td>13.9</td>\n",
       "      <td>9.5</td>\n",
       "      <td>1.6</td>\n",
       "      <td>1.5</td>\n",
       "      <td>1.0</td>\n",
       "      <td>1.7</td>\n",
       "    </tr>\n",
       "    <tr>\n",
       "      <th>4</th>\n",
       "      <td>8.9</td>\n",
       "      <td>7.3</td>\n",
       "      <td>2.2</td>\n",
       "      <td>0.9</td>\n",
       "      <td>0.8</td>\n",
       "      <td>1.5</td>\n",
       "    </tr>\n",
       "    <tr>\n",
       "      <th>7</th>\n",
       "      <td>21.3</td>\n",
       "      <td>9.2</td>\n",
       "      <td>2.4</td>\n",
       "      <td>0.5</td>\n",
       "      <td>1.3</td>\n",
       "      <td>1.8</td>\n",
       "    </tr>\n",
       "    <tr>\n",
       "      <th>10</th>\n",
       "      <td>10.9</td>\n",
       "      <td>8.4</td>\n",
       "      <td>1.4</td>\n",
       "      <td>0.5</td>\n",
       "      <td>1.5</td>\n",
       "      <td>1.3</td>\n",
       "    </tr>\n",
       "    <tr>\n",
       "      <th>12</th>\n",
       "      <td>9.4</td>\n",
       "      <td>7.5</td>\n",
       "      <td>1.3</td>\n",
       "      <td>0.8</td>\n",
       "      <td>0.4</td>\n",
       "      <td>0.9</td>\n",
       "    </tr>\n",
       "  </tbody>\n",
       "</table>\n",
       "</div>"
      ],
      "text/plain": [
       "     PTS  TRB  AST  STL  BLK  TOV\n",
       "3   13.9  9.5  1.6  1.5  1.0  1.7\n",
       "4    8.9  7.3  2.2  0.9  0.8  1.5\n",
       "7   21.3  9.2  2.4  0.5  1.3  1.8\n",
       "10  10.9  8.4  1.4  0.5  1.5  1.3\n",
       "12   9.4  7.5  1.3  0.8  0.4  0.9"
      ]
     },
     "execution_count": 5,
     "metadata": {},
     "output_type": "execute_result"
    },
    {
     "data": {
      "application/javascript": [
       "\n",
       "            setTimeout(function() {\n",
       "                var nbb_cell_id = 5;\n",
       "                var nbb_unformatted_code = \"# answer goes here\\ncols = [\\\"PTS\\\", \\\"TRB\\\", \\\"AST\\\", \\\"STL\\\", \\\"BLK\\\", \\\"TOV\\\"]\\nnba = nba[cols]\\nnba.head()\";\n",
       "                var nbb_formatted_code = \"# answer goes here\\ncols = [\\\"PTS\\\", \\\"TRB\\\", \\\"AST\\\", \\\"STL\\\", \\\"BLK\\\", \\\"TOV\\\"]\\nnba = nba[cols]\\nnba.head()\";\n",
       "                var nbb_cells = Jupyter.notebook.get_cells();\n",
       "                for (var i = 0; i < nbb_cells.length; ++i) {\n",
       "                    if (nbb_cells[i].input_prompt_number == nbb_cell_id) {\n",
       "                        if (nbb_cells[i].get_text() == nbb_unformatted_code) {\n",
       "                             nbb_cells[i].set_text(nbb_formatted_code);\n",
       "                        }\n",
       "                        break;\n",
       "                    }\n",
       "                }\n",
       "            }, 500);\n",
       "            "
      ],
      "text/plain": [
       "<IPython.core.display.Javascript object>"
      ]
     },
     "metadata": {},
     "output_type": "display_data"
    }
   ],
   "source": [
    "# answer goes here\n",
    "cols = [\"PTS\", \"TRB\", \"AST\", \"STL\", \"BLK\", \"TOV\"]\n",
    "nba = nba[cols]\n",
    "nba.head()"
   ]
  },
  {
   "cell_type": "markdown",
   "metadata": {
    "colab_type": "text",
    "id": "MUjcLMMk1D_2"
   },
   "source": [
    "Standardize the features in your dataset using scikit-learn's StandardScaler, which will set the mean of each feature to 0 and the variance to 1."
   ]
  },
  {
   "cell_type": "code",
   "execution_count": 6,
   "metadata": {
    "colab": {
     "base_uri": "https://localhost:8080/",
     "height": 204
    },
    "colab_type": "code",
    "executionInfo": {
     "elapsed": 1297,
     "status": "ok",
     "timestamp": 1580211088629,
     "user": {
      "displayName": "Adam Spannbauer",
      "photoUrl": "https://lh3.googleusercontent.com/a-/AAuE7mAU2JSQZkFVVbFv_OhPGdmiwr3ChGbq34PCZXJz=s64",
      "userId": "04097551985177324740"
     },
     "user_tz": 300
    },
    "id": "6OTdN8oF1D_2",
    "outputId": "4a0a20b1-3573-4af6-9f67-9d2cc4de1884"
   },
   "outputs": [
    {
     "data": {
      "text/html": [
       "<div>\n",
       "<style scoped>\n",
       "    .dataframe tbody tr th:only-of-type {\n",
       "        vertical-align: middle;\n",
       "    }\n",
       "\n",
       "    .dataframe tbody tr th {\n",
       "        vertical-align: top;\n",
       "    }\n",
       "\n",
       "    .dataframe thead th {\n",
       "        text-align: right;\n",
       "    }\n",
       "</style>\n",
       "<table border=\"1\" class=\"dataframe\">\n",
       "  <thead>\n",
       "    <tr style=\"text-align: right;\">\n",
       "      <th></th>\n",
       "      <th>PTS</th>\n",
       "      <th>TRB</th>\n",
       "      <th>AST</th>\n",
       "      <th>STL</th>\n",
       "      <th>BLK</th>\n",
       "      <th>TOV</th>\n",
       "    </tr>\n",
       "  </thead>\n",
       "  <tbody>\n",
       "    <tr>\n",
       "      <th>3</th>\n",
       "      <td>0.114638</td>\n",
       "      <td>1.612909</td>\n",
       "      <td>-0.617816</td>\n",
       "      <td>1.393220</td>\n",
       "      <td>0.824001</td>\n",
       "      <td>0.023511</td>\n",
       "    </tr>\n",
       "    <tr>\n",
       "      <th>4</th>\n",
       "      <td>-0.744985</td>\n",
       "      <td>0.768627</td>\n",
       "      <td>-0.330886</td>\n",
       "      <td>-0.050271</td>\n",
       "      <td>0.420162</td>\n",
       "      <td>-0.218831</td>\n",
       "    </tr>\n",
       "    <tr>\n",
       "      <th>7</th>\n",
       "      <td>1.386880</td>\n",
       "      <td>1.497780</td>\n",
       "      <td>-0.235242</td>\n",
       "      <td>-1.012598</td>\n",
       "      <td>1.429758</td>\n",
       "      <td>0.144681</td>\n",
       "    </tr>\n",
       "    <tr>\n",
       "      <th>10</th>\n",
       "      <td>-0.401136</td>\n",
       "      <td>1.190768</td>\n",
       "      <td>-0.713459</td>\n",
       "      <td>-1.012598</td>\n",
       "      <td>1.833596</td>\n",
       "      <td>-0.461172</td>\n",
       "    </tr>\n",
       "    <tr>\n",
       "      <th>12</th>\n",
       "      <td>-0.659023</td>\n",
       "      <td>0.845380</td>\n",
       "      <td>-0.761281</td>\n",
       "      <td>-0.290853</td>\n",
       "      <td>-0.387514</td>\n",
       "      <td>-0.945854</td>\n",
       "    </tr>\n",
       "  </tbody>\n",
       "</table>\n",
       "</div>"
      ],
      "text/plain": [
       "         PTS       TRB       AST       STL       BLK       TOV\n",
       "3   0.114638  1.612909 -0.617816  1.393220  0.824001  0.023511\n",
       "4  -0.744985  0.768627 -0.330886 -0.050271  0.420162 -0.218831\n",
       "7   1.386880  1.497780 -0.235242 -1.012598  1.429758  0.144681\n",
       "10 -0.401136  1.190768 -0.713459 -1.012598  1.833596 -0.461172\n",
       "12 -0.659023  0.845380 -0.761281 -0.290853 -0.387514 -0.945854"
      ]
     },
     "execution_count": 6,
     "metadata": {},
     "output_type": "execute_result"
    },
    {
     "data": {
      "application/javascript": [
       "\n",
       "            setTimeout(function() {\n",
       "                var nbb_cell_id = 6;\n",
       "                var nbb_unformatted_code = \"# answer goes here\\nscaler = StandardScaler()\\nnba_scaled = scaler.fit_transform(nba)\\n\\nnba_scaled = pd.DataFrame(nba_scaled, columns=nba.columns, index=nba.index)\\nnba_scaled.head()\";\n",
       "                var nbb_formatted_code = \"# answer goes here\\nscaler = StandardScaler()\\nnba_scaled = scaler.fit_transform(nba)\\n\\nnba_scaled = pd.DataFrame(nba_scaled, columns=nba.columns, index=nba.index)\\nnba_scaled.head()\";\n",
       "                var nbb_cells = Jupyter.notebook.get_cells();\n",
       "                for (var i = 0; i < nbb_cells.length; ++i) {\n",
       "                    if (nbb_cells[i].input_prompt_number == nbb_cell_id) {\n",
       "                        if (nbb_cells[i].get_text() == nbb_unformatted_code) {\n",
       "                             nbb_cells[i].set_text(nbb_formatted_code);\n",
       "                        }\n",
       "                        break;\n",
       "                    }\n",
       "                }\n",
       "            }, 500);\n",
       "            "
      ],
      "text/plain": [
       "<IPython.core.display.Javascript object>"
      ]
     },
     "metadata": {},
     "output_type": "display_data"
    }
   ],
   "source": [
    "# answer goes here\n",
    "scaler = StandardScaler()\n",
    "nba_scaled = scaler.fit_transform(nba)\n",
    "\n",
    "nba_scaled = pd.DataFrame(nba_scaled, columns=nba.columns, index=nba.index)\n",
    "nba_scaled.head()"
   ]
  },
  {
   "cell_type": "markdown",
   "metadata": {
    "colab_type": "text",
    "id": "ao3Y5FVp1D_4"
   },
   "source": [
    "Run K-means clustering with K = 3 and print out the resulting centroids. When printing the centroids, transform the scaled centroids back into their corresponding unscaled values. What \"archetypes\" do you see?"
   ]
  },
  {
   "cell_type": "code",
   "execution_count": null,
   "metadata": {},
   "outputs": [],
   "source": [
    "# Post analysis results:\n",
    "#\n",
    "# * Cluster 0 (n=179): \n",
    "#     * big man players, lots of rebounds and blocks\n",
    "#     * dominated by the center position\n",
    "# * Cluster 1 (n=179):\n",
    "#     * smaller, good players. high pts, ast, stl, and tov\n",
    "#     * dominated by the point guard position\n",
    "# * Cluster 2 (n=446):\n",
    "#     * meh players, prolly low minutes\n",
    "#     * position-wise, seems to be a catch-all for 'not star C or PG'"
   ]
  },
  {
   "cell_type": "code",
   "execution_count": 7,
   "metadata": {
    "colab": {
     "base_uri": "https://localhost:8080/",
     "height": 142
    },
    "colab_type": "code",
    "executionInfo": {
     "elapsed": 845,
     "status": "ok",
     "timestamp": 1580211245105,
     "user": {
      "displayName": "Adam Spannbauer",
      "photoUrl": "https://lh3.googleusercontent.com/a-/AAuE7mAU2JSQZkFVVbFv_OhPGdmiwr3ChGbq34PCZXJz=s64",
      "userId": "04097551985177324740"
     },
     "user_tz": 300
    },
    "id": "sUhMxZdL1D_4",
    "outputId": "1256a455-73e7-4bea-cab5-994700d5f924"
   },
   "outputs": [
    {
     "data": {
      "text/plain": [
       "KMeans(n_clusters=3, random_state=42)"
      ]
     },
     "execution_count": 7,
     "metadata": {},
     "output_type": "execute_result"
    },
    {
     "data": {
      "application/javascript": [
       "\n",
       "            setTimeout(function() {\n",
       "                var nbb_cell_id = 7;\n",
       "                var nbb_unformatted_code = \"# answer goes here\\nkmeans = KMeans(n_clusters=3, random_state=42)\\nkmeans.fit(nba_scaled)\";\n",
       "                var nbb_formatted_code = \"# answer goes here\\nkmeans = KMeans(n_clusters=3, random_state=42)\\nkmeans.fit(nba_scaled)\";\n",
       "                var nbb_cells = Jupyter.notebook.get_cells();\n",
       "                for (var i = 0; i < nbb_cells.length; ++i) {\n",
       "                    if (nbb_cells[i].input_prompt_number == nbb_cell_id) {\n",
       "                        if (nbb_cells[i].get_text() == nbb_unformatted_code) {\n",
       "                             nbb_cells[i].set_text(nbb_formatted_code);\n",
       "                        }\n",
       "                        break;\n",
       "                    }\n",
       "                }\n",
       "            }, 500);\n",
       "            "
      ],
      "text/plain": [
       "<IPython.core.display.Javascript object>"
      ]
     },
     "metadata": {},
     "output_type": "display_data"
    }
   ],
   "source": [
    "# answer goes here\n",
    "kmeans = KMeans(n_clusters=3, random_state=42)\n",
    "kmeans.fit(nba_scaled)"
   ]
  },
  {
   "cell_type": "code",
   "execution_count": 15,
   "metadata": {},
   "outputs": [
    {
     "data": {
      "text/plain": [
       "2    446\n",
       "1    179\n",
       "0    179\n",
       "dtype: int64"
      ]
     },
     "execution_count": 15,
     "metadata": {},
     "output_type": "execute_result"
    },
    {
     "data": {
      "application/javascript": [
       "\n",
       "            setTimeout(function() {\n",
       "                var nbb_cell_id = 15;\n",
       "                var nbb_unformatted_code = \"pd.Series(kmeans.labels_).value_counts()\";\n",
       "                var nbb_formatted_code = \"pd.Series(kmeans.labels_).value_counts()\";\n",
       "                var nbb_cells = Jupyter.notebook.get_cells();\n",
       "                for (var i = 0; i < nbb_cells.length; ++i) {\n",
       "                    if (nbb_cells[i].input_prompt_number == nbb_cell_id) {\n",
       "                        if (nbb_cells[i].get_text() == nbb_unformatted_code) {\n",
       "                             nbb_cells[i].set_text(nbb_formatted_code);\n",
       "                        }\n",
       "                        break;\n",
       "                    }\n",
       "                }\n",
       "            }, 500);\n",
       "            "
      ],
      "text/plain": [
       "<IPython.core.display.Javascript object>"
      ]
     },
     "metadata": {},
     "output_type": "display_data"
    }
   ],
   "source": [
    "pd.Series(kmeans.labels_).value_counts()"
   ]
  },
  {
   "cell_type": "code",
   "execution_count": 8,
   "metadata": {},
   "outputs": [
    {
     "data": {
      "text/html": [
       "<style  type=\"text/css\" >\n",
       "#T_c56a6036_01dc_11eb_920f_acde48001122row0_col0{\n",
       "            background-color:  #abbfdc;\n",
       "            color:  #000000;\n",
       "        }#T_c56a6036_01dc_11eb_920f_acde48001122row0_col1,#T_c56a6036_01dc_11eb_920f_acde48001122row0_col4,#T_c56a6036_01dc_11eb_920f_acde48001122row1_col0,#T_c56a6036_01dc_11eb_920f_acde48001122row1_col2,#T_c56a6036_01dc_11eb_920f_acde48001122row1_col3,#T_c56a6036_01dc_11eb_920f_acde48001122row1_col5{\n",
       "            background-color:  #023858;\n",
       "            color:  #f1f1f1;\n",
       "        }#T_c56a6036_01dc_11eb_920f_acde48001122row0_col2,#T_c56a6036_01dc_11eb_920f_acde48001122row0_col3,#T_c56a6036_01dc_11eb_920f_acde48001122row2_col0,#T_c56a6036_01dc_11eb_920f_acde48001122row2_col1,#T_c56a6036_01dc_11eb_920f_acde48001122row2_col4,#T_c56a6036_01dc_11eb_920f_acde48001122row2_col5{\n",
       "            background-color:  #fff7fb;\n",
       "            color:  #000000;\n",
       "        }#T_c56a6036_01dc_11eb_920f_acde48001122row0_col5{\n",
       "            background-color:  #c5cce3;\n",
       "            color:  #000000;\n",
       "        }#T_c56a6036_01dc_11eb_920f_acde48001122row1_col1{\n",
       "            background-color:  #c4cbe3;\n",
       "            color:  #000000;\n",
       "        }#T_c56a6036_01dc_11eb_920f_acde48001122row1_col4{\n",
       "            background-color:  #ece7f2;\n",
       "            color:  #000000;\n",
       "        }#T_c56a6036_01dc_11eb_920f_acde48001122row2_col2{\n",
       "            background-color:  #faf3f9;\n",
       "            color:  #000000;\n",
       "        }#T_c56a6036_01dc_11eb_920f_acde48001122row2_col3{\n",
       "            background-color:  #f8f1f8;\n",
       "            color:  #000000;\n",
       "        }</style><table id=\"T_c56a6036_01dc_11eb_920f_acde48001122\" ><thead>    <tr>        <th class=\"blank level0\" ></th>        <th class=\"col_heading level0 col0\" >PTS</th>        <th class=\"col_heading level0 col1\" >TRB</th>        <th class=\"col_heading level0 col2\" >AST</th>        <th class=\"col_heading level0 col3\" >STL</th>        <th class=\"col_heading level0 col4\" >BLK</th>        <th class=\"col_heading level0 col5\" >TOV</th>    </tr></thead><tbody>\n",
       "                <tr>\n",
       "                        <th id=\"T_c56a6036_01dc_11eb_920f_acde48001122level0_row0\" class=\"row_heading level0 row0\" >0</th>\n",
       "                        <td id=\"T_c56a6036_01dc_11eb_920f_acde48001122row0_col0\" class=\"data row0 col0\" >13.763128</td>\n",
       "                        <td id=\"T_c56a6036_01dc_11eb_920f_acde48001122row0_col1\" class=\"data row0 col1\" >8.625698</td>\n",
       "                        <td id=\"T_c56a6036_01dc_11eb_920f_acde48001122row0_col2\" class=\"data row0 col2\" >1.920670</td>\n",
       "                        <td id=\"T_c56a6036_01dc_11eb_920f_acde48001122row0_col3\" class=\"data row0 col3\" >0.775978</td>\n",
       "                        <td id=\"T_c56a6036_01dc_11eb_920f_acde48001122row0_col4\" class=\"data row0 col4\" >1.235196</td>\n",
       "                        <td id=\"T_c56a6036_01dc_11eb_920f_acde48001122row0_col5\" class=\"data row0 col5\" >1.675419</td>\n",
       "            </tr>\n",
       "            <tr>\n",
       "                        <th id=\"T_c56a6036_01dc_11eb_920f_acde48001122level0_row1\" class=\"row_heading level0 row1\" >1</th>\n",
       "                        <td id=\"T_c56a6036_01dc_11eb_920f_acde48001122row1_col0\" class=\"data row1 col0\" >19.491620</td>\n",
       "                        <td id=\"T_c56a6036_01dc_11eb_920f_acde48001122row1_col1\" class=\"data row1 col1\" >5.293855</td>\n",
       "                        <td id=\"T_c56a6036_01dc_11eb_920f_acde48001122row1_col2\" class=\"data row1 col2\" >5.934078</td>\n",
       "                        <td id=\"T_c56a6036_01dc_11eb_920f_acde48001122row1_col3\" class=\"data row1 col3\" >1.354190</td>\n",
       "                        <td id=\"T_c56a6036_01dc_11eb_920f_acde48001122row1_col4\" class=\"data row1 col4\" >0.486034</td>\n",
       "                        <td id=\"T_c56a6036_01dc_11eb_920f_acde48001122row1_col5\" class=\"data row1 col5\" >2.797765</td>\n",
       "            </tr>\n",
       "            <tr>\n",
       "                        <th id=\"T_c56a6036_01dc_11eb_920f_acde48001122level0_row2\" class=\"row_heading level0 row2\" >2</th>\n",
       "                        <td id=\"T_c56a6036_01dc_11eb_920f_acde48001122row2_col0\" class=\"data row2 col0\" >10.508744</td>\n",
       "                        <td id=\"T_c56a6036_01dc_11eb_920f_acde48001122row2_col1\" class=\"data row2 col1\" >3.962556</td>\n",
       "                        <td id=\"T_c56a6036_01dc_11eb_920f_acde48001122row2_col2\" class=\"data row2 col2\" >2.060762</td>\n",
       "                        <td id=\"T_c56a6036_01dc_11eb_920f_acde48001122row2_col3\" class=\"data row2 col3\" >0.805157</td>\n",
       "                        <td id=\"T_c56a6036_01dc_11eb_920f_acde48001122row2_col4\" class=\"data row2 col4\" >0.376233</td>\n",
       "                        <td id=\"T_c56a6036_01dc_11eb_920f_acde48001122row2_col5\" class=\"data row2 col5\" >1.234305</td>\n",
       "            </tr>\n",
       "    </tbody></table>"
      ],
      "text/plain": [
       "<pandas.io.formats.style.Styler at 0x121ee37d0>"
      ]
     },
     "execution_count": 8,
     "metadata": {},
     "output_type": "execute_result"
    },
    {
     "data": {
      "application/javascript": [
       "\n",
       "            setTimeout(function() {\n",
       "                var nbb_cell_id = 8;\n",
       "                var nbb_unformatted_code = \"# Cluster 0: big man players, lots of rebounds and blocks\\n# Cluster 1: smaller, good players. high pts, ast, stl, and tov\\n# Cluster 2: meh players, prolly low minutes\\ncentroids = kmeans.cluster_centers_\\ncentroids = scaler.inverse_transform(centroids)\\ncentroids_df = pd.DataFrame(centroids, columns=nba.columns)\\ncentroids_df.style.background_gradient()\";\n",
       "                var nbb_formatted_code = \"# Cluster 0: big man players, lots of rebounds and blocks\\n# Cluster 1: smaller, good players. high pts, ast, stl, and tov\\n# Cluster 2: meh players, prolly low minutes\\ncentroids = kmeans.cluster_centers_\\ncentroids = scaler.inverse_transform(centroids)\\ncentroids_df = pd.DataFrame(centroids, columns=nba.columns)\\ncentroids_df.style.background_gradient()\";\n",
       "                var nbb_cells = Jupyter.notebook.get_cells();\n",
       "                for (var i = 0; i < nbb_cells.length; ++i) {\n",
       "                    if (nbb_cells[i].input_prompt_number == nbb_cell_id) {\n",
       "                        if (nbb_cells[i].get_text() == nbb_unformatted_code) {\n",
       "                             nbb_cells[i].set_text(nbb_formatted_code);\n",
       "                        }\n",
       "                        break;\n",
       "                    }\n",
       "                }\n",
       "            }, 500);\n",
       "            "
      ],
      "text/plain": [
       "<IPython.core.display.Javascript object>"
      ]
     },
     "metadata": {},
     "output_type": "display_data"
    }
   ],
   "source": [
    "# Cluster 0: big man players, lots of rebounds and blocks\n",
    "# Cluster 1: smaller, good players. high pts, ast, stl, and tov\n",
    "# Cluster 2: meh players, prolly low minutes\n",
    "centroids = kmeans.cluster_centers_\n",
    "centroids = scaler.inverse_transform(centroids)\n",
    "centroids_df = pd.DataFrame(centroids, columns=nba.columns)\n",
    "centroids_df.style.background_gradient()"
   ]
  },
  {
   "cell_type": "code",
   "execution_count": 12,
   "metadata": {
    "colab": {},
    "colab_type": "code",
    "id": "AdKYEBx61D_6"
   },
   "outputs": [
    {
     "data": {
      "text/html": [
       "<style  type=\"text/css\" >\n",
       "#T_1e5b3d5a_01dd_11eb_920f_acde48001122row0_col0,#T_1e5b3d5a_01dd_11eb_920f_acde48001122row1_col4,#T_1e5b3d5a_01dd_11eb_920f_acde48001122row2_col7{\n",
       "            background-color:  #023858;\n",
       "            color:  #f1f1f1;\n",
       "        }#T_1e5b3d5a_01dd_11eb_920f_acde48001122row0_col1{\n",
       "            background-color:  #94b6d7;\n",
       "            color:  #000000;\n",
       "        }#T_1e5b3d5a_01dd_11eb_920f_acde48001122row0_col2,#T_1e5b3d5a_01dd_11eb_920f_acde48001122row0_col3,#T_1e5b3d5a_01dd_11eb_920f_acde48001122row0_col6,#T_1e5b3d5a_01dd_11eb_920f_acde48001122row0_col7,#T_1e5b3d5a_01dd_11eb_920f_acde48001122row1_col2,#T_1e5b3d5a_01dd_11eb_920f_acde48001122row1_col3,#T_1e5b3d5a_01dd_11eb_920f_acde48001122row2_col2,#T_1e5b3d5a_01dd_11eb_920f_acde48001122row2_col6{\n",
       "            background-color:  #fff7fb;\n",
       "            color:  #000000;\n",
       "        }#T_1e5b3d5a_01dd_11eb_920f_acde48001122row0_col4,#T_1e5b3d5a_01dd_11eb_920f_acde48001122row1_col6{\n",
       "            background-color:  #fef6fa;\n",
       "            color:  #000000;\n",
       "        }#T_1e5b3d5a_01dd_11eb_920f_acde48001122row0_col5{\n",
       "            background-color:  #f9f2f8;\n",
       "            color:  #000000;\n",
       "        }#T_1e5b3d5a_01dd_11eb_920f_acde48001122row1_col0{\n",
       "            background-color:  #f5eff6;\n",
       "            color:  #000000;\n",
       "        }#T_1e5b3d5a_01dd_11eb_920f_acde48001122row1_col1{\n",
       "            background-color:  #e9e5f1;\n",
       "            color:  #000000;\n",
       "        }#T_1e5b3d5a_01dd_11eb_920f_acde48001122row1_col5{\n",
       "            background-color:  #c4cbe3;\n",
       "            color:  #000000;\n",
       "        }#T_1e5b3d5a_01dd_11eb_920f_acde48001122row1_col7{\n",
       "            background-color:  #9ab8d8;\n",
       "            color:  #000000;\n",
       "        }#T_1e5b3d5a_01dd_11eb_920f_acde48001122row2_col0{\n",
       "            background-color:  #c8cde4;\n",
       "            color:  #000000;\n",
       "        }#T_1e5b3d5a_01dd_11eb_920f_acde48001122row2_col1{\n",
       "            background-color:  #2484ba;\n",
       "            color:  #000000;\n",
       "        }#T_1e5b3d5a_01dd_11eb_920f_acde48001122row2_col3{\n",
       "            background-color:  #fef6fb;\n",
       "            color:  #000000;\n",
       "        }#T_1e5b3d5a_01dd_11eb_920f_acde48001122row2_col4{\n",
       "            background-color:  #80aed2;\n",
       "            color:  #000000;\n",
       "        }#T_1e5b3d5a_01dd_11eb_920f_acde48001122row2_col5{\n",
       "            background-color:  #046096;\n",
       "            color:  #f1f1f1;\n",
       "        }</style><table id=\"T_1e5b3d5a_01dd_11eb_920f_acde48001122\" ><thead>    <tr>        <th class=\"index_name level0\" >Pos</th>        <th class=\"col_heading level0 col0\" >C</th>        <th class=\"col_heading level0 col1\" >PF</th>        <th class=\"col_heading level0 col2\" >PF-C</th>        <th class=\"col_heading level0 col3\" >PF-SF</th>        <th class=\"col_heading level0 col4\" >PG</th>        <th class=\"col_heading level0 col5\" >SF</th>        <th class=\"col_heading level0 col6\" >SF-SG</th>        <th class=\"col_heading level0 col7\" >SG</th>    </tr>    <tr>        <th class=\"index_name level0\" >label</th>        <th class=\"blank\" ></th>        <th class=\"blank\" ></th>        <th class=\"blank\" ></th>        <th class=\"blank\" ></th>        <th class=\"blank\" ></th>        <th class=\"blank\" ></th>        <th class=\"blank\" ></th>        <th class=\"blank\" ></th>    </tr></thead><tbody>\n",
       "                <tr>\n",
       "                        <th id=\"T_1e5b3d5a_01dd_11eb_920f_acde48001122level0_row0\" class=\"row_heading level0 row0\" >0</th>\n",
       "                        <td id=\"T_1e5b3d5a_01dd_11eb_920f_acde48001122row0_col0\" class=\"data row0 col0\" >122</td>\n",
       "                        <td id=\"T_1e5b3d5a_01dd_11eb_920f_acde48001122row0_col1\" class=\"data row0 col1\" >51</td>\n",
       "                        <td id=\"T_1e5b3d5a_01dd_11eb_920f_acde48001122row0_col2\" class=\"data row0 col2\" >0</td>\n",
       "                        <td id=\"T_1e5b3d5a_01dd_11eb_920f_acde48001122row0_col3\" class=\"data row0 col3\" >0</td>\n",
       "                        <td id=\"T_1e5b3d5a_01dd_11eb_920f_acde48001122row0_col4\" class=\"data row0 col4\" >1</td>\n",
       "                        <td id=\"T_1e5b3d5a_01dd_11eb_920f_acde48001122row0_col5\" class=\"data row0 col5\" >5</td>\n",
       "                        <td id=\"T_1e5b3d5a_01dd_11eb_920f_acde48001122row0_col6\" class=\"data row0 col6\" >0</td>\n",
       "                        <td id=\"T_1e5b3d5a_01dd_11eb_920f_acde48001122row0_col7\" class=\"data row0 col7\" >0</td>\n",
       "            </tr>\n",
       "            <tr>\n",
       "                        <th id=\"T_1e5b3d5a_01dd_11eb_920f_acde48001122level0_row1\" class=\"row_heading level0 row1\" >1</th>\n",
       "                        <td id=\"T_1e5b3d5a_01dd_11eb_920f_acde48001122row1_col0\" class=\"data row1 col0\" >6</td>\n",
       "                        <td id=\"T_1e5b3d5a_01dd_11eb_920f_acde48001122row1_col1\" class=\"data row1 col1\" >13</td>\n",
       "                        <td id=\"T_1e5b3d5a_01dd_11eb_920f_acde48001122row1_col2\" class=\"data row1 col2\" >0</td>\n",
       "                        <td id=\"T_1e5b3d5a_01dd_11eb_920f_acde48001122row1_col3\" class=\"data row1 col3\" >0</td>\n",
       "                        <td id=\"T_1e5b3d5a_01dd_11eb_920f_acde48001122row1_col4\" class=\"data row1 col4\" >94</td>\n",
       "                        <td id=\"T_1e5b3d5a_01dd_11eb_920f_acde48001122row1_col5\" class=\"data row1 col5\" >27</td>\n",
       "                        <td id=\"T_1e5b3d5a_01dd_11eb_920f_acde48001122row1_col6\" class=\"data row1 col6\" >1</td>\n",
       "                        <td id=\"T_1e5b3d5a_01dd_11eb_920f_acde48001122row1_col7\" class=\"data row1 col7\" >38</td>\n",
       "            </tr>\n",
       "            <tr>\n",
       "                        <th id=\"T_1e5b3d5a_01dd_11eb_920f_acde48001122level0_row2\" class=\"row_heading level0 row2\" >2</th>\n",
       "                        <td id=\"T_1e5b3d5a_01dd_11eb_920f_acde48001122row2_col0\" class=\"data row2 col0\" >38</td>\n",
       "                        <td id=\"T_1e5b3d5a_01dd_11eb_920f_acde48001122row2_col1\" class=\"data row2 col1\" >91</td>\n",
       "                        <td id=\"T_1e5b3d5a_01dd_11eb_920f_acde48001122row2_col2\" class=\"data row2 col2\" >1</td>\n",
       "                        <td id=\"T_1e5b3d5a_01dd_11eb_920f_acde48001122row2_col3\" class=\"data row2 col3\" >2</td>\n",
       "                        <td id=\"T_1e5b3d5a_01dd_11eb_920f_acde48001122row2_col4\" class=\"data row2 col4\" >64</td>\n",
       "                        <td id=\"T_1e5b3d5a_01dd_11eb_920f_acde48001122row2_col5\" class=\"data row2 col5\" >114</td>\n",
       "                        <td id=\"T_1e5b3d5a_01dd_11eb_920f_acde48001122row2_col6\" class=\"data row2 col6\" >1</td>\n",
       "                        <td id=\"T_1e5b3d5a_01dd_11eb_920f_acde48001122row2_col7\" class=\"data row2 col7\" >135</td>\n",
       "            </tr>\n",
       "    </tbody></table>"
      ],
      "text/plain": [
       "<pandas.io.formats.style.Styler at 0x1220746d0>"
      ]
     },
     "metadata": {},
     "output_type": "display_data"
    },
    {
     "data": {
      "image/png": "[encoded data removed]",
      "text/plain": [
       "<Figure size 432x288 with 1 Axes>"
      ]
     },
     "metadata": {
      "needs_background": "light"
     },
     "output_type": "display_data"
    },
    {
     "data": {
      "application/javascript": [
       "\n",
       "            setTimeout(function() {\n",
       "                var nbb_cell_id = 12;\n",
       "                var nbb_unformatted_code = \"# Cluster 0: dominated by the center position\\n# Cluster 1: dominated by the point guard position\\n# Cluster 2: position-wise, seems to be a catch-all for 'not star C or PG'\\nnba_og[\\\"label\\\"] = kmeans.labels_\\npos_label_ct = pd.crosstab(nba_og[\\\"label\\\"], nba_og[\\\"Pos\\\"])\\ndisplay(pos_label_ct.style.background_gradient(axis=1))\\n\\nsns.countplot(\\\"label\\\", hue=\\\"Pos\\\", data=nba_og[~nba_og['Pos'].str.contains('-')])\\nplt.legend(loc=\\\"upper right\\\")\\nplt.show()\";\n",
       "                var nbb_formatted_code = \"# Cluster 0: dominated by the center position\\n# Cluster 1: dominated by the point guard position\\n# Cluster 2: position-wise, seems to be a catch-all for 'not star C or PG'\\nnba_og[\\\"label\\\"] = kmeans.labels_\\npos_label_ct = pd.crosstab(nba_og[\\\"label\\\"], nba_og[\\\"Pos\\\"])\\ndisplay(pos_label_ct.style.background_gradient(axis=1))\\n\\nsns.countplot(\\\"label\\\", hue=\\\"Pos\\\", data=nba_og[~nba_og[\\\"Pos\\\"].str.contains(\\\"-\\\")])\\nplt.legend(loc=\\\"upper right\\\")\\nplt.show()\";\n",
       "                var nbb_cells = Jupyter.notebook.get_cells();\n",
       "                for (var i = 0; i < nbb_cells.length; ++i) {\n",
       "                    if (nbb_cells[i].input_prompt_number == nbb_cell_id) {\n",
       "                        if (nbb_cells[i].get_text() == nbb_unformatted_code) {\n",
       "                             nbb_cells[i].set_text(nbb_formatted_code);\n",
       "                        }\n",
       "                        break;\n",
       "                    }\n",
       "                }\n",
       "            }, 500);\n",
       "            "
      ],
      "text/plain": [
       "<IPython.core.display.Javascript object>"
      ]
     },
     "metadata": {},
     "output_type": "display_data"
    }
   ],
   "source": [
    "# Cluster 0: dominated by the center position\n",
    "# Cluster 1: dominated by the point guard position\n",
    "# Cluster 2: position-wise, seems to be a catch-all for 'not star C or PG'\n",
    "nba_og[\"label\"] = kmeans.labels_\n",
    "pos_label_ct = pd.crosstab(nba_og[\"label\"], nba_og[\"Pos\"])\n",
    "display(pos_label_ct.style.background_gradient(axis=1))\n",
    "\n",
    "# dropping hyphenated positions from the plot as they're such small contributors\n",
    "sns.countplot(\"label\", hue=\"Pos\", data=nba_og[~nba_og[\"Pos\"].str.contains(\"-\")])\n",
    "plt.legend(loc=\"upper right\")\n",
    "plt.show()"
   ]
  }
 ],
 "metadata": {
  "colab": {
   "collapsed_sections": [],
   "name": "Copy of Day 47 Lecture 1 Assignment.ipynb",
   "provenance": [
    {
     "file_id": "1n_u5NU6_e90EO0F5zruwUVKV4-o14Ete",
     "timestamp": 1580210245118
    }
   ]
  },
  "kernelspec": {
   "display_name": "Python 3",
   "language": "python",
   "name": "python3"
  },
  "language_info": {
   "codemirror_mode": {
    "name": "ipython",
    "version": 3
   },
   "file_extension": ".py",
   "mimetype": "text/x-python",
   "name": "python",
   "nbconvert_exporter": "python",
   "pygments_lexer": "ipython3",
   "version": "3.9.1"
  }
 },
 "nbformat": 4,
 "nbformat_minor": 1
}
