{
 "cells": [
  {
   "cell_type": "markdown",
   "metadata": {
    "id": "xdL0Yz0D1D_q"
   },
   "source": [
    "## Day 47 Lecture 1 Assignment\n",
    "\n",
    "In this assignment, we will apply k-means clustering to a dataset containing player-season statistics for NBA players from the past four years."
   ]
  },
  {
   "cell_type": "code",
   "execution_count": 1,
   "metadata": {
    "id": "OulyiH_C1D_r"
   },
   "outputs": [],
   "source": [
    "%matplotlib inline\n",
    "\n",
    "import matplotlib.pyplot as plt\n",
    "import numpy as np\n",
    "import pandas as pd\n",
    "from sklearn.cluster import KMeans\n",
    "from sklearn.preprocessing import StandardScaler\n",
    "plt.style.use(['dark_background'])\n"
   ]
  },
  {
   "cell_type": "markdown",
   "metadata": {
    "id": "ezMvoRlB1D_t"
   },
   "source": [
    "This dataset contains player-season statistics for NBA players from the past four years. Each row in this dataset represents a player's per-game averages for a single season. \n",
    "\n",
    "This dataset contains the following variables:\n",
    "\n",
    "- Seas: season ('2019' = 2018-2019 season, '2018' = 2017-2018 season, etc.)\n",
    "- Player: player name\n",
    "- Pos: position\n",
    "- Age: age\n",
    "- Tm: team\n",
    "- G: games played\n",
    "- GS: games started\n",
    "- MP: minutes played\n",
    "- FG: field goals\n",
    "- FGA: field goals attempted\n",
    "- FG%: field goal percentage\n",
    "- 3P: 3 pointers\n",
    "- 3PA: 3 pointers attempted\n",
    "- 3P%: 3 point percentage\n",
    "- 2P: 2 pointers\n",
    "- 2PA: 2 pointers attempted\n",
    "- 2P%: 2 point percentage\n",
    "- eFG%: effective field goal percentage\n",
    "- FT: free throws\n",
    "- FTA: free throws attempted\n",
    "- FT%: free throw percentage\n",
    "- ORB: offensive rebound\n",
    "- DRB: defensive rebound\n",
    "- TRB: total rebounds\n",
    "- AST: assists\n",
    "- STL: steals\n",
    "- BLK: blocks\n",
    "- TOV: turnovers\n",
    "- PF: personal fouls\n",
    "- PTS: points\n",
    "\n",
    "Load the dataset."
   ]
  },
  {
   "cell_type": "code",
   "execution_count": 2,
   "metadata": {
    "id": "wP1U4eQ91D_u"
   },
   "outputs": [
    {
     "data": {
      "text/html": [
       "<div>\n",
       "<style scoped>\n",
       "    .dataframe tbody tr th:only-of-type {\n",
       "        vertical-align: middle;\n",
       "    }\n",
       "\n",
       "    .dataframe tbody tr th {\n",
       "        vertical-align: top;\n",
       "    }\n",
       "\n",
       "    .dataframe thead th {\n",
       "        text-align: right;\n",
       "    }\n",
       "</style>\n",
       "<table border=\"1\" class=\"dataframe\">\n",
       "  <thead>\n",
       "    <tr style=\"text-align: right;\">\n",
       "      <th></th>\n",
       "      <th>Seas</th>\n",
       "      <th>Player</th>\n",
       "      <th>Pos</th>\n",
       "      <th>Age</th>\n",
       "      <th>Tm</th>\n",
       "      <th>G</th>\n",
       "      <th>GS</th>\n",
       "      <th>MP</th>\n",
       "      <th>FG</th>\n",
       "      <th>FGA</th>\n",
       "      <th>...</th>\n",
       "      <th>FT%</th>\n",
       "      <th>ORB</th>\n",
       "      <th>DRB</th>\n",
       "      <th>TRB</th>\n",
       "      <th>AST</th>\n",
       "      <th>STL</th>\n",
       "      <th>BLK</th>\n",
       "      <th>TOV</th>\n",
       "      <th>PF</th>\n",
       "      <th>PTS</th>\n",
       "    </tr>\n",
       "  </thead>\n",
       "  <tbody>\n",
       "    <tr>\n",
       "      <th>0</th>\n",
       "      <td>2019</td>\n",
       "      <td>Álex Abrines</td>\n",
       "      <td>SG</td>\n",
       "      <td>25</td>\n",
       "      <td>OKC</td>\n",
       "      <td>31</td>\n",
       "      <td>2</td>\n",
       "      <td>19.0</td>\n",
       "      <td>1.8</td>\n",
       "      <td>5.1</td>\n",
       "      <td>...</td>\n",
       "      <td>0.923</td>\n",
       "      <td>0.2</td>\n",
       "      <td>1.4</td>\n",
       "      <td>1.5</td>\n",
       "      <td>0.6</td>\n",
       "      <td>0.5</td>\n",
       "      <td>0.2</td>\n",
       "      <td>0.5</td>\n",
       "      <td>1.7</td>\n",
       "      <td>5.3</td>\n",
       "    </tr>\n",
       "    <tr>\n",
       "      <th>1</th>\n",
       "      <td>2019</td>\n",
       "      <td>Quincy Acy</td>\n",
       "      <td>PF</td>\n",
       "      <td>28</td>\n",
       "      <td>PHO</td>\n",
       "      <td>10</td>\n",
       "      <td>0</td>\n",
       "      <td>12.3</td>\n",
       "      <td>0.4</td>\n",
       "      <td>1.8</td>\n",
       "      <td>...</td>\n",
       "      <td>0.700</td>\n",
       "      <td>0.3</td>\n",
       "      <td>2.2</td>\n",
       "      <td>2.5</td>\n",
       "      <td>0.8</td>\n",
       "      <td>0.1</td>\n",
       "      <td>0.4</td>\n",
       "      <td>0.4</td>\n",
       "      <td>2.4</td>\n",
       "      <td>1.7</td>\n",
       "    </tr>\n",
       "    <tr>\n",
       "      <th>2</th>\n",
       "      <td>2019</td>\n",
       "      <td>Jaylen Adams</td>\n",
       "      <td>PG</td>\n",
       "      <td>22</td>\n",
       "      <td>ATL</td>\n",
       "      <td>34</td>\n",
       "      <td>1</td>\n",
       "      <td>12.6</td>\n",
       "      <td>1.1</td>\n",
       "      <td>3.2</td>\n",
       "      <td>...</td>\n",
       "      <td>0.778</td>\n",
       "      <td>0.3</td>\n",
       "      <td>1.4</td>\n",
       "      <td>1.8</td>\n",
       "      <td>1.9</td>\n",
       "      <td>0.4</td>\n",
       "      <td>0.1</td>\n",
       "      <td>0.8</td>\n",
       "      <td>1.3</td>\n",
       "      <td>3.2</td>\n",
       "    </tr>\n",
       "    <tr>\n",
       "      <th>3</th>\n",
       "      <td>2019</td>\n",
       "      <td>Steven Adams</td>\n",
       "      <td>C</td>\n",
       "      <td>25</td>\n",
       "      <td>OKC</td>\n",
       "      <td>80</td>\n",
       "      <td>80</td>\n",
       "      <td>33.4</td>\n",
       "      <td>6.0</td>\n",
       "      <td>10.1</td>\n",
       "      <td>...</td>\n",
       "      <td>0.500</td>\n",
       "      <td>4.9</td>\n",
       "      <td>4.6</td>\n",
       "      <td>9.5</td>\n",
       "      <td>1.6</td>\n",
       "      <td>1.5</td>\n",
       "      <td>1.0</td>\n",
       "      <td>1.7</td>\n",
       "      <td>2.6</td>\n",
       "      <td>13.9</td>\n",
       "    </tr>\n",
       "    <tr>\n",
       "      <th>4</th>\n",
       "      <td>2019</td>\n",
       "      <td>Bam Adebayo</td>\n",
       "      <td>C</td>\n",
       "      <td>21</td>\n",
       "      <td>MIA</td>\n",
       "      <td>82</td>\n",
       "      <td>28</td>\n",
       "      <td>23.3</td>\n",
       "      <td>3.4</td>\n",
       "      <td>5.9</td>\n",
       "      <td>...</td>\n",
       "      <td>0.735</td>\n",
       "      <td>2.0</td>\n",
       "      <td>5.3</td>\n",
       "      <td>7.3</td>\n",
       "      <td>2.2</td>\n",
       "      <td>0.9</td>\n",
       "      <td>0.8</td>\n",
       "      <td>1.5</td>\n",
       "      <td>2.5</td>\n",
       "      <td>8.9</td>\n",
       "    </tr>\n",
       "  </tbody>\n",
       "</table>\n",
       "<p>5 rows × 30 columns</p>\n",
       "</div>"
      ],
      "text/plain": [
       "   Seas        Player Pos  Age   Tm   G  GS    MP   FG   FGA  ...    FT%  ORB  \\\n",
       "0  2019  Álex Abrines  SG   25  OKC  31   2  19.0  1.8   5.1  ...  0.923  0.2   \n",
       "1  2019    Quincy Acy  PF   28  PHO  10   0  12.3  0.4   1.8  ...  0.700  0.3   \n",
       "2  2019  Jaylen Adams  PG   22  ATL  34   1  12.6  1.1   3.2  ...  0.778  0.3   \n",
       "3  2019  Steven Adams   C   25  OKC  80  80  33.4  6.0  10.1  ...  0.500  4.9   \n",
       "4  2019   Bam Adebayo   C   21  MIA  82  28  23.3  3.4   5.9  ...  0.735  2.0   \n",
       "\n",
       "   DRB  TRB  AST  STL  BLK  TOV   PF   PTS  \n",
       "0  1.4  1.5  0.6  0.5  0.2  0.5  1.7   5.3  \n",
       "1  2.2  2.5  0.8  0.1  0.4  0.4  2.4   1.7  \n",
       "2  1.4  1.8  1.9  0.4  0.1  0.8  1.3   3.2  \n",
       "3  4.6  9.5  1.6  1.5  1.0  1.7  2.6  13.9  \n",
       "4  5.3  7.3  2.2  0.9  0.8  1.5  2.5   8.9  \n",
       "\n",
       "[5 rows x 30 columns]"
      ]
     },
     "execution_count": 2,
     "metadata": {},
     "output_type": "execute_result"
    }
   ],
   "source": [
    "url = \"https://tf-assets-prod.s3.amazonaws.com/tf-curric/data-science/Data%20Sets%20Clustering/nba_player_seasons.csv\"\n",
    "df = pd.read_csv(url)\n",
    "df.head()\n",
    "\n"
   ]
  },
  {
   "cell_type": "markdown",
   "metadata": {
    "id": "o_K1eQ0x1D_y"
   },
   "source": [
    "The goal is to cluster these player-seasons to identify potential player \"archetypes\".\n",
    "\n",
    "Begin by removing players whose season did not meet one of the following criteria:\n",
    "1. Started at least 20 games\n",
    "2. Averaged at least 10 minutes per game"
   ]
  },
  {
   "cell_type": "code",
   "execution_count": 4,
   "metadata": {},
   "outputs": [
    {
     "data": {
      "text/plain": [
       "Index(['Seas', 'Player', 'Pos', 'Age', 'Tm', 'G', 'GS', 'MP', 'FG', 'FGA',\n",
       "       'FG%', '3P', '3PA', '3P%', '2P', '2PA', '2P%', 'eFG%', 'FT', 'FTA',\n",
       "       'FT%', 'ORB', 'DRB', 'TRB', 'AST', 'STL', 'BLK', 'TOV', 'PF', 'PTS'],\n",
       "      dtype='object')"
      ]
     },
     "execution_count": 4,
     "metadata": {},
     "output_type": "execute_result"
    }
   ],
   "source": [
    "df.columns"
   ]
  },
  {
   "cell_type": "code",
   "execution_count": 8,
   "metadata": {
    "id": "xfYVreyw1D_y"
   },
   "outputs": [],
   "source": [
    "# filter df to 20+ games played and 10+ avg minutes\n",
    "df = df[(df.G >= 20) & (df.MP >= 10)]\n",
    "\n",
    "# create new column for PTS/MP\n",
    "df[\"PTS/MIN\"] = df[\"PTS\"]/df[\"MP\"]"
   ]
  },
  {
   "cell_type": "markdown",
   "metadata": {
    "id": "86lfEP_91D_0"
   },
   "source": [
    "Choose a subset of numeric columns that is interesting to you from an \"archetypal\" standpoint. \n",
    "\n",
    "We will choose the following basic statistics: **points, total rebounds, assists, steals, blocks**, and **turnovers**, but you should feel free to choose other reasonable feature sets if you like. Be careful not to include too many dimensions (curse of dimensionality)."
   ]
  },
  {
   "cell_type": "code",
   "execution_count": 21,
   "metadata": {
    "id": "o3PUI4l61D_0"
   },
   "outputs": [],
   "source": [
    "cols = [\"PTS\", \"TRB\", \"AST\", \"STL\", \"BLK\", \"2P%\", \"3P%\", \"PTS/MIN\"]\n",
    "stats = df[cols]\n",
    "stats = stats.dropna(axis=0)\n"
   ]
  },
  {
   "cell_type": "markdown",
   "metadata": {
    "id": "MUjcLMMk1D_2"
   },
   "source": [
    "Standardize the features in your dataset using scikit-learn's StandardScaler, which will set the mean of each feature to 0 and the variance to 1."
   ]
  },
  {
   "cell_type": "code",
   "execution_count": 22,
   "metadata": {
    "id": "6OTdN8oF1D_2",
    "scrolled": true
   },
   "outputs": [
    {
     "data": {
      "text/html": [
       "<div>\n",
       "<style scoped>\n",
       "    .dataframe tbody tr th:only-of-type {\n",
       "        vertical-align: middle;\n",
       "    }\n",
       "\n",
       "    .dataframe tbody tr th {\n",
       "        vertical-align: top;\n",
       "    }\n",
       "\n",
       "    .dataframe thead th {\n",
       "        text-align: right;\n",
       "    }\n",
       "</style>\n",
       "<table border=\"1\" class=\"dataframe\">\n",
       "  <thead>\n",
       "    <tr style=\"text-align: right;\">\n",
       "      <th></th>\n",
       "      <th>PTS</th>\n",
       "      <th>TRB</th>\n",
       "      <th>AST</th>\n",
       "      <th>STL</th>\n",
       "      <th>BLK</th>\n",
       "      <th>2P%</th>\n",
       "      <th>3P%</th>\n",
       "      <th>PTS/MIN</th>\n",
       "    </tr>\n",
       "  </thead>\n",
       "  <tbody>\n",
       "    <tr>\n",
       "      <th>0</th>\n",
       "      <td>-0.859882</td>\n",
       "      <td>-1.112194</td>\n",
       "      <td>-0.918195</td>\n",
       "      <td>-0.627943</td>\n",
       "      <td>-0.597966</td>\n",
       "      <td>0.051831</td>\n",
       "      <td>0.050799</td>\n",
       "      <td>-1.095941</td>\n",
       "    </tr>\n",
       "    <tr>\n",
       "      <th>1</th>\n",
       "      <td>-1.228958</td>\n",
       "      <td>-0.982984</td>\n",
       "      <td>-0.202719</td>\n",
       "      <td>-0.879617</td>\n",
       "      <td>-0.842925</td>\n",
       "      <td>-2.195786</td>\n",
       "      <td>0.183915</td>\n",
       "      <td>-1.292292</td>\n",
       "    </tr>\n",
       "    <tr>\n",
       "      <th>2</th>\n",
       "      <td>0.651573</td>\n",
       "      <td>2.333410</td>\n",
       "      <td>-0.367829</td>\n",
       "      <td>1.888800</td>\n",
       "      <td>1.361711</td>\n",
       "      <td>1.604142</td>\n",
       "      <td>-2.815635</td>\n",
       "      <td>-0.017304</td>\n",
       "    </tr>\n",
       "    <tr>\n",
       "      <th>3</th>\n",
       "      <td>-0.227180</td>\n",
       "      <td>1.385869</td>\n",
       "      <td>-0.037609</td>\n",
       "      <td>0.378754</td>\n",
       "      <td>0.871792</td>\n",
       "      <td>1.474783</td>\n",
       "      <td>-1.040753</td>\n",
       "      <td>-0.286086</td>\n",
       "    </tr>\n",
       "    <tr>\n",
       "      <th>4</th>\n",
       "      <td>1.952128</td>\n",
       "      <td>2.204199</td>\n",
       "      <td>0.072464</td>\n",
       "      <td>-0.627943</td>\n",
       "      <td>2.096589</td>\n",
       "      <td>0.504588</td>\n",
       "      <td>-0.703526</td>\n",
       "      <td>1.754469</td>\n",
       "    </tr>\n",
       "  </tbody>\n",
       "</table>\n",
       "</div>"
      ],
      "text/plain": [
       "        PTS       TRB       AST       STL       BLK       2P%       3P%  \\\n",
       "0 -0.859882 -1.112194 -0.918195 -0.627943 -0.597966  0.051831  0.050799   \n",
       "1 -1.228958 -0.982984 -0.202719 -0.879617 -0.842925 -2.195786  0.183915   \n",
       "2  0.651573  2.333410 -0.367829  1.888800  1.361711  1.604142 -2.815635   \n",
       "3 -0.227180  1.385869 -0.037609  0.378754  0.871792  1.474783 -1.040753   \n",
       "4  1.952128  2.204199  0.072464 -0.627943  2.096589  0.504588 -0.703526   \n",
       "\n",
       "    PTS/MIN  \n",
       "0 -1.095941  \n",
       "1 -1.292292  \n",
       "2 -0.017304  \n",
       "3 -0.286086  \n",
       "4  1.754469  "
      ]
     },
     "execution_count": 22,
     "metadata": {},
     "output_type": "execute_result"
    }
   ],
   "source": [
    "# scale stat columns\n",
    "scaler = StandardScaler()\n",
    "scaled = scaler.fit_transform(stats)\n",
    "scaled_stats = pd.DataFrame(scaled, columns=stats.columns)\n",
    "scaled_stats.head()\n",
    "\n"
   ]
  },
  {
   "cell_type": "markdown",
   "metadata": {
    "id": "ao3Y5FVp1D_4"
   },
   "source": [
    "Run K-means clustering with K = 3 and print out the resulting centroids. When printing the centroids, transform the scaled centroids back into their corresponding unscaled values. What \"archetypes\" do you see?"
   ]
  },
  {
   "cell_type": "code",
   "execution_count": 26,
   "metadata": {
    "id": "sUhMxZdL1D_4"
   },
   "outputs": [
    {
     "data": {
      "text/html": [
       "<style  type=\"text/css\" >\n",
       "    #T_00fd6e24_54f6_11eb_be83_bc542fc4f43brow0_col0 {\n",
       "            background-color:  #e7e3f0;\n",
       "            color:  #000000;\n",
       "        }    #T_00fd6e24_54f6_11eb_be83_bc542fc4f43brow0_col1 {\n",
       "            background-color:  #023858;\n",
       "            color:  #f1f1f1;\n",
       "        }    #T_00fd6e24_54f6_11eb_be83_bc542fc4f43brow0_col2 {\n",
       "            background-color:  #fff7fb;\n",
       "            color:  #000000;\n",
       "        }    #T_00fd6e24_54f6_11eb_be83_bc542fc4f43brow0_col3 {\n",
       "            background-color:  #fef6fb;\n",
       "            color:  #000000;\n",
       "        }    #T_00fd6e24_54f6_11eb_be83_bc542fc4f43brow0_col4 {\n",
       "            background-color:  #023858;\n",
       "            color:  #f1f1f1;\n",
       "        }    #T_00fd6e24_54f6_11eb_be83_bc542fc4f43brow0_col5 {\n",
       "            background-color:  #023858;\n",
       "            color:  #f1f1f1;\n",
       "        }    #T_00fd6e24_54f6_11eb_be83_bc542fc4f43brow0_col6 {\n",
       "            background-color:  #fff7fb;\n",
       "            color:  #000000;\n",
       "        }    #T_00fd6e24_54f6_11eb_be83_bc542fc4f43brow0_col7 {\n",
       "            background-color:  #d7d6e9;\n",
       "            color:  #000000;\n",
       "        }    #T_00fd6e24_54f6_11eb_be83_bc542fc4f43brow1_col0 {\n",
       "            background-color:  #fff7fb;\n",
       "            color:  #000000;\n",
       "        }    #T_00fd6e24_54f6_11eb_be83_bc542fc4f43brow1_col1 {\n",
       "            background-color:  #fff7fb;\n",
       "            color:  #000000;\n",
       "        }    #T_00fd6e24_54f6_11eb_be83_bc542fc4f43brow1_col2 {\n",
       "            background-color:  #eae6f1;\n",
       "            color:  #000000;\n",
       "        }    #T_00fd6e24_54f6_11eb_be83_bc542fc4f43brow1_col3 {\n",
       "            background-color:  #fff7fb;\n",
       "            color:  #000000;\n",
       "        }    #T_00fd6e24_54f6_11eb_be83_bc542fc4f43brow1_col4 {\n",
       "            background-color:  #fff7fb;\n",
       "            color:  #000000;\n",
       "        }    #T_00fd6e24_54f6_11eb_be83_bc542fc4f43brow1_col5 {\n",
       "            background-color:  #fff7fb;\n",
       "            color:  #000000;\n",
       "        }    #T_00fd6e24_54f6_11eb_be83_bc542fc4f43brow1_col6 {\n",
       "            background-color:  #03466e;\n",
       "            color:  #f1f1f1;\n",
       "        }    #T_00fd6e24_54f6_11eb_be83_bc542fc4f43brow1_col7 {\n",
       "            background-color:  #fff7fb;\n",
       "            color:  #000000;\n",
       "        }    #T_00fd6e24_54f6_11eb_be83_bc542fc4f43brow2_col0 {\n",
       "            background-color:  #023858;\n",
       "            color:  #f1f1f1;\n",
       "        }    #T_00fd6e24_54f6_11eb_be83_bc542fc4f43brow2_col1 {\n",
       "            background-color:  #045d92;\n",
       "            color:  #f1f1f1;\n",
       "        }    #T_00fd6e24_54f6_11eb_be83_bc542fc4f43brow2_col2 {\n",
       "            background-color:  #023858;\n",
       "            color:  #f1f1f1;\n",
       "        }    #T_00fd6e24_54f6_11eb_be83_bc542fc4f43brow2_col3 {\n",
       "            background-color:  #023858;\n",
       "            color:  #f1f1f1;\n",
       "        }    #T_00fd6e24_54f6_11eb_be83_bc542fc4f43brow2_col4 {\n",
       "            background-color:  #89b1d4;\n",
       "            color:  #000000;\n",
       "        }    #T_00fd6e24_54f6_11eb_be83_bc542fc4f43brow2_col5 {\n",
       "            background-color:  #c9cee4;\n",
       "            color:  #000000;\n",
       "        }    #T_00fd6e24_54f6_11eb_be83_bc542fc4f43brow2_col6 {\n",
       "            background-color:  #023858;\n",
       "            color:  #f1f1f1;\n",
       "        }    #T_00fd6e24_54f6_11eb_be83_bc542fc4f43brow2_col7 {\n",
       "            background-color:  #023858;\n",
       "            color:  #f1f1f1;\n",
       "        }</style><table id=\"T_00fd6e24_54f6_11eb_be83_bc542fc4f43b\" ><thead>    <tr>        <th class=\"blank level0\" ></th>        <th class=\"col_heading level0 col0\" >PTS</th>        <th class=\"col_heading level0 col1\" >TRB</th>        <th class=\"col_heading level0 col2\" >AST</th>        <th class=\"col_heading level0 col3\" >STL</th>        <th class=\"col_heading level0 col4\" >BLK</th>        <th class=\"col_heading level0 col5\" >2P%</th>        <th class=\"col_heading level0 col6\" >3P%</th>        <th class=\"col_heading level0 col7\" >PTS/MIN</th>    </tr></thead><tbody>\n",
       "                <tr>\n",
       "                        <th id=\"T_00fd6e24_54f6_11eb_be83_bc542fc4f43blevel0_row0\" class=\"row_heading level0 row0\" >0</th>\n",
       "                        <td id=\"T_00fd6e24_54f6_11eb_be83_bc542fc4f43brow0_col0\" class=\"data row0 col0\" >8.861538</td>\n",
       "                        <td id=\"T_00fd6e24_54f6_11eb_be83_bc542fc4f43brow0_col1\" class=\"data row0 col1\" >6.011154</td>\n",
       "                        <td id=\"T_00fd6e24_54f6_11eb_be83_bc542fc4f43brow0_col2\" class=\"data row0 col2\" >1.290769</td>\n",
       "                        <td id=\"T_00fd6e24_54f6_11eb_be83_bc542fc4f43brow0_col3\" class=\"data row0 col3\" >0.618462</td>\n",
       "                        <td id=\"T_00fd6e24_54f6_11eb_be83_bc542fc4f43brow0_col4\" class=\"data row0 col4\" >0.900385</td>\n",
       "                        <td id=\"T_00fd6e24_54f6_11eb_be83_bc542fc4f43brow0_col5\" class=\"data row0 col5\" >0.560169</td>\n",
       "                        <td id=\"T_00fd6e24_54f6_11eb_be83_bc542fc4f43brow0_col6\" class=\"data row0 col6\" >0.164508</td>\n",
       "                        <td id=\"T_00fd6e24_54f6_11eb_be83_bc542fc4f43brow0_col7\" class=\"data row0 col7\" >0.404831</td>\n",
       "            </tr>\n",
       "            <tr>\n",
       "                        <th id=\"T_00fd6e24_54f6_11eb_be83_bc542fc4f43blevel0_row1\" class=\"row_heading level0 row1\" >1</th>\n",
       "                        <td id=\"T_00fd6e24_54f6_11eb_be83_bc542fc4f43brow1_col0\" class=\"data row1 col0\" >7.331621</td>\n",
       "                        <td id=\"T_00fd6e24_54f6_11eb_be83_bc542fc4f43brow1_col1\" class=\"data row1 col1\" >2.860274</td>\n",
       "                        <td id=\"T_00fd6e24_54f6_11eb_be83_bc542fc4f43brow1_col2\" class=\"data row1 col2\" >1.690411</td>\n",
       "                        <td id=\"T_00fd6e24_54f6_11eb_be83_bc542fc4f43brow1_col3\" class=\"data row1 col3\" >0.615868</td>\n",
       "                        <td id=\"T_00fd6e24_54f6_11eb_be83_bc542fc4f43brow1_col4\" class=\"data row1 col4\" >0.262785</td>\n",
       "                        <td id=\"T_00fd6e24_54f6_11eb_be83_bc542fc4f43brow1_col5\" class=\"data row1 col5\" >0.476830</td>\n",
       "                        <td id=\"T_00fd6e24_54f6_11eb_be83_bc542fc4f43brow1_col6\" class=\"data row1 col6\" >0.345840</td>\n",
       "                        <td id=\"T_00fd6e24_54f6_11eb_be83_bc542fc4f43brow1_col7\" class=\"data row1 col7\" >0.362069</td>\n",
       "            </tr>\n",
       "            <tr>\n",
       "                        <th id=\"T_00fd6e24_54f6_11eb_be83_bc542fc4f43blevel0_row2\" class=\"row_heading level0 row2\" >2</th>\n",
       "                        <td id=\"T_00fd6e24_54f6_11eb_be83_bc542fc4f43brow2_col0\" class=\"data row2 col0\" >17.639948</td>\n",
       "                        <td id=\"T_00fd6e24_54f6_11eb_be83_bc542fc4f43brow2_col1\" class=\"data row2 col1\" >5.567885</td>\n",
       "                        <td id=\"T_00fd6e24_54f6_11eb_be83_bc542fc4f43brow2_col2\" class=\"data row2 col2\" >4.253786</td>\n",
       "                        <td id=\"T_00fd6e24_54f6_11eb_be83_bc542fc4f43brow2_col3\" class=\"data row2 col3\" >1.144125</td>\n",
       "                        <td id=\"T_00fd6e24_54f6_11eb_be83_bc542fc4f43brow2_col4\" class=\"data row2 col4\" >0.549086</td>\n",
       "                        <td id=\"T_00fd6e24_54f6_11eb_be83_bc542fc4f43brow2_col5\" class=\"data row2 col5\" >0.499436</td>\n",
       "                        <td id=\"T_00fd6e24_54f6_11eb_be83_bc542fc4f43brow2_col6\" class=\"data row2 col6\" >0.355650</td>\n",
       "                        <td id=\"T_00fd6e24_54f6_11eb_be83_bc542fc4f43brow2_col7\" class=\"data row2 col7\" >0.556330</td>\n",
       "            </tr>\n",
       "    </tbody></table>"
      ],
      "text/plain": [
       "<pandas.io.formats.style.Styler at 0x2128d454a30>"
      ]
     },
     "execution_count": 26,
     "metadata": {},
     "output_type": "execute_result"
    }
   ],
   "source": [
    "# k-means with k=3\n",
    "kmeans = KMeans(n_clusters=3)\n",
    "kmeans.fit(scaled_stats)\n",
    "\n",
    "centroids = scaler.inverse_transform(kmeans.cluster_centers_)\n",
    "centroids_df = pd.DataFrame(centroids, columns=scaled_stats.columns)\n",
    "centroids_df.style.background_gradient()\n"
   ]
  },
  {
   "cell_type": "markdown",
   "metadata": {},
   "source": [
    "> The centroids look like they're grouped into centers, guards, and forwards"
   ]
  },
  {
   "cell_type": "markdown",
   "metadata": {
    "id": "y0wBOUWJ1D_6"
   },
   "source": [
    "Experiment with different values of K. Do any further interesting archetypes come out?"
   ]
  },
  {
   "cell_type": "code",
   "execution_count": null,
   "metadata": {
    "id": "AdKYEBx61D_6"
   },
   "outputs": [],
   "source": [
    "# k-means with k=5\n",
    "kmeans = KMeans(n_clusters=5)\n",
    "kmeans.fit(scaled_stats)\n",
    "\n",
    "centroids = scaler.inverse_transform(kmeans.cluster_centers_)\n",
    "centroids_df = pd.DataFrame(centroids, columns=scaled_stats.columns)\n",
    "centroids_df.style.background_gradient()\n",
    "\n",
    "\n"
   ]
  }
 ],
 "metadata": {
  "colab": {
   "collapsed_sections": [],
   "name": "Day 47 Lecture 1 Assignment.ipynb",
   "provenance": []
  },
  "kernelspec": {
   "display_name": "Python 3",
   "language": "python",
   "name": "python3"
  },
  "language_info": {
   "codemirror_mode": {
    "name": "ipython",
    "version": 3
   },
   "file_extension": ".py",
   "mimetype": "text/x-python",
   "name": "python",
   "nbconvert_exporter": "python",
   "pygments_lexer": "ipython3",
   "version": "3.8.3"
  },
  "toc": {
   "base_numbering": 1,
   "nav_menu": {},
   "number_sections": false,
   "sideBar": true,
   "skip_h1_title": false,
   "title_cell": "Table of Contents",
   "title_sidebar": "Contents",
   "toc_cell": false,
   "toc_position": {},
   "toc_section_display": true,
   "toc_window_display": true
  }
 },
 "nbformat": 4,
 "nbformat_minor": 1
}
