{
 "cells": [
  {
   "cell_type": "markdown",
   "metadata": {},
   "source": [
    "# Imports"
   ]
  },
  {
   "cell_type": "code",
   "execution_count": 1,
   "metadata": {},
   "outputs": [
    {
     "data": {
      "application/javascript": [
       "\n",
       "            setTimeout(function() {\n",
       "                var nbb_cell_id = 1;\n",
       "                var nbb_unformatted_code = \"%reload_ext nb_black\\nimport pandas as pd\\nimport numpy as np\\nfrom matplotlib import pyplot as plt\\nimport plotly\\nimport seaborn as sns\\n%matplotlib inline\\nfrom scipy import stats\\nplt.style.use(['dark_background'])\\nfrom matplotlib.patches import Ellipse\\nfrom sklearn.preprocessing import StandardScaler\\nfrom sklearn.mixture import GaussianMixture\\nfrom sklearn.decomposition import PCA\\nfrom sklearn import datasets, metrics\";\n",
       "                var nbb_formatted_code = \"%reload_ext nb_black\\nimport pandas as pd\\nimport numpy as np\\nfrom matplotlib import pyplot as plt\\nimport plotly\\nimport seaborn as sns\\n\\n%matplotlib inline\\nfrom scipy import stats\\n\\nplt.style.use([\\\"dark_background\\\"])\\nfrom matplotlib.patches import Ellipse\\nfrom sklearn.preprocessing import StandardScaler\\nfrom sklearn.mixture import GaussianMixture\\nfrom sklearn.decomposition import PCA\\nfrom sklearn import datasets, metrics\";\n",
       "                var nbb_cells = Jupyter.notebook.get_cells();\n",
       "                for (var i = 0; i < nbb_cells.length; ++i) {\n",
       "                    if (nbb_cells[i].input_prompt_number == nbb_cell_id) {\n",
       "                        if (nbb_cells[i].get_text() == nbb_unformatted_code) {\n",
       "                             nbb_cells[i].set_text(nbb_formatted_code);\n",
       "                        }\n",
       "                        break;\n",
       "                    }\n",
       "                }\n",
       "            }, 500);\n",
       "            "
      ],
      "text/plain": [
       "<IPython.core.display.Javascript object>"
      ]
     },
     "metadata": {},
     "output_type": "display_data"
    }
   ],
   "source": [
    "%reload_ext nb_black\n",
    "import pandas as pd\n",
    "import numpy as np\n",
    "from matplotlib import pyplot as plt\n",
    "import plotly\n",
    "import seaborn as sns\n",
    "\n",
    "%matplotlib inline\n",
    "from scipy import stats\n",
    "\n",
    "plt.style.use([\"dark_background\"])\n",
    "from matplotlib.patches import Ellipse\n",
    "from sklearn.preprocessing import StandardScaler\n",
    "from sklearn.mixture import GaussianMixture\n",
    "from sklearn.decomposition import PCA\n",
    "from sklearn import datasets, metrics"
   ]
  },
  {
   "cell_type": "code",
   "execution_count": 2,
   "metadata": {},
   "outputs": [
    {
     "data": {
      "application/javascript": [
       "\n",
       "            setTimeout(function() {\n",
       "                var nbb_cell_id = 2;\n",
       "                var nbb_unformatted_code = \"postgres_user = 'dsbc_student'\\npostgres_pw = '7*.8G9QH21'\\npostgres_host = '142.93.121.174'\\npostgres_port = '5432'\\npostgres_db = 'heartdisease'\\nconn_str = f'postgresql://{postgres_user}:{postgres_pw}@{postgres_host}:{postgres_port}/{postgres_db}'\\nquery = '''\\nSELECT *\\nFROM heartdisease\\n'''\\nheartdisease_df = pd.read_sql_query(query, con=conn_str)\\n\\n# df formatting\\n# Define the features and the outcome\\nX = heartdisease_df.iloc[:, :13]\\ny = heartdisease_df.iloc[:, 13]\\n\\n# Replace missing values (marked by `?`) with a `0`\\nX = X.replace(to_replace='?', value=0)\\n\\n# Binarize y so that `1` means heart disease diagnosis and `0` means no diagnosis\\ny = np.where(y > 0, 0, 1)\";\n",
       "                var nbb_formatted_code = \"postgres_user = \\\"dsbc_student\\\"\\npostgres_pw = \\\"7*.8G9QH21\\\"\\npostgres_host = \\\"142.93.121.174\\\"\\npostgres_port = \\\"5432\\\"\\npostgres_db = \\\"heartdisease\\\"\\nconn_str = f\\\"postgresql://{postgres_user}:{postgres_pw}@{postgres_host}:{postgres_port}/{postgres_db}\\\"\\nquery = \\\"\\\"\\\"\\nSELECT *\\nFROM heartdisease\\n\\\"\\\"\\\"\\nheartdisease_df = pd.read_sql_query(query, con=conn_str)\\n\\n# df formatting\\n# Define the features and the outcome\\nX = heartdisease_df.iloc[:, :13]\\ny = heartdisease_df.iloc[:, 13]\\n\\n# Replace missing values (marked by `?`) with a `0`\\nX = X.replace(to_replace=\\\"?\\\", value=0)\\n\\n# Binarize y so that `1` means heart disease diagnosis and `0` means no diagnosis\\ny = np.where(y > 0, 0, 1)\";\n",
       "                var nbb_cells = Jupyter.notebook.get_cells();\n",
       "                for (var i = 0; i < nbb_cells.length; ++i) {\n",
       "                    if (nbb_cells[i].input_prompt_number == nbb_cell_id) {\n",
       "                        if (nbb_cells[i].get_text() == nbb_unformatted_code) {\n",
       "                             nbb_cells[i].set_text(nbb_formatted_code);\n",
       "                        }\n",
       "                        break;\n",
       "                    }\n",
       "                }\n",
       "            }, 500);\n",
       "            "
      ],
      "text/plain": [
       "<IPython.core.display.Javascript object>"
      ]
     },
     "metadata": {},
     "output_type": "display_data"
    }
   ],
   "source": [
    "postgres_user = \"dsbc_student\"\n",
    "postgres_pw = \"7*.8G9QH21\"\n",
    "postgres_host = \"142.93.121.174\"\n",
    "postgres_port = \"5432\"\n",
    "postgres_db = \"heartdisease\"\n",
    "conn_str = f\"postgresql://{postgres_user}:{postgres_pw}@{postgres_host}:{postgres_port}/{postgres_db}\"\n",
    "query = \"\"\"\n",
    "SELECT *\n",
    "FROM heartdisease\n",
    "\"\"\"\n",
    "heartdisease_df = pd.read_sql_query(query, con=conn_str)\n",
    "\n",
    "# df formatting\n",
    "# Define the features and the outcome\n",
    "X = heartdisease_df.iloc[:, :13]\n",
    "y = heartdisease_df.iloc[:, 13]\n",
    "\n",
    "# Replace missing values (marked by `?`) with a `0`\n",
    "X = X.replace(to_replace=\"?\", value=0)\n",
    "\n",
    "# Binarize y so that `1` means heart disease diagnosis and `0` means no diagnosis\n",
    "y = np.where(y > 0, 0, 1)"
   ]
  },
  {
   "cell_type": "code",
   "execution_count": 5,
   "metadata": {},
   "outputs": [
    {
     "data": {
      "application/javascript": [
       "\n",
       "            setTimeout(function() {\n",
       "                var nbb_cell_id = 5;\n",
       "                var nbb_unformatted_code = \"# scale the data\\nscaled_X = StandardScaler().fit_transform(X)\";\n",
       "                var nbb_formatted_code = \"# scale the data\\nscaled_X = StandardScaler().fit_transform(X)\";\n",
       "                var nbb_cells = Jupyter.notebook.get_cells();\n",
       "                for (var i = 0; i < nbb_cells.length; ++i) {\n",
       "                    if (nbb_cells[i].input_prompt_number == nbb_cell_id) {\n",
       "                        if (nbb_cells[i].get_text() == nbb_unformatted_code) {\n",
       "                             nbb_cells[i].set_text(nbb_formatted_code);\n",
       "                        }\n",
       "                        break;\n",
       "                    }\n",
       "                }\n",
       "            }, 500);\n",
       "            "
      ],
      "text/plain": [
       "<IPython.core.display.Javascript object>"
      ]
     },
     "metadata": {},
     "output_type": "display_data"
    }
   ],
   "source": [
    "# scale the data\n",
    "scaled_X = StandardScaler().fit_transform(X)"
   ]
  },
  {
   "cell_type": "markdown",
   "metadata": {},
   "source": [
    "> 1. Apply GMM to the heart disease dataset by setting n_components=2. Get ARI and silhouette scores for your solution and compare it with those of the k-means and hierarchical clustering solutions that you implemented in the previous checkpoint assignments. Which algorithm performs best?"
   ]
  },
  {
   "cell_type": "code",
   "execution_count": 6,
   "metadata": {},
   "outputs": [
    {
     "data": {
      "application/javascript": [
       "\n",
       "            setTimeout(function() {\n",
       "                var nbb_cell_id = 6;\n",
       "                var nbb_unformatted_code = \"# GMM model object\\ngmm_cluster = GaussianMixture(n_components=2)\\n\\n# fit the model to tha data\\nclusters = gmm_cluster.fit_predict(scaled_X)\";\n",
       "                var nbb_formatted_code = \"# GMM model object\\ngmm_cluster = GaussianMixture(n_components=2)\\n\\n# fit the model to tha data\\nclusters = gmm_cluster.fit_predict(scaled_X)\";\n",
       "                var nbb_cells = Jupyter.notebook.get_cells();\n",
       "                for (var i = 0; i < nbb_cells.length; ++i) {\n",
       "                    if (nbb_cells[i].input_prompt_number == nbb_cell_id) {\n",
       "                        if (nbb_cells[i].get_text() == nbb_unformatted_code) {\n",
       "                             nbb_cells[i].set_text(nbb_formatted_code);\n",
       "                        }\n",
       "                        break;\n",
       "                    }\n",
       "                }\n",
       "            }, 500);\n",
       "            "
      ],
      "text/plain": [
       "<IPython.core.display.Javascript object>"
      ]
     },
     "metadata": {},
     "output_type": "display_data"
    }
   ],
   "source": [
    "# GMM model object\n",
    "gmm_cluster = GaussianMixture(n_components=2)\n",
    "\n",
    "# fit the model to tha data\n",
    "clusters = gmm_cluster.fit_predict(scaled_X)"
   ]
  },
  {
   "cell_type": "code",
   "execution_count": 8,
   "metadata": {},
   "outputs": [
    {
     "name": "stdout",
     "output_type": "stream",
     "text": [
      "Adjusted Rand Index of the GMM solution: 0.18389186035089963\n",
      "The silhoutte score of the GMM solution: 0.13628813153331445\n"
     ]
    },
    {
     "data": {
      "application/javascript": [
       "\n",
       "            setTimeout(function() {\n",
       "                var nbb_cell_id = 8;\n",
       "                var nbb_unformatted_code = \"print(\\n    \\\"Adjusted Rand Index of the GMM solution: {}\\\".format(\\n        metrics.adjusted_rand_score(y, clusters)\\n    )\\n)\\nprint(\\n    \\\"The silhoutte score of the GMM solution: {}\\\".format(\\n        metrics.silhouette_score(scaled_X, clusters, metric=\\\"euclidean\\\")\\n    )\\n)\";\n",
       "                var nbb_formatted_code = \"print(\\n    \\\"Adjusted Rand Index of the GMM solution: {}\\\".format(\\n        metrics.adjusted_rand_score(y, clusters)\\n    )\\n)\\nprint(\\n    \\\"The silhoutte score of the GMM solution: {}\\\".format(\\n        metrics.silhouette_score(scaled_X, clusters, metric=\\\"euclidean\\\")\\n    )\\n)\";\n",
       "                var nbb_cells = Jupyter.notebook.get_cells();\n",
       "                for (var i = 0; i < nbb_cells.length; ++i) {\n",
       "                    if (nbb_cells[i].input_prompt_number == nbb_cell_id) {\n",
       "                        if (nbb_cells[i].get_text() == nbb_unformatted_code) {\n",
       "                             nbb_cells[i].set_text(nbb_formatted_code);\n",
       "                        }\n",
       "                        break;\n",
       "                    }\n",
       "                }\n",
       "            }, 500);\n",
       "            "
      ],
      "text/plain": [
       "<IPython.core.display.Javascript object>"
      ]
     },
     "metadata": {},
     "output_type": "display_data"
    }
   ],
   "source": [
    "print(\n",
    "    \"Adjusted Rand Index of the GMM solution: {}\".format(\n",
    "        metrics.adjusted_rand_score(y, clusters)\n",
    "    )\n",
    ")\n",
    "print(\n",
    "    \"The silhoutte score of the GMM solution: {}\".format(\n",
    "        metrics.silhouette_score(scaled_X, clusters, metric=\"euclidean\")\n",
    "    )\n",
    ")"
   ]
  },
  {
   "cell_type": "markdown",
   "metadata": {},
   "source": [
    "> The 2 cluster KMeans ARI was higher but the silhouette score was slightly lower than the GMM.\n",
    "> The hierarchical ARI and silhouette score were higher than the GMM"
   ]
  },
  {
   "cell_type": "markdown",
   "metadata": {},
   "source": [
    "> 2. GMM implementation of scikit-learn has a parameter called covariance_type. This parameter determines the type of covariance parameters to use. There are four types that you can specify:\n",
    "\n",
    "* full: This is the default. Each component has its own general covariance matrix.\n",
    "* tied: All components share the same general covariance matrix.\n",
    "* diag: Each component has its own diagonal covariance matrix.\n",
    "* spherical: Each component has its own single variance."
   ]
  },
  {
   "cell_type": "code",
   "execution_count": 13,
   "metadata": {},
   "outputs": [
    {
     "name": "stdout",
     "output_type": "stream",
     "text": [
      "Adjusted Rand Index of the full GMM solution: 0.4207322145049338\n",
      "The silhoutte score of the full GMM solution: 0.16118591340148433\n",
      "Adjusted Rand Index of the tied GMM solution: 0.18389186035089963\n",
      "The silhoutte score of the tied GMM solution: 0.13628813153331445\n",
      "Adjusted Rand Index of the diag GMM solution: 0.37878842718089933\n",
      "The silhoutte score of the diag GMM solution: 0.15836933745078682\n",
      "Adjusted Rand Index of the spherical GMM solution: 0.20765243525722465\n",
      "The silhoutte score of the spherical GMM solution: 0.12468753110276873\n"
     ]
    },
    {
     "data": {
      "application/javascript": [
       "\n",
       "            setTimeout(function() {\n",
       "                var nbb_cell_id = 13;\n",
       "                var nbb_unformatted_code = \"cov = ['full', 'tied', 'diag', 'spherical']\\n\\nfor param in cov:\\n    # GMM model object\\n    gmm_cluster = GaussianMixture(n_components=2, covariance_type=param)\\n\\n    # fit the model to tha data\\n    clusters = gmm_cluster.fit_predict(scaled_X)\\n\\n    print(\\n        f\\\"Adjusted Rand Index of the {param} GMM solution: {metrics.adjusted_rand_score(y, clusters)}\\\"\\n        )\\n    \\n    print(f\\\"The silhoutte score of the {param} GMM solution: {metrics.silhouette_score(scaled_X, clusters, metric='euclidean')}\\\")\\n    \";\n",
       "                var nbb_formatted_code = \"cov = [\\\"full\\\", \\\"tied\\\", \\\"diag\\\", \\\"spherical\\\"]\\n\\nfor param in cov:\\n    # GMM model object\\n    gmm_cluster = GaussianMixture(n_components=2, covariance_type=param)\\n\\n    # fit the model to tha data\\n    clusters = gmm_cluster.fit_predict(scaled_X)\\n\\n    print(\\n        f\\\"Adjusted Rand Index of the {param} GMM solution: {metrics.adjusted_rand_score(y, clusters)}\\\"\\n    )\\n\\n    print(\\n        f\\\"The silhoutte score of the {param} GMM solution: {metrics.silhouette_score(scaled_X, clusters, metric='euclidean')}\\\"\\n    )\";\n",
       "                var nbb_cells = Jupyter.notebook.get_cells();\n",
       "                for (var i = 0; i < nbb_cells.length; ++i) {\n",
       "                    if (nbb_cells[i].input_prompt_number == nbb_cell_id) {\n",
       "                        if (nbb_cells[i].get_text() == nbb_unformatted_code) {\n",
       "                             nbb_cells[i].set_text(nbb_formatted_code);\n",
       "                        }\n",
       "                        break;\n",
       "                    }\n",
       "                }\n",
       "            }, 500);\n",
       "            "
      ],
      "text/plain": [
       "<IPython.core.display.Javascript object>"
      ]
     },
     "metadata": {},
     "output_type": "display_data"
    }
   ],
   "source": [
    "cov = [\"full\", \"tied\", \"diag\", \"spherical\"]\n",
    "\n",
    "for param in cov:\n",
    "    # GMM model object\n",
    "    gmm_cluster = GaussianMixture(n_components=2, covariance_type=param)\n",
    "\n",
    "    # fit the model to tha data\n",
    "    clusters = gmm_cluster.fit_predict(scaled_X)\n",
    "\n",
    "    print(\n",
    "        f\"Adjusted Rand Index of the {param} GMM solution: {metrics.adjusted_rand_score(y, clusters)}\"\n",
    "    )\n",
    "\n",
    "    print(\n",
    "        f\"The silhoutte score of the {param} GMM solution: {metrics.silhouette_score(scaled_X, clusters, metric='euclidean')}\"\n",
    "    )"
   ]
  },
  {
   "cell_type": "markdown",
   "metadata": {},
   "source": [
    "> The full covariance type is the best"
   ]
  }
 ],
 "metadata": {
  "kernelspec": {
   "display_name": "Python 3",
   "language": "python",
   "name": "python3"
  },
  "language_info": {
   "codemirror_mode": {
    "name": "ipython",
    "version": 3
   },
   "file_extension": ".py",
   "mimetype": "text/x-python",
   "name": "python",
   "nbconvert_exporter": "python",
   "pygments_lexer": "ipython3",
   "version": "3.8.3"
  },
  "toc": {
   "base_numbering": 1,
   "nav_menu": {},
   "number_sections": false,
   "sideBar": true,
   "skip_h1_title": false,
   "title_cell": "Table of Contents",
   "title_sidebar": "Contents",
   "toc_cell": false,
   "toc_position": {},
   "toc_section_display": true,
   "toc_window_display": true
  }
 },
 "nbformat": 4,
 "nbformat_minor": 4
}
