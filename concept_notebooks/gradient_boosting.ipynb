{
 "cells": [
  {
   "cell_type": "code",
   "execution_count": 1,
   "metadata": {},
   "outputs": [],
   "source": [
    "import pandas as pd\n",
    "import numpy as np\n",
    "import scipy\n",
    "import matplotlib.pyplot as plt\n",
    "from sklearn import tree\n",
    "from IPython.display import Image\n",
    "import pydotplus\n",
    "import graphviz\n",
    "%matplotlib inline"
   ]
  },
  {
   "cell_type": "markdown",
   "metadata": {
    "run_control": {
     "frozen": false,
     "read_only": false
    }
   },
   "source": [
    "### Gradient boosting\n",
    "\n",
    "As you may recall, you last encountered gradients when you were learning about the gradient descent algorithm in the context of fitting linear regression models. You learned that for a particular regression model with $n$ parameters, an $n+1$ dimensional space exists, defined by all the parameters plus the loss function to minimize. The combination of parameters and the loss function define a surface within the space. The regression model is fitted by moving down the steepest \"downhill\" gradient until you reach the lowest point of the surface, where all possible gradients are \"uphill.\" The final model is made up of the parameter estimates that define that location on the surface.\n",
    "\n",
    "Throughout all iterations of the gradient descent algorithm for linear regression, one thing remains constant: the underlying data used to estimate the parameters and calculate the loss function never changes. But in gradient boosting, the underlying data does change. Explore this further below.\n",
    "\n",
    "Gradient boosting can work on any combination of loss function and model type, as long as you can calculate the derivatives of the loss function with respect to the model parameters. But most often, gradient boosting uses decision trees, and minimizes either the residual (regression trees) or the negative log-likelihood (classification trees). "
   ]
  },
  {
   "cell_type": "markdown",
   "metadata": {},
   "source": [
    "### Gradient boosting with regression trees\n",
    "\n",
    "The loss function to minimize is the sum of the squared residuals:\n",
    "\n",
    "$$\\frac1{n}\\sum_{i=1}^n(y_i-(\\alpha + \\beta x_i))^2$$\n",
    "\n",
    "(It can also be the sum of the absolute value of the residuals, as in lasso regression.)\n",
    "\n",
    "Each time that you run a decision tree, you extract the residuals. Then you run a new decision tree, using those residuals as the outcome to be predicted. After reaching a stopping point, you add together the predicted values from all of the decision trees to create the final gradient-boosted prediction.\n",
    "\n",
    "The decision trees that you use can be very simple. In the example below, the decision trees have a max depth of only `2`, which means that they can have a maximum of four leaves. These weak learners do not have to perform well at all individually in order to do well in aggregate. \n",
    "\n",
    "Here, you're going to do gradient boosting with regression trees by hand. The goal is to predict the variable `happy` using all the other variables in the *European Social Survey* dataset. You'll calculate a tree, store the predicted values, pull the residuals, and run a new tree on the residuals. This will repeat 101 times. At the end, you'll add together all the predicted values from each iteration to yield the final predictions."
   ]
  },
  {
   "cell_type": "code",
   "execution_count": 2,
   "metadata": {
    "scrolled": false
   },
   "outputs": [
    {
     "name": "stdout",
     "output_type": "stream",
     "text": [
      "Weak learner 0 R^2: -21.86595826514709\n",
      "Weak learner 20 R^2: -0.0026192923008196978\n",
      "Weak learner 40 R^2: -0.0016748172727341082\n",
      "Weak learner 60 R^2: -0.0014818633549413818\n",
      "Weak learner 80 R^2: -0.0012578370480087475\n",
      "Weak learner 100 R^2: -0.0007136861925911564\n"
     ]
    },
    {
     "data": {
      "image/png": "[encoded data removed]",
      "text/plain": [
       "<matplotlib.figure.Figure at 0x122985c18>"
      ]
     },
     "metadata": {},
     "output_type": "display_data"
    },
    {
     "name": "stdout",
     "output_type": "stream",
     "text": [
      "Overall R^2:\n",
      "0.5282873581794294\n"
     ]
    }
   ],
   "source": [
    "# Working with the European Social Survey data again\n",
    "df = pd.read_csv((\n",
    "    \"https://raw.githubusercontent.com/Thinkful-Ed/data-201-resources/\"\n",
    "    \"master/ESS_practice_data/ESSdata_Thinkful.csv\")).dropna()\n",
    "\n",
    "# Define outcome and predictors\n",
    "y = df['happy']\n",
    "X = df.loc[:, ~df.columns.isin(['happy', 'cntry'])]\n",
    "\n",
    "# Make the categorical variable `country` into dummies\n",
    "X = pd.concat([X, pd.get_dummies(df['cntry'])], axis=1)\n",
    "\n",
    "# Store values from loops\n",
    "preds = pd.DataFrame()\n",
    "labels = []\n",
    "\n",
    "uniquex = df['happy'].unique()\n",
    "\n",
    "# Iterate through decision trees, each time using the residuals\n",
    "# from the previous tree as the inputs\n",
    "for m in range(0, 101):\n",
    "    \n",
    "    # Initialize and fit the tree, and set the max depth to 2\n",
    "    decision_tree = tree.DecisionTreeRegressor(max_depth=2)\n",
    "    decision_tree.fit(X,y)\n",
    "    \n",
    "    # Get and store predicted values\n",
    "    pred = decision_tree.predict(X)\n",
    "    preds['pred{}'.format(m)] = pred\n",
    "    \n",
    "    # Residuals\n",
    "    y = y - pred\n",
    "\n",
    "    # Output every 20 iterations\n",
    "    if m % 20 == 0:\n",
    "        print('Weak learner {} R^2: {}'.format(m, decision_tree.score(X, y)))\n",
    "        labels = labels + [m]\n",
    "        bestpred = preds.sum(axis=1)\n",
    "        plt.plot(uniquex, np.poly1d(np.polyfit(df['happy'], bestpred, 1))(uniquex))\n",
    "       \n",
    "plt.legend(labels)\n",
    "plt.xlabel('Original')\n",
    "plt.ylabel('Predicted')\n",
    "plt.show()\n",
    "predicted = preds.sum(axis=1)\n",
    "\n",
    "print('Overall R^2:')\n",
    "print(np.corrcoef(df['happy'], predicted)[0, 1])"
   ]
  },
  {
   "cell_type": "markdown",
   "metadata": {},
   "source": [
    "Looking at the sampling of individual model $R^2$ values, these are certainly weak learners! They perform very badly indeed. Yet, in aggregate, the models are able to explain nearly 53% of the variance in happiness in the dataset. This is a great example of the power of gradient boosting. You may also note from the plot that the greatest gains happened in the earliest models, with subsequent steps yielding smaller gains in explanatory power.\n",
    "\n",
    "But maybe you could do just as well with one big decision tree, rather than a bunch of small ones. Try that next:"
   ]
  },
  {
   "cell_type": "code",
   "execution_count": null,
   "metadata": {},
   "outputs": [],
   "source": [
    "# One big tree. Each node split will include at least 2.5% of the total sample.\n",
    "decision_tree = tree.DecisionTreeRegressor(min_samples_split=.025)\n",
    "y = df['happy']\n",
    "decision_tree.fit(X,y)\n",
    "\n",
    "# Get and store predicted values\n",
    "pred = decision_tree.predict(X)\n",
    "print('One strongish learner R^2: {}'.format(decision_tree.score(X, y)))\n",
    "\n",
    "dot_data = tree.export_graphviz(decision_tree, out_file=None,\n",
    "                                feature_names=X.columns,  \n",
    "                                filled=True) \n",
    "graph = pydotplus.graph_from_dot_data(dot_data) \n",
    "Image(graph.create_png())  "
   ]
  },
  {
   "cell_type": "markdown",
   "metadata": {},
   "source": [
    "Well, that didn't work at all! Gradient boosting with weak learners was nearly twice as effective as one complex decision tree. In fact, in many instances, gradient-boosted decision trees perform better than random forests. They are also less prone to overfitting than individual decision trees."
   ]
  },
  {
   "cell_type": "markdown",
   "metadata": {
    "collapsed": true
   },
   "source": [
    "### Overfitting\n",
    "\n",
    "Still, it is easy to see that the more iterations you run, the more likely you are to overfit. Gradient boost comes with some methods to avoid overfitting. Cross-validation will check for overfitting, but there are also methods that can be applied before using the test set that will reduce the likelihood of overfitting.\n",
    "\n",
    "One option is subsampling, where each iteration of the boost algorithm uses a subsample of the original data. By introducing some randomness into the process, subsampling makes it harder to overfit.\n",
    "\n",
    "Another option is shrinkage, which you have encountered before in ridge regression. Here, the shrinkage (or regularization) parameter reduces the impact of subsequent iterations on the final solution. Visually, you can picture this parameter, called the *learning rate*, causing each \"step\" along the loss function gradient to be a little smaller than the previous one. This prevents any one iteration from being too influential and misdirecting the overall boost solution. Learning rates vary between `0` (only the initial iteration matters) and `1` (all iterations are weighted equally). A model made up of many small steps is less prone to overfitting than a model made up of a few large steps, but it can also lead to much slower running times, depending on the stopping rule in play.\n",
    "\n",
    "In the next assignment, you'll try gradient boosting using the scikit-learn package. This package comes with all sorts of helpful features for getting the most out of gradient boosting."
   ]
  }
 ],
 "metadata": {
  "hide_input": false,
  "kernelspec": {
   "display_name": "Python 3",
   "language": "python",
   "name": "python3"
  },
  "language_info": {
   "codemirror_mode": {
    "name": "ipython",
    "version": 3
   },
   "file_extension": ".py",
   "mimetype": "text/x-python",
   "name": "python",
   "nbconvert_exporter": "python",
   "pygments_lexer": "ipython3",
   "version": "3.8.6"
  },
  "toc": {
   "colors": {
    "hover_highlight": "#DAA520",
    "running_highlight": "#FF0000",
    "selected_highlight": "#FFD700"
   },
   "moveMenuLeft": true,
   "nav_menu": {
    "height": "78px",
    "width": "252px"
   },
   "navigate_menu": true,
   "number_sections": true,
   "sideBar": true,
   "threshold": 4,
   "toc_cell": false,
   "toc_section_display": "block",
   "toc_window_display": false
  }
 },
 "nbformat": 4,
 "nbformat_minor": 2
}
