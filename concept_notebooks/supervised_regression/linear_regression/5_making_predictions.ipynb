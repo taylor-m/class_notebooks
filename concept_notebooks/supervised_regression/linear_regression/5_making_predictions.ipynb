{
 "cells": [
  {
   "cell_type": "markdown",
   "metadata": {},
   "source": [
    "Linear regression models are relatively straightforward to interpret; you can derive useful insights by discovering the relationships in the data. But the story does not end there. Using past observations, you can create an estimated model to predict unknown observations. \n",
    "\n",
    "In this checkpoint, you'll learn about the following:\n",
    "\n",
    "* How to make predictions using estimated linear regression models\n",
    "* How to evaluate the predictive performance of regression models\n",
    "\n",
    "Throughout the checkpoint, you'll see how to make predictions by splitting your data into training and test sets. You'll estimate your models using only the training set. As a result, your models will not see the observations in the test set, and the information in the test observations will not be used in the estimation of the models. By holding out a portion of the data and testing on it, you can evaluate the results of your models as if they were performing on unseen real-world observations."
   ]
  },
  {
   "cell_type": "markdown",
   "metadata": {},
   "source": [
    "## Making predictions using linear regression models\n",
    "\n",
    "You'll start by exploring how to make predictions on the medical cost dataset from an insurance company. First, you need to load the dataset."
   ]
  },
  {
   "cell_type": "code",
   "execution_count": 102,
   "metadata": {},
   "outputs": [],
   "source": [
    "import matplotlib.pyplot as plt\n",
    "import numpy as np\n",
    "import pandas as pd\n",
    "from sklearn.linear_model import LinearRegression\n",
    "from sklearn.model_selection import train_test_split\n",
    "from sklearn.metrics import mean_absolute_error\n",
    "import statsmodels.api as sm\n",
    "from statsmodels.tools.eval_measures import mse, rmse\n",
    "from sqlalchemy import create_engine\n",
    "\n",
    "# Display preferences\n",
    "%matplotlib inline\n",
    "pd.options.display.float_format = '{:.3f}'.format\n",
    "\n",
    "import warnings\n",
    "warnings.filterwarnings(action=\"ignore\")"
   ]
  },
  {
   "cell_type": "code",
   "execution_count": 103,
   "metadata": {},
   "outputs": [],
   "source": [
    "postgres_user = 'dsbc_student'\n",
    "postgres_pw = '7*.8G9QH21'\n",
    "postgres_host = '142.93.121.174'\n",
    "postgres_port = '5432'\n",
    "postgres_db = 'medicalcosts'\n",
    "\n",
    "engine = create_engine('postgresql://{}:{}@{}:{}/{}'.format(\n",
    "    postgres_user, postgres_pw, postgres_host, postgres_port, postgres_db))\n",
    "\n",
    "insurance_df = pd.read_sql_query('select * from medicalcosts',con=engine)\n",
    "\n",
    "# No need for an open connection, because you're only doing a single query\n",
    "engine.dispose()"
   ]
  },
  {
   "cell_type": "markdown",
   "metadata": {},
   "source": [
    "You'll focus on several features in this dataset: age, sex, BMI, number of children, and whether the person is a smoker. With these features, you can use a linear regression model to predict the cost of a person's medical expenses. This could be very useful information for an insurance company; they could use this model to accurately predict a person's potential medical costs and then adjust their premiums accordingly."
   ]
  },
  {
   "cell_type": "code",
   "execution_count": 104,
   "metadata": {},
   "outputs": [
    {
     "data": {
      "text/html": [
       "<div>\n",
       "<style scoped>\n",
       "    .dataframe tbody tr th:only-of-type {\n",
       "        vertical-align: middle;\n",
       "    }\n",
       "\n",
       "    .dataframe tbody tr th {\n",
       "        vertical-align: top;\n",
       "    }\n",
       "\n",
       "    .dataframe thead th {\n",
       "        text-align: right;\n",
       "    }\n",
       "</style>\n",
       "<table border=\"1\" class=\"dataframe\">\n",
       "  <thead>\n",
       "    <tr style=\"text-align: right;\">\n",
       "      <th></th>\n",
       "      <th>age</th>\n",
       "      <th>sex</th>\n",
       "      <th>bmi</th>\n",
       "      <th>children</th>\n",
       "      <th>smoker</th>\n",
       "      <th>region</th>\n",
       "      <th>charges</th>\n",
       "    </tr>\n",
       "  </thead>\n",
       "  <tbody>\n",
       "    <tr>\n",
       "      <th>0</th>\n",
       "      <td>19</td>\n",
       "      <td>female</td>\n",
       "      <td>27.900</td>\n",
       "      <td>0</td>\n",
       "      <td>yes</td>\n",
       "      <td>southwest</td>\n",
       "      <td>16884.900</td>\n",
       "    </tr>\n",
       "    <tr>\n",
       "      <th>1</th>\n",
       "      <td>18</td>\n",
       "      <td>male</td>\n",
       "      <td>33.770</td>\n",
       "      <td>1</td>\n",
       "      <td>no</td>\n",
       "      <td>southeast</td>\n",
       "      <td>1725.550</td>\n",
       "    </tr>\n",
       "    <tr>\n",
       "      <th>2</th>\n",
       "      <td>28</td>\n",
       "      <td>male</td>\n",
       "      <td>33.000</td>\n",
       "      <td>3</td>\n",
       "      <td>no</td>\n",
       "      <td>southeast</td>\n",
       "      <td>4449.460</td>\n",
       "    </tr>\n",
       "    <tr>\n",
       "      <th>3</th>\n",
       "      <td>33</td>\n",
       "      <td>male</td>\n",
       "      <td>22.705</td>\n",
       "      <td>0</td>\n",
       "      <td>no</td>\n",
       "      <td>northwest</td>\n",
       "      <td>21984.500</td>\n",
       "    </tr>\n",
       "    <tr>\n",
       "      <th>4</th>\n",
       "      <td>32</td>\n",
       "      <td>male</td>\n",
       "      <td>28.880</td>\n",
       "      <td>0</td>\n",
       "      <td>no</td>\n",
       "      <td>northwest</td>\n",
       "      <td>3866.860</td>\n",
       "    </tr>\n",
       "    <tr>\n",
       "      <th>5</th>\n",
       "      <td>31</td>\n",
       "      <td>female</td>\n",
       "      <td>25.740</td>\n",
       "      <td>0</td>\n",
       "      <td>no</td>\n",
       "      <td>southeast</td>\n",
       "      <td>3756.620</td>\n",
       "    </tr>\n",
       "    <tr>\n",
       "      <th>6</th>\n",
       "      <td>46</td>\n",
       "      <td>female</td>\n",
       "      <td>33.440</td>\n",
       "      <td>1</td>\n",
       "      <td>no</td>\n",
       "      <td>southeast</td>\n",
       "      <td>8240.590</td>\n",
       "    </tr>\n",
       "    <tr>\n",
       "      <th>7</th>\n",
       "      <td>37</td>\n",
       "      <td>female</td>\n",
       "      <td>27.740</td>\n",
       "      <td>3</td>\n",
       "      <td>no</td>\n",
       "      <td>northwest</td>\n",
       "      <td>7281.510</td>\n",
       "    </tr>\n",
       "    <tr>\n",
       "      <th>8</th>\n",
       "      <td>37</td>\n",
       "      <td>male</td>\n",
       "      <td>29.830</td>\n",
       "      <td>2</td>\n",
       "      <td>no</td>\n",
       "      <td>northeast</td>\n",
       "      <td>6406.410</td>\n",
       "    </tr>\n",
       "    <tr>\n",
       "      <th>9</th>\n",
       "      <td>60</td>\n",
       "      <td>female</td>\n",
       "      <td>25.840</td>\n",
       "      <td>0</td>\n",
       "      <td>no</td>\n",
       "      <td>northwest</td>\n",
       "      <td>28923.100</td>\n",
       "    </tr>\n",
       "  </tbody>\n",
       "</table>\n",
       "</div>"
      ],
      "text/plain": [
       "   age     sex    bmi  children smoker     region   charges\n",
       "0   19  female 27.900         0    yes  southwest 16884.900\n",
       "1   18    male 33.770         1     no  southeast  1725.550\n",
       "2   28    male 33.000         3     no  southeast  4449.460\n",
       "3   33    male 22.705         0     no  northwest 21984.500\n",
       "4   32    male 28.880         0     no  northwest  3866.860\n",
       "5   31  female 25.740         0     no  southeast  3756.620\n",
       "6   46  female 33.440         1     no  southeast  8240.590\n",
       "7   37  female 27.740         3     no  northwest  7281.510\n",
       "8   37    male 29.830         2     no  northeast  6406.410\n",
       "9   60  female 25.840         0     no  northwest 28923.100"
      ]
     },
     "execution_count": 104,
     "metadata": {},
     "output_type": "execute_result"
    }
   ],
   "source": [
    "insurance_df.head(10)"
   ]
  },
  {
   "cell_type": "markdown",
   "metadata": {},
   "source": [
    "Computers love numbers but not text. So turn the `sex` and `smoker` columns into binary columns, but only keep the column that is `True`."
   ]
  },
  {
   "cell_type": "code",
   "execution_count": 105,
   "metadata": {},
   "outputs": [],
   "source": [
    "insurance_df[\"is_male\"] = pd.get_dummies(insurance_df.sex, drop_first=True)\n",
    "insurance_df[\"is_smoker\"] = pd.get_dummies(insurance_df.smoker, drop_first=True)"
   ]
  },
  {
   "cell_type": "code",
   "execution_count": 106,
   "metadata": {},
   "outputs": [],
   "source": [
    "# `Y` is the target variable (what you are trying to predict)\n",
    "Y = insurance_df['charges']\n",
    "\n",
    "# `X` is the feature set that you are using to predict the medical costs\n",
    "X = insurance_df[['is_male','is_smoker', 'age', 'bmi','children']]"
   ]
  },
  {
   "cell_type": "markdown",
   "metadata": {},
   "source": [
    "Now, split your data into training and test sets. You'll be using scikit-learn's `train_test_split()` method to do this. This method takes several inputs: the features, the target, the test size, and random state parameters. The `train_test_split()` method uses the `test_size` parameter to decide how much of the data will be split out as test data. Below, the `test_size` parameter is set to `0.2`, which means that you'll use 20% of the data as the test set."
   ]
  },
  {
   "cell_type": "code",
   "execution_count": 107,
   "metadata": {},
   "outputs": [
    {
     "name": "stdout",
     "output_type": "stream",
     "text": [
      "The number of observations in training set is 1070\n",
      "The number of observations in test set is 268\n"
     ]
    }
   ],
   "source": [
    "X_train, X_test, y_train, y_test = train_test_split(X, Y, test_size = 0.2, random_state = 465)\n",
    "\n",
    "print(\"The number of observations in training set is {}\".format(X_train.shape[0]))\n",
    "print(\"The number of observations in test set is {}\".format(X_test.shape[0]))"
   ]
  },
  {
   "cell_type": "markdown",
   "metadata": {},
   "source": [
    "Now, the features in the training and test sets are assigned to `X_train` and `X_test`, respectively. Similarly, the targets are assigned to `y_train` and `y_test`. Next, you'll use one of the previous models—but this time, you'll train it using only the training set.\n",
    "\n",
    "Later on, you'll predict on `X_test` and use different evaluation metrics to see how close the predictions are to `y_test`."
   ]
  },
  {
   "cell_type": "code",
   "execution_count": 108,
   "metadata": {},
   "outputs": [
    {
     "data": {
      "text/html": [
       "<div>\n",
       "<style scoped>\n",
       "    .dataframe tbody tr th:only-of-type {\n",
       "        vertical-align: middle;\n",
       "    }\n",
       "\n",
       "    .dataframe tbody tr th {\n",
       "        vertical-align: top;\n",
       "    }\n",
       "\n",
       "    .dataframe thead th {\n",
       "        text-align: right;\n",
       "    }\n",
       "</style>\n",
       "<table border=\"1\" class=\"dataframe\">\n",
       "  <thead>\n",
       "    <tr style=\"text-align: right;\">\n",
       "      <th></th>\n",
       "      <th>is_male</th>\n",
       "      <th>is_smoker</th>\n",
       "      <th>age</th>\n",
       "      <th>bmi</th>\n",
       "      <th>children</th>\n",
       "    </tr>\n",
       "  </thead>\n",
       "  <tbody>\n",
       "    <tr>\n",
       "      <th>172</th>\n",
       "      <td>1</td>\n",
       "      <td>0</td>\n",
       "      <td>18</td>\n",
       "      <td>15.960</td>\n",
       "      <td>0</td>\n",
       "    </tr>\n",
       "    <tr>\n",
       "      <th>814</th>\n",
       "      <td>1</td>\n",
       "      <td>0</td>\n",
       "      <td>36</td>\n",
       "      <td>34.430</td>\n",
       "      <td>2</td>\n",
       "    </tr>\n",
       "    <tr>\n",
       "      <th>553</th>\n",
       "      <td>0</td>\n",
       "      <td>0</td>\n",
       "      <td>52</td>\n",
       "      <td>31.730</td>\n",
       "      <td>2</td>\n",
       "    </tr>\n",
       "    <tr>\n",
       "      <th>1239</th>\n",
       "      <td>0</td>\n",
       "      <td>0</td>\n",
       "      <td>25</td>\n",
       "      <td>42.130</td>\n",
       "      <td>1</td>\n",
       "    </tr>\n",
       "    <tr>\n",
       "      <th>697</th>\n",
       "      <td>1</td>\n",
       "      <td>1</td>\n",
       "      <td>41</td>\n",
       "      <td>35.750</td>\n",
       "      <td>1</td>\n",
       "    </tr>\n",
       "  </tbody>\n",
       "</table>\n",
       "</div>"
      ],
      "text/plain": [
       "      is_male  is_smoker  age    bmi  children\n",
       "172         1          0   18 15.960         0\n",
       "814         1          0   36 34.430         2\n",
       "553         0          0   52 31.730         2\n",
       "1239        0          0   25 42.130         1\n",
       "697         1          1   41 35.750         1"
      ]
     },
     "execution_count": 108,
     "metadata": {},
     "output_type": "execute_result"
    }
   ],
   "source": [
    "X_train.head()"
   ]
  },
  {
   "cell_type": "markdown",
   "metadata": {},
   "source": [
    "Now, add a constant to the model, the \"baseline\" of the data in case all of your features' values are `0`."
   ]
  },
  {
   "cell_type": "code",
   "execution_count": 109,
   "metadata": {},
   "outputs": [],
   "source": [
    "X_train = sm.add_constant(X_train)"
   ]
  },
  {
   "cell_type": "markdown",
   "metadata": {},
   "source": [
    "Now, train the model!"
   ]
  },
  {
   "cell_type": "code",
   "execution_count": 110,
   "metadata": {
    "scrolled": true
   },
   "outputs": [
    {
     "name": "stdout",
     "output_type": "stream",
     "text": [
      "                            OLS Regression Results                            \n",
      "==============================================================================\n",
      "Dep. Variable:                charges   R-squared:                       0.747\n",
      "Model:                            OLS   Adj. R-squared:                  0.746\n",
      "Method:                 Least Squares   F-statistic:                     629.9\n",
      "Date:                Mon, 11 Nov 2019   Prob (F-statistic):          6.39e-315\n",
      "Time:                        18:03:00   Log-Likelihood:                -10848.\n",
      "No. Observations:                1070   AIC:                         2.171e+04\n",
      "Df Residuals:                    1064   BIC:                         2.174e+04\n",
      "Df Model:                           5                                         \n",
      "Covariance Type:            nonrobust                                         \n",
      "==============================================================================\n",
      "                 coef    std err          t      P>|t|      [0.025      0.975]\n",
      "------------------------------------------------------------------------------\n",
      "const      -1.206e+04   1080.784    -11.161      0.000   -1.42e+04   -9941.509\n",
      "is_male     -441.2898    376.955     -1.171      0.242   -1180.949     298.370\n",
      "is_smoker   2.381e+04    465.272     51.172      0.000    2.29e+04    2.47e+04\n",
      "age          253.4693     13.432     18.871      0.000     227.114     279.825\n",
      "bmi          333.2182     31.136     10.702      0.000     272.123     394.313\n",
      "children     498.5781    157.344      3.169      0.002     189.839     807.318\n",
      "==============================================================================\n",
      "Omnibus:                      255.026   Durbin-Watson:                   1.933\n",
      "Prob(Omnibus):                  0.000   Jarque-Bera (JB):              629.600\n",
      "Skew:                           1.259   Prob(JB):                    1.92e-137\n",
      "Kurtosis:                       5.789   Cond. No.                         296.\n",
      "==============================================================================\n",
      "\n",
      "Warnings:\n",
      "[1] Standard Errors assume that the covariance matrix of the errors is correctly specified.\n"
     ]
    }
   ],
   "source": [
    "# Fit an OLS model using statsmodels\n",
    "results = sm.OLS(y_train, X_train).fit()\n",
    "\n",
    "# Print the summary results\n",
    "print(results.summary())"
   ]
  },
  {
   "cell_type": "markdown",
   "metadata": {},
   "source": [
    "As you can see from the summary table, each feature is a coefficient. And each feature either increases or decreases the overall medical costs. The information given will be used as an equation for predictions."
   ]
  },
  {
   "cell_type": "markdown",
   "metadata": {},
   "source": [
    "It's time to get the predictions! In statsmodels, you make predictions by calling the `predict()` function as follows:"
   ]
  },
  {
   "cell_type": "code",
   "execution_count": 113,
   "metadata": {},
   "outputs": [
    {
     "data": {
      "image/png": "[encoded data removed]",
      "text/plain": [
       "<Figure size 432x288 with 1 Axes>"
      ]
     },
     "metadata": {
      "needs_background": "light"
     },
     "output_type": "display_data"
    },
    {
     "name": "stdout",
     "output_type": "stream",
     "text": [
      "Mean absolute error of the prediction is: 4158.061597698168\n",
      "Mean squared error of the prediction is: 33814649.379553616\n",
      "Root mean squared error of the prediction is: 5815.036489958908\n",
      "Mean absolute percentage error of the prediction is: 42.38515196906059\n"
     ]
    }
   ],
   "source": [
    "# Add a constant to the model because it's best practice\n",
    "# to do so every time!\n",
    "X_test = sm.add_constant(X_test)\n",
    "\n",
    "# You are making predictions here\n",
    "y_preds = results.predict(X_test)\n",
    "\n",
    "plt.scatter(y_test, y_preds)\n",
    "plt.plot(y_test, y_test, color=\"red\")\n",
    "plt.xlabel(\"true values\")\n",
    "plt.ylabel(\"predicted values\")\n",
    "plt.title(\"Charges: true and predicted values\")\n",
    "plt.show()\n",
    "\n",
    "print(\"Mean absolute error of the prediction is: {}\".format(mean_absolute_error(y_test, y_preds)))\n",
    "print(\"Mean squared error of the prediction is: {}\".format(mse(y_test, y_preds)))\n",
    "print(\"Root mean squared error of the prediction is: {}\".format(rmse(y_test, y_preds)))\n",
    "print(\"Mean absolute percentage error of the prediction is: {}\".format(np.mean(np.abs((y_test - y_preds) / y_test)) * 100))\n",
    "\n"
   ]
  },
  {
   "cell_type": "markdown",
   "metadata": {},
   "source": [
    "In the above graph, you can see that your model predicts the lower values of the target better than it predicts the higher values. By using visualizations like this, you can more intuitively understand the performance of the models. But you need to find more accurate ways of assessing your models. Above, there are some metrics that you can use to evaluate how good the predictions are. You'll explore those metrics next."
   ]
  },
  {
   "cell_type": "markdown",
   "metadata": {},
   "source": [
    "## Evaluation metrics\n",
    "\n",
    "When you were evaluating the training performance of a linear regression model, you used metrics like R-squared and adjusted R-squared. R-squared measures the ratio of variance in the target variable that is explained by the model. But when you are making predictions, you care more about how close your predictions are to the target rather than the variance in the target variable. This means that you'll usually use metrics other than R-squared to gauge how good your predictions are. Here, you'll learn about four of the most common ones.\n",
    "\n",
    "| Metric | Definition | Equation |\n",
    "| :-- | :-- | :-- |\n",
    "| Mean absolute error (MAE) | The average of the absolute values of the errors between the true values and the predicted values | $$ \\frac{1}{n} \\sum_{i=1}^{n}\\lvert y_i-\\hat{y}_i\\rvert $$|\n",
    "| Mean squared error (MSE) | The average of the squared errors between the true values and the predicted values | $$ \\frac{1}{n} \\sum_{i=1}^{n} (y_i-\\hat{y}_i)^2  $$ |\n",
    "| Root mean squared error (RMSE) | The square root of the MSE | $$ \\sqrt{\\frac{1}{n} \\sum_{i=1}^{n} (y_i-\\hat{y}_i)^2}  $$ |\n",
    "| Mean absolute percentage error (MAPE) | The average of the ratio of the absolute values of the errors to the true values | $$ \\frac{1}{n} \\sum_{i=1}^{n}\\frac{\\lvert y_i-\\hat{y}_i\\rvert}{y_i}  $$ |\n",
    "\n",
    "Although these are different metrics, they are essentially using the difference between what you know to be the correct medical cost for a person and the predicted medical cost from the model. These errors are then summed up for an overall error score.\n",
    "\n",
    "You can use any one of the above metrics. But there are some important points to note about them:\n",
    "\n",
    "* Lower values are desirable for all four metrics. The lower the value, the better the performance of the model.\n",
    "* MAE, MSE, and RMSE are in the unit of the target variable, but MAPE is unitless. So MAE, MSE, and RMSE are only useful if you compare different models that have the same target variable.\n",
    "* MSE and RMSE penalize large errors more than the MAE and MAPE do. This means that MSE and RMSE are more useful when high error values are undesirable.\n",
    "* For target values very close to zero, MAPE may provide a problematic picture of the performance because the ratio may go to very high values, and this may distort the average. It can also give divide-by-zero errors if some values of the target are zero.\n"
   ]
  },
  {
   "cell_type": "markdown",
   "metadata": {},
   "source": [
    "## Improving on the previous model\n",
    "\n",
    "To compare with the model above, use another model where the interaction of `BMI` and `is_smoker` is included."
   ]
  },
  {
   "cell_type": "code",
   "execution_count": 114,
   "metadata": {},
   "outputs": [
    {
     "name": "stdout",
     "output_type": "stream",
     "text": [
      "The number of observations in the training set is 1070\n",
      "The number of observations in the test set is 268\n",
      "                            OLS Regression Results                            \n",
      "==============================================================================\n",
      "Dep. Variable:                charges   R-squared:                       0.832\n",
      "Model:                            OLS   Adj. R-squared:                  0.831\n",
      "Method:                 Least Squares   F-statistic:                     1052.\n",
      "Date:                Mon, 11 Nov 2019   Prob (F-statistic):               0.00\n",
      "Time:                        18:03:56   Log-Likelihood:                -10631.\n",
      "No. Observations:                1070   AIC:                         2.127e+04\n",
      "Df Residuals:                    1064   BIC:                         2.130e+04\n",
      "Df Model:                           5                                         \n",
      "Covariance Type:            nonrobust                                         \n",
      "=================================================================================\n",
      "                    coef    std err          t      P>|t|      [0.025      0.975]\n",
      "---------------------------------------------------------------------------------\n",
      "const         -2239.3091    964.274     -2.322      0.020   -4131.403    -347.215\n",
      "is_male        -572.3843    307.661     -1.860      0.063   -1176.076      31.308\n",
      "is_smoker     -2.006e+04   1913.940    -10.480      0.000   -2.38e+04   -1.63e+04\n",
      "age             261.7441     10.961     23.879      0.000     240.236     283.253\n",
      "bmi              21.0913     28.734      0.734      0.463     -35.291      77.473\n",
      "bmi_is_smoker  1430.9163     61.151     23.400      0.000    1310.927    1550.906\n",
      "==============================================================================\n",
      "Omnibus:                      574.431   Durbin-Watson:                   2.048\n",
      "Prob(Omnibus):                  0.000   Jarque-Bera (JB):             3388.987\n",
      "Skew:                           2.512   Prob(JB):                         0.00\n",
      "Kurtosis:                      10.126   Cond. No.                         663.\n",
      "==============================================================================\n",
      "\n",
      "Warnings:\n",
      "[1] Standard Errors assume that the covariance matrix of the errors is correctly specified.\n"
     ]
    }
   ],
   "source": [
    "# `Y` is the target variable (what you are trying to predict)\n",
    "Y = insurance_df['charges']\n",
    "\n",
    "# This is the interaction between BMI and smoking\n",
    "insurance_df[\"bmi_is_smoker\"] = insurance_df.bmi * insurance_df.is_smoker\n",
    "\n",
    "# `X` is the feature set\n",
    "X = insurance_df[['is_male','is_smoker', 'age', 'bmi', \"bmi_is_smoker\"]]\n",
    "\n",
    "X_train, X_test, y_train, y_test = train_test_split(X, Y, test_size = 0.2, random_state = 465)\n",
    "\n",
    "print(\"The number of observations in the training set is {}\".format(X_train.shape[0]))\n",
    "print(\"The number of observations in the test set is {}\".format(X_test.shape[0]))\n",
    "\n",
    "# Add a constant to the model because it's best practice\n",
    "# to do so every time!\n",
    "X_train = sm.add_constant(X_train)\n",
    "\n",
    "# Fit an OLS model using statsmodels\n",
    "results = sm.OLS(y_train, X_train).fit()\n",
    "\n",
    "# Print the summary results\n",
    "print(results.summary())"
   ]
  },
  {
   "cell_type": "markdown",
   "metadata": {},
   "source": [
    "This second model's R-squared is `0.832`. That's higher than the previous model, where the R-squared was `0.745`. This means that the second model's goodness of fit is higher than the previous one. Now, make predictions using this model:"
   ]
  },
  {
   "cell_type": "code",
   "execution_count": 115,
   "metadata": {
    "scrolled": true
   },
   "outputs": [
    {
     "data": {
      "image/png": "[encoded data removed]",
      "text/plain": [
       "<Figure size 432x288 with 1 Axes>"
      ]
     },
     "metadata": {
      "needs_background": "light"
     },
     "output_type": "display_data"
    },
    {
     "name": "stdout",
     "output_type": "stream",
     "text": [
      "Mean absolute error of the prediction is: 2749.472286479182\n",
      "Mean squared error of the prediction is: 19957476.990352992\n",
      "Root mean squared error of the prediction is: 4467.379208255439\n",
      "Mean absolute percentage error of the prediction is: 29.237052069764253\n"
     ]
    }
   ],
   "source": [
    "# Add a constant to the model because it's best practice\n",
    "# to do so every time!\n",
    "X_test = sm.add_constant(X_test)\n",
    "\n",
    "# You are making predictions here\n",
    "y_preds = results.predict(X_test)\n",
    "\n",
    "plt.scatter(y_test, y_preds)\n",
    "plt.plot(y_test, y_test, color=\"red\")\n",
    "plt.xlabel(\"true values\")\n",
    "plt.ylabel(\"predicted values\")\n",
    "plt.title(\"Charges: true and predicted values\")\n",
    "plt.show()\n",
    "\n",
    "print(\"Mean absolute error of the prediction is: {}\".format(mean_absolute_error(y_test, y_preds)))\n",
    "print(\"Mean squared error of the prediction is: {}\".format(mse(y_test, y_preds)))\n",
    "print(\"Root mean squared error of the prediction is: {}\".format(rmse(y_test, y_preds)))\n",
    "print(\"Mean absolute percentage error of the prediction is: {}\".format(np.mean(np.abs((y_test - y_preds) / y_test)) * 100))"
   ]
  },
  {
   "cell_type": "markdown",
   "metadata": {},
   "source": [
    "The test set performance of the second model is better than the previous one with respect to all four of these metrics! Compared to the previous model, this second model seems to better predict high values of the target variable. It also seems that the second model better predicts low values because the points are more tightly clustered around the red line."
   ]
  },
  {
   "cell_type": "code",
   "execution_count": null,
   "metadata": {},
   "outputs": [],
   "source": []
  }
 ],
 "metadata": {
  "kernelspec": {
   "display_name": "Python 3",
   "language": "python",
   "name": "python3"
  },
  "language_info": {
   "codemirror_mode": {
    "name": "ipython",
    "version": 3
   },
   "file_extension": ".py",
   "mimetype": "text/x-python",
   "name": "python",
   "nbconvert_exporter": "python",
   "pygments_lexer": "ipython3",
   "version": "3.8.3"
  },
  "toc": {
   "base_numbering": 1,
   "nav_menu": {},
   "number_sections": false,
   "sideBar": true,
   "skip_h1_title": false,
   "title_cell": "Table of Contents",
   "title_sidebar": "Contents",
   "toc_cell": false,
   "toc_position": {},
   "toc_section_display": true,
   "toc_window_display": true
  }
 },
 "nbformat": 4,
 "nbformat_minor": 2
}
