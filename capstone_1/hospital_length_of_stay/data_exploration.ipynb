{
 "cells": [
  {
   "cell_type": "code",
   "execution_count": 76,
   "metadata": {
    "init_cell": true
   },
   "outputs": [
    {
     "data": {
      "application/javascript": [
       "\n",
       "            setTimeout(function() {\n",
       "                var nbb_cell_id = 76;\n",
       "                var nbb_unformatted_code = \"%reload_ext nb_black\\nfrom matplotlib import pyplot as plt\\nimport plotly\\nimport seaborn as sns\\nfrom statsmodels.graphics.gofplots import qqplot\\n\\n%matplotlib inline\\nimport pandas as pd\\nimport numpy as np\\nfrom scipy import stats\";\n",
       "                var nbb_formatted_code = \"%reload_ext nb_black\\nfrom matplotlib import pyplot as plt\\nimport plotly\\nimport seaborn as sns\\nfrom statsmodels.graphics.gofplots import qqplot\\n\\n%matplotlib inline\\nimport pandas as pd\\nimport numpy as np\\nfrom scipy import stats\";\n",
       "                var nbb_cells = Jupyter.notebook.get_cells();\n",
       "                for (var i = 0; i < nbb_cells.length; ++i) {\n",
       "                    if (nbb_cells[i].input_prompt_number == nbb_cell_id) {\n",
       "                        if (nbb_cells[i].get_text() == nbb_unformatted_code) {\n",
       "                             nbb_cells[i].set_text(nbb_formatted_code);\n",
       "                        }\n",
       "                        break;\n",
       "                    }\n",
       "                }\n",
       "            }, 500);\n",
       "            "
      ],
      "text/plain": [
       "<IPython.core.display.Javascript object>"
      ]
     },
     "metadata": {},
     "output_type": "display_data"
    },
    {
     "data": {
      "application/javascript": [
       "\n",
       "            setTimeout(function() {\n",
       "                var nbb_cell_id = 76;\n",
       "                var nbb_unformatted_code = \"%reload_ext nb_black\\nfrom matplotlib import pyplot as plt\\nimport plotly\\nimport seaborn as sns\\nfrom statsmodels.graphics.gofplots import qqplot\\n\\n%matplotlib inline\\nimport pandas as pd\\nimport numpy as np\\nfrom scipy import stats\";\n",
       "                var nbb_formatted_code = \"%reload_ext nb_black\\nfrom matplotlib import pyplot as plt\\nimport plotly\\nimport seaborn as sns\\nfrom statsmodels.graphics.gofplots import qqplot\\n\\n%matplotlib inline\\nimport pandas as pd\\nimport numpy as np\\nfrom scipy import stats\";\n",
       "                var nbb_cells = Jupyter.notebook.get_cells();\n",
       "                for (var i = 0; i < nbb_cells.length; ++i) {\n",
       "                    if (nbb_cells[i].input_prompt_number == nbb_cell_id) {\n",
       "                        if (nbb_cells[i].get_text() == nbb_unformatted_code) {\n",
       "                             nbb_cells[i].set_text(nbb_formatted_code);\n",
       "                        }\n",
       "                        break;\n",
       "                    }\n",
       "                }\n",
       "            }, 500);\n",
       "            "
      ],
      "text/plain": [
       "<IPython.core.display.Javascript object>"
      ]
     },
     "metadata": {},
     "output_type": "display_data"
    }
   ],
   "source": [
    "%reload_ext nb_black\n",
    "from matplotlib import pyplot as plt\n",
    "import plotly\n",
    "import seaborn as sns\n",
    "from statsmodels.graphics.gofplots import qqplot\n",
    "\n",
    "%matplotlib inline\n",
    "import pandas as pd\n",
    "import numpy as np\n",
    "from scipy import stats"
   ]
  },
  {
   "cell_type": "code",
   "execution_count": 2,
   "metadata": {
    "init_cell": true
   },
   "outputs": [
    {
     "data": {
      "application/javascript": [
       "\n",
       "            setTimeout(function() {\n",
       "                var nbb_cell_id = 2;\n",
       "                var nbb_unformatted_code = \"# import dataset and dictionary for the data\\ndf = pd.read_csv(\\\"data/train_data.csv\\\")\\ndf_dict = pd.read_csv(\\\"data/train_data_dictionary.csv\\\")\";\n",
       "                var nbb_formatted_code = \"# import dataset and dictionary for the data\\ndf = pd.read_csv(\\\"data/train_data.csv\\\")\\ndf_dict = pd.read_csv(\\\"data/train_data_dictionary.csv\\\")\";\n",
       "                var nbb_cells = Jupyter.notebook.get_cells();\n",
       "                for (var i = 0; i < nbb_cells.length; ++i) {\n",
       "                    if (nbb_cells[i].input_prompt_number == nbb_cell_id) {\n",
       "                        if (nbb_cells[i].get_text() == nbb_unformatted_code) {\n",
       "                             nbb_cells[i].set_text(nbb_formatted_code);\n",
       "                        }\n",
       "                        break;\n",
       "                    }\n",
       "                }\n",
       "            }, 500);\n",
       "            "
      ],
      "text/plain": [
       "<IPython.core.display.Javascript object>"
      ]
     },
     "metadata": {},
     "output_type": "display_data"
    }
   ],
   "source": [
    "# import dataset and dictionary for the data\n",
    "df = pd.read_csv(\"data/train_data.csv\")\n",
    "df_dict = pd.read_csv(\"data/train_data_dictionary.csv\")"
   ]
  },
  {
   "cell_type": "markdown",
   "metadata": {
    "heading_collapsed": true
   },
   "source": [
    "# Variable set 1"
   ]
  },
  {
   "cell_type": "markdown",
   "metadata": {
    "hidden": true
   },
   "source": [
    "*The first set of test variables are consistent across regions\n",
    "*further analysis could be done for performance  across different regions on similar patient types "
   ]
  },
  {
   "cell_type": "markdown",
   "metadata": {
    "hidden": true
   },
   "source": [
    "**Test variables:**\n",
    "- Age\n",
    "- Type of Admission\n",
    "- severity of Illness\n",
    "- Admission_Deposit\n",
    "- Bed Grade\n",
    "- Hospital type code"
   ]
  },
  {
   "cell_type": "code",
   "execution_count": 3,
   "metadata": {
    "hidden": true
   },
   "outputs": [
    {
     "data": {
      "application/javascript": [
       "\n",
       "            setTimeout(function() {\n",
       "                var nbb_cell_id = 3;\n",
       "                var nbb_unformatted_code = \"df = df[\\n    [\\n        \\\"case_id\\\",\\n        \\\"Bed Grade\\\",\\n        \\\"patientid\\\",\\n        \\\"Type of Admission\\\",\\n        \\\"Severity of Illness\\\",\\n        \\\"Visitors with Patient\\\",\\n        \\\"Age\\\",\\n        \\\"Admission_Deposit\\\",\\n        \\\"Stay\\\",\\n    ]\\n]\";\n",
       "                var nbb_formatted_code = \"df = df[\\n    [\\n        \\\"case_id\\\",\\n        \\\"Bed Grade\\\",\\n        \\\"patientid\\\",\\n        \\\"Type of Admission\\\",\\n        \\\"Severity of Illness\\\",\\n        \\\"Visitors with Patient\\\",\\n        \\\"Age\\\",\\n        \\\"Admission_Deposit\\\",\\n        \\\"Stay\\\",\\n    ]\\n]\";\n",
       "                var nbb_cells = Jupyter.notebook.get_cells();\n",
       "                for (var i = 0; i < nbb_cells.length; ++i) {\n",
       "                    if (nbb_cells[i].input_prompt_number == nbb_cell_id) {\n",
       "                        if (nbb_cells[i].get_text() == nbb_unformatted_code) {\n",
       "                             nbb_cells[i].set_text(nbb_formatted_code);\n",
       "                        }\n",
       "                        break;\n",
       "                    }\n",
       "                }\n",
       "            }, 500);\n",
       "            "
      ],
      "text/plain": [
       "<IPython.core.display.Javascript object>"
      ]
     },
     "metadata": {},
     "output_type": "display_data"
    }
   ],
   "source": [
    "df = df[\n",
    "    [\n",
    "        \"case_id\",\n",
    "        \"Bed Grade\",\n",
    "        \"patientid\",\n",
    "        \"Type of Admission\",\n",
    "        \"Severity of Illness\",\n",
    "        \"Visitors with Patient\",\n",
    "        \"Age\",\n",
    "        \"Admission_Deposit\",\n",
    "        \"Stay\",\n",
    "    ]\n",
    "]"
   ]
  },
  {
   "cell_type": "code",
   "execution_count": 4,
   "metadata": {
    "hidden": true
   },
   "outputs": [
    {
     "data": {
      "application/javascript": [
       "\n",
       "            setTimeout(function() {\n",
       "                var nbb_cell_id = 4;\n",
       "                var nbb_unformatted_code = \"# set index to case_id\\ndf.set_index(\\\"case_id\\\", inplace=True)\";\n",
       "                var nbb_formatted_code = \"# set index to case_id\\ndf.set_index(\\\"case_id\\\", inplace=True)\";\n",
       "                var nbb_cells = Jupyter.notebook.get_cells();\n",
       "                for (var i = 0; i < nbb_cells.length; ++i) {\n",
       "                    if (nbb_cells[i].input_prompt_number == nbb_cell_id) {\n",
       "                        if (nbb_cells[i].get_text() == nbb_unformatted_code) {\n",
       "                             nbb_cells[i].set_text(nbb_formatted_code);\n",
       "                        }\n",
       "                        break;\n",
       "                    }\n",
       "                }\n",
       "            }, 500);\n",
       "            "
      ],
      "text/plain": [
       "<IPython.core.display.Javascript object>"
      ]
     },
     "metadata": {},
     "output_type": "display_data"
    }
   ],
   "source": [
    "# set index to case_id\n",
    "df.set_index(\"case_id\", inplace=True)"
   ]
  },
  {
   "cell_type": "code",
   "execution_count": 5,
   "metadata": {
    "hidden": true
   },
   "outputs": [
    {
     "data": {
      "application/javascript": [
       "\n",
       "            setTimeout(function() {\n",
       "                var nbb_cell_id = 5;\n",
       "                var nbb_unformatted_code = \"# rename columns so they're easier to work with\\ndf.rename(\\n    columns={\\n        \\\"Bed Grade\\\": \\\"bed_grade\\\",\\n        \\\"Type of Admission\\\": \\\"admission_type\\\",\\n        \\\"Severity of Illness\\\": \\\"severity\\\",\\n        \\\"Visitors with Patient\\\": \\\"visitors\\\",\\n        \\\"Age\\\": \\\"age\\\",\\n        \\\"Admission_Deposit\\\": \\\"deposit\\\",\\n        \\\"Stay\\\": \\\"stay\\\",\\n    },\\n    inplace=True,\\n)\";\n",
       "                var nbb_formatted_code = \"# rename columns so they're easier to work with\\ndf.rename(\\n    columns={\\n        \\\"Bed Grade\\\": \\\"bed_grade\\\",\\n        \\\"Type of Admission\\\": \\\"admission_type\\\",\\n        \\\"Severity of Illness\\\": \\\"severity\\\",\\n        \\\"Visitors with Patient\\\": \\\"visitors\\\",\\n        \\\"Age\\\": \\\"age\\\",\\n        \\\"Admission_Deposit\\\": \\\"deposit\\\",\\n        \\\"Stay\\\": \\\"stay\\\",\\n    },\\n    inplace=True,\\n)\";\n",
       "                var nbb_cells = Jupyter.notebook.get_cells();\n",
       "                for (var i = 0; i < nbb_cells.length; ++i) {\n",
       "                    if (nbb_cells[i].input_prompt_number == nbb_cell_id) {\n",
       "                        if (nbb_cells[i].get_text() == nbb_unformatted_code) {\n",
       "                             nbb_cells[i].set_text(nbb_formatted_code);\n",
       "                        }\n",
       "                        break;\n",
       "                    }\n",
       "                }\n",
       "            }, 500);\n",
       "            "
      ],
      "text/plain": [
       "<IPython.core.display.Javascript object>"
      ]
     },
     "metadata": {},
     "output_type": "display_data"
    }
   ],
   "source": [
    "# rename columns so they're easier to work with\n",
    "df.rename(\n",
    "    columns={\n",
    "        \"Bed Grade\": \"bed_grade\",\n",
    "        \"Type of Admission\": \"admission_type\",\n",
    "        \"Severity of Illness\": \"severity\",\n",
    "        \"Visitors with Patient\": \"visitors\",\n",
    "        \"Age\": \"age\",\n",
    "        \"Admission_Deposit\": \"deposit\",\n",
    "        \"Stay\": \"stay\",\n",
    "    },\n",
    "    inplace=True,\n",
    ")"
   ]
  },
  {
   "cell_type": "code",
   "execution_count": 6,
   "metadata": {
    "hidden": true
   },
   "outputs": [
    {
     "data": {
      "text/html": [
       "<div>\n",
       "<style scoped>\n",
       "    .dataframe tbody tr th:only-of-type {\n",
       "        vertical-align: middle;\n",
       "    }\n",
       "\n",
       "    .dataframe tbody tr th {\n",
       "        vertical-align: top;\n",
       "    }\n",
       "\n",
       "    .dataframe thead th {\n",
       "        text-align: right;\n",
       "    }\n",
       "</style>\n",
       "<table border=\"1\" class=\"dataframe\">\n",
       "  <thead>\n",
       "    <tr style=\"text-align: right;\">\n",
       "      <th></th>\n",
       "      <th>bed_grade</th>\n",
       "      <th>patientid</th>\n",
       "      <th>admission_type</th>\n",
       "      <th>severity</th>\n",
       "      <th>visitors</th>\n",
       "      <th>age</th>\n",
       "      <th>deposit</th>\n",
       "      <th>stay</th>\n",
       "    </tr>\n",
       "    <tr>\n",
       "      <th>case_id</th>\n",
       "      <th></th>\n",
       "      <th></th>\n",
       "      <th></th>\n",
       "      <th></th>\n",
       "      <th></th>\n",
       "      <th></th>\n",
       "      <th></th>\n",
       "      <th></th>\n",
       "    </tr>\n",
       "  </thead>\n",
       "  <tbody>\n",
       "    <tr>\n",
       "      <th>1</th>\n",
       "      <td>2.0</td>\n",
       "      <td>31397</td>\n",
       "      <td>Emergency</td>\n",
       "      <td>Extreme</td>\n",
       "      <td>2</td>\n",
       "      <td>51-60</td>\n",
       "      <td>4911.0</td>\n",
       "      <td>0-10</td>\n",
       "    </tr>\n",
       "    <tr>\n",
       "      <th>2</th>\n",
       "      <td>2.0</td>\n",
       "      <td>31397</td>\n",
       "      <td>Trauma</td>\n",
       "      <td>Extreme</td>\n",
       "      <td>2</td>\n",
       "      <td>51-60</td>\n",
       "      <td>5954.0</td>\n",
       "      <td>41-50</td>\n",
       "    </tr>\n",
       "    <tr>\n",
       "      <th>3</th>\n",
       "      <td>2.0</td>\n",
       "      <td>31397</td>\n",
       "      <td>Trauma</td>\n",
       "      <td>Extreme</td>\n",
       "      <td>2</td>\n",
       "      <td>51-60</td>\n",
       "      <td>4745.0</td>\n",
       "      <td>31-40</td>\n",
       "    </tr>\n",
       "    <tr>\n",
       "      <th>4</th>\n",
       "      <td>2.0</td>\n",
       "      <td>31397</td>\n",
       "      <td>Trauma</td>\n",
       "      <td>Extreme</td>\n",
       "      <td>2</td>\n",
       "      <td>51-60</td>\n",
       "      <td>7272.0</td>\n",
       "      <td>41-50</td>\n",
       "    </tr>\n",
       "    <tr>\n",
       "      <th>5</th>\n",
       "      <td>2.0</td>\n",
       "      <td>31397</td>\n",
       "      <td>Trauma</td>\n",
       "      <td>Extreme</td>\n",
       "      <td>2</td>\n",
       "      <td>51-60</td>\n",
       "      <td>5558.0</td>\n",
       "      <td>41-50</td>\n",
       "    </tr>\n",
       "  </tbody>\n",
       "</table>\n",
       "</div>"
      ],
      "text/plain": [
       "         bed_grade  patientid admission_type severity  visitors    age  \\\n",
       "case_id                                                                  \n",
       "1              2.0      31397      Emergency  Extreme         2  51-60   \n",
       "2              2.0      31397         Trauma  Extreme         2  51-60   \n",
       "3              2.0      31397         Trauma  Extreme         2  51-60   \n",
       "4              2.0      31397         Trauma  Extreme         2  51-60   \n",
       "5              2.0      31397         Trauma  Extreme         2  51-60   \n",
       "\n",
       "         deposit   stay  \n",
       "case_id                  \n",
       "1         4911.0   0-10  \n",
       "2         5954.0  41-50  \n",
       "3         4745.0  31-40  \n",
       "4         7272.0  41-50  \n",
       "5         5558.0  41-50  "
      ]
     },
     "execution_count": 6,
     "metadata": {},
     "output_type": "execute_result"
    },
    {
     "data": {
      "application/javascript": [
       "\n",
       "            setTimeout(function() {\n",
       "                var nbb_cell_id = 6;\n",
       "                var nbb_unformatted_code = \"df.head()\";\n",
       "                var nbb_formatted_code = \"df.head()\";\n",
       "                var nbb_cells = Jupyter.notebook.get_cells();\n",
       "                for (var i = 0; i < nbb_cells.length; ++i) {\n",
       "                    if (nbb_cells[i].input_prompt_number == nbb_cell_id) {\n",
       "                        if (nbb_cells[i].get_text() == nbb_unformatted_code) {\n",
       "                             nbb_cells[i].set_text(nbb_formatted_code);\n",
       "                        }\n",
       "                        break;\n",
       "                    }\n",
       "                }\n",
       "            }, 500);\n",
       "            "
      ],
      "text/plain": [
       "<IPython.core.display.Javascript object>"
      ]
     },
     "metadata": {},
     "output_type": "display_data"
    }
   ],
   "source": [
    "df.head()"
   ]
  },
  {
   "cell_type": "code",
   "execution_count": 7,
   "metadata": {
    "hidden": true
   },
   "outputs": [
    {
     "name": "stdout",
     "output_type": "stream",
     "text": [
      "<class 'pandas.core.frame.DataFrame'>\n",
      "Int64Index: 318438 entries, 1 to 318438\n",
      "Data columns (total 8 columns):\n",
      " #   Column          Non-Null Count   Dtype  \n",
      "---  ------          --------------   -----  \n",
      " 0   bed_grade       318325 non-null  float64\n",
      " 1   patientid       318438 non-null  int64  \n",
      " 2   admission_type  318438 non-null  object \n",
      " 3   severity        318438 non-null  object \n",
      " 4   visitors        318438 non-null  int64  \n",
      " 5   age             318438 non-null  object \n",
      " 6   deposit         318438 non-null  float64\n",
      " 7   stay            318438 non-null  object \n",
      "dtypes: float64(2), int64(2), object(4)\n",
      "memory usage: 21.9+ MB\n"
     ]
    },
    {
     "data": {
      "application/javascript": [
       "\n",
       "            setTimeout(function() {\n",
       "                var nbb_cell_id = 7;\n",
       "                var nbb_unformatted_code = \"df.info()\";\n",
       "                var nbb_formatted_code = \"df.info()\";\n",
       "                var nbb_cells = Jupyter.notebook.get_cells();\n",
       "                for (var i = 0; i < nbb_cells.length; ++i) {\n",
       "                    if (nbb_cells[i].input_prompt_number == nbb_cell_id) {\n",
       "                        if (nbb_cells[i].get_text() == nbb_unformatted_code) {\n",
       "                             nbb_cells[i].set_text(nbb_formatted_code);\n",
       "                        }\n",
       "                        break;\n",
       "                    }\n",
       "                }\n",
       "            }, 500);\n",
       "            "
      ],
      "text/plain": [
       "<IPython.core.display.Javascript object>"
      ]
     },
     "metadata": {},
     "output_type": "display_data"
    }
   ],
   "source": [
    "df.info()"
   ]
  },
  {
   "cell_type": "code",
   "execution_count": 8,
   "metadata": {
    "hidden": true
   },
   "outputs": [
    {
     "data": {
      "text/plain": [
       "92017"
      ]
     },
     "execution_count": 8,
     "metadata": {},
     "output_type": "execute_result"
    },
    {
     "data": {
      "application/javascript": [
       "\n",
       "            setTimeout(function() {\n",
       "                var nbb_cell_id = 8;\n",
       "                var nbb_unformatted_code = \"# there are only 92,017 unique patient ids listed\\ndf.patientid.nunique()\";\n",
       "                var nbb_formatted_code = \"# there are only 92,017 unique patient ids listed\\ndf.patientid.nunique()\";\n",
       "                var nbb_cells = Jupyter.notebook.get_cells();\n",
       "                for (var i = 0; i < nbb_cells.length; ++i) {\n",
       "                    if (nbb_cells[i].input_prompt_number == nbb_cell_id) {\n",
       "                        if (nbb_cells[i].get_text() == nbb_unformatted_code) {\n",
       "                             nbb_cells[i].set_text(nbb_formatted_code);\n",
       "                        }\n",
       "                        break;\n",
       "                    }\n",
       "                }\n",
       "            }, 500);\n",
       "            "
      ],
      "text/plain": [
       "<IPython.core.display.Javascript object>"
      ]
     },
     "metadata": {},
     "output_type": "display_data"
    }
   ],
   "source": [
    "# there are only 92,017 unique patient ids listed\n",
    "df.patientid.nunique()"
   ]
  },
  {
   "cell_type": "markdown",
   "metadata": {
    "hidden": true
   },
   "source": [
    "- Stay field is an object variable and would need to be converted to a number variable for testing as the independent variable amongst the other test variables"
   ]
  },
  {
   "cell_type": "code",
   "execution_count": 9,
   "metadata": {
    "hidden": true
   },
   "outputs": [
    {
     "data": {
      "text/plain": [
       "array(['0-10', '41-50', '31-40', '11-20', '51-60', '21-30', '71-80',\n",
       "       'More than 100 Days', '81-90', '61-70', '91-100'], dtype=object)"
      ]
     },
     "execution_count": 9,
     "metadata": {},
     "output_type": "execute_result"
    },
    {
     "data": {
      "application/javascript": [
       "\n",
       "            setTimeout(function() {\n",
       "                var nbb_cell_id = 9;\n",
       "                var nbb_unformatted_code = \"# more than 100 days needs to be changed to a different value to be converted to numeric\\ndf.stay.unique()\";\n",
       "                var nbb_formatted_code = \"# more than 100 days needs to be changed to a different value to be converted to numeric\\ndf.stay.unique()\";\n",
       "                var nbb_cells = Jupyter.notebook.get_cells();\n",
       "                for (var i = 0; i < nbb_cells.length; ++i) {\n",
       "                    if (nbb_cells[i].input_prompt_number == nbb_cell_id) {\n",
       "                        if (nbb_cells[i].get_text() == nbb_unformatted_code) {\n",
       "                             nbb_cells[i].set_text(nbb_formatted_code);\n",
       "                        }\n",
       "                        break;\n",
       "                    }\n",
       "                }\n",
       "            }, 500);\n",
       "            "
      ],
      "text/plain": [
       "<IPython.core.display.Javascript object>"
      ]
     },
     "metadata": {},
     "output_type": "display_data"
    }
   ],
   "source": [
    "# more than 100 days needs to be changed to a different value to be converted to numeric\n",
    "df.stay.unique()"
   ]
  },
  {
   "cell_type": "code",
   "execution_count": 10,
   "metadata": {
    "hidden": true,
    "scrolled": true
   },
   "outputs": [
    {
     "name": "stderr",
     "output_type": "stream",
     "text": [
      "C:\\Users\\tayma\\anaconda3\\lib\\site-packages\\pandas\\core\\indexing.py:671: SettingWithCopyWarning: \n",
      "A value is trying to be set on a copy of a slice from a DataFrame\n",
      "\n",
      "See the caveats in the documentation: https://pandas.pydata.org/pandas-docs/stable/user_guide/indexing.html#returning-a-view-versus-a-copy\n",
      "  self._setitem_with_indexer(indexer, value)\n"
     ]
    },
    {
     "data": {
      "application/javascript": [
       "\n",
       "            setTimeout(function() {\n",
       "                var nbb_cell_id = 10;\n",
       "                var nbb_unformatted_code = \"# set all stay values of \\\"More than 100 Days\\\" to 100 numeric\\nover_100 = df.stay == \\\"More than 100 Days\\\"\\ndf.stay.iloc[over_100.values] = 100\\n\\n# df[df.stay == 100]\";\n",
       "                var nbb_formatted_code = \"# set all stay values of \\\"More than 100 Days\\\" to 100 numeric\\nover_100 = df.stay == \\\"More than 100 Days\\\"\\ndf.stay.iloc[over_100.values] = 100\\n\\n# df[df.stay == 100]\";\n",
       "                var nbb_cells = Jupyter.notebook.get_cells();\n",
       "                for (var i = 0; i < nbb_cells.length; ++i) {\n",
       "                    if (nbb_cells[i].input_prompt_number == nbb_cell_id) {\n",
       "                        if (nbb_cells[i].get_text() == nbb_unformatted_code) {\n",
       "                             nbb_cells[i].set_text(nbb_formatted_code);\n",
       "                        }\n",
       "                        break;\n",
       "                    }\n",
       "                }\n",
       "            }, 500);\n",
       "            "
      ],
      "text/plain": [
       "<IPython.core.display.Javascript object>"
      ]
     },
     "metadata": {},
     "output_type": "display_data"
    }
   ],
   "source": [
    "# set all stay values of \"More than 100 Days\" to 100 numeric\n",
    "over_100 = df.stay == \"More than 100 Days\"\n",
    "df.stay.iloc[over_100.values] = 100\n",
    "\n",
    "# df[df.stay == 100]"
   ]
  },
  {
   "cell_type": "code",
   "execution_count": 11,
   "metadata": {
    "hidden": true,
    "scrolled": true
   },
   "outputs": [
    {
     "data": {
      "text/html": [
       "<div>\n",
       "<style scoped>\n",
       "    .dataframe tbody tr th:only-of-type {\n",
       "        vertical-align: middle;\n",
       "    }\n",
       "\n",
       "    .dataframe tbody tr th {\n",
       "        vertical-align: top;\n",
       "    }\n",
       "\n",
       "    .dataframe thead th {\n",
       "        text-align: right;\n",
       "    }\n",
       "</style>\n",
       "<table border=\"1\" class=\"dataframe\">\n",
       "  <thead>\n",
       "    <tr style=\"text-align: right;\">\n",
       "      <th></th>\n",
       "      <th>bed_grade</th>\n",
       "      <th>patientid</th>\n",
       "      <th>admission_type</th>\n",
       "      <th>severity</th>\n",
       "      <th>visitors</th>\n",
       "      <th>age</th>\n",
       "      <th>deposit</th>\n",
       "      <th>stay</th>\n",
       "    </tr>\n",
       "    <tr>\n",
       "      <th>case_id</th>\n",
       "      <th></th>\n",
       "      <th></th>\n",
       "      <th></th>\n",
       "      <th></th>\n",
       "      <th></th>\n",
       "      <th></th>\n",
       "      <th></th>\n",
       "      <th></th>\n",
       "    </tr>\n",
       "  </thead>\n",
       "  <tbody>\n",
       "    <tr>\n",
       "      <th>1</th>\n",
       "      <td>2.0</td>\n",
       "      <td>31397</td>\n",
       "      <td>Emergency</td>\n",
       "      <td>Extreme</td>\n",
       "      <td>2</td>\n",
       "      <td>51-60</td>\n",
       "      <td>4911.0</td>\n",
       "      <td>5.0</td>\n",
       "    </tr>\n",
       "    <tr>\n",
       "      <th>2</th>\n",
       "      <td>2.0</td>\n",
       "      <td>31397</td>\n",
       "      <td>Trauma</td>\n",
       "      <td>Extreme</td>\n",
       "      <td>2</td>\n",
       "      <td>51-60</td>\n",
       "      <td>5954.0</td>\n",
       "      <td>45.0</td>\n",
       "    </tr>\n",
       "    <tr>\n",
       "      <th>3</th>\n",
       "      <td>2.0</td>\n",
       "      <td>31397</td>\n",
       "      <td>Trauma</td>\n",
       "      <td>Extreme</td>\n",
       "      <td>2</td>\n",
       "      <td>51-60</td>\n",
       "      <td>4745.0</td>\n",
       "      <td>35.0</td>\n",
       "    </tr>\n",
       "    <tr>\n",
       "      <th>4</th>\n",
       "      <td>2.0</td>\n",
       "      <td>31397</td>\n",
       "      <td>Trauma</td>\n",
       "      <td>Extreme</td>\n",
       "      <td>2</td>\n",
       "      <td>51-60</td>\n",
       "      <td>7272.0</td>\n",
       "      <td>45.0</td>\n",
       "    </tr>\n",
       "    <tr>\n",
       "      <th>5</th>\n",
       "      <td>2.0</td>\n",
       "      <td>31397</td>\n",
       "      <td>Trauma</td>\n",
       "      <td>Extreme</td>\n",
       "      <td>2</td>\n",
       "      <td>51-60</td>\n",
       "      <td>5558.0</td>\n",
       "      <td>45.0</td>\n",
       "    </tr>\n",
       "  </tbody>\n",
       "</table>\n",
       "</div>"
      ],
      "text/plain": [
       "         bed_grade  patientid admission_type severity  visitors    age  \\\n",
       "case_id                                                                  \n",
       "1              2.0      31397      Emergency  Extreme         2  51-60   \n",
       "2              2.0      31397         Trauma  Extreme         2  51-60   \n",
       "3              2.0      31397         Trauma  Extreme         2  51-60   \n",
       "4              2.0      31397         Trauma  Extreme         2  51-60   \n",
       "5              2.0      31397         Trauma  Extreme         2  51-60   \n",
       "\n",
       "         deposit  stay  \n",
       "case_id                 \n",
       "1         4911.0   5.0  \n",
       "2         5954.0  45.0  \n",
       "3         4745.0  35.0  \n",
       "4         7272.0  45.0  \n",
       "5         5558.0  45.0  "
      ]
     },
     "execution_count": 11,
     "metadata": {},
     "output_type": "execute_result"
    },
    {
     "data": {
      "application/javascript": [
       "\n",
       "            setTimeout(function() {\n",
       "                var nbb_cell_id = 11;\n",
       "                var nbb_unformatted_code = \"# stay column converted to number value\\nstay_slice = (pd.to_numeric(df.stay.str.slice(0, 1)) * 10) + 5\\ndf.stay = stay_slice\\n\\ndf.head()\";\n",
       "                var nbb_formatted_code = \"# stay column converted to number value\\nstay_slice = (pd.to_numeric(df.stay.str.slice(0, 1)) * 10) + 5\\ndf.stay = stay_slice\\n\\ndf.head()\";\n",
       "                var nbb_cells = Jupyter.notebook.get_cells();\n",
       "                for (var i = 0; i < nbb_cells.length; ++i) {\n",
       "                    if (nbb_cells[i].input_prompt_number == nbb_cell_id) {\n",
       "                        if (nbb_cells[i].get_text() == nbb_unformatted_code) {\n",
       "                             nbb_cells[i].set_text(nbb_formatted_code);\n",
       "                        }\n",
       "                        break;\n",
       "                    }\n",
       "                }\n",
       "            }, 500);\n",
       "            "
      ],
      "text/plain": [
       "<IPython.core.display.Javascript object>"
      ]
     },
     "metadata": {},
     "output_type": "display_data"
    }
   ],
   "source": [
    "# stay column converted to number value\n",
    "stay_slice = (pd.to_numeric(df.stay.str.slice(0, 1)) * 10) + 5\n",
    "df.stay = stay_slice\n",
    "\n",
    "df.head()"
   ]
  },
  {
   "cell_type": "code",
   "execution_count": 12,
   "metadata": {
    "hidden": true,
    "scrolled": false
   },
   "outputs": [
    {
     "data": {
      "text/html": [
       "<div>\n",
       "<style scoped>\n",
       "    .dataframe tbody tr th:only-of-type {\n",
       "        vertical-align: middle;\n",
       "    }\n",
       "\n",
       "    .dataframe tbody tr th {\n",
       "        vertical-align: top;\n",
       "    }\n",
       "\n",
       "    .dataframe thead th {\n",
       "        text-align: right;\n",
       "    }\n",
       "</style>\n",
       "<table border=\"1\" class=\"dataframe\">\n",
       "  <thead>\n",
       "    <tr style=\"text-align: right;\">\n",
       "      <th></th>\n",
       "      <th>bed_grade</th>\n",
       "      <th>patientid</th>\n",
       "      <th>admission_type</th>\n",
       "      <th>severity</th>\n",
       "      <th>visitors</th>\n",
       "      <th>age</th>\n",
       "      <th>deposit</th>\n",
       "      <th>stay</th>\n",
       "    </tr>\n",
       "    <tr>\n",
       "      <th>case_id</th>\n",
       "      <th></th>\n",
       "      <th></th>\n",
       "      <th></th>\n",
       "      <th></th>\n",
       "      <th></th>\n",
       "      <th></th>\n",
       "      <th></th>\n",
       "      <th></th>\n",
       "    </tr>\n",
       "  </thead>\n",
       "  <tbody>\n",
       "    <tr>\n",
       "      <th>1</th>\n",
       "      <td>2.0</td>\n",
       "      <td>31397</td>\n",
       "      <td>Emergency</td>\n",
       "      <td>Extreme</td>\n",
       "      <td>2</td>\n",
       "      <td>55</td>\n",
       "      <td>4911.0</td>\n",
       "      <td>5.0</td>\n",
       "    </tr>\n",
       "    <tr>\n",
       "      <th>2</th>\n",
       "      <td>2.0</td>\n",
       "      <td>31397</td>\n",
       "      <td>Trauma</td>\n",
       "      <td>Extreme</td>\n",
       "      <td>2</td>\n",
       "      <td>55</td>\n",
       "      <td>5954.0</td>\n",
       "      <td>45.0</td>\n",
       "    </tr>\n",
       "    <tr>\n",
       "      <th>3</th>\n",
       "      <td>2.0</td>\n",
       "      <td>31397</td>\n",
       "      <td>Trauma</td>\n",
       "      <td>Extreme</td>\n",
       "      <td>2</td>\n",
       "      <td>55</td>\n",
       "      <td>4745.0</td>\n",
       "      <td>35.0</td>\n",
       "    </tr>\n",
       "    <tr>\n",
       "      <th>4</th>\n",
       "      <td>2.0</td>\n",
       "      <td>31397</td>\n",
       "      <td>Trauma</td>\n",
       "      <td>Extreme</td>\n",
       "      <td>2</td>\n",
       "      <td>55</td>\n",
       "      <td>7272.0</td>\n",
       "      <td>45.0</td>\n",
       "    </tr>\n",
       "    <tr>\n",
       "      <th>5</th>\n",
       "      <td>2.0</td>\n",
       "      <td>31397</td>\n",
       "      <td>Trauma</td>\n",
       "      <td>Extreme</td>\n",
       "      <td>2</td>\n",
       "      <td>55</td>\n",
       "      <td>5558.0</td>\n",
       "      <td>45.0</td>\n",
       "    </tr>\n",
       "  </tbody>\n",
       "</table>\n",
       "</div>"
      ],
      "text/plain": [
       "         bed_grade  patientid admission_type severity  visitors  age  deposit  \\\n",
       "case_id                                                                         \n",
       "1              2.0      31397      Emergency  Extreme         2   55   4911.0   \n",
       "2              2.0      31397         Trauma  Extreme         2   55   5954.0   \n",
       "3              2.0      31397         Trauma  Extreme         2   55   4745.0   \n",
       "4              2.0      31397         Trauma  Extreme         2   55   7272.0   \n",
       "5              2.0      31397         Trauma  Extreme         2   55   5558.0   \n",
       "\n",
       "         stay  \n",
       "case_id        \n",
       "1         5.0  \n",
       "2        45.0  \n",
       "3        35.0  \n",
       "4        45.0  \n",
       "5        45.0  "
      ]
     },
     "execution_count": 12,
     "metadata": {},
     "output_type": "execute_result"
    },
    {
     "data": {
      "application/javascript": [
       "\n",
       "            setTimeout(function() {\n",
       "                var nbb_cell_id = 12;\n",
       "                var nbb_unformatted_code = \"# age column converted to number value\\nage_slice = (pd.to_numeric(df.age.str.slice(0, 1)) * 10) + 5\\ndf.age = age_slice\\n\\ndf.head()\";\n",
       "                var nbb_formatted_code = \"# age column converted to number value\\nage_slice = (pd.to_numeric(df.age.str.slice(0, 1)) * 10) + 5\\ndf.age = age_slice\\n\\ndf.head()\";\n",
       "                var nbb_cells = Jupyter.notebook.get_cells();\n",
       "                for (var i = 0; i < nbb_cells.length; ++i) {\n",
       "                    if (nbb_cells[i].input_prompt_number == nbb_cell_id) {\n",
       "                        if (nbb_cells[i].get_text() == nbb_unformatted_code) {\n",
       "                             nbb_cells[i].set_text(nbb_formatted_code);\n",
       "                        }\n",
       "                        break;\n",
       "                    }\n",
       "                }\n",
       "            }, 500);\n",
       "            "
      ],
      "text/plain": [
       "<IPython.core.display.Javascript object>"
      ]
     },
     "metadata": {},
     "output_type": "display_data"
    }
   ],
   "source": [
    "# age column converted to number value\n",
    "age_slice = (pd.to_numeric(df.age.str.slice(0, 1)) * 10) + 5\n",
    "df.age = age_slice\n",
    "\n",
    "df.head()"
   ]
  },
  {
   "cell_type": "code",
   "execution_count": 13,
   "metadata": {
    "hidden": true
   },
   "outputs": [
    {
     "name": "stdout",
     "output_type": "stream",
     "text": [
      "['Extreme' 'Moderate' 'Minor']\n",
      "['Emergency' 'Trauma' 'Urgent']\n"
     ]
    },
    {
     "data": {
      "application/javascript": [
       "\n",
       "            setTimeout(function() {\n",
       "                var nbb_cell_id = 13;\n",
       "                var nbb_unformatted_code = \"# unique values for severity and admission type fields to be used to break into groups\\nprint(df.severity.unique())\\nprint(df.admission_type.unique())\";\n",
       "                var nbb_formatted_code = \"# unique values for severity and admission type fields to be used to break into groups\\nprint(df.severity.unique())\\nprint(df.admission_type.unique())\";\n",
       "                var nbb_cells = Jupyter.notebook.get_cells();\n",
       "                for (var i = 0; i < nbb_cells.length; ++i) {\n",
       "                    if (nbb_cells[i].input_prompt_number == nbb_cell_id) {\n",
       "                        if (nbb_cells[i].get_text() == nbb_unformatted_code) {\n",
       "                             nbb_cells[i].set_text(nbb_formatted_code);\n",
       "                        }\n",
       "                        break;\n",
       "                    }\n",
       "                }\n",
       "            }, 500);\n",
       "            "
      ],
      "text/plain": [
       "<IPython.core.display.Javascript object>"
      ]
     },
     "metadata": {},
     "output_type": "display_data"
    }
   ],
   "source": [
    "# unique values for severity and admission type fields to be used to break into groups\n",
    "print(df.severity.unique())\n",
    "print(df.admission_type.unique())"
   ]
  },
  {
   "cell_type": "code",
   "execution_count": 14,
   "metadata": {
    "hidden": true
   },
   "outputs": [
    {
     "data": {
      "text/plain": [
       "array([55, 75, 35, 45, 85, 65, 25, 15,  5, 95], dtype=int64)"
      ]
     },
     "execution_count": 14,
     "metadata": {},
     "output_type": "execute_result"
    },
    {
     "data": {
      "application/javascript": [
       "\n",
       "            setTimeout(function() {\n",
       "                var nbb_cell_id = 14;\n",
       "                var nbb_unformatted_code = \"df.age.unique()\";\n",
       "                var nbb_formatted_code = \"df.age.unique()\";\n",
       "                var nbb_cells = Jupyter.notebook.get_cells();\n",
       "                for (var i = 0; i < nbb_cells.length; ++i) {\n",
       "                    if (nbb_cells[i].input_prompt_number == nbb_cell_id) {\n",
       "                        if (nbb_cells[i].get_text() == nbb_unformatted_code) {\n",
       "                             nbb_cells[i].set_text(nbb_formatted_code);\n",
       "                        }\n",
       "                        break;\n",
       "                    }\n",
       "                }\n",
       "            }, 500);\n",
       "            "
      ],
      "text/plain": [
       "<IPython.core.display.Javascript object>"
      ]
     },
     "metadata": {},
     "output_type": "display_data"
    }
   ],
   "source": [
    "df.age.unique()"
   ]
  },
  {
   "cell_type": "code",
   "execution_count": 18,
   "metadata": {
    "hidden": true,
    "scrolled": false
   },
   "outputs": [
    {
     "name": "stdout",
     "output_type": "stream",
     "text": [
      "<class 'pandas.core.frame.DataFrame'>\n",
      "Int64Index: 318438 entries, 1 to 318438\n",
      "Data columns (total 8 columns):\n",
      " #   Column          Non-Null Count   Dtype  \n",
      "---  ------          --------------   -----  \n",
      " 0   bed_grade       318325 non-null  float64\n",
      " 1   patientid       318438 non-null  int64  \n",
      " 2   admission_type  318438 non-null  object \n",
      " 3   severity        318438 non-null  object \n",
      " 4   visitors        318438 non-null  int64  \n",
      " 5   age             318438 non-null  int64  \n",
      " 6   deposit         318438 non-null  float64\n",
      " 7   stay            311755 non-null  float64\n",
      "dtypes: float64(3), int64(3), object(2)\n",
      "memory usage: 31.9+ MB\n"
     ]
    },
    {
     "data": {
      "application/javascript": [
       "\n",
       "            setTimeout(function() {\n",
       "                var nbb_cell_id = 18;\n",
       "                var nbb_unformatted_code = \"df.info()\";\n",
       "                var nbb_formatted_code = \"df.info()\";\n",
       "                var nbb_cells = Jupyter.notebook.get_cells();\n",
       "                for (var i = 0; i < nbb_cells.length; ++i) {\n",
       "                    if (nbb_cells[i].input_prompt_number == nbb_cell_id) {\n",
       "                        if (nbb_cells[i].get_text() == nbb_unformatted_code) {\n",
       "                             nbb_cells[i].set_text(nbb_formatted_code);\n",
       "                        }\n",
       "                        break;\n",
       "                    }\n",
       "                }\n",
       "            }, 500);\n",
       "            "
      ],
      "text/plain": [
       "<IPython.core.display.Javascript object>"
      ]
     },
     "metadata": {},
     "output_type": "display_data"
    }
   ],
   "source": [
    "df.info()"
   ]
  },
  {
   "cell_type": "code",
   "execution_count": 21,
   "metadata": {
    "hidden": true
   },
   "outputs": [
    {
     "data": {
      "application/javascript": [
       "\n",
       "            setTimeout(function() {\n",
       "                var nbb_cell_id = 21;\n",
       "                var nbb_unformatted_code = \"#  When I was converting the stay values to numeric, the 100+ values converted to NaN\\n#df[df.stay.isnull() == True]\\n\\n# replacing all NaN values with 100\\ndf.stay.fillna(value=100, inplace=True)\";\n",
       "                var nbb_formatted_code = \"#  When I was converting the stay values to numeric, the 100+ values converted to NaN\\n# df[df.stay.isnull() == True]\\n\\n# replacing all NaN values with 100\\ndf.stay.fillna(value=100, inplace=True)\";\n",
       "                var nbb_cells = Jupyter.notebook.get_cells();\n",
       "                for (var i = 0; i < nbb_cells.length; ++i) {\n",
       "                    if (nbb_cells[i].input_prompt_number == nbb_cell_id) {\n",
       "                        if (nbb_cells[i].get_text() == nbb_unformatted_code) {\n",
       "                             nbb_cells[i].set_text(nbb_formatted_code);\n",
       "                        }\n",
       "                        break;\n",
       "                    }\n",
       "                }\n",
       "            }, 500);\n",
       "            "
      ],
      "text/plain": [
       "<IPython.core.display.Javascript object>"
      ]
     },
     "metadata": {},
     "output_type": "display_data"
    }
   ],
   "source": [
    "#  When I was converting the stay values to numeric, the 100+ values converted to NaN\n",
    "# df[df.stay.isnull() == True]\n",
    "\n",
    "# replacing all NaN values with 100\n",
    "df.stay.fillna(value=100, inplace=True)"
   ]
  },
  {
   "cell_type": "code",
   "execution_count": 22,
   "metadata": {
    "hidden": true,
    "scrolled": true
   },
   "outputs": [
    {
     "name": "stdout",
     "output_type": "stream",
     "text": [
      "<class 'pandas.core.frame.DataFrame'>\n",
      "Int64Index: 6254 entries, 501 to 318427\n",
      "Data columns (total 8 columns):\n",
      " #   Column          Non-Null Count  Dtype  \n",
      "---  ------          --------------  -----  \n",
      " 0   bed_grade       6254 non-null   float64\n",
      " 1   patientid       6254 non-null   int64  \n",
      " 2   admission_type  6254 non-null   object \n",
      " 3   severity        6254 non-null   object \n",
      " 4   visitors        6254 non-null   int64  \n",
      " 5   age             6254 non-null   int64  \n",
      " 6   deposit         6254 non-null   float64\n",
      " 7   stay            6254 non-null   float64\n",
      "dtypes: float64(3), int64(3), object(2)\n",
      "memory usage: 439.7+ KB\n"
     ]
    },
    {
     "data": {
      "application/javascript": [
       "\n",
       "            setTimeout(function() {\n",
       "                var nbb_cell_id = 22;\n",
       "                var nbb_unformatted_code = \"df[df.age == 5].info()\";\n",
       "                var nbb_formatted_code = \"df[df.age == 5].info()\";\n",
       "                var nbb_cells = Jupyter.notebook.get_cells();\n",
       "                for (var i = 0; i < nbb_cells.length; ++i) {\n",
       "                    if (nbb_cells[i].input_prompt_number == nbb_cell_id) {\n",
       "                        if (nbb_cells[i].get_text() == nbb_unformatted_code) {\n",
       "                             nbb_cells[i].set_text(nbb_formatted_code);\n",
       "                        }\n",
       "                        break;\n",
       "                    }\n",
       "                }\n",
       "            }, 500);\n",
       "            "
      ],
      "text/plain": [
       "<IPython.core.display.Javascript object>"
      ]
     },
     "metadata": {},
     "output_type": "display_data"
    }
   ],
   "source": [
    "df[df.age == 5].info()"
   ]
  },
  {
   "cell_type": "code",
   "execution_count": null,
   "metadata": {
    "hidden": true,
    "scrolled": false
   },
   "outputs": [],
   "source": [
    "# beta distribution of random ages between each age range and set all values to one of the random ages for plotting\n",
    "for i in range(5, 100, 10):\n",
    "    n_age = df[df.age == i].age.count()\n",
    "    sample = (np.random.beta(1, 1, n_age)) * (i + 5)\n",
    "    # print(sample)\n",
    "    idx = df.age == i\n",
    "    # print(idx)\n",
    "    df.age.loc[(idx.values)] = sample\n",
    "    # df_set = sample\n",
    "\n",
    "#  check distribution histogram\n",
    "# sns.distplot(sample)\n",
    "# plt.show()"
   ]
  },
  {
   "cell_type": "code",
   "execution_count": 69,
   "metadata": {
    "hidden": true
   },
   "outputs": [
    {
     "data": {
      "text/html": [
       "<div>\n",
       "<style scoped>\n",
       "    .dataframe tbody tr th:only-of-type {\n",
       "        vertical-align: middle;\n",
       "    }\n",
       "\n",
       "    .dataframe tbody tr th {\n",
       "        vertical-align: top;\n",
       "    }\n",
       "\n",
       "    .dataframe thead th {\n",
       "        text-align: right;\n",
       "    }\n",
       "</style>\n",
       "<table border=\"1\" class=\"dataframe\">\n",
       "  <thead>\n",
       "    <tr style=\"text-align: right;\">\n",
       "      <th></th>\n",
       "      <th>bed_grade</th>\n",
       "      <th>patientid</th>\n",
       "      <th>admission_type</th>\n",
       "      <th>severity</th>\n",
       "      <th>visitors</th>\n",
       "      <th>age</th>\n",
       "      <th>deposit</th>\n",
       "      <th>stay</th>\n",
       "    </tr>\n",
       "    <tr>\n",
       "      <th>case_id</th>\n",
       "      <th></th>\n",
       "      <th></th>\n",
       "      <th></th>\n",
       "      <th></th>\n",
       "      <th></th>\n",
       "      <th></th>\n",
       "      <th></th>\n",
       "      <th></th>\n",
       "    </tr>\n",
       "  </thead>\n",
       "  <tbody>\n",
       "    <tr>\n",
       "      <th>1</th>\n",
       "      <td>2.0</td>\n",
       "      <td>31397</td>\n",
       "      <td>Emergency</td>\n",
       "      <td>Extreme</td>\n",
       "      <td>2</td>\n",
       "      <td>33.444062</td>\n",
       "      <td>4911.0</td>\n",
       "      <td>5.0</td>\n",
       "    </tr>\n",
       "    <tr>\n",
       "      <th>2</th>\n",
       "      <td>2.0</td>\n",
       "      <td>31397</td>\n",
       "      <td>Trauma</td>\n",
       "      <td>Extreme</td>\n",
       "      <td>2</td>\n",
       "      <td>7.000489</td>\n",
       "      <td>5954.0</td>\n",
       "      <td>45.0</td>\n",
       "    </tr>\n",
       "    <tr>\n",
       "      <th>3</th>\n",
       "      <td>2.0</td>\n",
       "      <td>31397</td>\n",
       "      <td>Trauma</td>\n",
       "      <td>Extreme</td>\n",
       "      <td>2</td>\n",
       "      <td>45.205237</td>\n",
       "      <td>4745.0</td>\n",
       "      <td>35.0</td>\n",
       "    </tr>\n",
       "    <tr>\n",
       "      <th>4</th>\n",
       "      <td>2.0</td>\n",
       "      <td>31397</td>\n",
       "      <td>Trauma</td>\n",
       "      <td>Extreme</td>\n",
       "      <td>2</td>\n",
       "      <td>45.909931</td>\n",
       "      <td>7272.0</td>\n",
       "      <td>45.0</td>\n",
       "    </tr>\n",
       "    <tr>\n",
       "      <th>5</th>\n",
       "      <td>2.0</td>\n",
       "      <td>31397</td>\n",
       "      <td>Trauma</td>\n",
       "      <td>Extreme</td>\n",
       "      <td>2</td>\n",
       "      <td>43.964331</td>\n",
       "      <td>5558.0</td>\n",
       "      <td>45.0</td>\n",
       "    </tr>\n",
       "    <tr>\n",
       "      <th>...</th>\n",
       "      <td>...</td>\n",
       "      <td>...</td>\n",
       "      <td>...</td>\n",
       "      <td>...</td>\n",
       "      <td>...</td>\n",
       "      <td>...</td>\n",
       "      <td>...</td>\n",
       "      <td>...</td>\n",
       "    </tr>\n",
       "    <tr>\n",
       "      <th>496</th>\n",
       "      <td>2.0</td>\n",
       "      <td>72300</td>\n",
       "      <td>Trauma</td>\n",
       "      <td>Moderate</td>\n",
       "      <td>3</td>\n",
       "      <td>10.802116</td>\n",
       "      <td>4790.0</td>\n",
       "      <td>15.0</td>\n",
       "    </tr>\n",
       "    <tr>\n",
       "      <th>497</th>\n",
       "      <td>2.0</td>\n",
       "      <td>72300</td>\n",
       "      <td>Trauma</td>\n",
       "      <td>Moderate</td>\n",
       "      <td>2</td>\n",
       "      <td>6.304636</td>\n",
       "      <td>3912.0</td>\n",
       "      <td>55.0</td>\n",
       "    </tr>\n",
       "    <tr>\n",
       "      <th>498</th>\n",
       "      <td>2.0</td>\n",
       "      <td>72300</td>\n",
       "      <td>Trauma</td>\n",
       "      <td>Moderate</td>\n",
       "      <td>2</td>\n",
       "      <td>32.351618</td>\n",
       "      <td>3626.0</td>\n",
       "      <td>55.0</td>\n",
       "    </tr>\n",
       "    <tr>\n",
       "      <th>499</th>\n",
       "      <td>2.0</td>\n",
       "      <td>49838</td>\n",
       "      <td>Emergency</td>\n",
       "      <td>Moderate</td>\n",
       "      <td>2</td>\n",
       "      <td>3.161170</td>\n",
       "      <td>5713.0</td>\n",
       "      <td>35.0</td>\n",
       "    </tr>\n",
       "    <tr>\n",
       "      <th>500</th>\n",
       "      <td>2.0</td>\n",
       "      <td>49838</td>\n",
       "      <td>Emergency</td>\n",
       "      <td>Moderate</td>\n",
       "      <td>4</td>\n",
       "      <td>8.954470</td>\n",
       "      <td>6040.0</td>\n",
       "      <td>35.0</td>\n",
       "    </tr>\n",
       "  </tbody>\n",
       "</table>\n",
       "<p>500 rows × 8 columns</p>\n",
       "</div>"
      ],
      "text/plain": [
       "         bed_grade  patientid admission_type  severity  visitors        age  \\\n",
       "case_id                                                                       \n",
       "1              2.0      31397      Emergency   Extreme         2  33.444062   \n",
       "2              2.0      31397         Trauma   Extreme         2   7.000489   \n",
       "3              2.0      31397         Trauma   Extreme         2  45.205237   \n",
       "4              2.0      31397         Trauma   Extreme         2  45.909931   \n",
       "5              2.0      31397         Trauma   Extreme         2  43.964331   \n",
       "...            ...        ...            ...       ...       ...        ...   \n",
       "496            2.0      72300         Trauma  Moderate         3  10.802116   \n",
       "497            2.0      72300         Trauma  Moderate         2   6.304636   \n",
       "498            2.0      72300         Trauma  Moderate         2  32.351618   \n",
       "499            2.0      49838      Emergency  Moderate         2   3.161170   \n",
       "500            2.0      49838      Emergency  Moderate         4   8.954470   \n",
       "\n",
       "         deposit  stay  \n",
       "case_id                 \n",
       "1         4911.0   5.0  \n",
       "2         5954.0  45.0  \n",
       "3         4745.0  35.0  \n",
       "4         7272.0  45.0  \n",
       "5         5558.0  45.0  \n",
       "...          ...   ...  \n",
       "496       4790.0  15.0  \n",
       "497       3912.0  55.0  \n",
       "498       3626.0  55.0  \n",
       "499       5713.0  35.0  \n",
       "500       6040.0  35.0  \n",
       "\n",
       "[500 rows x 8 columns]"
      ]
     },
     "execution_count": 69,
     "metadata": {},
     "output_type": "execute_result"
    },
    {
     "data": {
      "application/javascript": [
       "\n",
       "            setTimeout(function() {\n",
       "                var nbb_cell_id = 69;\n",
       "                var nbb_unformatted_code = \"df.head(500)\";\n",
       "                var nbb_formatted_code = \"df.head(500)\";\n",
       "                var nbb_cells = Jupyter.notebook.get_cells();\n",
       "                for (var i = 0; i < nbb_cells.length; ++i) {\n",
       "                    if (nbb_cells[i].input_prompt_number == nbb_cell_id) {\n",
       "                        if (nbb_cells[i].get_text() == nbb_unformatted_code) {\n",
       "                             nbb_cells[i].set_text(nbb_formatted_code);\n",
       "                        }\n",
       "                        break;\n",
       "                    }\n",
       "                }\n",
       "            }, 500);\n",
       "            "
      ],
      "text/plain": [
       "<IPython.core.display.Javascript object>"
      ]
     },
     "metadata": {},
     "output_type": "display_data"
    }
   ],
   "source": [
    "df.head(500)"
   ]
  },
  {
   "cell_type": "code",
   "execution_count": 70,
   "metadata": {
    "hidden": true,
    "scrolled": true
   },
   "outputs": [
    {
     "name": "stderr",
     "output_type": "stream",
     "text": [
      "C:\\Users\\tayma\\anaconda3\\lib\\site-packages\\pandas\\core\\indexing.py:671: SettingWithCopyWarning: \n",
      "A value is trying to be set on a copy of a slice from a DataFrame\n",
      "\n",
      "See the caveats in the documentation: https://pandas.pydata.org/pandas-docs/stable/user_guide/indexing.html#returning-a-view-versus-a-copy\n",
      "  self._setitem_with_indexer(indexer, value)\n"
     ]
    },
    {
     "data": {
      "text/html": [
       "<div>\n",
       "<style scoped>\n",
       "    .dataframe tbody tr th:only-of-type {\n",
       "        vertical-align: middle;\n",
       "    }\n",
       "\n",
       "    .dataframe tbody tr th {\n",
       "        vertical-align: top;\n",
       "    }\n",
       "\n",
       "    .dataframe thead th {\n",
       "        text-align: right;\n",
       "    }\n",
       "</style>\n",
       "<table border=\"1\" class=\"dataframe\">\n",
       "  <thead>\n",
       "    <tr style=\"text-align: right;\">\n",
       "      <th></th>\n",
       "      <th>bed_grade</th>\n",
       "      <th>patientid</th>\n",
       "      <th>admission_type</th>\n",
       "      <th>severity</th>\n",
       "      <th>visitors</th>\n",
       "      <th>age</th>\n",
       "      <th>deposit</th>\n",
       "      <th>stay</th>\n",
       "    </tr>\n",
       "    <tr>\n",
       "      <th>case_id</th>\n",
       "      <th></th>\n",
       "      <th></th>\n",
       "      <th></th>\n",
       "      <th></th>\n",
       "      <th></th>\n",
       "      <th></th>\n",
       "      <th></th>\n",
       "      <th></th>\n",
       "    </tr>\n",
       "  </thead>\n",
       "  <tbody>\n",
       "    <tr>\n",
       "      <th>1</th>\n",
       "      <td>2.0</td>\n",
       "      <td>31397</td>\n",
       "      <td>Emergency</td>\n",
       "      <td>Extreme</td>\n",
       "      <td>2</td>\n",
       "      <td>33.444062</td>\n",
       "      <td>4911.0</td>\n",
       "      <td>5.102421</td>\n",
       "    </tr>\n",
       "    <tr>\n",
       "      <th>2</th>\n",
       "      <td>2.0</td>\n",
       "      <td>31397</td>\n",
       "      <td>Trauma</td>\n",
       "      <td>Extreme</td>\n",
       "      <td>2</td>\n",
       "      <td>7.000489</td>\n",
       "      <td>5954.0</td>\n",
       "      <td>23.367230</td>\n",
       "    </tr>\n",
       "    <tr>\n",
       "      <th>3</th>\n",
       "      <td>2.0</td>\n",
       "      <td>31397</td>\n",
       "      <td>Trauma</td>\n",
       "      <td>Extreme</td>\n",
       "      <td>2</td>\n",
       "      <td>45.205237</td>\n",
       "      <td>4745.0</td>\n",
       "      <td>18.949485</td>\n",
       "    </tr>\n",
       "    <tr>\n",
       "      <th>4</th>\n",
       "      <td>2.0</td>\n",
       "      <td>31397</td>\n",
       "      <td>Trauma</td>\n",
       "      <td>Extreme</td>\n",
       "      <td>2</td>\n",
       "      <td>45.909931</td>\n",
       "      <td>7272.0</td>\n",
       "      <td>46.760038</td>\n",
       "    </tr>\n",
       "    <tr>\n",
       "      <th>5</th>\n",
       "      <td>2.0</td>\n",
       "      <td>31397</td>\n",
       "      <td>Trauma</td>\n",
       "      <td>Extreme</td>\n",
       "      <td>2</td>\n",
       "      <td>43.964331</td>\n",
       "      <td>5558.0</td>\n",
       "      <td>29.404377</td>\n",
       "    </tr>\n",
       "  </tbody>\n",
       "</table>\n",
       "</div>"
      ],
      "text/plain": [
       "         bed_grade  patientid admission_type severity  visitors        age  \\\n",
       "case_id                                                                      \n",
       "1              2.0      31397      Emergency  Extreme         2  33.444062   \n",
       "2              2.0      31397         Trauma  Extreme         2   7.000489   \n",
       "3              2.0      31397         Trauma  Extreme         2  45.205237   \n",
       "4              2.0      31397         Trauma  Extreme         2  45.909931   \n",
       "5              2.0      31397         Trauma  Extreme         2  43.964331   \n",
       "\n",
       "         deposit       stay  \n",
       "case_id                      \n",
       "1         4911.0   5.102421  \n",
       "2         5954.0  23.367230  \n",
       "3         4745.0  18.949485  \n",
       "4         7272.0  46.760038  \n",
       "5         5558.0  29.404377  "
      ]
     },
     "execution_count": 70,
     "metadata": {},
     "output_type": "execute_result"
    },
    {
     "data": {
      "application/javascript": [
       "\n",
       "            setTimeout(function() {\n",
       "                var nbb_cell_id = 70;\n",
       "                var nbb_unformatted_code = \"# beta distribution of random stays between each stay range and set all values to one of the random values for plotting\\nfor i in range(5, 105, 10):\\n    n_stays = df[df.stay == i].stay.count()\\n    sample = (np.random.beta(1, 1, n_stays)) * (i + 5)\\n    # print(sample)\\n    idx = df.stay == i\\n    # print(idx)\\n    df.stay.loc[(idx.values)] = sample\\n    # df_set = sample\\n\\n#  check distribution histogram\\n# sns.distplot(sample)\\n# plt.show()\\ndf.head()\";\n",
       "                var nbb_formatted_code = \"# beta distribution of random stays between each stay range and set all values to one of the random values for plotting\\nfor i in range(5, 105, 10):\\n    n_stays = df[df.stay == i].stay.count()\\n    sample = (np.random.beta(1, 1, n_stays)) * (i + 5)\\n    # print(sample)\\n    idx = df.stay == i\\n    # print(idx)\\n    df.stay.loc[(idx.values)] = sample\\n    # df_set = sample\\n\\n#  check distribution histogram\\n# sns.distplot(sample)\\n# plt.show()\\ndf.head()\";\n",
       "                var nbb_cells = Jupyter.notebook.get_cells();\n",
       "                for (var i = 0; i < nbb_cells.length; ++i) {\n",
       "                    if (nbb_cells[i].input_prompt_number == nbb_cell_id) {\n",
       "                        if (nbb_cells[i].get_text() == nbb_unformatted_code) {\n",
       "                             nbb_cells[i].set_text(nbb_formatted_code);\n",
       "                        }\n",
       "                        break;\n",
       "                    }\n",
       "                }\n",
       "            }, 500);\n",
       "            "
      ],
      "text/plain": [
       "<IPython.core.display.Javascript object>"
      ]
     },
     "metadata": {},
     "output_type": "display_data"
    }
   ],
   "source": [
    "# beta distribution of random stay values in range\n",
    "# each stay given random value from distribution for plotting and continuity\n",
    "for i in range(5, 105, 10):\n",
    "    n_stays = df[df.stay == i].stay.count()\n",
    "    sample = (np.random.beta(1, 1, n_stays)) * (i + 5)\n",
    "    # print(sample)\n",
    "    idx = df.stay == i\n",
    "    # print(idx)\n",
    "    df.stay.loc[(idx.values)] = sample\n",
    "    # df_set = sample\n",
    "\n",
    "#  check distribution histogram\n",
    "# sns.distplot(sample)\n",
    "# plt.show()\n",
    "df.head()"
   ]
  },
  {
   "cell_type": "code",
   "execution_count": 71,
   "metadata": {
    "hidden": true
   },
   "outputs": [
    {
     "data": {
      "text/plain": [
       "<matplotlib.axes._subplots.AxesSubplot at 0x1ffc7610760>"
      ]
     },
     "execution_count": 71,
     "metadata": {},
     "output_type": "execute_result"
    },
    {
     "data": {
      "image/png": "[encoded data removed]",
      "text/plain": [
       "<Figure size 432x288 with 1 Axes>"
      ]
     },
     "metadata": {
      "needs_background": "light"
     },
     "output_type": "display_data"
    },
    {
     "data": {
      "application/javascript": [
       "\n",
       "            setTimeout(function() {\n",
       "                var nbb_cell_id = 71;\n",
       "                var nbb_unformatted_code = \"df[(df.age > 40) & (df.age < 50)].age.hist()\";\n",
       "                var nbb_formatted_code = \"df[(df.age > 40) & (df.age < 50)].age.hist()\";\n",
       "                var nbb_cells = Jupyter.notebook.get_cells();\n",
       "                for (var i = 0; i < nbb_cells.length; ++i) {\n",
       "                    if (nbb_cells[i].input_prompt_number == nbb_cell_id) {\n",
       "                        if (nbb_cells[i].get_text() == nbb_unformatted_code) {\n",
       "                             nbb_cells[i].set_text(nbb_formatted_code);\n",
       "                        }\n",
       "                        break;\n",
       "                    }\n",
       "                }\n",
       "            }, 500);\n",
       "            "
      ],
      "text/plain": [
       "<IPython.core.display.Javascript object>"
      ]
     },
     "metadata": {},
     "output_type": "display_data"
    }
   ],
   "source": [
    "df[(df.age > 40) & (df.age < 50)].age.hist()"
   ]
  },
  {
   "cell_type": "markdown",
   "metadata": {
    "heading_collapsed": true
   },
   "source": [
    "# Age"
   ]
  },
  {
   "cell_type": "code",
   "execution_count": 79,
   "metadata": {
    "hidden": true,
    "scrolled": true
   },
   "outputs": [
    {
     "data": {
      "text/plain": [
       "array(['Emergency', 'Trauma', 'Urgent'], dtype=object)"
      ]
     },
     "execution_count": 79,
     "metadata": {},
     "output_type": "execute_result"
    },
    {
     "data": {
      "application/javascript": [
       "\n",
       "            setTimeout(function() {\n",
       "                var nbb_cell_id = 79;\n",
       "                var nbb_unformatted_code = \"df.admission_type.unique()\";\n",
       "                var nbb_formatted_code = \"df.admission_type.unique()\";\n",
       "                var nbb_cells = Jupyter.notebook.get_cells();\n",
       "                for (var i = 0; i < nbb_cells.length; ++i) {\n",
       "                    if (nbb_cells[i].input_prompt_number == nbb_cell_id) {\n",
       "                        if (nbb_cells[i].get_text() == nbb_unformatted_code) {\n",
       "                             nbb_cells[i].set_text(nbb_formatted_code);\n",
       "                        }\n",
       "                        break;\n",
       "                    }\n",
       "                }\n",
       "            }, 500);\n",
       "            "
      ],
      "text/plain": [
       "<IPython.core.display.Javascript object>"
      ]
     },
     "metadata": {},
     "output_type": "display_data"
    },
    {
     "data": {
      "application/javascript": [
       "\n",
       "            setTimeout(function() {\n",
       "                var nbb_cell_id = 79;\n",
       "                var nbb_unformatted_code = \"df.admission_type.unique()\";\n",
       "                var nbb_formatted_code = \"df.admission_type.unique()\";\n",
       "                var nbb_cells = Jupyter.notebook.get_cells();\n",
       "                for (var i = 0; i < nbb_cells.length; ++i) {\n",
       "                    if (nbb_cells[i].input_prompt_number == nbb_cell_id) {\n",
       "                        if (nbb_cells[i].get_text() == nbb_unformatted_code) {\n",
       "                             nbb_cells[i].set_text(nbb_formatted_code);\n",
       "                        }\n",
       "                        break;\n",
       "                    }\n",
       "                }\n",
       "            }, 500);\n",
       "            "
      ],
      "text/plain": [
       "<IPython.core.display.Javascript object>"
      ]
     },
     "metadata": {},
     "output_type": "display_data"
    }
   ],
   "source": [
    "df.admission_type.unique()"
   ]
  },
  {
   "cell_type": "markdown",
   "metadata": {
    "hidden": true
   },
   "source": [
    "The groups still need to be broken down into similar admission types and severity before running any tests on age. Running any age testing with members from all different groups should provide extremely indecisive results."
   ]
  },
  {
   "cell_type": "code",
   "execution_count": 80,
   "metadata": {
    "hidden": true
   },
   "outputs": [
    {
     "data": {
      "application/javascript": [
       "\n",
       "            setTimeout(function() {\n",
       "                var nbb_cell_id = 80;\n",
       "                var nbb_unformatted_code = \"#  breaking Emergency admissions into 3 groups\\nemergency_minor = df[(df.admission_type == \\\"Emergency\\\") & (df.severity == \\\"Minor\\\")]\\nemergency_moderate = df[(df.admission_type == \\\"Emergency\\\") & (df.severity == \\\"Moderate\\\")]\\nemergency_extreme = df[(df.admission_type == \\\"Emergency\\\") & (df.severity == \\\"Extreme\\\")]\\n\\n#  breaking Trauma admissions into 3 groups\\ntrauma_minor = df[(df.admission_type == \\\"Trauma\\\") & (df.severity == \\\"Minor\\\")]\\ntrauma_moderate = df[(df.admission_type == \\\"Trauma\\\") & (df.severity == \\\"Moderate\\\")]\\ntrauma_extreme = df[(df.admission_type == \\\"Trauma\\\") & (df.severity == \\\"Extreme\\\")]\\n\\n#  breaking Urgent admissions into 3 groups\\nurgent_minor = df[(df.admission_type == \\\"Urgent\\\") & (df.severity == \\\"Minor\\\")]\\nurgent_moderate = df[(df.admission_type == \\\"Urgent\\\") & (df.severity == \\\"Moderate\\\")]\\nurgent_extreme = df[(df.admission_type == \\\"Urgent\\\") & (df.severity == \\\"Extreme\\\")]\";\n",
       "                var nbb_formatted_code = \"#  breaking Emergency admissions into 3 groups\\nemergency_minor = df[(df.admission_type == \\\"Emergency\\\") & (df.severity == \\\"Minor\\\")]\\nemergency_moderate = df[\\n    (df.admission_type == \\\"Emergency\\\") & (df.severity == \\\"Moderate\\\")\\n]\\nemergency_extreme = df[(df.admission_type == \\\"Emergency\\\") & (df.severity == \\\"Extreme\\\")]\\n\\n#  breaking Trauma admissions into 3 groups\\ntrauma_minor = df[(df.admission_type == \\\"Trauma\\\") & (df.severity == \\\"Minor\\\")]\\ntrauma_moderate = df[(df.admission_type == \\\"Trauma\\\") & (df.severity == \\\"Moderate\\\")]\\ntrauma_extreme = df[(df.admission_type == \\\"Trauma\\\") & (df.severity == \\\"Extreme\\\")]\\n\\n#  breaking Urgent admissions into 3 groups\\nurgent_minor = df[(df.admission_type == \\\"Urgent\\\") & (df.severity == \\\"Minor\\\")]\\nurgent_moderate = df[(df.admission_type == \\\"Urgent\\\") & (df.severity == \\\"Moderate\\\")]\\nurgent_extreme = df[(df.admission_type == \\\"Urgent\\\") & (df.severity == \\\"Extreme\\\")]\";\n",
       "                var nbb_cells = Jupyter.notebook.get_cells();\n",
       "                for (var i = 0; i < nbb_cells.length; ++i) {\n",
       "                    if (nbb_cells[i].input_prompt_number == nbb_cell_id) {\n",
       "                        if (nbb_cells[i].get_text() == nbb_unformatted_code) {\n",
       "                             nbb_cells[i].set_text(nbb_formatted_code);\n",
       "                        }\n",
       "                        break;\n",
       "                    }\n",
       "                }\n",
       "            }, 500);\n",
       "            "
      ],
      "text/plain": [
       "<IPython.core.display.Javascript object>"
      ]
     },
     "metadata": {},
     "output_type": "display_data"
    },
    {
     "data": {
      "application/javascript": [
       "\n",
       "            setTimeout(function() {\n",
       "                var nbb_cell_id = 80;\n",
       "                var nbb_unformatted_code = \"#  breaking Emergency admissions into 3 groups\\nemergency_minor = df[(df.admission_type == \\\"Emergency\\\") & (df.severity == \\\"Minor\\\")]\\nemergency_moderate = df[(df.admission_type == \\\"Emergency\\\") & (df.severity == \\\"Moderate\\\")]\\nemergency_extreme = df[(df.admission_type == \\\"Emergency\\\") & (df.severity == \\\"Extreme\\\")]\\n\\n#  breaking Trauma admissions into 3 groups\\ntrauma_minor = df[(df.admission_type == \\\"Trauma\\\") & (df.severity == \\\"Minor\\\")]\\ntrauma_moderate = df[(df.admission_type == \\\"Trauma\\\") & (df.severity == \\\"Moderate\\\")]\\ntrauma_extreme = df[(df.admission_type == \\\"Trauma\\\") & (df.severity == \\\"Extreme\\\")]\\n\\n#  breaking Urgent admissions into 3 groups\\nurgent_minor = df[(df.admission_type == \\\"Urgent\\\") & (df.severity == \\\"Minor\\\")]\\nurgent_moderate = df[(df.admission_type == \\\"Urgent\\\") & (df.severity == \\\"Moderate\\\")]\\nurgent_extreme = df[(df.admission_type == \\\"Urgent\\\") & (df.severity == \\\"Extreme\\\")]\";\n",
       "                var nbb_formatted_code = \"#  breaking Emergency admissions into 3 groups\\nemergency_minor = df[(df.admission_type == \\\"Emergency\\\") & (df.severity == \\\"Minor\\\")]\\nemergency_moderate = df[\\n    (df.admission_type == \\\"Emergency\\\") & (df.severity == \\\"Moderate\\\")\\n]\\nemergency_extreme = df[(df.admission_type == \\\"Emergency\\\") & (df.severity == \\\"Extreme\\\")]\\n\\n#  breaking Trauma admissions into 3 groups\\ntrauma_minor = df[(df.admission_type == \\\"Trauma\\\") & (df.severity == \\\"Minor\\\")]\\ntrauma_moderate = df[(df.admission_type == \\\"Trauma\\\") & (df.severity == \\\"Moderate\\\")]\\ntrauma_extreme = df[(df.admission_type == \\\"Trauma\\\") & (df.severity == \\\"Extreme\\\")]\\n\\n#  breaking Urgent admissions into 3 groups\\nurgent_minor = df[(df.admission_type == \\\"Urgent\\\") & (df.severity == \\\"Minor\\\")]\\nurgent_moderate = df[(df.admission_type == \\\"Urgent\\\") & (df.severity == \\\"Moderate\\\")]\\nurgent_extreme = df[(df.admission_type == \\\"Urgent\\\") & (df.severity == \\\"Extreme\\\")]\";\n",
       "                var nbb_cells = Jupyter.notebook.get_cells();\n",
       "                for (var i = 0; i < nbb_cells.length; ++i) {\n",
       "                    if (nbb_cells[i].input_prompt_number == nbb_cell_id) {\n",
       "                        if (nbb_cells[i].get_text() == nbb_unformatted_code) {\n",
       "                             nbb_cells[i].set_text(nbb_formatted_code);\n",
       "                        }\n",
       "                        break;\n",
       "                    }\n",
       "                }\n",
       "            }, 500);\n",
       "            "
      ],
      "text/plain": [
       "<IPython.core.display.Javascript object>"
      ]
     },
     "metadata": {},
     "output_type": "display_data"
    }
   ],
   "source": [
    "#  breaking Emergency admissions into 3 groups\n",
    "emergency_minor = df[(df.admission_type == \"Emergency\") & (df.severity == \"Minor\")]\n",
    "emergency_moderate = df[\n",
    "    (df.admission_type == \"Emergency\") & (df.severity == \"Moderate\")\n",
    "]\n",
    "emergency_extreme = df[(df.admission_type == \"Emergency\") & (df.severity == \"Extreme\")]\n",
    "\n",
    "#  breaking Trauma admissions into 3 groups\n",
    "trauma_minor = df[(df.admission_type == \"Trauma\") & (df.severity == \"Minor\")]\n",
    "trauma_moderate = df[(df.admission_type == \"Trauma\") & (df.severity == \"Moderate\")]\n",
    "trauma_extreme = df[(df.admission_type == \"Trauma\") & (df.severity == \"Extreme\")]\n",
    "\n",
    "#  breaking Urgent admissions into 3 groups\n",
    "urgent_minor = df[(df.admission_type == \"Urgent\") & (df.severity == \"Minor\")]\n",
    "urgent_moderate = df[(df.admission_type == \"Urgent\") & (df.severity == \"Moderate\")]\n",
    "urgent_extreme = df[(df.admission_type == \"Urgent\") & (df.severity == \"Extreme\")]"
   ]
  },
  {
   "cell_type": "markdown",
   "metadata": {
    "heading_collapsed": true,
    "hidden": true
   },
   "source": [
    "## Emergency"
   ]
  },
  {
   "cell_type": "markdown",
   "metadata": {
    "heading_collapsed": true,
    "hidden": true
   },
   "source": [
    "### Emergency Minor"
   ]
  },
  {
   "cell_type": "code",
   "execution_count": 113,
   "metadata": {
    "hidden": true
   },
   "outputs": [
    {
     "data": {
      "application/javascript": [
       "\n",
       "            setTimeout(function() {\n",
       "                var nbb_cell_id = 113;\n",
       "                var nbb_unformatted_code = \"#  find the 1st, 2nd, and 3rd percentiles of the group\\np1 = np.percentile(emergency_minor.age, 25)\\np2 = np.percentile(emergency_minor.age, 50)\\np3 = np.percentile(emergency_minor.age, 75)\\n\\n#  separate group into 4 even groups based on age\\ne_minor_age_1 = emergency_minor[emergency_minor.age < p1]\\ne_minor_age_2 = emergency_minor[(emergency_minor.age > p1) & (emergency_minor.age < p2)]\\ne_minor_age_3 = emergency_minor[(emergency_minor.age > p2) & (emergency_minor.age < p3)]\\ne_minor_age_4 = emergency_minor[emergency_minor.age > p3]\";\n",
       "                var nbb_formatted_code = \"#  find the 1st, 2nd, and 3rd percentiles of the group\\np1 = np.percentile(emergency_minor.age, 25)\\np2 = np.percentile(emergency_minor.age, 50)\\np3 = np.percentile(emergency_minor.age, 75)\\n\\n#  separate group into 4 even groups based on age\\ne_minor_age_1 = emergency_minor[emergency_minor.age < p1]\\ne_minor_age_2 = emergency_minor[(emergency_minor.age > p1) & (emergency_minor.age < p2)]\\ne_minor_age_3 = emergency_minor[(emergency_minor.age > p2) & (emergency_minor.age < p3)]\\ne_minor_age_4 = emergency_minor[emergency_minor.age > p3]\";\n",
       "                var nbb_cells = Jupyter.notebook.get_cells();\n",
       "                for (var i = 0; i < nbb_cells.length; ++i) {\n",
       "                    if (nbb_cells[i].input_prompt_number == nbb_cell_id) {\n",
       "                        if (nbb_cells[i].get_text() == nbb_unformatted_code) {\n",
       "                             nbb_cells[i].set_text(nbb_formatted_code);\n",
       "                        }\n",
       "                        break;\n",
       "                    }\n",
       "                }\n",
       "            }, 500);\n",
       "            "
      ],
      "text/plain": [
       "<IPython.core.display.Javascript object>"
      ]
     },
     "metadata": {},
     "output_type": "display_data"
    },
    {
     "data": {
      "application/javascript": [
       "\n",
       "            setTimeout(function() {\n",
       "                var nbb_cell_id = 113;\n",
       "                var nbb_unformatted_code = \"#  find the 1st, 2nd, and 3rd percentiles of the group\\np1 = np.percentile(emergency_minor.age, 25)\\np2 = np.percentile(emergency_minor.age, 50)\\np3 = np.percentile(emergency_minor.age, 75)\\n\\n#  separate group into 4 even groups based on age\\ne_minor_age_1 = emergency_minor[emergency_minor.age < p1]\\ne_minor_age_2 = emergency_minor[(emergency_minor.age > p1) & (emergency_minor.age < p2)]\\ne_minor_age_3 = emergency_minor[(emergency_minor.age > p2) & (emergency_minor.age < p3)]\\ne_minor_age_4 = emergency_minor[emergency_minor.age > p3]\";\n",
       "                var nbb_formatted_code = \"#  find the 1st, 2nd, and 3rd percentiles of the group\\np1 = np.percentile(emergency_minor.age, 25)\\np2 = np.percentile(emergency_minor.age, 50)\\np3 = np.percentile(emergency_minor.age, 75)\\n\\n#  separate group into 4 even groups based on age\\ne_minor_age_1 = emergency_minor[emergency_minor.age < p1]\\ne_minor_age_2 = emergency_minor[(emergency_minor.age > p1) & (emergency_minor.age < p2)]\\ne_minor_age_3 = emergency_minor[(emergency_minor.age > p2) & (emergency_minor.age < p3)]\\ne_minor_age_4 = emergency_minor[emergency_minor.age > p3]\";\n",
       "                var nbb_cells = Jupyter.notebook.get_cells();\n",
       "                for (var i = 0; i < nbb_cells.length; ++i) {\n",
       "                    if (nbb_cells[i].input_prompt_number == nbb_cell_id) {\n",
       "                        if (nbb_cells[i].get_text() == nbb_unformatted_code) {\n",
       "                             nbb_cells[i].set_text(nbb_formatted_code);\n",
       "                        }\n",
       "                        break;\n",
       "                    }\n",
       "                }\n",
       "            }, 500);\n",
       "            "
      ],
      "text/plain": [
       "<IPython.core.display.Javascript object>"
      ]
     },
     "metadata": {},
     "output_type": "display_data"
    }
   ],
   "source": [
    "## THESE VARIABLES MUST BE RUN TOGETHER BC P1-P3 ARE REUSED FOR EACH VARIABLE CALCULATION\n",
    "#  find the 1st, 2nd, and 3rd percentiles of the group\n",
    "p1 = np.percentile(emergency_minor.age, 25)\n",
    "p2 = np.percentile(emergency_minor.age, 50)\n",
    "p3 = np.percentile(emergency_minor.age, 75)\n",
    "\n",
    "#  separate group into 4 even groups based on age\n",
    "e_minor_age_1 = emergency_minor[emergency_minor.age < p1]\n",
    "e_minor_age_2 = emergency_minor[(emergency_minor.age > p1) & (emergency_minor.age < p2)]\n",
    "e_minor_age_3 = emergency_minor[(emergency_minor.age > p2) & (emergency_minor.age < p3)]\n",
    "e_minor_age_4 = emergency_minor[emergency_minor.age > p3]"
   ]
  },
  {
   "cell_type": "code",
   "execution_count": 114,
   "metadata": {
    "hidden": true
   },
   "outputs": [
    {
     "name": "stdout",
     "output_type": "stream",
     "text": [
      "Emergency, Minor, group 1: 8839\n",
      "Emergency, Minor, group 2: 8839\n",
      "Emergency, Minor, group 3: 8839\n",
      "Emergency, Minor, group 1: 8839\n"
     ]
    },
    {
     "data": {
      "application/javascript": [
       "\n",
       "            setTimeout(function() {\n",
       "                var nbb_cell_id = 114;\n",
       "                var nbb_unformatted_code = \"#  check group sizes\\nprint(\\n    \\\"Emergency, Minor, group 1: \\\"\\n    + str(emergency_minor[emergency_minor.age < p1].shape[0])\\n)\\nprint(\\n    \\\"Emergency, Minor, group 2: \\\"\\n    + str(\\n        emergency_minor[(emergency_minor.age > p1) & (emergency_minor.age < p2)].shape[\\n            0\\n        ]\\n    )\\n)\\nprint(\\n    \\\"Emergency, Minor, group 3: \\\"\\n    + str(\\n        emergency_minor[(emergency_minor.age > p2) & (emergency_minor.age < p3)].shape[\\n            0\\n        ]\\n    )\\n)\\nprint(\\n    \\\"Emergency, Minor, group 1: \\\"\\n    + str(emergency_minor[emergency_minor.age > p3].shape[0])\\n)\";\n",
       "                var nbb_formatted_code = \"#  check group sizes\\nprint(\\n    \\\"Emergency, Minor, group 1: \\\"\\n    + str(emergency_minor[emergency_minor.age < p1].shape[0])\\n)\\nprint(\\n    \\\"Emergency, Minor, group 2: \\\"\\n    + str(\\n        emergency_minor[(emergency_minor.age > p1) & (emergency_minor.age < p2)].shape[\\n            0\\n        ]\\n    )\\n)\\nprint(\\n    \\\"Emergency, Minor, group 3: \\\"\\n    + str(\\n        emergency_minor[(emergency_minor.age > p2) & (emergency_minor.age < p3)].shape[\\n            0\\n        ]\\n    )\\n)\\nprint(\\n    \\\"Emergency, Minor, group 1: \\\"\\n    + str(emergency_minor[emergency_minor.age > p3].shape[0])\\n)\";\n",
       "                var nbb_cells = Jupyter.notebook.get_cells();\n",
       "                for (var i = 0; i < nbb_cells.length; ++i) {\n",
       "                    if (nbb_cells[i].input_prompt_number == nbb_cell_id) {\n",
       "                        if (nbb_cells[i].get_text() == nbb_unformatted_code) {\n",
       "                             nbb_cells[i].set_text(nbb_formatted_code);\n",
       "                        }\n",
       "                        break;\n",
       "                    }\n",
       "                }\n",
       "            }, 500);\n",
       "            "
      ],
      "text/plain": [
       "<IPython.core.display.Javascript object>"
      ]
     },
     "metadata": {},
     "output_type": "display_data"
    },
    {
     "data": {
      "application/javascript": [
       "\n",
       "            setTimeout(function() {\n",
       "                var nbb_cell_id = 114;\n",
       "                var nbb_unformatted_code = \"#  check group sizes\\nprint(\\n    \\\"Emergency, Minor, group 1: \\\"\\n    + str(emergency_minor[emergency_minor.age < p1].shape[0])\\n)\\nprint(\\n    \\\"Emergency, Minor, group 2: \\\"\\n    + str(\\n        emergency_minor[(emergency_minor.age > p1) & (emergency_minor.age < p2)].shape[\\n            0\\n        ]\\n    )\\n)\\nprint(\\n    \\\"Emergency, Minor, group 3: \\\"\\n    + str(\\n        emergency_minor[(emergency_minor.age > p2) & (emergency_minor.age < p3)].shape[\\n            0\\n        ]\\n    )\\n)\\nprint(\\n    \\\"Emergency, Minor, group 1: \\\"\\n    + str(emergency_minor[emergency_minor.age > p3].shape[0])\\n)\";\n",
       "                var nbb_formatted_code = \"#  check group sizes\\nprint(\\n    \\\"Emergency, Minor, group 1: \\\"\\n    + str(emergency_minor[emergency_minor.age < p1].shape[0])\\n)\\nprint(\\n    \\\"Emergency, Minor, group 2: \\\"\\n    + str(\\n        emergency_minor[(emergency_minor.age > p1) & (emergency_minor.age < p2)].shape[\\n            0\\n        ]\\n    )\\n)\\nprint(\\n    \\\"Emergency, Minor, group 3: \\\"\\n    + str(\\n        emergency_minor[(emergency_minor.age > p2) & (emergency_minor.age < p3)].shape[\\n            0\\n        ]\\n    )\\n)\\nprint(\\n    \\\"Emergency, Minor, group 1: \\\"\\n    + str(emergency_minor[emergency_minor.age > p3].shape[0])\\n)\";\n",
       "                var nbb_cells = Jupyter.notebook.get_cells();\n",
       "                for (var i = 0; i < nbb_cells.length; ++i) {\n",
       "                    if (nbb_cells[i].input_prompt_number == nbb_cell_id) {\n",
       "                        if (nbb_cells[i].get_text() == nbb_unformatted_code) {\n",
       "                             nbb_cells[i].set_text(nbb_formatted_code);\n",
       "                        }\n",
       "                        break;\n",
       "                    }\n",
       "                }\n",
       "            }, 500);\n",
       "            "
      ],
      "text/plain": [
       "<IPython.core.display.Javascript object>"
      ]
     },
     "metadata": {},
     "output_type": "display_data"
    }
   ],
   "source": [
    "#  check group sizes\n",
    "print(\n",
    "    \"Emergency, Minor, group 1: \"\n",
    "    + str(emergency_minor[emergency_minor.age < p1].shape[0])\n",
    ")\n",
    "print(\n",
    "    \"Emergency, Minor, group 2: \"\n",
    "    + str(\n",
    "        emergency_minor[(emergency_minor.age > p1) & (emergency_minor.age < p2)].shape[\n",
    "            0\n",
    "        ]\n",
    "    )\n",
    ")\n",
    "print(\n",
    "    \"Emergency, Minor, group 3: \"\n",
    "    + str(\n",
    "        emergency_minor[(emergency_minor.age > p2) & (emergency_minor.age < p3)].shape[\n",
    "            0\n",
    "        ]\n",
    "    )\n",
    ")\n",
    "print(\n",
    "    \"Emergency, Minor, group 1: \"\n",
    "    + str(emergency_minor[emergency_minor.age > p3].shape[0])\n",
    ")"
   ]
  },
  {
   "cell_type": "code",
   "execution_count": 121,
   "metadata": {
    "hidden": true,
    "scrolled": true
   },
   "outputs": [
    {
     "data": {
      "image/png": "[encoded data removed]",
      "text/plain": [
       "<Figure size 432x288 with 1 Axes>"
      ]
     },
     "metadata": {
      "needs_background": "light"
     },
     "output_type": "display_data"
    },
    {
     "data": {
      "application/javascript": [
       "\n",
       "            setTimeout(function() {\n",
       "                var nbb_cell_id = 121;\n",
       "                var nbb_unformatted_code = \"#  overlay of each groups distribution of stay length\\nsns.distplot(e_minor_age_1.stay)\\nsns.distplot(e_minor_age_2.stay)\\nsns.distplot(e_minor_age_3.stay)\\nsns.distplot(e_minor_age_4.stay)\\nplt.show()\";\n",
       "                var nbb_formatted_code = \"#  overlay of each groups distribution of stay length\\nsns.distplot(e_minor_age_1.stay)\\nsns.distplot(e_minor_age_2.stay)\\nsns.distplot(e_minor_age_3.stay)\\nsns.distplot(e_minor_age_4.stay)\\nplt.show()\";\n",
       "                var nbb_cells = Jupyter.notebook.get_cells();\n",
       "                for (var i = 0; i < nbb_cells.length; ++i) {\n",
       "                    if (nbb_cells[i].input_prompt_number == nbb_cell_id) {\n",
       "                        if (nbb_cells[i].get_text() == nbb_unformatted_code) {\n",
       "                             nbb_cells[i].set_text(nbb_formatted_code);\n",
       "                        }\n",
       "                        break;\n",
       "                    }\n",
       "                }\n",
       "            }, 500);\n",
       "            "
      ],
      "text/plain": [
       "<IPython.core.display.Javascript object>"
      ]
     },
     "metadata": {},
     "output_type": "display_data"
    },
    {
     "data": {
      "application/javascript": [
       "\n",
       "            setTimeout(function() {\n",
       "                var nbb_cell_id = 121;\n",
       "                var nbb_unformatted_code = \"#  overlay of each groups distribution of stay length\\nsns.distplot(e_minor_age_1.stay)\\nsns.distplot(e_minor_age_2.stay)\\nsns.distplot(e_minor_age_3.stay)\\nsns.distplot(e_minor_age_4.stay)\\nplt.show()\";\n",
       "                var nbb_formatted_code = \"#  overlay of each groups distribution of stay length\\nsns.distplot(e_minor_age_1.stay)\\nsns.distplot(e_minor_age_2.stay)\\nsns.distplot(e_minor_age_3.stay)\\nsns.distplot(e_minor_age_4.stay)\\nplt.show()\";\n",
       "                var nbb_cells = Jupyter.notebook.get_cells();\n",
       "                for (var i = 0; i < nbb_cells.length; ++i) {\n",
       "                    if (nbb_cells[i].input_prompt_number == nbb_cell_id) {\n",
       "                        if (nbb_cells[i].get_text() == nbb_unformatted_code) {\n",
       "                             nbb_cells[i].set_text(nbb_formatted_code);\n",
       "                        }\n",
       "                        break;\n",
       "                    }\n",
       "                }\n",
       "            }, 500);\n",
       "            "
      ],
      "text/plain": [
       "<IPython.core.display.Javascript object>"
      ]
     },
     "metadata": {},
     "output_type": "display_data"
    }
   ],
   "source": [
    "#  overlay of each groups distribution of stay length\n",
    "sns.distplot(e_minor_age_1.stay)\n",
    "sns.distplot(e_minor_age_2.stay)\n",
    "sns.distplot(e_minor_age_3.stay)\n",
    "sns.distplot(e_minor_age_4.stay)\n",
    "plt.show()"
   ]
  },
  {
   "cell_type": "markdown",
   "metadata": {
    "hidden": true
   },
   "source": [
    "**Plot Analysis:** \n",
    "* All 4 groups show a very similar distribution with a heavy right skew.\n",
    "* The bumps at the far side of the plot is due to the max stay value of 100 including all stays of 100 days or more."
   ]
  },
  {
   "cell_type": "code",
   "execution_count": 122,
   "metadata": {
    "hidden": true
   },
   "outputs": [
    {
     "data": {
      "image/png": "[encoded data removed]",
      "text/plain": [
       "<Figure size 432x288 with 1 Axes>"
      ]
     },
     "metadata": {
      "needs_background": "light"
     },
     "output_type": "display_data"
    },
    {
     "data": {
      "image/png": "[encoded data removed]",
      "text/plain": [
       "<Figure size 432x288 with 1 Axes>"
      ]
     },
     "metadata": {
      "needs_background": "light"
     },
     "output_type": "display_data"
    },
    {
     "data": {
      "image/png": "[encoded data removed]",
      "text/plain": [
       "<Figure size 432x288 with 1 Axes>"
      ]
     },
     "metadata": {
      "needs_background": "light"
     },
     "output_type": "display_data"
    },
    {
     "data": {
      "image/png": "[encoded data removed]",
      "text/plain": [
       "<Figure size 432x288 with 1 Axes>"
      ]
     },
     "metadata": {
      "needs_background": "light"
     },
     "output_type": "display_data"
    },
    {
     "data": {
      "application/javascript": [
       "\n",
       "            setTimeout(function() {\n",
       "                var nbb_cell_id = 122;\n",
       "                var nbb_unformatted_code = \"# qqplots for each groups length of stay\\nqqplot(e_minor_age_1.stay, line=\\\"s\\\")\\nplt.show()\\nqqplot(e_minor_age_2.stay, line=\\\"s\\\")\\nplt.show()\\nqqplot(e_minor_age_3.stay, line=\\\"s\\\")\\nplt.show()\\nqqplot(e_minor_age_4.stay, line=\\\"s\\\")\\nplt.show()\";\n",
       "                var nbb_formatted_code = \"# qqplots for each groups length of stay\\nqqplot(e_minor_age_1.stay, line=\\\"s\\\")\\nplt.show()\\nqqplot(e_minor_age_2.stay, line=\\\"s\\\")\\nplt.show()\\nqqplot(e_minor_age_3.stay, line=\\\"s\\\")\\nplt.show()\\nqqplot(e_minor_age_4.stay, line=\\\"s\\\")\\nplt.show()\";\n",
       "                var nbb_cells = Jupyter.notebook.get_cells();\n",
       "                for (var i = 0; i < nbb_cells.length; ++i) {\n",
       "                    if (nbb_cells[i].input_prompt_number == nbb_cell_id) {\n",
       "                        if (nbb_cells[i].get_text() == nbb_unformatted_code) {\n",
       "                             nbb_cells[i].set_text(nbb_formatted_code);\n",
       "                        }\n",
       "                        break;\n",
       "                    }\n",
       "                }\n",
       "            }, 500);\n",
       "            "
      ],
      "text/plain": [
       "<IPython.core.display.Javascript object>"
      ]
     },
     "metadata": {},
     "output_type": "display_data"
    },
    {
     "data": {
      "application/javascript": [
       "\n",
       "            setTimeout(function() {\n",
       "                var nbb_cell_id = 122;\n",
       "                var nbb_unformatted_code = \"# qqplots for each groups length of stay\\nqqplot(e_minor_age_1.stay, line=\\\"s\\\")\\nplt.show()\\nqqplot(e_minor_age_2.stay, line=\\\"s\\\")\\nplt.show()\\nqqplot(e_minor_age_3.stay, line=\\\"s\\\")\\nplt.show()\\nqqplot(e_minor_age_4.stay, line=\\\"s\\\")\\nplt.show()\";\n",
       "                var nbb_formatted_code = \"# qqplots for each groups length of stay\\nqqplot(e_minor_age_1.stay, line=\\\"s\\\")\\nplt.show()\\nqqplot(e_minor_age_2.stay, line=\\\"s\\\")\\nplt.show()\\nqqplot(e_minor_age_3.stay, line=\\\"s\\\")\\nplt.show()\\nqqplot(e_minor_age_4.stay, line=\\\"s\\\")\\nplt.show()\";\n",
       "                var nbb_cells = Jupyter.notebook.get_cells();\n",
       "                for (var i = 0; i < nbb_cells.length; ++i) {\n",
       "                    if (nbb_cells[i].input_prompt_number == nbb_cell_id) {\n",
       "                        if (nbb_cells[i].get_text() == nbb_unformatted_code) {\n",
       "                             nbb_cells[i].set_text(nbb_formatted_code);\n",
       "                        }\n",
       "                        break;\n",
       "                    }\n",
       "                }\n",
       "            }, 500);\n",
       "            "
      ],
      "text/plain": [
       "<IPython.core.display.Javascript object>"
      ]
     },
     "metadata": {},
     "output_type": "display_data"
    }
   ],
   "source": [
    "# qqplots for each groups length of stay\n",
    "qqplot(e_minor_age_1.stay, line=\"s\")\n",
    "plt.show()\n",
    "qqplot(e_minor_age_2.stay, line=\"s\")\n",
    "plt.show()\n",
    "qqplot(e_minor_age_3.stay, line=\"s\")\n",
    "plt.show()\n",
    "qqplot(e_minor_age_4.stay, line=\"s\")\n",
    "plt.show()"
   ]
  },
  {
   "cell_type": "markdown",
   "metadata": {
    "hidden": true
   },
   "source": [
    "**Plot Analysis:** \n",
    "* The qqplots of each age groups length of stay don't appear to follow a very normal distribution. \n",
    "* The bumps at the far side of the plot is due to the max stay value of 100 including all stays of 100 days or more."
   ]
  },
  {
   "cell_type": "markdown",
   "metadata": {
    "heading_collapsed": true,
    "hidden": true
   },
   "source": [
    "### Emergency Moderate"
   ]
  },
  {
   "cell_type": "code",
   "execution_count": 119,
   "metadata": {
    "hidden": true
   },
   "outputs": [
    {
     "data": {
      "application/javascript": [
       "\n",
       "            setTimeout(function() {\n",
       "                var nbb_cell_id = 119;\n",
       "                var nbb_unformatted_code = \"## THESE VARIABLES MUST BE RUN TOGETHER BC P1-P3 ARE REUSED FOR EACH VARIABLE CALCULATION\\n#  find the 1st, 2nd, and 3rd percentiles of the group\\np1 = np.percentile(emergency_moderate.age, 25)\\np2 = np.percentile(emergency_moderate.age, 50)\\np3 = np.percentile(emergency_moderate.age, 75)\\n\\n#  separate group into 4 even groups based on age\\ne_moderate_age_1 = emergency_moderate[emergency_moderate.age < p1]\\ne_moderate_age_2 = emergency_moderate[\\n    (emergency_moderate.age > p1) & (emergency_moderate.age < p2)\\n]\\ne_moderate_age_3 = emergency_moderate[\\n    (emergency_moderate.age > p2) & (emergency_moderate.age < p3)\\n]\\ne_moderate_age_4 = emergency_moderate[emergency_moderate.age > p3]\";\n",
       "                var nbb_formatted_code = \"## THESE VARIABLES MUST BE RUN TOGETHER BC P1-P3 ARE REUSED FOR EACH VARIABLE CALCULATION\\n#  find the 1st, 2nd, and 3rd percentiles of the group\\np1 = np.percentile(emergency_moderate.age, 25)\\np2 = np.percentile(emergency_moderate.age, 50)\\np3 = np.percentile(emergency_moderate.age, 75)\\n\\n#  separate group into 4 even groups based on age\\ne_moderate_age_1 = emergency_moderate[emergency_moderate.age < p1]\\ne_moderate_age_2 = emergency_moderate[\\n    (emergency_moderate.age > p1) & (emergency_moderate.age < p2)\\n]\\ne_moderate_age_3 = emergency_moderate[\\n    (emergency_moderate.age > p2) & (emergency_moderate.age < p3)\\n]\\ne_moderate_age_4 = emergency_moderate[emergency_moderate.age > p3]\";\n",
       "                var nbb_cells = Jupyter.notebook.get_cells();\n",
       "                for (var i = 0; i < nbb_cells.length; ++i) {\n",
       "                    if (nbb_cells[i].input_prompt_number == nbb_cell_id) {\n",
       "                        if (nbb_cells[i].get_text() == nbb_unformatted_code) {\n",
       "                             nbb_cells[i].set_text(nbb_formatted_code);\n",
       "                        }\n",
       "                        break;\n",
       "                    }\n",
       "                }\n",
       "            }, 500);\n",
       "            "
      ],
      "text/plain": [
       "<IPython.core.display.Javascript object>"
      ]
     },
     "metadata": {},
     "output_type": "display_data"
    },
    {
     "data": {
      "application/javascript": [
       "\n",
       "            setTimeout(function() {\n",
       "                var nbb_cell_id = 119;\n",
       "                var nbb_unformatted_code = \"## THESE VARIABLES MUST BE RUN TOGETHER BC P1-P3 ARE REUSED FOR EACH VARIABLE CALCULATION\\n#  find the 1st, 2nd, and 3rd percentiles of the group\\np1 = np.percentile(emergency_moderate.age, 25)\\np2 = np.percentile(emergency_moderate.age, 50)\\np3 = np.percentile(emergency_moderate.age, 75)\\n\\n#  separate group into 4 even groups based on age\\ne_moderate_age_1 = emergency_moderate[emergency_moderate.age < p1]\\ne_moderate_age_2 = emergency_moderate[\\n    (emergency_moderate.age > p1) & (emergency_moderate.age < p2)\\n]\\ne_moderate_age_3 = emergency_moderate[\\n    (emergency_moderate.age > p2) & (emergency_moderate.age < p3)\\n]\\ne_moderate_age_4 = emergency_moderate[emergency_moderate.age > p3]\";\n",
       "                var nbb_formatted_code = \"## THESE VARIABLES MUST BE RUN TOGETHER BC P1-P3 ARE REUSED FOR EACH VARIABLE CALCULATION\\n#  find the 1st, 2nd, and 3rd percentiles of the group\\np1 = np.percentile(emergency_moderate.age, 25)\\np2 = np.percentile(emergency_moderate.age, 50)\\np3 = np.percentile(emergency_moderate.age, 75)\\n\\n#  separate group into 4 even groups based on age\\ne_moderate_age_1 = emergency_moderate[emergency_moderate.age < p1]\\ne_moderate_age_2 = emergency_moderate[\\n    (emergency_moderate.age > p1) & (emergency_moderate.age < p2)\\n]\\ne_moderate_age_3 = emergency_moderate[\\n    (emergency_moderate.age > p2) & (emergency_moderate.age < p3)\\n]\\ne_moderate_age_4 = emergency_moderate[emergency_moderate.age > p3]\";\n",
       "                var nbb_cells = Jupyter.notebook.get_cells();\n",
       "                for (var i = 0; i < nbb_cells.length; ++i) {\n",
       "                    if (nbb_cells[i].input_prompt_number == nbb_cell_id) {\n",
       "                        if (nbb_cells[i].get_text() == nbb_unformatted_code) {\n",
       "                             nbb_cells[i].set_text(nbb_formatted_code);\n",
       "                        }\n",
       "                        break;\n",
       "                    }\n",
       "                }\n",
       "            }, 500);\n",
       "            "
      ],
      "text/plain": [
       "<IPython.core.display.Javascript object>"
      ]
     },
     "metadata": {},
     "output_type": "display_data"
    }
   ],
   "source": [
    "## THESE VARIABLES MUST BE RUN TOGETHER BC P1-P3 ARE REUSED FOR EACH VARIABLE CALCULATION\n",
    "#  find the 1st, 2nd, and 3rd percentiles of the group\n",
    "p1 = np.percentile(emergency_moderate.age, 25)\n",
    "p2 = np.percentile(emergency_moderate.age, 50)\n",
    "p3 = np.percentile(emergency_moderate.age, 75)\n",
    "\n",
    "#  separate group into 4 even groups based on age\n",
    "e_moderate_age_1 = emergency_moderate[emergency_moderate.age < p1]\n",
    "e_moderate_age_2 = emergency_moderate[\n",
    "    (emergency_moderate.age > p1) & (emergency_moderate.age < p2)\n",
    "]\n",
    "e_moderate_age_3 = emergency_moderate[\n",
    "    (emergency_moderate.age > p2) & (emergency_moderate.age < p3)\n",
    "]\n",
    "e_moderate_age_4 = emergency_moderate[emergency_moderate.age > p3]"
   ]
  },
  {
   "cell_type": "code",
   "execution_count": 120,
   "metadata": {
    "hidden": true
   },
   "outputs": [
    {
     "name": "stdout",
     "output_type": "stream",
     "text": [
      "Emergency, Minor, group 1: 15619\n",
      "Emergency, Minor, group 2: 15619\n",
      "Emergency, Minor, group 3: 15619\n",
      "Emergency, Minor, group 1: 15619\n"
     ]
    },
    {
     "data": {
      "application/javascript": [
       "\n",
       "            setTimeout(function() {\n",
       "                var nbb_cell_id = 120;\n",
       "                var nbb_unformatted_code = \"#  check group sizes\\nprint(\\n    \\\"Emergency, Minor, group 1: \\\"\\n    + str(emergency_moderate[emergency_moderate.age < p1].shape[0])\\n)\\nprint(\\n    \\\"Emergency, Minor, group 2: \\\"\\n    + str(\\n        emergency_moderate[(emergency_moderate.age > p1) & (emergency_moderate.age < p2)].shape[\\n            0\\n        ]\\n    )\\n)\\nprint(\\n    \\\"Emergency, Minor, group 3: \\\"\\n    + str(\\n        emergency_moderate[(emergency_moderate.age > p2) & (emergency_moderate.age < p3)].shape[\\n            0\\n        ]\\n    )\\n)\\nprint(\\n    \\\"Emergency, Minor, group 1: \\\"\\n    + str(emergency_moderate[emergency_moderate.age > p3].shape[0])\\n)\";\n",
       "                var nbb_formatted_code = \"#  check group sizes\\nprint(\\n    \\\"Emergency, Minor, group 1: \\\"\\n    + str(emergency_moderate[emergency_moderate.age < p1].shape[0])\\n)\\nprint(\\n    \\\"Emergency, Minor, group 2: \\\"\\n    + str(\\n        emergency_moderate[\\n            (emergency_moderate.age > p1) & (emergency_moderate.age < p2)\\n        ].shape[0]\\n    )\\n)\\nprint(\\n    \\\"Emergency, Minor, group 3: \\\"\\n    + str(\\n        emergency_moderate[\\n            (emergency_moderate.age > p2) & (emergency_moderate.age < p3)\\n        ].shape[0]\\n    )\\n)\\nprint(\\n    \\\"Emergency, Minor, group 1: \\\"\\n    + str(emergency_moderate[emergency_moderate.age > p3].shape[0])\\n)\";\n",
       "                var nbb_cells = Jupyter.notebook.get_cells();\n",
       "                for (var i = 0; i < nbb_cells.length; ++i) {\n",
       "                    if (nbb_cells[i].input_prompt_number == nbb_cell_id) {\n",
       "                        if (nbb_cells[i].get_text() == nbb_unformatted_code) {\n",
       "                             nbb_cells[i].set_text(nbb_formatted_code);\n",
       "                        }\n",
       "                        break;\n",
       "                    }\n",
       "                }\n",
       "            }, 500);\n",
       "            "
      ],
      "text/plain": [
       "<IPython.core.display.Javascript object>"
      ]
     },
     "metadata": {},
     "output_type": "display_data"
    },
    {
     "data": {
      "application/javascript": [
       "\n",
       "            setTimeout(function() {\n",
       "                var nbb_cell_id = 120;\n",
       "                var nbb_unformatted_code = \"#  check group sizes\\nprint(\\n    \\\"Emergency, Minor, group 1: \\\"\\n    + str(emergency_moderate[emergency_moderate.age < p1].shape[0])\\n)\\nprint(\\n    \\\"Emergency, Minor, group 2: \\\"\\n    + str(\\n        emergency_moderate[(emergency_moderate.age > p1) & (emergency_moderate.age < p2)].shape[\\n            0\\n        ]\\n    )\\n)\\nprint(\\n    \\\"Emergency, Minor, group 3: \\\"\\n    + str(\\n        emergency_moderate[(emergency_moderate.age > p2) & (emergency_moderate.age < p3)].shape[\\n            0\\n        ]\\n    )\\n)\\nprint(\\n    \\\"Emergency, Minor, group 1: \\\"\\n    + str(emergency_moderate[emergency_moderate.age > p3].shape[0])\\n)\";\n",
       "                var nbb_formatted_code = \"#  check group sizes\\nprint(\\n    \\\"Emergency, Minor, group 1: \\\"\\n    + str(emergency_moderate[emergency_moderate.age < p1].shape[0])\\n)\\nprint(\\n    \\\"Emergency, Minor, group 2: \\\"\\n    + str(\\n        emergency_moderate[\\n            (emergency_moderate.age > p1) & (emergency_moderate.age < p2)\\n        ].shape[0]\\n    )\\n)\\nprint(\\n    \\\"Emergency, Minor, group 3: \\\"\\n    + str(\\n        emergency_moderate[\\n            (emergency_moderate.age > p2) & (emergency_moderate.age < p3)\\n        ].shape[0]\\n    )\\n)\\nprint(\\n    \\\"Emergency, Minor, group 1: \\\"\\n    + str(emergency_moderate[emergency_moderate.age > p3].shape[0])\\n)\";\n",
       "                var nbb_cells = Jupyter.notebook.get_cells();\n",
       "                for (var i = 0; i < nbb_cells.length; ++i) {\n",
       "                    if (nbb_cells[i].input_prompt_number == nbb_cell_id) {\n",
       "                        if (nbb_cells[i].get_text() == nbb_unformatted_code) {\n",
       "                             nbb_cells[i].set_text(nbb_formatted_code);\n",
       "                        }\n",
       "                        break;\n",
       "                    }\n",
       "                }\n",
       "            }, 500);\n",
       "            "
      ],
      "text/plain": [
       "<IPython.core.display.Javascript object>"
      ]
     },
     "metadata": {},
     "output_type": "display_data"
    }
   ],
   "source": [
    "#  check group sizes\n",
    "print(\n",
    "    \"Emergency, Moderate, group 1: \"\n",
    "    + str(emergency_moderate[emergency_moderate.age < p1].shape[0])\n",
    ")\n",
    "print(\n",
    "    \"Emergency, Moderate, group 2: \"\n",
    "    + str(\n",
    "        emergency_moderate[\n",
    "            (emergency_moderate.age > p1) & (emergency_moderate.age < p2)\n",
    "        ].shape[0]\n",
    "    )\n",
    ")\n",
    "print(\n",
    "    \"Emergency, Moderate, group 3: \"\n",
    "    + str(\n",
    "        emergency_moderate[\n",
    "            (emergency_moderate.age > p2) & (emergency_moderate.age < p3)\n",
    "        ].shape[0]\n",
    "    )\n",
    ")\n",
    "print(\n",
    "    \"Emergency, Moderate, group 1: \"\n",
    "    + str(emergency_moderate[emergency_moderate.age > p3].shape[0])\n",
    ")"
   ]
  },
  {
   "cell_type": "code",
   "execution_count": 126,
   "metadata": {
    "hidden": true
   },
   "outputs": [
    {
     "data": {
      "image/png": "[encoded data removed]",
      "text/plain": [
       "<Figure size 432x288 with 1 Axes>"
      ]
     },
     "metadata": {
      "needs_background": "light"
     },
     "output_type": "display_data"
    },
    {
     "data": {
      "application/javascript": [
       "\n",
       "            setTimeout(function() {\n",
       "                var nbb_cell_id = 126;\n",
       "                var nbb_unformatted_code = \"#  overlay of each groups distribution of stay length\\nsns.distplot(e_moderate_age_1.stay)\\n# plt.show()\\nsns.distplot(e_moderate_age_2.stay)\\n# plt.show()\\nsns.distplot(e_moderate_age_3.stay)\\n#plt.show()\\nsns.distplot(e_moderate_age_4.stay)\\nplt.show()\";\n",
       "                var nbb_formatted_code = \"#  overlay of each groups distribution of stay length\\nsns.distplot(e_moderate_age_1.stay)\\n# plt.show()\\nsns.distplot(e_moderate_age_2.stay)\\n# plt.show()\\nsns.distplot(e_moderate_age_3.stay)\\n# plt.show()\\nsns.distplot(e_moderate_age_4.stay)\\nplt.show()\";\n",
       "                var nbb_cells = Jupyter.notebook.get_cells();\n",
       "                for (var i = 0; i < nbb_cells.length; ++i) {\n",
       "                    if (nbb_cells[i].input_prompt_number == nbb_cell_id) {\n",
       "                        if (nbb_cells[i].get_text() == nbb_unformatted_code) {\n",
       "                             nbb_cells[i].set_text(nbb_formatted_code);\n",
       "                        }\n",
       "                        break;\n",
       "                    }\n",
       "                }\n",
       "            }, 500);\n",
       "            "
      ],
      "text/plain": [
       "<IPython.core.display.Javascript object>"
      ]
     },
     "metadata": {},
     "output_type": "display_data"
    },
    {
     "data": {
      "application/javascript": [
       "\n",
       "            setTimeout(function() {\n",
       "                var nbb_cell_id = 126;\n",
       "                var nbb_unformatted_code = \"#  overlay of each groups distribution of stay length\\nsns.distplot(e_moderate_age_1.stay)\\n# plt.show()\\nsns.distplot(e_moderate_age_2.stay)\\n# plt.show()\\nsns.distplot(e_moderate_age_3.stay)\\n#plt.show()\\nsns.distplot(e_moderate_age_4.stay)\\nplt.show()\";\n",
       "                var nbb_formatted_code = \"#  overlay of each groups distribution of stay length\\nsns.distplot(e_moderate_age_1.stay)\\n# plt.show()\\nsns.distplot(e_moderate_age_2.stay)\\n# plt.show()\\nsns.distplot(e_moderate_age_3.stay)\\n# plt.show()\\nsns.distplot(e_moderate_age_4.stay)\\nplt.show()\";\n",
       "                var nbb_cells = Jupyter.notebook.get_cells();\n",
       "                for (var i = 0; i < nbb_cells.length; ++i) {\n",
       "                    if (nbb_cells[i].input_prompt_number == nbb_cell_id) {\n",
       "                        if (nbb_cells[i].get_text() == nbb_unformatted_code) {\n",
       "                             nbb_cells[i].set_text(nbb_formatted_code);\n",
       "                        }\n",
       "                        break;\n",
       "                    }\n",
       "                }\n",
       "            }, 500);\n",
       "            "
      ],
      "text/plain": [
       "<IPython.core.display.Javascript object>"
      ]
     },
     "metadata": {},
     "output_type": "display_data"
    }
   ],
   "source": [
    "#  overlay of each groups distribution of stay length\n",
    "sns.distplot(e_moderate_age_1.stay)\n",
    "# plt.show()\n",
    "sns.distplot(e_moderate_age_2.stay)\n",
    "# plt.show()\n",
    "sns.distplot(e_moderate_age_3.stay)\n",
    "# plt.show()\n",
    "sns.distplot(e_moderate_age_4.stay)\n",
    "plt.show()"
   ]
  },
  {
   "cell_type": "markdown",
   "metadata": {
    "hidden": true
   },
   "source": [
    "**Plot Analysis:**\n",
    "* The youngest age group seems to have a slightly higher incidence of shorter stays\n",
    "* the incidence of shorter stays seems to slightly decrease at higher age groups\n",
    "* the oldest age group seems to have an incidence of the longest lengths of stay by around 30%\n",
    "* the distributions and their right skew characteristics are consistent to that of the last groups; qqplots shouldn't be necessary"
   ]
  },
  {
   "cell_type": "markdown",
   "metadata": {
    "heading_collapsed": true,
    "hidden": true
   },
   "source": [
    "### Emergency Extreme"
   ]
  },
  {
   "cell_type": "code",
   "execution_count": 127,
   "metadata": {
    "hidden": true
   },
   "outputs": [
    {
     "data": {
      "application/javascript": [
       "\n",
       "            setTimeout(function() {\n",
       "                var nbb_cell_id = 127;\n",
       "                var nbb_unformatted_code = \"## THESE VARIABLES MUST BE RUN TOGETHER BC P1-P3 ARE REUSED FOR EACH VARIABLE CALCULATION\\n#  find the 1st, 2nd, and 3rd percentiles of the group\\np1 = np.percentile(emergency_extreme.age, 25)\\np2 = np.percentile(emergency_extreme.age, 50)\\np3 = np.percentile(emergency_extreme.age, 75)\\n\\n#  separate group into 4 even groups based on age\\ne_extreme_age_1 = emergency_extreme[emergency_extreme.age < p1]\\ne_extreme_age_2 = emergency_extreme[\\n    (emergency_extreme.age > p1) & (emergency_extreme.age < p2)\\n]\\ne_extreme_age_3 = emergency_extreme[\\n    (emergency_extreme.age > p2) & (emergency_extreme.age < p3)\\n]\\ne_extreme_age_4 = emergency_extreme[emergency_extreme.age > p3]\";\n",
       "                var nbb_formatted_code = \"## THESE VARIABLES MUST BE RUN TOGETHER BC P1-P3 ARE REUSED FOR EACH VARIABLE CALCULATION\\n#  find the 1st, 2nd, and 3rd percentiles of the group\\np1 = np.percentile(emergency_extreme.age, 25)\\np2 = np.percentile(emergency_extreme.age, 50)\\np3 = np.percentile(emergency_extreme.age, 75)\\n\\n#  separate group into 4 even groups based on age\\ne_extreme_age_1 = emergency_extreme[emergency_extreme.age < p1]\\ne_extreme_age_2 = emergency_extreme[\\n    (emergency_extreme.age > p1) & (emergency_extreme.age < p2)\\n]\\ne_extreme_age_3 = emergency_extreme[\\n    (emergency_extreme.age > p2) & (emergency_extreme.age < p3)\\n]\\ne_extreme_age_4 = emergency_extreme[emergency_extreme.age > p3]\";\n",
       "                var nbb_cells = Jupyter.notebook.get_cells();\n",
       "                for (var i = 0; i < nbb_cells.length; ++i) {\n",
       "                    if (nbb_cells[i].input_prompt_number == nbb_cell_id) {\n",
       "                        if (nbb_cells[i].get_text() == nbb_unformatted_code) {\n",
       "                             nbb_cells[i].set_text(nbb_formatted_code);\n",
       "                        }\n",
       "                        break;\n",
       "                    }\n",
       "                }\n",
       "            }, 500);\n",
       "            "
      ],
      "text/plain": [
       "<IPython.core.display.Javascript object>"
      ]
     },
     "metadata": {},
     "output_type": "display_data"
    },
    {
     "data": {
      "application/javascript": [
       "\n",
       "            setTimeout(function() {\n",
       "                var nbb_cell_id = 127;\n",
       "                var nbb_unformatted_code = \"## THESE VARIABLES MUST BE RUN TOGETHER BC P1-P3 ARE REUSED FOR EACH VARIABLE CALCULATION\\n#  find the 1st, 2nd, and 3rd percentiles of the group\\np1 = np.percentile(emergency_extreme.age, 25)\\np2 = np.percentile(emergency_extreme.age, 50)\\np3 = np.percentile(emergency_extreme.age, 75)\\n\\n#  separate group into 4 even groups based on age\\ne_extreme_age_1 = emergency_extreme[emergency_extreme.age < p1]\\ne_extreme_age_2 = emergency_extreme[\\n    (emergency_extreme.age > p1) & (emergency_extreme.age < p2)\\n]\\ne_extreme_age_3 = emergency_extreme[\\n    (emergency_extreme.age > p2) & (emergency_extreme.age < p3)\\n]\\ne_extreme_age_4 = emergency_extreme[emergency_extreme.age > p3]\";\n",
       "                var nbb_formatted_code = \"## THESE VARIABLES MUST BE RUN TOGETHER BC P1-P3 ARE REUSED FOR EACH VARIABLE CALCULATION\\n#  find the 1st, 2nd, and 3rd percentiles of the group\\np1 = np.percentile(emergency_extreme.age, 25)\\np2 = np.percentile(emergency_extreme.age, 50)\\np3 = np.percentile(emergency_extreme.age, 75)\\n\\n#  separate group into 4 even groups based on age\\ne_extreme_age_1 = emergency_extreme[emergency_extreme.age < p1]\\ne_extreme_age_2 = emergency_extreme[\\n    (emergency_extreme.age > p1) & (emergency_extreme.age < p2)\\n]\\ne_extreme_age_3 = emergency_extreme[\\n    (emergency_extreme.age > p2) & (emergency_extreme.age < p3)\\n]\\ne_extreme_age_4 = emergency_extreme[emergency_extreme.age > p3]\";\n",
       "                var nbb_cells = Jupyter.notebook.get_cells();\n",
       "                for (var i = 0; i < nbb_cells.length; ++i) {\n",
       "                    if (nbb_cells[i].input_prompt_number == nbb_cell_id) {\n",
       "                        if (nbb_cells[i].get_text() == nbb_unformatted_code) {\n",
       "                             nbb_cells[i].set_text(nbb_formatted_code);\n",
       "                        }\n",
       "                        break;\n",
       "                    }\n",
       "                }\n",
       "            }, 500);\n",
       "            "
      ],
      "text/plain": [
       "<IPython.core.display.Javascript object>"
      ]
     },
     "metadata": {},
     "output_type": "display_data"
    }
   ],
   "source": [
    "## THESE VARIABLES MUST BE RUN TOGETHER BC P1-P3 ARE REUSED FOR EACH VARIABLE CALCULATION\n",
    "#  find the 1st, 2nd, and 3rd percentiles of the group\n",
    "p1 = np.percentile(emergency_extreme.age, 25)\n",
    "p2 = np.percentile(emergency_extreme.age, 50)\n",
    "p3 = np.percentile(emergency_extreme.age, 75)\n",
    "\n",
    "#  separate group into 4 even groups based on age\n",
    "e_extreme_age_1 = emergency_extreme[emergency_extreme.age < p1]\n",
    "e_extreme_age_2 = emergency_extreme[\n",
    "    (emergency_extreme.age > p1) & (emergency_extreme.age < p2)\n",
    "]\n",
    "e_extreme_age_3 = emergency_extreme[\n",
    "    (emergency_extreme.age > p2) & (emergency_extreme.age < p3)\n",
    "]\n",
    "e_extreme_age_4 = emergency_extreme[emergency_extreme.age > p3]"
   ]
  },
  {
   "cell_type": "code",
   "execution_count": 128,
   "metadata": {
    "hidden": true
   },
   "outputs": [
    {
     "name": "stdout",
     "output_type": "stream",
     "text": [
      "Emergency, Extreme, group 1: 4961\n",
      "Emergency, Extreme, group 2: 4961\n",
      "Emergency, Extreme, group 3: 4961\n",
      "Emergency, Extreme, group 1: 4961\n"
     ]
    },
    {
     "data": {
      "application/javascript": [
       "\n",
       "            setTimeout(function() {\n",
       "                var nbb_cell_id = 128;\n",
       "                var nbb_unformatted_code = \"#  check group sizes\\nprint(\\n    \\\"Emergency, Extreme, group 1: \\\"\\n    + str(emergency_extreme[emergency_extreme.age < p1].shape[0])\\n)\\nprint(\\n    \\\"Emergency, Extreme, group 2: \\\"\\n    + str(\\n        emergency_extreme[\\n            (emergency_extreme.age > p1) & (emergency_extreme.age < p2)\\n        ].shape[0]\\n    )\\n)\\nprint(\\n    \\\"Emergency, Extreme, group 3: \\\"\\n    + str(\\n        emergency_extreme[\\n            (emergency_extreme.age > p2) & (emergency_extreme.age < p3)\\n        ].shape[0]\\n    )\\n)\\nprint(\\n    \\\"Emergency, Extreme, group 1: \\\"\\n    + str(emergency_extreme[emergency_extreme.age > p3].shape[0])\\n)\";\n",
       "                var nbb_formatted_code = \"#  check group sizes\\nprint(\\n    \\\"Emergency, Extreme, group 1: \\\"\\n    + str(emergency_extreme[emergency_extreme.age < p1].shape[0])\\n)\\nprint(\\n    \\\"Emergency, Extreme, group 2: \\\"\\n    + str(\\n        emergency_extreme[\\n            (emergency_extreme.age > p1) & (emergency_extreme.age < p2)\\n        ].shape[0]\\n    )\\n)\\nprint(\\n    \\\"Emergency, Extreme, group 3: \\\"\\n    + str(\\n        emergency_extreme[\\n            (emergency_extreme.age > p2) & (emergency_extreme.age < p3)\\n        ].shape[0]\\n    )\\n)\\nprint(\\n    \\\"Emergency, Extreme, group 1: \\\"\\n    + str(emergency_extreme[emergency_extreme.age > p3].shape[0])\\n)\";\n",
       "                var nbb_cells = Jupyter.notebook.get_cells();\n",
       "                for (var i = 0; i < nbb_cells.length; ++i) {\n",
       "                    if (nbb_cells[i].input_prompt_number == nbb_cell_id) {\n",
       "                        if (nbb_cells[i].get_text() == nbb_unformatted_code) {\n",
       "                             nbb_cells[i].set_text(nbb_formatted_code);\n",
       "                        }\n",
       "                        break;\n",
       "                    }\n",
       "                }\n",
       "            }, 500);\n",
       "            "
      ],
      "text/plain": [
       "<IPython.core.display.Javascript object>"
      ]
     },
     "metadata": {},
     "output_type": "display_data"
    },
    {
     "data": {
      "application/javascript": [
       "\n",
       "            setTimeout(function() {\n",
       "                var nbb_cell_id = 128;\n",
       "                var nbb_unformatted_code = \"#  check group sizes\\nprint(\\n    \\\"Emergency, Extreme, group 1: \\\"\\n    + str(emergency_extreme[emergency_extreme.age < p1].shape[0])\\n)\\nprint(\\n    \\\"Emergency, Extreme, group 2: \\\"\\n    + str(\\n        emergency_extreme[\\n            (emergency_extreme.age > p1) & (emergency_extreme.age < p2)\\n        ].shape[0]\\n    )\\n)\\nprint(\\n    \\\"Emergency, Extreme, group 3: \\\"\\n    + str(\\n        emergency_extreme[\\n            (emergency_extreme.age > p2) & (emergency_extreme.age < p3)\\n        ].shape[0]\\n    )\\n)\\nprint(\\n    \\\"Emergency, Extreme, group 1: \\\"\\n    + str(emergency_extreme[emergency_extreme.age > p3].shape[0])\\n)\";\n",
       "                var nbb_formatted_code = \"#  check group sizes\\nprint(\\n    \\\"Emergency, Extreme, group 1: \\\"\\n    + str(emergency_extreme[emergency_extreme.age < p1].shape[0])\\n)\\nprint(\\n    \\\"Emergency, Extreme, group 2: \\\"\\n    + str(\\n        emergency_extreme[\\n            (emergency_extreme.age > p1) & (emergency_extreme.age < p2)\\n        ].shape[0]\\n    )\\n)\\nprint(\\n    \\\"Emergency, Extreme, group 3: \\\"\\n    + str(\\n        emergency_extreme[\\n            (emergency_extreme.age > p2) & (emergency_extreme.age < p3)\\n        ].shape[0]\\n    )\\n)\\nprint(\\n    \\\"Emergency, Extreme, group 1: \\\"\\n    + str(emergency_extreme[emergency_extreme.age > p3].shape[0])\\n)\";\n",
       "                var nbb_cells = Jupyter.notebook.get_cells();\n",
       "                for (var i = 0; i < nbb_cells.length; ++i) {\n",
       "                    if (nbb_cells[i].input_prompt_number == nbb_cell_id) {\n",
       "                        if (nbb_cells[i].get_text() == nbb_unformatted_code) {\n",
       "                             nbb_cells[i].set_text(nbb_formatted_code);\n",
       "                        }\n",
       "                        break;\n",
       "                    }\n",
       "                }\n",
       "            }, 500);\n",
       "            "
      ],
      "text/plain": [
       "<IPython.core.display.Javascript object>"
      ]
     },
     "metadata": {},
     "output_type": "display_data"
    }
   ],
   "source": [
    "#  check group sizes\n",
    "print(\n",
    "    \"Emergency, Extreme, group 1: \"\n",
    "    + str(emergency_extreme[emergency_extreme.age < p1].shape[0])\n",
    ")\n",
    "print(\n",
    "    \"Emergency, Extreme, group 2: \"\n",
    "    + str(\n",
    "        emergency_extreme[\n",
    "            (emergency_extreme.age > p1) & (emergency_extreme.age < p2)\n",
    "        ].shape[0]\n",
    "    )\n",
    ")\n",
    "print(\n",
    "    \"Emergency, Extreme, group 3: \"\n",
    "    + str(\n",
    "        emergency_extreme[\n",
    "            (emergency_extreme.age > p2) & (emergency_extreme.age < p3)\n",
    "        ].shape[0]\n",
    "    )\n",
    ")\n",
    "print(\n",
    "    \"Emergency, Extreme, group 1: \"\n",
    "    + str(emergency_extreme[emergency_extreme.age > p3].shape[0])\n",
    ")"
   ]
  },
  {
   "cell_type": "code",
   "execution_count": 129,
   "metadata": {
    "hidden": true,
    "scrolled": true
   },
   "outputs": [
    {
     "data": {
      "image/png": "[encoded data removed]",
      "text/plain": [
       "<Figure size 432x288 with 1 Axes>"
      ]
     },
     "metadata": {
      "needs_background": "light"
     },
     "output_type": "display_data"
    },
    {
     "data": {
      "application/javascript": [
       "\n",
       "            setTimeout(function() {\n",
       "                var nbb_cell_id = 129;\n",
       "                var nbb_unformatted_code = \"#  overlay of each groups distribution of stay length\\nsns.distplot(e_extreme_age_1.stay)\\n# plt.show()\\nsns.distplot(e_extreme_age_2.stay)\\n# plt.show()\\nsns.distplot(e_extreme_age_3.stay)\\n# plt.show()\\nsns.distplot(e_extreme_age_4.stay)\\nplt.show()\";\n",
       "                var nbb_formatted_code = \"#  overlay of each groups distribution of stay length\\nsns.distplot(e_extreme_age_1.stay)\\n# plt.show()\\nsns.distplot(e_extreme_age_2.stay)\\n# plt.show()\\nsns.distplot(e_extreme_age_3.stay)\\n# plt.show()\\nsns.distplot(e_extreme_age_4.stay)\\nplt.show()\";\n",
       "                var nbb_cells = Jupyter.notebook.get_cells();\n",
       "                for (var i = 0; i < nbb_cells.length; ++i) {\n",
       "                    if (nbb_cells[i].input_prompt_number == nbb_cell_id) {\n",
       "                        if (nbb_cells[i].get_text() == nbb_unformatted_code) {\n",
       "                             nbb_cells[i].set_text(nbb_formatted_code);\n",
       "                        }\n",
       "                        break;\n",
       "                    }\n",
       "                }\n",
       "            }, 500);\n",
       "            "
      ],
      "text/plain": [
       "<IPython.core.display.Javascript object>"
      ]
     },
     "metadata": {},
     "output_type": "display_data"
    },
    {
     "data": {
      "application/javascript": [
       "\n",
       "            setTimeout(function() {\n",
       "                var nbb_cell_id = 129;\n",
       "                var nbb_unformatted_code = \"#  overlay of each groups distribution of stay length\\nsns.distplot(e_extreme_age_1.stay)\\n# plt.show()\\nsns.distplot(e_extreme_age_2.stay)\\n# plt.show()\\nsns.distplot(e_extreme_age_3.stay)\\n# plt.show()\\nsns.distplot(e_extreme_age_4.stay)\\nplt.show()\";\n",
       "                var nbb_formatted_code = \"#  overlay of each groups distribution of stay length\\nsns.distplot(e_extreme_age_1.stay)\\n# plt.show()\\nsns.distplot(e_extreme_age_2.stay)\\n# plt.show()\\nsns.distplot(e_extreme_age_3.stay)\\n# plt.show()\\nsns.distplot(e_extreme_age_4.stay)\\nplt.show()\";\n",
       "                var nbb_cells = Jupyter.notebook.get_cells();\n",
       "                for (var i = 0; i < nbb_cells.length; ++i) {\n",
       "                    if (nbb_cells[i].input_prompt_number == nbb_cell_id) {\n",
       "                        if (nbb_cells[i].get_text() == nbb_unformatted_code) {\n",
       "                             nbb_cells[i].set_text(nbb_formatted_code);\n",
       "                        }\n",
       "                        break;\n",
       "                    }\n",
       "                }\n",
       "            }, 500);\n",
       "            "
      ],
      "text/plain": [
       "<IPython.core.display.Javascript object>"
      ]
     },
     "metadata": {},
     "output_type": "display_data"
    }
   ],
   "source": [
    "#  overlay of each groups distribution of stay length\n",
    "sns.distplot(e_extreme_age_1.stay)\n",
    "# plt.show()\n",
    "sns.distplot(e_extreme_age_2.stay)\n",
    "# plt.show()\n",
    "sns.distplot(e_extreme_age_3.stay)\n",
    "# plt.show()\n",
    "sns.distplot(e_extreme_age_4.stay)\n",
    "plt.show()"
   ]
  },
  {
   "cell_type": "markdown",
   "metadata": {
    "hidden": true
   },
   "source": [
    "**Plot Analysis:**\n",
    "* the same pattern of inverse incidence seen in the last plot seems to be even more extreme in this case\n",
    "* as the age group shifts from lower to higher, the number of shorter stays decreases as longer stays increase"
   ]
  },
  {
   "cell_type": "markdown",
   "metadata": {
    "heading_collapsed": true,
    "hidden": true
   },
   "source": [
    "## Trauma"
   ]
  },
  {
   "cell_type": "markdown",
   "metadata": {
    "heading_collapsed": true,
    "hidden": true
   },
   "source": [
    "### Trauma Minor"
   ]
  },
  {
   "cell_type": "code",
   "execution_count": 130,
   "metadata": {
    "hidden": true
   },
   "outputs": [
    {
     "data": {
      "application/javascript": [
       "\n",
       "            setTimeout(function() {\n",
       "                var nbb_cell_id = 130;\n",
       "                var nbb_unformatted_code = \"## THESE VARIABLES MUST BE RUN TOGETHER BC P1-P3 ARE REUSED FOR EACH VARIABLE CALCULATION\\n#  find the 1st, 2nd, and 3rd percentiles of the group\\np1 = np.percentile(trauma_minor.age, 25)\\np2 = np.percentile(trauma_minor.age, 50)\\np3 = np.percentile(trauma_minor.age, 75)\\n\\n#  separate group into 4 even groups based on age\\nt_minor_age_1 = trauma_minor[trauma_minor.age < p1]\\nt_minor_age_2 = trauma_minor[(trauma_minor.age > p1) & (trauma_minor.age < p2)]\\nt_minor_age_3 = trauma_minor[(trauma_minor.age > p2) & (trauma_minor.age < p3)]\\nt_minor_age_4 = trauma_minor[trauma_minor.age > p3]\";\n",
       "                var nbb_formatted_code = \"## THESE VARIABLES MUST BE RUN TOGETHER BC P1-P3 ARE REUSED FOR EACH VARIABLE CALCULATION\\n#  find the 1st, 2nd, and 3rd percentiles of the group\\np1 = np.percentile(trauma_minor.age, 25)\\np2 = np.percentile(trauma_minor.age, 50)\\np3 = np.percentile(trauma_minor.age, 75)\\n\\n#  separate group into 4 even groups based on age\\nt_minor_age_1 = trauma_minor[trauma_minor.age < p1]\\nt_minor_age_2 = trauma_minor[(trauma_minor.age > p1) & (trauma_minor.age < p2)]\\nt_minor_age_3 = trauma_minor[(trauma_minor.age > p2) & (trauma_minor.age < p3)]\\nt_minor_age_4 = trauma_minor[trauma_minor.age > p3]\";\n",
       "                var nbb_cells = Jupyter.notebook.get_cells();\n",
       "                for (var i = 0; i < nbb_cells.length; ++i) {\n",
       "                    if (nbb_cells[i].input_prompt_number == nbb_cell_id) {\n",
       "                        if (nbb_cells[i].get_text() == nbb_unformatted_code) {\n",
       "                             nbb_cells[i].set_text(nbb_formatted_code);\n",
       "                        }\n",
       "                        break;\n",
       "                    }\n",
       "                }\n",
       "            }, 500);\n",
       "            "
      ],
      "text/plain": [
       "<IPython.core.display.Javascript object>"
      ]
     },
     "metadata": {},
     "output_type": "display_data"
    },
    {
     "data": {
      "application/javascript": [
       "\n",
       "            setTimeout(function() {\n",
       "                var nbb_cell_id = 130;\n",
       "                var nbb_unformatted_code = \"## THESE VARIABLES MUST BE RUN TOGETHER BC P1-P3 ARE REUSED FOR EACH VARIABLE CALCULATION\\n#  find the 1st, 2nd, and 3rd percentiles of the group\\np1 = np.percentile(trauma_minor.age, 25)\\np2 = np.percentile(trauma_minor.age, 50)\\np3 = np.percentile(trauma_minor.age, 75)\\n\\n#  separate group into 4 even groups based on age\\nt_minor_age_1 = trauma_minor[trauma_minor.age < p1]\\nt_minor_age_2 = trauma_minor[(trauma_minor.age > p1) & (trauma_minor.age < p2)]\\nt_minor_age_3 = trauma_minor[(trauma_minor.age > p2) & (trauma_minor.age < p3)]\\nt_minor_age_4 = trauma_minor[trauma_minor.age > p3]\";\n",
       "                var nbb_formatted_code = \"## THESE VARIABLES MUST BE RUN TOGETHER BC P1-P3 ARE REUSED FOR EACH VARIABLE CALCULATION\\n#  find the 1st, 2nd, and 3rd percentiles of the group\\np1 = np.percentile(trauma_minor.age, 25)\\np2 = np.percentile(trauma_minor.age, 50)\\np3 = np.percentile(trauma_minor.age, 75)\\n\\n#  separate group into 4 even groups based on age\\nt_minor_age_1 = trauma_minor[trauma_minor.age < p1]\\nt_minor_age_2 = trauma_minor[(trauma_minor.age > p1) & (trauma_minor.age < p2)]\\nt_minor_age_3 = trauma_minor[(trauma_minor.age > p2) & (trauma_minor.age < p3)]\\nt_minor_age_4 = trauma_minor[trauma_minor.age > p3]\";\n",
       "                var nbb_cells = Jupyter.notebook.get_cells();\n",
       "                for (var i = 0; i < nbb_cells.length; ++i) {\n",
       "                    if (nbb_cells[i].input_prompt_number == nbb_cell_id) {\n",
       "                        if (nbb_cells[i].get_text() == nbb_unformatted_code) {\n",
       "                             nbb_cells[i].set_text(nbb_formatted_code);\n",
       "                        }\n",
       "                        break;\n",
       "                    }\n",
       "                }\n",
       "            }, 500);\n",
       "            "
      ],
      "text/plain": [
       "<IPython.core.display.Javascript object>"
      ]
     },
     "metadata": {},
     "output_type": "display_data"
    }
   ],
   "source": [
    "## THESE VARIABLES MUST BE RUN TOGETHER BC P1-P3 ARE REUSED FOR EACH VARIABLE CALCULATION\n",
    "#  find the 1st, 2nd, and 3rd percentiles of the group\n",
    "p1 = np.percentile(trauma_minor.age, 25)\n",
    "p2 = np.percentile(trauma_minor.age, 50)\n",
    "p3 = np.percentile(trauma_minor.age, 75)\n",
    "\n",
    "#  separate group into 4 even groups based on age\n",
    "t_minor_age_1 = trauma_minor[trauma_minor.age < p1]\n",
    "t_minor_age_2 = trauma_minor[(trauma_minor.age > p1) & (trauma_minor.age < p2)]\n",
    "t_minor_age_3 = trauma_minor[(trauma_minor.age > p2) & (trauma_minor.age < p3)]\n",
    "t_minor_age_4 = trauma_minor[trauma_minor.age > p3]"
   ]
  },
  {
   "cell_type": "code",
   "execution_count": 140,
   "metadata": {
    "hidden": true
   },
   "outputs": [
    {
     "name": "stdout",
     "output_type": "stream",
     "text": [
      "Trauma, Minor, group 1: 9200\n",
      "Trauma, Minor, group 2: 9200\n",
      "Trauma, Minor, group 3: 9200\n",
      "Trauma, Minor, group 1: 9200\n"
     ]
    },
    {
     "data": {
      "application/javascript": [
       "\n",
       "            setTimeout(function() {\n",
       "                var nbb_cell_id = 140;\n",
       "                var nbb_unformatted_code = \"#  check group sizes\\nprint(\\\"Trauma, Minor, group 1: \\\" + str(t_minor_age_1.shape[0]))\\nprint(\\n    \\\"Trauma, Minor, group 2: \\\"\\n    + str(t_minor_age_2.shape[0])\\n)\\nprint(\\n    \\\"Trauma, Minor, group 3: \\\"\\n    + str(t_minor_age_3.shape[0])\\n)\\nprint(\\\"Trauma, Minor, group 1: \\\" + str(t_minor_age_4.shape[0]))\";\n",
       "                var nbb_formatted_code = \"#  check group sizes\\nprint(\\\"Trauma, Minor, group 1: \\\" + str(t_minor_age_1.shape[0]))\\nprint(\\\"Trauma, Minor, group 2: \\\" + str(t_minor_age_2.shape[0]))\\nprint(\\\"Trauma, Minor, group 3: \\\" + str(t_minor_age_3.shape[0]))\\nprint(\\\"Trauma, Minor, group 1: \\\" + str(t_minor_age_4.shape[0]))\";\n",
       "                var nbb_cells = Jupyter.notebook.get_cells();\n",
       "                for (var i = 0; i < nbb_cells.length; ++i) {\n",
       "                    if (nbb_cells[i].input_prompt_number == nbb_cell_id) {\n",
       "                        if (nbb_cells[i].get_text() == nbb_unformatted_code) {\n",
       "                             nbb_cells[i].set_text(nbb_formatted_code);\n",
       "                        }\n",
       "                        break;\n",
       "                    }\n",
       "                }\n",
       "            }, 500);\n",
       "            "
      ],
      "text/plain": [
       "<IPython.core.display.Javascript object>"
      ]
     },
     "metadata": {},
     "output_type": "display_data"
    },
    {
     "data": {
      "application/javascript": [
       "\n",
       "            setTimeout(function() {\n",
       "                var nbb_cell_id = 140;\n",
       "                var nbb_unformatted_code = \"#  check group sizes\\nprint(\\\"Trauma, Minor, group 1: \\\" + str(t_minor_age_1.shape[0]))\\nprint(\\n    \\\"Trauma, Minor, group 2: \\\"\\n    + str(t_minor_age_2.shape[0])\\n)\\nprint(\\n    \\\"Trauma, Minor, group 3: \\\"\\n    + str(t_minor_age_3.shape[0])\\n)\\nprint(\\\"Trauma, Minor, group 1: \\\" + str(t_minor_age_4.shape[0]))\";\n",
       "                var nbb_formatted_code = \"#  check group sizes\\nprint(\\\"Trauma, Minor, group 1: \\\" + str(t_minor_age_1.shape[0]))\\nprint(\\\"Trauma, Minor, group 2: \\\" + str(t_minor_age_2.shape[0]))\\nprint(\\\"Trauma, Minor, group 3: \\\" + str(t_minor_age_3.shape[0]))\\nprint(\\\"Trauma, Minor, group 1: \\\" + str(t_minor_age_4.shape[0]))\";\n",
       "                var nbb_cells = Jupyter.notebook.get_cells();\n",
       "                for (var i = 0; i < nbb_cells.length; ++i) {\n",
       "                    if (nbb_cells[i].input_prompt_number == nbb_cell_id) {\n",
       "                        if (nbb_cells[i].get_text() == nbb_unformatted_code) {\n",
       "                             nbb_cells[i].set_text(nbb_formatted_code);\n",
       "                        }\n",
       "                        break;\n",
       "                    }\n",
       "                }\n",
       "            }, 500);\n",
       "            "
      ],
      "text/plain": [
       "<IPython.core.display.Javascript object>"
      ]
     },
     "metadata": {},
     "output_type": "display_data"
    }
   ],
   "source": [
    "#  check group sizes\n",
    "print(\"Trauma, Minor, group 1: \" + str(t_minor_age_1.shape[0]))\n",
    "print(\"Trauma, Minor, group 2: \" + str(t_minor_age_2.shape[0]))\n",
    "print(\"Trauma, Minor, group 3: \" + str(t_minor_age_3.shape[0]))\n",
    "print(\"Trauma, Minor, group 1: \" + str(t_minor_age_4.shape[0]))"
   ]
  },
  {
   "cell_type": "code",
   "execution_count": 146,
   "metadata": {
    "hidden": true
   },
   "outputs": [
    {
     "data": {
      "image/png": "[encoded data removed]",
      "text/plain": [
       "<Figure size 432x288 with 1 Axes>"
      ]
     },
     "metadata": {
      "needs_background": "light"
     },
     "output_type": "display_data"
    },
    {
     "data": {
      "application/javascript": [
       "\n",
       "            setTimeout(function() {\n",
       "                var nbb_cell_id = 146;\n",
       "                var nbb_unformatted_code = \"#  overlay of each groups distribution of stay length\\nsns.distplot(t_minor_age_1.stay)\\nsns.distplot(t_minor_age_2.stay)\\nsns.distplot(t_minor_age_3.stay)\\nsns.distplot(t_minor_age_4.stay)\\nplt.show()\";\n",
       "                var nbb_formatted_code = \"#  overlay of each groups distribution of stay length\\nsns.distplot(t_minor_age_1.stay)\\nsns.distplot(t_minor_age_2.stay)\\nsns.distplot(t_minor_age_3.stay)\\nsns.distplot(t_minor_age_4.stay)\\nplt.show()\";\n",
       "                var nbb_cells = Jupyter.notebook.get_cells();\n",
       "                for (var i = 0; i < nbb_cells.length; ++i) {\n",
       "                    if (nbb_cells[i].input_prompt_number == nbb_cell_id) {\n",
       "                        if (nbb_cells[i].get_text() == nbb_unformatted_code) {\n",
       "                             nbb_cells[i].set_text(nbb_formatted_code);\n",
       "                        }\n",
       "                        break;\n",
       "                    }\n",
       "                }\n",
       "            }, 500);\n",
       "            "
      ],
      "text/plain": [
       "<IPython.core.display.Javascript object>"
      ]
     },
     "metadata": {},
     "output_type": "display_data"
    },
    {
     "data": {
      "application/javascript": [
       "\n",
       "            setTimeout(function() {\n",
       "                var nbb_cell_id = 146;\n",
       "                var nbb_unformatted_code = \"#  overlay of each groups distribution of stay length\\nsns.distplot(t_minor_age_1.stay)\\nsns.distplot(t_minor_age_2.stay)\\nsns.distplot(t_minor_age_3.stay)\\nsns.distplot(t_minor_age_4.stay)\\nplt.show()\";\n",
       "                var nbb_formatted_code = \"#  overlay of each groups distribution of stay length\\nsns.distplot(t_minor_age_1.stay)\\nsns.distplot(t_minor_age_2.stay)\\nsns.distplot(t_minor_age_3.stay)\\nsns.distplot(t_minor_age_4.stay)\\nplt.show()\";\n",
       "                var nbb_cells = Jupyter.notebook.get_cells();\n",
       "                for (var i = 0; i < nbb_cells.length; ++i) {\n",
       "                    if (nbb_cells[i].input_prompt_number == nbb_cell_id) {\n",
       "                        if (nbb_cells[i].get_text() == nbb_unformatted_code) {\n",
       "                             nbb_cells[i].set_text(nbb_formatted_code);\n",
       "                        }\n",
       "                        break;\n",
       "                    }\n",
       "                }\n",
       "            }, 500);\n",
       "            "
      ],
      "text/plain": [
       "<IPython.core.display.Javascript object>"
      ]
     },
     "metadata": {},
     "output_type": "display_data"
    }
   ],
   "source": [
    "#  overlay of each groups distribution of stay length\n",
    "sns.distplot(t_minor_age_1.stay)\n",
    "sns.distplot(t_minor_age_2.stay)\n",
    "sns.distplot(t_minor_age_3.stay)\n",
    "sns.distplot(t_minor_age_4.stay)\n",
    "plt.show()"
   ]
  },
  {
   "cell_type": "markdown",
   "metadata": {
    "heading_collapsed": true,
    "hidden": true
   },
   "source": [
    "### Trauma Moderate"
   ]
  },
  {
   "cell_type": "code",
   "execution_count": 131,
   "metadata": {
    "hidden": true
   },
   "outputs": [
    {
     "data": {
      "application/javascript": [
       "\n",
       "            setTimeout(function() {\n",
       "                var nbb_cell_id = 131;\n",
       "                var nbb_unformatted_code = \"## THESE VARIABLES MUST BE RUN TOGETHER BC P1-P3 ARE REUSED FOR EACH VARIABLE CALCULATION\\n#  find the 1st, 2nd, and 3rd percentiles of the group\\np1 = np.percentile(trauma_moderate.age, 25)\\np2 = np.percentile(trauma_moderate.age, 50)\\np3 = np.percentile(trauma_moderate.age, 75)\\n\\n#  separate group into 4 even groups based on age\\nt_moderate_age_1 = trauma_moderate[trauma_moderate.age < p1]\\nt_moderate_age_2 = trauma_moderate[(trauma_moderate.age > p1) & (trauma_moderate.age < p2)]\\nt_moderate_age_3 = trauma_moderate[(trauma_moderate.age > p2) & (trauma_moderate.age < p3)]\\nt_moderate_age_4 = trauma_moderate[trauma_moderate.age > p3]\";\n",
       "                var nbb_formatted_code = \"## THESE VARIABLES MUST BE RUN TOGETHER BC P1-P3 ARE REUSED FOR EACH VARIABLE CALCULATION\\n#  find the 1st, 2nd, and 3rd percentiles of the group\\np1 = np.percentile(trauma_moderate.age, 25)\\np2 = np.percentile(trauma_moderate.age, 50)\\np3 = np.percentile(trauma_moderate.age, 75)\\n\\n#  separate group into 4 even groups based on age\\nt_moderate_age_1 = trauma_moderate[trauma_moderate.age < p1]\\nt_moderate_age_2 = trauma_moderate[\\n    (trauma_moderate.age > p1) & (trauma_moderate.age < p2)\\n]\\nt_moderate_age_3 = trauma_moderate[\\n    (trauma_moderate.age > p2) & (trauma_moderate.age < p3)\\n]\\nt_moderate_age_4 = trauma_moderate[trauma_moderate.age > p3]\";\n",
       "                var nbb_cells = Jupyter.notebook.get_cells();\n",
       "                for (var i = 0; i < nbb_cells.length; ++i) {\n",
       "                    if (nbb_cells[i].input_prompt_number == nbb_cell_id) {\n",
       "                        if (nbb_cells[i].get_text() == nbb_unformatted_code) {\n",
       "                             nbb_cells[i].set_text(nbb_formatted_code);\n",
       "                        }\n",
       "                        break;\n",
       "                    }\n",
       "                }\n",
       "            }, 500);\n",
       "            "
      ],
      "text/plain": [
       "<IPython.core.display.Javascript object>"
      ]
     },
     "metadata": {},
     "output_type": "display_data"
    },
    {
     "data": {
      "application/javascript": [
       "\n",
       "            setTimeout(function() {\n",
       "                var nbb_cell_id = 131;\n",
       "                var nbb_unformatted_code = \"## THESE VARIABLES MUST BE RUN TOGETHER BC P1-P3 ARE REUSED FOR EACH VARIABLE CALCULATION\\n#  find the 1st, 2nd, and 3rd percentiles of the group\\np1 = np.percentile(trauma_moderate.age, 25)\\np2 = np.percentile(trauma_moderate.age, 50)\\np3 = np.percentile(trauma_moderate.age, 75)\\n\\n#  separate group into 4 even groups based on age\\nt_moderate_age_1 = trauma_moderate[trauma_moderate.age < p1]\\nt_moderate_age_2 = trauma_moderate[(trauma_moderate.age > p1) & (trauma_moderate.age < p2)]\\nt_moderate_age_3 = trauma_moderate[(trauma_moderate.age > p2) & (trauma_moderate.age < p3)]\\nt_moderate_age_4 = trauma_moderate[trauma_moderate.age > p3]\";\n",
       "                var nbb_formatted_code = \"## THESE VARIABLES MUST BE RUN TOGETHER BC P1-P3 ARE REUSED FOR EACH VARIABLE CALCULATION\\n#  find the 1st, 2nd, and 3rd percentiles of the group\\np1 = np.percentile(trauma_moderate.age, 25)\\np2 = np.percentile(trauma_moderate.age, 50)\\np3 = np.percentile(trauma_moderate.age, 75)\\n\\n#  separate group into 4 even groups based on age\\nt_moderate_age_1 = trauma_moderate[trauma_moderate.age < p1]\\nt_moderate_age_2 = trauma_moderate[\\n    (trauma_moderate.age > p1) & (trauma_moderate.age < p2)\\n]\\nt_moderate_age_3 = trauma_moderate[\\n    (trauma_moderate.age > p2) & (trauma_moderate.age < p3)\\n]\\nt_moderate_age_4 = trauma_moderate[trauma_moderate.age > p3]\";\n",
       "                var nbb_cells = Jupyter.notebook.get_cells();\n",
       "                for (var i = 0; i < nbb_cells.length; ++i) {\n",
       "                    if (nbb_cells[i].input_prompt_number == nbb_cell_id) {\n",
       "                        if (nbb_cells[i].get_text() == nbb_unformatted_code) {\n",
       "                             nbb_cells[i].set_text(nbb_formatted_code);\n",
       "                        }\n",
       "                        break;\n",
       "                    }\n",
       "                }\n",
       "            }, 500);\n",
       "            "
      ],
      "text/plain": [
       "<IPython.core.display.Javascript object>"
      ]
     },
     "metadata": {},
     "output_type": "display_data"
    }
   ],
   "source": [
    "## THESE VARIABLES MUST BE RUN TOGETHER BC P1-P3 ARE REUSED FOR EACH VARIABLE CALCULATION\n",
    "#  find the 1st, 2nd, and 3rd percentiles of the group\n",
    "p1 = np.percentile(trauma_moderate.age, 25)\n",
    "p2 = np.percentile(trauma_moderate.age, 50)\n",
    "p3 = np.percentile(trauma_moderate.age, 75)\n",
    "\n",
    "#  separate group into 4 even groups based on age\n",
    "t_moderate_age_1 = trauma_moderate[trauma_moderate.age < p1]\n",
    "t_moderate_age_2 = trauma_moderate[\n",
    "    (trauma_moderate.age > p1) & (trauma_moderate.age < p2)\n",
    "]\n",
    "t_moderate_age_3 = trauma_moderate[\n",
    "    (trauma_moderate.age > p2) & (trauma_moderate.age < p3)\n",
    "]\n",
    "t_moderate_age_4 = trauma_moderate[trauma_moderate.age > p3]"
   ]
  },
  {
   "cell_type": "code",
   "execution_count": 141,
   "metadata": {
    "hidden": true
   },
   "outputs": [
    {
     "name": "stdout",
     "output_type": "stream",
     "text": [
      "Trauma, Moderate, group 1: 21656\n",
      "Trauma, Moderate, group 2: 21656\n",
      "Trauma, Moderate, group 3: 21656\n",
      "Trauma, Moderate, group 1: 21656\n"
     ]
    },
    {
     "data": {
      "application/javascript": [
       "\n",
       "            setTimeout(function() {\n",
       "                var nbb_cell_id = 141;\n",
       "                var nbb_unformatted_code = \"#  check group sizes\\nprint(\\n    \\\"Trauma, Moderate, group 1: \\\"\\n    + str(t_moderate_age_1.shape[0])\\n)\\nprint(\\n    \\\"Trauma, Moderate, group 2: \\\"\\n    + str(\\n        t_moderate_age_2.shape[\\n            0\\n        ]\\n    )\\n)\\nprint(\\n    \\\"Trauma, Moderate, group 3: \\\"\\n    + str(\\n        t_moderate_age_3.shape[\\n            0\\n        ]\\n    )\\n)\\nprint(\\n    \\\"Trauma, Moderate, group 1: \\\"\\n    + str(t_moderate_age_4.shape[0])\\n)\";\n",
       "                var nbb_formatted_code = \"#  check group sizes\\nprint(\\\"Trauma, Moderate, group 1: \\\" + str(t_moderate_age_1.shape[0]))\\nprint(\\\"Trauma, Moderate, group 2: \\\" + str(t_moderate_age_2.shape[0]))\\nprint(\\\"Trauma, Moderate, group 3: \\\" + str(t_moderate_age_3.shape[0]))\\nprint(\\\"Trauma, Moderate, group 1: \\\" + str(t_moderate_age_4.shape[0]))\";\n",
       "                var nbb_cells = Jupyter.notebook.get_cells();\n",
       "                for (var i = 0; i < nbb_cells.length; ++i) {\n",
       "                    if (nbb_cells[i].input_prompt_number == nbb_cell_id) {\n",
       "                        if (nbb_cells[i].get_text() == nbb_unformatted_code) {\n",
       "                             nbb_cells[i].set_text(nbb_formatted_code);\n",
       "                        }\n",
       "                        break;\n",
       "                    }\n",
       "                }\n",
       "            }, 500);\n",
       "            "
      ],
      "text/plain": [
       "<IPython.core.display.Javascript object>"
      ]
     },
     "metadata": {},
     "output_type": "display_data"
    },
    {
     "data": {
      "application/javascript": [
       "\n",
       "            setTimeout(function() {\n",
       "                var nbb_cell_id = 141;\n",
       "                var nbb_unformatted_code = \"#  check group sizes\\nprint(\\n    \\\"Trauma, Moderate, group 1: \\\"\\n    + str(t_moderate_age_1.shape[0])\\n)\\nprint(\\n    \\\"Trauma, Moderate, group 2: \\\"\\n    + str(\\n        t_moderate_age_2.shape[\\n            0\\n        ]\\n    )\\n)\\nprint(\\n    \\\"Trauma, Moderate, group 3: \\\"\\n    + str(\\n        t_moderate_age_3.shape[\\n            0\\n        ]\\n    )\\n)\\nprint(\\n    \\\"Trauma, Moderate, group 1: \\\"\\n    + str(t_moderate_age_4.shape[0])\\n)\";\n",
       "                var nbb_formatted_code = \"#  check group sizes\\nprint(\\\"Trauma, Moderate, group 1: \\\" + str(t_moderate_age_1.shape[0]))\\nprint(\\\"Trauma, Moderate, group 2: \\\" + str(t_moderate_age_2.shape[0]))\\nprint(\\\"Trauma, Moderate, group 3: \\\" + str(t_moderate_age_3.shape[0]))\\nprint(\\\"Trauma, Moderate, group 1: \\\" + str(t_moderate_age_4.shape[0]))\";\n",
       "                var nbb_cells = Jupyter.notebook.get_cells();\n",
       "                for (var i = 0; i < nbb_cells.length; ++i) {\n",
       "                    if (nbb_cells[i].input_prompt_number == nbb_cell_id) {\n",
       "                        if (nbb_cells[i].get_text() == nbb_unformatted_code) {\n",
       "                             nbb_cells[i].set_text(nbb_formatted_code);\n",
       "                        }\n",
       "                        break;\n",
       "                    }\n",
       "                }\n",
       "            }, 500);\n",
       "            "
      ],
      "text/plain": [
       "<IPython.core.display.Javascript object>"
      ]
     },
     "metadata": {},
     "output_type": "display_data"
    }
   ],
   "source": [
    "#  check group sizes\n",
    "print(\"Trauma, Moderate, group 1: \" + str(t_moderate_age_1.shape[0]))\n",
    "print(\"Trauma, Moderate, group 2: \" + str(t_moderate_age_2.shape[0]))\n",
    "print(\"Trauma, Moderate, group 3: \" + str(t_moderate_age_3.shape[0]))\n",
    "print(\"Trauma, Moderate, group 1: \" + str(t_moderate_age_4.shape[0]))"
   ]
  },
  {
   "cell_type": "code",
   "execution_count": 147,
   "metadata": {
    "hidden": true
   },
   "outputs": [
    {
     "data": {
      "image/png": "[encoded data removed]",
      "text/plain": [
       "<Figure size 432x288 with 1 Axes>"
      ]
     },
     "metadata": {
      "needs_background": "light"
     },
     "output_type": "display_data"
    },
    {
     "data": {
      "application/javascript": [
       "\n",
       "            setTimeout(function() {\n",
       "                var nbb_cell_id = 147;\n",
       "                var nbb_unformatted_code = \"#  overlay of each groups distribution of stay length\\nsns.distplot(t_moderate_age_1.stay)\\nsns.distplot(t_moderate_age_2.stay)\\nsns.distplot(t_moderate_age_3.stay)\\nsns.distplot(t_moderate_age_4.stay)\\nplt.show()\";\n",
       "                var nbb_formatted_code = \"#  overlay of each groups distribution of stay length\\nsns.distplot(t_moderate_age_1.stay)\\nsns.distplot(t_moderate_age_2.stay)\\nsns.distplot(t_moderate_age_3.stay)\\nsns.distplot(t_moderate_age_4.stay)\\nplt.show()\";\n",
       "                var nbb_cells = Jupyter.notebook.get_cells();\n",
       "                for (var i = 0; i < nbb_cells.length; ++i) {\n",
       "                    if (nbb_cells[i].input_prompt_number == nbb_cell_id) {\n",
       "                        if (nbb_cells[i].get_text() == nbb_unformatted_code) {\n",
       "                             nbb_cells[i].set_text(nbb_formatted_code);\n",
       "                        }\n",
       "                        break;\n",
       "                    }\n",
       "                }\n",
       "            }, 500);\n",
       "            "
      ],
      "text/plain": [
       "<IPython.core.display.Javascript object>"
      ]
     },
     "metadata": {},
     "output_type": "display_data"
    },
    {
     "data": {
      "application/javascript": [
       "\n",
       "            setTimeout(function() {\n",
       "                var nbb_cell_id = 147;\n",
       "                var nbb_unformatted_code = \"#  overlay of each groups distribution of stay length\\nsns.distplot(t_moderate_age_1.stay)\\nsns.distplot(t_moderate_age_2.stay)\\nsns.distplot(t_moderate_age_3.stay)\\nsns.distplot(t_moderate_age_4.stay)\\nplt.show()\";\n",
       "                var nbb_formatted_code = \"#  overlay of each groups distribution of stay length\\nsns.distplot(t_moderate_age_1.stay)\\nsns.distplot(t_moderate_age_2.stay)\\nsns.distplot(t_moderate_age_3.stay)\\nsns.distplot(t_moderate_age_4.stay)\\nplt.show()\";\n",
       "                var nbb_cells = Jupyter.notebook.get_cells();\n",
       "                for (var i = 0; i < nbb_cells.length; ++i) {\n",
       "                    if (nbb_cells[i].input_prompt_number == nbb_cell_id) {\n",
       "                        if (nbb_cells[i].get_text() == nbb_unformatted_code) {\n",
       "                             nbb_cells[i].set_text(nbb_formatted_code);\n",
       "                        }\n",
       "                        break;\n",
       "                    }\n",
       "                }\n",
       "            }, 500);\n",
       "            "
      ],
      "text/plain": [
       "<IPython.core.display.Javascript object>"
      ]
     },
     "metadata": {},
     "output_type": "display_data"
    }
   ],
   "source": [
    "#  overlay of each groups distribution of stay length\n",
    "sns.distplot(t_moderate_age_1.stay)\n",
    "sns.distplot(t_moderate_age_2.stay)\n",
    "sns.distplot(t_moderate_age_3.stay)\n",
    "sns.distplot(t_moderate_age_4.stay)\n",
    "plt.show()"
   ]
  },
  {
   "cell_type": "markdown",
   "metadata": {
    "heading_collapsed": true,
    "hidden": true
   },
   "source": [
    "### Trauma Extreme"
   ]
  },
  {
   "cell_type": "code",
   "execution_count": 132,
   "metadata": {
    "hidden": true
   },
   "outputs": [
    {
     "data": {
      "application/javascript": [
       "\n",
       "            setTimeout(function() {\n",
       "                var nbb_cell_id = 132;\n",
       "                var nbb_unformatted_code = \"## THESE VARIABLES MUST BE RUN TOGETHER BC P1-P3 ARE REUSED FOR EACH VARIABLE CALCULATION\\n#  find the 1st, 2nd, and 3rd percentiles of the group\\np1 = np.percentile(trauma_extreme.age, 25)\\np2 = np.percentile(trauma_extreme.age, 50)\\np3 = np.percentile(trauma_extreme.age, 75)\\n\\n#  separate group into 4 even groups based on age\\nt_extreme_age_1 = trauma_extreme[trauma_extreme.age < p1]\\nt_extreme_age_2 = trauma_extreme[(trauma_extreme.age > p1) & (trauma_extreme.age < p2)]\\nt_extreme_age_3 = trauma_extreme[(trauma_extreme.age > p2) & (trauma_extreme.age < p3)]\\nt_extreme_age_4 = trauma_extreme[trauma_extreme.age > p3]\";\n",
       "                var nbb_formatted_code = \"## THESE VARIABLES MUST BE RUN TOGETHER BC P1-P3 ARE REUSED FOR EACH VARIABLE CALCULATION\\n#  find the 1st, 2nd, and 3rd percentiles of the group\\np1 = np.percentile(trauma_extreme.age, 25)\\np2 = np.percentile(trauma_extreme.age, 50)\\np3 = np.percentile(trauma_extreme.age, 75)\\n\\n#  separate group into 4 even groups based on age\\nt_extreme_age_1 = trauma_extreme[trauma_extreme.age < p1]\\nt_extreme_age_2 = trauma_extreme[(trauma_extreme.age > p1) & (trauma_extreme.age < p2)]\\nt_extreme_age_3 = trauma_extreme[(trauma_extreme.age > p2) & (trauma_extreme.age < p3)]\\nt_extreme_age_4 = trauma_extreme[trauma_extreme.age > p3]\";\n",
       "                var nbb_cells = Jupyter.notebook.get_cells();\n",
       "                for (var i = 0; i < nbb_cells.length; ++i) {\n",
       "                    if (nbb_cells[i].input_prompt_number == nbb_cell_id) {\n",
       "                        if (nbb_cells[i].get_text() == nbb_unformatted_code) {\n",
       "                             nbb_cells[i].set_text(nbb_formatted_code);\n",
       "                        }\n",
       "                        break;\n",
       "                    }\n",
       "                }\n",
       "            }, 500);\n",
       "            "
      ],
      "text/plain": [
       "<IPython.core.display.Javascript object>"
      ]
     },
     "metadata": {},
     "output_type": "display_data"
    },
    {
     "data": {
      "application/javascript": [
       "\n",
       "            setTimeout(function() {\n",
       "                var nbb_cell_id = 132;\n",
       "                var nbb_unformatted_code = \"## THESE VARIABLES MUST BE RUN TOGETHER BC P1-P3 ARE REUSED FOR EACH VARIABLE CALCULATION\\n#  find the 1st, 2nd, and 3rd percentiles of the group\\np1 = np.percentile(trauma_extreme.age, 25)\\np2 = np.percentile(trauma_extreme.age, 50)\\np3 = np.percentile(trauma_extreme.age, 75)\\n\\n#  separate group into 4 even groups based on age\\nt_extreme_age_1 = trauma_extreme[trauma_extreme.age < p1]\\nt_extreme_age_2 = trauma_extreme[(trauma_extreme.age > p1) & (trauma_extreme.age < p2)]\\nt_extreme_age_3 = trauma_extreme[(trauma_extreme.age > p2) & (trauma_extreme.age < p3)]\\nt_extreme_age_4 = trauma_extreme[trauma_extreme.age > p3]\";\n",
       "                var nbb_formatted_code = \"## THESE VARIABLES MUST BE RUN TOGETHER BC P1-P3 ARE REUSED FOR EACH VARIABLE CALCULATION\\n#  find the 1st, 2nd, and 3rd percentiles of the group\\np1 = np.percentile(trauma_extreme.age, 25)\\np2 = np.percentile(trauma_extreme.age, 50)\\np3 = np.percentile(trauma_extreme.age, 75)\\n\\n#  separate group into 4 even groups based on age\\nt_extreme_age_1 = trauma_extreme[trauma_extreme.age < p1]\\nt_extreme_age_2 = trauma_extreme[(trauma_extreme.age > p1) & (trauma_extreme.age < p2)]\\nt_extreme_age_3 = trauma_extreme[(trauma_extreme.age > p2) & (trauma_extreme.age < p3)]\\nt_extreme_age_4 = trauma_extreme[trauma_extreme.age > p3]\";\n",
       "                var nbb_cells = Jupyter.notebook.get_cells();\n",
       "                for (var i = 0; i < nbb_cells.length; ++i) {\n",
       "                    if (nbb_cells[i].input_prompt_number == nbb_cell_id) {\n",
       "                        if (nbb_cells[i].get_text() == nbb_unformatted_code) {\n",
       "                             nbb_cells[i].set_text(nbb_formatted_code);\n",
       "                        }\n",
       "                        break;\n",
       "                    }\n",
       "                }\n",
       "            }, 500);\n",
       "            "
      ],
      "text/plain": [
       "<IPython.core.display.Javascript object>"
      ]
     },
     "metadata": {},
     "output_type": "display_data"
    }
   ],
   "source": [
    "## THESE VARIABLES MUST BE RUN TOGETHER BC P1-P3 ARE REUSED FOR EACH VARIABLE CALCULATION\n",
    "#  find the 1st, 2nd, and 3rd percentiles of the group\n",
    "p1 = np.percentile(trauma_extreme.age, 25)\n",
    "p2 = np.percentile(trauma_extreme.age, 50)\n",
    "p3 = np.percentile(trauma_extreme.age, 75)\n",
    "\n",
    "#  separate group into 4 even groups based on age\n",
    "t_extreme_age_1 = trauma_extreme[trauma_extreme.age < p1]\n",
    "t_extreme_age_2 = trauma_extreme[(trauma_extreme.age > p1) & (trauma_extreme.age < p2)]\n",
    "t_extreme_age_3 = trauma_extreme[(trauma_extreme.age > p2) & (trauma_extreme.age < p3)]\n",
    "t_extreme_age_4 = trauma_extreme[trauma_extreme.age > p3]"
   ]
  },
  {
   "cell_type": "code",
   "execution_count": 142,
   "metadata": {
    "hidden": true,
    "scrolled": true
   },
   "outputs": [
    {
     "name": "stdout",
     "output_type": "stream",
     "text": [
      "Trauma, Extreme, group 1: 7209\n",
      "Trauma, Extreme, group 2: 7208\n",
      "Trauma, Extreme, group 3: 7208\n",
      "Trauma, Extreme, group 1: 7209\n"
     ]
    },
    {
     "data": {
      "application/javascript": [
       "\n",
       "            setTimeout(function() {\n",
       "                var nbb_cell_id = 142;\n",
       "                var nbb_unformatted_code = \"#  check group sizes\\nprint(\\\"Trauma, Extreme, group 1: \\\" + str(t_extreme_age_1.shape[0]))\\nprint(\\\"Trauma, Extreme, group 2: \\\" + str(t_extreme_age_2.shape[0]))\\nprint(\\\"Trauma, Extreme, group 3: \\\" + str(t_extreme_age_3.shape[0]))\\nprint(\\\"Trauma, Extreme, group 1: \\\" + str(t_extreme_age_4.shape[0]))\";\n",
       "                var nbb_formatted_code = \"#  check group sizes\\nprint(\\\"Trauma, Extreme, group 1: \\\" + str(t_extreme_age_1.shape[0]))\\nprint(\\\"Trauma, Extreme, group 2: \\\" + str(t_extreme_age_2.shape[0]))\\nprint(\\\"Trauma, Extreme, group 3: \\\" + str(t_extreme_age_3.shape[0]))\\nprint(\\\"Trauma, Extreme, group 1: \\\" + str(t_extreme_age_4.shape[0]))\";\n",
       "                var nbb_cells = Jupyter.notebook.get_cells();\n",
       "                for (var i = 0; i < nbb_cells.length; ++i) {\n",
       "                    if (nbb_cells[i].input_prompt_number == nbb_cell_id) {\n",
       "                        if (nbb_cells[i].get_text() == nbb_unformatted_code) {\n",
       "                             nbb_cells[i].set_text(nbb_formatted_code);\n",
       "                        }\n",
       "                        break;\n",
       "                    }\n",
       "                }\n",
       "            }, 500);\n",
       "            "
      ],
      "text/plain": [
       "<IPython.core.display.Javascript object>"
      ]
     },
     "metadata": {},
     "output_type": "display_data"
    },
    {
     "data": {
      "application/javascript": [
       "\n",
       "            setTimeout(function() {\n",
       "                var nbb_cell_id = 142;\n",
       "                var nbb_unformatted_code = \"#  check group sizes\\nprint(\\\"Trauma, Extreme, group 1: \\\" + str(t_extreme_age_1.shape[0]))\\nprint(\\\"Trauma, Extreme, group 2: \\\" + str(t_extreme_age_2.shape[0]))\\nprint(\\\"Trauma, Extreme, group 3: \\\" + str(t_extreme_age_3.shape[0]))\\nprint(\\\"Trauma, Extreme, group 1: \\\" + str(t_extreme_age_4.shape[0]))\";\n",
       "                var nbb_formatted_code = \"#  check group sizes\\nprint(\\\"Trauma, Extreme, group 1: \\\" + str(t_extreme_age_1.shape[0]))\\nprint(\\\"Trauma, Extreme, group 2: \\\" + str(t_extreme_age_2.shape[0]))\\nprint(\\\"Trauma, Extreme, group 3: \\\" + str(t_extreme_age_3.shape[0]))\\nprint(\\\"Trauma, Extreme, group 1: \\\" + str(t_extreme_age_4.shape[0]))\";\n",
       "                var nbb_cells = Jupyter.notebook.get_cells();\n",
       "                for (var i = 0; i < nbb_cells.length; ++i) {\n",
       "                    if (nbb_cells[i].input_prompt_number == nbb_cell_id) {\n",
       "                        if (nbb_cells[i].get_text() == nbb_unformatted_code) {\n",
       "                             nbb_cells[i].set_text(nbb_formatted_code);\n",
       "                        }\n",
       "                        break;\n",
       "                    }\n",
       "                }\n",
       "            }, 500);\n",
       "            "
      ],
      "text/plain": [
       "<IPython.core.display.Javascript object>"
      ]
     },
     "metadata": {},
     "output_type": "display_data"
    }
   ],
   "source": [
    "#  check group sizes\n",
    "print(\"Trauma, Extreme, group 1: \" + str(t_extreme_age_1.shape[0]))\n",
    "print(\"Trauma, Extreme, group 2: \" + str(t_extreme_age_2.shape[0]))\n",
    "print(\"Trauma, Extreme, group 3: \" + str(t_extreme_age_3.shape[0]))\n",
    "print(\"Trauma, Extreme, group 1: \" + str(t_extreme_age_4.shape[0]))"
   ]
  },
  {
   "cell_type": "code",
   "execution_count": 148,
   "metadata": {
    "hidden": true
   },
   "outputs": [
    {
     "data": {
      "image/png": "[encoded data removed]",
      "text/plain": [
       "<Figure size 432x288 with 1 Axes>"
      ]
     },
     "metadata": {
      "needs_background": "light"
     },
     "output_type": "display_data"
    },
    {
     "data": {
      "application/javascript": [
       "\n",
       "            setTimeout(function() {\n",
       "                var nbb_cell_id = 148;\n",
       "                var nbb_unformatted_code = \"#  overlay of each groups distribution of stay length\\nsns.distplot(t_extreme_age_1.stay)\\nsns.distplot(t_extreme_age_2.stay)\\nsns.distplot(t_extreme_age_3.stay)\\nsns.distplot(t_extreme_age_4.stay)\\nplt.show()\";\n",
       "                var nbb_formatted_code = \"#  overlay of each groups distribution of stay length\\nsns.distplot(t_extreme_age_1.stay)\\nsns.distplot(t_extreme_age_2.stay)\\nsns.distplot(t_extreme_age_3.stay)\\nsns.distplot(t_extreme_age_4.stay)\\nplt.show()\";\n",
       "                var nbb_cells = Jupyter.notebook.get_cells();\n",
       "                for (var i = 0; i < nbb_cells.length; ++i) {\n",
       "                    if (nbb_cells[i].input_prompt_number == nbb_cell_id) {\n",
       "                        if (nbb_cells[i].get_text() == nbb_unformatted_code) {\n",
       "                             nbb_cells[i].set_text(nbb_formatted_code);\n",
       "                        }\n",
       "                        break;\n",
       "                    }\n",
       "                }\n",
       "            }, 500);\n",
       "            "
      ],
      "text/plain": [
       "<IPython.core.display.Javascript object>"
      ]
     },
     "metadata": {},
     "output_type": "display_data"
    },
    {
     "data": {
      "application/javascript": [
       "\n",
       "            setTimeout(function() {\n",
       "                var nbb_cell_id = 148;\n",
       "                var nbb_unformatted_code = \"#  overlay of each groups distribution of stay length\\nsns.distplot(t_extreme_age_1.stay)\\nsns.distplot(t_extreme_age_2.stay)\\nsns.distplot(t_extreme_age_3.stay)\\nsns.distplot(t_extreme_age_4.stay)\\nplt.show()\";\n",
       "                var nbb_formatted_code = \"#  overlay of each groups distribution of stay length\\nsns.distplot(t_extreme_age_1.stay)\\nsns.distplot(t_extreme_age_2.stay)\\nsns.distplot(t_extreme_age_3.stay)\\nsns.distplot(t_extreme_age_4.stay)\\nplt.show()\";\n",
       "                var nbb_cells = Jupyter.notebook.get_cells();\n",
       "                for (var i = 0; i < nbb_cells.length; ++i) {\n",
       "                    if (nbb_cells[i].input_prompt_number == nbb_cell_id) {\n",
       "                        if (nbb_cells[i].get_text() == nbb_unformatted_code) {\n",
       "                             nbb_cells[i].set_text(nbb_formatted_code);\n",
       "                        }\n",
       "                        break;\n",
       "                    }\n",
       "                }\n",
       "            }, 500);\n",
       "            "
      ],
      "text/plain": [
       "<IPython.core.display.Javascript object>"
      ]
     },
     "metadata": {},
     "output_type": "display_data"
    }
   ],
   "source": [
    "#  overlay of each groups distribution of stay length\n",
    "sns.distplot(t_extreme_age_1.stay)\n",
    "sns.distplot(t_extreme_age_2.stay)\n",
    "sns.distplot(t_extreme_age_3.stay)\n",
    "sns.distplot(t_extreme_age_4.stay)\n",
    "plt.show()"
   ]
  },
  {
   "cell_type": "markdown",
   "metadata": {
    "heading_collapsed": true,
    "hidden": true
   },
   "source": [
    "## Urgent"
   ]
  },
  {
   "cell_type": "markdown",
   "metadata": {
    "heading_collapsed": true,
    "hidden": true
   },
   "source": [
    "### Urgent Minor"
   ]
  },
  {
   "cell_type": "code",
   "execution_count": 133,
   "metadata": {
    "hidden": true
   },
   "outputs": [
    {
     "data": {
      "application/javascript": [
       "\n",
       "            setTimeout(function() {\n",
       "                var nbb_cell_id = 133;\n",
       "                var nbb_unformatted_code = \"## THESE VARIABLES MUST BE RUN TOGETHER BC P1-P3 ARE REUSED FOR EACH VARIABLE CALCULATION\\n#  find the 1st, 2nd, and 3rd percentiles of the group\\np1 = np.percentile(urgent_minor.age, 25)\\np2 = np.percentile(urgent_minor.age, 50)\\np3 = np.percentile(urgent_minor.age, 75)\\n\\n#  separate group into 4 even groups based on age\\nu_minor_age_1 = urgent_minor[urgent_minor.age < p1]\\nu_minor_age_2 = urgent_minor[(urgent_minor.age > p1) & (urgent_minor.age < p2)]\\nu_minor_age_3 = urgent_minor[(urgent_minor.age > p2) & (urgent_minor.age < p3)]\\nu_minor_age_4 = urgent_minor[urgent_minor.age > p3]\";\n",
       "                var nbb_formatted_code = \"## THESE VARIABLES MUST BE RUN TOGETHER BC P1-P3 ARE REUSED FOR EACH VARIABLE CALCULATION\\n#  find the 1st, 2nd, and 3rd percentiles of the group\\np1 = np.percentile(urgent_minor.age, 25)\\np2 = np.percentile(urgent_minor.age, 50)\\np3 = np.percentile(urgent_minor.age, 75)\\n\\n#  separate group into 4 even groups based on age\\nu_minor_age_1 = urgent_minor[urgent_minor.age < p1]\\nu_minor_age_2 = urgent_minor[(urgent_minor.age > p1) & (urgent_minor.age < p2)]\\nu_minor_age_3 = urgent_minor[(urgent_minor.age > p2) & (urgent_minor.age < p3)]\\nu_minor_age_4 = urgent_minor[urgent_minor.age > p3]\";\n",
       "                var nbb_cells = Jupyter.notebook.get_cells();\n",
       "                for (var i = 0; i < nbb_cells.length; ++i) {\n",
       "                    if (nbb_cells[i].input_prompt_number == nbb_cell_id) {\n",
       "                        if (nbb_cells[i].get_text() == nbb_unformatted_code) {\n",
       "                             nbb_cells[i].set_text(nbb_formatted_code);\n",
       "                        }\n",
       "                        break;\n",
       "                    }\n",
       "                }\n",
       "            }, 500);\n",
       "            "
      ],
      "text/plain": [
       "<IPython.core.display.Javascript object>"
      ]
     },
     "metadata": {},
     "output_type": "display_data"
    },
    {
     "data": {
      "application/javascript": [
       "\n",
       "            setTimeout(function() {\n",
       "                var nbb_cell_id = 133;\n",
       "                var nbb_unformatted_code = \"## THESE VARIABLES MUST BE RUN TOGETHER BC P1-P3 ARE REUSED FOR EACH VARIABLE CALCULATION\\n#  find the 1st, 2nd, and 3rd percentiles of the group\\np1 = np.percentile(urgent_minor.age, 25)\\np2 = np.percentile(urgent_minor.age, 50)\\np3 = np.percentile(urgent_minor.age, 75)\\n\\n#  separate group into 4 even groups based on age\\nu_minor_age_1 = urgent_minor[urgent_minor.age < p1]\\nu_minor_age_2 = urgent_minor[(urgent_minor.age > p1) & (urgent_minor.age < p2)]\\nu_minor_age_3 = urgent_minor[(urgent_minor.age > p2) & (urgent_minor.age < p3)]\\nu_minor_age_4 = urgent_minor[urgent_minor.age > p3]\";\n",
       "                var nbb_formatted_code = \"## THESE VARIABLES MUST BE RUN TOGETHER BC P1-P3 ARE REUSED FOR EACH VARIABLE CALCULATION\\n#  find the 1st, 2nd, and 3rd percentiles of the group\\np1 = np.percentile(urgent_minor.age, 25)\\np2 = np.percentile(urgent_minor.age, 50)\\np3 = np.percentile(urgent_minor.age, 75)\\n\\n#  separate group into 4 even groups based on age\\nu_minor_age_1 = urgent_minor[urgent_minor.age < p1]\\nu_minor_age_2 = urgent_minor[(urgent_minor.age > p1) & (urgent_minor.age < p2)]\\nu_minor_age_3 = urgent_minor[(urgent_minor.age > p2) & (urgent_minor.age < p3)]\\nu_minor_age_4 = urgent_minor[urgent_minor.age > p3]\";\n",
       "                var nbb_cells = Jupyter.notebook.get_cells();\n",
       "                for (var i = 0; i < nbb_cells.length; ++i) {\n",
       "                    if (nbb_cells[i].input_prompt_number == nbb_cell_id) {\n",
       "                        if (nbb_cells[i].get_text() == nbb_unformatted_code) {\n",
       "                             nbb_cells[i].set_text(nbb_formatted_code);\n",
       "                        }\n",
       "                        break;\n",
       "                    }\n",
       "                }\n",
       "            }, 500);\n",
       "            "
      ],
      "text/plain": [
       "<IPython.core.display.Javascript object>"
      ]
     },
     "metadata": {},
     "output_type": "display_data"
    }
   ],
   "source": [
    "## THESE VARIABLES MUST BE RUN TOGETHER BC P1-P3 ARE REUSED FOR EACH VARIABLE CALCULATION\n",
    "#  find the 1st, 2nd, and 3rd percentiles of the group\n",
    "p1 = np.percentile(urgent_minor.age, 25)\n",
    "p2 = np.percentile(urgent_minor.age, 50)\n",
    "p3 = np.percentile(urgent_minor.age, 75)\n",
    "\n",
    "#  separate group into 4 even groups based on age\n",
    "u_minor_age_1 = urgent_minor[urgent_minor.age < p1]\n",
    "u_minor_age_2 = urgent_minor[(urgent_minor.age > p1) & (urgent_minor.age < p2)]\n",
    "u_minor_age_3 = urgent_minor[(urgent_minor.age > p2) & (urgent_minor.age < p3)]\n",
    "u_minor_age_4 = urgent_minor[urgent_minor.age > p3]"
   ]
  },
  {
   "cell_type": "code",
   "execution_count": 143,
   "metadata": {
    "hidden": true,
    "scrolled": true
   },
   "outputs": [
    {
     "name": "stdout",
     "output_type": "stream",
     "text": [
      "Urgent, Minor group 1: 3429\n",
      "Urgent, Minor group 2: 3429\n",
      "Urgent, Minor group 3: 3429\n",
      "Urgent, Minor group 1: 3429\n"
     ]
    },
    {
     "data": {
      "application/javascript": [
       "\n",
       "            setTimeout(function() {\n",
       "                var nbb_cell_id = 143;\n",
       "                var nbb_unformatted_code = \"#  check group sizes\\nprint(\\\"Urgent, Minor group 1: \\\" + str(u_minor_age_1.shape[0]))\\nprint(\\\"Urgent, Minor group 2: \\\" + str(u_minor_age_2.shape[0]))\\nprint(\\\"Urgent, Minor group 3: \\\" + str(u_minor_age_3.shape[0]))\\nprint(\\\"Urgent, Minor group 1: \\\" + str(u_minor_age_4.shape[0]))\";\n",
       "                var nbb_formatted_code = \"#  check group sizes\\nprint(\\\"Urgent, Minor group 1: \\\" + str(u_minor_age_1.shape[0]))\\nprint(\\\"Urgent, Minor group 2: \\\" + str(u_minor_age_2.shape[0]))\\nprint(\\\"Urgent, Minor group 3: \\\" + str(u_minor_age_3.shape[0]))\\nprint(\\\"Urgent, Minor group 1: \\\" + str(u_minor_age_4.shape[0]))\";\n",
       "                var nbb_cells = Jupyter.notebook.get_cells();\n",
       "                for (var i = 0; i < nbb_cells.length; ++i) {\n",
       "                    if (nbb_cells[i].input_prompt_number == nbb_cell_id) {\n",
       "                        if (nbb_cells[i].get_text() == nbb_unformatted_code) {\n",
       "                             nbb_cells[i].set_text(nbb_formatted_code);\n",
       "                        }\n",
       "                        break;\n",
       "                    }\n",
       "                }\n",
       "            }, 500);\n",
       "            "
      ],
      "text/plain": [
       "<IPython.core.display.Javascript object>"
      ]
     },
     "metadata": {},
     "output_type": "display_data"
    },
    {
     "data": {
      "application/javascript": [
       "\n",
       "            setTimeout(function() {\n",
       "                var nbb_cell_id = 143;\n",
       "                var nbb_unformatted_code = \"#  check group sizes\\nprint(\\\"Urgent, Minor group 1: \\\" + str(u_minor_age_1.shape[0]))\\nprint(\\\"Urgent, Minor group 2: \\\" + str(u_minor_age_2.shape[0]))\\nprint(\\\"Urgent, Minor group 3: \\\" + str(u_minor_age_3.shape[0]))\\nprint(\\\"Urgent, Minor group 1: \\\" + str(u_minor_age_4.shape[0]))\";\n",
       "                var nbb_formatted_code = \"#  check group sizes\\nprint(\\\"Urgent, Minor group 1: \\\" + str(u_minor_age_1.shape[0]))\\nprint(\\\"Urgent, Minor group 2: \\\" + str(u_minor_age_2.shape[0]))\\nprint(\\\"Urgent, Minor group 3: \\\" + str(u_minor_age_3.shape[0]))\\nprint(\\\"Urgent, Minor group 1: \\\" + str(u_minor_age_4.shape[0]))\";\n",
       "                var nbb_cells = Jupyter.notebook.get_cells();\n",
       "                for (var i = 0; i < nbb_cells.length; ++i) {\n",
       "                    if (nbb_cells[i].input_prompt_number == nbb_cell_id) {\n",
       "                        if (nbb_cells[i].get_text() == nbb_unformatted_code) {\n",
       "                             nbb_cells[i].set_text(nbb_formatted_code);\n",
       "                        }\n",
       "                        break;\n",
       "                    }\n",
       "                }\n",
       "            }, 500);\n",
       "            "
      ],
      "text/plain": [
       "<IPython.core.display.Javascript object>"
      ]
     },
     "metadata": {},
     "output_type": "display_data"
    }
   ],
   "source": [
    "#  check group sizes\n",
    "print(\"Urgent, Minor group 1: \" + str(u_minor_age_1.shape[0]))\n",
    "print(\"Urgent, Minor group 2: \" + str(u_minor_age_2.shape[0]))\n",
    "print(\"Urgent, Minor group 3: \" + str(u_minor_age_3.shape[0]))\n",
    "print(\"Urgent, Minor group 1: \" + str(u_minor_age_4.shape[0]))"
   ]
  },
  {
   "cell_type": "code",
   "execution_count": 149,
   "metadata": {
    "hidden": true
   },
   "outputs": [
    {
     "data": {
      "image/png": "[encoded data removed]",
      "text/plain": [
       "<Figure size 432x288 with 1 Axes>"
      ]
     },
     "metadata": {
      "needs_background": "light"
     },
     "output_type": "display_data"
    },
    {
     "data": {
      "application/javascript": [
       "\n",
       "            setTimeout(function() {\n",
       "                var nbb_cell_id = 149;\n",
       "                var nbb_unformatted_code = \"#  overlay of each groups distribution of stay length\\nsns.distplot(u_minor_age_1.stay)\\nsns.distplot(u_minor_age_2.stay)\\nsns.distplot(u_minor_age_3.stay)\\nsns.distplot(u_minor_age_4.stay)\\nplt.show()\";\n",
       "                var nbb_formatted_code = \"#  overlay of each groups distribution of stay length\\nsns.distplot(u_minor_age_1.stay)\\nsns.distplot(u_minor_age_2.stay)\\nsns.distplot(u_minor_age_3.stay)\\nsns.distplot(u_minor_age_4.stay)\\nplt.show()\";\n",
       "                var nbb_cells = Jupyter.notebook.get_cells();\n",
       "                for (var i = 0; i < nbb_cells.length; ++i) {\n",
       "                    if (nbb_cells[i].input_prompt_number == nbb_cell_id) {\n",
       "                        if (nbb_cells[i].get_text() == nbb_unformatted_code) {\n",
       "                             nbb_cells[i].set_text(nbb_formatted_code);\n",
       "                        }\n",
       "                        break;\n",
       "                    }\n",
       "                }\n",
       "            }, 500);\n",
       "            "
      ],
      "text/plain": [
       "<IPython.core.display.Javascript object>"
      ]
     },
     "metadata": {},
     "output_type": "display_data"
    },
    {
     "data": {
      "application/javascript": [
       "\n",
       "            setTimeout(function() {\n",
       "                var nbb_cell_id = 149;\n",
       "                var nbb_unformatted_code = \"#  overlay of each groups distribution of stay length\\nsns.distplot(u_minor_age_1.stay)\\nsns.distplot(u_minor_age_2.stay)\\nsns.distplot(u_minor_age_3.stay)\\nsns.distplot(u_minor_age_4.stay)\\nplt.show()\";\n",
       "                var nbb_formatted_code = \"#  overlay of each groups distribution of stay length\\nsns.distplot(u_minor_age_1.stay)\\nsns.distplot(u_minor_age_2.stay)\\nsns.distplot(u_minor_age_3.stay)\\nsns.distplot(u_minor_age_4.stay)\\nplt.show()\";\n",
       "                var nbb_cells = Jupyter.notebook.get_cells();\n",
       "                for (var i = 0; i < nbb_cells.length; ++i) {\n",
       "                    if (nbb_cells[i].input_prompt_number == nbb_cell_id) {\n",
       "                        if (nbb_cells[i].get_text() == nbb_unformatted_code) {\n",
       "                             nbb_cells[i].set_text(nbb_formatted_code);\n",
       "                        }\n",
       "                        break;\n",
       "                    }\n",
       "                }\n",
       "            }, 500);\n",
       "            "
      ],
      "text/plain": [
       "<IPython.core.display.Javascript object>"
      ]
     },
     "metadata": {},
     "output_type": "display_data"
    }
   ],
   "source": [
    "#  overlay of each groups distribution of stay length\n",
    "sns.distplot(u_minor_age_1.stay)\n",
    "sns.distplot(u_minor_age_2.stay)\n",
    "sns.distplot(u_minor_age_3.stay)\n",
    "sns.distplot(u_minor_age_4.stay)\n",
    "plt.show()"
   ]
  },
  {
   "cell_type": "markdown",
   "metadata": {
    "heading_collapsed": true,
    "hidden": true
   },
   "source": [
    "### Urgent Moderate"
   ]
  },
  {
   "cell_type": "code",
   "execution_count": 134,
   "metadata": {
    "hidden": true
   },
   "outputs": [
    {
     "data": {
      "application/javascript": [
       "\n",
       "            setTimeout(function() {\n",
       "                var nbb_cell_id = 134;\n",
       "                var nbb_unformatted_code = \"## THESE VARIABLES MUST BE RUN TOGETHER BC P1-P3 ARE REUSED FOR EACH VARIABLE CALCULATION\\n#  find the 1st, 2nd, and 3rd percentiles of the group\\np1 = np.percentile(urgent_moderate.age, 25)\\np2 = np.percentile(urgent_moderate.age, 50)\\np3 = np.percentile(urgent_moderate.age, 75)\\n\\n#  separate group into 4 even groups based on age\\nu_moderate_age_1 = urgent_moderate[urgent_moderate.age < p1]\\nu_moderate_age_2 = urgent_moderate[(urgent_moderate.age > p1) & (urgent_moderate.age < p2)]\\nu_moderate_age_3 = urgent_moderate[(urgent_moderate.age > p2) & (urgent_moderate.age < p3)]\\nu_moderate_age_4 = urgent_moderate[urgent_moderate.age > p3]\";\n",
       "                var nbb_formatted_code = \"## THESE VARIABLES MUST BE RUN TOGETHER BC P1-P3 ARE REUSED FOR EACH VARIABLE CALCULATION\\n#  find the 1st, 2nd, and 3rd percentiles of the group\\np1 = np.percentile(urgent_moderate.age, 25)\\np2 = np.percentile(urgent_moderate.age, 50)\\np3 = np.percentile(urgent_moderate.age, 75)\\n\\n#  separate group into 4 even groups based on age\\nu_moderate_age_1 = urgent_moderate[urgent_moderate.age < p1]\\nu_moderate_age_2 = urgent_moderate[\\n    (urgent_moderate.age > p1) & (urgent_moderate.age < p2)\\n]\\nu_moderate_age_3 = urgent_moderate[\\n    (urgent_moderate.age > p2) & (urgent_moderate.age < p3)\\n]\\nu_moderate_age_4 = urgent_moderate[urgent_moderate.age > p3]\";\n",
       "                var nbb_cells = Jupyter.notebook.get_cells();\n",
       "                for (var i = 0; i < nbb_cells.length; ++i) {\n",
       "                    if (nbb_cells[i].input_prompt_number == nbb_cell_id) {\n",
       "                        if (nbb_cells[i].get_text() == nbb_unformatted_code) {\n",
       "                             nbb_cells[i].set_text(nbb_formatted_code);\n",
       "                        }\n",
       "                        break;\n",
       "                    }\n",
       "                }\n",
       "            }, 500);\n",
       "            "
      ],
      "text/plain": [
       "<IPython.core.display.Javascript object>"
      ]
     },
     "metadata": {},
     "output_type": "display_data"
    },
    {
     "data": {
      "application/javascript": [
       "\n",
       "            setTimeout(function() {\n",
       "                var nbb_cell_id = 134;\n",
       "                var nbb_unformatted_code = \"## THESE VARIABLES MUST BE RUN TOGETHER BC P1-P3 ARE REUSED FOR EACH VARIABLE CALCULATION\\n#  find the 1st, 2nd, and 3rd percentiles of the group\\np1 = np.percentile(urgent_moderate.age, 25)\\np2 = np.percentile(urgent_moderate.age, 50)\\np3 = np.percentile(urgent_moderate.age, 75)\\n\\n#  separate group into 4 even groups based on age\\nu_moderate_age_1 = urgent_moderate[urgent_moderate.age < p1]\\nu_moderate_age_2 = urgent_moderate[(urgent_moderate.age > p1) & (urgent_moderate.age < p2)]\\nu_moderate_age_3 = urgent_moderate[(urgent_moderate.age > p2) & (urgent_moderate.age < p3)]\\nu_moderate_age_4 = urgent_moderate[urgent_moderate.age > p3]\";\n",
       "                var nbb_formatted_code = \"## THESE VARIABLES MUST BE RUN TOGETHER BC P1-P3 ARE REUSED FOR EACH VARIABLE CALCULATION\\n#  find the 1st, 2nd, and 3rd percentiles of the group\\np1 = np.percentile(urgent_moderate.age, 25)\\np2 = np.percentile(urgent_moderate.age, 50)\\np3 = np.percentile(urgent_moderate.age, 75)\\n\\n#  separate group into 4 even groups based on age\\nu_moderate_age_1 = urgent_moderate[urgent_moderate.age < p1]\\nu_moderate_age_2 = urgent_moderate[\\n    (urgent_moderate.age > p1) & (urgent_moderate.age < p2)\\n]\\nu_moderate_age_3 = urgent_moderate[\\n    (urgent_moderate.age > p2) & (urgent_moderate.age < p3)\\n]\\nu_moderate_age_4 = urgent_moderate[urgent_moderate.age > p3]\";\n",
       "                var nbb_cells = Jupyter.notebook.get_cells();\n",
       "                for (var i = 0; i < nbb_cells.length; ++i) {\n",
       "                    if (nbb_cells[i].input_prompt_number == nbb_cell_id) {\n",
       "                        if (nbb_cells[i].get_text() == nbb_unformatted_code) {\n",
       "                             nbb_cells[i].set_text(nbb_formatted_code);\n",
       "                        }\n",
       "                        break;\n",
       "                    }\n",
       "                }\n",
       "            }, 500);\n",
       "            "
      ],
      "text/plain": [
       "<IPython.core.display.Javascript object>"
      ]
     },
     "metadata": {},
     "output_type": "display_data"
    }
   ],
   "source": [
    "## THESE VARIABLES MUST BE RUN TOGETHER BC P1-P3 ARE REUSED FOR EACH VARIABLE CALCULATION\n",
    "#  find the 1st, 2nd, and 3rd percentiles of the group\n",
    "p1 = np.percentile(urgent_moderate.age, 25)\n",
    "p2 = np.percentile(urgent_moderate.age, 50)\n",
    "p3 = np.percentile(urgent_moderate.age, 75)\n",
    "\n",
    "#  separate group into 4 even groups based on age\n",
    "u_moderate_age_1 = urgent_moderate[urgent_moderate.age < p1]\n",
    "u_moderate_age_2 = urgent_moderate[\n",
    "    (urgent_moderate.age > p1) & (urgent_moderate.age < p2)\n",
    "]\n",
    "u_moderate_age_3 = urgent_moderate[\n",
    "    (urgent_moderate.age > p2) & (urgent_moderate.age < p3)\n",
    "]\n",
    "u_moderate_age_4 = urgent_moderate[urgent_moderate.age > p3]"
   ]
  },
  {
   "cell_type": "code",
   "execution_count": 144,
   "metadata": {
    "hidden": true,
    "scrolled": true
   },
   "outputs": [
    {
     "name": "stdout",
     "output_type": "stream",
     "text": [
      "Urgent, Moderate, group 1: 6686\n",
      "Urgent, Moderate, group 2: 6685\n",
      "Urgent, Moderate, group 3: 6685\n",
      "Urgent, Moderate, group 1: 6686\n"
     ]
    },
    {
     "data": {
      "application/javascript": [
       "\n",
       "            setTimeout(function() {\n",
       "                var nbb_cell_id = 144;\n",
       "                var nbb_unformatted_code = \"#  check group sizes\\nprint(\\\"Urgent, Moderate, group 1: \\\" + str(u_moderate_age_1.shape[0]))\\nprint(\\\"Urgent, Moderate, group 2: \\\" + str(u_moderate_age_2.shape[0]))\\nprint(\\\"Urgent, Moderate, group 3: \\\" + str(u_moderate_age_3.shape[0]))\\nprint(\\\"Urgent, Moderate, group 1: \\\" + str(u_moderate_age_4.shape[0]))\";\n",
       "                var nbb_formatted_code = \"#  check group sizes\\nprint(\\\"Urgent, Moderate, group 1: \\\" + str(u_moderate_age_1.shape[0]))\\nprint(\\\"Urgent, Moderate, group 2: \\\" + str(u_moderate_age_2.shape[0]))\\nprint(\\\"Urgent, Moderate, group 3: \\\" + str(u_moderate_age_3.shape[0]))\\nprint(\\\"Urgent, Moderate, group 1: \\\" + str(u_moderate_age_4.shape[0]))\";\n",
       "                var nbb_cells = Jupyter.notebook.get_cells();\n",
       "                for (var i = 0; i < nbb_cells.length; ++i) {\n",
       "                    if (nbb_cells[i].input_prompt_number == nbb_cell_id) {\n",
       "                        if (nbb_cells[i].get_text() == nbb_unformatted_code) {\n",
       "                             nbb_cells[i].set_text(nbb_formatted_code);\n",
       "                        }\n",
       "                        break;\n",
       "                    }\n",
       "                }\n",
       "            }, 500);\n",
       "            "
      ],
      "text/plain": [
       "<IPython.core.display.Javascript object>"
      ]
     },
     "metadata": {},
     "output_type": "display_data"
    },
    {
     "data": {
      "application/javascript": [
       "\n",
       "            setTimeout(function() {\n",
       "                var nbb_cell_id = 144;\n",
       "                var nbb_unformatted_code = \"#  check group sizes\\nprint(\\\"Urgent, Moderate, group 1: \\\" + str(u_moderate_age_1.shape[0]))\\nprint(\\\"Urgent, Moderate, group 2: \\\" + str(u_moderate_age_2.shape[0]))\\nprint(\\\"Urgent, Moderate, group 3: \\\" + str(u_moderate_age_3.shape[0]))\\nprint(\\\"Urgent, Moderate, group 1: \\\" + str(u_moderate_age_4.shape[0]))\";\n",
       "                var nbb_formatted_code = \"#  check group sizes\\nprint(\\\"Urgent, Moderate, group 1: \\\" + str(u_moderate_age_1.shape[0]))\\nprint(\\\"Urgent, Moderate, group 2: \\\" + str(u_moderate_age_2.shape[0]))\\nprint(\\\"Urgent, Moderate, group 3: \\\" + str(u_moderate_age_3.shape[0]))\\nprint(\\\"Urgent, Moderate, group 1: \\\" + str(u_moderate_age_4.shape[0]))\";\n",
       "                var nbb_cells = Jupyter.notebook.get_cells();\n",
       "                for (var i = 0; i < nbb_cells.length; ++i) {\n",
       "                    if (nbb_cells[i].input_prompt_number == nbb_cell_id) {\n",
       "                        if (nbb_cells[i].get_text() == nbb_unformatted_code) {\n",
       "                             nbb_cells[i].set_text(nbb_formatted_code);\n",
       "                        }\n",
       "                        break;\n",
       "                    }\n",
       "                }\n",
       "            }, 500);\n",
       "            "
      ],
      "text/plain": [
       "<IPython.core.display.Javascript object>"
      ]
     },
     "metadata": {},
     "output_type": "display_data"
    }
   ],
   "source": [
    "#  check group sizes\n",
    "print(\"Urgent, Moderate, group 1: \" + str(u_moderate_age_1.shape[0]))\n",
    "print(\"Urgent, Moderate, group 2: \" + str(u_moderate_age_2.shape[0]))\n",
    "print(\"Urgent, Moderate, group 3: \" + str(u_moderate_age_3.shape[0]))\n",
    "print(\"Urgent, Moderate, group 1: \" + str(u_moderate_age_4.shape[0]))"
   ]
  },
  {
   "cell_type": "code",
   "execution_count": 150,
   "metadata": {
    "hidden": true
   },
   "outputs": [
    {
     "data": {
      "image/png": "[encoded data removed]",
      "text/plain": [
       "<Figure size 432x288 with 1 Axes>"
      ]
     },
     "metadata": {
      "needs_background": "light"
     },
     "output_type": "display_data"
    },
    {
     "data": {
      "application/javascript": [
       "\n",
       "            setTimeout(function() {\n",
       "                var nbb_cell_id = 150;\n",
       "                var nbb_unformatted_code = \"#  overlay of each groups distribution of stay length\\nsns.distplot(u_moderate_age_1.stay)\\nsns.distplot(u_moderate_age_2.stay)\\nsns.distplot(u_moderate_age_3.stay)\\nsns.distplot(u_moderate_age_4.stay)\\nplt.show()\";\n",
       "                var nbb_formatted_code = \"#  overlay of each groups distribution of stay length\\nsns.distplot(u_moderate_age_1.stay)\\nsns.distplot(u_moderate_age_2.stay)\\nsns.distplot(u_moderate_age_3.stay)\\nsns.distplot(u_moderate_age_4.stay)\\nplt.show()\";\n",
       "                var nbb_cells = Jupyter.notebook.get_cells();\n",
       "                for (var i = 0; i < nbb_cells.length; ++i) {\n",
       "                    if (nbb_cells[i].input_prompt_number == nbb_cell_id) {\n",
       "                        if (nbb_cells[i].get_text() == nbb_unformatted_code) {\n",
       "                             nbb_cells[i].set_text(nbb_formatted_code);\n",
       "                        }\n",
       "                        break;\n",
       "                    }\n",
       "                }\n",
       "            }, 500);\n",
       "            "
      ],
      "text/plain": [
       "<IPython.core.display.Javascript object>"
      ]
     },
     "metadata": {},
     "output_type": "display_data"
    },
    {
     "data": {
      "application/javascript": [
       "\n",
       "            setTimeout(function() {\n",
       "                var nbb_cell_id = 150;\n",
       "                var nbb_unformatted_code = \"#  overlay of each groups distribution of stay length\\nsns.distplot(u_moderate_age_1.stay)\\nsns.distplot(u_moderate_age_2.stay)\\nsns.distplot(u_moderate_age_3.stay)\\nsns.distplot(u_moderate_age_4.stay)\\nplt.show()\";\n",
       "                var nbb_formatted_code = \"#  overlay of each groups distribution of stay length\\nsns.distplot(u_moderate_age_1.stay)\\nsns.distplot(u_moderate_age_2.stay)\\nsns.distplot(u_moderate_age_3.stay)\\nsns.distplot(u_moderate_age_4.stay)\\nplt.show()\";\n",
       "                var nbb_cells = Jupyter.notebook.get_cells();\n",
       "                for (var i = 0; i < nbb_cells.length; ++i) {\n",
       "                    if (nbb_cells[i].input_prompt_number == nbb_cell_id) {\n",
       "                        if (nbb_cells[i].get_text() == nbb_unformatted_code) {\n",
       "                             nbb_cells[i].set_text(nbb_formatted_code);\n",
       "                        }\n",
       "                        break;\n",
       "                    }\n",
       "                }\n",
       "            }, 500);\n",
       "            "
      ],
      "text/plain": [
       "<IPython.core.display.Javascript object>"
      ]
     },
     "metadata": {},
     "output_type": "display_data"
    }
   ],
   "source": [
    "#  overlay of each groups distribution of stay length\n",
    "sns.distplot(u_moderate_age_1.stay)\n",
    "sns.distplot(u_moderate_age_2.stay)\n",
    "sns.distplot(u_moderate_age_3.stay)\n",
    "sns.distplot(u_moderate_age_4.stay)\n",
    "plt.show()"
   ]
  },
  {
   "cell_type": "markdown",
   "metadata": {
    "heading_collapsed": true,
    "hidden": true
   },
   "source": [
    "### Urgent Extreme"
   ]
  },
  {
   "cell_type": "code",
   "execution_count": 135,
   "metadata": {
    "hidden": true
   },
   "outputs": [
    {
     "data": {
      "application/javascript": [
       "\n",
       "            setTimeout(function() {\n",
       "                var nbb_cell_id = 135;\n",
       "                var nbb_unformatted_code = \"## THESE VARIABLES MUST BE RUN TOGETHER BC P1-P3 ARE REUSED FOR EACH VARIABLE CALCULATION\\n#  find the 1st, 2nd, and 3rd percentiles of the group\\np1 = np.percentile(urgent_extreme.age, 25)\\np2 = np.percentile(urgent_extreme.age, 50)\\np3 = np.percentile(urgent_extreme.age, 75)\\n\\n#  separate group into 4 even groups based on age\\nu_extreme_age_1 = urgent_extreme[urgent_extreme.age < p1]\\nu_extreme_age_2 = urgent_extreme[(urgent_extreme.age > p1) & (urgent_extreme.age < p2)]\\nu_extreme_age_3 = urgent_extreme[(urgent_extreme.age > p2) & (urgent_extreme.age < p3)]\\nu_extreme_age_4 = urgent_extreme[urgent_extreme.age > p3]\";\n",
       "                var nbb_formatted_code = \"## THESE VARIABLES MUST BE RUN TOGETHER BC P1-P3 ARE REUSED FOR EACH VARIABLE CALCULATION\\n#  find the 1st, 2nd, and 3rd percentiles of the group\\np1 = np.percentile(urgent_extreme.age, 25)\\np2 = np.percentile(urgent_extreme.age, 50)\\np3 = np.percentile(urgent_extreme.age, 75)\\n\\n#  separate group into 4 even groups based on age\\nu_extreme_age_1 = urgent_extreme[urgent_extreme.age < p1]\\nu_extreme_age_2 = urgent_extreme[(urgent_extreme.age > p1) & (urgent_extreme.age < p2)]\\nu_extreme_age_3 = urgent_extreme[(urgent_extreme.age > p2) & (urgent_extreme.age < p3)]\\nu_extreme_age_4 = urgent_extreme[urgent_extreme.age > p3]\";\n",
       "                var nbb_cells = Jupyter.notebook.get_cells();\n",
       "                for (var i = 0; i < nbb_cells.length; ++i) {\n",
       "                    if (nbb_cells[i].input_prompt_number == nbb_cell_id) {\n",
       "                        if (nbb_cells[i].get_text() == nbb_unformatted_code) {\n",
       "                             nbb_cells[i].set_text(nbb_formatted_code);\n",
       "                        }\n",
       "                        break;\n",
       "                    }\n",
       "                }\n",
       "            }, 500);\n",
       "            "
      ],
      "text/plain": [
       "<IPython.core.display.Javascript object>"
      ]
     },
     "metadata": {},
     "output_type": "display_data"
    },
    {
     "data": {
      "application/javascript": [
       "\n",
       "            setTimeout(function() {\n",
       "                var nbb_cell_id = 135;\n",
       "                var nbb_unformatted_code = \"## THESE VARIABLES MUST BE RUN TOGETHER BC P1-P3 ARE REUSED FOR EACH VARIABLE CALCULATION\\n#  find the 1st, 2nd, and 3rd percentiles of the group\\np1 = np.percentile(urgent_extreme.age, 25)\\np2 = np.percentile(urgent_extreme.age, 50)\\np3 = np.percentile(urgent_extreme.age, 75)\\n\\n#  separate group into 4 even groups based on age\\nu_extreme_age_1 = urgent_extreme[urgent_extreme.age < p1]\\nu_extreme_age_2 = urgent_extreme[(urgent_extreme.age > p1) & (urgent_extreme.age < p2)]\\nu_extreme_age_3 = urgent_extreme[(urgent_extreme.age > p2) & (urgent_extreme.age < p3)]\\nu_extreme_age_4 = urgent_extreme[urgent_extreme.age > p3]\";\n",
       "                var nbb_formatted_code = \"## THESE VARIABLES MUST BE RUN TOGETHER BC P1-P3 ARE REUSED FOR EACH VARIABLE CALCULATION\\n#  find the 1st, 2nd, and 3rd percentiles of the group\\np1 = np.percentile(urgent_extreme.age, 25)\\np2 = np.percentile(urgent_extreme.age, 50)\\np3 = np.percentile(urgent_extreme.age, 75)\\n\\n#  separate group into 4 even groups based on age\\nu_extreme_age_1 = urgent_extreme[urgent_extreme.age < p1]\\nu_extreme_age_2 = urgent_extreme[(urgent_extreme.age > p1) & (urgent_extreme.age < p2)]\\nu_extreme_age_3 = urgent_extreme[(urgent_extreme.age > p2) & (urgent_extreme.age < p3)]\\nu_extreme_age_4 = urgent_extreme[urgent_extreme.age > p3]\";\n",
       "                var nbb_cells = Jupyter.notebook.get_cells();\n",
       "                for (var i = 0; i < nbb_cells.length; ++i) {\n",
       "                    if (nbb_cells[i].input_prompt_number == nbb_cell_id) {\n",
       "                        if (nbb_cells[i].get_text() == nbb_unformatted_code) {\n",
       "                             nbb_cells[i].set_text(nbb_formatted_code);\n",
       "                        }\n",
       "                        break;\n",
       "                    }\n",
       "                }\n",
       "            }, 500);\n",
       "            "
      ],
      "text/plain": [
       "<IPython.core.display.Javascript object>"
      ]
     },
     "metadata": {},
     "output_type": "display_data"
    }
   ],
   "source": [
    "## THESE VARIABLES MUST BE RUN TOGETHER BC P1-P3 ARE REUSED FOR EACH VARIABLE CALCULATION\n",
    "#  find the 1st, 2nd, and 3rd percentiles of the group\n",
    "p1 = np.percentile(urgent_extreme.age, 25)\n",
    "p2 = np.percentile(urgent_extreme.age, 50)\n",
    "p3 = np.percentile(urgent_extreme.age, 75)\n",
    "\n",
    "#  separate group into 4 even groups based on age\n",
    "u_extreme_age_1 = urgent_extreme[urgent_extreme.age < p1]\n",
    "u_extreme_age_2 = urgent_extreme[(urgent_extreme.age > p1) & (urgent_extreme.age < p2)]\n",
    "u_extreme_age_3 = urgent_extreme[(urgent_extreme.age > p2) & (urgent_extreme.age < p3)]\n",
    "u_extreme_age_4 = urgent_extreme[urgent_extreme.age > p3]"
   ]
  },
  {
   "cell_type": "code",
   "execution_count": 145,
   "metadata": {
    "hidden": true
   },
   "outputs": [
    {
     "name": "stdout",
     "output_type": "stream",
     "text": [
      "Urgent, Extreme, group 1: 2011\n",
      "Urgent, Extreme, group 2: 2010\n",
      "Urgent, Extreme, group 3: 2010\n",
      "Urgent, Extreme, group 1: 2011\n"
     ]
    },
    {
     "data": {
      "application/javascript": [
       "\n",
       "            setTimeout(function() {\n",
       "                var nbb_cell_id = 145;\n",
       "                var nbb_unformatted_code = \"#  check group sizes\\nprint(\\\"Urgent, Extreme, group 1: \\\" + str(u_extreme_age_1.shape[0]))\\nprint(\\\"Urgent, Extreme, group 2: \\\" + str(u_extreme_age_2.shape[0]))\\nprint(\\\"Urgent, Extreme, group 3: \\\" + str(u_extreme_age_3.shape[0]))\\nprint(\\\"Urgent, Extreme, group 1: \\\" + str(u_extreme_age_4.shape[0]))\";\n",
       "                var nbb_formatted_code = \"#  check group sizes\\nprint(\\\"Urgent, Extreme, group 1: \\\" + str(u_extreme_age_1.shape[0]))\\nprint(\\\"Urgent, Extreme, group 2: \\\" + str(u_extreme_age_2.shape[0]))\\nprint(\\\"Urgent, Extreme, group 3: \\\" + str(u_extreme_age_3.shape[0]))\\nprint(\\\"Urgent, Extreme, group 1: \\\" + str(u_extreme_age_4.shape[0]))\";\n",
       "                var nbb_cells = Jupyter.notebook.get_cells();\n",
       "                for (var i = 0; i < nbb_cells.length; ++i) {\n",
       "                    if (nbb_cells[i].input_prompt_number == nbb_cell_id) {\n",
       "                        if (nbb_cells[i].get_text() == nbb_unformatted_code) {\n",
       "                             nbb_cells[i].set_text(nbb_formatted_code);\n",
       "                        }\n",
       "                        break;\n",
       "                    }\n",
       "                }\n",
       "            }, 500);\n",
       "            "
      ],
      "text/plain": [
       "<IPython.core.display.Javascript object>"
      ]
     },
     "metadata": {},
     "output_type": "display_data"
    },
    {
     "data": {
      "application/javascript": [
       "\n",
       "            setTimeout(function() {\n",
       "                var nbb_cell_id = 145;\n",
       "                var nbb_unformatted_code = \"#  check group sizes\\nprint(\\\"Urgent, Extreme, group 1: \\\" + str(u_extreme_age_1.shape[0]))\\nprint(\\\"Urgent, Extreme, group 2: \\\" + str(u_extreme_age_2.shape[0]))\\nprint(\\\"Urgent, Extreme, group 3: \\\" + str(u_extreme_age_3.shape[0]))\\nprint(\\\"Urgent, Extreme, group 1: \\\" + str(u_extreme_age_4.shape[0]))\";\n",
       "                var nbb_formatted_code = \"#  check group sizes\\nprint(\\\"Urgent, Extreme, group 1: \\\" + str(u_extreme_age_1.shape[0]))\\nprint(\\\"Urgent, Extreme, group 2: \\\" + str(u_extreme_age_2.shape[0]))\\nprint(\\\"Urgent, Extreme, group 3: \\\" + str(u_extreme_age_3.shape[0]))\\nprint(\\\"Urgent, Extreme, group 1: \\\" + str(u_extreme_age_4.shape[0]))\";\n",
       "                var nbb_cells = Jupyter.notebook.get_cells();\n",
       "                for (var i = 0; i < nbb_cells.length; ++i) {\n",
       "                    if (nbb_cells[i].input_prompt_number == nbb_cell_id) {\n",
       "                        if (nbb_cells[i].get_text() == nbb_unformatted_code) {\n",
       "                             nbb_cells[i].set_text(nbb_formatted_code);\n",
       "                        }\n",
       "                        break;\n",
       "                    }\n",
       "                }\n",
       "            }, 500);\n",
       "            "
      ],
      "text/plain": [
       "<IPython.core.display.Javascript object>"
      ]
     },
     "metadata": {},
     "output_type": "display_data"
    }
   ],
   "source": [
    "#  check group sizes\n",
    "print(\"Urgent, Extreme, group 1: \" + str(u_extreme_age_1.shape[0]))\n",
    "print(\"Urgent, Extreme, group 2: \" + str(u_extreme_age_2.shape[0]))\n",
    "print(\"Urgent, Extreme, group 3: \" + str(u_extreme_age_3.shape[0]))\n",
    "print(\"Urgent, Extreme, group 1: \" + str(u_extreme_age_4.shape[0]))"
   ]
  },
  {
   "cell_type": "code",
   "execution_count": 151,
   "metadata": {
    "hidden": true
   },
   "outputs": [
    {
     "data": {
      "image/png": "[encoded data removed]",
      "text/plain": [
       "<Figure size 432x288 with 1 Axes>"
      ]
     },
     "metadata": {
      "needs_background": "light"
     },
     "output_type": "display_data"
    },
    {
     "data": {
      "application/javascript": [
       "\n",
       "            setTimeout(function() {\n",
       "                var nbb_cell_id = 151;\n",
       "                var nbb_unformatted_code = \"#  overlay of each groups distribution of stay length\\nsns.distplot(u_extreme_age_1.stay)\\nsns.distplot(u_extreme_age_2.stay)\\nsns.distplot(u_extreme_age_3.stay)\\nsns.distplot(u_extreme_age_4.stay)\\nplt.show()\";\n",
       "                var nbb_formatted_code = \"#  overlay of each groups distribution of stay length\\nsns.distplot(u_extreme_age_1.stay)\\nsns.distplot(u_extreme_age_2.stay)\\nsns.distplot(u_extreme_age_3.stay)\\nsns.distplot(u_extreme_age_4.stay)\\nplt.show()\";\n",
       "                var nbb_cells = Jupyter.notebook.get_cells();\n",
       "                for (var i = 0; i < nbb_cells.length; ++i) {\n",
       "                    if (nbb_cells[i].input_prompt_number == nbb_cell_id) {\n",
       "                        if (nbb_cells[i].get_text() == nbb_unformatted_code) {\n",
       "                             nbb_cells[i].set_text(nbb_formatted_code);\n",
       "                        }\n",
       "                        break;\n",
       "                    }\n",
       "                }\n",
       "            }, 500);\n",
       "            "
      ],
      "text/plain": [
       "<IPython.core.display.Javascript object>"
      ]
     },
     "metadata": {},
     "output_type": "display_data"
    },
    {
     "data": {
      "application/javascript": [
       "\n",
       "            setTimeout(function() {\n",
       "                var nbb_cell_id = 151;\n",
       "                var nbb_unformatted_code = \"#  overlay of each groups distribution of stay length\\nsns.distplot(u_extreme_age_1.stay)\\nsns.distplot(u_extreme_age_2.stay)\\nsns.distplot(u_extreme_age_3.stay)\\nsns.distplot(u_extreme_age_4.stay)\\nplt.show()\";\n",
       "                var nbb_formatted_code = \"#  overlay of each groups distribution of stay length\\nsns.distplot(u_extreme_age_1.stay)\\nsns.distplot(u_extreme_age_2.stay)\\nsns.distplot(u_extreme_age_3.stay)\\nsns.distplot(u_extreme_age_4.stay)\\nplt.show()\";\n",
       "                var nbb_cells = Jupyter.notebook.get_cells();\n",
       "                for (var i = 0; i < nbb_cells.length; ++i) {\n",
       "                    if (nbb_cells[i].input_prompt_number == nbb_cell_id) {\n",
       "                        if (nbb_cells[i].get_text() == nbb_unformatted_code) {\n",
       "                             nbb_cells[i].set_text(nbb_formatted_code);\n",
       "                        }\n",
       "                        break;\n",
       "                    }\n",
       "                }\n",
       "            }, 500);\n",
       "            "
      ],
      "text/plain": [
       "<IPython.core.display.Javascript object>"
      ]
     },
     "metadata": {},
     "output_type": "display_data"
    }
   ],
   "source": [
    "#  overlay of each groups distribution of stay length\n",
    "sns.distplot(u_extreme_age_1.stay)\n",
    "sns.distplot(u_extreme_age_2.stay)\n",
    "sns.distplot(u_extreme_age_3.stay)\n",
    "sns.distplot(u_extreme_age_4.stay)\n",
    "plt.show()"
   ]
  }
 ],
 "metadata": {
  "celltoolbar": "Initialization Cell",
  "kernelspec": {
   "display_name": "Python 3",
   "language": "python",
   "name": "python3"
  },
  "language_info": {
   "codemirror_mode": {
    "name": "ipython",
    "version": 3
   },
   "file_extension": ".py",
   "mimetype": "text/x-python",
   "name": "python",
   "nbconvert_exporter": "python",
   "pygments_lexer": "ipython3",
   "version": "3.8.3"
  },
  "latex_envs": {
   "LaTeX_envs_menu_present": true,
   "autoclose": false,
   "autocomplete": true,
   "bibliofile": "biblio.bib",
   "cite_by": "apalike",
   "current_citInitial": 1,
   "eqLabelWithNumbers": true,
   "eqNumInitial": 1,
   "hotkeys": {
    "equation": "Ctrl-E",
    "itemize": "Ctrl-I"
   },
   "labels_anchors": false,
   "latex_user_defs": false,
   "report_style_numbering": false,
   "user_envs_cfg": false
  },
  "toc": {
   "base_numbering": 1,
   "nav_menu": {},
   "number_sections": true,
   "sideBar": true,
   "skip_h1_title": false,
   "title_cell": "Table of Contents",
   "title_sidebar": "Contents",
   "toc_cell": false,
   "toc_position": {
    "height": "calc(100% - 180px)",
    "left": "10px",
    "top": "150px",
    "width": "342px"
   },
   "toc_section_display": true,
   "toc_window_display": true
  }
 },
 "nbformat": 4,
 "nbformat_minor": 4
}
