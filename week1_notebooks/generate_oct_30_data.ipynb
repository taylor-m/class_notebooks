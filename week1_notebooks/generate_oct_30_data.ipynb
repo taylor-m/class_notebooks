{
 "cells": [
  {
   "cell_type": "code",
   "execution_count": null,
   "metadata": {},
   "outputs": [],
   "source": [
    "%reload_ext nb_black"
   ]
  },
  {
   "cell_type": "code",
   "execution_count": null,
   "metadata": {},
   "outputs": [],
   "source": [
    "import math\n",
    "\n",
    "import pandas as pd\n",
    "import numpy as np\n",
    "\n",
    "import seaborn as sns\n",
    "import matplotlib.pyplot as plt\n",
    "\n",
    "%matplotlib inline"
   ]
  },
  {
   "cell_type": "code",
   "execution_count": null,
   "metadata": {},
   "outputs": [],
   "source": [
    "def generate_ellipse(x=0, y=0, rx=10, ry=10, n_points=36):\n",
    "    pt_df = pd.DataFrame(np.zeros((n_points, 2)), columns=[\"x\", \"y\"])\n",
    "\n",
    "    step = 2 * math.pi / n_points\n",
    "    for i in range(n_points):\n",
    "        angle = i * step\n",
    "        xi = math.cos(angle) * rx\n",
    "        yi = math.sin(angle) * ry\n",
    "\n",
    "        pt_df.loc[i, \"x\"] = xi\n",
    "        pt_df.loc[i, \"y\"] = yi\n",
    "\n",
    "    return pt_df"
   ]
  },
  {
   "cell_type": "code",
   "execution_count": null,
   "metadata": {},
   "outputs": [],
   "source": [
    "l_eye_df = pd.DataFrame(\n",
    "    {\"x\": [-4, -5.5, -2.5], \"y\": [5.5, 3, 3], \"group\": \"a\", \"subgroup\": \"a\"}\n",
    ")\n",
    "r_eye_df = l_eye_df.copy()\n",
    "r_eye_df[\"x\"] *= -1\n",
    "r_eye_df[\"subgroup\"] = \"b\"\n",
    "\n",
    "\n",
    "eyes_df = pd.concat((l_eye_df, r_eye_df))"
   ]
  },
  {
   "cell_type": "code",
   "execution_count": null,
   "metadata": {},
   "outputs": [],
   "source": [
    "nose_df = pd.DataFrame({\"x\": [0, -1, 1], \"y\": [1, 0, 0], \"group\": \"a\", \"subgroup\": \"c\"})"
   ]
  },
  {
   "cell_type": "code",
   "execution_count": null,
   "metadata": {},
   "outputs": [],
   "source": [
    "l_mouth_df = pd.DataFrame(\n",
    "    {\n",
    "        \"x\": [0, 0, -8.25, -7, -4.25, -3],\n",
    "        \"y\": [-3.75, -7, -1.5, -4, -3.25, -6],\n",
    "        \"group\": \"a\",\n",
    "        \"subgroup\": \"d\",\n",
    "    }\n",
    ")\n",
    "r_mouth_df = l_mouth_df.copy()\n",
    "r_mouth_df[\"x\"] *= -1\n",
    "mouth_df = pd.concat((l_mouth_df, r_mouth_df))"
   ]
  },
  {
   "cell_type": "code",
   "execution_count": null,
   "metadata": {},
   "outputs": [],
   "source": [
    "stem_df = pd.DataFrame(\n",
    "    {\n",
    "        \"x\": [0, 0.5, 2, 1, 1.5, 3],\n",
    "        \"y\": [11, 12, 13, 11, 12, 13],\n",
    "        \"group\": \"c\",\n",
    "        \"subgroup\": \"e\",\n",
    "    }\n",
    ")"
   ]
  },
  {
   "cell_type": "code",
   "execution_count": null,
   "metadata": {},
   "outputs": [],
   "source": [
    "pumpkin_df = generate_ellipse(rx=13, ry=10)\n",
    "pumpkin_df += np.random.uniform(-0.2, 0.2, pumpkin_df.shape)\n",
    "pumpkin_df[\"group\"] = \"b\"\n",
    "pumpkin_df[\"subgroup\"] = \"f\""
   ]
  },
  {
   "cell_type": "code",
   "execution_count": null,
   "metadata": {},
   "outputs": [],
   "source": [
    "df = pd.concat((eyes_df, nose_df, mouth_df, pumpkin_df, stem_df))\n",
    "df.to_csv(\"week1/oct_30_practice_data.csv\")"
   ]
  },
  {
   "cell_type": "markdown",
   "metadata": {},
   "source": [
    "```python\n",
    "ax = sns.scatterplot(\n",
    "    x=\"x\",\n",
    "    y=\"y\",\n",
    "    hue=\"group\",\n",
    "    palette=sns.color_palette([\"black\", \"orange\", \"green\"]),\n",
    "    data=df,\n",
    ")\n",
    "ax.set_aspect(\"equal\", \"datalim\")\n",
    "plt.axis(\"off\")\n",
    "plt.legend().remove()\n",
    "plt.show()\n",
    "```"
   ]
  }
 ],
 "metadata": {
  "kernelspec": {
   "display_name": "Python 3",
   "language": "python",
   "name": "python3"
  },
  "language_info": {
   "codemirror_mode": {
    "name": "ipython",
    "version": 3
   },
   "file_extension": ".py",
   "mimetype": "text/x-python",
   "name": "python",
   "nbconvert_exporter": "python",
   "pygments_lexer": "ipython3",
   "version": "3.7.7"
  }
 },
 "nbformat": 4,
 "nbformat_minor": 2
}
