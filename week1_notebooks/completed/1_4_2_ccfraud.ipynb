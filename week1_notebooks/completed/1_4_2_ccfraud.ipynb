{
  "nbformat": 4,
  "nbformat_minor": 0,
  "metadata": {
    "kernelspec": {
      "display_name": "Python 3",
      "language": "python",
      "name": "python3"
    },
    "language_info": {
      "codemirror_mode": {
        "name": "ipython",
        "version": 3
      },
      "file_extension": ".py",
      "mimetype": "text/x-python",
      "name": "python",
      "nbconvert_exporter": "python",
      "pygments_lexer": "ipython3",
      "version": "3.7.6"
    },
    "colab": {
      "name": "1_4_2_creditcard_a.ipynb",
      "provenance": [],
      "collapsed_sections": []
    }
  },
  "cells": [
    {
      "cell_type": "markdown",
      "metadata": {
        "id": "tB7WmBX-E-Hi"
      },
      "source": [
        "# Inferential Statistics Assignment"
      ]
    },
    {
      "cell_type": "code",
      "metadata": {
        "id": "WzNb9xULE-Hk"
      },
      "source": [
        "import numpy as np\n",
        "import pandas as pd\n",
        "\n",
        "import seaborn as sb\n",
        "import matplotlib.pyplot as plt\n",
        "\n",
        "%matplotlib inline"
      ],
      "execution_count": 1,
      "outputs": []
    },
    {
      "cell_type": "code",
      "metadata": {
        "id": "GUFlYOZ7GXta"
      },
      "source": [
        "# use credit card fraud dataset\n",
        "data_url = 'https://raw.githubusercontent.com/Thinkful-Ed/data-science-lectures/master/credit_card_fraud.csv'"
      ],
      "execution_count": 2,
      "outputs": []
    },
    {
      "cell_type": "markdown",
      "metadata": {
        "id": "BebNLQKJE-Ho"
      },
      "source": [
        "### Read the credit card fraud dataset into a Pandas data frame."
      ]
    },
    {
      "cell_type": "code",
      "metadata": {
        "id": "SS5cvl_EE-Hp"
      },
      "source": [
        "df = pd.read_csv(data_url)"
      ],
      "execution_count": 3,
      "outputs": []
    },
    {
      "cell_type": "code",
      "metadata": {
        "id": "is1Rsl-okO0Q",
        "outputId": "4174371e-f756-43d9-d3bd-4724a85c124d",
        "colab": {
          "base_uri": "https://localhost:8080/"
        }
      },
      "source": [
        "df.shape"
      ],
      "execution_count": 4,
      "outputs": [
        {
          "output_type": "execute_result",
          "data": {
            "text/plain": [
              "(11961, 10)"
            ]
          },
          "metadata": {
            "tags": []
          },
          "execution_count": 4
        }
      ]
    },
    {
      "cell_type": "code",
      "metadata": {
        "id": "pZjx-J5TkNFk",
        "outputId": "222b893f-e1c1-4691-e796-3cd9acec2a84",
        "colab": {
          "base_uri": "https://localhost:8080/",
          "height": 206
        }
      },
      "source": [
        "df.head()"
      ],
      "execution_count": 5,
      "outputs": [
        {
          "output_type": "execute_result",
          "data": {
            "text/html": [
              "<div>\n",
              "<style scoped>\n",
              "    .dataframe tbody tr th:only-of-type {\n",
              "        vertical-align: middle;\n",
              "    }\n",
              "\n",
              "    .dataframe tbody tr th {\n",
              "        vertical-align: top;\n",
              "    }\n",
              "\n",
              "    .dataframe thead th {\n",
              "        text-align: right;\n",
              "    }\n",
              "</style>\n",
              "<table border=\"1\" class=\"dataframe\">\n",
              "  <thead>\n",
              "    <tr style=\"text-align: right;\">\n",
              "      <th></th>\n",
              "      <th>transaction</th>\n",
              "      <th>type</th>\n",
              "      <th>amount</th>\n",
              "      <th>nameOrig</th>\n",
              "      <th>oldbalanceOrg</th>\n",
              "      <th>newbalanceOrig</th>\n",
              "      <th>nameDest</th>\n",
              "      <th>oldbalanceDest</th>\n",
              "      <th>newbalanceDest</th>\n",
              "      <th>isFraud</th>\n",
              "    </tr>\n",
              "  </thead>\n",
              "  <tbody>\n",
              "    <tr>\n",
              "      <th>0</th>\n",
              "      <td>1</td>\n",
              "      <td>DEBIT</td>\n",
              "      <td>7414.00</td>\n",
              "      <td>C446504763</td>\n",
              "      <td>151707.00</td>\n",
              "      <td>144293.00</td>\n",
              "      <td>C1854925027</td>\n",
              "      <td>39000000.0</td>\n",
              "      <td>39900000.0</td>\n",
              "      <td>0</td>\n",
              "    </tr>\n",
              "    <tr>\n",
              "      <th>1</th>\n",
              "      <td>2</td>\n",
              "      <td>DEBIT</td>\n",
              "      <td>2899.20</td>\n",
              "      <td>C757752441</td>\n",
              "      <td>0.00</td>\n",
              "      <td>0.00</td>\n",
              "      <td>C1854925027</td>\n",
              "      <td>39000000.0</td>\n",
              "      <td>39000000.0</td>\n",
              "      <td>0</td>\n",
              "    </tr>\n",
              "    <tr>\n",
              "      <th>2</th>\n",
              "      <td>3</td>\n",
              "      <td>CASH_OUT</td>\n",
              "      <td>17447.35</td>\n",
              "      <td>C1004533006</td>\n",
              "      <td>0.00</td>\n",
              "      <td>0.00</td>\n",
              "      <td>C1620573488</td>\n",
              "      <td>34400000.0</td>\n",
              "      <td>35000000.0</td>\n",
              "      <td>0</td>\n",
              "    </tr>\n",
              "    <tr>\n",
              "      <th>3</th>\n",
              "      <td>4</td>\n",
              "      <td>CASH_OUT</td>\n",
              "      <td>477.53</td>\n",
              "      <td>C23579491</td>\n",
              "      <td>0.00</td>\n",
              "      <td>0.00</td>\n",
              "      <td>C356023140</td>\n",
              "      <td>33800000.0</td>\n",
              "      <td>33800000.0</td>\n",
              "      <td>0</td>\n",
              "    </tr>\n",
              "    <tr>\n",
              "      <th>4</th>\n",
              "      <td>5</td>\n",
              "      <td>CASH_IN</td>\n",
              "      <td>18184.97</td>\n",
              "      <td>C861745646</td>\n",
              "      <td>6101058.91</td>\n",
              "      <td>6119243.88</td>\n",
              "      <td>C356023140</td>\n",
              "      <td>33800000.0</td>\n",
              "      <td>33800000.0</td>\n",
              "      <td>0</td>\n",
              "    </tr>\n",
              "  </tbody>\n",
              "</table>\n",
              "</div>"
            ],
            "text/plain": [
              "   transaction      type    amount  ... oldbalanceDest  newbalanceDest  isFraud\n",
              "0            1     DEBIT   7414.00  ...     39000000.0      39900000.0        0\n",
              "1            2     DEBIT   2899.20  ...     39000000.0      39000000.0        0\n",
              "2            3  CASH_OUT  17447.35  ...     34400000.0      35000000.0        0\n",
              "3            4  CASH_OUT    477.53  ...     33800000.0      33800000.0        0\n",
              "4            5   CASH_IN  18184.97  ...     33800000.0      33800000.0        0\n",
              "\n",
              "[5 rows x 10 columns]"
            ]
          },
          "metadata": {
            "tags": []
          },
          "execution_count": 5
        }
      ]
    },
    {
      "cell_type": "markdown",
      "metadata": {
        "id": "Ez9lcwpJE-Hs"
      },
      "source": [
        "### Generate a histogram that shows the data distribution of the \"amount\" field in the data."
      ]
    },
    {
      "cell_type": "code",
      "metadata": {
        "id": "Y7zyEYj8E-Hs",
        "outputId": "3f3c9d94-9e50-44d8-e392-76ccab142c3a",
        "colab": {
          "base_uri": "https://localhost:8080/",
          "height": 297
        }
      },
      "source": [
        "sb.histplot(df['amount'])"
      ],
      "execution_count": 6,
      "outputs": [
        {
          "output_type": "execute_result",
          "data": {
            "text/plain": [
              "<matplotlib.axes._subplots.AxesSubplot at 0x7fdb1ba30978>"
            ]
          },
          "metadata": {
            "tags": []
          },
          "execution_count": 6
        },
        {
          "output_type": "display_data",
          "data": {
            "image/png": "[encoded data removed]",
            "text/plain": [
              "<Figure size 432x288 with 1 Axes>"
            ]
          },
          "metadata": {
            "tags": [],
            "needs_background": "light"
          }
        }
      ]
    },
    {
      "cell_type": "markdown",
      "metadata": {
        "id": "H36sNQHVE-Hu"
      },
      "source": [
        "### Randomly sample with replacement 1,000 records from the data set and calculate the mean of the \"amount\" field.\n",
        "\n",
        "Run the cell a few times and see how the mean changes based on the records that are sampled."
      ]
    },
    {
      "cell_type": "code",
      "metadata": {
        "id": "D_-cS2rcE-Hv",
        "outputId": "d14909c0-5d88-4c50-ab5f-6b215b1ee1b2",
        "colab": {
          "base_uri": "https://localhost:8080/"
        }
      },
      "source": [
        "df['amount'].sample(1000, replace=True).mean()"
      ],
      "execution_count": 7,
      "outputs": [
        {
          "output_type": "execute_result",
          "data": {
            "text/plain": [
              "9224.509699999991"
            ]
          },
          "metadata": {
            "tags": []
          },
          "execution_count": 7
        }
      ]
    },
    {
      "cell_type": "markdown",
      "metadata": {
        "id": "W_1XLrOZE-Hy"
      },
      "source": [
        "### Bootstrap a sampling distribution for the \"amount\" field's mean and generate a histogram showing the distribution of sample means.\n",
        "\n",
        "- Generate one sampling distribution using 500 samples of size 8.\n",
        "- Generate another sampling distribution using 500 samples of size 10,000.\n",
        "- Re-generate the two sampling distributions multiple times, what do you notice?\n",
        "- Play with the small sample size used by increasing it, is there a point where you start to see consistent results being output?"
      ]
    },
    {
      "cell_type": "code",
      "metadata": {
        "id": "JBEOwzjklTT1",
        "outputId": "e31ae697-32f8-481b-c240-2131a327b056",
        "colab": {
          "base_uri": "https://localhost:8080/",
          "height": 265
        }
      },
      "source": [
        "n_samples = 500\n",
        "sample_size = 1000\n",
        "sample_means = []\n",
        "samples_count = 0\n",
        "while samples_count < n_samples:\n",
        "    sample_mean = df['amount'].sample(sample_size, replace=True).mean()\n",
        "    sample_means.append(sample_mean)\n",
        "    samples_count += 1\n",
        "\n",
        "dist = sb.histplot(sample_means)"
      ],
      "execution_count": 8,
      "outputs": [
        {
          "output_type": "display_data",
          "data": {
            "image/png": "[encoded data removed]",
            "text/plain": [
              "<Figure size 432x288 with 1 Axes>"
            ]
          },
          "metadata": {
            "tags": [],
            "needs_background": "light"
          }
        }
      ]
    },
    {
      "cell_type": "markdown",
      "metadata": {
        "id": "Q3rc9iRKE-H1"
      },
      "source": [
        "### Bayesian inference\n",
        "\n",
        "Using the `'isFraud'` field from the data, create a distribution that shows the potential fraud rates that could have resulted in the number of frauds seen in the sample.\n",
        "\n",
        "#### **Identify an approriate distribution to model with**\n",
        "\n",
        "Before you start coding, what distribution would best model the count of frauds in our dataset?\n",
        "\n",
        "Think of each customer as a trial, and think of each fraud as a 'success' (success here just means our outcome of interest).  If you get stuck you can google: `\"discrete probability distribution of the number of successes in a sequence of n independent yes/no experiments\"`.\n",
        "\n",
        "#### **The process you need to code**\n",
        "\n",
        "1. Store the observerd sample size\n",
        "2. Store the observed fraud count (this is the number of frauds actually seen in our sample)\n",
        "\n",
        "\n",
        "3. Generate a random fraud rate (any number between 0-1)\n",
        "\n",
        "\n",
        "4. Use the distribution you identified to generate a random number using the random fraud rate and the observed sample size (this number represents how many frauds we could see if the fraud rate was equal to the randomly generated rate)\n",
        "\n",
        "5. Write a for loop to repeat this process many times (>= 100000)\n",
        "6. If the random number from step 4 is equal to the observed fraud count, save it to a list of possible population fraud rates. If these two are equal it shows that the random rate could be the true fraud rate of the population our sample came from.\n",
        "\n",
        "7. Plot the distribution of the possible fraud rates your simulation created.\n",
        "8. Compare the distribution to the observed rate in the sample."
      ]
    },
    {
      "cell_type": "code",
      "metadata": {
        "id": "zlbjOoCNE-H1"
      },
      "source": [
        "n_observed = df['isFraud'].size\n",
        "n_fraud = df['isFraud'].sum()\n",
        "fraud_rate = df['isFraud'].mean()"
      ],
      "execution_count": 19,
      "outputs": []
    },
    {
      "cell_type": "code",
      "metadata": {
        "id": "D9pA4bJrwICq"
      },
      "source": [
        "random_n_fraud = np.random.binomial(n_observed, random_rate)\n",
        "possible_fraud_rates = []\n",
        "\n",
        "for _ in range(10000000):\n",
        "    random_fraud_rate = np.random.beta(a=1, b=1)\n",
        "    random_n_fraud = np.random.binomial(n_observed, random_fraud_rate)\n",
        "    if random_n_fraud == n_fraud:\n",
        "        possible_fraud_rates.append(random_fraud_rate)\n"
      ],
      "execution_count": 36,
      "outputs": []
    },
    {
      "cell_type": "code",
      "metadata": {
        "id": "4UaER_U1_JhI",
        "outputId": "5dfdc535-b70e-45a3-ace3-68d394d4876c",
        "colab": {
          "base_uri": "https://localhost:8080/",
          "height": 283
        }
      },
      "source": [
        "sb.histplot(possible_fraud_rates)\n",
        "plt.axvline(fraud_rate, c='r')"
      ],
      "execution_count": 37,
      "outputs": [
        {
          "output_type": "execute_result",
          "data": {
            "text/plain": [
              "<matplotlib.lines.Line2D at 0x7fdb1729c198>"
            ]
          },
          "metadata": {
            "tags": []
          },
          "execution_count": 37
        },
        {
          "output_type": "display_data",
          "data": {
            "image/png": "[encoded data removed]",
            "text/plain": [
              "<Figure size 432x288 with 1 Axes>"
            ]
          },
          "metadata": {
            "tags": [],
            "needs_background": "light"
          }
        }
      ]
    }
  ]
}