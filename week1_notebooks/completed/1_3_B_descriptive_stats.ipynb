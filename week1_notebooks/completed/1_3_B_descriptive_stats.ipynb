{
  "nbformat": 4,
  "nbformat_minor": 0,
  "metadata": {
    "kernelspec": {
      "display_name": "Python 3",
      "language": "python",
      "name": "python3"
    },
    "language_info": {
      "codemirror_mode": {
        "name": "ipython",
        "version": 3
      },
      "file_extension": ".py",
      "mimetype": "text/x-python",
      "name": "python",
      "nbconvert_exporter": "python",
      "pygments_lexer": "ipython3",
      "version": "3.8.3"
    },
    "colab": {
      "name": "1_3_B_descriptive_stats.ipynb",
      "provenance": []
    }
  },
  "cells": [
    {
      "cell_type": "code",
      "metadata": {
        "id": "tSOCTeqJliES"
      },
      "source": [
        "%reload_ext nb_black"
      ],
      "execution_count": null,
      "outputs": []
    },
    {
      "cell_type": "code",
      "metadata": {
        "id": "sSvIIBiwliEe"
      },
      "source": [
        "import pandas as pd\n",
        "import seaborn as sb\n",
        "import matplotlib.pyplot as plt\n",
        "\n",
        "%matplotlib inline\n",
        "\n",
        "data_url = \"https://tf-assets-prod.s3.amazonaws.com/tf-curric/data-science/Data%20Sets%20Clustering/nba_player_seasons.csv\""
      ],
      "execution_count": 3,
      "outputs": []
    },
    {
      "cell_type": "markdown",
      "metadata": {
        "id": "1MGhpnZzliEp"
      },
      "source": [
        "* Read the data located at `data_url` into a `pandas` dataframe"
      ]
    },
    {
      "cell_type": "code",
      "metadata": {
        "hideOutput": true,
        "id": "z7xDQ-pIliEq"
      },
      "source": [
        "df = pd.read_csv(data_url)"
      ],
      "execution_count": 4,
      "outputs": []
    },
    {
      "cell_type": "markdown",
      "metadata": {
        "id": "zqvfXhLzliEz"
      },
      "source": [
        "Get to know the data, what things should we explore?\n",
        "\n",
        "* List of things I must insist we explore (the rest is up to you)\n",
        "  * The number of rows/columns\n",
        "  * The datatypes of each column\n",
        "  "
      ]
    },
    {
      "cell_type": "code",
      "metadata": {
        "id": "aiwGAayBliE0",
        "outputId": "0182c742-a8bc-4b62-b53d-f81dc3bcaa27",
        "colab": {
          "base_uri": "https://localhost:8080/"
        }
      },
      "source": [
        "df.shape"
      ],
      "execution_count": 5,
      "outputs": [
        {
          "output_type": "execute_result",
          "data": {
            "text/plain": [
              "(2141, 30)"
            ]
          },
          "metadata": {
            "tags": []
          },
          "execution_count": 5
        }
      ]
    },
    {
      "cell_type": "code",
      "metadata": {
        "collapsed": true,
        "id": "s9PCvu39liE9",
        "outputId": "998cc53a-3ee0-4e06-a1d1-3baf6afd511e",
        "colab": {
          "base_uri": "https://localhost:8080/"
        }
      },
      "source": [
        "df.info()"
      ],
      "execution_count": 6,
      "outputs": [
        {
          "output_type": "stream",
          "text": [
            "<class 'pandas.core.frame.DataFrame'>\n",
            "RangeIndex: 2141 entries, 0 to 2140\n",
            "Data columns (total 30 columns):\n",
            " #   Column  Non-Null Count  Dtype  \n",
            "---  ------  --------------  -----  \n",
            " 0   Seas    2141 non-null   int64  \n",
            " 1   Player  2141 non-null   object \n",
            " 2   Pos     2141 non-null   object \n",
            " 3   Age     2141 non-null   int64  \n",
            " 4   Tm      2141 non-null   object \n",
            " 5   G       2141 non-null   int64  \n",
            " 6   GS      2141 non-null   int64  \n",
            " 7   MP      2141 non-null   float64\n",
            " 8   FG      2141 non-null   float64\n",
            " 9   FGA     2141 non-null   float64\n",
            " 10  FG%     2131 non-null   float64\n",
            " 11  3P      2141 non-null   float64\n",
            " 12  3PA     2141 non-null   float64\n",
            " 13  3P%     1967 non-null   float64\n",
            " 14  2P      2141 non-null   float64\n",
            " 15  2PA     2141 non-null   float64\n",
            " 16  2P%     2110 non-null   float64\n",
            " 17  eFG%    2131 non-null   float64\n",
            " 18  FT      2141 non-null   float64\n",
            " 19  FTA     2141 non-null   float64\n",
            " 20  FT%     2037 non-null   float64\n",
            " 21  ORB     2141 non-null   float64\n",
            " 22  DRB     2141 non-null   float64\n",
            " 23  TRB     2141 non-null   float64\n",
            " 24  AST     2141 non-null   float64\n",
            " 25  STL     2141 non-null   float64\n",
            " 26  BLK     2141 non-null   float64\n",
            " 27  TOV     2141 non-null   float64\n",
            " 28  PF      2141 non-null   float64\n",
            " 29  PTS     2141 non-null   float64\n",
            "dtypes: float64(23), int64(4), object(3)\n",
            "memory usage: 501.9+ KB\n"
          ],
          "name": "stdout"
        }
      ]
    },
    {
      "cell_type": "markdown",
      "metadata": {
        "id": "XkLppkmoliFD"
      },
      "source": [
        "## What is a 'typical' number of the points column (`'PTS'`)?\n",
        "\n",
        "Present your answer(s) with proof:\n",
        "* numerically\n",
        "  * generate at least 2 summary metrics that can be thought of as 'typical'\n",
        "* graphically\n",
        "  * what plot type might we use?\n",
        "  * add your numeric values to the plot"
      ]
    },
    {
      "cell_type": "code",
      "metadata": {
        "id": "TRDjcMYaliFE",
        "outputId": "c72ab102-20ff-4c3c-c9bf-ba43ffaabcb8",
        "colab": {
          "base_uri": "https://localhost:8080/"
        }
      },
      "source": [
        "df[\"PTS\"].describe()"
      ],
      "execution_count": 7,
      "outputs": [
        {
          "output_type": "execute_result",
          "data": {
            "text/plain": [
              "count    2141.000000\n",
              "mean        8.321906\n",
              "std         5.890566\n",
              "min         0.000000\n",
              "25%         4.000000\n",
              "50%         6.900000\n",
              "75%        11.400000\n",
              "max        36.100000\n",
              "Name: PTS, dtype: float64"
            ]
          },
          "metadata": {
            "tags": []
          },
          "execution_count": 7
        }
      ]
    },
    {
      "cell_type": "code",
      "metadata": {
        "id": "8i4TjAPwliFK",
        "outputId": "f0d99085-d03b-4928-e47a-651171ef6642",
        "colab": {
          "base_uri": "https://localhost:8080/",
          "height": 206
        }
      },
      "source": [
        "df.head()"
      ],
      "execution_count": 8,
      "outputs": [
        {
          "output_type": "execute_result",
          "data": {
            "text/html": [
              "<div>\n",
              "<style scoped>\n",
              "    .dataframe tbody tr th:only-of-type {\n",
              "        vertical-align: middle;\n",
              "    }\n",
              "\n",
              "    .dataframe tbody tr th {\n",
              "        vertical-align: top;\n",
              "    }\n",
              "\n",
              "    .dataframe thead th {\n",
              "        text-align: right;\n",
              "    }\n",
              "</style>\n",
              "<table border=\"1\" class=\"dataframe\">\n",
              "  <thead>\n",
              "    <tr style=\"text-align: right;\">\n",
              "      <th></th>\n",
              "      <th>Seas</th>\n",
              "      <th>Player</th>\n",
              "      <th>Pos</th>\n",
              "      <th>Age</th>\n",
              "      <th>Tm</th>\n",
              "      <th>G</th>\n",
              "      <th>GS</th>\n",
              "      <th>MP</th>\n",
              "      <th>FG</th>\n",
              "      <th>FGA</th>\n",
              "      <th>FG%</th>\n",
              "      <th>3P</th>\n",
              "      <th>3PA</th>\n",
              "      <th>3P%</th>\n",
              "      <th>2P</th>\n",
              "      <th>2PA</th>\n",
              "      <th>2P%</th>\n",
              "      <th>eFG%</th>\n",
              "      <th>FT</th>\n",
              "      <th>FTA</th>\n",
              "      <th>FT%</th>\n",
              "      <th>ORB</th>\n",
              "      <th>DRB</th>\n",
              "      <th>TRB</th>\n",
              "      <th>AST</th>\n",
              "      <th>STL</th>\n",
              "      <th>BLK</th>\n",
              "      <th>TOV</th>\n",
              "      <th>PF</th>\n",
              "      <th>PTS</th>\n",
              "    </tr>\n",
              "  </thead>\n",
              "  <tbody>\n",
              "    <tr>\n",
              "      <th>0</th>\n",
              "      <td>2019</td>\n",
              "      <td>Álex Abrines</td>\n",
              "      <td>SG</td>\n",
              "      <td>25</td>\n",
              "      <td>OKC</td>\n",
              "      <td>31</td>\n",
              "      <td>2</td>\n",
              "      <td>19.0</td>\n",
              "      <td>1.8</td>\n",
              "      <td>5.1</td>\n",
              "      <td>0.357</td>\n",
              "      <td>1.3</td>\n",
              "      <td>4.1</td>\n",
              "      <td>0.323</td>\n",
              "      <td>0.5</td>\n",
              "      <td>1.0</td>\n",
              "      <td>0.500</td>\n",
              "      <td>0.487</td>\n",
              "      <td>0.4</td>\n",
              "      <td>0.4</td>\n",
              "      <td>0.923</td>\n",
              "      <td>0.2</td>\n",
              "      <td>1.4</td>\n",
              "      <td>1.5</td>\n",
              "      <td>0.6</td>\n",
              "      <td>0.5</td>\n",
              "      <td>0.2</td>\n",
              "      <td>0.5</td>\n",
              "      <td>1.7</td>\n",
              "      <td>5.3</td>\n",
              "    </tr>\n",
              "    <tr>\n",
              "      <th>1</th>\n",
              "      <td>2019</td>\n",
              "      <td>Quincy Acy</td>\n",
              "      <td>PF</td>\n",
              "      <td>28</td>\n",
              "      <td>PHO</td>\n",
              "      <td>10</td>\n",
              "      <td>0</td>\n",
              "      <td>12.3</td>\n",
              "      <td>0.4</td>\n",
              "      <td>1.8</td>\n",
              "      <td>0.222</td>\n",
              "      <td>0.2</td>\n",
              "      <td>1.5</td>\n",
              "      <td>0.133</td>\n",
              "      <td>0.2</td>\n",
              "      <td>0.3</td>\n",
              "      <td>0.667</td>\n",
              "      <td>0.278</td>\n",
              "      <td>0.7</td>\n",
              "      <td>1.0</td>\n",
              "      <td>0.700</td>\n",
              "      <td>0.3</td>\n",
              "      <td>2.2</td>\n",
              "      <td>2.5</td>\n",
              "      <td>0.8</td>\n",
              "      <td>0.1</td>\n",
              "      <td>0.4</td>\n",
              "      <td>0.4</td>\n",
              "      <td>2.4</td>\n",
              "      <td>1.7</td>\n",
              "    </tr>\n",
              "    <tr>\n",
              "      <th>2</th>\n",
              "      <td>2019</td>\n",
              "      <td>Jaylen Adams</td>\n",
              "      <td>PG</td>\n",
              "      <td>22</td>\n",
              "      <td>ATL</td>\n",
              "      <td>34</td>\n",
              "      <td>1</td>\n",
              "      <td>12.6</td>\n",
              "      <td>1.1</td>\n",
              "      <td>3.2</td>\n",
              "      <td>0.345</td>\n",
              "      <td>0.7</td>\n",
              "      <td>2.2</td>\n",
              "      <td>0.338</td>\n",
              "      <td>0.4</td>\n",
              "      <td>1.1</td>\n",
              "      <td>0.361</td>\n",
              "      <td>0.459</td>\n",
              "      <td>0.2</td>\n",
              "      <td>0.3</td>\n",
              "      <td>0.778</td>\n",
              "      <td>0.3</td>\n",
              "      <td>1.4</td>\n",
              "      <td>1.8</td>\n",
              "      <td>1.9</td>\n",
              "      <td>0.4</td>\n",
              "      <td>0.1</td>\n",
              "      <td>0.8</td>\n",
              "      <td>1.3</td>\n",
              "      <td>3.2</td>\n",
              "    </tr>\n",
              "    <tr>\n",
              "      <th>3</th>\n",
              "      <td>2019</td>\n",
              "      <td>Steven Adams</td>\n",
              "      <td>C</td>\n",
              "      <td>25</td>\n",
              "      <td>OKC</td>\n",
              "      <td>80</td>\n",
              "      <td>80</td>\n",
              "      <td>33.4</td>\n",
              "      <td>6.0</td>\n",
              "      <td>10.1</td>\n",
              "      <td>0.595</td>\n",
              "      <td>0.0</td>\n",
              "      <td>0.0</td>\n",
              "      <td>0.000</td>\n",
              "      <td>6.0</td>\n",
              "      <td>10.1</td>\n",
              "      <td>0.596</td>\n",
              "      <td>0.595</td>\n",
              "      <td>1.8</td>\n",
              "      <td>3.7</td>\n",
              "      <td>0.500</td>\n",
              "      <td>4.9</td>\n",
              "      <td>4.6</td>\n",
              "      <td>9.5</td>\n",
              "      <td>1.6</td>\n",
              "      <td>1.5</td>\n",
              "      <td>1.0</td>\n",
              "      <td>1.7</td>\n",
              "      <td>2.6</td>\n",
              "      <td>13.9</td>\n",
              "    </tr>\n",
              "    <tr>\n",
              "      <th>4</th>\n",
              "      <td>2019</td>\n",
              "      <td>Bam Adebayo</td>\n",
              "      <td>C</td>\n",
              "      <td>21</td>\n",
              "      <td>MIA</td>\n",
              "      <td>82</td>\n",
              "      <td>28</td>\n",
              "      <td>23.3</td>\n",
              "      <td>3.4</td>\n",
              "      <td>5.9</td>\n",
              "      <td>0.576</td>\n",
              "      <td>0.0</td>\n",
              "      <td>0.2</td>\n",
              "      <td>0.200</td>\n",
              "      <td>3.4</td>\n",
              "      <td>5.7</td>\n",
              "      <td>0.588</td>\n",
              "      <td>0.579</td>\n",
              "      <td>2.0</td>\n",
              "      <td>2.8</td>\n",
              "      <td>0.735</td>\n",
              "      <td>2.0</td>\n",
              "      <td>5.3</td>\n",
              "      <td>7.3</td>\n",
              "      <td>2.2</td>\n",
              "      <td>0.9</td>\n",
              "      <td>0.8</td>\n",
              "      <td>1.5</td>\n",
              "      <td>2.5</td>\n",
              "      <td>8.9</td>\n",
              "    </tr>\n",
              "  </tbody>\n",
              "</table>\n",
              "</div>"
            ],
            "text/plain": [
              "   Seas        Player Pos  Age   Tm   G  GS  ...  TRB  AST  STL  BLK  TOV   PF   PTS\n",
              "0  2019  Álex Abrines  SG   25  OKC  31   2  ...  1.5  0.6  0.5  0.2  0.5  1.7   5.3\n",
              "1  2019    Quincy Acy  PF   28  PHO  10   0  ...  2.5  0.8  0.1  0.4  0.4  2.4   1.7\n",
              "2  2019  Jaylen Adams  PG   22  ATL  34   1  ...  1.8  1.9  0.4  0.1  0.8  1.3   3.2\n",
              "3  2019  Steven Adams   C   25  OKC  80  80  ...  9.5  1.6  1.5  1.0  1.7  2.6  13.9\n",
              "4  2019   Bam Adebayo   C   21  MIA  82  28  ...  7.3  2.2  0.9  0.8  1.5  2.5   8.9\n",
              "\n",
              "[5 rows x 30 columns]"
            ]
          },
          "metadata": {
            "tags": []
          },
          "execution_count": 8
        }
      ]
    },
    {
      "cell_type": "markdown",
      "metadata": {
        "id": "FootBxBEliFP"
      },
      "source": [
        "A note about `sns.distplot` (and plots like it).  Just like a histogram or a bar plot, this '`distplot`' uses height to show which values are the most probable.  A histogram and barplot will often use counts to show how probable each value use (the taller, the more likely).\n",
        "\n",
        "A '`distplot`' is using a 'kernel density estimate' to show the probability density of each value rather than count.  The area under a probability distribution should sum to 1 by definition; so it can be surprising that in the below plot we see numbers greater than 1.\n",
        "\n",
        "Remember that area has more to it than height.  For example, in our plot we have rectangles who's area is modeled by `height * width`.  The width here is the missing piece for why we can have values greater than one.  You can think of this as a probability per unit rather than a raw probability. \n",
        "\n",
        "[Here](https://stats.stackexchange.com/a/4223/102646) is a great, more in depth explanation."
      ]
    },
    {
      "cell_type": "code",
      "metadata": {
        "id": "eak419_JliFP",
        "outputId": "59714811-d98f-4294-cfa5-d3a16e4ce9cc",
        "colab": {
          "base_uri": "https://localhost:8080/",
          "height": 135
        }
      },
      "source": [
        "sns.distplot(df[\"ORB\"])\n",
        "plt.\n",
        "plt.show()"
      ],
      "execution_count": 9,
      "outputs": [
        {
          "output_type": "error",
          "ename": "SyntaxError",
          "evalue": "ignored",
          "traceback": [
            "\u001b[0;36m  File \u001b[0;32m\"<ipython-input-9-606f4369cf63>\"\u001b[0;36m, line \u001b[0;32m2\u001b[0m\n\u001b[0;31m    plt.\u001b[0m\n\u001b[0m        ^\u001b[0m\n\u001b[0;31mSyntaxError\u001b[0m\u001b[0;31m:\u001b[0m invalid syntax\n"
          ]
        }
      ]
    },
    {
      "cell_type": "markdown",
      "metadata": {
        "id": "Jf2jfwPSliFU"
      },
      "source": [
        "## What shot percentage stat has the most variation?\n",
        "\n",
        "Before we do that:\n",
        "* Create a dataframe that contains only the columns with `'%'` in the column name. Name this data frame `percents`"
      ]
    },
    {
      "cell_type": "code",
      "metadata": {
        "id": "F_qxPkyBliFV"
      },
      "source": [
        "df.columns"
      ],
      "execution_count": null,
      "outputs": []
    },
    {
      "cell_type": "code",
      "metadata": {
        "id": "6E6-FjjAliFd"
      },
      "source": [
        "p_columns = [\n",
        "    \"FG%\",\n",
        "    \"3P%\",\n",
        "    \"2P%\",\n",
        "    \"eFG%\",\n",
        "    \"FT%\",\n",
        "]\n",
        "percents = df[\n",
        "    [\n",
        "        \"FG%\",\n",
        "        \"3P%\",\n",
        "        \"2P%\",\n",
        "        \"eFG%\",\n",
        "        \"FT%\",\n",
        "    ]\n",
        "]"
      ],
      "execution_count": null,
      "outputs": []
    },
    {
      "cell_type": "markdown",
      "metadata": {
        "id": "KIEKIT1DliFi"
      },
      "source": [
        "* In this data we have missing values, the code below shows a count of missing values per column.  Can you explain why we'd have missing values here?"
      ]
    },
    {
      "cell_type": "code",
      "metadata": {
        "id": "d26VF-9MliFj"
      },
      "source": [
        "percents.isna().sum()"
      ],
      "execution_count": null,
      "outputs": []
    },
    {
      "cell_type": "markdown",
      "metadata": {
        "id": "nq1u4Y2UliFp"
      },
      "source": [
        "* Drop NAs from this `percents` dataframe"
      ]
    },
    {
      "cell_type": "code",
      "metadata": {
        "id": "j_pRm4JTliFr"
      },
      "source": [
        "percents = percents.dropna()"
      ],
      "execution_count": null,
      "outputs": []
    },
    {
      "cell_type": "code",
      "metadata": {
        "id": "XJwh-2UvliFw"
      },
      "source": [
        "percents"
      ],
      "execution_count": null,
      "outputs": []
    },
    {
      "cell_type": "markdown",
      "metadata": {
        "id": "0NVVSL2qliF0"
      },
      "source": [
        "Back to the original question: What shot percentage stat has the most variation?\n",
        "\n",
        "* What metric(s) can we use for this?\n",
        "* What plot type(s) can we use to show this?"
      ]
    },
    {
      "cell_type": "code",
      "metadata": {
        "id": "iL0dEINCliF2"
      },
      "source": [
        "# standard deviation for percent columns\n",
        "percents.std()"
      ],
      "execution_count": null,
      "outputs": []
    },
    {
      "cell_type": "code",
      "metadata": {
        "id": "Yv3newfvliF7"
      },
      "source": [
        "# variance for the percent columns\n",
        "percents.var()"
      ],
      "execution_count": null,
      "outputs": []
    },
    {
      "cell_type": "code",
      "metadata": {
        "id": "VnPzMO85liF_"
      },
      "source": [
        "sb.distplot(percents[\"FT%\"])\n",
        "# sb.boxplot(percents[\"FG%\"])"
      ],
      "execution_count": null,
      "outputs": []
    },
    {
      "cell_type": "markdown",
      "metadata": {
        "id": "8MJ-Kb0XliGD"
      },
      "source": [
        "## Using `.describe()` with `pandas`\n",
        "\n",
        "* `.describe()` might have already come up depending on how we answered the above questions\n",
        "* Let's explore `.describe()`'s options using `?` and `help()`"
      ]
    },
    {
      "cell_type": "code",
      "metadata": {
        "collapsed": true,
        "hideOutput": true,
        "id": "4GbpGYsaliGE"
      },
      "source": [
        "help(df.describe())"
      ],
      "execution_count": null,
      "outputs": []
    },
    {
      "cell_type": "markdown",
      "metadata": {
        "id": "wqOOV2cmliGL"
      },
      "source": [
        "## Descriptive statistics with `groupby`\n",
        "\n",
        "Sometimes we want descriptive statistics grouped by a categorical column in our data.  For example, instead of the average of the `'PTS'` column for our full dataset, maybe we want to see the average of the `'PTS'` column for each player.\n",
        "\n",
        "* Calculate the average `'PTS'` grouped by `'Player'`"
      ]
    },
    {
      "cell_type": "code",
      "metadata": {
        "id": "RticMzv2liGM",
        "outputId": "b9d13767-3694-49b5-99b8-f9948f3e2241",
        "colab": {
          "base_uri": "https://localhost:8080/"
        }
      },
      "source": [
        "df.groupby(['Player'])['PTS'].mean()\n"
      ],
      "execution_count": 19,
      "outputs": [
        {
          "output_type": "execute_result",
          "data": {
            "text/plain": [
              "Player\n",
              "A.J. Hammons       2.200000\n",
              "Aaron Brooks       4.800000\n",
              "Aaron Gordon      13.875000\n",
              "Aaron Harrison     2.600000\n",
              "Aaron Holiday      5.900000\n",
              "                    ...    \n",
              "Zhaire Smith       6.700000\n",
              "Zhou Qi            1.600000\n",
              "Álex Abrines       5.333333\n",
              "Ángel Delgado      1.500000\n",
              "Ömer Aşık          2.633333\n",
              "Name: PTS, Length: 822, dtype: float64"
            ]
          },
          "metadata": {
            "tags": []
          },
          "execution_count": 19
        }
      ]
    },
    {
      "cell_type": "markdown",
      "metadata": {
        "id": "AGo8xZkKliGP"
      },
      "source": [
        "* Calculate the average, standard deviation, and count of `'PTS'` for each `'Tm'` (team)\n",
        "* Sort this output in descending order by average points"
      ]
    },
    {
      "cell_type": "code",
      "metadata": {
        "id": "-nvaxN0OliGR"
      },
      "source": [
        "#   average pts per team\n",
        "df.groupby(['Tm'])['PTS'].mean().sort_values(ascending=False)"
      ],
      "execution_count": null,
      "outputs": []
    },
    {
      "cell_type": "code",
      "metadata": {
        "id": "aJcCj8-bnk_a"
      },
      "source": [
        "#   std of pts per team\n",
        "df.groupby(['Tm'])['PTS'].std().sort_values(ascending=False)"
      ],
      "execution_count": null,
      "outputs": []
    },
    {
      "cell_type": "code",
      "metadata": {
        "id": "OYQQHZAkn4u2"
      },
      "source": [
        "#   sum of pts per team\n",
        "df.groupby(['Tm'])['PTS'].sum().sort_values(ascending=False)"
      ],
      "execution_count": null,
      "outputs": []
    },
    {
      "cell_type": "markdown",
      "metadata": {
        "id": "4prjJFuwliGV"
      },
      "source": [
        "## Correlations\n",
        "\n",
        "If we want to explore relationships between 2 numeric columns we might use a correlation.  The correlation between 2 numeric columns ranges between `[-1, 1]`.\n",
        "\n",
        "* A correlation of -1 is a strong negative correlation\n",
        "  * For example, `amount of money spent` and `amount of money saved` would be negatively correlated.  As the `amount of money spent` goes up the `amount of money saved` would go down and vice versa.\n",
        "* A correlation of 0 is a weak correlation\n",
        "  * For example, the `number of words in the harry potter books` and the `number of arrests in costa rica` are likely not very related.\n",
        "* A correlation of 1 is a strong positive correlation\n",
        "  * For example, `amount of ice cream sold` and `temperature` are likely positively correlated.  As the `temperature` goes up the `amount of ice cream sold` likely goes up as well.\n",
        "  \n",
        "Note the classic phrase: \"correlation does not equal causation\".  Just because 2 things are related doesn't mean one thing causes the other ([this site](https://www.tylervigen.com/spurious-correlations) has examples of correlations that are 'spurious' that is, the 2 variables appear related, but they likely aren't).\n",
        "\n",
        "To run a correlation on a `pandas` dataframe we can use `.corr()`.\n",
        "\n",
        "* Apply `.corr()` to our dataframe\n",
        "* What numeric variables are related? is this a positive or negative relationship?"
      ]
    },
    {
      "cell_type": "code",
      "metadata": {
        "id": "gP_WiJJkliGW"
      },
      "source": [
        "df.corr()"
      ],
      "execution_count": null,
      "outputs": []
    },
    {
      "cell_type": "markdown",
      "metadata": {
        "id": "Vu8QRRQDliGb"
      },
      "source": [
        "## Creating your own statistics\n",
        "\n",
        "Sometimes you might create some metric to summarize a record.  For example, we all have a credit score that is a combination of a lot of separate metrics.  Some of these style of metrics might be referred to as a index (i.e. a financial index), note that this is different than a `pandas` index.\n",
        "\n",
        "How might we create a player rating metric for our data?"
      ]
    },
    {
      "cell_type": "code",
      "metadata": {
        "id": "vKo7xCzMliGc",
        "outputId": "cbe950a2-a471-4d45-f4a8-999f482f363e",
        "colab": {
          "base_uri": "https://localhost:8080/",
          "height": 424
        }
      },
      "source": [
        "df['Production'] = df['PTS']/df['MP']\n",
        "df[df['MP'] > 15].sort_values(['Production'], ascending=False)"
      ],
      "execution_count": 52,
      "outputs": [
        {
          "output_type": "execute_result",
          "data": {
            "text/html": [
              "<div>\n",
              "<style scoped>\n",
              "    .dataframe tbody tr th:only-of-type {\n",
              "        vertical-align: middle;\n",
              "    }\n",
              "\n",
              "    .dataframe tbody tr th {\n",
              "        vertical-align: top;\n",
              "    }\n",
              "\n",
              "    .dataframe thead th {\n",
              "        text-align: right;\n",
              "    }\n",
              "</style>\n",
              "<table border=\"1\" class=\"dataframe\">\n",
              "  <thead>\n",
              "    <tr style=\"text-align: right;\">\n",
              "      <th></th>\n",
              "      <th>Seas</th>\n",
              "      <th>Player</th>\n",
              "      <th>Pos</th>\n",
              "      <th>Age</th>\n",
              "      <th>Tm</th>\n",
              "      <th>G</th>\n",
              "      <th>GS</th>\n",
              "      <th>MP</th>\n",
              "      <th>FG</th>\n",
              "      <th>FGA</th>\n",
              "      <th>FG%</th>\n",
              "      <th>3P</th>\n",
              "      <th>3PA</th>\n",
              "      <th>3P%</th>\n",
              "      <th>2P</th>\n",
              "      <th>2PA</th>\n",
              "      <th>2P%</th>\n",
              "      <th>eFG%</th>\n",
              "      <th>FT</th>\n",
              "      <th>FTA</th>\n",
              "      <th>FT%</th>\n",
              "      <th>ORB</th>\n",
              "      <th>DRB</th>\n",
              "      <th>TRB</th>\n",
              "      <th>AST</th>\n",
              "      <th>STL</th>\n",
              "      <th>BLK</th>\n",
              "      <th>TOV</th>\n",
              "      <th>PF</th>\n",
              "      <th>PTS</th>\n",
              "      <th>Production</th>\n",
              "    </tr>\n",
              "  </thead>\n",
              "  <tbody>\n",
              "    <tr>\n",
              "      <th>205</th>\n",
              "      <td>2019</td>\n",
              "      <td>James Harden</td>\n",
              "      <td>PG</td>\n",
              "      <td>29</td>\n",
              "      <td>HOU</td>\n",
              "      <td>78</td>\n",
              "      <td>78</td>\n",
              "      <td>36.8</td>\n",
              "      <td>10.8</td>\n",
              "      <td>24.5</td>\n",
              "      <td>0.442</td>\n",
              "      <td>4.8</td>\n",
              "      <td>13.2</td>\n",
              "      <td>0.368</td>\n",
              "      <td>6.0</td>\n",
              "      <td>11.3</td>\n",
              "      <td>0.528</td>\n",
              "      <td>0.541</td>\n",
              "      <td>9.7</td>\n",
              "      <td>11.0</td>\n",
              "      <td>0.879</td>\n",
              "      <td>0.8</td>\n",
              "      <td>5.8</td>\n",
              "      <td>6.6</td>\n",
              "      <td>7.5</td>\n",
              "      <td>2.0</td>\n",
              "      <td>0.7</td>\n",
              "      <td>5.0</td>\n",
              "      <td>3.1</td>\n",
              "      <td>36.1</td>\n",
              "      <td>0.980978</td>\n",
              "    </tr>\n",
              "    <tr>\n",
              "      <th>1628</th>\n",
              "      <td>2017</td>\n",
              "      <td>Russell Westbrook</td>\n",
              "      <td>PG</td>\n",
              "      <td>28</td>\n",
              "      <td>OKC</td>\n",
              "      <td>81</td>\n",
              "      <td>81</td>\n",
              "      <td>34.6</td>\n",
              "      <td>10.2</td>\n",
              "      <td>24.0</td>\n",
              "      <td>0.425</td>\n",
              "      <td>2.5</td>\n",
              "      <td>7.2</td>\n",
              "      <td>0.343</td>\n",
              "      <td>7.7</td>\n",
              "      <td>16.8</td>\n",
              "      <td>0.459</td>\n",
              "      <td>0.476</td>\n",
              "      <td>8.8</td>\n",
              "      <td>10.4</td>\n",
              "      <td>0.845</td>\n",
              "      <td>1.7</td>\n",
              "      <td>9.0</td>\n",
              "      <td>10.7</td>\n",
              "      <td>10.4</td>\n",
              "      <td>1.6</td>\n",
              "      <td>0.4</td>\n",
              "      <td>5.4</td>\n",
              "      <td>2.3</td>\n",
              "      <td>31.6</td>\n",
              "      <td>0.913295</td>\n",
              "    </tr>\n",
              "    <tr>\n",
              "      <th>1769</th>\n",
              "      <td>2016</td>\n",
              "      <td>Stephen Curry</td>\n",
              "      <td>PG</td>\n",
              "      <td>27</td>\n",
              "      <td>GSW</td>\n",
              "      <td>79</td>\n",
              "      <td>79</td>\n",
              "      <td>34.2</td>\n",
              "      <td>10.2</td>\n",
              "      <td>20.2</td>\n",
              "      <td>0.504</td>\n",
              "      <td>5.1</td>\n",
              "      <td>11.2</td>\n",
              "      <td>0.454</td>\n",
              "      <td>5.1</td>\n",
              "      <td>9.0</td>\n",
              "      <td>0.566</td>\n",
              "      <td>0.630</td>\n",
              "      <td>4.6</td>\n",
              "      <td>5.1</td>\n",
              "      <td>0.908</td>\n",
              "      <td>0.9</td>\n",
              "      <td>4.6</td>\n",
              "      <td>5.4</td>\n",
              "      <td>6.7</td>\n",
              "      <td>2.1</td>\n",
              "      <td>0.2</td>\n",
              "      <td>3.3</td>\n",
              "      <td>2.0</td>\n",
              "      <td>30.1</td>\n",
              "      <td>0.880117</td>\n",
              "    </tr>\n",
              "    <tr>\n",
              "      <th>723</th>\n",
              "      <td>2018</td>\n",
              "      <td>James Harden</td>\n",
              "      <td>SG</td>\n",
              "      <td>28</td>\n",
              "      <td>HOU</td>\n",
              "      <td>72</td>\n",
              "      <td>72</td>\n",
              "      <td>35.4</td>\n",
              "      <td>9.0</td>\n",
              "      <td>20.1</td>\n",
              "      <td>0.449</td>\n",
              "      <td>3.7</td>\n",
              "      <td>10.0</td>\n",
              "      <td>0.367</td>\n",
              "      <td>5.4</td>\n",
              "      <td>10.1</td>\n",
              "      <td>0.531</td>\n",
              "      <td>0.541</td>\n",
              "      <td>8.7</td>\n",
              "      <td>10.1</td>\n",
              "      <td>0.858</td>\n",
              "      <td>0.6</td>\n",
              "      <td>4.8</td>\n",
              "      <td>5.4</td>\n",
              "      <td>8.8</td>\n",
              "      <td>1.8</td>\n",
              "      <td>0.7</td>\n",
              "      <td>4.4</td>\n",
              "      <td>2.3</td>\n",
              "      <td>30.4</td>\n",
              "      <td>0.858757</td>\n",
              "    </tr>\n",
              "    <tr>\n",
              "      <th>1586</th>\n",
              "      <td>2017</td>\n",
              "      <td>Isaiah Thomas</td>\n",
              "      <td>PG</td>\n",
              "      <td>27</td>\n",
              "      <td>BOS</td>\n",
              "      <td>76</td>\n",
              "      <td>76</td>\n",
              "      <td>33.8</td>\n",
              "      <td>9.0</td>\n",
              "      <td>19.4</td>\n",
              "      <td>0.463</td>\n",
              "      <td>3.2</td>\n",
              "      <td>8.5</td>\n",
              "      <td>0.379</td>\n",
              "      <td>5.8</td>\n",
              "      <td>10.9</td>\n",
              "      <td>0.528</td>\n",
              "      <td>0.546</td>\n",
              "      <td>7.8</td>\n",
              "      <td>8.5</td>\n",
              "      <td>0.909</td>\n",
              "      <td>0.6</td>\n",
              "      <td>2.1</td>\n",
              "      <td>2.7</td>\n",
              "      <td>5.9</td>\n",
              "      <td>0.9</td>\n",
              "      <td>0.2</td>\n",
              "      <td>2.8</td>\n",
              "      <td>2.2</td>\n",
              "      <td>28.9</td>\n",
              "      <td>0.855030</td>\n",
              "    </tr>\n",
              "    <tr>\n",
              "      <th>...</th>\n",
              "      <td>...</td>\n",
              "      <td>...</td>\n",
              "      <td>...</td>\n",
              "      <td>...</td>\n",
              "      <td>...</td>\n",
              "      <td>...</td>\n",
              "      <td>...</td>\n",
              "      <td>...</td>\n",
              "      <td>...</td>\n",
              "      <td>...</td>\n",
              "      <td>...</td>\n",
              "      <td>...</td>\n",
              "      <td>...</td>\n",
              "      <td>...</td>\n",
              "      <td>...</td>\n",
              "      <td>...</td>\n",
              "      <td>...</td>\n",
              "      <td>...</td>\n",
              "      <td>...</td>\n",
              "      <td>...</td>\n",
              "      <td>...</td>\n",
              "      <td>...</td>\n",
              "      <td>...</td>\n",
              "      <td>...</td>\n",
              "      <td>...</td>\n",
              "      <td>...</td>\n",
              "      <td>...</td>\n",
              "      <td>...</td>\n",
              "      <td>...</td>\n",
              "      <td>...</td>\n",
              "      <td>...</td>\n",
              "    </tr>\n",
              "    <tr>\n",
              "      <th>747</th>\n",
              "      <td>2018</td>\n",
              "      <td>Solomon Hill</td>\n",
              "      <td>SF</td>\n",
              "      <td>26</td>\n",
              "      <td>NOP</td>\n",
              "      <td>12</td>\n",
              "      <td>1</td>\n",
              "      <td>15.6</td>\n",
              "      <td>0.9</td>\n",
              "      <td>3.4</td>\n",
              "      <td>0.268</td>\n",
              "      <td>0.3</td>\n",
              "      <td>1.8</td>\n",
              "      <td>0.190</td>\n",
              "      <td>0.6</td>\n",
              "      <td>1.7</td>\n",
              "      <td>0.350</td>\n",
              "      <td>0.317</td>\n",
              "      <td>0.3</td>\n",
              "      <td>0.5</td>\n",
              "      <td>0.500</td>\n",
              "      <td>0.8</td>\n",
              "      <td>2.3</td>\n",
              "      <td>3.0</td>\n",
              "      <td>1.8</td>\n",
              "      <td>0.6</td>\n",
              "      <td>0.1</td>\n",
              "      <td>0.8</td>\n",
              "      <td>1.8</td>\n",
              "      <td>2.4</td>\n",
              "      <td>0.153846</td>\n",
              "    </tr>\n",
              "    <tr>\n",
              "      <th>2030</th>\n",
              "      <td>2016</td>\n",
              "      <td>Tayshaun Prince</td>\n",
              "      <td>SF</td>\n",
              "      <td>35</td>\n",
              "      <td>MIN</td>\n",
              "      <td>77</td>\n",
              "      <td>44</td>\n",
              "      <td>19.0</td>\n",
              "      <td>1.3</td>\n",
              "      <td>3.0</td>\n",
              "      <td>0.445</td>\n",
              "      <td>0.1</td>\n",
              "      <td>0.3</td>\n",
              "      <td>0.174</td>\n",
              "      <td>1.3</td>\n",
              "      <td>2.7</td>\n",
              "      <td>0.476</td>\n",
              "      <td>0.454</td>\n",
              "      <td>0.2</td>\n",
              "      <td>0.2</td>\n",
              "      <td>0.684</td>\n",
              "      <td>0.4</td>\n",
              "      <td>1.5</td>\n",
              "      <td>1.9</td>\n",
              "      <td>0.9</td>\n",
              "      <td>0.5</td>\n",
              "      <td>0.2</td>\n",
              "      <td>0.4</td>\n",
              "      <td>0.8</td>\n",
              "      <td>2.9</td>\n",
              "      <td>0.152632</td>\n",
              "    </tr>\n",
              "    <tr>\n",
              "      <th>1000</th>\n",
              "      <td>2018</td>\n",
              "      <td>Marquis Teague</td>\n",
              "      <td>PG</td>\n",
              "      <td>24</td>\n",
              "      <td>MEM</td>\n",
              "      <td>3</td>\n",
              "      <td>0</td>\n",
              "      <td>24.7</td>\n",
              "      <td>1.3</td>\n",
              "      <td>5.3</td>\n",
              "      <td>0.250</td>\n",
              "      <td>0.3</td>\n",
              "      <td>1.3</td>\n",
              "      <td>0.250</td>\n",
              "      <td>1.0</td>\n",
              "      <td>4.0</td>\n",
              "      <td>0.250</td>\n",
              "      <td>0.281</td>\n",
              "      <td>0.7</td>\n",
              "      <td>1.7</td>\n",
              "      <td>0.400</td>\n",
              "      <td>0.3</td>\n",
              "      <td>1.7</td>\n",
              "      <td>2.0</td>\n",
              "      <td>4.3</td>\n",
              "      <td>1.3</td>\n",
              "      <td>0.0</td>\n",
              "      <td>1.0</td>\n",
              "      <td>1.7</td>\n",
              "      <td>3.7</td>\n",
              "      <td>0.149798</td>\n",
              "    </tr>\n",
              "    <tr>\n",
              "      <th>1128</th>\n",
              "      <td>2017</td>\n",
              "      <td>Andrew Bogut</td>\n",
              "      <td>C</td>\n",
              "      <td>32</td>\n",
              "      <td>TOT</td>\n",
              "      <td>27</td>\n",
              "      <td>21</td>\n",
              "      <td>21.6</td>\n",
              "      <td>1.4</td>\n",
              "      <td>3.0</td>\n",
              "      <td>0.469</td>\n",
              "      <td>0.0</td>\n",
              "      <td>0.0</td>\n",
              "      <td>0.000</td>\n",
              "      <td>1.4</td>\n",
              "      <td>3.0</td>\n",
              "      <td>0.475</td>\n",
              "      <td>0.469</td>\n",
              "      <td>0.1</td>\n",
              "      <td>0.4</td>\n",
              "      <td>0.273</td>\n",
              "      <td>2.1</td>\n",
              "      <td>6.0</td>\n",
              "      <td>8.1</td>\n",
              "      <td>1.8</td>\n",
              "      <td>0.5</td>\n",
              "      <td>0.9</td>\n",
              "      <td>1.6</td>\n",
              "      <td>3.2</td>\n",
              "      <td>2.9</td>\n",
              "      <td>0.134259</td>\n",
              "    </tr>\n",
              "    <tr>\n",
              "      <th>1129</th>\n",
              "      <td>2017</td>\n",
              "      <td>Andrew Bogut</td>\n",
              "      <td>C</td>\n",
              "      <td>32</td>\n",
              "      <td>DAL</td>\n",
              "      <td>26</td>\n",
              "      <td>21</td>\n",
              "      <td>22.4</td>\n",
              "      <td>1.5</td>\n",
              "      <td>3.1</td>\n",
              "      <td>0.469</td>\n",
              "      <td>0.0</td>\n",
              "      <td>0.0</td>\n",
              "      <td>0.000</td>\n",
              "      <td>1.5</td>\n",
              "      <td>3.1</td>\n",
              "      <td>0.475</td>\n",
              "      <td>0.469</td>\n",
              "      <td>0.1</td>\n",
              "      <td>0.4</td>\n",
              "      <td>0.273</td>\n",
              "      <td>2.2</td>\n",
              "      <td>6.2</td>\n",
              "      <td>8.4</td>\n",
              "      <td>1.9</td>\n",
              "      <td>0.5</td>\n",
              "      <td>1.0</td>\n",
              "      <td>1.7</td>\n",
              "      <td>3.2</td>\n",
              "      <td>3.0</td>\n",
              "      <td>0.133929</td>\n",
              "    </tr>\n",
              "  </tbody>\n",
              "</table>\n",
              "<p>1404 rows × 31 columns</p>\n",
              "</div>"
            ],
            "text/plain": [
              "      Seas             Player Pos  Age   Tm  ...  BLK  TOV   PF   PTS  Production\n",
              "205   2019       James Harden  PG   29  HOU  ...  0.7  5.0  3.1  36.1    0.980978\n",
              "1628  2017  Russell Westbrook  PG   28  OKC  ...  0.4  5.4  2.3  31.6    0.913295\n",
              "1769  2016      Stephen Curry  PG   27  GSW  ...  0.2  3.3  2.0  30.1    0.880117\n",
              "723   2018       James Harden  SG   28  HOU  ...  0.7  4.4  2.3  30.4    0.858757\n",
              "1586  2017      Isaiah Thomas  PG   27  BOS  ...  0.2  2.8  2.2  28.9    0.855030\n",
              "...    ...                ...  ..  ...  ...  ...  ...  ...  ...   ...         ...\n",
              "747   2018       Solomon Hill  SF   26  NOP  ...  0.1  0.8  1.8   2.4    0.153846\n",
              "2030  2016    Tayshaun Prince  SF   35  MIN  ...  0.2  0.4  0.8   2.9    0.152632\n",
              "1000  2018     Marquis Teague  PG   24  MEM  ...  0.0  1.0  1.7   3.7    0.149798\n",
              "1128  2017       Andrew Bogut   C   32  TOT  ...  0.9  1.6  3.2   2.9    0.134259\n",
              "1129  2017       Andrew Bogut   C   32  DAL  ...  1.0  1.7  3.2   3.0    0.133929\n",
              "\n",
              "[1404 rows x 31 columns]"
            ]
          },
          "metadata": {
            "tags": []
          },
          "execution_count": 52
        }
      ]
    }
  ]
}