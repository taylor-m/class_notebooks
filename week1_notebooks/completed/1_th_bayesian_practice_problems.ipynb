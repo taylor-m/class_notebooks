{
 "cells": [
  {
   "cell_type": "markdown",
   "metadata": {
    "id": "kKj9Cz1rAExU"
   },
   "source": [
    "### **Marbles in Urns**"
   ]
  },
  {
   "cell_type": "markdown",
   "metadata": {
    "id": "BaMwLwHzAL_Z"
   },
   "source": [
    "There are two urns containing colored balls.\n",
    "\n",
    "**1st urn contains 50 red balls and 50 blue balls**\n",
    "\n",
    "**2nd urn contains 30 red balls and 70 blue balls**\n",
    "\n",
    "One of the two urns is randomly chosen (both urns have probability $50%$ of being chosen) and then a ball is drawn at random from one of the two urns. If a red ball is drawn, what is the probability that it comes from the first urn?"
   ]
  },
  {
   "cell_type": "markdown",
   "metadata": {
    "id": "oOFX3hY1CCEQ"
   },
   "source": [
    "P(red|urn 1) = 1/2\n",
    "\n",
    "P(red|urn 2) = 3/10\n",
    "\n",
    "P(urn 1) = 1/2\n",
    "\n",
    "P(urn 2) = 1/2\n",
    "\n"
   ]
  },
  {
   "cell_type": "markdown",
   "metadata": {
    "id": "tfAhY4GBCls3"
   },
   "source": [
    "**Unconditional probability of drawing red using law of total probability:** \n",
    "\n",
    "P(red) = P(red|urn 1)P(urn 1) + P(red|urn 2)P(urn 2)"
   ]
  },
  {
   "cell_type": "markdown",
   "metadata": {
    "id": "vcwS6X3YCaUo"
   },
   "source": [
    "**Using Bayes' theorem:**\n",
    "\n",
    "P(urn 1|red) = P(red|urn 1)P(urn 1) / P(red) = (1/2*1/2) / 2/5 = 1/4*5/2 = 5/8"
   ]
  },
  {
   "cell_type": "code",
   "execution_count": 2,
   "metadata": {
    "colab": {
     "base_uri": "https://localhost:8080/"
    },
    "id": "j7NW0Qfj_xas",
    "outputId": "27dd260d-d779-4bac-bcad-774ddc48c1bd"
   },
   "outputs": [
    {
     "data": {
      "text/plain": [
       "0.625"
      ]
     },
     "execution_count": 2,
     "metadata": {
      "tags": []
     },
     "output_type": "execute_result"
    }
   ],
   "source": [
    "prob_red_urn1 = 5/8\n",
    "prob_red_urn1"
   ]
  },
  {
   "cell_type": "markdown",
   "metadata": {
    "id": "0x3wjtBsDGEl"
   },
   "source": [
    "### Recession prediction"
   ]
  },
  {
   "cell_type": "markdown",
   "metadata": {
    "id": "O4Xwa0FrDRa0"
   },
   "source": [
    "An economics consulting firm has created a model to predict recessions. \n",
    "\n",
    "predicts a recession with probability 80% when a recession is indeed coming \n",
    "\n",
    "probability 10% when no recession is coming\n",
    "\n",
    "unconditional probability of falling into a recession is 20%\n",
    "\n",
    "If the model predicts a recession, what is the probability that a recession will indeed come?"
   ]
  },
  {
   "cell_type": "code",
   "execution_count": 9,
   "metadata": {
    "id": "QZGxlmp2FdWc"
   },
   "outputs": [],
   "source": [
    "#   p(P) = (p(P|R)*p(R))+(p(P|R') * p(R'))\n",
    "pPR = 0.8\n",
    "pR = 0.2\n",
    "pPnR = 0.1\n",
    "pnR = 0.8\n",
    "\n",
    "pP = (pPR * pR) + (pPnR * pnR)"
   ]
  },
  {
   "cell_type": "code",
   "execution_count": 11,
   "metadata": {
    "colab": {
     "base_uri": "https://localhost:8080/"
    },
    "id": "vz2hIhMRFuU4",
    "outputId": "6c6ddc75-7d68-403a-dd75-5549d8c7142d"
   },
   "outputs": [
    {
     "data": {
      "text/plain": [
       "0.6666666666666666"
      ]
     },
     "execution_count": 11,
     "metadata": {
      "tags": []
     },
     "output_type": "execute_result"
    }
   ],
   "source": [
    "# Bayes Theorem\n",
    "\n",
    "# pRP = pPR * pR / pP\n",
    "pRP = pPR * pR / pP\n",
    "pRP"
   ]
  },
  {
   "cell_type": "markdown",
   "metadata": {
    "id": "n0cmj6ALIjZA"
   },
   "source": [
    "### Two Coins"
   ]
  },
  {
   "cell_type": "markdown",
   "metadata": {
    "id": "LNaQVHM0JCK-"
   },
   "source": [
    "Alice has two coins in her pocket, a fair coin (head on one side and tail on the other side) and a two-headed coin. She picks one at random from her pocket, tosses it and obtains head. What is the probability that she flipped the fair coin?"
   ]
  },
  {
   "cell_type": "code",
   "execution_count": 13,
   "metadata": {
    "colab": {
     "base_uri": "https://localhost:8080/"
    },
    "id": "N813_AKkKE6V",
    "outputId": "cc3a7249-00a6-4899-d314-e685dbc0b1c8"
   },
   "outputs": [
    {
     "data": {
      "text/plain": [
       "0.3333333333333333"
      ]
     },
     "execution_count": 13,
     "metadata": {
      "tags": []
     },
     "output_type": "execute_result"
    }
   ],
   "source": [
    "#   p(F|H) = p(H|F) * p(F) / p(H)\n",
    "pHF = 0.5\n",
    "pF = 0.5\n",
    "pH = 0.75\n",
    "\n",
    "pHF * pF / pH"
   ]
  },
  {
   "cell_type": "markdown",
   "metadata": {
    "id": "tMLvcFNBKxF-"
   },
   "source": [
    "### Elvis' Twin"
   ]
  },
  {
   "cell_type": "markdown",
   "metadata": {
    "id": "VOcGOiM3LvFK"
   },
   "source": [
    "Elvis Presley had a twin brother who died at birth. What is the probability that Elvis was an identical twin?\n",
    "\n",
    "To answer this one, you need some background information: According to the Wikipedia article on twins: \"\"Twins are estimated to be approximately 1.9% of the world population, with monozygotic twins making up 0.2% of the total and 8% of all twins.\""
   ]
  },
  {
   "cell_type": "code",
   "execution_count": 19,
   "metadata": {
    "colab": {
     "base_uri": "https://localhost:8080/"
    },
    "id": "18QqPHqhLzxy",
    "outputId": "1e70716f-e7ad-424e-ca8d-3a12aea79d49"
   },
   "outputs": [
    {
     "data": {
      "text/plain": [
       "0.17391304347826086"
      ]
     },
     "execution_count": 19,
     "metadata": {
      "tags": []
     },
     "output_type": "execute_result"
    }
   ],
   "source": [
    "#   prob of being male given fraternal twins\n",
    "pMF = 0.5\n",
    "\n",
    "#   prob of twins being identical\n",
    "pI = 0.08\n",
    "\n",
    "#   prob of twins being fraternal\n",
    "pF = 0.92\n",
    "\n",
    "#    calc probability of being a male from prob of male given fraternal * prob of fraternal\n",
    "pM = pMF * pF\n",
    "\n",
    "#   Bayes Theorem for prob of being identical given that his brother was male\n",
    "pIM = pMI * pI / pM\n",
    "\n",
    "pIM"
   ]
  }
 ],
 "metadata": {
  "colab": {
   "name": "1_th_bayesian_practice.ipynb",
   "provenance": []
  },
  "kernelspec": {
   "display_name": "Python 3",
   "language": "python",
   "name": "python3"
  },
  "language_info": {
   "codemirror_mode": {
    "name": "ipython",
    "version": 3
   },
   "file_extension": ".py",
   "mimetype": "text/x-python",
   "name": "python",
   "nbconvert_exporter": "python",
   "pygments_lexer": "ipython3",
   "version": "3.8.3"
  }
 },
 "nbformat": 4,
 "nbformat_minor": 1
}
