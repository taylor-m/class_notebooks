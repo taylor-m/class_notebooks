{
  "nbformat": 4,
  "nbformat_minor": 0,
  "metadata": {
    "colab": {
      "name": "Day 3 Lecture 2 Assignment.ipynb",
      "provenance": [],
      "collapsed_sections": []
    },
    "kernelspec": {
      "display_name": "Python 3",
      "language": "python",
      "name": "python3"
    },
    "language_info": {
      "codemirror_mode": {
        "name": "ipython",
        "version": 3
      },
      "file_extension": ".py",
      "mimetype": "text/x-python",
      "name": "python",
      "nbconvert_exporter": "python",
      "pygments_lexer": "ipython3",
      "version": "3.7.6"
    }
  },
  "cells": [
    {
      "cell_type": "markdown",
      "metadata": {
        "id": "P7Ilhj45tM4S"
      },
      "source": [
        "# Descriptive Statistics Assignment"
      ]
    },
    {
      "cell_type": "code",
      "metadata": {
        "id": "PHC3rj3htM4T"
      },
      "source": [
        "import pandas as pd\n",
        "from scipy import stats"
      ],
      "execution_count": null,
      "outputs": []
    },
    {
      "cell_type": "code",
      "metadata": {
        "id": "bL-yDTUZDESd"
      },
      "source": [
        "data_url = \"http://data.insideairbnb.com/united-states/ny/new-york-city/2020-06-08/visualisations/listings.csv\""
      ],
      "execution_count": null,
      "outputs": []
    },
    {
      "cell_type": "markdown",
      "metadata": {
        "id": "y_WevD1ftM4X"
      },
      "source": [
        "### Read the aggregated AirBnB listings of New York (using `data_url`) into a Pandas data frame."
      ]
    },
    {
      "cell_type": "code",
      "metadata": {
        "id": "RPX9nbZ1tM4Y"
      },
      "source": [
        "df = pd.read_csv(data_url)"
      ],
      "execution_count": null,
      "outputs": []
    },
    {
      "cell_type": "markdown",
      "metadata": {
        "id": "u58Qq-xjtM4a"
      },
      "source": [
        "### Print the data type for each column."
      ]
    },
    {
      "cell_type": "code",
      "metadata": {
        "id": "kgrSk4sjtM4b",
        "outputId": "b1ebcc87-83e3-463e-a12f-edb3722e361d",
        "colab": {
          "base_uri": "https://localhost:8080/"
        }
      },
      "source": [
        "df.dtypes"
      ],
      "execution_count": null,
      "outputs": [
        {
          "output_type": "execute_result",
          "data": {
            "text/plain": [
              "id                                  int64\n",
              "name                               object\n",
              "host_id                             int64\n",
              "host_name                          object\n",
              "neighbourhood_group                object\n",
              "neighbourhood                      object\n",
              "latitude                          float64\n",
              "longitude                         float64\n",
              "room_type                          object\n",
              "price                               int64\n",
              "minimum_nights                      int64\n",
              "number_of_reviews                   int64\n",
              "last_review                        object\n",
              "reviews_per_month                 float64\n",
              "calculated_host_listings_count      int64\n",
              "availability_365                    int64\n",
              "dtype: object"
            ]
          },
          "metadata": {
            "tags": []
          },
          "execution_count": 3
        }
      ]
    },
    {
      "cell_type": "markdown",
      "metadata": {
        "id": "i-JUNCl1tM4e"
      },
      "source": [
        "### Generate a basic set of descriptive statistics for the numeric fields in the data set."
      ]
    },
    {
      "cell_type": "code",
      "metadata": {
        "id": "Lh9RxSL1tM4e",
        "outputId": "1f03536c-fa26-4423-9771-27162859b55c",
        "colab": {
          "base_uri": "https://localhost:8080/",
          "height": 365
        }
      },
      "source": [
        "df.head(5)"
      ],
      "execution_count": null,
      "outputs": [
        {
          "output_type": "execute_result",
          "data": {
            "text/html": [
              "<div>\n",
              "<style scoped>\n",
              "    .dataframe tbody tr th:only-of-type {\n",
              "        vertical-align: middle;\n",
              "    }\n",
              "\n",
              "    .dataframe tbody tr th {\n",
              "        vertical-align: top;\n",
              "    }\n",
              "\n",
              "    .dataframe thead th {\n",
              "        text-align: right;\n",
              "    }\n",
              "</style>\n",
              "<table border=\"1\" class=\"dataframe\">\n",
              "  <thead>\n",
              "    <tr style=\"text-align: right;\">\n",
              "      <th></th>\n",
              "      <th>id</th>\n",
              "      <th>name</th>\n",
              "      <th>host_id</th>\n",
              "      <th>host_name</th>\n",
              "      <th>neighbourhood_group</th>\n",
              "      <th>neighbourhood</th>\n",
              "      <th>latitude</th>\n",
              "      <th>longitude</th>\n",
              "      <th>room_type</th>\n",
              "      <th>price</th>\n",
              "      <th>minimum_nights</th>\n",
              "      <th>number_of_reviews</th>\n",
              "      <th>last_review</th>\n",
              "      <th>reviews_per_month</th>\n",
              "      <th>calculated_host_listings_count</th>\n",
              "      <th>availability_365</th>\n",
              "    </tr>\n",
              "  </thead>\n",
              "  <tbody>\n",
              "    <tr>\n",
              "      <th>0</th>\n",
              "      <td>2060</td>\n",
              "      <td>Modern NYC</td>\n",
              "      <td>2259</td>\n",
              "      <td>Jenny</td>\n",
              "      <td>Manhattan</td>\n",
              "      <td>Washington Heights</td>\n",
              "      <td>40.85722</td>\n",
              "      <td>-73.93790</td>\n",
              "      <td>Private room</td>\n",
              "      <td>100</td>\n",
              "      <td>1</td>\n",
              "      <td>1</td>\n",
              "      <td>2008-09-22</td>\n",
              "      <td>0.01</td>\n",
              "      <td>1</td>\n",
              "      <td>365</td>\n",
              "    </tr>\n",
              "    <tr>\n",
              "      <th>1</th>\n",
              "      <td>2595</td>\n",
              "      <td>Skylit Midtown Castle</td>\n",
              "      <td>2845</td>\n",
              "      <td>Jennifer</td>\n",
              "      <td>Manhattan</td>\n",
              "      <td>Midtown</td>\n",
              "      <td>40.75362</td>\n",
              "      <td>-73.98377</td>\n",
              "      <td>Entire home/apt</td>\n",
              "      <td>225</td>\n",
              "      <td>3</td>\n",
              "      <td>48</td>\n",
              "      <td>2019-11-04</td>\n",
              "      <td>0.37</td>\n",
              "      <td>2</td>\n",
              "      <td>335</td>\n",
              "    </tr>\n",
              "    <tr>\n",
              "      <th>2</th>\n",
              "      <td>3831</td>\n",
              "      <td>Whole flr w/private bdrm, bath &amp; kitchen(pls r...</td>\n",
              "      <td>4869</td>\n",
              "      <td>LisaRoxanne</td>\n",
              "      <td>Brooklyn</td>\n",
              "      <td>Clinton Hill</td>\n",
              "      <td>40.68514</td>\n",
              "      <td>-73.95976</td>\n",
              "      <td>Entire home/apt</td>\n",
              "      <td>89</td>\n",
              "      <td>1</td>\n",
              "      <td>322</td>\n",
              "      <td>2020-06-07</td>\n",
              "      <td>4.64</td>\n",
              "      <td>1</td>\n",
              "      <td>276</td>\n",
              "    </tr>\n",
              "    <tr>\n",
              "      <th>3</th>\n",
              "      <td>5099</td>\n",
              "      <td>Large Cozy 1 BR Apartment In Midtown East</td>\n",
              "      <td>7322</td>\n",
              "      <td>Chris</td>\n",
              "      <td>Manhattan</td>\n",
              "      <td>Murray Hill</td>\n",
              "      <td>40.74767</td>\n",
              "      <td>-73.97500</td>\n",
              "      <td>Entire home/apt</td>\n",
              "      <td>200</td>\n",
              "      <td>3</td>\n",
              "      <td>78</td>\n",
              "      <td>2019-10-13</td>\n",
              "      <td>0.58</td>\n",
              "      <td>1</td>\n",
              "      <td>0</td>\n",
              "    </tr>\n",
              "    <tr>\n",
              "      <th>4</th>\n",
              "      <td>5121</td>\n",
              "      <td>BlissArtsSpace!</td>\n",
              "      <td>7356</td>\n",
              "      <td>Garon</td>\n",
              "      <td>Brooklyn</td>\n",
              "      <td>Bedford-Stuyvesant</td>\n",
              "      <td>40.68688</td>\n",
              "      <td>-73.95596</td>\n",
              "      <td>Private room</td>\n",
              "      <td>60</td>\n",
              "      <td>29</td>\n",
              "      <td>50</td>\n",
              "      <td>2019-12-02</td>\n",
              "      <td>0.37</td>\n",
              "      <td>1</td>\n",
              "      <td>365</td>\n",
              "    </tr>\n",
              "  </tbody>\n",
              "</table>\n",
              "</div>"
            ],
            "text/plain": [
              "     id  ... availability_365\n",
              "0  2060  ...              365\n",
              "1  2595  ...              335\n",
              "2  3831  ...              276\n",
              "3  5099  ...                0\n",
              "4  5121  ...              365\n",
              "\n",
              "[5 rows x 16 columns]"
            ]
          },
          "metadata": {
            "tags": []
          },
          "execution_count": 4
        }
      ]
    },
    {
      "cell_type": "code",
      "metadata": {
        "id": "9MAdVpeWj-Mz"
      },
      "source": [
        "df_nums = df[['id', 'host_id', 'price', 'minimum_nights', 'number_of_reviews', 'reviews_per_month', 'calculated_host_listings_count', 'availability_365']]"
      ],
      "execution_count": null,
      "outputs": []
    },
    {
      "cell_type": "code",
      "metadata": {
        "id": "LRaxz_iYkxnc",
        "outputId": "ca4ed35a-9007-48b5-c1d0-be6a9e797fa2",
        "colab": {
          "base_uri": "https://localhost:8080/",
          "height": 300
        }
      },
      "source": [
        "# use .describe() method on the df_nums to return basic descriptive characteristics\n",
        "df_stats = df_nums.describe().T\n",
        "df_stats"
      ],
      "execution_count": null,
      "outputs": [
        {
          "output_type": "execute_result",
          "data": {
            "text/html": [
              "<div>\n",
              "<style scoped>\n",
              "    .dataframe tbody tr th:only-of-type {\n",
              "        vertical-align: middle;\n",
              "    }\n",
              "\n",
              "    .dataframe tbody tr th {\n",
              "        vertical-align: top;\n",
              "    }\n",
              "\n",
              "    .dataframe thead th {\n",
              "        text-align: right;\n",
              "    }\n",
              "</style>\n",
              "<table border=\"1\" class=\"dataframe\">\n",
              "  <thead>\n",
              "    <tr style=\"text-align: right;\">\n",
              "      <th></th>\n",
              "      <th>count</th>\n",
              "      <th>mean</th>\n",
              "      <th>std</th>\n",
              "      <th>min</th>\n",
              "      <th>25%</th>\n",
              "      <th>50%</th>\n",
              "      <th>75%</th>\n",
              "      <th>max</th>\n",
              "    </tr>\n",
              "  </thead>\n",
              "  <tbody>\n",
              "    <tr>\n",
              "      <th>id</th>\n",
              "      <td>49530.0</td>\n",
              "      <td>2.295964e+07</td>\n",
              "      <td>1.352683e+07</td>\n",
              "      <td>2060.00</td>\n",
              "      <td>10850500.75</td>\n",
              "      <td>22336021.00</td>\n",
              "      <td>3.557779e+07</td>\n",
              "      <td>43703359.0</td>\n",
              "    </tr>\n",
              "    <tr>\n",
              "      <th>host_id</th>\n",
              "      <td>49530.0</td>\n",
              "      <td>8.509951e+07</td>\n",
              "      <td>9.887597e+07</td>\n",
              "      <td>2259.00</td>\n",
              "      <td>9269052.25</td>\n",
              "      <td>38004834.00</td>\n",
              "      <td>1.373589e+08</td>\n",
              "      <td>349082641.0</td>\n",
              "    </tr>\n",
              "    <tr>\n",
              "      <th>price</th>\n",
              "      <td>49530.0</td>\n",
              "      <td>1.626439e+02</td>\n",
              "      <td>4.193123e+02</td>\n",
              "      <td>0.00</td>\n",
              "      <td>68.00</td>\n",
              "      <td>101.00</td>\n",
              "      <td>1.750000e+02</td>\n",
              "      <td>10000.0</td>\n",
              "    </tr>\n",
              "    <tr>\n",
              "      <th>minimum_nights</th>\n",
              "      <td>49530.0</td>\n",
              "      <td>8.191540e+00</td>\n",
              "      <td>2.197483e+01</td>\n",
              "      <td>1.00</td>\n",
              "      <td>2.00</td>\n",
              "      <td>3.00</td>\n",
              "      <td>6.000000e+00</td>\n",
              "      <td>1250.0</td>\n",
              "    </tr>\n",
              "    <tr>\n",
              "      <th>number_of_reviews</th>\n",
              "      <td>49530.0</td>\n",
              "      <td>2.386751e+01</td>\n",
              "      <td>4.824582e+01</td>\n",
              "      <td>0.00</td>\n",
              "      <td>1.00</td>\n",
              "      <td>5.00</td>\n",
              "      <td>2.300000e+01</td>\n",
              "      <td>746.0</td>\n",
              "    </tr>\n",
              "    <tr>\n",
              "      <th>reviews_per_month</th>\n",
              "      <td>38211.0</td>\n",
              "      <td>1.008095e+00</td>\n",
              "      <td>1.345213e+00</td>\n",
              "      <td>0.01</td>\n",
              "      <td>0.15</td>\n",
              "      <td>0.45</td>\n",
              "      <td>1.420000e+00</td>\n",
              "      <td>53.8</td>\n",
              "    </tr>\n",
              "    <tr>\n",
              "      <th>calculated_host_listings_count</th>\n",
              "      <td>49530.0</td>\n",
              "      <td>6.233030e+00</td>\n",
              "      <td>2.548529e+01</td>\n",
              "      <td>1.00</td>\n",
              "      <td>1.00</td>\n",
              "      <td>1.00</td>\n",
              "      <td>2.000000e+00</td>\n",
              "      <td>280.0</td>\n",
              "    </tr>\n",
              "    <tr>\n",
              "      <th>availability_365</th>\n",
              "      <td>49530.0</td>\n",
              "      <td>1.266668e+02</td>\n",
              "      <td>1.423814e+02</td>\n",
              "      <td>0.00</td>\n",
              "      <td>0.00</td>\n",
              "      <td>79.00</td>\n",
              "      <td>2.670000e+02</td>\n",
              "      <td>365.0</td>\n",
              "    </tr>\n",
              "  </tbody>\n",
              "</table>\n",
              "</div>"
            ],
            "text/plain": [
              "                                  count  ...          max\n",
              "id                              49530.0  ...   43703359.0\n",
              "host_id                         49530.0  ...  349082641.0\n",
              "price                           49530.0  ...      10000.0\n",
              "minimum_nights                  49530.0  ...       1250.0\n",
              "number_of_reviews               49530.0  ...        746.0\n",
              "reviews_per_month               38211.0  ...         53.8\n",
              "calculated_host_listings_count  49530.0  ...        280.0\n",
              "availability_365                49530.0  ...        365.0\n",
              "\n",
              "[8 rows x 8 columns]"
            ]
          },
          "metadata": {
            "tags": []
          },
          "execution_count": 6
        }
      ]
    },
    {
      "cell_type": "markdown",
      "metadata": {
        "id": "fXoDTnC9tM4h"
      },
      "source": [
        "### Calculate the following for each numeric field in the data set and add them to the data frame containing the basic set of descriptive statistics.\n",
        "\n",
        "- Variance\n",
        "- Mean Absolute Deviation\n",
        "- Range\n",
        "- Interquartile Range"
      ]
    },
    {
      "cell_type": "code",
      "metadata": {
        "id": "FGxTOeMWtM4h"
      },
      "source": [
        "# calculate the variance for the numerical dataframe\n",
        "df_stats['Variance'] = df_nums.var()\n",
        "\n",
        "# .mad() method to calculate the mean absolute deviation for df_nums\n",
        "df_stats['Mean Abs Deviation'] = df_nums.mad()\n",
        "\n",
        "# calculate the range for df_nums by subtracting the max value from the min value\n",
        "df_stats['Range'] = (df_nums.max() - df_nums.min())\n",
        "\n",
        "# calculate the IQR of df_nums by subtracting the 25th percentile from the 75th\n",
        "df_stats['IQR'] = df_stats['75%'] - df_stats['25%']"
      ],
      "execution_count": null,
      "outputs": []
    },
    {
      "cell_type": "code",
      "metadata": {
        "id": "kGTH8j_EqTa7",
        "outputId": "5761ca1c-c439-4157-e3a9-73e2c6b85e55",
        "colab": {
          "base_uri": "https://localhost:8080/",
          "height": 300
        }
      },
      "source": [
        "df_stats"
      ],
      "execution_count": null,
      "outputs": [
        {
          "output_type": "execute_result",
          "data": {
            "text/html": [
              "<div>\n",
              "<style scoped>\n",
              "    .dataframe tbody tr th:only-of-type {\n",
              "        vertical-align: middle;\n",
              "    }\n",
              "\n",
              "    .dataframe tbody tr th {\n",
              "        vertical-align: top;\n",
              "    }\n",
              "\n",
              "    .dataframe thead th {\n",
              "        text-align: right;\n",
              "    }\n",
              "</style>\n",
              "<table border=\"1\" class=\"dataframe\">\n",
              "  <thead>\n",
              "    <tr style=\"text-align: right;\">\n",
              "      <th></th>\n",
              "      <th>count</th>\n",
              "      <th>mean</th>\n",
              "      <th>std</th>\n",
              "      <th>min</th>\n",
              "      <th>25%</th>\n",
              "      <th>50%</th>\n",
              "      <th>75%</th>\n",
              "      <th>max</th>\n",
              "      <th>Variance</th>\n",
              "      <th>Mean Abs Deviation</th>\n",
              "      <th>Range</th>\n",
              "      <th>IQR</th>\n",
              "    </tr>\n",
              "  </thead>\n",
              "  <tbody>\n",
              "    <tr>\n",
              "      <th>id</th>\n",
              "      <td>49530.0</td>\n",
              "      <td>2.295964e+07</td>\n",
              "      <td>1.352683e+07</td>\n",
              "      <td>2060.00</td>\n",
              "      <td>10850500.75</td>\n",
              "      <td>22336021.00</td>\n",
              "      <td>3.557779e+07</td>\n",
              "      <td>43703359.0</td>\n",
              "      <td>1.829752e+14</td>\n",
              "      <td>1.181604e+07</td>\n",
              "      <td>4.370130e+07</td>\n",
              "      <td>2.472729e+07</td>\n",
              "    </tr>\n",
              "    <tr>\n",
              "      <th>host_id</th>\n",
              "      <td>49530.0</td>\n",
              "      <td>8.509951e+07</td>\n",
              "      <td>9.887597e+07</td>\n",
              "      <td>2259.00</td>\n",
              "      <td>9269052.25</td>\n",
              "      <td>38004834.00</td>\n",
              "      <td>1.373589e+08</td>\n",
              "      <td>349082641.0</td>\n",
              "      <td>9.776457e+15</td>\n",
              "      <td>8.179277e+07</td>\n",
              "      <td>3.490804e+08</td>\n",
              "      <td>1.280898e+08</td>\n",
              "    </tr>\n",
              "    <tr>\n",
              "      <th>price</th>\n",
              "      <td>49530.0</td>\n",
              "      <td>1.626439e+02</td>\n",
              "      <td>4.193123e+02</td>\n",
              "      <td>0.00</td>\n",
              "      <td>68.00</td>\n",
              "      <td>101.00</td>\n",
              "      <td>1.750000e+02</td>\n",
              "      <td>10000.0</td>\n",
              "      <td>1.758228e+05</td>\n",
              "      <td>1.090032e+02</td>\n",
              "      <td>1.000000e+04</td>\n",
              "      <td>1.070000e+02</td>\n",
              "    </tr>\n",
              "    <tr>\n",
              "      <th>minimum_nights</th>\n",
              "      <td>49530.0</td>\n",
              "      <td>8.191540e+00</td>\n",
              "      <td>2.197483e+01</td>\n",
              "      <td>1.00</td>\n",
              "      <td>2.00</td>\n",
              "      <td>3.00</td>\n",
              "      <td>6.000000e+00</td>\n",
              "      <td>1250.0</td>\n",
              "      <td>4.828933e+02</td>\n",
              "      <td>8.992644e+00</td>\n",
              "      <td>1.249000e+03</td>\n",
              "      <td>4.000000e+00</td>\n",
              "    </tr>\n",
              "    <tr>\n",
              "      <th>number_of_reviews</th>\n",
              "      <td>49530.0</td>\n",
              "      <td>2.386751e+01</td>\n",
              "      <td>4.824582e+01</td>\n",
              "      <td>0.00</td>\n",
              "      <td>1.00</td>\n",
              "      <td>5.00</td>\n",
              "      <td>2.300000e+01</td>\n",
              "      <td>746.0</td>\n",
              "      <td>2.327659e+03</td>\n",
              "      <td>2.906928e+01</td>\n",
              "      <td>7.460000e+02</td>\n",
              "      <td>2.200000e+01</td>\n",
              "    </tr>\n",
              "    <tr>\n",
              "      <th>reviews_per_month</th>\n",
              "      <td>38211.0</td>\n",
              "      <td>1.008095e+00</td>\n",
              "      <td>1.345213e+00</td>\n",
              "      <td>0.01</td>\n",
              "      <td>0.15</td>\n",
              "      <td>0.45</td>\n",
              "      <td>1.420000e+00</td>\n",
              "      <td>53.8</td>\n",
              "      <td>1.809598e+00</td>\n",
              "      <td>9.489338e-01</td>\n",
              "      <td>5.379000e+01</td>\n",
              "      <td>1.270000e+00</td>\n",
              "    </tr>\n",
              "    <tr>\n",
              "      <th>calculated_host_listings_count</th>\n",
              "      <td>49530.0</td>\n",
              "      <td>6.233030e+00</td>\n",
              "      <td>2.548529e+01</td>\n",
              "      <td>1.00</td>\n",
              "      <td>1.00</td>\n",
              "      <td>1.00</td>\n",
              "      <td>2.000000e+00</td>\n",
              "      <td>280.0</td>\n",
              "      <td>6.495002e+02</td>\n",
              "      <td>8.506215e+00</td>\n",
              "      <td>2.790000e+02</td>\n",
              "      <td>1.000000e+00</td>\n",
              "    </tr>\n",
              "    <tr>\n",
              "      <th>availability_365</th>\n",
              "      <td>49530.0</td>\n",
              "      <td>1.266668e+02</td>\n",
              "      <td>1.423814e+02</td>\n",
              "      <td>0.00</td>\n",
              "      <td>0.00</td>\n",
              "      <td>79.00</td>\n",
              "      <td>2.670000e+02</td>\n",
              "      <td>365.0</td>\n",
              "      <td>2.027247e+04</td>\n",
              "      <td>1.265533e+02</td>\n",
              "      <td>3.650000e+02</td>\n",
              "      <td>2.670000e+02</td>\n",
              "    </tr>\n",
              "  </tbody>\n",
              "</table>\n",
              "</div>"
            ],
            "text/plain": [
              "                                  count  ...           IQR\n",
              "id                              49530.0  ...  2.472729e+07\n",
              "host_id                         49530.0  ...  1.280898e+08\n",
              "price                           49530.0  ...  1.070000e+02\n",
              "minimum_nights                  49530.0  ...  4.000000e+00\n",
              "number_of_reviews               49530.0  ...  2.200000e+01\n",
              "reviews_per_month               38211.0  ...  1.270000e+00\n",
              "calculated_host_listings_count  49530.0  ...  1.000000e+00\n",
              "availability_365                49530.0  ...  2.670000e+02\n",
              "\n",
              "[8 rows x 12 columns]"
            ]
          },
          "metadata": {
            "tags": []
          },
          "execution_count": 8
        }
      ]
    },
    {
      "cell_type": "markdown",
      "metadata": {
        "id": "81YZ6C7ftM4l"
      },
      "source": [
        "### Generate a basic set of descriptive statistics for the categorical fields in the data set."
      ]
    },
    {
      "cell_type": "code",
      "metadata": {
        "id": "XM9xec61s6Xd",
        "outputId": "1c7ae74d-9999-4d45-91bc-9b01308c485a",
        "colab": {
          "base_uri": "https://localhost:8080/"
        }
      },
      "source": [
        "df.info()"
      ],
      "execution_count": null,
      "outputs": [
        {
          "output_type": "stream",
          "text": [
            "<class 'pandas.core.frame.DataFrame'>\n",
            "RangeIndex: 49530 entries, 0 to 49529\n",
            "Data columns (total 16 columns):\n",
            " #   Column                          Non-Null Count  Dtype  \n",
            "---  ------                          --------------  -----  \n",
            " 0   id                              49530 non-null  int64  \n",
            " 1   name                            49512 non-null  object \n",
            " 2   host_id                         49530 non-null  int64  \n",
            " 3   host_name                       49524 non-null  object \n",
            " 4   neighbourhood_group             49530 non-null  object \n",
            " 5   neighbourhood                   49530 non-null  object \n",
            " 6   latitude                        49530 non-null  float64\n",
            " 7   longitude                       49530 non-null  float64\n",
            " 8   room_type                       49530 non-null  object \n",
            " 9   price                           49530 non-null  int64  \n",
            " 10  minimum_nights                  49530 non-null  int64  \n",
            " 11  number_of_reviews               49530 non-null  int64  \n",
            " 12  last_review                     38211 non-null  object \n",
            " 13  reviews_per_month               38211 non-null  float64\n",
            " 14  calculated_host_listings_count  49530 non-null  int64  \n",
            " 15  availability_365                49530 non-null  int64  \n",
            "dtypes: float64(3), int64(7), object(6)\n",
            "memory usage: 6.0+ MB\n"
          ],
          "name": "stdout"
        }
      ]
    },
    {
      "cell_type": "code",
      "metadata": {
        "id": "NCu1eHOGtM4l"
      },
      "source": [
        "# variable for the df categorical fields\n",
        "df_cats = df[['name', 'host_name', 'neighbourhood_group', 'neighbourhood', 'room_type', 'last_review']]"
      ],
      "execution_count": null,
      "outputs": []
    },
    {
      "cell_type": "code",
      "metadata": {
        "id": "cAMiGJ_ItaIn"
      },
      "source": [
        "# create a variable for the category df stats\n",
        "cat_stats = df_cats.describe().T"
      ],
      "execution_count": null,
      "outputs": []
    },
    {
      "cell_type": "markdown",
      "metadata": {
        "id": "vGaAtIbwtM4o"
      },
      "source": [
        "### Calculate the Pearson correlation coefficients between price, minimum_nights, reviews_per_month, calculated_host_listings_count and availability_365"
      ]
    },
    {
      "cell_type": "code",
      "metadata": {
        "id": "yWWeNyBxtM4p",
        "outputId": "0399d60c-1361-47f3-b303-1eadb6fcf80d",
        "colab": {
          "base_uri": "https://localhost:8080/",
          "height": 206
        }
      },
      "source": [
        "# correlation coeficients between categories\n",
        "df[['price', 'minimum_nights', 'reviews_per_month', 'calculated_host_listings_count', 'availability_365']].corr()"
      ],
      "execution_count": null,
      "outputs": [
        {
          "output_type": "execute_result",
          "data": {
            "text/html": [
              "<div>\n",
              "<style scoped>\n",
              "    .dataframe tbody tr th:only-of-type {\n",
              "        vertical-align: middle;\n",
              "    }\n",
              "\n",
              "    .dataframe tbody tr th {\n",
              "        vertical-align: top;\n",
              "    }\n",
              "\n",
              "    .dataframe thead th {\n",
              "        text-align: right;\n",
              "    }\n",
              "</style>\n",
              "<table border=\"1\" class=\"dataframe\">\n",
              "  <thead>\n",
              "    <tr style=\"text-align: right;\">\n",
              "      <th></th>\n",
              "      <th>price</th>\n",
              "      <th>minimum_nights</th>\n",
              "      <th>reviews_per_month</th>\n",
              "      <th>calculated_host_listings_count</th>\n",
              "      <th>availability_365</th>\n",
              "    </tr>\n",
              "  </thead>\n",
              "  <tbody>\n",
              "    <tr>\n",
              "      <th>price</th>\n",
              "      <td>1.000000</td>\n",
              "      <td>0.015923</td>\n",
              "      <td>-0.011623</td>\n",
              "      <td>0.004730</td>\n",
              "      <td>0.055788</td>\n",
              "    </tr>\n",
              "    <tr>\n",
              "      <th>minimum_nights</th>\n",
              "      <td>0.015923</td>\n",
              "      <td>1.000000</td>\n",
              "      <td>-0.098409</td>\n",
              "      <td>0.165421</td>\n",
              "      <td>0.148435</td>\n",
              "    </tr>\n",
              "    <tr>\n",
              "      <th>reviews_per_month</th>\n",
              "      <td>-0.011623</td>\n",
              "      <td>-0.098409</td>\n",
              "      <td>1.000000</td>\n",
              "      <td>-0.066725</td>\n",
              "      <td>0.213093</td>\n",
              "    </tr>\n",
              "    <tr>\n",
              "      <th>calculated_host_listings_count</th>\n",
              "      <td>0.004730</td>\n",
              "      <td>0.165421</td>\n",
              "      <td>-0.066725</td>\n",
              "      <td>1.000000</td>\n",
              "      <td>0.173181</td>\n",
              "    </tr>\n",
              "    <tr>\n",
              "      <th>availability_365</th>\n",
              "      <td>0.055788</td>\n",
              "      <td>0.148435</td>\n",
              "      <td>0.213093</td>\n",
              "      <td>0.173181</td>\n",
              "      <td>1.000000</td>\n",
              "    </tr>\n",
              "  </tbody>\n",
              "</table>\n",
              "</div>"
            ],
            "text/plain": [
              "                                   price  ...  availability_365\n",
              "price                           1.000000  ...          0.055788\n",
              "minimum_nights                  0.015923  ...          0.148435\n",
              "reviews_per_month              -0.011623  ...          0.213093\n",
              "calculated_host_listings_count  0.004730  ...          0.173181\n",
              "availability_365                0.055788  ...          1.000000\n",
              "\n",
              "[5 rows x 5 columns]"
            ]
          },
          "metadata": {
            "tags": []
          },
          "execution_count": 12
        }
      ]
    },
    {
      "cell_type": "markdown",
      "metadata": {
        "id": "AsFbCCdOtM4r"
      },
      "source": [
        "### Group the data by neighbourhood and calculate the mean and standard deviation of price for each neighbourhood."
      ]
    },
    {
      "cell_type": "code",
      "metadata": {
        "id": "FhrxQmuKtM4s"
      },
      "source": [
        "# variable for the df grouped by neighborhood\n",
        "df_neighborhoods = df.groupby('neighbourhood')"
      ],
      "execution_count": null,
      "outputs": []
    },
    {
      "cell_type": "code",
      "metadata": {
        "id": "za40ZGgJvT_g",
        "outputId": "f0b0c0fa-4865-46c4-db1c-030335606656",
        "colab": {
          "base_uri": "https://localhost:8080/"
        }
      },
      "source": [
        "# price mean by neighborhood\n",
        "df_neighborhoods['price'].mean()"
      ],
      "execution_count": null,
      "outputs": [
        {
          "output_type": "execute_result",
          "data": {
            "text/plain": [
              "neighbourhood\n",
              "Allerton             94.500000\n",
              "Arden Heights       102.600000\n",
              "Arrochar            104.315789\n",
              "Arverne             187.125000\n",
              "Astoria             104.109865\n",
              "                      ...     \n",
              "Windsor Terrace     138.067114\n",
              "Woodhaven            69.638095\n",
              "Woodlawn             61.700000\n",
              "Woodrow            2350.000000\n",
              "Woodside             69.383721\n",
              "Name: price, Length: 222, dtype: float64"
            ]
          },
          "metadata": {
            "tags": []
          },
          "execution_count": 14
        }
      ]
    },
    {
      "cell_type": "code",
      "metadata": {
        "id": "5nWGE15JvZfT",
        "outputId": "f2b8f00a-5417-47c5-8b1d-32dc21b1aa14",
        "colab": {
          "base_uri": "https://localhost:8080/"
        }
      },
      "source": [
        "# price standard deviation by neighborhood\n",
        "df_neighborhoods['price'].std()"
      ],
      "execution_count": null,
      "outputs": [
        {
          "output_type": "execute_result",
          "data": {
            "text/plain": [
              "neighbourhood\n",
              "Allerton             83.219379\n",
              "Arden Heights        54.834296\n",
              "Arrochar            136.241229\n",
              "Arverne             231.710658\n",
              "Astoria             124.606979\n",
              "                      ...     \n",
              "Windsor Terrace      89.830596\n",
              "Woodhaven            43.294191\n",
              "Woodlawn             24.882167\n",
              "Woodrow            2333.452378\n",
              "Woodside             85.328235\n",
              "Name: price, Length: 222, dtype: float64"
            ]
          },
          "metadata": {
            "tags": []
          },
          "execution_count": 15
        }
      ]
    },
    {
      "cell_type": "markdown",
      "metadata": {
        "id": "e6rJOzh4tM4v"
      },
      "source": [
        "### Create a new mimimum revenue index variable that combines the price, minimum nights, calculate host listings count into a single value for each dwelling. Then sort the data frame by that value to see which dwelling has the most financial strength. \n",
        "\n"
      ]
    },
    {
      "cell_type": "code",
      "metadata": {
        "id": "JtCtU89HtM4w"
      },
      "source": [
        "# created new column for mri by adding columns\n",
        "df['mri'] = df['price']+df['minimum_nights']+df['calculated_host_listings_count']"
      ],
      "execution_count": null,
      "outputs": []
    },
    {
      "cell_type": "code",
      "metadata": {
        "id": "p2Kg1g2WwzZv"
      },
      "source": [
        "# sorted the df with the mri column by mri descending\n",
        "mri_sort = df.sort_values('mri', ascending=False)"
      ],
      "execution_count": null,
      "outputs": []
    },
    {
      "cell_type": "code",
      "metadata": {
        "id": "MFcVQ3t0xOop",
        "outputId": "85f67824-ab20-492d-baf6-aa9b313d8c0d",
        "colab": {
          "base_uri": "https://localhost:8080/",
          "height": 153
        }
      },
      "source": [
        "# selected the host_id, host_name, and mri columns to view the highest mri\n",
        "mri_sort.head(1)"
      ],
      "execution_count": null,
      "outputs": [
        {
          "output_type": "execute_result",
          "data": {
            "text/html": [
              "<div>\n",
              "<style scoped>\n",
              "    .dataframe tbody tr th:only-of-type {\n",
              "        vertical-align: middle;\n",
              "    }\n",
              "\n",
              "    .dataframe tbody tr th {\n",
              "        vertical-align: top;\n",
              "    }\n",
              "\n",
              "    .dataframe thead th {\n",
              "        text-align: right;\n",
              "    }\n",
              "</style>\n",
              "<table border=\"1\" class=\"dataframe\">\n",
              "  <thead>\n",
              "    <tr style=\"text-align: right;\">\n",
              "      <th></th>\n",
              "      <th>id</th>\n",
              "      <th>name</th>\n",
              "      <th>host_id</th>\n",
              "      <th>host_name</th>\n",
              "      <th>neighbourhood_group</th>\n",
              "      <th>neighbourhood</th>\n",
              "      <th>latitude</th>\n",
              "      <th>longitude</th>\n",
              "      <th>room_type</th>\n",
              "      <th>price</th>\n",
              "      <th>minimum_nights</th>\n",
              "      <th>number_of_reviews</th>\n",
              "      <th>last_review</th>\n",
              "      <th>reviews_per_month</th>\n",
              "      <th>calculated_host_listings_count</th>\n",
              "      <th>availability_365</th>\n",
              "      <th>mri</th>\n",
              "    </tr>\n",
              "  </thead>\n",
              "  <tbody>\n",
              "    <tr>\n",
              "      <th>10825</th>\n",
              "      <td>9528920</td>\n",
              "      <td>Quiet, Clean, Lit @ LES &amp; Chinatown</td>\n",
              "      <td>3906464</td>\n",
              "      <td>Amy</td>\n",
              "      <td>Manhattan</td>\n",
              "      <td>Lower East Side</td>\n",
              "      <td>40.71355</td>\n",
              "      <td>-73.98507</td>\n",
              "      <td>Private room</td>\n",
              "      <td>9999</td>\n",
              "      <td>99</td>\n",
              "      <td>6</td>\n",
              "      <td>2016-01-01</td>\n",
              "      <td>0.11</td>\n",
              "      <td>1</td>\n",
              "      <td>83</td>\n",
              "      <td>10099</td>\n",
              "    </tr>\n",
              "  </tbody>\n",
              "</table>\n",
              "</div>"
            ],
            "text/plain": [
              "            id                                 name  ...  availability_365    mri\n",
              "10825  9528920  Quiet, Clean, Lit @ LES & Chinatown  ...                83  10099\n",
              "\n",
              "[1 rows x 17 columns]"
            ]
          },
          "metadata": {
            "tags": []
          },
          "execution_count": 18
        }
      ]
    },
    {
      "cell_type": "markdown",
      "metadata": {
        "id": "qyxHrLOvtM4y"
      },
      "source": [
        "### Group the data by neighbourhood_group and calculate the average minimum revenue index for each neighbourhood_group."
      ]
    },
    {
      "cell_type": "code",
      "metadata": {
        "id": "SgYmQ9HytM4z",
        "outputId": "01229e0c-f6ff-46fa-e990-226ebde4e0e0",
        "colab": {
          "base_uri": "https://localhost:8080/"
        }
      },
      "source": [
        "df.groupby(['neighbourhood_group'])['mri'].mean()"
      ],
      "execution_count": null,
      "outputs": [
        {
          "output_type": "execute_result",
          "data": {
            "text/plain": [
              "neighbourhood_group\n",
              "Bronx             97.798831\n",
              "Brooklyn         134.571522\n",
              "Manhattan        238.448982\n",
              "Queens           113.417765\n",
              "Staten Island    123.291892\n",
              "Name: mri, dtype: float64"
            ]
          },
          "metadata": {
            "tags": []
          },
          "execution_count": 19
        }
      ]
    }
  ]
}