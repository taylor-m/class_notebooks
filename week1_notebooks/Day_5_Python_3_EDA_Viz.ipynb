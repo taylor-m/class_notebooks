{
 "cells": [
  {
   "cell_type": "code",
   "execution_count": 2,
   "metadata": {},
   "outputs": [
    {
     "data": {
      "application/javascript": [
       "\n",
       "            setTimeout(function() {\n",
       "                var nbb_cell_id = 2;\n",
       "                var nbb_unformatted_code = \"%reload_ext nb_black\";\n",
       "                var nbb_formatted_code = \"%reload_ext nb_black\";\n",
       "                var nbb_cells = Jupyter.notebook.get_cells();\n",
       "                for (var i = 0; i < nbb_cells.length; ++i) {\n",
       "                    if (nbb_cells[i].input_prompt_number == nbb_cell_id) {\n",
       "                        if (nbb_cells[i].get_text() == nbb_unformatted_code) {\n",
       "                             nbb_cells[i].set_text(nbb_formatted_code);\n",
       "                        }\n",
       "                        break;\n",
       "                    }\n",
       "                }\n",
       "            }, 500);\n",
       "            "
      ],
      "text/plain": [
       "<IPython.core.display.Javascript object>"
      ]
     },
     "metadata": {},
     "output_type": "display_data"
    }
   ],
   "source": [
    "%reload_ext nb_black"
   ]
  },
  {
   "cell_type": "markdown",
   "metadata": {
    "id": "Do4ODFDnR7N3"
   },
   "source": [
    "###  Practice - Python for data scientists III - eda viz\n",
    "\n",
    "Answer all **Questions**\n",
    "\n",
    "References:  \n",
    "https://matplotlib.org/users/index.html   \n",
    "https://github.com/cs109  \n",
    "Python Data Science Handbook, Jake VanderPlas, 2017.    \n",
    "The Visual Display of Quantitative Information, 2001.  \n",
    "Python for Data Analysis: Data Wrangling with Pandas, NumPy, and IPython, 2017.\n",
    "Applied Multivariate Statistical Analysis, 2015.  "
   ]
  },
  {
   "cell_type": "code",
   "execution_count": 3,
   "metadata": {
    "id": "7RQzoc-WR7N7"
   },
   "outputs": [
    {
     "data": {
      "application/javascript": [
       "\n",
       "            setTimeout(function() {\n",
       "                var nbb_cell_id = 3;\n",
       "                var nbb_unformatted_code = \"# The %... is an iPython magic command, and is not part of the Python language.\\n# In this case we're telling the plotting library to draw things in\\n# the notebook instead of in a separate window.\\n%matplotlib inline \\n\\nimport numpy as np  # imports a fast numerical programming library\\nimport scipy as sp  # imports stats functions, amongst other things\\nimport matplotlib as mpl  # this actually imports matplotlib\\nimport matplotlib.cm as cm  # allows us easy access to colormaps\\nimport matplotlib.pyplot as plt  # sets up plotting under plt\\nimport pandas as pd  # lets us handle data as dataframes\\nimport re\\n\\n# sets up pandas table display\\npd.set_option(\\\"display.width\\\", 500)\\npd.set_option(\\\"display.max_columns\\\", 100)\\npd.set_option(\\\"display.notebook_repr_html\\\", True)\";\n",
       "                var nbb_formatted_code = \"# The %... is an iPython magic command, and is not part of the Python language.\\n# In this case we're telling the plotting library to draw things in\\n# the notebook instead of in a separate window.\\n%matplotlib inline \\n\\nimport numpy as np  # imports a fast numerical programming library\\nimport scipy as sp  # imports stats functions, amongst other things\\nimport matplotlib as mpl  # this actually imports matplotlib\\nimport matplotlib.cm as cm  # allows us easy access to colormaps\\nimport matplotlib.pyplot as plt  # sets up plotting under plt\\nimport pandas as pd  # lets us handle data as dataframes\\nimport re\\n\\n# sets up pandas table display\\npd.set_option(\\\"display.width\\\", 500)\\npd.set_option(\\\"display.max_columns\\\", 100)\\npd.set_option(\\\"display.notebook_repr_html\\\", True)\";\n",
       "                var nbb_cells = Jupyter.notebook.get_cells();\n",
       "                for (var i = 0; i < nbb_cells.length; ++i) {\n",
       "                    if (nbb_cells[i].input_prompt_number == nbb_cell_id) {\n",
       "                        if (nbb_cells[i].get_text() == nbb_unformatted_code) {\n",
       "                             nbb_cells[i].set_text(nbb_formatted_code);\n",
       "                        }\n",
       "                        break;\n",
       "                    }\n",
       "                }\n",
       "            }, 500);\n",
       "            "
      ],
      "text/plain": [
       "<IPython.core.display.Javascript object>"
      ]
     },
     "metadata": {},
     "output_type": "display_data"
    }
   ],
   "source": [
    "# The %... is an iPython magic command, and is not part of the Python language.\n",
    "# In this case we're telling the plotting library to draw things in\n",
    "# the notebook instead of in a separate window.\n",
    "%matplotlib inline \n",
    "\n",
    "import numpy as np  # imports a fast numerical programming library\n",
    "import scipy as sp  # imports stats functions, amongst other things\n",
    "import matplotlib as mpl  # this actually imports matplotlib\n",
    "import matplotlib.cm as cm  # allows us easy access to colormaps\n",
    "import matplotlib.pyplot as plt  # sets up plotting under plt\n",
    "import pandas as pd  # lets us handle data as dataframes\n",
    "import re\n",
    "\n",
    "# sets up pandas table display\n",
    "pd.set_option(\"display.width\", 500)\n",
    "pd.set_option(\"display.max_columns\", 100)\n",
    "pd.set_option(\"display.notebook_repr_html\", True)"
   ]
  },
  {
   "cell_type": "markdown",
   "metadata": {
    "id": "-8WAJIPzR7N_"
   },
   "source": [
    "### Getting the mtcars dataset into shape"
   ]
  },
  {
   "cell_type": "markdown",
   "metadata": {
    "id": "tXmpYD-LR7OA"
   },
   "source": [
    " \n",
    "\n",
    "The documentation for this data is [here](https://stat.ethz.ch/R-manual/R-devel/library/datasets/html/mtcars.html) but I have extracted some relevant parts below:\n",
    "\n",
    "```\n",
    "Description\n",
    "\n",
    "The data was extracted from the 1974 Motor Trend US magazine, and comprises fuel consumption and 10 aspects of automobile design and performance for 32 automobiles (1973–74 models).\n",
    "\n",
    "Usage\n",
    "\n",
    "mtcars\n",
    "Format\n",
    "\n",
    "A data frame with 32 observations on 11 variables.\n",
    "\n",
    "[, 1]\tmpg\tMiles/(US) gallon\n",
    "[, 2]\tcyl\tNumber of cylinders\n",
    "[, 3]\tdisp\tDisplacement (cu.in.)\n",
    "[, 4]\thp\tGross horsepower\n",
    "[, 5]\tdrat\tRear axle ratio\n",
    "[, 6]\twt\tWeight (1000 lbs)\n",
    "[, 7]\tqsec\t1/4 mile time\n",
    "[, 8]\tvs\tV/S\n",
    "[, 9]\tam\tTransmission (0 = automatic, 1 = manual)\n",
    "[,10]\tgear\tNumber of forward gears\n",
    "[,11]\tcarb\tNumber of carburetors\n",
    "Source\n",
    "\n",
    "Henderson and Velleman (1981), Building multiple regression models interactively. Biometrics, 37, 391–411.\n",
    "```"
   ]
  },
  {
   "cell_type": "code",
   "execution_count": 4,
   "metadata": {
    "id": "kHRPJjVWR7OC"
   },
   "outputs": [
    {
     "data": {
      "text/html": [
       "<div>\n",
       "<style scoped>\n",
       "    .dataframe tbody tr th:only-of-type {\n",
       "        vertical-align: middle;\n",
       "    }\n",
       "\n",
       "    .dataframe tbody tr th {\n",
       "        vertical-align: top;\n",
       "    }\n",
       "\n",
       "    .dataframe thead th {\n",
       "        text-align: right;\n",
       "    }\n",
       "</style>\n",
       "<table border=\"1\" class=\"dataframe\">\n",
       "  <thead>\n",
       "    <tr style=\"text-align: right;\">\n",
       "      <th></th>\n",
       "      <th>Unnamed: 0</th>\n",
       "      <th>mpg</th>\n",
       "      <th>cyl</th>\n",
       "      <th>disp</th>\n",
       "      <th>hp</th>\n",
       "      <th>drat</th>\n",
       "      <th>wt</th>\n",
       "      <th>qsec</th>\n",
       "      <th>vs</th>\n",
       "      <th>am</th>\n",
       "      <th>gear</th>\n",
       "      <th>carb</th>\n",
       "    </tr>\n",
       "  </thead>\n",
       "  <tbody>\n",
       "    <tr>\n",
       "      <th>0</th>\n",
       "      <td>Mazda RX4</td>\n",
       "      <td>21.0</td>\n",
       "      <td>6</td>\n",
       "      <td>160.0</td>\n",
       "      <td>110</td>\n",
       "      <td>3.90</td>\n",
       "      <td>2.620</td>\n",
       "      <td>16.46</td>\n",
       "      <td>0</td>\n",
       "      <td>1</td>\n",
       "      <td>4</td>\n",
       "      <td>4</td>\n",
       "    </tr>\n",
       "    <tr>\n",
       "      <th>1</th>\n",
       "      <td>Mazda RX4 Wag</td>\n",
       "      <td>21.0</td>\n",
       "      <td>6</td>\n",
       "      <td>160.0</td>\n",
       "      <td>110</td>\n",
       "      <td>3.90</td>\n",
       "      <td>2.875</td>\n",
       "      <td>17.02</td>\n",
       "      <td>0</td>\n",
       "      <td>1</td>\n",
       "      <td>4</td>\n",
       "      <td>4</td>\n",
       "    </tr>\n",
       "    <tr>\n",
       "      <th>2</th>\n",
       "      <td>Datsun 710</td>\n",
       "      <td>22.8</td>\n",
       "      <td>4</td>\n",
       "      <td>108.0</td>\n",
       "      <td>93</td>\n",
       "      <td>3.85</td>\n",
       "      <td>2.320</td>\n",
       "      <td>18.61</td>\n",
       "      <td>1</td>\n",
       "      <td>1</td>\n",
       "      <td>4</td>\n",
       "      <td>1</td>\n",
       "    </tr>\n",
       "    <tr>\n",
       "      <th>3</th>\n",
       "      <td>Hornet 4 Drive</td>\n",
       "      <td>21.4</td>\n",
       "      <td>6</td>\n",
       "      <td>258.0</td>\n",
       "      <td>110</td>\n",
       "      <td>3.08</td>\n",
       "      <td>3.215</td>\n",
       "      <td>19.44</td>\n",
       "      <td>1</td>\n",
       "      <td>0</td>\n",
       "      <td>3</td>\n",
       "      <td>1</td>\n",
       "    </tr>\n",
       "    <tr>\n",
       "      <th>4</th>\n",
       "      <td>Hornet Sportabout</td>\n",
       "      <td>18.7</td>\n",
       "      <td>8</td>\n",
       "      <td>360.0</td>\n",
       "      <td>175</td>\n",
       "      <td>3.15</td>\n",
       "      <td>3.440</td>\n",
       "      <td>17.02</td>\n",
       "      <td>0</td>\n",
       "      <td>0</td>\n",
       "      <td>3</td>\n",
       "      <td>2</td>\n",
       "    </tr>\n",
       "  </tbody>\n",
       "</table>\n",
       "</div>"
      ],
      "text/plain": [
       "          Unnamed: 0   mpg  cyl   disp   hp  drat     wt   qsec  vs  am  gear  carb\n",
       "0          Mazda RX4  21.0    6  160.0  110  3.90  2.620  16.46   0   1     4     4\n",
       "1      Mazda RX4 Wag  21.0    6  160.0  110  3.90  2.875  17.02   0   1     4     4\n",
       "2         Datsun 710  22.8    4  108.0   93  3.85  2.320  18.61   1   1     4     1\n",
       "3     Hornet 4 Drive  21.4    6  258.0  110  3.08  3.215  19.44   1   0     3     1\n",
       "4  Hornet Sportabout  18.7    8  360.0  175  3.15  3.440  17.02   0   0     3     2"
      ]
     },
     "execution_count": 4,
     "metadata": {},
     "output_type": "execute_result"
    },
    {
     "data": {
      "application/javascript": [
       "\n",
       "            setTimeout(function() {\n",
       "                var nbb_cell_id = 4;\n",
       "                var nbb_unformatted_code = \"dfcars = pd.read_csv(\\n    \\\"https://tf-assets-prod.s3.amazonaws.com/tf-curric/data-science/mtcars.csv\\\"\\n)\\ndfcars.head()\";\n",
       "                var nbb_formatted_code = \"dfcars = pd.read_csv(\\n    \\\"https://tf-assets-prod.s3.amazonaws.com/tf-curric/data-science/mtcars.csv\\\"\\n)\\ndfcars.head()\";\n",
       "                var nbb_cells = Jupyter.notebook.get_cells();\n",
       "                for (var i = 0; i < nbb_cells.length; ++i) {\n",
       "                    if (nbb_cells[i].input_prompt_number == nbb_cell_id) {\n",
       "                        if (nbb_cells[i].get_text() == nbb_unformatted_code) {\n",
       "                             nbb_cells[i].set_text(nbb_formatted_code);\n",
       "                        }\n",
       "                        break;\n",
       "                    }\n",
       "                }\n",
       "            }, 500);\n",
       "            "
      ],
      "text/plain": [
       "<IPython.core.display.Javascript object>"
      ]
     },
     "metadata": {},
     "output_type": "display_data"
    }
   ],
   "source": [
    "dfcars = pd.read_csv(\n",
    "    \"https://tf-assets-prod.s3.amazonaws.com/tf-curric/data-science/mtcars.csv\"\n",
    ")\n",
    "dfcars.head()"
   ]
  },
  {
   "cell_type": "markdown",
   "metadata": {
    "id": "NMQ9o6JJR7OG"
   },
   "source": [
    "#### Question 1\n",
    "\n",
    "There is an poorly named column here. Change the \"Unnamed: 0\" column to \"name\".\n",
    "\n",
    "https://pandas.pydata.org/pandas-docs/stable/generated/pandas.DataFrame.rename.html\n"
   ]
  },
  {
   "cell_type": "code",
   "execution_count": 5,
   "metadata": {
    "id": "O1FpD9dIR7OJ"
   },
   "outputs": [
    {
     "data": {
      "application/javascript": [
       "\n",
       "            setTimeout(function() {\n",
       "                var nbb_cell_id = 5;\n",
       "                var nbb_unformatted_code = \"dfcars.rename(columns={\\\"Unnamed: 0\\\": \\\"name\\\"}, inplace=True)\";\n",
       "                var nbb_formatted_code = \"dfcars.rename(columns={\\\"Unnamed: 0\\\": \\\"name\\\"}, inplace=True)\";\n",
       "                var nbb_cells = Jupyter.notebook.get_cells();\n",
       "                for (var i = 0; i < nbb_cells.length; ++i) {\n",
       "                    if (nbb_cells[i].input_prompt_number == nbb_cell_id) {\n",
       "                        if (nbb_cells[i].get_text() == nbb_unformatted_code) {\n",
       "                             nbb_cells[i].set_text(nbb_formatted_code);\n",
       "                        }\n",
       "                        break;\n",
       "                    }\n",
       "                }\n",
       "            }, 500);\n",
       "            "
      ],
      "text/plain": [
       "<IPython.core.display.Javascript object>"
      ]
     },
     "metadata": {},
     "output_type": "display_data"
    }
   ],
   "source": [
    "dfcars.rename(columns={\"Unnamed: 0\": \"name\"}, inplace=True)"
   ]
  },
  {
   "cell_type": "code",
   "execution_count": 6,
   "metadata": {
    "id": "6pzBLinDR7ON"
   },
   "outputs": [
    {
     "data": {
      "text/plain": [
       "(32, 12)"
      ]
     },
     "execution_count": 6,
     "metadata": {},
     "output_type": "execute_result"
    },
    {
     "data": {
      "application/javascript": [
       "\n",
       "            setTimeout(function() {\n",
       "                var nbb_cell_id = 6;\n",
       "                var nbb_unformatted_code = \"dfcars.shape\";\n",
       "                var nbb_formatted_code = \"dfcars.shape\";\n",
       "                var nbb_cells = Jupyter.notebook.get_cells();\n",
       "                for (var i = 0; i < nbb_cells.length; ++i) {\n",
       "                    if (nbb_cells[i].input_prompt_number == nbb_cell_id) {\n",
       "                        if (nbb_cells[i].get_text() == nbb_unformatted_code) {\n",
       "                             nbb_cells[i].set_text(nbb_formatted_code);\n",
       "                        }\n",
       "                        break;\n",
       "                    }\n",
       "                }\n",
       "            }, 500);\n",
       "            "
      ],
      "text/plain": [
       "<IPython.core.display.Javascript object>"
      ]
     },
     "metadata": {},
     "output_type": "display_data"
    }
   ],
   "source": [
    "dfcars.shape"
   ]
  },
  {
   "cell_type": "markdown",
   "metadata": {
    "id": "bk2AFX3BR7OQ"
   },
   "source": [
    "#### Question 2\n",
    "\n",
    "Parse out the car `maker` from column $0$, i.e., the column you just renamed, and create a new `maker` column with this information. Display the first 10 lines of this new column.\n"
   ]
  },
  {
   "cell_type": "code",
   "execution_count": 7,
   "metadata": {},
   "outputs": [
    {
     "data": {
      "application/javascript": [
       "\n",
       "            setTimeout(function() {\n",
       "                var nbb_cell_id = 7;\n",
       "                var nbb_unformatted_code = \"n_df_cars = dfcars[\\\"name\\\"].size\";\n",
       "                var nbb_formatted_code = \"n_df_cars = dfcars[\\\"name\\\"].size\";\n",
       "                var nbb_cells = Jupyter.notebook.get_cells();\n",
       "                for (var i = 0; i < nbb_cells.length; ++i) {\n",
       "                    if (nbb_cells[i].input_prompt_number == nbb_cell_id) {\n",
       "                        if (nbb_cells[i].get_text() == nbb_unformatted_code) {\n",
       "                             nbb_cells[i].set_text(nbb_formatted_code);\n",
       "                        }\n",
       "                        break;\n",
       "                    }\n",
       "                }\n",
       "            }, 500);\n",
       "            "
      ],
      "text/plain": [
       "<IPython.core.display.Javascript object>"
      ]
     },
     "metadata": {},
     "output_type": "display_data"
    }
   ],
   "source": [
    "n_df_cars = dfcars[\"name\"].size"
   ]
  },
  {
   "cell_type": "code",
   "execution_count": 10,
   "metadata": {},
   "outputs": [
    {
     "data": {
      "text/plain": [
       "0      Mazda\n",
       "1      Mazda\n",
       "2     Datsun\n",
       "3     Hornet\n",
       "4     Hornet\n",
       "5    Valiant\n",
       "6     Duster\n",
       "7       Merc\n",
       "8       Merc\n",
       "9       Merc\n",
       "Name: maker, dtype: object"
      ]
     },
     "execution_count": 10,
     "metadata": {},
     "output_type": "execute_result"
    },
    {
     "data": {
      "application/javascript": [
       "\n",
       "            setTimeout(function() {\n",
       "                var nbb_cell_id = 10;\n",
       "                var nbb_unformatted_code = \"dfcars[\\\"maker\\\"] = dfcars[\\\"name\\\"].str.split().str.get(0)\\ndfcars['maker'].head(10)\";\n",
       "                var nbb_formatted_code = \"dfcars[\\\"maker\\\"] = dfcars[\\\"name\\\"].str.split().str.get(0)\\ndfcars[\\\"maker\\\"].head(10)\";\n",
       "                var nbb_cells = Jupyter.notebook.get_cells();\n",
       "                for (var i = 0; i < nbb_cells.length; ++i) {\n",
       "                    if (nbb_cells[i].input_prompt_number == nbb_cell_id) {\n",
       "                        if (nbb_cells[i].get_text() == nbb_unformatted_code) {\n",
       "                             nbb_cells[i].set_text(nbb_formatted_code);\n",
       "                        }\n",
       "                        break;\n",
       "                    }\n",
       "                }\n",
       "            }, 500);\n",
       "            "
      ],
      "text/plain": [
       "<IPython.core.display.Javascript object>"
      ]
     },
     "metadata": {},
     "output_type": "display_data"
    }
   ],
   "source": [
    "dfcars[\"maker\"] = dfcars[\"name\"].str.split().str.get(0)\n",
    "dfcars[\"maker\"].head(10)"
   ]
  },
  {
   "cell_type": "markdown",
   "metadata": {
    "id": "BEnXLwIGR7OT"
   },
   "source": [
    "This is what the dataframe looks like now:"
   ]
  },
  {
   "cell_type": "code",
   "execution_count": 11,
   "metadata": {
    "id": "B79fXDR6R7OU",
    "scrolled": true
   },
   "outputs": [
    {
     "data": {
      "text/html": [
       "<div>\n",
       "<style scoped>\n",
       "    .dataframe tbody tr th:only-of-type {\n",
       "        vertical-align: middle;\n",
       "    }\n",
       "\n",
       "    .dataframe tbody tr th {\n",
       "        vertical-align: top;\n",
       "    }\n",
       "\n",
       "    .dataframe thead th {\n",
       "        text-align: right;\n",
       "    }\n",
       "</style>\n",
       "<table border=\"1\" class=\"dataframe\">\n",
       "  <thead>\n",
       "    <tr style=\"text-align: right;\">\n",
       "      <th></th>\n",
       "      <th>name</th>\n",
       "      <th>mpg</th>\n",
       "      <th>cyl</th>\n",
       "      <th>disp</th>\n",
       "      <th>hp</th>\n",
       "      <th>drat</th>\n",
       "      <th>wt</th>\n",
       "      <th>qsec</th>\n",
       "      <th>vs</th>\n",
       "      <th>am</th>\n",
       "      <th>gear</th>\n",
       "      <th>carb</th>\n",
       "      <th>maker</th>\n",
       "    </tr>\n",
       "  </thead>\n",
       "  <tbody>\n",
       "    <tr>\n",
       "      <th>0</th>\n",
       "      <td>Mazda RX4</td>\n",
       "      <td>21.0</td>\n",
       "      <td>6</td>\n",
       "      <td>160.0</td>\n",
       "      <td>110</td>\n",
       "      <td>3.90</td>\n",
       "      <td>2.620</td>\n",
       "      <td>16.46</td>\n",
       "      <td>0</td>\n",
       "      <td>1</td>\n",
       "      <td>4</td>\n",
       "      <td>4</td>\n",
       "      <td>Mazda</td>\n",
       "    </tr>\n",
       "    <tr>\n",
       "      <th>1</th>\n",
       "      <td>Mazda RX4 Wag</td>\n",
       "      <td>21.0</td>\n",
       "      <td>6</td>\n",
       "      <td>160.0</td>\n",
       "      <td>110</td>\n",
       "      <td>3.90</td>\n",
       "      <td>2.875</td>\n",
       "      <td>17.02</td>\n",
       "      <td>0</td>\n",
       "      <td>1</td>\n",
       "      <td>4</td>\n",
       "      <td>4</td>\n",
       "      <td>Mazda</td>\n",
       "    </tr>\n",
       "    <tr>\n",
       "      <th>2</th>\n",
       "      <td>Datsun 710</td>\n",
       "      <td>22.8</td>\n",
       "      <td>4</td>\n",
       "      <td>108.0</td>\n",
       "      <td>93</td>\n",
       "      <td>3.85</td>\n",
       "      <td>2.320</td>\n",
       "      <td>18.61</td>\n",
       "      <td>1</td>\n",
       "      <td>1</td>\n",
       "      <td>4</td>\n",
       "      <td>1</td>\n",
       "      <td>Datsun</td>\n",
       "    </tr>\n",
       "    <tr>\n",
       "      <th>3</th>\n",
       "      <td>Hornet 4 Drive</td>\n",
       "      <td>21.4</td>\n",
       "      <td>6</td>\n",
       "      <td>258.0</td>\n",
       "      <td>110</td>\n",
       "      <td>3.08</td>\n",
       "      <td>3.215</td>\n",
       "      <td>19.44</td>\n",
       "      <td>1</td>\n",
       "      <td>0</td>\n",
       "      <td>3</td>\n",
       "      <td>1</td>\n",
       "      <td>Hornet</td>\n",
       "    </tr>\n",
       "    <tr>\n",
       "      <th>4</th>\n",
       "      <td>Hornet Sportabout</td>\n",
       "      <td>18.7</td>\n",
       "      <td>8</td>\n",
       "      <td>360.0</td>\n",
       "      <td>175</td>\n",
       "      <td>3.15</td>\n",
       "      <td>3.440</td>\n",
       "      <td>17.02</td>\n",
       "      <td>0</td>\n",
       "      <td>0</td>\n",
       "      <td>3</td>\n",
       "      <td>2</td>\n",
       "      <td>Hornet</td>\n",
       "    </tr>\n",
       "  </tbody>\n",
       "</table>\n",
       "</div>"
      ],
      "text/plain": [
       "                name   mpg  cyl   disp   hp  drat     wt   qsec  vs  am  gear  carb   maker\n",
       "0          Mazda RX4  21.0    6  160.0  110  3.90  2.620  16.46   0   1     4     4   Mazda\n",
       "1      Mazda RX4 Wag  21.0    6  160.0  110  3.90  2.875  17.02   0   1     4     4   Mazda\n",
       "2         Datsun 710  22.8    4  108.0   93  3.85  2.320  18.61   1   1     4     1  Datsun\n",
       "3     Hornet 4 Drive  21.4    6  258.0  110  3.08  3.215  19.44   1   0     3     1  Hornet\n",
       "4  Hornet Sportabout  18.7    8  360.0  175  3.15  3.440  17.02   0   0     3     2  Hornet"
      ]
     },
     "execution_count": 11,
     "metadata": {},
     "output_type": "execute_result"
    },
    {
     "data": {
      "application/javascript": [
       "\n",
       "            setTimeout(function() {\n",
       "                var nbb_cell_id = 11;\n",
       "                var nbb_unformatted_code = \"dfcars.head()\";\n",
       "                var nbb_formatted_code = \"dfcars.head()\";\n",
       "                var nbb_cells = Jupyter.notebook.get_cells();\n",
       "                for (var i = 0; i < nbb_cells.length; ++i) {\n",
       "                    if (nbb_cells[i].input_prompt_number == nbb_cell_id) {\n",
       "                        if (nbb_cells[i].get_text() == nbb_unformatted_code) {\n",
       "                             nbb_cells[i].set_text(nbb_formatted_code);\n",
       "                        }\n",
       "                        break;\n",
       "                    }\n",
       "                }\n",
       "            }, 500);\n",
       "            "
      ],
      "text/plain": [
       "<IPython.core.display.Javascript object>"
      ]
     },
     "metadata": {},
     "output_type": "display_data"
    }
   ],
   "source": [
    "dfcars.head()"
   ]
  },
  {
   "cell_type": "markdown",
   "metadata": {
    "id": "fQsp8KRdR7OX"
   },
   "source": [
    "#### Question 3\n",
    "\n",
    "Construct and display the `avg_mpg` series by using the \"split-apply-combine\" paradigm and summarizing within group data by a mean.\n",
    "\n",
    "https://pandas.pydata.org/pandas-docs/version/0.23.4/groupby.html   \n",
    "\n",
    "Your results should look similar to the following:"
   ]
  },
  {
   "cell_type": "markdown",
   "metadata": {
    "id": "DYUgtVFLR7OY"
   },
   "source": [
    "```\n",
    "maker\n",
    "AMC         15.200000\n",
    "Cadillac    10.400000\n",
    "Camaro      13.300000\n",
    "Chrysler    14.700000\n",
    "...\n",
    "```"
   ]
  },
  {
   "cell_type": "code",
   "execution_count": null,
   "metadata": {
    "id": "Ex4dJXDqR7Oa"
   },
   "outputs": [],
   "source": [
    "# Your work here\n"
   ]
  },
  {
   "cell_type": "code",
   "execution_count": null,
   "metadata": {
    "id": "PvvW4rxcR7Od"
   },
   "outputs": [],
   "source": [
    "dfcars.hp.mean()"
   ]
  },
  {
   "cell_type": "code",
   "execution_count": null,
   "metadata": {
    "id": "Mg0Vba8KR7Oh"
   },
   "outputs": [],
   "source": [
    "dfcars['hp'].mean()"
   ]
  },
  {
   "cell_type": "code",
   "execution_count": null,
   "metadata": {
    "id": "EiJiMOdzR7Ok"
   },
   "outputs": [],
   "source": [
    "dfcars.groupby('maker').hp.mean()"
   ]
  },
  {
   "cell_type": "code",
   "execution_count": null,
   "metadata": {
    "id": "mUY2CBSUR7On"
   },
   "outputs": [],
   "source": [
    "dfcars.groupby('maker')['hp'].mean()"
   ]
  },
  {
   "cell_type": "code",
   "execution_count": null,
   "metadata": {
    "id": "FHXUK_lVR7Or"
   },
   "outputs": [],
   "source": [
    "g = dfcars.groupby('maker')\n",
    "g['hp'].mean()"
   ]
  },
  {
   "cell_type": "markdown",
   "metadata": {
    "id": "YFbduC64R7Ot"
   },
   "source": [
    "### Basic  Exploratory Data Analysis (EDA)  \n",
    "\n",
    "Basic objectives for EDA:  \n",
    "\n",
    "1. **Build** a DataFrame from the data (ideally, put all data into this object)\n",
    "2. **Clean** the DataFrame. It should have the following properties:\n",
    "    - Each row describes a single object\n",
    "    - Each column describes a property of that object\n",
    "    - Columns are numeric whenever appropriate\n",
    "    - Columns contain atomic properties that cannot be further decomposed  \n",
    "3. Explore **global properties**. Use histograms, scatter plots, and aggregation functions to summarize the data.\n",
    "4. Explore **group properties**. Use groupby and small multiples to compare subsets of the data.\n",
    "\n",
    "This process transforms your data into a format which is easier to work with, gives you a basic overview of the data's properties, and likely generates several questions for you to followup in subsequent analysis.\n",
    "\n",
    "So far we have **built** the dataframe, and carried out very minimal cleaning (renaming) in this dataframe. \n",
    "\n",
    "### Exploring global properties\n",
    "\n",
    "We are going to focus on visualizing global properties of the data set below. For now, we'll focus on `mpg` to illustrate the concepts, but you should be doing this for all the columns. It may identify interesting properties and even errors in the data.\n",
    "\n",
    "While we do this, we will see several examples of the  `matplotlib` plotting experience.\n",
    "\n",
    "Below, we are setting our matplotlib style to `ggplot`, which is modeled after an R library. The default is 'classic.' Feel free to experiment with other styles:   \n",
    "\n",
    "https://matplotlib.org/users/style_sheets.html\n"
   ]
  },
  {
   "cell_type": "code",
   "execution_count": null,
   "metadata": {
    "id": "DjYnnXKmR7Ou"
   },
   "outputs": [],
   "source": [
    "plt.style.use('ggplot')"
   ]
  },
  {
   "cell_type": "markdown",
   "metadata": {
    "id": "0hdaInL_R7Ow"
   },
   "source": [
    "#### Bar Charts\n",
    "\n",
    "Matplotlib is accessible via Pandas series. We can use the plot function with $kind=\"barh\"$ to generate very nice horizontal bar charts."
   ]
  },
  {
   "cell_type": "code",
   "execution_count": null,
   "metadata": {
    "id": "YQ3fdo0MR7Ox"
   },
   "outputs": [],
   "source": [
    "avg_mpg.plot(kind=\"barh\")"
   ]
  },
  {
   "cell_type": "code",
   "execution_count": null,
   "metadata": {
    "id": "vdx58QSjR7Oz"
   },
   "outputs": [],
   "source": [
    "avg_mpg.plot(kind=\"barh\")\n",
    "plt.show() # we can remove the '<matplotlib.axes...' by adding a function that does not return anything.\n"
   ]
  },
  {
   "cell_type": "markdown",
   "metadata": {
    "id": "uYxdZ52yR7O2"
   },
   "source": [
    "#### Histograms\n",
    "\n",
    "Numerical data leads to distributions, and distributions to histograms. Here is the Pandas default histogram:\n",
    "\n",
    "https://pandas.pydata.org/pandas-docs/version/0.23/generated/pandas.DataFrame.hist.html   \n",
    "\n",
    "https://matplotlib.org/api/_as_gen/matplotlib.pyplot.hist.html  "
   ]
  },
  {
   "cell_type": "code",
   "execution_count": null,
   "metadata": {
    "id": "8n0D_OvUR7O3"
   },
   "outputs": [],
   "source": [
    "#Using pandas interface:\n",
    "dfcars.mpg.hist()\n",
    "plt.xlabel(\"mpg\");"
   ]
  },
  {
   "cell_type": "markdown",
   "metadata": {
    "id": "VdAc23LLR7O5"
   },
   "source": [
    "And matplotlib interface:"
   ]
  },
  {
   "cell_type": "code",
   "execution_count": null,
   "metadata": {
    "id": "BcIvuLNoR7O6"
   },
   "outputs": [],
   "source": [
    "plt.hist(dfcars.mpg.values);"
   ]
  },
  {
   "cell_type": "markdown",
   "metadata": {
    "id": "I0gDZF9fR7PA"
   },
   "source": [
    "#### Question 4\n",
    "\n",
    "Generate a histogram of mpg with 50 bins. Add a vertical line in blue, 75% of the plot height to show the mean mpg.\n",
    "\n",
    "Your plot should look something like the following:  \n",
    "    \n",
    "<img src='hist_with_mean.png' width='500px'>    "
   ]
  },
  {
   "cell_type": "code",
   "execution_count": null,
   "metadata": {
    "id": "E6oKVxpVR7PB",
    "scrolled": true
   },
   "outputs": [],
   "source": [
    "# Your work here\n"
   ]
  },
  {
   "cell_type": "markdown",
   "metadata": {
    "id": "UO0pUSTZR7PF"
   },
   "source": [
    "We can add a kernel density estimate (KDE) to our histogram as follows:\n",
    "    \n",
    "https://pandas.pydata.org/pandas-docs/version/0.22/generated/pandas.DataFrame.plot.kde.html"
   ]
  },
  {
   "cell_type": "code",
   "execution_count": null,
   "metadata": {
    "id": "JqCYnrw8R7PF"
   },
   "outputs": [],
   "source": [
    "fig, ax = plt.subplots()\n",
    "dfcars.mpg.hist(bins=10, density=True, ax=ax)\n",
    "dfcars.mpg.plot.kde(ax=ax, legend=False, title='Car MPG')\n",
    "plt.axvline(dfcars.mpg.mean(), 0, 0.75, color='b', label='Mean')\n",
    "plt.xlabel(\"mpg\");\n",
    "\n"
   ]
  },
  {
   "cell_type": "markdown",
   "metadata": {
    "id": "nSoke3ywR7PI"
   },
   "source": [
    "### Plotting features against other features\n",
    "\n",
    "Sometimes we want to see co-variation amongst our columns. A scatter-plot does this for us."
   ]
  },
  {
   "cell_type": "code",
   "execution_count": null,
   "metadata": {
    "id": "rJ_h7QXNR7PJ"
   },
   "outputs": [],
   "source": [
    "plt.scatter(dfcars.wt, dfcars.mpg);"
   ]
  },
  {
   "cell_type": "markdown",
   "metadata": {
    "id": "cTG4ds9oR7PL"
   },
   "source": [
    "Usually we use `plt.show()` at the end of every plot to show the plot. The magic function `%matplotlib inline` takes care of this for us, and we dont have to doit in the jupyter notebook. But if you run your puthon program from a file, you will need to explicitly have a call to show. Does not hurt us to include it and it eliminates the object reference."
   ]
  },
  {
   "cell_type": "code",
   "execution_count": null,
   "metadata": {
    "id": "Dt_6FB7AR7PN"
   },
   "outputs": [],
   "source": [
    "plt.plot(dfcars.wt, dfcars.mpg, marker='o')\n",
    "plt.show()"
   ]
  },
  {
   "cell_type": "markdown",
   "metadata": {
    "id": "a0nfawfbR7PP"
   },
   "source": [
    "If we want to save our figure into a file, the `savefig` needs to be in the same cell as the plotting commands. Go look at the files.."
   ]
  },
  {
   "cell_type": "code",
   "execution_count": null,
   "metadata": {
    "id": "RWRxmm_FR7PQ"
   },
   "outputs": [],
   "source": [
    "plt.plot(dfcars.wt, dfcars.mpg, 'o', markersize=4, alpha=0.5)\n",
    "plt.savefig('scatter1.png')\n",
    "plt.savefig('scatter2.png', bbox_inches='tight') #less whitespace around image"
   ]
  },
  {
   "cell_type": "code",
   "execution_count": null,
   "metadata": {
    "id": "3Eudbz3wR7PS"
   },
   "outputs": [],
   "source": [
    "from IPython.display import Image\n",
    "Image('scatter2.png')"
   ]
  },
  {
   "cell_type": "markdown",
   "metadata": {
    "id": "wyTjUVq5R7PU"
   },
   "source": [
    "#### Trend\n",
    "\n",
    "The correlation that we saw might suggest a trend. We can capture it with a \"regression\". We'll learn more about regressions soon, but we show a quadratic fit here with a 1 standard deviation bar to show the graphics aspect of this. Also see the Seaborn `sns.regplot`."
   ]
  },
  {
   "cell_type": "code",
   "execution_count": null,
   "metadata": {
    "id": "Cx_0jYGZR7PV",
    "scrolled": true
   },
   "outputs": [],
   "source": [
    "x = dfcars.wt\n",
    "y = dfcars.mpg\n",
    "params = np.polyfit(x, y, 2)\n",
    "xp = np.linspace(x.min(), x.max(), 20)\n",
    "yp = np.polyval(params, xp)\n",
    "plt.plot(xp, yp, 'k', alpha=0.8, linewidth=1)\n",
    "plt.plot(dfcars.wt, dfcars.mpg, 'o', markersize=4, alpha=0.5)\n",
    "sig = np.std(y - np.polyval(params, x))\n",
    "plt.fill_between(xp, yp - sig, yp + sig, \n",
    "                 color='k', alpha=0.2);"
   ]
  },
  {
   "cell_type": "markdown",
   "metadata": {
    "id": "P0nFJMnkR7PX"
   },
   "source": [
    "#### Question 5\n",
    "\n",
    "Generate a scatter plot with a regression like the plot above for hp vs. mpg. Use 2 standard deviations. Please feel free to experiment.\n",
    "\n",
    "Note the use of numpy polyfit above to fit a second-order polynomial to the data.\n",
    "\n",
    "https://docs.scipy.org/doc/numpy/reference/generated/numpy.polyfit.html"
   ]
  },
  {
   "cell_type": "code",
   "execution_count": null,
   "metadata": {
    "id": "ruqJcJBHR7PY"
   },
   "outputs": [],
   "source": [
    "# your work here\n"
   ]
  },
  {
   "cell_type": "markdown",
   "metadata": {
    "id": "J_wu3F_0R7Pb"
   },
   "source": [
    "### Group Properties\n",
    "\n",
    "\"Co-variational\" plots, and single-variable plots, can be more interesting when we look at them *conditioned* upon the value of a categorical variable.\n",
    "\n",
    "Such conditionality is behind the notion of grouping, where we group our data by various values of categorical variables, for example, whether our cars have an automatic transmission or not."
   ]
  },
  {
   "cell_type": "markdown",
   "metadata": {
    "id": "srnc7z-SR7Pc"
   },
   "source": [
    "### Grouping of one outcome variable\n",
    "\n",
    "The notion of grouping based on combinations of factors is used to make various easy-to-see exploratory visualizations for us. \n",
    "\n",
    "First, we make a boxplot of  `mpg`, grouped by transmission style.\n",
    "\n",
    "https://matplotlib.org/api/_as_gen/matplotlib.pyplot.boxplot.html"
   ]
  },
  {
   "cell_type": "code",
   "execution_count": null,
   "metadata": {
    "id": "gSTivziLR7Pe"
   },
   "outputs": [],
   "source": [
    "# Create a figure instance\n",
    "fig = plt.figure(1, figsize=(9, 6))\n",
    "\n",
    "# Create an axes instance\n",
    "ax = fig.add_subplot(111)\n",
    "\n",
    "# Create the boxplot\n",
    "bp = ax.boxplot(dfcars.mpg)\n"
   ]
  },
  {
   "cell_type": "markdown",
   "metadata": {
    "id": "jOe9iwlAR7Pg"
   },
   "source": [
    "#### Question 6\n",
    "\n",
    "Create boxplots for all mpg, hp, and disp on a single plot."
   ]
  },
  {
   "cell_type": "code",
   "execution_count": null,
   "metadata": {
    "id": "-CLGDSDcR7Ph"
   },
   "outputs": [],
   "source": [
    "# Your work here\n",
    "\n"
   ]
  },
  {
   "cell_type": "markdown",
   "metadata": {
    "id": "J2AzhheHR7Pj"
   },
   "source": [
    "One can see that the difference in mpg is more significant between 6 and 8 cylinder cars, for manual transmissions. And that the large-range effect in automatics is coming almost entirely through 4-cylinder cars.  \n",
    "\n",
    "What about the better mpg for automatics? We can see how representative these are in our sample. We'll show this using a cross-tabulation. Note: We can comine the cross-tab with a graph.\n"
   ]
  },
  {
   "cell_type": "code",
   "execution_count": null,
   "metadata": {
    "id": "YyvbZyVZR7Pl"
   },
   "outputs": [],
   "source": [
    "pd.crosstab(dfcars.am, dfcars.cyl)"
   ]
  },
  {
   "cell_type": "markdown",
   "metadata": {
    "id": "h7LyUB4WR7Pn"
   },
   "source": [
    "#### Problem 7\n",
    "\n",
    "Examine the dtcar sets. Create a cross tab of two parameters of your choosing."
   ]
  },
  {
   "cell_type": "code",
   "execution_count": null,
   "metadata": {
    "id": "mPpUmqMoR7Pn"
   },
   "outputs": [],
   "source": [
    "# Your work here\n"
   ]
  },
  {
   "cell_type": "markdown",
   "metadata": {
    "id": "wkDjIWeKR7Pq"
   },
   "source": [
    "### Faceting for general grouping\n",
    "\n",
    "Seaborn package which is built on matplotlib provides a nice construct: the `FacetGrid`. You decide what variables to facet over, and then decide the kind of plot you want. Here we want hue to be `am`, and  different columns in the  plot grid to be cylinders. We then ask for a facet plot  of `mpg` against `wt` scatter.\n",
    "\n",
    "https://seaborn.pydata.org/generated/seaborn.FacetGrid.html\n",
    "\n",
    "Such plots are often called small multiple plots. They repeat the same plot based on categories, making sure that all plotting parameters are the same so that we have direct comparability."
   ]
  },
  {
   "cell_type": "code",
   "execution_count": null,
   "metadata": {
    "id": "1V0urxsyR7Pq"
   },
   "outputs": [],
   "source": [
    "g = sns.FacetGrid(dfcars, col=\"cyl\", hue=\"am\", palette=\"Set1\")\n",
    "g.map(plt.scatter, \"mpg\", \"wt\", alpha=0.5, s=10);"
   ]
  },
  {
   "cell_type": "markdown",
   "metadata": {
    "id": "iUPtOPl8R7Pu"
   },
   "source": [
    "We can see that the \"regression-like\" effect is \"cleanest\" for automatic transmissions in 4 cylinder cars.\n",
    "\n",
    "#### SPLOM, or Scatter Plot Matrix\n",
    "\n",
    "Creating 2-by-2 basis for every pair of continuously co-varying features can get tedious.  The `PairGrid`, colorable by transmission type, allows us to do this comparison for 5 continuous features here, with the diagonal being a kernel density estimate.\n",
    "\n",
    "https://seaborn.pydata.org/generated/seaborn.PairGrid.html\n"
   ]
  },
  {
   "cell_type": "code",
   "execution_count": null,
   "metadata": {
    "id": "aOmm9aD5R7Pv"
   },
   "outputs": [],
   "source": [
    "g = sns.PairGrid(dfcars, vars=['mpg', 'hp', 'wt', 'qsec', 'disp'], hue=\"am\")\n",
    "g.map_diag(sns.kdeplot)\n",
    "g.map_offdiag(plt.scatter, s=15)"
   ]
  },
  {
   "cell_type": "markdown",
   "metadata": {
    "id": "YHuGzlZuR7Px"
   },
   "source": [
    "In many places, for example `mpg` vs `disp`, you will see two separate trends for the different transmissions. This suggests the addition of a transmission term as a **indicator** variable in regressions for `mpg` against various features. This changes the intercept of the regression. But the trends have different slopes as well, which suggests that `disp` may interact with `am`, the transmission indicator to create a varying slope as well."
   ]
  },
  {
   "cell_type": "markdown",
   "metadata": {
    "id": "kAxoL2Q1R7Py"
   },
   "source": [
    "#### Question 8\n",
    "\n",
    "Experiment with sns.PairGrid using coloring for categorical variables other than `am` and see if you can identify any changes in scatter plot pairs."
   ]
  },
  {
   "cell_type": "code",
   "execution_count": null,
   "metadata": {
    "id": "Mml0SUABR7Pz"
   },
   "outputs": [],
   "source": [
    "# Your work here\n",
    "\n"
   ]
  },
  {
   "cell_type": "code",
   "execution_count": null,
   "metadata": {
    "id": "-TaK7MV0R7P2"
   },
   "outputs": [],
   "source": []
  },
  {
   "cell_type": "markdown",
   "metadata": {
    "id": "r2gYJeDRR7P5"
   },
   "source": [
    "#### Correlation\n",
    "\n",
    "The SPLOM seems to suggest correlations. We can calculate corelation with the Pandas corr() function.\n",
    "\n",
    "https://pandas.pydata.org/pandas-docs/stable/generated/pandas.DataFrame.corr.html"
   ]
  },
  {
   "cell_type": "code",
   "execution_count": null,
   "metadata": {
    "id": "-lPgKJF-R7P5"
   },
   "outputs": [],
   "source": [
    "dfcars[['mpg', 'wt', 'hp', 'qsec', 'disp']].corr()"
   ]
  },
  {
   "cell_type": "markdown",
   "metadata": {
    "id": "VKQVISHHR7P9"
   },
   "source": [
    "Since correlations range from -1 to 1 through 0, a diverging palette is usually a good choice for visualizations."
   ]
  },
  {
   "cell_type": "code",
   "execution_count": null,
   "metadata": {
    "id": "Fgzav6I7R7P_"
   },
   "outputs": [],
   "source": [
    "dpal = sns.choose_colorbrewer_palette('diverging', as_cmap=True)"
   ]
  },
  {
   "cell_type": "markdown",
   "metadata": {
    "id": "ISLeVSvER7QL"
   },
   "source": [
    "We can also use `maptplotlib`s correlation plot. These plots are especially helpful for both EDA and do see misclassification from your machine learning algorithms. EDA is even useful at the analysis stage."
   ]
  },
  {
   "cell_type": "code",
   "execution_count": null,
   "metadata": {
    "id": "JrooTAr2R7QO"
   },
   "outputs": [],
   "source": [
    "plt.matshow(dfcars[['mpg', 'wt', 'hp', 'qsec', 'disp']].corr(), cmap=dpal)\n",
    "ax = plt.gca()\n",
    "ax.tick_params(axis='both', which='both',length=0);\n",
    "plt.title(\"Correlation Matrix\")\n",
    "plt.xticks(range(5), ['mpg', 'wt', 'hp', 'qsec', 'disp'])\n",
    "plt.yticks(range(5), ['mpg', 'wt', 'hp', 'qsec', 'disp']);\n"
   ]
  },
  {
   "cell_type": "markdown",
   "metadata": {
    "id": "8rp92KVMR7QS"
   },
   "source": [
    "### KDE plots and sequential palettes.\n",
    "\n",
    "We can make a KDE plot of a multivariate normal distribution. Since a probability density is strictly positive, with values near $0$ not being so interesting, a sequential palette is a good approach. Seaborn will by default provide such a palette for KDE plots, but you can also make your own."
   ]
  },
  {
   "cell_type": "code",
   "execution_count": null,
   "metadata": {
    "id": "SGwmxmNyR7QT"
   },
   "outputs": [],
   "source": [
    "mean, cov = [0, 1], [(1, .5), (.5, 1)]\n",
    "data = np.random.multivariate_normal(mean, cov, 1000)\n",
    "df = pd.DataFrame(data, columns=[\"x\", \"y\"])\n",
    "df.head()"
   ]
  },
  {
   "cell_type": "code",
   "execution_count": null,
   "metadata": {
    "id": "T3dNYaZXR7QV"
   },
   "outputs": [],
   "source": [
    "seqpal = sns.choose_colorbrewer_palette(\"sequential\", as_cmap=True)"
   ]
  },
  {
   "cell_type": "code",
   "execution_count": null,
   "metadata": {
    "id": "8x2p5EVKR7QX"
   },
   "outputs": [],
   "source": [
    "sns.kdeplot(df.x, df.y, cmap=seqpal, shade=True);"
   ]
  },
  {
   "cell_type": "markdown",
   "metadata": {
    "id": "oFTGEU3NR7Qc"
   },
   "source": [
    "### Matplotlib and multiple plots: Small Multiples\n",
    "\n",
    "There are many cases where we want to see plots side by side. For example, SPLOMS and Facet grids. \n",
    "\n",
    "Here is an example of a plot with one column and 3 rows. \n",
    "\n",
    "https://matplotlib.org/api/_as_gen/matplotlib.pyplot.subplot.html\n",
    "\n"
   ]
  },
  {
   "cell_type": "code",
   "execution_count": null,
   "metadata": {
    "id": "aSasXo32R7Qc"
   },
   "outputs": [],
   "source": [
    "fig = plt.figure(figsize=(5, 9))\n",
    "\n",
    "ax1 = fig.add_subplot(311)\n",
    "ax1.plot([1, 2, 3], [1, 2, 3])\n",
    "ax1.set_xticklabels([])\n",
    "ax1.set_ylim([1.0, 3.0])\n",
    "\n",
    "ax2 = fig.add_subplot(312)\n",
    "ax2.scatter([1, 2, 3], [1, 2, 3])\n",
    "ax2.set_xticklabels([])\n",
    "ax2.set_ylim([1.0, 3.0])\n",
    "\n",
    "ax3 = fig.add_subplot(313)\n",
    "ax3.plot([1, 2, 3], [1, 2, 3])\n",
    "ax3.set_ylim([1.0, 3.0])\n",
    "\n",
    "\n",
    "fig.tight_layout()"
   ]
  },
  {
   "cell_type": "markdown",
   "metadata": {
    "id": "k8x0q4clR7Qf"
   },
   "source": [
    "### Small multiples, another approach\n",
    "\n",
    "Here is another approach, which might be more straightforward than using `add_subplot`. It basically creates an array of plots and zips this array up with the various data grouped by categories."
   ]
  },
  {
   "cell_type": "code",
   "execution_count": null,
   "metadata": {
    "id": "Wicd-CPRR7Qg"
   },
   "outputs": [],
   "source": [
    "fig, axes = plt.subplots(nrows=2, ncols=2, figsize=(12, 12))\n",
    "print(axes)\n",
    "print(axes.ravel())\n",
    "carbs = ['==1', '==2', '==3', '>=4']\n",
    "bins = np.arange(10, 30, 2)\n",
    "for ax, carb in zip(axes.ravel(), carbs):\n",
    "    data = dfcars.query(\"carb%s\" % carb)\n",
    "    print(data.shape)\n",
    "    #ax.plot(data.wt, data.mpg, 'o', markersize=10, alpha=0.5)\n",
    "    ax.hist(data.mpg, bins=bins, histtype='stepfilled', normed=True, color='r', alpha=.3)    \n",
    "    ax.annotate(\"carb\"+str(carb), xy=(12, 0.35), fontsize=14)\n",
    "    #ax.set_yticks([])\n",
    "    ax.set_ylim((0,0.4))\n",
    "    ax.set_xlabel('mpg');"
   ]
  },
  {
   "cell_type": "markdown",
   "metadata": {
    "id": "8uEa_ApBR7Ql"
   },
   "source": [
    "#### Question 9\n",
    "\n",
    "Take a few moments and re-examine the orginal dataset. Identify a couple of variables that you believe would be interesting to investigate. Generate subplots for different values for one of the two variables similar to the plot above. multiple plots."
   ]
  },
  {
   "cell_type": "code",
   "execution_count": null,
   "metadata": {
    "id": "2vKridb6R7Ql"
   },
   "outputs": [],
   "source": [
    "# Your work here\n"
   ]
  },
  {
   "cell_type": "markdown",
   "metadata": {
    "id": "DbGzpuOYR7Qn"
   },
   "source": [
    "#### Question 10\n",
    "\n",
    "Create one additional plot you believe would be relevant to understanding the dataset. You may use any combination of variables and plot type."
   ]
  },
  {
   "cell_type": "code",
   "execution_count": null,
   "metadata": {
    "id": "8LvkKUxZR7Qo"
   },
   "outputs": [],
   "source": [
    "# Your work here\n"
   ]
  },
  {
   "cell_type": "code",
   "execution_count": null,
   "metadata": {
    "id": "EConfQ6GR7Qq"
   },
   "outputs": [],
   "source": []
  }
 ],
 "metadata": {
  "anaconda-cloud": {},
  "colab": {
   "collapsed_sections": [],
   "name": "Day 5 Python 3 EDA Viz.ipynb",
   "provenance": []
  },
  "kernelspec": {
   "display_name": "Python 3",
   "language": "python",
   "name": "python3"
  },
  "language_info": {
   "codemirror_mode": {
    "name": "ipython",
    "version": 3
   },
   "file_extension": ".py",
   "mimetype": "text/x-python",
   "name": "python",
   "nbconvert_exporter": "python",
   "pygments_lexer": "ipython3",
   "version": "3.8.3"
  }
 },
 "nbformat": 4,
 "nbformat_minor": 1
}
