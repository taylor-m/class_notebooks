{
 "cells": [
  {
   "cell_type": "code",
   "execution_count": 1,
   "metadata": {},
   "outputs": [
    {
     "data": {
      "application/javascript": [
       "\n",
       "            setTimeout(function() {\n",
       "                var nbb_cell_id = 1;\n",
       "                var nbb_unformatted_code = \"%reload_ext nb_black\";\n",
       "                var nbb_formatted_code = \"%reload_ext nb_black\";\n",
       "                var nbb_cells = Jupyter.notebook.get_cells();\n",
       "                for (var i = 0; i < nbb_cells.length; ++i) {\n",
       "                    if (nbb_cells[i].input_prompt_number == nbb_cell_id) {\n",
       "                        if (nbb_cells[i].get_text() == nbb_unformatted_code) {\n",
       "                             nbb_cells[i].set_text(nbb_formatted_code);\n",
       "                        }\n",
       "                        break;\n",
       "                    }\n",
       "                }\n",
       "            }, 500);\n",
       "            "
      ],
      "text/plain": [
       "<IPython.core.display.Javascript object>"
      ]
     },
     "metadata": {},
     "output_type": "display_data"
    }
   ],
   "source": [
    "%reload_ext nb_black"
   ]
  },
  {
   "cell_type": "markdown",
   "metadata": {},
   "source": [
    "# Probability"
   ]
  },
  {
   "cell_type": "markdown",
   "metadata": {},
   "source": [
    "##  Some definitions\n",
    "\n",
    "* **Experiment** - a repeatable procedure with a set of well-defined possible results (e.g. rolling a die).\n",
    "* **Trial** - a single performance of an experiment (e.g. one roll of the die).\n",
    "* **Outcome** - the result of a trial (e.g. a 2 was rolled).\n",
    "* **Sample Space** - all the possible outcomes of an experiment (e.g. 1, 2, 3, 4, 5, or 6).\n",
    "* **Event** - one or more outcomes of interest in the sample space (e.g. two 3s were rolled in a row, an odd number was rolled, etc.).\n",
    "\n",
    "#### Most important to me that we grasp these two:\n",
    "* **Population** - the entire group that you want to draw conclusions about\n",
    "* **Sample** - the specific group that you will collect data from\n",
    "\n",
    "\n",
    "Sample vs population examples:\n",
    "\n",
    "* You're wanting to measuring the pH of the Gulf of Mexico.  You can't directly measure the whole body of water (the whole body of water is the population); you'll need to take many measurements and different locations (these measurements are the sample(s)).\n",
    "* Political polling only polls a small group (sample) and attempts to generalize the results to the entire country (population).\n",
    "\n",
    "\n",
    "Check for understanding:\n",
    "\n",
    "* I'm performing a study using animals at my local shelter to see if dogs or cats have better breath\n",
    "    * What is the population?\n",
    "    * What is the sample?\n",
    "* My company wants see if users would respond to a promotional email by buying more product.\n",
    "    * What is the population?\n",
    "    * How might you create a sample from this population?\n",
    "    \n",
    "---\n",
    "\n",
    "population & sample definitions from [here](https://www.scribbr.com/methodology/population-vs-sample/#:~:text=A%20population%20is%20the%20entire,t%20always%20refer%20to%20people.)."
   ]
  },
  {
   "cell_type": "markdown",
   "metadata": {},
   "source": [
    "## Playing with probability"
   ]
  },
  {
   "cell_type": "code",
   "execution_count": 12,
   "metadata": {},
   "outputs": [
    {
     "data": {
      "application/javascript": [
       "\n",
       "            setTimeout(function() {\n",
       "                var nbb_cell_id = 12;\n",
       "                var nbb_unformatted_code = \"# simulating random events\\nimport random as rand\\n\\n# viewing and manipulating tables of data\\nimport pandas as pd\\n\\n# plotting\\nimport seaborn as sb\\nimport matplotlib.pyplot as plt\\n\\n%matplotlib inline\";\n",
       "                var nbb_formatted_code = \"# simulating random events\\nimport random as rand\\n\\n# viewing and manipulating tables of data\\nimport pandas as pd\\n\\n# plotting\\nimport seaborn as sb\\nimport matplotlib.pyplot as plt\\n\\n%matplotlib inline\";\n",
       "                var nbb_cells = Jupyter.notebook.get_cells();\n",
       "                for (var i = 0; i < nbb_cells.length; ++i) {\n",
       "                    if (nbb_cells[i].input_prompt_number == nbb_cell_id) {\n",
       "                        if (nbb_cells[i].get_text() == nbb_unformatted_code) {\n",
       "                             nbb_cells[i].set_text(nbb_formatted_code);\n",
       "                        }\n",
       "                        break;\n",
       "                    }\n",
       "                }\n",
       "            }, 500);\n",
       "            "
      ],
      "text/plain": [
       "<IPython.core.display.Javascript object>"
      ]
     },
     "metadata": {},
     "output_type": "display_data"
    }
   ],
   "source": [
    "# simulating random events\n",
    "import random as rand\n",
    "\n",
    "# viewing and manipulating tables of data\n",
    "import pandas as pd\n",
    "\n",
    "# plotting\n",
    "import seaborn as sb\n",
    "import matplotlib.pyplot as plt\n",
    "\n",
    "%matplotlib inline"
   ]
  },
  {
   "cell_type": "markdown",
   "metadata": {},
   "source": [
    "### Coin flip\n",
    "\n",
    "* Write a function to simulate a coin flip\n",
    "* Use the function to flip a coin 500 times\n",
    "* According to this data, what is the probability of heads?\n",
    "\n",
    "----\n",
    "\n",
    "* Bonus prompt: create a plot of the probability of heads over time in this simulation (i.e. lets say my trials resulted in `['H', 'T', 'T']`, at time `0` the probability of heads is 1.0, at time `1` probability is `0.5`, at time `2` probability is `0.33333`)."
   ]
  },
  {
   "cell_type": "code",
   "execution_count": 38,
   "metadata": {},
   "outputs": [
    {
     "data": {
      "application/javascript": [
       "\n",
       "            setTimeout(function() {\n",
       "                var nbb_cell_id = 38;\n",
       "                var nbb_unformatted_code = \"count = 500\\ndef coin_flip():\\n    sample_space = [\\\"H\\\", \\\"T\\\"]\\n    h_count = 0\\n    t_count = 0\\n    for i in range(count):\\n        outcome = rand.choice(sample_space)\\n        if outcome == \\\"H\\\":\\n            t_count += 1\\n        else:\\n            h_count += 1\\n    prob_h = h_count / total_count * 100\\n    return prob_h\";\n",
       "                var nbb_formatted_code = \"count = 500\\n\\n\\ndef coin_flip():\\n    sample_space = [\\\"H\\\", \\\"T\\\"]\\n    h_count = 0\\n    t_count = 0\\n    for i in range(count):\\n        outcome = rand.choice(sample_space)\\n        if outcome == \\\"H\\\":\\n            t_count += 1\\n        else:\\n            h_count += 1\\n    prob_h = h_count / total_count * 100\\n    return prob_h\";\n",
       "                var nbb_cells = Jupyter.notebook.get_cells();\n",
       "                for (var i = 0; i < nbb_cells.length; ++i) {\n",
       "                    if (nbb_cells[i].input_prompt_number == nbb_cell_id) {\n",
       "                        if (nbb_cells[i].get_text() == nbb_unformatted_code) {\n",
       "                             nbb_cells[i].set_text(nbb_formatted_code);\n",
       "                        }\n",
       "                        break;\n",
       "                    }\n",
       "                }\n",
       "            }, 500);\n",
       "            "
      ],
      "text/plain": [
       "<IPython.core.display.Javascript object>"
      ]
     },
     "metadata": {},
     "output_type": "display_data"
    }
   ],
   "source": [
    "count = 500\n",
    "\n",
    "\n",
    "def coin_flip():\n",
    "    sample_space = [\"H\", \"T\"]\n",
    "    h_count = 0\n",
    "    t_count = 0\n",
    "    for i in range(count):\n",
    "        outcome = rand.choice(sample_space)\n",
    "        if outcome == \"H\":\n",
    "            t_count += 1\n",
    "        else:\n",
    "            h_count += 1\n",
    "    prob_h = h_count / total_count * 100\n",
    "    return prob_h"
   ]
  },
  {
   "cell_type": "code",
   "execution_count": 39,
   "metadata": {},
   "outputs": [
    {
     "data": {
      "application/javascript": [
       "\n",
       "            setTimeout(function() {\n",
       "                var nbb_cell_id = 39;\n",
       "                var nbb_unformatted_code = \"heads_list = []\\nfor i in range(100):\\n    h_trial = coin_flip()\\n    heads_list.append(h_trial)\\n# heads_list\\nh_df = pd.DataFrame(heads_list)\";\n",
       "                var nbb_formatted_code = \"heads_list = []\\nfor i in range(100):\\n    h_trial = coin_flip()\\n    heads_list.append(h_trial)\\n# heads_list\\nh_df = pd.DataFrame(heads_list)\";\n",
       "                var nbb_cells = Jupyter.notebook.get_cells();\n",
       "                for (var i = 0; i < nbb_cells.length; ++i) {\n",
       "                    if (nbb_cells[i].input_prompt_number == nbb_cell_id) {\n",
       "                        if (nbb_cells[i].get_text() == nbb_unformatted_code) {\n",
       "                             nbb_cells[i].set_text(nbb_formatted_code);\n",
       "                        }\n",
       "                        break;\n",
       "                    }\n",
       "                }\n",
       "            }, 500);\n",
       "            "
      ],
      "text/plain": [
       "<IPython.core.display.Javascript object>"
      ]
     },
     "metadata": {},
     "output_type": "display_data"
    }
   ],
   "source": [
    "heads_list = []\n",
    "for i in range(100):\n",
    "    h_trial = coin_flip()\n",
    "    heads_list.append(h_trial)\n",
    "# heads_list\n",
    "h_df = pd.DataFrame(heads_list)"
   ]
  },
  {
   "cell_type": "code",
   "execution_count": 40,
   "metadata": {},
   "outputs": [
    {
     "data": {
      "text/html": [
       "<div>\n",
       "<style scoped>\n",
       "    .dataframe tbody tr th:only-of-type {\n",
       "        vertical-align: middle;\n",
       "    }\n",
       "\n",
       "    .dataframe tbody tr th {\n",
       "        vertical-align: top;\n",
       "    }\n",
       "\n",
       "    .dataframe thead th {\n",
       "        text-align: right;\n",
       "    }\n",
       "</style>\n",
       "<table border=\"1\" class=\"dataframe\">\n",
       "  <thead>\n",
       "    <tr style=\"text-align: right;\">\n",
       "      <th></th>\n",
       "      <th>0</th>\n",
       "    </tr>\n",
       "  </thead>\n",
       "  <tbody>\n",
       "    <tr>\n",
       "      <th>0</th>\n",
       "      <td>53.2</td>\n",
       "    </tr>\n",
       "    <tr>\n",
       "      <th>1</th>\n",
       "      <td>50.2</td>\n",
       "    </tr>\n",
       "    <tr>\n",
       "      <th>2</th>\n",
       "      <td>50.4</td>\n",
       "    </tr>\n",
       "    <tr>\n",
       "      <th>3</th>\n",
       "      <td>51.0</td>\n",
       "    </tr>\n",
       "    <tr>\n",
       "      <th>4</th>\n",
       "      <td>46.4</td>\n",
       "    </tr>\n",
       "  </tbody>\n",
       "</table>\n",
       "</div>"
      ],
      "text/plain": [
       "      0\n",
       "0  53.2\n",
       "1  50.2\n",
       "2  50.4\n",
       "3  51.0\n",
       "4  46.4"
      ]
     },
     "execution_count": 40,
     "metadata": {},
     "output_type": "execute_result"
    },
    {
     "data": {
      "application/javascript": [
       "\n",
       "            setTimeout(function() {\n",
       "                var nbb_cell_id = 40;\n",
       "                var nbb_unformatted_code = \"h_df.head()\";\n",
       "                var nbb_formatted_code = \"h_df.head()\";\n",
       "                var nbb_cells = Jupyter.notebook.get_cells();\n",
       "                for (var i = 0; i < nbb_cells.length; ++i) {\n",
       "                    if (nbb_cells[i].input_prompt_number == nbb_cell_id) {\n",
       "                        if (nbb_cells[i].get_text() == nbb_unformatted_code) {\n",
       "                             nbb_cells[i].set_text(nbb_formatted_code);\n",
       "                        }\n",
       "                        break;\n",
       "                    }\n",
       "                }\n",
       "            }, 500);\n",
       "            "
      ],
      "text/plain": [
       "<IPython.core.display.Javascript object>"
      ]
     },
     "metadata": {},
     "output_type": "display_data"
    }
   ],
   "source": [
    "h_df.head()"
   ]
  },
  {
   "cell_type": "code",
   "execution_count": 37,
   "metadata": {
    "scrolled": true
   },
   "outputs": [
    {
     "data": {
      "text/plain": [
       "<matplotlib.axes._subplots.AxesSubplot at 0x1a8f62f0910>"
      ]
     },
     "execution_count": 37,
     "metadata": {},
     "output_type": "execute_result"
    },
    {
     "data": {
      "image/png": "[encoded data removed]",
      "text/plain": [
       "<Figure size 432x288 with 1 Axes>"
      ]
     },
     "metadata": {
      "needs_background": "light"
     },
     "output_type": "display_data"
    },
    {
     "data": {
      "application/javascript": [
       "\n",
       "            setTimeout(function() {\n",
       "                var nbb_cell_id = 37;\n",
       "                var nbb_unformatted_code = \"sb.boxplot(x=h_df.index, y=h_df[0])\";\n",
       "                var nbb_formatted_code = \"sb.boxplot(x=h_df.index, y=h_df[0])\";\n",
       "                var nbb_cells = Jupyter.notebook.get_cells();\n",
       "                for (var i = 0; i < nbb_cells.length; ++i) {\n",
       "                    if (nbb_cells[i].input_prompt_number == nbb_cell_id) {\n",
       "                        if (nbb_cells[i].get_text() == nbb_unformatted_code) {\n",
       "                             nbb_cells[i].set_text(nbb_formatted_code);\n",
       "                        }\n",
       "                        break;\n",
       "                    }\n",
       "                }\n",
       "            }, 500);\n",
       "            "
      ],
      "text/plain": [
       "<IPython.core.display.Javascript object>"
      ]
     },
     "metadata": {},
     "output_type": "display_data"
    }
   ],
   "source": [
    "sb."
   ]
  },
  {
   "cell_type": "markdown",
   "metadata": {},
   "source": [
    "## Iris\n",
    "\n",
    "If we selected a row at random from this data...\n",
    "\n",
    "* What's the probability the `'species'` is virginica?\n",
    "* What's the probability the `'petal_length'` is greater than `2.0`?\n",
    "\n",
    "Options to solve:\n",
    "* Describe what's in the dataframe directly.\n",
    "* Simulate by random sampling."
   ]
  },
  {
   "cell_type": "code",
   "execution_count": null,
   "metadata": {},
   "outputs": [],
   "source": [
    "iris = sns.load_dataset(\"iris\")\n",
    "iris.head()"
   ]
  },
  {
   "cell_type": "code",
   "execution_count": null,
   "metadata": {},
   "outputs": [],
   "source": []
  },
  {
   "cell_type": "markdown",
   "metadata": {},
   "source": [
    "### Monty hall\n",
    "\n",
    "You're on a gameshow where you're given 3 doors to choose from, each with a different prize.  Behind 1 door is your dream car; behind the other 2, goats.  \n",
    "\n",
    "The game show host, Monty, has you choose a door.  After you choose, Monty opens one of the remaining 2 doors to show a goat behind it.  This leaves the door you chose, and the one other remaining door; Monty gives you the chance to change your decision to the other door.\n",
    "\n",
    "Should you change or keep your door? Does it make a difference?\n",
    "\n",
    "Write a simulation to compare the 2 strategies:\n",
    "\n",
    "##### What's the probability of winning if you keep your original door?\n",
    "* Process needed to simulate a round:\n",
    "    1. Create a length 3 list of the possible outcomes; you can `shuffle` the list if you'd like it to feel more random (to represent the doors)\n",
    "    2. Randomly choose an item from the list (to represent the player's initial choice)\n",
    "    3. Check if the chosen item is the winning item or a goat\n",
    "    \n",
    "Make sure your code to simulate a round is working before you move on to simulating many rounds."
   ]
  },
  {
   "cell_type": "code",
   "execution_count": null,
   "metadata": {},
   "outputs": [],
   "source": []
  },
  {
   "cell_type": "markdown",
   "metadata": {},
   "source": [
    "##### What's the probability of winning if you change your door?\n",
    "* Process needed to simulate a round:\n",
    "    1. Create a length 3 list of the possible outcomes; you can `shuffle` the list if you'd like it to feel more random (to represent the doors)\n",
    "    2. Randomly choose an item from the list (to represent the player's initial choice)\n",
    "    3. Switch the players item to the opposite of what they currently have.  Explanation for that poorly worded sentence: There are 2 cases at this point for the switch strategy (make sure to prove that you agree with these 2 cases):\n",
    "        * If the player currently has a car, a switch means they'll have a goat as their final choice\n",
    "        * If the player currently has a goat, a switch means they'll have a car as their final choice\n",
    "    4. Check if the switched item is the winning item or a goat\n",
    "    \n",
    "Make sure your code to simulate a round is working before you move on to simulating many rounds."
   ]
  },
  {
   "cell_type": "code",
   "execution_count": null,
   "metadata": {},
   "outputs": [],
   "source": []
  },
  {
   "cell_type": "markdown",
   "metadata": {},
   "source": [
    "Process to simulate many rounds and calculate probability of winning: left as an exercise to the reader."
   ]
  },
  {
   "cell_type": "code",
   "execution_count": null,
   "metadata": {},
   "outputs": [],
   "source": []
  }
 ],
 "metadata": {
  "kernelspec": {
   "display_name": "Python 3",
   "language": "python",
   "name": "python3"
  },
  "language_info": {
   "codemirror_mode": {
    "name": "ipython",
    "version": 3
   },
   "file_extension": ".py",
   "mimetype": "text/x-python",
   "name": "python",
   "nbconvert_exporter": "python",
   "pygments_lexer": "ipython3",
   "version": "3.8.3"
  }
 },
 "nbformat": 4,
 "nbformat_minor": 2
}
