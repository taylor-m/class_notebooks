{
 "cells": [
  {
   "cell_type": "markdown",
   "metadata": {
    "id": "xbQmIT32i852"
   },
   "source": [
    "# A/B Testing Assignment"
   ]
  },
  {
   "cell_type": "code",
   "execution_count": 3,
   "metadata": {
    "ExecuteTime": {
     "end_time": "2020-11-10T20:40:57.950431Z",
     "start_time": "2020-11-10T20:40:57.941117Z"
    },
    "id": "G4kIlwTSi853",
    "init_cell": true
   },
   "outputs": [],
   "source": [
    "import numpy as np\n",
    "import pandas as pd\n",
    "from scipy import stats\n",
    "import seaborn as sns\n",
    "import matplotlib.pyplot as plt"
   ]
  },
  {
   "cell_type": "markdown",
   "metadata": {
    "id": "z7BJAQoti86B"
   },
   "source": [
    "### Import the [Absenteeism at Work data set](https://tf-assets-prod.s3.amazonaws.com/tf-curric/data-science/Absenteeism_at_work.csv). \n",
    "\n",
    "**Note:** The the delimiter of the file is a semi-colon (;), so you will need to set `sep=';'`."
   ]
  },
  {
   "cell_type": "code",
   "execution_count": 4,
   "metadata": {
    "ExecuteTime": {
     "end_time": "2020-11-10T20:40:58.430081Z",
     "start_time": "2020-11-10T20:40:57.951874Z"
    },
    "id": "uYcAlPGIi86C",
    "init_cell": true
   },
   "outputs": [],
   "source": [
    "url = 'https://tf-assets-prod.s3.amazonaws.com/tf-curric/data-science/Absenteeism_at_work.csv'\n",
    "df = pd.read_csv(url, sep=';')"
   ]
  },
  {
   "cell_type": "code",
   "execution_count": 3,
   "metadata": {
    "ExecuteTime": {
     "end_time": "2020-11-10T18:12:42.443766Z",
     "start_time": "2020-11-10T18:12:42.416775Z"
    }
   },
   "outputs": [
    {
     "data": {
      "text/html": [
       "<div>\n",
       "<style scoped>\n",
       "    .dataframe tbody tr th:only-of-type {\n",
       "        vertical-align: middle;\n",
       "    }\n",
       "\n",
       "    .dataframe tbody tr th {\n",
       "        vertical-align: top;\n",
       "    }\n",
       "\n",
       "    .dataframe thead th {\n",
       "        text-align: right;\n",
       "    }\n",
       "</style>\n",
       "<table border=\"1\" class=\"dataframe\">\n",
       "  <thead>\n",
       "    <tr style=\"text-align: right;\">\n",
       "      <th></th>\n",
       "      <th>ID</th>\n",
       "      <th>Reason for absence</th>\n",
       "      <th>Month of absence</th>\n",
       "      <th>Day of the week</th>\n",
       "      <th>Seasons</th>\n",
       "      <th>Transportation expense</th>\n",
       "      <th>Distance from Residence to Work</th>\n",
       "      <th>Service time</th>\n",
       "      <th>Age</th>\n",
       "      <th>Work load Average/day</th>\n",
       "      <th>...</th>\n",
       "      <th>Disciplinary failure</th>\n",
       "      <th>Education</th>\n",
       "      <th>Son</th>\n",
       "      <th>Social drinker</th>\n",
       "      <th>Social smoker</th>\n",
       "      <th>Pet</th>\n",
       "      <th>Weight</th>\n",
       "      <th>Height</th>\n",
       "      <th>Body mass index</th>\n",
       "      <th>Absenteeism time in hours</th>\n",
       "    </tr>\n",
       "  </thead>\n",
       "  <tbody>\n",
       "    <tr>\n",
       "      <th>0</th>\n",
       "      <td>11</td>\n",
       "      <td>26</td>\n",
       "      <td>7</td>\n",
       "      <td>3</td>\n",
       "      <td>1</td>\n",
       "      <td>289</td>\n",
       "      <td>36</td>\n",
       "      <td>13</td>\n",
       "      <td>33</td>\n",
       "      <td>239.554</td>\n",
       "      <td>...</td>\n",
       "      <td>0</td>\n",
       "      <td>1</td>\n",
       "      <td>2</td>\n",
       "      <td>1</td>\n",
       "      <td>0</td>\n",
       "      <td>1</td>\n",
       "      <td>90</td>\n",
       "      <td>172</td>\n",
       "      <td>30</td>\n",
       "      <td>4</td>\n",
       "    </tr>\n",
       "    <tr>\n",
       "      <th>1</th>\n",
       "      <td>36</td>\n",
       "      <td>0</td>\n",
       "      <td>7</td>\n",
       "      <td>3</td>\n",
       "      <td>1</td>\n",
       "      <td>118</td>\n",
       "      <td>13</td>\n",
       "      <td>18</td>\n",
       "      <td>50</td>\n",
       "      <td>239.554</td>\n",
       "      <td>...</td>\n",
       "      <td>1</td>\n",
       "      <td>1</td>\n",
       "      <td>1</td>\n",
       "      <td>1</td>\n",
       "      <td>0</td>\n",
       "      <td>0</td>\n",
       "      <td>98</td>\n",
       "      <td>178</td>\n",
       "      <td>31</td>\n",
       "      <td>0</td>\n",
       "    </tr>\n",
       "    <tr>\n",
       "      <th>2</th>\n",
       "      <td>3</td>\n",
       "      <td>23</td>\n",
       "      <td>7</td>\n",
       "      <td>4</td>\n",
       "      <td>1</td>\n",
       "      <td>179</td>\n",
       "      <td>51</td>\n",
       "      <td>18</td>\n",
       "      <td>38</td>\n",
       "      <td>239.554</td>\n",
       "      <td>...</td>\n",
       "      <td>0</td>\n",
       "      <td>1</td>\n",
       "      <td>0</td>\n",
       "      <td>1</td>\n",
       "      <td>0</td>\n",
       "      <td>0</td>\n",
       "      <td>89</td>\n",
       "      <td>170</td>\n",
       "      <td>31</td>\n",
       "      <td>2</td>\n",
       "    </tr>\n",
       "    <tr>\n",
       "      <th>3</th>\n",
       "      <td>7</td>\n",
       "      <td>7</td>\n",
       "      <td>7</td>\n",
       "      <td>5</td>\n",
       "      <td>1</td>\n",
       "      <td>279</td>\n",
       "      <td>5</td>\n",
       "      <td>14</td>\n",
       "      <td>39</td>\n",
       "      <td>239.554</td>\n",
       "      <td>...</td>\n",
       "      <td>0</td>\n",
       "      <td>1</td>\n",
       "      <td>2</td>\n",
       "      <td>1</td>\n",
       "      <td>1</td>\n",
       "      <td>0</td>\n",
       "      <td>68</td>\n",
       "      <td>168</td>\n",
       "      <td>24</td>\n",
       "      <td>4</td>\n",
       "    </tr>\n",
       "    <tr>\n",
       "      <th>4</th>\n",
       "      <td>11</td>\n",
       "      <td>23</td>\n",
       "      <td>7</td>\n",
       "      <td>5</td>\n",
       "      <td>1</td>\n",
       "      <td>289</td>\n",
       "      <td>36</td>\n",
       "      <td>13</td>\n",
       "      <td>33</td>\n",
       "      <td>239.554</td>\n",
       "      <td>...</td>\n",
       "      <td>0</td>\n",
       "      <td>1</td>\n",
       "      <td>2</td>\n",
       "      <td>1</td>\n",
       "      <td>0</td>\n",
       "      <td>1</td>\n",
       "      <td>90</td>\n",
       "      <td>172</td>\n",
       "      <td>30</td>\n",
       "      <td>2</td>\n",
       "    </tr>\n",
       "  </tbody>\n",
       "</table>\n",
       "<p>5 rows × 21 columns</p>\n",
       "</div>"
      ],
      "text/plain": [
       "   ID  Reason for absence  Month of absence  Day of the week  Seasons  \\\n",
       "0  11                  26                 7                3        1   \n",
       "1  36                   0                 7                3        1   \n",
       "2   3                  23                 7                4        1   \n",
       "3   7                   7                 7                5        1   \n",
       "4  11                  23                 7                5        1   \n",
       "\n",
       "   Transportation expense  Distance from Residence to Work  Service time  Age  \\\n",
       "0                     289                               36            13   33   \n",
       "1                     118                               13            18   50   \n",
       "2                     179                               51            18   38   \n",
       "3                     279                                5            14   39   \n",
       "4                     289                               36            13   33   \n",
       "\n",
       "   Work load Average/day   ...  Disciplinary failure  Education  Son  \\\n",
       "0                 239.554  ...                     0          1    2   \n",
       "1                 239.554  ...                     1          1    1   \n",
       "2                 239.554  ...                     0          1    0   \n",
       "3                 239.554  ...                     0          1    2   \n",
       "4                 239.554  ...                     0          1    2   \n",
       "\n",
       "   Social drinker  Social smoker  Pet  Weight  Height  Body mass index  \\\n",
       "0               1              0    1      90     172               30   \n",
       "1               1              0    0      98     178               31   \n",
       "2               1              0    0      89     170               31   \n",
       "3               1              1    0      68     168               24   \n",
       "4               1              0    1      90     172               30   \n",
       "\n",
       "   Absenteeism time in hours  \n",
       "0                          4  \n",
       "1                          0  \n",
       "2                          2  \n",
       "3                          4  \n",
       "4                          2  \n",
       "\n",
       "[5 rows x 21 columns]"
      ]
     },
     "execution_count": 3,
     "metadata": {},
     "output_type": "execute_result"
    }
   ],
   "source": [
    "df.head()"
   ]
  },
  {
   "cell_type": "markdown",
   "metadata": {
    "id": "r9Rvh7dpi86F"
   },
   "source": [
    "## Confidence Intervals\n",
    "\n",
    "Suppose this company is analyzing the health of its employees and is specifically interested in their Body Mass Index (BMI). Generate a 95% confidence interval of the mean for that field."
   ]
  },
  {
   "cell_type": "code",
   "execution_count": 16,
   "metadata": {
    "ExecuteTime": {
     "end_time": "2020-11-10T18:30:03.736473Z",
     "start_time": "2020-11-10T18:30:03.731474Z"
    }
   },
   "outputs": [
    {
     "data": {
      "text/plain": [
       "(740, 21)"
      ]
     },
     "execution_count": 16,
     "metadata": {},
     "output_type": "execute_result"
    }
   ],
   "source": [
    "df.shape"
   ]
  },
  {
   "cell_type": "code",
   "execution_count": 5,
   "metadata": {
    "ExecuteTime": {
     "end_time": "2020-11-10T20:41:36.311163Z",
     "start_time": "2020-11-10T20:41:36.280991Z"
    },
    "id": "ntFGGCc3i86G"
   },
   "outputs": [
    {
     "name": "stdout",
     "output_type": "stream",
     "text": [
      "19.0\n",
      "37.049999999999955\n"
     ]
    }
   ],
   "source": [
    "bmi_mean = df['Body mass index'].mean()\n",
    "ci_low = np.percentile(df['Body mass index'], 2.5)\n",
    "ci_high = np.percentile(df['Body mass index'], 97.5)\n",
    "print(ci_low)\n",
    "print(ci_high)"
   ]
  },
  {
   "cell_type": "markdown",
   "metadata": {
    "id": "wOnN7cu6i86J"
   },
   "source": [
    "### Visualizing Confidence Intervals\n",
    "\n",
    "Generate a sampling distribution of the mean for the Body Mass Index field. Create a histogram to visualize the sampling distribution and add an indicator showing the lower and upper bounds of the confidence interval."
   ]
  },
  {
   "cell_type": "code",
   "execution_count": 19,
   "metadata": {
    "ExecuteTime": {
     "end_time": "2020-11-10T18:32:26.683639Z",
     "start_time": "2020-11-10T18:32:26.503660Z"
    }
   },
   "outputs": [],
   "source": [
    "#  Generate a sampling distribution of the mean for the Body Mass Index field\n",
    "sample_means = []\n",
    "for i in range(1000):\n",
    "    bmi_sample = df['Body mass index'].sample(frac=1.0, replace=True)\n",
    "    sample_means.append(bmi_sample.mean())"
   ]
  },
  {
   "cell_type": "code",
   "execution_count": 21,
   "metadata": {
    "ExecuteTime": {
     "end_time": "2020-11-10T18:33:36.075070Z",
     "start_time": "2020-11-10T18:33:36.067167Z"
    }
   },
   "outputs": [],
   "source": [
    "#  variables for confidence interval of sample means\n",
    "ci_low = np.percentile(sample_means, 2.5)\n",
    "ci_high = np.percentile(sample_means, 97.5)"
   ]
  },
  {
   "cell_type": "code",
   "execution_count": 22,
   "metadata": {
    "ExecuteTime": {
     "end_time": "2020-11-10T18:33:38.955293Z",
     "start_time": "2020-11-10T18:33:38.774754Z"
    },
    "id": "1DpSZ6h0i86J"
   },
   "outputs": [
    {
     "data": {
      "image/png": "[encoded data removed]",
      "text/plain": [
       "<Figure size 432x288 with 1 Axes>"
      ]
     },
     "metadata": {
      "needs_background": "light"
     },
     "output_type": "display_data"
    }
   ],
   "source": [
    "#  histogram to visualize sampling distribution\n",
    "#  added indicator for lower and upper bounds of the confidence interval\n",
    "sns.distplot(sample_means)\n",
    "plt.axvline(ci_low)\n",
    "plt.axvline(ci_high)\n",
    "plt.show()"
   ]
  },
  {
   "cell_type": "markdown",
   "metadata": {
    "id": "5ACmvwkoi86N"
   },
   "source": [
    "### Confidence Intervals by Group\n",
    "\n",
    "Suppose we wanted to examine whether there was a difference in the BMIs of employees who drink socially and those that do not. Use the Social Drinker field to split the employees into groups, and then compute the confidence intervals for each group. What insights can you derive from the results?"
   ]
  },
  {
   "cell_type": "code",
   "execution_count": 30,
   "metadata": {
    "ExecuteTime": {
     "end_time": "2020-11-10T18:44:56.163276Z",
     "start_time": "2020-11-10T18:44:56.151476Z"
    },
    "id": "qKzAdaqJi86O"
   },
   "outputs": [],
   "source": [
    "#  split employees into groups for social drinkers and not\n",
    "social_drinkers = df[df['Social drinker'] == 1]\n",
    "not_social_drinkers = df[df['Social drinker'] == 0]\n",
    "#  lo and hi intervals for social drinkers\n",
    "sd_ci_lo = np.percentile(social_drinkers['Body mass index'], 2.5)\n",
    "sd_ci_hi = np.percentile(social_drinkers['Body mass index'], 97.5)\n",
    "#  intervals for non-social drinkers\n",
    "nsd_ci_lo = np.percentile(not_social_drinkers['Body mass index'], 2.5)\n",
    "nsd_ci_hi = np.percentile(not_social_drinkers['Body mass index'], 97.5)"
   ]
  },
  {
   "cell_type": "code",
   "execution_count": 32,
   "metadata": {
    "ExecuteTime": {
     "end_time": "2020-11-10T18:45:56.788382Z",
     "start_time": "2020-11-10T18:45:56.480440Z"
    }
   },
   "outputs": [
    {
     "data": {
      "image/png": "[encoded data removed]",
      "text/plain": [
       "<Figure size 432x288 with 1 Axes>"
      ]
     },
     "metadata": {
      "needs_background": "light"
     },
     "output_type": "display_data"
    },
    {
     "name": "stdout",
     "output_type": "stream",
     "text": [
      "27.88809523809524\n",
      "22.0, 38.0\n"
     ]
    },
    {
     "data": {
      "image/png": "[encoded data removed]",
      "text/plain": [
       "<Figure size 432x288 with 1 Axes>"
      ]
     },
     "metadata": {
      "needs_background": "light"
     },
     "output_type": "display_data"
    },
    {
     "name": "stdout",
     "output_type": "stream",
     "text": [
      "25.0875\n",
      "19.0, 33.0\n"
     ]
    }
   ],
   "source": [
    "sns.distplot(social_drinkers['Body mass index'])\n",
    "plt.axvline(sd_ci_hi)\n",
    "plt.axvline(sd_ci_lo)\n",
    "plt.title('Social Drinkers BMI')\n",
    "plt.show()\n",
    "print(str(social_drinkers['Body mass index'].mean()))\n",
    "print(str(sd_ci_lo)+', '+ str(sd_ci_hi))\n",
    "sns.distplot(not_social_drinkers['Body mass index'])\n",
    "plt.axvline(nsd_ci_hi)\n",
    "plt.axvline(nsd_ci_lo)\n",
    "plt.title('Non-social drinkers BMI')\n",
    "plt.show()\n",
    "print(str(not_social_drinkers['Body mass index'].mean()))\n",
    "print(str(nsd_ci_lo)+', '+ str(nsd_ci_hi))\n"
   ]
  },
  {
   "cell_type": "markdown",
   "metadata": {
    "id": "jTrcDrsmi86Q"
   },
   "source": [
    "### Sampling Distributions for Each Group\n",
    "\n",
    "Next, let's generate a sampling distribution of the mean for each group and generate a plot containing both of their histograms to see if there is any overlap."
   ]
  },
  {
   "cell_type": "code",
   "execution_count": 35,
   "metadata": {
    "ExecuteTime": {
     "end_time": "2020-11-10T18:52:41.230461Z",
     "start_time": "2020-11-10T18:52:40.890574Z"
    },
    "id": "foR7kDCbi86R"
   },
   "outputs": [],
   "source": [
    "sd_means = []\n",
    "nsd_means = []\n",
    "for i in range(1000):\n",
    "    sd_mean = social_drinkers['Body mass index'].sample(frac=1.0, replace=True).mean()\n",
    "    sd_means.append(sd_mean)\n",
    "    nsd_mean = not_social_drinkers['Body mass index'].sample(frac=1.0, replace=True).mean()\n",
    "    nsd_means.append(nsd_mean)"
   ]
  },
  {
   "cell_type": "code",
   "execution_count": 36,
   "metadata": {
    "ExecuteTime": {
     "end_time": "2020-11-10T18:56:24.571668Z",
     "start_time": "2020-11-10T18:56:24.383992Z"
    }
   },
   "outputs": [
    {
     "data": {
      "image/png": "[encoded data removed]",
      "text/plain": [
       "<Figure size 432x288 with 1 Axes>"
      ]
     },
     "metadata": {
      "needs_background": "light"
     },
     "output_type": "display_data"
    }
   ],
   "source": [
    "#  histogram plot of both sample mean distributions\n",
    "sns.distplot(sd_means)\n",
    "sns.distplot(nsd_means)\n",
    "plt.show()"
   ]
  },
  {
   "cell_type": "markdown",
   "metadata": {
    "id": "fP720H-0i86V"
   },
   "source": [
    "## A/B Testing\n",
    "\n",
    "Based on our analysis so far, we would like to perform a t-test to determine whether there is a difference in BMI means between our two groups (social drinkers and non-social drinkers). Conduct an independent sample t-test and determine whether the differences between the groups is statistically significant. What is your conclusion?"
   ]
  },
  {
   "cell_type": "code",
   "execution_count": 38,
   "metadata": {
    "ExecuteTime": {
     "end_time": "2020-11-10T18:58:51.351616Z",
     "start_time": "2020-11-10T18:58:51.333359Z"
    },
    "id": "qzHyOO4Wi86W"
   },
   "outputs": [
    {
     "name": "stdout",
     "output_type": "stream",
     "text": [
      "306.0787299471239\n",
      "0.0\n"
     ]
    }
   ],
   "source": [
    "t, p = stats.ttest_ind(sd_means, nsd_means)\n",
    "print(t)\n",
    "print(p)"
   ]
  },
  {
   "cell_type": "markdown",
   "metadata": {
    "id": "g1jcHXWBi86Z"
   },
   "source": [
    "## Confidence Intervals for Group Differences\n",
    "\n",
    "Generate a 95% confidence interval for the mean difference in BMI between the two groups. Compute the interval using both the traditional method and bootstrapping and compare the results. What conclusions can you draw from the comparison? How would you present a summary of your results to stakeholders?"
   ]
  },
  {
   "cell_type": "code",
   "execution_count": 44,
   "metadata": {
    "ExecuteTime": {
     "end_time": "2020-11-10T19:04:23.581619Z",
     "start_time": "2020-11-10T19:04:23.553276Z"
    },
    "id": "-q2aDrObi86a",
    "scrolled": true
   },
   "outputs": [],
   "source": [
    "sd_means_ci_lo = np.percentile(sd_means, 2.5)\n",
    "sd_means_ci_hi = np.percentile(sd_means, 97.5)\n",
    "nsd_means_ci_lo = np.percentile(nsd_means, 2.5)\n",
    "nsd_means_ci_hi = np.percentile(nsd_means, 97.5)"
   ]
  },
  {
   "cell_type": "code",
   "execution_count": 46,
   "metadata": {
    "ExecuteTime": {
     "end_time": "2020-11-10T19:07:29.991676Z",
     "start_time": "2020-11-10T19:07:29.972411Z"
    }
   },
   "outputs": [
    {
     "name": "stdout",
     "output_type": "stream",
     "text": [
      "There is 95% probability of between a 2.7595238095238095 and 2.8335714285714317 difference in the BMI of social drinkers and non social drinkers\n"
     ]
    }
   ],
   "source": [
    "print(f\"There is 95% probability of between a {sd_means_ci_hi - nsd_means_ci_hi} and {sd_means_ci_lo - nsd_means_ci_lo} difference in the BMI of social drinkers and non social drinkers\")"
   ]
  }
 ],
 "metadata": {
  "celltoolbar": "Initialization Cell",
  "colab": {
   "collapsed_sections": [],
   "name": "Day 12 Lecture 1 Assignment.ipynb",
   "provenance": []
  },
  "kernelspec": {
   "display_name": "Python 3",
   "language": "python",
   "name": "python3"
  },
  "language_info": {
   "codemirror_mode": {
    "name": "ipython",
    "version": 3
   },
   "file_extension": ".py",
   "mimetype": "text/x-python",
   "name": "python",
   "nbconvert_exporter": "python",
   "pygments_lexer": "ipython3",
   "version": "3.8.3"
  },
  "toc": {
   "base_numbering": 1,
   "nav_menu": {},
   "number_sections": true,
   "sideBar": true,
   "skip_h1_title": false,
   "title_cell": "Table of Contents",
   "title_sidebar": "Contents",
   "toc_cell": false,
   "toc_position": {
    "height": "calc(100% - 180px)",
    "left": "10px",
    "top": "150px",
    "width": "323px"
   },
   "toc_section_display": true,
   "toc_window_display": false
  },
  "varInspector": {
   "cols": {
    "lenName": 16,
    "lenType": 16,
    "lenVar": 40
   },
   "kernels_config": {
    "python": {
     "delete_cmd_postfix": "",
     "delete_cmd_prefix": "del ",
     "library": "var_list.py",
     "varRefreshCmd": "print(var_dic_list())"
    },
    "r": {
     "delete_cmd_postfix": ") ",
     "delete_cmd_prefix": "rm(",
     "library": "var_list.r",
     "varRefreshCmd": "cat(var_dic_list()) "
    }
   },
   "types_to_exclude": [
    "module",
    "function",
    "builtin_function_or_method",
    "instance",
    "_Feature"
   ],
   "window_display": false
  }
 },
 "nbformat": 4,
 "nbformat_minor": 1
}
