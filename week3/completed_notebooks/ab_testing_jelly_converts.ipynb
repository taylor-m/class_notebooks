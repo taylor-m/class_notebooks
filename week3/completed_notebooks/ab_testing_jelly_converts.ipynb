{
 "cells": [
  {
   "cell_type": "markdown",
   "metadata": {},
   "source": [
    "# Imports & Initialization"
   ]
  },
  {
   "cell_type": "code",
   "execution_count": 1,
   "metadata": {
    "ExecuteTime": {
     "end_time": "2020-11-10T21:55:53.307858Z",
     "start_time": "2020-11-10T21:55:53.288860Z"
    },
    "init_cell": true
   },
   "outputs": [
    {
     "data": {
      "application/javascript": [
       "\n",
       "            setTimeout(function() {\n",
       "                var nbb_cell_id = 1;\n",
       "                var nbb_unformatted_code = \"%reload_ext nb_black\";\n",
       "                var nbb_formatted_code = \"%reload_ext nb_black\";\n",
       "                var nbb_cells = Jupyter.notebook.get_cells();\n",
       "                for (var i = 0; i < nbb_cells.length; ++i) {\n",
       "                    if (nbb_cells[i].input_prompt_number == nbb_cell_id) {\n",
       "                        if (nbb_cells[i].get_text() == nbb_unformatted_code) {\n",
       "                             nbb_cells[i].set_text(nbb_formatted_code);\n",
       "                        }\n",
       "                        break;\n",
       "                    }\n",
       "                }\n",
       "            }, 500);\n",
       "            "
      ],
      "text/plain": [
       "<IPython.core.display.Javascript object>"
      ]
     },
     "metadata": {},
     "output_type": "display_data"
    }
   ],
   "source": [
    "%reload_ext nb_black"
   ]
  },
  {
   "cell_type": "code",
   "execution_count": 2,
   "metadata": {
    "ExecuteTime": {
     "end_time": "2020-11-10T21:56:01.630526Z",
     "start_time": "2020-11-10T21:56:01.560140Z"
    },
    "init_cell": true
   },
   "outputs": [
    {
     "data": {
      "application/javascript": [
       "\n",
       "            setTimeout(function() {\n",
       "                var nbb_cell_id = 2;\n",
       "                var nbb_unformatted_code = \"#  data libs\\nimport numpy as np\\nimport pandas as pd\\n\\n#  stats imports\\nfrom scipy import stats\\nimport statsmodels.stats.proportion as proportion\\nimport statsmodels.api as sm\\n\\n#  plotting imports\\nimport matplotlib.pyplot as plt\\nimport seaborn as sns\\n\\n%matplotlib inline\\n\\n\\ndef get_95_ci(x1, x2):\\n    \\\"\\\"\\\"Calculate a 95% CI for 2 1d numpy arrays\\\"\\\"\\\"\\n    signal = x1.mean() - x2.mean()\\n    noise = np.sqrt(x1.var() / x1.size + x2.var() / x2.size)\\n\\n    ci_lo = signal - 1.96 * noise\\n    ci_hi = signal + 1.96 * noise\\n\\n    return ci_lo, ci_hi\";\n",
       "                var nbb_formatted_code = \"#  data libs\\nimport numpy as np\\nimport pandas as pd\\n\\n#  stats imports\\nfrom scipy import stats\\nimport statsmodels.stats.proportion as proportion\\nimport statsmodels.api as sm\\n\\n#  plotting imports\\nimport matplotlib.pyplot as plt\\nimport seaborn as sns\\n\\n%matplotlib inline\\n\\n\\ndef get_95_ci(x1, x2):\\n    \\\"\\\"\\\"Calculate a 95% CI for 2 1d numpy arrays\\\"\\\"\\\"\\n    signal = x1.mean() - x2.mean()\\n    noise = np.sqrt(x1.var() / x1.size + x2.var() / x2.size)\\n\\n    ci_lo = signal - 1.96 * noise\\n    ci_hi = signal + 1.96 * noise\\n\\n    return ci_lo, ci_hi\";\n",
       "                var nbb_cells = Jupyter.notebook.get_cells();\n",
       "                for (var i = 0; i < nbb_cells.length; ++i) {\n",
       "                    if (nbb_cells[i].input_prompt_number == nbb_cell_id) {\n",
       "                        if (nbb_cells[i].get_text() == nbb_unformatted_code) {\n",
       "                             nbb_cells[i].set_text(nbb_formatted_code);\n",
       "                        }\n",
       "                        break;\n",
       "                    }\n",
       "                }\n",
       "            }, 500);\n",
       "            "
      ],
      "text/plain": [
       "<IPython.core.display.Javascript object>"
      ]
     },
     "metadata": {},
     "output_type": "display_data"
    }
   ],
   "source": [
    "#  data libs\n",
    "import numpy as np\n",
    "import pandas as pd\n",
    "\n",
    "#  stats imports\n",
    "from scipy import stats\n",
    "import statsmodels.stats.proportion as proportion\n",
    "import statsmodels.api as sm\n",
    "\n",
    "#  plotting imports\n",
    "import matplotlib.pyplot as plt\n",
    "import seaborn as sns\n",
    "\n",
    "%matplotlib inline\n",
    "\n",
    "\n",
    "def get_95_ci(x1, x2):\n",
    "    \"\"\"Calculate a 95% CI for 2 1d numpy arrays\"\"\"\n",
    "    signal = x1.mean() - x2.mean()\n",
    "    noise = np.sqrt(x1.var() / x1.size + x2.var() / x2.size)\n",
    "\n",
    "    ci_lo = signal - 1.96 * noise\n",
    "    ci_hi = signal + 1.96 * noise\n",
    "\n",
    "    return ci_lo, ci_hi"
   ]
  },
  {
   "cell_type": "markdown",
   "metadata": {},
   "source": [
    "## The setup\n",
    "\n",
    "* You are a data scientist at a luxury jelly e-commerce retailer. In hopes of generating a recurring revenue stream, the retailer has decided to roll out a “Jelly of the Month Club.”\n",
    "* The retailer is testing whether introducing a testimonial from Clark Griswold on the sidebar of the webpage will increase conversions to the Jelly of the Month Club.\n",
    "* We will also test to see if, during the experiment, purchase amount increased due to the sidebar testimonial.\n",
    "\n",
    "<img src='https://i0.wp.com/scng-dash.digitalfirstmedia.com/wp-content/uploads/2019/11/LDN-L-CHEVYCHASE-1124-02.jpg?fit=620%2C9999px&ssl=1' width='20%'>\n",
    "<center>\"I love this luxury jelly\" - Clark Griswold... prolly</center>"
   ]
  },
  {
   "cell_type": "code",
   "execution_count": 3,
   "metadata": {
    "ExecuteTime": {
     "end_time": "2020-11-10T21:55:53.397857Z",
     "start_time": "2020-11-10T21:55:53.378860Z"
    },
    "init_cell": true
   },
   "outputs": [
    {
     "data": {
      "application/javascript": [
       "\n",
       "            setTimeout(function() {\n",
       "                var nbb_cell_id = 3;\n",
       "                var nbb_unformatted_code = \"data_url = \\\"https://tf-assets-prod.s3.amazonaws.com/tf-curric/data-science/a-b-testing-drill-start-06-14-19.xlsx\\\"\";\n",
       "                var nbb_formatted_code = \"data_url = \\\"https://tf-assets-prod.s3.amazonaws.com/tf-curric/data-science/a-b-testing-drill-start-06-14-19.xlsx\\\"\";\n",
       "                var nbb_cells = Jupyter.notebook.get_cells();\n",
       "                for (var i = 0; i < nbb_cells.length; ++i) {\n",
       "                    if (nbb_cells[i].input_prompt_number == nbb_cell_id) {\n",
       "                        if (nbb_cells[i].get_text() == nbb_unformatted_code) {\n",
       "                             nbb_cells[i].set_text(nbb_formatted_code);\n",
       "                        }\n",
       "                        break;\n",
       "                    }\n",
       "                }\n",
       "            }, 500);\n",
       "            "
      ],
      "text/plain": [
       "<IPython.core.display.Javascript object>"
      ]
     },
     "metadata": {},
     "output_type": "display_data"
    }
   ],
   "source": [
    "data_url = \"https://tf-assets-prod.s3.amazonaws.com/tf-curric/data-science/a-b-testing-drill-start-06-14-19.xlsx\""
   ]
  },
  {
   "cell_type": "markdown",
   "metadata": {},
   "source": [
    "* Read the data into pandas"
   ]
  },
  {
   "cell_type": "markdown",
   "metadata": {
    "heading_collapsed": true
   },
   "source": [
    "# Data Exploration"
   ]
  },
  {
   "cell_type": "code",
   "execution_count": 4,
   "metadata": {
    "ExecuteTime": {
     "end_time": "2020-11-10T21:55:54.465807Z",
     "start_time": "2020-11-10T21:55:53.399850Z"
    },
    "hidden": true,
    "init_cell": true
   },
   "outputs": [
    {
     "data": {
      "text/html": [
       "<div>\n",
       "<style scoped>\n",
       "    .dataframe tbody tr th:only-of-type {\n",
       "        vertical-align: middle;\n",
       "    }\n",
       "\n",
       "    .dataframe tbody tr th {\n",
       "        vertical-align: top;\n",
       "    }\n",
       "\n",
       "    .dataframe thead th {\n",
       "        text-align: right;\n",
       "    }\n",
       "</style>\n",
       "<table border=\"1\" class=\"dataframe\">\n",
       "  <thead>\n",
       "    <tr style=\"text-align: right;\">\n",
       "      <th></th>\n",
       "      <th>trans_id</th>\n",
       "      <th>group</th>\n",
       "      <th>cart_amount</th>\n",
       "      <th>convert</th>\n",
       "    </tr>\n",
       "  </thead>\n",
       "  <tbody>\n",
       "    <tr>\n",
       "      <th>0</th>\n",
       "      <td>176890</td>\n",
       "      <td>treatment</td>\n",
       "      <td>49.46</td>\n",
       "      <td>1</td>\n",
       "    </tr>\n",
       "    <tr>\n",
       "      <th>1</th>\n",
       "      <td>443058</td>\n",
       "      <td>treatment</td>\n",
       "      <td>49.34</td>\n",
       "      <td>1</td>\n",
       "    </tr>\n",
       "    <tr>\n",
       "      <th>2</th>\n",
       "      <td>827633</td>\n",
       "      <td>treatment</td>\n",
       "      <td>44.08</td>\n",
       "      <td>1</td>\n",
       "    </tr>\n",
       "    <tr>\n",
       "      <th>3</th>\n",
       "      <td>277331</td>\n",
       "      <td>treatment</td>\n",
       "      <td>47.16</td>\n",
       "      <td>1</td>\n",
       "    </tr>\n",
       "    <tr>\n",
       "      <th>4</th>\n",
       "      <td>843324</td>\n",
       "      <td>treatment</td>\n",
       "      <td>44.19</td>\n",
       "      <td>1</td>\n",
       "    </tr>\n",
       "  </tbody>\n",
       "</table>\n",
       "</div>"
      ],
      "text/plain": [
       "   trans_id      group  cart_amount  convert\n",
       "0    176890  treatment        49.46        1\n",
       "1    443058  treatment        49.34        1\n",
       "2    827633  treatment        44.08        1\n",
       "3    277331  treatment        47.16        1\n",
       "4    843324  treatment        44.19        1"
      ]
     },
     "execution_count": 4,
     "metadata": {},
     "output_type": "execute_result"
    },
    {
     "data": {
      "application/javascript": [
       "\n",
       "            setTimeout(function() {\n",
       "                var nbb_cell_id = 4;\n",
       "                var nbb_unformatted_code = \"# Note it is an Excel file\\ndf = pd.read_excel(data_url)\\ndf.head()\";\n",
       "                var nbb_formatted_code = \"# Note it is an Excel file\\ndf = pd.read_excel(data_url)\\ndf.head()\";\n",
       "                var nbb_cells = Jupyter.notebook.get_cells();\n",
       "                for (var i = 0; i < nbb_cells.length; ++i) {\n",
       "                    if (nbb_cells[i].input_prompt_number == nbb_cell_id) {\n",
       "                        if (nbb_cells[i].get_text() == nbb_unformatted_code) {\n",
       "                             nbb_cells[i].set_text(nbb_formatted_code);\n",
       "                        }\n",
       "                        break;\n",
       "                    }\n",
       "                }\n",
       "            }, 500);\n",
       "            "
      ],
      "text/plain": [
       "<IPython.core.display.Javascript object>"
      ]
     },
     "metadata": {},
     "output_type": "display_data"
    }
   ],
   "source": [
    "# Note it is an Excel file\n",
    "df = pd.read_excel(data_url)\n",
    "df.head()"
   ]
  },
  {
   "cell_type": "code",
   "execution_count": 5,
   "metadata": {
    "ExecuteTime": {
     "end_time": "2020-11-10T21:55:54.486804Z",
     "start_time": "2020-11-10T21:55:54.466843Z"
    },
    "hidden": true,
    "init_cell": true
   },
   "outputs": [
    {
     "data": {
      "text/plain": [
       "array(['treatment', 'control'], dtype=object)"
      ]
     },
     "execution_count": 5,
     "metadata": {},
     "output_type": "execute_result"
    },
    {
     "data": {
      "application/javascript": [
       "\n",
       "            setTimeout(function() {\n",
       "                var nbb_cell_id = 5;\n",
       "                var nbb_unformatted_code = \"#  find out all the unique values in the group column\\ndf[\\\"group\\\"].unique()\";\n",
       "                var nbb_formatted_code = \"#  find out all the unique values in the group column\\ndf[\\\"group\\\"].unique()\";\n",
       "                var nbb_cells = Jupyter.notebook.get_cells();\n",
       "                for (var i = 0; i < nbb_cells.length; ++i) {\n",
       "                    if (nbb_cells[i].input_prompt_number == nbb_cell_id) {\n",
       "                        if (nbb_cells[i].get_text() == nbb_unformatted_code) {\n",
       "                             nbb_cells[i].set_text(nbb_formatted_code);\n",
       "                        }\n",
       "                        break;\n",
       "                    }\n",
       "                }\n",
       "            }, 500);\n",
       "            "
      ],
      "text/plain": [
       "<IPython.core.display.Javascript object>"
      ]
     },
     "metadata": {},
     "output_type": "display_data"
    }
   ],
   "source": [
    "#  find out all the unique values in the group column\n",
    "df[\"group\"].unique()"
   ]
  },
  {
   "cell_type": "code",
   "execution_count": null,
   "metadata": {
    "ExecuteTime": {
     "end_time": "2020-11-10T20:07:51.690624Z",
     "start_time": "2020-11-10T20:07:51.671265Z"
    },
    "hidden": true
   },
   "outputs": [],
   "source": [
    "#  find out how many records are in the group column\n",
    "df[\"group\"].size"
   ]
  },
  {
   "cell_type": "code",
   "execution_count": null,
   "metadata": {
    "ExecuteTime": {
     "end_time": "2020-11-10T20:08:25.730520Z",
     "start_time": "2020-11-10T20:08:25.721106Z"
    },
    "hidden": true
   },
   "outputs": [],
   "source": [
    "#  find out the total number of each value type in the group column\n",
    "df[\"group\"].value_counts()"
   ]
  },
  {
   "cell_type": "code",
   "execution_count": null,
   "metadata": {
    "ExecuteTime": {
     "end_time": "2020-11-10T20:08:54.420622Z",
     "start_time": "2020-11-10T20:08:54.401978Z"
    },
    "hidden": true,
    "scrolled": true
   },
   "outputs": [],
   "source": [
    "#  find the sum of null records in each field\n",
    "df.isna().sum()"
   ]
  },
  {
   "cell_type": "code",
   "execution_count": null,
   "metadata": {
    "ExecuteTime": {
     "end_time": "2020-11-10T20:09:24.502078Z",
     "start_time": "2020-11-10T20:09:24.480536Z"
    },
    "hidden": true
   },
   "outputs": [],
   "source": [
    "#  look at the standard descriptive stats for the amount field\n",
    "df.cart_amount.describe()"
   ]
  },
  {
   "cell_type": "code",
   "execution_count": null,
   "metadata": {
    "ExecuteTime": {
     "end_time": "2020-11-10T20:11:22.321062Z",
     "start_time": "2020-11-10T20:11:22.292158Z"
    },
    "hidden": true
   },
   "outputs": [],
   "source": [
    "#  look at the table grouped by the group field\n",
    "df.groupby(\"group\").mean()\n",
    "#  trans id isn't a useful field value for this"
   ]
  },
  {
   "cell_type": "code",
   "execution_count": null,
   "metadata": {
    "ExecuteTime": {
     "end_time": "2020-11-10T20:14:04.530428Z",
     "start_time": "2020-11-10T20:14:04.370873Z"
    },
    "hidden": true
   },
   "outputs": [],
   "source": [
    "sns.violinplot(y=\"group\", x=\"cart_amount\", data=df)\n",
    "plt.show()"
   ]
  },
  {
   "cell_type": "markdown",
   "metadata": {},
   "source": [
    "# Test for treatment's effect on `'cart_amount'`\n",
    "\n",
    "* Separate the 2 groups into 2 separate DataFrames."
   ]
  },
  {
   "cell_type": "code",
   "execution_count": 6,
   "metadata": {
    "ExecuteTime": {
     "end_time": "2020-11-10T21:55:54.513777Z",
     "start_time": "2020-11-10T21:55:54.488800Z"
    },
    "init_cell": true
   },
   "outputs": [
    {
     "data": {
      "application/javascript": [
       "\n",
       "            setTimeout(function() {\n",
       "                var nbb_cell_id = 6;\n",
       "                var nbb_unformatted_code = \"#  separate the df into control and treatment groups\\ncontrol = df[df.group == \\\"control\\\"]\\ntreatment = df[df.group == \\\"treatment\\\"]\";\n",
       "                var nbb_formatted_code = \"#  separate the df into control and treatment groups\\ncontrol = df[df.group == \\\"control\\\"]\\ntreatment = df[df.group == \\\"treatment\\\"]\";\n",
       "                var nbb_cells = Jupyter.notebook.get_cells();\n",
       "                for (var i = 0; i < nbb_cells.length; ++i) {\n",
       "                    if (nbb_cells[i].input_prompt_number == nbb_cell_id) {\n",
       "                        if (nbb_cells[i].get_text() == nbb_unformatted_code) {\n",
       "                             nbb_cells[i].set_text(nbb_formatted_code);\n",
       "                        }\n",
       "                        break;\n",
       "                    }\n",
       "                }\n",
       "            }, 500);\n",
       "            "
      ],
      "text/plain": [
       "<IPython.core.display.Javascript object>"
      ]
     },
     "metadata": {},
     "output_type": "display_data"
    }
   ],
   "source": [
    "#  separate the df into control and treatment groups\n",
    "control = df[df.group == \"control\"]\n",
    "treatment = df[df.group == \"treatment\"]"
   ]
  },
  {
   "cell_type": "markdown",
   "metadata": {},
   "source": [
    "## Assumptions...\n",
    "1. Continuous?\n",
    "2. Independent?\n",
    "3. Random sample?\n",
    "4. Normal?"
   ]
  },
  {
   "cell_type": "markdown",
   "metadata": {},
   "source": [
    "### Continuous?"
   ]
  },
  {
   "cell_type": "code",
   "execution_count": null,
   "metadata": {
    "ExecuteTime": {
     "end_time": "2020-11-10T20:18:40.940573Z",
     "start_time": "2020-11-10T20:18:40.792364Z"
    },
    "scrolled": true
   },
   "outputs": [],
   "source": [
    "# Continuous? yes\n",
    "control.cart_amount.hist()"
   ]
  },
  {
   "cell_type": "markdown",
   "metadata": {},
   "source": [
    "### Independent?"
   ]
  },
  {
   "cell_type": "markdown",
   "metadata": {},
   "source": [
    "Independent? yes\n",
    "\n",
    "[  ] dependent if you had the same person looking at both control and treatment website\n",
    "\n",
    "[X] independent if separate groups are used for each variable test"
   ]
  },
  {
   "cell_type": "markdown",
   "metadata": {},
   "source": [
    "### Random Sample?"
   ]
  },
  {
   "cell_type": "markdown",
   "metadata": {},
   "source": [
    "Always assume yes"
   ]
  },
  {
   "cell_type": "markdown",
   "metadata": {},
   "source": [
    "### Normal?"
   ]
  },
  {
   "cell_type": "code",
   "execution_count": null,
   "metadata": {
    "ExecuteTime": {
     "end_time": "2020-11-10T20:39:50.620477Z",
     "start_time": "2020-11-10T20:39:50.371012Z"
    }
   },
   "outputs": [],
   "source": [
    "#  check qqplot for visualization of normality of the data\n",
    "sm.qqplot(control.cart_amount, line=\"s\")\n",
    "plt.show()\n",
    "\n",
    "sm.qqplot(treatment.cart_amount, line=\"s\")\n",
    "plt.show()\n",
    "#  both plots show that the distributions are normal"
   ]
  },
  {
   "cell_type": "markdown",
   "metadata": {},
   "source": [
    "## T-Test"
   ]
  },
  {
   "cell_type": "markdown",
   "metadata": {},
   "source": [
    "* If we meet the assumptions, perform the analysis with a t-test.\n",
    "* Does the group have an effect on `'cart_amount'`?\n",
    "* If the group does have an effect, how big of an effect is it?"
   ]
  },
  {
   "cell_type": "code",
   "execution_count": null,
   "metadata": {
    "ExecuteTime": {
     "end_time": "2020-11-10T21:15:14.510439Z",
     "start_time": "2020-11-10T21:15:14.490348Z"
    }
   },
   "outputs": [],
   "source": [
    "t, p = stats.ttest_ind(control.cart_amount, treatment.cart_amount)\n",
    "print(\"t = \" + str(t))\n",
    "print(\"p = \" + str(p))"
   ]
  },
  {
   "cell_type": "code",
   "execution_count": null,
   "metadata": {
    "ExecuteTime": {
     "end_time": "2020-11-10T21:17:54.030288Z",
     "start_time": "2020-11-10T21:17:54.015009Z"
    }
   },
   "outputs": [],
   "source": [
    "p < 0.05"
   ]
  },
  {
   "cell_type": "markdown",
   "metadata": {},
   "source": [
    "## Create a bootstrap confidence interval\n",
    "* Write a `for` loop to go through a process 1000 times\n",
    "* The process:\n",
    "    * Create a bootstrap sample of each group\n",
    "    * Find the difference of means between these 2 bootstrapped samples\n",
    "    * Store these bootstrapped differences of means to a list\n",
    "* Create a historgram of the bootstrapped differences of means\n",
    "* Calculate a 95% confidence interval using `np.percentile()` and the bootstrapped differences of means\n",
    "\n",
    "How does this compare to the more formal confidence interval formula we used above?"
   ]
  },
  {
   "cell_type": "code",
   "execution_count": null,
   "metadata": {
    "ExecuteTime": {
     "end_time": "2020-11-10T21:19:43.750170Z",
     "start_time": "2020-11-10T21:19:43.732019Z"
    }
   },
   "outputs": [],
   "source": [
    "#  function for finding the confidence interval between 2 sample sets\n",
    "get_95_ci(control.cart_amount, treatment.cart_amount)"
   ]
  },
  {
   "cell_type": "markdown",
   "metadata": {},
   "source": [
    "The treatment results in an increase in cart_amount from 0.10 to 0.54"
   ]
  },
  {
   "cell_type": "code",
   "execution_count": null,
   "metadata": {},
   "outputs": [],
   "source": [
    "# bootstrap confidence interval loop\n",
    "# empty list to store mean differences\n",
    "mean_diffs = []\n",
    "for i in range(1000):\n",
    "    # bootstrap sample for each group\n",
    "    control_sample = control.cart_amount.sample(frac=1.0, replace=True)\n",
    "    treatment_sample = treatment.cart_amount.sample(frac=1.0, replace=True)\n",
    "    #  take the difference in the means\n",
    "    mean_diff = control_sample.mean() - treatment_sample.mean()\n",
    "    # add the mean_diff to the list of differences\n",
    "    mean_diffs.append(mean_diff)\n",
    "\n",
    "print(len(mean_diffs))"
   ]
  },
  {
   "cell_type": "code",
   "execution_count": null,
   "metadata": {},
   "outputs": [],
   "source": [
    "# calculate the 95% confidence interval of the bootstrapped differences of mean with np.percentile()\n",
    "ci_lo = np.percentile(mean_diffs, 2.5)\n",
    "ci_hi = np.percentile(mean_diffs, 97.5)\n",
    "print(f\"Bootstrapped confidence interval: {ci_lo}, {ci_hi}\")"
   ]
  },
  {
   "cell_type": "code",
   "execution_count": null,
   "metadata": {},
   "outputs": [],
   "source": [
    "# create a histogram of the bootsrapped mean differences\n",
    "sns.distplot(mean_diffs)\n",
    "plt.axvline(ci_lo, c=\"r\")\n",
    "plt.axvline(ci_hi, c=\"r\")\n",
    "plt.show()"
   ]
  },
  {
   "cell_type": "markdown",
   "metadata": {},
   "source": [
    "The bootstrapped confidence interval was within a hundreth of the original confidence interval calculated"
   ]
  },
  {
   "cell_type": "markdown",
   "metadata": {},
   "source": [
    "# Test for treatment's effect on `'convert'`\n",
    "\n",
    "* [x] Separate the 2 groups into 2 separate DataFrames (already did this in last step)\n",
    "* [x] Do we meet the assumptions for a t-test?\n"
   ]
  },
  {
   "cell_type": "markdown",
   "metadata": {},
   "source": [
    "Now we want to check on the other aspect of our experimental outcome, whether the conversion of more people to the jelly of the month club is worth it\n",
    "looking at the same assumptions as before:\n"
   ]
  },
  {
   "cell_type": "code",
   "execution_count": 36,
   "metadata": {},
   "outputs": [
    {
     "data": {
      "text/plain": [
       "0    1688\n",
       "1      92\n",
       "Name: convert, dtype: int64"
      ]
     },
     "execution_count": 36,
     "metadata": {},
     "output_type": "execute_result"
    },
    {
     "data": {
      "application/javascript": [
       "\n",
       "            setTimeout(function() {\n",
       "                var nbb_cell_id = 36;\n",
       "                var nbb_unformatted_code = \"# now we want to check on the other aspect of our experimental outcome, whether the conversion of more people to the jelly of the month club is worth it\\n# looking at the same assumptions as before:\\n# continuous? \\ndf.convert.value_counts()\";\n",
       "                var nbb_formatted_code = \"# now we want to check on the other aspect of our experimental outcome, whether the conversion of more people to the jelly of the month club is worth it\\n# looking at the same assumptions as before:\\n# continuous?\\ndf.convert.value_counts()\";\n",
       "                var nbb_cells = Jupyter.notebook.get_cells();\n",
       "                for (var i = 0; i < nbb_cells.length; ++i) {\n",
       "                    if (nbb_cells[i].input_prompt_number == nbb_cell_id) {\n",
       "                        if (nbb_cells[i].get_text() == nbb_unformatted_code) {\n",
       "                             nbb_cells[i].set_text(nbb_formatted_code);\n",
       "                        }\n",
       "                        break;\n",
       "                    }\n",
       "                }\n",
       "            }, 500);\n",
       "            "
      ],
      "text/plain": [
       "<IPython.core.display.Javascript object>"
      ]
     },
     "metadata": {},
     "output_type": "display_data"
    },
    {
     "data": {
      "application/javascript": [
       "\n",
       "            setTimeout(function() {\n",
       "                var nbb_cell_id = 36;\n",
       "                var nbb_unformatted_code = \"# now we want to check on the other aspect of our experimental outcome, whether the conversion of more people to the jelly of the month club is worth it\\n# looking at the same assumptions as before:\\n# continuous? \\ndf.convert.value_counts()\";\n",
       "                var nbb_formatted_code = \"# now we want to check on the other aspect of our experimental outcome, whether the conversion of more people to the jelly of the month club is worth it\\n# looking at the same assumptions as before:\\n# continuous?\\ndf.convert.value_counts()\";\n",
       "                var nbb_cells = Jupyter.notebook.get_cells();\n",
       "                for (var i = 0; i < nbb_cells.length; ++i) {\n",
       "                    if (nbb_cells[i].input_prompt_number == nbb_cell_id) {\n",
       "                        if (nbb_cells[i].get_text() == nbb_unformatted_code) {\n",
       "                             nbb_cells[i].set_text(nbb_formatted_code);\n",
       "                        }\n",
       "                        break;\n",
       "                    }\n",
       "                }\n",
       "            }, 500);\n",
       "            "
      ],
      "text/plain": [
       "<IPython.core.display.Javascript object>"
      ]
     },
     "metadata": {},
     "output_type": "display_data"
    }
   ],
   "source": [
    "# Continuous?\n",
    "df.convert.value_counts()"
   ]
  },
  {
   "cell_type": "markdown",
   "metadata": {},
   "source": [
    "The values in the converts column are only 1s and 0s so the distribution isn't continuous."
   ]
  },
  {
   "cell_type": "code",
   "execution_count": null,
   "metadata": {},
   "outputs": [],
   "source": [
    "# independent? Yes, same as before\n",
    "# normal? not normal bc the distribution isn't continuous and is bimodal"
   ]
  },
  {
   "cell_type": "markdown",
   "metadata": {},
   "source": [
    "Doesn't meet the assumptions for a t-test. Can't look at the difference of means.\n",
    "\n",
    "Hypotheses:\n",
    "\n",
    "$H_o$: no difference of proportion/rate\n",
    "\n",
    "$H_a$: yes difference in proportion/rate\n"
   ]
  },
  {
   "cell_type": "markdown",
   "metadata": {},
   "source": [
    "> Because the sample is a proportion, we know more about their distributions than the t-test assumes. Specifically, the distribution of the mean is normal, meaning we could use something called a two sample proportional z-test. We haven't covered this test yet, but you can read about it [here](https://newonlinecourses.science.psu.edu/stat414/node/268/). Find a python implementation for this test and go back and revise our testing. What difference does our new test make?\n",
    "\n",
    "^From the reading.  We'll use a different test that performs exactly the same, but allows us to test more than 2 groups (not needed here but nicer to know about moving forward)."
   ]
  },
  {
   "cell_type": "markdown",
   "metadata": {},
   "source": [
    "More on proportions z-test:\n",
    "\n",
    "* [Nice intro walkthrough](https://www.youtube.com/watch?v=_58qBy9Uxks)\n",
    "* [\"Use and misuse\"](https://influentialpoints.com/Training/z-test_for_independent_proportions_use_and_misuse.htm)\n",
    "* [Python walkthrough (including confidence interval)](http://ethen8181.github.io/machine-learning/ab_tests/frequentist_ab_test.html#Comparing-Two-Proportions)"
   ]
  },
  {
   "cell_type": "markdown",
   "metadata": {},
   "source": [
    "Another potential test is [`proportions_chisquare()`](https://www.statsmodels.org/stable/generated/statsmodels.stats.proportion.proportions_chisquare.html) from `statsmodels`.  It takes the same arguments.  Below is an excerpt of documentation from `proportions_ztest`.\n",
    "\n",
    "> In the one and two sample cases with two-sided alternative, this test produces the same p-value as proportions_chisquare, since the chisquare is the distribution of the square of a standard normal distribution.\n",
    "\n",
    "Translation:\n",
    "\n",
    "The proportion z-test works for 2 samples, the chi square is an extension of this test to work for >2 samples.  When the number of samples is 2.  These tests work the same as the prop z-test.\n",
    "\n",
    "So in this case, these 2 functions are the same.\n",
    "\n",
    "What are the conclusions of the test?"
   ]
  },
  {
   "cell_type": "code",
   "execution_count": 37,
   "metadata": {},
   "outputs": [
    {
     "data": {
      "text/html": [
       "<div>\n",
       "<style scoped>\n",
       "    .dataframe tbody tr th:only-of-type {\n",
       "        vertical-align: middle;\n",
       "    }\n",
       "\n",
       "    .dataframe tbody tr th {\n",
       "        vertical-align: top;\n",
       "    }\n",
       "\n",
       "    .dataframe thead th {\n",
       "        text-align: right;\n",
       "    }\n",
       "</style>\n",
       "<table border=\"1\" class=\"dataframe\">\n",
       "  <thead>\n",
       "    <tr style=\"text-align: right;\">\n",
       "      <th>convert</th>\n",
       "      <th>0</th>\n",
       "      <th>1</th>\n",
       "    </tr>\n",
       "    <tr>\n",
       "      <th>group</th>\n",
       "      <th></th>\n",
       "      <th></th>\n",
       "    </tr>\n",
       "  </thead>\n",
       "  <tbody>\n",
       "    <tr>\n",
       "      <th>control</th>\n",
       "      <td>804</td>\n",
       "      <td>42</td>\n",
       "    </tr>\n",
       "    <tr>\n",
       "      <th>treatment</th>\n",
       "      <td>884</td>\n",
       "      <td>50</td>\n",
       "    </tr>\n",
       "  </tbody>\n",
       "</table>\n",
       "</div>"
      ],
      "text/plain": [
       "convert      0   1\n",
       "group             \n",
       "control    804  42\n",
       "treatment  884  50"
      ]
     },
     "execution_count": 37,
     "metadata": {},
     "output_type": "execute_result"
    },
    {
     "data": {
      "application/javascript": [
       "\n",
       "            setTimeout(function() {\n",
       "                var nbb_cell_id = 37;\n",
       "                var nbb_unformatted_code = \"# n_converts_control, n_converts_treament\\n# n_control, n_treatment\\npd.crosstab(df.group, df.convert)\";\n",
       "                var nbb_formatted_code = \"# n_converts_control, n_converts_treament\\n# n_control, n_treatment\\npd.crosstab(df.group, df.convert)\";\n",
       "                var nbb_cells = Jupyter.notebook.get_cells();\n",
       "                for (var i = 0; i < nbb_cells.length; ++i) {\n",
       "                    if (nbb_cells[i].input_prompt_number == nbb_cell_id) {\n",
       "                        if (nbb_cells[i].get_text() == nbb_unformatted_code) {\n",
       "                             nbb_cells[i].set_text(nbb_formatted_code);\n",
       "                        }\n",
       "                        break;\n",
       "                    }\n",
       "                }\n",
       "            }, 500);\n",
       "            "
      ],
      "text/plain": [
       "<IPython.core.display.Javascript object>"
      ]
     },
     "metadata": {},
     "output_type": "display_data"
    },
    {
     "data": {
      "application/javascript": [
       "\n",
       "            setTimeout(function() {\n",
       "                var nbb_cell_id = 37;\n",
       "                var nbb_unformatted_code = \"# n_converts_control, n_converts_treament\\n# n_control, n_treatment\\npd.crosstab(df.group, df.convert)\";\n",
       "                var nbb_formatted_code = \"# n_converts_control, n_converts_treament\\n# n_control, n_treatment\\npd.crosstab(df.group, df.convert)\";\n",
       "                var nbb_cells = Jupyter.notebook.get_cells();\n",
       "                for (var i = 0; i < nbb_cells.length; ++i) {\n",
       "                    if (nbb_cells[i].input_prompt_number == nbb_cell_id) {\n",
       "                        if (nbb_cells[i].get_text() == nbb_unformatted_code) {\n",
       "                             nbb_cells[i].set_text(nbb_formatted_code);\n",
       "                        }\n",
       "                        break;\n",
       "                    }\n",
       "                }\n",
       "            }, 500);\n",
       "            "
      ],
      "text/plain": [
       "<IPython.core.display.Javascript object>"
      ]
     },
     "metadata": {},
     "output_type": "display_data"
    }
   ],
   "source": [
    "# n_converts_control, n_converts_treament\n",
    "# n_control, n_treatment\n",
    "pd.crosstab(df.group, df.convert)"
   ]
  },
  {
   "cell_type": "code",
   "execution_count": 39,
   "metadata": {},
   "outputs": [
    {
     "data": {
      "text/plain": [
       "(0.13689415839203997,\n",
       " 0.7113883723113994,\n",
       " (array([[ 42, 804],\n",
       "         [ 50, 884]], dtype=int64),\n",
       "  array([[ 43.7258427, 802.2741573],\n",
       "         [ 48.2741573, 885.7258427]])))"
      ]
     },
     "execution_count": 39,
     "metadata": {},
     "output_type": "execute_result"
    },
    {
     "data": {
      "application/javascript": [
       "\n",
       "            setTimeout(function() {\n",
       "                var nbb_cell_id = 39;\n",
       "                var nbb_unformatted_code = \"count = [control.convert.sum(), treatment.convert.sum()]\\nnobs = [control.convert.size, treatment.convert.size]\\nproportion.proportions_chisquare(count, nobs)\";\n",
       "                var nbb_formatted_code = \"count = [control.convert.sum(), treatment.convert.sum()]\\nnobs = [control.convert.size, treatment.convert.size]\\nproportion.proportions_chisquare(count, nobs)\";\n",
       "                var nbb_cells = Jupyter.notebook.get_cells();\n",
       "                for (var i = 0; i < nbb_cells.length; ++i) {\n",
       "                    if (nbb_cells[i].input_prompt_number == nbb_cell_id) {\n",
       "                        if (nbb_cells[i].get_text() == nbb_unformatted_code) {\n",
       "                             nbb_cells[i].set_text(nbb_formatted_code);\n",
       "                        }\n",
       "                        break;\n",
       "                    }\n",
       "                }\n",
       "            }, 500);\n",
       "            "
      ],
      "text/plain": [
       "<IPython.core.display.Javascript object>"
      ]
     },
     "metadata": {},
     "output_type": "display_data"
    },
    {
     "data": {
      "application/javascript": [
       "\n",
       "            setTimeout(function() {\n",
       "                var nbb_cell_id = 39;\n",
       "                var nbb_unformatted_code = \"count = [control.convert.sum(), treatment.convert.sum()]\\nnobs = [control.convert.size, treatment.convert.size]\\nproportion.proportions_chisquare(count, nobs)\";\n",
       "                var nbb_formatted_code = \"count = [control.convert.sum(), treatment.convert.sum()]\\nnobs = [control.convert.size, treatment.convert.size]\\nproportion.proportions_chisquare(count, nobs)\";\n",
       "                var nbb_cells = Jupyter.notebook.get_cells();\n",
       "                for (var i = 0; i < nbb_cells.length; ++i) {\n",
       "                    if (nbb_cells[i].input_prompt_number == nbb_cell_id) {\n",
       "                        if (nbb_cells[i].get_text() == nbb_unformatted_code) {\n",
       "                             nbb_cells[i].set_text(nbb_formatted_code);\n",
       "                        }\n",
       "                        break;\n",
       "                    }\n",
       "                }\n",
       "            }, 500);\n",
       "            "
      ],
      "text/plain": [
       "<IPython.core.display.Javascript object>"
      ]
     },
     "metadata": {},
     "output_type": "display_data"
    }
   ],
   "source": [
    "count = [control.convert.sum(), treatment.convert.sum()]\n",
    "nobs = [control.convert.size, treatment.convert.size]\n",
    "proportion.proportions_chisquare(count, nobs)"
   ]
  }
 ],
 "metadata": {
  "celltoolbar": "Initialization Cell",
  "kernelspec": {
   "display_name": "Python 3",
   "language": "python",
   "name": "python3"
  },
  "language_info": {
   "codemirror_mode": {
    "name": "ipython",
    "version": 3
   },
   "file_extension": ".py",
   "mimetype": "text/x-python",
   "name": "python",
   "nbconvert_exporter": "python",
   "pygments_lexer": "ipython3",
   "version": "3.8.3"
  },
  "latex_envs": {
   "LaTeX_envs_menu_present": true,
   "autoclose": false,
   "autocomplete": true,
   "bibliofile": "biblio.bib",
   "cite_by": "apalike",
   "current_citInitial": 1,
   "eqLabelWithNumbers": true,
   "eqNumInitial": 1,
   "hotkeys": {
    "equation": "Ctrl-E",
    "itemize": "Ctrl-I"
   },
   "labels_anchors": false,
   "latex_user_defs": false,
   "report_style_numbering": false,
   "user_envs_cfg": false
  },
  "toc": {
   "base_numbering": 1,
   "nav_menu": {},
   "number_sections": true,
   "sideBar": true,
   "skip_h1_title": false,
   "title_cell": "Table of Contents",
   "title_sidebar": "Contents",
   "toc_cell": false,
   "toc_position": {
    "height": "623.717px",
    "left": "816px",
    "top": "199px",
    "width": "233.933px"
   },
   "toc_section_display": true,
   "toc_window_display": true
  },
  "varInspector": {
   "cols": {
    "lenName": 16,
    "lenType": 16,
    "lenVar": 40
   },
   "kernels_config": {
    "python": {
     "delete_cmd_postfix": "",
     "delete_cmd_prefix": "del ",
     "library": "var_list.py",
     "varRefreshCmd": "print(var_dic_list())"
    },
    "r": {
     "delete_cmd_postfix": ") ",
     "delete_cmd_prefix": "rm(",
     "library": "var_list.r",
     "varRefreshCmd": "cat(var_dic_list()) "
    }
   },
   "oldHeight": 310.85,
   "position": {
    "height": "753.85px",
    "left": "1599px",
    "right": "20px",
    "top": "141px",
    "width": "262px"
   },
   "types_to_exclude": [
    "module",
    "function",
    "builtin_function_or_method",
    "instance",
    "_Feature"
   ],
   "varInspector_section_display": "block",
   "window_display": false
  }
 },
 "nbformat": 4,
 "nbformat_minor": 2
}
