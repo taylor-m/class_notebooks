{
 "cells": [
  {
   "cell_type": "markdown",
   "metadata": {
    "id": "IajEE40kqbPO"
   },
   "source": [
    "Nonparametric statistical significance tests\n",
    "\n",
    "non_parametric_tests_assign_solution.ipynb\n",
    "\n",
    "Complete the assignment below.\n",
    "\n",
    "References:\n",
    "- Nonparametric Statistics for Non-Statisticians: A Step-by-Step Approach, 2009.\n",
    "- How to Calculate Nonparametric Statistical Hypothesis Tests in Python, Jason Brownlee, 2018.\n"
   ]
  },
  {
   "cell_type": "markdown",
   "metadata": {},
   "source": [
    "# Imports"
   ]
  },
  {
   "cell_type": "code",
   "execution_count": 52,
   "metadata": {},
   "outputs": [
    {
     "data": {
      "application/javascript": [
       "\n",
       "            setTimeout(function() {\n",
       "                var nbb_cell_id = 52;\n",
       "                var nbb_unformatted_code = \"%reload_ext nb_black\\nimport pandas as pd\\nimport numpy as np\\n\\n%matplotlib inline\\nimport matplotlib.pyplot as plt\\nimport scipy.stats as stats\\nimport seaborn as sns\";\n",
       "                var nbb_formatted_code = \"%reload_ext nb_black\\nimport pandas as pd\\nimport numpy as np\\n\\n%matplotlib inline\\nimport matplotlib.pyplot as plt\\nimport scipy.stats as stats\\nimport seaborn as sns\";\n",
       "                var nbb_cells = Jupyter.notebook.get_cells();\n",
       "                for (var i = 0; i < nbb_cells.length; ++i) {\n",
       "                    if (nbb_cells[i].input_prompt_number == nbb_cell_id) {\n",
       "                        if (nbb_cells[i].get_text() == nbb_unformatted_code) {\n",
       "                             nbb_cells[i].set_text(nbb_formatted_code);\n",
       "                        }\n",
       "                        break;\n",
       "                    }\n",
       "                }\n",
       "            }, 500);\n",
       "            "
      ],
      "text/plain": [
       "<IPython.core.display.Javascript object>"
      ]
     },
     "metadata": {},
     "output_type": "display_data"
    },
    {
     "data": {
      "application/javascript": [
       "\n",
       "            setTimeout(function() {\n",
       "                var nbb_cell_id = 52;\n",
       "                var nbb_unformatted_code = \"%reload_ext nb_black\\nimport pandas as pd\\nimport numpy as np\\n\\n%matplotlib inline\\nimport matplotlib.pyplot as plt\\nimport scipy.stats as stats\\nimport seaborn as sns\";\n",
       "                var nbb_formatted_code = \"%reload_ext nb_black\\nimport pandas as pd\\nimport numpy as np\\n\\n%matplotlib inline\\nimport matplotlib.pyplot as plt\\nimport scipy.stats as stats\\nimport seaborn as sns\";\n",
       "                var nbb_cells = Jupyter.notebook.get_cells();\n",
       "                for (var i = 0; i < nbb_cells.length; ++i) {\n",
       "                    if (nbb_cells[i].input_prompt_number == nbb_cell_id) {\n",
       "                        if (nbb_cells[i].get_text() == nbb_unformatted_code) {\n",
       "                             nbb_cells[i].set_text(nbb_formatted_code);\n",
       "                        }\n",
       "                        break;\n",
       "                    }\n",
       "                }\n",
       "            }, 500);\n",
       "            "
      ],
      "text/plain": [
       "<IPython.core.display.Javascript object>"
      ]
     },
     "metadata": {},
     "output_type": "display_data"
    }
   ],
   "source": [
    "%reload_ext nb_black\n",
    "import pandas as pd\n",
    "import numpy as np\n",
    "\n",
    "%matplotlib inline\n",
    "import matplotlib.pyplot as plt\n",
    "import scipy.stats as stats\n",
    "import seaborn as sns"
   ]
  },
  {
   "cell_type": "markdown",
   "metadata": {
    "id": "FQsgubxqqbPP"
   },
   "source": [
    "# Exercise 1\n",
    "\n",
    "Our first dataset includes a very famous dataset, the Winsconsin Breast cancer dataset which is also available in https://archive.ics.uci.edu/ml/datasets/Breast+Cancer+Wisconsin+(Diagnostic). It includes features for cell nuclei for two categories of tumors: malignant and benign. As explained in the original data source:\n",
    "\n",
    ">Features are computed from a digitized image of a fine needle aspirate (FNA) of a breast mass. They describe characteristics of the cell nuclei present in the image.\n",
    "n the 3-dimensional space is that described in: [K. P. Bennett and O. L. Mangasarian: \"Robust Linear Programming Discrimination of Two Linearly Inseparable Sets\", Optimization Methods and Software 1, 1992, 23-34].\n",
    "\n",
    "Dataset:\n",
    "- https://tf-assets-prod.s3.amazonaws.com/tf-curric/data-science/breast_cancer.csv\n",
    "\n",
    "We will be using three of these features for our exercise: \n",
    "- diagnosis: the classification of the tumor with values \"M\" (malignant) and \"B\" (benign).\n",
    "- area_mean: the average area covered by the tumor cells\n",
    "- concavity_mean: severity of concave portions of the contour\n",
    "- texture_mean: standard deviation of gray-scale values\n",
    "\n",
    "For the three features described above(area_mean, concavity_mean, texture_mean), is there a difference in their average values in the two diagnosis groups? (Do samples of these features originate from the same distribution?)\n",
    "- Select and apply the appropriate statistical test.\n",
    "- Provide brief rationale for your selection of statistical test.\n",
    "- Generate boxplots to compare experimental vs. control for t1, t2, and t3.\n"
   ]
  },
  {
   "cell_type": "markdown",
   "metadata": {},
   "source": [
    "## Data"
   ]
  },
  {
   "cell_type": "code",
   "execution_count": null,
   "metadata": {},
   "outputs": [],
   "source": [
    "df = pd.read_csv(\n",
    "    \"https://tf-assets-prod.s3.amazonaws.com/tf-curric/data-science/breast_cancer.csv\"\n",
    ")\n",
    "df = df[[\"diagnosis\", \"area_mean\", \"concavity_mean\", \"texture_mean\"]]"
   ]
  },
  {
   "cell_type": "code",
   "execution_count": 11,
   "metadata": {
    "id": "TTsw--6YqbPQ",
    "outputId": "55bc97af-0cce-494a-8a45-2de0951a8720"
   },
   "outputs": [
    {
     "data": {
      "text/html": [
       "<div>\n",
       "<style scoped>\n",
       "    .dataframe tbody tr th:only-of-type {\n",
       "        vertical-align: middle;\n",
       "    }\n",
       "\n",
       "    .dataframe tbody tr th {\n",
       "        vertical-align: top;\n",
       "    }\n",
       "\n",
       "    .dataframe thead th {\n",
       "        text-align: right;\n",
       "    }\n",
       "</style>\n",
       "<table border=\"1\" class=\"dataframe\">\n",
       "  <thead>\n",
       "    <tr style=\"text-align: right;\">\n",
       "      <th></th>\n",
       "      <th>diagnosis</th>\n",
       "      <th>area_mean</th>\n",
       "      <th>concavity_mean</th>\n",
       "      <th>texture_mean</th>\n",
       "    </tr>\n",
       "  </thead>\n",
       "  <tbody>\n",
       "    <tr>\n",
       "      <th>0</th>\n",
       "      <td>M</td>\n",
       "      <td>1001.0</td>\n",
       "      <td>0.3001</td>\n",
       "      <td>10.38</td>\n",
       "    </tr>\n",
       "    <tr>\n",
       "      <th>1</th>\n",
       "      <td>M</td>\n",
       "      <td>1326.0</td>\n",
       "      <td>0.0869</td>\n",
       "      <td>17.77</td>\n",
       "    </tr>\n",
       "    <tr>\n",
       "      <th>2</th>\n",
       "      <td>M</td>\n",
       "      <td>1203.0</td>\n",
       "      <td>0.1974</td>\n",
       "      <td>21.25</td>\n",
       "    </tr>\n",
       "    <tr>\n",
       "      <th>3</th>\n",
       "      <td>M</td>\n",
       "      <td>386.1</td>\n",
       "      <td>0.2414</td>\n",
       "      <td>20.38</td>\n",
       "    </tr>\n",
       "    <tr>\n",
       "      <th>4</th>\n",
       "      <td>M</td>\n",
       "      <td>1297.0</td>\n",
       "      <td>0.1980</td>\n",
       "      <td>14.34</td>\n",
       "    </tr>\n",
       "  </tbody>\n",
       "</table>\n",
       "</div>"
      ],
      "text/plain": [
       "  diagnosis  area_mean  concavity_mean  texture_mean\n",
       "0         M     1001.0          0.3001         10.38\n",
       "1         M     1326.0          0.0869         17.77\n",
       "2         M     1203.0          0.1974         21.25\n",
       "3         M      386.1          0.2414         20.38\n",
       "4         M     1297.0          0.1980         14.34"
      ]
     },
     "execution_count": 11,
     "metadata": {},
     "output_type": "execute_result"
    }
   ],
   "source": [
    "df.head()"
   ]
  },
  {
   "cell_type": "code",
   "execution_count": 12,
   "metadata": {},
   "outputs": [],
   "source": [
    "malignant = df[df.diagnosis=='M'][['area_mean', 'concavity_mean', 'texture_mean']]\n",
    "benign = df[df.diagnosis=='B'][['area_mean', 'concavity_mean', 'texture_mean']]"
   ]
  },
  {
   "cell_type": "code",
   "execution_count": 13,
   "metadata": {
    "id": "Fj2gP-PLpZ6f"
   },
   "outputs": [
    {
     "data": {
      "text/plain": [
       "B    357\n",
       "M    212\n",
       "Name: diagnosis, dtype: int64"
      ]
     },
     "execution_count": 13,
     "metadata": {},
     "output_type": "execute_result"
    }
   ],
   "source": [
    "# Check the distribution of classes for the the diagnosis column\n",
    "df.diagnosis.value_counts()"
   ]
  },
  {
   "cell_type": "code",
   "execution_count": 4,
   "metadata": {
    "id": "ds4PBznTqbPW",
    "outputId": "039118d6-ab5e-47b3-8e9a-79a521b5ce01",
    "scrolled": true
   },
   "outputs": [
    {
     "name": "stdout",
     "output_type": "stream",
     "text": [
      "<class 'pandas.core.frame.DataFrame'>\n",
      "RangeIndex: 569 entries, 0 to 568\n",
      "Data columns (total 4 columns):\n",
      " #   Column          Non-Null Count  Dtype  \n",
      "---  ------          --------------  -----  \n",
      " 0   diagnosis       569 non-null    object \n",
      " 1   area_mean       569 non-null    float64\n",
      " 2   concavity_mean  569 non-null    float64\n",
      " 3   texture_mean    569 non-null    float64\n",
      "dtypes: float64(3), object(1)\n",
      "memory usage: 17.9+ KB\n"
     ]
    }
   ],
   "source": [
    "df.info()"
   ]
  },
  {
   "cell_type": "code",
   "execution_count": 14,
   "metadata": {},
   "outputs": [
    {
     "data": {
      "text/html": [
       "<div>\n",
       "<style scoped>\n",
       "    .dataframe tbody tr th:only-of-type {\n",
       "        vertical-align: middle;\n",
       "    }\n",
       "\n",
       "    .dataframe tbody tr th {\n",
       "        vertical-align: top;\n",
       "    }\n",
       "\n",
       "    .dataframe thead th {\n",
       "        text-align: right;\n",
       "    }\n",
       "</style>\n",
       "<table border=\"1\" class=\"dataframe\">\n",
       "  <thead>\n",
       "    <tr style=\"text-align: right;\">\n",
       "      <th></th>\n",
       "      <th>area_mean</th>\n",
       "      <th>concavity_mean</th>\n",
       "      <th>texture_mean</th>\n",
       "    </tr>\n",
       "  </thead>\n",
       "  <tbody>\n",
       "    <tr>\n",
       "      <th>0</th>\n",
       "      <td>1001.0</td>\n",
       "      <td>0.3001</td>\n",
       "      <td>10.38</td>\n",
       "    </tr>\n",
       "    <tr>\n",
       "      <th>1</th>\n",
       "      <td>1326.0</td>\n",
       "      <td>0.0869</td>\n",
       "      <td>17.77</td>\n",
       "    </tr>\n",
       "    <tr>\n",
       "      <th>2</th>\n",
       "      <td>1203.0</td>\n",
       "      <td>0.1974</td>\n",
       "      <td>21.25</td>\n",
       "    </tr>\n",
       "    <tr>\n",
       "      <th>3</th>\n",
       "      <td>386.1</td>\n",
       "      <td>0.2414</td>\n",
       "      <td>20.38</td>\n",
       "    </tr>\n",
       "    <tr>\n",
       "      <th>4</th>\n",
       "      <td>1297.0</td>\n",
       "      <td>0.1980</td>\n",
       "      <td>14.34</td>\n",
       "    </tr>\n",
       "  </tbody>\n",
       "</table>\n",
       "</div>"
      ],
      "text/plain": [
       "   area_mean  concavity_mean  texture_mean\n",
       "0     1001.0          0.3001         10.38\n",
       "1     1326.0          0.0869         17.77\n",
       "2     1203.0          0.1974         21.25\n",
       "3      386.1          0.2414         20.38\n",
       "4     1297.0          0.1980         14.34"
      ]
     },
     "execution_count": 14,
     "metadata": {},
     "output_type": "execute_result"
    }
   ],
   "source": [
    "malignant.head()"
   ]
  },
  {
   "cell_type": "markdown",
   "metadata": {
    "id": "8vrbptjVqbPa"
   },
   "source": [
    "We explore if the referenced features follow a normal distribution. We examine the skewness and kurtosis of the groups.\n",
    "\n",
    "Optional: We can run a Jarque–Bera test which tests if the data have the skewness and kurtosis matching a normal distribution.\n",
    "In the case of the Jarque–Bera test the null hypothesis would state that the skewness and kurtosis matches that of a normal distribution."
   ]
  },
  {
   "cell_type": "markdown",
   "metadata": {},
   "source": [
    "Print the skewness and kurtosis of the groups. Optionally run a Jarque–Bera\n",
    "Afterwards you can comment your findings wether the features follow a normal distribution of not."
   ]
  },
  {
   "cell_type": "markdown",
   "metadata": {},
   "source": [
    "## Distribution Normality\n",
    "\n",
    "We explore if the referenced features follow a normal distribution. We examine the skewness and kurtosis of the groups.\n",
    "\n",
    "Optional: We can run a Jarque–Bera test which tests if the data have the skewness and kurtosis matching a normal distribution. In the case of the Jarque–Bera test the null hypothesis would state that the skewness and kurtosis matches that of a normal distribution.\n",
    "\n",
    "Print the skewness and kurtosis of the groups. Optionally run a Jarque–Bera Afterwards you can comment your findings wether the features follow a normal distribution of not.\n"
   ]
  },
  {
   "cell_type": "code",
   "execution_count": 22,
   "metadata": {
    "id": "t3NzKoOcpZ9S",
    "scrolled": true
   },
   "outputs": [
    {
     "name": "stdout",
     "output_type": "stream",
     "text": [
      "M Group\n",
      "Kurtosis: [2.22384345 1.09756062 2.29519808]\n",
      "Skewness: [1.10974455 0.89523611 0.69855491]\n",
      "B Group\n",
      "Kurtosis: [ 0.28842005 20.52738898  1.18587586]\n",
      "Skewness: [0.34082567 3.45865347 0.97721571]\n"
     ]
    }
   ],
   "source": [
    "#  kurtosis and skew of malignant group\n",
    "_, _, _, _, m_skewness, m_kurtosis = stats.describe(malignant)\n",
    "print(\"M Group\")\n",
    "print(\"Kurtosis: \"+ str(m_kurtosis))\n",
    "print(\"Skewness: \"+str(m_skewness))\n",
    "\n",
    "#  kurtosis and skew of benign group\n",
    "_, _, _, _, b_skewness, b_kurtosis = stats.describe(benign)\n",
    "print(\"B Group\")\n",
    "print(\"Kurtosis: \"+ str(b_kurtosis))\n",
    "print(\"Skewness: \"+str(b_skewness))"
   ]
  },
  {
   "cell_type": "code",
   "execution_count": 28,
   "metadata": {
    "scrolled": true
   },
   "outputs": [
    {
     "name": "stdout",
     "output_type": "stream",
     "text": [
      "0.0\n",
      "0.01700036600499155\n"
     ]
    }
   ],
   "source": [
    "#  Jarqu Bera tests on area_mean\n",
    "_, mp_area_mean = stats.jarque_bera(malignant.area_mean)\n",
    "print(mp_area_mean)\n",
    "\n",
    "_, mb_area_mean = stats.jarque_bera(benign.area_mean)\n",
    "print(mb_area_mean)"
   ]
  },
  {
   "cell_type": "code",
   "execution_count": 29,
   "metadata": {},
   "outputs": [
    {
     "name": "stdout",
     "output_type": "stream",
     "text": [
      "3.469000198208505e-09\n",
      "0.0\n"
     ]
    }
   ],
   "source": [
    "#  Jarqu Bera tests on concavity_mean\n",
    "_, mp_concavity_mean = stats.jarque_bera(malignant.concavity_mean)\n",
    "print(mp_concavity_mean)\n",
    "\n",
    "_, mb_concavity_mean = stats.jarque_bera(benign.concavity_mean)\n",
    "print(mb_concavity_mean)"
   ]
  },
  {
   "cell_type": "code",
   "execution_count": 30,
   "metadata": {},
   "outputs": [
    {
     "name": "stdout",
     "output_type": "stream",
     "text": [
      "1.4210854715202004e-14\n",
      "0.0\n"
     ]
    }
   ],
   "source": [
    "#  Jarqu Bera tests on texture_mean\n",
    "_, mp_texture_mean = stats.jarque_bera(malignant.texture_mean)\n",
    "print(mp_texture_mean)\n",
    "\n",
    "_, mb_texture_mean = stats.jarque_bera(benign.texture_mean)\n",
    "print(mb_texture_mean)"
   ]
  },
  {
   "cell_type": "markdown",
   "metadata": {},
   "source": [
    "**All 3 group variables seem not to follow a normal distribution**"
   ]
  },
  {
   "cell_type": "markdown",
   "metadata": {},
   "source": [
    "## Distribution Plots"
   ]
  },
  {
   "cell_type": "markdown",
   "metadata": {},
   "source": [
    "### Plot the histograms for the distribution of each feature and for each class (malignant/benign) to visually explore wether these distributions are skewed or not."
   ]
  },
  {
   "cell_type": "code",
   "execution_count": 43,
   "metadata": {
    "id": "tG4PWBnHpZ9b"
   },
   "outputs": [
    {
     "name": "stdout",
     "output_type": "stream",
     "text": [
      "area_mean\n"
     ]
    },
    {
     "data": {
      "image/png": "[encoded data removed]",
      "text/plain": [
       "<Figure size 432x288 with 1 Axes>"
      ]
     },
     "metadata": {
      "needs_background": "light"
     },
     "output_type": "display_data"
    },
    {
     "name": "stdout",
     "output_type": "stream",
     "text": [
      "concavity_mean\n"
     ]
    },
    {
     "data": {
      "image/png": "[encoded data removed]",
      "text/plain": [
       "<Figure size 432x288 with 1 Axes>"
      ]
     },
     "metadata": {
      "needs_background": "light"
     },
     "output_type": "display_data"
    },
    {
     "name": "stdout",
     "output_type": "stream",
     "text": [
      "texture_mean\n"
     ]
    },
    {
     "data": {
      "image/png": "[encoded data removed]",
      "text/plain": [
       "<Figure size 432x288 with 1 Axes>"
      ]
     },
     "metadata": {
      "needs_background": "light"
     },
     "output_type": "display_data"
    },
    {
     "data": {
      "application/javascript": [
       "\n",
       "            setTimeout(function() {\n",
       "                var nbb_cell_id = 43;\n",
       "                var nbb_unformatted_code = \"print(\\\"area_mean\\\")\\nsns.distplot(malignant.area_mean)\\nsns.distplot(benign.area_mean)\\nplt.show()\\nprint(\\\"concavity_mean\\\")\\nsns.distplot(malignant.concavity_mean)\\nsns.distplot(benign.concavity_mean)\\nplt.show()\\nprint(\\\"texture_mean\\\")\\nsns.distplot(malignant.texture_mean)\\nsns.distplot(benign.texture_mean)\\nplt.show()\";\n",
       "                var nbb_formatted_code = \"print(\\\"area_mean\\\")\\nsns.distplot(malignant.area_mean)\\nsns.distplot(benign.area_mean)\\nplt.show()\\nprint(\\\"concavity_mean\\\")\\nsns.distplot(malignant.concavity_mean)\\nsns.distplot(benign.concavity_mean)\\nplt.show()\\nprint(\\\"texture_mean\\\")\\nsns.distplot(malignant.texture_mean)\\nsns.distplot(benign.texture_mean)\\nplt.show()\";\n",
       "                var nbb_cells = Jupyter.notebook.get_cells();\n",
       "                for (var i = 0; i < nbb_cells.length; ++i) {\n",
       "                    if (nbb_cells[i].input_prompt_number == nbb_cell_id) {\n",
       "                        if (nbb_cells[i].get_text() == nbb_unformatted_code) {\n",
       "                             nbb_cells[i].set_text(nbb_formatted_code);\n",
       "                        }\n",
       "                        break;\n",
       "                    }\n",
       "                }\n",
       "            }, 500);\n",
       "            "
      ],
      "text/plain": [
       "<IPython.core.display.Javascript object>"
      ]
     },
     "metadata": {},
     "output_type": "display_data"
    }
   ],
   "source": [
    "print(\"area_mean\")\n",
    "sns.distplot(malignant.area_mean)\n",
    "sns.distplot(benign.area_mean)\n",
    "plt.show()\n",
    "print(\"concavity_mean\")\n",
    "sns.distplot(malignant.concavity_mean)\n",
    "sns.distplot(benign.concavity_mean)\n",
    "plt.show()\n",
    "print(\"texture_mean\")\n",
    "sns.distplot(malignant.texture_mean)\n",
    "sns.distplot(benign.texture_mean)\n",
    "plt.show()"
   ]
  },
  {
   "cell_type": "markdown",
   "metadata": {},
   "source": [
    "### Run 3 Kruskal-Wallis tests, one for each group/feature and describe the results of these tests. State wether the null hypothesis will be rejected or not."
   ]
  },
  {
   "cell_type": "code",
   "execution_count": 45,
   "metadata": {
    "id": "ZN6VDIK4qbPe"
   },
   "outputs": [
    {
     "name": "stdout",
     "output_type": "stream",
     "text": [
      "area_mean_p: 1.5326695021713592e-68\n",
      "concavity_mean_p: 2.1545636238729746e-68\n",
      "texture_mean_p: 3.418605714119009e-28\n"
     ]
    },
    {
     "data": {
      "application/javascript": [
       "\n",
       "            setTimeout(function() {\n",
       "                var nbb_cell_id = 45;\n",
       "                var nbb_unformatted_code = \"#  kruskal-wallis test for m-group area_mean\\n\\n_, area_mean_p = stats.kruskal(malignant.area_mean, benign.area_mean)\\n_, concavity_mean_p = stats.kruskal(malignant.concavity_mean, benign.concavity_mean)\\n_, texture_mean_p = stats.kruskal(malignant.texture_mean, benign.texture_mean)\\nprint(\\\"area_mean_p: \\\" + str(area_mean_p))\\nprint(\\\"concavity_mean_p: \\\" + str(concavity_mean_p))\\nprint(\\\"texture_mean_p: \\\" + str(texture_mean_p))\";\n",
       "                var nbb_formatted_code = \"#  kruskal-wallis test for m-group area_mean\\n\\n_, area_mean_p = stats.kruskal(malignant.area_mean, benign.area_mean)\\n_, concavity_mean_p = stats.kruskal(malignant.concavity_mean, benign.concavity_mean)\\n_, texture_mean_p = stats.kruskal(malignant.texture_mean, benign.texture_mean)\\nprint(\\\"area_mean_p: \\\" + str(area_mean_p))\\nprint(\\\"concavity_mean_p: \\\" + str(concavity_mean_p))\\nprint(\\\"texture_mean_p: \\\" + str(texture_mean_p))\";\n",
       "                var nbb_cells = Jupyter.notebook.get_cells();\n",
       "                for (var i = 0; i < nbb_cells.length; ++i) {\n",
       "                    if (nbb_cells[i].input_prompt_number == nbb_cell_id) {\n",
       "                        if (nbb_cells[i].get_text() == nbb_unformatted_code) {\n",
       "                             nbb_cells[i].set_text(nbb_formatted_code);\n",
       "                        }\n",
       "                        break;\n",
       "                    }\n",
       "                }\n",
       "            }, 500);\n",
       "            "
      ],
      "text/plain": [
       "<IPython.core.display.Javascript object>"
      ]
     },
     "metadata": {},
     "output_type": "display_data"
    }
   ],
   "source": [
    "#  kruskal-wallis test for m-group area_mean\n",
    "\n",
    "_, area_mean_p = stats.kruskal(malignant.area_mean, benign.area_mean)\n",
    "_, concavity_mean_p = stats.kruskal(malignant.concavity_mean, benign.concavity_mean)\n",
    "_, texture_mean_p = stats.kruskal(malignant.texture_mean, benign.texture_mean)\n",
    "print(\"area_mean_p: \" + str(area_mean_p))\n",
    "print(\"concavity_mean_p: \" + str(concavity_mean_p))\n",
    "print(\"texture_mean_p: \" + str(texture_mean_p))"
   ]
  },
  {
   "cell_type": "markdown",
   "metadata": {},
   "source": [
    "**The null for all 3 features will be rejected**"
   ]
  },
  {
   "cell_type": "markdown",
   "metadata": {
    "id": "xzFd2f9cqbPi"
   },
   "source": [
    "### Afterwards create 3 boxplots: one for each feature grouped by the diagnosis class."
   ]
  },
  {
   "cell_type": "code",
   "execution_count": 51,
   "metadata": {},
   "outputs": [
    {
     "name": "stdout",
     "output_type": "stream",
     "text": [
      "area_mean\n"
     ]
    },
    {
     "data": {
      "image/png": "[encoded data removed]",
      "text/plain": [
       "<Figure size 432x288 with 1 Axes>"
      ]
     },
     "metadata": {
      "needs_background": "light"
     },
     "output_type": "display_data"
    },
    {
     "name": "stdout",
     "output_type": "stream",
     "text": [
      "concavity_mean\n"
     ]
    },
    {
     "data": {
      "image/png": "[encoded data removed]",
      "text/plain": [
       "<Figure size 432x288 with 1 Axes>"
      ]
     },
     "metadata": {
      "needs_background": "light"
     },
     "output_type": "display_data"
    },
    {
     "name": "stdout",
     "output_type": "stream",
     "text": [
      "texture_mean\n"
     ]
    },
    {
     "data": {
      "image/png": "[encoded data removed]",
      "text/plain": [
       "<Figure size 432x288 with 1 Axes>"
      ]
     },
     "metadata": {
      "needs_background": "light"
     },
     "output_type": "display_data"
    },
    {
     "data": {
      "application/javascript": [
       "\n",
       "            setTimeout(function() {\n",
       "                var nbb_cell_id = 51;\n",
       "                var nbb_unformatted_code = \"# boxplots for area_mean\\nprint(\\\"area_mean\\\")\\nsns.boxplot(x=\\\"diagnosis\\\", y=\\\"area_mean\\\", data=df)\\nplt.show()\\n\\n# boxplots for concavity_mean\\nprint(\\\"concavity_mean\\\")\\nsns.boxplot(x=\\\"diagnosis\\\", y=\\\"concavity_mean\\\", data=df)\\nplt.show()\\n\\n# boxplots for texture_mean\\nprint(\\\"texture_mean\\\")\\nsns.boxplot(x=\\\"diagnosis\\\", y=\\\"texture_mean\\\", data=df)\\nplt.show()\";\n",
       "                var nbb_formatted_code = \"# boxplots for area_mean\\nprint(\\\"area_mean\\\")\\nsns.boxplot(x=\\\"diagnosis\\\", y=\\\"area_mean\\\", data=df)\\nplt.show()\\n\\n# boxplots for concavity_mean\\nprint(\\\"concavity_mean\\\")\\nsns.boxplot(x=\\\"diagnosis\\\", y=\\\"concavity_mean\\\", data=df)\\nplt.show()\\n\\n# boxplots for texture_mean\\nprint(\\\"texture_mean\\\")\\nsns.boxplot(x=\\\"diagnosis\\\", y=\\\"texture_mean\\\", data=df)\\nplt.show()\";\n",
       "                var nbb_cells = Jupyter.notebook.get_cells();\n",
       "                for (var i = 0; i < nbb_cells.length; ++i) {\n",
       "                    if (nbb_cells[i].input_prompt_number == nbb_cell_id) {\n",
       "                        if (nbb_cells[i].get_text() == nbb_unformatted_code) {\n",
       "                             nbb_cells[i].set_text(nbb_formatted_code);\n",
       "                        }\n",
       "                        break;\n",
       "                    }\n",
       "                }\n",
       "            }, 500);\n",
       "            "
      ],
      "text/plain": [
       "<IPython.core.display.Javascript object>"
      ]
     },
     "metadata": {},
     "output_type": "display_data"
    }
   ],
   "source": [
    "# boxplots for area_mean\n",
    "print(\"area_mean\")\n",
    "sns.boxplot(x=\"diagnosis\", y=\"area_mean\", data=df)\n",
    "plt.show()\n",
    "\n",
    "# boxplots for concavity_mean\n",
    "print(\"concavity_mean\")\n",
    "sns.boxplot(x=\"diagnosis\", y=\"concavity_mean\", data=df)\n",
    "plt.show()\n",
    "\n",
    "# boxplots for texture_mean\n",
    "print(\"texture_mean\")\n",
    "sns.boxplot(x=\"diagnosis\", y=\"texture_mean\", data=df)\n",
    "plt.show()"
   ]
  },
  {
   "cell_type": "markdown",
   "metadata": {
    "id": "Inylwf3FpZ90"
   },
   "source": [
    "# Exercise 2\n",
    "\n",
    "For the following test we will use the Real GDP per capita dataset for Europe available by Eurostat from the following address https://ec.europa.eu/eurostat/web/products-datasets/-/sdg_08_10\n",
    "It contains the GDP per capita for each country (The indicator is calculated as the ratio of real GDP to the average population of a specific year.)\n",
    "We will use the years 2007, 2008 and 2009 to check if the economic crisis of 2008 affected the GDP values of europe.\n",
    "\n",
    "Dataset:\n",
    "- https://ec.europa.eu/eurostat/web/products-datasets/-/sdg_08_10\n",
    "\n",
    "\n",
    "Questions:\n",
    "\n",
    "Is there a difference in the GDP per capita between the years (2007 and 2008), (2008 and 2009)?\n",
    "- Select and apply the appropriate statistical test.\n"
   ]
  },
  {
   "cell_type": "markdown",
   "metadata": {},
   "source": [
    "## Data"
   ]
  },
  {
   "cell_type": "markdown",
   "metadata": {
    "id": "0upRAUv8pZ91"
   },
   "source": [
    "Our dataset needs some cleaning at first. We extract only the columns of interest, clean numeric columns of unwanted characters and convert these columns to numeric.\n",
    "We also remove rows that refer to collective index for many countries (\"EA19\", \"EU27\",\"EU28\") and keep individual countries."
   ]
  },
  {
   "cell_type": "code",
   "execution_count": 54,
   "metadata": {},
   "outputs": [
    {
     "data": {
      "application/javascript": [
       "\n",
       "            setTimeout(function() {\n",
       "                var nbb_cell_id = 54;\n",
       "                var nbb_unformatted_code = \"gdp = pd.read_csv(\\n    \\\"https://ec.europa.eu/eurostat/estat-navtree-portlet-prod/BulkDownloadListing?file=data/sdg_08_10.tsv.gz\\\",\\n    compression=\\\"gzip\\\",\\n    sep=r\\\"\\\\,|\\\\t\\\",\\n    usecols=[\\\"unit\\\", \\\"geo\\\\\\\\time\\\", \\\"2007 \\\", \\\"2008 \\\", \\\"2009 \\\"],\\n    engine=\\\"python\\\",\\n)\";\n",
       "                var nbb_formatted_code = \"gdp = pd.read_csv(\\n    \\\"https://ec.europa.eu/eurostat/estat-navtree-portlet-prod/BulkDownloadListing?file=data/sdg_08_10.tsv.gz\\\",\\n    compression=\\\"gzip\\\",\\n    sep=r\\\"\\\\,|\\\\t\\\",\\n    usecols=[\\\"unit\\\", \\\"geo\\\\\\\\time\\\", \\\"2007 \\\", \\\"2008 \\\", \\\"2009 \\\"],\\n    engine=\\\"python\\\",\\n)\";\n",
       "                var nbb_cells = Jupyter.notebook.get_cells();\n",
       "                for (var i = 0; i < nbb_cells.length; ++i) {\n",
       "                    if (nbb_cells[i].input_prompt_number == nbb_cell_id) {\n",
       "                        if (nbb_cells[i].get_text() == nbb_unformatted_code) {\n",
       "                             nbb_cells[i].set_text(nbb_formatted_code);\n",
       "                        }\n",
       "                        break;\n",
       "                    }\n",
       "                }\n",
       "            }, 500);\n",
       "            "
      ],
      "text/plain": [
       "<IPython.core.display.Javascript object>"
      ]
     },
     "metadata": {},
     "output_type": "display_data"
    },
    {
     "data": {
      "application/javascript": [
       "\n",
       "            setTimeout(function() {\n",
       "                var nbb_cell_id = 54;\n",
       "                var nbb_unformatted_code = \"gdp = pd.read_csv(\\n    \\\"https://ec.europa.eu/eurostat/estat-navtree-portlet-prod/BulkDownloadListing?file=data/sdg_08_10.tsv.gz\\\",\\n    compression=\\\"gzip\\\",\\n    sep=r\\\"\\\\,|\\\\t\\\",\\n    usecols=[\\\"unit\\\", \\\"geo\\\\\\\\time\\\", \\\"2007 \\\", \\\"2008 \\\", \\\"2009 \\\"],\\n    engine=\\\"python\\\",\\n)\";\n",
       "                var nbb_formatted_code = \"gdp = pd.read_csv(\\n    \\\"https://ec.europa.eu/eurostat/estat-navtree-portlet-prod/BulkDownloadListing?file=data/sdg_08_10.tsv.gz\\\",\\n    compression=\\\"gzip\\\",\\n    sep=r\\\"\\\\,|\\\\t\\\",\\n    usecols=[\\\"unit\\\", \\\"geo\\\\\\\\time\\\", \\\"2007 \\\", \\\"2008 \\\", \\\"2009 \\\"],\\n    engine=\\\"python\\\",\\n)\";\n",
       "                var nbb_cells = Jupyter.notebook.get_cells();\n",
       "                for (var i = 0; i < nbb_cells.length; ++i) {\n",
       "                    if (nbb_cells[i].input_prompt_number == nbb_cell_id) {\n",
       "                        if (nbb_cells[i].get_text() == nbb_unformatted_code) {\n",
       "                             nbb_cells[i].set_text(nbb_formatted_code);\n",
       "                        }\n",
       "                        break;\n",
       "                    }\n",
       "                }\n",
       "            }, 500);\n",
       "            "
      ],
      "text/plain": [
       "<IPython.core.display.Javascript object>"
      ]
     },
     "metadata": {},
     "output_type": "display_data"
    }
   ],
   "source": [
    "gdp = pd.read_csv(\n",
    "    \"https://ec.europa.eu/eurostat/estat-navtree-portlet-prod/BulkDownloadListing?file=data/sdg_08_10.tsv.gz\",\n",
    "    compression=\"gzip\",\n",
    "    sep=r\"\\,|\\t\",\n",
    "    usecols=[\"unit\", \"geo\\\\time\", \"2007 \", \"2008 \", \"2009 \"],\n",
    "    engine=\"python\",\n",
    ")"
   ]
  },
  {
   "cell_type": "code",
   "execution_count": 58,
   "metadata": {},
   "outputs": [
    {
     "name": "stdout",
     "output_type": "stream",
     "text": [
      "<class 'pandas.core.frame.DataFrame'>\n",
      "RangeIndex: 76 entries, 0 to 75\n",
      "Data columns (total 5 columns):\n",
      " #   Column    Non-Null Count  Dtype \n",
      "---  ------    --------------  ----- \n",
      " 0   unit      76 non-null     object\n",
      " 1   geo\\time  76 non-null     object\n",
      " 2   2007      76 non-null     object\n",
      " 3   2008      76 non-null     object\n",
      " 4   2009      76 non-null     object\n",
      "dtypes: object(5)\n",
      "memory usage: 3.1+ KB\n"
     ]
    },
    {
     "data": {
      "application/javascript": [
       "\n",
       "            setTimeout(function() {\n",
       "                var nbb_cell_id = 58;\n",
       "                var nbb_unformatted_code = \"gdp.head(25)\\ngdp.info()\";\n",
       "                var nbb_formatted_code = \"gdp.head(25)\\ngdp.info()\";\n",
       "                var nbb_cells = Jupyter.notebook.get_cells();\n",
       "                for (var i = 0; i < nbb_cells.length; ++i) {\n",
       "                    if (nbb_cells[i].input_prompt_number == nbb_cell_id) {\n",
       "                        if (nbb_cells[i].get_text() == nbb_unformatted_code) {\n",
       "                             nbb_cells[i].set_text(nbb_formatted_code);\n",
       "                        }\n",
       "                        break;\n",
       "                    }\n",
       "                }\n",
       "            }, 500);\n",
       "            "
      ],
      "text/plain": [
       "<IPython.core.display.Javascript object>"
      ]
     },
     "metadata": {},
     "output_type": "display_data"
    },
    {
     "data": {
      "application/javascript": [
       "\n",
       "            setTimeout(function() {\n",
       "                var nbb_cell_id = 58;\n",
       "                var nbb_unformatted_code = \"gdp.head(25)\\ngdp.info()\";\n",
       "                var nbb_formatted_code = \"gdp.head(25)\\ngdp.info()\";\n",
       "                var nbb_cells = Jupyter.notebook.get_cells();\n",
       "                for (var i = 0; i < nbb_cells.length; ++i) {\n",
       "                    if (nbb_cells[i].input_prompt_number == nbb_cell_id) {\n",
       "                        if (nbb_cells[i].get_text() == nbb_unformatted_code) {\n",
       "                             nbb_cells[i].set_text(nbb_formatted_code);\n",
       "                        }\n",
       "                        break;\n",
       "                    }\n",
       "                }\n",
       "            }, 500);\n",
       "            "
      ],
      "text/plain": [
       "<IPython.core.display.Javascript object>"
      ]
     },
     "metadata": {},
     "output_type": "display_data"
    }
   ],
   "source": [
    "gdp.head(25)\n",
    "gdp.info()"
   ]
  },
  {
   "cell_type": "code",
   "execution_count": 59,
   "metadata": {
    "id": "l5rZdCUypZ95",
    "outputId": "c0c2c278-dcdb-476e-87fa-3375dc186f99"
   },
   "outputs": [
    {
     "data": {
      "text/html": [
       "<div>\n",
       "<style scoped>\n",
       "    .dataframe tbody tr th:only-of-type {\n",
       "        vertical-align: middle;\n",
       "    }\n",
       "\n",
       "    .dataframe tbody tr th {\n",
       "        vertical-align: top;\n",
       "    }\n",
       "\n",
       "    .dataframe thead th {\n",
       "        text-align: right;\n",
       "    }\n",
       "</style>\n",
       "<table border=\"1\" class=\"dataframe\">\n",
       "  <thead>\n",
       "    <tr style=\"text-align: right;\">\n",
       "      <th></th>\n",
       "      <th>country</th>\n",
       "      <th>2007</th>\n",
       "      <th>2008</th>\n",
       "      <th>2009</th>\n",
       "    </tr>\n",
       "  </thead>\n",
       "  <tbody>\n",
       "    <tr>\n",
       "      <th>0</th>\n",
       "      <td>AT</td>\n",
       "      <td>35870</td>\n",
       "      <td>36280</td>\n",
       "      <td>34830</td>\n",
       "    </tr>\n",
       "    <tr>\n",
       "      <th>1</th>\n",
       "      <td>BE</td>\n",
       "      <td>33760</td>\n",
       "      <td>33640</td>\n",
       "      <td>32700</td>\n",
       "    </tr>\n",
       "    <tr>\n",
       "      <th>2</th>\n",
       "      <td>BG</td>\n",
       "      <td>4820</td>\n",
       "      <td>5140</td>\n",
       "      <td>4990</td>\n",
       "    </tr>\n",
       "    <tr>\n",
       "      <th>3</th>\n",
       "      <td>CH</td>\n",
       "      <td>57720</td>\n",
       "      <td>58620</td>\n",
       "      <td>56750</td>\n",
       "    </tr>\n",
       "    <tr>\n",
       "      <th>4</th>\n",
       "      <td>CY</td>\n",
       "      <td>24420</td>\n",
       "      <td>24680</td>\n",
       "      <td>23550</td>\n",
       "    </tr>\n",
       "  </tbody>\n",
       "</table>\n",
       "</div>"
      ],
      "text/plain": [
       "  country   2007   2008   2009\n",
       "0      AT  35870  36280  34830\n",
       "1      BE  33760  33640  32700\n",
       "2      BG   4820   5140   4990\n",
       "3      CH  57720  58620  56750\n",
       "4      CY  24420  24680  23550"
      ]
     },
     "execution_count": 59,
     "metadata": {},
     "output_type": "execute_result"
    },
    {
     "data": {
      "application/javascript": [
       "\n",
       "            setTimeout(function() {\n",
       "                var nbb_cell_id = 59;\n",
       "                var nbb_unformatted_code = \"gdp = gdp[gdp.unit == \\\"CLV10_EUR_HAB\\\"].drop([\\\"unit\\\"], axis=1)\\ngdp.columns = [\\\"country\\\", \\\"2007\\\", \\\"2008\\\", \\\"2009\\\"]\\ngdp = gdp[~gdp.country.isin([\\\"EA19\\\", \\\"EU27\\\", \\\"EU28\\\"])]\\ngdp[\\\"2007\\\"] = gdp[\\\"2007\\\"].str.extract(\\\"(\\\\d+)\\\", expand=False).astype(int)\\ngdp[\\\"2008\\\"] = gdp[\\\"2008\\\"].str.extract(\\\"(\\\\d+)\\\", expand=False).astype(int)\\ngdp[\\\"2009\\\"] = gdp[\\\"2009\\\"].str.extract(\\\"(\\\\d+)\\\", expand=False).astype(int)\\ngdp.head()\";\n",
       "                var nbb_formatted_code = \"gdp = gdp[gdp.unit == \\\"CLV10_EUR_HAB\\\"].drop([\\\"unit\\\"], axis=1)\\ngdp.columns = [\\\"country\\\", \\\"2007\\\", \\\"2008\\\", \\\"2009\\\"]\\ngdp = gdp[~gdp.country.isin([\\\"EA19\\\", \\\"EU27\\\", \\\"EU28\\\"])]\\ngdp[\\\"2007\\\"] = gdp[\\\"2007\\\"].str.extract(\\\"(\\\\d+)\\\", expand=False).astype(int)\\ngdp[\\\"2008\\\"] = gdp[\\\"2008\\\"].str.extract(\\\"(\\\\d+)\\\", expand=False).astype(int)\\ngdp[\\\"2009\\\"] = gdp[\\\"2009\\\"].str.extract(\\\"(\\\\d+)\\\", expand=False).astype(int)\\ngdp.head()\";\n",
       "                var nbb_cells = Jupyter.notebook.get_cells();\n",
       "                for (var i = 0; i < nbb_cells.length; ++i) {\n",
       "                    if (nbb_cells[i].input_prompt_number == nbb_cell_id) {\n",
       "                        if (nbb_cells[i].get_text() == nbb_unformatted_code) {\n",
       "                             nbb_cells[i].set_text(nbb_formatted_code);\n",
       "                        }\n",
       "                        break;\n",
       "                    }\n",
       "                }\n",
       "            }, 500);\n",
       "            "
      ],
      "text/plain": [
       "<IPython.core.display.Javascript object>"
      ]
     },
     "metadata": {},
     "output_type": "display_data"
    },
    {
     "data": {
      "application/javascript": [
       "\n",
       "            setTimeout(function() {\n",
       "                var nbb_cell_id = 59;\n",
       "                var nbb_unformatted_code = \"gdp = gdp[gdp.unit == \\\"CLV10_EUR_HAB\\\"].drop([\\\"unit\\\"], axis=1)\\ngdp.columns = [\\\"country\\\", \\\"2007\\\", \\\"2008\\\", \\\"2009\\\"]\\ngdp = gdp[~gdp.country.isin([\\\"EA19\\\", \\\"EU27\\\", \\\"EU28\\\"])]\\ngdp[\\\"2007\\\"] = gdp[\\\"2007\\\"].str.extract(\\\"(\\\\d+)\\\", expand=False).astype(int)\\ngdp[\\\"2008\\\"] = gdp[\\\"2008\\\"].str.extract(\\\"(\\\\d+)\\\", expand=False).astype(int)\\ngdp[\\\"2009\\\"] = gdp[\\\"2009\\\"].str.extract(\\\"(\\\\d+)\\\", expand=False).astype(int)\\ngdp.head()\";\n",
       "                var nbb_formatted_code = \"gdp = gdp[gdp.unit == \\\"CLV10_EUR_HAB\\\"].drop([\\\"unit\\\"], axis=1)\\ngdp.columns = [\\\"country\\\", \\\"2007\\\", \\\"2008\\\", \\\"2009\\\"]\\ngdp = gdp[~gdp.country.isin([\\\"EA19\\\", \\\"EU27\\\", \\\"EU28\\\"])]\\ngdp[\\\"2007\\\"] = gdp[\\\"2007\\\"].str.extract(\\\"(\\\\d+)\\\", expand=False).astype(int)\\ngdp[\\\"2008\\\"] = gdp[\\\"2008\\\"].str.extract(\\\"(\\\\d+)\\\", expand=False).astype(int)\\ngdp[\\\"2009\\\"] = gdp[\\\"2009\\\"].str.extract(\\\"(\\\\d+)\\\", expand=False).astype(int)\\ngdp.head()\";\n",
       "                var nbb_cells = Jupyter.notebook.get_cells();\n",
       "                for (var i = 0; i < nbb_cells.length; ++i) {\n",
       "                    if (nbb_cells[i].input_prompt_number == nbb_cell_id) {\n",
       "                        if (nbb_cells[i].get_text() == nbb_unformatted_code) {\n",
       "                             nbb_cells[i].set_text(nbb_formatted_code);\n",
       "                        }\n",
       "                        break;\n",
       "                    }\n",
       "                }\n",
       "            }, 500);\n",
       "            "
      ],
      "text/plain": [
       "<IPython.core.display.Javascript object>"
      ]
     },
     "metadata": {},
     "output_type": "display_data"
    }
   ],
   "source": [
    "gdp = gdp[gdp.unit == \"CLV10_EUR_HAB\"].drop([\"unit\"], axis=1)\n",
    "gdp.columns = [\"country\", \"2007\", \"2008\", \"2009\"]\n",
    "gdp = gdp[~gdp.country.isin([\"EA19\", \"EU27\", \"EU28\"])]\n",
    "gdp[\"2007\"] = gdp[\"2007\"].str.extract(\"(\\d+)\", expand=False).astype(int)\n",
    "gdp[\"2008\"] = gdp[\"2008\"].str.extract(\"(\\d+)\", expand=False).astype(int)\n",
    "gdp[\"2009\"] = gdp[\"2009\"].str.extract(\"(\\d+)\", expand=False).astype(int)\n",
    "gdp.head()"
   ]
  },
  {
   "cell_type": "code",
   "execution_count": null,
   "metadata": {
    "id": "Ico5D7xopZ-C",
    "outputId": "20d3d8dc-47e4-49b2-dbea-934ae0ab9293"
   },
   "outputs": [
    {
     "data": {
      "text/html": [
       "<div>\n",
       "<style scoped>\n",
       "    .dataframe tbody tr th:only-of-type {\n",
       "        vertical-align: middle;\n",
       "    }\n",
       "\n",
       "    .dataframe tbody tr th {\n",
       "        vertical-align: top;\n",
       "    }\n",
       "\n",
       "    .dataframe thead th {\n",
       "        text-align: right;\n",
       "    }\n",
       "</style>\n",
       "<table border=\"1\" class=\"dataframe\">\n",
       "  <thead>\n",
       "    <tr style=\"text-align: right;\">\n",
       "      <th></th>\n",
       "      <th>2007</th>\n",
       "      <th>2008</th>\n",
       "      <th>2009</th>\n",
       "    </tr>\n",
       "  </thead>\n",
       "  <tbody>\n",
       "    <tr>\n",
       "      <th>count</th>\n",
       "      <td>36.000000</td>\n",
       "      <td>36.000000</td>\n",
       "      <td>36.000000</td>\n",
       "    </tr>\n",
       "    <tr>\n",
       "      <th>mean</th>\n",
       "      <td>25373.333333</td>\n",
       "      <td>25318.611111</td>\n",
       "      <td>24006.666667</td>\n",
       "    </tr>\n",
       "    <tr>\n",
       "      <th>std</th>\n",
       "      <td>18766.614886</td>\n",
       "      <td>18370.088600</td>\n",
       "      <td>17547.584286</td>\n",
       "    </tr>\n",
       "    <tr>\n",
       "      <th>min</th>\n",
       "      <td>3200.000000</td>\n",
       "      <td>3370.000000</td>\n",
       "      <td>3350.000000</td>\n",
       "    </tr>\n",
       "    <tr>\n",
       "      <th>25%</th>\n",
       "      <td>10332.500000</td>\n",
       "      <td>10402.500000</td>\n",
       "      <td>9625.000000</td>\n",
       "    </tr>\n",
       "    <tr>\n",
       "      <th>50%</th>\n",
       "      <td>23535.000000</td>\n",
       "      <td>23380.000000</td>\n",
       "      <td>22315.000000</td>\n",
       "    </tr>\n",
       "    <tr>\n",
       "      <th>75%</th>\n",
       "      <td>35937.500000</td>\n",
       "      <td>36025.000000</td>\n",
       "      <td>33677.500000</td>\n",
       "    </tr>\n",
       "    <tr>\n",
       "      <th>max</th>\n",
       "      <td>84420.000000</td>\n",
       "      <td>81880.000000</td>\n",
       "      <td>76900.000000</td>\n",
       "    </tr>\n",
       "  </tbody>\n",
       "</table>\n",
       "</div>"
      ],
      "text/plain": [
       "               2007          2008          2009\n",
       "count     36.000000     36.000000     36.000000\n",
       "mean   25373.333333  25318.611111  24006.666667\n",
       "std    18766.614886  18370.088600  17547.584286\n",
       "min     3200.000000   3370.000000   3350.000000\n",
       "25%    10332.500000  10402.500000   9625.000000\n",
       "50%    23535.000000  23380.000000  22315.000000\n",
       "75%    35937.500000  36025.000000  33677.500000\n",
       "max    84420.000000  81880.000000  76900.000000"
      ]
     },
     "execution_count": 10,
     "metadata": {
      "tags": []
     },
     "output_type": "execute_result"
    }
   ],
   "source": [
    "gdp.describe()"
   ]
  },
  {
   "cell_type": "markdown",
   "metadata": {
    "id": "J2UF2nhupZ-I"
   },
   "source": [
    "Data that refer to economic indices usually do not follow a normal distribution, something we can easily observe by visualizing the data below, hence we should use non parametric tests."
   ]
  },
  {
   "cell_type": "markdown",
   "metadata": {},
   "source": [
    "## Distribution plots"
   ]
  },
  {
   "cell_type": "code",
   "execution_count": 61,
   "metadata": {
    "id": "g1POB8XKpZ-J"
   },
   "outputs": [
    {
     "data": {
      "image/png": "[encoded data removed]",
      "text/plain": [
       "<Figure size 432x288 with 1 Axes>"
      ]
     },
     "metadata": {
      "needs_background": "light"
     },
     "output_type": "display_data"
    },
    {
     "data": {
      "application/javascript": [
       "\n",
       "            setTimeout(function() {\n",
       "                var nbb_cell_id = 61;\n",
       "                var nbb_unformatted_code = \"# histogram for the values of each year.\\nsns.distplot(gdp[\\\"2007\\\"])\\nsns.distplot(gdp[\\\"2008\\\"])\\nsns.distplot(gdp[\\\"2009\\\"])\\nplt.show()\";\n",
       "                var nbb_formatted_code = \"# histogram for the values of each year.\\nsns.distplot(gdp[\\\"2007\\\"])\\nsns.distplot(gdp[\\\"2008\\\"])\\nsns.distplot(gdp[\\\"2009\\\"])\\nplt.show()\";\n",
       "                var nbb_cells = Jupyter.notebook.get_cells();\n",
       "                for (var i = 0; i < nbb_cells.length; ++i) {\n",
       "                    if (nbb_cells[i].input_prompt_number == nbb_cell_id) {\n",
       "                        if (nbb_cells[i].get_text() == nbb_unformatted_code) {\n",
       "                             nbb_cells[i].set_text(nbb_formatted_code);\n",
       "                        }\n",
       "                        break;\n",
       "                    }\n",
       "                }\n",
       "            }, 500);\n",
       "            "
      ],
      "text/plain": [
       "<IPython.core.display.Javascript object>"
      ]
     },
     "metadata": {},
     "output_type": "display_data"
    },
    {
     "data": {
      "application/javascript": [
       "\n",
       "            setTimeout(function() {\n",
       "                var nbb_cell_id = 61;\n",
       "                var nbb_unformatted_code = \"# histogram for the values of each year.\\nsns.distplot(gdp[\\\"2007\\\"])\\nsns.distplot(gdp[\\\"2008\\\"])\\nsns.distplot(gdp[\\\"2009\\\"])\\nplt.show()\";\n",
       "                var nbb_formatted_code = \"# histogram for the values of each year.\\nsns.distplot(gdp[\\\"2007\\\"])\\nsns.distplot(gdp[\\\"2008\\\"])\\nsns.distplot(gdp[\\\"2009\\\"])\\nplt.show()\";\n",
       "                var nbb_cells = Jupyter.notebook.get_cells();\n",
       "                for (var i = 0; i < nbb_cells.length; ++i) {\n",
       "                    if (nbb_cells[i].input_prompt_number == nbb_cell_id) {\n",
       "                        if (nbb_cells[i].get_text() == nbb_unformatted_code) {\n",
       "                             nbb_cells[i].set_text(nbb_formatted_code);\n",
       "                        }\n",
       "                        break;\n",
       "                    }\n",
       "                }\n",
       "            }, 500);\n",
       "            "
      ],
      "text/plain": [
       "<IPython.core.display.Javascript object>"
      ]
     },
     "metadata": {},
     "output_type": "display_data"
    }
   ],
   "source": [
    "# histogram for the values of each year.\n",
    "sns.distplot(gdp[\"2007\"])\n",
    "sns.distplot(gdp[\"2008\"])\n",
    "sns.distplot(gdp[\"2009\"])\n",
    "plt.show()"
   ]
  },
  {
   "cell_type": "markdown",
   "metadata": {},
   "source": [
    "## Wilcoxon Signed-rank Test"
   ]
  },
  {
   "cell_type": "markdown",
   "metadata": {
    "id": "dKkvGqUspZ-U"
   },
   "source": [
    "We will run a Wilcoxon Signed-rank Test, which should be run on paired samples or repeated measurements on a single sample. In our case we have repeated measurements (three years) of GDP for the same countries."
   ]
  },
  {
   "cell_type": "markdown",
   "metadata": {
    "id": "Geu7s-ubpZ-U"
   },
   "source": [
    "The null hypothesis for this test is that the medians of two samples are equal.\n",
    "First we compare 2007 with 2008 values:"
   ]
  },
  {
   "cell_type": "code",
   "execution_count": 65,
   "metadata": {
    "id": "EExsdc-KpZ-V"
   },
   "outputs": [
    {
     "name": "stdout",
     "output_type": "stream",
     "text": [
      "0.39180684742166216\n",
      "Reject null hypothesis: False\n"
     ]
    },
    {
     "data": {
      "application/javascript": [
       "\n",
       "            setTimeout(function() {\n",
       "                var nbb_cell_id = 65;\n",
       "                var nbb_unformatted_code = \"# Wilcoxon Signed-rank test for years (groups) 2007 and 2008 and describe the results of the test.\\n_, p = stats.wilcoxon(gdp[\\\"2007\\\"], gdp[\\\"2008\\\"])\\nprint(p)\\nprint(\\\"Reject null hypothesis: \\\" + str(p < 0.05))\";\n",
       "                var nbb_formatted_code = \"# Wilcoxon Signed-rank test for years (groups) 2007 and 2008 and describe the results of the test.\\n_, p = stats.wilcoxon(gdp[\\\"2007\\\"], gdp[\\\"2008\\\"])\\nprint(p)\\nprint(\\\"Reject null hypothesis: \\\" + str(p < 0.05))\";\n",
       "                var nbb_cells = Jupyter.notebook.get_cells();\n",
       "                for (var i = 0; i < nbb_cells.length; ++i) {\n",
       "                    if (nbb_cells[i].input_prompt_number == nbb_cell_id) {\n",
       "                        if (nbb_cells[i].get_text() == nbb_unformatted_code) {\n",
       "                             nbb_cells[i].set_text(nbb_formatted_code);\n",
       "                        }\n",
       "                        break;\n",
       "                    }\n",
       "                }\n",
       "            }, 500);\n",
       "            "
      ],
      "text/plain": [
       "<IPython.core.display.Javascript object>"
      ]
     },
     "metadata": {},
     "output_type": "display_data"
    },
    {
     "data": {
      "application/javascript": [
       "\n",
       "            setTimeout(function() {\n",
       "                var nbb_cell_id = 65;\n",
       "                var nbb_unformatted_code = \"# Wilcoxon Signed-rank test for years (groups) 2007 and 2008 and describe the results of the test.\\n_, p = stats.wilcoxon(gdp[\\\"2007\\\"], gdp[\\\"2008\\\"])\\nprint(p)\\nprint(\\\"Reject null hypothesis: \\\" + str(p < 0.05))\";\n",
       "                var nbb_formatted_code = \"# Wilcoxon Signed-rank test for years (groups) 2007 and 2008 and describe the results of the test.\\n_, p = stats.wilcoxon(gdp[\\\"2007\\\"], gdp[\\\"2008\\\"])\\nprint(p)\\nprint(\\\"Reject null hypothesis: \\\" + str(p < 0.05))\";\n",
       "                var nbb_cells = Jupyter.notebook.get_cells();\n",
       "                for (var i = 0; i < nbb_cells.length; ++i) {\n",
       "                    if (nbb_cells[i].input_prompt_number == nbb_cell_id) {\n",
       "                        if (nbb_cells[i].get_text() == nbb_unformatted_code) {\n",
       "                             nbb_cells[i].set_text(nbb_formatted_code);\n",
       "                        }\n",
       "                        break;\n",
       "                    }\n",
       "                }\n",
       "            }, 500);\n",
       "            "
      ],
      "text/plain": [
       "<IPython.core.display.Javascript object>"
      ]
     },
     "metadata": {},
     "output_type": "display_data"
    }
   ],
   "source": [
    "# Wilcoxon Signed-rank test for years (groups) 2007 and 2008 and describe the results of the test.\n",
    "_, p = stats.wilcoxon(gdp[\"2007\"], gdp[\"2008\"])\n",
    "print(p)\n",
    "print(\"Reject null hypothesis: \" + str(p < 0.05))"
   ]
  },
  {
   "cell_type": "markdown",
   "metadata": {},
   "source": [
    "Failed to reject the null hypothesis that the sample medians are equal."
   ]
  },
  {
   "cell_type": "code",
   "execution_count": 66,
   "metadata": {
    "id": "FMOql4vZpZ-b"
   },
   "outputs": [
    {
     "name": "stdout",
     "output_type": "stream",
     "text": [
      "2.356281382362627e-07\n",
      "Reject null hypothesis: True\n"
     ]
    },
    {
     "data": {
      "application/javascript": [
       "\n",
       "            setTimeout(function() {\n",
       "                var nbb_cell_id = 66;\n",
       "                var nbb_unformatted_code = \"# Run a Wilcoxon Signed-rank Test for years (groups) 2008 and 2009 and describe the results of the test.\\n_, p = stats.wilcoxon(gdp[\\\"2008\\\"], gdp[\\\"2009\\\"])\\nprint(p)\\nprint(\\\"Reject null hypothesis: \\\" + str(p < 0.05))\";\n",
       "                var nbb_formatted_code = \"# Run a Wilcoxon Signed-rank Test for years (groups) 2008 and 2009 and describe the results of the test.\\n_, p = stats.wilcoxon(gdp[\\\"2008\\\"], gdp[\\\"2009\\\"])\\nprint(p)\\nprint(\\\"Reject null hypothesis: \\\" + str(p < 0.05))\";\n",
       "                var nbb_cells = Jupyter.notebook.get_cells();\n",
       "                for (var i = 0; i < nbb_cells.length; ++i) {\n",
       "                    if (nbb_cells[i].input_prompt_number == nbb_cell_id) {\n",
       "                        if (nbb_cells[i].get_text() == nbb_unformatted_code) {\n",
       "                             nbb_cells[i].set_text(nbb_formatted_code);\n",
       "                        }\n",
       "                        break;\n",
       "                    }\n",
       "                }\n",
       "            }, 500);\n",
       "            "
      ],
      "text/plain": [
       "<IPython.core.display.Javascript object>"
      ]
     },
     "metadata": {},
     "output_type": "display_data"
    },
    {
     "data": {
      "application/javascript": [
       "\n",
       "            setTimeout(function() {\n",
       "                var nbb_cell_id = 66;\n",
       "                var nbb_unformatted_code = \"# Run a Wilcoxon Signed-rank Test for years (groups) 2008 and 2009 and describe the results of the test.\\n_, p = stats.wilcoxon(gdp[\\\"2008\\\"], gdp[\\\"2009\\\"])\\nprint(p)\\nprint(\\\"Reject null hypothesis: \\\" + str(p < 0.05))\";\n",
       "                var nbb_formatted_code = \"# Run a Wilcoxon Signed-rank Test for years (groups) 2008 and 2009 and describe the results of the test.\\n_, p = stats.wilcoxon(gdp[\\\"2008\\\"], gdp[\\\"2009\\\"])\\nprint(p)\\nprint(\\\"Reject null hypothesis: \\\" + str(p < 0.05))\";\n",
       "                var nbb_cells = Jupyter.notebook.get_cells();\n",
       "                for (var i = 0; i < nbb_cells.length; ++i) {\n",
       "                    if (nbb_cells[i].input_prompt_number == nbb_cell_id) {\n",
       "                        if (nbb_cells[i].get_text() == nbb_unformatted_code) {\n",
       "                             nbb_cells[i].set_text(nbb_formatted_code);\n",
       "                        }\n",
       "                        break;\n",
       "                    }\n",
       "                }\n",
       "            }, 500);\n",
       "            "
      ],
      "text/plain": [
       "<IPython.core.display.Javascript object>"
      ]
     },
     "metadata": {},
     "output_type": "display_data"
    }
   ],
   "source": [
    "# Run a Wilcoxon Signed-rank Test for years (groups) 2008 and 2009 and describe the results of the test.\n",
    "_, p = stats.wilcoxon(gdp[\"2008\"], gdp[\"2009\"])\n",
    "print(p)\n",
    "print(\"Reject null hypothesis: \" + str(p < 0.05))"
   ]
  },
  {
   "cell_type": "markdown",
   "metadata": {},
   "source": [
    "Reject null hypothesis that the sample medians are equal."
   ]
  }
 ],
 "metadata": {
  "colab": {
   "name": "Day 13 Lecture 2 Assignment.ipynb",
   "provenance": []
  },
  "kernelspec": {
   "display_name": "Python 3",
   "language": "python",
   "name": "python3"
  },
  "language_info": {
   "codemirror_mode": {
    "name": "ipython",
    "version": 3
   },
   "file_extension": ".py",
   "mimetype": "text/x-python",
   "name": "python",
   "nbconvert_exporter": "python",
   "pygments_lexer": "ipython3",
   "version": "3.8.3"
  },
  "latex_envs": {
   "LaTeX_envs_menu_present": true,
   "autoclose": false,
   "autocomplete": true,
   "bibliofile": "biblio.bib",
   "cite_by": "apalike",
   "current_citInitial": 1,
   "eqLabelWithNumbers": true,
   "eqNumInitial": 1,
   "hotkeys": {
    "equation": "Ctrl-E",
    "itemize": "Ctrl-I"
   },
   "labels_anchors": false,
   "latex_user_defs": false,
   "report_style_numbering": false,
   "user_envs_cfg": false
  },
  "toc": {
   "base_numbering": 1,
   "nav_menu": {},
   "number_sections": true,
   "sideBar": true,
   "skip_h1_title": false,
   "title_cell": "Table of Contents",
   "title_sidebar": "Contents",
   "toc_cell": false,
   "toc_position": {},
   "toc_section_display": true,
   "toc_window_display": true
  }
 },
 "nbformat": 4,
 "nbformat_minor": 1
}
