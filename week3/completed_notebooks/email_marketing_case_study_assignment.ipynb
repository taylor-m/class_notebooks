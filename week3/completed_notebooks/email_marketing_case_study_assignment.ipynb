{
 "cells": [
  {
   "cell_type": "code",
   "execution_count": 10,
   "metadata": {},
   "outputs": [
    {
     "data": {
      "application/javascript": [
       "\n",
       "            setTimeout(function() {\n",
       "                var nbb_cell_id = 10;\n",
       "                var nbb_unformatted_code = \"%reload_ext nb_black\\n%matplotlib inline\\nimport pandas as pd\\nimport numpy as np\\nimport seaborn as sns\\nfrom matplotlib import pyplot as plt\\nfrom scipy import stats\\nfrom statsmodels.stats.power import TTestIndPower\";\n",
       "                var nbb_formatted_code = \"%reload_ext nb_black\\n%matplotlib inline\\nimport pandas as pd\\nimport numpy as np\\nimport seaborn as sns\\nfrom matplotlib import pyplot as plt\\nfrom scipy import stats\\nfrom statsmodels.stats.power import TTestIndPower\";\n",
       "                var nbb_cells = Jupyter.notebook.get_cells();\n",
       "                for (var i = 0; i < nbb_cells.length; ++i) {\n",
       "                    if (nbb_cells[i].input_prompt_number == nbb_cell_id) {\n",
       "                        if (nbb_cells[i].get_text() == nbb_unformatted_code) {\n",
       "                             nbb_cells[i].set_text(nbb_formatted_code);\n",
       "                        }\n",
       "                        break;\n",
       "                    }\n",
       "                }\n",
       "            }, 500);\n",
       "            "
      ],
      "text/plain": [
       "<IPython.core.display.Javascript object>"
      ]
     },
     "metadata": {},
     "output_type": "display_data"
    },
    {
     "data": {
      "application/javascript": [
       "\n",
       "            setTimeout(function() {\n",
       "                var nbb_cell_id = 10;\n",
       "                var nbb_unformatted_code = \"%reload_ext nb_black\\n%matplotlib inline\\nimport pandas as pd\\nimport numpy as np\\nimport seaborn as sns\\nfrom matplotlib import pyplot as plt\\nfrom scipy import stats\\nfrom statsmodels.stats.power import TTestIndPower\";\n",
       "                var nbb_formatted_code = \"%reload_ext nb_black\\n%matplotlib inline\\nimport pandas as pd\\nimport numpy as np\\nimport seaborn as sns\\nfrom matplotlib import pyplot as plt\\nfrom scipy import stats\\nfrom statsmodels.stats.power import TTestIndPower\";\n",
       "                var nbb_cells = Jupyter.notebook.get_cells();\n",
       "                for (var i = 0; i < nbb_cells.length; ++i) {\n",
       "                    if (nbb_cells[i].input_prompt_number == nbb_cell_id) {\n",
       "                        if (nbb_cells[i].get_text() == nbb_unformatted_code) {\n",
       "                             nbb_cells[i].set_text(nbb_formatted_code);\n",
       "                        }\n",
       "                        break;\n",
       "                    }\n",
       "                }\n",
       "            }, 500);\n",
       "            "
      ],
      "text/plain": [
       "<IPython.core.display.Javascript object>"
      ]
     },
     "metadata": {},
     "output_type": "display_data"
    }
   ],
   "source": [
    "%reload_ext nb_black\n",
    "%matplotlib inline\n",
    "import pandas as pd\n",
    "import numpy as np\n",
    "import seaborn as sns\n",
    "from matplotlib import pyplot as plt\n",
    "from scipy import stats\n",
    "from statsmodels.stats.power import TTestIndPower"
   ]
  },
  {
   "cell_type": "code",
   "execution_count": 3,
   "metadata": {
    "scrolled": false
   },
   "outputs": [
    {
     "data": {
      "text/html": [
       "<div>\n",
       "<style scoped>\n",
       "    .dataframe tbody tr th:only-of-type {\n",
       "        vertical-align: middle;\n",
       "    }\n",
       "\n",
       "    .dataframe tbody tr th {\n",
       "        vertical-align: top;\n",
       "    }\n",
       "\n",
       "    .dataframe thead th {\n",
       "        text-align: right;\n",
       "    }\n",
       "</style>\n",
       "<table border=\"1\" class=\"dataframe\">\n",
       "  <thead>\n",
       "    <tr style=\"text-align: right;\">\n",
       "      <th></th>\n",
       "      <th>user_id</th>\n",
       "      <th>timestamp</th>\n",
       "      <th>group</th>\n",
       "      <th>landing_page</th>\n",
       "      <th>converted</th>\n",
       "    </tr>\n",
       "  </thead>\n",
       "  <tbody>\n",
       "    <tr>\n",
       "      <th>0</th>\n",
       "      <td>851104</td>\n",
       "      <td>2017-01-21 22:11:48.556739</td>\n",
       "      <td>control</td>\n",
       "      <td>old_page</td>\n",
       "      <td>0</td>\n",
       "    </tr>\n",
       "    <tr>\n",
       "      <th>1</th>\n",
       "      <td>804228</td>\n",
       "      <td>2017-01-12 08:01:45.159739</td>\n",
       "      <td>control</td>\n",
       "      <td>old_page</td>\n",
       "      <td>0</td>\n",
       "    </tr>\n",
       "    <tr>\n",
       "      <th>2</th>\n",
       "      <td>661590</td>\n",
       "      <td>2017-01-11 16:55:06.154213</td>\n",
       "      <td>treatment</td>\n",
       "      <td>new_page</td>\n",
       "      <td>0</td>\n",
       "    </tr>\n",
       "    <tr>\n",
       "      <th>3</th>\n",
       "      <td>853541</td>\n",
       "      <td>2017-01-08 18:28:03.143765</td>\n",
       "      <td>treatment</td>\n",
       "      <td>new_page</td>\n",
       "      <td>0</td>\n",
       "    </tr>\n",
       "    <tr>\n",
       "      <th>4</th>\n",
       "      <td>864975</td>\n",
       "      <td>2017-01-21 01:52:26.210827</td>\n",
       "      <td>control</td>\n",
       "      <td>old_page</td>\n",
       "      <td>1</td>\n",
       "    </tr>\n",
       "  </tbody>\n",
       "</table>\n",
       "</div>"
      ],
      "text/plain": [
       "   user_id                   timestamp      group landing_page  converted\n",
       "0   851104  2017-01-21 22:11:48.556739    control     old_page          0\n",
       "1   804228  2017-01-12 08:01:45.159739    control     old_page          0\n",
       "2   661590  2017-01-11 16:55:06.154213  treatment     new_page          0\n",
       "3   853541  2017-01-08 18:28:03.143765  treatment     new_page          0\n",
       "4   864975  2017-01-21 01:52:26.210827    control     old_page          1"
      ]
     },
     "execution_count": 3,
     "metadata": {},
     "output_type": "execute_result"
    },
    {
     "data": {
      "application/javascript": [
       "\n",
       "            setTimeout(function() {\n",
       "                var nbb_cell_id = 3;\n",
       "                var nbb_unformatted_code = \"url = \\\"https://tf-assets-prod.s3.amazonaws.com/tf-curric/data-science/ab_edited.csv\\\"\\ndf = pd.read_csv(url)\\ndf.head()\";\n",
       "                var nbb_formatted_code = \"url = \\\"https://tf-assets-prod.s3.amazonaws.com/tf-curric/data-science/ab_edited.csv\\\"\\ndf = pd.read_csv(url)\\ndf.head()\";\n",
       "                var nbb_cells = Jupyter.notebook.get_cells();\n",
       "                for (var i = 0; i < nbb_cells.length; ++i) {\n",
       "                    if (nbb_cells[i].input_prompt_number == nbb_cell_id) {\n",
       "                        if (nbb_cells[i].get_text() == nbb_unformatted_code) {\n",
       "                             nbb_cells[i].set_text(nbb_formatted_code);\n",
       "                        }\n",
       "                        break;\n",
       "                    }\n",
       "                }\n",
       "            }, 500);\n",
       "            "
      ],
      "text/plain": [
       "<IPython.core.display.Javascript object>"
      ]
     },
     "metadata": {},
     "output_type": "display_data"
    }
   ],
   "source": [
    "url = \"https://tf-assets-prod.s3.amazonaws.com/tf-curric/data-science/ab_edited.csv\"\n",
    "df = pd.read_csv(url)\n",
    "df.head()"
   ]
  },
  {
   "cell_type": "code",
   "execution_count": 11,
   "metadata": {
    "scrolled": true
   },
   "outputs": [
    {
     "name": "stdout",
     "output_type": "stream",
     "text": [
      "<class 'pandas.core.frame.DataFrame'>\n",
      "RangeIndex: 290585 entries, 0 to 290584\n",
      "Data columns (total 5 columns):\n",
      " #   Column        Non-Null Count   Dtype \n",
      "---  ------        --------------   ----- \n",
      " 0   user_id       290585 non-null  int64 \n",
      " 1   timestamp     290585 non-null  object\n",
      " 2   group         290585 non-null  object\n",
      " 3   landing_page  290585 non-null  object\n",
      " 4   converted     290585 non-null  int64 \n",
      "dtypes: int64(2), object(3)\n",
      "memory usage: 11.1+ MB\n"
     ]
    },
    {
     "data": {
      "application/javascript": [
       "\n",
       "            setTimeout(function() {\n",
       "                var nbb_cell_id = 11;\n",
       "                var nbb_unformatted_code = \"df.info()\";\n",
       "                var nbb_formatted_code = \"df.info()\";\n",
       "                var nbb_cells = Jupyter.notebook.get_cells();\n",
       "                for (var i = 0; i < nbb_cells.length; ++i) {\n",
       "                    if (nbb_cells[i].input_prompt_number == nbb_cell_id) {\n",
       "                        if (nbb_cells[i].get_text() == nbb_unformatted_code) {\n",
       "                             nbb_cells[i].set_text(nbb_formatted_code);\n",
       "                        }\n",
       "                        break;\n",
       "                    }\n",
       "                }\n",
       "            }, 500);\n",
       "            "
      ],
      "text/plain": [
       "<IPython.core.display.Javascript object>"
      ]
     },
     "metadata": {},
     "output_type": "display_data"
    },
    {
     "data": {
      "application/javascript": [
       "\n",
       "            setTimeout(function() {\n",
       "                var nbb_cell_id = 11;\n",
       "                var nbb_unformatted_code = \"df.info()\";\n",
       "                var nbb_formatted_code = \"df.info()\";\n",
       "                var nbb_cells = Jupyter.notebook.get_cells();\n",
       "                for (var i = 0; i < nbb_cells.length; ++i) {\n",
       "                    if (nbb_cells[i].input_prompt_number == nbb_cell_id) {\n",
       "                        if (nbb_cells[i].get_text() == nbb_unformatted_code) {\n",
       "                             nbb_cells[i].set_text(nbb_formatted_code);\n",
       "                        }\n",
       "                        break;\n",
       "                    }\n",
       "                }\n",
       "            }, 500);\n",
       "            "
      ],
      "text/plain": [
       "<IPython.core.display.Javascript object>"
      ]
     },
     "metadata": {},
     "output_type": "display_data"
    }
   ],
   "source": [
    "df.info()"
   ]
  },
  {
   "cell_type": "code",
   "execution_count": 17,
   "metadata": {},
   "outputs": [
    {
     "data": {
      "text/plain": [
       "23"
      ]
     },
     "execution_count": 17,
     "metadata": {},
     "output_type": "execute_result"
    },
    {
     "data": {
      "application/javascript": [
       "\n",
       "            setTimeout(function() {\n",
       "                var nbb_cell_id = 17;\n",
       "                var nbb_unformatted_code = \"df[\\\"date\\\"] = pd.DatetimeIndex(df.timestamp).date\\ndf.date.nunique()\";\n",
       "                var nbb_formatted_code = \"df[\\\"date\\\"] = pd.DatetimeIndex(df.timestamp).date\\ndf.date.nunique()\";\n",
       "                var nbb_cells = Jupyter.notebook.get_cells();\n",
       "                for (var i = 0; i < nbb_cells.length; ++i) {\n",
       "                    if (nbb_cells[i].input_prompt_number == nbb_cell_id) {\n",
       "                        if (nbb_cells[i].get_text() == nbb_unformatted_code) {\n",
       "                             nbb_cells[i].set_text(nbb_formatted_code);\n",
       "                        }\n",
       "                        break;\n",
       "                    }\n",
       "                }\n",
       "            }, 500);\n",
       "            "
      ],
      "text/plain": [
       "<IPython.core.display.Javascript object>"
      ]
     },
     "metadata": {},
     "output_type": "display_data"
    },
    {
     "data": {
      "application/javascript": [
       "\n",
       "            setTimeout(function() {\n",
       "                var nbb_cell_id = 17;\n",
       "                var nbb_unformatted_code = \"df[\\\"date\\\"] = pd.DatetimeIndex(df.timestamp).date\\ndf.date.nunique()\";\n",
       "                var nbb_formatted_code = \"df[\\\"date\\\"] = pd.DatetimeIndex(df.timestamp).date\\ndf.date.nunique()\";\n",
       "                var nbb_cells = Jupyter.notebook.get_cells();\n",
       "                for (var i = 0; i < nbb_cells.length; ++i) {\n",
       "                    if (nbb_cells[i].input_prompt_number == nbb_cell_id) {\n",
       "                        if (nbb_cells[i].get_text() == nbb_unformatted_code) {\n",
       "                             nbb_cells[i].set_text(nbb_formatted_code);\n",
       "                        }\n",
       "                        break;\n",
       "                    }\n",
       "                }\n",
       "            }, 500);\n",
       "            "
      ],
      "text/plain": [
       "<IPython.core.display.Javascript object>"
      ]
     },
     "metadata": {},
     "output_type": "display_data"
    }
   ],
   "source": [
    "# count of the number of days the trial data lasts\n",
    "df[\"date\"] = pd.DatetimeIndex(df.timestamp).date\n",
    "df.date.nunique()"
   ]
  },
  {
   "cell_type": "code",
   "execution_count": 9,
   "metadata": {},
   "outputs": [
    {
     "data": {
      "text/plain": [
       "group\n",
       "control      0.120386\n",
       "treatment    0.118807\n",
       "Name: converted, dtype: float64"
      ]
     },
     "execution_count": 9,
     "metadata": {},
     "output_type": "execute_result"
    },
    {
     "data": {
      "application/javascript": [
       "\n",
       "            setTimeout(function() {\n",
       "                var nbb_cell_id = 9;\n",
       "                var nbb_unformatted_code = \"# conversion rate for each group\\ndf.groupby('group').converted.mean()\";\n",
       "                var nbb_formatted_code = \"# conversion rate for each group\\ndf.groupby(\\\"group\\\").converted.mean()\";\n",
       "                var nbb_cells = Jupyter.notebook.get_cells();\n",
       "                for (var i = 0; i < nbb_cells.length; ++i) {\n",
       "                    if (nbb_cells[i].input_prompt_number == nbb_cell_id) {\n",
       "                        if (nbb_cells[i].get_text() == nbb_unformatted_code) {\n",
       "                             nbb_cells[i].set_text(nbb_formatted_code);\n",
       "                        }\n",
       "                        break;\n",
       "                    }\n",
       "                }\n",
       "            }, 500);\n",
       "            "
      ],
      "text/plain": [
       "<IPython.core.display.Javascript object>"
      ]
     },
     "metadata": {},
     "output_type": "display_data"
    }
   ],
   "source": [
    "# conversion rate for each group\n",
    "df.groupby(\"group\").converted.mean()"
   ]
  },
  {
   "cell_type": "code",
   "execution_count": null,
   "metadata": {},
   "outputs": [],
   "source": [
    "alpha = 0.05"
   ]
  },
  {
   "cell_type": "markdown",
   "metadata": {},
   "source": [
    "# Check for adequate sample sizes."
   ]
  },
  {
   "cell_type": "code",
   "execution_count": 18,
   "metadata": {},
   "outputs": [
    {
     "data": {
      "text/plain": [
       "treatment    145311\n",
       "control      145274\n",
       "Name: group, dtype: int64"
      ]
     },
     "execution_count": 18,
     "metadata": {},
     "output_type": "execute_result"
    },
    {
     "data": {
      "application/javascript": [
       "\n",
       "            setTimeout(function() {\n",
       "                var nbb_cell_id = 18;\n",
       "                var nbb_unformatted_code = \"# size of testing groups\\ndf.group.value_counts()\";\n",
       "                var nbb_formatted_code = \"# size of testing groups\\ndf.group.value_counts()\";\n",
       "                var nbb_cells = Jupyter.notebook.get_cells();\n",
       "                for (var i = 0; i < nbb_cells.length; ++i) {\n",
       "                    if (nbb_cells[i].input_prompt_number == nbb_cell_id) {\n",
       "                        if (nbb_cells[i].get_text() == nbb_unformatted_code) {\n",
       "                             nbb_cells[i].set_text(nbb_formatted_code);\n",
       "                        }\n",
       "                        break;\n",
       "                    }\n",
       "                }\n",
       "            }, 500);\n",
       "            "
      ],
      "text/plain": [
       "<IPython.core.display.Javascript object>"
      ]
     },
     "metadata": {},
     "output_type": "display_data"
    },
    {
     "data": {
      "application/javascript": [
       "\n",
       "            setTimeout(function() {\n",
       "                var nbb_cell_id = 18;\n",
       "                var nbb_unformatted_code = \"# size of testing groups\\ndf.group.value_counts()\";\n",
       "                var nbb_formatted_code = \"# size of testing groups\\ndf.group.value_counts()\";\n",
       "                var nbb_cells = Jupyter.notebook.get_cells();\n",
       "                for (var i = 0; i < nbb_cells.length; ++i) {\n",
       "                    if (nbb_cells[i].input_prompt_number == nbb_cell_id) {\n",
       "                        if (nbb_cells[i].get_text() == nbb_unformatted_code) {\n",
       "                             nbb_cells[i].set_text(nbb_formatted_code);\n",
       "                        }\n",
       "                        break;\n",
       "                    }\n",
       "                }\n",
       "            }, 500);\n",
       "            "
      ],
      "text/plain": [
       "<IPython.core.display.Javascript object>"
      ]
     },
     "metadata": {},
     "output_type": "display_data"
    }
   ],
   "source": [
    "# size of testing groups\n",
    "df.group.value_counts()"
   ]
  },
  {
   "cell_type": "code",
   "execution_count": 24,
   "metadata": {},
   "outputs": [
    {
     "name": "stdout",
     "output_type": "stream",
     "text": [
      "control size:  145274\n",
      "treatment size:  145311\n",
      "test proportion:  0.11959667567149027\n"
     ]
    },
    {
     "data": {
      "application/javascript": [
       "\n",
       "            setTimeout(function() {\n",
       "                var nbb_cell_id = 24;\n",
       "                var nbb_unformatted_code = \"# separate the control group\\ncontrol = df[df.group == \\\"control\\\"]\\n\\n# separate the treatment group\\ntest = df[df.group == \\\"treatment\\\"]\\n\\nprint(\\\"control size: \\\", str(control.converted.count()))\\nprint(\\\"treatment size: \\\", str(treatment.converted.count()))\\nprint(\\\"test proportion: \\\", str(df.converted.mean()))\";\n",
       "                var nbb_formatted_code = \"# separate the control group\\ncontrol = df[df.group == \\\"control\\\"]\\n\\n# separate the treatment group\\ntest = df[df.group == \\\"treatment\\\"]\\n\\nprint(\\\"control size: \\\", str(control.converted.count()))\\nprint(\\\"treatment size: \\\", str(treatment.converted.count()))\\nprint(\\\"test proportion: \\\", str(df.converted.mean()))\";\n",
       "                var nbb_cells = Jupyter.notebook.get_cells();\n",
       "                for (var i = 0; i < nbb_cells.length; ++i) {\n",
       "                    if (nbb_cells[i].input_prompt_number == nbb_cell_id) {\n",
       "                        if (nbb_cells[i].get_text() == nbb_unformatted_code) {\n",
       "                             nbb_cells[i].set_text(nbb_formatted_code);\n",
       "                        }\n",
       "                        break;\n",
       "                    }\n",
       "                }\n",
       "            }, 500);\n",
       "            "
      ],
      "text/plain": [
       "<IPython.core.display.Javascript object>"
      ]
     },
     "metadata": {},
     "output_type": "display_data"
    },
    {
     "data": {
      "application/javascript": [
       "\n",
       "            setTimeout(function() {\n",
       "                var nbb_cell_id = 24;\n",
       "                var nbb_unformatted_code = \"# separate the control group\\ncontrol = df[df.group == \\\"control\\\"]\\n\\n# separate the treatment group\\ntest = df[df.group == \\\"treatment\\\"]\\n\\nprint(\\\"control size: \\\", str(control.converted.count()))\\nprint(\\\"treatment size: \\\", str(treatment.converted.count()))\\nprint(\\\"test proportion: \\\", str(df.converted.mean()))\";\n",
       "                var nbb_formatted_code = \"# separate the control group\\ncontrol = df[df.group == \\\"control\\\"]\\n\\n# separate the treatment group\\ntest = df[df.group == \\\"treatment\\\"]\\n\\nprint(\\\"control size: \\\", str(control.converted.count()))\\nprint(\\\"treatment size: \\\", str(treatment.converted.count()))\\nprint(\\\"test proportion: \\\", str(df.converted.mean()))\";\n",
       "                var nbb_cells = Jupyter.notebook.get_cells();\n",
       "                for (var i = 0; i < nbb_cells.length; ++i) {\n",
       "                    if (nbb_cells[i].input_prompt_number == nbb_cell_id) {\n",
       "                        if (nbb_cells[i].get_text() == nbb_unformatted_code) {\n",
       "                             nbb_cells[i].set_text(nbb_formatted_code);\n",
       "                        }\n",
       "                        break;\n",
       "                    }\n",
       "                }\n",
       "            }, 500);\n",
       "            "
      ],
      "text/plain": [
       "<IPython.core.display.Javascript object>"
      ]
     },
     "metadata": {},
     "output_type": "display_data"
    }
   ],
   "source": [
    "# separate the control group\n",
    "control = df[df.group == \"control\"]\n",
    "\n",
    "# separate the treatment group\n",
    "test = df[df.group == \"treatment\"]\n",
    "\n",
    "print(\"control size: \", str(control.converted.count()))\n",
    "print(\"treatment size: \", str(treatment.converted.count()))\n",
    "print(\"test proportion: \", str(df.converted.mean()))"
   ]
  },
  {
   "cell_type": "code",
   "execution_count": 25,
   "metadata": {},
   "outputs": [
    {
     "name": "stdout",
     "output_type": "stream",
     "text": [
      "Test rate:  0.11880724790277405\n",
      "Control rate:  0.1203863045004612\n"
     ]
    },
    {
     "data": {
      "application/javascript": [
       "\n",
       "            setTimeout(function() {\n",
       "                var nbb_cell_id = 25;\n",
       "                var nbb_unformatted_code = \"# signup rates for test and control\\ntest_rate = test.converted.mean()\\ncontrol_rate = control.converted.mean()\\nprint(\\\"Test rate: \\\", str(test_rate))\\nprint(\\\"Control rate: \\\", str(control_rate))\";\n",
       "                var nbb_formatted_code = \"# signup rates for test and control\\ntest_rate = test.converted.mean()\\ncontrol_rate = control.converted.mean()\\nprint(\\\"Test rate: \\\", str(test_rate))\\nprint(\\\"Control rate: \\\", str(control_rate))\";\n",
       "                var nbb_cells = Jupyter.notebook.get_cells();\n",
       "                for (var i = 0; i < nbb_cells.length; ++i) {\n",
       "                    if (nbb_cells[i].input_prompt_number == nbb_cell_id) {\n",
       "                        if (nbb_cells[i].get_text() == nbb_unformatted_code) {\n",
       "                             nbb_cells[i].set_text(nbb_formatted_code);\n",
       "                        }\n",
       "                        break;\n",
       "                    }\n",
       "                }\n",
       "            }, 500);\n",
       "            "
      ],
      "text/plain": [
       "<IPython.core.display.Javascript object>"
      ]
     },
     "metadata": {},
     "output_type": "display_data"
    },
    {
     "data": {
      "application/javascript": [
       "\n",
       "            setTimeout(function() {\n",
       "                var nbb_cell_id = 25;\n",
       "                var nbb_unformatted_code = \"# signup rates for test and control\\ntest_rate = test.converted.mean()\\ncontrol_rate = control.converted.mean()\\nprint(\\\"Test rate: \\\", str(test_rate))\\nprint(\\\"Control rate: \\\", str(control_rate))\";\n",
       "                var nbb_formatted_code = \"# signup rates for test and control\\ntest_rate = test.converted.mean()\\ncontrol_rate = control.converted.mean()\\nprint(\\\"Test rate: \\\", str(test_rate))\\nprint(\\\"Control rate: \\\", str(control_rate))\";\n",
       "                var nbb_cells = Jupyter.notebook.get_cells();\n",
       "                for (var i = 0; i < nbb_cells.length; ++i) {\n",
       "                    if (nbb_cells[i].input_prompt_number == nbb_cell_id) {\n",
       "                        if (nbb_cells[i].get_text() == nbb_unformatted_code) {\n",
       "                             nbb_cells[i].set_text(nbb_formatted_code);\n",
       "                        }\n",
       "                        break;\n",
       "                    }\n",
       "                }\n",
       "            }, 500);\n",
       "            "
      ],
      "text/plain": [
       "<IPython.core.display.Javascript object>"
      ]
     },
     "metadata": {},
     "output_type": "display_data"
    }
   ],
   "source": [
    "# signup rates for test and control\n",
    "test_rate = test.converted.mean()\n",
    "control_rate = control.converted.mean()\n",
    "print(\"Test rate: \", str(test_rate))\n",
    "print(\"Control rate: \", str(control_rate))"
   ]
  },
  {
   "cell_type": "code",
   "execution_count": 27,
   "metadata": {
    "scrolled": true
   },
   "outputs": [
    {
     "name": "stdout",
     "output_type": "stream",
     "text": [
      "-1.3116069027036805\n",
      "0.18965383906859376\n"
     ]
    },
    {
     "data": {
      "application/javascript": [
       "\n",
       "            setTimeout(function() {\n",
       "                var nbb_cell_id = 27;\n",
       "                var nbb_unformatted_code = \"# statistical significance of test and control rates\\nt, p = stats.ttest_ind(test.converted, control.converted)\\nprint(t)\\nprint(p)\";\n",
       "                var nbb_formatted_code = \"# statistical significance of test and control rates\\nt, p = stats.ttest_ind(test.converted, control.converted)\\nprint(t)\\nprint(p)\";\n",
       "                var nbb_cells = Jupyter.notebook.get_cells();\n",
       "                for (var i = 0; i < nbb_cells.length; ++i) {\n",
       "                    if (nbb_cells[i].input_prompt_number == nbb_cell_id) {\n",
       "                        if (nbb_cells[i].get_text() == nbb_unformatted_code) {\n",
       "                             nbb_cells[i].set_text(nbb_formatted_code);\n",
       "                        }\n",
       "                        break;\n",
       "                    }\n",
       "                }\n",
       "            }, 500);\n",
       "            "
      ],
      "text/plain": [
       "<IPython.core.display.Javascript object>"
      ]
     },
     "metadata": {},
     "output_type": "display_data"
    },
    {
     "data": {
      "application/javascript": [
       "\n",
       "            setTimeout(function() {\n",
       "                var nbb_cell_id = 27;\n",
       "                var nbb_unformatted_code = \"# statistical significance of test and control rates\\nt, p = stats.ttest_ind(test.converted, control.converted)\\nprint(t)\\nprint(p)\";\n",
       "                var nbb_formatted_code = \"# statistical significance of test and control rates\\nt, p = stats.ttest_ind(test.converted, control.converted)\\nprint(t)\\nprint(p)\";\n",
       "                var nbb_cells = Jupyter.notebook.get_cells();\n",
       "                for (var i = 0; i < nbb_cells.length; ++i) {\n",
       "                    if (nbb_cells[i].input_prompt_number == nbb_cell_id) {\n",
       "                        if (nbb_cells[i].get_text() == nbb_unformatted_code) {\n",
       "                             nbb_cells[i].set_text(nbb_formatted_code);\n",
       "                        }\n",
       "                        break;\n",
       "                    }\n",
       "                }\n",
       "            }, 500);\n",
       "            "
      ],
      "text/plain": [
       "<IPython.core.display.Javascript object>"
      ]
     },
     "metadata": {},
     "output_type": "display_data"
    }
   ],
   "source": [
    "# statistical significance of test and control rates\n",
    "t, p = stats.ttest_ind(test.converted, control.converted)\n",
    "print(t)\n",
    "print(p)"
   ]
  },
  {
   "cell_type": "markdown",
   "metadata": {},
   "source": [
    "# Check for changes over time in results."
   ]
  },
  {
   "cell_type": "code",
   "execution_count": 33,
   "metadata": {},
   "outputs": [
    {
     "data": {
      "image/png": "[encoded data removed]",
      "text/plain": [
       "<Figure size 432x288 with 1 Axes>"
      ]
     },
     "metadata": {
      "needs_background": "light"
     },
     "output_type": "display_data"
    },
    {
     "data": {
      "application/javascript": [
       "\n",
       "            setTimeout(function() {\n",
       "                var nbb_cell_id = 33;\n",
       "                var nbb_unformatted_code = \"# rollout date plot\\nfig = df[df.group == \\\"treatment\\\"][[\\\"date\\\", \\\"converted\\\"]].groupby(\\\"date\\\").mean().plot()\\ndf[df.group == \\\"control\\\"][[\\\"date\\\", \\\"converted\\\"]].groupby(\\\"date\\\").mean().plot(ax=fig)\\n\\nplt.legend([\\\"treatment\\\", \\\"control\\\"])\\nplt.title('Conversion rates by treatment date')\\nplt.show()\";\n",
       "                var nbb_formatted_code = \"# rollout date plot\\nfig = df[df.group == \\\"treatment\\\"][[\\\"date\\\", \\\"converted\\\"]].groupby(\\\"date\\\").mean().plot()\\ndf[df.group == \\\"control\\\"][[\\\"date\\\", \\\"converted\\\"]].groupby(\\\"date\\\").mean().plot(ax=fig)\\n\\nplt.legend([\\\"treatment\\\", \\\"control\\\"])\\nplt.title(\\\"Conversion rates by treatment date\\\")\\nplt.show()\";\n",
       "                var nbb_cells = Jupyter.notebook.get_cells();\n",
       "                for (var i = 0; i < nbb_cells.length; ++i) {\n",
       "                    if (nbb_cells[i].input_prompt_number == nbb_cell_id) {\n",
       "                        if (nbb_cells[i].get_text() == nbb_unformatted_code) {\n",
       "                             nbb_cells[i].set_text(nbb_formatted_code);\n",
       "                        }\n",
       "                        break;\n",
       "                    }\n",
       "                }\n",
       "            }, 500);\n",
       "            "
      ],
      "text/plain": [
       "<IPython.core.display.Javascript object>"
      ]
     },
     "metadata": {},
     "output_type": "display_data"
    },
    {
     "data": {
      "application/javascript": [
       "\n",
       "            setTimeout(function() {\n",
       "                var nbb_cell_id = 33;\n",
       "                var nbb_unformatted_code = \"# rollout date plot\\nfig = df[df.group == \\\"treatment\\\"][[\\\"date\\\", \\\"converted\\\"]].groupby(\\\"date\\\").mean().plot()\\ndf[df.group == \\\"control\\\"][[\\\"date\\\", \\\"converted\\\"]].groupby(\\\"date\\\").mean().plot(ax=fig)\\n\\nplt.legend([\\\"treatment\\\", \\\"control\\\"])\\nplt.title('Conversion rates by treatment date')\\nplt.show()\";\n",
       "                var nbb_formatted_code = \"# rollout date plot\\nfig = df[df.group == \\\"treatment\\\"][[\\\"date\\\", \\\"converted\\\"]].groupby(\\\"date\\\").mean().plot()\\ndf[df.group == \\\"control\\\"][[\\\"date\\\", \\\"converted\\\"]].groupby(\\\"date\\\").mean().plot(ax=fig)\\n\\nplt.legend([\\\"treatment\\\", \\\"control\\\"])\\nplt.title(\\\"Conversion rates by treatment date\\\")\\nplt.show()\";\n",
       "                var nbb_cells = Jupyter.notebook.get_cells();\n",
       "                for (var i = 0; i < nbb_cells.length; ++i) {\n",
       "                    if (nbb_cells[i].input_prompt_number == nbb_cell_id) {\n",
       "                        if (nbb_cells[i].get_text() == nbb_unformatted_code) {\n",
       "                             nbb_cells[i].set_text(nbb_formatted_code);\n",
       "                        }\n",
       "                        break;\n",
       "                    }\n",
       "                }\n",
       "            }, 500);\n",
       "            "
      ],
      "text/plain": [
       "<IPython.core.display.Javascript object>"
      ]
     },
     "metadata": {},
     "output_type": "display_data"
    }
   ],
   "source": [
    "# rollout date plot\n",
    "fig = df[df.group == \"treatment\"][[\"date\", \"converted\"]].groupby(\"date\").mean().plot()\n",
    "df[df.group == \"control\"][[\"date\", \"converted\"]].groupby(\"date\").mean().plot(ax=fig)\n",
    "\n",
    "plt.legend([\"treatment\", \"control\"])\n",
    "plt.title(\"Conversion rates by treatment date\")\n",
    "plt.show()"
   ]
  },
  {
   "cell_type": "markdown",
   "metadata": {},
   "source": [
    "# Formally test for a significant difference in conversions between treatment and control groups."
   ]
  },
  {
   "cell_type": "code",
   "execution_count": 37,
   "metadata": {},
   "outputs": [
    {
     "name": "stdout",
     "output_type": "stream",
     "text": [
      "1.8123288054674913 0.0699579338988825\n",
      "-0.05182821974845549 0.9586663564605943\n",
      "0.6795024407954999 0.49683133482307695\n",
      "-0.33111903181744556 0.7405597598504309\n",
      "-2.3999515991310387 0.01641085244784032\n",
      "0.4836129647924235 0.628668638020595\n",
      "-0.7611804663738991 0.446562930057432\n",
      "0.9315635899845935 0.3515792521983202\n",
      "1.261388402374626 0.20719113309271808\n",
      "0.0026642818202597274 0.9978742538059032\n",
      "0.28071255594768935 0.7789352633524722\n",
      "0.2056136446252576 0.837095874040602\n",
      "-0.4909032980527966 0.6235093367111435\n",
      "0.8094922831773846 0.41824647028626705\n",
      "-0.4369071658956722 0.6621858156795764\n",
      "1.4468255388280735 0.14797003344175097\n",
      "-1.445201350915974 0.14842480715695958\n",
      "1.0178087858982594 0.3087876929639064\n",
      "0.8500557494800433 0.3953094968293003\n",
      "0.005102928348269819 0.9959285470042827\n",
      "0.6557398855583756 0.5120179205036728\n",
      "0.4678178596106672 0.6399226098635871\n",
      "1.311670708102873 0.18965417024438827\n"
     ]
    },
    {
     "data": {
      "application/javascript": [
       "\n",
       "            setTimeout(function() {\n",
       "                var nbb_cell_id = 37;\n",
       "                var nbb_unformatted_code = \"date_p = []\\nfor day in df.date.unique():\\n    date_data = df[df.date == day]\\n    t, p = stats.ttest_ind(\\n        date_data[date_data.group == \\\"control\\\"].converted,\\n        date_data[date_data.group == \\\"treatment\\\"].converted,\\n    )\\n    date_p.append([p, day])\\n    print(str(t), str(p))\";\n",
       "                var nbb_formatted_code = \"date_p = []\\nfor day in df.date.unique():\\n    date_data = df[df.date == day]\\n    t, p = stats.ttest_ind(\\n        date_data[date_data.group == \\\"control\\\"].converted,\\n        date_data[date_data.group == \\\"treatment\\\"].converted,\\n    )\\n    date_p.append([p, day])\\n    print(str(t), str(p))\";\n",
       "                var nbb_cells = Jupyter.notebook.get_cells();\n",
       "                for (var i = 0; i < nbb_cells.length; ++i) {\n",
       "                    if (nbb_cells[i].input_prompt_number == nbb_cell_id) {\n",
       "                        if (nbb_cells[i].get_text() == nbb_unformatted_code) {\n",
       "                             nbb_cells[i].set_text(nbb_formatted_code);\n",
       "                        }\n",
       "                        break;\n",
       "                    }\n",
       "                }\n",
       "            }, 500);\n",
       "            "
      ],
      "text/plain": [
       "<IPython.core.display.Javascript object>"
      ]
     },
     "metadata": {},
     "output_type": "display_data"
    },
    {
     "data": {
      "application/javascript": [
       "\n",
       "            setTimeout(function() {\n",
       "                var nbb_cell_id = 37;\n",
       "                var nbb_unformatted_code = \"date_p = []\\nfor day in df.date.unique():\\n    date_data = df[df.date == day]\\n    t, p = stats.ttest_ind(\\n        date_data[date_data.group == \\\"control\\\"].converted,\\n        date_data[date_data.group == \\\"treatment\\\"].converted,\\n    )\\n    date_p.append([p, day])\\n    print(str(t), str(p))\";\n",
       "                var nbb_formatted_code = \"date_p = []\\nfor day in df.date.unique():\\n    date_data = df[df.date == day]\\n    t, p = stats.ttest_ind(\\n        date_data[date_data.group == \\\"control\\\"].converted,\\n        date_data[date_data.group == \\\"treatment\\\"].converted,\\n    )\\n    date_p.append([p, day])\\n    print(str(t), str(p))\";\n",
       "                var nbb_cells = Jupyter.notebook.get_cells();\n",
       "                for (var i = 0; i < nbb_cells.length; ++i) {\n",
       "                    if (nbb_cells[i].input_prompt_number == nbb_cell_id) {\n",
       "                        if (nbb_cells[i].get_text() == nbb_unformatted_code) {\n",
       "                             nbb_cells[i].set_text(nbb_formatted_code);\n",
       "                        }\n",
       "                        break;\n",
       "                    }\n",
       "                }\n",
       "            }, 500);\n",
       "            "
      ],
      "text/plain": [
       "<IPython.core.display.Javascript object>"
      ]
     },
     "metadata": {},
     "output_type": "display_data"
    }
   ],
   "source": [
    "date_p = []\n",
    "for day in df.date.unique():\n",
    "    date_data = df[df.date == day]\n",
    "    t, p = stats.ttest_ind(\n",
    "        date_data[date_data.group == \"control\"].converted,\n",
    "        date_data[date_data.group == \"treatment\"].converted,\n",
    "    )\n",
    "    date_p.append([p, day])\n",
    "    print(str(t), str(p))"
   ]
  },
  {
   "cell_type": "code",
   "execution_count": 66,
   "metadata": {
    "scrolled": true
   },
   "outputs": [
    {
     "data": {
      "image/png": "[encoded data removed]",
      "text/plain": [
       "<Figure size 432x288 with 1 Axes>"
      ]
     },
     "metadata": {
      "needs_background": "light"
     },
     "output_type": "display_data"
    },
    {
     "data": {
      "application/javascript": [
       "\n",
       "            setTimeout(function() {\n",
       "                var nbb_cell_id = 66;\n",
       "                var nbb_unformatted_code = \"sns.lineplot(date_p[1], date_p[0]).axhline(0.05, c=\\\"r\\\", linestyle=\\\"-\\\")\\nplt.show()\";\n",
       "                var nbb_formatted_code = \"sns.lineplot(date_p[1], date_p[0]).axhline(0.05, c=\\\"r\\\", linestyle=\\\"-\\\")\\nplt.show()\";\n",
       "                var nbb_cells = Jupyter.notebook.get_cells();\n",
       "                for (var i = 0; i < nbb_cells.length; ++i) {\n",
       "                    if (nbb_cells[i].input_prompt_number == nbb_cell_id) {\n",
       "                        if (nbb_cells[i].get_text() == nbb_unformatted_code) {\n",
       "                             nbb_cells[i].set_text(nbb_formatted_code);\n",
       "                        }\n",
       "                        break;\n",
       "                    }\n",
       "                }\n",
       "            }, 500);\n",
       "            "
      ],
      "text/plain": [
       "<IPython.core.display.Javascript object>"
      ]
     },
     "metadata": {},
     "output_type": "display_data"
    },
    {
     "data": {
      "application/javascript": [
       "\n",
       "            setTimeout(function() {\n",
       "                var nbb_cell_id = 66;\n",
       "                var nbb_unformatted_code = \"sns.lineplot(date_p[1], date_p[0]).axhline(0.05, c=\\\"r\\\", linestyle=\\\"-\\\")\\nplt.show()\";\n",
       "                var nbb_formatted_code = \"sns.lineplot(date_p[1], date_p[0]).axhline(0.05, c=\\\"r\\\", linestyle=\\\"-\\\")\\nplt.show()\";\n",
       "                var nbb_cells = Jupyter.notebook.get_cells();\n",
       "                for (var i = 0; i < nbb_cells.length; ++i) {\n",
       "                    if (nbb_cells[i].input_prompt_number == nbb_cell_id) {\n",
       "                        if (nbb_cells[i].get_text() == nbb_unformatted_code) {\n",
       "                             nbb_cells[i].set_text(nbb_formatted_code);\n",
       "                        }\n",
       "                        break;\n",
       "                    }\n",
       "                }\n",
       "            }, 500);\n",
       "            "
      ],
      "text/plain": [
       "<IPython.core.display.Javascript object>"
      ]
     },
     "metadata": {},
     "output_type": "display_data"
    }
   ],
   "source": [
    "# date and p values from list converted to dataframe\n",
    "date_p = pd.DataFrame(date_p)\n",
    "\n",
    "# red line shows statistically significant threshold\n",
    "sns.lineplot(date_p[1], date_p[0]).axhline(0.05, c=\"r\", linestyle=\"-\")\n",
    "plt.show()"
   ]
  }
 ],
 "metadata": {
  "kernelspec": {
   "display_name": "Python 3",
   "language": "python",
   "name": "python3"
  },
  "language_info": {
   "codemirror_mode": {
    "name": "ipython",
    "version": 3
   },
   "file_extension": ".py",
   "mimetype": "text/x-python",
   "name": "python",
   "nbconvert_exporter": "python",
   "pygments_lexer": "ipython3",
   "version": "3.8.3"
  },
  "latex_envs": {
   "LaTeX_envs_menu_present": true,
   "autoclose": false,
   "autocomplete": true,
   "bibliofile": "biblio.bib",
   "cite_by": "apalike",
   "current_citInitial": 1,
   "eqLabelWithNumbers": true,
   "eqNumInitial": 1,
   "hotkeys": {
    "equation": "Ctrl-E",
    "itemize": "Ctrl-I"
   },
   "labels_anchors": false,
   "latex_user_defs": false,
   "report_style_numbering": false,
   "user_envs_cfg": false
  },
  "toc": {
   "base_numbering": 1,
   "nav_menu": {},
   "number_sections": true,
   "sideBar": true,
   "skip_h1_title": false,
   "title_cell": "Table of Contents",
   "title_sidebar": "Contents",
   "toc_cell": false,
   "toc_position": {},
   "toc_section_display": true,
   "toc_window_display": true
  }
 },
 "nbformat": 4,
 "nbformat_minor": 4
}
