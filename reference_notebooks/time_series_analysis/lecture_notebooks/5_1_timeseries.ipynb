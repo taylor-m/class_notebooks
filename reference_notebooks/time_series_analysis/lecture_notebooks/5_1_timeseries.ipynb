{
  "nbformat": 4,
  "nbformat_minor": 0,
  "metadata": {
    "colab": {
      "name": "Time Series Day 5 Morning Lecture.ipynb",
      "provenance": []
    },
    "kernelspec": {
      "name": "python3",
      "display_name": "Python 3"
    }
  },
  "cells": [
    {
      "cell_type": "code",
      "metadata": {
        "id": "esXKeGQLwGi5"
      },
      "source": [
        "import pandas as pd\n",
        "import plotly.express as px\n",
        "import numpy as np \n",
        "from sklearn.metrics import r2_score, mean_absolute_error, mean_squared_error"
      ],
      "execution_count": null,
      "outputs": []
    },
    {
      "cell_type": "code",
      "metadata": {
        "colab": {
          "base_uri": "https://localhost:8080/"
        },
        "id": "O-_vXfn2zemI",
        "outputId": "b2529f58-d7ce-4e4b-989a-bb05d2ac4907"
      },
      "source": [
        "data = pd.read_csv('https://tf-assets-prod.s3.amazonaws.com/tf-curric/data-science/Data%20Sets%20Time%20Series%20Analysis/Time%20Series%20-%20Day%204/MSFT_data.csv')\n",
        "data.info()"
      ],
      "execution_count": null,
      "outputs": [
        {
          "output_type": "stream",
          "text": [
            "<class 'pandas.core.frame.DataFrame'>\n",
            "RangeIndex: 1259 entries, 0 to 1258\n",
            "Data columns (total 7 columns):\n",
            " #   Column  Non-Null Count  Dtype  \n",
            "---  ------  --------------  -----  \n",
            " 0   date    1259 non-null   object \n",
            " 1   open    1259 non-null   float64\n",
            " 2   high    1259 non-null   float64\n",
            " 3   low     1259 non-null   float64\n",
            " 4   close   1259 non-null   float64\n",
            " 5   volume  1259 non-null   int64  \n",
            " 6   Name    1259 non-null   object \n",
            "dtypes: float64(4), int64(1), object(2)\n",
            "memory usage: 69.0+ KB\n"
          ],
          "name": "stdout"
        }
      ]
    },
    {
      "cell_type": "code",
      "metadata": {
        "id": "iVAUXEmizixw"
      },
      "source": [
        "data['date'] = pd.to_datetime(data['date'])\n",
        "data.columns = ['Date', 'Open', 'High', 'Low', 'Observed', 'Volume', 'Ticker']\n",
        "data = data[['Date', 'Observed']]"
      ],
      "execution_count": null,
      "outputs": []
    },
    {
      "cell_type": "code",
      "metadata": {
        "colab": {
          "base_uri": "https://localhost:8080/",
          "height": 204
        },
        "id": "Ognw8LRnz4TN",
        "outputId": "48faabeb-0dc1-43db-bbf9-01eeab4b433d"
      },
      "source": [
        "data.head()"
      ],
      "execution_count": null,
      "outputs": [
        {
          "output_type": "execute_result",
          "data": {
            "text/html": [
              "<div>\n",
              "<style scoped>\n",
              "    .dataframe tbody tr th:only-of-type {\n",
              "        vertical-align: middle;\n",
              "    }\n",
              "\n",
              "    .dataframe tbody tr th {\n",
              "        vertical-align: top;\n",
              "    }\n",
              "\n",
              "    .dataframe thead th {\n",
              "        text-align: right;\n",
              "    }\n",
              "</style>\n",
              "<table border=\"1\" class=\"dataframe\">\n",
              "  <thead>\n",
              "    <tr style=\"text-align: right;\">\n",
              "      <th></th>\n",
              "      <th>Date</th>\n",
              "      <th>Observed</th>\n",
              "    </tr>\n",
              "  </thead>\n",
              "  <tbody>\n",
              "    <tr>\n",
              "      <th>0</th>\n",
              "      <td>2013-02-08</td>\n",
              "      <td>27.55</td>\n",
              "    </tr>\n",
              "    <tr>\n",
              "      <th>1</th>\n",
              "      <td>2013-02-11</td>\n",
              "      <td>27.86</td>\n",
              "    </tr>\n",
              "    <tr>\n",
              "      <th>2</th>\n",
              "      <td>2013-02-12</td>\n",
              "      <td>27.88</td>\n",
              "    </tr>\n",
              "    <tr>\n",
              "      <th>3</th>\n",
              "      <td>2013-02-13</td>\n",
              "      <td>28.03</td>\n",
              "    </tr>\n",
              "    <tr>\n",
              "      <th>4</th>\n",
              "      <td>2013-02-14</td>\n",
              "      <td>28.04</td>\n",
              "    </tr>\n",
              "  </tbody>\n",
              "</table>\n",
              "</div>"
            ],
            "text/plain": [
              "        Date  Observed\n",
              "0 2013-02-08     27.55\n",
              "1 2013-02-11     27.86\n",
              "2 2013-02-12     27.88\n",
              "3 2013-02-13     28.03\n",
              "4 2013-02-14     28.04"
            ]
          },
          "metadata": {
            "tags": []
          },
          "execution_count": 4
        }
      ]
    },
    {
      "cell_type": "code",
      "metadata": {
        "colab": {
          "base_uri": "https://localhost:8080/",
          "height": 580
        },
        "id": "FsCU33q-z5CD",
        "outputId": "8ef6f35a-9a9f-4e7a-fae1-a0b9ec205101"
      },
      "source": [
        "data.plot(x='Date', y='Observed', figsize=(20,10))"
      ],
      "execution_count": null,
      "outputs": [
        {
          "output_type": "execute_result",
          "data": {
            "text/plain": [
              "<matplotlib.axes._subplots.AxesSubplot at 0x7fa3bc882be0>"
            ]
          },
          "metadata": {
            "tags": []
          },
          "execution_count": 5
        },
        {
          "output_type": "display_data",
          "data": {
            "image/png": "[encoded data removed]",
            "text/plain": [
              "<Figure size 1440x720 with 1 Axes>"
            ]
          },
          "metadata": {
            "tags": [],
            "needs_background": "light"
          }
        }
      ]
    },
    {
      "cell_type": "code",
      "metadata": {
        "colab": {
          "base_uri": "https://localhost:8080/"
        },
        "id": "f047c4Jzz9eG",
        "outputId": "e65ef447-925d-4cca-b87c-0eb950c0f372"
      },
      "source": [
        "history = 7\n",
        "future = 7\n",
        "\n",
        "# create our window to shift our data\n",
        "shifts = [x + future for x in range(1, history+1)]\n",
        "shifts"
      ],
      "execution_count": null,
      "outputs": [
        {
          "output_type": "execute_result",
          "data": {
            "text/plain": [
              "[8, 9, 10, 11, 12, 13, 14]"
            ]
          },
          "metadata": {
            "tags": []
          },
          "execution_count": 6
        }
      ]
    },
    {
      "cell_type": "code",
      "metadata": {
        "colab": {
          "base_uri": "https://localhost:8080/",
          "height": 204
        },
        "id": "b3KG1_exz9gk",
        "outputId": "90669ffc-343d-4ad7-e1be-9669df3ff81b"
      },
      "source": [
        "# feature engineering\n",
        "for shift in shifts:\n",
        "  data[f't-{shift}'] = data['Observed'].shift(shift)\n",
        "\n",
        "data.head()"
      ],
      "execution_count": null,
      "outputs": [
        {
          "output_type": "execute_result",
          "data": {
            "text/html": [
              "<div>\n",
              "<style scoped>\n",
              "    .dataframe tbody tr th:only-of-type {\n",
              "        vertical-align: middle;\n",
              "    }\n",
              "\n",
              "    .dataframe tbody tr th {\n",
              "        vertical-align: top;\n",
              "    }\n",
              "\n",
              "    .dataframe thead th {\n",
              "        text-align: right;\n",
              "    }\n",
              "</style>\n",
              "<table border=\"1\" class=\"dataframe\">\n",
              "  <thead>\n",
              "    <tr style=\"text-align: right;\">\n",
              "      <th></th>\n",
              "      <th>Date</th>\n",
              "      <th>Observed</th>\n",
              "      <th>t-8</th>\n",
              "      <th>t-9</th>\n",
              "      <th>t-10</th>\n",
              "      <th>t-11</th>\n",
              "      <th>t-12</th>\n",
              "      <th>t-13</th>\n",
              "      <th>t-14</th>\n",
              "    </tr>\n",
              "  </thead>\n",
              "  <tbody>\n",
              "    <tr>\n",
              "      <th>0</th>\n",
              "      <td>2013-02-08</td>\n",
              "      <td>27.55</td>\n",
              "      <td>NaN</td>\n",
              "      <td>NaN</td>\n",
              "      <td>NaN</td>\n",
              "      <td>NaN</td>\n",
              "      <td>NaN</td>\n",
              "      <td>NaN</td>\n",
              "      <td>NaN</td>\n",
              "    </tr>\n",
              "    <tr>\n",
              "      <th>1</th>\n",
              "      <td>2013-02-11</td>\n",
              "      <td>27.86</td>\n",
              "      <td>NaN</td>\n",
              "      <td>NaN</td>\n",
              "      <td>NaN</td>\n",
              "      <td>NaN</td>\n",
              "      <td>NaN</td>\n",
              "      <td>NaN</td>\n",
              "      <td>NaN</td>\n",
              "    </tr>\n",
              "    <tr>\n",
              "      <th>2</th>\n",
              "      <td>2013-02-12</td>\n",
              "      <td>27.88</td>\n",
              "      <td>NaN</td>\n",
              "      <td>NaN</td>\n",
              "      <td>NaN</td>\n",
              "      <td>NaN</td>\n",
              "      <td>NaN</td>\n",
              "      <td>NaN</td>\n",
              "      <td>NaN</td>\n",
              "    </tr>\n",
              "    <tr>\n",
              "      <th>3</th>\n",
              "      <td>2013-02-13</td>\n",
              "      <td>28.03</td>\n",
              "      <td>NaN</td>\n",
              "      <td>NaN</td>\n",
              "      <td>NaN</td>\n",
              "      <td>NaN</td>\n",
              "      <td>NaN</td>\n",
              "      <td>NaN</td>\n",
              "      <td>NaN</td>\n",
              "    </tr>\n",
              "    <tr>\n",
              "      <th>4</th>\n",
              "      <td>2013-02-14</td>\n",
              "      <td>28.04</td>\n",
              "      <td>NaN</td>\n",
              "      <td>NaN</td>\n",
              "      <td>NaN</td>\n",
              "      <td>NaN</td>\n",
              "      <td>NaN</td>\n",
              "      <td>NaN</td>\n",
              "      <td>NaN</td>\n",
              "    </tr>\n",
              "  </tbody>\n",
              "</table>\n",
              "</div>"
            ],
            "text/plain": [
              "        Date  Observed  t-8  t-9  t-10  t-11  t-12  t-13  t-14\n",
              "0 2013-02-08     27.55  NaN  NaN   NaN   NaN   NaN   NaN   NaN\n",
              "1 2013-02-11     27.86  NaN  NaN   NaN   NaN   NaN   NaN   NaN\n",
              "2 2013-02-12     27.88  NaN  NaN   NaN   NaN   NaN   NaN   NaN\n",
              "3 2013-02-13     28.03  NaN  NaN   NaN   NaN   NaN   NaN   NaN\n",
              "4 2013-02-14     28.04  NaN  NaN   NaN   NaN   NaN   NaN   NaN"
            ]
          },
          "metadata": {
            "tags": []
          },
          "execution_count": 7
        }
      ]
    },
    {
      "cell_type": "code",
      "metadata": {
        "colab": {
          "base_uri": "https://localhost:8080/",
          "height": 204
        },
        "id": "Yjg5dvUgz9jH",
        "outputId": "307f4359-aa70-45ef-bf8a-abca3b09b9e7"
      },
      "source": [
        "data.dropna(inplace=True)\n",
        "data.head()"
      ],
      "execution_count": null,
      "outputs": [
        {
          "output_type": "execute_result",
          "data": {
            "text/html": [
              "<div>\n",
              "<style scoped>\n",
              "    .dataframe tbody tr th:only-of-type {\n",
              "        vertical-align: middle;\n",
              "    }\n",
              "\n",
              "    .dataframe tbody tr th {\n",
              "        vertical-align: top;\n",
              "    }\n",
              "\n",
              "    .dataframe thead th {\n",
              "        text-align: right;\n",
              "    }\n",
              "</style>\n",
              "<table border=\"1\" class=\"dataframe\">\n",
              "  <thead>\n",
              "    <tr style=\"text-align: right;\">\n",
              "      <th></th>\n",
              "      <th>Date</th>\n",
              "      <th>Observed</th>\n",
              "      <th>t-8</th>\n",
              "      <th>t-9</th>\n",
              "      <th>t-10</th>\n",
              "      <th>t-11</th>\n",
              "      <th>t-12</th>\n",
              "      <th>t-13</th>\n",
              "      <th>t-14</th>\n",
              "    </tr>\n",
              "  </thead>\n",
              "  <tbody>\n",
              "    <tr>\n",
              "      <th>14</th>\n",
              "      <td>2013-03-01</td>\n",
              "      <td>27.95</td>\n",
              "      <td>28.045</td>\n",
              "      <td>28.010</td>\n",
              "      <td>28.040</td>\n",
              "      <td>28.030</td>\n",
              "      <td>27.880</td>\n",
              "      <td>27.86</td>\n",
              "      <td>27.55</td>\n",
              "    </tr>\n",
              "    <tr>\n",
              "      <th>15</th>\n",
              "      <td>2013-03-04</td>\n",
              "      <td>28.15</td>\n",
              "      <td>27.870</td>\n",
              "      <td>28.045</td>\n",
              "      <td>28.010</td>\n",
              "      <td>28.040</td>\n",
              "      <td>28.030</td>\n",
              "      <td>27.88</td>\n",
              "      <td>27.86</td>\n",
              "    </tr>\n",
              "    <tr>\n",
              "      <th>16</th>\n",
              "      <td>2013-03-05</td>\n",
              "      <td>28.35</td>\n",
              "      <td>27.490</td>\n",
              "      <td>27.870</td>\n",
              "      <td>28.045</td>\n",
              "      <td>28.010</td>\n",
              "      <td>28.040</td>\n",
              "      <td>28.03</td>\n",
              "      <td>27.88</td>\n",
              "    </tr>\n",
              "    <tr>\n",
              "      <th>17</th>\n",
              "      <td>2013-03-06</td>\n",
              "      <td>28.09</td>\n",
              "      <td>27.760</td>\n",
              "      <td>27.490</td>\n",
              "      <td>27.870</td>\n",
              "      <td>28.045</td>\n",
              "      <td>28.010</td>\n",
              "      <td>28.04</td>\n",
              "      <td>28.03</td>\n",
              "    </tr>\n",
              "    <tr>\n",
              "      <th>18</th>\n",
              "      <td>2013-03-07</td>\n",
              "      <td>28.14</td>\n",
              "      <td>27.370</td>\n",
              "      <td>27.760</td>\n",
              "      <td>27.490</td>\n",
              "      <td>27.870</td>\n",
              "      <td>28.045</td>\n",
              "      <td>28.01</td>\n",
              "      <td>28.04</td>\n",
              "    </tr>\n",
              "  </tbody>\n",
              "</table>\n",
              "</div>"
            ],
            "text/plain": [
              "         Date  Observed     t-8     t-9    t-10    t-11    t-12   t-13   t-14\n",
              "14 2013-03-01     27.95  28.045  28.010  28.040  28.030  27.880  27.86  27.55\n",
              "15 2013-03-04     28.15  27.870  28.045  28.010  28.040  28.030  27.88  27.86\n",
              "16 2013-03-05     28.35  27.490  27.870  28.045  28.010  28.040  28.03  27.88\n",
              "17 2013-03-06     28.09  27.760  27.490  27.870  28.045  28.010  28.04  28.03\n",
              "18 2013-03-07     28.14  27.370  27.760  27.490  27.870  28.045  28.01  28.04"
            ]
          },
          "metadata": {
            "tags": []
          },
          "execution_count": 8
        }
      ]
    },
    {
      "cell_type": "code",
      "metadata": {
        "id": "4cyauHP8z9lS"
      },
      "source": [
        "from sklearn.model_selection import train_test_split\n",
        "\n",
        "data.set_index('Date', inplace=True)\n",
        "X = data.drop(columns=['Observed'])\n",
        "y = data['Observed']\n",
        "\n",
        "X_train, X_test, y_train, y_test = train_test_split(X, y, test_size=0.2, shuffle=False)"
      ],
      "execution_count": null,
      "outputs": []
    },
    {
      "cell_type": "code",
      "metadata": {
        "colab": {
          "base_uri": "https://localhost:8080/",
          "height": 235
        },
        "id": "q_b-wjWW5G4K",
        "outputId": "f5999b0b-bb17-4556-aaf9-ab53f0a2582b"
      },
      "source": [
        "X_train.tail()"
      ],
      "execution_count": null,
      "outputs": [
        {
          "output_type": "execute_result",
          "data": {
            "text/html": [
              "<div>\n",
              "<style scoped>\n",
              "    .dataframe tbody tr th:only-of-type {\n",
              "        vertical-align: middle;\n",
              "    }\n",
              "\n",
              "    .dataframe tbody tr th {\n",
              "        vertical-align: top;\n",
              "    }\n",
              "\n",
              "    .dataframe thead th {\n",
              "        text-align: right;\n",
              "    }\n",
              "</style>\n",
              "<table border=\"1\" class=\"dataframe\">\n",
              "  <thead>\n",
              "    <tr style=\"text-align: right;\">\n",
              "      <th></th>\n",
              "      <th>t-8</th>\n",
              "      <th>t-9</th>\n",
              "      <th>t-10</th>\n",
              "      <th>t-11</th>\n",
              "      <th>t-12</th>\n",
              "      <th>t-13</th>\n",
              "      <th>t-14</th>\n",
              "    </tr>\n",
              "    <tr>\n",
              "      <th>Date</th>\n",
              "      <th></th>\n",
              "      <th></th>\n",
              "      <th></th>\n",
              "      <th></th>\n",
              "      <th></th>\n",
              "      <th></th>\n",
              "      <th></th>\n",
              "    </tr>\n",
              "  </thead>\n",
              "  <tbody>\n",
              "    <tr>\n",
              "      <th>2017-02-06</th>\n",
              "      <td>63.68</td>\n",
              "      <td>63.52</td>\n",
              "      <td>62.96</td>\n",
              "      <td>62.74</td>\n",
              "      <td>62.30</td>\n",
              "      <td>62.50</td>\n",
              "      <td>62.53</td>\n",
              "    </tr>\n",
              "    <tr>\n",
              "      <th>2017-02-07</th>\n",
              "      <td>64.27</td>\n",
              "      <td>63.68</td>\n",
              "      <td>63.52</td>\n",
              "      <td>62.96</td>\n",
              "      <td>62.74</td>\n",
              "      <td>62.30</td>\n",
              "      <td>62.50</td>\n",
              "    </tr>\n",
              "    <tr>\n",
              "      <th>2017-02-08</th>\n",
              "      <td>65.78</td>\n",
              "      <td>64.27</td>\n",
              "      <td>63.68</td>\n",
              "      <td>63.52</td>\n",
              "      <td>62.96</td>\n",
              "      <td>62.74</td>\n",
              "      <td>62.30</td>\n",
              "    </tr>\n",
              "    <tr>\n",
              "      <th>2017-02-09</th>\n",
              "      <td>65.13</td>\n",
              "      <td>65.78</td>\n",
              "      <td>64.27</td>\n",
              "      <td>63.68</td>\n",
              "      <td>63.52</td>\n",
              "      <td>62.96</td>\n",
              "      <td>62.74</td>\n",
              "    </tr>\n",
              "    <tr>\n",
              "      <th>2017-02-10</th>\n",
              "      <td>64.65</td>\n",
              "      <td>65.13</td>\n",
              "      <td>65.78</td>\n",
              "      <td>64.27</td>\n",
              "      <td>63.68</td>\n",
              "      <td>63.52</td>\n",
              "      <td>62.96</td>\n",
              "    </tr>\n",
              "  </tbody>\n",
              "</table>\n",
              "</div>"
            ],
            "text/plain": [
              "              t-8    t-9   t-10   t-11   t-12   t-13   t-14\n",
              "Date                                                       \n",
              "2017-02-06  63.68  63.52  62.96  62.74  62.30  62.50  62.53\n",
              "2017-02-07  64.27  63.68  63.52  62.96  62.74  62.30  62.50\n",
              "2017-02-08  65.78  64.27  63.68  63.52  62.96  62.74  62.30\n",
              "2017-02-09  65.13  65.78  64.27  63.68  63.52  62.96  62.74\n",
              "2017-02-10  64.65  65.13  65.78  64.27  63.68  63.52  62.96"
            ]
          },
          "metadata": {
            "tags": []
          },
          "execution_count": 10
        }
      ]
    },
    {
      "cell_type": "code",
      "metadata": {
        "colab": {
          "base_uri": "https://localhost:8080/",
          "height": 235
        },
        "id": "I3g-1k4Z5KD2",
        "outputId": "6293cb00-98b8-4c84-9061-5ea02b1d35c5"
      },
      "source": [
        "X_test.head()"
      ],
      "execution_count": null,
      "outputs": [
        {
          "output_type": "execute_result",
          "data": {
            "text/html": [
              "<div>\n",
              "<style scoped>\n",
              "    .dataframe tbody tr th:only-of-type {\n",
              "        vertical-align: middle;\n",
              "    }\n",
              "\n",
              "    .dataframe tbody tr th {\n",
              "        vertical-align: top;\n",
              "    }\n",
              "\n",
              "    .dataframe thead th {\n",
              "        text-align: right;\n",
              "    }\n",
              "</style>\n",
              "<table border=\"1\" class=\"dataframe\">\n",
              "  <thead>\n",
              "    <tr style=\"text-align: right;\">\n",
              "      <th></th>\n",
              "      <th>t-8</th>\n",
              "      <th>t-9</th>\n",
              "      <th>t-10</th>\n",
              "      <th>t-11</th>\n",
              "      <th>t-12</th>\n",
              "      <th>t-13</th>\n",
              "      <th>t-14</th>\n",
              "    </tr>\n",
              "    <tr>\n",
              "      <th>Date</th>\n",
              "      <th></th>\n",
              "      <th></th>\n",
              "      <th></th>\n",
              "      <th></th>\n",
              "      <th></th>\n",
              "      <th></th>\n",
              "      <th></th>\n",
              "    </tr>\n",
              "  </thead>\n",
              "  <tbody>\n",
              "    <tr>\n",
              "      <th>2017-02-13</th>\n",
              "      <td>63.58</td>\n",
              "      <td>64.65</td>\n",
              "      <td>65.13</td>\n",
              "      <td>65.78</td>\n",
              "      <td>64.27</td>\n",
              "      <td>63.68</td>\n",
              "      <td>63.52</td>\n",
              "    </tr>\n",
              "    <tr>\n",
              "      <th>2017-02-14</th>\n",
              "      <td>63.17</td>\n",
              "      <td>63.58</td>\n",
              "      <td>64.65</td>\n",
              "      <td>65.13</td>\n",
              "      <td>65.78</td>\n",
              "      <td>64.27</td>\n",
              "      <td>63.68</td>\n",
              "    </tr>\n",
              "    <tr>\n",
              "      <th>2017-02-15</th>\n",
              "      <td>63.68</td>\n",
              "      <td>63.17</td>\n",
              "      <td>63.58</td>\n",
              "      <td>64.65</td>\n",
              "      <td>65.13</td>\n",
              "      <td>65.78</td>\n",
              "      <td>64.27</td>\n",
              "    </tr>\n",
              "    <tr>\n",
              "      <th>2017-02-16</th>\n",
              "      <td>63.64</td>\n",
              "      <td>63.68</td>\n",
              "      <td>63.17</td>\n",
              "      <td>63.58</td>\n",
              "      <td>64.65</td>\n",
              "      <td>65.13</td>\n",
              "      <td>65.78</td>\n",
              "    </tr>\n",
              "    <tr>\n",
              "      <th>2017-02-17</th>\n",
              "      <td>63.43</td>\n",
              "      <td>63.64</td>\n",
              "      <td>63.68</td>\n",
              "      <td>63.17</td>\n",
              "      <td>63.58</td>\n",
              "      <td>64.65</td>\n",
              "      <td>65.13</td>\n",
              "    </tr>\n",
              "  </tbody>\n",
              "</table>\n",
              "</div>"
            ],
            "text/plain": [
              "              t-8    t-9   t-10   t-11   t-12   t-13   t-14\n",
              "Date                                                       \n",
              "2017-02-13  63.58  64.65  65.13  65.78  64.27  63.68  63.52\n",
              "2017-02-14  63.17  63.58  64.65  65.13  65.78  64.27  63.68\n",
              "2017-02-15  63.68  63.17  63.58  64.65  65.13  65.78  64.27\n",
              "2017-02-16  63.64  63.68  63.17  63.58  64.65  65.13  65.78\n",
              "2017-02-17  63.43  63.64  63.68  63.17  63.58  64.65  65.13"
            ]
          },
          "metadata": {
            "tags": []
          },
          "execution_count": 11
        }
      ]
    },
    {
      "cell_type": "code",
      "metadata": {
        "id": "s2bFTJ6A4YH9"
      },
      "source": [
        "# keep last 30 data points for OOS (out-of-sample)\n",
        "# X_train = X.iloc[:-30]\n",
        "# X_test = X.iloc[-30:]"
      ],
      "execution_count": null,
      "outputs": []
    },
    {
      "cell_type": "code",
      "metadata": {
        "colab": {
          "base_uri": "https://localhost:8080/"
        },
        "id": "Bb-33fRCz9nz",
        "outputId": "47d14507-14fa-483b-9866-565a22a796e0"
      },
      "source": [
        "from sklearn.linear_model import LinearRegression\n",
        "from sklearn.ensemble import RandomForestRegressor\n",
        "\n",
        "model = RandomForestRegressor()\n",
        "model.fit(X_train, y_train)"
      ],
      "execution_count": null,
      "outputs": [
        {
          "output_type": "execute_result",
          "data": {
            "text/plain": [
              "RandomForestRegressor(bootstrap=True, ccp_alpha=0.0, criterion='mse',\n",
              "                      max_depth=None, max_features='auto', max_leaf_nodes=None,\n",
              "                      max_samples=None, min_impurity_decrease=0.0,\n",
              "                      min_impurity_split=None, min_samples_leaf=1,\n",
              "                      min_samples_split=2, min_weight_fraction_leaf=0.0,\n",
              "                      n_estimators=100, n_jobs=None, oob_score=False,\n",
              "                      random_state=None, verbose=0, warm_start=False)"
            ]
          },
          "metadata": {
            "tags": []
          },
          "execution_count": 19
        }
      ]
    },
    {
      "cell_type": "code",
      "metadata": {
        "id": "KIdVK3inz9qC"
      },
      "source": [
        "predictions = model.predict(X_test)"
      ],
      "execution_count": null,
      "outputs": []
    },
    {
      "cell_type": "code",
      "metadata": {
        "colab": {
          "base_uri": "https://localhost:8080/"
        },
        "id": "_c3M95f3z9sl",
        "outputId": "337db66b-88e8-4985-e5e7-b76cce415b6b"
      },
      "source": [
        "print('R-Squared: ', r2_score(y_test, predictions))\n",
        "print('Mean Absolute Error', mean_absolute_error(y_test, predictions))\n",
        "print('Root Mean Squared Error', np.sqrt(mean_squared_error(y_test, predictions)))"
      ],
      "execution_count": null,
      "outputs": [
        {
          "output_type": "stream",
          "text": [
            "R-Squared:  -1.952524466710329\n",
            "Mean Absolute Error 11.531936546184774\n",
            "Root Mean Squared Error 14.155863363183087\n"
          ],
          "name": "stdout"
        }
      ]
    },
    {
      "cell_type": "code",
      "metadata": {
        "colab": {
          "base_uri": "https://localhost:8080/",
          "height": 235
        },
        "id": "_O-2q_c0z9vB",
        "outputId": "63d299b7-6228-4314-a941-106a0f48026a"
      },
      "source": [
        "X_train.head()"
      ],
      "execution_count": null,
      "outputs": [
        {
          "output_type": "execute_result",
          "data": {
            "text/html": [
              "<div>\n",
              "<style scoped>\n",
              "    .dataframe tbody tr th:only-of-type {\n",
              "        vertical-align: middle;\n",
              "    }\n",
              "\n",
              "    .dataframe tbody tr th {\n",
              "        vertical-align: top;\n",
              "    }\n",
              "\n",
              "    .dataframe thead th {\n",
              "        text-align: right;\n",
              "    }\n",
              "</style>\n",
              "<table border=\"1\" class=\"dataframe\">\n",
              "  <thead>\n",
              "    <tr style=\"text-align: right;\">\n",
              "      <th></th>\n",
              "      <th>t-8</th>\n",
              "      <th>t-9</th>\n",
              "      <th>t-10</th>\n",
              "      <th>t-11</th>\n",
              "      <th>t-12</th>\n",
              "      <th>t-13</th>\n",
              "      <th>t-14</th>\n",
              "    </tr>\n",
              "    <tr>\n",
              "      <th>Date</th>\n",
              "      <th></th>\n",
              "      <th></th>\n",
              "      <th></th>\n",
              "      <th></th>\n",
              "      <th></th>\n",
              "      <th></th>\n",
              "      <th></th>\n",
              "    </tr>\n",
              "  </thead>\n",
              "  <tbody>\n",
              "    <tr>\n",
              "      <th>2013-03-01</th>\n",
              "      <td>28.045</td>\n",
              "      <td>28.010</td>\n",
              "      <td>28.040</td>\n",
              "      <td>28.030</td>\n",
              "      <td>27.880</td>\n",
              "      <td>27.86</td>\n",
              "      <td>27.55</td>\n",
              "    </tr>\n",
              "    <tr>\n",
              "      <th>2013-03-04</th>\n",
              "      <td>27.870</td>\n",
              "      <td>28.045</td>\n",
              "      <td>28.010</td>\n",
              "      <td>28.040</td>\n",
              "      <td>28.030</td>\n",
              "      <td>27.88</td>\n",
              "      <td>27.86</td>\n",
              "    </tr>\n",
              "    <tr>\n",
              "      <th>2013-03-05</th>\n",
              "      <td>27.490</td>\n",
              "      <td>27.870</td>\n",
              "      <td>28.045</td>\n",
              "      <td>28.010</td>\n",
              "      <td>28.040</td>\n",
              "      <td>28.03</td>\n",
              "      <td>27.88</td>\n",
              "    </tr>\n",
              "    <tr>\n",
              "      <th>2013-03-06</th>\n",
              "      <td>27.760</td>\n",
              "      <td>27.490</td>\n",
              "      <td>27.870</td>\n",
              "      <td>28.045</td>\n",
              "      <td>28.010</td>\n",
              "      <td>28.04</td>\n",
              "      <td>28.03</td>\n",
              "    </tr>\n",
              "    <tr>\n",
              "      <th>2013-03-07</th>\n",
              "      <td>27.370</td>\n",
              "      <td>27.760</td>\n",
              "      <td>27.490</td>\n",
              "      <td>27.870</td>\n",
              "      <td>28.045</td>\n",
              "      <td>28.01</td>\n",
              "      <td>28.04</td>\n",
              "    </tr>\n",
              "  </tbody>\n",
              "</table>\n",
              "</div>"
            ],
            "text/plain": [
              "               t-8     t-9    t-10    t-11    t-12   t-13   t-14\n",
              "Date                                                            \n",
              "2013-03-01  28.045  28.010  28.040  28.030  27.880  27.86  27.55\n",
              "2013-03-04  27.870  28.045  28.010  28.040  28.030  27.88  27.86\n",
              "2013-03-05  27.490  27.870  28.045  28.010  28.040  28.03  27.88\n",
              "2013-03-06  27.760  27.490  27.870  28.045  28.010  28.04  28.03\n",
              "2013-03-07  27.370  27.760  27.490  27.870  28.045  28.01  28.04"
            ]
          },
          "metadata": {
            "tags": []
          },
          "execution_count": 16
        }
      ]
    },
    {
      "cell_type": "code",
      "metadata": {
        "colab": {
          "base_uri": "https://localhost:8080/",
          "height": 235
        },
        "id": "nYsPH_Z13vo9",
        "outputId": "7bc63283-f120-48c5-f659-6cedc4980bc7"
      },
      "source": [
        "X_test.head()"
      ],
      "execution_count": null,
      "outputs": [
        {
          "output_type": "execute_result",
          "data": {
            "text/html": [
              "<div>\n",
              "<style scoped>\n",
              "    .dataframe tbody tr th:only-of-type {\n",
              "        vertical-align: middle;\n",
              "    }\n",
              "\n",
              "    .dataframe tbody tr th {\n",
              "        vertical-align: top;\n",
              "    }\n",
              "\n",
              "    .dataframe thead th {\n",
              "        text-align: right;\n",
              "    }\n",
              "</style>\n",
              "<table border=\"1\" class=\"dataframe\">\n",
              "  <thead>\n",
              "    <tr style=\"text-align: right;\">\n",
              "      <th></th>\n",
              "      <th>t-8</th>\n",
              "      <th>t-9</th>\n",
              "      <th>t-10</th>\n",
              "      <th>t-11</th>\n",
              "      <th>t-12</th>\n",
              "      <th>t-13</th>\n",
              "      <th>t-14</th>\n",
              "    </tr>\n",
              "    <tr>\n",
              "      <th>Date</th>\n",
              "      <th></th>\n",
              "      <th></th>\n",
              "      <th></th>\n",
              "      <th></th>\n",
              "      <th></th>\n",
              "      <th></th>\n",
              "      <th></th>\n",
              "    </tr>\n",
              "  </thead>\n",
              "  <tbody>\n",
              "    <tr>\n",
              "      <th>2017-02-13</th>\n",
              "      <td>63.58</td>\n",
              "      <td>64.65</td>\n",
              "      <td>65.13</td>\n",
              "      <td>65.78</td>\n",
              "      <td>64.27</td>\n",
              "      <td>63.68</td>\n",
              "      <td>63.52</td>\n",
              "    </tr>\n",
              "    <tr>\n",
              "      <th>2017-02-14</th>\n",
              "      <td>63.17</td>\n",
              "      <td>63.58</td>\n",
              "      <td>64.65</td>\n",
              "      <td>65.13</td>\n",
              "      <td>65.78</td>\n",
              "      <td>64.27</td>\n",
              "      <td>63.68</td>\n",
              "    </tr>\n",
              "    <tr>\n",
              "      <th>2017-02-15</th>\n",
              "      <td>63.68</td>\n",
              "      <td>63.17</td>\n",
              "      <td>63.58</td>\n",
              "      <td>64.65</td>\n",
              "      <td>65.13</td>\n",
              "      <td>65.78</td>\n",
              "      <td>64.27</td>\n",
              "    </tr>\n",
              "    <tr>\n",
              "      <th>2017-02-16</th>\n",
              "      <td>63.64</td>\n",
              "      <td>63.68</td>\n",
              "      <td>63.17</td>\n",
              "      <td>63.58</td>\n",
              "      <td>64.65</td>\n",
              "      <td>65.13</td>\n",
              "      <td>65.78</td>\n",
              "    </tr>\n",
              "    <tr>\n",
              "      <th>2017-02-17</th>\n",
              "      <td>63.43</td>\n",
              "      <td>63.64</td>\n",
              "      <td>63.68</td>\n",
              "      <td>63.17</td>\n",
              "      <td>63.58</td>\n",
              "      <td>64.65</td>\n",
              "      <td>65.13</td>\n",
              "    </tr>\n",
              "  </tbody>\n",
              "</table>\n",
              "</div>"
            ],
            "text/plain": [
              "              t-8    t-9   t-10   t-11   t-12   t-13   t-14\n",
              "Date                                                       \n",
              "2017-02-13  63.58  64.65  65.13  65.78  64.27  63.68  63.52\n",
              "2017-02-14  63.17  63.58  64.65  65.13  65.78  64.27  63.68\n",
              "2017-02-15  63.68  63.17  63.58  64.65  65.13  65.78  64.27\n",
              "2017-02-16  63.64  63.68  63.17  63.58  64.65  65.13  65.78\n",
              "2017-02-17  63.43  63.64  63.68  63.17  63.58  64.65  65.13"
            ]
          },
          "metadata": {
            "tags": []
          },
          "execution_count": 17
        }
      ]
    },
    {
      "cell_type": "code",
      "metadata": {
        "colab": {
          "base_uri": "https://localhost:8080/",
          "height": 542
        },
        "id": "LwE8jnxl3J70",
        "outputId": "2676b25f-20f8-475f-c2b3-cb82f5f400b9"
      },
      "source": [
        "def iscatter(df, x, y, color=None, size=None, title=''):\n",
        "    fig = px.scatter(df, x=x, y=y, color=color, size=size, \n",
        "                     title=title, template='none')\n",
        "    \n",
        "    fig.update_traces(marker_line_color='black', \n",
        "                  marker_line_width=1)\n",
        "\n",
        "    fig.show()\n",
        "    \n",
        "results = pd.DataFrame([list(y_test), predictions], index=['Observed', 'Predicted']).T\n",
        "iscatter(results, 'Observed', 'Predicted', title='Observed vs. Predicted')\n"
      ],
      "execution_count": null,
      "outputs": [
        {
          "output_type": "display_data",
          "data": {
            "text/html": [
              "<html>\n",
              "<head><meta charset=\"utf-8\" /></head>\n",
              "<body>\n",
              "    <div>\n",
              "            <script src=\"https://cdnjs.cloudflare.com/ajax/libs/mathjax/2.7.5/MathJax.js?config=TeX-AMS-MML_SVG\"></script><script type=\"text/javascript\">if (window.MathJax) {MathJax.Hub.Config({SVG: {font: \"STIX-Web\"}});}</script>\n",
              "                <script type=\"text/javascript\">window.PlotlyConfig = {MathJaxConfig: 'local'};</script>\n",
              "        <script src=\"https://cdn.plot.ly/plotly-latest.min.js\"></script>    \n",
              "            <div id=\"61919d32-371c-445d-a9a2-bb2872686507\" class=\"plotly-graph-div\" style=\"height:525px; width:100%;\"></div>\n",
              "            <script type=\"text/javascript\">\n",
              "                \n",
              "                    window.PLOTLYENV=window.PLOTLYENV || {};\n",
              "                    \n",
              "                if (document.getElementById(\"61919d32-371c-445d-a9a2-bb2872686507\")) {\n",
              "                    Plotly.newPlot(\n",
              "                        '61919d32-371c-445d-a9a2-bb2872686507',\n",
              "                        [{\"hoverlabel\": {\"namelength\": 0}, \"hovertemplate\": \"Observed=%{x}<br>Predicted=%{y}\", \"legendgroup\": \"\", \"marker\": {\"color\": \"#1F77B4\", \"line\": {\"color\": \"black\", \"width\": 1}, \"symbol\": \"circle\"}, \"mode\": \"markers\", \"name\": \"\", \"showlegend\": false, \"type\": \"scatter\", \"x\": [64.72, 64.57, 64.53, 64.52, 64.62, 64.49, 64.36, 64.62, 64.62, 64.23, 63.98, 64.94, 64.01, 64.25, 64.27, 64.4, 64.99, 64.73, 64.93, 64.71, 64.41, 64.75, 64.64, 64.87, 64.93, 64.21, 65.03, 64.87, 64.98, 65.1, 65.29, 65.47, 65.71, 65.86, 65.55, 65.73, 65.56, 65.73, 65.68, 65.53, 65.48, 65.23, 64.95, 65.48, 65.39, 65.04, 65.5, 66.4, 67.53, 67.92, 67.83, 68.27, 68.46, 69.41, 69.3, 69.08, 68.81, 69.0, 68.94, 69.04, 69.31, 68.46, 68.38, 68.43, 69.41, 67.48, 67.71, 67.69, 68.45, 68.68, 68.77, 69.62, 69.96, 70.41, 69.84, 70.1, 71.76, 72.28, 72.52, 72.39, 71.95, 70.32, 69.78, 70.65, 70.27, 69.9, 70.0, 70.87, 69.91, 70.27, 70.26, 71.21, 70.53, 69.21, 69.8, 68.49, 68.93, 68.17, 69.08, 68.57, 69.46, 69.98, 69.99, 71.15, 71.77, 72.78, 73.35, 73.3, 73.86, 74.22, 73.79, 73.6, 74.19, 74.05, 73.16, 73.04, 72.7, 72.58, 72.26, 72.15, 72.68, 72.4, 72.79, 72.47, 71.41, 72.5, 73.59, 73.22, 73.65, 72.4, 72.49, 72.15, 73.16, 72.72, 72.69, 72.82, 72.83, 73.05, 74.01, 74.77, 73.94, 73.61, 73.4, 74.34, 73.98, 74.76, 74.68, 75.21, 74.77, 75.31, 75.16, 75.44, 74.94, 74.21, 74.41, 73.26, 73.26, 73.85, 73.87, 74.49, 74.61, 74.26, 74.69, 75.97, 76.0, 76.29, 76.29, 76.42, 77.12, 77.49, 77.65, 77.59, 77.61, 77.91, 78.81, 78.83, 78.86, 78.63, 78.76, 83.81, 83.89, 83.18, 83.18, 84.05, 84.14, 84.47, 84.27, 84.56, 84.09, 83.87, 83.93, 84.05, 82.98, 83.2, 82.4, 82.53, 83.72, 83.11, 83.26, 83.87, 84.88, 83.34, 84.17, 84.26, 81.08, 81.59, 82.78, 82.49, 84.16, 85.23, 85.58, 85.35, 84.69, 86.85, 86.38, 85.83, 85.52, 85.5, 85.51, 85.4, 85.71, 85.72, 85.54, 85.95, 86.35, 87.11, 88.19, 88.28, 88.22, 87.82, 88.08, 89.6, 88.35, 90.14, 90.1, 90.0, 91.61, 91.9, 91.82, 92.33, 94.06, 93.92, 92.74, 95.01, 94.26, 91.78, 88.0, 91.33, 89.61], \"xaxis\": \"x\", \"y\": [62.99449999999996, 63.021999999999956, 63.081999999999965, 62.94189999999994, 62.956599999999945, 62.70779999999999, 63.12459999999997, 63.21529999999994, 63.040899999999986, 63.13799999999999, 63.278599999999955, 63.242399999999954, 63.23109999999995, 63.23109999999995, 63.23349999999995, 63.22539999999995, 63.22749999999996, 63.23349999999995, 63.192999999999955, 63.22269999999996, 63.26919999999995, 63.249299999999955, 63.212499999999956, 63.212499999999956, 63.226299999999966, 63.315999999999946, 63.35099999999996, 63.34919999999995, 63.337199999999946, 63.26759999999996, 63.30969999999995, 63.26759999999996, 63.325899999999955, 63.337199999999946, 63.25949999999996, 63.31869999999995, 63.350399999999965, 63.35099999999996, 63.35729999999996, 63.35669999999996, 63.357899999999965, 63.357899999999965, 63.357899999999965, 63.357899999999965, 63.357899999999965, 63.357899999999965, 63.357899999999965, 63.357899999999965, 63.357899999999965, 63.357899999999965, 63.35669999999996, 63.350399999999965, 63.358499999999964, 63.35669999999996, 63.35669999999996, 63.357899999999965, 63.357899999999965, 63.357899999999965, 63.357899999999965, 63.357899999999965, 63.357899999999965, 63.357899999999965, 63.357899999999965, 63.357899999999965, 63.357899999999965, 63.357899999999965, 63.357899999999965, 63.357899999999965, 63.357899999999965, 63.357899999999965, 63.357899999999965, 63.357899999999965, 63.357899999999965, 63.357899999999965, 63.357899999999965, 63.357899999999965, 63.357899999999965, 63.357899999999965, 63.357899999999965, 63.357899999999965, 63.357899999999965, 63.357899999999965, 63.357899999999965, 63.357899999999965, 63.357899999999965, 63.357899999999965, 63.357899999999965, 63.357899999999965, 63.357899999999965, 63.357899999999965, 63.357899999999965, 63.357899999999965, 63.357899999999965, 63.357899999999965, 63.357899999999965, 63.357899999999965, 63.357899999999965, 63.357899999999965, 63.357899999999965, 63.357899999999965, 63.357899999999965, 63.357899999999965, 63.357899999999965, 63.357899999999965, 63.357899999999965, 63.357899999999965, 63.357899999999965, 63.357899999999965, 63.357899999999965, 63.357899999999965, 63.357899999999965, 63.357899999999965, 63.357899999999965, 63.357899999999965, 63.357899999999965, 63.357899999999965, 63.357899999999965, 63.357899999999965, 63.357899999999965, 63.357899999999965, 63.357899999999965, 63.357899999999965, 63.357899999999965, 63.357899999999965, 63.357899999999965, 63.357899999999965, 63.357899999999965, 63.357899999999965, 63.357899999999965, 63.357899999999965, 63.357899999999965, 63.357899999999965, 63.357899999999965, 63.357899999999965, 63.357899999999965, 63.357899999999965, 63.357899999999965, 63.357899999999965, 63.357899999999965, 63.357899999999965, 63.357899999999965, 63.357899999999965, 63.357899999999965, 63.357899999999965, 63.357899999999965, 63.357899999999965, 63.357899999999965, 63.357899999999965, 63.357899999999965, 63.357899999999965, 63.357899999999965, 63.357899999999965, 63.357899999999965, 63.357899999999965, 63.357899999999965, 63.357899999999965, 63.357899999999965, 63.357899999999965, 63.357899999999965, 63.357899999999965, 63.357899999999965, 63.357899999999965, 63.357899999999965, 63.357899999999965, 63.357899999999965, 63.357899999999965, 63.357899999999965, 63.357899999999965, 63.357899999999965, 63.357899999999965, 63.357899999999965, 63.357899999999965, 63.357899999999965, 63.357899999999965, 63.357899999999965, 63.357899999999965, 63.357899999999965, 63.357899999999965, 63.357899999999965, 63.357899999999965, 63.357899999999965, 63.357899999999965, 63.357899999999965, 63.357899999999965, 63.357899999999965, 63.357899999999965, 63.357899999999965, 63.357899999999965, 63.357899999999965, 63.357899999999965, 63.357899999999965, 63.357899999999965, 63.357899999999965, 63.357899999999965, 63.357899999999965, 63.357899999999965, 63.357899999999965, 63.357899999999965, 63.357899999999965, 63.357899999999965, 63.357899999999965, 63.357899999999965, 63.357899999999965, 63.357899999999965, 63.357899999999965, 63.357899999999965, 63.357899999999965, 63.357899999999965, 63.357899999999965, 63.357899999999965, 63.357899999999965, 63.357899999999965, 63.357899999999965, 63.357899999999965, 63.357899999999965, 63.357899999999965, 63.357899999999965, 63.357899999999965, 63.357899999999965, 63.357899999999965, 63.357899999999965, 63.357899999999965, 63.357899999999965, 63.357899999999965, 63.357899999999965, 63.357899999999965, 63.357899999999965, 63.357899999999965, 63.357899999999965, 63.357899999999965, 63.357899999999965, 63.357899999999965, 63.357899999999965, 63.357899999999965, 63.357899999999965, 63.357899999999965, 63.357899999999965, 63.357899999999965, 63.357899999999965, 63.357899999999965, 63.357899999999965, 63.357899999999965, 63.357899999999965, 63.357899999999965, 63.357899999999965, 63.357899999999965, 63.357899999999965, 63.357899999999965, 63.357899999999965], \"yaxis\": \"y\"}],\n",
              "                        {\"legend\": {\"tracegroupgap\": 0}, \"template\": {\"data\": {\"scatter\": [{\"type\": \"scatter\"}]}}, \"title\": {\"text\": \"Observed vs. Predicted\"}, \"xaxis\": {\"anchor\": \"y\", \"domain\": [0.0, 1.0], \"title\": {\"text\": \"Observed\"}}, \"yaxis\": {\"anchor\": \"x\", \"domain\": [0.0, 1.0], \"title\": {\"text\": \"Predicted\"}}},\n",
              "                        {\"responsive\": true}\n",
              "                    ).then(function(){\n",
              "                            \n",
              "var gd = document.getElementById('61919d32-371c-445d-a9a2-bb2872686507');\n",
              "var x = new MutationObserver(function (mutations, observer) {{\n",
              "        var display = window.getComputedStyle(gd).display;\n",
              "        if (!display || display === 'none') {{\n",
              "            console.log([gd, 'removed!']);\n",
              "            Plotly.purge(gd);\n",
              "            observer.disconnect();\n",
              "        }}\n",
              "}});\n",
              "\n",
              "// Listen for the removal of the full notebook cells\n",
              "var notebookContainer = gd.closest('#notebook-container');\n",
              "if (notebookContainer) {{\n",
              "    x.observe(notebookContainer, {childList: true});\n",
              "}}\n",
              "\n",
              "// Listen for the clearing of the current output cell\n",
              "var outputEl = gd.closest('.output');\n",
              "if (outputEl) {{\n",
              "    x.observe(outputEl, {childList: true});\n",
              "}}\n",
              "\n",
              "                        })\n",
              "                };\n",
              "                \n",
              "            </script>\n",
              "        </div>\n",
              "</body>\n",
              "</html>"
            ]
          },
          "metadata": {
            "tags": []
          }
        }
      ]
    },
    {
      "cell_type": "code",
      "metadata": {
        "id": "1HSFoMBh3kOn"
      },
      "source": [
        ""
      ],
      "execution_count": null,
      "outputs": []
    },
    {
      "cell_type": "code",
      "metadata": {
        "id": "SZqNDHha6z-6"
      },
      "source": [
        "# predicting multiple timesteps into future\n",
        "\n",
        "history = 7\n",
        "future = 5\n",
        "\n",
        "shifted = data.copy()[['Observed']]\n",
        "shifted.columns = ['t+0']\n",
        "\n",
        "past_shifts = [x for x in range(1, history+1)]\n",
        "future_shifts = [x for x in range(1, future)]"
      ],
      "execution_count": null,
      "outputs": []
    },
    {
      "cell_type": "code",
      "metadata": {
        "colab": {
          "base_uri": "https://localhost:8080/"
        },
        "id": "m39MDyH260Bk",
        "outputId": "6fddae9e-f98d-44b8-8110-f6535ffb0041"
      },
      "source": [
        "past_shifts"
      ],
      "execution_count": null,
      "outputs": [
        {
          "output_type": "execute_result",
          "data": {
            "text/plain": [
              "[1, 2, 3, 4, 5, 6, 7]"
            ]
          },
          "metadata": {
            "tags": []
          },
          "execution_count": 31
        }
      ]
    },
    {
      "cell_type": "code",
      "metadata": {
        "colab": {
          "base_uri": "https://localhost:8080/"
        },
        "id": "jKsJaDVQ60Em",
        "outputId": "e85f8403-e4a1-4c33-d4cf-26c86111e02a"
      },
      "source": [
        "future_shifts"
      ],
      "execution_count": null,
      "outputs": [
        {
          "output_type": "execute_result",
          "data": {
            "text/plain": [
              "[1, 2, 3, 4]"
            ]
          },
          "metadata": {
            "tags": []
          },
          "execution_count": 32
        }
      ]
    },
    {
      "cell_type": "code",
      "metadata": {
        "id": "RSfFCjF860Hd"
      },
      "source": [
        "for shift in past_shifts:\n",
        "  shifted[f't-{shift}'] = shifted['t+0'].shift(shift)"
      ],
      "execution_count": null,
      "outputs": []
    },
    {
      "cell_type": "code",
      "metadata": {
        "id": "sZvibY7b8nhA"
      },
      "source": [
        "for shift in future_shifts:\n",
        "  shifted[f't+{shift}'] = shifted['t+0'].shift(-shift)"
      ],
      "execution_count": null,
      "outputs": []
    },
    {
      "cell_type": "code",
      "metadata": {
        "colab": {
          "base_uri": "https://localhost:8080/",
          "height": 235
        },
        "id": "IRbGLgSZ8v08",
        "outputId": "a582f653-b9cd-4c38-fcf4-7fa84984f61d"
      },
      "source": [
        "shifted.dropna(inplace=True)\n",
        "shifted.head()"
      ],
      "execution_count": null,
      "outputs": [
        {
          "output_type": "execute_result",
          "data": {
            "text/html": [
              "<div>\n",
              "<style scoped>\n",
              "    .dataframe tbody tr th:only-of-type {\n",
              "        vertical-align: middle;\n",
              "    }\n",
              "\n",
              "    .dataframe tbody tr th {\n",
              "        vertical-align: top;\n",
              "    }\n",
              "\n",
              "    .dataframe thead th {\n",
              "        text-align: right;\n",
              "    }\n",
              "</style>\n",
              "<table border=\"1\" class=\"dataframe\">\n",
              "  <thead>\n",
              "    <tr style=\"text-align: right;\">\n",
              "      <th></th>\n",
              "      <th>t+0</th>\n",
              "      <th>t-1</th>\n",
              "      <th>t-2</th>\n",
              "      <th>t-3</th>\n",
              "      <th>t-4</th>\n",
              "      <th>t-5</th>\n",
              "      <th>t-6</th>\n",
              "      <th>t-7</th>\n",
              "      <th>t+1</th>\n",
              "      <th>t+2</th>\n",
              "      <th>t+3</th>\n",
              "      <th>t+4</th>\n",
              "    </tr>\n",
              "    <tr>\n",
              "      <th>Date</th>\n",
              "      <th></th>\n",
              "      <th></th>\n",
              "      <th></th>\n",
              "      <th></th>\n",
              "      <th></th>\n",
              "      <th></th>\n",
              "      <th></th>\n",
              "      <th></th>\n",
              "      <th></th>\n",
              "      <th></th>\n",
              "      <th></th>\n",
              "      <th></th>\n",
              "    </tr>\n",
              "  </thead>\n",
              "  <tbody>\n",
              "    <tr>\n",
              "      <th>2013-03-12</th>\n",
              "      <td>27.910</td>\n",
              "      <td>27.870</td>\n",
              "      <td>28.000</td>\n",
              "      <td>28.140</td>\n",
              "      <td>28.09</td>\n",
              "      <td>28.35</td>\n",
              "      <td>28.15</td>\n",
              "      <td>27.95</td>\n",
              "      <td>27.915</td>\n",
              "      <td>28.135</td>\n",
              "      <td>28.035</td>\n",
              "      <td>28.100</td>\n",
              "    </tr>\n",
              "    <tr>\n",
              "      <th>2013-03-13</th>\n",
              "      <td>27.915</td>\n",
              "      <td>27.910</td>\n",
              "      <td>27.870</td>\n",
              "      <td>28.000</td>\n",
              "      <td>28.14</td>\n",
              "      <td>28.09</td>\n",
              "      <td>28.35</td>\n",
              "      <td>28.15</td>\n",
              "      <td>28.135</td>\n",
              "      <td>28.035</td>\n",
              "      <td>28.100</td>\n",
              "      <td>28.180</td>\n",
              "    </tr>\n",
              "    <tr>\n",
              "      <th>2013-03-14</th>\n",
              "      <td>28.135</td>\n",
              "      <td>27.915</td>\n",
              "      <td>27.910</td>\n",
              "      <td>27.870</td>\n",
              "      <td>28.00</td>\n",
              "      <td>28.14</td>\n",
              "      <td>28.09</td>\n",
              "      <td>28.35</td>\n",
              "      <td>28.035</td>\n",
              "      <td>28.100</td>\n",
              "      <td>28.180</td>\n",
              "      <td>28.315</td>\n",
              "    </tr>\n",
              "    <tr>\n",
              "      <th>2013-03-15</th>\n",
              "      <td>28.035</td>\n",
              "      <td>28.135</td>\n",
              "      <td>27.915</td>\n",
              "      <td>27.910</td>\n",
              "      <td>27.87</td>\n",
              "      <td>28.00</td>\n",
              "      <td>28.14</td>\n",
              "      <td>28.09</td>\n",
              "      <td>28.100</td>\n",
              "      <td>28.180</td>\n",
              "      <td>28.315</td>\n",
              "      <td>28.110</td>\n",
              "    </tr>\n",
              "    <tr>\n",
              "      <th>2013-03-18</th>\n",
              "      <td>28.100</td>\n",
              "      <td>28.035</td>\n",
              "      <td>28.135</td>\n",
              "      <td>27.915</td>\n",
              "      <td>27.91</td>\n",
              "      <td>27.87</td>\n",
              "      <td>28.00</td>\n",
              "      <td>28.14</td>\n",
              "      <td>28.180</td>\n",
              "      <td>28.315</td>\n",
              "      <td>28.110</td>\n",
              "      <td>28.250</td>\n",
              "    </tr>\n",
              "  </tbody>\n",
              "</table>\n",
              "</div>"
            ],
            "text/plain": [
              "               t+0     t-1     t-2     t-3  ...     t+1     t+2     t+3     t+4\n",
              "Date                                        ...                                \n",
              "2013-03-12  27.910  27.870  28.000  28.140  ...  27.915  28.135  28.035  28.100\n",
              "2013-03-13  27.915  27.910  27.870  28.000  ...  28.135  28.035  28.100  28.180\n",
              "2013-03-14  28.135  27.915  27.910  27.870  ...  28.035  28.100  28.180  28.315\n",
              "2013-03-15  28.035  28.135  27.915  27.910  ...  28.100  28.180  28.315  28.110\n",
              "2013-03-18  28.100  28.035  28.135  27.915  ...  28.180  28.315  28.110  28.250\n",
              "\n",
              "[5 rows x 12 columns]"
            ]
          },
          "metadata": {
            "tags": []
          },
          "execution_count": 35
        }
      ]
    },
    {
      "cell_type": "code",
      "metadata": {
        "colab": {
          "base_uri": "https://localhost:8080/",
          "height": 235
        },
        "id": "nRtvy4Wq80Vq",
        "outputId": "f9a0b2f7-21b9-48b3-cc12-18c65c5ab0d8"
      },
      "source": [
        "X = shifted[[f't-{shift}' for shift in past_shifts]]\n",
        "X.head()"
      ],
      "execution_count": null,
      "outputs": [
        {
          "output_type": "execute_result",
          "data": {
            "text/html": [
              "<div>\n",
              "<style scoped>\n",
              "    .dataframe tbody tr th:only-of-type {\n",
              "        vertical-align: middle;\n",
              "    }\n",
              "\n",
              "    .dataframe tbody tr th {\n",
              "        vertical-align: top;\n",
              "    }\n",
              "\n",
              "    .dataframe thead th {\n",
              "        text-align: right;\n",
              "    }\n",
              "</style>\n",
              "<table border=\"1\" class=\"dataframe\">\n",
              "  <thead>\n",
              "    <tr style=\"text-align: right;\">\n",
              "      <th></th>\n",
              "      <th>t-1</th>\n",
              "      <th>t-2</th>\n",
              "      <th>t-3</th>\n",
              "      <th>t-4</th>\n",
              "      <th>t-5</th>\n",
              "      <th>t-6</th>\n",
              "      <th>t-7</th>\n",
              "    </tr>\n",
              "    <tr>\n",
              "      <th>Date</th>\n",
              "      <th></th>\n",
              "      <th></th>\n",
              "      <th></th>\n",
              "      <th></th>\n",
              "      <th></th>\n",
              "      <th></th>\n",
              "      <th></th>\n",
              "    </tr>\n",
              "  </thead>\n",
              "  <tbody>\n",
              "    <tr>\n",
              "      <th>2013-03-12</th>\n",
              "      <td>27.870</td>\n",
              "      <td>28.000</td>\n",
              "      <td>28.140</td>\n",
              "      <td>28.09</td>\n",
              "      <td>28.35</td>\n",
              "      <td>28.15</td>\n",
              "      <td>27.95</td>\n",
              "    </tr>\n",
              "    <tr>\n",
              "      <th>2013-03-13</th>\n",
              "      <td>27.910</td>\n",
              "      <td>27.870</td>\n",
              "      <td>28.000</td>\n",
              "      <td>28.14</td>\n",
              "      <td>28.09</td>\n",
              "      <td>28.35</td>\n",
              "      <td>28.15</td>\n",
              "    </tr>\n",
              "    <tr>\n",
              "      <th>2013-03-14</th>\n",
              "      <td>27.915</td>\n",
              "      <td>27.910</td>\n",
              "      <td>27.870</td>\n",
              "      <td>28.00</td>\n",
              "      <td>28.14</td>\n",
              "      <td>28.09</td>\n",
              "      <td>28.35</td>\n",
              "    </tr>\n",
              "    <tr>\n",
              "      <th>2013-03-15</th>\n",
              "      <td>28.135</td>\n",
              "      <td>27.915</td>\n",
              "      <td>27.910</td>\n",
              "      <td>27.87</td>\n",
              "      <td>28.00</td>\n",
              "      <td>28.14</td>\n",
              "      <td>28.09</td>\n",
              "    </tr>\n",
              "    <tr>\n",
              "      <th>2013-03-18</th>\n",
              "      <td>28.035</td>\n",
              "      <td>28.135</td>\n",
              "      <td>27.915</td>\n",
              "      <td>27.91</td>\n",
              "      <td>27.87</td>\n",
              "      <td>28.00</td>\n",
              "      <td>28.14</td>\n",
              "    </tr>\n",
              "  </tbody>\n",
              "</table>\n",
              "</div>"
            ],
            "text/plain": [
              "               t-1     t-2     t-3    t-4    t-5    t-6    t-7\n",
              "Date                                                          \n",
              "2013-03-12  27.870  28.000  28.140  28.09  28.35  28.15  27.95\n",
              "2013-03-13  27.910  27.870  28.000  28.14  28.09  28.35  28.15\n",
              "2013-03-14  27.915  27.910  27.870  28.00  28.14  28.09  28.35\n",
              "2013-03-15  28.135  27.915  27.910  27.87  28.00  28.14  28.09\n",
              "2013-03-18  28.035  28.135  27.915  27.91  27.87  28.00  28.14"
            ]
          },
          "metadata": {
            "tags": []
          },
          "execution_count": 36
        }
      ]
    },
    {
      "cell_type": "code",
      "metadata": {
        "colab": {
          "base_uri": "https://localhost:8080/"
        },
        "id": "2xajNRKf9t0j",
        "outputId": "8c1993df-6708-40a9-8492-a97c2ccda1f1"
      },
      "source": [
        "future_shifts"
      ],
      "execution_count": null,
      "outputs": [
        {
          "output_type": "execute_result",
          "data": {
            "text/plain": [
              "[1, 2, 3, 4]"
            ]
          },
          "metadata": {
            "tags": []
          },
          "execution_count": 37
        }
      ]
    },
    {
      "cell_type": "code",
      "metadata": {
        "colab": {
          "base_uri": "https://localhost:8080/"
        },
        "id": "zJloGG0o9mLP",
        "outputId": "689d25bd-2c23-4802-cefe-3a205e9a9912"
      },
      "source": [
        "future_shifts = [0] + future_shifts\n",
        "future_shifts"
      ],
      "execution_count": null,
      "outputs": [
        {
          "output_type": "execute_result",
          "data": {
            "text/plain": [
              "[0, 1, 2, 3, 4]"
            ]
          },
          "metadata": {
            "tags": []
          },
          "execution_count": 38
        }
      ]
    },
    {
      "cell_type": "code",
      "metadata": {
        "colab": {
          "base_uri": "https://localhost:8080/"
        },
        "id": "3dgv-sxL9QOs",
        "outputId": "30e0392f-bef2-4887-d5cb-c11386c64f7b"
      },
      "source": [
        "import pickle\n",
        "models = []\n",
        "\n",
        "for future_shift in future_shifts:\n",
        "  # changing the target variable each iteration\n",
        "  y = shifted[f't+{future_shift}']\n",
        "  X_train, X_test, y_train, y_test = train_test_split(X, y, test_size=0.2, shuffle=False)\n",
        "\n",
        "  # create model\n",
        "  model = LinearRegression()\n",
        "  model.fit(X_train, y_train)\n",
        "\n",
        "  predictions = model.predict(X_test)\n",
        "  print(f'R-Squared for t+{future_shift}:', r2_score(y_test, predictions))\n",
        "  \n",
        "  pickled = pickle.dump(model, open(f'model_{future_shift}.pkl', 'wb'))\n",
        "  models.append(model)"
      ],
      "execution_count": null,
      "outputs": [
        {
          "output_type": "stream",
          "text": [
            "R-Squared for t+0: 0.9911042454194476\n",
            "R-Squared for t+1: 0.9831022341001843\n",
            "R-Squared for t+2: 0.9739975644533416\n",
            "R-Squared for t+3: 0.9663120440086372\n",
            "R-Squared for t+4: 0.9556564643033606\n"
          ],
          "name": "stdout"
        }
      ]
    },
    {
      "cell_type": "code",
      "metadata": {
        "id": "C8IvgaK4-8qI"
      },
      "source": [
        "model_0 = pickle.load(open('model_0.pkl', 'rb'))\n",
        "result = model_0.score(X_test, y_test)"
      ],
      "execution_count": null,
      "outputs": []
    },
    {
      "cell_type": "code",
      "metadata": {
        "colab": {
          "base_uri": "https://localhost:8080/"
        },
        "id": "V8UEYT-Q_8Ze",
        "outputId": "53e0bcb6-7f09-4ddc-dec3-6fda96256e17"
      },
      "source": [
        "model_0.predict(X_test)"
      ],
      "execution_count": null,
      "outputs": [
        {
          "output_type": "execute_result",
          "data": {
            "text/plain": [
              "array([63.39530179, 64.06715685, 63.97453944, 64.71062684, 64.54922007,\n",
              "       64.47732617, 64.46883318, 64.59284906, 64.458666  , 64.36310183,\n",
              "       64.62274575, 64.61650663, 64.22074131, 63.98508919, 64.95166805,\n",
              "       63.99663324, 64.2536695 , 64.29492741, 64.38549105, 64.97579839,\n",
              "       64.74350785, 64.89397718, 64.68554997, 64.37605028, 64.73708309,\n",
              "       64.65028326, 64.86632156, 64.9393687 , 64.19589264, 65.01964946,\n",
              "       64.87015905, 64.95868242, 65.10389657, 65.28156045, 65.42386079,\n",
              "       65.69467162, 65.82813216, 65.51198304, 65.6991538 , 65.53669403,\n",
              "       65.71187807, 65.67777542, 65.52915622, 65.47119429, 65.23027695,\n",
              "       64.94720227, 65.4996731 , 65.4023657 , 65.03813754, 65.51236735,\n",
              "       66.39440741, 67.48797542, 67.87069208, 67.74271432, 68.15169856,\n",
              "       68.34020581, 69.31525359, 69.2371108 , 69.01202813, 68.74286838,\n",
              "       68.94921318, 68.89880735, 69.04337115, 69.31338775, 68.44019871,\n",
              "       68.3595192 , 68.43657024, 69.41117243, 67.47019112, 67.73475859,\n",
              "       67.71155345, 68.44588443, 68.69180766, 68.80794799, 69.56711806,\n",
              "       69.89025461, 70.31300696, 69.76171081, 70.02412914, 71.69572137,\n",
              "       72.21048284, 72.43230273, 72.31015601, 71.81671985, 70.19446084,\n",
              "       69.76582873, 70.70645332, 70.33136335, 69.96689927, 70.07500118,\n",
              "       70.86464696, 69.8597812 , 70.26952509, 70.25577371, 71.1691147 ,\n",
              "       70.48651753, 69.19294567, 69.78244076, 68.48308992, 68.94235808,\n",
              "       68.26359631, 69.14084428, 68.58427872, 69.49027502, 69.95708722,\n",
              "       69.94602682, 71.07307664, 71.7042778 , 72.64986824, 73.23390735,\n",
              "       73.16163454, 73.70599486, 74.09738483, 73.66627779, 73.52547135,\n",
              "       74.14955467, 73.99133754, 73.12022117, 73.04220707, 72.69227248,\n",
              "       72.57027192, 72.2985748 , 72.19248908, 72.69629355, 72.40275547,\n",
              "       72.77781004, 72.45279109, 71.36404681, 72.48457862, 73.59674832,\n",
              "       73.169843  , 73.62463187, 72.34337655, 72.38137704, 72.11900905,\n",
              "       73.17875819, 72.72465689, 72.70279526, 72.79242023, 72.78910972,\n",
              "       72.99592659, 74.0035869 , 74.72081555, 73.85263387, 73.52846353,\n",
              "       73.32921268, 74.27826983, 73.95719309, 74.76935512, 74.64885075,\n",
              "       75.13692262, 74.68286636, 75.25568833, 75.08807055, 75.38861971,\n",
              "       74.88779956, 74.17642576, 74.38314575, 73.25926836, 73.27539782,\n",
              "       73.91567564, 73.89549976, 74.48807543, 74.60906264, 74.18091976,\n",
              "       74.61767876, 75.919697  , 75.91311134, 76.21324492, 76.21092192,\n",
              "       76.29998773, 77.01838248, 77.42875411, 77.56944548, 77.51254881,\n",
              "       77.52134686, 77.82324126, 78.74972618, 78.76404878, 78.78404605,\n",
              "       78.54786631, 78.66961112, 83.75248623, 83.77169739, 82.96151118,\n",
              "       82.98983181, 83.7927344 , 83.86013015, 84.41777954, 84.21645482,\n",
              "       84.45936832, 83.98420534, 83.80178045, 83.88317708, 84.01680379,\n",
              "       82.93567454, 83.1928211 , 82.38485864, 82.51115852, 83.7378518 ,\n",
              "       83.10126065, 83.201952  , 83.83688983, 84.77880894, 83.21459183,\n",
              "       84.11399401, 84.18434328, 80.96064494, 81.58507635, 82.87062365,\n",
              "       82.46142037, 84.20614032, 85.25890925, 85.38854971, 85.16082124,\n",
              "       84.53088424, 86.68555114, 86.25471292, 85.71939949, 85.46164737,\n",
              "       85.41596833, 85.40331576, 85.40159531, 85.69818451, 85.67953916,\n",
              "       85.47759421, 85.8940847 , 86.2872417 , 87.0276405 , 88.10706953,\n",
              "       88.15708416, 88.06107032, 87.66975475, 87.94164018, 89.50219034,\n",
              "       88.26232058, 90.06413194, 90.01264702, 89.832128  , 91.48433622,\n",
              "       91.79240891, 91.61334492, 92.21107267, 93.91471798, 93.71819546,\n",
              "       92.57944875, 94.89547827])"
            ]
          },
          "metadata": {
            "tags": []
          },
          "execution_count": 49
        }
      ]
    },
    {
      "cell_type": "code",
      "metadata": {
        "id": "bFVku5ih_9L4"
      },
      "source": [
        ""
      ],
      "execution_count": null,
      "outputs": []
    }
  ]
}