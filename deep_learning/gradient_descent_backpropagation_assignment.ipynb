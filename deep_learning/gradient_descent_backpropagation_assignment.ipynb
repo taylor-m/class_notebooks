{
 "cells": [
  {
   "cell_type": "code",
   "execution_count": 1,
   "metadata": {},
   "outputs": [],
   "source": [
    "import warnings\n",
    "warnings.filterwarnings(\"ignore\")\n",
    "\n",
    "from tensorflow.keras.datasets import mnist"
   ]
  },
  {
   "cell_type": "code",
   "execution_count": 2,
   "metadata": {},
   "outputs": [],
   "source": [
    "(X_train, y_train), (X_test, y_test) = mnist.load_data()\n",
    "\n",
    "input_dim = 784 # 28*28\n",
    "output_dim = nb_classes = 10\n",
    "batch_size = 128\n",
    "nb_epoch = 20\n",
    "\n",
    "X_train = X_train.reshape(60000, input_dim)\n",
    "X_test = X_test.reshape(10000, input_dim)\n",
    "X_train = X_train.astype('float32')\n",
    "X_test = X_test.astype('float32')\n",
    "X_train /= 255\n",
    "X_test /= 255"
   ]
  },
  {
   "cell_type": "code",
   "execution_count": 3,
   "metadata": {},
   "outputs": [],
   "source": [
    "# generating labels\n",
    "from tensorflow.keras.utils import to_categorical\n",
    "\n",
    "Y_train = to_categorical(y_train, nb_classes)\n",
    "Y_test = to_categorical(y_test, nb_classes)"
   ]
  },
  {
   "cell_type": "code",
   "execution_count": 5,
   "metadata": {},
   "outputs": [
    {
     "data": {
      "text/plain": [
       "(784,)"
      ]
     },
     "execution_count": 5,
     "metadata": {},
     "output_type": "execute_result"
    }
   ],
   "source": [
    "X_train[0].shape"
   ]
  },
  {
   "cell_type": "markdown",
   "metadata": {},
   "source": [
    "In this assignment, you'll continue working on the MNIST dataset. So, train and test the models specified in the tasks below using the MNIST data. You can choose the number of epochs for training. But for the sake of comparison, it's a good idea to train for 20 epochs.\n",
    "\n",
    "To complete this assignment, create a Jupyter Notebook containing your solutions to the following tasks:"
   ]
  },
  {
   "cell_type": "code",
   "execution_count": 6,
   "metadata": {},
   "outputs": [],
   "source": [
    "from tensorflow.keras.models import Sequential\n",
    "from tensorflow.keras.layers import Dense"
   ]
  },
  {
   "cell_type": "markdown",
   "metadata": {},
   "source": [
    "# I. In this task, you'll implement several ANN models with different batch sizes. Specifically, do the following:\n",
    "\n",
    "1. Implement a three-layer ANN model with 128, 64, and 10 neurons in the layers. Use 8 as the mini-batch size."
   ]
  },
  {
   "cell_type": "code",
   "execution_count": 7,
   "metadata": {},
   "outputs": [],
   "source": [
    "model = Sequential()\n",
    "\n",
    "# first dense layer\n",
    "model.add(\n",
    "    Dense(\n",
    "        128,\n",
    "        input_dim = X_train.shape[1],\n",
    "        activation = 'relu',\n",
    "    )\n",
    ")\n",
    "\n",
    "# second dense layer\n",
    "model.add(\n",
    "    Dense(\n",
    "        64,\n",
    "        activation = 'relu',\n",
    "    )\n",
    ")\n",
    "\n",
    "# third dense layer\n",
    "model.add(\n",
    "    Dense(\n",
    "        10,\n",
    "        activation = 'softmax',\n",
    "    )\n",
    ")"
   ]
  },
  {
   "cell_type": "code",
   "execution_count": 8,
   "metadata": {},
   "outputs": [
    {
     "name": "stdout",
     "output_type": "stream",
     "text": [
      "Model: \"sequential\"\n",
      "_________________________________________________________________\n",
      "Layer (type)                 Output Shape              Param #   \n",
      "=================================================================\n",
      "dense (Dense)                (None, 128)               100480    \n",
      "_________________________________________________________________\n",
      "dense_1 (Dense)              (None, 64)                8256      \n",
      "_________________________________________________________________\n",
      "dense_2 (Dense)              (None, 10)                650       \n",
      "=================================================================\n",
      "Total params: 109,386\n",
      "Trainable params: 109,386\n",
      "Non-trainable params: 0\n",
      "_________________________________________________________________\n"
     ]
    }
   ],
   "source": [
    "model.summary()"
   ]
  },
  {
   "cell_type": "code",
   "execution_count": 9,
   "metadata": {},
   "outputs": [],
   "source": [
    "model.compile(\n",
    "    optimizer='sgd',\n",
    "    loss='categorical_crossentropy',\n",
    "    metrics=['accuracy'],\n",
    ")"
   ]
  },
  {
   "cell_type": "code",
   "execution_count": 10,
   "metadata": {},
   "outputs": [
    {
     "name": "stdout",
     "output_type": "stream",
     "text": [
      "Epoch 1/20\n",
      "7500/7500 [==============================] - 6s 750us/step - loss: 0.6300 - accuracy: 0.8189\n",
      "Epoch 2/20\n",
      "7500/7500 [==============================] - 6s 795us/step - loss: 0.1856 - accuracy: 0.9469\n",
      "Epoch 3/20\n",
      "7500/7500 [==============================] - 6s 774us/step - loss: 0.1270 - accuracy: 0.9626\n",
      "Epoch 4/20\n",
      "7500/7500 [==============================] - 6s 749us/step - loss: 0.1000 - accuracy: 0.9697\n",
      "Epoch 5/20\n",
      "7500/7500 [==============================] - 5s 722us/step - loss: 0.0790 - accuracy: 0.9759\n",
      "Epoch 6/20\n",
      "7500/7500 [==============================] - 6s 735us/step - loss: 0.0646 - accuracy: 0.9807\n",
      "Epoch 7/20\n",
      "7500/7500 [==============================] - 6s 756us/step - loss: 0.0540 - accuracy: 0.9840\n",
      "Epoch 8/20\n",
      "7500/7500 [==============================] - 6s 837us/step - loss: 0.0467 - accuracy: 0.9860\n",
      "Epoch 9/20\n",
      "7500/7500 [==============================] - 6s 768us/step - loss: 0.0393 - accuracy: 0.9897\n",
      "Epoch 10/20\n",
      "7500/7500 [==============================] - 9s 1ms/step - loss: 0.0338 - accuracy: 0.9900\n",
      "Epoch 11/20\n",
      "7500/7500 [==============================] - 11s 1ms/step - loss: 0.0312 - accuracy: 0.9918\n",
      "Epoch 12/20\n",
      "7500/7500 [==============================] - ETA: 0s - loss: 0.0263 - accuracy: 0.99 - 11s 2ms/step - loss: 0.0263 - accuracy: 0.9925\n",
      "Epoch 13/20\n",
      "7500/7500 [==============================] - 12s 2ms/step - loss: 0.0236 - accuracy: 0.9943\n",
      "Epoch 14/20\n",
      "7500/7500 [==============================] - 13s 2ms/step - loss: 0.0193 - accuracy: 0.9947\n",
      "Epoch 15/20\n",
      "7500/7500 [==============================] - 12s 2ms/step - loss: 0.0160 - accuracy: 0.9961\n",
      "Epoch 16/20\n",
      "7500/7500 [==============================] - 14s 2ms/step - loss: 0.0141 - accuracy: 0.9970\n",
      "Epoch 17/20\n",
      "7500/7500 [==============================] - 11s 2ms/step - loss: 0.0129 - accuracy: 0.9974\n",
      "Epoch 18/20\n",
      "7500/7500 [==============================] - 10s 1ms/step - loss: 0.0108 - accuracy: 0.9982\n",
      "Epoch 19/20\n",
      "7500/7500 [==============================] - 13s 2ms/step - loss: 0.0093 - accuracy: 0.9988\n",
      "Epoch 20/20\n",
      "7500/7500 [==============================] - 11s 2ms/step - loss: 0.0076 - accuracy: 0.9989\n"
     ]
    },
    {
     "data": {
      "text/plain": [
       "<tensorflow.python.keras.callbacks.History at 0x17bba4b8fa0>"
      ]
     },
     "execution_count": 10,
     "metadata": {},
     "output_type": "execute_result"
    }
   ],
   "source": [
    "# model fit with mini-batch size set to 8\n",
    "model.fit(\n",
    "    X_train,\n",
    "    Y_train,\n",
    "    batch_size=8,\n",
    "    epochs=20,\n",
    "    verbose=1,\n",
    ")"
   ]
  },
  {
   "cell_type": "code",
   "execution_count": 11,
   "metadata": {},
   "outputs": [
    {
     "name": "stdout",
     "output_type": "stream",
     "text": [
      "Test score:  0.07822319865226746\n",
      "Test accuracy:  0.9772999882698059\n"
     ]
    }
   ],
   "source": [
    "score = model.evaluate(X_test, Y_test, verbose=0)\n",
    "print('Test score: ', score[0])\n",
    "print(\"Test accuracy: \", score[1])"
   ]
  },
  {
   "cell_type": "markdown",
   "metadata": {},
   "source": [
    "2. Implement a three-layer ANN model with 128, 64, and 10 neurons in the layers. Use 128 as the mini-batch size."
   ]
  },
  {
   "cell_type": "code",
   "execution_count": 14,
   "metadata": {},
   "outputs": [],
   "source": [
    "model = Sequential()\n",
    "\n",
    "# first dense layer\n",
    "model.add(\n",
    "    Dense(\n",
    "        128,\n",
    "        input_dim = X_train.shape[1],\n",
    "        activation = 'relu',\n",
    "    )\n",
    ")\n",
    "\n",
    "# second dense layer\n",
    "model.add(\n",
    "    Dense(\n",
    "        64,\n",
    "        activation = 'relu',\n",
    "    )\n",
    ")\n",
    "\n",
    "# third dense layer\n",
    "model.add(\n",
    "    Dense(\n",
    "        10,\n",
    "        activation = 'softmax',\n",
    "    )\n",
    ")"
   ]
  },
  {
   "cell_type": "code",
   "execution_count": 15,
   "metadata": {},
   "outputs": [],
   "source": [
    "model.compile(\n",
    "    optimizer='sgd',\n",
    "    loss='categorical_crossentropy',\n",
    "    metrics=['accuracy'],\n",
    ")"
   ]
  },
  {
   "cell_type": "code",
   "execution_count": 16,
   "metadata": {},
   "outputs": [
    {
     "name": "stdout",
     "output_type": "stream",
     "text": [
      "Epoch 1/20\n",
      "469/469 [==============================] - 1s 1ms/step - loss: 1.7498 - accuracy: 0.4690\n",
      "Epoch 2/20\n",
      "469/469 [==============================] - 1s 1ms/step - loss: 0.5473 - accuracy: 0.8622\n",
      "Epoch 3/20\n",
      "469/469 [==============================] - 1s 1ms/step - loss: 0.3963 - accuracy: 0.8927\n",
      "Epoch 4/20\n",
      "469/469 [==============================] - 1s 1ms/step - loss: 0.3455 - accuracy: 0.9046\n",
      "Epoch 5/20\n",
      "469/469 [==============================] - 1s 2ms/step - loss: 0.3154 - accuracy: 0.9106\n",
      "Epoch 6/20\n",
      "469/469 [==============================] - 1s 2ms/step - loss: 0.2896 - accuracy: 0.9195\n",
      "Epoch 7/20\n",
      "469/469 [==============================] - 1s 1ms/step - loss: 0.2715 - accuracy: 0.9238\n",
      "Epoch 8/20\n",
      "469/469 [==============================] - 1s 2ms/step - loss: 0.2588 - accuracy: 0.9269\n",
      "Epoch 9/20\n",
      "469/469 [==============================] - 1s 2ms/step - loss: 0.2536 - accuracy: 0.9280\n",
      "Epoch 10/20\n",
      "469/469 [==============================] - 1s 1ms/step - loss: 0.2364 - accuracy: 0.9338\n",
      "Epoch 11/20\n",
      "469/469 [==============================] - 1s 2ms/step - loss: 0.2346 - accuracy: 0.9332\n",
      "Epoch 12/20\n",
      "469/469 [==============================] - 1s 1ms/step - loss: 0.2236 - accuracy: 0.9359\n",
      "Epoch 13/20\n",
      "469/469 [==============================] - 1s 2ms/step - loss: 0.2142 - accuracy: 0.9382\n",
      "Epoch 14/20\n",
      "469/469 [==============================] - 1s 2ms/step - loss: 0.2082 - accuracy: 0.9412\n",
      "Epoch 15/20\n",
      "469/469 [==============================] - 1s 2ms/step - loss: 0.1924 - accuracy: 0.9457\n",
      "Epoch 16/20\n",
      "469/469 [==============================] - 1s 2ms/step - loss: 0.1977 - accuracy: 0.9437\n",
      "Epoch 17/20\n",
      "469/469 [==============================] - 1s 2ms/step - loss: 0.1830 - accuracy: 0.9488\n",
      "Epoch 18/20\n",
      "469/469 [==============================] - 1s 2ms/step - loss: 0.1819 - accuracy: 0.9490\n",
      "Epoch 19/20\n",
      "469/469 [==============================] - 1s 2ms/step - loss: 0.1709 - accuracy: 0.9519\n",
      "Epoch 20/20\n",
      "469/469 [==============================] - 1s 2ms/step - loss: 0.1731 - accuracy: 0.9509\n"
     ]
    },
    {
     "data": {
      "text/plain": [
       "<tensorflow.python.keras.callbacks.History at 0x17bba976310>"
      ]
     },
     "execution_count": 16,
     "metadata": {},
     "output_type": "execute_result"
    }
   ],
   "source": [
    "# model fit with mini-batch size set to 128\n",
    "model.fit(\n",
    "    X_train,\n",
    "    Y_train,\n",
    "    batch_size=128,\n",
    "    epochs=20,\n",
    "    verbose=1,\n",
    ")"
   ]
  },
  {
   "cell_type": "code",
   "execution_count": 17,
   "metadata": {},
   "outputs": [
    {
     "name": "stdout",
     "output_type": "stream",
     "text": [
      "Test score:  0.17053957283496857\n",
      "Test accuracy:  0.9495000243186951\n"
     ]
    }
   ],
   "source": [
    "score1 = model.evaluate(X_test, Y_test, verbose=0)\n",
    "print('Test score: ', score1[0])\n",
    "print(\"Test accuracy: \", score1[1])"
   ]
  },
  {
   "cell_type": "markdown",
   "metadata": {},
   "source": [
    "3. Implement a three-layer ANN model with 128, 64, and 10 neurons in the layers. Use the full sample as the batch size."
   ]
  },
  {
   "cell_type": "code",
   "execution_count": 18,
   "metadata": {},
   "outputs": [],
   "source": [
    "model = Sequential()\n",
    "\n",
    "# first dense layer\n",
    "model.add(\n",
    "    Dense(\n",
    "        128,\n",
    "        input_dim = X_train.shape[1],\n",
    "        activation = 'relu',\n",
    "    )\n",
    ")\n",
    "\n",
    "# second dense layer\n",
    "model.add(\n",
    "    Dense(\n",
    "        64,\n",
    "        activation = 'relu',\n",
    "    )\n",
    ")\n",
    "\n",
    "# third dense layer\n",
    "model.add(\n",
    "    Dense(\n",
    "        10,\n",
    "        activation = 'softmax',\n",
    "    )\n",
    ")"
   ]
  },
  {
   "cell_type": "code",
   "execution_count": 19,
   "metadata": {},
   "outputs": [],
   "source": [
    "model.compile(\n",
    "    optimizer='sgd',\n",
    "    loss='categorical_crossentropy',\n",
    "    metrics=['accuracy'],\n",
    ")"
   ]
  },
  {
   "cell_type": "code",
   "execution_count": 20,
   "metadata": {},
   "outputs": [
    {
     "name": "stdout",
     "output_type": "stream",
     "text": [
      "Epoch 1/20\n",
      "1/1 [==============================] - 1s 604ms/step - loss: 2.3927 - accuracy: 0.0719\n",
      "Epoch 2/20\n",
      "1/1 [==============================] - 0s 194ms/step - loss: 2.3840 - accuracy: 0.0745\n",
      "Epoch 3/20\n",
      "1/1 [==============================] - 0s 216ms/step - loss: 2.3756 - accuracy: 0.0772\n",
      "Epoch 4/20\n",
      "1/1 [==============================] - 0s 229ms/step - loss: 2.3674 - accuracy: 0.0800\n",
      "Epoch 5/20\n",
      "1/1 [==============================] - 0s 221ms/step - loss: 2.3595 - accuracy: 0.0834\n",
      "Epoch 6/20\n",
      "1/1 [==============================] - 0s 215ms/step - loss: 2.3519 - accuracy: 0.0867\n",
      "Epoch 7/20\n",
      "1/1 [==============================] - 0s 222ms/step - loss: 2.3444 - accuracy: 0.0898\n",
      "Epoch 8/20\n",
      "1/1 [==============================] - 0s 219ms/step - loss: 2.3371 - accuracy: 0.0937\n",
      "Epoch 9/20\n",
      "1/1 [==============================] - 0s 225ms/step - loss: 2.3300 - accuracy: 0.0974\n",
      "Epoch 10/20\n",
      "1/1 [==============================] - 0s 232ms/step - loss: 2.3231 - accuracy: 0.1013\n",
      "Epoch 11/20\n",
      "1/1 [==============================] - 0s 232ms/step - loss: 2.3163 - accuracy: 0.1051\n",
      "Epoch 12/20\n",
      "1/1 [==============================] - 0s 227ms/step - loss: 2.3096 - accuracy: 0.1094\n",
      "Epoch 13/20\n",
      "1/1 [==============================] - 0s 202ms/step - loss: 2.3031 - accuracy: 0.1138\n",
      "Epoch 14/20\n",
      "1/1 [==============================] - 0s 204ms/step - loss: 2.2966 - accuracy: 0.1184\n",
      "Epoch 15/20\n",
      "1/1 [==============================] - 0s 209ms/step - loss: 2.2903 - accuracy: 0.1222\n",
      "Epoch 16/20\n",
      "1/1 [==============================] - 0s 204ms/step - loss: 2.2840 - accuracy: 0.1274\n",
      "Epoch 17/20\n",
      "1/1 [==============================] - 0s 209ms/step - loss: 2.2779 - accuracy: 0.1323\n",
      "Epoch 18/20\n",
      "1/1 [==============================] - 0s 233ms/step - loss: 2.2718 - accuracy: 0.1378\n",
      "Epoch 19/20\n",
      "1/1 [==============================] - 0s 209ms/step - loss: 2.2657 - accuracy: 0.1434\n",
      "Epoch 20/20\n",
      "1/1 [==============================] - 0s 209ms/step - loss: 2.2598 - accuracy: 0.1492\n"
     ]
    },
    {
     "data": {
      "text/plain": [
       "<tensorflow.python.keras.callbacks.History at 0x17bc2322e80>"
      ]
     },
     "execution_count": 20,
     "metadata": {},
     "output_type": "execute_result"
    }
   ],
   "source": [
    "# model fit with mini-batch size set to full sample\n",
    "model.fit(\n",
    "    X_train,\n",
    "    Y_train,\n",
    "    batch_size=X_train.shape[0],\n",
    "    epochs=20,\n",
    "    verbose=1,\n",
    ")"
   ]
  },
  {
   "cell_type": "code",
   "execution_count": 21,
   "metadata": {},
   "outputs": [
    {
     "name": "stdout",
     "output_type": "stream",
     "text": [
      "Test score:  2.252347230911255\n",
      "Test accuracy:  0.1535000056028366\n"
     ]
    }
   ],
   "source": [
    "score2 = model.evaluate(X_test, Y_test, verbose=0)\n",
    "print('Test score: ', score2[0])\n",
    "print(\"Test accuracy: \", score2[1])"
   ]
  },
  {
   "cell_type": "markdown",
   "metadata": {},
   "source": [
    "4. Compare the results of each model. Which batch size performed best?"
   ]
  },
  {
   "cell_type": "code",
   "execution_count": 22,
   "metadata": {},
   "outputs": [
    {
     "name": "stdout",
     "output_type": "stream",
     "text": [
      "[0.07822319865226746, 0.9772999882698059]\n",
      "[0.17053957283496857, 0.9495000243186951]\n",
      "[2.252347230911255, 0.1535000056028366]\n"
     ]
    }
   ],
   "source": [
    "print(score)\n",
    "print(score1)\n",
    "print(score2)"
   ]
  },
  {
   "cell_type": "markdown",
   "metadata": {},
   "source": [
    "> The mini-batch size of 8 performed the best"
   ]
  },
  {
   "cell_type": "markdown",
   "metadata": {},
   "source": [
    "# II. In this task, you'll implement several ANN models with different learning rates for the stochastic gradient descent. In all of the models below, use 128 as your mini-batch size.\n",
    "\n",
    "1. Implement a three-layer ANN model with 128, 64, and 10 neurons in the layers. Use 0.01 as the learning rate."
   ]
  },
  {
   "cell_type": "code",
   "execution_count": 24,
   "metadata": {},
   "outputs": [],
   "source": [
    "from tensorflow.keras.optimizers import SGD"
   ]
  },
  {
   "cell_type": "code",
   "execution_count": 25,
   "metadata": {},
   "outputs": [
    {
     "name": "stdout",
     "output_type": "stream",
     "text": [
      "Epoch 1/20\n",
      "469/469 [==============================] - 1s 1ms/step - loss: 1.6990 - accuracy: 0.5222\n",
      "Epoch 2/20\n",
      "469/469 [==============================] - 1s 1ms/step - loss: 0.5402 - accuracy: 0.8652\n",
      "Epoch 3/20\n",
      "469/469 [==============================] - 1s 1ms/step - loss: 0.4007 - accuracy: 0.8934\n",
      "Epoch 4/20\n",
      "469/469 [==============================] - 1s 1ms/step - loss: 0.3449 - accuracy: 0.9029\n",
      "Epoch 5/20\n",
      "469/469 [==============================] - 1s 1ms/step - loss: 0.3183 - accuracy: 0.9102\n",
      "Epoch 6/20\n",
      "469/469 [==============================] - 1s 1ms/step - loss: 0.2950 - accuracy: 0.9145\n",
      "Epoch 7/20\n",
      "469/469 [==============================] - 1s 1ms/step - loss: 0.2708 - accuracy: 0.9233\n",
      "Epoch 8/20\n",
      "469/469 [==============================] - 1s 1ms/step - loss: 0.2640 - accuracy: 0.9234\n",
      "Epoch 9/20\n",
      "469/469 [==============================] - 1s 1ms/step - loss: 0.2437 - accuracy: 0.9301\n",
      "Epoch 10/20\n",
      "469/469 [==============================] - 1s 1ms/step - loss: 0.2346 - accuracy: 0.9319\n",
      "Epoch 11/20\n",
      "469/469 [==============================] - 1s 2ms/step - loss: 0.2260 - accuracy: 0.9345\n",
      "Epoch 12/20\n",
      "469/469 [==============================] - 1s 2ms/step - loss: 0.2146 - accuracy: 0.9394\n",
      "Epoch 13/20\n",
      "469/469 [==============================] - 1s 3ms/step - loss: 0.2123 - accuracy: 0.9393\n",
      "Epoch 14/20\n",
      "469/469 [==============================] - 1s 3ms/step - loss: 0.1958 - accuracy: 0.9442\n",
      "Epoch 15/20\n",
      "469/469 [==============================] - 1s 2ms/step - loss: 0.1946 - accuracy: 0.9462\n",
      "Epoch 16/20\n",
      "469/469 [==============================] - 1s 2ms/step - loss: 0.1873 - accuracy: 0.9473\n",
      "Epoch 17/20\n",
      "469/469 [==============================] - 1s 1ms/step - loss: 0.1796 - accuracy: 0.9491\n",
      "Epoch 18/20\n",
      "469/469 [==============================] - 1s 2ms/step - loss: 0.1759 - accuracy: 0.9503\n",
      "Epoch 19/20\n",
      "469/469 [==============================] - 1s 2ms/step - loss: 0.1686 - accuracy: 0.9518\n",
      "Epoch 20/20\n",
      "469/469 [==============================] - 1s 1ms/step - loss: 0.1640 - accuracy: 0.9536\n",
      "Test score:  0.16900168359279633\n",
      "Test accuracy:  0.9502999782562256\n"
     ]
    }
   ],
   "source": [
    "model = Sequential()\n",
    "\n",
    "# first dense layer\n",
    "model.add(\n",
    "    Dense(\n",
    "        128,\n",
    "        input_dim = X_train.shape[1],\n",
    "        activation = 'relu',\n",
    "    )\n",
    ")\n",
    "\n",
    "# second dense layer\n",
    "model.add(\n",
    "    Dense(\n",
    "        64,\n",
    "        activation = 'relu',\n",
    "    )\n",
    ")\n",
    "\n",
    "# third dense layer\n",
    "model.add(\n",
    "    Dense(\n",
    "        10,\n",
    "        activation = 'softmax',\n",
    "    )\n",
    ")\n",
    "\n",
    "# model optimizer - learning rate\n",
    "sgd = SGD(learning_rate=0.01)\n",
    "\n",
    "# model compilations\n",
    "model.compile(\n",
    "    optimizer=sgd,\n",
    "    loss='categorical_crossentropy',\n",
    "    metrics=['accuracy'],\n",
    ")\n",
    "\n",
    "# model fit with mini-batch = 128\n",
    "model.fit(\n",
    "    X_train,\n",
    "    Y_train,\n",
    "    batch_size=128,\n",
    "    epochs=20,\n",
    "    verbose=1,\n",
    ")\n",
    "\n",
    "score1 = model.evaluate(X_test, Y_test, verbose=0)\n",
    "print('Test score: ', score1[0])\n",
    "print(\"Test accuracy: \", score1[1])"
   ]
  },
  {
   "cell_type": "markdown",
   "metadata": {},
   "source": [
    "2. Implement a three-layer ANN model with 128, 64, and 10 neurons in the layers. Use 100 as the learning rate."
   ]
  },
  {
   "cell_type": "code",
   "execution_count": 26,
   "metadata": {},
   "outputs": [
    {
     "name": "stdout",
     "output_type": "stream",
     "text": [
      "Epoch 1/20\n",
      "469/469 [==============================] - 1s 2ms/step - loss: 720492218577626201104494624768.0000 - accuracy: 0.0994\n",
      "Epoch 2/20\n",
      "469/469 [==============================] - 1s 2ms/step - loss: 39.6161 - accuracy: 0.1003\n",
      "Epoch 3/20\n",
      "469/469 [==============================] - 1s 1ms/step - loss: 39.0388 - accuracy: 0.1030\n",
      "Epoch 4/20\n",
      "469/469 [==============================] - 1s 2ms/step - loss: 40.3328 - accuracy: 0.1011\n",
      "Epoch 5/20\n",
      "469/469 [==============================] - 1s 1ms/step - loss: 41.1531 - accuracy: 0.1016\n",
      "Epoch 6/20\n",
      "469/469 [==============================] - 1s 1ms/step - loss: 40.4576 - accuracy: 0.1038\n",
      "Epoch 7/20\n",
      "469/469 [==============================] - 1s 1ms/step - loss: 40.5040 - accuracy: 0.1037\n",
      "Epoch 8/20\n",
      "469/469 [==============================] - 1s 1ms/step - loss: 40.1435 - accuracy: 0.1001A: 0s - loss: 39.8818 - accuracy: 0\n",
      "Epoch 9/20\n",
      "469/469 [==============================] - 1s 1ms/step - loss: 39.8089 - accuracy: 0.0946\n",
      "Epoch 10/20\n",
      "469/469 [==============================] - 1s 2ms/step - loss: 39.4126 - accuracy: 0.1024\n",
      "Epoch 11/20\n",
      "469/469 [==============================] - 1s 2ms/step - loss: 40.7298 - accuracy: 0.0981\n",
      "Epoch 12/20\n",
      "469/469 [==============================] - 1s 2ms/step - loss: 41.1130 - accuracy: 0.0989\n",
      "Epoch 13/20\n",
      "469/469 [==============================] - 1s 2ms/step - loss: 40.4219 - accuracy: 0.1000\n",
      "Epoch 14/20\n",
      "469/469 [==============================] - 1s 2ms/step - loss: 40.3827 - accuracy: 0.0999\n",
      "Epoch 15/20\n",
      "469/469 [==============================] - 1s 2ms/step - loss: 39.9385 - accuracy: 0.1000\n",
      "Epoch 16/20\n",
      "469/469 [==============================] - 1s 2ms/step - loss: 40.3807 - accuracy: 0.0971\n",
      "Epoch 17/20\n",
      "469/469 [==============================] - 1s 2ms/step - loss: 40.0779 - accuracy: 0.0996\n",
      "Epoch 18/20\n",
      "469/469 [==============================] - 1s 3ms/step - loss: 40.6855 - accuracy: 0.1027\n",
      "Epoch 19/20\n",
      "469/469 [==============================] - 1s 3ms/step - loss: 39.6415 - accuracy: 0.1021\n",
      "Epoch 20/20\n",
      "469/469 [==============================] - 1s 3ms/step - loss: 40.6860 - accuracy: 0.1005\n",
      "Test score:  47.7764892578125\n",
      "Test accuracy:  0.10100000351667404\n"
     ]
    }
   ],
   "source": [
    "model = Sequential()\n",
    "\n",
    "# first dense layer\n",
    "model.add(\n",
    "    Dense(\n",
    "        128,\n",
    "        input_dim = X_train.shape[1],\n",
    "        activation = 'relu',\n",
    "    )\n",
    ")\n",
    "\n",
    "# second dense layer\n",
    "model.add(\n",
    "    Dense(\n",
    "        64,\n",
    "        activation = 'relu',\n",
    "    )\n",
    ")\n",
    "\n",
    "# third dense layer\n",
    "model.add(\n",
    "    Dense(\n",
    "        10,\n",
    "        activation = 'softmax',\n",
    "    )\n",
    ")\n",
    "\n",
    "# model optimizer - learning rate\n",
    "sgd = SGD(learning_rate=100)\n",
    "\n",
    "# model compilations\n",
    "model.compile(\n",
    "    optimizer=sgd,\n",
    "    loss='categorical_crossentropy',\n",
    "    metrics=['accuracy'],\n",
    ")\n",
    "\n",
    "# model fit with mini-batch = 128\n",
    "model.fit(\n",
    "    X_train,\n",
    "    Y_train,\n",
    "    batch_size=128,\n",
    "    epochs=20,\n",
    "    verbose=1,\n",
    ")\n",
    "\n",
    "score2 = model.evaluate(X_test, Y_test, verbose=0)\n",
    "print('Test score: ', score2[0])\n",
    "print(\"Test accuracy: \", score2[1])"
   ]
  },
  {
   "cell_type": "markdown",
   "metadata": {},
   "source": [
    "3. Implement a three-layer ANN model with 128, 64, and 10 neurons in the layers. Use 0.0000001 as the learning rate."
   ]
  },
  {
   "cell_type": "code",
   "execution_count": 27,
   "metadata": {},
   "outputs": [
    {
     "name": "stdout",
     "output_type": "stream",
     "text": [
      "Epoch 1/20\n",
      "469/469 [==============================] - 1s 2ms/step - loss: 2.3442 - accuracy: 0.1199\n",
      "Epoch 2/20\n",
      "469/469 [==============================] - 1s 2ms/step - loss: 2.3427 - accuracy: 0.1172\n",
      "Epoch 3/20\n",
      "469/469 [==============================] - 1s 2ms/step - loss: 2.3425 - accuracy: 0.1193\n",
      "Epoch 4/20\n",
      "469/469 [==============================] - 1s 2ms/step - loss: 2.3413 - accuracy: 0.1193\n",
      "Epoch 5/20\n",
      "469/469 [==============================] - 1s 2ms/step - loss: 2.3449 - accuracy: 0.1170\n",
      "Epoch 6/20\n",
      "469/469 [==============================] - 1s 3ms/step - loss: 2.3401 - accuracy: 0.1194\n",
      "Epoch 7/20\n",
      "469/469 [==============================] - 1s 2ms/step - loss: 2.3422 - accuracy: 0.1192\n",
      "Epoch 8/20\n",
      "469/469 [==============================] - 1s 2ms/step - loss: 2.3436 - accuracy: 0.1199\n",
      "Epoch 9/20\n",
      "469/469 [==============================] - 1s 2ms/step - loss: 2.3421 - accuracy: 0.1200\n",
      "Epoch 10/20\n",
      "469/469 [==============================] - 1s 3ms/step - loss: 2.3395 - accuracy: 0.1208\n",
      "Epoch 11/20\n",
      "469/469 [==============================] - 1s 2ms/step - loss: 2.3418 - accuracy: 0.1195\n",
      "Epoch 12/20\n",
      "469/469 [==============================] - 1s 3ms/step - loss: 2.3441 - accuracy: 0.1160\n",
      "Epoch 13/20\n",
      "469/469 [==============================] - 1s 3ms/step - loss: 2.3404 - accuracy: 0.1184\n",
      "Epoch 14/20\n",
      "469/469 [==============================] - 2s 5ms/step - loss: 2.3401 - accuracy: 0.1191\n",
      "Epoch 15/20\n",
      "469/469 [==============================] - 3s 5ms/step - loss: 2.3425 - accuracy: 0.1181\n",
      "Epoch 16/20\n",
      "469/469 [==============================] - 2s 3ms/step - loss: 2.3471 - accuracy: 0.1145\n",
      "Epoch 17/20\n",
      "469/469 [==============================] - 2s 4ms/step - loss: 2.3428 - accuracy: 0.1186\n",
      "Epoch 18/20\n",
      "469/469 [==============================] - 2s 4ms/step - loss: 2.3419 - accuracy: 0.1207\n",
      "Epoch 19/20\n",
      "469/469 [==============================] - 2s 4ms/step - loss: 2.3429 - accuracy: 0.1183\n",
      "Epoch 20/20\n",
      "469/469 [==============================] - 2s 4ms/step - loss: 2.3426 - accuracy: 0.1183\n",
      "Test score:  2.342104434967041\n",
      "Test accuracy:  0.11479999870061874\n"
     ]
    }
   ],
   "source": [
    "model = Sequential()\n",
    "\n",
    "# first dense layer\n",
    "model.add(\n",
    "    Dense(\n",
    "        128,\n",
    "        input_dim = X_train.shape[1],\n",
    "        activation = 'relu',\n",
    "    )\n",
    ")\n",
    "\n",
    "# second dense layer\n",
    "model.add(\n",
    "    Dense(\n",
    "        64,\n",
    "        activation = 'relu',\n",
    "    )\n",
    ")\n",
    "\n",
    "# third dense layer\n",
    "model.add(\n",
    "    Dense(\n",
    "        10,\n",
    "        activation = 'softmax',\n",
    "    )\n",
    ")\n",
    "\n",
    "# model optimizer - learning rate\n",
    "sgd = SGD(learning_rate=0.0000001)\n",
    "\n",
    "# model compilations\n",
    "model.compile(\n",
    "    optimizer=sgd,\n",
    "    loss='categorical_crossentropy',\n",
    "    metrics=['accuracy'],\n",
    ")\n",
    "\n",
    "# model fit with mini-batch = 128\n",
    "model.fit(\n",
    "    X_train,\n",
    "    Y_train,\n",
    "    batch_size=128,\n",
    "    epochs=20,\n",
    "    verbose=1,\n",
    ")\n",
    "\n",
    "score3 = model.evaluate(X_test, Y_test, verbose=0)\n",
    "print('Test score: ', score3[0])\n",
    "print(\"Test accuracy: \", score3[1])"
   ]
  },
  {
   "cell_type": "markdown",
   "metadata": {},
   "source": [
    "4. Compare the results of each model. Which learning rate performed best?"
   ]
  },
  {
   "cell_type": "code",
   "execution_count": 28,
   "metadata": {},
   "outputs": [
    {
     "name": "stdout",
     "output_type": "stream",
     "text": [
      "[0.16900168359279633, 0.9502999782562256]\n",
      "[47.7764892578125, 0.10100000351667404]\n",
      "[2.342104434967041, 0.11479999870061874]\n"
     ]
    }
   ],
   "source": [
    "print(score1)\n",
    "print(score2)\n",
    "print(score3)"
   ]
  },
  {
   "cell_type": "markdown",
   "metadata": {},
   "source": [
    "> The 0.01 learning rate performed the best"
   ]
  }
 ],
 "metadata": {
  "kernelspec": {
   "display_name": "Python 3",
   "language": "python",
   "name": "python3"
  },
  "language_info": {
   "codemirror_mode": {
    "name": "ipython",
    "version": 3
   },
   "file_extension": ".py",
   "mimetype": "text/x-python",
   "name": "python",
   "nbconvert_exporter": "python",
   "pygments_lexer": "ipython3",
   "version": "3.8.3"
  },
  "toc": {
   "base_numbering": 1,
   "nav_menu": {},
   "number_sections": false,
   "sideBar": true,
   "skip_h1_title": false,
   "title_cell": "Table of Contents",
   "title_sidebar": "Contents",
   "toc_cell": false,
   "toc_position": {},
   "toc_section_display": true,
   "toc_window_display": true
  }
 },
 "nbformat": 4,
 "nbformat_minor": 4
}
