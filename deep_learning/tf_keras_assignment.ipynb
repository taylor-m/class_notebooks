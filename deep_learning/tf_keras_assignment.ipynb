{
 "cells": [
  {
   "cell_type": "code",
   "execution_count": 1,
   "metadata": {
    "id": "5d_ynJtYHK88"
   },
   "outputs": [],
   "source": [
    "import warnings\n",
    "warnings.filterwarnings(\"ignore\")\n",
    "\n",
    "from tensorflow.keras.datasets import mnist"
   ]
  },
  {
   "cell_type": "code",
   "execution_count": 2,
   "metadata": {},
   "outputs": [
    {
     "name": "stdout",
     "output_type": "stream",
     "text": [
      "Downloading data from https://storage.googleapis.com/tensorflow/tf-keras-datasets/mnist.npz\n",
      "11493376/11490434 [==============================] - 1s 0us/step\n"
     ]
    }
   ],
   "source": [
    "(X_train, y_train), (X_test, y_test) = mnist.load_data()\n",
    "\n",
    "input_dim = 784 # 28*28\n",
    "output_dim = nb_classes = 10\n",
    "batch_size = 128\n",
    "nb_epoch = 20\n",
    "\n",
    "X_train = X_train.reshape(60000, input_dim)\n",
    "X_test = X_test.reshape(10000, input_dim)\n",
    "X_train = X_train.astype('float32')\n",
    "X_test = X_test.astype('float32')\n",
    "X_train /= 255\n",
    "X_test /= 255"
   ]
  },
  {
   "cell_type": "code",
   "execution_count": 3,
   "metadata": {},
   "outputs": [],
   "source": [
    "from tensorflow.keras.utils import to_categorical\n",
    "\n",
    "Y_train = to_categorical(y_train, nb_classes)\n",
    "Y_test = to_categorical(y_test, nb_classes)"
   ]
  },
  {
   "cell_type": "code",
   "execution_count": 4,
   "metadata": {},
   "outputs": [
    {
     "data": {
      "text/plain": [
       "(784,)"
      ]
     },
     "execution_count": 4,
     "metadata": {},
     "output_type": "execute_result"
    }
   ],
   "source": [
    "X_train[0].shape"
   ]
  },
  {
   "cell_type": "markdown",
   "metadata": {},
   "source": [
    "# ANN Model"
   ]
  },
  {
   "cell_type": "markdown",
   "metadata": {},
   "source": [
    "In this task, you'll build an ANN and train and test it using the MNIST data. This ANN should consist of two hidden layers and one output layer. All of the hidden layers should be dense. The first layer and the second layer should have neuron sizes of 32 and 16, respectively. Train this model for 20 epochs, and compare your training and test set performance with the example in the checkpoint. Is there any difference? If so, why?"
   ]
  },
  {
   "cell_type": "code",
   "execution_count": 13,
   "metadata": {},
   "outputs": [],
   "source": [
    "from tensorflow.keras.models import Sequential\n",
    "from tensorflow.keras.layers import Dense\n",
    "\n",
    "model = Sequential()\n",
    "# first dense layer\n",
    "model.add(Dense(32, input_dim=X_train.shape[1], activation='relu'))\n",
    "# second dense layer\n",
    "model.add(Dense(16, activation='relu'))\n",
    "# third output layer\n",
    "model.add(Dense(output_dim, activation='softmax'))"
   ]
  },
  {
   "cell_type": "code",
   "execution_count": 14,
   "metadata": {},
   "outputs": [
    {
     "name": "stdout",
     "output_type": "stream",
     "text": [
      "Model: \"sequential_4\"\n",
      "_________________________________________________________________\n",
      "Layer (type)                 Output Shape              Param #   \n",
      "=================================================================\n",
      "dense_6 (Dense)              (None, 32)                25120     \n",
      "_________________________________________________________________\n",
      "dense_7 (Dense)              (None, 16)                528       \n",
      "_________________________________________________________________\n",
      "dense_8 (Dense)              (None, 10)                170       \n",
      "=================================================================\n",
      "Total params: 25,818\n",
      "Trainable params: 25,818\n",
      "Non-trainable params: 0\n",
      "_________________________________________________________________\n"
     ]
    }
   ],
   "source": [
    "model.summary()"
   ]
  },
  {
   "cell_type": "code",
   "execution_count": 15,
   "metadata": {},
   "outputs": [],
   "source": [
    "model.compile(optimizer='sgd', loss='categorical_crossentropy', metrics=['accuracy'])"
   ]
  },
  {
   "cell_type": "code",
   "execution_count": 16,
   "metadata": {},
   "outputs": [
    {
     "name": "stdout",
     "output_type": "stream",
     "text": [
      "Epoch 1/20\n",
      "469/469 [==============================] - 1s 1ms/step - loss: 1.9964 - accuracy: 0.3142\n",
      "Epoch 2/20\n",
      "469/469 [==============================] - 0s 925us/step - loss: 0.8078 - accuracy: 0.7800\n",
      "Epoch 3/20\n",
      "469/469 [==============================] - 0s 957us/step - loss: 0.5042 - accuracy: 0.8657\n",
      "Epoch 4/20\n",
      "469/469 [==============================] - 0s 985us/step - loss: 0.4127 - accuracy: 0.8848\n",
      "Epoch 5/20\n",
      "469/469 [==============================] - 0s 970us/step - loss: 0.3665 - accuracy: 0.8962\n",
      "Epoch 6/20\n",
      "469/469 [==============================] - 0s 966us/step - loss: 0.3387 - accuracy: 0.9038\n",
      "Epoch 7/20\n",
      "469/469 [==============================] - 0s 1ms/step - loss: 0.3185 - accuracy: 0.9091\n",
      "Epoch 8/20\n",
      "469/469 [==============================] - 0s 979us/step - loss: 0.3061 - accuracy: 0.9127\n",
      "Epoch 9/20\n",
      "469/469 [==============================] - 0s 953us/step - loss: 0.2928 - accuracy: 0.9155\n",
      "Epoch 10/20\n",
      "469/469 [==============================] - 0s 947us/step - loss: 0.2840 - accuracy: 0.9184\n",
      "Epoch 11/20\n",
      "469/469 [==============================] - 0s 957us/step - loss: 0.2755 - accuracy: 0.9214\n",
      "Epoch 12/20\n",
      "469/469 [==============================] - 0s 901us/step - loss: 0.2595 - accuracy: 0.9258\n",
      "Epoch 13/20\n",
      "469/469 [==============================] - 0s 910us/step - loss: 0.2536 - accuracy: 0.9270\n",
      "Epoch 14/20\n",
      "469/469 [==============================] - 0s 876us/step - loss: 0.2472 - accuracy: 0.9296\n",
      "Epoch 15/20\n",
      "469/469 [==============================] - 0s 927us/step - loss: 0.2409 - accuracy: 0.9307\n",
      "Epoch 16/20\n",
      "469/469 [==============================] - 0s 998us/step - loss: 0.2302 - accuracy: 0.9345\n",
      "Epoch 17/20\n",
      "469/469 [==============================] - 0s 895us/step - loss: 0.2306 - accuracy: 0.9339\n",
      "Epoch 18/20\n",
      "469/469 [==============================] - 0s 895us/step - loss: 0.2167 - accuracy: 0.9389\n",
      "Epoch 19/20\n",
      "469/469 [==============================] - 0s 897us/step - loss: 0.2168 - accuracy: 0.9370\n",
      "Epoch 20/20\n",
      "469/469 [==============================] - 0s 902us/step - loss: 0.2143 - accuracy: 0.9393\n"
     ]
    },
    {
     "data": {
      "text/plain": [
       "<tensorflow.python.keras.callbacks.History at 0x1865f80c430>"
      ]
     },
     "execution_count": 16,
     "metadata": {},
     "output_type": "execute_result"
    }
   ],
   "source": [
    "model.fit(X_train, Y_train, batch_size=batch_size, epochs=20, verbose=1)"
   ]
  },
  {
   "cell_type": "markdown",
   "metadata": {},
   "source": [
    "> This ANN model performed worse than the example because there were fewer nodes"
   ]
  },
  {
   "cell_type": "markdown",
   "metadata": {},
   "source": [
    "In this task, build another ANN. This ANN should have five hidden layers and one output layer. All of the layers should be dense. The neuron numbers for the hidden layers should be 1024, 512, 256, 128, and 64. Train this model for 20 epochs, and test it using the same data from the previous task. Then compare your results. Is there any difference? If so, why?"
   ]
  },
  {
   "cell_type": "code",
   "execution_count": 17,
   "metadata": {},
   "outputs": [],
   "source": [
    "model = Sequential()\n",
    "# first dense layer\n",
    "model.add(Dense(1024, input_dim=X_train.shape[1], activation='relu'))\n",
    "# second dense layer\n",
    "model.add(Dense(512, activation='relu'))\n",
    "# third dense layer\n",
    "model.add(Dense(256, activation='relu'))\n",
    "# fourth dense layer\n",
    "model.add(Dense(128, activation='relu'))\n",
    "# fifth dense layer\n",
    "model.add(Dense(64, activation='relu'))\n",
    "# output layer\n",
    "model.add(Dense(10, activation='softmax'))"
   ]
  },
  {
   "cell_type": "code",
   "execution_count": 18,
   "metadata": {
    "scrolled": true
   },
   "outputs": [
    {
     "name": "stdout",
     "output_type": "stream",
     "text": [
      "Model: \"sequential_5\"\n",
      "_________________________________________________________________\n",
      "Layer (type)                 Output Shape              Param #   \n",
      "=================================================================\n",
      "dense_9 (Dense)              (None, 1024)              803840    \n",
      "_________________________________________________________________\n",
      "dense_10 (Dense)             (None, 512)               524800    \n",
      "_________________________________________________________________\n",
      "dense_11 (Dense)             (None, 256)               131328    \n",
      "_________________________________________________________________\n",
      "dense_12 (Dense)             (None, 128)               32896     \n",
      "_________________________________________________________________\n",
      "dense_13 (Dense)             (None, 64)                8256      \n",
      "_________________________________________________________________\n",
      "dense_14 (Dense)             (None, 10)                650       \n",
      "=================================================================\n",
      "Total params: 1,501,770\n",
      "Trainable params: 1,501,770\n",
      "Non-trainable params: 0\n",
      "_________________________________________________________________\n"
     ]
    }
   ],
   "source": [
    "model.summary()"
   ]
  },
  {
   "cell_type": "code",
   "execution_count": 19,
   "metadata": {},
   "outputs": [],
   "source": [
    "model.compile(optimizer='sgd', loss='categorical_crossentropy', metrics=['accuracy'])"
   ]
  },
  {
   "cell_type": "code",
   "execution_count": null,
   "metadata": {
    "scrolled": true
   },
   "outputs": [
    {
     "name": "stdout",
     "output_type": "stream",
     "text": [
      "Epoch 1/20\n",
      "469/469 [==============================] - 4s 8ms/step - loss: 1.9011 - accuracy: 0.4106\n",
      "Epoch 2/20\n",
      "469/469 [==============================] - 3s 7ms/step - loss: 0.4425 - accuracy: 0.8767\n",
      "Epoch 3/20\n",
      "469/469 [==============================] - 3s 7ms/step - loss: 0.3002 - accuracy: 0.9132\n",
      "Epoch 4/20\n",
      "469/469 [==============================] - 3s 7ms/step - loss: 0.2479 - accuracy: 0.9263\n",
      "Epoch 5/20\n",
      "469/469 [==============================] - 3s 7ms/step - loss: 0.2174 - accuracy: 0.9369\n",
      "Epoch 6/20\n",
      "469/469 [==============================] - 4s 8ms/step - loss: 0.1921 - accuracy: 0.9432\n",
      "Epoch 7/20\n",
      "469/469 [==============================] - 4s 8ms/step - loss: 0.1676 - accuracy: 0.9507\n",
      "Epoch 8/20\n",
      "295/469 [=================>............] - ETA: 1s - loss: 0.1533 - accuracy: 0.9550"
     ]
    }
   ],
   "source": [
    "model.fit(X_train, Y_train, batch_size=batch_size, epochs=20, verbose=1)"
   ]
  }
 ],
 "metadata": {
  "colab": {
   "name": "tf_keras_assignment.ipynb",
   "provenance": []
  },
  "kernelspec": {
   "display_name": "Python 3",
   "language": "python",
   "name": "python3"
  },
  "language_info": {
   "codemirror_mode": {
    "name": "ipython",
    "version": 3
   },
   "file_extension": ".py",
   "mimetype": "text/x-python",
   "name": "python",
   "nbconvert_exporter": "python",
   "pygments_lexer": "ipython3",
   "version": "3.8.3"
  },
  "toc": {
   "base_numbering": 1,
   "nav_menu": {},
   "number_sections": false,
   "sideBar": true,
   "skip_h1_title": false,
   "title_cell": "Table of Contents",
   "title_sidebar": "Contents",
   "toc_cell": false,
   "toc_position": {},
   "toc_section_display": true,
   "toc_window_display": true
  }
 },
 "nbformat": 4,
 "nbformat_minor": 1
}
