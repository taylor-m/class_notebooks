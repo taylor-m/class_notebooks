{
 "cells": [
  {
   "cell_type": "code",
   "execution_count": 1,
   "metadata": {},
   "outputs": [
    {
     "data": {
      "application/javascript": [
       "\n",
       "            setTimeout(function() {\n",
       "                var nbb_cell_id = 1;\n",
       "                var nbb_unformatted_code = \"%reload_ext nb_black\";\n",
       "                var nbb_formatted_code = \"%reload_ext nb_black\";\n",
       "                var nbb_cells = Jupyter.notebook.get_cells();\n",
       "                for (var i = 0; i < nbb_cells.length; ++i) {\n",
       "                    if (nbb_cells[i].input_prompt_number == nbb_cell_id) {\n",
       "                        if (nbb_cells[i].get_text() == nbb_unformatted_code) {\n",
       "                             nbb_cells[i].set_text(nbb_formatted_code);\n",
       "                        }\n",
       "                        break;\n",
       "                    }\n",
       "                }\n",
       "            }, 500);\n",
       "            "
      ],
      "text/plain": [
       "<IPython.core.display.Javascript object>"
      ]
     },
     "metadata": {},
     "output_type": "display_data"
    }
   ],
   "source": [
    "%reload_ext nb_black"
   ]
  },
  {
   "cell_type": "markdown",
   "metadata": {},
   "source": [
    "## Deeper dive on distributions\n",
    "\n",
    "### What probability distribution is each variable likely to take?\n",
    "\n",
    "* The number of fans arriving at a Cleveland Indians baseball game per hour\n",
    "* Heights of all citizens of a neighborhood in St. Louis, Missouri\n",
    "* Number of times “rock” selected in “Rock, Paper, Scissors”"
   ]
  },
  {
   "cell_type": "code",
   "execution_count": 2,
   "metadata": {
    "hideOutput": true,
    "scrolled": false
   },
   "outputs": [
    {
     "data": {
      "application/javascript": [
       "\n",
       "            setTimeout(function() {\n",
       "                var nbb_cell_id = 2;\n",
       "                var nbb_unformatted_code = \"import numpy as np\\nfrom scipy import stats\\nimport seaborn as sns\\nimport matplotlib.pyplot as plt\\n\\n%matplotlib inline\\n\\n# Reproduce same exact results\\nnp.random.seed(42)\";\n",
       "                var nbb_formatted_code = \"import numpy as np\\nfrom scipy import stats\\nimport seaborn as sns\\nimport matplotlib.pyplot as plt\\n\\n%matplotlib inline\\n\\n# Reproduce same exact results\\nnp.random.seed(42)\";\n",
       "                var nbb_cells = Jupyter.notebook.get_cells();\n",
       "                for (var i = 0; i < nbb_cells.length; ++i) {\n",
       "                    if (nbb_cells[i].input_prompt_number == nbb_cell_id) {\n",
       "                        if (nbb_cells[i].get_text() == nbb_unformatted_code) {\n",
       "                             nbb_cells[i].set_text(nbb_formatted_code);\n",
       "                        }\n",
       "                        break;\n",
       "                    }\n",
       "                }\n",
       "            }, 500);\n",
       "            "
      ],
      "text/plain": [
       "<IPython.core.display.Javascript object>"
      ]
     },
     "metadata": {},
     "output_type": "display_data"
    }
   ],
   "source": [
    "import numpy as np\n",
    "from scipy import stats\n",
    "import seaborn as sns\n",
    "import matplotlib.pyplot as plt\n",
    "\n",
    "%matplotlib inline\n",
    "\n",
    "# Reproduce same exact results\n",
    "np.random.seed(42)"
   ]
  },
  {
   "cell_type": "markdown",
   "metadata": {},
   "source": [
    "#### The number of fans arriving at a Cleveland Indians baseball game\n",
    "\n",
    "This is an example of a Poisson process.  We can play with what this might look like using `np.random.poisson()`.\n",
    "\n",
    "Let's say we expect for 10,000 people to arrive every hour (i.e. `n = 10000` and `time = 1`).  However, if you look at the documentation of `np.random.poisson()` you'll see it asks for a parameter named `lam` which is short of lambda (or $\\lambda$ as its often written).  This parameter is the rate and we can use `n` and `time` to get to it."
   ]
  },
  {
   "cell_type": "code",
   "execution_count": 3,
   "metadata": {},
   "outputs": [
    {
     "data": {
      "application/javascript": [
       "\n",
       "            setTimeout(function() {\n",
       "                var nbb_cell_id = 3;\n",
       "                var nbb_unformatted_code = \"# np.random.poisson?\";\n",
       "                var nbb_formatted_code = \"# np.random.poisson?\";\n",
       "                var nbb_cells = Jupyter.notebook.get_cells();\n",
       "                for (var i = 0; i < nbb_cells.length; ++i) {\n",
       "                    if (nbb_cells[i].input_prompt_number == nbb_cell_id) {\n",
       "                        if (nbb_cells[i].get_text() == nbb_unformatted_code) {\n",
       "                             nbb_cells[i].set_text(nbb_formatted_code);\n",
       "                        }\n",
       "                        break;\n",
       "                    }\n",
       "                }\n",
       "            }, 500);\n",
       "            "
      ],
      "text/plain": [
       "<IPython.core.display.Javascript object>"
      ]
     },
     "metadata": {},
     "output_type": "display_data"
    }
   ],
   "source": [
    "# np.random.poisson?"
   ]
  },
  {
   "cell_type": "code",
   "execution_count": 4,
   "metadata": {},
   "outputs": [
    {
     "name": "stdout",
     "output_type": "stream",
     "text": [
      "Expect to see 2.7777777777777777 people per second (10000 per hour)\n"
     ]
    },
    {
     "data": {
      "application/javascript": [
       "\n",
       "            setTimeout(function() {\n",
       "                var nbb_cell_id = 4;\n",
       "                var nbb_unformatted_code = \"# We expect for 10,000 people to arrive every hour\\nn = 10000\\ntime = 1  # in hours\\n\\n\\nlmbda = n / time\\nlmbda = lmbda / 60 / 60  # in seconds\\n\\nprint(f\\\"Expect to see {lmbda} people per second ({n} per hour)\\\")\";\n",
       "                var nbb_formatted_code = \"# We expect for 10,000 people to arrive every hour\\nn = 10000\\ntime = 1  # in hours\\n\\n\\nlmbda = n / time\\nlmbda = lmbda / 60 / 60  # in seconds\\n\\nprint(f\\\"Expect to see {lmbda} people per second ({n} per hour)\\\")\";\n",
       "                var nbb_cells = Jupyter.notebook.get_cells();\n",
       "                for (var i = 0; i < nbb_cells.length; ++i) {\n",
       "                    if (nbb_cells[i].input_prompt_number == nbb_cell_id) {\n",
       "                        if (nbb_cells[i].get_text() == nbb_unformatted_code) {\n",
       "                             nbb_cells[i].set_text(nbb_formatted_code);\n",
       "                        }\n",
       "                        break;\n",
       "                    }\n",
       "                }\n",
       "            }, 500);\n",
       "            "
      ],
      "text/plain": [
       "<IPython.core.display.Javascript object>"
      ]
     },
     "metadata": {},
     "output_type": "display_data"
    }
   ],
   "source": [
    "# We expect for 10,000 people to arrive every hour\n",
    "n = 10000\n",
    "time = 1  # in hours\n",
    "\n",
    "\n",
    "lmbda = n / time\n",
    "lmbda = lmbda / 60 / 60  # in seconds\n",
    "\n",
    "print(f\"Expect to see {lmbda} people per second ({n} per hour)\")"
   ]
  },
  {
   "cell_type": "code",
   "execution_count": 5,
   "metadata": {},
   "outputs": [
    {
     "name": "stdout",
     "output_type": "stream",
     "text": [
      "From our simulation:\n",
      "* 9907 people arrived in an hour\n",
      "* 2.7519444444444443 was the average number arriving per second\n"
     ]
    },
    {
     "data": {
      "application/javascript": [
       "\n",
       "            setTimeout(function() {\n",
       "                var nbb_cell_id = 5;\n",
       "                var nbb_unformatted_code = \"# Simulate an hours worth of arrivals\\narrivals = np.random.poisson(lmbda, size=3600)\\n\\nprint(\\\"From our simulation:\\\")\\nprint(f\\\"* {arrivals.sum()} people arrived in an hour\\\")\\nprint(f\\\"* {arrivals.mean()} was the average number arriving per second\\\")\";\n",
       "                var nbb_formatted_code = \"# Simulate an hours worth of arrivals\\narrivals = np.random.poisson(lmbda, size=3600)\\n\\nprint(\\\"From our simulation:\\\")\\nprint(f\\\"* {arrivals.sum()} people arrived in an hour\\\")\\nprint(f\\\"* {arrivals.mean()} was the average number arriving per second\\\")\";\n",
       "                var nbb_cells = Jupyter.notebook.get_cells();\n",
       "                for (var i = 0; i < nbb_cells.length; ++i) {\n",
       "                    if (nbb_cells[i].input_prompt_number == nbb_cell_id) {\n",
       "                        if (nbb_cells[i].get_text() == nbb_unformatted_code) {\n",
       "                             nbb_cells[i].set_text(nbb_formatted_code);\n",
       "                        }\n",
       "                        break;\n",
       "                    }\n",
       "                }\n",
       "            }, 500);\n",
       "            "
      ],
      "text/plain": [
       "<IPython.core.display.Javascript object>"
      ]
     },
     "metadata": {},
     "output_type": "display_data"
    }
   ],
   "source": [
    "# Simulate an hours worth of arrivals\n",
    "arrivals = np.random.poisson(lmbda, size=3600)\n",
    "\n",
    "print(\"From our simulation:\")\n",
    "print(f\"* {arrivals.sum()} people arrived in an hour\")\n",
    "print(f\"* {arrivals.mean()} was the average number arriving per second\")"
   ]
  },
  {
   "cell_type": "code",
   "execution_count": 6,
   "metadata": {},
   "outputs": [
    {
     "data": {
      "image/png": "[encoded data removed]",
      "text/plain": [
       "<Figure size 432x288 with 1 Axes>"
      ]
     },
     "metadata": {
      "needs_background": "light"
     },
     "output_type": "display_data"
    },
    {
     "data": {
      "image/png": "[encoded data removed]",
      "text/plain": [
       "<Figure size 432x288 with 1 Axes>"
      ]
     },
     "metadata": {
      "needs_background": "light"
     },
     "output_type": "display_data"
    },
    {
     "data": {
      "application/javascript": [
       "\n",
       "            setTimeout(function() {\n",
       "                var nbb_cell_id = 6;\n",
       "                var nbb_unformatted_code = \"# Intentionally high bin count to highlight\\n# that the distribution is discrete\\nbins = 2 * len(set(arrivals)) - 1\\n\\nplt.hist(arrivals, bins=bins)\\nplt.axvline(arrivals.mean(), c=\\\"orange\\\")\\nplt.title(\\\"Arrivals per second\\\")\\nplt.show()\\n\\ntotal_people_arrived = np.cumsum(arrivals[1:30])\\nplt.step(range(len(total_people_arrived)), total_people_arrived)\\nplt.title(\\\"Total people in stadium over time (first 30 seconds)\\\")\\nplt.show()\";\n",
       "                var nbb_formatted_code = \"# Intentionally high bin count to highlight\\n# that the distribution is discrete\\nbins = 2 * len(set(arrivals)) - 1\\n\\nplt.hist(arrivals, bins=bins)\\nplt.axvline(arrivals.mean(), c=\\\"orange\\\")\\nplt.title(\\\"Arrivals per second\\\")\\nplt.show()\\n\\ntotal_people_arrived = np.cumsum(arrivals[1:30])\\nplt.step(range(len(total_people_arrived)), total_people_arrived)\\nplt.title(\\\"Total people in stadium over time (first 30 seconds)\\\")\\nplt.show()\";\n",
       "                var nbb_cells = Jupyter.notebook.get_cells();\n",
       "                for (var i = 0; i < nbb_cells.length; ++i) {\n",
       "                    if (nbb_cells[i].input_prompt_number == nbb_cell_id) {\n",
       "                        if (nbb_cells[i].get_text() == nbb_unformatted_code) {\n",
       "                             nbb_cells[i].set_text(nbb_formatted_code);\n",
       "                        }\n",
       "                        break;\n",
       "                    }\n",
       "                }\n",
       "            }, 500);\n",
       "            "
      ],
      "text/plain": [
       "<IPython.core.display.Javascript object>"
      ]
     },
     "metadata": {},
     "output_type": "display_data"
    }
   ],
   "source": [
    "# Intentionally high bin count to highlight\n",
    "# that the distribution is discrete\n",
    "bins = 2 * len(set(arrivals)) - 1\n",
    "\n",
    "plt.hist(arrivals, bins=bins)\n",
    "plt.axvline(arrivals.mean(), c=\"orange\")\n",
    "plt.title(\"Arrivals per second\")\n",
    "plt.show()\n",
    "\n",
    "total_people_arrived = np.cumsum(arrivals[1:30])\n",
    "plt.step(range(len(total_people_arrived)), total_people_arrived)\n",
    "plt.title(\"Total people in stadium over time (first 30 seconds)\")\n",
    "plt.show()"
   ]
  },
  {
   "cell_type": "markdown",
   "metadata": {},
   "source": [
    "#### Heights of all citizens of a neighborhood in St. Louis, Missouri\n",
    "\n",
    "I'll leave this one to you.\n",
    "\n",
    "* What type of distribution would a measurement like height take?\n",
    "* What parameters do you need to describe the shape of this type of distribution?\n",
    "* Make up some values for the parameters (or research if you'd like).\n",
    "* Generate a random sample using this distribution and these parameters.\n",
    "* Generate a histogram of this random sample.\n",
    "* Add a vertical line for the mean."
   ]
  },
  {
   "cell_type": "code",
   "execution_count": null,
   "metadata": {},
   "outputs": [],
   "source": []
  },
  {
   "cell_type": "markdown",
   "metadata": {},
   "source": [
    "#### Number of times “rock” selected in “Rock, Paper, Scissors”\n",
    "\n",
    "The binomial distribution is well suited for this process.  We can use `np.random.binomial()`. \n",
    "\n",
    "For playing with this one we're going to assume rock being thrown is random and occurs $\\frac{1}{3}$ of the time (i.e. `p = 1 / 3`).  To investigate this we'll look at 100 games of rock paper scissors, so `n = 100`.  If we look at the documentation of `np.random.binomial()` we see that these two parameters are all we need.  Instead of just running this for 100 games, we can run it for 100 games many times.  Below I've set `size=1000` to have 100 games played 1000 times!  With this, we'll get out 1000 numbers, each number represents how many rocks (i.e. successes) appeared in the 100 games played."
   ]
  },
  {
   "cell_type": "code",
   "execution_count": 7,
   "metadata": {},
   "outputs": [
    {
     "data": {
      "application/javascript": [
       "\n",
       "            setTimeout(function() {\n",
       "                var nbb_cell_id = 7;\n",
       "                var nbb_unformatted_code = \"# np.random.binomial?\";\n",
       "                var nbb_formatted_code = \"# np.random.binomial?\";\n",
       "                var nbb_cells = Jupyter.notebook.get_cells();\n",
       "                for (var i = 0; i < nbb_cells.length; ++i) {\n",
       "                    if (nbb_cells[i].input_prompt_number == nbb_cell_id) {\n",
       "                        if (nbb_cells[i].get_text() == nbb_unformatted_code) {\n",
       "                             nbb_cells[i].set_text(nbb_formatted_code);\n",
       "                        }\n",
       "                        break;\n",
       "                    }\n",
       "                }\n",
       "            }, 500);\n",
       "            "
      ],
      "text/plain": [
       "<IPython.core.display.Javascript object>"
      ]
     },
     "metadata": {},
     "output_type": "display_data"
    }
   ],
   "source": [
    "# np.random.binomial?"
   ]
  },
  {
   "cell_type": "code",
   "execution_count": 8,
   "metadata": {},
   "outputs": [
    {
     "name": "stdout",
     "output_type": "stream",
     "text": [
      "Expect to see 33.33 rocks per 100 rounds\n"
     ]
    },
    {
     "data": {
      "application/javascript": [
       "\n",
       "            setTimeout(function() {\n",
       "                var nbb_cell_id = 8;\n",
       "                var nbb_unformatted_code = \"# How many times will 'rock' appear per `n` games of RPS\\nn = 100\\np = 1 / 3  # Assuming rock is random it will occur a third of the time\\n\\nprint(f\\\"Expect to see {n * p:.2f} rocks per {n} rounds\\\")\";\n",
       "                var nbb_formatted_code = \"# How many times will 'rock' appear per `n` games of RPS\\nn = 100\\np = 1 / 3  # Assuming rock is random it will occur a third of the time\\n\\nprint(f\\\"Expect to see {n * p:.2f} rocks per {n} rounds\\\")\";\n",
       "                var nbb_cells = Jupyter.notebook.get_cells();\n",
       "                for (var i = 0; i < nbb_cells.length; ++i) {\n",
       "                    if (nbb_cells[i].input_prompt_number == nbb_cell_id) {\n",
       "                        if (nbb_cells[i].get_text() == nbb_unformatted_code) {\n",
       "                             nbb_cells[i].set_text(nbb_formatted_code);\n",
       "                        }\n",
       "                        break;\n",
       "                    }\n",
       "                }\n",
       "            }, 500);\n",
       "            "
      ],
      "text/plain": [
       "<IPython.core.display.Javascript object>"
      ]
     },
     "metadata": {},
     "output_type": "display_data"
    }
   ],
   "source": [
    "# How many times will 'rock' appear per `n` games of RPS\n",
    "n = 100\n",
    "p = 1 / 3  # Assuming rock is random it will occur a third of the time\n",
    "\n",
    "print(f\"Expect to see {n * p:.2f} rocks per {n} rounds\")"
   ]
  },
  {
   "cell_type": "code",
   "execution_count": 9,
   "metadata": {},
   "outputs": [
    {
     "name": "stdout",
     "output_type": "stream",
     "text": [
      "From our simulation:\n",
      "* 33.15 was the average number of rocks thrown per 100 games.\n"
     ]
    },
    {
     "data": {
      "image/png": "[encoded data removed]",
      "text/plain": [
       "<Figure size 432x288 with 1 Axes>"
      ]
     },
     "metadata": {
      "needs_background": "light"
     },
     "output_type": "display_data"
    },
    {
     "data": {
      "application/javascript": [
       "\n",
       "            setTimeout(function() {\n",
       "                var nbb_cell_id = 9;\n",
       "                var nbb_unformatted_code = \"# 'Simulate' 100 RPS games 1000 times\\nrocks_thrown = np.random.binomial(n, p, size=1000)\\nprint(\\\"From our simulation:\\\")\\nprint(\\n    f\\\"* {rocks_thrown.mean():.2f} was the average number of rocks thrown per {n} games.\\\"\\n)\\n\\n# Intentionally high bin count to highlight\\n# that the distribution is discrete\\nbins = 2 * len(set(rocks_thrown))\\n\\nplt.hist(rocks_thrown, bins=bins)\\nplt.axvline(rocks_thrown.mean(), c=\\\"orange\\\")\\nplt.title(f\\\"Rocks thrown per {n} rounds\\\")\\nplt.show()\";\n",
       "                var nbb_formatted_code = \"# 'Simulate' 100 RPS games 1000 times\\nrocks_thrown = np.random.binomial(n, p, size=1000)\\nprint(\\\"From our simulation:\\\")\\nprint(\\n    f\\\"* {rocks_thrown.mean():.2f} was the average number of rocks thrown per {n} games.\\\"\\n)\\n\\n# Intentionally high bin count to highlight\\n# that the distribution is discrete\\nbins = 2 * len(set(rocks_thrown))\\n\\nplt.hist(rocks_thrown, bins=bins)\\nplt.axvline(rocks_thrown.mean(), c=\\\"orange\\\")\\nplt.title(f\\\"Rocks thrown per {n} rounds\\\")\\nplt.show()\";\n",
       "                var nbb_cells = Jupyter.notebook.get_cells();\n",
       "                for (var i = 0; i < nbb_cells.length; ++i) {\n",
       "                    if (nbb_cells[i].input_prompt_number == nbb_cell_id) {\n",
       "                        if (nbb_cells[i].get_text() == nbb_unformatted_code) {\n",
       "                             nbb_cells[i].set_text(nbb_formatted_code);\n",
       "                        }\n",
       "                        break;\n",
       "                    }\n",
       "                }\n",
       "            }, 500);\n",
       "            "
      ],
      "text/plain": [
       "<IPython.core.display.Javascript object>"
      ]
     },
     "metadata": {},
     "output_type": "display_data"
    }
   ],
   "source": [
    "# 'Simulate' 100 RPS games 1000 times\n",
    "rocks_thrown = np.random.binomial(n, p, size=1000)\n",
    "print(\"From our simulation:\")\n",
    "print(\n",
    "    f\"* {rocks_thrown.mean():.2f} was the average number of rocks thrown per {n} games.\"\n",
    ")\n",
    "\n",
    "# Intentionally high bin count to highlight\n",
    "# that the distribution is discrete\n",
    "bins = 2 * len(set(rocks_thrown))\n",
    "\n",
    "plt.hist(rocks_thrown, bins=bins)\n",
    "plt.axvline(rocks_thrown.mean(), c=\"orange\")\n",
    "plt.title(f\"Rocks thrown per {n} rounds\")\n",
    "plt.show()"
   ]
  },
  {
   "cell_type": "markdown",
   "metadata": {},
   "source": [
    "We can take this even further with a very realistic setup: The RPS Pros Travaleing Showcase!!\n",
    "\n",
    "> We're traveling the country to showcase the 2 best RPS players in the world.\n",
    "There are `n_stops` stops on our RPS showcase tour.\n",
    "There are `n_rounds` rounds per showcase.\n",
    "Each round has `n_hands` hands of RPS thrown.\n",
    "We assume that the chance of each option is equally likely.\n",
    "\n",
    "We want to know how many rocks are thrown each round.  To do this, after each stop, we'll take the average of the number of rocks thrown per round.  When we make a historgram of these averages what shape should we expect?  What idea from statistics is this demonstrating?"
   ]
  },
  {
   "cell_type": "code",
   "execution_count": 10,
   "metadata": {
    "scrolled": false
   },
   "outputs": [
    {
     "name": "stdout",
     "output_type": "stream",
     "text": [
      "Expect to see 3.333333333333333 rocks per round.\n"
     ]
    },
    {
     "data": {
      "application/javascript": [
       "\n",
       "            setTimeout(function() {\n",
       "                var nbb_cell_id = 10;\n",
       "                var nbb_unformatted_code = \"n_stops = 10000\\nn_rounds = 5\\nn_hands = 10\\np_of_rock = 1 / 3\\n\\nprint(f\\\"Expect to see {p_of_rock * n_hands} rocks per round.\\\")\";\n",
       "                var nbb_formatted_code = \"n_stops = 10000\\nn_rounds = 5\\nn_hands = 10\\np_of_rock = 1 / 3\\n\\nprint(f\\\"Expect to see {p_of_rock * n_hands} rocks per round.\\\")\";\n",
       "                var nbb_cells = Jupyter.notebook.get_cells();\n",
       "                for (var i = 0; i < nbb_cells.length; ++i) {\n",
       "                    if (nbb_cells[i].input_prompt_number == nbb_cell_id) {\n",
       "                        if (nbb_cells[i].get_text() == nbb_unformatted_code) {\n",
       "                             nbb_cells[i].set_text(nbb_formatted_code);\n",
       "                        }\n",
       "                        break;\n",
       "                    }\n",
       "                }\n",
       "            }, 500);\n",
       "            "
      ],
      "text/plain": [
       "<IPython.core.display.Javascript object>"
      ]
     },
     "metadata": {},
     "output_type": "display_data"
    }
   ],
   "source": [
    "n_stops = 10000\n",
    "n_rounds = 5\n",
    "n_hands = 10\n",
    "p_of_rock = 1 / 3\n",
    "\n",
    "print(f\"Expect to see {p_of_rock * n_hands} rocks per round.\")"
   ]
  },
  {
   "cell_type": "code",
   "execution_count": 11,
   "metadata": {},
   "outputs": [
    {
     "name": "stdout",
     "output_type": "stream",
     "text": [
      "From our simulation:\n",
      "* 3.33412 was the average number of rocks thrown per round.\n"
     ]
    },
    {
     "data": {
      "image/png": "[encoded data removed]",
      "text/plain": [
       "<Figure size 432x288 with 1 Axes>"
      ]
     },
     "metadata": {
      "needs_background": "light"
     },
     "output_type": "display_data"
    },
    {
     "data": {
      "application/javascript": [
       "\n",
       "            setTimeout(function() {\n",
       "                var nbb_cell_id = 11;\n",
       "                var nbb_unformatted_code = \"rocks_per_round = []\\navg_rocks_per_round = []\\nfor _ in range(n_stops):\\n    rocks_per_round_this_stop = np.random.binomial(n_hands, p_of_rock, size=n_rounds)\\n\\n    rocks_per_round.extend(rocks_per_round_this_stop)\\n    avg_rocks_per_round.append(rocks_per_round_this_stop.mean())\\n\\nprint(\\\"From our simulation:\\\")\\nprint(f\\\"* {np.mean(rocks_per_round)} was the average number of rocks thrown per round.\\\")\\n\\nsns.distplot(avg_rocks_per_round, fit=stats.norm)\\nplt.axvline(np.mean(avg_rocks_per_round), c=\\\"orange\\\")\\nplt.show()\";\n",
       "                var nbb_formatted_code = \"rocks_per_round = []\\navg_rocks_per_round = []\\nfor _ in range(n_stops):\\n    rocks_per_round_this_stop = np.random.binomial(n_hands, p_of_rock, size=n_rounds)\\n\\n    rocks_per_round.extend(rocks_per_round_this_stop)\\n    avg_rocks_per_round.append(rocks_per_round_this_stop.mean())\\n\\nprint(\\\"From our simulation:\\\")\\nprint(f\\\"* {np.mean(rocks_per_round)} was the average number of rocks thrown per round.\\\")\\n\\nsns.distplot(avg_rocks_per_round, fit=stats.norm)\\nplt.axvline(np.mean(avg_rocks_per_round), c=\\\"orange\\\")\\nplt.show()\";\n",
       "                var nbb_cells = Jupyter.notebook.get_cells();\n",
       "                for (var i = 0; i < nbb_cells.length; ++i) {\n",
       "                    if (nbb_cells[i].input_prompt_number == nbb_cell_id) {\n",
       "                        if (nbb_cells[i].get_text() == nbb_unformatted_code) {\n",
       "                             nbb_cells[i].set_text(nbb_formatted_code);\n",
       "                        }\n",
       "                        break;\n",
       "                    }\n",
       "                }\n",
       "            }, 500);\n",
       "            "
      ],
      "text/plain": [
       "<IPython.core.display.Javascript object>"
      ]
     },
     "metadata": {},
     "output_type": "display_data"
    }
   ],
   "source": [
    "rocks_per_round = []\n",
    "avg_rocks_per_round = []\n",
    "for _ in range(n_stops):\n",
    "    rocks_per_round_this_stop = np.random.binomial(n_hands, p_of_rock, size=n_rounds)\n",
    "\n",
    "    rocks_per_round.extend(rocks_per_round_this_stop)\n",
    "    avg_rocks_per_round.append(rocks_per_round_this_stop.mean())\n",
    "\n",
    "print(\"From our simulation:\")\n",
    "print(f\"* {np.mean(rocks_per_round)} was the average number of rocks thrown per round.\")\n",
    "\n",
    "sns.distplot(avg_rocks_per_round, fit=stats.norm)\n",
    "plt.axvline(np.mean(avg_rocks_per_round), c=\"orange\")\n",
    "plt.show()"
   ]
  },
  {
   "cell_type": "markdown",
   "metadata": {},
   "source": [
    "## Sampling!"
   ]
  },
  {
   "cell_type": "code",
   "execution_count": 12,
   "metadata": {},
   "outputs": [
    {
     "data": {
      "image/png": "[encoded data removed]",
      "text/plain": [
       "<Figure size 432x288 with 1 Axes>"
      ]
     },
     "metadata": {
      "needs_background": "light"
     },
     "output_type": "display_data"
    },
    {
     "data": {
      "application/javascript": [
       "\n",
       "            setTimeout(function() {\n",
       "                var nbb_cell_id = 12;\n",
       "                var nbb_unformatted_code = \"n = 10000\\nx = np.random.beta(0.5, 0.5, n)\\n\\nplt.hist(x)\\nplt.show()\";\n",
       "                var nbb_formatted_code = \"n = 10000\\nx = np.random.beta(0.5, 0.5, n)\\n\\nplt.hist(x)\\nplt.show()\";\n",
       "                var nbb_cells = Jupyter.notebook.get_cells();\n",
       "                for (var i = 0; i < nbb_cells.length; ++i) {\n",
       "                    if (nbb_cells[i].input_prompt_number == nbb_cell_id) {\n",
       "                        if (nbb_cells[i].get_text() == nbb_unformatted_code) {\n",
       "                             nbb_cells[i].set_text(nbb_formatted_code);\n",
       "                        }\n",
       "                        break;\n",
       "                    }\n",
       "                }\n",
       "            }, 500);\n",
       "            "
      ],
      "text/plain": [
       "<IPython.core.display.Javascript object>"
      ]
     },
     "metadata": {},
     "output_type": "display_data"
    }
   ],
   "source": [
    "n = 10000\n",
    "x = np.random.beta(0.5, 0.5, n)\n",
    "\n",
    "plt.hist(x)\n",
    "plt.show()"
   ]
  },
  {
   "cell_type": "markdown",
   "metadata": {},
   "source": [
    "We can sample with or without replacement using `random.choice()` or `np.random.choice()`.  Below we create many samples from the population `x` and plot a histogram.  We then add lines to the histogram for the populuation mean and a line for the mean of our sample means (this could be called a \"[grand mean](https://en.wikipedia.org/wiki/Grand_mean)\")"
   ]
  },
  {
   "cell_type": "code",
   "execution_count": 13,
   "metadata": {},
   "outputs": [
    {
     "data": {
      "application/javascript": [
       "\n",
       "            setTimeout(function() {\n",
       "                var nbb_cell_id = 13;\n",
       "                var nbb_unformatted_code = \"n_samples = 1000\\nsample_size = 10000\\nreplacement = True\\n\\nmeans = []\\nfor i in range(n_samples):\\n    sample = np.random.choice(x, sample_size, replacement)\\n    mean = sample.mean()\\n    means.append(mean)\";\n",
       "                var nbb_formatted_code = \"n_samples = 1000\\nsample_size = 10000\\nreplacement = True\\n\\nmeans = []\\nfor i in range(n_samples):\\n    sample = np.random.choice(x, sample_size, replacement)\\n    mean = sample.mean()\\n    means.append(mean)\";\n",
       "                var nbb_cells = Jupyter.notebook.get_cells();\n",
       "                for (var i = 0; i < nbb_cells.length; ++i) {\n",
       "                    if (nbb_cells[i].input_prompt_number == nbb_cell_id) {\n",
       "                        if (nbb_cells[i].get_text() == nbb_unformatted_code) {\n",
       "                             nbb_cells[i].set_text(nbb_formatted_code);\n",
       "                        }\n",
       "                        break;\n",
       "                    }\n",
       "                }\n",
       "            }, 500);\n",
       "            "
      ],
      "text/plain": [
       "<IPython.core.display.Javascript object>"
      ]
     },
     "metadata": {},
     "output_type": "display_data"
    }
   ],
   "source": [
    "n_samples = 1000\n",
    "sample_size = 10000\n",
    "replacement = True\n",
    "\n",
    "means = []\n",
    "for i in range(n_samples):\n",
    "    sample = np.random.choice(x, sample_size, replacement)\n",
    "    mean = sample.mean()\n",
    "    means.append(mean)"
   ]
  },
  {
   "cell_type": "code",
   "execution_count": 14,
   "metadata": {
    "scrolled": true
   },
   "outputs": [
    {
     "data": {
      "application/javascript": [
       "\n",
       "            setTimeout(function() {\n",
       "                var nbb_cell_id = 14;\n",
       "                var nbb_unformatted_code = \"true_mean = x.mean()\\nmean_est = np.mean(means)\";\n",
       "                var nbb_formatted_code = \"true_mean = x.mean()\\nmean_est = np.mean(means)\";\n",
       "                var nbb_cells = Jupyter.notebook.get_cells();\n",
       "                for (var i = 0; i < nbb_cells.length; ++i) {\n",
       "                    if (nbb_cells[i].input_prompt_number == nbb_cell_id) {\n",
       "                        if (nbb_cells[i].get_text() == nbb_unformatted_code) {\n",
       "                             nbb_cells[i].set_text(nbb_formatted_code);\n",
       "                        }\n",
       "                        break;\n",
       "                    }\n",
       "                }\n",
       "            }, 500);\n",
       "            "
      ],
      "text/plain": [
       "<IPython.core.display.Javascript object>"
      ]
     },
     "metadata": {},
     "output_type": "display_data"
    }
   ],
   "source": [
    "true_mean = x.mean()\n",
    "mean_est = np.mean(means)"
   ]
  },
  {
   "cell_type": "code",
   "execution_count": 15,
   "metadata": {},
   "outputs": [
    {
     "data": {
      "image/png": "[encoded data removed]",
      "text/plain": [
       "<Figure size 432x288 with 1 Axes>"
      ]
     },
     "metadata": {
      "needs_background": "light"
     },
     "output_type": "display_data"
    },
    {
     "data": {
      "application/javascript": [
       "\n",
       "            setTimeout(function() {\n",
       "                var nbb_cell_id = 15;\n",
       "                var nbb_unformatted_code = \"plt.hist(means)\\nplt.axvline(true_mean, c=\\\"orange\\\")\\nplt.axvline(mean_est, c=\\\"green\\\")\\nplt.show()\";\n",
       "                var nbb_formatted_code = \"plt.hist(means)\\nplt.axvline(true_mean, c=\\\"orange\\\")\\nplt.axvline(mean_est, c=\\\"green\\\")\\nplt.show()\";\n",
       "                var nbb_cells = Jupyter.notebook.get_cells();\n",
       "                for (var i = 0; i < nbb_cells.length; ++i) {\n",
       "                    if (nbb_cells[i].input_prompt_number == nbb_cell_id) {\n",
       "                        if (nbb_cells[i].get_text() == nbb_unformatted_code) {\n",
       "                             nbb_cells[i].set_text(nbb_formatted_code);\n",
       "                        }\n",
       "                        break;\n",
       "                    }\n",
       "                }\n",
       "            }, 500);\n",
       "            "
      ],
      "text/plain": [
       "<IPython.core.display.Javascript object>"
      ]
     },
     "metadata": {},
     "output_type": "display_data"
    }
   ],
   "source": [
    "plt.hist(means)\n",
    "plt.axvline(true_mean, c=\"orange\")\n",
    "plt.axvline(mean_est, c=\"green\")\n",
    "plt.show()"
   ]
  },
  {
   "cell_type": "markdown",
   "metadata": {},
   "source": [
    "We're going to generate a new population using a seed to ensure we get the same population each time."
   ]
  },
  {
   "cell_type": "code",
   "execution_count": 16,
   "metadata": {},
   "outputs": [
    {
     "data": {
      "application/javascript": [
       "\n",
       "            setTimeout(function() {\n",
       "                var nbb_cell_id = 16;\n",
       "                var nbb_unformatted_code = \"np.random.seed(1337)\\nx = np.random.normal(size=10000)\";\n",
       "                var nbb_formatted_code = \"np.random.seed(1337)\\nx = np.random.normal(size=10000)\";\n",
       "                var nbb_cells = Jupyter.notebook.get_cells();\n",
       "                for (var i = 0; i < nbb_cells.length; ++i) {\n",
       "                    if (nbb_cells[i].input_prompt_number == nbb_cell_id) {\n",
       "                        if (nbb_cells[i].get_text() == nbb_unformatted_code) {\n",
       "                             nbb_cells[i].set_text(nbb_formatted_code);\n",
       "                        }\n",
       "                        break;\n",
       "                    }\n",
       "                }\n",
       "            }, 500);\n",
       "            "
      ],
      "text/plain": [
       "<IPython.core.display.Javascript object>"
      ]
     },
     "metadata": {},
     "output_type": "display_data"
    }
   ],
   "source": [
    "np.random.seed(1337)\n",
    "x = np.random.normal(size=10000)"
   ]
  },
  {
   "cell_type": "code",
   "execution_count": 17,
   "metadata": {},
   "outputs": [
    {
     "name": "stdout",
     "output_type": "stream",
     "text": [
      "Population mean: 0.00202323482402236\n",
      "Sample mean: 0.06502660747940771\n"
     ]
    },
    {
     "data": {
      "application/javascript": [
       "\n",
       "            setTimeout(function() {\n",
       "                var nbb_cell_id = 17;\n",
       "                var nbb_unformatted_code = \"sample_size = 100\\nsample = np.random.choice(x, sample_size)\\n\\nprint(f\\\"Population mean: {np.mean(x)}\\\")\\nprint(f\\\"Sample mean: {np.mean(sample)}\\\")\";\n",
       "                var nbb_formatted_code = \"sample_size = 100\\nsample = np.random.choice(x, sample_size)\\n\\nprint(f\\\"Population mean: {np.mean(x)}\\\")\\nprint(f\\\"Sample mean: {np.mean(sample)}\\\")\";\n",
       "                var nbb_cells = Jupyter.notebook.get_cells();\n",
       "                for (var i = 0; i < nbb_cells.length; ++i) {\n",
       "                    if (nbb_cells[i].input_prompt_number == nbb_cell_id) {\n",
       "                        if (nbb_cells[i].get_text() == nbb_unformatted_code) {\n",
       "                             nbb_cells[i].set_text(nbb_formatted_code);\n",
       "                        }\n",
       "                        break;\n",
       "                    }\n",
       "                }\n",
       "            }, 500);\n",
       "            "
      ],
      "text/plain": [
       "<IPython.core.display.Javascript object>"
      ]
     },
     "metadata": {},
     "output_type": "display_data"
    }
   ],
   "source": [
    "sample_size = 100\n",
    "sample = np.random.choice(x, sample_size)\n",
    "\n",
    "print(f\"Population mean: {np.mean(x)}\")\n",
    "print(f\"Sample mean: {np.mean(sample)}\")"
   ]
  },
  {
   "cell_type": "markdown",
   "metadata": {},
   "source": [
    "A confidence interval can be calculated around our sample mean to express where we believe the true population mean to be.  We can calculate a 95% confidence interval of the mean 'by hand' using:\n",
    "\n",
    "$$\\bar{x} \\pm 1.96 * \\frac{\\sigma}{\\sqrt{n}}$$\n",
    "\n",
    "Where \n",
    "* $\\bar{x}$ is the sample mean.\n",
    "* [1.96 is a value associated with 95%](https://en.wikipedia.org/wiki/1.96) (this can vary based on the confidence level desired).\n",
    "* $\\sigma$ represents the population standard deviation.  In practice, we might not have this value and so you will see $s$ used instead sometimes to represent the sample standard deviation.  Below we use $s$.\n",
    "* $n$ is the sample size."
   ]
  },
  {
   "cell_type": "code",
   "execution_count": 18,
   "metadata": {},
   "outputs": [
    {
     "name": "stdout",
     "output_type": "stream",
     "text": [
      "(-0.1530788312339188, 0.2831320461927342)\n",
      "\n",
      "Captures true mean: True\n"
     ]
    },
    {
     "data": {
      "application/javascript": [
       "\n",
       "            setTimeout(function() {\n",
       "                var nbb_cell_id = 18;\n",
       "                var nbb_unformatted_code = \"ci_hi = sample.mean() + 1.96 * sample.std() / np.sqrt(sample_size)\\nci_lo = sample.mean() - 1.96 * sample.std() / np.sqrt(sample_size)\\n\\ntrue_mean = np.mean(x)\\ncaptured_true_mean = true_mean > ci_lo and true_mean < ci_hi\\n\\nprint(f\\\"({ci_lo}, {ci_hi})\\\\n\\\\nCaptures true mean: {captured_true_mean}\\\")\";\n",
       "                var nbb_formatted_code = \"ci_hi = sample.mean() + 1.96 * sample.std() / np.sqrt(sample_size)\\nci_lo = sample.mean() - 1.96 * sample.std() / np.sqrt(sample_size)\\n\\ntrue_mean = np.mean(x)\\ncaptured_true_mean = true_mean > ci_lo and true_mean < ci_hi\\n\\nprint(f\\\"({ci_lo}, {ci_hi})\\\\n\\\\nCaptures true mean: {captured_true_mean}\\\")\";\n",
       "                var nbb_cells = Jupyter.notebook.get_cells();\n",
       "                for (var i = 0; i < nbb_cells.length; ++i) {\n",
       "                    if (nbb_cells[i].input_prompt_number == nbb_cell_id) {\n",
       "                        if (nbb_cells[i].get_text() == nbb_unformatted_code) {\n",
       "                             nbb_cells[i].set_text(nbb_formatted_code);\n",
       "                        }\n",
       "                        break;\n",
       "                    }\n",
       "                }\n",
       "            }, 500);\n",
       "            "
      ],
      "text/plain": [
       "<IPython.core.display.Javascript object>"
      ]
     },
     "metadata": {},
     "output_type": "display_data"
    }
   ],
   "source": [
    "ci_hi = sample.mean() + 1.96 * sample.std() / np.sqrt(sample_size)\n",
    "ci_lo = sample.mean() - 1.96 * sample.std() / np.sqrt(sample_size)\n",
    "\n",
    "true_mean = np.mean(x)\n",
    "captured_true_mean = true_mean > ci_lo and true_mean < ci_hi\n",
    "\n",
    "print(f\"({ci_lo}, {ci_hi})\\n\\nCaptures true mean: {captured_true_mean}\")"
   ]
  },
  {
   "cell_type": "markdown",
   "metadata": {},
   "source": [
    "This can also be calculated with `scipy.stats.t.interval()`"
   ]
  },
  {
   "cell_type": "code",
   "execution_count": 19,
   "metadata": {},
   "outputs": [
    {
     "data": {
      "text/plain": [
       "(-0.15688600298391492, 0.28693921794273036)"
      ]
     },
     "execution_count": 19,
     "metadata": {},
     "output_type": "execute_result"
    },
    {
     "data": {
      "application/javascript": [
       "\n",
       "            setTimeout(function() {\n",
       "                var nbb_cell_id = 19;\n",
       "                var nbb_unformatted_code = \"stats.t.interval(0.95, len(sample) - 1, loc=np.mean(sample), scale=stats.sem(sample))\";\n",
       "                var nbb_formatted_code = \"stats.t.interval(0.95, len(sample) - 1, loc=np.mean(sample), scale=stats.sem(sample))\";\n",
       "                var nbb_cells = Jupyter.notebook.get_cells();\n",
       "                for (var i = 0; i < nbb_cells.length; ++i) {\n",
       "                    if (nbb_cells[i].input_prompt_number == nbb_cell_id) {\n",
       "                        if (nbb_cells[i].get_text() == nbb_unformatted_code) {\n",
       "                             nbb_cells[i].set_text(nbb_formatted_code);\n",
       "                        }\n",
       "                        break;\n",
       "                    }\n",
       "                }\n",
       "            }, 500);\n",
       "            "
      ],
      "text/plain": [
       "<IPython.core.display.Javascript object>"
      ]
     },
     "metadata": {},
     "output_type": "display_data"
    }
   ],
   "source": [
    "stats.t.interval(0.95, len(sample) - 1, loc=np.mean(sample), scale=stats.sem(sample))"
   ]
  },
  {
   "cell_type": "markdown",
   "metadata": {},
   "source": [
    "We can wrap this in a function to easily see the changes in the interval as our confidence level changes.  As our confidence level decreases, the interval narrows, and as our confidence level increases the interval widens."
   ]
  },
  {
   "cell_type": "code",
   "execution_count": 20,
   "metadata": {},
   "outputs": [
    {
     "data": {
      "text/plain": [
       "(-0.15688600298391492, 0.28693921794273036)"
      ]
     },
     "execution_count": 20,
     "metadata": {},
     "output_type": "execute_result"
    },
    {
     "data": {
      "application/javascript": [
       "\n",
       "            setTimeout(function() {\n",
       "                var nbb_cell_id = 20;\n",
       "                var nbb_unformatted_code = \"def ci_mean(sample, confidence=0.95):\\n    ci = stats.t.interval(\\n        confidence, len(sample) - 1, loc=np.mean(sample), scale=stats.sem(sample)\\n    )\\n\\n    return ci\\n\\n\\nci_mean(sample, 0.95)\";\n",
       "                var nbb_formatted_code = \"def ci_mean(sample, confidence=0.95):\\n    ci = stats.t.interval(\\n        confidence, len(sample) - 1, loc=np.mean(sample), scale=stats.sem(sample)\\n    )\\n\\n    return ci\\n\\n\\nci_mean(sample, 0.95)\";\n",
       "                var nbb_cells = Jupyter.notebook.get_cells();\n",
       "                for (var i = 0; i < nbb_cells.length; ++i) {\n",
       "                    if (nbb_cells[i].input_prompt_number == nbb_cell_id) {\n",
       "                        if (nbb_cells[i].get_text() == nbb_unformatted_code) {\n",
       "                             nbb_cells[i].set_text(nbb_formatted_code);\n",
       "                        }\n",
       "                        break;\n",
       "                    }\n",
       "                }\n",
       "            }, 500);\n",
       "            "
      ],
      "text/plain": [
       "<IPython.core.display.Javascript object>"
      ]
     },
     "metadata": {},
     "output_type": "display_data"
    }
   ],
   "source": [
    "def ci_mean(sample, confidence=0.95):\n",
    "    ci = stats.t.interval(\n",
    "        confidence, len(sample) - 1, loc=np.mean(sample), scale=stats.sem(sample)\n",
    "    )\n",
    "\n",
    "    return ci\n",
    "\n",
    "\n",
    "ci_mean(sample, 0.95)"
   ]
  },
  {
   "cell_type": "code",
   "execution_count": 21,
   "metadata": {},
   "outputs": [
    {
     "name": "stdout",
     "output_type": "stream",
     "text": [
      "10.0% CI: (0.05093668471433227, 0.07911653024448316)\n",
      "90.0% CI: (-0.12066968724139697, 0.2507229022002123)\n",
      "95.0% CI: (-0.15688600298391492, 0.28693921794273036)\n",
      "99.0% CI: (-0.22870764900822038, 0.35876086396703577)\n",
      "99.99999899999999% CI: (-0.6349245240648687, 0.7649777392941012)\n"
     ]
    },
    {
     "data": {
      "application/javascript": [
       "\n",
       "            setTimeout(function() {\n",
       "                var nbb_cell_id = 21;\n",
       "                var nbb_unformatted_code = \"confidence_levels = [0.10, 0.90, 0.95, 0.99, 0.99999999]\\nfor c in confidence_levels:\\n    ci = ci_mean(sample, c)\\n    print(f\\\"{c * 100}% CI: {ci}\\\")\";\n",
       "                var nbb_formatted_code = \"confidence_levels = [0.10, 0.90, 0.95, 0.99, 0.99999999]\\nfor c in confidence_levels:\\n    ci = ci_mean(sample, c)\\n    print(f\\\"{c * 100}% CI: {ci}\\\")\";\n",
       "                var nbb_cells = Jupyter.notebook.get_cells();\n",
       "                for (var i = 0; i < nbb_cells.length; ++i) {\n",
       "                    if (nbb_cells[i].input_prompt_number == nbb_cell_id) {\n",
       "                        if (nbb_cells[i].get_text() == nbb_unformatted_code) {\n",
       "                             nbb_cells[i].set_text(nbb_formatted_code);\n",
       "                        }\n",
       "                        break;\n",
       "                    }\n",
       "                }\n",
       "            }, 500);\n",
       "            "
      ],
      "text/plain": [
       "<IPython.core.display.Javascript object>"
      ]
     },
     "metadata": {},
     "output_type": "display_data"
    }
   ],
   "source": [
    "confidence_levels = [0.10, 0.90, 0.95, 0.99, 0.99999999]\n",
    "for c in confidence_levels:\n",
    "    ci = ci_mean(sample, c)\n",
    "    print(f\"{c * 100}% CI: {ci}\")"
   ]
  },
  {
   "cell_type": "markdown",
   "metadata": {},
   "source": [
    "We can also add a loop to see how often our confidence interval does not contain the population mean."
   ]
  },
  {
   "cell_type": "code",
   "execution_count": 22,
   "metadata": {},
   "outputs": [
    {
     "data": {
      "application/javascript": [
       "\n",
       "            setTimeout(function() {\n",
       "                var nbb_cell_id = 22;\n",
       "                var nbb_unformatted_code = \"np.random.seed(1337)\\nx = np.random.normal(size=10000)\\npop_mean = x.mean()\\n\\nsample_size = 5\\n\\ncaptured = []\\n\\nfor _ in range(100):\\n    sample = np.random.choice(x, sample_size)\\n\\n    ci_lo, ci_hi = ci_mean(sample, 0.95)\\n\\n    captured_true_mean = pop_mean > ci_lo and pop_mean < ci_hi\\n    captured.append(captured_true_mean)\";\n",
       "                var nbb_formatted_code = \"np.random.seed(1337)\\nx = np.random.normal(size=10000)\\npop_mean = x.mean()\\n\\nsample_size = 5\\n\\ncaptured = []\\n\\nfor _ in range(100):\\n    sample = np.random.choice(x, sample_size)\\n\\n    ci_lo, ci_hi = ci_mean(sample, 0.95)\\n\\n    captured_true_mean = pop_mean > ci_lo and pop_mean < ci_hi\\n    captured.append(captured_true_mean)\";\n",
       "                var nbb_cells = Jupyter.notebook.get_cells();\n",
       "                for (var i = 0; i < nbb_cells.length; ++i) {\n",
       "                    if (nbb_cells[i].input_prompt_number == nbb_cell_id) {\n",
       "                        if (nbb_cells[i].get_text() == nbb_unformatted_code) {\n",
       "                             nbb_cells[i].set_text(nbb_formatted_code);\n",
       "                        }\n",
       "                        break;\n",
       "                    }\n",
       "                }\n",
       "            }, 500);\n",
       "            "
      ],
      "text/plain": [
       "<IPython.core.display.Javascript object>"
      ]
     },
     "metadata": {},
     "output_type": "display_data"
    }
   ],
   "source": [
    "np.random.seed(1337)\n",
    "x = np.random.normal(size=10000)\n",
    "pop_mean = x.mean()\n",
    "\n",
    "sample_size = 5\n",
    "\n",
    "captured = []\n",
    "\n",
    "for _ in range(100):\n",
    "    sample = np.random.choice(x, sample_size)\n",
    "\n",
    "    ci_lo, ci_hi = ci_mean(sample, 0.95)\n",
    "\n",
    "    captured_true_mean = pop_mean > ci_lo and pop_mean < ci_hi\n",
    "    captured.append(captured_true_mean)"
   ]
  },
  {
   "cell_type": "code",
   "execution_count": 23,
   "metadata": {},
   "outputs": [
    {
     "data": {
      "text/plain": [
       "95"
      ]
     },
     "execution_count": 23,
     "metadata": {},
     "output_type": "execute_result"
    },
    {
     "data": {
      "application/javascript": [
       "\n",
       "            setTimeout(function() {\n",
       "                var nbb_cell_id = 23;\n",
       "                var nbb_unformatted_code = \"sum(captured)\";\n",
       "                var nbb_formatted_code = \"sum(captured)\";\n",
       "                var nbb_cells = Jupyter.notebook.get_cells();\n",
       "                for (var i = 0; i < nbb_cells.length; ++i) {\n",
       "                    if (nbb_cells[i].input_prompt_number == nbb_cell_id) {\n",
       "                        if (nbb_cells[i].get_text() == nbb_unformatted_code) {\n",
       "                             nbb_cells[i].set_text(nbb_formatted_code);\n",
       "                        }\n",
       "                        break;\n",
       "                    }\n",
       "                }\n",
       "            }, 500);\n",
       "            "
      ],
      "text/plain": [
       "<IPython.core.display.Javascript object>"
      ]
     },
     "metadata": {},
     "output_type": "display_data"
    }
   ],
   "source": [
    "sum(captured)"
   ]
  },
  {
   "cell_type": "markdown",
   "metadata": {},
   "source": [
    "In this case, we see that 5 of our 100 confidence intervals did not contain the mean.  So 95% of our 95% confidence intervals captured the mean."
   ]
  }
 ],
 "metadata": {
  "kernelspec": {
   "display_name": "Python 3",
   "language": "python",
   "name": "python3"
  },
  "language_info": {
   "codemirror_mode": {
    "name": "ipython",
    "version": 3
   },
   "file_extension": ".py",
   "mimetype": "text/x-python",
   "name": "python",
   "nbconvert_exporter": "python",
   "pygments_lexer": "ipython3",
   "version": "3.8.3"
  },
  "latex_envs": {
   "LaTeX_envs_menu_present": true,
   "autoclose": false,
   "autocomplete": true,
   "bibliofile": "biblio.bib",
   "cite_by": "apalike",
   "current_citInitial": 1,
   "eqLabelWithNumbers": true,
   "eqNumInitial": 1,
   "hotkeys": {
    "equation": "Ctrl-E",
    "itemize": "Ctrl-I"
   },
   "labels_anchors": false,
   "latex_user_defs": false,
   "report_style_numbering": false,
   "user_envs_cfg": false
  },
  "toc": {
   "base_numbering": 1,
   "nav_menu": {},
   "number_sections": true,
   "sideBar": true,
   "skip_h1_title": false,
   "title_cell": "Table of Contents",
   "title_sidebar": "Contents",
   "toc_cell": false,
   "toc_position": {},
   "toc_section_display": true,
   "toc_window_display": true
  }
 },
 "nbformat": 4,
 "nbformat_minor": 2
}
