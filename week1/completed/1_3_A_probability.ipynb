{
  "nbformat": 4,
  "nbformat_minor": 0,
  "metadata": {
    "kernelspec": {
      "display_name": "Python 3",
      "language": "python",
      "name": "python3"
    },
    "language_info": {
      "codemirror_mode": {
        "name": "ipython",
        "version": 3
      },
      "file_extension": ".py",
      "mimetype": "text/x-python",
      "name": "python",
      "nbconvert_exporter": "python",
      "pygments_lexer": "ipython3",
      "version": "3.8.3"
    },
    "colab": {
      "name": "1_3_A_probability.ipynb",
      "provenance": []
    }
  },
  "cells": [
    {
      "cell_type": "code",
      "metadata": {
        "id": "eMWRs0nZF8cH",
        "outputId": "007047bc-0d09-491f-9563-edcba02d75ed"
      },
      "source": [
        "%reload_ext nb_black"
      ],
      "execution_count": null,
      "outputs": [
        {
          "output_type": "display_data",
          "data": {
            "application/javascript": [
              "\n",
              "            setTimeout(function() {\n",
              "                var nbb_cell_id = 1;\n",
              "                var nbb_unformatted_code = \"%reload_ext nb_black\";\n",
              "                var nbb_formatted_code = \"%reload_ext nb_black\";\n",
              "                var nbb_cells = Jupyter.notebook.get_cells();\n",
              "                for (var i = 0; i < nbb_cells.length; ++i) {\n",
              "                    if (nbb_cells[i].input_prompt_number == nbb_cell_id) {\n",
              "                        if (nbb_cells[i].get_text() == nbb_unformatted_code) {\n",
              "                             nbb_cells[i].set_text(nbb_formatted_code);\n",
              "                        }\n",
              "                        break;\n",
              "                    }\n",
              "                }\n",
              "            }, 500);\n",
              "            "
            ],
            "text/plain": [
              "<IPython.core.display.Javascript object>"
            ]
          },
          "metadata": {
            "tags": []
          }
        }
      ]
    },
    {
      "cell_type": "markdown",
      "metadata": {
        "id": "eRjlOe65F8cs"
      },
      "source": [
        "# Probability"
      ]
    },
    {
      "cell_type": "markdown",
      "metadata": {
        "id": "ZerpW-kcF8cv"
      },
      "source": [
        "##  Some definitions\n",
        "\n",
        "* **Experiment** - a repeatable procedure with a set of well-defined possible results (e.g. rolling a die).\n",
        "* **Trial** - a single performance of an experiment (e.g. one roll of the die).\n",
        "* **Outcome** - the result of a trial (e.g. a 2 was rolled).\n",
        "* **Sample Space** - all the possible outcomes of an experiment (e.g. 1, 2, 3, 4, 5, or 6).\n",
        "* **Event** - one or more outcomes of interest in the sample space (e.g. two 3s were rolled in a row, an odd number was rolled, etc.).\n",
        "\n",
        "#### Most important to me that we grasp these two:\n",
        "* **Population** - the entire group that you want to draw conclusions about\n",
        "* **Sample** - the specific group that you will collect data from\n",
        "\n",
        "\n",
        "Sample vs population examples:\n",
        "\n",
        "* You're wanting to measuring the pH of the Gulf of Mexico.  You can't directly measure the whole body of water (the whole body of water is the population); you'll need to take many measurements and different locations (these measurements are the sample(s)).\n",
        "* Political polling only polls a small group (sample) and attempts to generalize the results to the entire country (population).\n",
        "\n",
        "\n",
        "Check for understanding:\n",
        "\n",
        "* I'm performing a study using animals at my local shelter to see if dogs or cats have better breath\n",
        "    * What is the population?\n",
        "    * What is the sample?\n",
        "* My company wants see if users would respond to a promotional email by buying more product.\n",
        "    * What is the population?\n",
        "    * How might you create a sample from this population?\n",
        "    \n",
        "---\n",
        "\n",
        "population & sample definitions from [here](https://www.scribbr.com/methodology/population-vs-sample/#:~:text=A%20population%20is%20the%20entire,t%20always%20refer%20to%20people.)."
      ]
    },
    {
      "cell_type": "markdown",
      "metadata": {
        "id": "IQTGNAS_F8c6"
      },
      "source": [
        "## Playing with probability"
      ]
    },
    {
      "cell_type": "code",
      "metadata": {
        "id": "erTGOuSkF8dC"
      },
      "source": [
        "# simulating random events\n",
        "import random as rand\n",
        "\n",
        "# viewing and manipulating tables of data\n",
        "import pandas as pd\n",
        "\n",
        "import numpy as np\n",
        "\n",
        "# plotting\n",
        "import seaborn as sb\n",
        "import matplotlib.pyplot as plt\n",
        "\n",
        "%matplotlib inline"
      ],
      "execution_count": 165,
      "outputs": []
    },
    {
      "cell_type": "markdown",
      "metadata": {
        "id": "ZlW9EblnF8dy"
      },
      "source": [
        "### Coin flip\n",
        "\n",
        "* Write a function to simulate a coin flip\n",
        "* Use the function to flip a coin 500 times\n",
        "* According to this data, what is the probability of heads?\n",
        "\n",
        "----\n",
        "\n",
        "* Bonus prompt: create a plot of the probability of heads over time in this simulation (i.e. lets say my trials resulted in `['H', 'T', 'T']`, at time `0` the probability of heads is 1.0, at time `1` probability is `0.5`, at time `2` probability is `0.33333`)."
      ]
    },
    {
      "cell_type": "code",
      "metadata": {
        "id": "av3unorvF8d9"
      },
      "source": [
        "def coin_flip():\n",
        "    sample_space = [\"H\", \"T\"]\n",
        "    h_count = 0\n",
        "    t_count = 0\n",
        "    for _ in range(500):\n",
        "        outcome = rand.choice(sample_space)\n",
        "        if outcome == \"H\":\n",
        "            h_count += 1\n",
        "        else:\n",
        "            t_count += 1\n",
        "    prob_h = h_count / 500 * 100\n",
        "    return prob_h"
      ],
      "execution_count": 8,
      "outputs": []
    },
    {
      "cell_type": "code",
      "metadata": {
        "id": "1KCthOfrF8eT"
      },
      "source": [
        "heads_list = []\n",
        "for _ in range(100):\n",
        "    h_trial = coin_flip()\n",
        "    heads_list.append(h_trial)\n",
        "# heads_list\n",
        "h_df = pd.DataFrame(heads_list)"
      ],
      "execution_count": 9,
      "outputs": []
    },
    {
      "cell_type": "code",
      "metadata": {
        "id": "WFEUJfT_F8et",
        "outputId": "6b5e86fc-4aaa-4dca-e408-7011a401ad3c",
        "colab": {
          "base_uri": "https://localhost:8080/",
          "height": 206
        }
      },
      "source": [
        "h_df.head()"
      ],
      "execution_count": 10,
      "outputs": [
        {
          "output_type": "execute_result",
          "data": {
            "text/html": [
              "<div>\n",
              "<style scoped>\n",
              "    .dataframe tbody tr th:only-of-type {\n",
              "        vertical-align: middle;\n",
              "    }\n",
              "\n",
              "    .dataframe tbody tr th {\n",
              "        vertical-align: top;\n",
              "    }\n",
              "\n",
              "    .dataframe thead th {\n",
              "        text-align: right;\n",
              "    }\n",
              "</style>\n",
              "<table border=\"1\" class=\"dataframe\">\n",
              "  <thead>\n",
              "    <tr style=\"text-align: right;\">\n",
              "      <th></th>\n",
              "      <th>0</th>\n",
              "    </tr>\n",
              "  </thead>\n",
              "  <tbody>\n",
              "    <tr>\n",
              "      <th>0</th>\n",
              "      <td>49.6</td>\n",
              "    </tr>\n",
              "    <tr>\n",
              "      <th>1</th>\n",
              "      <td>52.2</td>\n",
              "    </tr>\n",
              "    <tr>\n",
              "      <th>2</th>\n",
              "      <td>46.0</td>\n",
              "    </tr>\n",
              "    <tr>\n",
              "      <th>3</th>\n",
              "      <td>51.6</td>\n",
              "    </tr>\n",
              "    <tr>\n",
              "      <th>4</th>\n",
              "      <td>50.4</td>\n",
              "    </tr>\n",
              "  </tbody>\n",
              "</table>\n",
              "</div>"
            ],
            "text/plain": [
              "      0\n",
              "0  49.6\n",
              "1  52.2\n",
              "2  46.0\n",
              "3  51.6\n",
              "4  50.4"
            ]
          },
          "metadata": {
            "tags": []
          },
          "execution_count": 10
        }
      ]
    },
    {
      "cell_type": "code",
      "metadata": {
        "scrolled": true,
        "id": "PB1MjvU7F8fF",
        "outputId": "7b1eea3d-fdd2-4139-dd9e-0d87509a4a44"
      },
      "source": [
        "sb."
      ],
      "execution_count": null,
      "outputs": [
        {
          "output_type": "execute_result",
          "data": {
            "text/plain": [
              "<matplotlib.axes._subplots.AxesSubplot at 0x1a8f62f0910>"
            ]
          },
          "metadata": {
            "tags": []
          },
          "execution_count": 37
        },
        {
          "output_type": "display_data",
          "data": {
            "image/png": "[encoded data removed]",
            "text/plain": [
              "<Figure size 432x288 with 1 Axes>"
            ]
          },
          "metadata": {
            "tags": [],
            "needs_background": "light"
          }
        },
        {
          "output_type": "display_data",
          "data": {
            "application/javascript": [
              "\n",
              "            setTimeout(function() {\n",
              "                var nbb_cell_id = 37;\n",
              "                var nbb_unformatted_code = \"sb.boxplot(x=h_df.index, y=h_df[0])\";\n",
              "                var nbb_formatted_code = \"sb.boxplot(x=h_df.index, y=h_df[0])\";\n",
              "                var nbb_cells = Jupyter.notebook.get_cells();\n",
              "                for (var i = 0; i < nbb_cells.length; ++i) {\n",
              "                    if (nbb_cells[i].input_prompt_number == nbb_cell_id) {\n",
              "                        if (nbb_cells[i].get_text() == nbb_unformatted_code) {\n",
              "                             nbb_cells[i].set_text(nbb_formatted_code);\n",
              "                        }\n",
              "                        break;\n",
              "                    }\n",
              "                }\n",
              "            }, 500);\n",
              "            "
            ],
            "text/plain": [
              "<IPython.core.display.Javascript object>"
            ]
          },
          "metadata": {
            "tags": []
          }
        }
      ]
    },
    {
      "cell_type": "markdown",
      "metadata": {
        "id": "1tEMb_8qF8fc"
      },
      "source": [
        "## Iris\n",
        "\n",
        "If we selected a row at random from this data...\n",
        "\n",
        "* What's the probability the `'species'` is virginica?\n",
        "* What's the probability the `'petal_length'` is greater than `2.0`?\n",
        "\n",
        "Options to solve:\n",
        "* Describe what's in the dataframe directly.\n",
        "* Simulate by random sampling."
      ]
    },
    {
      "cell_type": "code",
      "metadata": {
        "id": "y7C-oKOWF8ff"
      },
      "source": [
        "iris = sb.load_dataset(\"iris\")\n"
      ],
      "execution_count": 97,
      "outputs": []
    },
    {
      "cell_type": "code",
      "metadata": {
        "id": "nfRfjKmVRhcc"
      },
      "source": [
        "n_sample = iris.size"
      ],
      "execution_count": 96,
      "outputs": []
    },
    {
      "cell_type": "code",
      "metadata": {
        "id": "WSp2zWBpRzLQ"
      },
      "source": [
        "virginica = iris['species'] == 'virginica'\n",
        "virginica = iris.iloc[virginica.values]"
      ],
      "execution_count": 98,
      "outputs": []
    },
    {
      "cell_type": "code",
      "metadata": {
        "id": "O9_nf9QoF8fv"
      },
      "source": [
        "n_virginica = virginica.size\n",
        "p_virginica = n_virginica/n_sample"
      ],
      "execution_count": null,
      "outputs": []
    },
    {
      "cell_type": "code",
      "metadata": {
        "id": "WZImjpdqU9zT",
        "outputId": "726f3669-6e26-4331-fcaa-439be5225bfb",
        "colab": {
          "base_uri": "https://localhost:8080/"
        }
      },
      "source": [
        "#   prob species is virginica\n",
        "p_virginica"
      ],
      "execution_count": 101,
      "outputs": [
        {
          "output_type": "execute_result",
          "data": {
            "text/plain": [
              "0.3333333333333333"
            ]
          },
          "metadata": {
            "tags": []
          },
          "execution_count": 101
        }
      ]
    },
    {
      "cell_type": "code",
      "metadata": {
        "id": "yykGhGaVVHgb",
        "outputId": "b545e639-4bed-40c2-a11d-fbdd30ca3899",
        "colab": {
          "base_uri": "https://localhost:8080/"
        }
      },
      "source": [
        "length_over_two = iris.iloc[(iris['petal_length'] > 2).values]\n",
        "\n",
        "#   pnum of petal length over 2\n",
        "n_length_over_two = (length_over_two.size)\n",
        "\n",
        "#   prob of petal length over 2\n",
        "p_length_over_two = n_length_over_two/n_sample\n",
        "p_length_over_two"
      ],
      "execution_count": 105,
      "outputs": [
        {
          "output_type": "execute_result",
          "data": {
            "text/plain": [
              "0.6666666666666666"
            ]
          },
          "metadata": {
            "tags": []
          },
          "execution_count": 105
        }
      ]
    },
    {
      "cell_type": "markdown",
      "metadata": {
        "id": "1PRjWdYXF8gD"
      },
      "source": [
        "### Monty hall\n",
        "\n",
        "You're on a gameshow where you're given 3 doors to choose from, each with a different prize.  Behind 1 door is your dream car; behind the other 2, goats.  \n",
        "\n",
        "The game show host, Monty, has you choose a door.  After you choose, Monty opens one of the remaining 2 doors to show a goat behind it.  This leaves the door you chose, and the one other remaining door; Monty gives you the chance to change your decision to the other door.\n",
        "\n",
        "Should you change or keep your door? Does it make a difference?\n",
        "\n",
        "Write a simulation to compare the 2 strategies:\n",
        "\n",
        "##### What's the probability of winning if you keep your original door?\n",
        "* Process needed to simulate a round:\n",
        "    1. Create a length 3 list of the possible outcomes; you can `shuffle` the list if you'd like it to feel more random (to represent the doors)\n",
        "    2. Randomly choose an item from the list (to represent the player's initial choice)\n",
        "    3. Check if the chosen item is the winning item or a goat\n",
        "    \n",
        "Make sure your code to simulate a round is working before you move on to simulating many rounds."
      ]
    },
    {
      "cell_type": "code",
      "metadata": {
        "id": "2UfQr3qfF8gF"
      },
      "source": [
        "#   create list of options\n",
        "outcomes = ['goat', 'goat', 'car']"
      ],
      "execution_count": 129,
      "outputs": []
    },
    {
      "cell_type": "code",
      "metadata": {
        "id": "RGcd5IWIY4kB"
      },
      "source": [
        "trials = 1000\n",
        "car_probs = []\n",
        "\n",
        "for _ in range(trials):    \n",
        "    cars = 0\n",
        "    goats = 0\n",
        "    rounds = 500\n",
        "    for _ in range(rounds):\n",
        "        #   shuffle list contents\n",
        "        rand.shuffle(outcomes)\n",
        "        #   randomly choose item from list\n",
        "        choice = rand.choice(outcomes)\n",
        "        #   check result and add to choice counter\n",
        "        if choice == 'car':\n",
        "            cars += 1\n",
        "        else:\n",
        "            goats += 1\n",
        "\n",
        "    #   calc the prob of choosing the car\n",
        "    p_car = cars/rounds\n",
        "    car_probs.append(p_car)\n",
        "\n",
        "m_trials = np.mean(car_probs)\n"
      ],
      "execution_count": 167,
      "outputs": []
    },
    {
      "cell_type": "code",
      "metadata": {
        "id": "OPTYYRzdW4LL",
        "outputId": "e11bb33e-b501-47e4-c9a2-64c4b41a19a3",
        "colab": {
          "base_uri": "https://localhost:8080/",
          "height": 283
        }
      },
      "source": [
        "#   print mean of choosing a car\n",
        "print(m_trials)\n",
        "\n",
        "#   plot car_probs\n",
        "sb.histplot(car_probs)\n",
        "plt.axvline(m_trials, c='r')\n",
        "plt.show()"
      ],
      "execution_count": 170,
      "outputs": [
        {
          "output_type": "stream",
          "text": [
            "0.33275\n"
          ],
          "name": "stdout"
        },
        {
          "output_type": "display_data",
          "data": {
            "image/png": "[encoded data removed]",
            "text/plain": [
              "<Figure size 432x288 with 1 Axes>"
            ]
          },
          "metadata": {
            "tags": [],
            "needs_background": "light"
          }
        }
      ]
    },
    {
      "cell_type": "markdown",
      "metadata": {
        "id": "sEj9S3AsF8gV"
      },
      "source": [
        "##### What's the probability of winning if you change your door?\n",
        "* Process needed to simulate a round:\n",
        "    1. Create a length 3 list of the possible outcomes; you can `shuffle` the list if you'd like it to feel more random (to represent the doors)\n",
        "    2. Randomly choose an item from the list (to represent the player's initial choice)\n",
        "    3. Switch the players item to the opposite of what they currently have.  Explanation for that poorly worded sentence: There are 2 cases at this point for the switch strategy (make sure to prove that you agree with these 2 cases):\n",
        "        * If the player currently has a car, a switch means they'll have a goat as their final choice\n",
        "        * If the player currently has a goat, a switch means they'll have a car as their final choice\n",
        "    4. Check if the switched item is the winning item or a goat\n",
        "    \n",
        "Make sure your code to simulate a round is working before you move on to simulating many rounds."
      ]
    },
    {
      "cell_type": "code",
      "metadata": {
        "id": "p1aP0OIpF8gX"
      },
      "source": [
        "#   create list of options\n",
        "outcomes = ['goat', 'goat', 'car']"
      ],
      "execution_count": 178,
      "outputs": []
    },
    {
      "cell_type": "code",
      "metadata": {
        "id": "dsd5lMMvcYD6"
      },
      "source": [
        "#   number of trials to run\n",
        "trials = 10000\n",
        "#   number of rounds per trial\n",
        "rounds = 5000\n",
        "#   list for the probs of car each trial\n",
        "car_probs = []\n",
        "\n",
        "for _ in range(trials):    \n",
        "    cars = 0\n",
        "    goats = 0\n",
        "    for _ in range(rounds):\n",
        "        #   shuffle the list of outcomes\n",
        "        rand.shuffle(outcomes)\n",
        "        #   randomly select one of the choices\n",
        "        choice = rand.choice(outcomes)\n",
        "        # switch opriginal choice to other possible choice\n",
        "        if choice == 'car':\n",
        "            choice = 'goat'\n",
        "            goats += 1\n",
        "        else:\n",
        "            choice = 'car'\n",
        "            cars += 1\n",
        "    p_car = cars/rounds\n",
        "    car_probs.append(p_car)\n",
        "\n",
        "m_trials = np.mean(car_probs)\n",
        "\n"
      ],
      "execution_count": null,
      "outputs": []
    },
    {
      "cell_type": "code",
      "metadata": {
        "id": "0CYQdxqehIyF",
        "outputId": "e3f3928c-45d6-4ff2-9e56-a4967c938f66",
        "colab": {
          "base_uri": "https://localhost:8080/",
          "height": 338
        }
      },
      "source": [
        "t_rounds = trials*rounds\n",
        "print('{} trials \\n{} rounds \\n{} rounds/trial \\nmean: {:.5f}.'.format(trials, t_rounds, rounds, m_trials))\n",
        "sb.histplot(car_probs)\n",
        "plt.axvline(m_trials, c='r', linestyle='--')\n",
        "plt.show()"
      ],
      "execution_count": 186,
      "outputs": [
        {
          "output_type": "stream",
          "text": [
            "10000 trials \n",
            "50000000 rounds \n",
            "5000 rounds/trial \n",
            "mean: 0.66670.\n"
          ],
          "name": "stdout"
        },
        {
          "output_type": "display_data",
          "data": {
            "image/png": "[encoded data removed]",
            "text/plain": [
              "<Figure size 432x288 with 1 Axes>"
            ]
          },
          "metadata": {
            "tags": [],
            "needs_background": "light"
          }
        }
      ]
    },
    {
      "cell_type": "markdown",
      "metadata": {
        "id": "BXfYoAUFF8gl"
      },
      "source": [
        "Process to simulate many rounds and calculate probability of winning: left as an exercise to the reader."
      ]
    },
    {
      "cell_type": "code",
      "metadata": {
        "id": "NqBIvapUF8gp"
      },
      "source": [
        ""
      ],
      "execution_count": null,
      "outputs": []
    }
  ]
}