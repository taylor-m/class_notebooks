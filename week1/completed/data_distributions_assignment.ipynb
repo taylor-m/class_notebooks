{
  "nbformat": 4,
  "nbformat_minor": 0,
  "metadata": {
    "colab": {
      "name": "data_distributions_assignment.ipynb",
      "provenance": [],
      "toc_visible": true
    },
    "kernelspec": {
      "name": "python3",
      "display_name": "Python 3"
    }
  },
  "cells": [
    {
      "cell_type": "code",
      "metadata": {
        "id": "kgMDMYFwFNsb"
      },
      "source": [
        "import numpy as np\n",
        "import pandas as pd\n",
        "import random as rand\n",
        "import matplotlib.pyplot as plt\n",
        "import seaborn as sb\n",
        "\n",
        "%matplotlib inline"
      ],
      "execution_count": 73,
      "outputs": []
    },
    {
      "cell_type": "markdown",
      "metadata": {
        "id": "A6bFXi9Aa17w"
      },
      "source": [
        "Choose six distributions from Distributions, which is a list of random distributions available in NumPy.\n",
        "\n",
        "For each distribution, do the following:\n",
        "\n",
        "    1. Generate a random variable with 100 data points. Use the code distributionvar = np.random.distributionname([arguments], 100), replacing distributionvar with an appropriate variable name, and replacing distributionname with the name of the distribution that you've chosen. Fill in the empty space in the parentheses with your chosen values for the appropriate parameters. If you feel uncertain about how to do this, go back to the Other distributions assignment for examples of code to use as a starting point.\n",
        "    2. Graph the variable using a histogram.\n",
        "    3. Compute the mean and standard deviation and plot them as vertical lines on the histogram.\n",
        "    4. Evaluate whether the descriptive statistics provided useful information about the variable. Can you identify any common characteristics of the distributions that could be usefully described using the mean or standard deviation?"
      ]
    },
    {
      "cell_type": "markdown",
      "metadata": {
        "id": "rxaHKeP2P_3e"
      },
      "source": [
        "### Distribution 1"
      ]
    },
    {
      "cell_type": "code",
      "metadata": {
        "id": "5amJdnaLM4jK"
      },
      "source": [
        "# distribution 1: Poisson\n",
        "psample = np.random.poisson(7, 100)"
      ],
      "execution_count": 75,
      "outputs": []
    },
    {
      "cell_type": "code",
      "metadata": {
        "id": "MADdEMWEM5e5",
        "outputId": "b035fb8e-1c40-4449-c5bd-8b92f3efe9f3",
        "colab": {
          "base_uri": "https://localhost:8080/"
        }
      },
      "source": [
        "# calc mean for the sample\n",
        "mean = psample.mean()\n",
        "\n",
        "# calc the standard deviation of the sample\n",
        "sd = psample.std()\n",
        "sd"
      ],
      "execution_count": 76,
      "outputs": [
        {
          "output_type": "execute_result",
          "data": {
            "text/plain": [
              "2.529110515576573"
            ]
          },
          "metadata": {
            "tags": []
          },
          "execution_count": 76
        }
      ]
    },
    {
      "cell_type": "code",
      "metadata": {
        "id": "vW7dXVz3JnvX",
        "outputId": "c4dfeff3-c4fa-4842-90e5-5a521ccba708",
        "colab": {
          "base_uri": "https://localhost:8080/",
          "height": 265
        }
      },
      "source": [
        "# graph with histogram and show\n",
        "sb.histplot(psample)\n",
        "\n",
        "# red line at mean\n",
        "plt.axvline(mean, color='r', label='Mean')\n",
        "\n",
        "# yellow lines for +/- 1-2 standard deviations from the mean\n",
        "plt.axvline(mean+sd, c='y', label='STD', linestyle='--')\n",
        "plt.axvline(mean-sd, c='y', label='STD', linestyle='--')\n",
        "plt.axvline(mean-(2*sd), c='g', label='STD', linestyle='--')\n",
        "plt.axvline(mean+(2*sd), c='g', label='STD', linestyle='--')\n",
        "\n",
        "plt.show()"
      ],
      "execution_count": 131,
      "outputs": [
        {
          "output_type": "display_data",
          "data": {
            "image/png": "[encoded data removed]",
            "text/plain": [
              "<Figure size 432x288 with 1 Axes>"
            ]
          },
          "metadata": {
            "tags": [],
            "needs_background": "light"
          }
        }
      ]
    },
    {
      "cell_type": "code",
      "metadata": {
        "id": "sEmqJlsDPgkV"
      },
      "source": [
        "# the standard deviations show that the data set is skewed right from the mean bc there is data greater than 2 SDs from above the mean"
      ],
      "execution_count": 78,
      "outputs": []
    },
    {
      "cell_type": "markdown",
      "metadata": {
        "id": "kW2kVc-VQsyQ"
      },
      "source": [
        "### Distribution 2"
      ]
    },
    {
      "cell_type": "code",
      "metadata": {
        "id": "Tei5TBWAQynh"
      },
      "source": [
        "# chi-squared sample variable\n",
        "cs_sample = np.random.chisquare(2, 100)"
      ],
      "execution_count": 133,
      "outputs": []
    },
    {
      "cell_type": "code",
      "metadata": {
        "id": "FKUEquy9SfVJ"
      },
      "source": [
        "cs_mean = cs_sample.mean()\n",
        "cs_std = cs_sample.std()"
      ],
      "execution_count": 134,
      "outputs": []
    },
    {
      "cell_type": "code",
      "metadata": {
        "id": "kL-2k9UGSPBW",
        "outputId": "5ab28d09-898f-4465-ad9d-46e3d248e08e",
        "colab": {
          "base_uri": "https://localhost:8080/",
          "height": 265
        }
      },
      "source": [
        "# histogram plot for sample\n",
        "sb.histplot(cs_sample)\n",
        "\n",
        "# create vertical lines for mean and std\n",
        "plt.axvline(cs_mean, c='r')\n",
        "plt.axvline(mean+cs_std, c='y', linestyle='--')\n",
        "plt.axvline(mean-cs_std, c='y', linestyle='--')\n",
        "plt.axvline(mean-(2*cs_std), c='g', linestyle='--')\n",
        "plt.axvline(mean+(2*cs_std), c='g', linestyle='--')\n",
        "\n",
        "\n",
        "plt.show()"
      ],
      "execution_count": 135,
      "outputs": [
        {
          "output_type": "display_data",
          "data": {
            "image/png": "[encoded data removed]",
            "text/plain": [
              "<Figure size 432x288 with 1 Axes>"
            ]
          },
          "metadata": {
            "tags": [],
            "needs_background": "light"
          }
        }
      ]
    },
    {
      "cell_type": "markdown",
      "metadata": {
        "id": "GGfAJL2jUGZ0"
      },
      "source": [
        "The standard deviations are more frequent below the mean"
      ]
    },
    {
      "cell_type": "markdown",
      "metadata": {
        "id": "tjxlRORjUd4F"
      },
      "source": [
        "### Distribution 3"
      ]
    },
    {
      "cell_type": "code",
      "metadata": {
        "id": "mnotXXi5UhSr"
      },
      "source": [
        "# create a beta distribution sample variable\n",
        "b_sample = np.random.beta(2, 5, 100)"
      ],
      "execution_count": 82,
      "outputs": []
    },
    {
      "cell_type": "code",
      "metadata": {
        "id": "W2bZbE5WVofG"
      },
      "source": [
        "b_mean = b_sample.mean()\n",
        "b_std = b_sample.std()"
      ],
      "execution_count": 83,
      "outputs": []
    },
    {
      "cell_type": "code",
      "metadata": {
        "id": "_IuMCnyoVLOx",
        "outputId": "109a84b4-6f30-4ec2-d9e6-dd4e05c09a7a",
        "colab": {
          "base_uri": "https://localhost:8080/",
          "height": 265
        }
      },
      "source": [
        "sb.histplot(b_sample)\n",
        "\n",
        "plt.axvline(b_mean, c='r')\n",
        "plt.axvline(b_mean+b_std, c='y', linestyle='--')\n",
        "plt.axvline(b_mean-b_std, c='y', linestyle='--')\n",
        "plt.axvline(b_mean+(2*b_std), c='g', linestyle='--')\n",
        "plt.axvline(b_mean-(2*b_std), c='g', linestyle='--')\n",
        "\n",
        "plt.show()"
      ],
      "execution_count": 125,
      "outputs": [
        {
          "output_type": "display_data",
          "data": {
            "image/png": "[encoded data removed]",
            "text/plain": [
              "<Figure size 432x288 with 1 Axes>"
            ]
          },
          "metadata": {
            "tags": [],
            "needs_background": "light"
          }
        }
      ]
    },
    {
      "cell_type": "markdown",
      "metadata": {
        "id": "Iun_-oM9WPcH"
      },
      "source": [
        "The most common range of data lies below the mean but the most data lies above the mean greater than one standard deviation."
      ]
    },
    {
      "cell_type": "markdown",
      "metadata": {
        "id": "ETCzGeNGWipb"
      },
      "source": [
        "### Distribution 4"
      ]
    },
    {
      "cell_type": "code",
      "metadata": {
        "id": "KqeqNvPSXOlj"
      },
      "source": [
        "# mean variable randomly chosen betw 0-1000\n",
        "n_mean = rand.randint(0,1000)\n",
        "\n",
        "# normal distribution sample variable\n",
        "n_sample = np.random.normal(n_mean, size=100)"
      ],
      "execution_count": 85,
      "outputs": []
    },
    {
      "cell_type": "code",
      "metadata": {
        "id": "ElJLZxueYbcE"
      },
      "source": [
        "# calc sd for sample\n",
        "n_std = n_sample.std()"
      ],
      "execution_count": 86,
      "outputs": []
    },
    {
      "cell_type": "code",
      "metadata": {
        "id": "OA91Wt7UWmja",
        "outputId": "060b1b0c-7f43-4d0a-a02c-a56f5de227e9",
        "colab": {
          "base_uri": "https://localhost:8080/",
          "height": 265
        }
      },
      "source": [
        "# histogram plot of n_sample\n",
        "sb.histplot(n_sample)\n",
        "plt.axvline(n_mean, c='r')\n",
        "plt.axvline(n_mean+n_std, c='y', linestyle='--')\n",
        "plt.axvline(n_mean-n_std, c='y', linestyle='--')\n",
        "plt.axvline(n_mean+(2*n_std), c='g', linestyle='--')\n",
        "plt.axvline(n_mean-(2*n_std), c='g', linestyle='--')\n",
        "\n",
        "plt.show()"
      ],
      "execution_count": 124,
      "outputs": [
        {
          "output_type": "display_data",
          "data": {
            "image/png": "[encoded data removed]",
            "text/plain": [
              "<Figure size 432x288 with 1 Axes>"
            ]
          },
          "metadata": {
            "tags": [],
            "needs_background": "light"
          }
        }
      ]
    },
    {
      "cell_type": "markdown",
      "metadata": {
        "id": "2j-isprDblP8"
      },
      "source": [
        "The sample is normally distributed about the mean as expected"
      ]
    },
    {
      "cell_type": "markdown",
      "metadata": {
        "id": "cJKQrF53WnAg"
      },
      "source": [
        "### Distribution 5"
      ]
    },
    {
      "cell_type": "code",
      "metadata": {
        "id": "OsSrWDbCeHqf"
      },
      "source": [
        "w_mean = rand.randint(0,1000)"
      ],
      "execution_count": 99,
      "outputs": []
    },
    {
      "cell_type": "code",
      "metadata": {
        "id": "D0DwhYjabtG2"
      },
      "source": [
        "# wald distribution sample\n",
        "wald = np.random.wald(w_mean, scale=10000, size=100)"
      ],
      "execution_count": 110,
      "outputs": []
    },
    {
      "cell_type": "code",
      "metadata": {
        "id": "GdE9K8hlgzA1"
      },
      "source": [
        "w_std = wald.std()"
      ],
      "execution_count": 128,
      "outputs": []
    },
    {
      "cell_type": "code",
      "metadata": {
        "id": "JDxQU8EBdnvZ",
        "outputId": "fdc0b6d5-073a-4fb8-cbff-7c6f11e81573",
        "colab": {
          "base_uri": "https://localhost:8080/",
          "height": 265
        }
      },
      "source": [
        "sb.histplot(wald)\n",
        "plt.axvline(w_mean, c='r', linestyle='--')\n",
        "plt.axvline(w_mean+w_std, c='y', linestyle='--')\n",
        "plt.axvline(w_mean-w_std, c='y', linestyle='--')\n",
        "plt.axvline(w_mean+(2*w_std), c='g', linestyle='--')\n",
        "plt.axvline(w_mean-(2*w_std), c='g', linestyle='--')\n",
        "\n",
        "plt.show()"
      ],
      "execution_count": 130,
      "outputs": [
        {
          "output_type": "display_data",
          "data": {
            "image/png": "[encoded data removed]",
            "text/plain": [
              "<Figure size 432x288 with 1 Axes>"
            ]
          },
          "metadata": {
            "tags": [],
            "needs_background": "light"
          }
        }
      ]
    },
    {
      "cell_type": "markdown",
      "metadata": {
        "id": "GDX1LSPdWpg7"
      },
      "source": [
        "### Distribution 6"
      ]
    },
    {
      "cell_type": "code",
      "metadata": {
        "id": "zkKlHFRWbtZG"
      },
      "source": [
        "# gamma sample variable\n",
        "g_sample = np.random.gamma(100,scale=1.0, size=100)"
      ],
      "execution_count": 117,
      "outputs": []
    },
    {
      "cell_type": "code",
      "metadata": {
        "id": "9SgnAzHrfUEQ"
      },
      "source": [
        "g_mean = g_sample.mean()\n",
        "g_std = g_sample.std()"
      ],
      "execution_count": 119,
      "outputs": []
    },
    {
      "cell_type": "code",
      "metadata": {
        "id": "B544VN8_fCVT",
        "outputId": "0a2a2e99-4051-4ace-dc83-10ca81e47cf2",
        "colab": {
          "base_uri": "https://localhost:8080/",
          "height": 265
        }
      },
      "source": [
        "sb.histplot(g_sample)\n",
        "plt.axvline(g_mean, c='r')\n",
        "plt.axvline(g_mean+g_std, c='y', linestyle='--')\n",
        "plt.axvline(g_mean-g_std, c='y', linestyle='--')\n",
        "plt.axvline(g_mean+(2*g_std), c='g', linestyle='--')\n",
        "plt.axvline(g_mean-(2*g_std), c='g', linestyle='--')\n",
        "\n",
        "plt.show()"
      ],
      "execution_count": 123,
      "outputs": [
        {
          "output_type": "display_data",
          "data": {
            "image/png": "[encoded data removed]",
            "text/plain": [
              "<Figure size 432x288 with 1 Axes>"
            ]
          },
          "metadata": {
            "tags": [],
            "needs_background": "light"
          }
        }
      ]
    },
    {
      "cell_type": "markdown",
      "metadata": {
        "id": "h079Emw_hu_E"
      },
      "source": [
        "Additionally, do the following:\n",
        "\n",
        "    1. Generate two normally distributed variables, one with a mean of 5 and a standard deviation of 0.5, and the other with a mean of 10 and a standard deviation of 1.\n",
        "    2. Add them together to create a third variable.\n",
        "    3. Graph the third variable using a histogram.\n",
        "    4. Compute the mean and standard deviation and plot them as vertical lines on the histogram.\n",
        "    5. Evaluate the descriptive statistics against the data."
      ]
    },
    {
      "cell_type": "markdown",
      "metadata": {
        "id": "V4uKdle-kmBq"
      },
      "source": [
        "### Distribution 7"
      ]
    },
    {
      "cell_type": "code",
      "metadata": {
        "id": "v84P6mORhyxT"
      },
      "source": [
        "# normal distribution variable mean = 5 and std = 0.5\n",
        "var1 = np.random.normal(5, 0.5, 100)\n",
        "\n",
        "# normal distribution variable mean = 10 and std = 1\n",
        "var2 = np.random.normal(10, 1, 100)\n",
        "\n",
        "var3 = var1+var2"
      ],
      "execution_count": 143,
      "outputs": []
    },
    {
      "cell_type": "code",
      "metadata": {
        "id": "OMItzUcWjIC6"
      },
      "source": [
        "v3_mean = var3.mean()\n",
        "v3_std = var3.std()"
      ],
      "execution_count": 145,
      "outputs": []
    },
    {
      "cell_type": "code",
      "metadata": {
        "id": "oUsIaoEZiwlm",
        "outputId": "464a7640-2825-4f10-a867-2e7621b6c42d",
        "colab": {
          "base_uri": "https://localhost:8080/",
          "height": 265
        }
      },
      "source": [
        "sb.histplot(var3)\n",
        "plt.axvline(v3_mean, c='r')\n",
        "plt.axvline(v3_mean+v3_std, c='y', linestyle='--')\n",
        "plt.axvline(v3_mean-v3_std, c='y', linestyle='--')\n",
        "\n",
        "plt.show()"
      ],
      "execution_count": 147,
      "outputs": [
        {
          "output_type": "display_data",
          "data": {
            "image/png": "[encoded data removed]",
            "text/plain": [
              "<Figure size 432x288 with 1 Axes>"
            ]
          },
          "metadata": {
            "tags": [],
            "needs_background": "light"
          }
        }
      ]
    },
    {
      "cell_type": "markdown",
      "metadata": {
        "id": "TjPDVO7BkE59"
      },
      "source": [
        "The addition of 2 normally distributed samples creates a normally distributed sample."
      ]
    }
  ]
}