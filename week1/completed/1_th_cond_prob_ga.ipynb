{
  "nbformat": 4,
  "nbformat_minor": 0,
  "metadata": {
    "colab": {
      "name": "wk1_th_cond_prob_ga.ipynb",
      "provenance": [],
      "collapsed_sections": []
    },
    "kernelspec": {
      "name": "python3",
      "display_name": "Python 3"
    }
  },
  "cells": [
    {
      "cell_type": "markdown",
      "metadata": {
        "id": "zqNZHiOz1uQw"
      },
      "source": [
        "\n",
        "**1. Identify 3 scenarios in your everyday life where you use probability.**\n",
        "- weather\n",
        "- probability of getting struck by lightning\n",
        "- probability of having a car accident\n",
        "\n",
        "**2. Using the formula you learned to calculate probabilities, approximate the probabilities of the events in each of those 3 scenarios.**\n",
        "- frequency of lightning strikes every day\n",
        "- frequencies of car accidents in your area daily\n",
        "\n",
        "**3. Think about what potential dependencies the events in each of your 3 scenarios have. Calculate the joint probabilities for the events and their dependencies.**\n",
        "- probabilities based on weather and time of the year\n",
        "- probability based of if you're likely to go outside that day/for how long\n",
        "- probability based on if you're likely to drive that day/how long/what type of driving/time of day\n",
        "\n",
        "**4. Calculate the conditional probabilities for the events given their dependencies.**\n",
        "\n",
        "\n"
      ]
    }
  ]
}