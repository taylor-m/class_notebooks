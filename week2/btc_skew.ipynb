{
 "cells": [
  {
   "cell_type": "code",
   "execution_count": 1,
   "metadata": {},
   "outputs": [
    {
     "data": {
      "application/javascript": [
       "\n",
       "            setTimeout(function() {\n",
       "                var nbb_cell_id = 1;\n",
       "                var nbb_unformatted_code = \"%reload_ext nb_black\";\n",
       "                var nbb_formatted_code = \"%reload_ext nb_black\";\n",
       "                var nbb_cells = Jupyter.notebook.get_cells();\n",
       "                for (var i = 0; i < nbb_cells.length; ++i) {\n",
       "                    if (nbb_cells[i].input_prompt_number == nbb_cell_id) {\n",
       "                        if (nbb_cells[i].get_text() == nbb_unformatted_code) {\n",
       "                             nbb_cells[i].set_text(nbb_formatted_code);\n",
       "                        }\n",
       "                        break;\n",
       "                    }\n",
       "                }\n",
       "            }, 500);\n",
       "            "
      ],
      "text/plain": [
       "<IPython.core.display.Javascript object>"
      ]
     },
     "metadata": {},
     "output_type": "display_data"
    }
   ],
   "source": [
    "%reload_ext nb_black"
   ]
  },
  {
   "cell_type": "code",
   "execution_count": 2,
   "metadata": {},
   "outputs": [
    {
     "data": {
      "application/javascript": [
       "\n",
       "            setTimeout(function() {\n",
       "                var nbb_cell_id = 2;\n",
       "                var nbb_unformatted_code = \"import pandas as pd\\nimport numpy as np\\n\\nfrom scipy import stats\\n\\nimport seaborn as sns\\nimport matplotlib.pyplot as plt\\n\\n%matplotlib inline\";\n",
       "                var nbb_formatted_code = \"import pandas as pd\\nimport numpy as np\\n\\nfrom scipy import stats\\n\\nimport seaborn as sns\\nimport matplotlib.pyplot as plt\\n\\n%matplotlib inline\";\n",
       "                var nbb_cells = Jupyter.notebook.get_cells();\n",
       "                for (var i = 0; i < nbb_cells.length; ++i) {\n",
       "                    if (nbb_cells[i].input_prompt_number == nbb_cell_id) {\n",
       "                        if (nbb_cells[i].get_text() == nbb_unformatted_code) {\n",
       "                             nbb_cells[i].set_text(nbb_formatted_code);\n",
       "                        }\n",
       "                        break;\n",
       "                    }\n",
       "                }\n",
       "            }, 500);\n",
       "            "
      ],
      "text/plain": [
       "<IPython.core.display.Javascript object>"
      ]
     },
     "metadata": {},
     "output_type": "display_data"
    }
   ],
   "source": [
    "import pandas as pd\n",
    "import numpy as np\n",
    "\n",
    "from scipy import stats\n",
    "\n",
    "import seaborn as sns\n",
    "import matplotlib.pyplot as plt\n",
    "\n",
    "%matplotlib inline"
   ]
  },
  {
   "cell_type": "markdown",
   "metadata": {},
   "source": [
    "### Spoilers on how to read sql data from python with pandas."
   ]
  },
  {
   "cell_type": "code",
   "execution_count": 3,
   "metadata": {},
   "outputs": [
    {
     "data": {
      "application/javascript": [
       "\n",
       "            setTimeout(function() {\n",
       "                var nbb_cell_id = 3;\n",
       "                var nbb_unformatted_code = \"postgres_user = \\\"dsbc_student\\\"\\npostgres_pw = \\\"7*.8G9QH21\\\"\\npostgres_host = \\\"142.93.121.174\\\"\\npostgres_port = \\\"5432\\\"\\npostgres_db = \\\"bitcoinhistoricaldata\\\"\\n\\n\\nconn_str = f\\\"postgresql://{postgres_user}:{postgres_pw}@{postgres_host}:{postgres_port}/{postgres_db}\\\"\\ndf = pd.read_sql_query(\\\"SELECT * FROM coinbase\\\", con=conn_str)\";\n",
       "                var nbb_formatted_code = \"postgres_user = \\\"dsbc_student\\\"\\npostgres_pw = \\\"7*.8G9QH21\\\"\\npostgres_host = \\\"142.93.121.174\\\"\\npostgres_port = \\\"5432\\\"\\npostgres_db = \\\"bitcoinhistoricaldata\\\"\\n\\n\\nconn_str = f\\\"postgresql://{postgres_user}:{postgres_pw}@{postgres_host}:{postgres_port}/{postgres_db}\\\"\\ndf = pd.read_sql_query(\\\"SELECT * FROM coinbase\\\", con=conn_str)\";\n",
       "                var nbb_cells = Jupyter.notebook.get_cells();\n",
       "                for (var i = 0; i < nbb_cells.length; ++i) {\n",
       "                    if (nbb_cells[i].input_prompt_number == nbb_cell_id) {\n",
       "                        if (nbb_cells[i].get_text() == nbb_unformatted_code) {\n",
       "                             nbb_cells[i].set_text(nbb_formatted_code);\n",
       "                        }\n",
       "                        break;\n",
       "                    }\n",
       "                }\n",
       "            }, 500);\n",
       "            "
      ],
      "text/plain": [
       "<IPython.core.display.Javascript object>"
      ]
     },
     "metadata": {},
     "output_type": "display_data"
    }
   ],
   "source": [
    "postgres_user = \"dsbc_student\"\n",
    "postgres_pw = \"7*.8G9QH21\"\n",
    "postgres_host = \"142.93.121.174\"\n",
    "postgres_port = \"5432\"\n",
    "postgres_db = \"bitcoinhistoricaldata\"\n",
    "\n",
    "\n",
    "conn_str = f\"postgresql://{postgres_user}:{postgres_pw}@{postgres_host}:{postgres_port}/{postgres_db}\"\n",
    "df = pd.read_sql_query(\"SELECT * FROM coinbase\", con=conn_str)"
   ]
  },
  {
   "cell_type": "markdown",
   "metadata": {},
   "source": [
    "Skewness can be inspected by using `scipy.stats.describe()` to output a single numeric representation of skew.\n",
    "\n",
    "* A skew of zero indicates the data is symmetric.\n",
    "* A below 0 is referred to as negative skew or left skew.\n",
    "* A above 0 is referred to as positive skew or left skew.\n",
    "    * This comes up fairly often. An example might be annual income, a good bit of people are making an income that's relatively close to the median; however, there are some extreme cases with people making a lot a lot of money."
   ]
  },
  {
   "cell_type": "code",
   "execution_count": 4,
   "metadata": {
    "scrolled": true
   },
   "outputs": [
    {
     "data": {
      "text/plain": [
       "DescribeResult(nobs=65499, minmax=(1e-06, 1563.27), mean=4.43248281763691, variance=224.28468775213497, skewness=27.433690072910537, kurtosis=2004.9014649281896)"
      ]
     },
     "execution_count": 4,
     "metadata": {},
     "output_type": "execute_result"
    },
    {
     "data": {
      "application/javascript": [
       "\n",
       "            setTimeout(function() {\n",
       "                var nbb_cell_id = 4;\n",
       "                var nbb_unformatted_code = \"stats.describe(df[\\\"volume_btc\\\"])\";\n",
       "                var nbb_formatted_code = \"stats.describe(df[\\\"volume_btc\\\"])\";\n",
       "                var nbb_cells = Jupyter.notebook.get_cells();\n",
       "                for (var i = 0; i < nbb_cells.length; ++i) {\n",
       "                    if (nbb_cells[i].input_prompt_number == nbb_cell_id) {\n",
       "                        if (nbb_cells[i].get_text() == nbb_unformatted_code) {\n",
       "                             nbb_cells[i].set_text(nbb_formatted_code);\n",
       "                        }\n",
       "                        break;\n",
       "                    }\n",
       "                }\n",
       "            }, 500);\n",
       "            "
      ],
      "text/plain": [
       "<IPython.core.display.Javascript object>"
      ]
     },
     "metadata": {},
     "output_type": "display_data"
    }
   ],
   "source": [
    "stats.describe(df[\"volume_btc\"])"
   ]
  },
  {
   "cell_type": "markdown",
   "metadata": {},
   "source": [
    "We can also inpsect skew by viewing a plot of a distribution."
   ]
  },
  {
   "cell_type": "code",
   "execution_count": 5,
   "metadata": {},
   "outputs": [
    {
     "data": {
      "image/png": "[encoded data removed]",
      "text/plain": [
       "<Figure size 432x288 with 1 Axes>"
      ]
     },
     "metadata": {
      "needs_background": "light"
     },
     "output_type": "display_data"
    },
    {
     "data": {
      "application/javascript": [
       "\n",
       "            setTimeout(function() {\n",
       "                var nbb_cell_id = 5;\n",
       "                var nbb_unformatted_code = \"sns.distplot(df[\\\"volume_btc\\\"])\\nplt.title(\\\"raw volume_btc\\\")\\nplt.show()\";\n",
       "                var nbb_formatted_code = \"sns.distplot(df[\\\"volume_btc\\\"])\\nplt.title(\\\"raw volume_btc\\\")\\nplt.show()\";\n",
       "                var nbb_cells = Jupyter.notebook.get_cells();\n",
       "                for (var i = 0; i < nbb_cells.length; ++i) {\n",
       "                    if (nbb_cells[i].input_prompt_number == nbb_cell_id) {\n",
       "                        if (nbb_cells[i].get_text() == nbb_unformatted_code) {\n",
       "                             nbb_cells[i].set_text(nbb_formatted_code);\n",
       "                        }\n",
       "                        break;\n",
       "                    }\n",
       "                }\n",
       "            }, 500);\n",
       "            "
      ],
      "text/plain": [
       "<IPython.core.display.Javascript object>"
      ]
     },
     "metadata": {},
     "output_type": "display_data"
    }
   ],
   "source": [
    "sns.distplot(df[\"volume_btc\"])\n",
    "plt.title(\"raw volume_btc\")\n",
    "plt.show()"
   ]
  },
  {
   "cell_type": "code",
   "execution_count": 6,
   "metadata": {},
   "outputs": [
    {
     "data": {
      "image/png": "[encoded data removed]",
      "text/plain": [
       "<Figure size 432x288 with 1 Axes>"
      ]
     },
     "metadata": {
      "needs_background": "light"
     },
     "output_type": "display_data"
    },
    {
     "data": {
      "application/javascript": [
       "\n",
       "            setTimeout(function() {\n",
       "                var nbb_cell_id = 6;\n",
       "                var nbb_unformatted_code = \"sns.boxplot(df[\\\"volume_btc\\\"])\\nplt.title(\\\"raw volume_btc\\\")\\nplt.show()\";\n",
       "                var nbb_formatted_code = \"sns.boxplot(df[\\\"volume_btc\\\"])\\nplt.title(\\\"raw volume_btc\\\")\\nplt.show()\";\n",
       "                var nbb_cells = Jupyter.notebook.get_cells();\n",
       "                for (var i = 0; i < nbb_cells.length; ++i) {\n",
       "                    if (nbb_cells[i].input_prompt_number == nbb_cell_id) {\n",
       "                        if (nbb_cells[i].get_text() == nbb_unformatted_code) {\n",
       "                             nbb_cells[i].set_text(nbb_formatted_code);\n",
       "                        }\n",
       "                        break;\n",
       "                    }\n",
       "                }\n",
       "            }, 500);\n",
       "            "
      ],
      "text/plain": [
       "<IPython.core.display.Javascript object>"
      ]
     },
     "metadata": {},
     "output_type": "display_data"
    }
   ],
   "source": [
    "sns.boxplot(df[\"volume_btc\"])\n",
    "plt.title(\"raw volume_btc\")\n",
    "plt.show()"
   ]
  },
  {
   "cell_type": "markdown",
   "metadata": {},
   "source": [
    "In practice, extreme skew can get in the way and we typically like to avoid working with skewed data.  One way to alleviate skewed data is with a transformation.  We apply a function to the data so that we de-skew, but so that we don't lose any information in the data."
   ]
  },
  {
   "cell_type": "markdown",
   "metadata": {},
   "source": [
    "### `log` transform\n",
    "\n",
    "A `log` (or logarithm) is the opposite of raising a number to an exponent.  A log answers the question, \"what number do I need to raise the base to to get this result?\"  (more below to make sense of this sentence).\n",
    "\n",
    "\n",
    "* Some exponential expressions:\n",
    "    * $10^1 = 10$\n",
    "        * 10 raised to the 1 is 10\n",
    "    * $10^2 = 100$\n",
    "    * $10^3 = 1000$\n",
    "* Some related logarithmic expressions:\n",
    "    * $log_{10}(10) = 1$\n",
    "        * What number do I need to raise 10 to to get 10?\n",
    "    * $log_{10}(100) = 2$\n",
    "        * What number do I need to raise 10 to to get 100?\n",
    "    * $log_{10}(1000) = 3$\n",
    "    \n",
    "In all of the above math, the number $10$ is referred to as the 'base'.  We can use whatever base we'd like though:\n",
    "\n",
    "* $2^2 = 4$\n",
    "* $log_2(4) = 2$\n",
    "\n",
    "\n",
    "* $3^2 = 9$\n",
    "* $log_3(9) = 2$\n",
    "\n",
    "A common base to use is the number $e$; this is so common that $log_e(2)$ is referred to as taking the 'natural log' of 2.  Want to know more about $e$?  [Here is a great video](https://youtu.be/pg827uDPFqA) discussing the origins of the mysterious number $e$."
   ]
  },
  {
   "cell_type": "markdown",
   "metadata": {},
   "source": [
    "Here is what a log transform (base 10) does to our skewed distribution.  Think through why this makes sense.  Let's say we have some skewed data and we apply $log_{10}()$ to it: \n",
    "\n",
    "* Input (`x`)\n",
    "    * `[1, 1, 1, 1, 1, 1, 10, 100, 1000, 10000]`\n",
    "* Output (`log10(x)`)\n",
    "    * `[0, 0, 0, 0, 0, 0, 1, 2, 3, 4]`\n",
    "    \n",
    "All of the observations in our data are still in the same order, but now they're way closer together.  Being in the same order is important because it means any correlations with other variables should remain intact.  Being close together is important because this often allows our mathematical tools to work better."
   ]
  },
  {
   "cell_type": "code",
   "execution_count": 7,
   "metadata": {},
   "outputs": [
    {
     "data": {
      "image/png": "[encoded data removed]",
      "text/plain": [
       "<Figure size 432x288 with 1 Axes>"
      ]
     },
     "metadata": {
      "needs_background": "light"
     },
     "output_type": "display_data"
    },
    {
     "data": {
      "image/png": "[encoded data removed]",
      "text/plain": [
       "<Figure size 432x288 with 1 Axes>"
      ]
     },
     "metadata": {
      "needs_background": "light"
     },
     "output_type": "display_data"
    },
    {
     "data": {
      "application/javascript": [
       "\n",
       "            setTimeout(function() {\n",
       "                var nbb_cell_id = 7;\n",
       "                var nbb_unformatted_code = \"log_transformed = np.log10(df[\\\"volume_btc\\\"])\\n\\nsns.distplot(log_transformed)\\nplt.title(\\\"log10(volume_btc)\\\")\\nplt.show()\\n\\nsns.boxplot(log_transformed)\\nplt.title(\\\"log10(volume_btc)\\\")\\nplt.show()\";\n",
       "                var nbb_formatted_code = \"log_transformed = np.log10(df[\\\"volume_btc\\\"])\\n\\nsns.distplot(log_transformed)\\nplt.title(\\\"log10(volume_btc)\\\")\\nplt.show()\\n\\nsns.boxplot(log_transformed)\\nplt.title(\\\"log10(volume_btc)\\\")\\nplt.show()\";\n",
       "                var nbb_cells = Jupyter.notebook.get_cells();\n",
       "                for (var i = 0; i < nbb_cells.length; ++i) {\n",
       "                    if (nbb_cells[i].input_prompt_number == nbb_cell_id) {\n",
       "                        if (nbb_cells[i].get_text() == nbb_unformatted_code) {\n",
       "                             nbb_cells[i].set_text(nbb_formatted_code);\n",
       "                        }\n",
       "                        break;\n",
       "                    }\n",
       "                }\n",
       "            }, 500);\n",
       "            "
      ],
      "text/plain": [
       "<IPython.core.display.Javascript object>"
      ]
     },
     "metadata": {},
     "output_type": "display_data"
    }
   ],
   "source": [
    "log_transformed = np.log10(df[\"volume_btc\"])\n",
    "\n",
    "sns.distplot(log_transformed)\n",
    "plt.title(\"log10(volume_btc)\")\n",
    "plt.show()\n",
    "\n",
    "sns.boxplot(log_transformed)\n",
    "plt.title(\"log10(volume_btc)\")\n",
    "plt.show()"
   ]
  },
  {
   "cell_type": "markdown",
   "metadata": {},
   "source": [
    "Other potential transforms are to take the square root or cube root.  I'd say that overall, log is more often used tool for handling skewed data."
   ]
  },
  {
   "cell_type": "code",
   "execution_count": 8,
   "metadata": {},
   "outputs": [
    {
     "data": {
      "image/png": "[encoded data removed]",
      "text/plain": [
       "<Figure size 432x288 with 1 Axes>"
      ]
     },
     "metadata": {
      "needs_background": "light"
     },
     "output_type": "display_data"
    },
    {
     "data": {
      "image/png": "[encoded data removed]",
      "text/plain": [
       "<Figure size 432x288 with 1 Axes>"
      ]
     },
     "metadata": {
      "needs_background": "light"
     },
     "output_type": "display_data"
    },
    {
     "data": {
      "application/javascript": [
       "\n",
       "            setTimeout(function() {\n",
       "                var nbb_cell_id = 8;\n",
       "                var nbb_unformatted_code = \"sq_root_transformed = np.sqrt(df[\\\"volume_btc\\\"])\\n\\nsns.distplot(sq_root_transformed)\\nplt.title(\\\"sqrt(volume_btc)\\\")\\nplt.show()\\n\\nsns.boxplot(sq_root_transformed)\\nplt.title(\\\"sqrt(volume_btc)\\\")\\nplt.show()\";\n",
       "                var nbb_formatted_code = \"sq_root_transformed = np.sqrt(df[\\\"volume_btc\\\"])\\n\\nsns.distplot(sq_root_transformed)\\nplt.title(\\\"sqrt(volume_btc)\\\")\\nplt.show()\\n\\nsns.boxplot(sq_root_transformed)\\nplt.title(\\\"sqrt(volume_btc)\\\")\\nplt.show()\";\n",
       "                var nbb_cells = Jupyter.notebook.get_cells();\n",
       "                for (var i = 0; i < nbb_cells.length; ++i) {\n",
       "                    if (nbb_cells[i].input_prompt_number == nbb_cell_id) {\n",
       "                        if (nbb_cells[i].get_text() == nbb_unformatted_code) {\n",
       "                             nbb_cells[i].set_text(nbb_formatted_code);\n",
       "                        }\n",
       "                        break;\n",
       "                    }\n",
       "                }\n",
       "            }, 500);\n",
       "            "
      ],
      "text/plain": [
       "<IPython.core.display.Javascript object>"
      ]
     },
     "metadata": {},
     "output_type": "display_data"
    }
   ],
   "source": [
    "sq_root_transformed = np.sqrt(df[\"volume_btc\"])\n",
    "\n",
    "sns.distplot(sq_root_transformed)\n",
    "plt.title(\"sqrt(volume_btc)\")\n",
    "plt.show()\n",
    "\n",
    "sns.boxplot(sq_root_transformed)\n",
    "plt.title(\"sqrt(volume_btc)\")\n",
    "plt.show()"
   ]
  },
  {
   "cell_type": "code",
   "execution_count": 9,
   "metadata": {},
   "outputs": [
    {
     "data": {
      "image/png": "[encoded data removed]",
      "text/plain": [
       "<Figure size 432x288 with 1 Axes>"
      ]
     },
     "metadata": {
      "needs_background": "light"
     },
     "output_type": "display_data"
    },
    {
     "data": {
      "image/png": "[encoded data removed]",
      "text/plain": [
       "<Figure size 432x288 with 1 Axes>"
      ]
     },
     "metadata": {
      "needs_background": "light"
     },
     "output_type": "display_data"
    },
    {
     "data": {
      "application/javascript": [
       "\n",
       "            setTimeout(function() {\n",
       "                var nbb_cell_id = 9;\n",
       "                var nbb_unformatted_code = \"cube_root_transformed = df[\\\"volume_btc\\\"] ** (1 / 3)\\n\\nsns.distplot(cube_root_transformed)\\nplt.title(\\\"volume_btc ^ (1/3)\\\")\\nplt.show()\\n\\nsns.boxplot(cube_root_transformed)\\nplt.title(\\\"volume_btc ^ (1/3)\\\")\\nplt.show()\";\n",
       "                var nbb_formatted_code = \"cube_root_transformed = df[\\\"volume_btc\\\"] ** (1 / 3)\\n\\nsns.distplot(cube_root_transformed)\\nplt.title(\\\"volume_btc ^ (1/3)\\\")\\nplt.show()\\n\\nsns.boxplot(cube_root_transformed)\\nplt.title(\\\"volume_btc ^ (1/3)\\\")\\nplt.show()\";\n",
       "                var nbb_cells = Jupyter.notebook.get_cells();\n",
       "                for (var i = 0; i < nbb_cells.length; ++i) {\n",
       "                    if (nbb_cells[i].input_prompt_number == nbb_cell_id) {\n",
       "                        if (nbb_cells[i].get_text() == nbb_unformatted_code) {\n",
       "                             nbb_cells[i].set_text(nbb_formatted_code);\n",
       "                        }\n",
       "                        break;\n",
       "                    }\n",
       "                }\n",
       "            }, 500);\n",
       "            "
      ],
      "text/plain": [
       "<IPython.core.display.Javascript object>"
      ]
     },
     "metadata": {},
     "output_type": "display_data"
    }
   ],
   "source": [
    "cube_root_transformed = df[\"volume_btc\"] ** (1 / 3)\n",
    "\n",
    "sns.distplot(cube_root_transformed)\n",
    "plt.title(\"volume_btc ^ (1/3)\")\n",
    "plt.show()\n",
    "\n",
    "sns.boxplot(cube_root_transformed)\n",
    "plt.title(\"volume_btc ^ (1/3)\")\n",
    "plt.show()"
   ]
  }
 ],
 "metadata": {
  "kernelspec": {
   "display_name": "Python 3",
   "language": "python",
   "name": "python3"
  },
  "language_info": {
   "codemirror_mode": {
    "name": "ipython",
    "version": 3
   },
   "file_extension": ".py",
   "mimetype": "text/x-python",
   "name": "python",
   "nbconvert_exporter": "python",
   "pygments_lexer": "ipython3",
   "version": "3.8.3"
  }
 },
 "nbformat": 4,
 "nbformat_minor": 2
}
