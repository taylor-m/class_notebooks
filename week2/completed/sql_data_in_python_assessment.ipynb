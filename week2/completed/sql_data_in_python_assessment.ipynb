{
 "cells": [
  {
   "cell_type": "markdown",
   "metadata": {},
   "source": [
    "Using the following connection values create a Python function number_pg that submits a query to the dvdrentals film table and returns the number of movies released with a PG rating.\n",
    "\n",
    "postgres_user = dabc_student OR dsbc_student\n",
    "postgres_pw = 7*.8G9QH21\n",
    "postgres_host = 142.93.121.174\n",
    "postgres_port = 5432\n",
    "postgres_db = dvdrentals\n",
    "\n",
    "Connect to the film table."
   ]
  },
  {
   "cell_type": "markdown",
   "metadata": {
    "heading_collapsed": true
   },
   "source": [
    "### How many movies are released with a PG rating?"
   ]
  },
  {
   "cell_type": "code",
   "execution_count": null,
   "metadata": {
    "hidden": true
   },
   "outputs": [],
   "source": [
    "'''\n",
    "Replace spaces ('____') in the starter code below with your own code to complete the function  number_pg so that it returns the number of movies in the film table released with a PG rating\n",
    "'''\n",
    "\n",
    "# -*- coding: utf-8 -*-\n",
    "from sqlalchemy import create_engine\n",
    "import pandas as pd\n",
    "\n",
    "def number_pg ():\n",
    "  postgres_user = 'dsbc_student'\n",
    "  postgres_pw = '7*.8G9QH21'\n",
    "  postgres_host = '142.93.121.174'\n",
    "  postgres_port = '5432'\n",
    "  postgres_db = 'dvdrentals'\n",
    "\n",
    "  # use the credentials to start a connection\n",
    "  engine = create_engine('postgresql://{}:{}@{}:{}/{}'.format(postgres_user, postgres_pw, postgres_host, postgres_port, postgres_db))\n",
    "\n",
    "  sql = \"\"\"\n",
    "  SELECT *\n",
    "  FROM film;\n",
    "  \"\"\"\n",
    "  dvdrentals = pd.read_sql_query(sql, con=engine)\n",
    "  results = engine.execute(sql)\n",
    "  engine.dispose()\n",
    "  rows = results.fetchall()\n",
    "  pg_rentals = dvdrentals[dvdrentals.rating == \"PG\"].count()[0]\n",
    "  return pg_rentals"
   ]
  },
  {
   "cell_type": "markdown",
   "metadata": {
    "heading_collapsed": true
   },
   "source": [
    "### Modify the SQL query line and complete the function to return the average rental duration of movies with a G rating."
   ]
  },
  {
   "cell_type": "code",
   "execution_count": 12,
   "metadata": {
    "hidden": true
   },
   "outputs": [],
   "source": [
    "from sqlalchemy import create_engine\n",
    "import pandas as pd\n",
    "\n",
    "def avg_duration_g():\n",
    "  postgres_user = 'dsbc_student'\n",
    "  postgres_pw = '7*.8G9QH21'\n",
    "  postgres_host = '142.93.121.174'\n",
    "  postgres_port = '5432'\n",
    "  postgres_db = 'dvdrentals'\n",
    "\n",
    "  # use the credentials to start a connection\n",
    "  engine = create_engine('postgresql://{}:{}@{}:{}/{}'.format(postgres_user, postgres_pw, postgres_host, postgres_port, postgres_db))\n",
    "\n",
    "  sql = '''\n",
    "  SELECT rental_duration\n",
    "  FROM film\n",
    "  WHERE rating = 'G'\n",
    "  '''\n",
    "  dvdrentals = pd.read_sql_query(sql, con=engine)\n",
    "  engine.dispose()\n",
    "  return dvdrentals.mean()[0]"
   ]
  },
  {
   "cell_type": "code",
   "execution_count": 13,
   "metadata": {
    "hidden": true,
    "scrolled": true
   },
   "outputs": [
    {
     "data": {
      "text/plain": [
       "4.837078651685394"
      ]
     },
     "execution_count": 13,
     "metadata": {},
     "output_type": "execute_result"
    }
   ],
   "source": [
    "avg_duration_g()"
   ]
  },
  {
   "cell_type": "markdown",
   "metadata": {
    "heading_collapsed": true
   },
   "source": [
    "### Modify the SQL query line and complete the function to return the mean_movie length. Calculate this by defining and using a function within the mean_movie_length function."
   ]
  },
  {
   "cell_type": "code",
   "execution_count": null,
   "metadata": {
    "hidden": true
   },
   "outputs": [],
   "source": [
    "# -*- coding: utf-8 -*-\n",
    "from sqlalchemy import create_engine\n",
    "import pandas as pd\n",
    "\n",
    "def mean_movie_length():\n",
    "  postgres_user = 'dsbc_student'\n",
    "  postgres_pw = '7*.8G9QH21'\n",
    "  postgres_host = '142.93.121.174'\n",
    "  postgres_port = '5432'\n",
    "  postgres_db = 'dvdrentals'\n",
    "\n",
    "  # use the credentials to start a connection\n",
    "  engine = create_engine('postgresql://{}:{}@{}:{}/{}'.format(postgres_user, postgres_pw, postgres_host, postgres_port, postgres_db))\n",
    "\n",
    "  sql = '''\n",
    "  SELECT length\n",
    "  FROM film\n",
    "  '''\n",
    "  dvdrentals = pd.read_sql_query(sql, con=engine)\n",
    "  engine.dispose()\n",
    "  return dvdrentals.mean()[0]"
   ]
  },
  {
   "cell_type": "markdown",
   "metadata": {
    "heading_collapsed": true
   },
   "source": [
    "### Modify the SQL query line and complete the function to return the median movie length. Calculate this by defining and using a function within the median_movie_length function."
   ]
  },
  {
   "cell_type": "code",
   "execution_count": 14,
   "metadata": {
    "hidden": true
   },
   "outputs": [],
   "source": [
    "from sqlalchemy import create_engine\n",
    "import pandas as pd\n",
    "\n",
    "def median_movie_length():\n",
    "  postgres_user = 'dsbc_student'\n",
    "  postgres_pw = '7*.8G9QH21'\n",
    "  postgres_host = '142.93.121.174'\n",
    "  postgres_port = '5432'\n",
    "  postgres_db = 'dvdrentals'\n",
    "\n",
    "  # use the credentials to start a connection\n",
    "  engine = create_engine('postgresql://{}:{}@{}:{}/{}'.format(postgres_user, postgres_pw, postgres_host, postgres_port, postgres_db))\n",
    "\n",
    "  sql = '''\n",
    "  SELECT length\n",
    "  FROM film;\n",
    "  '''\n",
    "  \n",
    "  dvdrentals = pd.read_sql_query(sql, con=engine)\n",
    "  engine.dispose()\n",
    "  return dvdrentals.median()[0]\n",
    "\n",
    "# Complete the rest of the function that returns the median movie lenth."
   ]
  },
  {
   "cell_type": "markdown",
   "metadata": {
    "heading_collapsed": true
   },
   "source": [
    "### Modify the SQL query line and complete the function to return the standard deviation of the movie lengths. Calculate this by defining and using a function within the std_dev_movie_length function."
   ]
  },
  {
   "cell_type": "code",
   "execution_count": 16,
   "metadata": {
    "hidden": true
   },
   "outputs": [
    {
     "data": {
      "text/plain": [
       "40.42633181855987"
      ]
     },
     "execution_count": 16,
     "metadata": {},
     "output_type": "execute_result"
    }
   ],
   "source": [
    "# -*- coding: utf-8 -*-\n",
    "from sqlalchemy import create_engine\n",
    "import pandas as pd\n",
    "def std_dev_movie_length():\n",
    "  postgres_user = 'dsbc_student'\n",
    "  postgres_pw = '7*.8G9QH21'\n",
    "  postgres_host = '142.93.121.174'\n",
    "  postgres_port = '5432'\n",
    "  postgres_db = 'dvdrentals'\n",
    "\n",
    "  # use the credentials to start a connection\n",
    "  engine = create_engine('postgresql://{}:{}@{}:{}/{}'.format(postgres_user, postgres_pw, postgres_host, postgres_port, postgres_db))\n",
    "\n",
    "  sql = '''\n",
    "  SELECT length \n",
    "  FROM film\n",
    "  '''\n",
    "  dvdrentals = pd.read_sql_query(sql, con=engine)\n",
    "  engine.dispose()\n",
    "  return dvdrentals.std()[0]\n",
    "\n",
    "  \n",
    "  \n",
    "# std_dev_movie_length()"
   ]
  }
 ],
 "metadata": {
  "kernelspec": {
   "display_name": "Python 3",
   "language": "python",
   "name": "python3"
  },
  "language_info": {
   "codemirror_mode": {
    "name": "ipython",
    "version": 3
   },
   "file_extension": ".py",
   "mimetype": "text/x-python",
   "name": "python",
   "nbconvert_exporter": "python",
   "pygments_lexer": "ipython3",
   "version": "3.8.3"
  },
  "toc": {
   "base_numbering": 1,
   "nav_menu": {},
   "number_sections": true,
   "sideBar": true,
   "skip_h1_title": false,
   "title_cell": "Table of Contents",
   "title_sidebar": "Contents",
   "toc_cell": false,
   "toc_position": {},
   "toc_section_display": true,
   "toc_window_display": true
  },
  "varInspector": {
   "cols": {
    "lenName": 16,
    "lenType": 16,
    "lenVar": 40
   },
   "kernels_config": {
    "python": {
     "delete_cmd_postfix": "",
     "delete_cmd_prefix": "del ",
     "library": "var_list.py",
     "varRefreshCmd": "print(var_dic_list())"
    },
    "r": {
     "delete_cmd_postfix": ") ",
     "delete_cmd_prefix": "rm(",
     "library": "var_list.r",
     "varRefreshCmd": "cat(var_dic_list()) "
    }
   },
   "types_to_exclude": [
    "module",
    "function",
    "builtin_function_or_method",
    "instance",
    "_Feature"
   ],
   "window_display": true
  }
 },
 "nbformat": 4,
 "nbformat_minor": 4
}
