{
 "cells": [
  {
   "cell_type": "markdown",
   "metadata": {
    "run_control": {
     "frozen": false,
     "read_only": false
    }
   },
   "source": [
    "So far, this program has covered decision trees growing with an entropy criterion. In doing so, however, the program glossed over how that actually works. In this checkpoint, you'll get more detail into how an algorithm that does that would practically function.\n",
    "\n",
    "Here, you'll learn about one popular algorithm for building a decision tree using entropy and information gain: *ID3*.\n",
    "\n",
    "## The ID3 algorithm\n",
    "\n",
    "ID3 stands for *Iterative Dichotomizer 3*, and it's one of the simplest ways to create a decision tree. ID3 can be generalized into more robust scenarios, but the implementation is based on the framework that you'll go over here. Essentially, ID3 goes through every feature to find the most valuable attribute, and then it splits the node based on that attribute. Then it moves further and further down the tree until it either has a pure class or meets a terminating condition. The details are explored further below.\n",
    "\n",
    "Before you can start working with ID3, however, there are some requirements for the data in this most basic form. Firstly, outcomes have to be binary. The simplest version of ID3 is a binary classifier. Also, the attributes that you use to build the tree have to be categorical. Attributes can have many categories, but they must be known and countable.\n",
    "\n",
    "If those two criteria are met, then you can build a basic ID3 classifying algorithm.\n",
    "\n",
    "The other thing that you'll need for this is the definition of entropy. Recall from the previous assignment that you're going to use Shannon Entropy $H$, defined as follows:\n",
    "\n",
    "$$ H = -\\sum_{i=1}^n P(x_i)log_2 P(x_i) $$\n",
    "\n",
    "For simplicity of calculation, you're actually going to do a slight transform on this definition. Recall from a (quite possibly long ago) algebra class that you can bring exponentials out to the front of a logarithm. In this case, you'll raise the probability to `-1`, changing the formula to the following:\n",
    "\n",
    "$$ H = \\sum_{i=1}^n P(x_i)log_2 \\frac{1}{P(x_i)} $$\n",
    "\n",
    "This removes the negative sign up front, and will make it easier for you to implement this formula."
   ]
  },
  {
   "cell_type": "markdown",
   "metadata": {},
   "source": [
    "## Calculating entropy\n",
    "\n",
    "Because this algorithm is based on entropy, go over a quick example of how to calculate it.\n",
    "\n",
    "Say that you have 20 students, and you're trying to classify them as male or female. The only attribute that you have is whether their height is tall, medium, or short. Of the 20 students, 12 are boys and 8 are girls. Of the 12 boys, 4 are tall, 6 are medium, and 2 are short. Of the 8 girls, 1 is tall, 2 are medium, and 5 are short.\n",
    "\n",
    "What is the entropy before any rule is applied? And what is the entropy after applying a rule for being tall?\n",
    "\n",
    "The initial entropy is just the formula plugged in over both the possible classes of interest:\n",
    "\n",
    "$$ H = P(male)*log_2 \\frac{1}{P(male)} + P(female)*log_2 \\frac{1}{P(female)}  $$\n",
    "\n",
    "\n",
    "$$ = \\frac{12}{20}*log_2 \\frac{20}{12} + \\frac{8}{20}*log_2 \\frac{20}{8} = .971 $$\n",
    "\n",
    "What if you apply the rule `height = short`? You need to calculate the weighted average of the two entropies, one for the short students and one for the students who aren't short.\n",
    "\n",
    "$$ H(short) = P(male)*log_2 \\frac{1}{P(male)} + P(female)*log_2 \\frac{1}{P(female)}  $$\n",
    "\n",
    "$$ = \\frac{2}{7}*log_2 \\frac{7}{2} + \\frac{5}{7}*log_2 \\frac{7}{5} = .863 $$\n",
    "\n",
    "$$ H(not\\_short) = P(male)*log_2 \\frac{1}{P(male)} + P(female)*log_2 \\frac{1}{P(female)}  $$\n",
    "\n",
    "$$ = \\frac{10}{13}*log_2 \\frac{13}{10} + \\frac{3}{13}*log_2 \\frac{13}{3} = .779 $$\n",
    "\n",
    "Note that all the probabilities here are conditional on the criteria that you're assuming (short or not short). The weighted average of the two is this:\n",
    "\n",
    "$$ P(short) * H(short) + P(not\\_short) * H(not\\_short) = \\frac{7}{20} * .863 + \\frac{13}{20} * .779 = .809 $$\n",
    "\n",
    "So the entropy from this question would go from `0.971` to `0.809`. That's an improvement! Use the space below to calculate the entropy of the other criteria, because you also know whether the students are tall or medium."
   ]
  },
  {
   "cell_type": "code",
   "execution_count": 1,
   "metadata": {
    "run_control": {
     "frozen": false,
     "read_only": false
    }
   },
   "outputs": [],
   "source": [
    "from math import log2\n",
    "\n",
    "# Put your calculations below\n",
    "\n",
    "\n",
    "\n",
    "\n",
    "\n",
    "\n",
    "\n",
    "\n",
    "\n",
    "\n",
    "\n",
    "\n",
    "\n",
    "\n",
    "\n",
    "# The example solution is below here. Don't peek!\n",
    "\n",
    "\n",
    "\n"
   ]
  },
  {
   "cell_type": "code",
   "execution_count": 2,
   "metadata": {},
   "outputs": [
    {
     "name": "stdout",
     "output_type": "stream",
     "text": [
      "0.9280757477080679 0.9245112497836532\n"
     ]
    }
   ],
   "source": [
    "# Example solution\n",
    "\n",
    "# Tall\n",
    "H_tall = 4 / 5 * log2(5 / 4) + 1 / 5 * log2(5 / 1)\n",
    "H_not_tall = 8 / 15 * log2(15 / 8) + 7 / 15 * log2(15 / 7)\n",
    "\n",
    "entropy_tall = 5 / 20 * H_tall + 15 / 20 * H_not_tall\n",
    "\n",
    "\n",
    "# Medium\n",
    "H_medium = 6/8 * log2(8/6) + 2/8 * log2(8/2)\n",
    "H_not_medium = 6/12 * log2(12/6) + 6/12 * log2(12/6)\n",
    "\n",
    "entropy_medium = 8/20 * (H_medium) + 12/20 * (H_not_medium)\n",
    "\n",
    "print(entropy_tall, entropy_medium)"
   ]
  },
  {
   "cell_type": "markdown",
   "metadata": {
    "run_control": {
     "frozen": false,
     "read_only": false
    }
   },
   "source": [
    "You should have found entropies of `0.925` for medium and `0.928` for tall. Both of those entropies are higher. As you know, you want to prioritize the questions with the most information gain. Which one of these questions would that be?\n",
    "\n",
    "Asking if an individual is short provides the most information gain. Also, note that for all possible questions, you're still comparing with the same initial entropy value. So one way of seeing which question has the most information gain is to find the one with the lowest entropy. This makes sense when you think of entropy as uncertainty; the less uncertainty after a question, the more information you gained."
   ]
  },
  {
   "cell_type": "markdown",
   "metadata": {},
   "source": [
    "## Pseudocoding the algorithm\n",
    "\n",
    "*Pseudocode* is the process of writing the steps and logic that you would implement in code, but in normal language rather than in commands that a programming language could execute. It can be a useful way to chart out how you want to build an algorithm, and it's a common topic for technical interviews. Here you'll use pseudocode to explore the ID3 algorithm.\n",
    "\n",
    "Here is some reasonable pseudocode for ID3. This pseudocode will then be followed up with an explanation of the steps. The outcome for this variable will be `A` or `B`. An attribute is denoted as a<sub>i</sub>, and a value of that attribute is v<sub>i</sub>.\n",
    "\n",
    "\n",
    "<pre>\n",
    "Algorithm(Observations, Outcome, Attributes)\n",
    "    Create a root node.\n",
    "    If all observations are 'A', label root node 'A' and return.\n",
    "    If all observations are 'B', label root node 'B' and return.\n",
    "    If no attributes return the root note labeled with the most common Outcome.\n",
    "    Otherwise, start:\n",
    "        For each value v<sub>i</sub> of each attribute a<sub>i</sub>, calculate the entropy.\n",
    "        The attribute a<sub>i</sub> and value v<sub>i</sub> with the lowest entropy is the best rule.\n",
    "        The attribute for this node is then a<sub>i</sub>\n",
    "            Split the tree to below based on the rule a<sub>i</sub> = v<sub>i</sub>\n",
    "            Observations<sub>v<sub>i</sub></sub> is the subset of observations with value v<sub>i</sub>\n",
    "            If Observations<sub>v<sub>i</sub></sub> is empty cap with node labeled with most common Outcome\n",
    "            Else at the new node start a subtree (Observations<sub>v<sub>i</sub></sub>, Target Outcome, Attributes - {a<sub>i</sub>}) and repeat the algorithm\n",
    "</pre>\n",
    "\n",
    "Now, walk through this pseudocode algorithm in plain English, piece by piece.\n",
    "\n",
    "First, you create a root node. Simple enough—you have to start with something.\n",
    "\n",
    "The next two lines say that if you're already exclusively one class, just label with that class and you're done. Similarly, the following line says that if you don't have any attributes left, you're also done, labeling with the most common outcome.\n",
    "\n",
    "Then you get into the real algorithm. First, you have to find the best attribute by calculating entropies for all possible values. The attribute-value pair with the lowest entropy is then the best attribute. That's the attribute that you give to the node.\n",
    "\n",
    "You use that rule to split the node, creating subsets of observations. There are then two new nodes, each with a subset of the observations corresponding to the rule. If observations are null, then label with the dominant outcome.\n",
    "\n",
    "Otherwise, at each new node, start the algorithm again.\n",
    "\n",
    "This is how a decision tree actually functions. Understanding this will give you some insight into how this algorithm works and reveals several attributes of the algorithm. Firstly, the solution is not necessarily optimal. The tree can get stuck in local optima, just like with the gradient descent algorithm. It also has no way to work backward if it finds itself in an informationless space. You can add criteria to make it stop before the tree has grown to run out of attributes or all leaf nodes are single classes."
   ]
  },
  {
   "cell_type": "markdown",
   "metadata": {},
   "source": [
    "## Drill\n",
    "\n",
    "Look over the code for [this real ID3 algorithm in Python](https://github.com/NinjaSteph/DecisionTree/blob/master/sna2111_DecisionTree/DecisionTree.py). Note how well the author breaks up functionality into individual, reusable, and well-named helper functions. See if you can match the pseudocode steps to the code in this example."
   ]
  }
 ],
 "metadata": {
  "hide_input": false,
  "kernelspec": {
   "display_name": "Python 3",
   "language": "python",
   "name": "python3"
  },
  "language_info": {
   "codemirror_mode": {
    "name": "ipython",
    "version": 3
   },
   "file_extension": ".py",
   "mimetype": "text/x-python",
   "name": "python",
   "nbconvert_exporter": "python",
   "pygments_lexer": "ipython3",
   "version": "3.8.6"
  },
  "toc": {
   "colors": {
    "hover_highlight": "#DAA520",
    "running_highlight": "#FF0000",
    "selected_highlight": "#FFD700"
   },
   "moveMenuLeft": true,
   "nav_menu": {
    "height": "68px",
    "width": "252px"
   },
   "navigate_menu": true,
   "number_sections": true,
   "sideBar": true,
   "threshold": 4,
   "toc_cell": false,
   "toc_section_display": "block",
   "toc_window_display": false
  }
 },
 "nbformat": 4,
 "nbformat_minor": 2
}
