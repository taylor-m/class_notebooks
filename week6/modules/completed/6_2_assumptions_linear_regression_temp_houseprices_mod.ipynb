{
 "cells": [
  {
   "cell_type": "markdown",
   "metadata": {},
   "source": [
    "# Imports"
   ]
  },
  {
   "cell_type": "code",
   "execution_count": 1,
   "metadata": {},
   "outputs": [
    {
     "data": {
      "application/javascript": [
       "\n",
       "            setTimeout(function() {\n",
       "                var nbb_cell_id = 1;\n",
       "                var nbb_unformatted_code = \"%reload_ext nb_black\\nimport pandas as pd\\nimport numpy as np\\nfrom matplotlib import pyplot as plt\\nimport plotly\\nimport seaborn as sns\\n\\n%matplotlib inline\\nfrom scipy import stats\\nfrom sklearn.model_selection import train_test_split, cross_val_score\\nimport statsmodels.formula.api as smf\\nfrom sklearn.linear_model import LinearRegression\\nimport statsmodels.api as sm\\n\\nimport warnings\\n\\nwarnings.filterwarnings(action=\\\"ignore\\\")\";\n",
       "                var nbb_formatted_code = \"%reload_ext nb_black\\nimport pandas as pd\\nimport numpy as np\\nfrom matplotlib import pyplot as plt\\nimport plotly\\nimport seaborn as sns\\n\\n%matplotlib inline\\nfrom scipy import stats\\nfrom sklearn.model_selection import train_test_split, cross_val_score\\nimport statsmodels.formula.api as smf\\nfrom sklearn.linear_model import LinearRegression\\nimport statsmodels.api as sm\\n\\nimport warnings\\n\\nwarnings.filterwarnings(action=\\\"ignore\\\")\";\n",
       "                var nbb_cells = Jupyter.notebook.get_cells();\n",
       "                for (var i = 0; i < nbb_cells.length; ++i) {\n",
       "                    if (nbb_cells[i].input_prompt_number == nbb_cell_id) {\n",
       "                        if (nbb_cells[i].get_text() == nbb_unformatted_code) {\n",
       "                             nbb_cells[i].set_text(nbb_formatted_code);\n",
       "                        }\n",
       "                        break;\n",
       "                    }\n",
       "                }\n",
       "            }, 500);\n",
       "            "
      ],
      "text/plain": [
       "<IPython.core.display.Javascript object>"
      ]
     },
     "metadata": {},
     "output_type": "display_data"
    }
   ],
   "source": [
    "%reload_ext nb_black\n",
    "import pandas as pd\n",
    "import numpy as np\n",
    "from matplotlib import pyplot as plt\n",
    "import plotly\n",
    "import seaborn as sns\n",
    "\n",
    "%matplotlib inline\n",
    "from scipy import stats\n",
    "from sklearn.model_selection import train_test_split, cross_val_score\n",
    "import statsmodels.formula.api as smf\n",
    "from sklearn.linear_model import LinearRegression\n",
    "import statsmodels.api as sm\n",
    "\n",
    "import warnings\n",
    "\n",
    "warnings.filterwarnings(action=\"ignore\")"
   ]
  },
  {
   "cell_type": "code",
   "execution_count": 2,
   "metadata": {},
   "outputs": [
    {
     "data": {
      "application/javascript": [
       "\n",
       "            setTimeout(function() {\n",
       "                var nbb_cell_id = 2;\n",
       "                var nbb_unformatted_code = \"postgres_user = \\\"dsbc_student\\\"\\npostgres_pw = \\\"7*.8G9QH21\\\"\\npostgres_host = \\\"142.93.121.174\\\"\\npostgres_port = \\\"5432\\\"\\npostgres_db = \\\"weatherinszeged\\\"\\nconn_str = f\\\"postgresql://{postgres_user}:{postgres_pw}@{postgres_host}:{postgres_port}/{postgres_db}\\\"\\nquery = \\\"\\\"\\\"\\nSELECT *\\nFROM weatherinszeged\\n\\\"\\\"\\\"\\ndf = pd.read_sql_query(query, con=conn_str)\";\n",
       "                var nbb_formatted_code = \"postgres_user = \\\"dsbc_student\\\"\\npostgres_pw = \\\"7*.8G9QH21\\\"\\npostgres_host = \\\"142.93.121.174\\\"\\npostgres_port = \\\"5432\\\"\\npostgres_db = \\\"weatherinszeged\\\"\\nconn_str = f\\\"postgresql://{postgres_user}:{postgres_pw}@{postgres_host}:{postgres_port}/{postgres_db}\\\"\\nquery = \\\"\\\"\\\"\\nSELECT *\\nFROM weatherinszeged\\n\\\"\\\"\\\"\\ndf = pd.read_sql_query(query, con=conn_str)\";\n",
       "                var nbb_cells = Jupyter.notebook.get_cells();\n",
       "                for (var i = 0; i < nbb_cells.length; ++i) {\n",
       "                    if (nbb_cells[i].input_prompt_number == nbb_cell_id) {\n",
       "                        if (nbb_cells[i].get_text() == nbb_unformatted_code) {\n",
       "                             nbb_cells[i].set_text(nbb_formatted_code);\n",
       "                        }\n",
       "                        break;\n",
       "                    }\n",
       "                }\n",
       "            }, 500);\n",
       "            "
      ],
      "text/plain": [
       "<IPython.core.display.Javascript object>"
      ]
     },
     "metadata": {},
     "output_type": "display_data"
    }
   ],
   "source": [
    "postgres_user = \"dsbc_student\"\n",
    "postgres_pw = \"7*.8G9QH21\"\n",
    "postgres_host = \"142.93.121.174\"\n",
    "postgres_port = \"5432\"\n",
    "postgres_db = \"houseprices\"\n",
    "conn_str = f\"postgresql://{postgres_user}:{postgres_pw}@{postgres_host}:{postgres_port}/{postgres_db}\"\n",
    "query = \"\"\"\n",
    "SELECT *\n",
    "FROM houseprices\n",
    "\"\"\"\n",
    "df = pd.read_sql_query(query, con=conn_str)"
   ]
  },
  {
   "cell_type": "markdown",
   "metadata": {},
   "source": [
    "# Linear Regression Model"
   ]
  },
  {
   "cell_type": "code",
   "execution_count": 22,
   "metadata": {},
   "outputs": [
    {
     "data": {
      "application/javascript": [
       "\n",
       "            setTimeout(function() {\n",
       "                var nbb_cell_id = 22;\n",
       "                var nbb_unformatted_code = \"# variables for model features, target\\nX = df.drop(columns=[\\\"temperature\\\"])\\ny = df.temperature\\n\\nX_train, X_test, y_train, y_test = train_test_split(\\n    X, y)\";\n",
       "                var nbb_formatted_code = \"# variables for model features, target\\nX = df.drop(columns=[\\\"temperature\\\"])\\ny = df.temperature\\n\\nX_train, X_test, y_train, y_test = train_test_split(X, y)\";\n",
       "                var nbb_cells = Jupyter.notebook.get_cells();\n",
       "                for (var i = 0; i < nbb_cells.length; ++i) {\n",
       "                    if (nbb_cells[i].input_prompt_number == nbb_cell_id) {\n",
       "                        if (nbb_cells[i].get_text() == nbb_unformatted_code) {\n",
       "                             nbb_cells[i].set_text(nbb_formatted_code);\n",
       "                        }\n",
       "                        break;\n",
       "                    }\n",
       "                }\n",
       "            }, 500);\n",
       "            "
      ],
      "text/plain": [
       "<IPython.core.display.Javascript object>"
      ]
     },
     "metadata": {},
     "output_type": "display_data"
    }
   ],
   "source": [
    "df = df[[\"temperature\", \"humidity\", \"windspeed\", \"windbearing\", \"pressure\"]]\n",
    "\n",
    "# variables for model features, target\n",
    "X = df.drop(columns=[\"temperature\"])\n",
    "y = df.temperature\n",
    "\n",
    "X_train, X_test, y_train, y_test = train_test_split(\n",
    "    X, y)"
   ]
  },
  {
   "cell_type": "code",
   "execution_count": 23,
   "metadata": {},
   "outputs": [
    {
     "name": "stdout",
     "output_type": "stream",
     "text": [
      "0.4242315907398956\n",
      "0.40948558755363207\n"
     ]
    },
    {
     "data": {
      "application/javascript": [
       "\n",
       "            setTimeout(function() {\n",
       "                var nbb_cell_id = 23;\n",
       "                var nbb_unformatted_code = \"# create linear regression model\\nmodel = LinearRegression()\\nmodel.fit(X_train, y_train)\\n\\n# model test scores\\ntrain_score = model.score(X_train, y_train)\\ntest_score = model.score(X_test, y_test)\\n\\nprint(train_score)\\nprint(test_score)\";\n",
       "                var nbb_formatted_code = \"# create linear regression model\\nmodel = LinearRegression()\\nmodel.fit(X_train, y_train)\\n\\n# model test scores\\ntrain_score = model.score(X_train, y_train)\\ntest_score = model.score(X_test, y_test)\\n\\nprint(train_score)\\nprint(test_score)\";\n",
       "                var nbb_cells = Jupyter.notebook.get_cells();\n",
       "                for (var i = 0; i < nbb_cells.length; ++i) {\n",
       "                    if (nbb_cells[i].input_prompt_number == nbb_cell_id) {\n",
       "                        if (nbb_cells[i].get_text() == nbb_unformatted_code) {\n",
       "                             nbb_cells[i].set_text(nbb_formatted_code);\n",
       "                        }\n",
       "                        break;\n",
       "                    }\n",
       "                }\n",
       "            }, 500);\n",
       "            "
      ],
      "text/plain": [
       "<IPython.core.display.Javascript object>"
      ]
     },
     "metadata": {},
     "output_type": "display_data"
    }
   ],
   "source": [
    "# create linear regression model\n",
    "model = LinearRegression()\n",
    "model.fit(X_train, y_train)\n",
    "\n",
    "# model test scores\n",
    "train_score = model.score(X_train, y_train)\n",
    "test_score = model.score(X_test, y_test)\n",
    "\n",
    "print(train_score)\n",
    "print(test_score)"
   ]
  },
  {
   "cell_type": "markdown",
   "metadata": {},
   "source": [
    "# Gauss-Markov assumptions"
   ]
  },
  {
   "cell_type": "markdown",
   "metadata": {},
   "source": [
    "## Homoscedasticity"
   ]
  },
  {
   "cell_type": "code",
   "execution_count": 29,
   "metadata": {},
   "outputs": [
    {
     "data": {
      "application/javascript": [
       "\n",
       "            setTimeout(function() {\n",
       "                var nbb_cell_id = 29;\n",
       "                var nbb_unformatted_code = \"def plot_sced_test(df, target, features):\\n    for var in features:\\n        X = df[var]\\n        y = df[target]\\n\\n        X_train, X_test, y_train, y_test = train_test_split(\\n            X, y, test_size=0.2, random_state=28\\n        )\\n\\n        # Add a constant for the intercept\\n        # This will work but throw a warning.. to silence the warning you can pass X.values instead\\n        X_train_const = sm.add_constant(X_train)\\n        X_test_const = sm.add_constant(X_train)\\n\\n        lm_results = sm.OLS(y_train, X_train_const).fit()\\n        y_pred = lm_results.predict(X_test_const)\\n\\n        #     plt.scatter(X_train, y_train, alpha=0.1)\\n        #     plt.plot(X_train, y_pred, c=\\\"red\\\")\\n        #     plt.xlabel(var)\\n        #     plt.ylabel(\\\"Temperature\\\")\\n        #     plt.show()\\n\\n        #     lm_results.summary()\\n\\n        true_residuals = lm_results.resid\\n        rand_norm_residuals = np.random.normal(0, 3, len(y_train))\\n\\n        fig, axes = plt.subplots(1, 2, figsize=(10, 5))\\n        axes[0].scatter(X_train, rand_norm_residuals, alpha=0.2)\\n        axes[0].axhline(0, c=\\\"red\\\", alpha=0.5)\\n        axes[0].set_xlabel(var)\\n        axes[0].set_ylabel(\\\"Residual\\\")\\n        axes[0].set_title(\\\"What we want to see\\\")\\n\\n        axes[1].scatter(X_train, true_residuals, alpha=0.2)\\n        axes[1].axhline(0, c=\\\"red\\\", alpha=0.5)\\n        axes[1].set_xlabel(var)\\n        axes[1].set_ylabel(\\\"Residual\\\")\\n        axes[1].set_title(\\\"What we actually see\\\")\\n        plt.show()\";\n",
       "                var nbb_formatted_code = \"def plot_sced_test(df, target, features):\\n    for var in features:\\n        X = df[var]\\n        y = df[target]\\n\\n        X_train, X_test, y_train, y_test = train_test_split(\\n            X, y, test_size=0.2, random_state=28\\n        )\\n\\n        # Add a constant for the intercept\\n        # This will work but throw a warning.. to silence the warning you can pass X.values instead\\n        X_train_const = sm.add_constant(X_train)\\n        X_test_const = sm.add_constant(X_train)\\n\\n        lm_results = sm.OLS(y_train, X_train_const).fit()\\n        y_pred = lm_results.predict(X_test_const)\\n\\n        #     plt.scatter(X_train, y_train, alpha=0.1)\\n        #     plt.plot(X_train, y_pred, c=\\\"red\\\")\\n        #     plt.xlabel(var)\\n        #     plt.ylabel(\\\"Temperature\\\")\\n        #     plt.show()\\n\\n        #     lm_results.summary()\\n\\n        true_residuals = lm_results.resid\\n        rand_norm_residuals = np.random.normal(0, 3, len(y_train))\\n\\n        fig, axes = plt.subplots(1, 2, figsize=(10, 5))\\n        axes[0].scatter(X_train, rand_norm_residuals, alpha=0.2)\\n        axes[0].axhline(0, c=\\\"red\\\", alpha=0.5)\\n        axes[0].set_xlabel(var)\\n        axes[0].set_ylabel(\\\"Residual\\\")\\n        axes[0].set_title(\\\"What we want to see\\\")\\n\\n        axes[1].scatter(X_train, true_residuals, alpha=0.2)\\n        axes[1].axhline(0, c=\\\"red\\\", alpha=0.5)\\n        axes[1].set_xlabel(var)\\n        axes[1].set_ylabel(\\\"Residual\\\")\\n        axes[1].set_title(\\\"What we actually see\\\")\\n        plt.show()\";\n",
       "                var nbb_cells = Jupyter.notebook.get_cells();\n",
       "                for (var i = 0; i < nbb_cells.length; ++i) {\n",
       "                    if (nbb_cells[i].input_prompt_number == nbb_cell_id) {\n",
       "                        if (nbb_cells[i].get_text() == nbb_unformatted_code) {\n",
       "                             nbb_cells[i].set_text(nbb_formatted_code);\n",
       "                        }\n",
       "                        break;\n",
       "                    }\n",
       "                }\n",
       "            }, 500);\n",
       "            "
      ],
      "text/plain": [
       "<IPython.core.display.Javascript object>"
      ]
     },
     "metadata": {},
     "output_type": "display_data"
    }
   ],
   "source": [
    "def plot_sced_test(df, target, features):\n",
    "    for var in features:\n",
    "        X = df[var]\n",
    "        y = df[target]\n",
    "\n",
    "        X_train, X_test, y_train, y_test = train_test_split(\n",
    "            X, y, test_size=0.2, random_state=28\n",
    "        )\n",
    "\n",
    "        # Add a constant for the intercept\n",
    "        # This will work but throw a warning.. to silence the warning you can pass X.values instead\n",
    "        X_train_const = sm.add_constant(X_train)\n",
    "        X_test_const = sm.add_constant(X_train)\n",
    "\n",
    "        lm_results = sm.OLS(y_train, X_train_const).fit()\n",
    "        y_pred = lm_results.predict(X_test_const)\n",
    "\n",
    "        #     plt.scatter(X_train, y_train, alpha=0.1)\n",
    "        #     plt.plot(X_train, y_pred, c=\"red\")\n",
    "        #     plt.xlabel(var)\n",
    "        #     plt.ylabel(\"Temperature\")\n",
    "        #     plt.show()\n",
    "\n",
    "        #     lm_results.summary()\n",
    "\n",
    "        true_residuals = lm_results.resid\n",
    "        rand_norm_residuals = np.random.normal(0, 3, len(y_train))\n",
    "\n",
    "        fig, axes = plt.subplots(1, 2, figsize=(10, 5))\n",
    "        axes[0].scatter(X_train, rand_norm_residuals, alpha=0.2)\n",
    "        axes[0].axhline(0, c=\"red\", alpha=0.5)\n",
    "        axes[0].set_xlabel(var)\n",
    "        axes[0].set_ylabel(\"Residual\")\n",
    "        axes[0].set_title(\"What we want to see\")\n",
    "\n",
    "        axes[1].scatter(X_train, true_residuals, alpha=0.2)\n",
    "        axes[1].axhline(0, c=\"red\", alpha=0.5)\n",
    "        axes[1].set_xlabel(var)\n",
    "        axes[1].set_ylabel(\"Residual\")\n",
    "        axes[1].set_title(\"What we actually see\")\n",
    "        plt.show()"
   ]
  },
  {
   "cell_type": "markdown",
   "metadata": {},
   "source": [
    "> Humidity probably doesn't meet the homoscedasticity assumption\n",
    "---"
   ]
  },
  {
   "cell_type": "markdown",
   "metadata": {},
   "source": [
    "## Multicollinearity"
   ]
  },
  {
   "cell_type": "code",
   "execution_count": 30,
   "metadata": {},
   "outputs": [
    {
     "data": {
      "application/javascript": [
       "\n",
       "            setTimeout(function() {\n",
       "                var nbb_cell_id = 30;\n",
       "                var nbb_unformatted_code = \"import warnings\\nimport statsmodels.api as sm\\nfrom statsmodels.stats.outliers_influence import variance_inflation_factor\\n\\n\\ndef print_vif(x):\\n    \\\"\\\"\\\"Utility for checking multicollinearity assumption\\n    \\n    :param x: input features to check using VIF. This is assumed to be a pandas.DataFrame\\n    :return: nothing is returned the VIFs are printed as a pandas series\\n    \\\"\\\"\\\"\\n    # Silence numpy FutureWarning about .ptp\\n    with warnings.catch_warnings():\\n        warnings.simplefilter(\\\"ignore\\\")\\n        x = sm.add_constant(x)\\n    \\n    vifs = []\\n    for i in range(x.shape[1]):\\n        vif = variance_inflation_factor(x.values, i)\\n        vifs.append(vif)\\n\\n    print('VIF results\\\\n-------------------------------')\\n    print(pd.Series(vifs, index=x.columns))\\n    print('-------------------------------\\\\n')\";\n",
       "                var nbb_formatted_code = \"import warnings\\nimport statsmodels.api as sm\\nfrom statsmodels.stats.outliers_influence import variance_inflation_factor\\n\\n\\ndef print_vif(x):\\n    \\\"\\\"\\\"Utility for checking multicollinearity assumption\\n\\n    :param x: input features to check using VIF. This is assumed to be a pandas.DataFrame\\n    :return: nothing is returned the VIFs are printed as a pandas series\\n    \\\"\\\"\\\"\\n    # Silence numpy FutureWarning about .ptp\\n    with warnings.catch_warnings():\\n        warnings.simplefilter(\\\"ignore\\\")\\n        x = sm.add_constant(x)\\n\\n    vifs = []\\n    for i in range(x.shape[1]):\\n        vif = variance_inflation_factor(x.values, i)\\n        vifs.append(vif)\\n\\n    print(\\\"VIF results\\\\n-------------------------------\\\")\\n    print(pd.Series(vifs, index=x.columns))\\n    print(\\\"-------------------------------\\\\n\\\")\";\n",
       "                var nbb_cells = Jupyter.notebook.get_cells();\n",
       "                for (var i = 0; i < nbb_cells.length; ++i) {\n",
       "                    if (nbb_cells[i].input_prompt_number == nbb_cell_id) {\n",
       "                        if (nbb_cells[i].get_text() == nbb_unformatted_code) {\n",
       "                             nbb_cells[i].set_text(nbb_formatted_code);\n",
       "                        }\n",
       "                        break;\n",
       "                    }\n",
       "                }\n",
       "            }, 500);\n",
       "            "
      ],
      "text/plain": [
       "<IPython.core.display.Javascript object>"
      ]
     },
     "metadata": {},
     "output_type": "display_data"
    }
   ],
   "source": [
    "import warnings\n",
    "import statsmodels.api as sm\n",
    "from statsmodels.stats.outliers_influence import variance_inflation_factor\n",
    "\n",
    "\n",
    "def print_vif(x):\n",
    "    \"\"\"Utility for checking multicollinearity assumption\n",
    "    \n",
    "    :param x: input features to check using VIF. This is assumed to be a pandas.DataFrame\n",
    "    :return: nothing is returned the VIFs are printed as a pandas series\n",
    "    \"\"\"\n",
    "    # Silence numpy FutureWarning about .ptp\n",
    "    with warnings.catch_warnings():\n",
    "        warnings.simplefilter(\"ignore\")\n",
    "        x = sm.add_constant(x)\n",
    "    \n",
    "    vifs = []\n",
    "    for i in range(x.shape[1]):\n",
    "        vif = variance_inflation_factor(x.values, i)\n",
    "        vifs.append(vif)\n",
    "\n",
    "    print('VIF results\\n-------------------------------')\n",
    "    print(pd.Series(vifs, index=x.columns))\n",
    "    print('-------------------------------\\n')\n"
   ]
  },
  {
   "cell_type": "code",
   "execution_count": 33,
   "metadata": {},
   "outputs": [
    {
     "data": {
      "text/html": [
       "<div>\n",
       "<style scoped>\n",
       "    .dataframe tbody tr th:only-of-type {\n",
       "        vertical-align: middle;\n",
       "    }\n",
       "\n",
       "    .dataframe tbody tr th {\n",
       "        vertical-align: top;\n",
       "    }\n",
       "\n",
       "    .dataframe thead th {\n",
       "        text-align: right;\n",
       "    }\n",
       "</style>\n",
       "<table border=\"1\" class=\"dataframe\">\n",
       "  <thead>\n",
       "    <tr style=\"text-align: right;\">\n",
       "      <th></th>\n",
       "      <th>temperature</th>\n",
       "      <th>humidity</th>\n",
       "      <th>windspeed</th>\n",
       "      <th>windbearing</th>\n",
       "      <th>pressure</th>\n",
       "    </tr>\n",
       "  </thead>\n",
       "  <tbody>\n",
       "    <tr>\n",
       "      <th>0</th>\n",
       "      <td>9.472222</td>\n",
       "      <td>0.89</td>\n",
       "      <td>14.1197</td>\n",
       "      <td>251.0</td>\n",
       "      <td>1015.13</td>\n",
       "    </tr>\n",
       "    <tr>\n",
       "      <th>1</th>\n",
       "      <td>9.355556</td>\n",
       "      <td>0.86</td>\n",
       "      <td>14.2646</td>\n",
       "      <td>259.0</td>\n",
       "      <td>1015.63</td>\n",
       "    </tr>\n",
       "    <tr>\n",
       "      <th>2</th>\n",
       "      <td>9.377778</td>\n",
       "      <td>0.89</td>\n",
       "      <td>3.9284</td>\n",
       "      <td>204.0</td>\n",
       "      <td>1015.94</td>\n",
       "    </tr>\n",
       "    <tr>\n",
       "      <th>3</th>\n",
       "      <td>8.288889</td>\n",
       "      <td>0.83</td>\n",
       "      <td>14.1036</td>\n",
       "      <td>269.0</td>\n",
       "      <td>1016.41</td>\n",
       "    </tr>\n",
       "    <tr>\n",
       "      <th>4</th>\n",
       "      <td>8.755556</td>\n",
       "      <td>0.83</td>\n",
       "      <td>11.0446</td>\n",
       "      <td>259.0</td>\n",
       "      <td>1016.51</td>\n",
       "    </tr>\n",
       "    <tr>\n",
       "      <th>...</th>\n",
       "      <td>...</td>\n",
       "      <td>...</td>\n",
       "      <td>...</td>\n",
       "      <td>...</td>\n",
       "      <td>...</td>\n",
       "    </tr>\n",
       "    <tr>\n",
       "      <th>96448</th>\n",
       "      <td>26.016667</td>\n",
       "      <td>0.43</td>\n",
       "      <td>10.9963</td>\n",
       "      <td>31.0</td>\n",
       "      <td>1014.36</td>\n",
       "    </tr>\n",
       "    <tr>\n",
       "      <th>96449</th>\n",
       "      <td>24.583333</td>\n",
       "      <td>0.48</td>\n",
       "      <td>10.0947</td>\n",
       "      <td>20.0</td>\n",
       "      <td>1015.16</td>\n",
       "    </tr>\n",
       "    <tr>\n",
       "      <th>96450</th>\n",
       "      <td>22.038889</td>\n",
       "      <td>0.56</td>\n",
       "      <td>8.9838</td>\n",
       "      <td>30.0</td>\n",
       "      <td>1015.66</td>\n",
       "    </tr>\n",
       "    <tr>\n",
       "      <th>96451</th>\n",
       "      <td>21.522222</td>\n",
       "      <td>0.60</td>\n",
       "      <td>10.5294</td>\n",
       "      <td>20.0</td>\n",
       "      <td>1015.95</td>\n",
       "    </tr>\n",
       "    <tr>\n",
       "      <th>96452</th>\n",
       "      <td>20.438889</td>\n",
       "      <td>0.61</td>\n",
       "      <td>5.8765</td>\n",
       "      <td>39.0</td>\n",
       "      <td>1016.16</td>\n",
       "    </tr>\n",
       "  </tbody>\n",
       "</table>\n",
       "<p>96453 rows × 5 columns</p>\n",
       "</div>"
      ],
      "text/plain": [
       "       temperature  humidity  windspeed  windbearing  pressure\n",
       "0         9.472222      0.89    14.1197        251.0   1015.13\n",
       "1         9.355556      0.86    14.2646        259.0   1015.63\n",
       "2         9.377778      0.89     3.9284        204.0   1015.94\n",
       "3         8.288889      0.83    14.1036        269.0   1016.41\n",
       "4         8.755556      0.83    11.0446        259.0   1016.51\n",
       "...            ...       ...        ...          ...       ...\n",
       "96448    26.016667      0.43    10.9963         31.0   1014.36\n",
       "96449    24.583333      0.48    10.0947         20.0   1015.16\n",
       "96450    22.038889      0.56     8.9838         30.0   1015.66\n",
       "96451    21.522222      0.60    10.5294         20.0   1015.95\n",
       "96452    20.438889      0.61     5.8765         39.0   1016.16\n",
       "\n",
       "[96453 rows x 5 columns]"
      ]
     },
     "execution_count": 33,
     "metadata": {},
     "output_type": "execute_result"
    },
    {
     "data": {
      "application/javascript": [
       "\n",
       "            setTimeout(function() {\n",
       "                var nbb_cell_id = 33;\n",
       "                var nbb_unformatted_code = \"df\";\n",
       "                var nbb_formatted_code = \"df\";\n",
       "                var nbb_cells = Jupyter.notebook.get_cells();\n",
       "                for (var i = 0; i < nbb_cells.length; ++i) {\n",
       "                    if (nbb_cells[i].input_prompt_number == nbb_cell_id) {\n",
       "                        if (nbb_cells[i].get_text() == nbb_unformatted_code) {\n",
       "                             nbb_cells[i].set_text(nbb_formatted_code);\n",
       "                        }\n",
       "                        break;\n",
       "                    }\n",
       "                }\n",
       "            }, 500);\n",
       "            "
      ],
      "text/plain": [
       "<IPython.core.display.Javascript object>"
      ]
     },
     "metadata": {},
     "output_type": "display_data"
    }
   ],
   "source": [
    "df"
   ]
  },
  {
   "cell_type": "code",
   "execution_count": 34,
   "metadata": {
    "scrolled": true
   },
   "outputs": [
    {
     "name": "stdout",
     "output_type": "stream",
     "text": [
      "VIF results\n",
      "-------------------------------\n",
      "const          126.343413\n",
      "temperature      1.725857\n",
      "humidity         1.817287\n",
      "windspeed        1.104611\n",
      "windbearing      1.015138\n",
      "pressure         1.002632\n",
      "dtype: float64\n",
      "-------------------------------\n",
      "\n"
     ]
    },
    {
     "data": {
      "application/javascript": [
       "\n",
       "            setTimeout(function() {\n",
       "                var nbb_cell_id = 34;\n",
       "                var nbb_unformatted_code = \"print_vif(df[[\\\"temperature\\\", \\\"humidity\\\", \\\"windspeed\\\", \\\"windbearing\\\", \\\"pressure\\\"]])\";\n",
       "                var nbb_formatted_code = \"print_vif(df[[\\\"temperature\\\", \\\"humidity\\\", \\\"windspeed\\\", \\\"windbearing\\\", \\\"pressure\\\"]])\";\n",
       "                var nbb_cells = Jupyter.notebook.get_cells();\n",
       "                for (var i = 0; i < nbb_cells.length; ++i) {\n",
       "                    if (nbb_cells[i].input_prompt_number == nbb_cell_id) {\n",
       "                        if (nbb_cells[i].get_text() == nbb_unformatted_code) {\n",
       "                             nbb_cells[i].set_text(nbb_formatted_code);\n",
       "                        }\n",
       "                        break;\n",
       "                    }\n",
       "                }\n",
       "            }, 500);\n",
       "            "
      ],
      "text/plain": [
       "<IPython.core.display.Javascript object>"
      ]
     },
     "metadata": {},
     "output_type": "display_data"
    }
   ],
   "source": [
    "print_vif(df)"
   ]
  },
  {
   "cell_type": "markdown",
   "metadata": {},
   "source": [
    "> The multicollinearity fits the assumptions\n",
    "---"
   ]
  },
  {
   "cell_type": "markdown",
   "metadata": {},
   "source": [
    "## Expected error values"
   ]
  },
  {
   "cell_type": "code",
   "execution_count": 45,
   "metadata": {},
   "outputs": [
    {
     "data": {
      "application/javascript": [
       "\n",
       "            setTimeout(function() {\n",
       "                var nbb_cell_id = 45;\n",
       "                var nbb_unformatted_code = \"df = df[[\\\"temperature\\\", \\\"humidity\\\", \\\"windspeed\\\", \\\"windbearing\\\", \\\"pressure\\\"]]\\n\\n# variables for model features, target\\nX = df.drop(columns=[\\\"temperature\\\"])\\ny = df.temperature\\n\\nX_train, X_test, y_train, y_test = train_test_split(\\n    X, y)\";\n",
       "                var nbb_formatted_code = \"df = df[[\\\"temperature\\\", \\\"humidity\\\", \\\"windspeed\\\", \\\"windbearing\\\", \\\"pressure\\\"]]\\n\\n# variables for model features, target\\nX = df.drop(columns=[\\\"temperature\\\"])\\ny = df.temperature\\n\\nX_train, X_test, y_train, y_test = train_test_split(X, y)\";\n",
       "                var nbb_cells = Jupyter.notebook.get_cells();\n",
       "                for (var i = 0; i < nbb_cells.length; ++i) {\n",
       "                    if (nbb_cells[i].input_prompt_number == nbb_cell_id) {\n",
       "                        if (nbb_cells[i].get_text() == nbb_unformatted_code) {\n",
       "                             nbb_cells[i].set_text(nbb_formatted_code);\n",
       "                        }\n",
       "                        break;\n",
       "                    }\n",
       "                }\n",
       "            }, 500);\n",
       "            "
      ],
      "text/plain": [
       "<IPython.core.display.Javascript object>"
      ]
     },
     "metadata": {},
     "output_type": "display_data"
    }
   ],
   "source": [
    "df = df[[\"temperature\", \"humidity\", \"windspeed\", \"windbearing\", \"pressure\"]]\n",
    "\n",
    "# variables for model features, target\n",
    "X = df.drop(columns=[\"temperature\"])\n",
    "y = df.temperature\n",
    "\n",
    "X_train, X_test, y_train, y_test = train_test_split(X, y)"
   ]
  },
  {
   "cell_type": "code",
   "execution_count": 46,
   "metadata": {},
   "outputs": [
    {
     "name": "stdout",
     "output_type": "stream",
     "text": [
      "0.4225038504347296\n",
      "0.4147135979063832\n"
     ]
    },
    {
     "data": {
      "application/javascript": [
       "\n",
       "            setTimeout(function() {\n",
       "                var nbb_cell_id = 46;\n",
       "                var nbb_unformatted_code = \"# create linear regression model\\nmodel = LinearRegression()\\nmodel.fit(X_train, y_train)\\n\\n# model test scores\\ntrain_score = model.score(X_train, y_train)\\ntest_score = model.score(X_test, y_test)\\n\\nprint(train_score)\\nprint(test_score)\";\n",
       "                var nbb_formatted_code = \"# create linear regression model\\nmodel = LinearRegression()\\nmodel.fit(X_train, y_train)\\n\\n# model test scores\\ntrain_score = model.score(X_train, y_train)\\ntest_score = model.score(X_test, y_test)\\n\\nprint(train_score)\\nprint(test_score)\";\n",
       "                var nbb_cells = Jupyter.notebook.get_cells();\n",
       "                for (var i = 0; i < nbb_cells.length; ++i) {\n",
       "                    if (nbb_cells[i].input_prompt_number == nbb_cell_id) {\n",
       "                        if (nbb_cells[i].get_text() == nbb_unformatted_code) {\n",
       "                             nbb_cells[i].set_text(nbb_formatted_code);\n",
       "                        }\n",
       "                        break;\n",
       "                    }\n",
       "                }\n",
       "            }, 500);\n",
       "            "
      ],
      "text/plain": [
       "<IPython.core.display.Javascript object>"
      ]
     },
     "metadata": {},
     "output_type": "display_data"
    }
   ],
   "source": [
    "# create linear regression model\n",
    "model = LinearRegression()\n",
    "model.fit(X_train, y_train)\n",
    "\n",
    "# model test scores\n",
    "train_score = model.score(X_train, y_train)\n",
    "test_score = model.score(X_test, y_test)\n",
    "\n",
    "print(train_score)\n",
    "print(test_score)"
   ]
  },
  {
   "cell_type": "code",
   "execution_count": 47,
   "metadata": {},
   "outputs": [
    {
     "data": {
      "text/plain": [
       "-1.2643150249547367e-15"
      ]
     },
     "execution_count": 47,
     "metadata": {},
     "output_type": "execute_result"
    },
    {
     "data": {
      "application/javascript": [
       "\n",
       "            setTimeout(function() {\n",
       "                var nbb_cell_id = 47;\n",
       "                var nbb_unformatted_code = \"predictions = model.predict(X_train)\\nerrors = y_train - predictions\\nnp.mean(errors)\";\n",
       "                var nbb_formatted_code = \"predictions = model.predict(X_train)\\nerrors = y_train - predictions\\nnp.mean(errors)\";\n",
       "                var nbb_cells = Jupyter.notebook.get_cells();\n",
       "                for (var i = 0; i < nbb_cells.length; ++i) {\n",
       "                    if (nbb_cells[i].input_prompt_number == nbb_cell_id) {\n",
       "                        if (nbb_cells[i].get_text() == nbb_unformatted_code) {\n",
       "                             nbb_cells[i].set_text(nbb_formatted_code);\n",
       "                        }\n",
       "                        break;\n",
       "                    }\n",
       "                }\n",
       "            }, 500);\n",
       "            "
      ],
      "text/plain": [
       "<IPython.core.display.Javascript object>"
      ]
     },
     "metadata": {},
     "output_type": "display_data"
    }
   ],
   "source": [
    "predictions = model.predict(X_train)\n",
    "errors = y_train - predictions\n",
    "np.mean(errors)"
   ]
  },
  {
   "cell_type": "markdown",
   "metadata": {},
   "source": [
    "> expected error value meets the assumptions\n",
    "---"
   ]
  },
  {
   "cell_type": "markdown",
   "metadata": {},
   "source": [
    "## Uncorrelated error terms"
   ]
  },
  {
   "cell_type": "code",
   "execution_count": 48,
   "metadata": {},
   "outputs": [
    {
     "data": {
      "image/png": "[encoded data removed]",
      "text/plain": [
       "<Figure size 432x288 with 1 Axes>"
      ]
     },
     "metadata": {
      "needs_background": "light"
     },
     "output_type": "display_data"
    },
    {
     "data": {
      "application/javascript": [
       "\n",
       "            setTimeout(function() {\n",
       "                var nbb_cell_id = 48;\n",
       "                var nbb_unformatted_code = \"plt.plot(errors)\\nplt.show()\";\n",
       "                var nbb_formatted_code = \"plt.plot(errors)\\nplt.show()\";\n",
       "                var nbb_cells = Jupyter.notebook.get_cells();\n",
       "                for (var i = 0; i < nbb_cells.length; ++i) {\n",
       "                    if (nbb_cells[i].input_prompt_number == nbb_cell_id) {\n",
       "                        if (nbb_cells[i].get_text() == nbb_unformatted_code) {\n",
       "                             nbb_cells[i].set_text(nbb_formatted_code);\n",
       "                        }\n",
       "                        break;\n",
       "                    }\n",
       "                }\n",
       "            }, 500);\n",
       "            "
      ],
      "text/plain": [
       "<IPython.core.display.Javascript object>"
      ]
     },
     "metadata": {},
     "output_type": "display_data"
    }
   ],
   "source": [
    "plt.plot(errors)\n",
    "plt.show()"
   ]
  },
  {
   "cell_type": "code",
   "execution_count": 50,
   "metadata": {},
   "outputs": [
    {
     "data": {
      "image/png": "[encoded data removed]",
      "text/plain": [
       "<Figure size 432x288 with 1 Axes>"
      ]
     },
     "metadata": {
      "needs_background": "light"
     },
     "output_type": "display_data"
    },
    {
     "data": {
      "application/javascript": [
       "\n",
       "            setTimeout(function() {\n",
       "                var nbb_cell_id = 50;\n",
       "                var nbb_unformatted_code = \"from statsmodels.tsa.stattools import acf\\n\\nacf_data = acf(errors)\\n\\nplt.plot(acf_data[1:])\\nplt.show()\";\n",
       "                var nbb_formatted_code = \"from statsmodels.tsa.stattools import acf\\n\\nacf_data = acf(errors)\\n\\nplt.plot(acf_data[1:])\\nplt.show()\";\n",
       "                var nbb_cells = Jupyter.notebook.get_cells();\n",
       "                for (var i = 0; i < nbb_cells.length; ++i) {\n",
       "                    if (nbb_cells[i].input_prompt_number == nbb_cell_id) {\n",
       "                        if (nbb_cells[i].get_text() == nbb_unformatted_code) {\n",
       "                             nbb_cells[i].set_text(nbb_formatted_code);\n",
       "                        }\n",
       "                        break;\n",
       "                    }\n",
       "                }\n",
       "            }, 500);\n",
       "            "
      ],
      "text/plain": [
       "<IPython.core.display.Javascript object>"
      ]
     },
     "metadata": {},
     "output_type": "display_data"
    }
   ],
   "source": [
    "from statsmodels.tsa.stattools import acf\n",
    "\n",
    "acf_data = acf(errors)\n",
    "\n",
    "plt.plot(acf_data[1:])\n",
    "plt.show()"
   ]
  },
  {
   "cell_type": "markdown",
   "metadata": {},
   "source": [
    "> error doesn't show any patterns and the autocorrelation function values are very low; meets assumptions\n",
    "---"
   ]
  },
  {
   "cell_type": "markdown",
   "metadata": {},
   "source": [
    "## Normality of errors"
   ]
  },
  {
   "cell_type": "code",
   "execution_count": 49,
   "metadata": {},
   "outputs": [
    {
     "data": {
      "image/png": "[encoded data removed]",
      "text/plain": [
       "<Figure size 864x360 with 2 Axes>"
      ]
     },
     "metadata": {
      "needs_background": "light"
     },
     "output_type": "display_data"
    },
    {
     "data": {
      "application/javascript": [
       "\n",
       "            setTimeout(function() {\n",
       "                var nbb_cell_id = 49;\n",
       "                var nbb_unformatted_code = \"rand_nums = np.random.normal(np.mean(errors), np.std(errors), len(errors))\\n\\nplt.figure(figsize=(12,5))\\n\\nplt.subplot(1,2,1)\\nplt.scatter(np.sort(rand_nums), np.sort(errors)) # Sort the arrays\\nplt.xlabel(\\\"the normally distributed random variable\\\")\\nplt.ylabel(\\\"errors of the model\\\")\\nplt.title(\\\"QQ plot\\\")\\n\\nplt.subplot(1,2,2)\\nplt.hist(errors)\\nplt.xlabel(\\\"errors\\\")\\nplt.title(\\\"Histogram of the errors\\\")\\n\\nplt.tight_layout()\\nplt.show()\";\n",
       "                var nbb_formatted_code = \"rand_nums = np.random.normal(np.mean(errors), np.std(errors), len(errors))\\n\\nplt.figure(figsize=(12, 5))\\n\\nplt.subplot(1, 2, 1)\\nplt.scatter(np.sort(rand_nums), np.sort(errors))  # Sort the arrays\\nplt.xlabel(\\\"the normally distributed random variable\\\")\\nplt.ylabel(\\\"errors of the model\\\")\\nplt.title(\\\"QQ plot\\\")\\n\\nplt.subplot(1, 2, 2)\\nplt.hist(errors)\\nplt.xlabel(\\\"errors\\\")\\nplt.title(\\\"Histogram of the errors\\\")\\n\\nplt.tight_layout()\\nplt.show()\";\n",
       "                var nbb_cells = Jupyter.notebook.get_cells();\n",
       "                for (var i = 0; i < nbb_cells.length; ++i) {\n",
       "                    if (nbb_cells[i].input_prompt_number == nbb_cell_id) {\n",
       "                        if (nbb_cells[i].get_text() == nbb_unformatted_code) {\n",
       "                             nbb_cells[i].set_text(nbb_formatted_code);\n",
       "                        }\n",
       "                        break;\n",
       "                    }\n",
       "                }\n",
       "            }, 500);\n",
       "            "
      ],
      "text/plain": [
       "<IPython.core.display.Javascript object>"
      ]
     },
     "metadata": {},
     "output_type": "display_data"
    }
   ],
   "source": [
    "rand_nums = np.random.normal(np.mean(errors), np.std(errors), len(errors))\n",
    "\n",
    "plt.figure(figsize=(12,5))\n",
    "\n",
    "plt.subplot(1,2,1)\n",
    "plt.scatter(np.sort(rand_nums), np.sort(errors)) # Sort the arrays\n",
    "plt.xlabel(\"the normally distributed random variable\")\n",
    "plt.ylabel(\"errors of the model\")\n",
    "plt.title(\"QQ plot\")\n",
    "\n",
    "plt.subplot(1,2,2)\n",
    "plt.hist(errors)\n",
    "plt.xlabel(\"errors\")\n",
    "plt.title(\"Histogram of the errors\")\n",
    "\n",
    "plt.tight_layout()\n",
    "plt.show()\n"
   ]
  },
  {
   "cell_type": "markdown",
   "metadata": {},
   "source": [
    "> Errors fit normal distribution and fit the assumptions\n",
    "---"
   ]
  },
  {
   "cell_type": "markdown",
   "metadata": {},
   "source": [
    "# Interpreting Estimated Coefficients"
   ]
  },
  {
   "cell_type": "code",
   "execution_count": null,
   "metadata": {},
   "outputs": [],
   "source": []
  }
 ],
 "metadata": {
  "kernelspec": {
   "display_name": "Python 3",
   "language": "python",
   "name": "python3"
  },
  "language_info": {
   "codemirror_mode": {
    "name": "ipython",
    "version": 3
   },
   "file_extension": ".py",
   "mimetype": "text/x-python",
   "name": "python",
   "nbconvert_exporter": "python",
   "pygments_lexer": "ipython3",
   "version": "3.8.3"
  },
  "toc": {
   "base_numbering": 1,
   "nav_menu": {},
   "number_sections": false,
   "sideBar": true,
   "skip_h1_title": false,
   "title_cell": "Table of Contents",
   "title_sidebar": "Contents",
   "toc_cell": false,
   "toc_position": {},
   "toc_section_display": true,
   "toc_window_display": true
  }
 },
 "nbformat": 4,
 "nbformat_minor": 4
}
