{
 "cells": [
  {
   "cell_type": "code",
   "execution_count": 61,
   "metadata": {},
   "outputs": [
    {
     "data": {
      "application/javascript": [
       "\n",
       "            setTimeout(function() {\n",
       "                var nbb_cell_id = 61;\n",
       "                var nbb_unformatted_code = \"from sklearn.model_selection import train_test_split, cross_val_score\";\n",
       "                var nbb_formatted_code = \"from sklearn.model_selection import train_test_split, cross_val_score\";\n",
       "                var nbb_cells = Jupyter.notebook.get_cells();\n",
       "                for (var i = 0; i < nbb_cells.length; ++i) {\n",
       "                    if (nbb_cells[i].input_prompt_number == nbb_cell_id) {\n",
       "                        if (nbb_cells[i].get_text() == nbb_unformatted_code) {\n",
       "                             nbb_cells[i].set_text(nbb_formatted_code);\n",
       "                        }\n",
       "                        break;\n",
       "                    }\n",
       "                }\n",
       "            }, 500);\n",
       "            "
      ],
      "text/plain": [
       "<IPython.core.display.Javascript object>"
      ]
     },
     "metadata": {},
     "output_type": "display_data"
    },
    {
     "data": {
      "application/javascript": [
       "\n",
       "            setTimeout(function() {\n",
       "                var nbb_cell_id = 61;\n",
       "                var nbb_unformatted_code = \"from sklearn.model_selection import train_test_split, cross_val_score\";\n",
       "                var nbb_formatted_code = \"from sklearn.model_selection import train_test_split, cross_val_score\";\n",
       "                var nbb_cells = Jupyter.notebook.get_cells();\n",
       "                for (var i = 0; i < nbb_cells.length; ++i) {\n",
       "                    if (nbb_cells[i].input_prompt_number == nbb_cell_id) {\n",
       "                        if (nbb_cells[i].get_text() == nbb_unformatted_code) {\n",
       "                             nbb_cells[i].set_text(nbb_formatted_code);\n",
       "                        }\n",
       "                        break;\n",
       "                    }\n",
       "                }\n",
       "            }, 500);\n",
       "            "
      ],
      "text/plain": [
       "<IPython.core.display.Javascript object>"
      ]
     },
     "metadata": {},
     "output_type": "display_data"
    },
    {
     "data": {
      "application/javascript": [
       "\n",
       "            setTimeout(function() {\n",
       "                var nbb_cell_id = 61;\n",
       "                var nbb_unformatted_code = \"from sklearn.model_selection import train_test_split, cross_val_score\";\n",
       "                var nbb_formatted_code = \"from sklearn.model_selection import train_test_split, cross_val_score\";\n",
       "                var nbb_cells = Jupyter.notebook.get_cells();\n",
       "                for (var i = 0; i < nbb_cells.length; ++i) {\n",
       "                    if (nbb_cells[i].input_prompt_number == nbb_cell_id) {\n",
       "                        if (nbb_cells[i].get_text() == nbb_unformatted_code) {\n",
       "                             nbb_cells[i].set_text(nbb_formatted_code);\n",
       "                        }\n",
       "                        break;\n",
       "                    }\n",
       "                }\n",
       "            }, 500);\n",
       "            "
      ],
      "text/plain": [
       "<IPython.core.display.Javascript object>"
      ]
     },
     "metadata": {},
     "output_type": "display_data"
    },
    {
     "data": {
      "application/javascript": [
       "\n",
       "            setTimeout(function() {\n",
       "                var nbb_cell_id = 61;\n",
       "                var nbb_unformatted_code = \"from sklearn.model_selection import train_test_split, cross_val_score\";\n",
       "                var nbb_formatted_code = \"from sklearn.model_selection import train_test_split, cross_val_score\";\n",
       "                var nbb_cells = Jupyter.notebook.get_cells();\n",
       "                for (var i = 0; i < nbb_cells.length; ++i) {\n",
       "                    if (nbb_cells[i].input_prompt_number == nbb_cell_id) {\n",
       "                        if (nbb_cells[i].get_text() == nbb_unformatted_code) {\n",
       "                             nbb_cells[i].set_text(nbb_formatted_code);\n",
       "                        }\n",
       "                        break;\n",
       "                    }\n",
       "                }\n",
       "            }, 500);\n",
       "            "
      ],
      "text/plain": [
       "<IPython.core.display.Javascript object>"
      ]
     },
     "metadata": {},
     "output_type": "display_data"
    }
   ],
   "source": [
    "from sklearn.model_selection import train_test_split, cross_val_score"
   ]
  },
  {
   "cell_type": "code",
   "execution_count": 62,
   "metadata": {},
   "outputs": [
    {
     "data": {
      "application/javascript": [
       "\n",
       "            setTimeout(function() {\n",
       "                var nbb_cell_id = 62;\n",
       "                var nbb_unformatted_code = \"%reload_ext nb_black\\nimport pandas as pd\\nimport numpy as np\\nfrom matplotlib import pyplot as plt\\nimport plotly\\nimport seaborn as sns\\n\\n%matplotlib inline\\nfrom scipy import stats\\nimport statsmodels.api as sm\\nimport functions_pkg\";\n",
       "                var nbb_formatted_code = \"%reload_ext nb_black\\nimport pandas as pd\\nimport numpy as np\\nfrom matplotlib import pyplot as plt\\nimport plotly\\nimport seaborn as sns\\n\\n%matplotlib inline\\nfrom scipy import stats\\nimport statsmodels.api as sm\\nimport functions_pkg\";\n",
       "                var nbb_cells = Jupyter.notebook.get_cells();\n",
       "                for (var i = 0; i < nbb_cells.length; ++i) {\n",
       "                    if (nbb_cells[i].input_prompt_number == nbb_cell_id) {\n",
       "                        if (nbb_cells[i].get_text() == nbb_unformatted_code) {\n",
       "                             nbb_cells[i].set_text(nbb_formatted_code);\n",
       "                        }\n",
       "                        break;\n",
       "                    }\n",
       "                }\n",
       "            }, 500);\n",
       "            "
      ],
      "text/plain": [
       "<IPython.core.display.Javascript object>"
      ]
     },
     "metadata": {},
     "output_type": "display_data"
    },
    {
     "data": {
      "application/javascript": [
       "\n",
       "            setTimeout(function() {\n",
       "                var nbb_cell_id = 62;\n",
       "                var nbb_unformatted_code = \"%reload_ext nb_black\\nimport pandas as pd\\nimport numpy as np\\nfrom matplotlib import pyplot as plt\\nimport plotly\\nimport seaborn as sns\\n\\n%matplotlib inline\\nfrom scipy import stats\\nimport statsmodels.api as sm\\nimport functions_pkg\";\n",
       "                var nbb_formatted_code = \"%reload_ext nb_black\\nimport pandas as pd\\nimport numpy as np\\nfrom matplotlib import pyplot as plt\\nimport plotly\\nimport seaborn as sns\\n\\n%matplotlib inline\\nfrom scipy import stats\\nimport statsmodels.api as sm\\nimport functions_pkg\";\n",
       "                var nbb_cells = Jupyter.notebook.get_cells();\n",
       "                for (var i = 0; i < nbb_cells.length; ++i) {\n",
       "                    if (nbb_cells[i].input_prompt_number == nbb_cell_id) {\n",
       "                        if (nbb_cells[i].get_text() == nbb_unformatted_code) {\n",
       "                             nbb_cells[i].set_text(nbb_formatted_code);\n",
       "                        }\n",
       "                        break;\n",
       "                    }\n",
       "                }\n",
       "            }, 500);\n",
       "            "
      ],
      "text/plain": [
       "<IPython.core.display.Javascript object>"
      ]
     },
     "metadata": {},
     "output_type": "display_data"
    },
    {
     "data": {
      "application/javascript": [
       "\n",
       "            setTimeout(function() {\n",
       "                var nbb_cell_id = 62;\n",
       "                var nbb_unformatted_code = \"%reload_ext nb_black\\nimport pandas as pd\\nimport numpy as np\\nfrom matplotlib import pyplot as plt\\nimport plotly\\nimport seaborn as sns\\n\\n%matplotlib inline\\nfrom scipy import stats\\nimport statsmodels.api as sm\\nimport functions_pkg\";\n",
       "                var nbb_formatted_code = \"%reload_ext nb_black\\nimport pandas as pd\\nimport numpy as np\\nfrom matplotlib import pyplot as plt\\nimport plotly\\nimport seaborn as sns\\n\\n%matplotlib inline\\nfrom scipy import stats\\nimport statsmodels.api as sm\\nimport functions_pkg\";\n",
       "                var nbb_cells = Jupyter.notebook.get_cells();\n",
       "                for (var i = 0; i < nbb_cells.length; ++i) {\n",
       "                    if (nbb_cells[i].input_prompt_number == nbb_cell_id) {\n",
       "                        if (nbb_cells[i].get_text() == nbb_unformatted_code) {\n",
       "                             nbb_cells[i].set_text(nbb_formatted_code);\n",
       "                        }\n",
       "                        break;\n",
       "                    }\n",
       "                }\n",
       "            }, 500);\n",
       "            "
      ],
      "text/plain": [
       "<IPython.core.display.Javascript object>"
      ]
     },
     "metadata": {},
     "output_type": "display_data"
    },
    {
     "data": {
      "application/javascript": [
       "\n",
       "            setTimeout(function() {\n",
       "                var nbb_cell_id = 62;\n",
       "                var nbb_unformatted_code = \"%reload_ext nb_black\\nimport pandas as pd\\nimport numpy as np\\nfrom matplotlib import pyplot as plt\\nimport plotly\\nimport seaborn as sns\\n\\n%matplotlib inline\\nfrom scipy import stats\\nimport statsmodels.api as sm\\nimport functions_pkg\";\n",
       "                var nbb_formatted_code = \"%reload_ext nb_black\\nimport pandas as pd\\nimport numpy as np\\nfrom matplotlib import pyplot as plt\\nimport plotly\\nimport seaborn as sns\\n\\n%matplotlib inline\\nfrom scipy import stats\\nimport statsmodels.api as sm\\nimport functions_pkg\";\n",
       "                var nbb_cells = Jupyter.notebook.get_cells();\n",
       "                for (var i = 0; i < nbb_cells.length; ++i) {\n",
       "                    if (nbb_cells[i].input_prompt_number == nbb_cell_id) {\n",
       "                        if (nbb_cells[i].get_text() == nbb_unformatted_code) {\n",
       "                             nbb_cells[i].set_text(nbb_formatted_code);\n",
       "                        }\n",
       "                        break;\n",
       "                    }\n",
       "                }\n",
       "            }, 500);\n",
       "            "
      ],
      "text/plain": [
       "<IPython.core.display.Javascript object>"
      ]
     },
     "metadata": {},
     "output_type": "display_data"
    },
    {
     "data": {
      "application/javascript": [
       "\n",
       "            setTimeout(function() {\n",
       "                var nbb_cell_id = 62;\n",
       "                var nbb_unformatted_code = \"%reload_ext nb_black\\nimport pandas as pd\\nimport numpy as np\\nfrom matplotlib import pyplot as plt\\nimport plotly\\nimport seaborn as sns\\n\\n%matplotlib inline\\nfrom scipy import stats\\nimport statsmodels.api as sm\\nimport functions_pkg\";\n",
       "                var nbb_formatted_code = \"%reload_ext nb_black\\nimport pandas as pd\\nimport numpy as np\\nfrom matplotlib import pyplot as plt\\nimport plotly\\nimport seaborn as sns\\n\\n%matplotlib inline\\nfrom scipy import stats\\nimport statsmodels.api as sm\\nimport functions_pkg\";\n",
       "                var nbb_cells = Jupyter.notebook.get_cells();\n",
       "                for (var i = 0; i < nbb_cells.length; ++i) {\n",
       "                    if (nbb_cells[i].input_prompt_number == nbb_cell_id) {\n",
       "                        if (nbb_cells[i].get_text() == nbb_unformatted_code) {\n",
       "                             nbb_cells[i].set_text(nbb_formatted_code);\n",
       "                        }\n",
       "                        break;\n",
       "                    }\n",
       "                }\n",
       "            }, 500);\n",
       "            "
      ],
      "text/plain": [
       "<IPython.core.display.Javascript object>"
      ]
     },
     "metadata": {},
     "output_type": "display_data"
    }
   ],
   "source": [
    "%reload_ext nb_black\n",
    "import pandas as pd\n",
    "import numpy as np\n",
    "from matplotlib import pyplot as plt\n",
    "import plotly\n",
    "import seaborn as sns\n",
    "\n",
    "%matplotlib inline\n",
    "from scipy import stats\n",
    "import statsmodels.api as sm\n",
    "import functions_pkg"
   ]
  },
  {
   "cell_type": "markdown",
   "metadata": {},
   "source": [
    "# Weather"
   ]
  },
  {
   "cell_type": "code",
   "execution_count": 63,
   "metadata": {
    "scrolled": true
   },
   "outputs": [
    {
     "data": {
      "text/html": [
       "<div>\n",
       "<style scoped>\n",
       "    .dataframe tbody tr th:only-of-type {\n",
       "        vertical-align: middle;\n",
       "    }\n",
       "\n",
       "    .dataframe tbody tr th {\n",
       "        vertical-align: top;\n",
       "    }\n",
       "\n",
       "    .dataframe thead th {\n",
       "        text-align: right;\n",
       "    }\n",
       "</style>\n",
       "<table border=\"1\" class=\"dataframe\">\n",
       "  <thead>\n",
       "    <tr style=\"text-align: right;\">\n",
       "      <th></th>\n",
       "      <th>date</th>\n",
       "      <th>summary</th>\n",
       "      <th>preciptype</th>\n",
       "      <th>temperature</th>\n",
       "      <th>apparenttemperature</th>\n",
       "      <th>humidity</th>\n",
       "      <th>windspeed</th>\n",
       "      <th>windbearing</th>\n",
       "      <th>visibility</th>\n",
       "      <th>loudcover</th>\n",
       "      <th>pressure</th>\n",
       "      <th>dailysummary</th>\n",
       "    </tr>\n",
       "  </thead>\n",
       "  <tbody>\n",
       "    <tr>\n",
       "      <th>0</th>\n",
       "      <td>2006-03-31 22:00:00+00:00</td>\n",
       "      <td>Partly Cloudy</td>\n",
       "      <td>rain</td>\n",
       "      <td>9.472222</td>\n",
       "      <td>7.388889</td>\n",
       "      <td>0.89</td>\n",
       "      <td>14.1197</td>\n",
       "      <td>251.0</td>\n",
       "      <td>15.8263</td>\n",
       "      <td>0.0</td>\n",
       "      <td>1015.13</td>\n",
       "      <td>Partly cloudy throughout the day.</td>\n",
       "    </tr>\n",
       "    <tr>\n",
       "      <th>1</th>\n",
       "      <td>2006-03-31 23:00:00+00:00</td>\n",
       "      <td>Partly Cloudy</td>\n",
       "      <td>rain</td>\n",
       "      <td>9.355556</td>\n",
       "      <td>7.227778</td>\n",
       "      <td>0.86</td>\n",
       "      <td>14.2646</td>\n",
       "      <td>259.0</td>\n",
       "      <td>15.8263</td>\n",
       "      <td>0.0</td>\n",
       "      <td>1015.63</td>\n",
       "      <td>Partly cloudy throughout the day.</td>\n",
       "    </tr>\n",
       "    <tr>\n",
       "      <th>2</th>\n",
       "      <td>2006-04-01 00:00:00+00:00</td>\n",
       "      <td>Mostly Cloudy</td>\n",
       "      <td>rain</td>\n",
       "      <td>9.377778</td>\n",
       "      <td>9.377778</td>\n",
       "      <td>0.89</td>\n",
       "      <td>3.9284</td>\n",
       "      <td>204.0</td>\n",
       "      <td>14.9569</td>\n",
       "      <td>0.0</td>\n",
       "      <td>1015.94</td>\n",
       "      <td>Partly cloudy throughout the day.</td>\n",
       "    </tr>\n",
       "    <tr>\n",
       "      <th>3</th>\n",
       "      <td>2006-04-01 01:00:00+00:00</td>\n",
       "      <td>Partly Cloudy</td>\n",
       "      <td>rain</td>\n",
       "      <td>8.288889</td>\n",
       "      <td>5.944444</td>\n",
       "      <td>0.83</td>\n",
       "      <td>14.1036</td>\n",
       "      <td>269.0</td>\n",
       "      <td>15.8263</td>\n",
       "      <td>0.0</td>\n",
       "      <td>1016.41</td>\n",
       "      <td>Partly cloudy throughout the day.</td>\n",
       "    </tr>\n",
       "    <tr>\n",
       "      <th>4</th>\n",
       "      <td>2006-04-01 02:00:00+00:00</td>\n",
       "      <td>Mostly Cloudy</td>\n",
       "      <td>rain</td>\n",
       "      <td>8.755556</td>\n",
       "      <td>6.977778</td>\n",
       "      <td>0.83</td>\n",
       "      <td>11.0446</td>\n",
       "      <td>259.0</td>\n",
       "      <td>15.8263</td>\n",
       "      <td>0.0</td>\n",
       "      <td>1016.51</td>\n",
       "      <td>Partly cloudy throughout the day.</td>\n",
       "    </tr>\n",
       "  </tbody>\n",
       "</table>\n",
       "</div>"
      ],
      "text/plain": [
       "                       date        summary preciptype  temperature  \\\n",
       "0 2006-03-31 22:00:00+00:00  Partly Cloudy       rain     9.472222   \n",
       "1 2006-03-31 23:00:00+00:00  Partly Cloudy       rain     9.355556   \n",
       "2 2006-04-01 00:00:00+00:00  Mostly Cloudy       rain     9.377778   \n",
       "3 2006-04-01 01:00:00+00:00  Partly Cloudy       rain     8.288889   \n",
       "4 2006-04-01 02:00:00+00:00  Mostly Cloudy       rain     8.755556   \n",
       "\n",
       "   apparenttemperature  humidity  windspeed  windbearing  visibility  \\\n",
       "0             7.388889      0.89    14.1197        251.0     15.8263   \n",
       "1             7.227778      0.86    14.2646        259.0     15.8263   \n",
       "2             9.377778      0.89     3.9284        204.0     14.9569   \n",
       "3             5.944444      0.83    14.1036        269.0     15.8263   \n",
       "4             6.977778      0.83    11.0446        259.0     15.8263   \n",
       "\n",
       "   loudcover  pressure                       dailysummary  \n",
       "0        0.0   1015.13  Partly cloudy throughout the day.  \n",
       "1        0.0   1015.63  Partly cloudy throughout the day.  \n",
       "2        0.0   1015.94  Partly cloudy throughout the day.  \n",
       "3        0.0   1016.41  Partly cloudy throughout the day.  \n",
       "4        0.0   1016.51  Partly cloudy throughout the day.  "
      ]
     },
     "execution_count": 63,
     "metadata": {},
     "output_type": "execute_result"
    },
    {
     "data": {
      "application/javascript": [
       "\n",
       "            setTimeout(function() {\n",
       "                var nbb_cell_id = 63;\n",
       "                var nbb_unformatted_code = \"postgres_user = \\\"dsbc_student\\\"\\npostgres_pw = \\\"7*.8G9QH21\\\"\\npostgres_host = \\\"142.93.121.174\\\"\\npostgres_port = \\\"5432\\\"\\npostgres_db = \\\"weatherinszeged\\\"\\nconn_str = f\\\"postgresql://{postgres_user}:{postgres_pw}@{postgres_host}:{postgres_port}/{postgres_db}\\\"\\nquery = \\\"\\\"\\\"\\nSELECT *\\nFROM weatherinszeged\\n\\\"\\\"\\\"\\ndf = pd.read_sql_query(query, con=conn_str)\\ndf.head()\";\n",
       "                var nbb_formatted_code = \"postgres_user = \\\"dsbc_student\\\"\\npostgres_pw = \\\"7*.8G9QH21\\\"\\npostgres_host = \\\"142.93.121.174\\\"\\npostgres_port = \\\"5432\\\"\\npostgres_db = \\\"weatherinszeged\\\"\\nconn_str = f\\\"postgresql://{postgres_user}:{postgres_pw}@{postgres_host}:{postgres_port}/{postgres_db}\\\"\\nquery = \\\"\\\"\\\"\\nSELECT *\\nFROM weatherinszeged\\n\\\"\\\"\\\"\\ndf = pd.read_sql_query(query, con=conn_str)\\ndf.head()\";\n",
       "                var nbb_cells = Jupyter.notebook.get_cells();\n",
       "                for (var i = 0; i < nbb_cells.length; ++i) {\n",
       "                    if (nbb_cells[i].input_prompt_number == nbb_cell_id) {\n",
       "                        if (nbb_cells[i].get_text() == nbb_unformatted_code) {\n",
       "                             nbb_cells[i].set_text(nbb_formatted_code);\n",
       "                        }\n",
       "                        break;\n",
       "                    }\n",
       "                }\n",
       "            }, 500);\n",
       "            "
      ],
      "text/plain": [
       "<IPython.core.display.Javascript object>"
      ]
     },
     "metadata": {},
     "output_type": "display_data"
    },
    {
     "data": {
      "application/javascript": [
       "\n",
       "            setTimeout(function() {\n",
       "                var nbb_cell_id = 63;\n",
       "                var nbb_unformatted_code = \"postgres_user = \\\"dsbc_student\\\"\\npostgres_pw = \\\"7*.8G9QH21\\\"\\npostgres_host = \\\"142.93.121.174\\\"\\npostgres_port = \\\"5432\\\"\\npostgres_db = \\\"weatherinszeged\\\"\\nconn_str = f\\\"postgresql://{postgres_user}:{postgres_pw}@{postgres_host}:{postgres_port}/{postgres_db}\\\"\\nquery = \\\"\\\"\\\"\\nSELECT *\\nFROM weatherinszeged\\n\\\"\\\"\\\"\\ndf = pd.read_sql_query(query, con=conn_str)\\ndf.head()\";\n",
       "                var nbb_formatted_code = \"postgres_user = \\\"dsbc_student\\\"\\npostgres_pw = \\\"7*.8G9QH21\\\"\\npostgres_host = \\\"142.93.121.174\\\"\\npostgres_port = \\\"5432\\\"\\npostgres_db = \\\"weatherinszeged\\\"\\nconn_str = f\\\"postgresql://{postgres_user}:{postgres_pw}@{postgres_host}:{postgres_port}/{postgres_db}\\\"\\nquery = \\\"\\\"\\\"\\nSELECT *\\nFROM weatherinszeged\\n\\\"\\\"\\\"\\ndf = pd.read_sql_query(query, con=conn_str)\\ndf.head()\";\n",
       "                var nbb_cells = Jupyter.notebook.get_cells();\n",
       "                for (var i = 0; i < nbb_cells.length; ++i) {\n",
       "                    if (nbb_cells[i].input_prompt_number == nbb_cell_id) {\n",
       "                        if (nbb_cells[i].get_text() == nbb_unformatted_code) {\n",
       "                             nbb_cells[i].set_text(nbb_formatted_code);\n",
       "                        }\n",
       "                        break;\n",
       "                    }\n",
       "                }\n",
       "            }, 500);\n",
       "            "
      ],
      "text/plain": [
       "<IPython.core.display.Javascript object>"
      ]
     },
     "metadata": {},
     "output_type": "display_data"
    },
    {
     "data": {
      "application/javascript": [
       "\n",
       "            setTimeout(function() {\n",
       "                var nbb_cell_id = 63;\n",
       "                var nbb_unformatted_code = \"postgres_user = \\\"dsbc_student\\\"\\npostgres_pw = \\\"7*.8G9QH21\\\"\\npostgres_host = \\\"142.93.121.174\\\"\\npostgres_port = \\\"5432\\\"\\npostgres_db = \\\"weatherinszeged\\\"\\nconn_str = f\\\"postgresql://{postgres_user}:{postgres_pw}@{postgres_host}:{postgres_port}/{postgres_db}\\\"\\nquery = \\\"\\\"\\\"\\nSELECT *\\nFROM weatherinszeged\\n\\\"\\\"\\\"\\ndf = pd.read_sql_query(query, con=conn_str)\\ndf.head()\";\n",
       "                var nbb_formatted_code = \"postgres_user = \\\"dsbc_student\\\"\\npostgres_pw = \\\"7*.8G9QH21\\\"\\npostgres_host = \\\"142.93.121.174\\\"\\npostgres_port = \\\"5432\\\"\\npostgres_db = \\\"weatherinszeged\\\"\\nconn_str = f\\\"postgresql://{postgres_user}:{postgres_pw}@{postgres_host}:{postgres_port}/{postgres_db}\\\"\\nquery = \\\"\\\"\\\"\\nSELECT *\\nFROM weatherinszeged\\n\\\"\\\"\\\"\\ndf = pd.read_sql_query(query, con=conn_str)\\ndf.head()\";\n",
       "                var nbb_cells = Jupyter.notebook.get_cells();\n",
       "                for (var i = 0; i < nbb_cells.length; ++i) {\n",
       "                    if (nbb_cells[i].input_prompt_number == nbb_cell_id) {\n",
       "                        if (nbb_cells[i].get_text() == nbb_unformatted_code) {\n",
       "                             nbb_cells[i].set_text(nbb_formatted_code);\n",
       "                        }\n",
       "                        break;\n",
       "                    }\n",
       "                }\n",
       "            }, 500);\n",
       "            "
      ],
      "text/plain": [
       "<IPython.core.display.Javascript object>"
      ]
     },
     "metadata": {},
     "output_type": "display_data"
    },
    {
     "data": {
      "application/javascript": [
       "\n",
       "            setTimeout(function() {\n",
       "                var nbb_cell_id = 63;\n",
       "                var nbb_unformatted_code = \"postgres_user = \\\"dsbc_student\\\"\\npostgres_pw = \\\"7*.8G9QH21\\\"\\npostgres_host = \\\"142.93.121.174\\\"\\npostgres_port = \\\"5432\\\"\\npostgres_db = \\\"weatherinszeged\\\"\\nconn_str = f\\\"postgresql://{postgres_user}:{postgres_pw}@{postgres_host}:{postgres_port}/{postgres_db}\\\"\\nquery = \\\"\\\"\\\"\\nSELECT *\\nFROM weatherinszeged\\n\\\"\\\"\\\"\\ndf = pd.read_sql_query(query, con=conn_str)\\ndf.head()\";\n",
       "                var nbb_formatted_code = \"postgres_user = \\\"dsbc_student\\\"\\npostgres_pw = \\\"7*.8G9QH21\\\"\\npostgres_host = \\\"142.93.121.174\\\"\\npostgres_port = \\\"5432\\\"\\npostgres_db = \\\"weatherinszeged\\\"\\nconn_str = f\\\"postgresql://{postgres_user}:{postgres_pw}@{postgres_host}:{postgres_port}/{postgres_db}\\\"\\nquery = \\\"\\\"\\\"\\nSELECT *\\nFROM weatherinszeged\\n\\\"\\\"\\\"\\ndf = pd.read_sql_query(query, con=conn_str)\\ndf.head()\";\n",
       "                var nbb_cells = Jupyter.notebook.get_cells();\n",
       "                for (var i = 0; i < nbb_cells.length; ++i) {\n",
       "                    if (nbb_cells[i].input_prompt_number == nbb_cell_id) {\n",
       "                        if (nbb_cells[i].get_text() == nbb_unformatted_code) {\n",
       "                             nbb_cells[i].set_text(nbb_formatted_code);\n",
       "                        }\n",
       "                        break;\n",
       "                    }\n",
       "                }\n",
       "            }, 500);\n",
       "            "
      ],
      "text/plain": [
       "<IPython.core.display.Javascript object>"
      ]
     },
     "metadata": {},
     "output_type": "display_data"
    },
    {
     "data": {
      "application/javascript": [
       "\n",
       "            setTimeout(function() {\n",
       "                var nbb_cell_id = 63;\n",
       "                var nbb_unformatted_code = \"postgres_user = \\\"dsbc_student\\\"\\npostgres_pw = \\\"7*.8G9QH21\\\"\\npostgres_host = \\\"142.93.121.174\\\"\\npostgres_port = \\\"5432\\\"\\npostgres_db = \\\"weatherinszeged\\\"\\nconn_str = f\\\"postgresql://{postgres_user}:{postgres_pw}@{postgres_host}:{postgres_port}/{postgres_db}\\\"\\nquery = \\\"\\\"\\\"\\nSELECT *\\nFROM weatherinszeged\\n\\\"\\\"\\\"\\ndf = pd.read_sql_query(query, con=conn_str)\\ndf.head()\";\n",
       "                var nbb_formatted_code = \"postgres_user = \\\"dsbc_student\\\"\\npostgres_pw = \\\"7*.8G9QH21\\\"\\npostgres_host = \\\"142.93.121.174\\\"\\npostgres_port = \\\"5432\\\"\\npostgres_db = \\\"weatherinszeged\\\"\\nconn_str = f\\\"postgresql://{postgres_user}:{postgres_pw}@{postgres_host}:{postgres_port}/{postgres_db}\\\"\\nquery = \\\"\\\"\\\"\\nSELECT *\\nFROM weatherinszeged\\n\\\"\\\"\\\"\\ndf = pd.read_sql_query(query, con=conn_str)\\ndf.head()\";\n",
       "                var nbb_cells = Jupyter.notebook.get_cells();\n",
       "                for (var i = 0; i < nbb_cells.length; ++i) {\n",
       "                    if (nbb_cells[i].input_prompt_number == nbb_cell_id) {\n",
       "                        if (nbb_cells[i].get_text() == nbb_unformatted_code) {\n",
       "                             nbb_cells[i].set_text(nbb_formatted_code);\n",
       "                        }\n",
       "                        break;\n",
       "                    }\n",
       "                }\n",
       "            }, 500);\n",
       "            "
      ],
      "text/plain": [
       "<IPython.core.display.Javascript object>"
      ]
     },
     "metadata": {},
     "output_type": "display_data"
    }
   ],
   "source": [
    "postgres_user = \"dsbc_student\"\n",
    "postgres_pw = \"7*.8G9QH21\"\n",
    "postgres_host = \"142.93.121.174\"\n",
    "postgres_port = \"5432\"\n",
    "postgres_db = \"weatherinszeged\"\n",
    "conn_str = f\"postgresql://{postgres_user}:{postgres_pw}@{postgres_host}:{postgres_port}/{postgres_db}\"\n",
    "query = \"\"\"\n",
    "SELECT *\n",
    "FROM weatherinszeged\n",
    "\"\"\"\n",
    "df = pd.read_sql_query(query, con=conn_str)\n",
    "df.head()"
   ]
  },
  {
   "cell_type": "code",
   "execution_count": 64,
   "metadata": {},
   "outputs": [
    {
     "data": {
      "application/javascript": [
       "\n",
       "            setTimeout(function() {\n",
       "                var nbb_cell_id = 64;\n",
       "                var nbb_unformatted_code = \"# create new feature for difference in apparent temp  and temp\\ndf[\\\"temp_diff\\\"] = df.apparenttemperature - df.temperature\\n\\n# create feature for humidity windspeed interaction\\ndf[\\\"int_term\\\"] = df.humidity * df.windspeed\";\n",
       "                var nbb_formatted_code = \"# create new feature for difference in apparent temp  and temp\\ndf[\\\"temp_diff\\\"] = df.apparenttemperature - df.temperature\\n\\n# create feature for humidity windspeed interaction\\ndf[\\\"int_term\\\"] = df.humidity * df.windspeed\";\n",
       "                var nbb_cells = Jupyter.notebook.get_cells();\n",
       "                for (var i = 0; i < nbb_cells.length; ++i) {\n",
       "                    if (nbb_cells[i].input_prompt_number == nbb_cell_id) {\n",
       "                        if (nbb_cells[i].get_text() == nbb_unformatted_code) {\n",
       "                             nbb_cells[i].set_text(nbb_formatted_code);\n",
       "                        }\n",
       "                        break;\n",
       "                    }\n",
       "                }\n",
       "            }, 500);\n",
       "            "
      ],
      "text/plain": [
       "<IPython.core.display.Javascript object>"
      ]
     },
     "metadata": {},
     "output_type": "display_data"
    },
    {
     "data": {
      "application/javascript": [
       "\n",
       "            setTimeout(function() {\n",
       "                var nbb_cell_id = 64;\n",
       "                var nbb_unformatted_code = \"# create new feature for difference in apparent temp  and temp\\ndf[\\\"temp_diff\\\"] = df.apparenttemperature - df.temperature\\n\\n# create feature for humidity windspeed interaction\\ndf[\\\"int_term\\\"] = df.humidity * df.windspeed\";\n",
       "                var nbb_formatted_code = \"# create new feature for difference in apparent temp  and temp\\ndf[\\\"temp_diff\\\"] = df.apparenttemperature - df.temperature\\n\\n# create feature for humidity windspeed interaction\\ndf[\\\"int_term\\\"] = df.humidity * df.windspeed\";\n",
       "                var nbb_cells = Jupyter.notebook.get_cells();\n",
       "                for (var i = 0; i < nbb_cells.length; ++i) {\n",
       "                    if (nbb_cells[i].input_prompt_number == nbb_cell_id) {\n",
       "                        if (nbb_cells[i].get_text() == nbb_unformatted_code) {\n",
       "                             nbb_cells[i].set_text(nbb_formatted_code);\n",
       "                        }\n",
       "                        break;\n",
       "                    }\n",
       "                }\n",
       "            }, 500);\n",
       "            "
      ],
      "text/plain": [
       "<IPython.core.display.Javascript object>"
      ]
     },
     "metadata": {},
     "output_type": "display_data"
    },
    {
     "data": {
      "application/javascript": [
       "\n",
       "            setTimeout(function() {\n",
       "                var nbb_cell_id = 64;\n",
       "                var nbb_unformatted_code = \"# create new feature for difference in apparent temp  and temp\\ndf[\\\"temp_diff\\\"] = df.apparenttemperature - df.temperature\\n\\n# create feature for humidity windspeed interaction\\ndf[\\\"int_term\\\"] = df.humidity * df.windspeed\";\n",
       "                var nbb_formatted_code = \"# create new feature for difference in apparent temp  and temp\\ndf[\\\"temp_diff\\\"] = df.apparenttemperature - df.temperature\\n\\n# create feature for humidity windspeed interaction\\ndf[\\\"int_term\\\"] = df.humidity * df.windspeed\";\n",
       "                var nbb_cells = Jupyter.notebook.get_cells();\n",
       "                for (var i = 0; i < nbb_cells.length; ++i) {\n",
       "                    if (nbb_cells[i].input_prompt_number == nbb_cell_id) {\n",
       "                        if (nbb_cells[i].get_text() == nbb_unformatted_code) {\n",
       "                             nbb_cells[i].set_text(nbb_formatted_code);\n",
       "                        }\n",
       "                        break;\n",
       "                    }\n",
       "                }\n",
       "            }, 500);\n",
       "            "
      ],
      "text/plain": [
       "<IPython.core.display.Javascript object>"
      ]
     },
     "metadata": {},
     "output_type": "display_data"
    },
    {
     "data": {
      "application/javascript": [
       "\n",
       "            setTimeout(function() {\n",
       "                var nbb_cell_id = 64;\n",
       "                var nbb_unformatted_code = \"# create new feature for difference in apparent temp  and temp\\ndf[\\\"temp_diff\\\"] = df.apparenttemperature - df.temperature\\n\\n# create feature for humidity windspeed interaction\\ndf[\\\"int_term\\\"] = df.humidity * df.windspeed\";\n",
       "                var nbb_formatted_code = \"# create new feature for difference in apparent temp  and temp\\ndf[\\\"temp_diff\\\"] = df.apparenttemperature - df.temperature\\n\\n# create feature for humidity windspeed interaction\\ndf[\\\"int_term\\\"] = df.humidity * df.windspeed\";\n",
       "                var nbb_cells = Jupyter.notebook.get_cells();\n",
       "                for (var i = 0; i < nbb_cells.length; ++i) {\n",
       "                    if (nbb_cells[i].input_prompt_number == nbb_cell_id) {\n",
       "                        if (nbb_cells[i].get_text() == nbb_unformatted_code) {\n",
       "                             nbb_cells[i].set_text(nbb_formatted_code);\n",
       "                        }\n",
       "                        break;\n",
       "                    }\n",
       "                }\n",
       "            }, 500);\n",
       "            "
      ],
      "text/plain": [
       "<IPython.core.display.Javascript object>"
      ]
     },
     "metadata": {},
     "output_type": "display_data"
    },
    {
     "data": {
      "application/javascript": [
       "\n",
       "            setTimeout(function() {\n",
       "                var nbb_cell_id = 64;\n",
       "                var nbb_unformatted_code = \"# create new feature for difference in apparent temp  and temp\\ndf[\\\"temp_diff\\\"] = df.apparenttemperature - df.temperature\\n\\n# create feature for humidity windspeed interaction\\ndf[\\\"int_term\\\"] = df.humidity * df.windspeed\";\n",
       "                var nbb_formatted_code = \"# create new feature for difference in apparent temp  and temp\\ndf[\\\"temp_diff\\\"] = df.apparenttemperature - df.temperature\\n\\n# create feature for humidity windspeed interaction\\ndf[\\\"int_term\\\"] = df.humidity * df.windspeed\";\n",
       "                var nbb_cells = Jupyter.notebook.get_cells();\n",
       "                for (var i = 0; i < nbb_cells.length; ++i) {\n",
       "                    if (nbb_cells[i].input_prompt_number == nbb_cell_id) {\n",
       "                        if (nbb_cells[i].get_text() == nbb_unformatted_code) {\n",
       "                             nbb_cells[i].set_text(nbb_formatted_code);\n",
       "                        }\n",
       "                        break;\n",
       "                    }\n",
       "                }\n",
       "            }, 500);\n",
       "            "
      ],
      "text/plain": [
       "<IPython.core.display.Javascript object>"
      ]
     },
     "metadata": {},
     "output_type": "display_data"
    }
   ],
   "source": [
    "# create new feature for difference in apparent temp  and temp\n",
    "df[\"temp_diff\"] = df.apparenttemperature - df.temperature\n",
    "\n",
    "# create feature for humidity windspeed interaction\n",
    "df[\"int_term\"] = df.humidity * df.windspeed"
   ]
  },
  {
   "cell_type": "code",
   "execution_count": 65,
   "metadata": {},
   "outputs": [
    {
     "data": {
      "application/javascript": [
       "\n",
       "            setTimeout(function() {\n",
       "                var nbb_cell_id = 65;\n",
       "                var nbb_unformatted_code = \"# create vars for model\\nX = df[[\\\"humidity\\\", \\\"windspeed\\\"]]\\ny = df.temp_diff\\n\\nX_train, X_test, y_train, y_test = train_test_split(X, y, random_state=28)\";\n",
       "                var nbb_formatted_code = \"# create vars for model\\nX = df[[\\\"humidity\\\", \\\"windspeed\\\"]]\\ny = df.temp_diff\\n\\nX_train, X_test, y_train, y_test = train_test_split(X, y, random_state=28)\";\n",
       "                var nbb_cells = Jupyter.notebook.get_cells();\n",
       "                for (var i = 0; i < nbb_cells.length; ++i) {\n",
       "                    if (nbb_cells[i].input_prompt_number == nbb_cell_id) {\n",
       "                        if (nbb_cells[i].get_text() == nbb_unformatted_code) {\n",
       "                             nbb_cells[i].set_text(nbb_formatted_code);\n",
       "                        }\n",
       "                        break;\n",
       "                    }\n",
       "                }\n",
       "            }, 500);\n",
       "            "
      ],
      "text/plain": [
       "<IPython.core.display.Javascript object>"
      ]
     },
     "metadata": {},
     "output_type": "display_data"
    },
    {
     "data": {
      "application/javascript": [
       "\n",
       "            setTimeout(function() {\n",
       "                var nbb_cell_id = 65;\n",
       "                var nbb_unformatted_code = \"# create vars for model\\nX = df[[\\\"humidity\\\", \\\"windspeed\\\"]]\\ny = df.temp_diff\\n\\nX_train, X_test, y_train, y_test = train_test_split(X, y, random_state=28)\";\n",
       "                var nbb_formatted_code = \"# create vars for model\\nX = df[[\\\"humidity\\\", \\\"windspeed\\\"]]\\ny = df.temp_diff\\n\\nX_train, X_test, y_train, y_test = train_test_split(X, y, random_state=28)\";\n",
       "                var nbb_cells = Jupyter.notebook.get_cells();\n",
       "                for (var i = 0; i < nbb_cells.length; ++i) {\n",
       "                    if (nbb_cells[i].input_prompt_number == nbb_cell_id) {\n",
       "                        if (nbb_cells[i].get_text() == nbb_unformatted_code) {\n",
       "                             nbb_cells[i].set_text(nbb_formatted_code);\n",
       "                        }\n",
       "                        break;\n",
       "                    }\n",
       "                }\n",
       "            }, 500);\n",
       "            "
      ],
      "text/plain": [
       "<IPython.core.display.Javascript object>"
      ]
     },
     "metadata": {},
     "output_type": "display_data"
    },
    {
     "data": {
      "application/javascript": [
       "\n",
       "            setTimeout(function() {\n",
       "                var nbb_cell_id = 65;\n",
       "                var nbb_unformatted_code = \"# create vars for model\\nX = df[[\\\"humidity\\\", \\\"windspeed\\\"]]\\ny = df.temp_diff\\n\\nX_train, X_test, y_train, y_test = train_test_split(X, y, random_state=28)\";\n",
       "                var nbb_formatted_code = \"# create vars for model\\nX = df[[\\\"humidity\\\", \\\"windspeed\\\"]]\\ny = df.temp_diff\\n\\nX_train, X_test, y_train, y_test = train_test_split(X, y, random_state=28)\";\n",
       "                var nbb_cells = Jupyter.notebook.get_cells();\n",
       "                for (var i = 0; i < nbb_cells.length; ++i) {\n",
       "                    if (nbb_cells[i].input_prompt_number == nbb_cell_id) {\n",
       "                        if (nbb_cells[i].get_text() == nbb_unformatted_code) {\n",
       "                             nbb_cells[i].set_text(nbb_formatted_code);\n",
       "                        }\n",
       "                        break;\n",
       "                    }\n",
       "                }\n",
       "            }, 500);\n",
       "            "
      ],
      "text/plain": [
       "<IPython.core.display.Javascript object>"
      ]
     },
     "metadata": {},
     "output_type": "display_data"
    },
    {
     "data": {
      "application/javascript": [
       "\n",
       "            setTimeout(function() {\n",
       "                var nbb_cell_id = 65;\n",
       "                var nbb_unformatted_code = \"# create vars for model\\nX = df[[\\\"humidity\\\", \\\"windspeed\\\"]]\\ny = df.temp_diff\\n\\nX_train, X_test, y_train, y_test = train_test_split(X, y, random_state=28)\";\n",
       "                var nbb_formatted_code = \"# create vars for model\\nX = df[[\\\"humidity\\\", \\\"windspeed\\\"]]\\ny = df.temp_diff\\n\\nX_train, X_test, y_train, y_test = train_test_split(X, y, random_state=28)\";\n",
       "                var nbb_cells = Jupyter.notebook.get_cells();\n",
       "                for (var i = 0; i < nbb_cells.length; ++i) {\n",
       "                    if (nbb_cells[i].input_prompt_number == nbb_cell_id) {\n",
       "                        if (nbb_cells[i].get_text() == nbb_unformatted_code) {\n",
       "                             nbb_cells[i].set_text(nbb_formatted_code);\n",
       "                        }\n",
       "                        break;\n",
       "                    }\n",
       "                }\n",
       "            }, 500);\n",
       "            "
      ],
      "text/plain": [
       "<IPython.core.display.Javascript object>"
      ]
     },
     "metadata": {},
     "output_type": "display_data"
    },
    {
     "data": {
      "application/javascript": [
       "\n",
       "            setTimeout(function() {\n",
       "                var nbb_cell_id = 65;\n",
       "                var nbb_unformatted_code = \"# create vars for model\\nX = df[[\\\"humidity\\\", \\\"windspeed\\\"]]\\ny = df.temp_diff\\n\\nX_train, X_test, y_train, y_test = train_test_split(X, y, random_state=28)\";\n",
       "                var nbb_formatted_code = \"# create vars for model\\nX = df[[\\\"humidity\\\", \\\"windspeed\\\"]]\\ny = df.temp_diff\\n\\nX_train, X_test, y_train, y_test = train_test_split(X, y, random_state=28)\";\n",
       "                var nbb_cells = Jupyter.notebook.get_cells();\n",
       "                for (var i = 0; i < nbb_cells.length; ++i) {\n",
       "                    if (nbb_cells[i].input_prompt_number == nbb_cell_id) {\n",
       "                        if (nbb_cells[i].get_text() == nbb_unformatted_code) {\n",
       "                             nbb_cells[i].set_text(nbb_formatted_code);\n",
       "                        }\n",
       "                        break;\n",
       "                    }\n",
       "                }\n",
       "            }, 500);\n",
       "            "
      ],
      "text/plain": [
       "<IPython.core.display.Javascript object>"
      ]
     },
     "metadata": {},
     "output_type": "display_data"
    }
   ],
   "source": [
    "# create vars for model\n",
    "X = df[[\"humidity\", \"windspeed\"]]\n",
    "y = df.temp_diff\n",
    "\n",
    "X_train, X_test, y_train, y_test = train_test_split(X, y, random_state=28)"
   ]
  },
  {
   "cell_type": "code",
   "execution_count": 66,
   "metadata": {},
   "outputs": [
    {
     "data": {
      "text/html": [
       "<table class=\"simpletable\">\n",
       "<caption>OLS Regression Results</caption>\n",
       "<tr>\n",
       "  <th>Dep. Variable:</th>        <td>temp_diff</td>    <th>  R-squared:         </th>  <td>   0.287</td>  \n",
       "</tr>\n",
       "<tr>\n",
       "  <th>Model:</th>                   <td>OLS</td>       <th>  Adj. R-squared:    </th>  <td>   0.287</td>  \n",
       "</tr>\n",
       "<tr>\n",
       "  <th>Method:</th>             <td>Least Squares</td>  <th>  F-statistic:       </th>  <td>1.455e+04</td> \n",
       "</tr>\n",
       "<tr>\n",
       "  <th>Date:</th>             <td>Wed, 09 Dec 2020</td> <th>  Prob (F-statistic):</th>   <td>  0.00</td>   \n",
       "</tr>\n",
       "<tr>\n",
       "  <th>Time:</th>                 <td>16:11:58</td>     <th>  Log-Likelihood:    </th> <td>-1.2779e+05</td>\n",
       "</tr>\n",
       "<tr>\n",
       "  <th>No. Observations:</th>      <td> 72339</td>      <th>  AIC:               </th>  <td>2.556e+05</td> \n",
       "</tr>\n",
       "<tr>\n",
       "  <th>Df Residuals:</th>          <td> 72336</td>      <th>  BIC:               </th>  <td>2.556e+05</td> \n",
       "</tr>\n",
       "<tr>\n",
       "  <th>Df Model:</th>              <td>     2</td>      <th>                     </th>      <td> </td>     \n",
       "</tr>\n",
       "<tr>\n",
       "  <th>Covariance Type:</th>      <td>nonrobust</td>    <th>                     </th>      <td> </td>     \n",
       "</tr>\n",
       "</table>\n",
       "<table class=\"simpletable\">\n",
       "<tr>\n",
       "      <td></td>         <th>coef</th>     <th>std err</th>      <th>t</th>      <th>P>|t|</th>  <th>[0.025</th>    <th>0.975]</th>  \n",
       "</tr>\n",
       "<tr>\n",
       "  <th>const</th>     <td>    2.4279</td> <td>    0.024</td> <td>  100.086</td> <td> 0.000</td> <td>    2.380</td> <td>    2.475</td>\n",
       "</tr>\n",
       "<tr>\n",
       "  <th>humidity</th>  <td>   -3.0166</td> <td>    0.028</td> <td> -109.109</td> <td> 0.000</td> <td>   -3.071</td> <td>   -2.962</td>\n",
       "</tr>\n",
       "<tr>\n",
       "  <th>windspeed</th> <td>   -0.1188</td> <td>    0.001</td> <td> -152.265</td> <td> 0.000</td> <td>   -0.120</td> <td>   -0.117</td>\n",
       "</tr>\n",
       "</table>\n",
       "<table class=\"simpletable\">\n",
       "<tr>\n",
       "  <th>Omnibus:</th>       <td>2951.607</td> <th>  Durbin-Watson:     </th> <td>   2.003</td>\n",
       "</tr>\n",
       "<tr>\n",
       "  <th>Prob(Omnibus):</th>  <td> 0.000</td>  <th>  Jarque-Bera (JB):  </th> <td>3454.916</td>\n",
       "</tr>\n",
       "<tr>\n",
       "  <th>Skew:</th>           <td>-0.479</td>  <th>  Prob(JB):          </th> <td>    0.00</td>\n",
       "</tr>\n",
       "<tr>\n",
       "  <th>Kurtosis:</th>       <td> 3.479</td>  <th>  Cond. No.          </th> <td>    88.1</td>\n",
       "</tr>\n",
       "</table><br/><br/>Warnings:<br/>[1] Standard Errors assume that the covariance matrix of the errors is correctly specified."
      ],
      "text/plain": [
       "<class 'statsmodels.iolib.summary.Summary'>\n",
       "\"\"\"\n",
       "                            OLS Regression Results                            \n",
       "==============================================================================\n",
       "Dep. Variable:              temp_diff   R-squared:                       0.287\n",
       "Model:                            OLS   Adj. R-squared:                  0.287\n",
       "Method:                 Least Squares   F-statistic:                 1.455e+04\n",
       "Date:                Wed, 09 Dec 2020   Prob (F-statistic):               0.00\n",
       "Time:                        16:11:58   Log-Likelihood:            -1.2779e+05\n",
       "No. Observations:               72339   AIC:                         2.556e+05\n",
       "Df Residuals:                   72336   BIC:                         2.556e+05\n",
       "Df Model:                           2                                         \n",
       "Covariance Type:            nonrobust                                         \n",
       "==============================================================================\n",
       "                 coef    std err          t      P>|t|      [0.025      0.975]\n",
       "------------------------------------------------------------------------------\n",
       "const          2.4279      0.024    100.086      0.000       2.380       2.475\n",
       "humidity      -3.0166      0.028   -109.109      0.000      -3.071      -2.962\n",
       "windspeed     -0.1188      0.001   -152.265      0.000      -0.120      -0.117\n",
       "==============================================================================\n",
       "Omnibus:                     2951.607   Durbin-Watson:                   2.003\n",
       "Prob(Omnibus):                  0.000   Jarque-Bera (JB):             3454.916\n",
       "Skew:                          -0.479   Prob(JB):                         0.00\n",
       "Kurtosis:                       3.479   Cond. No.                         88.1\n",
       "==============================================================================\n",
       "\n",
       "Warnings:\n",
       "[1] Standard Errors assume that the covariance matrix of the errors is correctly specified.\n",
       "\"\"\""
      ]
     },
     "execution_count": 66,
     "metadata": {},
     "output_type": "execute_result"
    },
    {
     "data": {
      "application/javascript": [
       "\n",
       "            setTimeout(function() {\n",
       "                var nbb_cell_id = 66;\n",
       "                var nbb_unformatted_code = \"# create the X train constant var\\nX_train_const = sm.add_constant(X_train)\\n# create model object for sm.OLS\\nmodel = sm.OLS(y_train, X_train_const).fit()\\nmodel.summary()\";\n",
       "                var nbb_formatted_code = \"# create the X train constant var\\nX_train_const = sm.add_constant(X_train)\\n# create model object for sm.OLS\\nmodel = sm.OLS(y_train, X_train_const).fit()\\nmodel.summary()\";\n",
       "                var nbb_cells = Jupyter.notebook.get_cells();\n",
       "                for (var i = 0; i < nbb_cells.length; ++i) {\n",
       "                    if (nbb_cells[i].input_prompt_number == nbb_cell_id) {\n",
       "                        if (nbb_cells[i].get_text() == nbb_unformatted_code) {\n",
       "                             nbb_cells[i].set_text(nbb_formatted_code);\n",
       "                        }\n",
       "                        break;\n",
       "                    }\n",
       "                }\n",
       "            }, 500);\n",
       "            "
      ],
      "text/plain": [
       "<IPython.core.display.Javascript object>"
      ]
     },
     "metadata": {},
     "output_type": "display_data"
    },
    {
     "data": {
      "application/javascript": [
       "\n",
       "            setTimeout(function() {\n",
       "                var nbb_cell_id = 66;\n",
       "                var nbb_unformatted_code = \"# create the X train constant var\\nX_train_const = sm.add_constant(X_train)\\n# create model object for sm.OLS\\nmodel = sm.OLS(y_train, X_train_const).fit()\\nmodel.summary()\";\n",
       "                var nbb_formatted_code = \"# create the X train constant var\\nX_train_const = sm.add_constant(X_train)\\n# create model object for sm.OLS\\nmodel = sm.OLS(y_train, X_train_const).fit()\\nmodel.summary()\";\n",
       "                var nbb_cells = Jupyter.notebook.get_cells();\n",
       "                for (var i = 0; i < nbb_cells.length; ++i) {\n",
       "                    if (nbb_cells[i].input_prompt_number == nbb_cell_id) {\n",
       "                        if (nbb_cells[i].get_text() == nbb_unformatted_code) {\n",
       "                             nbb_cells[i].set_text(nbb_formatted_code);\n",
       "                        }\n",
       "                        break;\n",
       "                    }\n",
       "                }\n",
       "            }, 500);\n",
       "            "
      ],
      "text/plain": [
       "<IPython.core.display.Javascript object>"
      ]
     },
     "metadata": {},
     "output_type": "display_data"
    },
    {
     "data": {
      "application/javascript": [
       "\n",
       "            setTimeout(function() {\n",
       "                var nbb_cell_id = 66;\n",
       "                var nbb_unformatted_code = \"# create the X train constant var\\nX_train_const = sm.add_constant(X_train)\\n# create model object for sm.OLS\\nmodel = sm.OLS(y_train, X_train_const).fit()\\nmodel.summary()\";\n",
       "                var nbb_formatted_code = \"# create the X train constant var\\nX_train_const = sm.add_constant(X_train)\\n# create model object for sm.OLS\\nmodel = sm.OLS(y_train, X_train_const).fit()\\nmodel.summary()\";\n",
       "                var nbb_cells = Jupyter.notebook.get_cells();\n",
       "                for (var i = 0; i < nbb_cells.length; ++i) {\n",
       "                    if (nbb_cells[i].input_prompt_number == nbb_cell_id) {\n",
       "                        if (nbb_cells[i].get_text() == nbb_unformatted_code) {\n",
       "                             nbb_cells[i].set_text(nbb_formatted_code);\n",
       "                        }\n",
       "                        break;\n",
       "                    }\n",
       "                }\n",
       "            }, 500);\n",
       "            "
      ],
      "text/plain": [
       "<IPython.core.display.Javascript object>"
      ]
     },
     "metadata": {},
     "output_type": "display_data"
    },
    {
     "data": {
      "application/javascript": [
       "\n",
       "            setTimeout(function() {\n",
       "                var nbb_cell_id = 66;\n",
       "                var nbb_unformatted_code = \"# create the X train constant var\\nX_train_const = sm.add_constant(X_train)\\n# create model object for sm.OLS\\nmodel = sm.OLS(y_train, X_train_const).fit()\\nmodel.summary()\";\n",
       "                var nbb_formatted_code = \"# create the X train constant var\\nX_train_const = sm.add_constant(X_train)\\n# create model object for sm.OLS\\nmodel = sm.OLS(y_train, X_train_const).fit()\\nmodel.summary()\";\n",
       "                var nbb_cells = Jupyter.notebook.get_cells();\n",
       "                for (var i = 0; i < nbb_cells.length; ++i) {\n",
       "                    if (nbb_cells[i].input_prompt_number == nbb_cell_id) {\n",
       "                        if (nbb_cells[i].get_text() == nbb_unformatted_code) {\n",
       "                             nbb_cells[i].set_text(nbb_formatted_code);\n",
       "                        }\n",
       "                        break;\n",
       "                    }\n",
       "                }\n",
       "            }, 500);\n",
       "            "
      ],
      "text/plain": [
       "<IPython.core.display.Javascript object>"
      ]
     },
     "metadata": {},
     "output_type": "display_data"
    },
    {
     "data": {
      "application/javascript": [
       "\n",
       "            setTimeout(function() {\n",
       "                var nbb_cell_id = 66;\n",
       "                var nbb_unformatted_code = \"# create the X train constant var\\nX_train_const = sm.add_constant(X_train)\\n# create model object for sm.OLS\\nmodel = sm.OLS(y_train, X_train_const).fit()\\nmodel.summary()\";\n",
       "                var nbb_formatted_code = \"# create the X train constant var\\nX_train_const = sm.add_constant(X_train)\\n# create model object for sm.OLS\\nmodel = sm.OLS(y_train, X_train_const).fit()\\nmodel.summary()\";\n",
       "                var nbb_cells = Jupyter.notebook.get_cells();\n",
       "                for (var i = 0; i < nbb_cells.length; ++i) {\n",
       "                    if (nbb_cells[i].input_prompt_number == nbb_cell_id) {\n",
       "                        if (nbb_cells[i].get_text() == nbb_unformatted_code) {\n",
       "                             nbb_cells[i].set_text(nbb_formatted_code);\n",
       "                        }\n",
       "                        break;\n",
       "                    }\n",
       "                }\n",
       "            }, 500);\n",
       "            "
      ],
      "text/plain": [
       "<IPython.core.display.Javascript object>"
      ]
     },
     "metadata": {},
     "output_type": "display_data"
    }
   ],
   "source": [
    "# create the X train constant var\n",
    "X_train_const = sm.add_constant(X_train)\n",
    "# create model object for sm.OLS\n",
    "model = sm.OLS(y_train, X_train_const).fit()\n",
    "model.summary()"
   ]
  },
  {
   "cell_type": "markdown",
   "metadata": {},
   "source": [
    "> r-squared = 0.287\n",
    "> adj r-square = 0.287\n",
    "> these values are too low; model is underfit\n",
    "---"
   ]
  },
  {
   "cell_type": "code",
   "execution_count": 67,
   "metadata": {},
   "outputs": [
    {
     "data": {
      "application/javascript": [
       "\n",
       "            setTimeout(function() {\n",
       "                var nbb_cell_id = 67;\n",
       "                var nbb_unformatted_code = \"# create model with interaction term for humidity and windspeed\\n# create vars for model\\nX = df[[\\\"humidity\\\", \\\"windspeed\\\", \\\"int_term\\\"]]\\ny = df.temp_diff\\n\\nX_train, X_test, y_train, y_test = train_test_split(X, y, random_state=28)\";\n",
       "                var nbb_formatted_code = \"# create model with interaction term for humidity and windspeed\\n# create vars for model\\nX = df[[\\\"humidity\\\", \\\"windspeed\\\", \\\"int_term\\\"]]\\ny = df.temp_diff\\n\\nX_train, X_test, y_train, y_test = train_test_split(X, y, random_state=28)\";\n",
       "                var nbb_cells = Jupyter.notebook.get_cells();\n",
       "                for (var i = 0; i < nbb_cells.length; ++i) {\n",
       "                    if (nbb_cells[i].input_prompt_number == nbb_cell_id) {\n",
       "                        if (nbb_cells[i].get_text() == nbb_unformatted_code) {\n",
       "                             nbb_cells[i].set_text(nbb_formatted_code);\n",
       "                        }\n",
       "                        break;\n",
       "                    }\n",
       "                }\n",
       "            }, 500);\n",
       "            "
      ],
      "text/plain": [
       "<IPython.core.display.Javascript object>"
      ]
     },
     "metadata": {},
     "output_type": "display_data"
    },
    {
     "data": {
      "application/javascript": [
       "\n",
       "            setTimeout(function() {\n",
       "                var nbb_cell_id = 67;\n",
       "                var nbb_unformatted_code = \"# create model with interaction term for humidity and windspeed\\n# create vars for model\\nX = df[[\\\"humidity\\\", \\\"windspeed\\\", \\\"int_term\\\"]]\\ny = df.temp_diff\\n\\nX_train, X_test, y_train, y_test = train_test_split(X, y, random_state=28)\";\n",
       "                var nbb_formatted_code = \"# create model with interaction term for humidity and windspeed\\n# create vars for model\\nX = df[[\\\"humidity\\\", \\\"windspeed\\\", \\\"int_term\\\"]]\\ny = df.temp_diff\\n\\nX_train, X_test, y_train, y_test = train_test_split(X, y, random_state=28)\";\n",
       "                var nbb_cells = Jupyter.notebook.get_cells();\n",
       "                for (var i = 0; i < nbb_cells.length; ++i) {\n",
       "                    if (nbb_cells[i].input_prompt_number == nbb_cell_id) {\n",
       "                        if (nbb_cells[i].get_text() == nbb_unformatted_code) {\n",
       "                             nbb_cells[i].set_text(nbb_formatted_code);\n",
       "                        }\n",
       "                        break;\n",
       "                    }\n",
       "                }\n",
       "            }, 500);\n",
       "            "
      ],
      "text/plain": [
       "<IPython.core.display.Javascript object>"
      ]
     },
     "metadata": {},
     "output_type": "display_data"
    },
    {
     "data": {
      "application/javascript": [
       "\n",
       "            setTimeout(function() {\n",
       "                var nbb_cell_id = 67;\n",
       "                var nbb_unformatted_code = \"# create model with interaction term for humidity and windspeed\\n# create vars for model\\nX = df[[\\\"humidity\\\", \\\"windspeed\\\", \\\"int_term\\\"]]\\ny = df.temp_diff\\n\\nX_train, X_test, y_train, y_test = train_test_split(X, y, random_state=28)\";\n",
       "                var nbb_formatted_code = \"# create model with interaction term for humidity and windspeed\\n# create vars for model\\nX = df[[\\\"humidity\\\", \\\"windspeed\\\", \\\"int_term\\\"]]\\ny = df.temp_diff\\n\\nX_train, X_test, y_train, y_test = train_test_split(X, y, random_state=28)\";\n",
       "                var nbb_cells = Jupyter.notebook.get_cells();\n",
       "                for (var i = 0; i < nbb_cells.length; ++i) {\n",
       "                    if (nbb_cells[i].input_prompt_number == nbb_cell_id) {\n",
       "                        if (nbb_cells[i].get_text() == nbb_unformatted_code) {\n",
       "                             nbb_cells[i].set_text(nbb_formatted_code);\n",
       "                        }\n",
       "                        break;\n",
       "                    }\n",
       "                }\n",
       "            }, 500);\n",
       "            "
      ],
      "text/plain": [
       "<IPython.core.display.Javascript object>"
      ]
     },
     "metadata": {},
     "output_type": "display_data"
    },
    {
     "data": {
      "application/javascript": [
       "\n",
       "            setTimeout(function() {\n",
       "                var nbb_cell_id = 67;\n",
       "                var nbb_unformatted_code = \"# create model with interaction term for humidity and windspeed\\n# create vars for model\\nX = df[[\\\"humidity\\\", \\\"windspeed\\\", \\\"int_term\\\"]]\\ny = df.temp_diff\\n\\nX_train, X_test, y_train, y_test = train_test_split(X, y, random_state=28)\";\n",
       "                var nbb_formatted_code = \"# create model with interaction term for humidity and windspeed\\n# create vars for model\\nX = df[[\\\"humidity\\\", \\\"windspeed\\\", \\\"int_term\\\"]]\\ny = df.temp_diff\\n\\nX_train, X_test, y_train, y_test = train_test_split(X, y, random_state=28)\";\n",
       "                var nbb_cells = Jupyter.notebook.get_cells();\n",
       "                for (var i = 0; i < nbb_cells.length; ++i) {\n",
       "                    if (nbb_cells[i].input_prompt_number == nbb_cell_id) {\n",
       "                        if (nbb_cells[i].get_text() == nbb_unformatted_code) {\n",
       "                             nbb_cells[i].set_text(nbb_formatted_code);\n",
       "                        }\n",
       "                        break;\n",
       "                    }\n",
       "                }\n",
       "            }, 500);\n",
       "            "
      ],
      "text/plain": [
       "<IPython.core.display.Javascript object>"
      ]
     },
     "metadata": {},
     "output_type": "display_data"
    },
    {
     "data": {
      "application/javascript": [
       "\n",
       "            setTimeout(function() {\n",
       "                var nbb_cell_id = 67;\n",
       "                var nbb_unformatted_code = \"# create model with interaction term for humidity and windspeed\\n# create vars for model\\nX = df[[\\\"humidity\\\", \\\"windspeed\\\", \\\"int_term\\\"]]\\ny = df.temp_diff\\n\\nX_train, X_test, y_train, y_test = train_test_split(X, y, random_state=28)\";\n",
       "                var nbb_formatted_code = \"# create model with interaction term for humidity and windspeed\\n# create vars for model\\nX = df[[\\\"humidity\\\", \\\"windspeed\\\", \\\"int_term\\\"]]\\ny = df.temp_diff\\n\\nX_train, X_test, y_train, y_test = train_test_split(X, y, random_state=28)\";\n",
       "                var nbb_cells = Jupyter.notebook.get_cells();\n",
       "                for (var i = 0; i < nbb_cells.length; ++i) {\n",
       "                    if (nbb_cells[i].input_prompt_number == nbb_cell_id) {\n",
       "                        if (nbb_cells[i].get_text() == nbb_unformatted_code) {\n",
       "                             nbb_cells[i].set_text(nbb_formatted_code);\n",
       "                        }\n",
       "                        break;\n",
       "                    }\n",
       "                }\n",
       "            }, 500);\n",
       "            "
      ],
      "text/plain": [
       "<IPython.core.display.Javascript object>"
      ]
     },
     "metadata": {},
     "output_type": "display_data"
    }
   ],
   "source": [
    "# create model with interaction term for humidity and windspeed\n",
    "# create vars for model\n",
    "X = df[[\"humidity\", \"windspeed\", \"int_term\"]]\n",
    "y = df.temp_diff\n",
    "\n",
    "X_train, X_test, y_train, y_test = train_test_split(X, y, random_state=28)"
   ]
  },
  {
   "cell_type": "code",
   "execution_count": 68,
   "metadata": {},
   "outputs": [
    {
     "data": {
      "text/html": [
       "<table class=\"simpletable\">\n",
       "<caption>OLS Regression Results</caption>\n",
       "<tr>\n",
       "  <th>Dep. Variable:</th>        <td>temp_diff</td>    <th>  R-squared:         </th>  <td>   0.340</td>  \n",
       "</tr>\n",
       "<tr>\n",
       "  <th>Model:</th>                   <td>OLS</td>       <th>  Adj. R-squared:    </th>  <td>   0.340</td>  \n",
       "</tr>\n",
       "<tr>\n",
       "  <th>Method:</th>             <td>Least Squares</td>  <th>  F-statistic:       </th>  <td>1.242e+04</td> \n",
       "</tr>\n",
       "<tr>\n",
       "  <th>Date:</th>             <td>Wed, 09 Dec 2020</td> <th>  Prob (F-statistic):</th>   <td>  0.00</td>   \n",
       "</tr>\n",
       "<tr>\n",
       "  <th>Time:</th>                 <td>16:11:58</td>     <th>  Log-Likelihood:    </th> <td>-1.2499e+05</td>\n",
       "</tr>\n",
       "<tr>\n",
       "  <th>No. Observations:</th>      <td> 72339</td>      <th>  AIC:               </th>  <td>2.500e+05</td> \n",
       "</tr>\n",
       "<tr>\n",
       "  <th>Df Residuals:</th>          <td> 72335</td>      <th>  BIC:               </th>  <td>2.500e+05</td> \n",
       "</tr>\n",
       "<tr>\n",
       "  <th>Df Model:</th>              <td>     3</td>      <th>                     </th>      <td> </td>     \n",
       "</tr>\n",
       "<tr>\n",
       "  <th>Covariance Type:</th>      <td>nonrobust</td>    <th>                     </th>      <td> </td>     \n",
       "</tr>\n",
       "</table>\n",
       "<table class=\"simpletable\">\n",
       "<tr>\n",
       "      <td></td>         <th>coef</th>     <th>std err</th>      <th>t</th>      <th>P>|t|</th>  <th>[0.025</th>    <th>0.975]</th>  \n",
       "</tr>\n",
       "<tr>\n",
       "  <th>const</th>     <td>    0.0852</td> <td>    0.039</td> <td>    2.207</td> <td> 0.027</td> <td>    0.010</td> <td>    0.161</td>\n",
       "</tr>\n",
       "<tr>\n",
       "  <th>humidity</th>  <td>    0.1709</td> <td>    0.050</td> <td>    3.450</td> <td> 0.001</td> <td>    0.074</td> <td>    0.268</td>\n",
       "</tr>\n",
       "<tr>\n",
       "  <th>windspeed</th> <td>    0.0898</td> <td>    0.003</td> <td>   31.653</td> <td> 0.000</td> <td>    0.084</td> <td>    0.095</td>\n",
       "</tr>\n",
       "<tr>\n",
       "  <th>int_term</th>  <td>   -0.2950</td> <td>    0.004</td> <td>  -76.244</td> <td> 0.000</td> <td>   -0.303</td> <td>   -0.287</td>\n",
       "</tr>\n",
       "</table>\n",
       "<table class=\"simpletable\">\n",
       "<tr>\n",
       "  <th>Omnibus:</th>       <td>3720.473</td> <th>  Durbin-Watson:     </th> <td>   2.002</td>\n",
       "</tr>\n",
       "<tr>\n",
       "  <th>Prob(Omnibus):</th>  <td> 0.000</td>  <th>  Jarque-Bera (JB):  </th> <td>7183.385</td>\n",
       "</tr>\n",
       "<tr>\n",
       "  <th>Skew:</th>           <td>-0.383</td>  <th>  Prob(JB):          </th> <td>    0.00</td>\n",
       "</tr>\n",
       "<tr>\n",
       "  <th>Kurtosis:</th>       <td> 4.340</td>  <th>  Cond. No.          </th> <td>    193.</td>\n",
       "</tr>\n",
       "</table><br/><br/>Warnings:<br/>[1] Standard Errors assume that the covariance matrix of the errors is correctly specified."
      ],
      "text/plain": [
       "<class 'statsmodels.iolib.summary.Summary'>\n",
       "\"\"\"\n",
       "                            OLS Regression Results                            \n",
       "==============================================================================\n",
       "Dep. Variable:              temp_diff   R-squared:                       0.340\n",
       "Model:                            OLS   Adj. R-squared:                  0.340\n",
       "Method:                 Least Squares   F-statistic:                 1.242e+04\n",
       "Date:                Wed, 09 Dec 2020   Prob (F-statistic):               0.00\n",
       "Time:                        16:11:58   Log-Likelihood:            -1.2499e+05\n",
       "No. Observations:               72339   AIC:                         2.500e+05\n",
       "Df Residuals:                   72335   BIC:                         2.500e+05\n",
       "Df Model:                           3                                         \n",
       "Covariance Type:            nonrobust                                         \n",
       "==============================================================================\n",
       "                 coef    std err          t      P>|t|      [0.025      0.975]\n",
       "------------------------------------------------------------------------------\n",
       "const          0.0852      0.039      2.207      0.027       0.010       0.161\n",
       "humidity       0.1709      0.050      3.450      0.001       0.074       0.268\n",
       "windspeed      0.0898      0.003     31.653      0.000       0.084       0.095\n",
       "int_term      -0.2950      0.004    -76.244      0.000      -0.303      -0.287\n",
       "==============================================================================\n",
       "Omnibus:                     3720.473   Durbin-Watson:                   2.002\n",
       "Prob(Omnibus):                  0.000   Jarque-Bera (JB):             7183.385\n",
       "Skew:                          -0.383   Prob(JB):                         0.00\n",
       "Kurtosis:                       4.340   Cond. No.                         193.\n",
       "==============================================================================\n",
       "\n",
       "Warnings:\n",
       "[1] Standard Errors assume that the covariance matrix of the errors is correctly specified.\n",
       "\"\"\""
      ]
     },
     "execution_count": 68,
     "metadata": {},
     "output_type": "execute_result"
    },
    {
     "data": {
      "application/javascript": [
       "\n",
       "            setTimeout(function() {\n",
       "                var nbb_cell_id = 68;\n",
       "                var nbb_unformatted_code = \"# create regression model X train constant\\nX_train_const = sm.add_constant(X_train)\\nmodel = sm.OLS(y_train, X_train_const).fit()\\nmodel.summary()\";\n",
       "                var nbb_formatted_code = \"# create regression model X train constant\\nX_train_const = sm.add_constant(X_train)\\nmodel = sm.OLS(y_train, X_train_const).fit()\\nmodel.summary()\";\n",
       "                var nbb_cells = Jupyter.notebook.get_cells();\n",
       "                for (var i = 0; i < nbb_cells.length; ++i) {\n",
       "                    if (nbb_cells[i].input_prompt_number == nbb_cell_id) {\n",
       "                        if (nbb_cells[i].get_text() == nbb_unformatted_code) {\n",
       "                             nbb_cells[i].set_text(nbb_formatted_code);\n",
       "                        }\n",
       "                        break;\n",
       "                    }\n",
       "                }\n",
       "            }, 500);\n",
       "            "
      ],
      "text/plain": [
       "<IPython.core.display.Javascript object>"
      ]
     },
     "metadata": {},
     "output_type": "display_data"
    },
    {
     "data": {
      "application/javascript": [
       "\n",
       "            setTimeout(function() {\n",
       "                var nbb_cell_id = 68;\n",
       "                var nbb_unformatted_code = \"# create regression model X train constant\\nX_train_const = sm.add_constant(X_train)\\nmodel = sm.OLS(y_train, X_train_const).fit()\\nmodel.summary()\";\n",
       "                var nbb_formatted_code = \"# create regression model X train constant\\nX_train_const = sm.add_constant(X_train)\\nmodel = sm.OLS(y_train, X_train_const).fit()\\nmodel.summary()\";\n",
       "                var nbb_cells = Jupyter.notebook.get_cells();\n",
       "                for (var i = 0; i < nbb_cells.length; ++i) {\n",
       "                    if (nbb_cells[i].input_prompt_number == nbb_cell_id) {\n",
       "                        if (nbb_cells[i].get_text() == nbb_unformatted_code) {\n",
       "                             nbb_cells[i].set_text(nbb_formatted_code);\n",
       "                        }\n",
       "                        break;\n",
       "                    }\n",
       "                }\n",
       "            }, 500);\n",
       "            "
      ],
      "text/plain": [
       "<IPython.core.display.Javascript object>"
      ]
     },
     "metadata": {},
     "output_type": "display_data"
    },
    {
     "data": {
      "application/javascript": [
       "\n",
       "            setTimeout(function() {\n",
       "                var nbb_cell_id = 68;\n",
       "                var nbb_unformatted_code = \"# create regression model X train constant\\nX_train_const = sm.add_constant(X_train)\\nmodel = sm.OLS(y_train, X_train_const).fit()\\nmodel.summary()\";\n",
       "                var nbb_formatted_code = \"# create regression model X train constant\\nX_train_const = sm.add_constant(X_train)\\nmodel = sm.OLS(y_train, X_train_const).fit()\\nmodel.summary()\";\n",
       "                var nbb_cells = Jupyter.notebook.get_cells();\n",
       "                for (var i = 0; i < nbb_cells.length; ++i) {\n",
       "                    if (nbb_cells[i].input_prompt_number == nbb_cell_id) {\n",
       "                        if (nbb_cells[i].get_text() == nbb_unformatted_code) {\n",
       "                             nbb_cells[i].set_text(nbb_formatted_code);\n",
       "                        }\n",
       "                        break;\n",
       "                    }\n",
       "                }\n",
       "            }, 500);\n",
       "            "
      ],
      "text/plain": [
       "<IPython.core.display.Javascript object>"
      ]
     },
     "metadata": {},
     "output_type": "display_data"
    },
    {
     "data": {
      "application/javascript": [
       "\n",
       "            setTimeout(function() {\n",
       "                var nbb_cell_id = 68;\n",
       "                var nbb_unformatted_code = \"# create regression model X train constant\\nX_train_const = sm.add_constant(X_train)\\nmodel = sm.OLS(y_train, X_train_const).fit()\\nmodel.summary()\";\n",
       "                var nbb_formatted_code = \"# create regression model X train constant\\nX_train_const = sm.add_constant(X_train)\\nmodel = sm.OLS(y_train, X_train_const).fit()\\nmodel.summary()\";\n",
       "                var nbb_cells = Jupyter.notebook.get_cells();\n",
       "                for (var i = 0; i < nbb_cells.length; ++i) {\n",
       "                    if (nbb_cells[i].input_prompt_number == nbb_cell_id) {\n",
       "                        if (nbb_cells[i].get_text() == nbb_unformatted_code) {\n",
       "                             nbb_cells[i].set_text(nbb_formatted_code);\n",
       "                        }\n",
       "                        break;\n",
       "                    }\n",
       "                }\n",
       "            }, 500);\n",
       "            "
      ],
      "text/plain": [
       "<IPython.core.display.Javascript object>"
      ]
     },
     "metadata": {},
     "output_type": "display_data"
    },
    {
     "data": {
      "application/javascript": [
       "\n",
       "            setTimeout(function() {\n",
       "                var nbb_cell_id = 68;\n",
       "                var nbb_unformatted_code = \"# create regression model X train constant\\nX_train_const = sm.add_constant(X_train)\\nmodel = sm.OLS(y_train, X_train_const).fit()\\nmodel.summary()\";\n",
       "                var nbb_formatted_code = \"# create regression model X train constant\\nX_train_const = sm.add_constant(X_train)\\nmodel = sm.OLS(y_train, X_train_const).fit()\\nmodel.summary()\";\n",
       "                var nbb_cells = Jupyter.notebook.get_cells();\n",
       "                for (var i = 0; i < nbb_cells.length; ++i) {\n",
       "                    if (nbb_cells[i].input_prompt_number == nbb_cell_id) {\n",
       "                        if (nbb_cells[i].get_text() == nbb_unformatted_code) {\n",
       "                             nbb_cells[i].set_text(nbb_formatted_code);\n",
       "                        }\n",
       "                        break;\n",
       "                    }\n",
       "                }\n",
       "            }, 500);\n",
       "            "
      ],
      "text/plain": [
       "<IPython.core.display.Javascript object>"
      ]
     },
     "metadata": {},
     "output_type": "display_data"
    }
   ],
   "source": [
    "# create regression model X train constant\n",
    "X_train_const = sm.add_constant(X_train)\n",
    "model = sm.OLS(y_train, X_train_const).fit()\n",
    "model.summary()"
   ]
  },
  {
   "cell_type": "markdown",
   "metadata": {},
   "source": [
    "> the r-squared values improved by around 0.06 points with the interaction term\n",
    "---"
   ]
  },
  {
   "cell_type": "code",
   "execution_count": 69,
   "metadata": {},
   "outputs": [
    {
     "data": {
      "application/javascript": [
       "\n",
       "            setTimeout(function() {\n",
       "                var nbb_cell_id = 69;\n",
       "                var nbb_unformatted_code = \"# add visibility as a feature var\\nX = df[[\\\"humidity\\\", \\\"windspeed\\\", \\\"visibility\\\"]]\\ny = df.temp_diff\\n\\nX_train, X_test, y_train, y_test = train_test_split(X, y, random_state=28)\";\n",
       "                var nbb_formatted_code = \"# add visibility as a feature var\\nX = df[[\\\"humidity\\\", \\\"windspeed\\\", \\\"visibility\\\"]]\\ny = df.temp_diff\\n\\nX_train, X_test, y_train, y_test = train_test_split(X, y, random_state=28)\";\n",
       "                var nbb_cells = Jupyter.notebook.get_cells();\n",
       "                for (var i = 0; i < nbb_cells.length; ++i) {\n",
       "                    if (nbb_cells[i].input_prompt_number == nbb_cell_id) {\n",
       "                        if (nbb_cells[i].get_text() == nbb_unformatted_code) {\n",
       "                             nbb_cells[i].set_text(nbb_formatted_code);\n",
       "                        }\n",
       "                        break;\n",
       "                    }\n",
       "                }\n",
       "            }, 500);\n",
       "            "
      ],
      "text/plain": [
       "<IPython.core.display.Javascript object>"
      ]
     },
     "metadata": {},
     "output_type": "display_data"
    },
    {
     "data": {
      "application/javascript": [
       "\n",
       "            setTimeout(function() {\n",
       "                var nbb_cell_id = 69;\n",
       "                var nbb_unformatted_code = \"# add visibility as a feature var\\nX = df[[\\\"humidity\\\", \\\"windspeed\\\", \\\"visibility\\\"]]\\ny = df.temp_diff\\n\\nX_train, X_test, y_train, y_test = train_test_split(X, y, random_state=28)\";\n",
       "                var nbb_formatted_code = \"# add visibility as a feature var\\nX = df[[\\\"humidity\\\", \\\"windspeed\\\", \\\"visibility\\\"]]\\ny = df.temp_diff\\n\\nX_train, X_test, y_train, y_test = train_test_split(X, y, random_state=28)\";\n",
       "                var nbb_cells = Jupyter.notebook.get_cells();\n",
       "                for (var i = 0; i < nbb_cells.length; ++i) {\n",
       "                    if (nbb_cells[i].input_prompt_number == nbb_cell_id) {\n",
       "                        if (nbb_cells[i].get_text() == nbb_unformatted_code) {\n",
       "                             nbb_cells[i].set_text(nbb_formatted_code);\n",
       "                        }\n",
       "                        break;\n",
       "                    }\n",
       "                }\n",
       "            }, 500);\n",
       "            "
      ],
      "text/plain": [
       "<IPython.core.display.Javascript object>"
      ]
     },
     "metadata": {},
     "output_type": "display_data"
    },
    {
     "data": {
      "application/javascript": [
       "\n",
       "            setTimeout(function() {\n",
       "                var nbb_cell_id = 69;\n",
       "                var nbb_unformatted_code = \"# add visibility as a feature var\\nX = df[[\\\"humidity\\\", \\\"windspeed\\\", \\\"visibility\\\"]]\\ny = df.temp_diff\\n\\nX_train, X_test, y_train, y_test = train_test_split(X, y, random_state=28)\";\n",
       "                var nbb_formatted_code = \"# add visibility as a feature var\\nX = df[[\\\"humidity\\\", \\\"windspeed\\\", \\\"visibility\\\"]]\\ny = df.temp_diff\\n\\nX_train, X_test, y_train, y_test = train_test_split(X, y, random_state=28)\";\n",
       "                var nbb_cells = Jupyter.notebook.get_cells();\n",
       "                for (var i = 0; i < nbb_cells.length; ++i) {\n",
       "                    if (nbb_cells[i].input_prompt_number == nbb_cell_id) {\n",
       "                        if (nbb_cells[i].get_text() == nbb_unformatted_code) {\n",
       "                             nbb_cells[i].set_text(nbb_formatted_code);\n",
       "                        }\n",
       "                        break;\n",
       "                    }\n",
       "                }\n",
       "            }, 500);\n",
       "            "
      ],
      "text/plain": [
       "<IPython.core.display.Javascript object>"
      ]
     },
     "metadata": {},
     "output_type": "display_data"
    },
    {
     "data": {
      "application/javascript": [
       "\n",
       "            setTimeout(function() {\n",
       "                var nbb_cell_id = 69;\n",
       "                var nbb_unformatted_code = \"# add visibility as a feature var\\nX = df[[\\\"humidity\\\", \\\"windspeed\\\", \\\"visibility\\\"]]\\ny = df.temp_diff\\n\\nX_train, X_test, y_train, y_test = train_test_split(X, y, random_state=28)\";\n",
       "                var nbb_formatted_code = \"# add visibility as a feature var\\nX = df[[\\\"humidity\\\", \\\"windspeed\\\", \\\"visibility\\\"]]\\ny = df.temp_diff\\n\\nX_train, X_test, y_train, y_test = train_test_split(X, y, random_state=28)\";\n",
       "                var nbb_cells = Jupyter.notebook.get_cells();\n",
       "                for (var i = 0; i < nbb_cells.length; ++i) {\n",
       "                    if (nbb_cells[i].input_prompt_number == nbb_cell_id) {\n",
       "                        if (nbb_cells[i].get_text() == nbb_unformatted_code) {\n",
       "                             nbb_cells[i].set_text(nbb_formatted_code);\n",
       "                        }\n",
       "                        break;\n",
       "                    }\n",
       "                }\n",
       "            }, 500);\n",
       "            "
      ],
      "text/plain": [
       "<IPython.core.display.Javascript object>"
      ]
     },
     "metadata": {},
     "output_type": "display_data"
    },
    {
     "data": {
      "application/javascript": [
       "\n",
       "            setTimeout(function() {\n",
       "                var nbb_cell_id = 69;\n",
       "                var nbb_unformatted_code = \"# add visibility as a feature var\\nX = df[[\\\"humidity\\\", \\\"windspeed\\\", \\\"visibility\\\"]]\\ny = df.temp_diff\\n\\nX_train, X_test, y_train, y_test = train_test_split(X, y, random_state=28)\";\n",
       "                var nbb_formatted_code = \"# add visibility as a feature var\\nX = df[[\\\"humidity\\\", \\\"windspeed\\\", \\\"visibility\\\"]]\\ny = df.temp_diff\\n\\nX_train, X_test, y_train, y_test = train_test_split(X, y, random_state=28)\";\n",
       "                var nbb_cells = Jupyter.notebook.get_cells();\n",
       "                for (var i = 0; i < nbb_cells.length; ++i) {\n",
       "                    if (nbb_cells[i].input_prompt_number == nbb_cell_id) {\n",
       "                        if (nbb_cells[i].get_text() == nbb_unformatted_code) {\n",
       "                             nbb_cells[i].set_text(nbb_formatted_code);\n",
       "                        }\n",
       "                        break;\n",
       "                    }\n",
       "                }\n",
       "            }, 500);\n",
       "            "
      ],
      "text/plain": [
       "<IPython.core.display.Javascript object>"
      ]
     },
     "metadata": {},
     "output_type": "display_data"
    }
   ],
   "source": [
    "# add visibility as a feature var\n",
    "X = df[[\"humidity\", \"windspeed\", \"visibility\"]]\n",
    "y = df.temp_diff\n",
    "\n",
    "X_train, X_test, y_train, y_test = train_test_split(X, y, random_state=28)"
   ]
  },
  {
   "cell_type": "code",
   "execution_count": 70,
   "metadata": {},
   "outputs": [
    {
     "data": {
      "text/html": [
       "<table class=\"simpletable\">\n",
       "<caption>OLS Regression Results</caption>\n",
       "<tr>\n",
       "  <th>Dep. Variable:</th>        <td>temp_diff</td>    <th>  R-squared:         </th>  <td>   0.303</td>  \n",
       "</tr>\n",
       "<tr>\n",
       "  <th>Model:</th>                   <td>OLS</td>       <th>  Adj. R-squared:    </th>  <td>   0.303</td>  \n",
       "</tr>\n",
       "<tr>\n",
       "  <th>Method:</th>             <td>Least Squares</td>  <th>  F-statistic:       </th>  <td>1.046e+04</td> \n",
       "</tr>\n",
       "<tr>\n",
       "  <th>Date:</th>             <td>Wed, 09 Dec 2020</td> <th>  Prob (F-statistic):</th>   <td>  0.00</td>   \n",
       "</tr>\n",
       "<tr>\n",
       "  <th>Time:</th>                 <td>16:13:20</td>     <th>  Log-Likelihood:    </th> <td>-1.2698e+05</td>\n",
       "</tr>\n",
       "<tr>\n",
       "  <th>No. Observations:</th>      <td> 72339</td>      <th>  AIC:               </th>  <td>2.540e+05</td> \n",
       "</tr>\n",
       "<tr>\n",
       "  <th>Df Residuals:</th>          <td> 72335</td>      <th>  BIC:               </th>  <td>2.540e+05</td> \n",
       "</tr>\n",
       "<tr>\n",
       "  <th>Df Model:</th>              <td>     3</td>      <th>                     </th>      <td> </td>     \n",
       "</tr>\n",
       "<tr>\n",
       "  <th>Covariance Type:</th>      <td>nonrobust</td>    <th>                     </th>      <td> </td>     \n",
       "</tr>\n",
       "</table>\n",
       "<table class=\"simpletable\">\n",
       "<tr>\n",
       "       <td></td>         <th>coef</th>     <th>std err</th>      <th>t</th>      <th>P>|t|</th>  <th>[0.025</th>    <th>0.975]</th>  \n",
       "</tr>\n",
       "<tr>\n",
       "  <th>const</th>      <td>    1.5649</td> <td>    0.032</td> <td>   48.702</td> <td> 0.000</td> <td>    1.502</td> <td>    1.628</td>\n",
       "</tr>\n",
       "<tr>\n",
       "  <th>humidity</th>   <td>   -2.5925</td> <td>    0.029</td> <td>  -88.511</td> <td> 0.000</td> <td>   -2.650</td> <td>   -2.535</td>\n",
       "</tr>\n",
       "<tr>\n",
       "  <th>windspeed</th>  <td>   -0.1194</td> <td>    0.001</td> <td> -154.751</td> <td> 0.000</td> <td>   -0.121</td> <td>   -0.118</td>\n",
       "</tr>\n",
       "<tr>\n",
       "  <th>visibility</th> <td>    0.0539</td> <td>    0.001</td> <td>   40.375</td> <td> 0.000</td> <td>    0.051</td> <td>    0.057</td>\n",
       "</tr>\n",
       "</table>\n",
       "<table class=\"simpletable\">\n",
       "<tr>\n",
       "  <th>Omnibus:</th>       <td>2868.498</td> <th>  Durbin-Watson:     </th> <td>   2.005</td>\n",
       "</tr>\n",
       "<tr>\n",
       "  <th>Prob(Omnibus):</th>  <td> 0.000</td>  <th>  Jarque-Bera (JB):  </th> <td>3422.938</td>\n",
       "</tr>\n",
       "<tr>\n",
       "  <th>Skew:</th>           <td>-0.459</td>  <th>  Prob(JB):          </th> <td>    0.00</td>\n",
       "</tr>\n",
       "<tr>\n",
       "  <th>Kurtosis:</th>       <td> 3.540</td>  <th>  Cond. No.          </th> <td>    131.</td>\n",
       "</tr>\n",
       "</table><br/><br/>Warnings:<br/>[1] Standard Errors assume that the covariance matrix of the errors is correctly specified."
      ],
      "text/plain": [
       "<class 'statsmodels.iolib.summary.Summary'>\n",
       "\"\"\"\n",
       "                            OLS Regression Results                            \n",
       "==============================================================================\n",
       "Dep. Variable:              temp_diff   R-squared:                       0.303\n",
       "Model:                            OLS   Adj. R-squared:                  0.303\n",
       "Method:                 Least Squares   F-statistic:                 1.046e+04\n",
       "Date:                Wed, 09 Dec 2020   Prob (F-statistic):               0.00\n",
       "Time:                        16:13:20   Log-Likelihood:            -1.2698e+05\n",
       "No. Observations:               72339   AIC:                         2.540e+05\n",
       "Df Residuals:                   72335   BIC:                         2.540e+05\n",
       "Df Model:                           3                                         \n",
       "Covariance Type:            nonrobust                                         \n",
       "==============================================================================\n",
       "                 coef    std err          t      P>|t|      [0.025      0.975]\n",
       "------------------------------------------------------------------------------\n",
       "const          1.5649      0.032     48.702      0.000       1.502       1.628\n",
       "humidity      -2.5925      0.029    -88.511      0.000      -2.650      -2.535\n",
       "windspeed     -0.1194      0.001   -154.751      0.000      -0.121      -0.118\n",
       "visibility     0.0539      0.001     40.375      0.000       0.051       0.057\n",
       "==============================================================================\n",
       "Omnibus:                     2868.498   Durbin-Watson:                   2.005\n",
       "Prob(Omnibus):                  0.000   Jarque-Bera (JB):             3422.938\n",
       "Skew:                          -0.459   Prob(JB):                         0.00\n",
       "Kurtosis:                       3.540   Cond. No.                         131.\n",
       "==============================================================================\n",
       "\n",
       "Warnings:\n",
       "[1] Standard Errors assume that the covariance matrix of the errors is correctly specified.\n",
       "\"\"\""
      ]
     },
     "execution_count": 70,
     "metadata": {},
     "output_type": "execute_result"
    },
    {
     "data": {
      "application/javascript": [
       "\n",
       "            setTimeout(function() {\n",
       "                var nbb_cell_id = 70;\n",
       "                var nbb_unformatted_code = \"# create model object\\nX_train_const = sm.add_constant(X_train)\\nmodel = sm.OLS(y_train, X_train_const).fit()\\nmodel.summary()\";\n",
       "                var nbb_formatted_code = \"# create model object\\nX_train_const = sm.add_constant(X_train)\\nmodel = sm.OLS(y_train, X_train_const).fit()\\nmodel.summary()\";\n",
       "                var nbb_cells = Jupyter.notebook.get_cells();\n",
       "                for (var i = 0; i < nbb_cells.length; ++i) {\n",
       "                    if (nbb_cells[i].input_prompt_number == nbb_cell_id) {\n",
       "                        if (nbb_cells[i].get_text() == nbb_unformatted_code) {\n",
       "                             nbb_cells[i].set_text(nbb_formatted_code);\n",
       "                        }\n",
       "                        break;\n",
       "                    }\n",
       "                }\n",
       "            }, 500);\n",
       "            "
      ],
      "text/plain": [
       "<IPython.core.display.Javascript object>"
      ]
     },
     "metadata": {},
     "output_type": "display_data"
    },
    {
     "data": {
      "application/javascript": [
       "\n",
       "            setTimeout(function() {\n",
       "                var nbb_cell_id = 70;\n",
       "                var nbb_unformatted_code = \"# create model object\\nX_train_const = sm.add_constant(X_train)\\nmodel = sm.OLS(y_train, X_train_const).fit()\\nmodel.summary()\";\n",
       "                var nbb_formatted_code = \"# create model object\\nX_train_const = sm.add_constant(X_train)\\nmodel = sm.OLS(y_train, X_train_const).fit()\\nmodel.summary()\";\n",
       "                var nbb_cells = Jupyter.notebook.get_cells();\n",
       "                for (var i = 0; i < nbb_cells.length; ++i) {\n",
       "                    if (nbb_cells[i].input_prompt_number == nbb_cell_id) {\n",
       "                        if (nbb_cells[i].get_text() == nbb_unformatted_code) {\n",
       "                             nbb_cells[i].set_text(nbb_formatted_code);\n",
       "                        }\n",
       "                        break;\n",
       "                    }\n",
       "                }\n",
       "            }, 500);\n",
       "            "
      ],
      "text/plain": [
       "<IPython.core.display.Javascript object>"
      ]
     },
     "metadata": {},
     "output_type": "display_data"
    },
    {
     "data": {
      "application/javascript": [
       "\n",
       "            setTimeout(function() {\n",
       "                var nbb_cell_id = 70;\n",
       "                var nbb_unformatted_code = \"# create model object\\nX_train_const = sm.add_constant(X_train)\\nmodel = sm.OLS(y_train, X_train_const).fit()\\nmodel.summary()\";\n",
       "                var nbb_formatted_code = \"# create model object\\nX_train_const = sm.add_constant(X_train)\\nmodel = sm.OLS(y_train, X_train_const).fit()\\nmodel.summary()\";\n",
       "                var nbb_cells = Jupyter.notebook.get_cells();\n",
       "                for (var i = 0; i < nbb_cells.length; ++i) {\n",
       "                    if (nbb_cells[i].input_prompt_number == nbb_cell_id) {\n",
       "                        if (nbb_cells[i].get_text() == nbb_unformatted_code) {\n",
       "                             nbb_cells[i].set_text(nbb_formatted_code);\n",
       "                        }\n",
       "                        break;\n",
       "                    }\n",
       "                }\n",
       "            }, 500);\n",
       "            "
      ],
      "text/plain": [
       "<IPython.core.display.Javascript object>"
      ]
     },
     "metadata": {},
     "output_type": "display_data"
    },
    {
     "data": {
      "application/javascript": [
       "\n",
       "            setTimeout(function() {\n",
       "                var nbb_cell_id = 70;\n",
       "                var nbb_unformatted_code = \"# create model object\\nX_train_const = sm.add_constant(X_train)\\nmodel = sm.OLS(y_train, X_train_const).fit()\\nmodel.summary()\";\n",
       "                var nbb_formatted_code = \"# create model object\\nX_train_const = sm.add_constant(X_train)\\nmodel = sm.OLS(y_train, X_train_const).fit()\\nmodel.summary()\";\n",
       "                var nbb_cells = Jupyter.notebook.get_cells();\n",
       "                for (var i = 0; i < nbb_cells.length; ++i) {\n",
       "                    if (nbb_cells[i].input_prompt_number == nbb_cell_id) {\n",
       "                        if (nbb_cells[i].get_text() == nbb_unformatted_code) {\n",
       "                             nbb_cells[i].set_text(nbb_formatted_code);\n",
       "                        }\n",
       "                        break;\n",
       "                    }\n",
       "                }\n",
       "            }, 500);\n",
       "            "
      ],
      "text/plain": [
       "<IPython.core.display.Javascript object>"
      ]
     },
     "metadata": {},
     "output_type": "display_data"
    },
    {
     "data": {
      "application/javascript": [
       "\n",
       "            setTimeout(function() {\n",
       "                var nbb_cell_id = 70;\n",
       "                var nbb_unformatted_code = \"# create model object\\nX_train_const = sm.add_constant(X_train)\\nmodel = sm.OLS(y_train, X_train_const).fit()\\nmodel.summary()\";\n",
       "                var nbb_formatted_code = \"# create model object\\nX_train_const = sm.add_constant(X_train)\\nmodel = sm.OLS(y_train, X_train_const).fit()\\nmodel.summary()\";\n",
       "                var nbb_cells = Jupyter.notebook.get_cells();\n",
       "                for (var i = 0; i < nbb_cells.length; ++i) {\n",
       "                    if (nbb_cells[i].input_prompt_number == nbb_cell_id) {\n",
       "                        if (nbb_cells[i].get_text() == nbb_unformatted_code) {\n",
       "                             nbb_cells[i].set_text(nbb_formatted_code);\n",
       "                        }\n",
       "                        break;\n",
       "                    }\n",
       "                }\n",
       "            }, 500);\n",
       "            "
      ],
      "text/plain": [
       "<IPython.core.display.Javascript object>"
      ]
     },
     "metadata": {},
     "output_type": "display_data"
    }
   ],
   "source": [
    "# create model object\n",
    "X_train_const = sm.add_constant(X_train)\n",
    "model = sm.OLS(y_train, X_train_const).fit()\n",
    "model.summary()"
   ]
  },
  {
   "cell_type": "markdown",
   "metadata": {},
   "source": [
    "> The r-squared values increased another 0.02 points with visibility\n",
    "> the interaction term imporved the r-squared value more\n",
    "---"
   ]
  },
  {
   "cell_type": "markdown",
   "metadata": {},
   "source": [
    "> the last model is the best in regards to AIC and BIC"
   ]
  },
  {
   "cell_type": "markdown",
   "metadata": {},
   "source": [
    "# Houseprices"
   ]
  },
  {
   "cell_type": "code",
   "execution_count": 20,
   "metadata": {},
   "outputs": [
    {
     "data": {
      "application/javascript": [
       "\n",
       "            setTimeout(function() {\n",
       "                var nbb_cell_id = 20;\n",
       "                var nbb_unformatted_code = \"postgres_user = \\\"dsbc_student\\\"\\npostgres_pw = \\\"7*.8G9QH21\\\"\\npostgres_host = \\\"142.93.121.174\\\"\\npostgres_port = \\\"5432\\\"\\npostgres_db = \\\"houseprices\\\"\\nconn_str = f\\\"postgresql://{postgres_user}:{postgres_pw}@{postgres_host}:{postgres_port}/{postgres_db}\\\"\\nquery = \\\"\\\"\\\"\\nSELECT *\\nFROM houseprices\\n\\\"\\\"\\\"\\ndf = pd.read_sql_query(query, con=conn_str)\";\n",
       "                var nbb_formatted_code = \"postgres_user = \\\"dsbc_student\\\"\\npostgres_pw = \\\"7*.8G9QH21\\\"\\npostgres_host = \\\"142.93.121.174\\\"\\npostgres_port = \\\"5432\\\"\\npostgres_db = \\\"houseprices\\\"\\nconn_str = f\\\"postgresql://{postgres_user}:{postgres_pw}@{postgres_host}:{postgres_port}/{postgres_db}\\\"\\nquery = \\\"\\\"\\\"\\nSELECT *\\nFROM houseprices\\n\\\"\\\"\\\"\\ndf = pd.read_sql_query(query, con=conn_str)\";\n",
       "                var nbb_cells = Jupyter.notebook.get_cells();\n",
       "                for (var i = 0; i < nbb_cells.length; ++i) {\n",
       "                    if (nbb_cells[i].input_prompt_number == nbb_cell_id) {\n",
       "                        if (nbb_cells[i].get_text() == nbb_unformatted_code) {\n",
       "                             nbb_cells[i].set_text(nbb_formatted_code);\n",
       "                        }\n",
       "                        break;\n",
       "                    }\n",
       "                }\n",
       "            }, 500);\n",
       "            "
      ],
      "text/plain": [
       "<IPython.core.display.Javascript object>"
      ]
     },
     "metadata": {},
     "output_type": "display_data"
    },
    {
     "data": {
      "application/javascript": [
       "\n",
       "            setTimeout(function() {\n",
       "                var nbb_cell_id = 20;\n",
       "                var nbb_unformatted_code = \"postgres_user = \\\"dsbc_student\\\"\\npostgres_pw = \\\"7*.8G9QH21\\\"\\npostgres_host = \\\"142.93.121.174\\\"\\npostgres_port = \\\"5432\\\"\\npostgres_db = \\\"houseprices\\\"\\nconn_str = f\\\"postgresql://{postgres_user}:{postgres_pw}@{postgres_host}:{postgres_port}/{postgres_db}\\\"\\nquery = \\\"\\\"\\\"\\nSELECT *\\nFROM houseprices\\n\\\"\\\"\\\"\\ndf = pd.read_sql_query(query, con=conn_str)\";\n",
       "                var nbb_formatted_code = \"postgres_user = \\\"dsbc_student\\\"\\npostgres_pw = \\\"7*.8G9QH21\\\"\\npostgres_host = \\\"142.93.121.174\\\"\\npostgres_port = \\\"5432\\\"\\npostgres_db = \\\"houseprices\\\"\\nconn_str = f\\\"postgresql://{postgres_user}:{postgres_pw}@{postgres_host}:{postgres_port}/{postgres_db}\\\"\\nquery = \\\"\\\"\\\"\\nSELECT *\\nFROM houseprices\\n\\\"\\\"\\\"\\ndf = pd.read_sql_query(query, con=conn_str)\";\n",
       "                var nbb_cells = Jupyter.notebook.get_cells();\n",
       "                for (var i = 0; i < nbb_cells.length; ++i) {\n",
       "                    if (nbb_cells[i].input_prompt_number == nbb_cell_id) {\n",
       "                        if (nbb_cells[i].get_text() == nbb_unformatted_code) {\n",
       "                             nbb_cells[i].set_text(nbb_formatted_code);\n",
       "                        }\n",
       "                        break;\n",
       "                    }\n",
       "                }\n",
       "            }, 500);\n",
       "            "
      ],
      "text/plain": [
       "<IPython.core.display.Javascript object>"
      ]
     },
     "metadata": {},
     "output_type": "display_data"
    },
    {
     "data": {
      "application/javascript": [
       "\n",
       "            setTimeout(function() {\n",
       "                var nbb_cell_id = 20;\n",
       "                var nbb_unformatted_code = \"postgres_user = \\\"dsbc_student\\\"\\npostgres_pw = \\\"7*.8G9QH21\\\"\\npostgres_host = \\\"142.93.121.174\\\"\\npostgres_port = \\\"5432\\\"\\npostgres_db = \\\"houseprices\\\"\\nconn_str = f\\\"postgresql://{postgres_user}:{postgres_pw}@{postgres_host}:{postgres_port}/{postgres_db}\\\"\\nquery = \\\"\\\"\\\"\\nSELECT *\\nFROM houseprices\\n\\\"\\\"\\\"\\ndf = pd.read_sql_query(query, con=conn_str)\";\n",
       "                var nbb_formatted_code = \"postgres_user = \\\"dsbc_student\\\"\\npostgres_pw = \\\"7*.8G9QH21\\\"\\npostgres_host = \\\"142.93.121.174\\\"\\npostgres_port = \\\"5432\\\"\\npostgres_db = \\\"houseprices\\\"\\nconn_str = f\\\"postgresql://{postgres_user}:{postgres_pw}@{postgres_host}:{postgres_port}/{postgres_db}\\\"\\nquery = \\\"\\\"\\\"\\nSELECT *\\nFROM houseprices\\n\\\"\\\"\\\"\\ndf = pd.read_sql_query(query, con=conn_str)\";\n",
       "                var nbb_cells = Jupyter.notebook.get_cells();\n",
       "                for (var i = 0; i < nbb_cells.length; ++i) {\n",
       "                    if (nbb_cells[i].input_prompt_number == nbb_cell_id) {\n",
       "                        if (nbb_cells[i].get_text() == nbb_unformatted_code) {\n",
       "                             nbb_cells[i].set_text(nbb_formatted_code);\n",
       "                        }\n",
       "                        break;\n",
       "                    }\n",
       "                }\n",
       "            }, 500);\n",
       "            "
      ],
      "text/plain": [
       "<IPython.core.display.Javascript object>"
      ]
     },
     "metadata": {},
     "output_type": "display_data"
    },
    {
     "data": {
      "application/javascript": [
       "\n",
       "            setTimeout(function() {\n",
       "                var nbb_cell_id = 20;\n",
       "                var nbb_unformatted_code = \"postgres_user = \\\"dsbc_student\\\"\\npostgres_pw = \\\"7*.8G9QH21\\\"\\npostgres_host = \\\"142.93.121.174\\\"\\npostgres_port = \\\"5432\\\"\\npostgres_db = \\\"houseprices\\\"\\nconn_str = f\\\"postgresql://{postgres_user}:{postgres_pw}@{postgres_host}:{postgres_port}/{postgres_db}\\\"\\nquery = \\\"\\\"\\\"\\nSELECT *\\nFROM houseprices\\n\\\"\\\"\\\"\\ndf = pd.read_sql_query(query, con=conn_str)\";\n",
       "                var nbb_formatted_code = \"postgres_user = \\\"dsbc_student\\\"\\npostgres_pw = \\\"7*.8G9QH21\\\"\\npostgres_host = \\\"142.93.121.174\\\"\\npostgres_port = \\\"5432\\\"\\npostgres_db = \\\"houseprices\\\"\\nconn_str = f\\\"postgresql://{postgres_user}:{postgres_pw}@{postgres_host}:{postgres_port}/{postgres_db}\\\"\\nquery = \\\"\\\"\\\"\\nSELECT *\\nFROM houseprices\\n\\\"\\\"\\\"\\ndf = pd.read_sql_query(query, con=conn_str)\";\n",
       "                var nbb_cells = Jupyter.notebook.get_cells();\n",
       "                for (var i = 0; i < nbb_cells.length; ++i) {\n",
       "                    if (nbb_cells[i].input_prompt_number == nbb_cell_id) {\n",
       "                        if (nbb_cells[i].get_text() == nbb_unformatted_code) {\n",
       "                             nbb_cells[i].set_text(nbb_formatted_code);\n",
       "                        }\n",
       "                        break;\n",
       "                    }\n",
       "                }\n",
       "            }, 500);\n",
       "            "
      ],
      "text/plain": [
       "<IPython.core.display.Javascript object>"
      ]
     },
     "metadata": {},
     "output_type": "display_data"
    }
   ],
   "source": [
    "postgres_user = \"dsbc_student\"\n",
    "postgres_pw = \"7*.8G9QH21\"\n",
    "postgres_host = \"142.93.121.174\"\n",
    "postgres_port = \"5432\"\n",
    "postgres_db = \"houseprices\"\n",
    "conn_str = f\"postgresql://{postgres_user}:{postgres_pw}@{postgres_host}:{postgres_port}/{postgres_db}\"\n",
    "query = \"\"\"\n",
    "SELECT *\n",
    "FROM houseprices\n",
    "\"\"\"\n",
    "df = pd.read_sql_query(query, con=conn_str)"
   ]
  },
  {
   "cell_type": "code",
   "execution_count": 21,
   "metadata": {
    "scrolled": true
   },
   "outputs": [
    {
     "data": {
      "text/html": [
       "<div>\n",
       "<style scoped>\n",
       "    .dataframe tbody tr th:only-of-type {\n",
       "        vertical-align: middle;\n",
       "    }\n",
       "\n",
       "    .dataframe tbody tr th {\n",
       "        vertical-align: top;\n",
       "    }\n",
       "\n",
       "    .dataframe thead th {\n",
       "        text-align: right;\n",
       "    }\n",
       "</style>\n",
       "<table border=\"1\" class=\"dataframe\">\n",
       "  <thead>\n",
       "    <tr style=\"text-align: right;\">\n",
       "      <th></th>\n",
       "      <th>mssubclass</th>\n",
       "      <th>mszoning</th>\n",
       "      <th>lotfrontage</th>\n",
       "      <th>lotarea</th>\n",
       "      <th>street</th>\n",
       "      <th>alley</th>\n",
       "      <th>lotshape</th>\n",
       "      <th>landcontour</th>\n",
       "      <th>utilities</th>\n",
       "      <th>lotconfig</th>\n",
       "      <th>...</th>\n",
       "      <th>poolarea</th>\n",
       "      <th>poolqc</th>\n",
       "      <th>fence</th>\n",
       "      <th>miscfeature</th>\n",
       "      <th>miscval</th>\n",
       "      <th>mosold</th>\n",
       "      <th>yrsold</th>\n",
       "      <th>saletype</th>\n",
       "      <th>salecondition</th>\n",
       "      <th>saleprice</th>\n",
       "    </tr>\n",
       "  </thead>\n",
       "  <tbody>\n",
       "    <tr>\n",
       "      <th>0</th>\n",
       "      <td>60</td>\n",
       "      <td>RL</td>\n",
       "      <td>65.0</td>\n",
       "      <td>8450</td>\n",
       "      <td>Pave</td>\n",
       "      <td>None</td>\n",
       "      <td>Reg</td>\n",
       "      <td>Lvl</td>\n",
       "      <td>AllPub</td>\n",
       "      <td>Inside</td>\n",
       "      <td>...</td>\n",
       "      <td>0</td>\n",
       "      <td>None</td>\n",
       "      <td>None</td>\n",
       "      <td>None</td>\n",
       "      <td>0</td>\n",
       "      <td>2</td>\n",
       "      <td>2008</td>\n",
       "      <td>WD</td>\n",
       "      <td>Normal</td>\n",
       "      <td>208500</td>\n",
       "    </tr>\n",
       "    <tr>\n",
       "      <th>1</th>\n",
       "      <td>20</td>\n",
       "      <td>RL</td>\n",
       "      <td>80.0</td>\n",
       "      <td>9600</td>\n",
       "      <td>Pave</td>\n",
       "      <td>None</td>\n",
       "      <td>Reg</td>\n",
       "      <td>Lvl</td>\n",
       "      <td>AllPub</td>\n",
       "      <td>FR2</td>\n",
       "      <td>...</td>\n",
       "      <td>0</td>\n",
       "      <td>None</td>\n",
       "      <td>None</td>\n",
       "      <td>None</td>\n",
       "      <td>0</td>\n",
       "      <td>5</td>\n",
       "      <td>2007</td>\n",
       "      <td>WD</td>\n",
       "      <td>Normal</td>\n",
       "      <td>181500</td>\n",
       "    </tr>\n",
       "    <tr>\n",
       "      <th>2</th>\n",
       "      <td>60</td>\n",
       "      <td>RL</td>\n",
       "      <td>68.0</td>\n",
       "      <td>11250</td>\n",
       "      <td>Pave</td>\n",
       "      <td>None</td>\n",
       "      <td>IR1</td>\n",
       "      <td>Lvl</td>\n",
       "      <td>AllPub</td>\n",
       "      <td>Inside</td>\n",
       "      <td>...</td>\n",
       "      <td>0</td>\n",
       "      <td>None</td>\n",
       "      <td>None</td>\n",
       "      <td>None</td>\n",
       "      <td>0</td>\n",
       "      <td>9</td>\n",
       "      <td>2008</td>\n",
       "      <td>WD</td>\n",
       "      <td>Normal</td>\n",
       "      <td>223500</td>\n",
       "    </tr>\n",
       "    <tr>\n",
       "      <th>3</th>\n",
       "      <td>70</td>\n",
       "      <td>RL</td>\n",
       "      <td>60.0</td>\n",
       "      <td>9550</td>\n",
       "      <td>Pave</td>\n",
       "      <td>None</td>\n",
       "      <td>IR1</td>\n",
       "      <td>Lvl</td>\n",
       "      <td>AllPub</td>\n",
       "      <td>Corner</td>\n",
       "      <td>...</td>\n",
       "      <td>0</td>\n",
       "      <td>None</td>\n",
       "      <td>None</td>\n",
       "      <td>None</td>\n",
       "      <td>0</td>\n",
       "      <td>2</td>\n",
       "      <td>2006</td>\n",
       "      <td>WD</td>\n",
       "      <td>Abnorml</td>\n",
       "      <td>140000</td>\n",
       "    </tr>\n",
       "    <tr>\n",
       "      <th>4</th>\n",
       "      <td>60</td>\n",
       "      <td>RL</td>\n",
       "      <td>84.0</td>\n",
       "      <td>14260</td>\n",
       "      <td>Pave</td>\n",
       "      <td>None</td>\n",
       "      <td>IR1</td>\n",
       "      <td>Lvl</td>\n",
       "      <td>AllPub</td>\n",
       "      <td>FR2</td>\n",
       "      <td>...</td>\n",
       "      <td>0</td>\n",
       "      <td>None</td>\n",
       "      <td>None</td>\n",
       "      <td>None</td>\n",
       "      <td>0</td>\n",
       "      <td>12</td>\n",
       "      <td>2008</td>\n",
       "      <td>WD</td>\n",
       "      <td>Normal</td>\n",
       "      <td>250000</td>\n",
       "    </tr>\n",
       "  </tbody>\n",
       "</table>\n",
       "<p>5 rows × 80 columns</p>\n",
       "</div>"
      ],
      "text/plain": [
       "   mssubclass mszoning  lotfrontage  lotarea street alley lotshape  \\\n",
       "0          60       RL         65.0     8450   Pave  None      Reg   \n",
       "1          20       RL         80.0     9600   Pave  None      Reg   \n",
       "2          60       RL         68.0    11250   Pave  None      IR1   \n",
       "3          70       RL         60.0     9550   Pave  None      IR1   \n",
       "4          60       RL         84.0    14260   Pave  None      IR1   \n",
       "\n",
       "  landcontour utilities lotconfig  ... poolarea poolqc fence miscfeature  \\\n",
       "0         Lvl    AllPub    Inside  ...        0   None  None        None   \n",
       "1         Lvl    AllPub       FR2  ...        0   None  None        None   \n",
       "2         Lvl    AllPub    Inside  ...        0   None  None        None   \n",
       "3         Lvl    AllPub    Corner  ...        0   None  None        None   \n",
       "4         Lvl    AllPub       FR2  ...        0   None  None        None   \n",
       "\n",
       "  miscval mosold  yrsold  saletype  salecondition  saleprice  \n",
       "0       0      2    2008        WD         Normal     208500  \n",
       "1       0      5    2007        WD         Normal     181500  \n",
       "2       0      9    2008        WD         Normal     223500  \n",
       "3       0      2    2006        WD        Abnorml     140000  \n",
       "4       0     12    2008        WD         Normal     250000  \n",
       "\n",
       "[5 rows x 80 columns]"
      ]
     },
     "execution_count": 21,
     "metadata": {},
     "output_type": "execute_result"
    },
    {
     "data": {
      "application/javascript": [
       "\n",
       "            setTimeout(function() {\n",
       "                var nbb_cell_id = 21;\n",
       "                var nbb_unformatted_code = \"# drop id col\\ndf = df.drop(columns=[\\\"id\\\"])\\ndf.head()\";\n",
       "                var nbb_formatted_code = \"# drop id col\\ndf = df.drop(columns=[\\\"id\\\"])\\ndf.head()\";\n",
       "                var nbb_cells = Jupyter.notebook.get_cells();\n",
       "                for (var i = 0; i < nbb_cells.length; ++i) {\n",
       "                    if (nbb_cells[i].input_prompt_number == nbb_cell_id) {\n",
       "                        if (nbb_cells[i].get_text() == nbb_unformatted_code) {\n",
       "                             nbb_cells[i].set_text(nbb_formatted_code);\n",
       "                        }\n",
       "                        break;\n",
       "                    }\n",
       "                }\n",
       "            }, 500);\n",
       "            "
      ],
      "text/plain": [
       "<IPython.core.display.Javascript object>"
      ]
     },
     "metadata": {},
     "output_type": "display_data"
    },
    {
     "data": {
      "application/javascript": [
       "\n",
       "            setTimeout(function() {\n",
       "                var nbb_cell_id = 21;\n",
       "                var nbb_unformatted_code = \"# drop id col\\ndf = df.drop(columns=[\\\"id\\\"])\\ndf.head()\";\n",
       "                var nbb_formatted_code = \"# drop id col\\ndf = df.drop(columns=[\\\"id\\\"])\\ndf.head()\";\n",
       "                var nbb_cells = Jupyter.notebook.get_cells();\n",
       "                for (var i = 0; i < nbb_cells.length; ++i) {\n",
       "                    if (nbb_cells[i].input_prompt_number == nbb_cell_id) {\n",
       "                        if (nbb_cells[i].get_text() == nbb_unformatted_code) {\n",
       "                             nbb_cells[i].set_text(nbb_formatted_code);\n",
       "                        }\n",
       "                        break;\n",
       "                    }\n",
       "                }\n",
       "            }, 500);\n",
       "            "
      ],
      "text/plain": [
       "<IPython.core.display.Javascript object>"
      ]
     },
     "metadata": {},
     "output_type": "display_data"
    },
    {
     "data": {
      "application/javascript": [
       "\n",
       "            setTimeout(function() {\n",
       "                var nbb_cell_id = 21;\n",
       "                var nbb_unformatted_code = \"# drop id col\\ndf = df.drop(columns=[\\\"id\\\"])\\ndf.head()\";\n",
       "                var nbb_formatted_code = \"# drop id col\\ndf = df.drop(columns=[\\\"id\\\"])\\ndf.head()\";\n",
       "                var nbb_cells = Jupyter.notebook.get_cells();\n",
       "                for (var i = 0; i < nbb_cells.length; ++i) {\n",
       "                    if (nbb_cells[i].input_prompt_number == nbb_cell_id) {\n",
       "                        if (nbb_cells[i].get_text() == nbb_unformatted_code) {\n",
       "                             nbb_cells[i].set_text(nbb_formatted_code);\n",
       "                        }\n",
       "                        break;\n",
       "                    }\n",
       "                }\n",
       "            }, 500);\n",
       "            "
      ],
      "text/plain": [
       "<IPython.core.display.Javascript object>"
      ]
     },
     "metadata": {},
     "output_type": "display_data"
    },
    {
     "data": {
      "application/javascript": [
       "\n",
       "            setTimeout(function() {\n",
       "                var nbb_cell_id = 21;\n",
       "                var nbb_unformatted_code = \"# drop id col\\ndf = df.drop(columns=[\\\"id\\\"])\\ndf.head()\";\n",
       "                var nbb_formatted_code = \"# drop id col\\ndf = df.drop(columns=[\\\"id\\\"])\\ndf.head()\";\n",
       "                var nbb_cells = Jupyter.notebook.get_cells();\n",
       "                for (var i = 0; i < nbb_cells.length; ++i) {\n",
       "                    if (nbb_cells[i].input_prompt_number == nbb_cell_id) {\n",
       "                        if (nbb_cells[i].get_text() == nbb_unformatted_code) {\n",
       "                             nbb_cells[i].set_text(nbb_formatted_code);\n",
       "                        }\n",
       "                        break;\n",
       "                    }\n",
       "                }\n",
       "            }, 500);\n",
       "            "
      ],
      "text/plain": [
       "<IPython.core.display.Javascript object>"
      ]
     },
     "metadata": {},
     "output_type": "display_data"
    }
   ],
   "source": [
    "# drop id col\n",
    "df = df.drop(columns=[\"id\"])\n",
    "df.head()"
   ]
  },
  {
   "cell_type": "markdown",
   "metadata": {},
   "source": [
    "## Null values"
   ]
  },
  {
   "cell_type": "code",
   "execution_count": 22,
   "metadata": {},
   "outputs": [
    {
     "data": {
      "application/javascript": [
       "\n",
       "            setTimeout(function() {\n",
       "                var nbb_cell_id = 22;\n",
       "                var nbb_unformatted_code = \"# drop cols with high null count\\ndf.drop(\\n    columns=[\\\"poolqc\\\", \\\"alley\\\", \\\"miscfeature\\\", \\\"fence\\\", \\\"fireplacequ\\\", \\\"lotfrontage\\\"],\\n    inplace=True,\\n)\";\n",
       "                var nbb_formatted_code = \"# drop cols with high null count\\ndf.drop(\\n    columns=[\\\"poolqc\\\", \\\"alley\\\", \\\"miscfeature\\\", \\\"fence\\\", \\\"fireplacequ\\\", \\\"lotfrontage\\\"],\\n    inplace=True,\\n)\";\n",
       "                var nbb_cells = Jupyter.notebook.get_cells();\n",
       "                for (var i = 0; i < nbb_cells.length; ++i) {\n",
       "                    if (nbb_cells[i].input_prompt_number == nbb_cell_id) {\n",
       "                        if (nbb_cells[i].get_text() == nbb_unformatted_code) {\n",
       "                             nbb_cells[i].set_text(nbb_formatted_code);\n",
       "                        }\n",
       "                        break;\n",
       "                    }\n",
       "                }\n",
       "            }, 500);\n",
       "            "
      ],
      "text/plain": [
       "<IPython.core.display.Javascript object>"
      ]
     },
     "metadata": {},
     "output_type": "display_data"
    },
    {
     "data": {
      "application/javascript": [
       "\n",
       "            setTimeout(function() {\n",
       "                var nbb_cell_id = 22;\n",
       "                var nbb_unformatted_code = \"# drop cols with high null count\\ndf.drop(\\n    columns=[\\\"poolqc\\\", \\\"alley\\\", \\\"miscfeature\\\", \\\"fence\\\", \\\"fireplacequ\\\", \\\"lotfrontage\\\"],\\n    inplace=True,\\n)\";\n",
       "                var nbb_formatted_code = \"# drop cols with high null count\\ndf.drop(\\n    columns=[\\\"poolqc\\\", \\\"alley\\\", \\\"miscfeature\\\", \\\"fence\\\", \\\"fireplacequ\\\", \\\"lotfrontage\\\"],\\n    inplace=True,\\n)\";\n",
       "                var nbb_cells = Jupyter.notebook.get_cells();\n",
       "                for (var i = 0; i < nbb_cells.length; ++i) {\n",
       "                    if (nbb_cells[i].input_prompt_number == nbb_cell_id) {\n",
       "                        if (nbb_cells[i].get_text() == nbb_unformatted_code) {\n",
       "                             nbb_cells[i].set_text(nbb_formatted_code);\n",
       "                        }\n",
       "                        break;\n",
       "                    }\n",
       "                }\n",
       "            }, 500);\n",
       "            "
      ],
      "text/plain": [
       "<IPython.core.display.Javascript object>"
      ]
     },
     "metadata": {},
     "output_type": "display_data"
    },
    {
     "data": {
      "application/javascript": [
       "\n",
       "            setTimeout(function() {\n",
       "                var nbb_cell_id = 22;\n",
       "                var nbb_unformatted_code = \"# drop cols with high null count\\ndf.drop(\\n    columns=[\\\"poolqc\\\", \\\"alley\\\", \\\"miscfeature\\\", \\\"fence\\\", \\\"fireplacequ\\\", \\\"lotfrontage\\\"],\\n    inplace=True,\\n)\";\n",
       "                var nbb_formatted_code = \"# drop cols with high null count\\ndf.drop(\\n    columns=[\\\"poolqc\\\", \\\"alley\\\", \\\"miscfeature\\\", \\\"fence\\\", \\\"fireplacequ\\\", \\\"lotfrontage\\\"],\\n    inplace=True,\\n)\";\n",
       "                var nbb_cells = Jupyter.notebook.get_cells();\n",
       "                for (var i = 0; i < nbb_cells.length; ++i) {\n",
       "                    if (nbb_cells[i].input_prompt_number == nbb_cell_id) {\n",
       "                        if (nbb_cells[i].get_text() == nbb_unformatted_code) {\n",
       "                             nbb_cells[i].set_text(nbb_formatted_code);\n",
       "                        }\n",
       "                        break;\n",
       "                    }\n",
       "                }\n",
       "            }, 500);\n",
       "            "
      ],
      "text/plain": [
       "<IPython.core.display.Javascript object>"
      ]
     },
     "metadata": {},
     "output_type": "display_data"
    },
    {
     "data": {
      "application/javascript": [
       "\n",
       "            setTimeout(function() {\n",
       "                var nbb_cell_id = 22;\n",
       "                var nbb_unformatted_code = \"# drop cols with high null count\\ndf.drop(\\n    columns=[\\\"poolqc\\\", \\\"alley\\\", \\\"miscfeature\\\", \\\"fence\\\", \\\"fireplacequ\\\", \\\"lotfrontage\\\"],\\n    inplace=True,\\n)\";\n",
       "                var nbb_formatted_code = \"# drop cols with high null count\\ndf.drop(\\n    columns=[\\\"poolqc\\\", \\\"alley\\\", \\\"miscfeature\\\", \\\"fence\\\", \\\"fireplacequ\\\", \\\"lotfrontage\\\"],\\n    inplace=True,\\n)\";\n",
       "                var nbb_cells = Jupyter.notebook.get_cells();\n",
       "                for (var i = 0; i < nbb_cells.length; ++i) {\n",
       "                    if (nbb_cells[i].input_prompt_number == nbb_cell_id) {\n",
       "                        if (nbb_cells[i].get_text() == nbb_unformatted_code) {\n",
       "                             nbb_cells[i].set_text(nbb_formatted_code);\n",
       "                        }\n",
       "                        break;\n",
       "                    }\n",
       "                }\n",
       "            }, 500);\n",
       "            "
      ],
      "text/plain": [
       "<IPython.core.display.Javascript object>"
      ]
     },
     "metadata": {},
     "output_type": "display_data"
    }
   ],
   "source": [
    "# drop cols with high null count\n",
    "df.drop(\n",
    "    columns=[\"poolqc\", \"alley\", \"miscfeature\", \"fence\", \"fireplacequ\", \"lotfrontage\"],\n",
    "    inplace=True,\n",
    ")"
   ]
  },
  {
   "cell_type": "code",
   "execution_count": 23,
   "metadata": {},
   "outputs": [
    {
     "data": {
      "text/plain": [
       "Attchd     870\n",
       "Detchd     387\n",
       "BuiltIn     88\n",
       "Basment     19\n",
       "CarPort      9\n",
       "2Types       6\n",
       "Name: garagetype, dtype: int64"
      ]
     },
     "execution_count": 23,
     "metadata": {},
     "output_type": "execute_result"
    },
    {
     "data": {
      "application/javascript": [
       "\n",
       "            setTimeout(function() {\n",
       "                var nbb_cell_id = 23;\n",
       "                var nbb_unformatted_code = \"df.garagetype.value_counts()\";\n",
       "                var nbb_formatted_code = \"df.garagetype.value_counts()\";\n",
       "                var nbb_cells = Jupyter.notebook.get_cells();\n",
       "                for (var i = 0; i < nbb_cells.length; ++i) {\n",
       "                    if (nbb_cells[i].input_prompt_number == nbb_cell_id) {\n",
       "                        if (nbb_cells[i].get_text() == nbb_unformatted_code) {\n",
       "                             nbb_cells[i].set_text(nbb_formatted_code);\n",
       "                        }\n",
       "                        break;\n",
       "                    }\n",
       "                }\n",
       "            }, 500);\n",
       "            "
      ],
      "text/plain": [
       "<IPython.core.display.Javascript object>"
      ]
     },
     "metadata": {},
     "output_type": "display_data"
    },
    {
     "data": {
      "application/javascript": [
       "\n",
       "            setTimeout(function() {\n",
       "                var nbb_cell_id = 23;\n",
       "                var nbb_unformatted_code = \"df.garagetype.value_counts()\";\n",
       "                var nbb_formatted_code = \"df.garagetype.value_counts()\";\n",
       "                var nbb_cells = Jupyter.notebook.get_cells();\n",
       "                for (var i = 0; i < nbb_cells.length; ++i) {\n",
       "                    if (nbb_cells[i].input_prompt_number == nbb_cell_id) {\n",
       "                        if (nbb_cells[i].get_text() == nbb_unformatted_code) {\n",
       "                             nbb_cells[i].set_text(nbb_formatted_code);\n",
       "                        }\n",
       "                        break;\n",
       "                    }\n",
       "                }\n",
       "            }, 500);\n",
       "            "
      ],
      "text/plain": [
       "<IPython.core.display.Javascript object>"
      ]
     },
     "metadata": {},
     "output_type": "display_data"
    },
    {
     "data": {
      "application/javascript": [
       "\n",
       "            setTimeout(function() {\n",
       "                var nbb_cell_id = 23;\n",
       "                var nbb_unformatted_code = \"df.garagetype.value_counts()\";\n",
       "                var nbb_formatted_code = \"df.garagetype.value_counts()\";\n",
       "                var nbb_cells = Jupyter.notebook.get_cells();\n",
       "                for (var i = 0; i < nbb_cells.length; ++i) {\n",
       "                    if (nbb_cells[i].input_prompt_number == nbb_cell_id) {\n",
       "                        if (nbb_cells[i].get_text() == nbb_unformatted_code) {\n",
       "                             nbb_cells[i].set_text(nbb_formatted_code);\n",
       "                        }\n",
       "                        break;\n",
       "                    }\n",
       "                }\n",
       "            }, 500);\n",
       "            "
      ],
      "text/plain": [
       "<IPython.core.display.Javascript object>"
      ]
     },
     "metadata": {},
     "output_type": "display_data"
    },
    {
     "data": {
      "application/javascript": [
       "\n",
       "            setTimeout(function() {\n",
       "                var nbb_cell_id = 23;\n",
       "                var nbb_unformatted_code = \"df.garagetype.value_counts()\";\n",
       "                var nbb_formatted_code = \"df.garagetype.value_counts()\";\n",
       "                var nbb_cells = Jupyter.notebook.get_cells();\n",
       "                for (var i = 0; i < nbb_cells.length; ++i) {\n",
       "                    if (nbb_cells[i].input_prompt_number == nbb_cell_id) {\n",
       "                        if (nbb_cells[i].get_text() == nbb_unformatted_code) {\n",
       "                             nbb_cells[i].set_text(nbb_formatted_code);\n",
       "                        }\n",
       "                        break;\n",
       "                    }\n",
       "                }\n",
       "            }, 500);\n",
       "            "
      ],
      "text/plain": [
       "<IPython.core.display.Javascript object>"
      ]
     },
     "metadata": {},
     "output_type": "display_data"
    }
   ],
   "source": [
    "df.garagetype.value_counts()"
   ]
  },
  {
   "cell_type": "code",
   "execution_count": 24,
   "metadata": {},
   "outputs": [
    {
     "data": {
      "application/javascript": [
       "\n",
       "            setTimeout(function() {\n",
       "                var nbb_cell_id = 24;\n",
       "                var nbb_unformatted_code = \"# fill in null garage types with none\\ndf.garagetype.fillna(\\\"None\\\", inplace=True)\";\n",
       "                var nbb_formatted_code = \"# fill in null garage types with none\\ndf.garagetype.fillna(\\\"None\\\", inplace=True)\";\n",
       "                var nbb_cells = Jupyter.notebook.get_cells();\n",
       "                for (var i = 0; i < nbb_cells.length; ++i) {\n",
       "                    if (nbb_cells[i].input_prompt_number == nbb_cell_id) {\n",
       "                        if (nbb_cells[i].get_text() == nbb_unformatted_code) {\n",
       "                             nbb_cells[i].set_text(nbb_formatted_code);\n",
       "                        }\n",
       "                        break;\n",
       "                    }\n",
       "                }\n",
       "            }, 500);\n",
       "            "
      ],
      "text/plain": [
       "<IPython.core.display.Javascript object>"
      ]
     },
     "metadata": {},
     "output_type": "display_data"
    },
    {
     "data": {
      "application/javascript": [
       "\n",
       "            setTimeout(function() {\n",
       "                var nbb_cell_id = 24;\n",
       "                var nbb_unformatted_code = \"# fill in null garage types with none\\ndf.garagetype.fillna(\\\"None\\\", inplace=True)\";\n",
       "                var nbb_formatted_code = \"# fill in null garage types with none\\ndf.garagetype.fillna(\\\"None\\\", inplace=True)\";\n",
       "                var nbb_cells = Jupyter.notebook.get_cells();\n",
       "                for (var i = 0; i < nbb_cells.length; ++i) {\n",
       "                    if (nbb_cells[i].input_prompt_number == nbb_cell_id) {\n",
       "                        if (nbb_cells[i].get_text() == nbb_unformatted_code) {\n",
       "                             nbb_cells[i].set_text(nbb_formatted_code);\n",
       "                        }\n",
       "                        break;\n",
       "                    }\n",
       "                }\n",
       "            }, 500);\n",
       "            "
      ],
      "text/plain": [
       "<IPython.core.display.Javascript object>"
      ]
     },
     "metadata": {},
     "output_type": "display_data"
    },
    {
     "data": {
      "application/javascript": [
       "\n",
       "            setTimeout(function() {\n",
       "                var nbb_cell_id = 24;\n",
       "                var nbb_unformatted_code = \"# fill in null garage types with none\\ndf.garagetype.fillna(\\\"None\\\", inplace=True)\";\n",
       "                var nbb_formatted_code = \"# fill in null garage types with none\\ndf.garagetype.fillna(\\\"None\\\", inplace=True)\";\n",
       "                var nbb_cells = Jupyter.notebook.get_cells();\n",
       "                for (var i = 0; i < nbb_cells.length; ++i) {\n",
       "                    if (nbb_cells[i].input_prompt_number == nbb_cell_id) {\n",
       "                        if (nbb_cells[i].get_text() == nbb_unformatted_code) {\n",
       "                             nbb_cells[i].set_text(nbb_formatted_code);\n",
       "                        }\n",
       "                        break;\n",
       "                    }\n",
       "                }\n",
       "            }, 500);\n",
       "            "
      ],
      "text/plain": [
       "<IPython.core.display.Javascript object>"
      ]
     },
     "metadata": {},
     "output_type": "display_data"
    },
    {
     "data": {
      "application/javascript": [
       "\n",
       "            setTimeout(function() {\n",
       "                var nbb_cell_id = 24;\n",
       "                var nbb_unformatted_code = \"# fill in null garage types with none\\ndf.garagetype.fillna(\\\"None\\\", inplace=True)\";\n",
       "                var nbb_formatted_code = \"# fill in null garage types with none\\ndf.garagetype.fillna(\\\"None\\\", inplace=True)\";\n",
       "                var nbb_cells = Jupyter.notebook.get_cells();\n",
       "                for (var i = 0; i < nbb_cells.length; ++i) {\n",
       "                    if (nbb_cells[i].input_prompt_number == nbb_cell_id) {\n",
       "                        if (nbb_cells[i].get_text() == nbb_unformatted_code) {\n",
       "                             nbb_cells[i].set_text(nbb_formatted_code);\n",
       "                        }\n",
       "                        break;\n",
       "                    }\n",
       "                }\n",
       "            }, 500);\n",
       "            "
      ],
      "text/plain": [
       "<IPython.core.display.Javascript object>"
      ]
     },
     "metadata": {},
     "output_type": "display_data"
    }
   ],
   "source": [
    "# fill in null garage types with none\n",
    "df.garagetype.fillna(\"None\", inplace=True)"
   ]
  },
  {
   "cell_type": "code",
   "execution_count": 25,
   "metadata": {},
   "outputs": [
    {
     "data": {
      "application/javascript": [
       "\n",
       "            setTimeout(function() {\n",
       "                var nbb_cell_id = 25;\n",
       "                var nbb_unformatted_code = \"# drop cols for garage, basement, and masonry veneer extra information\\ndf.drop(\\n    columns=[\\n        \\\"garageyrblt\\\",\\n        \\\"garagefinish\\\",\\n        \\\"garagecond\\\",\\n        \\\"garagequal\\\",\\n        \\\"bsmtfintype2\\\",\\n        \\\"bsmtexposure\\\",\\n        \\\"bsmtfintype1\\\",\\n        \\\"bsmtqual\\\",\\n        \\\"bsmtcond\\\",\\n        \\\"masvnrtype\\\",\\n        \\\"masvnrarea\\\",\\n    ],\\n    inplace=True,\\n)\";\n",
       "                var nbb_formatted_code = \"# drop cols for garage, basement, and masonry veneer extra information\\ndf.drop(\\n    columns=[\\n        \\\"garageyrblt\\\",\\n        \\\"garagefinish\\\",\\n        \\\"garagecond\\\",\\n        \\\"garagequal\\\",\\n        \\\"bsmtfintype2\\\",\\n        \\\"bsmtexposure\\\",\\n        \\\"bsmtfintype1\\\",\\n        \\\"bsmtqual\\\",\\n        \\\"bsmtcond\\\",\\n        \\\"masvnrtype\\\",\\n        \\\"masvnrarea\\\",\\n    ],\\n    inplace=True,\\n)\";\n",
       "                var nbb_cells = Jupyter.notebook.get_cells();\n",
       "                for (var i = 0; i < nbb_cells.length; ++i) {\n",
       "                    if (nbb_cells[i].input_prompt_number == nbb_cell_id) {\n",
       "                        if (nbb_cells[i].get_text() == nbb_unformatted_code) {\n",
       "                             nbb_cells[i].set_text(nbb_formatted_code);\n",
       "                        }\n",
       "                        break;\n",
       "                    }\n",
       "                }\n",
       "            }, 500);\n",
       "            "
      ],
      "text/plain": [
       "<IPython.core.display.Javascript object>"
      ]
     },
     "metadata": {},
     "output_type": "display_data"
    },
    {
     "data": {
      "application/javascript": [
       "\n",
       "            setTimeout(function() {\n",
       "                var nbb_cell_id = 25;\n",
       "                var nbb_unformatted_code = \"# drop cols for garage, basement, and masonry veneer extra information\\ndf.drop(\\n    columns=[\\n        \\\"garageyrblt\\\",\\n        \\\"garagefinish\\\",\\n        \\\"garagecond\\\",\\n        \\\"garagequal\\\",\\n        \\\"bsmtfintype2\\\",\\n        \\\"bsmtexposure\\\",\\n        \\\"bsmtfintype1\\\",\\n        \\\"bsmtqual\\\",\\n        \\\"bsmtcond\\\",\\n        \\\"masvnrtype\\\",\\n        \\\"masvnrarea\\\",\\n    ],\\n    inplace=True,\\n)\";\n",
       "                var nbb_formatted_code = \"# drop cols for garage, basement, and masonry veneer extra information\\ndf.drop(\\n    columns=[\\n        \\\"garageyrblt\\\",\\n        \\\"garagefinish\\\",\\n        \\\"garagecond\\\",\\n        \\\"garagequal\\\",\\n        \\\"bsmtfintype2\\\",\\n        \\\"bsmtexposure\\\",\\n        \\\"bsmtfintype1\\\",\\n        \\\"bsmtqual\\\",\\n        \\\"bsmtcond\\\",\\n        \\\"masvnrtype\\\",\\n        \\\"masvnrarea\\\",\\n    ],\\n    inplace=True,\\n)\";\n",
       "                var nbb_cells = Jupyter.notebook.get_cells();\n",
       "                for (var i = 0; i < nbb_cells.length; ++i) {\n",
       "                    if (nbb_cells[i].input_prompt_number == nbb_cell_id) {\n",
       "                        if (nbb_cells[i].get_text() == nbb_unformatted_code) {\n",
       "                             nbb_cells[i].set_text(nbb_formatted_code);\n",
       "                        }\n",
       "                        break;\n",
       "                    }\n",
       "                }\n",
       "            }, 500);\n",
       "            "
      ],
      "text/plain": [
       "<IPython.core.display.Javascript object>"
      ]
     },
     "metadata": {},
     "output_type": "display_data"
    },
    {
     "data": {
      "application/javascript": [
       "\n",
       "            setTimeout(function() {\n",
       "                var nbb_cell_id = 25;\n",
       "                var nbb_unformatted_code = \"# drop cols for garage, basement, and masonry veneer extra information\\ndf.drop(\\n    columns=[\\n        \\\"garageyrblt\\\",\\n        \\\"garagefinish\\\",\\n        \\\"garagecond\\\",\\n        \\\"garagequal\\\",\\n        \\\"bsmtfintype2\\\",\\n        \\\"bsmtexposure\\\",\\n        \\\"bsmtfintype1\\\",\\n        \\\"bsmtqual\\\",\\n        \\\"bsmtcond\\\",\\n        \\\"masvnrtype\\\",\\n        \\\"masvnrarea\\\",\\n    ],\\n    inplace=True,\\n)\";\n",
       "                var nbb_formatted_code = \"# drop cols for garage, basement, and masonry veneer extra information\\ndf.drop(\\n    columns=[\\n        \\\"garageyrblt\\\",\\n        \\\"garagefinish\\\",\\n        \\\"garagecond\\\",\\n        \\\"garagequal\\\",\\n        \\\"bsmtfintype2\\\",\\n        \\\"bsmtexposure\\\",\\n        \\\"bsmtfintype1\\\",\\n        \\\"bsmtqual\\\",\\n        \\\"bsmtcond\\\",\\n        \\\"masvnrtype\\\",\\n        \\\"masvnrarea\\\",\\n    ],\\n    inplace=True,\\n)\";\n",
       "                var nbb_cells = Jupyter.notebook.get_cells();\n",
       "                for (var i = 0; i < nbb_cells.length; ++i) {\n",
       "                    if (nbb_cells[i].input_prompt_number == nbb_cell_id) {\n",
       "                        if (nbb_cells[i].get_text() == nbb_unformatted_code) {\n",
       "                             nbb_cells[i].set_text(nbb_formatted_code);\n",
       "                        }\n",
       "                        break;\n",
       "                    }\n",
       "                }\n",
       "            }, 500);\n",
       "            "
      ],
      "text/plain": [
       "<IPython.core.display.Javascript object>"
      ]
     },
     "metadata": {},
     "output_type": "display_data"
    },
    {
     "data": {
      "application/javascript": [
       "\n",
       "            setTimeout(function() {\n",
       "                var nbb_cell_id = 25;\n",
       "                var nbb_unformatted_code = \"# drop cols for garage, basement, and masonry veneer extra information\\ndf.drop(\\n    columns=[\\n        \\\"garageyrblt\\\",\\n        \\\"garagefinish\\\",\\n        \\\"garagecond\\\",\\n        \\\"garagequal\\\",\\n        \\\"bsmtfintype2\\\",\\n        \\\"bsmtexposure\\\",\\n        \\\"bsmtfintype1\\\",\\n        \\\"bsmtqual\\\",\\n        \\\"bsmtcond\\\",\\n        \\\"masvnrtype\\\",\\n        \\\"masvnrarea\\\",\\n    ],\\n    inplace=True,\\n)\";\n",
       "                var nbb_formatted_code = \"# drop cols for garage, basement, and masonry veneer extra information\\ndf.drop(\\n    columns=[\\n        \\\"garageyrblt\\\",\\n        \\\"garagefinish\\\",\\n        \\\"garagecond\\\",\\n        \\\"garagequal\\\",\\n        \\\"bsmtfintype2\\\",\\n        \\\"bsmtexposure\\\",\\n        \\\"bsmtfintype1\\\",\\n        \\\"bsmtqual\\\",\\n        \\\"bsmtcond\\\",\\n        \\\"masvnrtype\\\",\\n        \\\"masvnrarea\\\",\\n    ],\\n    inplace=True,\\n)\";\n",
       "                var nbb_cells = Jupyter.notebook.get_cells();\n",
       "                for (var i = 0; i < nbb_cells.length; ++i) {\n",
       "                    if (nbb_cells[i].input_prompt_number == nbb_cell_id) {\n",
       "                        if (nbb_cells[i].get_text() == nbb_unformatted_code) {\n",
       "                             nbb_cells[i].set_text(nbb_formatted_code);\n",
       "                        }\n",
       "                        break;\n",
       "                    }\n",
       "                }\n",
       "            }, 500);\n",
       "            "
      ],
      "text/plain": [
       "<IPython.core.display.Javascript object>"
      ]
     },
     "metadata": {},
     "output_type": "display_data"
    }
   ],
   "source": [
    "# drop cols for garage, basement, and masonry veneer extra information\n",
    "df.drop(\n",
    "    columns=[\n",
    "        \"garageyrblt\",\n",
    "        \"garagefinish\",\n",
    "        \"garagecond\",\n",
    "        \"garagequal\",\n",
    "        \"bsmtfintype2\",\n",
    "        \"bsmtexposure\",\n",
    "        \"bsmtfintype1\",\n",
    "        \"bsmtqual\",\n",
    "        \"bsmtcond\",\n",
    "        \"masvnrtype\",\n",
    "        \"masvnrarea\",\n",
    "    ],\n",
    "    inplace=True,\n",
    ")"
   ]
  },
  {
   "cell_type": "code",
   "execution_count": 26,
   "metadata": {},
   "outputs": [
    {
     "data": {
      "application/javascript": [
       "\n",
       "            setTimeout(function() {\n",
       "                var nbb_cell_id = 26;\n",
       "                var nbb_unformatted_code = \"# drop null rows from electrical column\\ndf.dropna(subset=[\\\"electrical\\\"], inplace=True)\";\n",
       "                var nbb_formatted_code = \"# drop null rows from electrical column\\ndf.dropna(subset=[\\\"electrical\\\"], inplace=True)\";\n",
       "                var nbb_cells = Jupyter.notebook.get_cells();\n",
       "                for (var i = 0; i < nbb_cells.length; ++i) {\n",
       "                    if (nbb_cells[i].input_prompt_number == nbb_cell_id) {\n",
       "                        if (nbb_cells[i].get_text() == nbb_unformatted_code) {\n",
       "                             nbb_cells[i].set_text(nbb_formatted_code);\n",
       "                        }\n",
       "                        break;\n",
       "                    }\n",
       "                }\n",
       "            }, 500);\n",
       "            "
      ],
      "text/plain": [
       "<IPython.core.display.Javascript object>"
      ]
     },
     "metadata": {},
     "output_type": "display_data"
    },
    {
     "data": {
      "application/javascript": [
       "\n",
       "            setTimeout(function() {\n",
       "                var nbb_cell_id = 26;\n",
       "                var nbb_unformatted_code = \"# drop null rows from electrical column\\ndf.dropna(subset=[\\\"electrical\\\"], inplace=True)\";\n",
       "                var nbb_formatted_code = \"# drop null rows from electrical column\\ndf.dropna(subset=[\\\"electrical\\\"], inplace=True)\";\n",
       "                var nbb_cells = Jupyter.notebook.get_cells();\n",
       "                for (var i = 0; i < nbb_cells.length; ++i) {\n",
       "                    if (nbb_cells[i].input_prompt_number == nbb_cell_id) {\n",
       "                        if (nbb_cells[i].get_text() == nbb_unformatted_code) {\n",
       "                             nbb_cells[i].set_text(nbb_formatted_code);\n",
       "                        }\n",
       "                        break;\n",
       "                    }\n",
       "                }\n",
       "            }, 500);\n",
       "            "
      ],
      "text/plain": [
       "<IPython.core.display.Javascript object>"
      ]
     },
     "metadata": {},
     "output_type": "display_data"
    },
    {
     "data": {
      "application/javascript": [
       "\n",
       "            setTimeout(function() {\n",
       "                var nbb_cell_id = 26;\n",
       "                var nbb_unformatted_code = \"# drop null rows from electrical column\\ndf.dropna(subset=[\\\"electrical\\\"], inplace=True)\";\n",
       "                var nbb_formatted_code = \"# drop null rows from electrical column\\ndf.dropna(subset=[\\\"electrical\\\"], inplace=True)\";\n",
       "                var nbb_cells = Jupyter.notebook.get_cells();\n",
       "                for (var i = 0; i < nbb_cells.length; ++i) {\n",
       "                    if (nbb_cells[i].input_prompt_number == nbb_cell_id) {\n",
       "                        if (nbb_cells[i].get_text() == nbb_unformatted_code) {\n",
       "                             nbb_cells[i].set_text(nbb_formatted_code);\n",
       "                        }\n",
       "                        break;\n",
       "                    }\n",
       "                }\n",
       "            }, 500);\n",
       "            "
      ],
      "text/plain": [
       "<IPython.core.display.Javascript object>"
      ]
     },
     "metadata": {},
     "output_type": "display_data"
    },
    {
     "data": {
      "application/javascript": [
       "\n",
       "            setTimeout(function() {\n",
       "                var nbb_cell_id = 26;\n",
       "                var nbb_unformatted_code = \"# drop null rows from electrical column\\ndf.dropna(subset=[\\\"electrical\\\"], inplace=True)\";\n",
       "                var nbb_formatted_code = \"# drop null rows from electrical column\\ndf.dropna(subset=[\\\"electrical\\\"], inplace=True)\";\n",
       "                var nbb_cells = Jupyter.notebook.get_cells();\n",
       "                for (var i = 0; i < nbb_cells.length; ++i) {\n",
       "                    if (nbb_cells[i].input_prompt_number == nbb_cell_id) {\n",
       "                        if (nbb_cells[i].get_text() == nbb_unformatted_code) {\n",
       "                             nbb_cells[i].set_text(nbb_formatted_code);\n",
       "                        }\n",
       "                        break;\n",
       "                    }\n",
       "                }\n",
       "            }, 500);\n",
       "            "
      ],
      "text/plain": [
       "<IPython.core.display.Javascript object>"
      ]
     },
     "metadata": {},
     "output_type": "display_data"
    }
   ],
   "source": [
    "# drop null rows from electrical column\n",
    "df.dropna(subset=[\"electrical\"], inplace=True)"
   ]
  },
  {
   "cell_type": "code",
   "execution_count": 27,
   "metadata": {},
   "outputs": [
    {
     "data": {
      "text/plain": [
       "saleprice      0.0\n",
       "overallcond    0.0\n",
       "totalbsmtsf    0.0\n",
       "bsmtunfsf      0.0\n",
       "bsmtfinsf2     0.0\n",
       "bsmtfinsf1     0.0\n",
       "foundation     0.0\n",
       "extercond      0.0\n",
       "exterqual      0.0\n",
       "exterior2nd    0.0\n",
       "dtype: float64"
      ]
     },
     "execution_count": 27,
     "metadata": {},
     "output_type": "execute_result"
    },
    {
     "data": {
      "application/javascript": [
       "\n",
       "            setTimeout(function() {\n",
       "                var nbb_cell_id = 27;\n",
       "                var nbb_unformatted_code = \"df.isna().mean().sort_values(ascending=False).head(10)\";\n",
       "                var nbb_formatted_code = \"df.isna().mean().sort_values(ascending=False).head(10)\";\n",
       "                var nbb_cells = Jupyter.notebook.get_cells();\n",
       "                for (var i = 0; i < nbb_cells.length; ++i) {\n",
       "                    if (nbb_cells[i].input_prompt_number == nbb_cell_id) {\n",
       "                        if (nbb_cells[i].get_text() == nbb_unformatted_code) {\n",
       "                             nbb_cells[i].set_text(nbb_formatted_code);\n",
       "                        }\n",
       "                        break;\n",
       "                    }\n",
       "                }\n",
       "            }, 500);\n",
       "            "
      ],
      "text/plain": [
       "<IPython.core.display.Javascript object>"
      ]
     },
     "metadata": {},
     "output_type": "display_data"
    },
    {
     "data": {
      "application/javascript": [
       "\n",
       "            setTimeout(function() {\n",
       "                var nbb_cell_id = 27;\n",
       "                var nbb_unformatted_code = \"df.isna().mean().sort_values(ascending=False).head(10)\";\n",
       "                var nbb_formatted_code = \"df.isna().mean().sort_values(ascending=False).head(10)\";\n",
       "                var nbb_cells = Jupyter.notebook.get_cells();\n",
       "                for (var i = 0; i < nbb_cells.length; ++i) {\n",
       "                    if (nbb_cells[i].input_prompt_number == nbb_cell_id) {\n",
       "                        if (nbb_cells[i].get_text() == nbb_unformatted_code) {\n",
       "                             nbb_cells[i].set_text(nbb_formatted_code);\n",
       "                        }\n",
       "                        break;\n",
       "                    }\n",
       "                }\n",
       "            }, 500);\n",
       "            "
      ],
      "text/plain": [
       "<IPython.core.display.Javascript object>"
      ]
     },
     "metadata": {},
     "output_type": "display_data"
    },
    {
     "data": {
      "application/javascript": [
       "\n",
       "            setTimeout(function() {\n",
       "                var nbb_cell_id = 27;\n",
       "                var nbb_unformatted_code = \"df.isna().mean().sort_values(ascending=False).head(10)\";\n",
       "                var nbb_formatted_code = \"df.isna().mean().sort_values(ascending=False).head(10)\";\n",
       "                var nbb_cells = Jupyter.notebook.get_cells();\n",
       "                for (var i = 0; i < nbb_cells.length; ++i) {\n",
       "                    if (nbb_cells[i].input_prompt_number == nbb_cell_id) {\n",
       "                        if (nbb_cells[i].get_text() == nbb_unformatted_code) {\n",
       "                             nbb_cells[i].set_text(nbb_formatted_code);\n",
       "                        }\n",
       "                        break;\n",
       "                    }\n",
       "                }\n",
       "            }, 500);\n",
       "            "
      ],
      "text/plain": [
       "<IPython.core.display.Javascript object>"
      ]
     },
     "metadata": {},
     "output_type": "display_data"
    },
    {
     "data": {
      "application/javascript": [
       "\n",
       "            setTimeout(function() {\n",
       "                var nbb_cell_id = 27;\n",
       "                var nbb_unformatted_code = \"df.isna().mean().sort_values(ascending=False).head(10)\";\n",
       "                var nbb_formatted_code = \"df.isna().mean().sort_values(ascending=False).head(10)\";\n",
       "                var nbb_cells = Jupyter.notebook.get_cells();\n",
       "                for (var i = 0; i < nbb_cells.length; ++i) {\n",
       "                    if (nbb_cells[i].input_prompt_number == nbb_cell_id) {\n",
       "                        if (nbb_cells[i].get_text() == nbb_unformatted_code) {\n",
       "                             nbb_cells[i].set_text(nbb_formatted_code);\n",
       "                        }\n",
       "                        break;\n",
       "                    }\n",
       "                }\n",
       "            }, 500);\n",
       "            "
      ],
      "text/plain": [
       "<IPython.core.display.Javascript object>"
      ]
     },
     "metadata": {},
     "output_type": "display_data"
    }
   ],
   "source": [
    "df.isna().mean().sort_values(ascending=False).head(10)"
   ]
  },
  {
   "cell_type": "markdown",
   "metadata": {},
   "source": [
    "## Var exploration"
   ]
  },
  {
   "cell_type": "code",
   "execution_count": 28,
   "metadata": {},
   "outputs": [
    {
     "data": {
      "text/plain": [
       "20     536\n",
       "60     299\n",
       "50     144\n",
       "120     87\n",
       "30      69\n",
       "160     63\n",
       "70      60\n",
       "80      57\n",
       "90      52\n",
       "190     30\n",
       "85      20\n",
       "75      16\n",
       "45      12\n",
       "180     10\n",
       "40       4\n",
       "Name: mssubclass, dtype: int64"
      ]
     },
     "execution_count": 28,
     "metadata": {},
     "output_type": "execute_result"
    },
    {
     "data": {
      "application/javascript": [
       "\n",
       "            setTimeout(function() {\n",
       "                var nbb_cell_id = 28;\n",
       "                var nbb_unformatted_code = \"df.mssubclass.value_counts()\";\n",
       "                var nbb_formatted_code = \"df.mssubclass.value_counts()\";\n",
       "                var nbb_cells = Jupyter.notebook.get_cells();\n",
       "                for (var i = 0; i < nbb_cells.length; ++i) {\n",
       "                    if (nbb_cells[i].input_prompt_number == nbb_cell_id) {\n",
       "                        if (nbb_cells[i].get_text() == nbb_unformatted_code) {\n",
       "                             nbb_cells[i].set_text(nbb_formatted_code);\n",
       "                        }\n",
       "                        break;\n",
       "                    }\n",
       "                }\n",
       "            }, 500);\n",
       "            "
      ],
      "text/plain": [
       "<IPython.core.display.Javascript object>"
      ]
     },
     "metadata": {},
     "output_type": "display_data"
    },
    {
     "data": {
      "application/javascript": [
       "\n",
       "            setTimeout(function() {\n",
       "                var nbb_cell_id = 28;\n",
       "                var nbb_unformatted_code = \"df.mssubclass.value_counts()\";\n",
       "                var nbb_formatted_code = \"df.mssubclass.value_counts()\";\n",
       "                var nbb_cells = Jupyter.notebook.get_cells();\n",
       "                for (var i = 0; i < nbb_cells.length; ++i) {\n",
       "                    if (nbb_cells[i].input_prompt_number == nbb_cell_id) {\n",
       "                        if (nbb_cells[i].get_text() == nbb_unformatted_code) {\n",
       "                             nbb_cells[i].set_text(nbb_formatted_code);\n",
       "                        }\n",
       "                        break;\n",
       "                    }\n",
       "                }\n",
       "            }, 500);\n",
       "            "
      ],
      "text/plain": [
       "<IPython.core.display.Javascript object>"
      ]
     },
     "metadata": {},
     "output_type": "display_data"
    },
    {
     "data": {
      "application/javascript": [
       "\n",
       "            setTimeout(function() {\n",
       "                var nbb_cell_id = 28;\n",
       "                var nbb_unformatted_code = \"df.mssubclass.value_counts()\";\n",
       "                var nbb_formatted_code = \"df.mssubclass.value_counts()\";\n",
       "                var nbb_cells = Jupyter.notebook.get_cells();\n",
       "                for (var i = 0; i < nbb_cells.length; ++i) {\n",
       "                    if (nbb_cells[i].input_prompt_number == nbb_cell_id) {\n",
       "                        if (nbb_cells[i].get_text() == nbb_unformatted_code) {\n",
       "                             nbb_cells[i].set_text(nbb_formatted_code);\n",
       "                        }\n",
       "                        break;\n",
       "                    }\n",
       "                }\n",
       "            }, 500);\n",
       "            "
      ],
      "text/plain": [
       "<IPython.core.display.Javascript object>"
      ]
     },
     "metadata": {},
     "output_type": "display_data"
    },
    {
     "data": {
      "application/javascript": [
       "\n",
       "            setTimeout(function() {\n",
       "                var nbb_cell_id = 28;\n",
       "                var nbb_unformatted_code = \"df.mssubclass.value_counts()\";\n",
       "                var nbb_formatted_code = \"df.mssubclass.value_counts()\";\n",
       "                var nbb_cells = Jupyter.notebook.get_cells();\n",
       "                for (var i = 0; i < nbb_cells.length; ++i) {\n",
       "                    if (nbb_cells[i].input_prompt_number == nbb_cell_id) {\n",
       "                        if (nbb_cells[i].get_text() == nbb_unformatted_code) {\n",
       "                             nbb_cells[i].set_text(nbb_formatted_code);\n",
       "                        }\n",
       "                        break;\n",
       "                    }\n",
       "                }\n",
       "            }, 500);\n",
       "            "
      ],
      "text/plain": [
       "<IPython.core.display.Javascript object>"
      ]
     },
     "metadata": {},
     "output_type": "display_data"
    }
   ],
   "source": [
    "df.mssubclass.value_counts()"
   ]
  },
  {
   "cell_type": "code",
   "execution_count": 29,
   "metadata": {
    "scrolled": true
   },
   "outputs": [
    {
     "data": {
      "image/png": "[encoded data removed]",
      "text/plain": [
       "<Figure size 432x288 with 1 Axes>"
      ]
     },
     "metadata": {
      "needs_background": "light"
     },
     "output_type": "display_data"
    },
    {
     "data": {
      "application/javascript": [
       "\n",
       "            setTimeout(function() {\n",
       "                var nbb_cell_id = 29;\n",
       "                var nbb_unformatted_code = \"# checking relationship in distribution of saleprice of zoning classes\\nsns.boxplot(\\\"mssubclass\\\", \\\"saleprice\\\", data=df)\\nplt.show()\";\n",
       "                var nbb_formatted_code = \"# checking relationship in distribution of saleprice of zoning classes\\nsns.boxplot(\\\"mssubclass\\\", \\\"saleprice\\\", data=df)\\nplt.show()\";\n",
       "                var nbb_cells = Jupyter.notebook.get_cells();\n",
       "                for (var i = 0; i < nbb_cells.length; ++i) {\n",
       "                    if (nbb_cells[i].input_prompt_number == nbb_cell_id) {\n",
       "                        if (nbb_cells[i].get_text() == nbb_unformatted_code) {\n",
       "                             nbb_cells[i].set_text(nbb_formatted_code);\n",
       "                        }\n",
       "                        break;\n",
       "                    }\n",
       "                }\n",
       "            }, 500);\n",
       "            "
      ],
      "text/plain": [
       "<IPython.core.display.Javascript object>"
      ]
     },
     "metadata": {},
     "output_type": "display_data"
    },
    {
     "data": {
      "application/javascript": [
       "\n",
       "            setTimeout(function() {\n",
       "                var nbb_cell_id = 29;\n",
       "                var nbb_unformatted_code = \"# checking relationship in distribution of saleprice of zoning classes\\nsns.boxplot(\\\"mssubclass\\\", \\\"saleprice\\\", data=df)\\nplt.show()\";\n",
       "                var nbb_formatted_code = \"# checking relationship in distribution of saleprice of zoning classes\\nsns.boxplot(\\\"mssubclass\\\", \\\"saleprice\\\", data=df)\\nplt.show()\";\n",
       "                var nbb_cells = Jupyter.notebook.get_cells();\n",
       "                for (var i = 0; i < nbb_cells.length; ++i) {\n",
       "                    if (nbb_cells[i].input_prompt_number == nbb_cell_id) {\n",
       "                        if (nbb_cells[i].get_text() == nbb_unformatted_code) {\n",
       "                             nbb_cells[i].set_text(nbb_formatted_code);\n",
       "                        }\n",
       "                        break;\n",
       "                    }\n",
       "                }\n",
       "            }, 500);\n",
       "            "
      ],
      "text/plain": [
       "<IPython.core.display.Javascript object>"
      ]
     },
     "metadata": {},
     "output_type": "display_data"
    },
    {
     "data": {
      "application/javascript": [
       "\n",
       "            setTimeout(function() {\n",
       "                var nbb_cell_id = 29;\n",
       "                var nbb_unformatted_code = \"# checking relationship in distribution of saleprice of zoning classes\\nsns.boxplot(\\\"mssubclass\\\", \\\"saleprice\\\", data=df)\\nplt.show()\";\n",
       "                var nbb_formatted_code = \"# checking relationship in distribution of saleprice of zoning classes\\nsns.boxplot(\\\"mssubclass\\\", \\\"saleprice\\\", data=df)\\nplt.show()\";\n",
       "                var nbb_cells = Jupyter.notebook.get_cells();\n",
       "                for (var i = 0; i < nbb_cells.length; ++i) {\n",
       "                    if (nbb_cells[i].input_prompt_number == nbb_cell_id) {\n",
       "                        if (nbb_cells[i].get_text() == nbb_unformatted_code) {\n",
       "                             nbb_cells[i].set_text(nbb_formatted_code);\n",
       "                        }\n",
       "                        break;\n",
       "                    }\n",
       "                }\n",
       "            }, 500);\n",
       "            "
      ],
      "text/plain": [
       "<IPython.core.display.Javascript object>"
      ]
     },
     "metadata": {},
     "output_type": "display_data"
    },
    {
     "data": {
      "application/javascript": [
       "\n",
       "            setTimeout(function() {\n",
       "                var nbb_cell_id = 29;\n",
       "                var nbb_unformatted_code = \"# checking relationship in distribution of saleprice of zoning classes\\nsns.boxplot(\\\"mssubclass\\\", \\\"saleprice\\\", data=df)\\nplt.show()\";\n",
       "                var nbb_formatted_code = \"# checking relationship in distribution of saleprice of zoning classes\\nsns.boxplot(\\\"mssubclass\\\", \\\"saleprice\\\", data=df)\\nplt.show()\";\n",
       "                var nbb_cells = Jupyter.notebook.get_cells();\n",
       "                for (var i = 0; i < nbb_cells.length; ++i) {\n",
       "                    if (nbb_cells[i].input_prompt_number == nbb_cell_id) {\n",
       "                        if (nbb_cells[i].get_text() == nbb_unformatted_code) {\n",
       "                             nbb_cells[i].set_text(nbb_formatted_code);\n",
       "                        }\n",
       "                        break;\n",
       "                    }\n",
       "                }\n",
       "            }, 500);\n",
       "            "
      ],
      "text/plain": [
       "<IPython.core.display.Javascript object>"
      ]
     },
     "metadata": {},
     "output_type": "display_data"
    }
   ],
   "source": [
    "# checking relationship in distribution of saleprice of zoning classes\n",
    "sns.boxplot(\"mssubclass\", \"saleprice\", data=df)\n",
    "plt.show()"
   ]
  },
  {
   "cell_type": "markdown",
   "metadata": {},
   "source": [
    "> Not really any clear relationship between mszoning and saleprice\n",
    "---"
   ]
  },
  {
   "cell_type": "code",
   "execution_count": 30,
   "metadata": {},
   "outputs": [
    {
     "data": {
      "application/javascript": [
       "\n",
       "            setTimeout(function() {\n",
       "                var nbb_cell_id = 30;\n",
       "                var nbb_unformatted_code = \"# dropping columns for mssubclass and mszoning\\n# df.drop(columns=[\\\"mssubclass\\\", \\\"mszoning\\\"], inplace=True)\";\n",
       "                var nbb_formatted_code = \"# dropping columns for mssubclass and mszoning\\n# df.drop(columns=[\\\"mssubclass\\\", \\\"mszoning\\\"], inplace=True)\";\n",
       "                var nbb_cells = Jupyter.notebook.get_cells();\n",
       "                for (var i = 0; i < nbb_cells.length; ++i) {\n",
       "                    if (nbb_cells[i].input_prompt_number == nbb_cell_id) {\n",
       "                        if (nbb_cells[i].get_text() == nbb_unformatted_code) {\n",
       "                             nbb_cells[i].set_text(nbb_formatted_code);\n",
       "                        }\n",
       "                        break;\n",
       "                    }\n",
       "                }\n",
       "            }, 500);\n",
       "            "
      ],
      "text/plain": [
       "<IPython.core.display.Javascript object>"
      ]
     },
     "metadata": {},
     "output_type": "display_data"
    },
    {
     "data": {
      "application/javascript": [
       "\n",
       "            setTimeout(function() {\n",
       "                var nbb_cell_id = 30;\n",
       "                var nbb_unformatted_code = \"# dropping columns for mssubclass and mszoning\\n# df.drop(columns=[\\\"mssubclass\\\", \\\"mszoning\\\"], inplace=True)\";\n",
       "                var nbb_formatted_code = \"# dropping columns for mssubclass and mszoning\\n# df.drop(columns=[\\\"mssubclass\\\", \\\"mszoning\\\"], inplace=True)\";\n",
       "                var nbb_cells = Jupyter.notebook.get_cells();\n",
       "                for (var i = 0; i < nbb_cells.length; ++i) {\n",
       "                    if (nbb_cells[i].input_prompt_number == nbb_cell_id) {\n",
       "                        if (nbb_cells[i].get_text() == nbb_unformatted_code) {\n",
       "                             nbb_cells[i].set_text(nbb_formatted_code);\n",
       "                        }\n",
       "                        break;\n",
       "                    }\n",
       "                }\n",
       "            }, 500);\n",
       "            "
      ],
      "text/plain": [
       "<IPython.core.display.Javascript object>"
      ]
     },
     "metadata": {},
     "output_type": "display_data"
    },
    {
     "data": {
      "application/javascript": [
       "\n",
       "            setTimeout(function() {\n",
       "                var nbb_cell_id = 30;\n",
       "                var nbb_unformatted_code = \"# dropping columns for mssubclass and mszoning\\n# df.drop(columns=[\\\"mssubclass\\\", \\\"mszoning\\\"], inplace=True)\";\n",
       "                var nbb_formatted_code = \"# dropping columns for mssubclass and mszoning\\n# df.drop(columns=[\\\"mssubclass\\\", \\\"mszoning\\\"], inplace=True)\";\n",
       "                var nbb_cells = Jupyter.notebook.get_cells();\n",
       "                for (var i = 0; i < nbb_cells.length; ++i) {\n",
       "                    if (nbb_cells[i].input_prompt_number == nbb_cell_id) {\n",
       "                        if (nbb_cells[i].get_text() == nbb_unformatted_code) {\n",
       "                             nbb_cells[i].set_text(nbb_formatted_code);\n",
       "                        }\n",
       "                        break;\n",
       "                    }\n",
       "                }\n",
       "            }, 500);\n",
       "            "
      ],
      "text/plain": [
       "<IPython.core.display.Javascript object>"
      ]
     },
     "metadata": {},
     "output_type": "display_data"
    },
    {
     "data": {
      "application/javascript": [
       "\n",
       "            setTimeout(function() {\n",
       "                var nbb_cell_id = 30;\n",
       "                var nbb_unformatted_code = \"# dropping columns for mssubclass and mszoning\\n# df.drop(columns=[\\\"mssubclass\\\", \\\"mszoning\\\"], inplace=True)\";\n",
       "                var nbb_formatted_code = \"# dropping columns for mssubclass and mszoning\\n# df.drop(columns=[\\\"mssubclass\\\", \\\"mszoning\\\"], inplace=True)\";\n",
       "                var nbb_cells = Jupyter.notebook.get_cells();\n",
       "                for (var i = 0; i < nbb_cells.length; ++i) {\n",
       "                    if (nbb_cells[i].input_prompt_number == nbb_cell_id) {\n",
       "                        if (nbb_cells[i].get_text() == nbb_unformatted_code) {\n",
       "                             nbb_cells[i].set_text(nbb_formatted_code);\n",
       "                        }\n",
       "                        break;\n",
       "                    }\n",
       "                }\n",
       "            }, 500);\n",
       "            "
      ],
      "text/plain": [
       "<IPython.core.display.Javascript object>"
      ]
     },
     "metadata": {},
     "output_type": "display_data"
    }
   ],
   "source": [
    "# dropping columns for mssubclass and mszoning\n",
    "# df.drop(columns=[\"mssubclass\", \"mszoning\"], inplace=True)"
   ]
  },
  {
   "cell_type": "code",
   "execution_count": 31,
   "metadata": {},
   "outputs": [
    {
     "data": {
      "text/plain": [
       "<matplotlib.axes._subplots.AxesSubplot at 0x1b48da34cd0>"
      ]
     },
     "execution_count": 31,
     "metadata": {},
     "output_type": "execute_result"
    },
    {
     "data": {
      "image/png": "[encoded data removed]",
      "text/plain": [
       "<Figure size 432x288 with 1 Axes>"
      ]
     },
     "metadata": {
      "needs_background": "light"
     },
     "output_type": "display_data"
    },
    {
     "data": {
      "application/javascript": [
       "\n",
       "            setTimeout(function() {\n",
       "                var nbb_cell_id = 31;\n",
       "                var nbb_unformatted_code = \"sns.distplot(df.saleprice)\";\n",
       "                var nbb_formatted_code = \"sns.distplot(df.saleprice)\";\n",
       "                var nbb_cells = Jupyter.notebook.get_cells();\n",
       "                for (var i = 0; i < nbb_cells.length; ++i) {\n",
       "                    if (nbb_cells[i].input_prompt_number == nbb_cell_id) {\n",
       "                        if (nbb_cells[i].get_text() == nbb_unformatted_code) {\n",
       "                             nbb_cells[i].set_text(nbb_formatted_code);\n",
       "                        }\n",
       "                        break;\n",
       "                    }\n",
       "                }\n",
       "            }, 500);\n",
       "            "
      ],
      "text/plain": [
       "<IPython.core.display.Javascript object>"
      ]
     },
     "metadata": {},
     "output_type": "display_data"
    },
    {
     "data": {
      "application/javascript": [
       "\n",
       "            setTimeout(function() {\n",
       "                var nbb_cell_id = 31;\n",
       "                var nbb_unformatted_code = \"sns.distplot(df.saleprice)\";\n",
       "                var nbb_formatted_code = \"sns.distplot(df.saleprice)\";\n",
       "                var nbb_cells = Jupyter.notebook.get_cells();\n",
       "                for (var i = 0; i < nbb_cells.length; ++i) {\n",
       "                    if (nbb_cells[i].input_prompt_number == nbb_cell_id) {\n",
       "                        if (nbb_cells[i].get_text() == nbb_unformatted_code) {\n",
       "                             nbb_cells[i].set_text(nbb_formatted_code);\n",
       "                        }\n",
       "                        break;\n",
       "                    }\n",
       "                }\n",
       "            }, 500);\n",
       "            "
      ],
      "text/plain": [
       "<IPython.core.display.Javascript object>"
      ]
     },
     "metadata": {},
     "output_type": "display_data"
    },
    {
     "data": {
      "application/javascript": [
       "\n",
       "            setTimeout(function() {\n",
       "                var nbb_cell_id = 31;\n",
       "                var nbb_unformatted_code = \"sns.distplot(df.saleprice)\";\n",
       "                var nbb_formatted_code = \"sns.distplot(df.saleprice)\";\n",
       "                var nbb_cells = Jupyter.notebook.get_cells();\n",
       "                for (var i = 0; i < nbb_cells.length; ++i) {\n",
       "                    if (nbb_cells[i].input_prompt_number == nbb_cell_id) {\n",
       "                        if (nbb_cells[i].get_text() == nbb_unformatted_code) {\n",
       "                             nbb_cells[i].set_text(nbb_formatted_code);\n",
       "                        }\n",
       "                        break;\n",
       "                    }\n",
       "                }\n",
       "            }, 500);\n",
       "            "
      ],
      "text/plain": [
       "<IPython.core.display.Javascript object>"
      ]
     },
     "metadata": {},
     "output_type": "display_data"
    },
    {
     "data": {
      "application/javascript": [
       "\n",
       "            setTimeout(function() {\n",
       "                var nbb_cell_id = 31;\n",
       "                var nbb_unformatted_code = \"sns.distplot(df.saleprice)\";\n",
       "                var nbb_formatted_code = \"sns.distplot(df.saleprice)\";\n",
       "                var nbb_cells = Jupyter.notebook.get_cells();\n",
       "                for (var i = 0; i < nbb_cells.length; ++i) {\n",
       "                    if (nbb_cells[i].input_prompt_number == nbb_cell_id) {\n",
       "                        if (nbb_cells[i].get_text() == nbb_unformatted_code) {\n",
       "                             nbb_cells[i].set_text(nbb_formatted_code);\n",
       "                        }\n",
       "                        break;\n",
       "                    }\n",
       "                }\n",
       "            }, 500);\n",
       "            "
      ],
      "text/plain": [
       "<IPython.core.display.Javascript object>"
      ]
     },
     "metadata": {},
     "output_type": "display_data"
    }
   ],
   "source": [
    "sns.distplot(df.saleprice)"
   ]
  },
  {
   "cell_type": "code",
   "execution_count": 32,
   "metadata": {
    "scrolled": true
   },
   "outputs": [
    {
     "data": {
      "image/png": "[encoded data removed]",
      "text/plain": [
       "<Figure size 432x288 with 1 Axes>"
      ]
     },
     "metadata": {
      "needs_background": "light"
     },
     "output_type": "display_data"
    },
    {
     "data": {
      "application/javascript": [
       "\n",
       "            setTimeout(function() {\n",
       "                var nbb_cell_id = 32;\n",
       "                var nbb_unformatted_code = \"df.saleprice = np.log(df.saleprice)\\nsns.distplot(df.saleprice)\\nplt.show()\";\n",
       "                var nbb_formatted_code = \"df.saleprice = np.log(df.saleprice)\\nsns.distplot(df.saleprice)\\nplt.show()\";\n",
       "                var nbb_cells = Jupyter.notebook.get_cells();\n",
       "                for (var i = 0; i < nbb_cells.length; ++i) {\n",
       "                    if (nbb_cells[i].input_prompt_number == nbb_cell_id) {\n",
       "                        if (nbb_cells[i].get_text() == nbb_unformatted_code) {\n",
       "                             nbb_cells[i].set_text(nbb_formatted_code);\n",
       "                        }\n",
       "                        break;\n",
       "                    }\n",
       "                }\n",
       "            }, 500);\n",
       "            "
      ],
      "text/plain": [
       "<IPython.core.display.Javascript object>"
      ]
     },
     "metadata": {},
     "output_type": "display_data"
    },
    {
     "data": {
      "application/javascript": [
       "\n",
       "            setTimeout(function() {\n",
       "                var nbb_cell_id = 32;\n",
       "                var nbb_unformatted_code = \"df.saleprice = np.log(df.saleprice)\\nsns.distplot(df.saleprice)\\nplt.show()\";\n",
       "                var nbb_formatted_code = \"df.saleprice = np.log(df.saleprice)\\nsns.distplot(df.saleprice)\\nplt.show()\";\n",
       "                var nbb_cells = Jupyter.notebook.get_cells();\n",
       "                for (var i = 0; i < nbb_cells.length; ++i) {\n",
       "                    if (nbb_cells[i].input_prompt_number == nbb_cell_id) {\n",
       "                        if (nbb_cells[i].get_text() == nbb_unformatted_code) {\n",
       "                             nbb_cells[i].set_text(nbb_formatted_code);\n",
       "                        }\n",
       "                        break;\n",
       "                    }\n",
       "                }\n",
       "            }, 500);\n",
       "            "
      ],
      "text/plain": [
       "<IPython.core.display.Javascript object>"
      ]
     },
     "metadata": {},
     "output_type": "display_data"
    },
    {
     "data": {
      "application/javascript": [
       "\n",
       "            setTimeout(function() {\n",
       "                var nbb_cell_id = 32;\n",
       "                var nbb_unformatted_code = \"df.saleprice = np.log(df.saleprice)\\nsns.distplot(df.saleprice)\\nplt.show()\";\n",
       "                var nbb_formatted_code = \"df.saleprice = np.log(df.saleprice)\\nsns.distplot(df.saleprice)\\nplt.show()\";\n",
       "                var nbb_cells = Jupyter.notebook.get_cells();\n",
       "                for (var i = 0; i < nbb_cells.length; ++i) {\n",
       "                    if (nbb_cells[i].input_prompt_number == nbb_cell_id) {\n",
       "                        if (nbb_cells[i].get_text() == nbb_unformatted_code) {\n",
       "                             nbb_cells[i].set_text(nbb_formatted_code);\n",
       "                        }\n",
       "                        break;\n",
       "                    }\n",
       "                }\n",
       "            }, 500);\n",
       "            "
      ],
      "text/plain": [
       "<IPython.core.display.Javascript object>"
      ]
     },
     "metadata": {},
     "output_type": "display_data"
    },
    {
     "data": {
      "application/javascript": [
       "\n",
       "            setTimeout(function() {\n",
       "                var nbb_cell_id = 32;\n",
       "                var nbb_unformatted_code = \"df.saleprice = np.log(df.saleprice)\\nsns.distplot(df.saleprice)\\nplt.show()\";\n",
       "                var nbb_formatted_code = \"df.saleprice = np.log(df.saleprice)\\nsns.distplot(df.saleprice)\\nplt.show()\";\n",
       "                var nbb_cells = Jupyter.notebook.get_cells();\n",
       "                for (var i = 0; i < nbb_cells.length; ++i) {\n",
       "                    if (nbb_cells[i].input_prompt_number == nbb_cell_id) {\n",
       "                        if (nbb_cells[i].get_text() == nbb_unformatted_code) {\n",
       "                             nbb_cells[i].set_text(nbb_formatted_code);\n",
       "                        }\n",
       "                        break;\n",
       "                    }\n",
       "                }\n",
       "            }, 500);\n",
       "            "
      ],
      "text/plain": [
       "<IPython.core.display.Javascript object>"
      ]
     },
     "metadata": {},
     "output_type": "display_data"
    }
   ],
   "source": [
    "df.saleprice = np.log(df.saleprice)\n",
    "sns.distplot(df.saleprice)\n",
    "plt.show()"
   ]
  },
  {
   "cell_type": "code",
   "execution_count": 33,
   "metadata": {},
   "outputs": [
    {
     "data": {
      "text/plain": [
       "Index(['mssubclass', 'mszoning', 'lotarea', 'street', 'lotshape',\n",
       "       'landcontour', 'utilities', 'lotconfig', 'landslope', 'neighborhood',\n",
       "       'condition1', 'condition2', 'bldgtype', 'housestyle', 'overallqual',\n",
       "       'overallcond', 'yearbuilt', 'yearremodadd', 'roofstyle', 'roofmatl',\n",
       "       'exterior1st', 'exterior2nd', 'exterqual', 'extercond', 'foundation',\n",
       "       'bsmtfinsf1', 'bsmtfinsf2', 'bsmtunfsf', 'totalbsmtsf', 'heating',\n",
       "       'heatingqc', 'centralair', 'electrical', 'firstflrsf', 'secondflrsf',\n",
       "       'lowqualfinsf', 'grlivarea', 'bsmtfullbath', 'bsmthalfbath', 'fullbath',\n",
       "       'halfbath', 'bedroomabvgr', 'kitchenabvgr', 'kitchenqual',\n",
       "       'totrmsabvgrd', 'functional', 'fireplaces', 'garagetype', 'garagecars',\n",
       "       'garagearea', 'paveddrive', 'wooddecksf', 'openporchsf',\n",
       "       'enclosedporch', 'threessnporch', 'screenporch', 'poolarea', 'miscval',\n",
       "       'mosold', 'yrsold', 'saletype', 'salecondition', 'saleprice'],\n",
       "      dtype='object')"
      ]
     },
     "execution_count": 33,
     "metadata": {},
     "output_type": "execute_result"
    },
    {
     "data": {
      "application/javascript": [
       "\n",
       "            setTimeout(function() {\n",
       "                var nbb_cell_id = 33;\n",
       "                var nbb_unformatted_code = \"df.columns\";\n",
       "                var nbb_formatted_code = \"df.columns\";\n",
       "                var nbb_cells = Jupyter.notebook.get_cells();\n",
       "                for (var i = 0; i < nbb_cells.length; ++i) {\n",
       "                    if (nbb_cells[i].input_prompt_number == nbb_cell_id) {\n",
       "                        if (nbb_cells[i].get_text() == nbb_unformatted_code) {\n",
       "                             nbb_cells[i].set_text(nbb_formatted_code);\n",
       "                        }\n",
       "                        break;\n",
       "                    }\n",
       "                }\n",
       "            }, 500);\n",
       "            "
      ],
      "text/plain": [
       "<IPython.core.display.Javascript object>"
      ]
     },
     "metadata": {},
     "output_type": "display_data"
    },
    {
     "data": {
      "application/javascript": [
       "\n",
       "            setTimeout(function() {\n",
       "                var nbb_cell_id = 33;\n",
       "                var nbb_unformatted_code = \"df.columns\";\n",
       "                var nbb_formatted_code = \"df.columns\";\n",
       "                var nbb_cells = Jupyter.notebook.get_cells();\n",
       "                for (var i = 0; i < nbb_cells.length; ++i) {\n",
       "                    if (nbb_cells[i].input_prompt_number == nbb_cell_id) {\n",
       "                        if (nbb_cells[i].get_text() == nbb_unformatted_code) {\n",
       "                             nbb_cells[i].set_text(nbb_formatted_code);\n",
       "                        }\n",
       "                        break;\n",
       "                    }\n",
       "                }\n",
       "            }, 500);\n",
       "            "
      ],
      "text/plain": [
       "<IPython.core.display.Javascript object>"
      ]
     },
     "metadata": {},
     "output_type": "display_data"
    },
    {
     "data": {
      "application/javascript": [
       "\n",
       "            setTimeout(function() {\n",
       "                var nbb_cell_id = 33;\n",
       "                var nbb_unformatted_code = \"df.columns\";\n",
       "                var nbb_formatted_code = \"df.columns\";\n",
       "                var nbb_cells = Jupyter.notebook.get_cells();\n",
       "                for (var i = 0; i < nbb_cells.length; ++i) {\n",
       "                    if (nbb_cells[i].input_prompt_number == nbb_cell_id) {\n",
       "                        if (nbb_cells[i].get_text() == nbb_unformatted_code) {\n",
       "                             nbb_cells[i].set_text(nbb_formatted_code);\n",
       "                        }\n",
       "                        break;\n",
       "                    }\n",
       "                }\n",
       "            }, 500);\n",
       "            "
      ],
      "text/plain": [
       "<IPython.core.display.Javascript object>"
      ]
     },
     "metadata": {},
     "output_type": "display_data"
    },
    {
     "data": {
      "application/javascript": [
       "\n",
       "            setTimeout(function() {\n",
       "                var nbb_cell_id = 33;\n",
       "                var nbb_unformatted_code = \"df.columns\";\n",
       "                var nbb_formatted_code = \"df.columns\";\n",
       "                var nbb_cells = Jupyter.notebook.get_cells();\n",
       "                for (var i = 0; i < nbb_cells.length; ++i) {\n",
       "                    if (nbb_cells[i].input_prompt_number == nbb_cell_id) {\n",
       "                        if (nbb_cells[i].get_text() == nbb_unformatted_code) {\n",
       "                             nbb_cells[i].set_text(nbb_formatted_code);\n",
       "                        }\n",
       "                        break;\n",
       "                    }\n",
       "                }\n",
       "            }, 500);\n",
       "            "
      ],
      "text/plain": [
       "<IPython.core.display.Javascript object>"
      ]
     },
     "metadata": {},
     "output_type": "display_data"
    }
   ],
   "source": [
    "df.columns"
   ]
  },
  {
   "cell_type": "code",
   "execution_count": 34,
   "metadata": {},
   "outputs": [
    {
     "data": {
      "application/javascript": [
       "\n",
       "            setTimeout(function() {\n",
       "                var nbb_cell_id = 34;\n",
       "                var nbb_unformatted_code = \"df[\\\"baths_full\\\"] = df.fullbath + df.bsmtfullbath\\ndf[\\\"baths_half\\\"] = df.halfbath + df.bsmthalfbath\\ndf[\\\"basement_sf\\\"] = df.totalbsmtsf = df.bsmtunfsf\\ndf[\\\"adj_sf\\\"] = df.grlivarea + df.basement_sf\";\n",
       "                var nbb_formatted_code = \"df[\\\"baths_full\\\"] = df.fullbath + df.bsmtfullbath\\ndf[\\\"baths_half\\\"] = df.halfbath + df.bsmthalfbath\\ndf[\\\"basement_sf\\\"] = df.totalbsmtsf = df.bsmtunfsf\\ndf[\\\"adj_sf\\\"] = df.grlivarea + df.basement_sf\";\n",
       "                var nbb_cells = Jupyter.notebook.get_cells();\n",
       "                for (var i = 0; i < nbb_cells.length; ++i) {\n",
       "                    if (nbb_cells[i].input_prompt_number == nbb_cell_id) {\n",
       "                        if (nbb_cells[i].get_text() == nbb_unformatted_code) {\n",
       "                             nbb_cells[i].set_text(nbb_formatted_code);\n",
       "                        }\n",
       "                        break;\n",
       "                    }\n",
       "                }\n",
       "            }, 500);\n",
       "            "
      ],
      "text/plain": [
       "<IPython.core.display.Javascript object>"
      ]
     },
     "metadata": {},
     "output_type": "display_data"
    },
    {
     "data": {
      "application/javascript": [
       "\n",
       "            setTimeout(function() {\n",
       "                var nbb_cell_id = 34;\n",
       "                var nbb_unformatted_code = \"df[\\\"baths_full\\\"] = df.fullbath + df.bsmtfullbath\\ndf[\\\"baths_half\\\"] = df.halfbath + df.bsmthalfbath\\ndf[\\\"basement_sf\\\"] = df.totalbsmtsf = df.bsmtunfsf\\ndf[\\\"adj_sf\\\"] = df.grlivarea + df.basement_sf\";\n",
       "                var nbb_formatted_code = \"df[\\\"baths_full\\\"] = df.fullbath + df.bsmtfullbath\\ndf[\\\"baths_half\\\"] = df.halfbath + df.bsmthalfbath\\ndf[\\\"basement_sf\\\"] = df.totalbsmtsf = df.bsmtunfsf\\ndf[\\\"adj_sf\\\"] = df.grlivarea + df.basement_sf\";\n",
       "                var nbb_cells = Jupyter.notebook.get_cells();\n",
       "                for (var i = 0; i < nbb_cells.length; ++i) {\n",
       "                    if (nbb_cells[i].input_prompt_number == nbb_cell_id) {\n",
       "                        if (nbb_cells[i].get_text() == nbb_unformatted_code) {\n",
       "                             nbb_cells[i].set_text(nbb_formatted_code);\n",
       "                        }\n",
       "                        break;\n",
       "                    }\n",
       "                }\n",
       "            }, 500);\n",
       "            "
      ],
      "text/plain": [
       "<IPython.core.display.Javascript object>"
      ]
     },
     "metadata": {},
     "output_type": "display_data"
    },
    {
     "data": {
      "application/javascript": [
       "\n",
       "            setTimeout(function() {\n",
       "                var nbb_cell_id = 34;\n",
       "                var nbb_unformatted_code = \"df[\\\"baths_full\\\"] = df.fullbath + df.bsmtfullbath\\ndf[\\\"baths_half\\\"] = df.halfbath + df.bsmthalfbath\\ndf[\\\"basement_sf\\\"] = df.totalbsmtsf = df.bsmtunfsf\\ndf[\\\"adj_sf\\\"] = df.grlivarea + df.basement_sf\";\n",
       "                var nbb_formatted_code = \"df[\\\"baths_full\\\"] = df.fullbath + df.bsmtfullbath\\ndf[\\\"baths_half\\\"] = df.halfbath + df.bsmthalfbath\\ndf[\\\"basement_sf\\\"] = df.totalbsmtsf = df.bsmtunfsf\\ndf[\\\"adj_sf\\\"] = df.grlivarea + df.basement_sf\";\n",
       "                var nbb_cells = Jupyter.notebook.get_cells();\n",
       "                for (var i = 0; i < nbb_cells.length; ++i) {\n",
       "                    if (nbb_cells[i].input_prompt_number == nbb_cell_id) {\n",
       "                        if (nbb_cells[i].get_text() == nbb_unformatted_code) {\n",
       "                             nbb_cells[i].set_text(nbb_formatted_code);\n",
       "                        }\n",
       "                        break;\n",
       "                    }\n",
       "                }\n",
       "            }, 500);\n",
       "            "
      ],
      "text/plain": [
       "<IPython.core.display.Javascript object>"
      ]
     },
     "metadata": {},
     "output_type": "display_data"
    },
    {
     "data": {
      "application/javascript": [
       "\n",
       "            setTimeout(function() {\n",
       "                var nbb_cell_id = 34;\n",
       "                var nbb_unformatted_code = \"df[\\\"baths_full\\\"] = df.fullbath + df.bsmtfullbath\\ndf[\\\"baths_half\\\"] = df.halfbath + df.bsmthalfbath\\ndf[\\\"basement_sf\\\"] = df.totalbsmtsf = df.bsmtunfsf\\ndf[\\\"adj_sf\\\"] = df.grlivarea + df.basement_sf\";\n",
       "                var nbb_formatted_code = \"df[\\\"baths_full\\\"] = df.fullbath + df.bsmtfullbath\\ndf[\\\"baths_half\\\"] = df.halfbath + df.bsmthalfbath\\ndf[\\\"basement_sf\\\"] = df.totalbsmtsf = df.bsmtunfsf\\ndf[\\\"adj_sf\\\"] = df.grlivarea + df.basement_sf\";\n",
       "                var nbb_cells = Jupyter.notebook.get_cells();\n",
       "                for (var i = 0; i < nbb_cells.length; ++i) {\n",
       "                    if (nbb_cells[i].input_prompt_number == nbb_cell_id) {\n",
       "                        if (nbb_cells[i].get_text() == nbb_unformatted_code) {\n",
       "                             nbb_cells[i].set_text(nbb_formatted_code);\n",
       "                        }\n",
       "                        break;\n",
       "                    }\n",
       "                }\n",
       "            }, 500);\n",
       "            "
      ],
      "text/plain": [
       "<IPython.core.display.Javascript object>"
      ]
     },
     "metadata": {},
     "output_type": "display_data"
    }
   ],
   "source": [
    "df[\"baths_full\"] = df.fullbath + df.bsmtfullbath\n",
    "df[\"baths_half\"] = df.halfbath + df.bsmthalfbath\n",
    "df[\"basement_sf\"] = df.totalbsmtsf = df.bsmtunfsf\n",
    "df[\"adj_sf\"] = df.grlivarea + df.basement_sf"
   ]
  },
  {
   "cell_type": "code",
   "execution_count": 35,
   "metadata": {},
   "outputs": [
    {
     "data": {
      "application/javascript": [
       "\n",
       "            setTimeout(function() {\n",
       "                var nbb_cell_id = 35;\n",
       "                var nbb_unformatted_code = \"feature_vars = [\\n    \\\"lotarea\\\",\\n    \\\"neighborhood\\\",\\n    \\\"yearbuilt\\\",\\n    \\\"centralair\\\",\\n    \\\"baths_full\\\",\\n    \\\"baths_half\\\",\\n    \\\"bedroomabvgr\\\",\\n    \\\"adj_sf\\\",\\n]\\n\\nsecondary_vars = [\\n    \\\"poolqc\\\",\\n    \\\"garagecond\\\",\\n    \\\"garagequal\\\",\\n    \\\"fireplacequ\\\",\\n    \\\"functional\\\",\\n    \\\"kitchenqual\\\",\\n    \\\"bldgtype\\\",\\n    \\\"housestyle\\\",\\n    \\\"bsmtfullbath\\\",\\n    \\\"bsmthalfbath\\\",\\n    \\\"fireplaces\\\",\\n    \\\"garagearea\\\",\\n    \\\"wooddecksf\\\",\\n    \\\"openporchsf\\\",\\n    \\\"enclosedporch\\\",\\n    \\\"threessnporch\\\",\\n    \\\"screenporch\\\",\\n    \\\"poolarea\\\",\\n    \\\"kitchenabvgr\\\",\\n    \\\"totalbsmtsf\\\",\\n    \\\"overallcond\\\",\\n    \\\"overallqual\\\",\\n]\";\n",
       "                var nbb_formatted_code = \"feature_vars = [\\n    \\\"lotarea\\\",\\n    \\\"neighborhood\\\",\\n    \\\"yearbuilt\\\",\\n    \\\"centralair\\\",\\n    \\\"baths_full\\\",\\n    \\\"baths_half\\\",\\n    \\\"bedroomabvgr\\\",\\n    \\\"adj_sf\\\",\\n]\\n\\nsecondary_vars = [\\n    \\\"poolqc\\\",\\n    \\\"garagecond\\\",\\n    \\\"garagequal\\\",\\n    \\\"fireplacequ\\\",\\n    \\\"functional\\\",\\n    \\\"kitchenqual\\\",\\n    \\\"bldgtype\\\",\\n    \\\"housestyle\\\",\\n    \\\"bsmtfullbath\\\",\\n    \\\"bsmthalfbath\\\",\\n    \\\"fireplaces\\\",\\n    \\\"garagearea\\\",\\n    \\\"wooddecksf\\\",\\n    \\\"openporchsf\\\",\\n    \\\"enclosedporch\\\",\\n    \\\"threessnporch\\\",\\n    \\\"screenporch\\\",\\n    \\\"poolarea\\\",\\n    \\\"kitchenabvgr\\\",\\n    \\\"totalbsmtsf\\\",\\n    \\\"overallcond\\\",\\n    \\\"overallqual\\\",\\n]\";\n",
       "                var nbb_cells = Jupyter.notebook.get_cells();\n",
       "                for (var i = 0; i < nbb_cells.length; ++i) {\n",
       "                    if (nbb_cells[i].input_prompt_number == nbb_cell_id) {\n",
       "                        if (nbb_cells[i].get_text() == nbb_unformatted_code) {\n",
       "                             nbb_cells[i].set_text(nbb_formatted_code);\n",
       "                        }\n",
       "                        break;\n",
       "                    }\n",
       "                }\n",
       "            }, 500);\n",
       "            "
      ],
      "text/plain": [
       "<IPython.core.display.Javascript object>"
      ]
     },
     "metadata": {},
     "output_type": "display_data"
    },
    {
     "data": {
      "application/javascript": [
       "\n",
       "            setTimeout(function() {\n",
       "                var nbb_cell_id = 35;\n",
       "                var nbb_unformatted_code = \"feature_vars = [\\n    \\\"lotarea\\\",\\n    \\\"neighborhood\\\",\\n    \\\"yearbuilt\\\",\\n    \\\"centralair\\\",\\n    \\\"baths_full\\\",\\n    \\\"baths_half\\\",\\n    \\\"bedroomabvgr\\\",\\n    \\\"adj_sf\\\",\\n]\\n\\nsecondary_vars = [\\n    \\\"poolqc\\\",\\n    \\\"garagecond\\\",\\n    \\\"garagequal\\\",\\n    \\\"fireplacequ\\\",\\n    \\\"functional\\\",\\n    \\\"kitchenqual\\\",\\n    \\\"bldgtype\\\",\\n    \\\"housestyle\\\",\\n    \\\"bsmtfullbath\\\",\\n    \\\"bsmthalfbath\\\",\\n    \\\"fireplaces\\\",\\n    \\\"garagearea\\\",\\n    \\\"wooddecksf\\\",\\n    \\\"openporchsf\\\",\\n    \\\"enclosedporch\\\",\\n    \\\"threessnporch\\\",\\n    \\\"screenporch\\\",\\n    \\\"poolarea\\\",\\n    \\\"kitchenabvgr\\\",\\n    \\\"totalbsmtsf\\\",\\n    \\\"overallcond\\\",\\n    \\\"overallqual\\\",\\n]\";\n",
       "                var nbb_formatted_code = \"feature_vars = [\\n    \\\"lotarea\\\",\\n    \\\"neighborhood\\\",\\n    \\\"yearbuilt\\\",\\n    \\\"centralair\\\",\\n    \\\"baths_full\\\",\\n    \\\"baths_half\\\",\\n    \\\"bedroomabvgr\\\",\\n    \\\"adj_sf\\\",\\n]\\n\\nsecondary_vars = [\\n    \\\"poolqc\\\",\\n    \\\"garagecond\\\",\\n    \\\"garagequal\\\",\\n    \\\"fireplacequ\\\",\\n    \\\"functional\\\",\\n    \\\"kitchenqual\\\",\\n    \\\"bldgtype\\\",\\n    \\\"housestyle\\\",\\n    \\\"bsmtfullbath\\\",\\n    \\\"bsmthalfbath\\\",\\n    \\\"fireplaces\\\",\\n    \\\"garagearea\\\",\\n    \\\"wooddecksf\\\",\\n    \\\"openporchsf\\\",\\n    \\\"enclosedporch\\\",\\n    \\\"threessnporch\\\",\\n    \\\"screenporch\\\",\\n    \\\"poolarea\\\",\\n    \\\"kitchenabvgr\\\",\\n    \\\"totalbsmtsf\\\",\\n    \\\"overallcond\\\",\\n    \\\"overallqual\\\",\\n]\";\n",
       "                var nbb_cells = Jupyter.notebook.get_cells();\n",
       "                for (var i = 0; i < nbb_cells.length; ++i) {\n",
       "                    if (nbb_cells[i].input_prompt_number == nbb_cell_id) {\n",
       "                        if (nbb_cells[i].get_text() == nbb_unformatted_code) {\n",
       "                             nbb_cells[i].set_text(nbb_formatted_code);\n",
       "                        }\n",
       "                        break;\n",
       "                    }\n",
       "                }\n",
       "            }, 500);\n",
       "            "
      ],
      "text/plain": [
       "<IPython.core.display.Javascript object>"
      ]
     },
     "metadata": {},
     "output_type": "display_data"
    },
    {
     "data": {
      "application/javascript": [
       "\n",
       "            setTimeout(function() {\n",
       "                var nbb_cell_id = 35;\n",
       "                var nbb_unformatted_code = \"feature_vars = [\\n    \\\"lotarea\\\",\\n    \\\"neighborhood\\\",\\n    \\\"yearbuilt\\\",\\n    \\\"centralair\\\",\\n    \\\"baths_full\\\",\\n    \\\"baths_half\\\",\\n    \\\"bedroomabvgr\\\",\\n    \\\"adj_sf\\\",\\n]\\n\\nsecondary_vars = [\\n    \\\"poolqc\\\",\\n    \\\"garagecond\\\",\\n    \\\"garagequal\\\",\\n    \\\"fireplacequ\\\",\\n    \\\"functional\\\",\\n    \\\"kitchenqual\\\",\\n    \\\"bldgtype\\\",\\n    \\\"housestyle\\\",\\n    \\\"bsmtfullbath\\\",\\n    \\\"bsmthalfbath\\\",\\n    \\\"fireplaces\\\",\\n    \\\"garagearea\\\",\\n    \\\"wooddecksf\\\",\\n    \\\"openporchsf\\\",\\n    \\\"enclosedporch\\\",\\n    \\\"threessnporch\\\",\\n    \\\"screenporch\\\",\\n    \\\"poolarea\\\",\\n    \\\"kitchenabvgr\\\",\\n    \\\"totalbsmtsf\\\",\\n    \\\"overallcond\\\",\\n    \\\"overallqual\\\",\\n]\";\n",
       "                var nbb_formatted_code = \"feature_vars = [\\n    \\\"lotarea\\\",\\n    \\\"neighborhood\\\",\\n    \\\"yearbuilt\\\",\\n    \\\"centralair\\\",\\n    \\\"baths_full\\\",\\n    \\\"baths_half\\\",\\n    \\\"bedroomabvgr\\\",\\n    \\\"adj_sf\\\",\\n]\\n\\nsecondary_vars = [\\n    \\\"poolqc\\\",\\n    \\\"garagecond\\\",\\n    \\\"garagequal\\\",\\n    \\\"fireplacequ\\\",\\n    \\\"functional\\\",\\n    \\\"kitchenqual\\\",\\n    \\\"bldgtype\\\",\\n    \\\"housestyle\\\",\\n    \\\"bsmtfullbath\\\",\\n    \\\"bsmthalfbath\\\",\\n    \\\"fireplaces\\\",\\n    \\\"garagearea\\\",\\n    \\\"wooddecksf\\\",\\n    \\\"openporchsf\\\",\\n    \\\"enclosedporch\\\",\\n    \\\"threessnporch\\\",\\n    \\\"screenporch\\\",\\n    \\\"poolarea\\\",\\n    \\\"kitchenabvgr\\\",\\n    \\\"totalbsmtsf\\\",\\n    \\\"overallcond\\\",\\n    \\\"overallqual\\\",\\n]\";\n",
       "                var nbb_cells = Jupyter.notebook.get_cells();\n",
       "                for (var i = 0; i < nbb_cells.length; ++i) {\n",
       "                    if (nbb_cells[i].input_prompt_number == nbb_cell_id) {\n",
       "                        if (nbb_cells[i].get_text() == nbb_unformatted_code) {\n",
       "                             nbb_cells[i].set_text(nbb_formatted_code);\n",
       "                        }\n",
       "                        break;\n",
       "                    }\n",
       "                }\n",
       "            }, 500);\n",
       "            "
      ],
      "text/plain": [
       "<IPython.core.display.Javascript object>"
      ]
     },
     "metadata": {},
     "output_type": "display_data"
    },
    {
     "data": {
      "application/javascript": [
       "\n",
       "            setTimeout(function() {\n",
       "                var nbb_cell_id = 35;\n",
       "                var nbb_unformatted_code = \"feature_vars = [\\n    \\\"lotarea\\\",\\n    \\\"neighborhood\\\",\\n    \\\"yearbuilt\\\",\\n    \\\"centralair\\\",\\n    \\\"baths_full\\\",\\n    \\\"baths_half\\\",\\n    \\\"bedroomabvgr\\\",\\n    \\\"adj_sf\\\",\\n]\\n\\nsecondary_vars = [\\n    \\\"poolqc\\\",\\n    \\\"garagecond\\\",\\n    \\\"garagequal\\\",\\n    \\\"fireplacequ\\\",\\n    \\\"functional\\\",\\n    \\\"kitchenqual\\\",\\n    \\\"bldgtype\\\",\\n    \\\"housestyle\\\",\\n    \\\"bsmtfullbath\\\",\\n    \\\"bsmthalfbath\\\",\\n    \\\"fireplaces\\\",\\n    \\\"garagearea\\\",\\n    \\\"wooddecksf\\\",\\n    \\\"openporchsf\\\",\\n    \\\"enclosedporch\\\",\\n    \\\"threessnporch\\\",\\n    \\\"screenporch\\\",\\n    \\\"poolarea\\\",\\n    \\\"kitchenabvgr\\\",\\n    \\\"totalbsmtsf\\\",\\n    \\\"overallcond\\\",\\n    \\\"overallqual\\\",\\n]\";\n",
       "                var nbb_formatted_code = \"feature_vars = [\\n    \\\"lotarea\\\",\\n    \\\"neighborhood\\\",\\n    \\\"yearbuilt\\\",\\n    \\\"centralair\\\",\\n    \\\"baths_full\\\",\\n    \\\"baths_half\\\",\\n    \\\"bedroomabvgr\\\",\\n    \\\"adj_sf\\\",\\n]\\n\\nsecondary_vars = [\\n    \\\"poolqc\\\",\\n    \\\"garagecond\\\",\\n    \\\"garagequal\\\",\\n    \\\"fireplacequ\\\",\\n    \\\"functional\\\",\\n    \\\"kitchenqual\\\",\\n    \\\"bldgtype\\\",\\n    \\\"housestyle\\\",\\n    \\\"bsmtfullbath\\\",\\n    \\\"bsmthalfbath\\\",\\n    \\\"fireplaces\\\",\\n    \\\"garagearea\\\",\\n    \\\"wooddecksf\\\",\\n    \\\"openporchsf\\\",\\n    \\\"enclosedporch\\\",\\n    \\\"threessnporch\\\",\\n    \\\"screenporch\\\",\\n    \\\"poolarea\\\",\\n    \\\"kitchenabvgr\\\",\\n    \\\"totalbsmtsf\\\",\\n    \\\"overallcond\\\",\\n    \\\"overallqual\\\",\\n]\";\n",
       "                var nbb_cells = Jupyter.notebook.get_cells();\n",
       "                for (var i = 0; i < nbb_cells.length; ++i) {\n",
       "                    if (nbb_cells[i].input_prompt_number == nbb_cell_id) {\n",
       "                        if (nbb_cells[i].get_text() == nbb_unformatted_code) {\n",
       "                             nbb_cells[i].set_text(nbb_formatted_code);\n",
       "                        }\n",
       "                        break;\n",
       "                    }\n",
       "                }\n",
       "            }, 500);\n",
       "            "
      ],
      "text/plain": [
       "<IPython.core.display.Javascript object>"
      ]
     },
     "metadata": {},
     "output_type": "display_data"
    }
   ],
   "source": [
    "feature_vars = [\n",
    "    \"lotarea\",\n",
    "    \"neighborhood\",\n",
    "    \"yearbuilt\",\n",
    "    \"centralair\",\n",
    "    \"baths_full\",\n",
    "    \"baths_half\",\n",
    "    \"bedroomabvgr\",\n",
    "    \"adj_sf\",\n",
    "]\n",
    "\n",
    "secondary_vars = [\n",
    "    \"poolqc\",\n",
    "    \"garagecond\",\n",
    "    \"garagequal\",\n",
    "    \"fireplacequ\",\n",
    "    \"functional\",\n",
    "    \"kitchenqual\",\n",
    "    \"bldgtype\",\n",
    "    \"housestyle\",\n",
    "    \"bsmtfullbath\",\n",
    "    \"bsmthalfbath\",\n",
    "    \"fireplaces\",\n",
    "    \"garagearea\",\n",
    "    \"wooddecksf\",\n",
    "    \"openporchsf\",\n",
    "    \"enclosedporch\",\n",
    "    \"threessnporch\",\n",
    "    \"screenporch\",\n",
    "    \"poolarea\",\n",
    "    \"kitchenabvgr\",\n",
    "    \"totalbsmtsf\",\n",
    "    \"overallcond\",\n",
    "    \"overallqual\",\n",
    "]"
   ]
  },
  {
   "cell_type": "code",
   "execution_count": 36,
   "metadata": {},
   "outputs": [
    {
     "data": {
      "application/javascript": [
       "\n",
       "            setTimeout(function() {\n",
       "                var nbb_cell_id = 36;\n",
       "                var nbb_unformatted_code = \"# centralair, paveddrive are binary vars; converting to numeric binary\\ndf.centralair = pd.get_dummies(df.centralair, drop_first=True)\\ndf.paveddrive = pd.get_dummies(df.paveddrive, drop_first=True)\";\n",
       "                var nbb_formatted_code = \"# centralair, paveddrive are binary vars; converting to numeric binary\\ndf.centralair = pd.get_dummies(df.centralair, drop_first=True)\\ndf.paveddrive = pd.get_dummies(df.paveddrive, drop_first=True)\";\n",
       "                var nbb_cells = Jupyter.notebook.get_cells();\n",
       "                for (var i = 0; i < nbb_cells.length; ++i) {\n",
       "                    if (nbb_cells[i].input_prompt_number == nbb_cell_id) {\n",
       "                        if (nbb_cells[i].get_text() == nbb_unformatted_code) {\n",
       "                             nbb_cells[i].set_text(nbb_formatted_code);\n",
       "                        }\n",
       "                        break;\n",
       "                    }\n",
       "                }\n",
       "            }, 500);\n",
       "            "
      ],
      "text/plain": [
       "<IPython.core.display.Javascript object>"
      ]
     },
     "metadata": {},
     "output_type": "display_data"
    },
    {
     "data": {
      "application/javascript": [
       "\n",
       "            setTimeout(function() {\n",
       "                var nbb_cell_id = 36;\n",
       "                var nbb_unformatted_code = \"# centralair, paveddrive are binary vars; converting to numeric binary\\ndf.centralair = pd.get_dummies(df.centralair, drop_first=True)\\ndf.paveddrive = pd.get_dummies(df.paveddrive, drop_first=True)\";\n",
       "                var nbb_formatted_code = \"# centralair, paveddrive are binary vars; converting to numeric binary\\ndf.centralair = pd.get_dummies(df.centralair, drop_first=True)\\ndf.paveddrive = pd.get_dummies(df.paveddrive, drop_first=True)\";\n",
       "                var nbb_cells = Jupyter.notebook.get_cells();\n",
       "                for (var i = 0; i < nbb_cells.length; ++i) {\n",
       "                    if (nbb_cells[i].input_prompt_number == nbb_cell_id) {\n",
       "                        if (nbb_cells[i].get_text() == nbb_unformatted_code) {\n",
       "                             nbb_cells[i].set_text(nbb_formatted_code);\n",
       "                        }\n",
       "                        break;\n",
       "                    }\n",
       "                }\n",
       "            }, 500);\n",
       "            "
      ],
      "text/plain": [
       "<IPython.core.display.Javascript object>"
      ]
     },
     "metadata": {},
     "output_type": "display_data"
    },
    {
     "data": {
      "application/javascript": [
       "\n",
       "            setTimeout(function() {\n",
       "                var nbb_cell_id = 36;\n",
       "                var nbb_unformatted_code = \"# centralair, paveddrive are binary vars; converting to numeric binary\\ndf.centralair = pd.get_dummies(df.centralair, drop_first=True)\\ndf.paveddrive = pd.get_dummies(df.paveddrive, drop_first=True)\";\n",
       "                var nbb_formatted_code = \"# centralair, paveddrive are binary vars; converting to numeric binary\\ndf.centralair = pd.get_dummies(df.centralair, drop_first=True)\\ndf.paveddrive = pd.get_dummies(df.paveddrive, drop_first=True)\";\n",
       "                var nbb_cells = Jupyter.notebook.get_cells();\n",
       "                for (var i = 0; i < nbb_cells.length; ++i) {\n",
       "                    if (nbb_cells[i].input_prompt_number == nbb_cell_id) {\n",
       "                        if (nbb_cells[i].get_text() == nbb_unformatted_code) {\n",
       "                             nbb_cells[i].set_text(nbb_formatted_code);\n",
       "                        }\n",
       "                        break;\n",
       "                    }\n",
       "                }\n",
       "            }, 500);\n",
       "            "
      ],
      "text/plain": [
       "<IPython.core.display.Javascript object>"
      ]
     },
     "metadata": {},
     "output_type": "display_data"
    },
    {
     "data": {
      "application/javascript": [
       "\n",
       "            setTimeout(function() {\n",
       "                var nbb_cell_id = 36;\n",
       "                var nbb_unformatted_code = \"# centralair, paveddrive are binary vars; converting to numeric binary\\ndf.centralair = pd.get_dummies(df.centralair, drop_first=True)\\ndf.paveddrive = pd.get_dummies(df.paveddrive, drop_first=True)\";\n",
       "                var nbb_formatted_code = \"# centralair, paveddrive are binary vars; converting to numeric binary\\ndf.centralair = pd.get_dummies(df.centralair, drop_first=True)\\ndf.paveddrive = pd.get_dummies(df.paveddrive, drop_first=True)\";\n",
       "                var nbb_cells = Jupyter.notebook.get_cells();\n",
       "                for (var i = 0; i < nbb_cells.length; ++i) {\n",
       "                    if (nbb_cells[i].input_prompt_number == nbb_cell_id) {\n",
       "                        if (nbb_cells[i].get_text() == nbb_unformatted_code) {\n",
       "                             nbb_cells[i].set_text(nbb_formatted_code);\n",
       "                        }\n",
       "                        break;\n",
       "                    }\n",
       "                }\n",
       "            }, 500);\n",
       "            "
      ],
      "text/plain": [
       "<IPython.core.display.Javascript object>"
      ]
     },
     "metadata": {},
     "output_type": "display_data"
    }
   ],
   "source": [
    "# centralair, paveddrive are binary vars; converting to numeric binary\n",
    "df.centralair = pd.get_dummies(df.centralair, drop_first=True)\n",
    "df.paveddrive = pd.get_dummies(df.paveddrive, drop_first=True)"
   ]
  },
  {
   "cell_type": "markdown",
   "metadata": {},
   "source": [
    "### Numeric Vars"
   ]
  },
  {
   "cell_type": "code",
   "execution_count": 37,
   "metadata": {},
   "outputs": [
    {
     "data": {
      "application/javascript": [
       "\n",
       "            setTimeout(function() {\n",
       "                var nbb_cell_id = 37;\n",
       "                var nbb_unformatted_code = \"num_vars = []\\nobj_vars = []\\n\\nfor var in df.columns:\\n    if np.dtype(df[var]) == \\\"object\\\":\\n        obj_vars.append(var)\\n    else:\\n        num_vars.append(var)\";\n",
       "                var nbb_formatted_code = \"num_vars = []\\nobj_vars = []\\n\\nfor var in df.columns:\\n    if np.dtype(df[var]) == \\\"object\\\":\\n        obj_vars.append(var)\\n    else:\\n        num_vars.append(var)\";\n",
       "                var nbb_cells = Jupyter.notebook.get_cells();\n",
       "                for (var i = 0; i < nbb_cells.length; ++i) {\n",
       "                    if (nbb_cells[i].input_prompt_number == nbb_cell_id) {\n",
       "                        if (nbb_cells[i].get_text() == nbb_unformatted_code) {\n",
       "                             nbb_cells[i].set_text(nbb_formatted_code);\n",
       "                        }\n",
       "                        break;\n",
       "                    }\n",
       "                }\n",
       "            }, 500);\n",
       "            "
      ],
      "text/plain": [
       "<IPython.core.display.Javascript object>"
      ]
     },
     "metadata": {},
     "output_type": "display_data"
    },
    {
     "data": {
      "application/javascript": [
       "\n",
       "            setTimeout(function() {\n",
       "                var nbb_cell_id = 37;\n",
       "                var nbb_unformatted_code = \"num_vars = []\\nobj_vars = []\\n\\nfor var in df.columns:\\n    if np.dtype(df[var]) == \\\"object\\\":\\n        obj_vars.append(var)\\n    else:\\n        num_vars.append(var)\";\n",
       "                var nbb_formatted_code = \"num_vars = []\\nobj_vars = []\\n\\nfor var in df.columns:\\n    if np.dtype(df[var]) == \\\"object\\\":\\n        obj_vars.append(var)\\n    else:\\n        num_vars.append(var)\";\n",
       "                var nbb_cells = Jupyter.notebook.get_cells();\n",
       "                for (var i = 0; i < nbb_cells.length; ++i) {\n",
       "                    if (nbb_cells[i].input_prompt_number == nbb_cell_id) {\n",
       "                        if (nbb_cells[i].get_text() == nbb_unformatted_code) {\n",
       "                             nbb_cells[i].set_text(nbb_formatted_code);\n",
       "                        }\n",
       "                        break;\n",
       "                    }\n",
       "                }\n",
       "            }, 500);\n",
       "            "
      ],
      "text/plain": [
       "<IPython.core.display.Javascript object>"
      ]
     },
     "metadata": {},
     "output_type": "display_data"
    },
    {
     "data": {
      "application/javascript": [
       "\n",
       "            setTimeout(function() {\n",
       "                var nbb_cell_id = 37;\n",
       "                var nbb_unformatted_code = \"num_vars = []\\nobj_vars = []\\n\\nfor var in df.columns:\\n    if np.dtype(df[var]) == \\\"object\\\":\\n        obj_vars.append(var)\\n    else:\\n        num_vars.append(var)\";\n",
       "                var nbb_formatted_code = \"num_vars = []\\nobj_vars = []\\n\\nfor var in df.columns:\\n    if np.dtype(df[var]) == \\\"object\\\":\\n        obj_vars.append(var)\\n    else:\\n        num_vars.append(var)\";\n",
       "                var nbb_cells = Jupyter.notebook.get_cells();\n",
       "                for (var i = 0; i < nbb_cells.length; ++i) {\n",
       "                    if (nbb_cells[i].input_prompt_number == nbb_cell_id) {\n",
       "                        if (nbb_cells[i].get_text() == nbb_unformatted_code) {\n",
       "                             nbb_cells[i].set_text(nbb_formatted_code);\n",
       "                        }\n",
       "                        break;\n",
       "                    }\n",
       "                }\n",
       "            }, 500);\n",
       "            "
      ],
      "text/plain": [
       "<IPython.core.display.Javascript object>"
      ]
     },
     "metadata": {},
     "output_type": "display_data"
    },
    {
     "data": {
      "application/javascript": [
       "\n",
       "            setTimeout(function() {\n",
       "                var nbb_cell_id = 37;\n",
       "                var nbb_unformatted_code = \"num_vars = []\\nobj_vars = []\\n\\nfor var in df.columns:\\n    if np.dtype(df[var]) == \\\"object\\\":\\n        obj_vars.append(var)\\n    else:\\n        num_vars.append(var)\";\n",
       "                var nbb_formatted_code = \"num_vars = []\\nobj_vars = []\\n\\nfor var in df.columns:\\n    if np.dtype(df[var]) == \\\"object\\\":\\n        obj_vars.append(var)\\n    else:\\n        num_vars.append(var)\";\n",
       "                var nbb_cells = Jupyter.notebook.get_cells();\n",
       "                for (var i = 0; i < nbb_cells.length; ++i) {\n",
       "                    if (nbb_cells[i].input_prompt_number == nbb_cell_id) {\n",
       "                        if (nbb_cells[i].get_text() == nbb_unformatted_code) {\n",
       "                             nbb_cells[i].set_text(nbb_formatted_code);\n",
       "                        }\n",
       "                        break;\n",
       "                    }\n",
       "                }\n",
       "            }, 500);\n",
       "            "
      ],
      "text/plain": [
       "<IPython.core.display.Javascript object>"
      ]
     },
     "metadata": {},
     "output_type": "display_data"
    }
   ],
   "source": [
    "num_vars = []\n",
    "obj_vars = []\n",
    "\n",
    "for var in df.columns:\n",
    "    if np.dtype(df[var]) == \"object\":\n",
    "        obj_vars.append(var)\n",
    "    else:\n",
    "        num_vars.append(var)"
   ]
  },
  {
   "cell_type": "code",
   "execution_count": 38,
   "metadata": {},
   "outputs": [
    {
     "data": {
      "application/javascript": [
       "\n",
       "            setTimeout(function() {\n",
       "                var nbb_cell_id = 38;\n",
       "                var nbb_unformatted_code = \"# num_df = df[\\n#     [\\n        \\n#             \\\"saleprice\\\",\\n#             \\\"lotarea\\\",\\n#             \\\"overallqual\\\",\\n#             \\\"overallcond\\\",\\n#             \\\"yearbuilt\\\",\\n#             \\\"yearremodadd\\\",\\n#             \\\"bsmtfinsf1\\\",\\n#             \\\"bsmtfinsf2\\\",\\n#             \\\"bsmtunfsf\\\",\\n#             \\\"totalbsmtsf\\\",\\n#             \\\"centralair\\\",\\n#             \\\"firstflrsf\\\",\\n#             \\\"secondflrsf\\\",\\n#             \\\"lowqualfinsf\\\",\\n#             \\\"grlivarea\\\",\\n#             \\\"bsmtfullbath\\\",\\n#             \\\"bsmthalfbath\\\",\\n#             \\\"fullbath\\\",\\n#             \\\"halfbath\\\",\\n#             \\\"bedroomabvgr\\\",\\n#             \\\"kitchenabvgr\\\",\\n#             \\\"totrmsabvgrd\\\",\\n#             \\\"fireplaces\\\",\\n#             \\\"garagecars\\\",\\n#             \\\"garagearea\\\",\\n#             \\\"paveddrive\\\",\\n#             \\\"wooddecksf\\\",\\n#             \\\"openporchsf\\\",\\n#             \\\"enclosedporch\\\",\\n#             \\\"threessnporch\\\",\\n#             \\\"screenporch\\\",\\n#             \\\"poolarea\\\",\\n#             \\\"miscval\\\",\\n#             \\\"mosold\\\",\\n#             \\\"yrsold\\\",\\n#             \\\"saleprice\\\",\\n#         ]\\n#     ]\";\n",
       "                var nbb_formatted_code = \"# num_df = df[\\n#     [\\n\\n#             \\\"saleprice\\\",\\n#             \\\"lotarea\\\",\\n#             \\\"overallqual\\\",\\n#             \\\"overallcond\\\",\\n#             \\\"yearbuilt\\\",\\n#             \\\"yearremodadd\\\",\\n#             \\\"bsmtfinsf1\\\",\\n#             \\\"bsmtfinsf2\\\",\\n#             \\\"bsmtunfsf\\\",\\n#             \\\"totalbsmtsf\\\",\\n#             \\\"centralair\\\",\\n#             \\\"firstflrsf\\\",\\n#             \\\"secondflrsf\\\",\\n#             \\\"lowqualfinsf\\\",\\n#             \\\"grlivarea\\\",\\n#             \\\"bsmtfullbath\\\",\\n#             \\\"bsmthalfbath\\\",\\n#             \\\"fullbath\\\",\\n#             \\\"halfbath\\\",\\n#             \\\"bedroomabvgr\\\",\\n#             \\\"kitchenabvgr\\\",\\n#             \\\"totrmsabvgrd\\\",\\n#             \\\"fireplaces\\\",\\n#             \\\"garagecars\\\",\\n#             \\\"garagearea\\\",\\n#             \\\"paveddrive\\\",\\n#             \\\"wooddecksf\\\",\\n#             \\\"openporchsf\\\",\\n#             \\\"enclosedporch\\\",\\n#             \\\"threessnporch\\\",\\n#             \\\"screenporch\\\",\\n#             \\\"poolarea\\\",\\n#             \\\"miscval\\\",\\n#             \\\"mosold\\\",\\n#             \\\"yrsold\\\",\\n#             \\\"saleprice\\\",\\n#         ]\\n#     ]\";\n",
       "                var nbb_cells = Jupyter.notebook.get_cells();\n",
       "                for (var i = 0; i < nbb_cells.length; ++i) {\n",
       "                    if (nbb_cells[i].input_prompt_number == nbb_cell_id) {\n",
       "                        if (nbb_cells[i].get_text() == nbb_unformatted_code) {\n",
       "                             nbb_cells[i].set_text(nbb_formatted_code);\n",
       "                        }\n",
       "                        break;\n",
       "                    }\n",
       "                }\n",
       "            }, 500);\n",
       "            "
      ],
      "text/plain": [
       "<IPython.core.display.Javascript object>"
      ]
     },
     "metadata": {},
     "output_type": "display_data"
    },
    {
     "data": {
      "application/javascript": [
       "\n",
       "            setTimeout(function() {\n",
       "                var nbb_cell_id = 38;\n",
       "                var nbb_unformatted_code = \"# num_df = df[\\n#     [\\n        \\n#             \\\"saleprice\\\",\\n#             \\\"lotarea\\\",\\n#             \\\"overallqual\\\",\\n#             \\\"overallcond\\\",\\n#             \\\"yearbuilt\\\",\\n#             \\\"yearremodadd\\\",\\n#             \\\"bsmtfinsf1\\\",\\n#             \\\"bsmtfinsf2\\\",\\n#             \\\"bsmtunfsf\\\",\\n#             \\\"totalbsmtsf\\\",\\n#             \\\"centralair\\\",\\n#             \\\"firstflrsf\\\",\\n#             \\\"secondflrsf\\\",\\n#             \\\"lowqualfinsf\\\",\\n#             \\\"grlivarea\\\",\\n#             \\\"bsmtfullbath\\\",\\n#             \\\"bsmthalfbath\\\",\\n#             \\\"fullbath\\\",\\n#             \\\"halfbath\\\",\\n#             \\\"bedroomabvgr\\\",\\n#             \\\"kitchenabvgr\\\",\\n#             \\\"totrmsabvgrd\\\",\\n#             \\\"fireplaces\\\",\\n#             \\\"garagecars\\\",\\n#             \\\"garagearea\\\",\\n#             \\\"paveddrive\\\",\\n#             \\\"wooddecksf\\\",\\n#             \\\"openporchsf\\\",\\n#             \\\"enclosedporch\\\",\\n#             \\\"threessnporch\\\",\\n#             \\\"screenporch\\\",\\n#             \\\"poolarea\\\",\\n#             \\\"miscval\\\",\\n#             \\\"mosold\\\",\\n#             \\\"yrsold\\\",\\n#             \\\"saleprice\\\",\\n#         ]\\n#     ]\";\n",
       "                var nbb_formatted_code = \"# num_df = df[\\n#     [\\n\\n#             \\\"saleprice\\\",\\n#             \\\"lotarea\\\",\\n#             \\\"overallqual\\\",\\n#             \\\"overallcond\\\",\\n#             \\\"yearbuilt\\\",\\n#             \\\"yearremodadd\\\",\\n#             \\\"bsmtfinsf1\\\",\\n#             \\\"bsmtfinsf2\\\",\\n#             \\\"bsmtunfsf\\\",\\n#             \\\"totalbsmtsf\\\",\\n#             \\\"centralair\\\",\\n#             \\\"firstflrsf\\\",\\n#             \\\"secondflrsf\\\",\\n#             \\\"lowqualfinsf\\\",\\n#             \\\"grlivarea\\\",\\n#             \\\"bsmtfullbath\\\",\\n#             \\\"bsmthalfbath\\\",\\n#             \\\"fullbath\\\",\\n#             \\\"halfbath\\\",\\n#             \\\"bedroomabvgr\\\",\\n#             \\\"kitchenabvgr\\\",\\n#             \\\"totrmsabvgrd\\\",\\n#             \\\"fireplaces\\\",\\n#             \\\"garagecars\\\",\\n#             \\\"garagearea\\\",\\n#             \\\"paveddrive\\\",\\n#             \\\"wooddecksf\\\",\\n#             \\\"openporchsf\\\",\\n#             \\\"enclosedporch\\\",\\n#             \\\"threessnporch\\\",\\n#             \\\"screenporch\\\",\\n#             \\\"poolarea\\\",\\n#             \\\"miscval\\\",\\n#             \\\"mosold\\\",\\n#             \\\"yrsold\\\",\\n#             \\\"saleprice\\\",\\n#         ]\\n#     ]\";\n",
       "                var nbb_cells = Jupyter.notebook.get_cells();\n",
       "                for (var i = 0; i < nbb_cells.length; ++i) {\n",
       "                    if (nbb_cells[i].input_prompt_number == nbb_cell_id) {\n",
       "                        if (nbb_cells[i].get_text() == nbb_unformatted_code) {\n",
       "                             nbb_cells[i].set_text(nbb_formatted_code);\n",
       "                        }\n",
       "                        break;\n",
       "                    }\n",
       "                }\n",
       "            }, 500);\n",
       "            "
      ],
      "text/plain": [
       "<IPython.core.display.Javascript object>"
      ]
     },
     "metadata": {},
     "output_type": "display_data"
    },
    {
     "data": {
      "application/javascript": [
       "\n",
       "            setTimeout(function() {\n",
       "                var nbb_cell_id = 38;\n",
       "                var nbb_unformatted_code = \"# num_df = df[\\n#     [\\n        \\n#             \\\"saleprice\\\",\\n#             \\\"lotarea\\\",\\n#             \\\"overallqual\\\",\\n#             \\\"overallcond\\\",\\n#             \\\"yearbuilt\\\",\\n#             \\\"yearremodadd\\\",\\n#             \\\"bsmtfinsf1\\\",\\n#             \\\"bsmtfinsf2\\\",\\n#             \\\"bsmtunfsf\\\",\\n#             \\\"totalbsmtsf\\\",\\n#             \\\"centralair\\\",\\n#             \\\"firstflrsf\\\",\\n#             \\\"secondflrsf\\\",\\n#             \\\"lowqualfinsf\\\",\\n#             \\\"grlivarea\\\",\\n#             \\\"bsmtfullbath\\\",\\n#             \\\"bsmthalfbath\\\",\\n#             \\\"fullbath\\\",\\n#             \\\"halfbath\\\",\\n#             \\\"bedroomabvgr\\\",\\n#             \\\"kitchenabvgr\\\",\\n#             \\\"totrmsabvgrd\\\",\\n#             \\\"fireplaces\\\",\\n#             \\\"garagecars\\\",\\n#             \\\"garagearea\\\",\\n#             \\\"paveddrive\\\",\\n#             \\\"wooddecksf\\\",\\n#             \\\"openporchsf\\\",\\n#             \\\"enclosedporch\\\",\\n#             \\\"threessnporch\\\",\\n#             \\\"screenporch\\\",\\n#             \\\"poolarea\\\",\\n#             \\\"miscval\\\",\\n#             \\\"mosold\\\",\\n#             \\\"yrsold\\\",\\n#             \\\"saleprice\\\",\\n#         ]\\n#     ]\";\n",
       "                var nbb_formatted_code = \"# num_df = df[\\n#     [\\n\\n#             \\\"saleprice\\\",\\n#             \\\"lotarea\\\",\\n#             \\\"overallqual\\\",\\n#             \\\"overallcond\\\",\\n#             \\\"yearbuilt\\\",\\n#             \\\"yearremodadd\\\",\\n#             \\\"bsmtfinsf1\\\",\\n#             \\\"bsmtfinsf2\\\",\\n#             \\\"bsmtunfsf\\\",\\n#             \\\"totalbsmtsf\\\",\\n#             \\\"centralair\\\",\\n#             \\\"firstflrsf\\\",\\n#             \\\"secondflrsf\\\",\\n#             \\\"lowqualfinsf\\\",\\n#             \\\"grlivarea\\\",\\n#             \\\"bsmtfullbath\\\",\\n#             \\\"bsmthalfbath\\\",\\n#             \\\"fullbath\\\",\\n#             \\\"halfbath\\\",\\n#             \\\"bedroomabvgr\\\",\\n#             \\\"kitchenabvgr\\\",\\n#             \\\"totrmsabvgrd\\\",\\n#             \\\"fireplaces\\\",\\n#             \\\"garagecars\\\",\\n#             \\\"garagearea\\\",\\n#             \\\"paveddrive\\\",\\n#             \\\"wooddecksf\\\",\\n#             \\\"openporchsf\\\",\\n#             \\\"enclosedporch\\\",\\n#             \\\"threessnporch\\\",\\n#             \\\"screenporch\\\",\\n#             \\\"poolarea\\\",\\n#             \\\"miscval\\\",\\n#             \\\"mosold\\\",\\n#             \\\"yrsold\\\",\\n#             \\\"saleprice\\\",\\n#         ]\\n#     ]\";\n",
       "                var nbb_cells = Jupyter.notebook.get_cells();\n",
       "                for (var i = 0; i < nbb_cells.length; ++i) {\n",
       "                    if (nbb_cells[i].input_prompt_number == nbb_cell_id) {\n",
       "                        if (nbb_cells[i].get_text() == nbb_unformatted_code) {\n",
       "                             nbb_cells[i].set_text(nbb_formatted_code);\n",
       "                        }\n",
       "                        break;\n",
       "                    }\n",
       "                }\n",
       "            }, 500);\n",
       "            "
      ],
      "text/plain": [
       "<IPython.core.display.Javascript object>"
      ]
     },
     "metadata": {},
     "output_type": "display_data"
    },
    {
     "data": {
      "application/javascript": [
       "\n",
       "            setTimeout(function() {\n",
       "                var nbb_cell_id = 38;\n",
       "                var nbb_unformatted_code = \"# num_df = df[\\n#     [\\n        \\n#             \\\"saleprice\\\",\\n#             \\\"lotarea\\\",\\n#             \\\"overallqual\\\",\\n#             \\\"overallcond\\\",\\n#             \\\"yearbuilt\\\",\\n#             \\\"yearremodadd\\\",\\n#             \\\"bsmtfinsf1\\\",\\n#             \\\"bsmtfinsf2\\\",\\n#             \\\"bsmtunfsf\\\",\\n#             \\\"totalbsmtsf\\\",\\n#             \\\"centralair\\\",\\n#             \\\"firstflrsf\\\",\\n#             \\\"secondflrsf\\\",\\n#             \\\"lowqualfinsf\\\",\\n#             \\\"grlivarea\\\",\\n#             \\\"bsmtfullbath\\\",\\n#             \\\"bsmthalfbath\\\",\\n#             \\\"fullbath\\\",\\n#             \\\"halfbath\\\",\\n#             \\\"bedroomabvgr\\\",\\n#             \\\"kitchenabvgr\\\",\\n#             \\\"totrmsabvgrd\\\",\\n#             \\\"fireplaces\\\",\\n#             \\\"garagecars\\\",\\n#             \\\"garagearea\\\",\\n#             \\\"paveddrive\\\",\\n#             \\\"wooddecksf\\\",\\n#             \\\"openporchsf\\\",\\n#             \\\"enclosedporch\\\",\\n#             \\\"threessnporch\\\",\\n#             \\\"screenporch\\\",\\n#             \\\"poolarea\\\",\\n#             \\\"miscval\\\",\\n#             \\\"mosold\\\",\\n#             \\\"yrsold\\\",\\n#             \\\"saleprice\\\",\\n#         ]\\n#     ]\";\n",
       "                var nbb_formatted_code = \"# num_df = df[\\n#     [\\n\\n#             \\\"saleprice\\\",\\n#             \\\"lotarea\\\",\\n#             \\\"overallqual\\\",\\n#             \\\"overallcond\\\",\\n#             \\\"yearbuilt\\\",\\n#             \\\"yearremodadd\\\",\\n#             \\\"bsmtfinsf1\\\",\\n#             \\\"bsmtfinsf2\\\",\\n#             \\\"bsmtunfsf\\\",\\n#             \\\"totalbsmtsf\\\",\\n#             \\\"centralair\\\",\\n#             \\\"firstflrsf\\\",\\n#             \\\"secondflrsf\\\",\\n#             \\\"lowqualfinsf\\\",\\n#             \\\"grlivarea\\\",\\n#             \\\"bsmtfullbath\\\",\\n#             \\\"bsmthalfbath\\\",\\n#             \\\"fullbath\\\",\\n#             \\\"halfbath\\\",\\n#             \\\"bedroomabvgr\\\",\\n#             \\\"kitchenabvgr\\\",\\n#             \\\"totrmsabvgrd\\\",\\n#             \\\"fireplaces\\\",\\n#             \\\"garagecars\\\",\\n#             \\\"garagearea\\\",\\n#             \\\"paveddrive\\\",\\n#             \\\"wooddecksf\\\",\\n#             \\\"openporchsf\\\",\\n#             \\\"enclosedporch\\\",\\n#             \\\"threessnporch\\\",\\n#             \\\"screenporch\\\",\\n#             \\\"poolarea\\\",\\n#             \\\"miscval\\\",\\n#             \\\"mosold\\\",\\n#             \\\"yrsold\\\",\\n#             \\\"saleprice\\\",\\n#         ]\\n#     ]\";\n",
       "                var nbb_cells = Jupyter.notebook.get_cells();\n",
       "                for (var i = 0; i < nbb_cells.length; ++i) {\n",
       "                    if (nbb_cells[i].input_prompt_number == nbb_cell_id) {\n",
       "                        if (nbb_cells[i].get_text() == nbb_unformatted_code) {\n",
       "                             nbb_cells[i].set_text(nbb_formatted_code);\n",
       "                        }\n",
       "                        break;\n",
       "                    }\n",
       "                }\n",
       "            }, 500);\n",
       "            "
      ],
      "text/plain": [
       "<IPython.core.display.Javascript object>"
      ]
     },
     "metadata": {},
     "output_type": "display_data"
    }
   ],
   "source": [
    "# num_df = df[\n",
    "#     [\n",
    "        \n",
    "#             \"saleprice\",\n",
    "#             \"lotarea\",\n",
    "#             \"overallqual\",\n",
    "#             \"overallcond\",\n",
    "#             \"yearbuilt\",\n",
    "#             \"yearremodadd\",\n",
    "#             \"bsmtfinsf1\",\n",
    "#             \"bsmtfinsf2\",\n",
    "#             \"bsmtunfsf\",\n",
    "#             \"totalbsmtsf\",\n",
    "#             \"centralair\",\n",
    "#             \"firstflrsf\",\n",
    "#             \"secondflrsf\",\n",
    "#             \"lowqualfinsf\",\n",
    "#             \"grlivarea\",\n",
    "#             \"bsmtfullbath\",\n",
    "#             \"bsmthalfbath\",\n",
    "#             \"fullbath\",\n",
    "#             \"halfbath\",\n",
    "#             \"bedroomabvgr\",\n",
    "#             \"kitchenabvgr\",\n",
    "#             \"totrmsabvgrd\",\n",
    "#             \"fireplaces\",\n",
    "#             \"garagecars\",\n",
    "#             \"garagearea\",\n",
    "#             \"paveddrive\",\n",
    "#             \"wooddecksf\",\n",
    "#             \"openporchsf\",\n",
    "#             \"enclosedporch\",\n",
    "#             \"threessnporch\",\n",
    "#             \"screenporch\",\n",
    "#             \"poolarea\",\n",
    "#             \"miscval\",\n",
    "#             \"mosold\",\n",
    "#             \"yrsold\",\n",
    "#             \"saleprice\",\n",
    "#         ]\n",
    "#     ]\n"
   ]
  },
  {
   "cell_type": "markdown",
   "metadata": {},
   "source": [
    "### Object Vars"
   ]
  },
  {
   "cell_type": "code",
   "execution_count": 39,
   "metadata": {
    "scrolled": false
   },
   "outputs": [
    {
     "data": {
      "text/html": [
       "<div>\n",
       "<style scoped>\n",
       "    .dataframe tbody tr th:only-of-type {\n",
       "        vertical-align: middle;\n",
       "    }\n",
       "\n",
       "    .dataframe tbody tr th {\n",
       "        vertical-align: top;\n",
       "    }\n",
       "\n",
       "    .dataframe thead th {\n",
       "        text-align: right;\n",
       "    }\n",
       "</style>\n",
       "<table border=\"1\" class=\"dataframe\">\n",
       "  <thead>\n",
       "    <tr style=\"text-align: right;\">\n",
       "      <th></th>\n",
       "      <th>saleprice</th>\n",
       "      <th>street</th>\n",
       "      <th>lotshape</th>\n",
       "      <th>landcontour</th>\n",
       "      <th>utilities</th>\n",
       "      <th>lotconfig</th>\n",
       "      <th>landslope</th>\n",
       "      <th>neighborhood</th>\n",
       "      <th>condition1</th>\n",
       "      <th>condition2</th>\n",
       "      <th>...</th>\n",
       "      <th>extercond</th>\n",
       "      <th>foundation</th>\n",
       "      <th>heating</th>\n",
       "      <th>heatingqc</th>\n",
       "      <th>electrical</th>\n",
       "      <th>kitchenqual</th>\n",
       "      <th>functional</th>\n",
       "      <th>garagetype</th>\n",
       "      <th>saletype</th>\n",
       "      <th>salecondition</th>\n",
       "    </tr>\n",
       "  </thead>\n",
       "  <tbody>\n",
       "    <tr>\n",
       "      <th>0</th>\n",
       "      <td>12.247694</td>\n",
       "      <td>Pave</td>\n",
       "      <td>Reg</td>\n",
       "      <td>Lvl</td>\n",
       "      <td>AllPub</td>\n",
       "      <td>Inside</td>\n",
       "      <td>Gtl</td>\n",
       "      <td>CollgCr</td>\n",
       "      <td>Norm</td>\n",
       "      <td>Norm</td>\n",
       "      <td>...</td>\n",
       "      <td>TA</td>\n",
       "      <td>PConc</td>\n",
       "      <td>GasA</td>\n",
       "      <td>Ex</td>\n",
       "      <td>SBrkr</td>\n",
       "      <td>Gd</td>\n",
       "      <td>Typ</td>\n",
       "      <td>Attchd</td>\n",
       "      <td>WD</td>\n",
       "      <td>Normal</td>\n",
       "    </tr>\n",
       "    <tr>\n",
       "      <th>1</th>\n",
       "      <td>12.109011</td>\n",
       "      <td>Pave</td>\n",
       "      <td>Reg</td>\n",
       "      <td>Lvl</td>\n",
       "      <td>AllPub</td>\n",
       "      <td>FR2</td>\n",
       "      <td>Gtl</td>\n",
       "      <td>Veenker</td>\n",
       "      <td>Feedr</td>\n",
       "      <td>Norm</td>\n",
       "      <td>...</td>\n",
       "      <td>TA</td>\n",
       "      <td>CBlock</td>\n",
       "      <td>GasA</td>\n",
       "      <td>Ex</td>\n",
       "      <td>SBrkr</td>\n",
       "      <td>TA</td>\n",
       "      <td>Typ</td>\n",
       "      <td>Attchd</td>\n",
       "      <td>WD</td>\n",
       "      <td>Normal</td>\n",
       "    </tr>\n",
       "    <tr>\n",
       "      <th>2</th>\n",
       "      <td>12.317167</td>\n",
       "      <td>Pave</td>\n",
       "      <td>IR1</td>\n",
       "      <td>Lvl</td>\n",
       "      <td>AllPub</td>\n",
       "      <td>Inside</td>\n",
       "      <td>Gtl</td>\n",
       "      <td>CollgCr</td>\n",
       "      <td>Norm</td>\n",
       "      <td>Norm</td>\n",
       "      <td>...</td>\n",
       "      <td>TA</td>\n",
       "      <td>PConc</td>\n",
       "      <td>GasA</td>\n",
       "      <td>Ex</td>\n",
       "      <td>SBrkr</td>\n",
       "      <td>Gd</td>\n",
       "      <td>Typ</td>\n",
       "      <td>Attchd</td>\n",
       "      <td>WD</td>\n",
       "      <td>Normal</td>\n",
       "    </tr>\n",
       "    <tr>\n",
       "      <th>3</th>\n",
       "      <td>11.849398</td>\n",
       "      <td>Pave</td>\n",
       "      <td>IR1</td>\n",
       "      <td>Lvl</td>\n",
       "      <td>AllPub</td>\n",
       "      <td>Corner</td>\n",
       "      <td>Gtl</td>\n",
       "      <td>Crawfor</td>\n",
       "      <td>Norm</td>\n",
       "      <td>Norm</td>\n",
       "      <td>...</td>\n",
       "      <td>TA</td>\n",
       "      <td>BrkTil</td>\n",
       "      <td>GasA</td>\n",
       "      <td>Gd</td>\n",
       "      <td>SBrkr</td>\n",
       "      <td>Gd</td>\n",
       "      <td>Typ</td>\n",
       "      <td>Detchd</td>\n",
       "      <td>WD</td>\n",
       "      <td>Abnorml</td>\n",
       "    </tr>\n",
       "    <tr>\n",
       "      <th>4</th>\n",
       "      <td>12.429216</td>\n",
       "      <td>Pave</td>\n",
       "      <td>IR1</td>\n",
       "      <td>Lvl</td>\n",
       "      <td>AllPub</td>\n",
       "      <td>FR2</td>\n",
       "      <td>Gtl</td>\n",
       "      <td>NoRidge</td>\n",
       "      <td>Norm</td>\n",
       "      <td>Norm</td>\n",
       "      <td>...</td>\n",
       "      <td>TA</td>\n",
       "      <td>PConc</td>\n",
       "      <td>GasA</td>\n",
       "      <td>Ex</td>\n",
       "      <td>SBrkr</td>\n",
       "      <td>Gd</td>\n",
       "      <td>Typ</td>\n",
       "      <td>Attchd</td>\n",
       "      <td>WD</td>\n",
       "      <td>Normal</td>\n",
       "    </tr>\n",
       "    <tr>\n",
       "      <th>...</th>\n",
       "      <td>...</td>\n",
       "      <td>...</td>\n",
       "      <td>...</td>\n",
       "      <td>...</td>\n",
       "      <td>...</td>\n",
       "      <td>...</td>\n",
       "      <td>...</td>\n",
       "      <td>...</td>\n",
       "      <td>...</td>\n",
       "      <td>...</td>\n",
       "      <td>...</td>\n",
       "      <td>...</td>\n",
       "      <td>...</td>\n",
       "      <td>...</td>\n",
       "      <td>...</td>\n",
       "      <td>...</td>\n",
       "      <td>...</td>\n",
       "      <td>...</td>\n",
       "      <td>...</td>\n",
       "      <td>...</td>\n",
       "      <td>...</td>\n",
       "    </tr>\n",
       "    <tr>\n",
       "      <th>1455</th>\n",
       "      <td>12.072541</td>\n",
       "      <td>Pave</td>\n",
       "      <td>Reg</td>\n",
       "      <td>Lvl</td>\n",
       "      <td>AllPub</td>\n",
       "      <td>Inside</td>\n",
       "      <td>Gtl</td>\n",
       "      <td>Gilbert</td>\n",
       "      <td>Norm</td>\n",
       "      <td>Norm</td>\n",
       "      <td>...</td>\n",
       "      <td>TA</td>\n",
       "      <td>PConc</td>\n",
       "      <td>GasA</td>\n",
       "      <td>Ex</td>\n",
       "      <td>SBrkr</td>\n",
       "      <td>TA</td>\n",
       "      <td>Typ</td>\n",
       "      <td>Attchd</td>\n",
       "      <td>WD</td>\n",
       "      <td>Normal</td>\n",
       "    </tr>\n",
       "    <tr>\n",
       "      <th>1456</th>\n",
       "      <td>12.254863</td>\n",
       "      <td>Pave</td>\n",
       "      <td>Reg</td>\n",
       "      <td>Lvl</td>\n",
       "      <td>AllPub</td>\n",
       "      <td>Inside</td>\n",
       "      <td>Gtl</td>\n",
       "      <td>NWAmes</td>\n",
       "      <td>Norm</td>\n",
       "      <td>Norm</td>\n",
       "      <td>...</td>\n",
       "      <td>TA</td>\n",
       "      <td>CBlock</td>\n",
       "      <td>GasA</td>\n",
       "      <td>TA</td>\n",
       "      <td>SBrkr</td>\n",
       "      <td>TA</td>\n",
       "      <td>Min1</td>\n",
       "      <td>Attchd</td>\n",
       "      <td>WD</td>\n",
       "      <td>Normal</td>\n",
       "    </tr>\n",
       "    <tr>\n",
       "      <th>1457</th>\n",
       "      <td>12.493130</td>\n",
       "      <td>Pave</td>\n",
       "      <td>Reg</td>\n",
       "      <td>Lvl</td>\n",
       "      <td>AllPub</td>\n",
       "      <td>Inside</td>\n",
       "      <td>Gtl</td>\n",
       "      <td>Crawfor</td>\n",
       "      <td>Norm</td>\n",
       "      <td>Norm</td>\n",
       "      <td>...</td>\n",
       "      <td>Gd</td>\n",
       "      <td>Stone</td>\n",
       "      <td>GasA</td>\n",
       "      <td>Ex</td>\n",
       "      <td>SBrkr</td>\n",
       "      <td>Gd</td>\n",
       "      <td>Typ</td>\n",
       "      <td>Attchd</td>\n",
       "      <td>WD</td>\n",
       "      <td>Normal</td>\n",
       "    </tr>\n",
       "    <tr>\n",
       "      <th>1458</th>\n",
       "      <td>11.864462</td>\n",
       "      <td>Pave</td>\n",
       "      <td>Reg</td>\n",
       "      <td>Lvl</td>\n",
       "      <td>AllPub</td>\n",
       "      <td>Inside</td>\n",
       "      <td>Gtl</td>\n",
       "      <td>NAmes</td>\n",
       "      <td>Norm</td>\n",
       "      <td>Norm</td>\n",
       "      <td>...</td>\n",
       "      <td>TA</td>\n",
       "      <td>CBlock</td>\n",
       "      <td>GasA</td>\n",
       "      <td>Gd</td>\n",
       "      <td>FuseA</td>\n",
       "      <td>Gd</td>\n",
       "      <td>Typ</td>\n",
       "      <td>Attchd</td>\n",
       "      <td>WD</td>\n",
       "      <td>Normal</td>\n",
       "    </tr>\n",
       "    <tr>\n",
       "      <th>1459</th>\n",
       "      <td>11.901583</td>\n",
       "      <td>Pave</td>\n",
       "      <td>Reg</td>\n",
       "      <td>Lvl</td>\n",
       "      <td>AllPub</td>\n",
       "      <td>Inside</td>\n",
       "      <td>Gtl</td>\n",
       "      <td>Edwards</td>\n",
       "      <td>Norm</td>\n",
       "      <td>Norm</td>\n",
       "      <td>...</td>\n",
       "      <td>TA</td>\n",
       "      <td>CBlock</td>\n",
       "      <td>GasA</td>\n",
       "      <td>Gd</td>\n",
       "      <td>SBrkr</td>\n",
       "      <td>TA</td>\n",
       "      <td>Typ</td>\n",
       "      <td>Attchd</td>\n",
       "      <td>WD</td>\n",
       "      <td>Normal</td>\n",
       "    </tr>\n",
       "  </tbody>\n",
       "</table>\n",
       "<p>1459 rows × 27 columns</p>\n",
       "</div>"
      ],
      "text/plain": [
       "      saleprice street lotshape landcontour utilities lotconfig landslope  \\\n",
       "0     12.247694   Pave      Reg         Lvl    AllPub    Inside       Gtl   \n",
       "1     12.109011   Pave      Reg         Lvl    AllPub       FR2       Gtl   \n",
       "2     12.317167   Pave      IR1         Lvl    AllPub    Inside       Gtl   \n",
       "3     11.849398   Pave      IR1         Lvl    AllPub    Corner       Gtl   \n",
       "4     12.429216   Pave      IR1         Lvl    AllPub       FR2       Gtl   \n",
       "...         ...    ...      ...         ...       ...       ...       ...   \n",
       "1455  12.072541   Pave      Reg         Lvl    AllPub    Inside       Gtl   \n",
       "1456  12.254863   Pave      Reg         Lvl    AllPub    Inside       Gtl   \n",
       "1457  12.493130   Pave      Reg         Lvl    AllPub    Inside       Gtl   \n",
       "1458  11.864462   Pave      Reg         Lvl    AllPub    Inside       Gtl   \n",
       "1459  11.901583   Pave      Reg         Lvl    AllPub    Inside       Gtl   \n",
       "\n",
       "     neighborhood condition1 condition2  ... extercond foundation heating  \\\n",
       "0         CollgCr       Norm       Norm  ...        TA      PConc    GasA   \n",
       "1         Veenker      Feedr       Norm  ...        TA     CBlock    GasA   \n",
       "2         CollgCr       Norm       Norm  ...        TA      PConc    GasA   \n",
       "3         Crawfor       Norm       Norm  ...        TA     BrkTil    GasA   \n",
       "4         NoRidge       Norm       Norm  ...        TA      PConc    GasA   \n",
       "...           ...        ...        ...  ...       ...        ...     ...   \n",
       "1455      Gilbert       Norm       Norm  ...        TA      PConc    GasA   \n",
       "1456       NWAmes       Norm       Norm  ...        TA     CBlock    GasA   \n",
       "1457      Crawfor       Norm       Norm  ...        Gd      Stone    GasA   \n",
       "1458        NAmes       Norm       Norm  ...        TA     CBlock    GasA   \n",
       "1459      Edwards       Norm       Norm  ...        TA     CBlock    GasA   \n",
       "\n",
       "     heatingqc electrical kitchenqual functional garagetype saletype  \\\n",
       "0           Ex      SBrkr          Gd        Typ     Attchd       WD   \n",
       "1           Ex      SBrkr          TA        Typ     Attchd       WD   \n",
       "2           Ex      SBrkr          Gd        Typ     Attchd       WD   \n",
       "3           Gd      SBrkr          Gd        Typ     Detchd       WD   \n",
       "4           Ex      SBrkr          Gd        Typ     Attchd       WD   \n",
       "...        ...        ...         ...        ...        ...      ...   \n",
       "1455        Ex      SBrkr          TA        Typ     Attchd       WD   \n",
       "1456        TA      SBrkr          TA       Min1     Attchd       WD   \n",
       "1457        Ex      SBrkr          Gd        Typ     Attchd       WD   \n",
       "1458        Gd      FuseA          Gd        Typ     Attchd       WD   \n",
       "1459        Gd      SBrkr          TA        Typ     Attchd       WD   \n",
       "\n",
       "     salecondition  \n",
       "0           Normal  \n",
       "1           Normal  \n",
       "2           Normal  \n",
       "3          Abnorml  \n",
       "4           Normal  \n",
       "...            ...  \n",
       "1455        Normal  \n",
       "1456        Normal  \n",
       "1457        Normal  \n",
       "1458        Normal  \n",
       "1459        Normal  \n",
       "\n",
       "[1459 rows x 27 columns]"
      ]
     },
     "execution_count": 39,
     "metadata": {},
     "output_type": "execute_result"
    },
    {
     "data": {
      "application/javascript": [
       "\n",
       "            setTimeout(function() {\n",
       "                var nbb_cell_id = 39;\n",
       "                var nbb_unformatted_code = \"df[\\n    [\\n        \\\"saleprice\\\",\\n        \\\"street\\\",\\n        \\\"lotshape\\\",\\n        \\\"landcontour\\\",\\n        \\\"utilities\\\",\\n        \\\"lotconfig\\\",\\n        \\\"landslope\\\",\\n        \\\"neighborhood\\\",\\n        \\\"condition1\\\",\\n        \\\"condition2\\\",\\n        \\\"bldgtype\\\",\\n        \\\"housestyle\\\",\\n        \\\"roofstyle\\\",\\n        \\\"roofmatl\\\",\\n        \\\"exterior1st\\\",\\n        \\\"exterior2nd\\\",\\n        \\\"exterqual\\\",\\n        \\\"extercond\\\",\\n        \\\"foundation\\\",\\n        \\\"heating\\\",\\n        \\\"heatingqc\\\",\\n        \\\"electrical\\\",\\n        \\\"kitchenqual\\\",\\n        \\\"functional\\\",\\n        \\\"garagetype\\\",\\n        \\\"saletype\\\",\\n        \\\"salecondition\\\",\\n    ]\\n]\";\n",
       "                var nbb_formatted_code = \"df[\\n    [\\n        \\\"saleprice\\\",\\n        \\\"street\\\",\\n        \\\"lotshape\\\",\\n        \\\"landcontour\\\",\\n        \\\"utilities\\\",\\n        \\\"lotconfig\\\",\\n        \\\"landslope\\\",\\n        \\\"neighborhood\\\",\\n        \\\"condition1\\\",\\n        \\\"condition2\\\",\\n        \\\"bldgtype\\\",\\n        \\\"housestyle\\\",\\n        \\\"roofstyle\\\",\\n        \\\"roofmatl\\\",\\n        \\\"exterior1st\\\",\\n        \\\"exterior2nd\\\",\\n        \\\"exterqual\\\",\\n        \\\"extercond\\\",\\n        \\\"foundation\\\",\\n        \\\"heating\\\",\\n        \\\"heatingqc\\\",\\n        \\\"electrical\\\",\\n        \\\"kitchenqual\\\",\\n        \\\"functional\\\",\\n        \\\"garagetype\\\",\\n        \\\"saletype\\\",\\n        \\\"salecondition\\\",\\n    ]\\n]\";\n",
       "                var nbb_cells = Jupyter.notebook.get_cells();\n",
       "                for (var i = 0; i < nbb_cells.length; ++i) {\n",
       "                    if (nbb_cells[i].input_prompt_number == nbb_cell_id) {\n",
       "                        if (nbb_cells[i].get_text() == nbb_unformatted_code) {\n",
       "                             nbb_cells[i].set_text(nbb_formatted_code);\n",
       "                        }\n",
       "                        break;\n",
       "                    }\n",
       "                }\n",
       "            }, 500);\n",
       "            "
      ],
      "text/plain": [
       "<IPython.core.display.Javascript object>"
      ]
     },
     "metadata": {},
     "output_type": "display_data"
    },
    {
     "data": {
      "application/javascript": [
       "\n",
       "            setTimeout(function() {\n",
       "                var nbb_cell_id = 39;\n",
       "                var nbb_unformatted_code = \"df[\\n    [\\n        \\\"saleprice\\\",\\n        \\\"street\\\",\\n        \\\"lotshape\\\",\\n        \\\"landcontour\\\",\\n        \\\"utilities\\\",\\n        \\\"lotconfig\\\",\\n        \\\"landslope\\\",\\n        \\\"neighborhood\\\",\\n        \\\"condition1\\\",\\n        \\\"condition2\\\",\\n        \\\"bldgtype\\\",\\n        \\\"housestyle\\\",\\n        \\\"roofstyle\\\",\\n        \\\"roofmatl\\\",\\n        \\\"exterior1st\\\",\\n        \\\"exterior2nd\\\",\\n        \\\"exterqual\\\",\\n        \\\"extercond\\\",\\n        \\\"foundation\\\",\\n        \\\"heating\\\",\\n        \\\"heatingqc\\\",\\n        \\\"electrical\\\",\\n        \\\"kitchenqual\\\",\\n        \\\"functional\\\",\\n        \\\"garagetype\\\",\\n        \\\"saletype\\\",\\n        \\\"salecondition\\\",\\n    ]\\n]\";\n",
       "                var nbb_formatted_code = \"df[\\n    [\\n        \\\"saleprice\\\",\\n        \\\"street\\\",\\n        \\\"lotshape\\\",\\n        \\\"landcontour\\\",\\n        \\\"utilities\\\",\\n        \\\"lotconfig\\\",\\n        \\\"landslope\\\",\\n        \\\"neighborhood\\\",\\n        \\\"condition1\\\",\\n        \\\"condition2\\\",\\n        \\\"bldgtype\\\",\\n        \\\"housestyle\\\",\\n        \\\"roofstyle\\\",\\n        \\\"roofmatl\\\",\\n        \\\"exterior1st\\\",\\n        \\\"exterior2nd\\\",\\n        \\\"exterqual\\\",\\n        \\\"extercond\\\",\\n        \\\"foundation\\\",\\n        \\\"heating\\\",\\n        \\\"heatingqc\\\",\\n        \\\"electrical\\\",\\n        \\\"kitchenqual\\\",\\n        \\\"functional\\\",\\n        \\\"garagetype\\\",\\n        \\\"saletype\\\",\\n        \\\"salecondition\\\",\\n    ]\\n]\";\n",
       "                var nbb_cells = Jupyter.notebook.get_cells();\n",
       "                for (var i = 0; i < nbb_cells.length; ++i) {\n",
       "                    if (nbb_cells[i].input_prompt_number == nbb_cell_id) {\n",
       "                        if (nbb_cells[i].get_text() == nbb_unformatted_code) {\n",
       "                             nbb_cells[i].set_text(nbb_formatted_code);\n",
       "                        }\n",
       "                        break;\n",
       "                    }\n",
       "                }\n",
       "            }, 500);\n",
       "            "
      ],
      "text/plain": [
       "<IPython.core.display.Javascript object>"
      ]
     },
     "metadata": {},
     "output_type": "display_data"
    },
    {
     "data": {
      "application/javascript": [
       "\n",
       "            setTimeout(function() {\n",
       "                var nbb_cell_id = 39;\n",
       "                var nbb_unformatted_code = \"df[\\n    [\\n        \\\"saleprice\\\",\\n        \\\"street\\\",\\n        \\\"lotshape\\\",\\n        \\\"landcontour\\\",\\n        \\\"utilities\\\",\\n        \\\"lotconfig\\\",\\n        \\\"landslope\\\",\\n        \\\"neighborhood\\\",\\n        \\\"condition1\\\",\\n        \\\"condition2\\\",\\n        \\\"bldgtype\\\",\\n        \\\"housestyle\\\",\\n        \\\"roofstyle\\\",\\n        \\\"roofmatl\\\",\\n        \\\"exterior1st\\\",\\n        \\\"exterior2nd\\\",\\n        \\\"exterqual\\\",\\n        \\\"extercond\\\",\\n        \\\"foundation\\\",\\n        \\\"heating\\\",\\n        \\\"heatingqc\\\",\\n        \\\"electrical\\\",\\n        \\\"kitchenqual\\\",\\n        \\\"functional\\\",\\n        \\\"garagetype\\\",\\n        \\\"saletype\\\",\\n        \\\"salecondition\\\",\\n    ]\\n]\";\n",
       "                var nbb_formatted_code = \"df[\\n    [\\n        \\\"saleprice\\\",\\n        \\\"street\\\",\\n        \\\"lotshape\\\",\\n        \\\"landcontour\\\",\\n        \\\"utilities\\\",\\n        \\\"lotconfig\\\",\\n        \\\"landslope\\\",\\n        \\\"neighborhood\\\",\\n        \\\"condition1\\\",\\n        \\\"condition2\\\",\\n        \\\"bldgtype\\\",\\n        \\\"housestyle\\\",\\n        \\\"roofstyle\\\",\\n        \\\"roofmatl\\\",\\n        \\\"exterior1st\\\",\\n        \\\"exterior2nd\\\",\\n        \\\"exterqual\\\",\\n        \\\"extercond\\\",\\n        \\\"foundation\\\",\\n        \\\"heating\\\",\\n        \\\"heatingqc\\\",\\n        \\\"electrical\\\",\\n        \\\"kitchenqual\\\",\\n        \\\"functional\\\",\\n        \\\"garagetype\\\",\\n        \\\"saletype\\\",\\n        \\\"salecondition\\\",\\n    ]\\n]\";\n",
       "                var nbb_cells = Jupyter.notebook.get_cells();\n",
       "                for (var i = 0; i < nbb_cells.length; ++i) {\n",
       "                    if (nbb_cells[i].input_prompt_number == nbb_cell_id) {\n",
       "                        if (nbb_cells[i].get_text() == nbb_unformatted_code) {\n",
       "                             nbb_cells[i].set_text(nbb_formatted_code);\n",
       "                        }\n",
       "                        break;\n",
       "                    }\n",
       "                }\n",
       "            }, 500);\n",
       "            "
      ],
      "text/plain": [
       "<IPython.core.display.Javascript object>"
      ]
     },
     "metadata": {},
     "output_type": "display_data"
    },
    {
     "data": {
      "application/javascript": [
       "\n",
       "            setTimeout(function() {\n",
       "                var nbb_cell_id = 39;\n",
       "                var nbb_unformatted_code = \"df[\\n    [\\n        \\\"saleprice\\\",\\n        \\\"street\\\",\\n        \\\"lotshape\\\",\\n        \\\"landcontour\\\",\\n        \\\"utilities\\\",\\n        \\\"lotconfig\\\",\\n        \\\"landslope\\\",\\n        \\\"neighborhood\\\",\\n        \\\"condition1\\\",\\n        \\\"condition2\\\",\\n        \\\"bldgtype\\\",\\n        \\\"housestyle\\\",\\n        \\\"roofstyle\\\",\\n        \\\"roofmatl\\\",\\n        \\\"exterior1st\\\",\\n        \\\"exterior2nd\\\",\\n        \\\"exterqual\\\",\\n        \\\"extercond\\\",\\n        \\\"foundation\\\",\\n        \\\"heating\\\",\\n        \\\"heatingqc\\\",\\n        \\\"electrical\\\",\\n        \\\"kitchenqual\\\",\\n        \\\"functional\\\",\\n        \\\"garagetype\\\",\\n        \\\"saletype\\\",\\n        \\\"salecondition\\\",\\n    ]\\n]\";\n",
       "                var nbb_formatted_code = \"df[\\n    [\\n        \\\"saleprice\\\",\\n        \\\"street\\\",\\n        \\\"lotshape\\\",\\n        \\\"landcontour\\\",\\n        \\\"utilities\\\",\\n        \\\"lotconfig\\\",\\n        \\\"landslope\\\",\\n        \\\"neighborhood\\\",\\n        \\\"condition1\\\",\\n        \\\"condition2\\\",\\n        \\\"bldgtype\\\",\\n        \\\"housestyle\\\",\\n        \\\"roofstyle\\\",\\n        \\\"roofmatl\\\",\\n        \\\"exterior1st\\\",\\n        \\\"exterior2nd\\\",\\n        \\\"exterqual\\\",\\n        \\\"extercond\\\",\\n        \\\"foundation\\\",\\n        \\\"heating\\\",\\n        \\\"heatingqc\\\",\\n        \\\"electrical\\\",\\n        \\\"kitchenqual\\\",\\n        \\\"functional\\\",\\n        \\\"garagetype\\\",\\n        \\\"saletype\\\",\\n        \\\"salecondition\\\",\\n    ]\\n]\";\n",
       "                var nbb_cells = Jupyter.notebook.get_cells();\n",
       "                for (var i = 0; i < nbb_cells.length; ++i) {\n",
       "                    if (nbb_cells[i].input_prompt_number == nbb_cell_id) {\n",
       "                        if (nbb_cells[i].get_text() == nbb_unformatted_code) {\n",
       "                             nbb_cells[i].set_text(nbb_formatted_code);\n",
       "                        }\n",
       "                        break;\n",
       "                    }\n",
       "                }\n",
       "            }, 500);\n",
       "            "
      ],
      "text/plain": [
       "<IPython.core.display.Javascript object>"
      ]
     },
     "metadata": {},
     "output_type": "display_data"
    }
   ],
   "source": [
    "df[\n",
    "    [\n",
    "        \"saleprice\",\n",
    "        \"street\",\n",
    "        \"lotshape\",\n",
    "        \"landcontour\",\n",
    "        \"utilities\",\n",
    "        \"lotconfig\",\n",
    "        \"landslope\",\n",
    "        \"neighborhood\",\n",
    "        \"condition1\",\n",
    "        \"condition2\",\n",
    "        \"bldgtype\",\n",
    "        \"housestyle\",\n",
    "        \"roofstyle\",\n",
    "        \"roofmatl\",\n",
    "        \"exterior1st\",\n",
    "        \"exterior2nd\",\n",
    "        \"exterqual\",\n",
    "        \"extercond\",\n",
    "        \"foundation\",\n",
    "        \"heating\",\n",
    "        \"heatingqc\",\n",
    "        \"electrical\",\n",
    "        \"kitchenqual\",\n",
    "        \"functional\",\n",
    "        \"garagetype\",\n",
    "        \"saletype\",\n",
    "        \"salecondition\",\n",
    "    ]\n",
    "]"
   ]
  },
  {
   "cell_type": "markdown",
   "metadata": {},
   "source": [
    "## Feature Vars"
   ]
  },
  {
   "cell_type": "code",
   "execution_count": 40,
   "metadata": {},
   "outputs": [
    {
     "data": {
      "application/javascript": [
       "\n",
       "            setTimeout(function() {\n",
       "                var nbb_cell_id = 40;\n",
       "                var nbb_unformatted_code = \"df2 = df[\\n    [\\n        \\\"lotarea\\\",\\n        \\\"neighborhood\\\",\\n        \\\"yearbuilt\\\",\\n        \\\"centralair\\\",\\n        \\\"baths_full\\\",\\n        \\\"baths_half\\\",\\n        \\\"bedroomabvgr\\\",\\n        \\\"adj_sf\\\",\\n        \\\"overallqual\\\",\\n        \\\"grlivarea\\\",\\n        \\\"totrmsabvgrd\\\",\\n        \\\"fireplaces\\\",\\n        \\\"saleprice\\\",\\n    ]\\n]\\n\\n# y_df = df.saleprice\";\n",
       "                var nbb_formatted_code = \"df2 = df[\\n    [\\n        \\\"lotarea\\\",\\n        \\\"neighborhood\\\",\\n        \\\"yearbuilt\\\",\\n        \\\"centralair\\\",\\n        \\\"baths_full\\\",\\n        \\\"baths_half\\\",\\n        \\\"bedroomabvgr\\\",\\n        \\\"adj_sf\\\",\\n        \\\"overallqual\\\",\\n        \\\"grlivarea\\\",\\n        \\\"totrmsabvgrd\\\",\\n        \\\"fireplaces\\\",\\n        \\\"saleprice\\\",\\n    ]\\n]\\n\\n# y_df = df.saleprice\";\n",
       "                var nbb_cells = Jupyter.notebook.get_cells();\n",
       "                for (var i = 0; i < nbb_cells.length; ++i) {\n",
       "                    if (nbb_cells[i].input_prompt_number == nbb_cell_id) {\n",
       "                        if (nbb_cells[i].get_text() == nbb_unformatted_code) {\n",
       "                             nbb_cells[i].set_text(nbb_formatted_code);\n",
       "                        }\n",
       "                        break;\n",
       "                    }\n",
       "                }\n",
       "            }, 500);\n",
       "            "
      ],
      "text/plain": [
       "<IPython.core.display.Javascript object>"
      ]
     },
     "metadata": {},
     "output_type": "display_data"
    },
    {
     "data": {
      "application/javascript": [
       "\n",
       "            setTimeout(function() {\n",
       "                var nbb_cell_id = 40;\n",
       "                var nbb_unformatted_code = \"df2 = df[\\n    [\\n        \\\"lotarea\\\",\\n        \\\"neighborhood\\\",\\n        \\\"yearbuilt\\\",\\n        \\\"centralair\\\",\\n        \\\"baths_full\\\",\\n        \\\"baths_half\\\",\\n        \\\"bedroomabvgr\\\",\\n        \\\"adj_sf\\\",\\n        \\\"overallqual\\\",\\n        \\\"grlivarea\\\",\\n        \\\"totrmsabvgrd\\\",\\n        \\\"fireplaces\\\",\\n        \\\"saleprice\\\",\\n    ]\\n]\\n\\n# y_df = df.saleprice\";\n",
       "                var nbb_formatted_code = \"df2 = df[\\n    [\\n        \\\"lotarea\\\",\\n        \\\"neighborhood\\\",\\n        \\\"yearbuilt\\\",\\n        \\\"centralair\\\",\\n        \\\"baths_full\\\",\\n        \\\"baths_half\\\",\\n        \\\"bedroomabvgr\\\",\\n        \\\"adj_sf\\\",\\n        \\\"overallqual\\\",\\n        \\\"grlivarea\\\",\\n        \\\"totrmsabvgrd\\\",\\n        \\\"fireplaces\\\",\\n        \\\"saleprice\\\",\\n    ]\\n]\\n\\n# y_df = df.saleprice\";\n",
       "                var nbb_cells = Jupyter.notebook.get_cells();\n",
       "                for (var i = 0; i < nbb_cells.length; ++i) {\n",
       "                    if (nbb_cells[i].input_prompt_number == nbb_cell_id) {\n",
       "                        if (nbb_cells[i].get_text() == nbb_unformatted_code) {\n",
       "                             nbb_cells[i].set_text(nbb_formatted_code);\n",
       "                        }\n",
       "                        break;\n",
       "                    }\n",
       "                }\n",
       "            }, 500);\n",
       "            "
      ],
      "text/plain": [
       "<IPython.core.display.Javascript object>"
      ]
     },
     "metadata": {},
     "output_type": "display_data"
    },
    {
     "data": {
      "application/javascript": [
       "\n",
       "            setTimeout(function() {\n",
       "                var nbb_cell_id = 40;\n",
       "                var nbb_unformatted_code = \"df2 = df[\\n    [\\n        \\\"lotarea\\\",\\n        \\\"neighborhood\\\",\\n        \\\"yearbuilt\\\",\\n        \\\"centralair\\\",\\n        \\\"baths_full\\\",\\n        \\\"baths_half\\\",\\n        \\\"bedroomabvgr\\\",\\n        \\\"adj_sf\\\",\\n        \\\"overallqual\\\",\\n        \\\"grlivarea\\\",\\n        \\\"totrmsabvgrd\\\",\\n        \\\"fireplaces\\\",\\n        \\\"saleprice\\\",\\n    ]\\n]\\n\\n# y_df = df.saleprice\";\n",
       "                var nbb_formatted_code = \"df2 = df[\\n    [\\n        \\\"lotarea\\\",\\n        \\\"neighborhood\\\",\\n        \\\"yearbuilt\\\",\\n        \\\"centralair\\\",\\n        \\\"baths_full\\\",\\n        \\\"baths_half\\\",\\n        \\\"bedroomabvgr\\\",\\n        \\\"adj_sf\\\",\\n        \\\"overallqual\\\",\\n        \\\"grlivarea\\\",\\n        \\\"totrmsabvgrd\\\",\\n        \\\"fireplaces\\\",\\n        \\\"saleprice\\\",\\n    ]\\n]\\n\\n# y_df = df.saleprice\";\n",
       "                var nbb_cells = Jupyter.notebook.get_cells();\n",
       "                for (var i = 0; i < nbb_cells.length; ++i) {\n",
       "                    if (nbb_cells[i].input_prompt_number == nbb_cell_id) {\n",
       "                        if (nbb_cells[i].get_text() == nbb_unformatted_code) {\n",
       "                             nbb_cells[i].set_text(nbb_formatted_code);\n",
       "                        }\n",
       "                        break;\n",
       "                    }\n",
       "                }\n",
       "            }, 500);\n",
       "            "
      ],
      "text/plain": [
       "<IPython.core.display.Javascript object>"
      ]
     },
     "metadata": {},
     "output_type": "display_data"
    },
    {
     "data": {
      "application/javascript": [
       "\n",
       "            setTimeout(function() {\n",
       "                var nbb_cell_id = 40;\n",
       "                var nbb_unformatted_code = \"df2 = df[\\n    [\\n        \\\"lotarea\\\",\\n        \\\"neighborhood\\\",\\n        \\\"yearbuilt\\\",\\n        \\\"centralair\\\",\\n        \\\"baths_full\\\",\\n        \\\"baths_half\\\",\\n        \\\"bedroomabvgr\\\",\\n        \\\"adj_sf\\\",\\n        \\\"overallqual\\\",\\n        \\\"grlivarea\\\",\\n        \\\"totrmsabvgrd\\\",\\n        \\\"fireplaces\\\",\\n        \\\"saleprice\\\",\\n    ]\\n]\\n\\n# y_df = df.saleprice\";\n",
       "                var nbb_formatted_code = \"df2 = df[\\n    [\\n        \\\"lotarea\\\",\\n        \\\"neighborhood\\\",\\n        \\\"yearbuilt\\\",\\n        \\\"centralair\\\",\\n        \\\"baths_full\\\",\\n        \\\"baths_half\\\",\\n        \\\"bedroomabvgr\\\",\\n        \\\"adj_sf\\\",\\n        \\\"overallqual\\\",\\n        \\\"grlivarea\\\",\\n        \\\"totrmsabvgrd\\\",\\n        \\\"fireplaces\\\",\\n        \\\"saleprice\\\",\\n    ]\\n]\\n\\n# y_df = df.saleprice\";\n",
       "                var nbb_cells = Jupyter.notebook.get_cells();\n",
       "                for (var i = 0; i < nbb_cells.length; ++i) {\n",
       "                    if (nbb_cells[i].input_prompt_number == nbb_cell_id) {\n",
       "                        if (nbb_cells[i].get_text() == nbb_unformatted_code) {\n",
       "                             nbb_cells[i].set_text(nbb_formatted_code);\n",
       "                        }\n",
       "                        break;\n",
       "                    }\n",
       "                }\n",
       "            }, 500);\n",
       "            "
      ],
      "text/plain": [
       "<IPython.core.display.Javascript object>"
      ]
     },
     "metadata": {},
     "output_type": "display_data"
    }
   ],
   "source": [
    "df2 = df[\n",
    "    [\n",
    "        \"lotarea\",\n",
    "        \"neighborhood\",\n",
    "        \"yearbuilt\",\n",
    "        \"centralair\",\n",
    "        \"baths_full\",\n",
    "        \"baths_half\",\n",
    "        \"bedroomabvgr\",\n",
    "        \"adj_sf\",\n",
    "        \"overallqual\",\n",
    "        \"grlivarea\",\n",
    "        \"totrmsabvgrd\",\n",
    "        \"fireplaces\",\n",
    "        \"saleprice\",\n",
    "    ]\n",
    "]\n",
    "\n",
    "# y_df = df.saleprice"
   ]
  },
  {
   "cell_type": "code",
   "execution_count": 41,
   "metadata": {},
   "outputs": [
    {
     "data": {
      "text/html": [
       "<div>\n",
       "<style scoped>\n",
       "    .dataframe tbody tr th:only-of-type {\n",
       "        vertical-align: middle;\n",
       "    }\n",
       "\n",
       "    .dataframe tbody tr th {\n",
       "        vertical-align: top;\n",
       "    }\n",
       "\n",
       "    .dataframe thead th {\n",
       "        text-align: right;\n",
       "    }\n",
       "</style>\n",
       "<table border=\"1\" class=\"dataframe\">\n",
       "  <thead>\n",
       "    <tr style=\"text-align: right;\">\n",
       "      <th></th>\n",
       "      <th>lotarea</th>\n",
       "      <th>neighborhood</th>\n",
       "      <th>yearbuilt</th>\n",
       "      <th>centralair</th>\n",
       "      <th>baths_full</th>\n",
       "      <th>baths_half</th>\n",
       "      <th>bedroomabvgr</th>\n",
       "      <th>adj_sf</th>\n",
       "      <th>overallqual</th>\n",
       "      <th>grlivarea</th>\n",
       "      <th>totrmsabvgrd</th>\n",
       "      <th>fireplaces</th>\n",
       "      <th>saleprice</th>\n",
       "    </tr>\n",
       "  </thead>\n",
       "  <tbody>\n",
       "    <tr>\n",
       "      <th>0</th>\n",
       "      <td>8450</td>\n",
       "      <td>CollgCr</td>\n",
       "      <td>2003</td>\n",
       "      <td>1</td>\n",
       "      <td>3</td>\n",
       "      <td>1</td>\n",
       "      <td>3</td>\n",
       "      <td>1860</td>\n",
       "      <td>7</td>\n",
       "      <td>1710</td>\n",
       "      <td>8</td>\n",
       "      <td>0</td>\n",
       "      <td>12.247694</td>\n",
       "    </tr>\n",
       "    <tr>\n",
       "      <th>1</th>\n",
       "      <td>9600</td>\n",
       "      <td>Veenker</td>\n",
       "      <td>1976</td>\n",
       "      <td>1</td>\n",
       "      <td>2</td>\n",
       "      <td>1</td>\n",
       "      <td>3</td>\n",
       "      <td>1546</td>\n",
       "      <td>6</td>\n",
       "      <td>1262</td>\n",
       "      <td>6</td>\n",
       "      <td>1</td>\n",
       "      <td>12.109011</td>\n",
       "    </tr>\n",
       "    <tr>\n",
       "      <th>2</th>\n",
       "      <td>11250</td>\n",
       "      <td>CollgCr</td>\n",
       "      <td>2001</td>\n",
       "      <td>1</td>\n",
       "      <td>3</td>\n",
       "      <td>1</td>\n",
       "      <td>3</td>\n",
       "      <td>2220</td>\n",
       "      <td>7</td>\n",
       "      <td>1786</td>\n",
       "      <td>6</td>\n",
       "      <td>1</td>\n",
       "      <td>12.317167</td>\n",
       "    </tr>\n",
       "    <tr>\n",
       "      <th>3</th>\n",
       "      <td>9550</td>\n",
       "      <td>Crawfor</td>\n",
       "      <td>1915</td>\n",
       "      <td>1</td>\n",
       "      <td>2</td>\n",
       "      <td>0</td>\n",
       "      <td>3</td>\n",
       "      <td>2257</td>\n",
       "      <td>7</td>\n",
       "      <td>1717</td>\n",
       "      <td>7</td>\n",
       "      <td>1</td>\n",
       "      <td>11.849398</td>\n",
       "    </tr>\n",
       "    <tr>\n",
       "      <th>4</th>\n",
       "      <td>14260</td>\n",
       "      <td>NoRidge</td>\n",
       "      <td>2000</td>\n",
       "      <td>1</td>\n",
       "      <td>3</td>\n",
       "      <td>1</td>\n",
       "      <td>4</td>\n",
       "      <td>2688</td>\n",
       "      <td>8</td>\n",
       "      <td>2198</td>\n",
       "      <td>9</td>\n",
       "      <td>1</td>\n",
       "      <td>12.429216</td>\n",
       "    </tr>\n",
       "  </tbody>\n",
       "</table>\n",
       "</div>"
      ],
      "text/plain": [
       "   lotarea neighborhood  yearbuilt  centralair  baths_full  baths_half  \\\n",
       "0     8450      CollgCr       2003           1           3           1   \n",
       "1     9600      Veenker       1976           1           2           1   \n",
       "2    11250      CollgCr       2001           1           3           1   \n",
       "3     9550      Crawfor       1915           1           2           0   \n",
       "4    14260      NoRidge       2000           1           3           1   \n",
       "\n",
       "   bedroomabvgr  adj_sf  overallqual  grlivarea  totrmsabvgrd  fireplaces  \\\n",
       "0             3    1860            7       1710             8           0   \n",
       "1             3    1546            6       1262             6           1   \n",
       "2             3    2220            7       1786             6           1   \n",
       "3             3    2257            7       1717             7           1   \n",
       "4             4    2688            8       2198             9           1   \n",
       "\n",
       "   saleprice  \n",
       "0  12.247694  \n",
       "1  12.109011  \n",
       "2  12.317167  \n",
       "3  11.849398  \n",
       "4  12.429216  "
      ]
     },
     "execution_count": 41,
     "metadata": {},
     "output_type": "execute_result"
    },
    {
     "data": {
      "application/javascript": [
       "\n",
       "            setTimeout(function() {\n",
       "                var nbb_cell_id = 41;\n",
       "                var nbb_unformatted_code = \"df2.head()\";\n",
       "                var nbb_formatted_code = \"df2.head()\";\n",
       "                var nbb_cells = Jupyter.notebook.get_cells();\n",
       "                for (var i = 0; i < nbb_cells.length; ++i) {\n",
       "                    if (nbb_cells[i].input_prompt_number == nbb_cell_id) {\n",
       "                        if (nbb_cells[i].get_text() == nbb_unformatted_code) {\n",
       "                             nbb_cells[i].set_text(nbb_formatted_code);\n",
       "                        }\n",
       "                        break;\n",
       "                    }\n",
       "                }\n",
       "            }, 500);\n",
       "            "
      ],
      "text/plain": [
       "<IPython.core.display.Javascript object>"
      ]
     },
     "metadata": {},
     "output_type": "display_data"
    },
    {
     "data": {
      "application/javascript": [
       "\n",
       "            setTimeout(function() {\n",
       "                var nbb_cell_id = 41;\n",
       "                var nbb_unformatted_code = \"df2.head()\";\n",
       "                var nbb_formatted_code = \"df2.head()\";\n",
       "                var nbb_cells = Jupyter.notebook.get_cells();\n",
       "                for (var i = 0; i < nbb_cells.length; ++i) {\n",
       "                    if (nbb_cells[i].input_prompt_number == nbb_cell_id) {\n",
       "                        if (nbb_cells[i].get_text() == nbb_unformatted_code) {\n",
       "                             nbb_cells[i].set_text(nbb_formatted_code);\n",
       "                        }\n",
       "                        break;\n",
       "                    }\n",
       "                }\n",
       "            }, 500);\n",
       "            "
      ],
      "text/plain": [
       "<IPython.core.display.Javascript object>"
      ]
     },
     "metadata": {},
     "output_type": "display_data"
    },
    {
     "data": {
      "application/javascript": [
       "\n",
       "            setTimeout(function() {\n",
       "                var nbb_cell_id = 41;\n",
       "                var nbb_unformatted_code = \"df2.head()\";\n",
       "                var nbb_formatted_code = \"df2.head()\";\n",
       "                var nbb_cells = Jupyter.notebook.get_cells();\n",
       "                for (var i = 0; i < nbb_cells.length; ++i) {\n",
       "                    if (nbb_cells[i].input_prompt_number == nbb_cell_id) {\n",
       "                        if (nbb_cells[i].get_text() == nbb_unformatted_code) {\n",
       "                             nbb_cells[i].set_text(nbb_formatted_code);\n",
       "                        }\n",
       "                        break;\n",
       "                    }\n",
       "                }\n",
       "            }, 500);\n",
       "            "
      ],
      "text/plain": [
       "<IPython.core.display.Javascript object>"
      ]
     },
     "metadata": {},
     "output_type": "display_data"
    },
    {
     "data": {
      "application/javascript": [
       "\n",
       "            setTimeout(function() {\n",
       "                var nbb_cell_id = 41;\n",
       "                var nbb_unformatted_code = \"df2.head()\";\n",
       "                var nbb_formatted_code = \"df2.head()\";\n",
       "                var nbb_cells = Jupyter.notebook.get_cells();\n",
       "                for (var i = 0; i < nbb_cells.length; ++i) {\n",
       "                    if (nbb_cells[i].input_prompt_number == nbb_cell_id) {\n",
       "                        if (nbb_cells[i].get_text() == nbb_unformatted_code) {\n",
       "                             nbb_cells[i].set_text(nbb_formatted_code);\n",
       "                        }\n",
       "                        break;\n",
       "                    }\n",
       "                }\n",
       "            }, 500);\n",
       "            "
      ],
      "text/plain": [
       "<IPython.core.display.Javascript object>"
      ]
     },
     "metadata": {},
     "output_type": "display_data"
    }
   ],
   "source": [
    "df2.head()"
   ]
  },
  {
   "cell_type": "code",
   "execution_count": 42,
   "metadata": {},
   "outputs": [
    {
     "data": {
      "application/javascript": [
       "\n",
       "            setTimeout(function() {\n",
       "                var nbb_cell_id = 42;\n",
       "                var nbb_unformatted_code = \"neighborhood_df = pd.get_dummies(df.neighborhood)\";\n",
       "                var nbb_formatted_code = \"neighborhood_df = pd.get_dummies(df.neighborhood)\";\n",
       "                var nbb_cells = Jupyter.notebook.get_cells();\n",
       "                for (var i = 0; i < nbb_cells.length; ++i) {\n",
       "                    if (nbb_cells[i].input_prompt_number == nbb_cell_id) {\n",
       "                        if (nbb_cells[i].get_text() == nbb_unformatted_code) {\n",
       "                             nbb_cells[i].set_text(nbb_formatted_code);\n",
       "                        }\n",
       "                        break;\n",
       "                    }\n",
       "                }\n",
       "            }, 500);\n",
       "            "
      ],
      "text/plain": [
       "<IPython.core.display.Javascript object>"
      ]
     },
     "metadata": {},
     "output_type": "display_data"
    },
    {
     "data": {
      "application/javascript": [
       "\n",
       "            setTimeout(function() {\n",
       "                var nbb_cell_id = 42;\n",
       "                var nbb_unformatted_code = \"neighborhood_df = pd.get_dummies(df.neighborhood)\";\n",
       "                var nbb_formatted_code = \"neighborhood_df = pd.get_dummies(df.neighborhood)\";\n",
       "                var nbb_cells = Jupyter.notebook.get_cells();\n",
       "                for (var i = 0; i < nbb_cells.length; ++i) {\n",
       "                    if (nbb_cells[i].input_prompt_number == nbb_cell_id) {\n",
       "                        if (nbb_cells[i].get_text() == nbb_unformatted_code) {\n",
       "                             nbb_cells[i].set_text(nbb_formatted_code);\n",
       "                        }\n",
       "                        break;\n",
       "                    }\n",
       "                }\n",
       "            }, 500);\n",
       "            "
      ],
      "text/plain": [
       "<IPython.core.display.Javascript object>"
      ]
     },
     "metadata": {},
     "output_type": "display_data"
    },
    {
     "data": {
      "application/javascript": [
       "\n",
       "            setTimeout(function() {\n",
       "                var nbb_cell_id = 42;\n",
       "                var nbb_unformatted_code = \"neighborhood_df = pd.get_dummies(df.neighborhood)\";\n",
       "                var nbb_formatted_code = \"neighborhood_df = pd.get_dummies(df.neighborhood)\";\n",
       "                var nbb_cells = Jupyter.notebook.get_cells();\n",
       "                for (var i = 0; i < nbb_cells.length; ++i) {\n",
       "                    if (nbb_cells[i].input_prompt_number == nbb_cell_id) {\n",
       "                        if (nbb_cells[i].get_text() == nbb_unformatted_code) {\n",
       "                             nbb_cells[i].set_text(nbb_formatted_code);\n",
       "                        }\n",
       "                        break;\n",
       "                    }\n",
       "                }\n",
       "            }, 500);\n",
       "            "
      ],
      "text/plain": [
       "<IPython.core.display.Javascript object>"
      ]
     },
     "metadata": {},
     "output_type": "display_data"
    },
    {
     "data": {
      "application/javascript": [
       "\n",
       "            setTimeout(function() {\n",
       "                var nbb_cell_id = 42;\n",
       "                var nbb_unformatted_code = \"neighborhood_df = pd.get_dummies(df.neighborhood)\";\n",
       "                var nbb_formatted_code = \"neighborhood_df = pd.get_dummies(df.neighborhood)\";\n",
       "                var nbb_cells = Jupyter.notebook.get_cells();\n",
       "                for (var i = 0; i < nbb_cells.length; ++i) {\n",
       "                    if (nbb_cells[i].input_prompt_number == nbb_cell_id) {\n",
       "                        if (nbb_cells[i].get_text() == nbb_unformatted_code) {\n",
       "                             nbb_cells[i].set_text(nbb_formatted_code);\n",
       "                        }\n",
       "                        break;\n",
       "                    }\n",
       "                }\n",
       "            }, 500);\n",
       "            "
      ],
      "text/plain": [
       "<IPython.core.display.Javascript object>"
      ]
     },
     "metadata": {},
     "output_type": "display_data"
    }
   ],
   "source": [
    "neighborhood_df = pd.get_dummies(df.neighborhood)"
   ]
  },
  {
   "cell_type": "code",
   "execution_count": 43,
   "metadata": {
    "scrolled": true
   },
   "outputs": [
    {
     "data": {
      "text/html": [
       "<div>\n",
       "<style scoped>\n",
       "    .dataframe tbody tr th:only-of-type {\n",
       "        vertical-align: middle;\n",
       "    }\n",
       "\n",
       "    .dataframe tbody tr th {\n",
       "        vertical-align: top;\n",
       "    }\n",
       "\n",
       "    .dataframe thead th {\n",
       "        text-align: right;\n",
       "    }\n",
       "</style>\n",
       "<table border=\"1\" class=\"dataframe\">\n",
       "  <thead>\n",
       "    <tr style=\"text-align: right;\">\n",
       "      <th></th>\n",
       "      <th>lotarea</th>\n",
       "      <th>yearbuilt</th>\n",
       "      <th>centralair</th>\n",
       "      <th>baths_full</th>\n",
       "      <th>baths_half</th>\n",
       "      <th>bedroomabvgr</th>\n",
       "      <th>adj_sf</th>\n",
       "      <th>overallqual</th>\n",
       "      <th>grlivarea</th>\n",
       "      <th>totrmsabvgrd</th>\n",
       "      <th>...</th>\n",
       "      <th>NoRidge</th>\n",
       "      <th>NridgHt</th>\n",
       "      <th>OldTown</th>\n",
       "      <th>SWISU</th>\n",
       "      <th>Sawyer</th>\n",
       "      <th>SawyerW</th>\n",
       "      <th>Somerst</th>\n",
       "      <th>StoneBr</th>\n",
       "      <th>Timber</th>\n",
       "      <th>Veenker</th>\n",
       "    </tr>\n",
       "  </thead>\n",
       "  <tbody>\n",
       "    <tr>\n",
       "      <th>0</th>\n",
       "      <td>8450</td>\n",
       "      <td>2003</td>\n",
       "      <td>1</td>\n",
       "      <td>3</td>\n",
       "      <td>1</td>\n",
       "      <td>3</td>\n",
       "      <td>1860</td>\n",
       "      <td>7</td>\n",
       "      <td>1710</td>\n",
       "      <td>8</td>\n",
       "      <td>...</td>\n",
       "      <td>0</td>\n",
       "      <td>0</td>\n",
       "      <td>0</td>\n",
       "      <td>0</td>\n",
       "      <td>0</td>\n",
       "      <td>0</td>\n",
       "      <td>0</td>\n",
       "      <td>0</td>\n",
       "      <td>0</td>\n",
       "      <td>0</td>\n",
       "    </tr>\n",
       "    <tr>\n",
       "      <th>1</th>\n",
       "      <td>9600</td>\n",
       "      <td>1976</td>\n",
       "      <td>1</td>\n",
       "      <td>2</td>\n",
       "      <td>1</td>\n",
       "      <td>3</td>\n",
       "      <td>1546</td>\n",
       "      <td>6</td>\n",
       "      <td>1262</td>\n",
       "      <td>6</td>\n",
       "      <td>...</td>\n",
       "      <td>0</td>\n",
       "      <td>0</td>\n",
       "      <td>0</td>\n",
       "      <td>0</td>\n",
       "      <td>0</td>\n",
       "      <td>0</td>\n",
       "      <td>0</td>\n",
       "      <td>0</td>\n",
       "      <td>0</td>\n",
       "      <td>1</td>\n",
       "    </tr>\n",
       "    <tr>\n",
       "      <th>2</th>\n",
       "      <td>11250</td>\n",
       "      <td>2001</td>\n",
       "      <td>1</td>\n",
       "      <td>3</td>\n",
       "      <td>1</td>\n",
       "      <td>3</td>\n",
       "      <td>2220</td>\n",
       "      <td>7</td>\n",
       "      <td>1786</td>\n",
       "      <td>6</td>\n",
       "      <td>...</td>\n",
       "      <td>0</td>\n",
       "      <td>0</td>\n",
       "      <td>0</td>\n",
       "      <td>0</td>\n",
       "      <td>0</td>\n",
       "      <td>0</td>\n",
       "      <td>0</td>\n",
       "      <td>0</td>\n",
       "      <td>0</td>\n",
       "      <td>0</td>\n",
       "    </tr>\n",
       "    <tr>\n",
       "      <th>3</th>\n",
       "      <td>9550</td>\n",
       "      <td>1915</td>\n",
       "      <td>1</td>\n",
       "      <td>2</td>\n",
       "      <td>0</td>\n",
       "      <td>3</td>\n",
       "      <td>2257</td>\n",
       "      <td>7</td>\n",
       "      <td>1717</td>\n",
       "      <td>7</td>\n",
       "      <td>...</td>\n",
       "      <td>0</td>\n",
       "      <td>0</td>\n",
       "      <td>0</td>\n",
       "      <td>0</td>\n",
       "      <td>0</td>\n",
       "      <td>0</td>\n",
       "      <td>0</td>\n",
       "      <td>0</td>\n",
       "      <td>0</td>\n",
       "      <td>0</td>\n",
       "    </tr>\n",
       "    <tr>\n",
       "      <th>4</th>\n",
       "      <td>14260</td>\n",
       "      <td>2000</td>\n",
       "      <td>1</td>\n",
       "      <td>3</td>\n",
       "      <td>1</td>\n",
       "      <td>4</td>\n",
       "      <td>2688</td>\n",
       "      <td>8</td>\n",
       "      <td>2198</td>\n",
       "      <td>9</td>\n",
       "      <td>...</td>\n",
       "      <td>1</td>\n",
       "      <td>0</td>\n",
       "      <td>0</td>\n",
       "      <td>0</td>\n",
       "      <td>0</td>\n",
       "      <td>0</td>\n",
       "      <td>0</td>\n",
       "      <td>0</td>\n",
       "      <td>0</td>\n",
       "      <td>0</td>\n",
       "    </tr>\n",
       "  </tbody>\n",
       "</table>\n",
       "<p>5 rows × 37 columns</p>\n",
       "</div>"
      ],
      "text/plain": [
       "   lotarea  yearbuilt  centralair  baths_full  baths_half  bedroomabvgr  \\\n",
       "0     8450       2003           1           3           1             3   \n",
       "1     9600       1976           1           2           1             3   \n",
       "2    11250       2001           1           3           1             3   \n",
       "3     9550       1915           1           2           0             3   \n",
       "4    14260       2000           1           3           1             4   \n",
       "\n",
       "   adj_sf  overallqual  grlivarea  totrmsabvgrd  ...  NoRidge  NridgHt  \\\n",
       "0    1860            7       1710             8  ...        0        0   \n",
       "1    1546            6       1262             6  ...        0        0   \n",
       "2    2220            7       1786             6  ...        0        0   \n",
       "3    2257            7       1717             7  ...        0        0   \n",
       "4    2688            8       2198             9  ...        1        0   \n",
       "\n",
       "   OldTown  SWISU  Sawyer  SawyerW  Somerst  StoneBr  Timber  Veenker  \n",
       "0        0      0       0        0        0        0       0        0  \n",
       "1        0      0       0        0        0        0       0        1  \n",
       "2        0      0       0        0        0        0       0        0  \n",
       "3        0      0       0        0        0        0       0        0  \n",
       "4        0      0       0        0        0        0       0        0  \n",
       "\n",
       "[5 rows x 37 columns]"
      ]
     },
     "execution_count": 43,
     "metadata": {},
     "output_type": "execute_result"
    },
    {
     "data": {
      "application/javascript": [
       "\n",
       "            setTimeout(function() {\n",
       "                var nbb_cell_id = 43;\n",
       "                var nbb_unformatted_code = \"df2 = df2.drop([\\\"neighborhood\\\"], axis=1).merge(\\n    neighborhood_df, left_index=True, right_index=True\\n)\\ndf2.head()\";\n",
       "                var nbb_formatted_code = \"df2 = df2.drop([\\\"neighborhood\\\"], axis=1).merge(\\n    neighborhood_df, left_index=True, right_index=True\\n)\\ndf2.head()\";\n",
       "                var nbb_cells = Jupyter.notebook.get_cells();\n",
       "                for (var i = 0; i < nbb_cells.length; ++i) {\n",
       "                    if (nbb_cells[i].input_prompt_number == nbb_cell_id) {\n",
       "                        if (nbb_cells[i].get_text() == nbb_unformatted_code) {\n",
       "                             nbb_cells[i].set_text(nbb_formatted_code);\n",
       "                        }\n",
       "                        break;\n",
       "                    }\n",
       "                }\n",
       "            }, 500);\n",
       "            "
      ],
      "text/plain": [
       "<IPython.core.display.Javascript object>"
      ]
     },
     "metadata": {},
     "output_type": "display_data"
    },
    {
     "data": {
      "application/javascript": [
       "\n",
       "            setTimeout(function() {\n",
       "                var nbb_cell_id = 43;\n",
       "                var nbb_unformatted_code = \"df2 = df2.drop([\\\"neighborhood\\\"], axis=1).merge(\\n    neighborhood_df, left_index=True, right_index=True\\n)\\ndf2.head()\";\n",
       "                var nbb_formatted_code = \"df2 = df2.drop([\\\"neighborhood\\\"], axis=1).merge(\\n    neighborhood_df, left_index=True, right_index=True\\n)\\ndf2.head()\";\n",
       "                var nbb_cells = Jupyter.notebook.get_cells();\n",
       "                for (var i = 0; i < nbb_cells.length; ++i) {\n",
       "                    if (nbb_cells[i].input_prompt_number == nbb_cell_id) {\n",
       "                        if (nbb_cells[i].get_text() == nbb_unformatted_code) {\n",
       "                             nbb_cells[i].set_text(nbb_formatted_code);\n",
       "                        }\n",
       "                        break;\n",
       "                    }\n",
       "                }\n",
       "            }, 500);\n",
       "            "
      ],
      "text/plain": [
       "<IPython.core.display.Javascript object>"
      ]
     },
     "metadata": {},
     "output_type": "display_data"
    },
    {
     "data": {
      "application/javascript": [
       "\n",
       "            setTimeout(function() {\n",
       "                var nbb_cell_id = 43;\n",
       "                var nbb_unformatted_code = \"df2 = df2.drop([\\\"neighborhood\\\"], axis=1).merge(\\n    neighborhood_df, left_index=True, right_index=True\\n)\\ndf2.head()\";\n",
       "                var nbb_formatted_code = \"df2 = df2.drop([\\\"neighborhood\\\"], axis=1).merge(\\n    neighborhood_df, left_index=True, right_index=True\\n)\\ndf2.head()\";\n",
       "                var nbb_cells = Jupyter.notebook.get_cells();\n",
       "                for (var i = 0; i < nbb_cells.length; ++i) {\n",
       "                    if (nbb_cells[i].input_prompt_number == nbb_cell_id) {\n",
       "                        if (nbb_cells[i].get_text() == nbb_unformatted_code) {\n",
       "                             nbb_cells[i].set_text(nbb_formatted_code);\n",
       "                        }\n",
       "                        break;\n",
       "                    }\n",
       "                }\n",
       "            }, 500);\n",
       "            "
      ],
      "text/plain": [
       "<IPython.core.display.Javascript object>"
      ]
     },
     "metadata": {},
     "output_type": "display_data"
    },
    {
     "data": {
      "application/javascript": [
       "\n",
       "            setTimeout(function() {\n",
       "                var nbb_cell_id = 43;\n",
       "                var nbb_unformatted_code = \"df2 = df2.drop([\\\"neighborhood\\\"], axis=1).merge(\\n    neighborhood_df, left_index=True, right_index=True\\n)\\ndf2.head()\";\n",
       "                var nbb_formatted_code = \"df2 = df2.drop([\\\"neighborhood\\\"], axis=1).merge(\\n    neighborhood_df, left_index=True, right_index=True\\n)\\ndf2.head()\";\n",
       "                var nbb_cells = Jupyter.notebook.get_cells();\n",
       "                for (var i = 0; i < nbb_cells.length; ++i) {\n",
       "                    if (nbb_cells[i].input_prompt_number == nbb_cell_id) {\n",
       "                        if (nbb_cells[i].get_text() == nbb_unformatted_code) {\n",
       "                             nbb_cells[i].set_text(nbb_formatted_code);\n",
       "                        }\n",
       "                        break;\n",
       "                    }\n",
       "                }\n",
       "            }, 500);\n",
       "            "
      ],
      "text/plain": [
       "<IPython.core.display.Javascript object>"
      ]
     },
     "metadata": {},
     "output_type": "display_data"
    }
   ],
   "source": [
    "df2 = df2.drop([\"neighborhood\"], axis=1).merge(\n",
    "    neighborhood_df, left_index=True, right_index=True\n",
    ")\n",
    "df2.head()"
   ]
  },
  {
   "cell_type": "code",
   "execution_count": 44,
   "metadata": {},
   "outputs": [
    {
     "data": {
      "text/plain": [
       "Index(['lotarea', 'yearbuilt', 'centralair', 'baths_full', 'baths_half',\n",
       "       'bedroomabvgr', 'adj_sf', 'overallqual', 'grlivarea', 'totrmsabvgrd',\n",
       "       'fireplaces', 'saleprice', 'Blmngtn', 'Blueste', 'BrDale', 'BrkSide',\n",
       "       'ClearCr', 'CollgCr', 'Crawfor', 'Edwards', 'Gilbert', 'IDOTRR',\n",
       "       'MeadowV', 'Mitchel', 'NAmes', 'NPkVill', 'NWAmes', 'NoRidge',\n",
       "       'NridgHt', 'OldTown', 'SWISU', 'Sawyer', 'SawyerW', 'Somerst',\n",
       "       'StoneBr', 'Timber', 'Veenker'],\n",
       "      dtype='object')"
      ]
     },
     "execution_count": 44,
     "metadata": {},
     "output_type": "execute_result"
    },
    {
     "data": {
      "application/javascript": [
       "\n",
       "            setTimeout(function() {\n",
       "                var nbb_cell_id = 44;\n",
       "                var nbb_unformatted_code = \"df2.columns\";\n",
       "                var nbb_formatted_code = \"df2.columns\";\n",
       "                var nbb_cells = Jupyter.notebook.get_cells();\n",
       "                for (var i = 0; i < nbb_cells.length; ++i) {\n",
       "                    if (nbb_cells[i].input_prompt_number == nbb_cell_id) {\n",
       "                        if (nbb_cells[i].get_text() == nbb_unformatted_code) {\n",
       "                             nbb_cells[i].set_text(nbb_formatted_code);\n",
       "                        }\n",
       "                        break;\n",
       "                    }\n",
       "                }\n",
       "            }, 500);\n",
       "            "
      ],
      "text/plain": [
       "<IPython.core.display.Javascript object>"
      ]
     },
     "metadata": {},
     "output_type": "display_data"
    },
    {
     "data": {
      "application/javascript": [
       "\n",
       "            setTimeout(function() {\n",
       "                var nbb_cell_id = 44;\n",
       "                var nbb_unformatted_code = \"df2.columns\";\n",
       "                var nbb_formatted_code = \"df2.columns\";\n",
       "                var nbb_cells = Jupyter.notebook.get_cells();\n",
       "                for (var i = 0; i < nbb_cells.length; ++i) {\n",
       "                    if (nbb_cells[i].input_prompt_number == nbb_cell_id) {\n",
       "                        if (nbb_cells[i].get_text() == nbb_unformatted_code) {\n",
       "                             nbb_cells[i].set_text(nbb_formatted_code);\n",
       "                        }\n",
       "                        break;\n",
       "                    }\n",
       "                }\n",
       "            }, 500);\n",
       "            "
      ],
      "text/plain": [
       "<IPython.core.display.Javascript object>"
      ]
     },
     "metadata": {},
     "output_type": "display_data"
    },
    {
     "data": {
      "application/javascript": [
       "\n",
       "            setTimeout(function() {\n",
       "                var nbb_cell_id = 44;\n",
       "                var nbb_unformatted_code = \"df2.columns\";\n",
       "                var nbb_formatted_code = \"df2.columns\";\n",
       "                var nbb_cells = Jupyter.notebook.get_cells();\n",
       "                for (var i = 0; i < nbb_cells.length; ++i) {\n",
       "                    if (nbb_cells[i].input_prompt_number == nbb_cell_id) {\n",
       "                        if (nbb_cells[i].get_text() == nbb_unformatted_code) {\n",
       "                             nbb_cells[i].set_text(nbb_formatted_code);\n",
       "                        }\n",
       "                        break;\n",
       "                    }\n",
       "                }\n",
       "            }, 500);\n",
       "            "
      ],
      "text/plain": [
       "<IPython.core.display.Javascript object>"
      ]
     },
     "metadata": {},
     "output_type": "display_data"
    },
    {
     "data": {
      "application/javascript": [
       "\n",
       "            setTimeout(function() {\n",
       "                var nbb_cell_id = 44;\n",
       "                var nbb_unformatted_code = \"df2.columns\";\n",
       "                var nbb_formatted_code = \"df2.columns\";\n",
       "                var nbb_cells = Jupyter.notebook.get_cells();\n",
       "                for (var i = 0; i < nbb_cells.length; ++i) {\n",
       "                    if (nbb_cells[i].input_prompt_number == nbb_cell_id) {\n",
       "                        if (nbb_cells[i].get_text() == nbb_unformatted_code) {\n",
       "                             nbb_cells[i].set_text(nbb_formatted_code);\n",
       "                        }\n",
       "                        break;\n",
       "                    }\n",
       "                }\n",
       "            }, 500);\n",
       "            "
      ],
      "text/plain": [
       "<IPython.core.display.Javascript object>"
      ]
     },
     "metadata": {},
     "output_type": "display_data"
    }
   ],
   "source": [
    "df2.columns"
   ]
  },
  {
   "cell_type": "code",
   "execution_count": 45,
   "metadata": {},
   "outputs": [
    {
     "data": {
      "image/png": "[encoded data removed]",
      "text/plain": [
       "<Figure size 1440x1440 with 2 Axes>"
      ]
     },
     "metadata": {
      "needs_background": "light"
     },
     "output_type": "display_data"
    },
    {
     "data": {
      "application/javascript": [
       "\n",
       "            setTimeout(function() {\n",
       "                var nbb_cell_id = 45;\n",
       "                var nbb_unformatted_code = \"plt.figure(figsize=(20, 20))\\nsns.heatmap(\\n    df2[\\n        [\\n            \\\"yearbuilt\\\",\\n            \\\"baths_full\\\",\\n            \\\"overallqual\\\",\\n            \\\"grlivarea\\\",\\n            \\\"totrmsabvgrd\\\",\\n            \\\"fireplaces\\\",\\n            \\\"saleprice\\\",\\n        ]\\n    ].corr(),\\n    annot=True,\\n)\\nplt.show()\";\n",
       "                var nbb_formatted_code = \"plt.figure(figsize=(20, 20))\\nsns.heatmap(\\n    df2[\\n        [\\n            \\\"yearbuilt\\\",\\n            \\\"baths_full\\\",\\n            \\\"overallqual\\\",\\n            \\\"grlivarea\\\",\\n            \\\"totrmsabvgrd\\\",\\n            \\\"fireplaces\\\",\\n            \\\"saleprice\\\",\\n        ]\\n    ].corr(),\\n    annot=True,\\n)\\nplt.show()\";\n",
       "                var nbb_cells = Jupyter.notebook.get_cells();\n",
       "                for (var i = 0; i < nbb_cells.length; ++i) {\n",
       "                    if (nbb_cells[i].input_prompt_number == nbb_cell_id) {\n",
       "                        if (nbb_cells[i].get_text() == nbb_unformatted_code) {\n",
       "                             nbb_cells[i].set_text(nbb_formatted_code);\n",
       "                        }\n",
       "                        break;\n",
       "                    }\n",
       "                }\n",
       "            }, 500);\n",
       "            "
      ],
      "text/plain": [
       "<IPython.core.display.Javascript object>"
      ]
     },
     "metadata": {},
     "output_type": "display_data"
    },
    {
     "data": {
      "application/javascript": [
       "\n",
       "            setTimeout(function() {\n",
       "                var nbb_cell_id = 45;\n",
       "                var nbb_unformatted_code = \"plt.figure(figsize=(20, 20))\\nsns.heatmap(\\n    df2[\\n        [\\n            \\\"yearbuilt\\\",\\n            \\\"baths_full\\\",\\n            \\\"overallqual\\\",\\n            \\\"grlivarea\\\",\\n            \\\"totrmsabvgrd\\\",\\n            \\\"fireplaces\\\",\\n            \\\"saleprice\\\",\\n        ]\\n    ].corr(),\\n    annot=True,\\n)\\nplt.show()\";\n",
       "                var nbb_formatted_code = \"plt.figure(figsize=(20, 20))\\nsns.heatmap(\\n    df2[\\n        [\\n            \\\"yearbuilt\\\",\\n            \\\"baths_full\\\",\\n            \\\"overallqual\\\",\\n            \\\"grlivarea\\\",\\n            \\\"totrmsabvgrd\\\",\\n            \\\"fireplaces\\\",\\n            \\\"saleprice\\\",\\n        ]\\n    ].corr(),\\n    annot=True,\\n)\\nplt.show()\";\n",
       "                var nbb_cells = Jupyter.notebook.get_cells();\n",
       "                for (var i = 0; i < nbb_cells.length; ++i) {\n",
       "                    if (nbb_cells[i].input_prompt_number == nbb_cell_id) {\n",
       "                        if (nbb_cells[i].get_text() == nbb_unformatted_code) {\n",
       "                             nbb_cells[i].set_text(nbb_formatted_code);\n",
       "                        }\n",
       "                        break;\n",
       "                    }\n",
       "                }\n",
       "            }, 500);\n",
       "            "
      ],
      "text/plain": [
       "<IPython.core.display.Javascript object>"
      ]
     },
     "metadata": {},
     "output_type": "display_data"
    },
    {
     "data": {
      "application/javascript": [
       "\n",
       "            setTimeout(function() {\n",
       "                var nbb_cell_id = 45;\n",
       "                var nbb_unformatted_code = \"plt.figure(figsize=(20, 20))\\nsns.heatmap(\\n    df2[\\n        [\\n            \\\"yearbuilt\\\",\\n            \\\"baths_full\\\",\\n            \\\"overallqual\\\",\\n            \\\"grlivarea\\\",\\n            \\\"totrmsabvgrd\\\",\\n            \\\"fireplaces\\\",\\n            \\\"saleprice\\\",\\n        ]\\n    ].corr(),\\n    annot=True,\\n)\\nplt.show()\";\n",
       "                var nbb_formatted_code = \"plt.figure(figsize=(20, 20))\\nsns.heatmap(\\n    df2[\\n        [\\n            \\\"yearbuilt\\\",\\n            \\\"baths_full\\\",\\n            \\\"overallqual\\\",\\n            \\\"grlivarea\\\",\\n            \\\"totrmsabvgrd\\\",\\n            \\\"fireplaces\\\",\\n            \\\"saleprice\\\",\\n        ]\\n    ].corr(),\\n    annot=True,\\n)\\nplt.show()\";\n",
       "                var nbb_cells = Jupyter.notebook.get_cells();\n",
       "                for (var i = 0; i < nbb_cells.length; ++i) {\n",
       "                    if (nbb_cells[i].input_prompt_number == nbb_cell_id) {\n",
       "                        if (nbb_cells[i].get_text() == nbb_unformatted_code) {\n",
       "                             nbb_cells[i].set_text(nbb_formatted_code);\n",
       "                        }\n",
       "                        break;\n",
       "                    }\n",
       "                }\n",
       "            }, 500);\n",
       "            "
      ],
      "text/plain": [
       "<IPython.core.display.Javascript object>"
      ]
     },
     "metadata": {},
     "output_type": "display_data"
    },
    {
     "data": {
      "application/javascript": [
       "\n",
       "            setTimeout(function() {\n",
       "                var nbb_cell_id = 45;\n",
       "                var nbb_unformatted_code = \"plt.figure(figsize=(20, 20))\\nsns.heatmap(\\n    df2[\\n        [\\n            \\\"yearbuilt\\\",\\n            \\\"baths_full\\\",\\n            \\\"overallqual\\\",\\n            \\\"grlivarea\\\",\\n            \\\"totrmsabvgrd\\\",\\n            \\\"fireplaces\\\",\\n            \\\"saleprice\\\",\\n        ]\\n    ].corr(),\\n    annot=True,\\n)\\nplt.show()\";\n",
       "                var nbb_formatted_code = \"plt.figure(figsize=(20, 20))\\nsns.heatmap(\\n    df2[\\n        [\\n            \\\"yearbuilt\\\",\\n            \\\"baths_full\\\",\\n            \\\"overallqual\\\",\\n            \\\"grlivarea\\\",\\n            \\\"totrmsabvgrd\\\",\\n            \\\"fireplaces\\\",\\n            \\\"saleprice\\\",\\n        ]\\n    ].corr(),\\n    annot=True,\\n)\\nplt.show()\";\n",
       "                var nbb_cells = Jupyter.notebook.get_cells();\n",
       "                for (var i = 0; i < nbb_cells.length; ++i) {\n",
       "                    if (nbb_cells[i].input_prompt_number == nbb_cell_id) {\n",
       "                        if (nbb_cells[i].get_text() == nbb_unformatted_code) {\n",
       "                             nbb_cells[i].set_text(nbb_formatted_code);\n",
       "                        }\n",
       "                        break;\n",
       "                    }\n",
       "                }\n",
       "            }, 500);\n",
       "            "
      ],
      "text/plain": [
       "<IPython.core.display.Javascript object>"
      ]
     },
     "metadata": {},
     "output_type": "display_data"
    }
   ],
   "source": [
    "plt.figure(figsize=(20, 20))\n",
    "sns.heatmap(\n",
    "    df2[\n",
    "        [\n",
    "            \"yearbuilt\",\n",
    "            \"baths_full\",\n",
    "            \"overallqual\",\n",
    "            \"grlivarea\",\n",
    "            \"totrmsabvgrd\",\n",
    "            \"fireplaces\",\n",
    "            \"saleprice\",\n",
    "        ]\n",
    "    ].corr(),\n",
    "    annot=True,\n",
    ")\n",
    "plt.show()"
   ]
  },
  {
   "cell_type": "code",
   "execution_count": 46,
   "metadata": {},
   "outputs": [
    {
     "data": {
      "image/png": "[encoded data removed]",
      "text/plain": [
       "<Figure size 432x288 with 2 Axes>"
      ]
     },
     "metadata": {
      "needs_background": "light"
     },
     "output_type": "display_data"
    },
    {
     "data": {
      "application/javascript": [
       "\n",
       "            setTimeout(function() {\n",
       "                var nbb_cell_id = 46;\n",
       "                var nbb_unformatted_code = \"sns.heatmap(\\n    df2[\\n        [\\n            \\\"yearbuilt\\\",\\n            \\\"baths_full\\\",\\n            \\\"overallqual\\\",\\n            \\\"grlivarea\\\",\\n            \\\"totrmsabvgrd\\\",\\n            \\\"fireplaces\\\",\\n            \\\"saleprice\\\",\\n        ]\\n    ].corr(),\\n    annot=True,\\n)\\nplt.show()\";\n",
       "                var nbb_formatted_code = \"sns.heatmap(\\n    df2[\\n        [\\n            \\\"yearbuilt\\\",\\n            \\\"baths_full\\\",\\n            \\\"overallqual\\\",\\n            \\\"grlivarea\\\",\\n            \\\"totrmsabvgrd\\\",\\n            \\\"fireplaces\\\",\\n            \\\"saleprice\\\",\\n        ]\\n    ].corr(),\\n    annot=True,\\n)\\nplt.show()\";\n",
       "                var nbb_cells = Jupyter.notebook.get_cells();\n",
       "                for (var i = 0; i < nbb_cells.length; ++i) {\n",
       "                    if (nbb_cells[i].input_prompt_number == nbb_cell_id) {\n",
       "                        if (nbb_cells[i].get_text() == nbb_unformatted_code) {\n",
       "                             nbb_cells[i].set_text(nbb_formatted_code);\n",
       "                        }\n",
       "                        break;\n",
       "                    }\n",
       "                }\n",
       "            }, 500);\n",
       "            "
      ],
      "text/plain": [
       "<IPython.core.display.Javascript object>"
      ]
     },
     "metadata": {},
     "output_type": "display_data"
    },
    {
     "data": {
      "application/javascript": [
       "\n",
       "            setTimeout(function() {\n",
       "                var nbb_cell_id = 46;\n",
       "                var nbb_unformatted_code = \"sns.heatmap(\\n    df2[\\n        [\\n            \\\"yearbuilt\\\",\\n            \\\"baths_full\\\",\\n            \\\"overallqual\\\",\\n            \\\"grlivarea\\\",\\n            \\\"totrmsabvgrd\\\",\\n            \\\"fireplaces\\\",\\n            \\\"saleprice\\\",\\n        ]\\n    ].corr(),\\n    annot=True,\\n)\\nplt.show()\";\n",
       "                var nbb_formatted_code = \"sns.heatmap(\\n    df2[\\n        [\\n            \\\"yearbuilt\\\",\\n            \\\"baths_full\\\",\\n            \\\"overallqual\\\",\\n            \\\"grlivarea\\\",\\n            \\\"totrmsabvgrd\\\",\\n            \\\"fireplaces\\\",\\n            \\\"saleprice\\\",\\n        ]\\n    ].corr(),\\n    annot=True,\\n)\\nplt.show()\";\n",
       "                var nbb_cells = Jupyter.notebook.get_cells();\n",
       "                for (var i = 0; i < nbb_cells.length; ++i) {\n",
       "                    if (nbb_cells[i].input_prompt_number == nbb_cell_id) {\n",
       "                        if (nbb_cells[i].get_text() == nbb_unformatted_code) {\n",
       "                             nbb_cells[i].set_text(nbb_formatted_code);\n",
       "                        }\n",
       "                        break;\n",
       "                    }\n",
       "                }\n",
       "            }, 500);\n",
       "            "
      ],
      "text/plain": [
       "<IPython.core.display.Javascript object>"
      ]
     },
     "metadata": {},
     "output_type": "display_data"
    },
    {
     "data": {
      "application/javascript": [
       "\n",
       "            setTimeout(function() {\n",
       "                var nbb_cell_id = 46;\n",
       "                var nbb_unformatted_code = \"sns.heatmap(\\n    df2[\\n        [\\n            \\\"yearbuilt\\\",\\n            \\\"baths_full\\\",\\n            \\\"overallqual\\\",\\n            \\\"grlivarea\\\",\\n            \\\"totrmsabvgrd\\\",\\n            \\\"fireplaces\\\",\\n            \\\"saleprice\\\",\\n        ]\\n    ].corr(),\\n    annot=True,\\n)\\nplt.show()\";\n",
       "                var nbb_formatted_code = \"sns.heatmap(\\n    df2[\\n        [\\n            \\\"yearbuilt\\\",\\n            \\\"baths_full\\\",\\n            \\\"overallqual\\\",\\n            \\\"grlivarea\\\",\\n            \\\"totrmsabvgrd\\\",\\n            \\\"fireplaces\\\",\\n            \\\"saleprice\\\",\\n        ]\\n    ].corr(),\\n    annot=True,\\n)\\nplt.show()\";\n",
       "                var nbb_cells = Jupyter.notebook.get_cells();\n",
       "                for (var i = 0; i < nbb_cells.length; ++i) {\n",
       "                    if (nbb_cells[i].input_prompt_number == nbb_cell_id) {\n",
       "                        if (nbb_cells[i].get_text() == nbb_unformatted_code) {\n",
       "                             nbb_cells[i].set_text(nbb_formatted_code);\n",
       "                        }\n",
       "                        break;\n",
       "                    }\n",
       "                }\n",
       "            }, 500);\n",
       "            "
      ],
      "text/plain": [
       "<IPython.core.display.Javascript object>"
      ]
     },
     "metadata": {},
     "output_type": "display_data"
    },
    {
     "data": {
      "application/javascript": [
       "\n",
       "            setTimeout(function() {\n",
       "                var nbb_cell_id = 46;\n",
       "                var nbb_unformatted_code = \"sns.heatmap(\\n    df2[\\n        [\\n            \\\"yearbuilt\\\",\\n            \\\"baths_full\\\",\\n            \\\"overallqual\\\",\\n            \\\"grlivarea\\\",\\n            \\\"totrmsabvgrd\\\",\\n            \\\"fireplaces\\\",\\n            \\\"saleprice\\\",\\n        ]\\n    ].corr(),\\n    annot=True,\\n)\\nplt.show()\";\n",
       "                var nbb_formatted_code = \"sns.heatmap(\\n    df2[\\n        [\\n            \\\"yearbuilt\\\",\\n            \\\"baths_full\\\",\\n            \\\"overallqual\\\",\\n            \\\"grlivarea\\\",\\n            \\\"totrmsabvgrd\\\",\\n            \\\"fireplaces\\\",\\n            \\\"saleprice\\\",\\n        ]\\n    ].corr(),\\n    annot=True,\\n)\\nplt.show()\";\n",
       "                var nbb_cells = Jupyter.notebook.get_cells();\n",
       "                for (var i = 0; i < nbb_cells.length; ++i) {\n",
       "                    if (nbb_cells[i].input_prompt_number == nbb_cell_id) {\n",
       "                        if (nbb_cells[i].get_text() == nbb_unformatted_code) {\n",
       "                             nbb_cells[i].set_text(nbb_formatted_code);\n",
       "                        }\n",
       "                        break;\n",
       "                    }\n",
       "                }\n",
       "            }, 500);\n",
       "            "
      ],
      "text/plain": [
       "<IPython.core.display.Javascript object>"
      ]
     },
     "metadata": {},
     "output_type": "display_data"
    }
   ],
   "source": [
    "sns.heatmap(\n",
    "    df2[\n",
    "        [\n",
    "            \"yearbuilt\",\n",
    "            \"baths_full\",\n",
    "            \"overallqual\",\n",
    "            \"grlivarea\",\n",
    "            \"totrmsabvgrd\",\n",
    "            \"fireplaces\",\n",
    "            \"saleprice\",\n",
    "        ]\n",
    "    ].corr(),\n",
    "    annot=True,\n",
    ")\n",
    "plt.show()"
   ]
  },
  {
   "cell_type": "code",
   "execution_count": 47,
   "metadata": {},
   "outputs": [
    {
     "data": {
      "image/png": "[encoded data removed]",
      "text/plain": [
       "<Figure size 504x1080 with 2 Axes>"
      ]
     },
     "metadata": {
      "needs_background": "light"
     },
     "output_type": "display_data"
    },
    {
     "data": {
      "application/javascript": [
       "\n",
       "            setTimeout(function() {\n",
       "                var nbb_cell_id = 47;\n",
       "                var nbb_unformatted_code = \"corr_df = df2[\\n    [\\n        \\\"yearbuilt\\\",\\n        \\\"baths_full\\\",\\n        \\\"overallqual\\\",\\n        \\\"grlivarea\\\",\\n        \\\"totrmsabvgrd\\\",\\n        \\\"fireplaces\\\",\\n        \\\"saleprice\\\",\\n        \\\"NoRidge\\\",\\n        \\\"NridgHt\\\",\\n        \\\"totrmsabvgrd\\\",\\n        \\\"Blmngtn\\\",\\n        \\\"Blueste\\\",\\n        \\\"BrDale\\\",\\n        \\\"BrkSide\\\",\\n        \\\"ClearCr\\\",\\n        \\\"CollgCr\\\",\\n        \\\"Crawfor\\\",\\n        \\\"Edwards\\\",\\n        \\\"Gilbert\\\",\\n        \\\"IDOTRR\\\",\\n        \\\"MeadowV\\\",\\n        \\\"Mitchel\\\",\\n        \\\"NAmes\\\",\\n        \\\"NPkVill\\\",\\n        \\\"NWAmes\\\",\\n        \\\"NoRidge\\\",\\n        \\\"NridgHt\\\",\\n        \\\"OldTown\\\",\\n        \\\"SWISU\\\",\\n        \\\"Sawyer\\\",\\n        \\\"SawyerW\\\",\\n        \\\"Somerst\\\",\\n        \\\"StoneBr\\\",\\n        \\\"Timber\\\",\\n        \\\"Veenker\\\",\\n    ]\\n]\\n\\n\\nsaleprice_corrs = corr_df.corr()[[\\\"saleprice\\\"]].sort_values(\\n    \\\"saleprice\\\", ascending=False\\n)\\nplt.figure(figsize=(7, 15))\\nsns.heatmap(saleprice_corrs, vmin=-1, vmax=1, annot=True)\\nplt.show()\";\n",
       "                var nbb_formatted_code = \"corr_df = df2[\\n    [\\n        \\\"yearbuilt\\\",\\n        \\\"baths_full\\\",\\n        \\\"overallqual\\\",\\n        \\\"grlivarea\\\",\\n        \\\"totrmsabvgrd\\\",\\n        \\\"fireplaces\\\",\\n        \\\"saleprice\\\",\\n        \\\"NoRidge\\\",\\n        \\\"NridgHt\\\",\\n        \\\"totrmsabvgrd\\\",\\n        \\\"Blmngtn\\\",\\n        \\\"Blueste\\\",\\n        \\\"BrDale\\\",\\n        \\\"BrkSide\\\",\\n        \\\"ClearCr\\\",\\n        \\\"CollgCr\\\",\\n        \\\"Crawfor\\\",\\n        \\\"Edwards\\\",\\n        \\\"Gilbert\\\",\\n        \\\"IDOTRR\\\",\\n        \\\"MeadowV\\\",\\n        \\\"Mitchel\\\",\\n        \\\"NAmes\\\",\\n        \\\"NPkVill\\\",\\n        \\\"NWAmes\\\",\\n        \\\"NoRidge\\\",\\n        \\\"NridgHt\\\",\\n        \\\"OldTown\\\",\\n        \\\"SWISU\\\",\\n        \\\"Sawyer\\\",\\n        \\\"SawyerW\\\",\\n        \\\"Somerst\\\",\\n        \\\"StoneBr\\\",\\n        \\\"Timber\\\",\\n        \\\"Veenker\\\",\\n    ]\\n]\\n\\n\\nsaleprice_corrs = corr_df.corr()[[\\\"saleprice\\\"]].sort_values(\\n    \\\"saleprice\\\", ascending=False\\n)\\nplt.figure(figsize=(7, 15))\\nsns.heatmap(saleprice_corrs, vmin=-1, vmax=1, annot=True)\\nplt.show()\";\n",
       "                var nbb_cells = Jupyter.notebook.get_cells();\n",
       "                for (var i = 0; i < nbb_cells.length; ++i) {\n",
       "                    if (nbb_cells[i].input_prompt_number == nbb_cell_id) {\n",
       "                        if (nbb_cells[i].get_text() == nbb_unformatted_code) {\n",
       "                             nbb_cells[i].set_text(nbb_formatted_code);\n",
       "                        }\n",
       "                        break;\n",
       "                    }\n",
       "                }\n",
       "            }, 500);\n",
       "            "
      ],
      "text/plain": [
       "<IPython.core.display.Javascript object>"
      ]
     },
     "metadata": {},
     "output_type": "display_data"
    },
    {
     "data": {
      "application/javascript": [
       "\n",
       "            setTimeout(function() {\n",
       "                var nbb_cell_id = 47;\n",
       "                var nbb_unformatted_code = \"corr_df = df2[\\n    [\\n        \\\"yearbuilt\\\",\\n        \\\"baths_full\\\",\\n        \\\"overallqual\\\",\\n        \\\"grlivarea\\\",\\n        \\\"totrmsabvgrd\\\",\\n        \\\"fireplaces\\\",\\n        \\\"saleprice\\\",\\n        \\\"NoRidge\\\",\\n        \\\"NridgHt\\\",\\n        \\\"totrmsabvgrd\\\",\\n        \\\"Blmngtn\\\",\\n        \\\"Blueste\\\",\\n        \\\"BrDale\\\",\\n        \\\"BrkSide\\\",\\n        \\\"ClearCr\\\",\\n        \\\"CollgCr\\\",\\n        \\\"Crawfor\\\",\\n        \\\"Edwards\\\",\\n        \\\"Gilbert\\\",\\n        \\\"IDOTRR\\\",\\n        \\\"MeadowV\\\",\\n        \\\"Mitchel\\\",\\n        \\\"NAmes\\\",\\n        \\\"NPkVill\\\",\\n        \\\"NWAmes\\\",\\n        \\\"NoRidge\\\",\\n        \\\"NridgHt\\\",\\n        \\\"OldTown\\\",\\n        \\\"SWISU\\\",\\n        \\\"Sawyer\\\",\\n        \\\"SawyerW\\\",\\n        \\\"Somerst\\\",\\n        \\\"StoneBr\\\",\\n        \\\"Timber\\\",\\n        \\\"Veenker\\\",\\n    ]\\n]\\n\\n\\nsaleprice_corrs = corr_df.corr()[[\\\"saleprice\\\"]].sort_values(\\n    \\\"saleprice\\\", ascending=False\\n)\\nplt.figure(figsize=(7, 15))\\nsns.heatmap(saleprice_corrs, vmin=-1, vmax=1, annot=True)\\nplt.show()\";\n",
       "                var nbb_formatted_code = \"corr_df = df2[\\n    [\\n        \\\"yearbuilt\\\",\\n        \\\"baths_full\\\",\\n        \\\"overallqual\\\",\\n        \\\"grlivarea\\\",\\n        \\\"totrmsabvgrd\\\",\\n        \\\"fireplaces\\\",\\n        \\\"saleprice\\\",\\n        \\\"NoRidge\\\",\\n        \\\"NridgHt\\\",\\n        \\\"totrmsabvgrd\\\",\\n        \\\"Blmngtn\\\",\\n        \\\"Blueste\\\",\\n        \\\"BrDale\\\",\\n        \\\"BrkSide\\\",\\n        \\\"ClearCr\\\",\\n        \\\"CollgCr\\\",\\n        \\\"Crawfor\\\",\\n        \\\"Edwards\\\",\\n        \\\"Gilbert\\\",\\n        \\\"IDOTRR\\\",\\n        \\\"MeadowV\\\",\\n        \\\"Mitchel\\\",\\n        \\\"NAmes\\\",\\n        \\\"NPkVill\\\",\\n        \\\"NWAmes\\\",\\n        \\\"NoRidge\\\",\\n        \\\"NridgHt\\\",\\n        \\\"OldTown\\\",\\n        \\\"SWISU\\\",\\n        \\\"Sawyer\\\",\\n        \\\"SawyerW\\\",\\n        \\\"Somerst\\\",\\n        \\\"StoneBr\\\",\\n        \\\"Timber\\\",\\n        \\\"Veenker\\\",\\n    ]\\n]\\n\\n\\nsaleprice_corrs = corr_df.corr()[[\\\"saleprice\\\"]].sort_values(\\n    \\\"saleprice\\\", ascending=False\\n)\\nplt.figure(figsize=(7, 15))\\nsns.heatmap(saleprice_corrs, vmin=-1, vmax=1, annot=True)\\nplt.show()\";\n",
       "                var nbb_cells = Jupyter.notebook.get_cells();\n",
       "                for (var i = 0; i < nbb_cells.length; ++i) {\n",
       "                    if (nbb_cells[i].input_prompt_number == nbb_cell_id) {\n",
       "                        if (nbb_cells[i].get_text() == nbb_unformatted_code) {\n",
       "                             nbb_cells[i].set_text(nbb_formatted_code);\n",
       "                        }\n",
       "                        break;\n",
       "                    }\n",
       "                }\n",
       "            }, 500);\n",
       "            "
      ],
      "text/plain": [
       "<IPython.core.display.Javascript object>"
      ]
     },
     "metadata": {},
     "output_type": "display_data"
    },
    {
     "data": {
      "application/javascript": [
       "\n",
       "            setTimeout(function() {\n",
       "                var nbb_cell_id = 47;\n",
       "                var nbb_unformatted_code = \"corr_df = df2[\\n    [\\n        \\\"yearbuilt\\\",\\n        \\\"baths_full\\\",\\n        \\\"overallqual\\\",\\n        \\\"grlivarea\\\",\\n        \\\"totrmsabvgrd\\\",\\n        \\\"fireplaces\\\",\\n        \\\"saleprice\\\",\\n        \\\"NoRidge\\\",\\n        \\\"NridgHt\\\",\\n        \\\"totrmsabvgrd\\\",\\n        \\\"Blmngtn\\\",\\n        \\\"Blueste\\\",\\n        \\\"BrDale\\\",\\n        \\\"BrkSide\\\",\\n        \\\"ClearCr\\\",\\n        \\\"CollgCr\\\",\\n        \\\"Crawfor\\\",\\n        \\\"Edwards\\\",\\n        \\\"Gilbert\\\",\\n        \\\"IDOTRR\\\",\\n        \\\"MeadowV\\\",\\n        \\\"Mitchel\\\",\\n        \\\"NAmes\\\",\\n        \\\"NPkVill\\\",\\n        \\\"NWAmes\\\",\\n        \\\"NoRidge\\\",\\n        \\\"NridgHt\\\",\\n        \\\"OldTown\\\",\\n        \\\"SWISU\\\",\\n        \\\"Sawyer\\\",\\n        \\\"SawyerW\\\",\\n        \\\"Somerst\\\",\\n        \\\"StoneBr\\\",\\n        \\\"Timber\\\",\\n        \\\"Veenker\\\",\\n    ]\\n]\\n\\n\\nsaleprice_corrs = corr_df.corr()[[\\\"saleprice\\\"]].sort_values(\\n    \\\"saleprice\\\", ascending=False\\n)\\nplt.figure(figsize=(7, 15))\\nsns.heatmap(saleprice_corrs, vmin=-1, vmax=1, annot=True)\\nplt.show()\";\n",
       "                var nbb_formatted_code = \"corr_df = df2[\\n    [\\n        \\\"yearbuilt\\\",\\n        \\\"baths_full\\\",\\n        \\\"overallqual\\\",\\n        \\\"grlivarea\\\",\\n        \\\"totrmsabvgrd\\\",\\n        \\\"fireplaces\\\",\\n        \\\"saleprice\\\",\\n        \\\"NoRidge\\\",\\n        \\\"NridgHt\\\",\\n        \\\"totrmsabvgrd\\\",\\n        \\\"Blmngtn\\\",\\n        \\\"Blueste\\\",\\n        \\\"BrDale\\\",\\n        \\\"BrkSide\\\",\\n        \\\"ClearCr\\\",\\n        \\\"CollgCr\\\",\\n        \\\"Crawfor\\\",\\n        \\\"Edwards\\\",\\n        \\\"Gilbert\\\",\\n        \\\"IDOTRR\\\",\\n        \\\"MeadowV\\\",\\n        \\\"Mitchel\\\",\\n        \\\"NAmes\\\",\\n        \\\"NPkVill\\\",\\n        \\\"NWAmes\\\",\\n        \\\"NoRidge\\\",\\n        \\\"NridgHt\\\",\\n        \\\"OldTown\\\",\\n        \\\"SWISU\\\",\\n        \\\"Sawyer\\\",\\n        \\\"SawyerW\\\",\\n        \\\"Somerst\\\",\\n        \\\"StoneBr\\\",\\n        \\\"Timber\\\",\\n        \\\"Veenker\\\",\\n    ]\\n]\\n\\n\\nsaleprice_corrs = corr_df.corr()[[\\\"saleprice\\\"]].sort_values(\\n    \\\"saleprice\\\", ascending=False\\n)\\nplt.figure(figsize=(7, 15))\\nsns.heatmap(saleprice_corrs, vmin=-1, vmax=1, annot=True)\\nplt.show()\";\n",
       "                var nbb_cells = Jupyter.notebook.get_cells();\n",
       "                for (var i = 0; i < nbb_cells.length; ++i) {\n",
       "                    if (nbb_cells[i].input_prompt_number == nbb_cell_id) {\n",
       "                        if (nbb_cells[i].get_text() == nbb_unformatted_code) {\n",
       "                             nbb_cells[i].set_text(nbb_formatted_code);\n",
       "                        }\n",
       "                        break;\n",
       "                    }\n",
       "                }\n",
       "            }, 500);\n",
       "            "
      ],
      "text/plain": [
       "<IPython.core.display.Javascript object>"
      ]
     },
     "metadata": {},
     "output_type": "display_data"
    },
    {
     "data": {
      "application/javascript": [
       "\n",
       "            setTimeout(function() {\n",
       "                var nbb_cell_id = 47;\n",
       "                var nbb_unformatted_code = \"corr_df = df2[\\n    [\\n        \\\"yearbuilt\\\",\\n        \\\"baths_full\\\",\\n        \\\"overallqual\\\",\\n        \\\"grlivarea\\\",\\n        \\\"totrmsabvgrd\\\",\\n        \\\"fireplaces\\\",\\n        \\\"saleprice\\\",\\n        \\\"NoRidge\\\",\\n        \\\"NridgHt\\\",\\n        \\\"totrmsabvgrd\\\",\\n        \\\"Blmngtn\\\",\\n        \\\"Blueste\\\",\\n        \\\"BrDale\\\",\\n        \\\"BrkSide\\\",\\n        \\\"ClearCr\\\",\\n        \\\"CollgCr\\\",\\n        \\\"Crawfor\\\",\\n        \\\"Edwards\\\",\\n        \\\"Gilbert\\\",\\n        \\\"IDOTRR\\\",\\n        \\\"MeadowV\\\",\\n        \\\"Mitchel\\\",\\n        \\\"NAmes\\\",\\n        \\\"NPkVill\\\",\\n        \\\"NWAmes\\\",\\n        \\\"NoRidge\\\",\\n        \\\"NridgHt\\\",\\n        \\\"OldTown\\\",\\n        \\\"SWISU\\\",\\n        \\\"Sawyer\\\",\\n        \\\"SawyerW\\\",\\n        \\\"Somerst\\\",\\n        \\\"StoneBr\\\",\\n        \\\"Timber\\\",\\n        \\\"Veenker\\\",\\n    ]\\n]\\n\\n\\nsaleprice_corrs = corr_df.corr()[[\\\"saleprice\\\"]].sort_values(\\n    \\\"saleprice\\\", ascending=False\\n)\\nplt.figure(figsize=(7, 15))\\nsns.heatmap(saleprice_corrs, vmin=-1, vmax=1, annot=True)\\nplt.show()\";\n",
       "                var nbb_formatted_code = \"corr_df = df2[\\n    [\\n        \\\"yearbuilt\\\",\\n        \\\"baths_full\\\",\\n        \\\"overallqual\\\",\\n        \\\"grlivarea\\\",\\n        \\\"totrmsabvgrd\\\",\\n        \\\"fireplaces\\\",\\n        \\\"saleprice\\\",\\n        \\\"NoRidge\\\",\\n        \\\"NridgHt\\\",\\n        \\\"totrmsabvgrd\\\",\\n        \\\"Blmngtn\\\",\\n        \\\"Blueste\\\",\\n        \\\"BrDale\\\",\\n        \\\"BrkSide\\\",\\n        \\\"ClearCr\\\",\\n        \\\"CollgCr\\\",\\n        \\\"Crawfor\\\",\\n        \\\"Edwards\\\",\\n        \\\"Gilbert\\\",\\n        \\\"IDOTRR\\\",\\n        \\\"MeadowV\\\",\\n        \\\"Mitchel\\\",\\n        \\\"NAmes\\\",\\n        \\\"NPkVill\\\",\\n        \\\"NWAmes\\\",\\n        \\\"NoRidge\\\",\\n        \\\"NridgHt\\\",\\n        \\\"OldTown\\\",\\n        \\\"SWISU\\\",\\n        \\\"Sawyer\\\",\\n        \\\"SawyerW\\\",\\n        \\\"Somerst\\\",\\n        \\\"StoneBr\\\",\\n        \\\"Timber\\\",\\n        \\\"Veenker\\\",\\n    ]\\n]\\n\\n\\nsaleprice_corrs = corr_df.corr()[[\\\"saleprice\\\"]].sort_values(\\n    \\\"saleprice\\\", ascending=False\\n)\\nplt.figure(figsize=(7, 15))\\nsns.heatmap(saleprice_corrs, vmin=-1, vmax=1, annot=True)\\nplt.show()\";\n",
       "                var nbb_cells = Jupyter.notebook.get_cells();\n",
       "                for (var i = 0; i < nbb_cells.length; ++i) {\n",
       "                    if (nbb_cells[i].input_prompt_number == nbb_cell_id) {\n",
       "                        if (nbb_cells[i].get_text() == nbb_unformatted_code) {\n",
       "                             nbb_cells[i].set_text(nbb_formatted_code);\n",
       "                        }\n",
       "                        break;\n",
       "                    }\n",
       "                }\n",
       "            }, 500);\n",
       "            "
      ],
      "text/plain": [
       "<IPython.core.display.Javascript object>"
      ]
     },
     "metadata": {},
     "output_type": "display_data"
    }
   ],
   "source": [
    "corr_df = df2[\n",
    "    [\n",
    "        \"yearbuilt\",\n",
    "        \"baths_full\",\n",
    "        \"overallqual\",\n",
    "        \"grlivarea\",\n",
    "        \"totrmsabvgrd\",\n",
    "        \"fireplaces\",\n",
    "        \"saleprice\",\n",
    "        \"NoRidge\",\n",
    "        \"NridgHt\",\n",
    "        \"totrmsabvgrd\",\n",
    "        \"Blmngtn\",\n",
    "        \"Blueste\",\n",
    "        \"BrDale\",\n",
    "        \"BrkSide\",\n",
    "        \"ClearCr\",\n",
    "        \"CollgCr\",\n",
    "        \"Crawfor\",\n",
    "        \"Edwards\",\n",
    "        \"Gilbert\",\n",
    "        \"IDOTRR\",\n",
    "        \"MeadowV\",\n",
    "        \"Mitchel\",\n",
    "        \"NAmes\",\n",
    "        \"NPkVill\",\n",
    "        \"NWAmes\",\n",
    "        \"NoRidge\",\n",
    "        \"NridgHt\",\n",
    "        \"OldTown\",\n",
    "        \"SWISU\",\n",
    "        \"Sawyer\",\n",
    "        \"SawyerW\",\n",
    "        \"Somerst\",\n",
    "        \"StoneBr\",\n",
    "        \"Timber\",\n",
    "        \"Veenker\",\n",
    "    ]\n",
    "]\n",
    "\n",
    "\n",
    "saleprice_corrs = corr_df.corr()[[\"saleprice\"]].sort_values(\n",
    "    \"saleprice\", ascending=False\n",
    ")\n",
    "plt.figure(figsize=(7, 15))\n",
    "sns.heatmap(saleprice_corrs, vmin=-1, vmax=1, annot=True)\n",
    "plt.show()"
   ]
  },
  {
   "cell_type": "code",
   "execution_count": 48,
   "metadata": {},
   "outputs": [
    {
     "data": {
      "application/javascript": [
       "\n",
       "            setTimeout(function() {\n",
       "                var nbb_cell_id = 48;\n",
       "                var nbb_unformatted_code = \"var_df = df2[\\n    [\\n        \\\"yearbuilt\\\",\\n        \\\"baths_full\\\",\\n        \\\"overallqual\\\",\\n        \\\"grlivarea\\\",\\n        #         \\\"totrmsabvgrd\\\",\\n        \\\"fireplaces\\\",\\n        \\\"saleprice\\\",\\n        \\\"NoRidge\\\",\\n        \\\"NridgHt\\\",\\n        #         \\\"NAmes\\\",\\n        #         \\\"OldTown\\\",\\n    ]\\n]\";\n",
       "                var nbb_formatted_code = \"var_df = df2[\\n    [\\n        \\\"yearbuilt\\\",\\n        \\\"baths_full\\\",\\n        \\\"overallqual\\\",\\n        \\\"grlivarea\\\",\\n        #         \\\"totrmsabvgrd\\\",\\n        \\\"fireplaces\\\",\\n        \\\"saleprice\\\",\\n        \\\"NoRidge\\\",\\n        \\\"NridgHt\\\",\\n        #         \\\"NAmes\\\",\\n        #         \\\"OldTown\\\",\\n    ]\\n]\";\n",
       "                var nbb_cells = Jupyter.notebook.get_cells();\n",
       "                for (var i = 0; i < nbb_cells.length; ++i) {\n",
       "                    if (nbb_cells[i].input_prompt_number == nbb_cell_id) {\n",
       "                        if (nbb_cells[i].get_text() == nbb_unformatted_code) {\n",
       "                             nbb_cells[i].set_text(nbb_formatted_code);\n",
       "                        }\n",
       "                        break;\n",
       "                    }\n",
       "                }\n",
       "            }, 500);\n",
       "            "
      ],
      "text/plain": [
       "<IPython.core.display.Javascript object>"
      ]
     },
     "metadata": {},
     "output_type": "display_data"
    },
    {
     "data": {
      "application/javascript": [
       "\n",
       "            setTimeout(function() {\n",
       "                var nbb_cell_id = 48;\n",
       "                var nbb_unformatted_code = \"var_df = df2[\\n    [\\n        \\\"yearbuilt\\\",\\n        \\\"baths_full\\\",\\n        \\\"overallqual\\\",\\n        \\\"grlivarea\\\",\\n        #         \\\"totrmsabvgrd\\\",\\n        \\\"fireplaces\\\",\\n        \\\"saleprice\\\",\\n        \\\"NoRidge\\\",\\n        \\\"NridgHt\\\",\\n        #         \\\"NAmes\\\",\\n        #         \\\"OldTown\\\",\\n    ]\\n]\";\n",
       "                var nbb_formatted_code = \"var_df = df2[\\n    [\\n        \\\"yearbuilt\\\",\\n        \\\"baths_full\\\",\\n        \\\"overallqual\\\",\\n        \\\"grlivarea\\\",\\n        #         \\\"totrmsabvgrd\\\",\\n        \\\"fireplaces\\\",\\n        \\\"saleprice\\\",\\n        \\\"NoRidge\\\",\\n        \\\"NridgHt\\\",\\n        #         \\\"NAmes\\\",\\n        #         \\\"OldTown\\\",\\n    ]\\n]\";\n",
       "                var nbb_cells = Jupyter.notebook.get_cells();\n",
       "                for (var i = 0; i < nbb_cells.length; ++i) {\n",
       "                    if (nbb_cells[i].input_prompt_number == nbb_cell_id) {\n",
       "                        if (nbb_cells[i].get_text() == nbb_unformatted_code) {\n",
       "                             nbb_cells[i].set_text(nbb_formatted_code);\n",
       "                        }\n",
       "                        break;\n",
       "                    }\n",
       "                }\n",
       "            }, 500);\n",
       "            "
      ],
      "text/plain": [
       "<IPython.core.display.Javascript object>"
      ]
     },
     "metadata": {},
     "output_type": "display_data"
    },
    {
     "data": {
      "application/javascript": [
       "\n",
       "            setTimeout(function() {\n",
       "                var nbb_cell_id = 48;\n",
       "                var nbb_unformatted_code = \"var_df = df2[\\n    [\\n        \\\"yearbuilt\\\",\\n        \\\"baths_full\\\",\\n        \\\"overallqual\\\",\\n        \\\"grlivarea\\\",\\n        #         \\\"totrmsabvgrd\\\",\\n        \\\"fireplaces\\\",\\n        \\\"saleprice\\\",\\n        \\\"NoRidge\\\",\\n        \\\"NridgHt\\\",\\n        #         \\\"NAmes\\\",\\n        #         \\\"OldTown\\\",\\n    ]\\n]\";\n",
       "                var nbb_formatted_code = \"var_df = df2[\\n    [\\n        \\\"yearbuilt\\\",\\n        \\\"baths_full\\\",\\n        \\\"overallqual\\\",\\n        \\\"grlivarea\\\",\\n        #         \\\"totrmsabvgrd\\\",\\n        \\\"fireplaces\\\",\\n        \\\"saleprice\\\",\\n        \\\"NoRidge\\\",\\n        \\\"NridgHt\\\",\\n        #         \\\"NAmes\\\",\\n        #         \\\"OldTown\\\",\\n    ]\\n]\";\n",
       "                var nbb_cells = Jupyter.notebook.get_cells();\n",
       "                for (var i = 0; i < nbb_cells.length; ++i) {\n",
       "                    if (nbb_cells[i].input_prompt_number == nbb_cell_id) {\n",
       "                        if (nbb_cells[i].get_text() == nbb_unformatted_code) {\n",
       "                             nbb_cells[i].set_text(nbb_formatted_code);\n",
       "                        }\n",
       "                        break;\n",
       "                    }\n",
       "                }\n",
       "            }, 500);\n",
       "            "
      ],
      "text/plain": [
       "<IPython.core.display.Javascript object>"
      ]
     },
     "metadata": {},
     "output_type": "display_data"
    },
    {
     "data": {
      "application/javascript": [
       "\n",
       "            setTimeout(function() {\n",
       "                var nbb_cell_id = 48;\n",
       "                var nbb_unformatted_code = \"var_df = df2[\\n    [\\n        \\\"yearbuilt\\\",\\n        \\\"baths_full\\\",\\n        \\\"overallqual\\\",\\n        \\\"grlivarea\\\",\\n        #         \\\"totrmsabvgrd\\\",\\n        \\\"fireplaces\\\",\\n        \\\"saleprice\\\",\\n        \\\"NoRidge\\\",\\n        \\\"NridgHt\\\",\\n        #         \\\"NAmes\\\",\\n        #         \\\"OldTown\\\",\\n    ]\\n]\";\n",
       "                var nbb_formatted_code = \"var_df = df2[\\n    [\\n        \\\"yearbuilt\\\",\\n        \\\"baths_full\\\",\\n        \\\"overallqual\\\",\\n        \\\"grlivarea\\\",\\n        #         \\\"totrmsabvgrd\\\",\\n        \\\"fireplaces\\\",\\n        \\\"saleprice\\\",\\n        \\\"NoRidge\\\",\\n        \\\"NridgHt\\\",\\n        #         \\\"NAmes\\\",\\n        #         \\\"OldTown\\\",\\n    ]\\n]\";\n",
       "                var nbb_cells = Jupyter.notebook.get_cells();\n",
       "                for (var i = 0; i < nbb_cells.length; ++i) {\n",
       "                    if (nbb_cells[i].input_prompt_number == nbb_cell_id) {\n",
       "                        if (nbb_cells[i].get_text() == nbb_unformatted_code) {\n",
       "                             nbb_cells[i].set_text(nbb_formatted_code);\n",
       "                        }\n",
       "                        break;\n",
       "                    }\n",
       "                }\n",
       "            }, 500);\n",
       "            "
      ],
      "text/plain": [
       "<IPython.core.display.Javascript object>"
      ]
     },
     "metadata": {},
     "output_type": "display_data"
    }
   ],
   "source": [
    "var_df = df2[\n",
    "    [\n",
    "        \"yearbuilt\",\n",
    "        \"baths_full\",\n",
    "        \"overallqual\",\n",
    "        \"grlivarea\",\n",
    "        #         \"totrmsabvgrd\",\n",
    "        \"fireplaces\",\n",
    "        \"saleprice\",\n",
    "        \"NoRidge\",\n",
    "        \"NridgHt\",\n",
    "        #         \"NAmes\",\n",
    "        #         \"OldTown\",\n",
    "    ]\n",
    "]"
   ]
  },
  {
   "cell_type": "code",
   "execution_count": 49,
   "metadata": {},
   "outputs": [
    {
     "data": {
      "application/javascript": [
       "\n",
       "            setTimeout(function() {\n",
       "                var nbb_cell_id = 49;\n",
       "                var nbb_unformatted_code = \"# sns.pairplot(var_df)\\n# plt.show()\";\n",
       "                var nbb_formatted_code = \"# sns.pairplot(var_df)\\n# plt.show()\";\n",
       "                var nbb_cells = Jupyter.notebook.get_cells();\n",
       "                for (var i = 0; i < nbb_cells.length; ++i) {\n",
       "                    if (nbb_cells[i].input_prompt_number == nbb_cell_id) {\n",
       "                        if (nbb_cells[i].get_text() == nbb_unformatted_code) {\n",
       "                             nbb_cells[i].set_text(nbb_formatted_code);\n",
       "                        }\n",
       "                        break;\n",
       "                    }\n",
       "                }\n",
       "            }, 500);\n",
       "            "
      ],
      "text/plain": [
       "<IPython.core.display.Javascript object>"
      ]
     },
     "metadata": {},
     "output_type": "display_data"
    },
    {
     "data": {
      "application/javascript": [
       "\n",
       "            setTimeout(function() {\n",
       "                var nbb_cell_id = 49;\n",
       "                var nbb_unformatted_code = \"# sns.pairplot(var_df)\\n# plt.show()\";\n",
       "                var nbb_formatted_code = \"# sns.pairplot(var_df)\\n# plt.show()\";\n",
       "                var nbb_cells = Jupyter.notebook.get_cells();\n",
       "                for (var i = 0; i < nbb_cells.length; ++i) {\n",
       "                    if (nbb_cells[i].input_prompt_number == nbb_cell_id) {\n",
       "                        if (nbb_cells[i].get_text() == nbb_unformatted_code) {\n",
       "                             nbb_cells[i].set_text(nbb_formatted_code);\n",
       "                        }\n",
       "                        break;\n",
       "                    }\n",
       "                }\n",
       "            }, 500);\n",
       "            "
      ],
      "text/plain": [
       "<IPython.core.display.Javascript object>"
      ]
     },
     "metadata": {},
     "output_type": "display_data"
    },
    {
     "data": {
      "application/javascript": [
       "\n",
       "            setTimeout(function() {\n",
       "                var nbb_cell_id = 49;\n",
       "                var nbb_unformatted_code = \"# sns.pairplot(var_df)\\n# plt.show()\";\n",
       "                var nbb_formatted_code = \"# sns.pairplot(var_df)\\n# plt.show()\";\n",
       "                var nbb_cells = Jupyter.notebook.get_cells();\n",
       "                for (var i = 0; i < nbb_cells.length; ++i) {\n",
       "                    if (nbb_cells[i].input_prompt_number == nbb_cell_id) {\n",
       "                        if (nbb_cells[i].get_text() == nbb_unformatted_code) {\n",
       "                             nbb_cells[i].set_text(nbb_formatted_code);\n",
       "                        }\n",
       "                        break;\n",
       "                    }\n",
       "                }\n",
       "            }, 500);\n",
       "            "
      ],
      "text/plain": [
       "<IPython.core.display.Javascript object>"
      ]
     },
     "metadata": {},
     "output_type": "display_data"
    },
    {
     "data": {
      "application/javascript": [
       "\n",
       "            setTimeout(function() {\n",
       "                var nbb_cell_id = 49;\n",
       "                var nbb_unformatted_code = \"# sns.pairplot(var_df)\\n# plt.show()\";\n",
       "                var nbb_formatted_code = \"# sns.pairplot(var_df)\\n# plt.show()\";\n",
       "                var nbb_cells = Jupyter.notebook.get_cells();\n",
       "                for (var i = 0; i < nbb_cells.length; ++i) {\n",
       "                    if (nbb_cells[i].input_prompt_number == nbb_cell_id) {\n",
       "                        if (nbb_cells[i].get_text() == nbb_unformatted_code) {\n",
       "                             nbb_cells[i].set_text(nbb_formatted_code);\n",
       "                        }\n",
       "                        break;\n",
       "                    }\n",
       "                }\n",
       "            }, 500);\n",
       "            "
      ],
      "text/plain": [
       "<IPython.core.display.Javascript object>"
      ]
     },
     "metadata": {},
     "output_type": "display_data"
    }
   ],
   "source": [
    "# sns.pairplot(var_df)\n",
    "# plt.show()"
   ]
  },
  {
   "cell_type": "markdown",
   "metadata": {},
   "source": [
    "# Linear Regression Model"
   ]
  },
  {
   "cell_type": "code",
   "execution_count": 50,
   "metadata": {},
   "outputs": [
    {
     "data": {
      "application/javascript": [
       "\n",
       "            setTimeout(function() {\n",
       "                var nbb_cell_id = 50;\n",
       "                var nbb_unformatted_code = \"# create X and y vars for model\\nX = var_df.drop(columns=\\\"saleprice\\\")\\ny = var_df.saleprice\\n\\nX_train, X_test, y_train, y_test = train_test_split(\\n    X, y, test_size=0.25, random_state=7\\n)\";\n",
       "                var nbb_formatted_code = \"# create X and y vars for model\\nX = var_df.drop(columns=\\\"saleprice\\\")\\ny = var_df.saleprice\\n\\nX_train, X_test, y_train, y_test = train_test_split(\\n    X, y, test_size=0.25, random_state=7\\n)\";\n",
       "                var nbb_cells = Jupyter.notebook.get_cells();\n",
       "                for (var i = 0; i < nbb_cells.length; ++i) {\n",
       "                    if (nbb_cells[i].input_prompt_number == nbb_cell_id) {\n",
       "                        if (nbb_cells[i].get_text() == nbb_unformatted_code) {\n",
       "                             nbb_cells[i].set_text(nbb_formatted_code);\n",
       "                        }\n",
       "                        break;\n",
       "                    }\n",
       "                }\n",
       "            }, 500);\n",
       "            "
      ],
      "text/plain": [
       "<IPython.core.display.Javascript object>"
      ]
     },
     "metadata": {},
     "output_type": "display_data"
    },
    {
     "data": {
      "application/javascript": [
       "\n",
       "            setTimeout(function() {\n",
       "                var nbb_cell_id = 50;\n",
       "                var nbb_unformatted_code = \"# create X and y vars for model\\nX = var_df.drop(columns=\\\"saleprice\\\")\\ny = var_df.saleprice\\n\\nX_train, X_test, y_train, y_test = train_test_split(\\n    X, y, test_size=0.25, random_state=7\\n)\";\n",
       "                var nbb_formatted_code = \"# create X and y vars for model\\nX = var_df.drop(columns=\\\"saleprice\\\")\\ny = var_df.saleprice\\n\\nX_train, X_test, y_train, y_test = train_test_split(\\n    X, y, test_size=0.25, random_state=7\\n)\";\n",
       "                var nbb_cells = Jupyter.notebook.get_cells();\n",
       "                for (var i = 0; i < nbb_cells.length; ++i) {\n",
       "                    if (nbb_cells[i].input_prompt_number == nbb_cell_id) {\n",
       "                        if (nbb_cells[i].get_text() == nbb_unformatted_code) {\n",
       "                             nbb_cells[i].set_text(nbb_formatted_code);\n",
       "                        }\n",
       "                        break;\n",
       "                    }\n",
       "                }\n",
       "            }, 500);\n",
       "            "
      ],
      "text/plain": [
       "<IPython.core.display.Javascript object>"
      ]
     },
     "metadata": {},
     "output_type": "display_data"
    },
    {
     "data": {
      "application/javascript": [
       "\n",
       "            setTimeout(function() {\n",
       "                var nbb_cell_id = 50;\n",
       "                var nbb_unformatted_code = \"# create X and y vars for model\\nX = var_df.drop(columns=\\\"saleprice\\\")\\ny = var_df.saleprice\\n\\nX_train, X_test, y_train, y_test = train_test_split(\\n    X, y, test_size=0.25, random_state=7\\n)\";\n",
       "                var nbb_formatted_code = \"# create X and y vars for model\\nX = var_df.drop(columns=\\\"saleprice\\\")\\ny = var_df.saleprice\\n\\nX_train, X_test, y_train, y_test = train_test_split(\\n    X, y, test_size=0.25, random_state=7\\n)\";\n",
       "                var nbb_cells = Jupyter.notebook.get_cells();\n",
       "                for (var i = 0; i < nbb_cells.length; ++i) {\n",
       "                    if (nbb_cells[i].input_prompt_number == nbb_cell_id) {\n",
       "                        if (nbb_cells[i].get_text() == nbb_unformatted_code) {\n",
       "                             nbb_cells[i].set_text(nbb_formatted_code);\n",
       "                        }\n",
       "                        break;\n",
       "                    }\n",
       "                }\n",
       "            }, 500);\n",
       "            "
      ],
      "text/plain": [
       "<IPython.core.display.Javascript object>"
      ]
     },
     "metadata": {},
     "output_type": "display_data"
    },
    {
     "data": {
      "application/javascript": [
       "\n",
       "            setTimeout(function() {\n",
       "                var nbb_cell_id = 50;\n",
       "                var nbb_unformatted_code = \"# create X and y vars for model\\nX = var_df.drop(columns=\\\"saleprice\\\")\\ny = var_df.saleprice\\n\\nX_train, X_test, y_train, y_test = train_test_split(\\n    X, y, test_size=0.25, random_state=7\\n)\";\n",
       "                var nbb_formatted_code = \"# create X and y vars for model\\nX = var_df.drop(columns=\\\"saleprice\\\")\\ny = var_df.saleprice\\n\\nX_train, X_test, y_train, y_test = train_test_split(\\n    X, y, test_size=0.25, random_state=7\\n)\";\n",
       "                var nbb_cells = Jupyter.notebook.get_cells();\n",
       "                for (var i = 0; i < nbb_cells.length; ++i) {\n",
       "                    if (nbb_cells[i].input_prompt_number == nbb_cell_id) {\n",
       "                        if (nbb_cells[i].get_text() == nbb_unformatted_code) {\n",
       "                             nbb_cells[i].set_text(nbb_formatted_code);\n",
       "                        }\n",
       "                        break;\n",
       "                    }\n",
       "                }\n",
       "            }, 500);\n",
       "            "
      ],
      "text/plain": [
       "<IPython.core.display.Javascript object>"
      ]
     },
     "metadata": {},
     "output_type": "display_data"
    }
   ],
   "source": [
    "# create X and y vars for model\n",
    "X = var_df.drop(columns=\"saleprice\")\n",
    "y = var_df.saleprice\n",
    "\n",
    "X_train, X_test, y_train, y_test = train_test_split(\n",
    "    X, y, test_size=0.25, random_state=7\n",
    ")"
   ]
  },
  {
   "cell_type": "code",
   "execution_count": 55,
   "metadata": {},
   "outputs": [
    {
     "data": {
      "application/javascript": [
       "\n",
       "            setTimeout(function() {\n",
       "                var nbb_cell_id = 55;\n",
       "                var nbb_unformatted_code = \"from sklearn.linear_model import LinearRegression\";\n",
       "                var nbb_formatted_code = \"from sklearn.linear_model import LinearRegression\";\n",
       "                var nbb_cells = Jupyter.notebook.get_cells();\n",
       "                for (var i = 0; i < nbb_cells.length; ++i) {\n",
       "                    if (nbb_cells[i].input_prompt_number == nbb_cell_id) {\n",
       "                        if (nbb_cells[i].get_text() == nbb_unformatted_code) {\n",
       "                             nbb_cells[i].set_text(nbb_formatted_code);\n",
       "                        }\n",
       "                        break;\n",
       "                    }\n",
       "                }\n",
       "            }, 500);\n",
       "            "
      ],
      "text/plain": [
       "<IPython.core.display.Javascript object>"
      ]
     },
     "metadata": {},
     "output_type": "display_data"
    },
    {
     "data": {
      "application/javascript": [
       "\n",
       "            setTimeout(function() {\n",
       "                var nbb_cell_id = 55;\n",
       "                var nbb_unformatted_code = \"from sklearn.linear_model import LinearRegression\";\n",
       "                var nbb_formatted_code = \"from sklearn.linear_model import LinearRegression\";\n",
       "                var nbb_cells = Jupyter.notebook.get_cells();\n",
       "                for (var i = 0; i < nbb_cells.length; ++i) {\n",
       "                    if (nbb_cells[i].input_prompt_number == nbb_cell_id) {\n",
       "                        if (nbb_cells[i].get_text() == nbb_unformatted_code) {\n",
       "                             nbb_cells[i].set_text(nbb_formatted_code);\n",
       "                        }\n",
       "                        break;\n",
       "                    }\n",
       "                }\n",
       "            }, 500);\n",
       "            "
      ],
      "text/plain": [
       "<IPython.core.display.Javascript object>"
      ]
     },
     "metadata": {},
     "output_type": "display_data"
    },
    {
     "data": {
      "application/javascript": [
       "\n",
       "            setTimeout(function() {\n",
       "                var nbb_cell_id = 55;\n",
       "                var nbb_unformatted_code = \"from sklearn.linear_model import LinearRegression\";\n",
       "                var nbb_formatted_code = \"from sklearn.linear_model import LinearRegression\";\n",
       "                var nbb_cells = Jupyter.notebook.get_cells();\n",
       "                for (var i = 0; i < nbb_cells.length; ++i) {\n",
       "                    if (nbb_cells[i].input_prompt_number == nbb_cell_id) {\n",
       "                        if (nbb_cells[i].get_text() == nbb_unformatted_code) {\n",
       "                             nbb_cells[i].set_text(nbb_formatted_code);\n",
       "                        }\n",
       "                        break;\n",
       "                    }\n",
       "                }\n",
       "            }, 500);\n",
       "            "
      ],
      "text/plain": [
       "<IPython.core.display.Javascript object>"
      ]
     },
     "metadata": {},
     "output_type": "display_data"
    },
    {
     "data": {
      "application/javascript": [
       "\n",
       "            setTimeout(function() {\n",
       "                var nbb_cell_id = 55;\n",
       "                var nbb_unformatted_code = \"from sklearn.linear_model import LinearRegression\";\n",
       "                var nbb_formatted_code = \"from sklearn.linear_model import LinearRegression\";\n",
       "                var nbb_cells = Jupyter.notebook.get_cells();\n",
       "                for (var i = 0; i < nbb_cells.length; ++i) {\n",
       "                    if (nbb_cells[i].input_prompt_number == nbb_cell_id) {\n",
       "                        if (nbb_cells[i].get_text() == nbb_unformatted_code) {\n",
       "                             nbb_cells[i].set_text(nbb_formatted_code);\n",
       "                        }\n",
       "                        break;\n",
       "                    }\n",
       "                }\n",
       "            }, 500);\n",
       "            "
      ],
      "text/plain": [
       "<IPython.core.display.Javascript object>"
      ]
     },
     "metadata": {},
     "output_type": "display_data"
    }
   ],
   "source": [
    "from sklearn.linear_model import LinearRegression"
   ]
  },
  {
   "cell_type": "code",
   "execution_count": 56,
   "metadata": {},
   "outputs": [
    {
     "name": "stdout",
     "output_type": "stream",
     "text": [
      "[0.00292063 0.06697232 0.1114741  0.00023557 0.07391571 0.06102308\n",
      " 0.08870796]\n",
      "5.044670880207414\n"
     ]
    },
    {
     "data": {
      "application/javascript": [
       "\n",
       "            setTimeout(function() {\n",
       "                var nbb_cell_id = 56;\n",
       "                var nbb_unformatted_code = \"# linear regression model object\\nmodel = LinearRegression()\\n\\n# fit the model to the data\\nmodel.fit(X_train, y_train)\\n\\n# model results\\nprint(model.coef_)\\nprint(model.intercept_)\";\n",
       "                var nbb_formatted_code = \"# linear regression model object\\nmodel = LinearRegression()\\n\\n# fit the model to the data\\nmodel.fit(X_train, y_train)\\n\\n# model results\\nprint(model.coef_)\\nprint(model.intercept_)\";\n",
       "                var nbb_cells = Jupyter.notebook.get_cells();\n",
       "                for (var i = 0; i < nbb_cells.length; ++i) {\n",
       "                    if (nbb_cells[i].input_prompt_number == nbb_cell_id) {\n",
       "                        if (nbb_cells[i].get_text() == nbb_unformatted_code) {\n",
       "                             nbb_cells[i].set_text(nbb_formatted_code);\n",
       "                        }\n",
       "                        break;\n",
       "                    }\n",
       "                }\n",
       "            }, 500);\n",
       "            "
      ],
      "text/plain": [
       "<IPython.core.display.Javascript object>"
      ]
     },
     "metadata": {},
     "output_type": "display_data"
    },
    {
     "data": {
      "application/javascript": [
       "\n",
       "            setTimeout(function() {\n",
       "                var nbb_cell_id = 56;\n",
       "                var nbb_unformatted_code = \"# linear regression model object\\nmodel = LinearRegression()\\n\\n# fit the model to the data\\nmodel.fit(X_train, y_train)\\n\\n# model results\\nprint(model.coef_)\\nprint(model.intercept_)\";\n",
       "                var nbb_formatted_code = \"# linear regression model object\\nmodel = LinearRegression()\\n\\n# fit the model to the data\\nmodel.fit(X_train, y_train)\\n\\n# model results\\nprint(model.coef_)\\nprint(model.intercept_)\";\n",
       "                var nbb_cells = Jupyter.notebook.get_cells();\n",
       "                for (var i = 0; i < nbb_cells.length; ++i) {\n",
       "                    if (nbb_cells[i].input_prompt_number == nbb_cell_id) {\n",
       "                        if (nbb_cells[i].get_text() == nbb_unformatted_code) {\n",
       "                             nbb_cells[i].set_text(nbb_formatted_code);\n",
       "                        }\n",
       "                        break;\n",
       "                    }\n",
       "                }\n",
       "            }, 500);\n",
       "            "
      ],
      "text/plain": [
       "<IPython.core.display.Javascript object>"
      ]
     },
     "metadata": {},
     "output_type": "display_data"
    },
    {
     "data": {
      "application/javascript": [
       "\n",
       "            setTimeout(function() {\n",
       "                var nbb_cell_id = 56;\n",
       "                var nbb_unformatted_code = \"# linear regression model object\\nmodel = LinearRegression()\\n\\n# fit the model to the data\\nmodel.fit(X_train, y_train)\\n\\n# model results\\nprint(model.coef_)\\nprint(model.intercept_)\";\n",
       "                var nbb_formatted_code = \"# linear regression model object\\nmodel = LinearRegression()\\n\\n# fit the model to the data\\nmodel.fit(X_train, y_train)\\n\\n# model results\\nprint(model.coef_)\\nprint(model.intercept_)\";\n",
       "                var nbb_cells = Jupyter.notebook.get_cells();\n",
       "                for (var i = 0; i < nbb_cells.length; ++i) {\n",
       "                    if (nbb_cells[i].input_prompt_number == nbb_cell_id) {\n",
       "                        if (nbb_cells[i].get_text() == nbb_unformatted_code) {\n",
       "                             nbb_cells[i].set_text(nbb_formatted_code);\n",
       "                        }\n",
       "                        break;\n",
       "                    }\n",
       "                }\n",
       "            }, 500);\n",
       "            "
      ],
      "text/plain": [
       "<IPython.core.display.Javascript object>"
      ]
     },
     "metadata": {},
     "output_type": "display_data"
    },
    {
     "data": {
      "application/javascript": [
       "\n",
       "            setTimeout(function() {\n",
       "                var nbb_cell_id = 56;\n",
       "                var nbb_unformatted_code = \"# linear regression model object\\nmodel = LinearRegression()\\n\\n# fit the model to the data\\nmodel.fit(X_train, y_train)\\n\\n# model results\\nprint(model.coef_)\\nprint(model.intercept_)\";\n",
       "                var nbb_formatted_code = \"# linear regression model object\\nmodel = LinearRegression()\\n\\n# fit the model to the data\\nmodel.fit(X_train, y_train)\\n\\n# model results\\nprint(model.coef_)\\nprint(model.intercept_)\";\n",
       "                var nbb_cells = Jupyter.notebook.get_cells();\n",
       "                for (var i = 0; i < nbb_cells.length; ++i) {\n",
       "                    if (nbb_cells[i].input_prompt_number == nbb_cell_id) {\n",
       "                        if (nbb_cells[i].get_text() == nbb_unformatted_code) {\n",
       "                             nbb_cells[i].set_text(nbb_formatted_code);\n",
       "                        }\n",
       "                        break;\n",
       "                    }\n",
       "                }\n",
       "            }, 500);\n",
       "            "
      ],
      "text/plain": [
       "<IPython.core.display.Javascript object>"
      ]
     },
     "metadata": {},
     "output_type": "display_data"
    }
   ],
   "source": [
    "# linear regression model object\n",
    "model = LinearRegression()\n",
    "\n",
    "# fit the model to the data\n",
    "model.fit(X_train, y_train)\n",
    "\n",
    "# model results\n",
    "print(model.coef_)\n",
    "print(model.intercept_)"
   ]
  },
  {
   "cell_type": "code",
   "execution_count": 57,
   "metadata": {
    "scrolled": true
   },
   "outputs": [
    {
     "data": {
      "text/plain": [
       "0.8193832324201178"
      ]
     },
     "execution_count": 57,
     "metadata": {},
     "output_type": "execute_result"
    },
    {
     "data": {
      "application/javascript": [
       "\n",
       "            setTimeout(function() {\n",
       "                var nbb_cell_id = 57;\n",
       "                var nbb_unformatted_code = \"# model train score\\nmodel.score(X_train, y_train)\";\n",
       "                var nbb_formatted_code = \"# model train score\\nmodel.score(X_train, y_train)\";\n",
       "                var nbb_cells = Jupyter.notebook.get_cells();\n",
       "                for (var i = 0; i < nbb_cells.length; ++i) {\n",
       "                    if (nbb_cells[i].input_prompt_number == nbb_cell_id) {\n",
       "                        if (nbb_cells[i].get_text() == nbb_unformatted_code) {\n",
       "                             nbb_cells[i].set_text(nbb_formatted_code);\n",
       "                        }\n",
       "                        break;\n",
       "                    }\n",
       "                }\n",
       "            }, 500);\n",
       "            "
      ],
      "text/plain": [
       "<IPython.core.display.Javascript object>"
      ]
     },
     "metadata": {},
     "output_type": "display_data"
    },
    {
     "data": {
      "application/javascript": [
       "\n",
       "            setTimeout(function() {\n",
       "                var nbb_cell_id = 57;\n",
       "                var nbb_unformatted_code = \"# model train score\\nmodel.score(X_train, y_train)\";\n",
       "                var nbb_formatted_code = \"# model train score\\nmodel.score(X_train, y_train)\";\n",
       "                var nbb_cells = Jupyter.notebook.get_cells();\n",
       "                for (var i = 0; i < nbb_cells.length; ++i) {\n",
       "                    if (nbb_cells[i].input_prompt_number == nbb_cell_id) {\n",
       "                        if (nbb_cells[i].get_text() == nbb_unformatted_code) {\n",
       "                             nbb_cells[i].set_text(nbb_formatted_code);\n",
       "                        }\n",
       "                        break;\n",
       "                    }\n",
       "                }\n",
       "            }, 500);\n",
       "            "
      ],
      "text/plain": [
       "<IPython.core.display.Javascript object>"
      ]
     },
     "metadata": {},
     "output_type": "display_data"
    },
    {
     "data": {
      "application/javascript": [
       "\n",
       "            setTimeout(function() {\n",
       "                var nbb_cell_id = 57;\n",
       "                var nbb_unformatted_code = \"# model train score\\nmodel.score(X_train, y_train)\";\n",
       "                var nbb_formatted_code = \"# model train score\\nmodel.score(X_train, y_train)\";\n",
       "                var nbb_cells = Jupyter.notebook.get_cells();\n",
       "                for (var i = 0; i < nbb_cells.length; ++i) {\n",
       "                    if (nbb_cells[i].input_prompt_number == nbb_cell_id) {\n",
       "                        if (nbb_cells[i].get_text() == nbb_unformatted_code) {\n",
       "                             nbb_cells[i].set_text(nbb_formatted_code);\n",
       "                        }\n",
       "                        break;\n",
       "                    }\n",
       "                }\n",
       "            }, 500);\n",
       "            "
      ],
      "text/plain": [
       "<IPython.core.display.Javascript object>"
      ]
     },
     "metadata": {},
     "output_type": "display_data"
    },
    {
     "data": {
      "application/javascript": [
       "\n",
       "            setTimeout(function() {\n",
       "                var nbb_cell_id = 57;\n",
       "                var nbb_unformatted_code = \"# model train score\\nmodel.score(X_train, y_train)\";\n",
       "                var nbb_formatted_code = \"# model train score\\nmodel.score(X_train, y_train)\";\n",
       "                var nbb_cells = Jupyter.notebook.get_cells();\n",
       "                for (var i = 0; i < nbb_cells.length; ++i) {\n",
       "                    if (nbb_cells[i].input_prompt_number == nbb_cell_id) {\n",
       "                        if (nbb_cells[i].get_text() == nbb_unformatted_code) {\n",
       "                             nbb_cells[i].set_text(nbb_formatted_code);\n",
       "                        }\n",
       "                        break;\n",
       "                    }\n",
       "                }\n",
       "            }, 500);\n",
       "            "
      ],
      "text/plain": [
       "<IPython.core.display.Javascript object>"
      ]
     },
     "metadata": {},
     "output_type": "display_data"
    }
   ],
   "source": [
    "# model train score\n",
    "model.score(X_train, y_train)"
   ]
  },
  {
   "cell_type": "code",
   "execution_count": 58,
   "metadata": {},
   "outputs": [
    {
     "data": {
      "text/plain": [
       "0.7769057951305667"
      ]
     },
     "execution_count": 58,
     "metadata": {},
     "output_type": "execute_result"
    },
    {
     "data": {
      "application/javascript": [
       "\n",
       "            setTimeout(function() {\n",
       "                var nbb_cell_id = 58;\n",
       "                var nbb_unformatted_code = \"# model test score\\nmodel.score(X_test, y_test)\";\n",
       "                var nbb_formatted_code = \"# model test score\\nmodel.score(X_test, y_test)\";\n",
       "                var nbb_cells = Jupyter.notebook.get_cells();\n",
       "                for (var i = 0; i < nbb_cells.length; ++i) {\n",
       "                    if (nbb_cells[i].input_prompt_number == nbb_cell_id) {\n",
       "                        if (nbb_cells[i].get_text() == nbb_unformatted_code) {\n",
       "                             nbb_cells[i].set_text(nbb_formatted_code);\n",
       "                        }\n",
       "                        break;\n",
       "                    }\n",
       "                }\n",
       "            }, 500);\n",
       "            "
      ],
      "text/plain": [
       "<IPython.core.display.Javascript object>"
      ]
     },
     "metadata": {},
     "output_type": "display_data"
    },
    {
     "data": {
      "application/javascript": [
       "\n",
       "            setTimeout(function() {\n",
       "                var nbb_cell_id = 58;\n",
       "                var nbb_unformatted_code = \"# model test score\\nmodel.score(X_test, y_test)\";\n",
       "                var nbb_formatted_code = \"# model test score\\nmodel.score(X_test, y_test)\";\n",
       "                var nbb_cells = Jupyter.notebook.get_cells();\n",
       "                for (var i = 0; i < nbb_cells.length; ++i) {\n",
       "                    if (nbb_cells[i].input_prompt_number == nbb_cell_id) {\n",
       "                        if (nbb_cells[i].get_text() == nbb_unformatted_code) {\n",
       "                             nbb_cells[i].set_text(nbb_formatted_code);\n",
       "                        }\n",
       "                        break;\n",
       "                    }\n",
       "                }\n",
       "            }, 500);\n",
       "            "
      ],
      "text/plain": [
       "<IPython.core.display.Javascript object>"
      ]
     },
     "metadata": {},
     "output_type": "display_data"
    },
    {
     "data": {
      "application/javascript": [
       "\n",
       "            setTimeout(function() {\n",
       "                var nbb_cell_id = 58;\n",
       "                var nbb_unformatted_code = \"# model test score\\nmodel.score(X_test, y_test)\";\n",
       "                var nbb_formatted_code = \"# model test score\\nmodel.score(X_test, y_test)\";\n",
       "                var nbb_cells = Jupyter.notebook.get_cells();\n",
       "                for (var i = 0; i < nbb_cells.length; ++i) {\n",
       "                    if (nbb_cells[i].input_prompt_number == nbb_cell_id) {\n",
       "                        if (nbb_cells[i].get_text() == nbb_unformatted_code) {\n",
       "                             nbb_cells[i].set_text(nbb_formatted_code);\n",
       "                        }\n",
       "                        break;\n",
       "                    }\n",
       "                }\n",
       "            }, 500);\n",
       "            "
      ],
      "text/plain": [
       "<IPython.core.display.Javascript object>"
      ]
     },
     "metadata": {},
     "output_type": "display_data"
    },
    {
     "data": {
      "application/javascript": [
       "\n",
       "            setTimeout(function() {\n",
       "                var nbb_cell_id = 58;\n",
       "                var nbb_unformatted_code = \"# model test score\\nmodel.score(X_test, y_test)\";\n",
       "                var nbb_formatted_code = \"# model test score\\nmodel.score(X_test, y_test)\";\n",
       "                var nbb_cells = Jupyter.notebook.get_cells();\n",
       "                for (var i = 0; i < nbb_cells.length; ++i) {\n",
       "                    if (nbb_cells[i].input_prompt_number == nbb_cell_id) {\n",
       "                        if (nbb_cells[i].get_text() == nbb_unformatted_code) {\n",
       "                             nbb_cells[i].set_text(nbb_formatted_code);\n",
       "                        }\n",
       "                        break;\n",
       "                    }\n",
       "                }\n",
       "            }, 500);\n",
       "            "
      ],
      "text/plain": [
       "<IPython.core.display.Javascript object>"
      ]
     },
     "metadata": {},
     "output_type": "display_data"
    }
   ],
   "source": [
    "# model test score\n",
    "model.score(X_test, y_test)"
   ]
  },
  {
   "cell_type": "code",
   "execution_count": 59,
   "metadata": {
    "scrolled": false
   },
   "outputs": [
    {
     "data": {
      "text/html": [
       "<table class=\"simpletable\">\n",
       "<caption>OLS Regression Results</caption>\n",
       "<tr>\n",
       "  <th>Dep. Variable:</th>        <td>saleprice</td>    <th>  R-squared:         </th> <td>   0.809</td>\n",
       "</tr>\n",
       "<tr>\n",
       "  <th>Model:</th>                   <td>OLS</td>       <th>  Adj. R-squared:    </th> <td>   0.808</td>\n",
       "</tr>\n",
       "<tr>\n",
       "  <th>Method:</th>             <td>Least Squares</td>  <th>  F-statistic:       </th> <td>   875.4</td>\n",
       "</tr>\n",
       "<tr>\n",
       "  <th>Date:</th>             <td>Wed, 09 Dec 2020</td> <th>  Prob (F-statistic):</th>  <td>  0.00</td> \n",
       "</tr>\n",
       "<tr>\n",
       "  <th>Time:</th>                 <td>16:02:13</td>     <th>  Log-Likelihood:    </th> <td>  474.55</td>\n",
       "</tr>\n",
       "<tr>\n",
       "  <th>No. Observations:</th>      <td>  1459</td>      <th>  AIC:               </th> <td>  -933.1</td>\n",
       "</tr>\n",
       "<tr>\n",
       "  <th>Df Residuals:</th>          <td>  1451</td>      <th>  BIC:               </th> <td>  -890.8</td>\n",
       "</tr>\n",
       "<tr>\n",
       "  <th>Df Model:</th>              <td>     7</td>      <th>                     </th>     <td> </td>   \n",
       "</tr>\n",
       "<tr>\n",
       "  <th>Covariance Type:</th>      <td>nonrobust</td>    <th>                     </th>     <td> </td>   \n",
       "</tr>\n",
       "</table>\n",
       "<table class=\"simpletable\">\n",
       "<tr>\n",
       "       <td></td>          <th>coef</th>     <th>std err</th>      <th>t</th>      <th>P>|t|</th>  <th>[0.025</th>    <th>0.975]</th>  \n",
       "</tr>\n",
       "<tr>\n",
       "  <th>const</th>       <td>    5.4173</td> <td>    0.390</td> <td>   13.878</td> <td> 0.000</td> <td>    4.652</td> <td>    6.183</td>\n",
       "</tr>\n",
       "<tr>\n",
       "  <th>yearbuilt</th>   <td>    0.0027</td> <td>    0.000</td> <td>   13.317</td> <td> 0.000</td> <td>    0.002</td> <td>    0.003</td>\n",
       "</tr>\n",
       "<tr>\n",
       "  <th>baths_full</th>  <td>    0.0696</td> <td>    0.008</td> <td>    8.564</td> <td> 0.000</td> <td>    0.054</td> <td>    0.086</td>\n",
       "</tr>\n",
       "<tr>\n",
       "  <th>overallqual</th> <td>    0.1116</td> <td>    0.005</td> <td>   21.193</td> <td> 0.000</td> <td>    0.101</td> <td>    0.122</td>\n",
       "</tr>\n",
       "<tr>\n",
       "  <th>grlivarea</th>   <td>    0.0002</td> <td> 1.28e-05</td> <td>   17.182</td> <td> 0.000</td> <td>    0.000</td> <td>    0.000</td>\n",
       "</tr>\n",
       "<tr>\n",
       "  <th>fireplaces</th>  <td>    0.0764</td> <td>    0.008</td> <td>    9.360</td> <td> 0.000</td> <td>    0.060</td> <td>    0.092</td>\n",
       "</tr>\n",
       "<tr>\n",
       "  <th>NoRidge</th>     <td>    0.0796</td> <td>    0.030</td> <td>    2.682</td> <td> 0.007</td> <td>    0.021</td> <td>    0.138</td>\n",
       "</tr>\n",
       "<tr>\n",
       "  <th>NridgHt</th>     <td>    0.1062</td> <td>    0.022</td> <td>    4.749</td> <td> 0.000</td> <td>    0.062</td> <td>    0.150</td>\n",
       "</tr>\n",
       "</table>\n",
       "<table class=\"simpletable\">\n",
       "<tr>\n",
       "  <th>Omnibus:</th>       <td>610.166</td> <th>  Durbin-Watson:     </th> <td>   1.974</td>\n",
       "</tr>\n",
       "<tr>\n",
       "  <th>Prob(Omnibus):</th> <td> 0.000</td>  <th>  Jarque-Bera (JB):  </th> <td>8073.518</td>\n",
       "</tr>\n",
       "<tr>\n",
       "  <th>Skew:</th>          <td>-1.577</td>  <th>  Prob(JB):          </th> <td>    0.00</td>\n",
       "</tr>\n",
       "<tr>\n",
       "  <th>Kurtosis:</th>      <td>14.084</td>  <th>  Cond. No.          </th> <td>2.13e+05</td>\n",
       "</tr>\n",
       "</table><br/><br/>Warnings:<br/>[1] Standard Errors assume that the covariance matrix of the errors is correctly specified.<br/>[2] The condition number is large, 2.13e+05. This might indicate that there are<br/>strong multicollinearity or other numerical problems."
      ],
      "text/plain": [
       "<class 'statsmodels.iolib.summary.Summary'>\n",
       "\"\"\"\n",
       "                            OLS Regression Results                            \n",
       "==============================================================================\n",
       "Dep. Variable:              saleprice   R-squared:                       0.809\n",
       "Model:                            OLS   Adj. R-squared:                  0.808\n",
       "Method:                 Least Squares   F-statistic:                     875.4\n",
       "Date:                Wed, 09 Dec 2020   Prob (F-statistic):               0.00\n",
       "Time:                        16:02:13   Log-Likelihood:                 474.55\n",
       "No. Observations:                1459   AIC:                            -933.1\n",
       "Df Residuals:                    1451   BIC:                            -890.8\n",
       "Df Model:                           7                                         \n",
       "Covariance Type:            nonrobust                                         \n",
       "===============================================================================\n",
       "                  coef    std err          t      P>|t|      [0.025      0.975]\n",
       "-------------------------------------------------------------------------------\n",
       "const           5.4173      0.390     13.878      0.000       4.652       6.183\n",
       "yearbuilt       0.0027      0.000     13.317      0.000       0.002       0.003\n",
       "baths_full      0.0696      0.008      8.564      0.000       0.054       0.086\n",
       "overallqual     0.1116      0.005     21.193      0.000       0.101       0.122\n",
       "grlivarea       0.0002   1.28e-05     17.182      0.000       0.000       0.000\n",
       "fireplaces      0.0764      0.008      9.360      0.000       0.060       0.092\n",
       "NoRidge         0.0796      0.030      2.682      0.007       0.021       0.138\n",
       "NridgHt         0.1062      0.022      4.749      0.000       0.062       0.150\n",
       "==============================================================================\n",
       "Omnibus:                      610.166   Durbin-Watson:                   1.974\n",
       "Prob(Omnibus):                  0.000   Jarque-Bera (JB):             8073.518\n",
       "Skew:                          -1.577   Prob(JB):                         0.00\n",
       "Kurtosis:                      14.084   Cond. No.                     2.13e+05\n",
       "==============================================================================\n",
       "\n",
       "Warnings:\n",
       "[1] Standard Errors assume that the covariance matrix of the errors is correctly specified.\n",
       "[2] The condition number is large, 2.13e+05. This might indicate that there are\n",
       "strong multicollinearity or other numerical problems.\n",
       "\"\"\""
      ]
     },
     "execution_count": 59,
     "metadata": {},
     "output_type": "execute_result"
    },
    {
     "data": {
      "application/javascript": [
       "\n",
       "            setTimeout(function() {\n",
       "                var nbb_cell_id = 59;\n",
       "                var nbb_unformatted_code = \"import statsmodels.api as sm\\n\\n# You need to manually add a constant\\n# in statsmodels' sm\\nX = sm.add_constant(X)\\n\\nresults = sm.OLS(y, X).fit()\\n\\nresults.summary()\";\n",
       "                var nbb_formatted_code = \"import statsmodels.api as sm\\n\\n# You need to manually add a constant\\n# in statsmodels' sm\\nX = sm.add_constant(X)\\n\\nresults = sm.OLS(y, X).fit()\\n\\nresults.summary()\";\n",
       "                var nbb_cells = Jupyter.notebook.get_cells();\n",
       "                for (var i = 0; i < nbb_cells.length; ++i) {\n",
       "                    if (nbb_cells[i].input_prompt_number == nbb_cell_id) {\n",
       "                        if (nbb_cells[i].get_text() == nbb_unformatted_code) {\n",
       "                             nbb_cells[i].set_text(nbb_formatted_code);\n",
       "                        }\n",
       "                        break;\n",
       "                    }\n",
       "                }\n",
       "            }, 500);\n",
       "            "
      ],
      "text/plain": [
       "<IPython.core.display.Javascript object>"
      ]
     },
     "metadata": {},
     "output_type": "display_data"
    },
    {
     "data": {
      "application/javascript": [
       "\n",
       "            setTimeout(function() {\n",
       "                var nbb_cell_id = 59;\n",
       "                var nbb_unformatted_code = \"import statsmodels.api as sm\\n\\n# You need to manually add a constant\\n# in statsmodels' sm\\nX = sm.add_constant(X)\\n\\nresults = sm.OLS(y, X).fit()\\n\\nresults.summary()\";\n",
       "                var nbb_formatted_code = \"import statsmodels.api as sm\\n\\n# You need to manually add a constant\\n# in statsmodels' sm\\nX = sm.add_constant(X)\\n\\nresults = sm.OLS(y, X).fit()\\n\\nresults.summary()\";\n",
       "                var nbb_cells = Jupyter.notebook.get_cells();\n",
       "                for (var i = 0; i < nbb_cells.length; ++i) {\n",
       "                    if (nbb_cells[i].input_prompt_number == nbb_cell_id) {\n",
       "                        if (nbb_cells[i].get_text() == nbb_unformatted_code) {\n",
       "                             nbb_cells[i].set_text(nbb_formatted_code);\n",
       "                        }\n",
       "                        break;\n",
       "                    }\n",
       "                }\n",
       "            }, 500);\n",
       "            "
      ],
      "text/plain": [
       "<IPython.core.display.Javascript object>"
      ]
     },
     "metadata": {},
     "output_type": "display_data"
    },
    {
     "data": {
      "application/javascript": [
       "\n",
       "            setTimeout(function() {\n",
       "                var nbb_cell_id = 59;\n",
       "                var nbb_unformatted_code = \"import statsmodels.api as sm\\n\\n# You need to manually add a constant\\n# in statsmodels' sm\\nX = sm.add_constant(X)\\n\\nresults = sm.OLS(y, X).fit()\\n\\nresults.summary()\";\n",
       "                var nbb_formatted_code = \"import statsmodels.api as sm\\n\\n# You need to manually add a constant\\n# in statsmodels' sm\\nX = sm.add_constant(X)\\n\\nresults = sm.OLS(y, X).fit()\\n\\nresults.summary()\";\n",
       "                var nbb_cells = Jupyter.notebook.get_cells();\n",
       "                for (var i = 0; i < nbb_cells.length; ++i) {\n",
       "                    if (nbb_cells[i].input_prompt_number == nbb_cell_id) {\n",
       "                        if (nbb_cells[i].get_text() == nbb_unformatted_code) {\n",
       "                             nbb_cells[i].set_text(nbb_formatted_code);\n",
       "                        }\n",
       "                        break;\n",
       "                    }\n",
       "                }\n",
       "            }, 500);\n",
       "            "
      ],
      "text/plain": [
       "<IPython.core.display.Javascript object>"
      ]
     },
     "metadata": {},
     "output_type": "display_data"
    },
    {
     "data": {
      "application/javascript": [
       "\n",
       "            setTimeout(function() {\n",
       "                var nbb_cell_id = 59;\n",
       "                var nbb_unformatted_code = \"import statsmodels.api as sm\\n\\n# You need to manually add a constant\\n# in statsmodels' sm\\nX = sm.add_constant(X)\\n\\nresults = sm.OLS(y, X).fit()\\n\\nresults.summary()\";\n",
       "                var nbb_formatted_code = \"import statsmodels.api as sm\\n\\n# You need to manually add a constant\\n# in statsmodels' sm\\nX = sm.add_constant(X)\\n\\nresults = sm.OLS(y, X).fit()\\n\\nresults.summary()\";\n",
       "                var nbb_cells = Jupyter.notebook.get_cells();\n",
       "                for (var i = 0; i < nbb_cells.length; ++i) {\n",
       "                    if (nbb_cells[i].input_prompt_number == nbb_cell_id) {\n",
       "                        if (nbb_cells[i].get_text() == nbb_unformatted_code) {\n",
       "                             nbb_cells[i].set_text(nbb_formatted_code);\n",
       "                        }\n",
       "                        break;\n",
       "                    }\n",
       "                }\n",
       "            }, 500);\n",
       "            "
      ],
      "text/plain": [
       "<IPython.core.display.Javascript object>"
      ]
     },
     "metadata": {},
     "output_type": "display_data"
    }
   ],
   "source": [
    "import statsmodels.api as sm\n",
    "\n",
    "# You need to manually add a constant\n",
    "# in statsmodels' sm\n",
    "X = sm.add_constant(X)\n",
    "\n",
    "results = sm.OLS(y, X).fit()\n",
    "\n",
    "results.summary()"
   ]
  },
  {
   "cell_type": "markdown",
   "metadata": {},
   "source": [
    "# Interpreting Estimated Coefficients"
   ]
  },
  {
   "cell_type": "markdown",
   "metadata": {},
   "source": [
    "> all the vars except for totalrmsabvgrd are statistically significant\n",
    "> removing that var didn't change the p-vals for any other var\n",
    "> other model score stats remained about the same\n",
    "> every 1 pt increase in overal qual, increases the saleprice 0.11\n",
    "> all other effects on saleprice are relatively small"
   ]
  },
  {
   "cell_type": "markdown",
   "metadata": {},
   "source": [
    "## Model Performance"
   ]
  },
  {
   "cell_type": "markdown",
   "metadata": {},
   "source": [
    "* the f-test prob shows that the null is rejected and the model is better than an intercept model\n",
    "* r-squared values are both ~81%; the model performance is good\n",
    "* AIC & BIC are both large negative values; model fit is good"
   ]
  }
 ],
 "metadata": {
  "kernelspec": {
   "display_name": "Python 3",
   "language": "python",
   "name": "python3"
  },
  "language_info": {
   "codemirror_mode": {
    "name": "ipython",
    "version": 3
   },
   "file_extension": ".py",
   "mimetype": "text/x-python",
   "name": "python",
   "nbconvert_exporter": "python",
   "pygments_lexer": "ipython3",
   "version": "3.8.3"
  },
  "toc": {
   "base_numbering": 1,
   "nav_menu": {},
   "number_sections": false,
   "sideBar": true,
   "skip_h1_title": false,
   "title_cell": "Table of Contents",
   "title_sidebar": "Contents",
   "toc_cell": false,
   "toc_position": {},
   "toc_section_display": true,
   "toc_window_display": true
  }
 },
 "nbformat": 4,
 "nbformat_minor": 4
}
