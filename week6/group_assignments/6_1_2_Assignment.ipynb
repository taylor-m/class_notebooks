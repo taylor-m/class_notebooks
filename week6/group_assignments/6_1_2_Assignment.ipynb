{
  "nbformat": 4,
  "nbformat_minor": 0,
  "metadata": {
    "kernelspec": {
      "display_name": "Python 3",
      "language": "python",
      "name": "python3"
    },
    "language_info": {
      "codemirror_mode": {
        "name": "ipython",
        "version": 3
      },
      "file_extension": ".py",
      "mimetype": "text/x-python",
      "name": "python",
      "nbconvert_exporter": "python",
      "pygments_lexer": "ipython3",
      "version": "3.7.0"
    },
    "colab": {
      "name": "Day 26 Lecture 2 Assignment.ipynb",
      "provenance": [],
      "collapsed_sections": []
    }
  },
  "cells": [
    {
      "cell_type": "markdown",
      "metadata": {
        "id": "wPSVmCwSczg3"
      },
      "source": [
        "## Day 26 Lecture 2 Assignment\n",
        "\n",
        "In this assignment, we will learn about linear regression model assumptions"
      ]
    },
    {
      "cell_type": "code",
      "metadata": {
        "id": "hoKSIe-kczg6"
      },
      "source": [
        "%matplotlib inline\n",
        "\n",
        "import matplotlib.pyplot as plt\n",
        "import numpy as np\n",
        "import pandas as pd"
      ],
      "execution_count": null,
      "outputs": []
    },
    {
      "cell_type": "markdown",
      "metadata": {
        "id": "FJvdNDzuczg_"
      },
      "source": [
        "We will load the dataset below that describes the antioxidant quality of lager.\n",
        "\n",
        "The variables are as follows:\n",
        "    \n",
        "The dataset contains 7 variables :\n",
        "\n",
        "- tpc - Total phenolic content\n",
        "- ma - melanoidin content\n",
        "- dsa - DPPH radical scavenging activity\n",
        "- asa - ABTS radical cation scavenging activity\n",
        "- orac - Oxygen radical absorbance activity\n",
        "- rp - Reducing Power\n",
        "- mca - Metal Chelaing Activity"
      ]
    },
    {
      "cell_type": "code",
      "metadata": {
        "id": "0yzed_sgczhA"
      },
      "source": [
        "lager = pd.read_csv('https://tf-assets-prod.s3.amazonaws.com/tf-curric/data-science/lager_antioxidant_reg.csv')\n",
        "\n",
        "lager.head()"
      ],
      "execution_count": null,
      "outputs": []
    },
    {
      "cell_type": "markdown",
      "metadata": {
        "id": "Waw8-_pDczhF"
      },
      "source": [
        "We would like to predict the level of total phenolic content using the remaining 6 variables.\n",
        "\n",
        "Start by removing the beer column since this column is the id for the observations."
      ]
    },
    {
      "cell_type": "code",
      "metadata": {
        "id": "VRoUslHsczhG"
      },
      "source": [
        "#answer below:\n",
        "\n"
      ],
      "execution_count": null,
      "outputs": []
    },
    {
      "cell_type": "markdown",
      "metadata": {
        "id": "tS6PojFZczhJ"
      },
      "source": [
        "Split the data into train and test subsets. Select 25% of the data to be in the test subset. Use `tpc` as the y variable."
      ]
    },
    {
      "cell_type": "code",
      "metadata": {
        "id": "2kzFQzvlczhK"
      },
      "source": [
        "# answer below:\n"
      ],
      "execution_count": null,
      "outputs": []
    },
    {
      "cell_type": "markdown",
      "metadata": {
        "id": "k8h1CBAhczhN"
      },
      "source": [
        "Next, we'll generate a linear model and make a residual vs. fit (homoscedasticity) plot. All Gauss-Markov assumptions should be evaluated on the training set.\n",
        "\n",
        "How much heteroscedasticity is exhibited in the model?"
      ]
    },
    {
      "cell_type": "code",
      "metadata": {
        "id": "oRWk_B0tczhO"
      },
      "source": [
        "#answer below:\n",
        "\n"
      ],
      "execution_count": null,
      "outputs": []
    },
    {
      "cell_type": "markdown",
      "metadata": {
        "id": "yKU4XK0YczhS"
      },
      "source": [
        "Compute the VIF for all features in the model. You will need to add a constant to your data (make a new copy just for this) to compute this with statsmodels.\n",
        "\n",
        "How collinear are your features?"
      ]
    },
    {
      "cell_type": "code",
      "metadata": {
        "id": "K2GX2UrTczhT"
      },
      "source": [
        "# answer below:\n",
        "\n"
      ],
      "execution_count": null,
      "outputs": []
    },
    {
      "cell_type": "markdown",
      "metadata": {
        "id": "rA4NpURkczhW"
      },
      "source": [
        "Show a histogram of your error, and then plot the qq-plot for our errors (make sure to use a standardized line to compare them appropriately to the standard distribution.)\n",
        "\n",
        "Remember to use training data."
      ]
    },
    {
      "cell_type": "code",
      "metadata": {
        "id": "Hr0UpQs8czhX"
      },
      "source": [
        "# answer below:\n",
        "\n"
      ],
      "execution_count": null,
      "outputs": []
    },
    {
      "cell_type": "code",
      "metadata": {
        "id": "HGwW7uZ2czha"
      },
      "source": [
        "# answer below:\n",
        "\n"
      ],
      "execution_count": null,
      "outputs": []
    },
    {
      "cell_type": "markdown",
      "metadata": {
        "id": "-8PAeQIPSJ2g"
      },
      "source": [
        "Plot the actual test data against test predictions to see how well your model predicts new data."
      ]
    },
    {
      "cell_type": "code",
      "metadata": {
        "id": "3IA-8Lt9SNXz"
      },
      "source": [
        "# answer below:\n",
        "\n"
      ],
      "execution_count": null,
      "outputs": []
    }
  ]
}