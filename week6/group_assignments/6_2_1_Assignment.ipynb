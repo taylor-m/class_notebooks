{
 "cells": [
  {
   "cell_type": "markdown",
   "metadata": {
    "id": "NQ9CFZorWMLh"
   },
   "source": [
    "## Day 27 Lecture 1 Assignment\n",
    "\n",
    "In this assignment, we will learn statistical significance in linear models. We will use the google play store dataset loaded below and analyze the regression from this dataset."
   ]
  },
  {
   "cell_type": "code",
   "execution_count": null,
   "metadata": {
    "id": "Jnh84h3tWMLi"
   },
   "outputs": [],
   "source": [
    "%matplotlib inline\n",
    "\n",
    "import matplotlib.pyplot as plt\n",
    "import numpy as np\n",
    "import pandas as pd"
   ]
  },
  {
   "cell_type": "code",
   "execution_count": null,
   "metadata": {
    "id": "v2e0QnpnWMLk"
   },
   "outputs": [],
   "source": [
    "reviews = pd.read_csv('https://tf-assets-prod.s3.amazonaws.com/tf-curric/data-science/googleplaystore.csv')"
   ]
  },
  {
   "cell_type": "code",
   "execution_count": null,
   "metadata": {
    "id": "JflXCj5CWMLm"
   },
   "outputs": [],
   "source": [
    "reviews.head()"
   ]
  },
  {
   "cell_type": "markdown",
   "metadata": {
    "id": "RD7HAGooWMLo"
   },
   "source": [
    "We will predict app ratings using other features describing the app. To use these features, we must clean the data."
   ]
  },
  {
   "cell_type": "markdown",
   "metadata": {
    "id": "ieg0JuQlWMLu"
   },
   "source": [
    "To simplify, we will remove the app, category, size, installs, genres, last updated, current ver, and android ver columns. "
   ]
  },
  {
   "cell_type": "code",
   "execution_count": null,
   "metadata": {
    "id": "jPxJSCQTWMLr"
   },
   "outputs": [],
   "source": [
    "# answer below:\n"
   ]
  },
  {
   "cell_type": "markdown",
   "metadata": {
    "id": "DKtcnNARWMLq"
   },
   "source": [
    "Check for missing values and remove all rows containing missing values"
   ]
  },
  {
   "cell_type": "code",
   "execution_count": null,
   "metadata": {
    "id": "RNxRhhpuWMLu"
   },
   "outputs": [],
   "source": [
    "# answer below:\n"
   ]
  },
  {
   "cell_type": "markdown",
   "metadata": {
    "id": "HcBzon3rYp4H"
   },
   "source": [
    "Remove outliers from the Type and Content Rating columns (very rare values that won't train well)."
   ]
  },
  {
   "cell_type": "code",
   "execution_count": null,
   "metadata": {
    "id": "drpIxOvYYqAh"
   },
   "outputs": [],
   "source": [
    "# answer below:\n"
   ]
  },
  {
   "cell_type": "markdown",
   "metadata": {
    "id": "WXUwnEbMV6_d"
   },
   "source": [
    "Convert the Type and Content Rating columns to a numeric format, whether by one-hot encoding, ordinal encoding, or similar."
   ]
  },
  {
   "cell_type": "code",
   "execution_count": null,
   "metadata": {
    "id": "T_SPpHdUV7I-"
   },
   "outputs": [],
   "source": [
    "# answer below:\n"
   ]
  },
  {
   "cell_type": "markdown",
   "metadata": {
    "id": "0SeSNeEYWMLw"
   },
   "source": [
    "Finally, check that all the columns are of numeric type and change the type of columns that are not numeric. If coercing to numeric causes missing values, remove those rows containing missing values from our dataset."
   ]
  },
  {
   "cell_type": "code",
   "execution_count": null,
   "metadata": {
    "id": "qXqE-KMvWMLw"
   },
   "outputs": [],
   "source": [
    "# answer below:\n"
   ]
  },
  {
   "cell_type": "markdown",
   "metadata": {
    "id": "GvmM687VWML1"
   },
   "source": [
    "Perform a train test split with 20% of the data in the test sample."
   ]
  },
  {
   "cell_type": "code",
   "execution_count": null,
   "metadata": {
    "id": "COJv_NenWML1"
   },
   "outputs": [],
   "source": [
    "# answer below:\n"
   ]
  },
  {
   "cell_type": "markdown",
   "metadata": {
    "id": "ke4J9CM2WML3"
   },
   "source": [
    "Now generate a linear model using statsmodels and produce a p value for each coefficient in the model. Analyze the results. (Look at the results table and at a homoscedasticity plot.)"
   ]
  },
  {
   "cell_type": "code",
   "execution_count": null,
   "metadata": {
    "id": "lo0tMmlEWML3"
   },
   "outputs": [],
   "source": [
    "# answer below:\n"
   ]
  },
  {
   "cell_type": "markdown",
   "metadata": {
    "id": "mWph5fSlg-HG"
   },
   "source": [
    "Scale your predictors and refit the linear model.\n",
    "\n",
    "* How does this change the coefficients?\n",
    "* How does this change the coefficients' p values?\n",
    "* How does this change model performance?"
   ]
  },
  {
   "cell_type": "code",
   "execution_count": null,
   "metadata": {
    "id": "BfOvXFh5WML5"
   },
   "outputs": [],
   "source": [
    "# answer below:\n"
   ]
  }
 ],
 "metadata": {
  "colab": {
   "collapsed_sections": [],
   "name": "Day 27 Lecture 1 Assignment.ipynb",
   "provenance": []
  },
  "kernelspec": {
   "display_name": "Python 3",
   "language": "python",
   "name": "python3"
  },
  "language_info": {
   "codemirror_mode": {
    "name": "ipython",
    "version": 3
   },
   "file_extension": ".py",
   "mimetype": "text/x-python",
   "name": "python",
   "nbconvert_exporter": "python",
   "pygments_lexer": "ipython3",
   "version": "3.8.3"
  },
  "toc": {
   "base_numbering": 1,
   "nav_menu": {},
   "number_sections": false,
   "sideBar": true,
   "skip_h1_title": false,
   "title_cell": "Table of Contents",
   "title_sidebar": "Contents",
   "toc_cell": false,
   "toc_position": {},
   "toc_section_display": true,
   "toc_window_display": true
  }
 },
 "nbformat": 4,
 "nbformat_minor": 1
}
