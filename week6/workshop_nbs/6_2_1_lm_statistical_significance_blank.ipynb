{
 "cells": [
  {
   "cell_type": "markdown",
   "metadata": {},
   "source": [
    "# Statistical Significance\n",
    "\n",
    "Slides [aquí](https://docs.google.com/presentation/d/10jV-CsgaaGv2F7H_gZnkz5_eVyVmqKLrc1rf26e2aDY/edit#slide=id.p1)"
   ]
  },
  {
   "cell_type": "code",
   "execution_count": 1,
   "metadata": {},
   "outputs": [
    {
     "data": {
      "application/javascript": [
       "\n",
       "            setTimeout(function() {\n",
       "                var nbb_cell_id = 1;\n",
       "                var nbb_unformatted_code = \"%reload_ext nb_black\";\n",
       "                var nbb_formatted_code = \"%reload_ext nb_black\";\n",
       "                var nbb_cells = Jupyter.notebook.get_cells();\n",
       "                for (var i = 0; i < nbb_cells.length; ++i) {\n",
       "                    if (nbb_cells[i].input_prompt_number == nbb_cell_id) {\n",
       "                        if (nbb_cells[i].get_text() == nbb_unformatted_code) {\n",
       "                             nbb_cells[i].set_text(nbb_formatted_code);\n",
       "                        }\n",
       "                        break;\n",
       "                    }\n",
       "                }\n",
       "            }, 500);\n",
       "            "
      ],
      "text/plain": [
       "<IPython.core.display.Javascript object>"
      ]
     },
     "metadata": {},
     "output_type": "display_data"
    }
   ],
   "source": [
    "%reload_ext nb_black"
   ]
  },
  {
   "cell_type": "code",
   "execution_count": 23,
   "metadata": {},
   "outputs": [
    {
     "data": {
      "application/javascript": [
       "\n",
       "            setTimeout(function() {\n",
       "                var nbb_cell_id = 23;\n",
       "                var nbb_unformatted_code = \"from functions_pkg import print_vif \";\n",
       "                var nbb_formatted_code = \"from functions_pkg import print_vif\";\n",
       "                var nbb_cells = Jupyter.notebook.get_cells();\n",
       "                for (var i = 0; i < nbb_cells.length; ++i) {\n",
       "                    if (nbb_cells[i].input_prompt_number == nbb_cell_id) {\n",
       "                        if (nbb_cells[i].get_text() == nbb_unformatted_code) {\n",
       "                             nbb_cells[i].set_text(nbb_formatted_code);\n",
       "                        }\n",
       "                        break;\n",
       "                    }\n",
       "                }\n",
       "            }, 500);\n",
       "            "
      ],
      "text/plain": [
       "<IPython.core.display.Javascript object>"
      ]
     },
     "metadata": {},
     "output_type": "display_data"
    }
   ],
   "source": [
    "from functions_pkg import print_vif"
   ]
  },
  {
   "cell_type": "code",
   "execution_count": 2,
   "metadata": {},
   "outputs": [
    {
     "data": {
      "application/javascript": [
       "\n",
       "            setTimeout(function() {\n",
       "                var nbb_cell_id = 2;\n",
       "                var nbb_unformatted_code = \"import numpy as np\\nimport pandas as pd\\n\\nimport statsmodels.api as sm\\nimport statsmodels.stats.api as sms\\nfrom statsmodels.stats.outliers_influence import variance_inflation_factor\\n\\nfrom sklearn.linear_model import LinearRegression\\n\\nfrom scipy import stats\\n\\nimport seaborn as sns\\nimport matplotlib.pyplot as plt\\n\\n%matplotlib inline\";\n",
       "                var nbb_formatted_code = \"import numpy as np\\nimport pandas as pd\\n\\nimport statsmodels.api as sm\\nimport statsmodels.stats.api as sms\\nfrom statsmodels.stats.outliers_influence import variance_inflation_factor\\n\\nfrom sklearn.linear_model import LinearRegression\\n\\nfrom scipy import stats\\n\\nimport seaborn as sns\\nimport matplotlib.pyplot as plt\\n\\n%matplotlib inline\";\n",
       "                var nbb_cells = Jupyter.notebook.get_cells();\n",
       "                for (var i = 0; i < nbb_cells.length; ++i) {\n",
       "                    if (nbb_cells[i].input_prompt_number == nbb_cell_id) {\n",
       "                        if (nbb_cells[i].get_text() == nbb_unformatted_code) {\n",
       "                             nbb_cells[i].set_text(nbb_formatted_code);\n",
       "                        }\n",
       "                        break;\n",
       "                    }\n",
       "                }\n",
       "            }, 500);\n",
       "            "
      ],
      "text/plain": [
       "<IPython.core.display.Javascript object>"
      ]
     },
     "metadata": {},
     "output_type": "display_data"
    }
   ],
   "source": [
    "import numpy as np\n",
    "import pandas as pd\n",
    "\n",
    "import statsmodels.api as sm\n",
    "import statsmodels.stats.api as sms\n",
    "from statsmodels.stats.outliers_influence import variance_inflation_factor\n",
    "\n",
    "from sklearn.linear_model import LinearRegression\n",
    "\n",
    "from scipy import stats\n",
    "\n",
    "import seaborn as sns\n",
    "import matplotlib.pyplot as plt\n",
    "\n",
    "%matplotlib inline"
   ]
  },
  {
   "cell_type": "markdown",
   "metadata": {},
   "source": [
    "## Warm Up! 🥵\n",
    "\n",
    "### 🥵#1\n",
    "\n",
    "* How do we evaluate scedasticity and why is it important to make sure this assumption is met in linear modeling?\n",
    "  * What even is scedasticity? `________________`\n",
    "  * Do we want to have homoscedasticity or heteroscedasticity `________________`\n",
    "  * In the below cell... plot `X` with `y1` and `X` with `y2`.  Which one do you think is homoscedastic? heteroscedastic? `________________`\n",
    "  * What about something more formal than this eyeball test?"
   ]
  },
  {
   "cell_type": "code",
   "execution_count": 16,
   "metadata": {},
   "outputs": [
    {
     "data": {
      "application/javascript": [
       "\n",
       "            setTimeout(function() {\n",
       "                var nbb_cell_id = 16;\n",
       "                var nbb_unformatted_code = \"# set seed for reproducible random stuff\\n# Just generating some data to play with\\nnp.random.seed(42)\\n\\nn = 100\\nX = np.arange(n)\\ny1 = X + np.random.normal(0, 10, size=n)\\ny2 = X + np.random.normal(0, X ** 0.75)\";\n",
       "                var nbb_formatted_code = \"# set seed for reproducible random stuff\\n# Just generating some data to play with\\nnp.random.seed(42)\\n\\nn = 100\\nX = np.arange(n)\\ny1 = X + np.random.normal(0, 10, size=n)\\ny2 = X + np.random.normal(0, X ** 0.75)\";\n",
       "                var nbb_cells = Jupyter.notebook.get_cells();\n",
       "                for (var i = 0; i < nbb_cells.length; ++i) {\n",
       "                    if (nbb_cells[i].input_prompt_number == nbb_cell_id) {\n",
       "                        if (nbb_cells[i].get_text() == nbb_unformatted_code) {\n",
       "                             nbb_cells[i].set_text(nbb_formatted_code);\n",
       "                        }\n",
       "                        break;\n",
       "                    }\n",
       "                }\n",
       "            }, 500);\n",
       "            "
      ],
      "text/plain": [
       "<IPython.core.display.Javascript object>"
      ]
     },
     "metadata": {},
     "output_type": "display_data"
    }
   ],
   "source": [
    "# set seed for reproducible random stuff\n",
    "# Just generating some data to play with\n",
    "np.random.seed(42)\n",
    "\n",
    "n = 100\n",
    "X = np.arange(n)\n",
    "y1 = X + np.random.normal(0, 10, size=n)\n",
    "y2 = X + np.random.normal(0, X ** 0.75)"
   ]
  },
  {
   "cell_type": "code",
   "execution_count": 8,
   "metadata": {},
   "outputs": [
    {
     "data": {
      "image/png": "[encoded data removed]",
      "text/plain": [
       "<Figure size 432x288 with 1 Axes>"
      ]
     },
     "metadata": {
      "needs_background": "light"
     },
     "output_type": "display_data"
    },
    {
     "data": {
      "application/javascript": [
       "\n",
       "            setTimeout(function() {\n",
       "                var nbb_cell_id = 8;\n",
       "                var nbb_unformatted_code = \"# plot X with y1\\nsns.scatterplot(X, y1)\\nplt.show()\";\n",
       "                var nbb_formatted_code = \"# plot X with y1\\nsns.scatterplot(X, y1)\\nplt.show()\";\n",
       "                var nbb_cells = Jupyter.notebook.get_cells();\n",
       "                for (var i = 0; i < nbb_cells.length; ++i) {\n",
       "                    if (nbb_cells[i].input_prompt_number == nbb_cell_id) {\n",
       "                        if (nbb_cells[i].get_text() == nbb_unformatted_code) {\n",
       "                             nbb_cells[i].set_text(nbb_formatted_code);\n",
       "                        }\n",
       "                        break;\n",
       "                    }\n",
       "                }\n",
       "            }, 500);\n",
       "            "
      ],
      "text/plain": [
       "<IPython.core.display.Javascript object>"
      ]
     },
     "metadata": {},
     "output_type": "display_data"
    }
   ],
   "source": [
    "# plot X with y1\n",
    "sns.scatterplot(X, y1)\n",
    "plt.show()"
   ]
  },
  {
   "cell_type": "markdown",
   "metadata": {},
   "source": [
    "> residuals are homoscedastic"
   ]
  },
  {
   "cell_type": "code",
   "execution_count": 9,
   "metadata": {},
   "outputs": [
    {
     "data": {
      "image/png": "[encoded data removed]",
      "text/plain": [
       "<Figure size 432x288 with 1 Axes>"
      ]
     },
     "metadata": {
      "needs_background": "light"
     },
     "output_type": "display_data"
    },
    {
     "data": {
      "application/javascript": [
       "\n",
       "            setTimeout(function() {\n",
       "                var nbb_cell_id = 9;\n",
       "                var nbb_unformatted_code = \"# plot X with y2\\nsns.scatterplot(X, y2)\\nplt.show()\";\n",
       "                var nbb_formatted_code = \"# plot X with y2\\nsns.scatterplot(X, y2)\\nplt.show()\";\n",
       "                var nbb_cells = Jupyter.notebook.get_cells();\n",
       "                for (var i = 0; i < nbb_cells.length; ++i) {\n",
       "                    if (nbb_cells[i].input_prompt_number == nbb_cell_id) {\n",
       "                        if (nbb_cells[i].get_text() == nbb_unformatted_code) {\n",
       "                             nbb_cells[i].set_text(nbb_formatted_code);\n",
       "                        }\n",
       "                        break;\n",
       "                    }\n",
       "                }\n",
       "            }, 500);\n",
       "            "
      ],
      "text/plain": [
       "<IPython.core.display.Javascript object>"
      ]
     },
     "metadata": {},
     "output_type": "display_data"
    }
   ],
   "source": [
    "# plot X with y2\n",
    "sns.scatterplot(X, y2)\n",
    "plt.show()"
   ]
  },
  {
   "cell_type": "markdown",
   "metadata": {},
   "source": [
    "> residuals look to be heteroscedastic"
   ]
  },
  {
   "cell_type": "code",
   "execution_count": 17,
   "metadata": {},
   "outputs": [
    {
     "data": {
      "application/javascript": [
       "\n",
       "            setTimeout(function() {\n",
       "                var nbb_cell_id = 17;\n",
       "                var nbb_unformatted_code = \"X = X.reshape(-1, 1)\";\n",
       "                var nbb_formatted_code = \"X = X.reshape(-1, 1)\";\n",
       "                var nbb_cells = Jupyter.notebook.get_cells();\n",
       "                for (var i = 0; i < nbb_cells.length; ++i) {\n",
       "                    if (nbb_cells[i].input_prompt_number == nbb_cell_id) {\n",
       "                        if (nbb_cells[i].get_text() == nbb_unformatted_code) {\n",
       "                             nbb_cells[i].set_text(nbb_formatted_code);\n",
       "                        }\n",
       "                        break;\n",
       "                    }\n",
       "                }\n",
       "            }, 500);\n",
       "            "
      ],
      "text/plain": [
       "<IPython.core.display.Javascript object>"
      ]
     },
     "metadata": {},
     "output_type": "display_data"
    }
   ],
   "source": [
    "X = X.reshape(-1, 1)"
   ]
  },
  {
   "cell_type": "code",
   "execution_count": 18,
   "metadata": {},
   "outputs": [
    {
     "data": {
      "text/plain": [
       "LinearRegression()"
      ]
     },
     "execution_count": 18,
     "metadata": {},
     "output_type": "execute_result"
    },
    {
     "data": {
      "application/javascript": [
       "\n",
       "            setTimeout(function() {\n",
       "                var nbb_cell_id = 18;\n",
       "                var nbb_unformatted_code = \"# What about something more formal than this eyeball test?\\n# Fit a model for X to predict y1\\nmodel_1 = LinearRegression()\\nmodel_1.fit(X, y1)\";\n",
       "                var nbb_formatted_code = \"# What about something more formal than this eyeball test?\\n# Fit a model for X to predict y1\\nmodel_1 = LinearRegression()\\nmodel_1.fit(X, y1)\";\n",
       "                var nbb_cells = Jupyter.notebook.get_cells();\n",
       "                for (var i = 0; i < nbb_cells.length; ++i) {\n",
       "                    if (nbb_cells[i].input_prompt_number == nbb_cell_id) {\n",
       "                        if (nbb_cells[i].get_text() == nbb_unformatted_code) {\n",
       "                             nbb_cells[i].set_text(nbb_formatted_code);\n",
       "                        }\n",
       "                        break;\n",
       "                    }\n",
       "                }\n",
       "            }, 500);\n",
       "            "
      ],
      "text/plain": [
       "<IPython.core.display.Javascript object>"
      ]
     },
     "metadata": {},
     "output_type": "display_data"
    }
   ],
   "source": [
    "# What about something more formal than this eyeball test?\n",
    "# Fit a model for X to predict y1\n",
    "model_1 = LinearRegression()\n",
    "model_1.fit(X, y1)"
   ]
  },
  {
   "cell_type": "code",
   "execution_count": 19,
   "metadata": {},
   "outputs": [
    {
     "data": {
      "text/plain": [
       "LinearRegression()"
      ]
     },
     "execution_count": 19,
     "metadata": {},
     "output_type": "execute_result"
    },
    {
     "data": {
      "application/javascript": [
       "\n",
       "            setTimeout(function() {\n",
       "                var nbb_cell_id = 19;\n",
       "                var nbb_unformatted_code = \"# Fit a model for X to predict y2\\nmodel_2 = LinearRegression()\\nmodel_2.fit(X, y2)\";\n",
       "                var nbb_formatted_code = \"# Fit a model for X to predict y2\\nmodel_2 = LinearRegression()\\nmodel_2.fit(X, y2)\";\n",
       "                var nbb_cells = Jupyter.notebook.get_cells();\n",
       "                for (var i = 0; i < nbb_cells.length; ++i) {\n",
       "                    if (nbb_cells[i].input_prompt_number == nbb_cell_id) {\n",
       "                        if (nbb_cells[i].get_text() == nbb_unformatted_code) {\n",
       "                             nbb_cells[i].set_text(nbb_formatted_code);\n",
       "                        }\n",
       "                        break;\n",
       "                    }\n",
       "                }\n",
       "            }, 500);\n",
       "            "
      ],
      "text/plain": [
       "<IPython.core.display.Javascript object>"
      ]
     },
     "metadata": {},
     "output_type": "display_data"
    }
   ],
   "source": [
    "# Fit a model for X to predict y2\n",
    "model_2 = LinearRegression()\n",
    "model_2.fit(X, y2)"
   ]
  },
  {
   "cell_type": "code",
   "execution_count": 20,
   "metadata": {},
   "outputs": [
    {
     "data": {
      "application/javascript": [
       "\n",
       "            setTimeout(function() {\n",
       "                var nbb_cell_id = 20;\n",
       "                var nbb_unformatted_code = \"# Residuals are what we call the mistakes\\n# residual = prediction - actual\\ny1_residuals = model_1.predict(X) - y1\\ny2_residuals = model_2.predict(X) - y2\";\n",
       "                var nbb_formatted_code = \"# Residuals are what we call the mistakes\\n# residual = prediction - actual\\ny1_residuals = model_1.predict(X) - y1\\ny2_residuals = model_2.predict(X) - y2\";\n",
       "                var nbb_cells = Jupyter.notebook.get_cells();\n",
       "                for (var i = 0; i < nbb_cells.length; ++i) {\n",
       "                    if (nbb_cells[i].input_prompt_number == nbb_cell_id) {\n",
       "                        if (nbb_cells[i].get_text() == nbb_unformatted_code) {\n",
       "                             nbb_cells[i].set_text(nbb_formatted_code);\n",
       "                        }\n",
       "                        break;\n",
       "                    }\n",
       "                }\n",
       "            }, 500);\n",
       "            "
      ],
      "text/plain": [
       "<IPython.core.display.Javascript object>"
      ]
     },
     "metadata": {},
     "output_type": "display_data"
    }
   ],
   "source": [
    "# Residuals are what we call the mistakes\n",
    "# residual = prediction - actual\n",
    "y1_residuals = model_1.predict(X) - y1\n",
    "y2_residuals = model_2.predict(X) - y2"
   ]
  },
  {
   "cell_type": "code",
   "execution_count": 21,
   "metadata": {},
   "outputs": [
    {
     "name": "stdout",
     "output_type": "stream",
     "text": [
      "0.6013945776291625\n",
      "0.0009785352144070596\n"
     ]
    },
    {
     "data": {
      "application/javascript": [
       "\n",
       "            setTimeout(function() {\n",
       "                var nbb_cell_id = 21;\n",
       "                var nbb_unformatted_code = \"# Documenation: https://www.statsmodels.org/dev/generated/statsmodels.stats.diagnostic.het_breuschpagan.html\\n# Null hypothesis is homoscedastic\\nX_const = sm.add_constant(X)\\n_, p1, _, _ = sms.het_breuschpagan(y1_residuals, X_const)\\n_, p2, _, _ = sms.het_breuschpagan(y2_residuals, X_const)\\n\\nprint(p1)\\nprint(p2)\";\n",
       "                var nbb_formatted_code = \"# Documenation: https://www.statsmodels.org/dev/generated/statsmodels.stats.diagnostic.het_breuschpagan.html\\n# Null hypothesis is homoscedastic\\nX_const = sm.add_constant(X)\\n_, p1, _, _ = sms.het_breuschpagan(y1_residuals, X_const)\\n_, p2, _, _ = sms.het_breuschpagan(y2_residuals, X_const)\\n\\nprint(p1)\\nprint(p2)\";\n",
       "                var nbb_cells = Jupyter.notebook.get_cells();\n",
       "                for (var i = 0; i < nbb_cells.length; ++i) {\n",
       "                    if (nbb_cells[i].input_prompt_number == nbb_cell_id) {\n",
       "                        if (nbb_cells[i].get_text() == nbb_unformatted_code) {\n",
       "                             nbb_cells[i].set_text(nbb_formatted_code);\n",
       "                        }\n",
       "                        break;\n",
       "                    }\n",
       "                }\n",
       "            }, 500);\n",
       "            "
      ],
      "text/plain": [
       "<IPython.core.display.Javascript object>"
      ]
     },
     "metadata": {},
     "output_type": "display_data"
    }
   ],
   "source": [
    "# Documenation: https://www.statsmodels.org/dev/generated/statsmodels.stats.diagnostic.het_breuschpagan.html\n",
    "# Null hypothesis is homoscedastic\n",
    "X_const = sm.add_constant(X)\n",
    "_, p1, _, _ = sms.het_breuschpagan(y1_residuals, X_const)\n",
    "_, p2, _, _ = sms.het_breuschpagan(y2_residuals, X_const)\n",
    "\n",
    "print(p1)\n",
    "print(p2)"
   ]
  },
  {
   "cell_type": "markdown",
   "metadata": {},
   "source": [
    "### 🥵 #2\n",
    "\n",
    "* How do we evaluate for multicollinearity and why is this assumption important?\n",
    "  * What even is multicollinearity? `________________`\n",
    "  * Do we want to have multicollinearity or no multicollinearity? `________________`\n",
    "  * In the below cell... Does `X` contain significant multicollinearity?\n",
    "  * When creating dummies/one-hot-encoded variables, what do we need to do to avoid multicolinearararity?"
   ]
  },
  {
   "cell_type": "code",
   "execution_count": 25,
   "metadata": {},
   "outputs": [
    {
     "data": {
      "application/javascript": [
       "\n",
       "            setTimeout(function() {\n",
       "                var nbb_cell_id = 25;\n",
       "                var nbb_unformatted_code = \"# set seed for reproducible random stuff\\nnp.random.seed(42)\\n\\nn = 20\\nx1 = np.arange(n)\\nx2 = np.random.normal(size=n)\\nx3 = 2 * np.arange(n) + np.random.normal(0, 1, n)\\nX = pd.concat((pd.Series(x) for x in [x1, x2, x3]), axis=1)\\nX.columns = [\\\"x1\\\", \\\"x2\\\", \\\"x3\\\"]\";\n",
       "                var nbb_formatted_code = \"# set seed for reproducible random stuff\\nnp.random.seed(42)\\n\\nn = 20\\nx1 = np.arange(n)\\nx2 = np.random.normal(size=n)\\nx3 = 2 * np.arange(n) + np.random.normal(0, 1, n)\\nX = pd.concat((pd.Series(x) for x in [x1, x2, x3]), axis=1)\\nX.columns = [\\\"x1\\\", \\\"x2\\\", \\\"x3\\\"]\";\n",
       "                var nbb_cells = Jupyter.notebook.get_cells();\n",
       "                for (var i = 0; i < nbb_cells.length; ++i) {\n",
       "                    if (nbb_cells[i].input_prompt_number == nbb_cell_id) {\n",
       "                        if (nbb_cells[i].get_text() == nbb_unformatted_code) {\n",
       "                             nbb_cells[i].set_text(nbb_formatted_code);\n",
       "                        }\n",
       "                        break;\n",
       "                    }\n",
       "                }\n",
       "            }, 500);\n",
       "            "
      ],
      "text/plain": [
       "<IPython.core.display.Javascript object>"
      ]
     },
     "metadata": {},
     "output_type": "display_data"
    }
   ],
   "source": [
    "# set seed for reproducible random stuff\n",
    "np.random.seed(42)\n",
    "\n",
    "n = 20\n",
    "x1 = np.arange(n)\n",
    "x2 = np.random.normal(size=n)\n",
    "x3 = 2 * np.arange(n) + np.random.normal(0, 1, n)\n",
    "X = pd.concat((pd.Series(x) for x in [x1, x2, x3]), axis=1)\n",
    "X.columns = [\"x1\", \"x2\", \"x3\"]"
   ]
  },
  {
   "cell_type": "code",
   "execution_count": 26,
   "metadata": {},
   "outputs": [
    {
     "name": "stdout",
     "output_type": "stream",
     "text": [
      "VIF results\n",
      "-------------------------------\n",
      "const      5.074372\n",
      "x1       169.655508\n",
      "x2         1.869569\n",
      "x3       177.519575\n",
      "dtype: float64\n",
      "-------------------------------\n",
      "\n"
     ]
    },
    {
     "data": {
      "application/javascript": [
       "\n",
       "            setTimeout(function() {\n",
       "                var nbb_cell_id = 26;\n",
       "                var nbb_unformatted_code = \"# Does X contain significant multicollinearity?\\nprint_vif(X)\";\n",
       "                var nbb_formatted_code = \"# Does X contain significant multicollinearity?\\nprint_vif(X)\";\n",
       "                var nbb_cells = Jupyter.notebook.get_cells();\n",
       "                for (var i = 0; i < nbb_cells.length; ++i) {\n",
       "                    if (nbb_cells[i].input_prompt_number == nbb_cell_id) {\n",
       "                        if (nbb_cells[i].get_text() == nbb_unformatted_code) {\n",
       "                             nbb_cells[i].set_text(nbb_formatted_code);\n",
       "                        }\n",
       "                        break;\n",
       "                    }\n",
       "                }\n",
       "            }, 500);\n",
       "            "
      ],
      "text/plain": [
       "<IPython.core.display.Javascript object>"
      ]
     },
     "metadata": {},
     "output_type": "display_data"
    }
   ],
   "source": [
    "# Does X contain significant multicollinearity?\n",
    "print_vif(X)"
   ]
  },
  {
   "cell_type": "markdown",
   "metadata": {},
   "source": [
    "## t-tests again!! 🎉\n",
    "\n",
    "I can feel the excitement bubbling up in you all just writing this... I know, I missed them too.\n",
    "\n",
    "Let's look more at this $t$ distribution to start.  We didn't really do that before.\n",
    "\n",
    "* Generate a t distribution with `np.random._______`.\n",
    "    * Use a large-ish sample size\n",
    "    * Play with the value of the degrees of freedom parameter (From the slide: \"more degrees of freedom means closer to the normal distribution\")\n",
    "    "
   ]
  },
  {
   "cell_type": "code",
   "execution_count": 27,
   "metadata": {},
   "outputs": [
    {
     "ename": "TypeError",
     "evalue": "standard_t() takes at least 1 positional argument (0 given)",
     "output_type": "error",
     "traceback": [
      "\u001b[1;31m---------------------------------------------------------------------------\u001b[0m",
      "\u001b[1;31mTypeError\u001b[0m                                 Traceback (most recent call last)",
      "\u001b[1;32m<ipython-input-27-958bd6db0dea>\u001b[0m in \u001b[0;36m<module>\u001b[1;34m\u001b[0m\n\u001b[0;32m      5\u001b[0m \u001b[0mn\u001b[0m \u001b[1;33m=\u001b[0m \u001b[1;36m1000\u001b[0m\u001b[1;33m\u001b[0m\u001b[1;33m\u001b[0m\u001b[0m\n\u001b[0;32m      6\u001b[0m \u001b[1;33m\u001b[0m\u001b[0m\n\u001b[1;32m----> 7\u001b[1;33m \u001b[0mx\u001b[0m \u001b[1;33m=\u001b[0m \u001b[0mnp\u001b[0m\u001b[1;33m.\u001b[0m\u001b[0mrandom\u001b[0m\u001b[1;33m.\u001b[0m\u001b[0mstandard_t\u001b[0m\u001b[1;33m(\u001b[0m\u001b[0mn\u001b[0m\u001b[1;33m=\u001b[0m\u001b[1;36m10000\u001b[0m\u001b[1;33m)\u001b[0m\u001b[1;33m\u001b[0m\u001b[1;33m\u001b[0m\u001b[0m\n\u001b[0m\u001b[0;32m      8\u001b[0m \u001b[0mplt\u001b[0m\u001b[1;33m.\u001b[0m\u001b[0mhist\u001b[0m\u001b[1;33m(\u001b[0m\u001b[0mx\u001b[0m\u001b[1;33m)\u001b[0m\u001b[1;33m\u001b[0m\u001b[1;33m\u001b[0m\u001b[0m\n\u001b[0;32m      9\u001b[0m \u001b[0mplt\u001b[0m\u001b[1;33m.\u001b[0m\u001b[0mshow\u001b[0m\u001b[1;33m(\u001b[0m\u001b[1;33m)\u001b[0m\u001b[1;33m\u001b[0m\u001b[1;33m\u001b[0m\u001b[0m\n",
      "\u001b[1;32mmtrand.pyx\u001b[0m in \u001b[0;36mnumpy.random.mtrand.RandomState.standard_t\u001b[1;34m()\u001b[0m\n",
      "\u001b[1;31mTypeError\u001b[0m: standard_t() takes at least 1 positional argument (0 given)"
     ]
    },
    {
     "data": {
      "application/javascript": [
       "\n",
       "            setTimeout(function() {\n",
       "                var nbb_cell_id = 27;\n",
       "                var nbb_unformatted_code = \"# set seed for reproducible random stuff\\nnp.random.seed(42)\\n\\n# Generate a t distribution with an np.random function and plot\\nn = 1000\\n\\nx = np.random.standard_t(n=10000)\\nplt.hist(x)\\nplt.show()\";\n",
       "                var nbb_formatted_code = \"# set seed for reproducible random stuff\\nnp.random.seed(42)\\n\\n# Generate a t distribution with an np.random function and plot\\nn = 1000\\n\\nx = np.random.standard_t(n=10000)\\nplt.hist(x)\\nplt.show()\";\n",
       "                var nbb_cells = Jupyter.notebook.get_cells();\n",
       "                for (var i = 0; i < nbb_cells.length; ++i) {\n",
       "                    if (nbb_cells[i].input_prompt_number == nbb_cell_id) {\n",
       "                        if (nbb_cells[i].get_text() == nbb_unformatted_code) {\n",
       "                             nbb_cells[i].set_text(nbb_formatted_code);\n",
       "                        }\n",
       "                        break;\n",
       "                    }\n",
       "                }\n",
       "            }, 500);\n",
       "            "
      ],
      "text/plain": [
       "<IPython.core.display.Javascript object>"
      ]
     },
     "metadata": {},
     "output_type": "display_data"
    }
   ],
   "source": [
    "# set seed for reproducible random stuff\n",
    "np.random.seed(42)\n",
    "\n",
    "# Generate a t distribution with an np.random function and plot\n",
    "n = 1000\n",
    "\n",
    "x = ______\n",
    "plt.hist(x)\n",
    "plt.show()"
   ]
  },
  {
   "cell_type": "markdown",
   "metadata": {},
   "source": [
    "* What's the null hypothesis in a t-test?\n",
    "* When do we reject this null hypothesis?"
   ]
  },
  {
   "cell_type": "markdown",
   "metadata": {},
   "source": [
    "Below are the average heights (in cm) by sex in USA according to [this big ole report](https://www.cdc.gov/nchs/data/series/sr_03/sr03_039.pdf) that I really found from [this wikipedia page](https://en.wikipedia.org/wiki/Average_human_height_by_country); the info also gives the sample size and standard deviation.\n",
    "\n",
    "* Generate random normal samples using this information.\n",
    "* Plot overlaid histograms of these samples you generated."
   ]
  },
  {
   "cell_type": "code",
   "execution_count": null,
   "metadata": {},
   "outputs": [],
   "source": [
    "male_n = 5232\n",
    "male_avg = 175.3\n",
    "male_sd = 15.2\n",
    "\n",
    "female_n = 5547\n",
    "female_avg = 161.5\n",
    "female_sd = 15.2\n",
    "\n",
    "# Generate random normal samples using this information.\n",
    "np.random.seed(42)\n",
    "female_height = _____\n",
    "male_height = _____\n",
    "\n",
    "# Plot overlaid histograms of these samples you generated.\n",
    "_____\n",
    "_____\n",
    "plt.show()"
   ]
  },
  {
   "cell_type": "markdown",
   "metadata": {},
   "source": [
    "According to the histograms (and the average) men are taller.  Is this difference significant?"
   ]
  },
  {
   "cell_type": "code",
   "execution_count": null,
   "metadata": {},
   "outputs": [],
   "source": []
  },
  {
   "cell_type": "markdown",
   "metadata": {},
   "source": [
    "What if we had biased samples?? What is a biased sample??\n",
    "\n",
    "Let's say we took a random sample of women and only ended up with WNBA players (not likely with a random sample, but the beauty of randomness is that it's possible, some things are just unlikely).  Below is the average height for WNBA players according to [reference.com](https://www.reference.com/world-view/average-height-wnba-player-a3cf4bccebffecfb); also is the number of WNBA players according to the [New York Times](https://www.nytimes.com/2018/05/05/sports/wnba-los-angeles-sparks.html).\n",
    "\n",
    "Let's say our sample of men ended up with only marathon runners.  Below is the average height for top 100 male marathon runners according to [runnersworld.com](https://www.runnersworld.com/news/a20855134/great-marathoners-over-six-feet-tall-are-rare/).  \n",
    "\n",
    "Use the same standard deviations from before and:\n",
    "* generate some more normal distributions\n",
    "* re-plot\n",
    "* re-ttest"
   ]
  },
  {
   "cell_type": "code",
   "execution_count": null,
   "metadata": {},
   "outputs": [],
   "source": [
    "wnba_avg = 180.3\n",
    "wnba_n = 144\n",
    "\n",
    "marathon_avg = 169.92\n",
    "marathon_n = 100\n",
    "\n",
    "# generate some more normal distributions\n",
    "\n",
    "# re-plot\n",
    "\n",
    "# re-test\n"
   ]
  },
  {
   "cell_type": "markdown",
   "metadata": {},
   "source": [
    "We conclude the opposite! Kinda forced us into this.. but! This is the whole idea about the p-value and the typical 5% cutoff.  The p-value is trying to help us differentiate from results that occur purely from chance related to sampling.  AKA every p-value is trying to protect against the chance that you're comparing WNBA players and marathoners when you want to be comparing women and men.  AKA a p-value is the probability that random chance generated differences that you're seeing in the data.\n",
    "\n",
    "When we reject the null at the 5% level we're still saying there's a 5% chance these results happened due to sampling bias.  Typically 5% is pretty good in practice; here we forced the issue and got a reallllly unlikely sample to happen randomly."
   ]
  },
  {
   "cell_type": "markdown",
   "metadata": {},
   "source": [
    "## Regression and t-tests!\n",
    "\n",
    "So why are we talking about t-tests?  I thought this was a linear regression class?\n",
    "\n",
    "This is how we test if a predictor is 'significant'.  In a business context maybe we discover that our company's number of hours worked isn't a significant predictor of success; with that information we could argue that taking next Monday off isn't such a bad thing.\n",
    "\n",
    "Enough about stats and business, lets get back to some snails.\n",
    "\n",
    "* With the imported abalone dataset\n",
    "  * Use `Whole_Weight` and `Diameter` as the predictors and `Rings` as the target.\n",
    "  * Build a regression model using `statsmodels`\n",
    "  * Print the model summary\n",
    "* Use the output to identify if any of the predictors are significant.  Which ones are if any? `____________`"
   ]
  },
  {
   "cell_type": "code",
   "execution_count": null,
   "metadata": {},
   "outputs": [],
   "source": [
    "cols = [\n",
    "    \"Sex\",\n",
    "    \"Length\",\n",
    "    \"Diameter\",\n",
    "    \"Height\",\n",
    "    \"Whole_Weight\",\n",
    "    \"Shucked_Weight\",\n",
    "    \"Visecra_Weight\",\n",
    "    \"Shell_Weight\",\n",
    "    \"Rings\",\n",
    "]\n",
    "abalone = pd.read_csv(\n",
    "    \"https://docs.google.com/spreadsheets/d/1GwCnxFT4Sd6iZDj07kNNhEREr7OJQnGvtxd67b5AMio/export?format=csv\",\n",
    "    names=cols,\n",
    ")"
   ]
  },
  {
   "cell_type": "code",
   "execution_count": null,
   "metadata": {},
   "outputs": [],
   "source": [
    "# Use `Whole_Weight` and `Diameter` as the predictors\n",
    "X = abalone[[\"Whole_Weight\", \"Diameter\"]]\n",
    "\n",
    "# `Rings` as the target\n",
    "y = abalone[\"Rings\"]\n",
    "\n",
    "# Build a regression model using `statsmodels`\n",
    "\n",
    "X_const = sm.add_constant(X)\n",
    "model = sm.OLS(y, X_const).fit()\n",
    "\n",
    "# Print the model summary\n",
    "model.summary()"
   ]
  },
  {
   "cell_type": "markdown",
   "metadata": {},
   "source": [
    "Note that `sklearn` agrees"
   ]
  },
  {
   "cell_type": "code",
   "execution_count": 28,
   "metadata": {},
   "outputs": [
    {
     "ename": "NameError",
     "evalue": "name 'X_train' is not defined",
     "output_type": "error",
     "traceback": [
      "\u001b[1;31m---------------------------------------------------------------------------\u001b[0m",
      "\u001b[1;31mNameError\u001b[0m                                 Traceback (most recent call last)",
      "\u001b[1;32m<ipython-input-28-dabf5b5c9d4f>\u001b[0m in \u001b[0;36m<module>\u001b[1;34m\u001b[0m\n\u001b[0;32m      1\u001b[0m \u001b[0mmodel\u001b[0m \u001b[1;33m=\u001b[0m \u001b[0mLinearRegression\u001b[0m\u001b[1;33m(\u001b[0m\u001b[1;33m)\u001b[0m\u001b[1;33m\u001b[0m\u001b[1;33m\u001b[0m\u001b[0m\n\u001b[1;32m----> 2\u001b[1;33m \u001b[0mmodel\u001b[0m\u001b[1;33m.\u001b[0m\u001b[0mfit\u001b[0m\u001b[1;33m(\u001b[0m\u001b[0mX_train\u001b[0m\u001b[1;33m,\u001b[0m \u001b[0my_train\u001b[0m\u001b[1;33m)\u001b[0m\u001b[1;33m\u001b[0m\u001b[1;33m\u001b[0m\u001b[0m\n\u001b[0m\u001b[0;32m      3\u001b[0m \u001b[1;33m\u001b[0m\u001b[0m\n\u001b[0;32m      4\u001b[0m \u001b[0mweight_coef\u001b[0m\u001b[1;33m,\u001b[0m \u001b[0mdiameter_coef\u001b[0m \u001b[1;33m=\u001b[0m \u001b[0mmodel\u001b[0m\u001b[1;33m.\u001b[0m\u001b[0mcoef_\u001b[0m\u001b[1;33m\u001b[0m\u001b[1;33m\u001b[0m\u001b[0m\n\u001b[0;32m      5\u001b[0m \u001b[0mprint\u001b[0m\u001b[1;33m(\u001b[0m\u001b[0mweight_coef\u001b[0m\u001b[1;33m,\u001b[0m \u001b[0mdiameter_coef\u001b[0m\u001b[1;33m)\u001b[0m\u001b[1;33m\u001b[0m\u001b[1;33m\u001b[0m\u001b[0m\n",
      "\u001b[1;31mNameError\u001b[0m: name 'X_train' is not defined"
     ]
    },
    {
     "data": {
      "application/javascript": [
       "\n",
       "            setTimeout(function() {\n",
       "                var nbb_cell_id = 28;\n",
       "                var nbb_unformatted_code = \"model = LinearRegression()\\nmodel.fit(X_train, y_train)\\n\\nweight_coef, diameter_coef = model.coef_\\nprint(weight_coef, diameter_coef)\";\n",
       "                var nbb_formatted_code = \"model = LinearRegression()\\nmodel.fit(X_train, y_train)\\n\\nweight_coef, diameter_coef = model.coef_\\nprint(weight_coef, diameter_coef)\";\n",
       "                var nbb_cells = Jupyter.notebook.get_cells();\n",
       "                for (var i = 0; i < nbb_cells.length; ++i) {\n",
       "                    if (nbb_cells[i].input_prompt_number == nbb_cell_id) {\n",
       "                        if (nbb_cells[i].get_text() == nbb_unformatted_code) {\n",
       "                             nbb_cells[i].set_text(nbb_formatted_code);\n",
       "                        }\n",
       "                        break;\n",
       "                    }\n",
       "                }\n",
       "            }, 500);\n",
       "            "
      ],
      "text/plain": [
       "<IPython.core.display.Javascript object>"
      ]
     },
     "metadata": {},
     "output_type": "display_data"
    }
   ],
   "source": [
    "model = LinearRegression()\n",
    "model.fit(X_train, y_train)\n",
    "\n",
    "weight_coef, diameter_coef = model.coef_\n",
    "print(weight_coef, diameter_coef)"
   ]
  },
  {
   "cell_type": "markdown",
   "metadata": {},
   "source": [
    "We can recreate this output by 'bootstrapping' our data, fitting a model to each bootstrapped sample and seeing how the coefficients change."
   ]
  },
  {
   "cell_type": "code",
   "execution_count": null,
   "metadata": {},
   "outputs": [],
   "source": [
    "np.random.seed(42)\n",
    "\n",
    "data = abalone[[\"Whole_Weight\", \"Diameter\", \"Rings\"]]\n",
    "\n",
    "weight_coefs = []\n",
    "diameter_coefs = []\n",
    "for i in range(1000):\n",
    "    sample = abalone.sample(frac=1.0, replace=True)\n",
    "    X = sample[[\"Whole_Weight\", \"Diameter\"]]\n",
    "    y = sample[\"Rings\"]\n",
    "\n",
    "    model = LinearRegression()\n",
    "    model.fit(X, y)\n",
    "\n",
    "    weight_coef, diameter_coef = model.coef_\n",
    "\n",
    "    weight_coefs.append(weight_coef)\n",
    "    diameter_coefs.append(diameter_coef)"
   ]
  },
  {
   "cell_type": "code",
   "execution_count": null,
   "metadata": {},
   "outputs": [],
   "source": [
    "weight_ci_lo = np.percentile(weight_coefs, 2.5)\n",
    "weight_ci_hi = np.percentile(weight_coefs, 97.5)\n",
    "\n",
    "print(\"Weight Coefficient CI\")\n",
    "weight_ci_lo, weight_ci_hi"
   ]
  },
  {
   "cell_type": "code",
   "execution_count": null,
   "metadata": {},
   "outputs": [],
   "source": [
    "diameter_ci_lo = np.percentile(diameter_coefs, 2.5)\n",
    "diameter_ci_hi = np.percentile(diameter_coefs, 97.5)\n",
    "\n",
    "print(\"Diameter Coefficient CI\")\n",
    "diameter_ci_lo, diameter_ci_hi"
   ]
  },
  {
   "cell_type": "markdown",
   "metadata": {},
   "source": [
    "* Plot histograms for the coefficient sampling distributions\n",
    "* Add lines for the ci bounds"
   ]
  },
  {
   "cell_type": "code",
   "execution_count": null,
   "metadata": {},
   "outputs": [],
   "source": []
  },
  {
   "cell_type": "markdown",
   "metadata": {},
   "source": [
    "-----\n",
    "## Afternoon\n",
    "\n",
    "Let's start model Rings from scratch.  We won't restrict ourselves on the features we can use.  Everything is fair game. Readyyyy.. go"
   ]
  },
  {
   "cell_type": "code",
   "execution_count": null,
   "metadata": {},
   "outputs": [],
   "source": []
  },
  {
   "cell_type": "markdown",
   "metadata": {},
   "source": [
    "------\n",
    "\n",
    "Let's rebuild our model and use an *interaction term* (\\**gasp*\\*).  Let's go back to using only `'Whole_Weight'` and `'Diameter'`.  After creating the `X` and `y`:\n",
    "\n",
    "* Create a new feature that captures the interaction between our current 2 predictors\n",
    "  * Multiply the 2 features together and assign this to a new column\n",
    "* Rebuild the model using the 3 features\n",
    "* Re-print the summary\n",
    "* Interpret the t-tests for these coefficients"
   ]
  },
  {
   "cell_type": "code",
   "execution_count": null,
   "metadata": {},
   "outputs": [],
   "source": [
    "# Define X (['Whole_Weight', 'Diameter']) and y ('Rings')\n"
   ]
  },
  {
   "cell_type": "code",
   "execution_count": null,
   "metadata": {},
   "outputs": [],
   "source": [
    "# Create a new feature that captures the interaction between our current 2 predictors\n",
    "X[\"ww_d_interaction\"] = _____\n",
    "\n",
    "# Build a regression model using `statsmodels`\n",
    "____\n",
    "\n",
    "# Print the model summary\n",
    "____"
   ]
  },
  {
   "cell_type": "markdown",
   "metadata": {},
   "source": [
    "Wait, what did we just do?"
   ]
  },
  {
   "cell_type": "code",
   "execution_count": null,
   "metadata": {
    "scrolled": false
   },
   "outputs": [],
   "source": [
    "# No need to worry about this code for needs today.\n",
    "# Of course, give it a look if you're curious.\n",
    "\n",
    "# its easier to see if we bin we'll bin weight and then a model\n",
    "# for diameter when within each bin of weight\n",
    "def bin_array(x, n_bins=5):\n",
    "    percentiles = np.linspace(0, 100, n_bins + 1)[:-1]\n",
    "    bins = np.percentile(x, percentiles)\n",
    "    binned = np.digitize(x, bins)\n",
    "    return binned\n",
    "\n",
    "\n",
    "abalone[\"binned_weight\"] = bin_array(abalone[\"Whole_Weight\"])\n",
    "bins = abalone[\"binned_weight\"].unique()\n",
    "for b in bins:\n",
    "    subset = abalone[abalone[\"binned_weight\"] == b]\n",
    "\n",
    "    # if we have only 1 row we wont fit a model\n",
    "    if subset.shape[0] <= 1:\n",
    "        continue\n",
    "\n",
    "    X = subset[\"Diameter\"]\n",
    "    y = subset[\"Rings\"]\n",
    "\n",
    "    X_const = sm.add_constant(X)\n",
    "    y_pred = sm.OLS(y, X_const).fit().predict()\n",
    "\n",
    "    lab = f\"Weight: Bin {b}\"\n",
    "    plt.plot(X, y_pred, label=lab, lw=4)\n",
    "    ## (un)comment below to toggle plotting on same axes\n",
    "    plt.scatter(X, y, label=lab, alpha=0.1)\n",
    "    plt.show()\n",
    "\n",
    "\n",
    "plt.xlabel(\"Diameter\")\n",
    "plt.ylabel(\"Rings\")\n",
    "plt.title(\"Interaction between Diameter and Weight\")\n",
    "plt.legend()\n",
    "plt.show()"
   ]
  },
  {
   "cell_type": "markdown",
   "metadata": {},
   "source": [
    "So what do we see here? How Diameter affects Rings depends on how heavy our snail is! When our snail is lighter a higher diameter means more Rings.  When we go up in weight we start to see this trend taper off, at a certain weight diameter starts to matter less for predicting rings! In other words the effects of diameter and weight interact with each other."
   ]
  }
 ],
 "metadata": {
  "kernelspec": {
   "display_name": "Python 3",
   "language": "python",
   "name": "python3"
  },
  "language_info": {
   "codemirror_mode": {
    "name": "ipython",
    "version": 3
   },
   "file_extension": ".py",
   "mimetype": "text/x-python",
   "name": "python",
   "nbconvert_exporter": "python",
   "pygments_lexer": "ipython3",
   "version": "3.8.3"
  },
  "toc": {
   "base_numbering": 1,
   "nav_menu": {},
   "number_sections": false,
   "sideBar": true,
   "skip_h1_title": false,
   "title_cell": "Table of Contents",
   "title_sidebar": "Contents",
   "toc_cell": false,
   "toc_position": {},
   "toc_section_display": true,
   "toc_window_display": true
  }
 },
 "nbformat": 4,
 "nbformat_minor": 2
}
