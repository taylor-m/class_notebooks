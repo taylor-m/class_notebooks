{
 "cells": [
  {
   "cell_type": "code",
   "execution_count": 1,
   "metadata": {},
   "outputs": [
    {
     "data": {
      "application/javascript": [
       "\n",
       "            setTimeout(function() {\n",
       "                var nbb_cell_id = 1;\n",
       "                var nbb_unformatted_code = \"%reload_ext nb_black\";\n",
       "                var nbb_formatted_code = \"%reload_ext nb_black\";\n",
       "                var nbb_cells = Jupyter.notebook.get_cells();\n",
       "                for (var i = 0; i < nbb_cells.length; ++i) {\n",
       "                    if (nbb_cells[i].input_prompt_number == nbb_cell_id) {\n",
       "                        if (nbb_cells[i].get_text() == nbb_unformatted_code) {\n",
       "                             nbb_cells[i].set_text(nbb_formatted_code);\n",
       "                        }\n",
       "                        break;\n",
       "                    }\n",
       "                }\n",
       "            }, 500);\n",
       "            "
      ],
      "text/plain": [
       "<IPython.core.display.Javascript object>"
      ]
     },
     "metadata": {},
     "output_type": "display_data"
    }
   ],
   "source": [
    "%reload_ext nb_black"
   ]
  },
  {
   "cell_type": "markdown",
   "metadata": {
    "colab_type": "text",
    "id": "y9vyvVFH6eJX"
   },
   "source": [
    "## Day 27 Lecture 2 Assignment\n",
    "\n",
    "In this assignment, we will learn about interpreting linear models. We will use the google play store dataset loaded below and analyze the regression from this dataset."
   ]
  },
  {
   "cell_type": "code",
   "execution_count": 10,
   "metadata": {
    "colab": {},
    "colab_type": "code",
    "id": "es0KRXYh6eJX"
   },
   "outputs": [
    {
     "data": {
      "application/javascript": [
       "\n",
       "            setTimeout(function() {\n",
       "                var nbb_cell_id = 10;\n",
       "                var nbb_unformatted_code = \"import warnings\\n\\nimport numpy as np\\nimport pandas as pd\\n\\nimport statsmodels.api as sm\\nfrom statsmodels.stats.diagnostic import het_breuschpagan\\nfrom statsmodels.stats.outliers_influence import variance_inflation_factor\\n\\nfrom sklearn.model_selection import train_test_split\\nfrom sklearn.preprocessing import QuantileTransformer\\n\\nimport seaborn as sns\\nimport matplotlib.pyplot as plt\\n\\n%matplotlib inline\";\n",
       "                var nbb_formatted_code = \"import warnings\\n\\nimport numpy as np\\nimport pandas as pd\\n\\nimport statsmodels.api as sm\\nfrom statsmodels.stats.diagnostic import het_breuschpagan\\nfrom statsmodels.stats.outliers_influence import variance_inflation_factor\\n\\nfrom sklearn.model_selection import train_test_split\\nfrom sklearn.preprocessing import QuantileTransformer\\n\\nimport seaborn as sns\\nimport matplotlib.pyplot as plt\\n\\n%matplotlib inline\";\n",
       "                var nbb_cells = Jupyter.notebook.get_cells();\n",
       "                for (var i = 0; i < nbb_cells.length; ++i) {\n",
       "                    if (nbb_cells[i].input_prompt_number == nbb_cell_id) {\n",
       "                        if (nbb_cells[i].get_text() == nbb_unformatted_code) {\n",
       "                             nbb_cells[i].set_text(nbb_formatted_code);\n",
       "                        }\n",
       "                        break;\n",
       "                    }\n",
       "                }\n",
       "            }, 500);\n",
       "            "
      ],
      "text/plain": [
       "<IPython.core.display.Javascript object>"
      ]
     },
     "metadata": {},
     "output_type": "display_data"
    }
   ],
   "source": [
    "import warnings\n",
    "\n",
    "import numpy as np\n",
    "import pandas as pd\n",
    "\n",
    "import statsmodels.api as sm\n",
    "from statsmodels.stats.diagnostic import het_breuschpagan\n",
    "from statsmodels.stats.outliers_influence import variance_inflation_factor\n",
    "\n",
    "from sklearn.model_selection import train_test_split\n",
    "from sklearn.preprocessing import QuantileTransformer\n",
    "\n",
    "import seaborn as sns\n",
    "import matplotlib.pyplot as plt\n",
    "\n",
    "%matplotlib inline"
   ]
  },
  {
   "cell_type": "code",
   "execution_count": 11,
   "metadata": {},
   "outputs": [
    {
     "data": {
      "application/javascript": [
       "\n",
       "            setTimeout(function() {\n",
       "                var nbb_cell_id = 11;\n",
       "                var nbb_unformatted_code = \"def print_vif(x):\\n    \\\"\\\"\\\"Utility for checking multicollinearity assumption\\n    \\n    :param x: input features to check using VIF. This is assumed to be a pandas.DataFrame\\n    :return: nothing is returned the VIFs are printed as a pandas series\\n    \\\"\\\"\\\"\\n    # Silence numpy FutureWarning about .ptp\\n    with warnings.catch_warnings():\\n        warnings.simplefilter(\\\"ignore\\\")\\n        x = sm.add_constant(x)\\n\\n    vifs = []\\n    for i in range(x.shape[1]):\\n        vif = variance_inflation_factor(x.values, i)\\n        vifs.append(vif)\\n\\n    print(\\\"VIF results\\\\n-------------------------------\\\")\\n    print(pd.Series(vifs, index=x.columns))\\n    print(\\\"-------------------------------\\\\n\\\")\";\n",
       "                var nbb_formatted_code = \"def print_vif(x):\\n    \\\"\\\"\\\"Utility for checking multicollinearity assumption\\n    \\n    :param x: input features to check using VIF. This is assumed to be a pandas.DataFrame\\n    :return: nothing is returned the VIFs are printed as a pandas series\\n    \\\"\\\"\\\"\\n    # Silence numpy FutureWarning about .ptp\\n    with warnings.catch_warnings():\\n        warnings.simplefilter(\\\"ignore\\\")\\n        x = sm.add_constant(x)\\n\\n    vifs = []\\n    for i in range(x.shape[1]):\\n        vif = variance_inflation_factor(x.values, i)\\n        vifs.append(vif)\\n\\n    print(\\\"VIF results\\\\n-------------------------------\\\")\\n    print(pd.Series(vifs, index=x.columns))\\n    print(\\\"-------------------------------\\\\n\\\")\";\n",
       "                var nbb_cells = Jupyter.notebook.get_cells();\n",
       "                for (var i = 0; i < nbb_cells.length; ++i) {\n",
       "                    if (nbb_cells[i].input_prompt_number == nbb_cell_id) {\n",
       "                        if (nbb_cells[i].get_text() == nbb_unformatted_code) {\n",
       "                             nbb_cells[i].set_text(nbb_formatted_code);\n",
       "                        }\n",
       "                        break;\n",
       "                    }\n",
       "                }\n",
       "            }, 500);\n",
       "            "
      ],
      "text/plain": [
       "<IPython.core.display.Javascript object>"
      ]
     },
     "metadata": {},
     "output_type": "display_data"
    }
   ],
   "source": [
    "def print_vif(x):\n",
    "    \"\"\"Utility for checking multicollinearity assumption\n",
    "    \n",
    "    :param x: input features to check using VIF. This is assumed to be a pandas.DataFrame\n",
    "    :return: nothing is returned the VIFs are printed as a pandas series\n",
    "    \"\"\"\n",
    "    # Silence numpy FutureWarning about .ptp\n",
    "    with warnings.catch_warnings():\n",
    "        warnings.simplefilter(\"ignore\")\n",
    "        x = sm.add_constant(x)\n",
    "\n",
    "    vifs = []\n",
    "    for i in range(x.shape[1]):\n",
    "        vif = variance_inflation_factor(x.values, i)\n",
    "        vifs.append(vif)\n",
    "\n",
    "    print(\"VIF results\\n-------------------------------\")\n",
    "    print(pd.Series(vifs, index=x.columns))\n",
    "    print(\"-------------------------------\\n\")"
   ]
  },
  {
   "cell_type": "markdown",
   "metadata": {
    "colab_type": "text",
    "id": "srZ40Wiq6eJd"
   },
   "source": [
    "We will predict app ratings using other features describing the app. Recall from the previous assignment our data cleansing steps and do the following:\n",
    "\n",
    "1. Remove the following columns: app, category, size, installs, genres, last updated, current ver, android ver\n",
    "2. Convert all columns to numeric and remove rows where this conversion causes null values"
   ]
  },
  {
   "cell_type": "code",
   "execution_count": 12,
   "metadata": {
    "colab": {},
    "colab_type": "code",
    "id": "zwlngFVS6eJe"
   },
   "outputs": [
    {
     "name": "stdout",
     "output_type": "stream",
     "text": [
      "(9330, 5)\n"
     ]
    },
    {
     "data": {
      "text/html": [
       "<div>\n",
       "<style scoped>\n",
       "    .dataframe tbody tr th:only-of-type {\n",
       "        vertical-align: middle;\n",
       "    }\n",
       "\n",
       "    .dataframe tbody tr th {\n",
       "        vertical-align: top;\n",
       "    }\n",
       "\n",
       "    .dataframe thead th {\n",
       "        text-align: right;\n",
       "    }\n",
       "</style>\n",
       "<table border=\"1\" class=\"dataframe\">\n",
       "  <thead>\n",
       "    <tr style=\"text-align: right;\">\n",
       "      <th></th>\n",
       "      <th>Rating</th>\n",
       "      <th>Reviews</th>\n",
       "      <th>Price</th>\n",
       "      <th>Content Rating</th>\n",
       "      <th>is_free</th>\n",
       "    </tr>\n",
       "  </thead>\n",
       "  <tbody>\n",
       "    <tr>\n",
       "      <th>0</th>\n",
       "      <td>4.1</td>\n",
       "      <td>159</td>\n",
       "      <td>0.0</td>\n",
       "      <td>0</td>\n",
       "      <td>1</td>\n",
       "    </tr>\n",
       "    <tr>\n",
       "      <th>1</th>\n",
       "      <td>3.9</td>\n",
       "      <td>967</td>\n",
       "      <td>0.0</td>\n",
       "      <td>0</td>\n",
       "      <td>1</td>\n",
       "    </tr>\n",
       "  </tbody>\n",
       "</table>\n",
       "</div>"
      ],
      "text/plain": [
       "   Rating  Reviews  Price  Content Rating  is_free\n",
       "0     4.1      159    0.0               0        1\n",
       "1     3.9      967    0.0               0        1"
      ]
     },
     "execution_count": 12,
     "metadata": {},
     "output_type": "execute_result"
    },
    {
     "data": {
      "application/javascript": [
       "\n",
       "            setTimeout(function() {\n",
       "                var nbb_cell_id = 12;\n",
       "                var nbb_unformatted_code = \"reviews = pd.read_csv(\\n    \\\"https://tf-assets-prod.s3.amazonaws.com/tf-curric/data-science/googleplaystore.csv\\\"\\n)\\n\\ndrop_cols = [\\n    \\\"App\\\",\\n    \\\"Category\\\",\\n    \\\"Size\\\",\\n    \\\"Installs\\\",\\n    \\\"Genres\\\",\\n    \\\"Last Updated\\\",\\n    \\\"Current Ver\\\",\\n    \\\"Android Ver\\\",\\n]\\n\\nreviews = reviews.drop(columns=drop_cols)\\nreviews = reviews.dropna()\\n\\n# Remove dollar signs and convert price to numeric\\nreviews[\\\"Price\\\"] = reviews[\\\"Price\\\"].str.strip(\\\"$\\\")\\nreviews[\\\"Price\\\"] = pd.to_numeric(reviews[\\\"Price\\\"])\\n\\n# Dropping high price apps (out of scope of projects interest in typical app behavior)\\nreviews = reviews[reviews[\\\"Price\\\"] < 20]\\n\\n# Convert reviews to numeric\\nreviews[\\\"Reviews\\\"] = pd.to_numeric(reviews[\\\"Reviews\\\"])\\n\\n# Convet Type to bool\\nreviews[\\\"is_free\\\"] = reviews[\\\"Type\\\"] == \\\"Free\\\"\\nreviews[\\\"is_free\\\"] = reviews[\\\"is_free\\\"].astype(int)\\nreviews = reviews.drop(columns=\\\"Type\\\")\\n\\n# Convert content rating to numeric\\nreviews = reviews[~reviews[\\\"Content Rating\\\"].isin([\\\"Adults only 18+\\\", \\\"Unrated\\\"])]\\ncontent_rating_map = {\\\"Everyone\\\": 0, \\\"Everyone 10+\\\": 1, \\\"Teen\\\": 2, \\\"Mature 17+\\\": 3}\\nreviews[\\\"Content Rating\\\"] = reviews[\\\"Content Rating\\\"].replace(content_rating_map)\\n\\n\\nprint(reviews.shape)\\nreviews.head(2)\";\n",
       "                var nbb_formatted_code = \"reviews = pd.read_csv(\\n    \\\"https://tf-assets-prod.s3.amazonaws.com/tf-curric/data-science/googleplaystore.csv\\\"\\n)\\n\\ndrop_cols = [\\n    \\\"App\\\",\\n    \\\"Category\\\",\\n    \\\"Size\\\",\\n    \\\"Installs\\\",\\n    \\\"Genres\\\",\\n    \\\"Last Updated\\\",\\n    \\\"Current Ver\\\",\\n    \\\"Android Ver\\\",\\n]\\n\\nreviews = reviews.drop(columns=drop_cols)\\nreviews = reviews.dropna()\\n\\n# Remove dollar signs and convert price to numeric\\nreviews[\\\"Price\\\"] = reviews[\\\"Price\\\"].str.strip(\\\"$\\\")\\nreviews[\\\"Price\\\"] = pd.to_numeric(reviews[\\\"Price\\\"])\\n\\n# Dropping high price apps (out of scope of projects interest in typical app behavior)\\nreviews = reviews[reviews[\\\"Price\\\"] < 20]\\n\\n# Convert reviews to numeric\\nreviews[\\\"Reviews\\\"] = pd.to_numeric(reviews[\\\"Reviews\\\"])\\n\\n# Convet Type to bool\\nreviews[\\\"is_free\\\"] = reviews[\\\"Type\\\"] == \\\"Free\\\"\\nreviews[\\\"is_free\\\"] = reviews[\\\"is_free\\\"].astype(int)\\nreviews = reviews.drop(columns=\\\"Type\\\")\\n\\n# Convert content rating to numeric\\nreviews = reviews[~reviews[\\\"Content Rating\\\"].isin([\\\"Adults only 18+\\\", \\\"Unrated\\\"])]\\ncontent_rating_map = {\\\"Everyone\\\": 0, \\\"Everyone 10+\\\": 1, \\\"Teen\\\": 2, \\\"Mature 17+\\\": 3}\\nreviews[\\\"Content Rating\\\"] = reviews[\\\"Content Rating\\\"].replace(content_rating_map)\\n\\n\\nprint(reviews.shape)\\nreviews.head(2)\";\n",
       "                var nbb_cells = Jupyter.notebook.get_cells();\n",
       "                for (var i = 0; i < nbb_cells.length; ++i) {\n",
       "                    if (nbb_cells[i].input_prompt_number == nbb_cell_id) {\n",
       "                        if (nbb_cells[i].get_text() == nbb_unformatted_code) {\n",
       "                             nbb_cells[i].set_text(nbb_formatted_code);\n",
       "                        }\n",
       "                        break;\n",
       "                    }\n",
       "                }\n",
       "            }, 500);\n",
       "            "
      ],
      "text/plain": [
       "<IPython.core.display.Javascript object>"
      ]
     },
     "metadata": {},
     "output_type": "display_data"
    }
   ],
   "source": [
    "reviews = pd.read_csv(\n",
    "    \"https://tf-assets-prod.s3.amazonaws.com/tf-curric/data-science/googleplaystore.csv\"\n",
    ")\n",
    "\n",
    "drop_cols = [\n",
    "    \"App\",\n",
    "    \"Category\",\n",
    "    \"Size\",\n",
    "    \"Installs\",\n",
    "    \"Genres\",\n",
    "    \"Last Updated\",\n",
    "    \"Current Ver\",\n",
    "    \"Android Ver\",\n",
    "]\n",
    "\n",
    "reviews = reviews.drop(columns=drop_cols)\n",
    "reviews = reviews.dropna()\n",
    "\n",
    "# Remove dollar signs and convert price to numeric\n",
    "reviews[\"Price\"] = reviews[\"Price\"].str.strip(\"$\")\n",
    "reviews[\"Price\"] = pd.to_numeric(reviews[\"Price\"])\n",
    "\n",
    "# Dropping high price apps (out of scope of projects interest in typical app behavior)\n",
    "reviews = reviews[reviews[\"Price\"] < 20]\n",
    "\n",
    "# Convert reviews to numeric\n",
    "reviews[\"Reviews\"] = pd.to_numeric(reviews[\"Reviews\"])\n",
    "\n",
    "# Convet Type to bool\n",
    "reviews[\"is_free\"] = reviews[\"Type\"] == \"Free\"\n",
    "reviews[\"is_free\"] = reviews[\"is_free\"].astype(int)\n",
    "reviews = reviews.drop(columns=\"Type\")\n",
    "\n",
    "# Convert content rating to numeric\n",
    "reviews = reviews[~reviews[\"Content Rating\"].isin([\"Adults only 18+\", \"Unrated\"])]\n",
    "content_rating_map = {\"Everyone\": 0, \"Everyone 10+\": 1, \"Teen\": 2, \"Mature 17+\": 3}\n",
    "reviews[\"Content Rating\"] = reviews[\"Content Rating\"].replace(content_rating_map)\n",
    "\n",
    "\n",
    "print(reviews.shape)\n",
    "reviews.head(2)"
   ]
  },
  {
   "cell_type": "markdown",
   "metadata": {},
   "source": [
    "3. Split the data into test and train subsets with 20% of the data in the test set"
   ]
  },
  {
   "cell_type": "code",
   "execution_count": 13,
   "metadata": {},
   "outputs": [
    {
     "data": {
      "application/javascript": [
       "\n",
       "            setTimeout(function() {\n",
       "                var nbb_cell_id = 13;\n",
       "                var nbb_unformatted_code = \"X = reviews.drop(columns=\\\"Rating\\\")\\ny = reviews[\\\"Rating\\\"]\";\n",
       "                var nbb_formatted_code = \"X = reviews.drop(columns=\\\"Rating\\\")\\ny = reviews[\\\"Rating\\\"]\";\n",
       "                var nbb_cells = Jupyter.notebook.get_cells();\n",
       "                for (var i = 0; i < nbb_cells.length; ++i) {\n",
       "                    if (nbb_cells[i].input_prompt_number == nbb_cell_id) {\n",
       "                        if (nbb_cells[i].get_text() == nbb_unformatted_code) {\n",
       "                             nbb_cells[i].set_text(nbb_formatted_code);\n",
       "                        }\n",
       "                        break;\n",
       "                    }\n",
       "                }\n",
       "            }, 500);\n",
       "            "
      ],
      "text/plain": [
       "<IPython.core.display.Javascript object>"
      ]
     },
     "metadata": {},
     "output_type": "display_data"
    }
   ],
   "source": [
    "X = reviews.drop(columns=\"Rating\")\n",
    "y = reviews[\"Rating\"]"
   ]
  },
  {
   "cell_type": "code",
   "execution_count": 14,
   "metadata": {},
   "outputs": [
    {
     "data": {
      "application/javascript": [
       "\n",
       "            setTimeout(function() {\n",
       "                var nbb_cell_id = 14;\n",
       "                var nbb_unformatted_code = \"X_train, X_test, y_train, y_test = train_test_split(\\n    X, y, test_size=0.20, random_state=42\\n)\";\n",
       "                var nbb_formatted_code = \"X_train, X_test, y_train, y_test = train_test_split(\\n    X, y, test_size=0.20, random_state=42\\n)\";\n",
       "                var nbb_cells = Jupyter.notebook.get_cells();\n",
       "                for (var i = 0; i < nbb_cells.length; ++i) {\n",
       "                    if (nbb_cells[i].input_prompt_number == nbb_cell_id) {\n",
       "                        if (nbb_cells[i].get_text() == nbb_unformatted_code) {\n",
       "                             nbb_cells[i].set_text(nbb_formatted_code);\n",
       "                        }\n",
       "                        break;\n",
       "                    }\n",
       "                }\n",
       "            }, 500);\n",
       "            "
      ],
      "text/plain": [
       "<IPython.core.display.Javascript object>"
      ]
     },
     "metadata": {},
     "output_type": "display_data"
    }
   ],
   "source": [
    "X_train, X_test, y_train, y_test = train_test_split(\n",
    "    X, y, test_size=0.20, random_state=42\n",
    ")"
   ]
  },
  {
   "cell_type": "markdown",
   "metadata": {},
   "source": [
    "4. Normalize the data with QuantileTransformer. Many of the features are highly skewed."
   ]
  },
  {
   "cell_type": "code",
   "execution_count": 15,
   "metadata": {},
   "outputs": [
    {
     "data": {
      "application/javascript": [
       "\n",
       "            setTimeout(function() {\n",
       "                var nbb_cell_id = 15;\n",
       "                var nbb_unformatted_code = \"transformer = QuantileTransformer()\\ntransformer.fit(X_train)\\n\\nX_train_scl = transformer.transform(X_train)\\nX_test_scl = transformer.transform(X_test)\\n\\nX_train = pd.DataFrame(X_train_scl, index=X_train.index, columns=X_train.columns)\\nX_test = pd.DataFrame(X_test_scl, index=X_test.index, columns=X_test.columns)\";\n",
       "                var nbb_formatted_code = \"transformer = QuantileTransformer()\\ntransformer.fit(X_train)\\n\\nX_train_scl = transformer.transform(X_train)\\nX_test_scl = transformer.transform(X_test)\\n\\nX_train = pd.DataFrame(X_train_scl, index=X_train.index, columns=X_train.columns)\\nX_test = pd.DataFrame(X_test_scl, index=X_test.index, columns=X_test.columns)\";\n",
       "                var nbb_cells = Jupyter.notebook.get_cells();\n",
       "                for (var i = 0; i < nbb_cells.length; ++i) {\n",
       "                    if (nbb_cells[i].input_prompt_number == nbb_cell_id) {\n",
       "                        if (nbb_cells[i].get_text() == nbb_unformatted_code) {\n",
       "                             nbb_cells[i].set_text(nbb_formatted_code);\n",
       "                        }\n",
       "                        break;\n",
       "                    }\n",
       "                }\n",
       "            }, 500);\n",
       "            "
      ],
      "text/plain": [
       "<IPython.core.display.Javascript object>"
      ]
     },
     "metadata": {},
     "output_type": "display_data"
    }
   ],
   "source": [
    "transformer = QuantileTransformer()\n",
    "transformer.fit(X_train)\n",
    "\n",
    "X_train_scl = transformer.transform(X_train)\n",
    "X_test_scl = transformer.transform(X_test)\n",
    "\n",
    "X_train = pd.DataFrame(X_train_scl, index=X_train.index, columns=X_train.columns)\n",
    "X_test = pd.DataFrame(X_test_scl, index=X_test.index, columns=X_test.columns)"
   ]
  },
  {
   "cell_type": "code",
   "execution_count": 16,
   "metadata": {},
   "outputs": [
    {
     "data": {
      "image/png": "[encoded data removed]",
      "text/plain": [
       "<Figure size 432x288 with 4 Axes>"
      ]
     },
     "metadata": {
      "needs_background": "light"
     },
     "output_type": "display_data"
    },
    {
     "data": {
      "application/javascript": [
       "\n",
       "            setTimeout(function() {\n",
       "                var nbb_cell_id = 16;\n",
       "                var nbb_unformatted_code = \"X_train.hist()\\nplt.show()\";\n",
       "                var nbb_formatted_code = \"X_train.hist()\\nplt.show()\";\n",
       "                var nbb_cells = Jupyter.notebook.get_cells();\n",
       "                for (var i = 0; i < nbb_cells.length; ++i) {\n",
       "                    if (nbb_cells[i].input_prompt_number == nbb_cell_id) {\n",
       "                        if (nbb_cells[i].get_text() == nbb_unformatted_code) {\n",
       "                             nbb_cells[i].set_text(nbb_formatted_code);\n",
       "                        }\n",
       "                        break;\n",
       "                    }\n",
       "                }\n",
       "            }, 500);\n",
       "            "
      ],
      "text/plain": [
       "<IPython.core.display.Javascript object>"
      ]
     },
     "metadata": {},
     "output_type": "display_data"
    }
   ],
   "source": [
    "X_train.hist()\n",
    "plt.show()"
   ]
  },
  {
   "cell_type": "markdown",
   "metadata": {},
   "source": [
    "Checking for multicollinearity"
   ]
  },
  {
   "cell_type": "code",
   "execution_count": 17,
   "metadata": {
    "scrolled": true
   },
   "outputs": [
    {
     "name": "stdout",
     "output_type": "stream",
     "text": [
      "VIF results\n",
      "-------------------------------\n",
      "const             38821.868433\n",
      "Reviews               1.067352\n",
      "Price              2395.450222\n",
      "Content Rating        1.033974\n",
      "is_free            2395.900628\n",
      "dtype: float64\n",
      "-------------------------------\n",
      "\n"
     ]
    },
    {
     "data": {
      "application/javascript": [
       "\n",
       "            setTimeout(function() {\n",
       "                var nbb_cell_id = 17;\n",
       "                var nbb_unformatted_code = \"print_vif(X_train)\";\n",
       "                var nbb_formatted_code = \"print_vif(X_train)\";\n",
       "                var nbb_cells = Jupyter.notebook.get_cells();\n",
       "                for (var i = 0; i < nbb_cells.length; ++i) {\n",
       "                    if (nbb_cells[i].input_prompt_number == nbb_cell_id) {\n",
       "                        if (nbb_cells[i].get_text() == nbb_unformatted_code) {\n",
       "                             nbb_cells[i].set_text(nbb_formatted_code);\n",
       "                        }\n",
       "                        break;\n",
       "                    }\n",
       "                }\n",
       "            }, 500);\n",
       "            "
      ],
      "text/plain": [
       "<IPython.core.display.Javascript object>"
      ]
     },
     "metadata": {},
     "output_type": "display_data"
    }
   ],
   "source": [
    "print_vif(X_train)"
   ]
  },
  {
   "cell_type": "code",
   "execution_count": 20,
   "metadata": {},
   "outputs": [
    {
     "data": {
      "application/javascript": [
       "\n",
       "            setTimeout(function() {\n",
       "                var nbb_cell_id = 20;\n",
       "                var nbb_unformatted_code = \"X_train = X_train.drop(columns='is_free')\\nX_test = X_test.drop(columns='is_free')\";\n",
       "                var nbb_formatted_code = \"X_train = X_train.drop(columns=\\\"is_free\\\")\\nX_test = X_test.drop(columns=\\\"is_free\\\")\";\n",
       "                var nbb_cells = Jupyter.notebook.get_cells();\n",
       "                for (var i = 0; i < nbb_cells.length; ++i) {\n",
       "                    if (nbb_cells[i].input_prompt_number == nbb_cell_id) {\n",
       "                        if (nbb_cells[i].get_text() == nbb_unformatted_code) {\n",
       "                             nbb_cells[i].set_text(nbb_formatted_code);\n",
       "                        }\n",
       "                        break;\n",
       "                    }\n",
       "                }\n",
       "            }, 500);\n",
       "            "
      ],
      "text/plain": [
       "<IPython.core.display.Javascript object>"
      ]
     },
     "metadata": {},
     "output_type": "display_data"
    }
   ],
   "source": [
    "X_train = X_train.drop(columns=\"is_free\")\n",
    "X_test = X_test.drop(columns=\"is_free\")"
   ]
  },
  {
   "cell_type": "code",
   "execution_count": 21,
   "metadata": {},
   "outputs": [
    {
     "name": "stdout",
     "output_type": "stream",
     "text": [
      "VIF results\n",
      "-------------------------------\n",
      "const             4.389587\n",
      "Reviews           1.066798\n",
      "Price             1.034247\n",
      "Content Rating    1.033752\n",
      "dtype: float64\n",
      "-------------------------------\n",
      "\n"
     ]
    },
    {
     "data": {
      "application/javascript": [
       "\n",
       "            setTimeout(function() {\n",
       "                var nbb_cell_id = 21;\n",
       "                var nbb_unformatted_code = \"print_vif(X_train)\";\n",
       "                var nbb_formatted_code = \"print_vif(X_train)\";\n",
       "                var nbb_cells = Jupyter.notebook.get_cells();\n",
       "                for (var i = 0; i < nbb_cells.length; ++i) {\n",
       "                    if (nbb_cells[i].input_prompt_number == nbb_cell_id) {\n",
       "                        if (nbb_cells[i].get_text() == nbb_unformatted_code) {\n",
       "                             nbb_cells[i].set_text(nbb_formatted_code);\n",
       "                        }\n",
       "                        break;\n",
       "                    }\n",
       "                }\n",
       "            }, 500);\n",
       "            "
      ],
      "text/plain": [
       "<IPython.core.display.Javascript object>"
      ]
     },
     "metadata": {},
     "output_type": "display_data"
    }
   ],
   "source": [
    "print_vif(X_train)"
   ]
  },
  {
   "cell_type": "markdown",
   "metadata": {
    "colab_type": "text",
    "id": "dUPnRE0T6eJf"
   },
   "source": [
    "Create a linear regression model using statsmodels. Look at the coefficient values and their associated p values. Additionally, check model assumptions of homoscedacity, normality of errors, and multicollinearity."
   ]
  },
  {
   "cell_type": "code",
   "execution_count": 23,
   "metadata": {
    "colab": {},
    "colab_type": "code",
    "id": "80m0MSYv6eJg"
   },
   "outputs": [
    {
     "data": {
      "text/html": [
       "<table class=\"simpletable\">\n",
       "<caption>OLS Regression Results</caption>\n",
       "<tr>\n",
       "  <th>Dep. Variable:</th>         <td>Rating</td>      <th>  R-squared:         </th> <td>   0.055</td> \n",
       "</tr>\n",
       "<tr>\n",
       "  <th>Model:</th>                   <td>OLS</td>       <th>  Adj. R-squared:    </th> <td>   0.055</td> \n",
       "</tr>\n",
       "<tr>\n",
       "  <th>Method:</th>             <td>Least Squares</td>  <th>  F-statistic:       </th> <td>   145.5</td> \n",
       "</tr>\n",
       "<tr>\n",
       "  <th>Date:</th>             <td>Tue, 01 Sep 2020</td> <th>  Prob (F-statistic):</th> <td>1.24e-91</td> \n",
       "</tr>\n",
       "<tr>\n",
       "  <th>Time:</th>                 <td>09:26:51</td>     <th>  Log-Likelihood:    </th> <td> -5434.9</td> \n",
       "</tr>\n",
       "<tr>\n",
       "  <th>No. Observations:</th>      <td>  7464</td>      <th>  AIC:               </th> <td>1.088e+04</td>\n",
       "</tr>\n",
       "<tr>\n",
       "  <th>Df Residuals:</th>          <td>  7460</td>      <th>  BIC:               </th> <td>1.091e+04</td>\n",
       "</tr>\n",
       "<tr>\n",
       "  <th>Df Model:</th>              <td>     3</td>      <th>                     </th>     <td> </td>    \n",
       "</tr>\n",
       "<tr>\n",
       "  <th>Covariance Type:</th>      <td>nonrobust</td>    <th>                     </th>     <td> </td>    \n",
       "</tr>\n",
       "</table>\n",
       "<table class=\"simpletable\">\n",
       "<tr>\n",
       "         <td></td>           <th>coef</th>     <th>std err</th>      <th>t</th>      <th>P>|t|</th>  <th>[0.025</th>    <th>0.975]</th>  \n",
       "</tr>\n",
       "<tr>\n",
       "  <th>const</th>          <td>    3.9752</td> <td>    0.012</td> <td>  326.980</td> <td> 0.000</td> <td>    3.951</td> <td>    3.999</td>\n",
       "</tr>\n",
       "<tr>\n",
       "  <th>Reviews</th>        <td>    0.4235</td> <td>    0.021</td> <td>   20.404</td> <td> 0.000</td> <td>    0.383</td> <td>    0.464</td>\n",
       "</tr>\n",
       "<tr>\n",
       "  <th>Price</th>          <td>    0.1941</td> <td>    0.025</td> <td>    7.902</td> <td> 0.000</td> <td>    0.146</td> <td>    0.242</td>\n",
       "</tr>\n",
       "<tr>\n",
       "  <th>Content Rating</th> <td>   -0.0378</td> <td>    0.016</td> <td>   -2.350</td> <td> 0.019</td> <td>   -0.069</td> <td>   -0.006</td>\n",
       "</tr>\n",
       "</table>\n",
       "<table class=\"simpletable\">\n",
       "<tr>\n",
       "  <th>Omnibus:</th>       <td>2279.892</td> <th>  Durbin-Watson:     </th> <td>   1.989</td> \n",
       "</tr>\n",
       "<tr>\n",
       "  <th>Prob(Omnibus):</th>  <td> 0.000</td>  <th>  Jarque-Bera (JB):  </th> <td>10362.053</td>\n",
       "</tr>\n",
       "<tr>\n",
       "  <th>Skew:</th>           <td>-1.421</td>  <th>  Prob(JB):          </th> <td>    0.00</td> \n",
       "</tr>\n",
       "<tr>\n",
       "  <th>Kurtosis:</th>       <td> 8.024</td>  <th>  Cond. No.          </th> <td>    5.22</td> \n",
       "</tr>\n",
       "</table><br/><br/>Warnings:<br/>[1] Standard Errors assume that the covariance matrix of the errors is correctly specified."
      ],
      "text/plain": [
       "<class 'statsmodels.iolib.summary.Summary'>\n",
       "\"\"\"\n",
       "                            OLS Regression Results                            \n",
       "==============================================================================\n",
       "Dep. Variable:                 Rating   R-squared:                       0.055\n",
       "Model:                            OLS   Adj. R-squared:                  0.055\n",
       "Method:                 Least Squares   F-statistic:                     145.5\n",
       "Date:                Tue, 01 Sep 2020   Prob (F-statistic):           1.24e-91\n",
       "Time:                        09:26:51   Log-Likelihood:                -5434.9\n",
       "No. Observations:                7464   AIC:                         1.088e+04\n",
       "Df Residuals:                    7460   BIC:                         1.091e+04\n",
       "Df Model:                           3                                         \n",
       "Covariance Type:            nonrobust                                         \n",
       "==================================================================================\n",
       "                     coef    std err          t      P>|t|      [0.025      0.975]\n",
       "----------------------------------------------------------------------------------\n",
       "const              3.9752      0.012    326.980      0.000       3.951       3.999\n",
       "Reviews            0.4235      0.021     20.404      0.000       0.383       0.464\n",
       "Price              0.1941      0.025      7.902      0.000       0.146       0.242\n",
       "Content Rating    -0.0378      0.016     -2.350      0.019      -0.069      -0.006\n",
       "==============================================================================\n",
       "Omnibus:                     2279.892   Durbin-Watson:                   1.989\n",
       "Prob(Omnibus):                  0.000   Jarque-Bera (JB):            10362.053\n",
       "Skew:                          -1.421   Prob(JB):                         0.00\n",
       "Kurtosis:                       8.024   Cond. No.                         5.22\n",
       "==============================================================================\n",
       "\n",
       "Warnings:\n",
       "[1] Standard Errors assume that the covariance matrix of the errors is correctly specified.\n",
       "\"\"\""
      ]
     },
     "execution_count": 23,
     "metadata": {},
     "output_type": "execute_result"
    },
    {
     "data": {
      "application/javascript": [
       "\n",
       "            setTimeout(function() {\n",
       "                var nbb_cell_id = 23;\n",
       "                var nbb_unformatted_code = \"X_train_const = sm.add_constant(X_train)\\nX_test_const = sm.add_constant(X_test)\\n\\nmodel = sm.OLS(y_train, X_train_const).fit()\\nmodel.summary()\";\n",
       "                var nbb_formatted_code = \"X_train_const = sm.add_constant(X_train)\\nX_test_const = sm.add_constant(X_test)\\n\\nmodel = sm.OLS(y_train, X_train_const).fit()\\nmodel.summary()\";\n",
       "                var nbb_cells = Jupyter.notebook.get_cells();\n",
       "                for (var i = 0; i < nbb_cells.length; ++i) {\n",
       "                    if (nbb_cells[i].input_prompt_number == nbb_cell_id) {\n",
       "                        if (nbb_cells[i].get_text() == nbb_unformatted_code) {\n",
       "                             nbb_cells[i].set_text(nbb_formatted_code);\n",
       "                        }\n",
       "                        break;\n",
       "                    }\n",
       "                }\n",
       "            }, 500);\n",
       "            "
      ],
      "text/plain": [
       "<IPython.core.display.Javascript object>"
      ]
     },
     "metadata": {},
     "output_type": "display_data"
    }
   ],
   "source": [
    "X_train_const = sm.add_constant(X_train)\n",
    "X_test_const = sm.add_constant(X_test)\n",
    "\n",
    "model = sm.OLS(y_train, X_train_const).fit()\n",
    "model.summary()"
   ]
  },
  {
   "cell_type": "markdown",
   "metadata": {},
   "source": [
    "Checking homoscedasticity"
   ]
  },
  {
   "cell_type": "code",
   "execution_count": 27,
   "metadata": {},
   "outputs": [
    {
     "data": {
      "text/plain": [
       "4.627260250547687e-169"
      ]
     },
     "execution_count": 27,
     "metadata": {},
     "output_type": "execute_result"
    },
    {
     "data": {
      "application/javascript": [
       "\n",
       "            setTimeout(function() {\n",
       "                var nbb_cell_id = 27;\n",
       "                var nbb_unformatted_code = \"# null hypothesis: homoscedastic residuals\\n# null hypothesis: heteroscedastic residuals\\n_, p, _, _ = het_breuschpagan(model.resid, X_train_const)\\np\";\n",
       "                var nbb_formatted_code = \"# null hypothesis: homoscedastic residuals\\n# null hypothesis: heteroscedastic residuals\\n_, p, _, _ = het_breuschpagan(model.resid, X_train_const)\\np\";\n",
       "                var nbb_cells = Jupyter.notebook.get_cells();\n",
       "                for (var i = 0; i < nbb_cells.length; ++i) {\n",
       "                    if (nbb_cells[i].input_prompt_number == nbb_cell_id) {\n",
       "                        if (nbb_cells[i].get_text() == nbb_unformatted_code) {\n",
       "                             nbb_cells[i].set_text(nbb_formatted_code);\n",
       "                        }\n",
       "                        break;\n",
       "                    }\n",
       "                }\n",
       "            }, 500);\n",
       "            "
      ],
      "text/plain": [
       "<IPython.core.display.Javascript object>"
      ]
     },
     "metadata": {},
     "output_type": "display_data"
    }
   ],
   "source": [
    "# null hypothesis: homoscedastic residuals\n",
    "# null hypothesis: heteroscedastic residuals\n",
    "_, p, _, _ = het_breuschpagan(model.resid, X_train_const)\n",
    "p\n",
    "\n",
    "# We fail homoscedastic assumption"
   ]
  },
  {
   "cell_type": "markdown",
   "metadata": {},
   "source": [
    "Checking normality"
   ]
  },
  {
   "cell_type": "code",
   "execution_count": 28,
   "metadata": {},
   "outputs": [
    {
     "data": {
      "image/png": "[encoded data removed]",
      "text/plain": [
       "<Figure size 432x288 with 1 Axes>"
      ]
     },
     "metadata": {
      "needs_background": "light"
     },
     "output_type": "display_data"
    },
    {
     "data": {
      "application/javascript": [
       "\n",
       "            setTimeout(function() {\n",
       "                var nbb_cell_id = 28;\n",
       "                var nbb_unformatted_code = \"sm.qqplot(model.resid, line='s')\\nplt.show()\";\n",
       "                var nbb_formatted_code = \"sm.qqplot(model.resid, line=\\\"s\\\")\\nplt.show()\";\n",
       "                var nbb_cells = Jupyter.notebook.get_cells();\n",
       "                for (var i = 0; i < nbb_cells.length; ++i) {\n",
       "                    if (nbb_cells[i].input_prompt_number == nbb_cell_id) {\n",
       "                        if (nbb_cells[i].get_text() == nbb_unformatted_code) {\n",
       "                             nbb_cells[i].set_text(nbb_formatted_code);\n",
       "                        }\n",
       "                        break;\n",
       "                    }\n",
       "                }\n",
       "            }, 500);\n",
       "            "
      ],
      "text/plain": [
       "<IPython.core.display.Javascript object>"
      ]
     },
     "metadata": {},
     "output_type": "display_data"
    }
   ],
   "source": [
    "sm.qqplot(model.resid, line=\"s\")\n",
    "plt.show()\n",
    "\n",
    "# We fail normality assumption"
   ]
  },
  {
   "cell_type": "markdown",
   "metadata": {
    "colab_type": "text",
    "id": "jW_d2dka6eJh"
   },
   "source": [
    "Using the information above, try to select only the variables you think will lead to a better model and construct that model. Print out a summary"
   ]
  },
  {
   "cell_type": "code",
   "execution_count": null,
   "metadata": {
    "colab": {},
    "colab_type": "code",
    "id": "zoaY3-Tu6eJi"
   },
   "outputs": [],
   "source": [
    "# Before the model was built, the is_free column (original `Type`) was dropped to\n",
    "# alleviate multicollinearity."
   ]
  },
  {
   "cell_type": "markdown",
   "metadata": {
    "colab_type": "text",
    "id": "Iwnmvf1K6eJj"
   },
   "source": [
    "Plot the scatterplots between the independent variables you select and ratings. Do you think given these graphs, these variables have good predictive power? "
   ]
  },
  {
   "cell_type": "code",
   "execution_count": 29,
   "metadata": {
    "colab": {},
    "colab_type": "code",
    "id": "KatwaTmW6eJk"
   },
   "outputs": [
    {
     "data": {
      "image/png": "[encoded data removed]",
      "text/plain": [
       "<Figure size 720x720 with 20 Axes>"
      ]
     },
     "metadata": {
      "needs_background": "light"
     },
     "output_type": "display_data"
    },
    {
     "data": {
      "application/javascript": [
       "\n",
       "            setTimeout(function() {\n",
       "                var nbb_cell_id = 29;\n",
       "                var nbb_unformatted_code = \"plot_df = X_train.copy()\\nplot_df['rating'] = y_train\\n\\nsns.pairplot(plot_df)\\nplt.show()\";\n",
       "                var nbb_formatted_code = \"plot_df = X_train.copy()\\nplot_df[\\\"rating\\\"] = y_train\\n\\nsns.pairplot(plot_df)\\nplt.show()\";\n",
       "                var nbb_cells = Jupyter.notebook.get_cells();\n",
       "                for (var i = 0; i < nbb_cells.length; ++i) {\n",
       "                    if (nbb_cells[i].input_prompt_number == nbb_cell_id) {\n",
       "                        if (nbb_cells[i].get_text() == nbb_unformatted_code) {\n",
       "                             nbb_cells[i].set_text(nbb_formatted_code);\n",
       "                        }\n",
       "                        break;\n",
       "                    }\n",
       "                }\n",
       "            }, 500);\n",
       "            "
      ],
      "text/plain": [
       "<IPython.core.display.Javascript object>"
      ]
     },
     "metadata": {},
     "output_type": "display_data"
    }
   ],
   "source": [
    "# No bright shining predictors, we see some relationship\n",
    "# with the number of reviews, but this doesnt seem to be the\n",
    "# most predictive relationship (i.e. we can see that the minimum\n",
    "# rating increases as the number of reviews increase, but there\n",
    "# is much variability - the max rating stays the same)\n",
    "plot_df = X_train.copy()\n",
    "plot_df[\"rating\"] = y_train\n",
    "\n",
    "sns.pairplot(plot_df)\n",
    "plt.show()"
   ]
  },
  {
   "cell_type": "markdown",
   "metadata": {
    "colab_type": "text",
    "id": "MZKZNueZA63P"
   },
   "source": [
    "What data processing could you do to improve this model? Experiment."
   ]
  },
  {
   "cell_type": "code",
   "execution_count": null,
   "metadata": {
    "colab": {},
    "colab_type": "code",
    "id": "9mlks8-16eJl"
   },
   "outputs": [],
   "source": [
    "# Nah"
   ]
  }
 ],
 "metadata": {
  "colab": {
   "collapsed_sections": [],
   "name": "Day 27 Lecture 2 Assignment.ipynb",
   "provenance": []
  },
  "kernelspec": {
   "display_name": "Python 3",
   "language": "python",
   "name": "python3"
  },
  "language_info": {
   "codemirror_mode": {
    "name": "ipython",
    "version": 3
   },
   "file_extension": ".py",
   "mimetype": "text/x-python",
   "name": "python",
   "nbconvert_exporter": "python",
   "pygments_lexer": "ipython3",
   "version": "3.7.7"
  }
 },
 "nbformat": 4,
 "nbformat_minor": 1
}
